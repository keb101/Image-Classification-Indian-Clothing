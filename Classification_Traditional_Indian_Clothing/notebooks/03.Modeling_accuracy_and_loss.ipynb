{
 "cells": [
  {
   "cell_type": "code",
   "execution_count": null,
   "metadata": {
    "id": "P3l5o8OIkfYs"
   },
   "outputs": [],
   "source": [
    "import pandas as pd\n",
    "import numpy as np\n",
    "import keras\n",
    "from keras import layers\n",
    "from keras.models import Sequential, model_from_json\n",
    "from keras.layers import Dense, Conv2D, MaxPooling2D, Flatten, Dropout, BatchNormalization\n",
    "from tensorflow.keras.utils import image_dataset_from_directory\n",
    "import tensorflow as tf\n",
    "from google.colab import drive, files\n",
    "from sklearn.metrics import confusion_matrix\n",
    "import matplotlib.pyplot as plt\n",
    "from tensorflow.keras.models import Model\n"
   ]
  },
  {
   "cell_type": "code",
   "execution_count": null,
   "metadata": {
    "colab": {
     "base_uri": "https://localhost:8080/"
    },
    "id": "LvnBuLZBuETK",
    "outputId": "de6eebf0-13a5-4030-d66c-07170b73faa4"
   },
   "outputs": [
    {
     "name": "stdout",
     "output_type": "stream",
     "text": [
      "2.12.0\n"
     ]
    }
   ],
   "source": [
    "print(tf.__version__)"
   ]
  },
  {
   "cell_type": "code",
   "execution_count": null,
   "metadata": {
    "colab": {
     "base_uri": "https://localhost:8080/"
    },
    "id": "Z61BLMiMrq1S",
    "outputId": "fda43881-9ca7-4493-874b-3899a30f6b09"
   },
   "outputs": [
    {
     "name": "stdout",
     "output_type": "stream",
     "text": [
      "Mounted at /content/drive\n"
     ]
    }
   ],
   "source": [
    "drive.mount('/content/drive')"
   ]
  },
  {
   "cell_type": "code",
   "execution_count": null,
   "metadata": {
    "id": "jIDvRuSBrqy-"
   },
   "outputs": [],
   "source": [
    "!unzip -q '/content/drive/MyDrive/test_w_labels.zip'"
   ]
  },
  {
   "cell_type": "code",
   "execution_count": null,
   "metadata": {
    "id": "XChW2qGPrqwr"
   },
   "outputs": [],
   "source": [
    "!unzip -q '/content/drive/MyDrive/train_w_labels.zip'"
   ]
  },
  {
   "cell_type": "code",
   "execution_count": null,
   "metadata": {
    "id": "hGiIyEwW9tBm"
   },
   "outputs": [],
   "source": [
    "!unzip -q '/content/drive/MyDrive/val_w_labels.zip'"
   ]
  },
  {
   "cell_type": "code",
   "execution_count": null,
   "metadata": {
    "colab": {
     "base_uri": "https://localhost:8080/"
    },
    "id": "JG0nKaPy2IkC",
    "outputId": "4c86e56b-f57a-4ac7-864e-5e586e4a051e"
   },
   "outputs": [
    {
     "name": "stdout",
     "output_type": "stream",
     "text": [
      "Found 91166 files belonging to 15 classes.\n"
     ]
    }
   ],
   "source": [
    "column_labels = ['blouse', 'dhoti_pants', 'dupattas', 'gowns', 'kurta_men', 'leggings_and_salwars', 'lehenga', 'mojaris_men', 'mojaris_women', 'nehru_jackets', 'palazzos', 'petticoats', 'sherwanis', 'saree', 'women_kurta']\n",
    "train_dataset = image_dataset_from_directory(\n",
    "    '/content/train_w_labels',\n",
    "    labels='inferred',\n",
    "    color_mode='grayscale',\n",
    "    batch_size=256,\n",
    "    image_size=(70,70),\n",
    "    shuffle=True,\n",
    "    seed=None,\n",
    "    validation_split=None,\n",
    "    subset=None,\n",
    "    interpolation='bilinear',\n",
    "    crop_to_aspect_ratio=False,\n",
    "    class_names=column_labels)"
   ]
  },
  {
   "cell_type": "code",
   "execution_count": null,
   "metadata": {
    "colab": {
     "base_uri": "https://localhost:8080/"
    },
    "id": "OUgoYX4W2IkJ",
    "outputId": "a20ab251-56e8-4f7e-80a3-49ba0a0cdfbb"
   },
   "outputs": [
    {
     "name": "stdout",
     "output_type": "stream",
     "text": [
      "Found 7500 files belonging to 15 classes.\n"
     ]
    }
   ],
   "source": [
    "                                      val_dataset = image_dataset_from_directory(\n",
    "    '/content/val_w_labels',\n",
    "    labels='inferred',\n",
    "    color_mode='grayscale',\n",
    "    batch_size=64,\n",
    "    image_size=(70,70),\n",
    "    shuffle=True,\n",
    "    seed=None,\n",
    "    validation_split=None,\n",
    "    subset=None,\n",
    "    interpolation='bilinear',\n",
    "    crop_to_aspect_ratio=False,\n",
    "    class_names=column_labels)"
   ]
  },
  {
   "cell_type": "code",
   "execution_count": null,
   "metadata": {
    "colab": {
     "base_uri": "https://localhost:8080/"
    },
    "id": "iPMEfueY2IkK",
    "outputId": "80ed9033-a23f-4af5-f3e5-5e073e789586"
   },
   "outputs": [
    {
     "name": "stdout",
     "output_type": "stream",
     "text": [
      "Found 7500 files belonging to 15 classes.\n"
     ]
    }
   ],
   "source": [
    "test_dataset = image_dataset_from_directory(\n",
    "    '/content/test_w_labels',\n",
    "    labels='inferred',\n",
    "    color_mode='grayscale',\n",
    "    batch_size=256,\n",
    "    image_size=(70,70),\n",
    "    shuffle=True,\n",
    "    seed=None,\n",
    "    validation_split=None,\n",
    "    subset=None,\n",
    "    interpolation='bilinear',\n",
    "    crop_to_aspect_ratio=False,\n",
    "    class_names=column_labels)"
   ]
  },
  {
   "cell_type": "code",
   "execution_count": null,
   "metadata": {
    "id": "5Qw5dhui2IkL"
   },
   "outputs": [],
   "source": [
    "normalization_layer = layers.Rescaling(1./255)\n",
    "train_ds_norm = train_dataset.map(lambda x, y: (normalization_layer(x), y))\n",
    "test_ds_norm = test_dataset.map(lambda x, y: (normalization_layer(x), y))\n",
    "val_ds_norm = test_dataset.map(lambda x, y: (normalization_layer(x), y))"
   ]
  },
  {
   "cell_type": "code",
   "execution_count": null,
   "metadata": {
    "id": "HkygXd9R4N_l"
   },
   "outputs": [],
   "source": [
    "# Setting up model\n",
    "img_width, img_height = 70, 70\n",
    "\n",
    "\n",
    "nb_train_samples = 91166\n",
    "nb_validation_samples = 7500\n",
    "epochs = 500\n",
    "batch_size = 256\n",
    "n_classes = 15\n",
    "input_shape= (img_width, img_height, 1)"
   ]
  },
  {
   "cell_type": "code",
   "execution_count": null,
   "metadata": {
    "id": "MDMIv3dE6EK1"
   },
   "outputs": [],
   "source": [
    "# Setting up model\n",
    "img_width, img_height = 70, 70\n",
    "\n",
    "\n",
    "nb_train_samples = 91166\n",
    "nb_validation_samples = 7500\n",
    "epochs = 100\n",
    "batch_size = 256\n",
    "n_classes = 15\n",
    "input_shape= (img_width, img_height, 1)"
   ]
  },
  {
   "cell_type": "code",
   "execution_count": null,
   "metadata": {
    "id": "lR4YMG1m4QcO"
   },
   "outputs": [],
   "source": [
    "model = Sequential()\n",
    "\n",
    "model.add(Conv2D(32, (3,3), activation='relu', input_shape=input_shape))\n",
    "model.add(layers.BatchNormalization())\n",
    "model.add(MaxPooling2D(pool_size=(2, 2)))\n",
    "\n",
    "model.add(Dropout(0.2))\n",
    "\n",
    "model.add(Conv2D(64, (3,3), activation='relu'))\n",
    "model.add(layers.BatchNormalization())\n",
    "model.add(MaxPooling2D(pool_size=(2, 2)))\n",
    "\n",
    "model.add(Dropout(0.3))\n",
    "\n",
    "model.add(Conv2D(128, (3,3), activation='relu'))\n",
    "model.add(layers.BatchNormalization())\n",
    "model.add(MaxPooling2D(pool_size=(2, 2)))\n",
    "\n",
    "model.add(Flatten())\n",
    "\n",
    "model.add(Dense(140, activation='relu'))\n",
    "model.add(Dropout(0.4))\n",
    "\n",
    "model.add(Dense(n_classes, activation='softmax'))\n",
    "\n",
    "model.compile(loss='SparseCategoricalCrossentropy', optimizer='adam', metrics=['accuracy'])\n"
   ]
  },
  {
   "cell_type": "code",
   "execution_count": null,
   "metadata": {
    "id": "BfYTBZw26EeZ"
   },
   "outputs": [],
   "source": [
    "callbacks = [\n",
    "    keras.callbacks.ModelCheckpoint(\n",
    "        filepath='/content/drive/MyDrive/keras/09_20a1.keras',\n",
    "        save_best_only=True,\n",
    "        monitor='val_accuracy'\n",
    "    )]"
   ]
  },
  {
   "cell_type": "code",
   "execution_count": null,
   "metadata": {
    "colab": {
     "base_uri": "https://localhost:8080/"
    },
    "id": "gnJ5IaTD6Eeb",
    "outputId": "2ca75eb8-c8ee-40d1-c541-e5f81a6a42df"
   },
   "outputs": [
    {
     "name": "stdout",
     "output_type": "stream",
     "text": [
      "Epoch 1/100\n",
      "357/357 [==============================] - 36s 67ms/step - loss: 1.5025 - accuracy: 0.5342 - val_loss: 1.8716 - val_accuracy: 0.3823\n",
      "Epoch 2/100\n",
      "357/357 [==============================] - 25s 68ms/step - loss: 1.0256 - accuracy: 0.6675 - val_loss: 0.9724 - val_accuracy: 0.6817\n",
      "Epoch 3/100\n",
      "357/357 [==============================] - 25s 68ms/step - loss: 0.8850 - accuracy: 0.7123 - val_loss: 0.8078 - val_accuracy: 0.7332\n",
      "Epoch 4/100\n",
      "357/357 [==============================] - 25s 68ms/step - loss: 0.7961 - accuracy: 0.7410 - val_loss: 0.6983 - val_accuracy: 0.7700\n",
      "Epoch 5/100\n",
      "357/357 [==============================] - 24s 66ms/step - loss: 0.7378 - accuracy: 0.7602 - val_loss: 0.7044 - val_accuracy: 0.7619\n",
      "Epoch 6/100\n",
      "357/357 [==============================] - 25s 69ms/step - loss: 0.6769 - accuracy: 0.7807 - val_loss: 0.6472 - val_accuracy: 0.7893\n",
      "Epoch 7/100\n",
      "357/357 [==============================] - 25s 69ms/step - loss: 0.6360 - accuracy: 0.7933 - val_loss: 0.6115 - val_accuracy: 0.7928\n",
      "Epoch 8/100\n",
      "357/357 [==============================] - 24s 67ms/step - loss: 0.6004 - accuracy: 0.8037 - val_loss: 0.6506 - val_accuracy: 0.7917\n",
      "Epoch 9/100\n",
      "357/357 [==============================] - 25s 70ms/step - loss: 0.5721 - accuracy: 0.8128 - val_loss: 0.6114 - val_accuracy: 0.8101\n",
      "Epoch 10/100\n",
      "357/357 [==============================] - 24s 67ms/step - loss: 0.5492 - accuracy: 0.8191 - val_loss: 0.6545 - val_accuracy: 0.7841\n",
      "Epoch 11/100\n",
      "357/357 [==============================] - 25s 68ms/step - loss: 0.5182 - accuracy: 0.8288 - val_loss: 0.6371 - val_accuracy: 0.7943\n",
      "Epoch 12/100\n",
      "357/357 [==============================] - 24s 66ms/step - loss: 0.5000 - accuracy: 0.8335 - val_loss: 0.6404 - val_accuracy: 0.8037\n",
      "Epoch 13/100\n",
      "357/357 [==============================] - 24s 67ms/step - loss: 0.4824 - accuracy: 0.8385 - val_loss: 0.6337 - val_accuracy: 0.8073\n",
      "Epoch 14/100\n",
      "357/357 [==============================] - 24s 67ms/step - loss: 0.4666 - accuracy: 0.8432 - val_loss: 0.6210 - val_accuracy: 0.8012\n",
      "Epoch 15/100\n",
      "357/357 [==============================] - 24s 67ms/step - loss: 0.4542 - accuracy: 0.8466 - val_loss: 0.6653 - val_accuracy: 0.8032\n",
      "Epoch 16/100\n",
      "357/357 [==============================] - 25s 68ms/step - loss: 0.4376 - accuracy: 0.8520 - val_loss: 0.7010 - val_accuracy: 0.7979\n",
      "Epoch 17/100\n",
      "357/357 [==============================] - 24s 67ms/step - loss: 0.4256 - accuracy: 0.8543 - val_loss: 0.6689 - val_accuracy: 0.8041\n",
      "Epoch 18/100\n",
      "357/357 [==============================] - 25s 69ms/step - loss: 0.4088 - accuracy: 0.8612 - val_loss: 0.6550 - val_accuracy: 0.8117\n",
      "Epoch 19/100\n",
      "357/357 [==============================] - 24s 67ms/step - loss: 0.3983 - accuracy: 0.8638 - val_loss: 0.6394 - val_accuracy: 0.8076\n",
      "Epoch 20/100\n",
      "357/357 [==============================] - 24s 66ms/step - loss: 0.3942 - accuracy: 0.8645 - val_loss: 0.6731 - val_accuracy: 0.8015\n",
      "Epoch 21/100\n",
      "357/357 [==============================] - 25s 68ms/step - loss: 0.3793 - accuracy: 0.8690 - val_loss: 0.6784 - val_accuracy: 0.8215\n",
      "Epoch 22/100\n",
      "357/357 [==============================] - 24s 66ms/step - loss: 0.3698 - accuracy: 0.8718 - val_loss: 0.6750 - val_accuracy: 0.8140\n",
      "Epoch 23/100\n",
      "357/357 [==============================] - 24s 66ms/step - loss: 0.3614 - accuracy: 0.8750 - val_loss: 0.6698 - val_accuracy: 0.8128\n",
      "Epoch 24/100\n",
      "357/357 [==============================] - 24s 66ms/step - loss: 0.3577 - accuracy: 0.8763 - val_loss: 0.6832 - val_accuracy: 0.8209\n",
      "Epoch 25/100\n",
      "357/357 [==============================] - 24s 66ms/step - loss: 0.3437 - accuracy: 0.8798 - val_loss: 0.6552 - val_accuracy: 0.8171\n",
      "Epoch 26/100\n",
      "357/357 [==============================] - 24s 66ms/step - loss: 0.3389 - accuracy: 0.8810 - val_loss: 0.7930 - val_accuracy: 0.8104\n",
      "Epoch 27/100\n",
      "357/357 [==============================] - 25s 68ms/step - loss: 0.3288 - accuracy: 0.8846 - val_loss: 0.6663 - val_accuracy: 0.8267\n",
      "Epoch 28/100\n",
      "357/357 [==============================] - 24s 67ms/step - loss: 0.3217 - accuracy: 0.8872 - val_loss: 0.7515 - val_accuracy: 0.7915\n",
      "Epoch 29/100\n",
      "357/357 [==============================] - 24s 66ms/step - loss: 0.3175 - accuracy: 0.8888 - val_loss: 0.7262 - val_accuracy: 0.8197\n",
      "Epoch 30/100\n",
      "357/357 [==============================] - 24s 66ms/step - loss: 0.3149 - accuracy: 0.8882 - val_loss: 0.6656 - val_accuracy: 0.8264\n",
      "Epoch 31/100\n",
      "357/357 [==============================] - 24s 66ms/step - loss: 0.3096 - accuracy: 0.8905 - val_loss: 0.7220 - val_accuracy: 0.8216\n",
      "Epoch 32/100\n",
      "357/357 [==============================] - 24s 66ms/step - loss: 0.2999 - accuracy: 0.8932 - val_loss: 0.6953 - val_accuracy: 0.8255\n",
      "Epoch 33/100\n",
      "357/357 [==============================] - 24s 66ms/step - loss: 0.2971 - accuracy: 0.8959 - val_loss: 0.7594 - val_accuracy: 0.8197\n",
      "Epoch 34/100\n",
      "357/357 [==============================] - 24s 67ms/step - loss: 0.2915 - accuracy: 0.8963 - val_loss: 0.7144 - val_accuracy: 0.8213\n",
      "Epoch 35/100\n",
      "357/357 [==============================] - 24s 66ms/step - loss: 0.2897 - accuracy: 0.8965 - val_loss: 0.7510 - val_accuracy: 0.8079\n",
      "Epoch 36/100\n",
      "357/357 [==============================] - 24s 66ms/step - loss: 0.2834 - accuracy: 0.8996 - val_loss: 0.7467 - val_accuracy: 0.8204\n",
      "Epoch 37/100\n",
      "357/357 [==============================] - 24s 66ms/step - loss: 0.2832 - accuracy: 0.8992 - val_loss: 0.7119 - val_accuracy: 0.8197\n",
      "Epoch 38/100\n",
      "357/357 [==============================] - 24s 67ms/step - loss: 0.2763 - accuracy: 0.9010 - val_loss: 0.7258 - val_accuracy: 0.8259\n",
      "Epoch 39/100\n",
      "357/357 [==============================] - 24s 66ms/step - loss: 0.2715 - accuracy: 0.9014 - val_loss: 0.7508 - val_accuracy: 0.8209\n",
      "Epoch 40/100\n",
      "357/357 [==============================] - 25s 69ms/step - loss: 0.2636 - accuracy: 0.9049 - val_loss: 0.6975 - val_accuracy: 0.8311\n",
      "Epoch 41/100\n",
      "357/357 [==============================] - 24s 67ms/step - loss: 0.2647 - accuracy: 0.9056 - val_loss: 0.7848 - val_accuracy: 0.7965\n",
      "Epoch 42/100\n",
      "357/357 [==============================] - 25s 70ms/step - loss: 0.2596 - accuracy: 0.9058 - val_loss: 0.7359 - val_accuracy: 0.8316\n",
      "Epoch 43/100\n",
      "357/357 [==============================] - 24s 66ms/step - loss: 0.2567 - accuracy: 0.9065 - val_loss: 0.7824 - val_accuracy: 0.8112\n",
      "Epoch 44/100\n",
      "357/357 [==============================] - 24s 66ms/step - loss: 0.2524 - accuracy: 0.9082 - val_loss: 0.7988 - val_accuracy: 0.8108\n",
      "Epoch 45/100\n",
      "357/357 [==============================] - 24s 66ms/step - loss: 0.2518 - accuracy: 0.9096 - val_loss: 0.7503 - val_accuracy: 0.8301\n",
      "Epoch 46/100\n",
      "357/357 [==============================] - 24s 66ms/step - loss: 0.2477 - accuracy: 0.9106 - val_loss: 0.7558 - val_accuracy: 0.8207\n",
      "Epoch 47/100\n",
      "357/357 [==============================] - 24s 67ms/step - loss: 0.2454 - accuracy: 0.9103 - val_loss: 0.7948 - val_accuracy: 0.8199\n",
      "Epoch 48/100\n",
      "357/357 [==============================] - 24s 66ms/step - loss: 0.2453 - accuracy: 0.9113 - val_loss: 0.8046 - val_accuracy: 0.8148\n",
      "Epoch 49/100\n",
      "357/357 [==============================] - 24s 66ms/step - loss: 0.2427 - accuracy: 0.9119 - val_loss: 0.9317 - val_accuracy: 0.7943\n",
      "Epoch 50/100\n",
      "357/357 [==============================] - 24s 66ms/step - loss: 0.2377 - accuracy: 0.9135 - val_loss: 0.7769 - val_accuracy: 0.8277\n",
      "Epoch 51/100\n",
      "357/357 [==============================] - 25s 69ms/step - loss: 0.2329 - accuracy: 0.9149 - val_loss: 0.8040 - val_accuracy: 0.8319\n",
      "Epoch 52/100\n",
      "357/357 [==============================] - 24s 67ms/step - loss: 0.2334 - accuracy: 0.9153 - val_loss: 0.8591 - val_accuracy: 0.8045\n",
      "Epoch 53/100\n",
      "357/357 [==============================] - 24s 67ms/step - loss: 0.2317 - accuracy: 0.9141 - val_loss: 0.7775 - val_accuracy: 0.8273\n",
      "Epoch 54/100\n",
      "357/357 [==============================] - 24s 66ms/step - loss: 0.2324 - accuracy: 0.9150 - val_loss: 0.7749 - val_accuracy: 0.8265\n",
      "Epoch 55/100\n",
      "357/357 [==============================] - 24s 67ms/step - loss: 0.2256 - accuracy: 0.9166 - val_loss: 0.7737 - val_accuracy: 0.8283\n",
      "Epoch 56/100\n",
      "357/357 [==============================] - 24s 66ms/step - loss: 0.2264 - accuracy: 0.9167 - val_loss: 0.8403 - val_accuracy: 0.8309\n",
      "Epoch 57/100\n",
      "357/357 [==============================] - 24s 67ms/step - loss: 0.2214 - accuracy: 0.9180 - val_loss: 1.0420 - val_accuracy: 0.8003\n",
      "Epoch 58/100\n",
      "357/357 [==============================] - 24s 66ms/step - loss: 0.2193 - accuracy: 0.9194 - val_loss: 0.7970 - val_accuracy: 0.8261\n",
      "Epoch 59/100\n",
      "357/357 [==============================] - 24s 66ms/step - loss: 0.2185 - accuracy: 0.9187 - val_loss: 0.8293 - val_accuracy: 0.8184\n",
      "Epoch 60/100\n",
      "357/357 [==============================] - 24s 67ms/step - loss: 0.2123 - accuracy: 0.9212 - val_loss: 0.8389 - val_accuracy: 0.8204\n",
      "Epoch 61/100\n",
      "357/357 [==============================] - 24s 66ms/step - loss: 0.2123 - accuracy: 0.9215 - val_loss: 1.0820 - val_accuracy: 0.7805\n",
      "Epoch 62/100\n",
      "357/357 [==============================] - 24s 67ms/step - loss: 0.2112 - accuracy: 0.9212 - val_loss: 0.9985 - val_accuracy: 0.7696\n",
      "Epoch 63/100\n",
      "357/357 [==============================] - 24s 67ms/step - loss: 0.2102 - accuracy: 0.9217 - val_loss: 0.9063 - val_accuracy: 0.8132\n",
      "Epoch 64/100\n",
      "357/357 [==============================] - 24s 67ms/step - loss: 0.2079 - accuracy: 0.9228 - val_loss: 0.8838 - val_accuracy: 0.8231\n",
      "Epoch 65/100\n",
      "357/357 [==============================] - 24s 66ms/step - loss: 0.2061 - accuracy: 0.9228 - val_loss: 0.9486 - val_accuracy: 0.8241\n",
      "Epoch 66/100\n",
      "357/357 [==============================] - 24s 67ms/step - loss: 0.2033 - accuracy: 0.9238 - val_loss: 0.9208 - val_accuracy: 0.8272\n",
      "Epoch 67/100\n",
      "357/357 [==============================] - 24s 66ms/step - loss: 0.2013 - accuracy: 0.9243 - val_loss: 0.9094 - val_accuracy: 0.7987\n",
      "Epoch 68/100\n",
      "357/357 [==============================] - 25s 69ms/step - loss: 0.2047 - accuracy: 0.9232 - val_loss: 0.8420 - val_accuracy: 0.8320\n",
      "Epoch 69/100\n",
      "357/357 [==============================] - 24s 66ms/step - loss: 0.2036 - accuracy: 0.9238 - val_loss: 0.8256 - val_accuracy: 0.8225\n",
      "Epoch 70/100\n",
      "357/357 [==============================] - 24s 66ms/step - loss: 0.1989 - accuracy: 0.9251 - val_loss: 0.9189 - val_accuracy: 0.8185\n",
      "Epoch 71/100\n",
      "357/357 [==============================] - 24s 66ms/step - loss: 0.1982 - accuracy: 0.9256 - val_loss: 0.8733 - val_accuracy: 0.8101\n",
      "Epoch 72/100\n",
      "357/357 [==============================] - 24s 66ms/step - loss: 0.1957 - accuracy: 0.9267 - val_loss: 0.8719 - val_accuracy: 0.8191\n",
      "Epoch 73/100\n",
      "357/357 [==============================] - 24s 67ms/step - loss: 0.1949 - accuracy: 0.9264 - val_loss: 0.8981 - val_accuracy: 0.8097\n",
      "Epoch 74/100\n",
      "357/357 [==============================] - 24s 66ms/step - loss: 0.1930 - accuracy: 0.9275 - val_loss: 0.8985 - val_accuracy: 0.8299\n",
      "Epoch 75/100\n",
      "357/357 [==============================] - 24s 67ms/step - loss: 0.1911 - accuracy: 0.9280 - val_loss: 0.8947 - val_accuracy: 0.8232\n",
      "Epoch 76/100\n",
      "357/357 [==============================] - 24s 66ms/step - loss: 0.1886 - accuracy: 0.9280 - val_loss: 0.8672 - val_accuracy: 0.8279\n",
      "Epoch 77/100\n",
      "357/357 [==============================] - 24s 66ms/step - loss: 0.1871 - accuracy: 0.9283 - val_loss: 0.9469 - val_accuracy: 0.8281\n",
      "Epoch 78/100\n",
      "357/357 [==============================] - 24s 66ms/step - loss: 0.1849 - accuracy: 0.9295 - val_loss: 0.9286 - val_accuracy: 0.8251\n",
      "Epoch 79/100\n",
      "357/357 [==============================] - 24s 66ms/step - loss: 0.1870 - accuracy: 0.9291 - val_loss: 1.0621 - val_accuracy: 0.7917\n",
      "Epoch 80/100\n",
      "357/357 [==============================] - 24s 66ms/step - loss: 0.1870 - accuracy: 0.9288 - val_loss: 0.8973 - val_accuracy: 0.8273\n",
      "Epoch 81/100\n",
      "357/357 [==============================] - 24s 67ms/step - loss: 0.1820 - accuracy: 0.9301 - val_loss: 0.8892 - val_accuracy: 0.8295\n",
      "Epoch 82/100\n",
      "357/357 [==============================] - 24s 67ms/step - loss: 0.1830 - accuracy: 0.9309 - val_loss: 0.8954 - val_accuracy: 0.8192\n",
      "Epoch 83/100\n",
      "357/357 [==============================] - 24s 67ms/step - loss: 0.1820 - accuracy: 0.9293 - val_loss: 0.9016 - val_accuracy: 0.8295\n",
      "Epoch 84/100\n",
      "357/357 [==============================] - 24s 66ms/step - loss: 0.1811 - accuracy: 0.9303 - val_loss: 0.9412 - val_accuracy: 0.8253\n",
      "Epoch 85/100\n",
      "357/357 [==============================] - 24s 66ms/step - loss: 0.1790 - accuracy: 0.9315 - val_loss: 0.8907 - val_accuracy: 0.8256\n",
      "Epoch 86/100\n",
      "357/357 [==============================] - 24s 66ms/step - loss: 0.1784 - accuracy: 0.9317 - val_loss: 0.9123 - val_accuracy: 0.8293\n",
      "Epoch 87/100\n",
      "357/357 [==============================] - 24s 66ms/step - loss: 0.1781 - accuracy: 0.9315 - val_loss: 1.1298 - val_accuracy: 0.8023\n",
      "Epoch 88/100\n",
      "357/357 [==============================] - 24s 67ms/step - loss: 0.1748 - accuracy: 0.9319 - val_loss: 0.9602 - val_accuracy: 0.8253\n",
      "Epoch 89/100\n",
      "357/357 [==============================] - 24s 66ms/step - loss: 0.1736 - accuracy: 0.9329 - val_loss: 0.9605 - val_accuracy: 0.8297\n",
      "Epoch 90/100\n",
      "357/357 [==============================] - 24s 66ms/step - loss: 0.1723 - accuracy: 0.9345 - val_loss: 0.9413 - val_accuracy: 0.8299\n",
      "Epoch 91/100\n",
      "357/357 [==============================] - 24s 66ms/step - loss: 0.1731 - accuracy: 0.9339 - val_loss: 0.9404 - val_accuracy: 0.8199\n",
      "Epoch 92/100\n",
      "357/357 [==============================] - 24s 67ms/step - loss: 0.1745 - accuracy: 0.9335 - val_loss: 0.9490 - val_accuracy: 0.8288\n",
      "Epoch 93/100\n",
      "357/357 [==============================] - 24s 66ms/step - loss: 0.1709 - accuracy: 0.9348 - val_loss: 1.0722 - val_accuracy: 0.8227\n",
      "Epoch 94/100\n",
      "357/357 [==============================] - 24s 67ms/step - loss: 0.1697 - accuracy: 0.9348 - val_loss: 0.9390 - val_accuracy: 0.8284\n",
      "Epoch 95/100\n",
      "357/357 [==============================] - 24s 66ms/step - loss: 0.1676 - accuracy: 0.9354 - val_loss: 0.9142 - val_accuracy: 0.8296\n",
      "Epoch 96/100\n",
      "357/357 [==============================] - 24s 66ms/step - loss: 0.1715 - accuracy: 0.9337 - val_loss: 0.9489 - val_accuracy: 0.8273\n",
      "Epoch 97/100\n",
      "357/357 [==============================] - 24s 66ms/step - loss: 0.1694 - accuracy: 0.9344 - val_loss: 0.9311 - val_accuracy: 0.8263\n",
      "Epoch 98/100\n",
      "357/357 [==============================] - 24s 66ms/step - loss: 0.1643 - accuracy: 0.9366 - val_loss: 0.9391 - val_accuracy: 0.8289\n",
      "Epoch 99/100\n",
      "357/357 [==============================] - 24s 66ms/step - loss: 0.1652 - accuracy: 0.9355 - val_loss: 0.9395 - val_accuracy: 0.8288\n",
      "Epoch 100/100\n",
      "357/357 [==============================] - 24s 66ms/step - loss: 0.1667 - accuracy: 0.9353 - val_loss: 0.9795 - val_accuracy: 0.8263\n"
     ]
    }
   ],
   "source": [
    "history = model.fit(\n",
    "    x=train_ds_norm,\n",
    "    y=None,\n",
    "    validation_data= val_ds_norm,\n",
    "    epochs=epochs,\n",
    "    verbose=\"auto\",\n",
    "    callbacks=callbacks,\n",
    "    validation_split=0.0,\n",
    "    shuffle=True,\n",
    "    validation_freq=1,\n",
    "    batch_size = batch_size\n",
    "    )"
   ]
  },
  {
   "cell_type": "code",
   "execution_count": null,
   "metadata": {
    "colab": {
     "base_uri": "https://localhost:8080/"
    },
    "id": "hVqzrvNN_X8_",
    "outputId": "ce33608f-8fe0-4937-bf5b-a6ebd54cabc1"
   },
   "outputs": [
    {
     "name": "stdout",
     "output_type": "stream",
     "text": [
      "30/30 - 1s - loss: 0.9795 - accuracy: 0.8263 - 1s/epoch - 49ms/step\n"
     ]
    }
   ],
   "source": [
    "loss, acc = model.evaluate(x=test_ds_norm, y=None, verbose=2)"
   ]
  },
  {
   "cell_type": "code",
   "execution_count": null,
   "metadata": {
    "colab": {
     "base_uri": "https://localhost:8080/",
     "height": 864
    },
    "id": "Xb5yvYuq9LNE",
    "outputId": "21b466b7-5e07-4e9e-aa6c-9691982fbc83"
   },
   "outputs": [
    {
     "data": {
      "image/png": "[encoded data removed]",
      "text/plain": [
       "<Figure size 640x480 with 1 Axes>"
      ]
     },
     "metadata": {},
     "output_type": "display_data"
    },
    {
     "data": {
      "image/png": "[encoded data removed]",
      "text/plain": [
       "<Figure size 640x480 with 1 Axes>"
      ]
     },
     "metadata": {},
     "output_type": "display_data"
    }
   ],
   "source": [
    "accuracy = history.history['accuracy']\n",
    "val_accuracy = history.history['val_accuracy']\n",
    "loss = history.history['loss']\n",
    "val_loss = history.history['val_loss']\n",
    "epochs = range(1, len(accuracy) + 1)\n",
    "plt.plot(epochs, accuracy, 'bo', label='Training accuracy')\n",
    "plt.plot(epochs, val_accuracy, 'b', label='Validation accuracy')\n",
    "plt.legend()\n",
    "plt.figure()\n",
    "plt.plot(epochs, loss, 'bo', label='Training loss')\n",
    "plt.plot(epochs, val_loss, 'b', label='Validation loss')\n",
    "plt.legend()\n",
    "plt.show()"
   ]
  },
  {
   "cell_type": "code",
   "execution_count": null,
   "metadata": {
    "id": "pJKRia7z_Lbo"
   },
   "outputs": [],
   "source": [
    "model.save('model_9_20a1.keras')"
   ]
  },
  {
   "cell_type": "code",
   "execution_count": null,
   "metadata": {
    "id": "UPbuQute_L4R"
   },
   "outputs": [],
   "source": [
    "# Setting up model\n",
    "img_width, img_height = 70, 70\n",
    "\n",
    "\n",
    "nb_train_samples = 91166\n",
    "nb_validation_samples = 7500\n",
    "epochs = 100\n",
    "batch_size = 256\n",
    "n_classes = 15\n",
    "input_shape= (img_width, img_height, 1)"
   ]
  },
  {
   "cell_type": "code",
   "execution_count": null,
   "metadata": {
    "id": "V5r9PXVt_L4T"
   },
   "outputs": [],
   "source": [
    "model1 = Sequential()\n",
    "\n",
    "model1.add(Conv2D(32, (3,3), activation='relu', input_shape=input_shape))\n",
    "model1.add(layers.BatchNormalization())\n",
    "model1.add(MaxPooling2D(pool_size=(2, 2)))\n",
    "\n",
    "model1.add(Dropout(0.2))\n",
    "\n",
    "model1.add(Conv2D(64, (3,3), activation='relu'))\n",
    "model1.add(layers.BatchNormalization())\n",
    "model1.add(MaxPooling2D(pool_size=(2, 2)))\n",
    "\n",
    "model1.add(Dropout(0.3))\n",
    "\n",
    "model1.add(Conv2D(128, (3,3), activation='relu'))\n",
    "model1.add(layers.BatchNormalization())\n",
    "model1.add(MaxPooling2D(pool_size=(2, 2)))\n",
    "\n",
    "model1.add(Flatten())\n",
    "\n",
    "model1.add(Dense(140, activation='relu'))\n",
    "model1.add(Dropout(0.5))\n",
    "\n",
    "model1.add(Dense(n_classes, activation='softmax'))\n",
    "\n",
    "model1.compile(loss='SparseCategoricalCrossentropy', optimizer='adam', metrics=['accuracy'])\n"
   ]
  },
  {
   "cell_type": "code",
   "execution_count": null,
   "metadata": {
    "id": "Y4Etk9Vo_L4T"
   },
   "outputs": [],
   "source": [
    "callbacks = [\n",
    "    keras.callbacks.ModelCheckpoint(\n",
    "        filepath='/content/drive/MyDrive/keras/09_20a2.keras',\n",
    "        save_best_only=True,\n",
    "        monitor='val_accuracy'\n",
    "    )]"
   ]
  },
  {
   "cell_type": "code",
   "execution_count": null,
   "metadata": {
    "colab": {
     "base_uri": "https://localhost:8080/"
    },
    "id": "Pr97BL-6_L4U",
    "outputId": "605055f0-fa77-4135-916a-6ff17b2f9c14"
   },
   "outputs": [
    {
     "name": "stdout",
     "output_type": "stream",
     "text": [
      "Epoch 1/100\n",
      "357/357 [==============================] - 27s 67ms/step - loss: 1.6247 - accuracy: 0.4878 - val_loss: 2.3630 - val_accuracy: 0.2797\n",
      "Epoch 2/100\n",
      "357/357 [==============================] - 25s 69ms/step - loss: 1.1377 - accuracy: 0.6252 - val_loss: 1.0700 - val_accuracy: 0.6424\n",
      "Epoch 3/100\n",
      "357/357 [==============================] - 25s 69ms/step - loss: 0.9907 - accuracy: 0.6751 - val_loss: 0.8063 - val_accuracy: 0.7319\n",
      "Epoch 4/100\n",
      "357/357 [==============================] - 24s 67ms/step - loss: 0.8908 - accuracy: 0.7074 - val_loss: 0.8066 - val_accuracy: 0.7312\n",
      "Epoch 5/100\n",
      "357/357 [==============================] - 24s 66ms/step - loss: 0.8176 - accuracy: 0.7315 - val_loss: 0.8704 - val_accuracy: 0.7056\n",
      "Epoch 6/100\n",
      "357/357 [==============================] - 25s 69ms/step - loss: 0.7599 - accuracy: 0.7500 - val_loss: 0.6669 - val_accuracy: 0.7813\n",
      "Epoch 7/100\n",
      "357/357 [==============================] - 24s 66ms/step - loss: 0.7134 - accuracy: 0.7655 - val_loss: 0.7455 - val_accuracy: 0.7561\n",
      "Epoch 8/100\n",
      "357/357 [==============================] - 25s 69ms/step - loss: 0.6785 - accuracy: 0.7781 - val_loss: 0.6522 - val_accuracy: 0.7859\n",
      "Epoch 9/100\n",
      "357/357 [==============================] - 24s 66ms/step - loss: 0.6479 - accuracy: 0.7875 - val_loss: 0.6650 - val_accuracy: 0.7837\n",
      "Epoch 10/100\n",
      "357/357 [==============================] - 25s 69ms/step - loss: 0.6192 - accuracy: 0.7961 - val_loss: 0.6294 - val_accuracy: 0.7944\n",
      "Epoch 11/100\n",
      "357/357 [==============================] - 25s 69ms/step - loss: 0.5955 - accuracy: 0.8044 - val_loss: 0.5975 - val_accuracy: 0.8084\n",
      "Epoch 12/100\n",
      "357/357 [==============================] - 24s 67ms/step - loss: 0.5727 - accuracy: 0.8104 - val_loss: 0.8644 - val_accuracy: 0.7259\n",
      "Epoch 13/100\n",
      "357/357 [==============================] - 24s 66ms/step - loss: 0.5563 - accuracy: 0.8162 - val_loss: 0.7377 - val_accuracy: 0.7628\n",
      "Epoch 14/100\n",
      "357/357 [==============================] - 24s 66ms/step - loss: 0.5423 - accuracy: 0.8200 - val_loss: 0.8194 - val_accuracy: 0.7389\n",
      "Epoch 15/100\n",
      "357/357 [==============================] - 24s 66ms/step - loss: 0.5210 - accuracy: 0.8263 - val_loss: 0.6474 - val_accuracy: 0.7944\n",
      "Epoch 16/100\n",
      "357/357 [==============================] - 25s 69ms/step - loss: 0.5086 - accuracy: 0.8306 - val_loss: 0.6006 - val_accuracy: 0.8155\n",
      "Epoch 17/100\n",
      "357/357 [==============================] - 25s 68ms/step - loss: 0.4892 - accuracy: 0.8362 - val_loss: 0.6021 - val_accuracy: 0.8223\n",
      "Epoch 18/100\n",
      "357/357 [==============================] - 24s 66ms/step - loss: 0.4770 - accuracy: 0.8400 - val_loss: 0.5908 - val_accuracy: 0.8200\n",
      "Epoch 19/100\n",
      "357/357 [==============================] - 24s 66ms/step - loss: 0.4667 - accuracy: 0.8421 - val_loss: 0.6037 - val_accuracy: 0.8221\n",
      "Epoch 20/100\n",
      "357/357 [==============================] - 24s 66ms/step - loss: 0.4562 - accuracy: 0.8466 - val_loss: 0.6303 - val_accuracy: 0.8017\n",
      "Epoch 21/100\n",
      "357/357 [==============================] - 25s 68ms/step - loss: 0.4451 - accuracy: 0.8488 - val_loss: 0.6060 - val_accuracy: 0.8228\n",
      "Epoch 22/100\n",
      "357/357 [==============================] - 24s 66ms/step - loss: 0.4331 - accuracy: 0.8524 - val_loss: 0.7487 - val_accuracy: 0.7827\n",
      "Epoch 23/100\n",
      "357/357 [==============================] - 24s 66ms/step - loss: 0.4208 - accuracy: 0.8562 - val_loss: 0.6160 - val_accuracy: 0.8165\n",
      "Epoch 24/100\n",
      "357/357 [==============================] - 25s 69ms/step - loss: 0.4157 - accuracy: 0.8570 - val_loss: 0.6000 - val_accuracy: 0.8241\n",
      "Epoch 25/100\n",
      "357/357 [==============================] - 24s 66ms/step - loss: 0.4082 - accuracy: 0.8593 - val_loss: 0.6280 - val_accuracy: 0.8151\n",
      "Epoch 26/100\n",
      "357/357 [==============================] - 25s 69ms/step - loss: 0.3965 - accuracy: 0.8633 - val_loss: 0.5897 - val_accuracy: 0.8351\n",
      "Epoch 27/100\n",
      "357/357 [==============================] - 24s 66ms/step - loss: 0.3905 - accuracy: 0.8644 - val_loss: 0.6270 - val_accuracy: 0.8203\n",
      "Epoch 28/100\n",
      "357/357 [==============================] - 25s 69ms/step - loss: 0.3816 - accuracy: 0.8683 - val_loss: 0.6079 - val_accuracy: 0.8368\n",
      "Epoch 29/100\n",
      "357/357 [==============================] - 24s 66ms/step - loss: 0.3735 - accuracy: 0.8713 - val_loss: 0.6911 - val_accuracy: 0.8035\n",
      "Epoch 30/100\n",
      "357/357 [==============================] - 24s 66ms/step - loss: 0.3724 - accuracy: 0.8714 - val_loss: 0.6286 - val_accuracy: 0.8227\n",
      "Epoch 31/100\n",
      "357/357 [==============================] - 24s 66ms/step - loss: 0.3650 - accuracy: 0.8724 - val_loss: 0.5988 - val_accuracy: 0.8331\n",
      "Epoch 32/100\n",
      "357/357 [==============================] - 24s 67ms/step - loss: 0.3579 - accuracy: 0.8745 - val_loss: 0.6531 - val_accuracy: 0.8273\n",
      "Epoch 33/100\n",
      "357/357 [==============================] - 24s 66ms/step - loss: 0.3524 - accuracy: 0.8758 - val_loss: 0.6613 - val_accuracy: 0.8247\n",
      "Epoch 34/100\n",
      "357/357 [==============================] - 24s 66ms/step - loss: 0.3480 - accuracy: 0.8780 - val_loss: 0.6446 - val_accuracy: 0.8261\n",
      "Epoch 35/100\n",
      "357/357 [==============================] - 24s 66ms/step - loss: 0.3419 - accuracy: 0.8794 - val_loss: 0.6624 - val_accuracy: 0.8241\n",
      "Epoch 36/100\n",
      "357/357 [==============================] - 24s 66ms/step - loss: 0.3384 - accuracy: 0.8804 - val_loss: 0.6910 - val_accuracy: 0.8104\n",
      "Epoch 37/100\n",
      "357/357 [==============================] - 24s 66ms/step - loss: 0.3331 - accuracy: 0.8829 - val_loss: 0.7320 - val_accuracy: 0.7921\n",
      "Epoch 38/100\n",
      "357/357 [==============================] - 24s 66ms/step - loss: 0.3256 - accuracy: 0.8845 - val_loss: 0.6734 - val_accuracy: 0.8297\n",
      "Epoch 39/100\n",
      "357/357 [==============================] - 24s 67ms/step - loss: 0.3249 - accuracy: 0.8850 - val_loss: 0.6645 - val_accuracy: 0.8260\n",
      "Epoch 40/100\n",
      "357/357 [==============================] - 24s 66ms/step - loss: 0.3200 - accuracy: 0.8864 - val_loss: 0.6800 - val_accuracy: 0.8299\n",
      "Epoch 41/100\n",
      "357/357 [==============================] - 24s 67ms/step - loss: 0.3157 - accuracy: 0.8877 - val_loss: 0.6749 - val_accuracy: 0.8135\n",
      "Epoch 42/100\n",
      "357/357 [==============================] - 24s 67ms/step - loss: 0.3087 - accuracy: 0.8888 - val_loss: 0.7766 - val_accuracy: 0.7960\n",
      "Epoch 43/100\n",
      "357/357 [==============================] - 24s 67ms/step - loss: 0.3071 - accuracy: 0.8892 - val_loss: 0.6976 - val_accuracy: 0.8289\n",
      "Epoch 44/100\n",
      "357/357 [==============================] - 24s 66ms/step - loss: 0.3025 - accuracy: 0.8914 - val_loss: 0.7830 - val_accuracy: 0.7884\n",
      "Epoch 45/100\n",
      "357/357 [==============================] - 24s 67ms/step - loss: 0.3051 - accuracy: 0.8914 - val_loss: 0.6857 - val_accuracy: 0.8337\n",
      "Epoch 46/100\n",
      "357/357 [==============================] - 24s 67ms/step - loss: 0.2954 - accuracy: 0.8944 - val_loss: 0.9039 - val_accuracy: 0.7663\n",
      "Epoch 47/100\n",
      "357/357 [==============================] - 24s 67ms/step - loss: 0.2944 - accuracy: 0.8939 - val_loss: 0.7271 - val_accuracy: 0.8248\n",
      "Epoch 48/100\n",
      "357/357 [==============================] - 24s 66ms/step - loss: 0.2883 - accuracy: 0.8951 - val_loss: 0.6695 - val_accuracy: 0.8368\n",
      "Epoch 49/100\n",
      "357/357 [==============================] - 24s 67ms/step - loss: 0.2885 - accuracy: 0.8962 - val_loss: 0.7576 - val_accuracy: 0.8252\n",
      "Epoch 50/100\n",
      "357/357 [==============================] - 24s 66ms/step - loss: 0.2862 - accuracy: 0.8973 - val_loss: 0.7195 - val_accuracy: 0.8153\n",
      "Epoch 51/100\n",
      "357/357 [==============================] - 24s 66ms/step - loss: 0.2828 - accuracy: 0.8976 - val_loss: 0.7180 - val_accuracy: 0.8212\n",
      "Epoch 52/100\n",
      "357/357 [==============================] - 24s 66ms/step - loss: 0.2792 - accuracy: 0.8989 - val_loss: 0.6873 - val_accuracy: 0.8356\n",
      "Epoch 53/100\n",
      "357/357 [==============================] - 24s 66ms/step - loss: 0.2737 - accuracy: 0.9010 - val_loss: 0.6994 - val_accuracy: 0.8216\n",
      "Epoch 54/100\n",
      "357/357 [==============================] - 24s 66ms/step - loss: 0.2733 - accuracy: 0.9004 - val_loss: 0.7382 - val_accuracy: 0.8353\n",
      "Epoch 55/100\n",
      "357/357 [==============================] - 24s 66ms/step - loss: 0.2732 - accuracy: 0.9001 - val_loss: 0.7543 - val_accuracy: 0.8140\n",
      "Epoch 56/100\n",
      "357/357 [==============================] - 24s 66ms/step - loss: 0.2657 - accuracy: 0.9030 - val_loss: 0.8151 - val_accuracy: 0.7993\n",
      "Epoch 57/100\n",
      "357/357 [==============================] - 24s 66ms/step - loss: 0.2687 - accuracy: 0.9024 - val_loss: 0.7560 - val_accuracy: 0.8355\n",
      "Epoch 58/100\n",
      "357/357 [==============================] - 24s 66ms/step - loss: 0.2636 - accuracy: 0.9036 - val_loss: 0.7100 - val_accuracy: 0.8288\n",
      "Epoch 59/100\n",
      "357/357 [==============================] - 24s 66ms/step - loss: 0.2632 - accuracy: 0.9033 - val_loss: 0.7886 - val_accuracy: 0.8237\n",
      "Epoch 60/100\n",
      "357/357 [==============================] - 24s 66ms/step - loss: 0.2562 - accuracy: 0.9061 - val_loss: 0.7441 - val_accuracy: 0.8341\n",
      "Epoch 61/100\n",
      "357/357 [==============================] - 24s 66ms/step - loss: 0.2556 - accuracy: 0.9061 - val_loss: 0.7705 - val_accuracy: 0.8263\n",
      "Epoch 62/100\n",
      "357/357 [==============================] - 24s 66ms/step - loss: 0.2545 - accuracy: 0.9062 - val_loss: 0.7266 - val_accuracy: 0.8295\n",
      "Epoch 63/100\n",
      "357/357 [==============================] - 24s 66ms/step - loss: 0.2553 - accuracy: 0.9068 - val_loss: 0.8872 - val_accuracy: 0.8143\n",
      "Epoch 64/100\n",
      "357/357 [==============================] - 24s 66ms/step - loss: 0.2517 - accuracy: 0.9069 - val_loss: 0.7407 - val_accuracy: 0.8363\n",
      "Epoch 65/100\n",
      "357/357 [==============================] - 24s 66ms/step - loss: 0.2495 - accuracy: 0.9085 - val_loss: 0.7763 - val_accuracy: 0.8328\n",
      "Epoch 66/100\n",
      "357/357 [==============================] - 24s 66ms/step - loss: 0.2439 - accuracy: 0.9098 - val_loss: 0.8034 - val_accuracy: 0.8340\n",
      "Epoch 67/100\n",
      "357/357 [==============================] - 24s 66ms/step - loss: 0.2450 - accuracy: 0.9080 - val_loss: 0.7744 - val_accuracy: 0.8328\n",
      "Epoch 68/100\n",
      "357/357 [==============================] - 24s 66ms/step - loss: 0.2421 - accuracy: 0.9095 - val_loss: 0.7367 - val_accuracy: 0.8309\n",
      "Epoch 69/100\n",
      "357/357 [==============================] - 24s 66ms/step - loss: 0.2446 - accuracy: 0.9103 - val_loss: 0.7689 - val_accuracy: 0.8365\n",
      "Epoch 70/100\n",
      "357/357 [==============================] - 25s 68ms/step - loss: 0.2393 - accuracy: 0.9113 - val_loss: 0.7425 - val_accuracy: 0.8373\n",
      "Epoch 71/100\n",
      "357/357 [==============================] - 25s 68ms/step - loss: 0.2379 - accuracy: 0.9115 - val_loss: 0.7454 - val_accuracy: 0.8393\n",
      "Epoch 72/100\n",
      "357/357 [==============================] - 24s 66ms/step - loss: 0.2358 - accuracy: 0.9125 - val_loss: 0.7771 - val_accuracy: 0.8332\n",
      "Epoch 73/100\n",
      "357/357 [==============================] - 24s 66ms/step - loss: 0.2338 - accuracy: 0.9126 - val_loss: 0.8563 - val_accuracy: 0.8169\n",
      "Epoch 74/100\n",
      "357/357 [==============================] - 24s 66ms/step - loss: 0.2338 - accuracy: 0.9124 - val_loss: 0.9551 - val_accuracy: 0.7961\n",
      "Epoch 75/100\n",
      "357/357 [==============================] - 24s 66ms/step - loss: 0.2300 - accuracy: 0.9139 - val_loss: 0.8079 - val_accuracy: 0.8309\n",
      "Epoch 76/100\n",
      "357/357 [==============================] - 24s 66ms/step - loss: 0.2360 - accuracy: 0.9122 - val_loss: 1.3028 - val_accuracy: 0.7685\n",
      "Epoch 77/100\n",
      "357/357 [==============================] - 24s 66ms/step - loss: 0.2248 - accuracy: 0.9161 - val_loss: 0.8919 - val_accuracy: 0.8273\n",
      "Epoch 78/100\n",
      "357/357 [==============================] - 24s 66ms/step - loss: 0.2273 - accuracy: 0.9145 - val_loss: 0.8078 - val_accuracy: 0.8224\n",
      "Epoch 79/100\n",
      "357/357 [==============================] - 24s 66ms/step - loss: 0.2271 - accuracy: 0.9151 - val_loss: 0.7938 - val_accuracy: 0.8384\n",
      "Epoch 80/100\n",
      "357/357 [==============================] - 24s 66ms/step - loss: 0.2229 - accuracy: 0.9156 - val_loss: 0.8118 - val_accuracy: 0.8179\n",
      "Epoch 81/100\n",
      "357/357 [==============================] - 24s 66ms/step - loss: 0.2195 - accuracy: 0.9176 - val_loss: 0.8226 - val_accuracy: 0.8244\n",
      "Epoch 82/100\n",
      "357/357 [==============================] - 24s 66ms/step - loss: 0.2216 - accuracy: 0.9164 - val_loss: 0.7968 - val_accuracy: 0.8343\n",
      "Epoch 83/100\n",
      "357/357 [==============================] - 24s 66ms/step - loss: 0.2194 - accuracy: 0.9181 - val_loss: 0.7941 - val_accuracy: 0.8343\n",
      "Epoch 84/100\n",
      "357/357 [==============================] - 24s 66ms/step - loss: 0.2214 - accuracy: 0.9176 - val_loss: 0.8387 - val_accuracy: 0.8320\n",
      "Epoch 85/100\n",
      "357/357 [==============================] - 24s 66ms/step - loss: 0.2140 - accuracy: 0.9198 - val_loss: 0.8423 - val_accuracy: 0.8124\n",
      "Epoch 86/100\n",
      "357/357 [==============================] - 24s 66ms/step - loss: 0.2163 - accuracy: 0.9171 - val_loss: 0.8366 - val_accuracy: 0.8212\n",
      "Epoch 87/100\n",
      "357/357 [==============================] - 24s 66ms/step - loss: 0.2136 - accuracy: 0.9183 - val_loss: 0.8399 - val_accuracy: 0.8353\n",
      "Epoch 88/100\n",
      "357/357 [==============================] - 24s 66ms/step - loss: 0.2133 - accuracy: 0.9196 - val_loss: 0.8637 - val_accuracy: 0.8256\n",
      "Epoch 89/100\n",
      "357/357 [==============================] - 24s 66ms/step - loss: 0.2113 - accuracy: 0.9188 - val_loss: 0.8858 - val_accuracy: 0.8095\n",
      "Epoch 90/100\n",
      "357/357 [==============================] - 24s 66ms/step - loss: 0.2127 - accuracy: 0.9199 - val_loss: 0.8841 - val_accuracy: 0.8267\n",
      "Epoch 91/100\n",
      "357/357 [==============================] - 24s 66ms/step - loss: 0.2094 - accuracy: 0.9202 - val_loss: 0.7917 - val_accuracy: 0.8352\n",
      "Epoch 92/100\n",
      "357/357 [==============================] - 24s 66ms/step - loss: 0.2060 - accuracy: 0.9214 - val_loss: 0.8239 - val_accuracy: 0.8365\n",
      "Epoch 93/100\n",
      "357/357 [==============================] - 24s 66ms/step - loss: 0.2046 - accuracy: 0.9217 - val_loss: 0.8183 - val_accuracy: 0.8319\n",
      "Epoch 94/100\n",
      "357/357 [==============================] - 24s 66ms/step - loss: 0.2063 - accuracy: 0.9217 - val_loss: 0.8473 - val_accuracy: 0.8273\n",
      "Epoch 95/100\n",
      "357/357 [==============================] - 24s 66ms/step - loss: 0.2055 - accuracy: 0.9203 - val_loss: 0.8480 - val_accuracy: 0.8296\n",
      "Epoch 96/100\n",
      "357/357 [==============================] - 24s 66ms/step - loss: 0.2064 - accuracy: 0.9211 - val_loss: 0.8184 - val_accuracy: 0.8335\n",
      "Epoch 97/100\n",
      "357/357 [==============================] - 24s 66ms/step - loss: 0.2043 - accuracy: 0.9229 - val_loss: 1.0789 - val_accuracy: 0.7955\n",
      "Epoch 98/100\n",
      "357/357 [==============================] - 24s 66ms/step - loss: 0.2025 - accuracy: 0.9227 - val_loss: 0.8117 - val_accuracy: 0.8293\n",
      "Epoch 99/100\n",
      "357/357 [==============================] - 24s 66ms/step - loss: 0.2013 - accuracy: 0.9229 - val_loss: 0.8933 - val_accuracy: 0.8195\n",
      "Epoch 100/100\n",
      "357/357 [==============================] - 24s 66ms/step - loss: 0.1982 - accuracy: 0.9244 - val_loss: 0.8660 - val_accuracy: 0.8267\n"
     ]
    }
   ],
   "source": [
    "history1 = model1.fit(\n",
    "    x=train_ds_norm,\n",
    "    y=None,\n",
    "    validation_data= val_ds_norm,\n",
    "    epochs=epochs,\n",
    "    verbose=\"auto\",\n",
    "    callbacks=callbacks,\n",
    "    validation_split=0.0,\n",
    "    shuffle=True,\n",
    "    validation_freq=1,\n",
    "    batch_size = batch_size\n",
    "    )"
   ]
  },
  {
   "cell_type": "code",
   "execution_count": null,
   "metadata": {
    "colab": {
     "base_uri": "https://localhost:8080/"
    },
    "id": "mJiLOk7H_LN3",
    "outputId": "c52de1e1-0c25-4a26-8abf-a855227fdf08"
   },
   "outputs": [
    {
     "name": "stdout",
     "output_type": "stream",
     "text": [
      "30/30 - 2s - loss: 0.8660 - accuracy: 0.8267 - 2s/epoch - 51ms/step\n"
     ]
    }
   ],
   "source": [
    "loss, acc = model1.evaluate(x=test_ds_norm, y=None, verbose=2)"
   ]
  },
  {
   "cell_type": "code",
   "execution_count": null,
   "metadata": {
    "id": "aifRnfdmFEE3"
   },
   "outputs": [],
   "source": [
    "model1.save('model_9_20a2.keras')"
   ]
  },
  {
   "cell_type": "code",
   "execution_count": null,
   "metadata": {
    "colab": {
     "base_uri": "https://localhost:8080/",
     "height": 864
    },
    "id": "PJBrq7VKGSJr",
    "outputId": "fbf2a131-f4d3-4c22-94e6-ca724354c3ac"
   },
   "outputs": [
    {
     "data": {
      "image/png": "[encoded data removed]",
      "text/plain": [
       "<Figure size 640x480 with 1 Axes>"
      ]
     },
     "metadata": {},
     "output_type": "display_data"
    },
    {
     "data": {
      "image/png": "[encoded data removed]",
      "text/plain": [
       "<Figure size 640x480 with 1 Axes>"
      ]
     },
     "metadata": {},
     "output_type": "display_data"
    }
   ],
   "source": [
    "accuracy = history1.history['accuracy']\n",
    "val_accuracy = history1.history['val_accuracy']\n",
    "loss = history1.history['loss']\n",
    "val_loss = history1.history['val_loss']\n",
    "epochs = range(1, len(accuracy) + 1)\n",
    "plt.plot(epochs, accuracy, 'ro', label='Training accuracy')\n",
    "plt.plot(epochs, val_accuracy, 'r', label='Validation accuracy')\n",
    "plt.legend()\n",
    "plt.figure()\n",
    "plt.plot(epochs, loss, 'ro', label='Training loss')\n",
    "plt.plot(epochs, val_loss, 'r', label='Validation loss')\n",
    "plt.legend()\n",
    "plt.show()"
   ]
  },
  {
   "cell_type": "code",
   "execution_count": null,
   "metadata": {
    "id": "X7DlyxOmGvZZ"
   },
   "outputs": [],
   "source": []
  },
  {
   "cell_type": "code",
   "execution_count": null,
   "metadata": {
    "id": "1NaJO0k1JwWU"
   },
   "outputs": [],
   "source": [
    "# Setting up model\n",
    "img_width, img_height = 70, 70\n",
    "\n",
    "\n",
    "nb_train_samples = 91166\n",
    "nb_validation_samples = 7500\n",
    "epochs = 100\n",
    "batch_size = 256\n",
    "n_classes = 15\n",
    "input_shape= (img_width, img_height, 1)"
   ]
  },
  {
   "cell_type": "code",
   "execution_count": null,
   "metadata": {
    "id": "3KlifKfyJwWZ"
   },
   "outputs": [],
   "source": []
  },
  {
   "cell_type": "code",
   "execution_count": null,
   "metadata": {
    "id": "8Vbmy_TTJwWZ"
   },
   "outputs": [],
   "source": [
    "model2 = Sequential()\n",
    "\n",
    "model2.add(Conv2D(32, (3,3), activation='relu', input_shape=input_shape))\n",
    "model2.add(layers.BatchNormalization())\n",
    "model2.add(MaxPooling2D(pool_size=(2, 2)))\n",
    "\n",
    "model2.add(Dropout(0.4))\n",
    "\n",
    "model2.add(Conv2D(64, (3,3), activation='relu'))\n",
    "model2.add(layers.BatchNormalization())\n",
    "model2.add(MaxPooling2D(pool_size=(2, 2)))\n",
    "\n",
    "model2.add(Dropout(0.4))\n",
    "\n",
    "model2.add(Conv2D(128, (3,3), activation='relu'))\n",
    "model2.add(layers.BatchNormalization())\n",
    "model2.add(MaxPooling2D(pool_size=(2, 2)))\n",
    "\n",
    "model2.add(Flatten())\n",
    "\n",
    "model2.add(Dense(140, activation='relu'))\n",
    "model2.add(Dropout(0.5))\n",
    "\n",
    "model2.add(Dense(n_classes, activation='softmax'))\n",
    "\n",
    "model2.compile(loss='SparseCategoricalCrossentropy', optimizer='adam', metrics=['accuracy'])\n"
   ]
  },
  {
   "cell_type": "code",
   "execution_count": null,
   "metadata": {
    "id": "HnwOOSzYJwWZ"
   },
   "outputs": [],
   "source": [
    "callbacks = [\n",
    "    keras.callbacks.ModelCheckpoint(\n",
    "        filepath='/content/drive/MyDrive/keras/09_20a3.keras',\n",
    "        save_best_only=True,\n",
    "        monitor='val_accuracy'\n",
    "    )]"
   ]
  },
  {
   "cell_type": "code",
   "execution_count": null,
   "metadata": {
    "colab": {
     "base_uri": "https://localhost:8080/",
     "height": 1000
    },
    "id": "dvBbiG_VJwWa",
    "outputId": "12069707-4988-4bc2-bb92-db9c21953c17"
   },
   "outputs": [
    {
     "name": "stdout",
     "output_type": "stream",
     "text": [
      "Epoch 1/100\n",
      "357/357 [==============================] - 27s 67ms/step - loss: 1.8913 - accuracy: 0.4097 - val_loss: 2.1506 - val_accuracy: 0.2845\n",
      "Epoch 2/100\n",
      "357/357 [==============================] - 25s 69ms/step - loss: 1.3187 - accuracy: 0.5631 - val_loss: 1.1650 - val_accuracy: 0.6055\n",
      "Epoch 3/100\n",
      "357/357 [==============================] - 25s 68ms/step - loss: 1.1551 - accuracy: 0.6125 - val_loss: 1.0460 - val_accuracy: 0.6559\n",
      "Epoch 4/100\n",
      "357/357 [==============================] - 25s 69ms/step - loss: 1.0496 - accuracy: 0.6509 - val_loss: 0.8726 - val_accuracy: 0.7076\n",
      "Epoch 5/100\n",
      "357/357 [==============================] - 25s 69ms/step - loss: 0.9548 - accuracy: 0.6845 - val_loss: 0.8298 - val_accuracy: 0.7160\n",
      "Epoch 6/100\n",
      "357/357 [==============================] - 24s 66ms/step - loss: 0.8891 - accuracy: 0.7066 - val_loss: 1.0098 - val_accuracy: 0.6689\n",
      "Epoch 7/100\n",
      "357/357 [==============================] - 25s 69ms/step - loss: 0.8375 - accuracy: 0.7265 - val_loss: 0.7458 - val_accuracy: 0.7463\n",
      "Epoch 8/100\n",
      "357/357 [==============================] - 25s 69ms/step - loss: 0.7864 - accuracy: 0.7431 - val_loss: 0.6932 - val_accuracy: 0.7747\n",
      "Epoch 9/100\n",
      "357/357 [==============================] - 24s 66ms/step - loss: 0.7514 - accuracy: 0.7543 - val_loss: 0.7193 - val_accuracy: 0.7652\n",
      "Epoch 10/100\n",
      "357/357 [==============================] - 24s 66ms/step - loss: 0.7167 - accuracy: 0.7651 - val_loss: 0.8841 - val_accuracy: 0.7064\n",
      "Epoch 11/100\n",
      "357/357 [==============================] - 24s 66ms/step - loss: 0.6896 - accuracy: 0.7749 - val_loss: 0.7163 - val_accuracy: 0.7645\n",
      "Epoch 12/100\n",
      "357/357 [==============================] - 25s 69ms/step - loss: 0.6605 - accuracy: 0.7835 - val_loss: 0.6246 - val_accuracy: 0.7989\n",
      "Epoch 13/100\n",
      "357/357 [==============================] - 24s 66ms/step - loss: 0.6390 - accuracy: 0.7918 - val_loss: 0.6246 - val_accuracy: 0.7921\n",
      "Epoch 14/100\n",
      "357/357 [==============================] - 24s 66ms/step - loss: 0.6191 - accuracy: 0.7973 - val_loss: 0.6351 - val_accuracy: 0.7900\n",
      "Epoch 15/100\n",
      "357/357 [==============================] - 25s 68ms/step - loss: 0.6013 - accuracy: 0.8032 - val_loss: 0.5965 - val_accuracy: 0.8085\n",
      "Epoch 16/100\n",
      "357/357 [==============================] - 24s 66ms/step - loss: 0.5827 - accuracy: 0.8090 - val_loss: 0.6331 - val_accuracy: 0.7932\n",
      "Epoch 17/100\n",
      "357/357 [==============================] - 25s 68ms/step - loss: 0.5688 - accuracy: 0.8140 - val_loss: 0.6061 - val_accuracy: 0.8105\n",
      "Epoch 18/100\n",
      "357/357 [==============================] - 24s 66ms/step - loss: 0.5511 - accuracy: 0.8181 - val_loss: 0.8877 - val_accuracy: 0.6984\n",
      "Epoch 19/100\n",
      "357/357 [==============================] - 24s 66ms/step - loss: 0.5377 - accuracy: 0.8236 - val_loss: 0.7068 - val_accuracy: 0.7612\n",
      "Epoch 20/100\n",
      "357/357 [==============================] - 25s 69ms/step - loss: 0.5240 - accuracy: 0.8270 - val_loss: 0.5977 - val_accuracy: 0.8153\n",
      "Epoch 21/100\n",
      "357/357 [==============================] - 25s 68ms/step - loss: 0.5102 - accuracy: 0.8294 - val_loss: 0.5717 - val_accuracy: 0.8248\n",
      "Epoch 22/100\n",
      "357/357 [==============================] - 24s 66ms/step - loss: 0.5018 - accuracy: 0.8327 - val_loss: 0.6380 - val_accuracy: 0.8093\n",
      "Epoch 23/100\n",
      "357/357 [==============================] - 24s 66ms/step - loss: 0.4886 - accuracy: 0.8364 - val_loss: 0.6457 - val_accuracy: 0.7999\n",
      "Epoch 24/100\n",
      "357/357 [==============================] - 24s 67ms/step - loss: 0.4783 - accuracy: 0.8416 - val_loss: 0.6152 - val_accuracy: 0.8140\n",
      "Epoch 25/100\n",
      "357/357 [==============================] - 25s 69ms/step - loss: 0.4703 - accuracy: 0.8423 - val_loss: 0.5791 - val_accuracy: 0.8316\n",
      "Epoch 26/100\n",
      "357/357 [==============================] - 24s 67ms/step - loss: 0.4657 - accuracy: 0.8444 - val_loss: 0.7763 - val_accuracy: 0.7433\n",
      "Epoch 27/100\n",
      "357/357 [==============================] - 24s 66ms/step - loss: 0.4531 - accuracy: 0.8473 - val_loss: 0.6279 - val_accuracy: 0.8187\n",
      "Epoch 28/100\n",
      "357/357 [==============================] - 24s 66ms/step - loss: 0.4436 - accuracy: 0.8509 - val_loss: 0.6422 - val_accuracy: 0.8024\n",
      "Epoch 29/100\n",
      "357/357 [==============================] - 24s 66ms/step - loss: 0.4353 - accuracy: 0.8523 - val_loss: 0.5912 - val_accuracy: 0.8229\n",
      "Epoch 30/100\n",
      "357/357 [==============================] - 24s 67ms/step - loss: 0.4294 - accuracy: 0.8552 - val_loss: 0.7210 - val_accuracy: 0.7952\n",
      "Epoch 31/100\n",
      "357/357 [==============================] - 24s 66ms/step - loss: 0.4236 - accuracy: 0.8568 - val_loss: 0.5987 - val_accuracy: 0.8224\n",
      "Epoch 32/100\n",
      "357/357 [==============================] - 24s 66ms/step - loss: 0.4178 - accuracy: 0.8585 - val_loss: 0.6532 - val_accuracy: 0.8039\n",
      "Epoch 33/100\n",
      "357/357 [==============================] - 24s 66ms/step - loss: 0.4116 - accuracy: 0.8590 - val_loss: 0.6025 - val_accuracy: 0.8217\n",
      "Epoch 34/100\n",
      "357/357 [==============================] - 24s 66ms/step - loss: 0.4032 - accuracy: 0.8618 - val_loss: 0.6228 - val_accuracy: 0.8240\n",
      "Epoch 35/100\n",
      "357/357 [==============================] - 24s 66ms/step - loss: 0.3980 - accuracy: 0.8641 - val_loss: 0.6105 - val_accuracy: 0.8247\n",
      "Epoch 36/100\n",
      "357/357 [==============================] - 24s 66ms/step - loss: 0.3921 - accuracy: 0.8649 - val_loss: 0.6423 - val_accuracy: 0.8032\n",
      "Epoch 37/100\n",
      "357/357 [==============================] - 24s 66ms/step - loss: 0.3875 - accuracy: 0.8669 - val_loss: 0.6696 - val_accuracy: 0.8117\n",
      "Epoch 38/100\n",
      "357/357 [==============================] - 24s 66ms/step - loss: 0.3849 - accuracy: 0.8688 - val_loss: 0.5898 - val_accuracy: 0.8287\n",
      "Epoch 39/100\n",
      "357/357 [==============================] - 24s 66ms/step - loss: 0.3778 - accuracy: 0.8704 - val_loss: 0.5908 - val_accuracy: 0.8252\n",
      "Epoch 40/100\n",
      "357/357 [==============================] - 24s 66ms/step - loss: 0.3716 - accuracy: 0.8717 - val_loss: 0.6813 - val_accuracy: 0.8035\n",
      "Epoch 41/100\n",
      "357/357 [==============================] - 24s 66ms/step - loss: 0.3691 - accuracy: 0.8726 - val_loss: 0.6277 - val_accuracy: 0.8252\n",
      "Epoch 42/100\n",
      "357/357 [==============================] - 24s 66ms/step - loss: 0.3621 - accuracy: 0.8757 - val_loss: 0.6314 - val_accuracy: 0.8125\n",
      "Epoch 43/100\n",
      "357/357 [==============================] - 24s 67ms/step - loss: 0.3598 - accuracy: 0.8757 - val_loss: 0.6194 - val_accuracy: 0.8231\n",
      "Epoch 44/100\n",
      "357/357 [==============================] - 25s 69ms/step - loss: 0.3535 - accuracy: 0.8763 - val_loss: 0.6337 - val_accuracy: 0.8320\n",
      "Epoch 45/100\n",
      "357/357 [==============================] - 24s 67ms/step - loss: 0.3499 - accuracy: 0.8780 - val_loss: 0.6721 - val_accuracy: 0.8269\n",
      "Epoch 46/100\n",
      "357/357 [==============================] - 24s 66ms/step - loss: 0.3486 - accuracy: 0.8797 - val_loss: 0.6514 - val_accuracy: 0.8260\n",
      "Epoch 47/100\n",
      "357/357 [==============================] - 25s 69ms/step - loss: 0.3420 - accuracy: 0.8806 - val_loss: 0.6111 - val_accuracy: 0.8327\n",
      "Epoch 48/100\n",
      "357/357 [==============================] - 24s 66ms/step - loss: 0.3411 - accuracy: 0.8809 - val_loss: 0.7028 - val_accuracy: 0.8139\n",
      "Epoch 49/100\n",
      "357/357 [==============================] - 24s 66ms/step - loss: 0.3372 - accuracy: 0.8829 - val_loss: 0.6304 - val_accuracy: 0.8313\n",
      "Epoch 50/100\n",
      "357/357 [==============================] - 24s 66ms/step - loss: 0.3343 - accuracy: 0.8832 - val_loss: 0.7261 - val_accuracy: 0.7912\n",
      "Epoch 51/100\n",
      "357/357 [==============================] - 24s 67ms/step - loss: 0.3287 - accuracy: 0.8844 - val_loss: 0.7616 - val_accuracy: 0.8047\n",
      "Epoch 52/100\n",
      "357/357 [==============================] - 24s 66ms/step - loss: 0.3249 - accuracy: 0.8867 - val_loss: 0.8031 - val_accuracy: 0.7811\n",
      "Epoch 53/100\n",
      "357/357 [==============================] - 24s 66ms/step - loss: 0.3224 - accuracy: 0.8872 - val_loss: 0.7382 - val_accuracy: 0.8139\n",
      "Epoch 54/100\n",
      "357/357 [==============================] - 24s 66ms/step - loss: 0.3202 - accuracy: 0.8865 - val_loss: 0.7612 - val_accuracy: 0.7977\n",
      "Epoch 55/100\n",
      "357/357 [==============================] - 24s 66ms/step - loss: 0.3181 - accuracy: 0.8877 - val_loss: 0.8074 - val_accuracy: 0.8044\n",
      "Epoch 56/100\n",
      "357/357 [==============================] - 24s 66ms/step - loss: 0.3136 - accuracy: 0.8889 - val_loss: 0.7194 - val_accuracy: 0.8184\n",
      "Epoch 57/100\n",
      "357/357 [==============================] - 25s 68ms/step - loss: 0.3136 - accuracy: 0.8902 - val_loss: 0.6654 - val_accuracy: 0.8351\n",
      "Epoch 58/100\n",
      "357/357 [==============================] - 24s 66ms/step - loss: 0.3077 - accuracy: 0.8915 - val_loss: 0.7035 - val_accuracy: 0.8191\n",
      "Epoch 59/100\n",
      "357/357 [==============================] - 24s 66ms/step - loss: 0.3093 - accuracy: 0.8893 - val_loss: 0.6925 - val_accuracy: 0.8319\n",
      "Epoch 60/100\n",
      "357/357 [==============================] - 24s 66ms/step - loss: 0.3036 - accuracy: 0.8936 - val_loss: 0.6659 - val_accuracy: 0.8081\n",
      "Epoch 61/100\n",
      "357/357 [==============================] - 24s 66ms/step - loss: 0.3026 - accuracy: 0.8926 - val_loss: 0.6533 - val_accuracy: 0.8349\n",
      "Epoch 62/100\n",
      "357/357 [==============================] - 24s 66ms/step - loss: 0.2981 - accuracy: 0.8946 - val_loss: 0.7282 - val_accuracy: 0.8272\n",
      "Epoch 63/100\n",
      "357/357 [==============================] - 24s 66ms/step - loss: 0.3015 - accuracy: 0.8933 - val_loss: 0.8122 - val_accuracy: 0.7943\n",
      "Epoch 64/100\n",
      "357/357 [==============================] - 24s 66ms/step - loss: 0.2942 - accuracy: 0.8956 - val_loss: 0.7724 - val_accuracy: 0.8179\n",
      "Epoch 65/100\n",
      "357/357 [==============================] - 24s 66ms/step - loss: 0.2937 - accuracy: 0.8958 - val_loss: 0.7947 - val_accuracy: 0.7989\n",
      "Epoch 66/100\n",
      "357/357 [==============================] - 24s 66ms/step - loss: 0.2917 - accuracy: 0.8974 - val_loss: 0.7180 - val_accuracy: 0.8181\n",
      "Epoch 67/100\n",
      "357/357 [==============================] - 24s 66ms/step - loss: 0.2885 - accuracy: 0.8971 - val_loss: 0.7317 - val_accuracy: 0.8208\n",
      "Epoch 68/100\n",
      "357/357 [==============================] - 24s 66ms/step - loss: 0.2829 - accuracy: 0.8987 - val_loss: 0.7459 - val_accuracy: 0.8292\n",
      "Epoch 69/100\n",
      "357/357 [==============================] - 24s 66ms/step - loss: 0.2839 - accuracy: 0.8986 - val_loss: 0.7243 - val_accuracy: 0.8303\n",
      "Epoch 70/100\n",
      "357/357 [==============================] - 24s 66ms/step - loss: 0.2811 - accuracy: 0.9009 - val_loss: 0.6975 - val_accuracy: 0.8324\n",
      "Epoch 71/100\n",
      "357/357 [==============================] - 24s 66ms/step - loss: 0.2825 - accuracy: 0.8994 - val_loss: 0.7412 - val_accuracy: 0.8245\n",
      "Epoch 72/100\n",
      "357/357 [==============================] - 24s 66ms/step - loss: 0.2808 - accuracy: 0.8990 - val_loss: 0.7141 - val_accuracy: 0.8252\n",
      "Epoch 73/100\n",
      "357/357 [==============================] - 24s 66ms/step - loss: 0.2744 - accuracy: 0.9010 - val_loss: 0.6902 - val_accuracy: 0.8271\n",
      "Epoch 74/100\n",
      "357/357 [==============================] - 25s 69ms/step - loss: 0.2751 - accuracy: 0.9009 - val_loss: 0.7088 - val_accuracy: 0.8353\n",
      "Epoch 75/100\n",
      "357/357 [==============================] - 24s 66ms/step - loss: 0.2737 - accuracy: 0.9025 - val_loss: 0.6696 - val_accuracy: 0.8309\n",
      "Epoch 76/100\n",
      "357/357 [==============================] - 24s 66ms/step - loss: 0.2726 - accuracy: 0.9021 - val_loss: 0.7041 - val_accuracy: 0.8269\n",
      "Epoch 77/100\n",
      "357/357 [==============================] - 24s 67ms/step - loss: 0.2679 - accuracy: 0.9038 - val_loss: 0.9615 - val_accuracy: 0.7851\n",
      "Epoch 78/100\n",
      "357/357 [==============================] - 24s 66ms/step - loss: 0.2690 - accuracy: 0.9032 - val_loss: 0.7289 - val_accuracy: 0.8296\n",
      "Epoch 79/100\n",
      "357/357 [==============================] - 24s 66ms/step - loss: 0.2653 - accuracy: 0.9042 - val_loss: 0.8079 - val_accuracy: 0.8113\n",
      "Epoch 80/100\n",
      " 67/357 [====>.........................] - ETA: 18s - loss: 0.2689 - accuracy: 0.9033"
     ]
    },
    {
     "ename": "KeyboardInterrupt",
     "evalue": "ignored",
     "output_type": "error",
     "traceback": [
      "\u001b[0;31m---------------------------------------------------------------------------\u001b[0m",
      "\u001b[0;31mKeyboardInterrupt\u001b[0m                         Traceback (most recent call last)",
      "\u001b[0;32m<ipython-input-33-e49c13705f69>\u001b[0m in \u001b[0;36m<cell line: 1>\u001b[0;34m()\u001b[0m\n\u001b[0;32m----> 1\u001b[0;31m history2 = model2.fit(\n\u001b[0m\u001b[1;32m      2\u001b[0m     \u001b[0mx\u001b[0m\u001b[0;34m=\u001b[0m\u001b[0mtrain_ds_norm\u001b[0m\u001b[0;34m,\u001b[0m\u001b[0;34m\u001b[0m\u001b[0;34m\u001b[0m\u001b[0m\n\u001b[1;32m      3\u001b[0m     \u001b[0my\u001b[0m\u001b[0;34m=\u001b[0m\u001b[0;32mNone\u001b[0m\u001b[0;34m,\u001b[0m\u001b[0;34m\u001b[0m\u001b[0;34m\u001b[0m\u001b[0m\n\u001b[1;32m      4\u001b[0m     \u001b[0mvalidation_data\u001b[0m\u001b[0;34m=\u001b[0m \u001b[0mval_ds_norm\u001b[0m\u001b[0;34m,\u001b[0m\u001b[0;34m\u001b[0m\u001b[0;34m\u001b[0m\u001b[0m\n\u001b[1;32m      5\u001b[0m     \u001b[0mepochs\u001b[0m\u001b[0;34m=\u001b[0m\u001b[0mepochs\u001b[0m\u001b[0;34m,\u001b[0m\u001b[0;34m\u001b[0m\u001b[0;34m\u001b[0m\u001b[0m\n",
      "\u001b[0;32m/usr/local/lib/python3.10/dist-packages/keras/utils/traceback_utils.py\u001b[0m in \u001b[0;36merror_handler\u001b[0;34m(*args, **kwargs)\u001b[0m\n\u001b[1;32m     63\u001b[0m         \u001b[0mfiltered_tb\u001b[0m \u001b[0;34m=\u001b[0m \u001b[0;32mNone\u001b[0m\u001b[0;34m\u001b[0m\u001b[0;34m\u001b[0m\u001b[0m\n\u001b[1;32m     64\u001b[0m         \u001b[0;32mtry\u001b[0m\u001b[0;34m:\u001b[0m\u001b[0;34m\u001b[0m\u001b[0;34m\u001b[0m\u001b[0m\n\u001b[0;32m---> 65\u001b[0;31m             \u001b[0;32mreturn\u001b[0m \u001b[0mfn\u001b[0m\u001b[0;34m(\u001b[0m\u001b[0;34m*\u001b[0m\u001b[0margs\u001b[0m\u001b[0;34m,\u001b[0m \u001b[0;34m**\u001b[0m\u001b[0mkwargs\u001b[0m\u001b[0;34m)\u001b[0m\u001b[0;34m\u001b[0m\u001b[0;34m\u001b[0m\u001b[0m\n\u001b[0m\u001b[1;32m     66\u001b[0m         \u001b[0;32mexcept\u001b[0m \u001b[0mException\u001b[0m \u001b[0;32mas\u001b[0m \u001b[0me\u001b[0m\u001b[0;34m:\u001b[0m\u001b[0;34m\u001b[0m\u001b[0;34m\u001b[0m\u001b[0m\n\u001b[1;32m     67\u001b[0m             \u001b[0mfiltered_tb\u001b[0m \u001b[0;34m=\u001b[0m \u001b[0m_process_traceback_frames\u001b[0m\u001b[0;34m(\u001b[0m\u001b[0me\u001b[0m\u001b[0;34m.\u001b[0m\u001b[0m__traceback__\u001b[0m\u001b[0;34m)\u001b[0m\u001b[0;34m\u001b[0m\u001b[0;34m\u001b[0m\u001b[0m\n",
      "\u001b[0;32m/usr/local/lib/python3.10/dist-packages/keras/engine/training.py\u001b[0m in \u001b[0;36mfit\u001b[0;34m(self, x, y, batch_size, epochs, verbose, callbacks, validation_split, validation_data, shuffle, class_weight, sample_weight, initial_epoch, steps_per_epoch, validation_steps, validation_batch_size, validation_freq, max_queue_size, workers, use_multiprocessing)\u001b[0m\n\u001b[1;32m   1689\u001b[0m                             \u001b[0mlogs\u001b[0m \u001b[0;34m=\u001b[0m \u001b[0mtmp_logs\u001b[0m\u001b[0;34m\u001b[0m\u001b[0;34m\u001b[0m\u001b[0m\n\u001b[1;32m   1690\u001b[0m                             \u001b[0mend_step\u001b[0m \u001b[0;34m=\u001b[0m \u001b[0mstep\u001b[0m \u001b[0;34m+\u001b[0m \u001b[0mdata_handler\u001b[0m\u001b[0;34m.\u001b[0m\u001b[0mstep_increment\u001b[0m\u001b[0;34m\u001b[0m\u001b[0;34m\u001b[0m\u001b[0m\n\u001b[0;32m-> 1691\u001b[0;31m                             \u001b[0mcallbacks\u001b[0m\u001b[0;34m.\u001b[0m\u001b[0mon_train_batch_end\u001b[0m\u001b[0;34m(\u001b[0m\u001b[0mend_step\u001b[0m\u001b[0;34m,\u001b[0m \u001b[0mlogs\u001b[0m\u001b[0;34m)\u001b[0m\u001b[0;34m\u001b[0m\u001b[0;34m\u001b[0m\u001b[0m\n\u001b[0m\u001b[1;32m   1692\u001b[0m                             \u001b[0;32mif\u001b[0m \u001b[0mself\u001b[0m\u001b[0;34m.\u001b[0m\u001b[0mstop_training\u001b[0m\u001b[0;34m:\u001b[0m\u001b[0;34m\u001b[0m\u001b[0;34m\u001b[0m\u001b[0m\n\u001b[1;32m   1693\u001b[0m                                 \u001b[0;32mbreak\u001b[0m\u001b[0;34m\u001b[0m\u001b[0;34m\u001b[0m\u001b[0m\n",
      "\u001b[0;32m/usr/local/lib/python3.10/dist-packages/keras/callbacks.py\u001b[0m in \u001b[0;36mon_train_batch_end\u001b[0;34m(self, batch, logs)\u001b[0m\n\u001b[1;32m    473\u001b[0m         \"\"\"\n\u001b[1;32m    474\u001b[0m         \u001b[0;32mif\u001b[0m \u001b[0mself\u001b[0m\u001b[0;34m.\u001b[0m\u001b[0m_should_call_train_batch_hooks\u001b[0m\u001b[0;34m:\u001b[0m\u001b[0;34m\u001b[0m\u001b[0;34m\u001b[0m\u001b[0m\n\u001b[0;32m--> 475\u001b[0;31m             \u001b[0mself\u001b[0m\u001b[0;34m.\u001b[0m\u001b[0m_call_batch_hook\u001b[0m\u001b[0;34m(\u001b[0m\u001b[0mModeKeys\u001b[0m\u001b[0;34m.\u001b[0m\u001b[0mTRAIN\u001b[0m\u001b[0;34m,\u001b[0m \u001b[0;34m\"end\"\u001b[0m\u001b[0;34m,\u001b[0m \u001b[0mbatch\u001b[0m\u001b[0;34m,\u001b[0m \u001b[0mlogs\u001b[0m\u001b[0;34m=\u001b[0m\u001b[0mlogs\u001b[0m\u001b[0;34m)\u001b[0m\u001b[0;34m\u001b[0m\u001b[0;34m\u001b[0m\u001b[0m\n\u001b[0m\u001b[1;32m    476\u001b[0m \u001b[0;34m\u001b[0m\u001b[0m\n\u001b[1;32m    477\u001b[0m     \u001b[0;32mdef\u001b[0m \u001b[0mon_test_batch_begin\u001b[0m\u001b[0;34m(\u001b[0m\u001b[0mself\u001b[0m\u001b[0;34m,\u001b[0m \u001b[0mbatch\u001b[0m\u001b[0;34m,\u001b[0m \u001b[0mlogs\u001b[0m\u001b[0;34m=\u001b[0m\u001b[0;32mNone\u001b[0m\u001b[0;34m)\u001b[0m\u001b[0;34m:\u001b[0m\u001b[0;34m\u001b[0m\u001b[0;34m\u001b[0m\u001b[0m\n",
      "\u001b[0;32m/usr/local/lib/python3.10/dist-packages/keras/callbacks.py\u001b[0m in \u001b[0;36m_call_batch_hook\u001b[0;34m(self, mode, hook, batch, logs)\u001b[0m\n\u001b[1;32m    320\u001b[0m             \u001b[0mself\u001b[0m\u001b[0;34m.\u001b[0m\u001b[0m_call_batch_begin_hook\u001b[0m\u001b[0;34m(\u001b[0m\u001b[0mmode\u001b[0m\u001b[0;34m,\u001b[0m \u001b[0mbatch\u001b[0m\u001b[0;34m,\u001b[0m \u001b[0mlogs\u001b[0m\u001b[0;34m)\u001b[0m\u001b[0;34m\u001b[0m\u001b[0;34m\u001b[0m\u001b[0m\n\u001b[1;32m    321\u001b[0m         \u001b[0;32melif\u001b[0m \u001b[0mhook\u001b[0m \u001b[0;34m==\u001b[0m \u001b[0;34m\"end\"\u001b[0m\u001b[0;34m:\u001b[0m\u001b[0;34m\u001b[0m\u001b[0;34m\u001b[0m\u001b[0m\n\u001b[0;32m--> 322\u001b[0;31m             \u001b[0mself\u001b[0m\u001b[0;34m.\u001b[0m\u001b[0m_call_batch_end_hook\u001b[0m\u001b[0;34m(\u001b[0m\u001b[0mmode\u001b[0m\u001b[0;34m,\u001b[0m \u001b[0mbatch\u001b[0m\u001b[0;34m,\u001b[0m \u001b[0mlogs\u001b[0m\u001b[0;34m)\u001b[0m\u001b[0;34m\u001b[0m\u001b[0;34m\u001b[0m\u001b[0m\n\u001b[0m\u001b[1;32m    323\u001b[0m         \u001b[0;32melse\u001b[0m\u001b[0;34m:\u001b[0m\u001b[0;34m\u001b[0m\u001b[0;34m\u001b[0m\u001b[0m\n\u001b[1;32m    324\u001b[0m             raise ValueError(\n",
      "\u001b[0;32m/usr/local/lib/python3.10/dist-packages/keras/callbacks.py\u001b[0m in \u001b[0;36m_call_batch_end_hook\u001b[0;34m(self, mode, batch, logs)\u001b[0m\n\u001b[1;32m    343\u001b[0m             \u001b[0mself\u001b[0m\u001b[0;34m.\u001b[0m\u001b[0m_batch_times\u001b[0m\u001b[0;34m.\u001b[0m\u001b[0mappend\u001b[0m\u001b[0;34m(\u001b[0m\u001b[0mbatch_time\u001b[0m\u001b[0;34m)\u001b[0m\u001b[0;34m\u001b[0m\u001b[0;34m\u001b[0m\u001b[0m\n\u001b[1;32m    344\u001b[0m \u001b[0;34m\u001b[0m\u001b[0m\n\u001b[0;32m--> 345\u001b[0;31m         \u001b[0mself\u001b[0m\u001b[0;34m.\u001b[0m\u001b[0m_call_batch_hook_helper\u001b[0m\u001b[0;34m(\u001b[0m\u001b[0mhook_name\u001b[0m\u001b[0;34m,\u001b[0m \u001b[0mbatch\u001b[0m\u001b[0;34m,\u001b[0m \u001b[0mlogs\u001b[0m\u001b[0;34m)\u001b[0m\u001b[0;34m\u001b[0m\u001b[0;34m\u001b[0m\u001b[0m\n\u001b[0m\u001b[1;32m    346\u001b[0m \u001b[0;34m\u001b[0m\u001b[0m\n\u001b[1;32m    347\u001b[0m         \u001b[0;32mif\u001b[0m \u001b[0mlen\u001b[0m\u001b[0;34m(\u001b[0m\u001b[0mself\u001b[0m\u001b[0;34m.\u001b[0m\u001b[0m_batch_times\u001b[0m\u001b[0;34m)\u001b[0m \u001b[0;34m>=\u001b[0m \u001b[0mself\u001b[0m\u001b[0;34m.\u001b[0m\u001b[0m_num_batches_for_timing_check\u001b[0m\u001b[0;34m:\u001b[0m\u001b[0;34m\u001b[0m\u001b[0;34m\u001b[0m\u001b[0m\n",
      "\u001b[0;32m/usr/local/lib/python3.10/dist-packages/keras/callbacks.py\u001b[0m in \u001b[0;36m_call_batch_hook_helper\u001b[0;34m(self, hook_name, batch, logs)\u001b[0m\n\u001b[1;32m    391\u001b[0m         \u001b[0;32mfor\u001b[0m \u001b[0mcallback\u001b[0m \u001b[0;32min\u001b[0m \u001b[0mself\u001b[0m\u001b[0;34m.\u001b[0m\u001b[0mcallbacks\u001b[0m\u001b[0;34m:\u001b[0m\u001b[0;34m\u001b[0m\u001b[0;34m\u001b[0m\u001b[0m\n\u001b[1;32m    392\u001b[0m             \u001b[0mhook\u001b[0m \u001b[0;34m=\u001b[0m \u001b[0mgetattr\u001b[0m\u001b[0;34m(\u001b[0m\u001b[0mcallback\u001b[0m\u001b[0;34m,\u001b[0m \u001b[0mhook_name\u001b[0m\u001b[0;34m)\u001b[0m\u001b[0;34m\u001b[0m\u001b[0;34m\u001b[0m\u001b[0m\n\u001b[0;32m--> 393\u001b[0;31m             \u001b[0mhook\u001b[0m\u001b[0;34m(\u001b[0m\u001b[0mbatch\u001b[0m\u001b[0;34m,\u001b[0m \u001b[0mlogs\u001b[0m\u001b[0;34m)\u001b[0m\u001b[0;34m\u001b[0m\u001b[0;34m\u001b[0m\u001b[0m\n\u001b[0m\u001b[1;32m    394\u001b[0m \u001b[0;34m\u001b[0m\u001b[0m\n\u001b[1;32m    395\u001b[0m         \u001b[0;32mif\u001b[0m \u001b[0mself\u001b[0m\u001b[0;34m.\u001b[0m\u001b[0m_check_timing\u001b[0m\u001b[0;34m:\u001b[0m\u001b[0;34m\u001b[0m\u001b[0;34m\u001b[0m\u001b[0m\n",
      "\u001b[0;32m/usr/local/lib/python3.10/dist-packages/keras/callbacks.py\u001b[0m in \u001b[0;36mon_train_batch_end\u001b[0;34m(self, batch, logs)\u001b[0m\n\u001b[1;32m   1091\u001b[0m \u001b[0;34m\u001b[0m\u001b[0m\n\u001b[1;32m   1092\u001b[0m     \u001b[0;32mdef\u001b[0m \u001b[0mon_train_batch_end\u001b[0m\u001b[0;34m(\u001b[0m\u001b[0mself\u001b[0m\u001b[0;34m,\u001b[0m \u001b[0mbatch\u001b[0m\u001b[0;34m,\u001b[0m \u001b[0mlogs\u001b[0m\u001b[0;34m=\u001b[0m\u001b[0;32mNone\u001b[0m\u001b[0;34m)\u001b[0m\u001b[0;34m:\u001b[0m\u001b[0;34m\u001b[0m\u001b[0;34m\u001b[0m\u001b[0m\n\u001b[0;32m-> 1093\u001b[0;31m         \u001b[0mself\u001b[0m\u001b[0;34m.\u001b[0m\u001b[0m_batch_update_progbar\u001b[0m\u001b[0;34m(\u001b[0m\u001b[0mbatch\u001b[0m\u001b[0;34m,\u001b[0m \u001b[0mlogs\u001b[0m\u001b[0;34m)\u001b[0m\u001b[0;34m\u001b[0m\u001b[0;34m\u001b[0m\u001b[0m\n\u001b[0m\u001b[1;32m   1094\u001b[0m \u001b[0;34m\u001b[0m\u001b[0m\n\u001b[1;32m   1095\u001b[0m     \u001b[0;32mdef\u001b[0m \u001b[0mon_test_batch_end\u001b[0m\u001b[0;34m(\u001b[0m\u001b[0mself\u001b[0m\u001b[0;34m,\u001b[0m \u001b[0mbatch\u001b[0m\u001b[0;34m,\u001b[0m \u001b[0mlogs\u001b[0m\u001b[0;34m=\u001b[0m\u001b[0;32mNone\u001b[0m\u001b[0;34m)\u001b[0m\u001b[0;34m:\u001b[0m\u001b[0;34m\u001b[0m\u001b[0;34m\u001b[0m\u001b[0m\n",
      "\u001b[0;32m/usr/local/lib/python3.10/dist-packages/keras/callbacks.py\u001b[0m in \u001b[0;36m_batch_update_progbar\u001b[0;34m(self, batch, logs)\u001b[0m\n\u001b[1;32m   1167\u001b[0m         \u001b[0;32mif\u001b[0m \u001b[0mself\u001b[0m\u001b[0;34m.\u001b[0m\u001b[0mverbose\u001b[0m \u001b[0;34m==\u001b[0m \u001b[0;36m1\u001b[0m\u001b[0;34m:\u001b[0m\u001b[0;34m\u001b[0m\u001b[0;34m\u001b[0m\u001b[0m\n\u001b[1;32m   1168\u001b[0m             \u001b[0;31m# Only block async when verbose = 1.\u001b[0m\u001b[0;34m\u001b[0m\u001b[0;34m\u001b[0m\u001b[0m\n\u001b[0;32m-> 1169\u001b[0;31m             \u001b[0mlogs\u001b[0m \u001b[0;34m=\u001b[0m \u001b[0mtf_utils\u001b[0m\u001b[0;34m.\u001b[0m\u001b[0msync_to_numpy_or_python_type\u001b[0m\u001b[0;34m(\u001b[0m\u001b[0mlogs\u001b[0m\u001b[0;34m)\u001b[0m\u001b[0;34m\u001b[0m\u001b[0;34m\u001b[0m\u001b[0m\n\u001b[0m\u001b[1;32m   1170\u001b[0m             \u001b[0mself\u001b[0m\u001b[0;34m.\u001b[0m\u001b[0mprogbar\u001b[0m\u001b[0;34m.\u001b[0m\u001b[0mupdate\u001b[0m\u001b[0;34m(\u001b[0m\u001b[0mself\u001b[0m\u001b[0;34m.\u001b[0m\u001b[0mseen\u001b[0m\u001b[0;34m,\u001b[0m \u001b[0mlist\u001b[0m\u001b[0;34m(\u001b[0m\u001b[0mlogs\u001b[0m\u001b[0;34m.\u001b[0m\u001b[0mitems\u001b[0m\u001b[0;34m(\u001b[0m\u001b[0;34m)\u001b[0m\u001b[0;34m)\u001b[0m\u001b[0;34m,\u001b[0m \u001b[0mfinalize\u001b[0m\u001b[0;34m=\u001b[0m\u001b[0;32mFalse\u001b[0m\u001b[0;34m)\u001b[0m\u001b[0;34m\u001b[0m\u001b[0;34m\u001b[0m\u001b[0m\n\u001b[1;32m   1171\u001b[0m \u001b[0;34m\u001b[0m\u001b[0m\n",
      "\u001b[0;32m/usr/local/lib/python3.10/dist-packages/keras/utils/tf_utils.py\u001b[0m in \u001b[0;36msync_to_numpy_or_python_type\u001b[0;34m(tensors)\u001b[0m\n\u001b[1;32m    678\u001b[0m         \u001b[0;32mreturn\u001b[0m \u001b[0mt\u001b[0m\u001b[0;34m.\u001b[0m\u001b[0mitem\u001b[0m\u001b[0;34m(\u001b[0m\u001b[0;34m)\u001b[0m \u001b[0;32mif\u001b[0m \u001b[0mnp\u001b[0m\u001b[0;34m.\u001b[0m\u001b[0mndim\u001b[0m\u001b[0;34m(\u001b[0m\u001b[0mt\u001b[0m\u001b[0;34m)\u001b[0m \u001b[0;34m==\u001b[0m \u001b[0;36m0\u001b[0m \u001b[0;32melse\u001b[0m \u001b[0mt\u001b[0m\u001b[0;34m\u001b[0m\u001b[0;34m\u001b[0m\u001b[0m\n\u001b[1;32m    679\u001b[0m \u001b[0;34m\u001b[0m\u001b[0m\n\u001b[0;32m--> 680\u001b[0;31m     \u001b[0;32mreturn\u001b[0m \u001b[0mtf\u001b[0m\u001b[0;34m.\u001b[0m\u001b[0mnest\u001b[0m\u001b[0;34m.\u001b[0m\u001b[0mmap_structure\u001b[0m\u001b[0;34m(\u001b[0m\u001b[0m_to_single_numpy_or_python_type\u001b[0m\u001b[0;34m,\u001b[0m \u001b[0mtensors\u001b[0m\u001b[0;34m)\u001b[0m\u001b[0;34m\u001b[0m\u001b[0;34m\u001b[0m\u001b[0m\n\u001b[0m\u001b[1;32m    681\u001b[0m \u001b[0;34m\u001b[0m\u001b[0m\n\u001b[1;32m    682\u001b[0m \u001b[0;34m\u001b[0m\u001b[0m\n",
      "\u001b[0;32m/usr/local/lib/python3.10/dist-packages/tensorflow/python/util/nest.py\u001b[0m in \u001b[0;36mmap_structure\u001b[0;34m(func, *structure, **kwargs)\u001b[0m\n\u001b[1;32m    915\u001b[0m \u001b[0;34m\u001b[0m\u001b[0m\n\u001b[1;32m    916\u001b[0m   return pack_sequence_as(\n\u001b[0;32m--> 917\u001b[0;31m       \u001b[0mstructure\u001b[0m\u001b[0;34m[\u001b[0m\u001b[0;36m0\u001b[0m\u001b[0;34m]\u001b[0m\u001b[0;34m,\u001b[0m \u001b[0;34m[\u001b[0m\u001b[0mfunc\u001b[0m\u001b[0;34m(\u001b[0m\u001b[0;34m*\u001b[0m\u001b[0mx\u001b[0m\u001b[0;34m)\u001b[0m \u001b[0;32mfor\u001b[0m \u001b[0mx\u001b[0m \u001b[0;32min\u001b[0m \u001b[0mentries\u001b[0m\u001b[0;34m]\u001b[0m\u001b[0;34m,\u001b[0m\u001b[0;34m\u001b[0m\u001b[0;34m\u001b[0m\u001b[0m\n\u001b[0m\u001b[1;32m    918\u001b[0m       expand_composites=expand_composites)\n\u001b[1;32m    919\u001b[0m \u001b[0;34m\u001b[0m\u001b[0m\n",
      "\u001b[0;32m/usr/local/lib/python3.10/dist-packages/tensorflow/python/util/nest.py\u001b[0m in \u001b[0;36m<listcomp>\u001b[0;34m(.0)\u001b[0m\n\u001b[1;32m    915\u001b[0m \u001b[0;34m\u001b[0m\u001b[0m\n\u001b[1;32m    916\u001b[0m   return pack_sequence_as(\n\u001b[0;32m--> 917\u001b[0;31m       \u001b[0mstructure\u001b[0m\u001b[0;34m[\u001b[0m\u001b[0;36m0\u001b[0m\u001b[0;34m]\u001b[0m\u001b[0;34m,\u001b[0m \u001b[0;34m[\u001b[0m\u001b[0mfunc\u001b[0m\u001b[0;34m(\u001b[0m\u001b[0;34m*\u001b[0m\u001b[0mx\u001b[0m\u001b[0;34m)\u001b[0m \u001b[0;32mfor\u001b[0m \u001b[0mx\u001b[0m \u001b[0;32min\u001b[0m \u001b[0mentries\u001b[0m\u001b[0;34m]\u001b[0m\u001b[0;34m,\u001b[0m\u001b[0;34m\u001b[0m\u001b[0;34m\u001b[0m\u001b[0m\n\u001b[0m\u001b[1;32m    918\u001b[0m       expand_composites=expand_composites)\n\u001b[1;32m    919\u001b[0m \u001b[0;34m\u001b[0m\u001b[0m\n",
      "\u001b[0;32m/usr/local/lib/python3.10/dist-packages/keras/utils/tf_utils.py\u001b[0m in \u001b[0;36m_to_single_numpy_or_python_type\u001b[0;34m(t)\u001b[0m\n\u001b[1;32m    671\u001b[0m         \u001b[0;31m# Don't turn ragged or sparse tensors to NumPy.\u001b[0m\u001b[0;34m\u001b[0m\u001b[0;34m\u001b[0m\u001b[0m\n\u001b[1;32m    672\u001b[0m         \u001b[0;32mif\u001b[0m \u001b[0misinstance\u001b[0m\u001b[0;34m(\u001b[0m\u001b[0mt\u001b[0m\u001b[0;34m,\u001b[0m \u001b[0mtf\u001b[0m\u001b[0;34m.\u001b[0m\u001b[0mTensor\u001b[0m\u001b[0;34m)\u001b[0m\u001b[0;34m:\u001b[0m\u001b[0;34m\u001b[0m\u001b[0;34m\u001b[0m\u001b[0m\n\u001b[0;32m--> 673\u001b[0;31m             \u001b[0mt\u001b[0m \u001b[0;34m=\u001b[0m \u001b[0mt\u001b[0m\u001b[0;34m.\u001b[0m\u001b[0mnumpy\u001b[0m\u001b[0;34m(\u001b[0m\u001b[0;34m)\u001b[0m\u001b[0;34m\u001b[0m\u001b[0;34m\u001b[0m\u001b[0m\n\u001b[0m\u001b[1;32m    674\u001b[0m         \u001b[0;31m# Strings, ragged and sparse tensors don't have .item(). Return them\u001b[0m\u001b[0;34m\u001b[0m\u001b[0;34m\u001b[0m\u001b[0m\n\u001b[1;32m    675\u001b[0m         \u001b[0;31m# as-is.\u001b[0m\u001b[0;34m\u001b[0m\u001b[0;34m\u001b[0m\u001b[0m\n",
      "\u001b[0;32m/usr/local/lib/python3.10/dist-packages/tensorflow/python/framework/ops.py\u001b[0m in \u001b[0;36mnumpy\u001b[0;34m(self)\u001b[0m\n\u001b[1;32m   1158\u001b[0m     \"\"\"\n\u001b[1;32m   1159\u001b[0m     \u001b[0;31m# TODO(slebedev): Consider avoiding a copy for non-CPU or remote tensors.\u001b[0m\u001b[0;34m\u001b[0m\u001b[0;34m\u001b[0m\u001b[0m\n\u001b[0;32m-> 1160\u001b[0;31m     \u001b[0mmaybe_arr\u001b[0m \u001b[0;34m=\u001b[0m \u001b[0mself\u001b[0m\u001b[0;34m.\u001b[0m\u001b[0m_numpy\u001b[0m\u001b[0;34m(\u001b[0m\u001b[0;34m)\u001b[0m  \u001b[0;31m# pylint: disable=protected-access\u001b[0m\u001b[0;34m\u001b[0m\u001b[0;34m\u001b[0m\u001b[0m\n\u001b[0m\u001b[1;32m   1161\u001b[0m     \u001b[0;32mreturn\u001b[0m \u001b[0mmaybe_arr\u001b[0m\u001b[0;34m.\u001b[0m\u001b[0mcopy\u001b[0m\u001b[0;34m(\u001b[0m\u001b[0;34m)\u001b[0m \u001b[0;32mif\u001b[0m \u001b[0misinstance\u001b[0m\u001b[0;34m(\u001b[0m\u001b[0mmaybe_arr\u001b[0m\u001b[0;34m,\u001b[0m \u001b[0mnp\u001b[0m\u001b[0;34m.\u001b[0m\u001b[0mndarray\u001b[0m\u001b[0;34m)\u001b[0m \u001b[0;32melse\u001b[0m \u001b[0mmaybe_arr\u001b[0m\u001b[0;34m\u001b[0m\u001b[0;34m\u001b[0m\u001b[0m\n\u001b[1;32m   1162\u001b[0m \u001b[0;34m\u001b[0m\u001b[0m\n",
      "\u001b[0;32m/usr/local/lib/python3.10/dist-packages/tensorflow/python/framework/ops.py\u001b[0m in \u001b[0;36m_numpy\u001b[0;34m(self)\u001b[0m\n\u001b[1;32m   1124\u001b[0m   \u001b[0;32mdef\u001b[0m \u001b[0m_numpy\u001b[0m\u001b[0;34m(\u001b[0m\u001b[0mself\u001b[0m\u001b[0;34m)\u001b[0m\u001b[0;34m:\u001b[0m\u001b[0;34m\u001b[0m\u001b[0;34m\u001b[0m\u001b[0m\n\u001b[1;32m   1125\u001b[0m     \u001b[0;32mtry\u001b[0m\u001b[0;34m:\u001b[0m\u001b[0;34m\u001b[0m\u001b[0;34m\u001b[0m\u001b[0m\n\u001b[0;32m-> 1126\u001b[0;31m       \u001b[0;32mreturn\u001b[0m \u001b[0mself\u001b[0m\u001b[0;34m.\u001b[0m\u001b[0m_numpy_internal\u001b[0m\u001b[0;34m(\u001b[0m\u001b[0;34m)\u001b[0m\u001b[0;34m\u001b[0m\u001b[0;34m\u001b[0m\u001b[0m\n\u001b[0m\u001b[1;32m   1127\u001b[0m     \u001b[0;32mexcept\u001b[0m \u001b[0mcore\u001b[0m\u001b[0;34m.\u001b[0m\u001b[0m_NotOkStatusException\u001b[0m \u001b[0;32mas\u001b[0m \u001b[0me\u001b[0m\u001b[0;34m:\u001b[0m  \u001b[0;31m# pylint: disable=protected-access\u001b[0m\u001b[0;34m\u001b[0m\u001b[0;34m\u001b[0m\u001b[0m\n\u001b[1;32m   1128\u001b[0m       \u001b[0;32mraise\u001b[0m \u001b[0mcore\u001b[0m\u001b[0;34m.\u001b[0m\u001b[0m_status_to_exception\u001b[0m\u001b[0;34m(\u001b[0m\u001b[0me\u001b[0m\u001b[0;34m)\u001b[0m \u001b[0;32mfrom\u001b[0m \u001b[0;32mNone\u001b[0m  \u001b[0;31m# pylint: disable=protected-access\u001b[0m\u001b[0;34m\u001b[0m\u001b[0;34m\u001b[0m\u001b[0m\n",
      "\u001b[0;31mKeyboardInterrupt\u001b[0m: "
     ]
    }
   ],
   "source": [
    "history2 = model2.fit(\n",
    "    x=train_ds_norm,\n",
    "    y=None,\n",
    "    validation_data= val_ds_norm,\n",
    "    epochs=epochs,\n",
    "    verbose=\"auto\",\n",
    "    callbacks=callbacks,\n",
    "    validation_split=0.0,\n",
    "    shuffle=True,\n",
    "    validation_freq=1,\n",
    "    batch_size = batch_size\n",
    "    )"
   ]
  },
  {
   "cell_type": "code",
   "execution_count": null,
   "metadata": {
    "id": "xTY5DRPMKXEr"
   },
   "outputs": [],
   "source": []
  },
  {
   "cell_type": "code",
   "execution_count": null,
   "metadata": {
    "colab": {
     "base_uri": "https://localhost:8080/"
    },
    "id": "_gmMYhrAKXN4",
    "outputId": "10666264-e7be-4a1d-ca7e-80179b5e1f61"
   },
   "outputs": [
    {
     "name": "stdout",
     "output_type": "stream",
     "text": [
      "30/30 - 2s - loss: 0.7846 - accuracy: 0.8273 - 2s/epoch - 51ms/step\n"
     ]
    }
   ],
   "source": [
    "loss, acc = model2.evaluate(x=test_ds_norm, y=None, verbose=2)"
   ]
  },
  {
   "cell_type": "code",
   "execution_count": null,
   "metadata": {
    "id": "nZR7tTBDKXN5"
   },
   "outputs": [],
   "source": [
    "model2.save('model_9_20a3.keras')"
   ]
  },
  {
   "cell_type": "code",
   "execution_count": null,
   "metadata": {
    "colab": {
     "base_uri": "https://localhost:8080/",
     "height": 266
    },
    "id": "slj0JxuyKXN5",
    "outputId": "f4a9838c-5313-485e-d7d5-691dac05f423"
   },
   "outputs": [
    {
     "ename": "NameError",
     "evalue": "ignored",
     "output_type": "error",
     "traceback": [
      "\u001b[0;31m---------------------------------------------------------------------------\u001b[0m",
      "\u001b[0;31mNameError\u001b[0m                                 Traceback (most recent call last)",
      "\u001b[0;32m<ipython-input-38-70f20b144c79>\u001b[0m in \u001b[0;36m<cell line: 1>\u001b[0;34m()\u001b[0m\n\u001b[0;32m----> 1\u001b[0;31m \u001b[0maccuracy\u001b[0m \u001b[0;34m=\u001b[0m \u001b[0mhistory2\u001b[0m\u001b[0;34m.\u001b[0m\u001b[0mhistory\u001b[0m\u001b[0;34m[\u001b[0m\u001b[0;34m'accuracy'\u001b[0m\u001b[0;34m]\u001b[0m\u001b[0;34m\u001b[0m\u001b[0;34m\u001b[0m\u001b[0m\n\u001b[0m\u001b[1;32m      2\u001b[0m \u001b[0mval_accuracy\u001b[0m \u001b[0;34m=\u001b[0m \u001b[0mhistory2\u001b[0m\u001b[0;34m.\u001b[0m\u001b[0mhistory\u001b[0m\u001b[0;34m[\u001b[0m\u001b[0;34m'val_accuracy'\u001b[0m\u001b[0;34m]\u001b[0m\u001b[0;34m\u001b[0m\u001b[0;34m\u001b[0m\u001b[0m\n\u001b[1;32m      3\u001b[0m \u001b[0mloss\u001b[0m \u001b[0;34m=\u001b[0m \u001b[0mhistory2\u001b[0m\u001b[0;34m.\u001b[0m\u001b[0mhistory\u001b[0m\u001b[0;34m[\u001b[0m\u001b[0;34m'loss'\u001b[0m\u001b[0;34m]\u001b[0m\u001b[0;34m\u001b[0m\u001b[0;34m\u001b[0m\u001b[0m\n\u001b[1;32m      4\u001b[0m \u001b[0mval_loss\u001b[0m \u001b[0;34m=\u001b[0m \u001b[0mhistory2\u001b[0m\u001b[0;34m.\u001b[0m\u001b[0mhistory\u001b[0m\u001b[0;34m[\u001b[0m\u001b[0;34m'val_loss'\u001b[0m\u001b[0;34m]\u001b[0m\u001b[0;34m\u001b[0m\u001b[0;34m\u001b[0m\u001b[0m\n\u001b[1;32m      5\u001b[0m \u001b[0mepochs\u001b[0m \u001b[0;34m=\u001b[0m \u001b[0mrange\u001b[0m\u001b[0;34m(\u001b[0m\u001b[0;36m1\u001b[0m\u001b[0;34m,\u001b[0m \u001b[0mlen\u001b[0m\u001b[0;34m(\u001b[0m\u001b[0maccuracy\u001b[0m\u001b[0;34m)\u001b[0m \u001b[0;34m+\u001b[0m \u001b[0;36m1\u001b[0m\u001b[0;34m)\u001b[0m\u001b[0;34m\u001b[0m\u001b[0;34m\u001b[0m\u001b[0m\n",
      "\u001b[0;31mNameError\u001b[0m: name 'history2' is not defined"
     ]
    }
   ],
   "source": [
    "accuracy = history2.history['accuracy']\n",
    "val_accuracy = history2.history['val_accuracy']\n",
    "loss = history2.history['loss']\n",
    "val_loss = history2.history['val_loss']\n",
    "epochs = range(1, len(accuracy) + 1)\n",
    "plt.plot(epochs, accuracy, 'go', label='Training accuracy')\n",
    "plt.plot(epochs, val_accuracy, 'g', label='Validation accuracy')\n",
    "plt.legend()\n",
    "plt.figure()\n",
    "plt.plot(epochs, loss, 'go', label='Training loss')\n",
    "plt.plot(epochs, val_loss, 'g', label='Validation loss')\n",
    "plt.legend()\n",
    "plt.show()"
   ]
  },
  {
   "cell_type": "code",
   "execution_count": null,
   "metadata": {
    "id": "ay23prpaPu1X"
   },
   "outputs": [],
   "source": []
  },
  {
   "cell_type": "code",
   "execution_count": null,
   "metadata": {
    "id": "cAqf7zVdRyp_"
   },
   "outputs": [],
   "source": [
    "# Setting up model\n",
    "img_width, img_height = 70, 70\n",
    "\n",
    "\n",
    "nb_train_samples = 91166\n",
    "nb_validation_samples = 7500\n",
    "epochs = 100\n",
    "batch_size = 256\n",
    "n_classes = 15\n",
    "input_shape= (img_width, img_height, 1)"
   ]
  },
  {
   "cell_type": "code",
   "execution_count": null,
   "metadata": {
    "id": "CSL9n6N4RyqE"
   },
   "outputs": [],
   "source": []
  },
  {
   "cell_type": "code",
   "execution_count": null,
   "metadata": {
    "id": "RdVkj3PpRyqE"
   },
   "outputs": [],
   "source": [
    "model3 = Sequential()\n",
    "\n",
    "model3.add(Conv2D(32, (3,3), activation='relu', input_shape=input_shape))\n",
    "model3.add(layers.BatchNormalization())\n",
    "model3.add(MaxPooling2D(pool_size=(2, 2)))\n",
    "\n",
    "model3.add(Dropout(0.5))\n",
    "\n",
    "model3.add(Conv2D(64, (3,3), activation='relu'))\n",
    "model3.add(layers.BatchNormalization())\n",
    "model3.add(MaxPooling2D(pool_size=(2, 2)))\n",
    "\n",
    "model3.add(Dropout(0.5))\n",
    "\n",
    "model3.add(Conv2D(128, (3,3), activation='relu'))\n",
    "model3.add(layers.BatchNormalization())\n",
    "model3.add(MaxPooling2D(pool_size=(2, 2)))\n",
    "\n",
    "model3.add(Flatten())\n",
    "\n",
    "model3.add(Dense(140, activation='relu'))\n",
    "model3.add(Dropout(0.5))\n",
    "\n",
    "model3.add(Dense(n_classes, activation='softmax'))\n",
    "\n",
    "model3.compile(loss='SparseCategoricalCrossentropy', optimizer='adam', metrics=['accuracy'])\n"
   ]
  },
  {
   "cell_type": "code",
   "execution_count": null,
   "metadata": {
    "id": "UJzuJrq4RyqF"
   },
   "outputs": [],
   "source": [
    "callbacks = [\n",
    "    keras.callbacks.ModelCheckpoint(\n",
    "        filepath='/content/drive/MyDrive/keras/09_20a4.keras',\n",
    "        save_best_only=True,\n",
    "        monitor='val_accuracy'\n",
    "    )]"
   ]
  },
  {
   "cell_type": "code",
   "execution_count": null,
   "metadata": {
    "colab": {
     "base_uri": "https://localhost:8080/"
    },
    "id": "p_jXl-KmRyqF",
    "outputId": "7cc219fe-ec33-4e69-c94d-ad3d46d9d30b"
   },
   "outputs": [
    {
     "name": "stdout",
     "output_type": "stream",
     "text": [
      "Epoch 1/100\n",
      "357/357 [==============================] - 27s 67ms/step - loss: 1.9007 - accuracy: 0.3962 - val_loss: 2.3482 - val_accuracy: 0.2857\n",
      "Epoch 2/100\n",
      "357/357 [==============================] - 25s 69ms/step - loss: 1.3705 - accuracy: 0.5406 - val_loss: 1.2979 - val_accuracy: 0.5649\n",
      "Epoch 3/100\n",
      "357/357 [==============================] - 25s 68ms/step - loss: 1.2090 - accuracy: 0.5948 - val_loss: 1.1048 - val_accuracy: 0.6235\n",
      "Epoch 4/100\n",
      "357/357 [==============================] - 25s 68ms/step - loss: 1.0913 - accuracy: 0.6342 - val_loss: 0.8861 - val_accuracy: 0.7009\n",
      "Epoch 5/100\n",
      "357/357 [==============================] - 24s 66ms/step - loss: 1.0123 - accuracy: 0.6658 - val_loss: 1.0181 - val_accuracy: 0.6653\n",
      "Epoch 6/100\n",
      "357/357 [==============================] - 25s 68ms/step - loss: 0.9471 - accuracy: 0.6880 - val_loss: 0.8532 - val_accuracy: 0.7148\n",
      "Epoch 7/100\n",
      "357/357 [==============================] - 25s 69ms/step - loss: 0.8890 - accuracy: 0.7069 - val_loss: 0.7601 - val_accuracy: 0.7516\n",
      "Epoch 8/100\n",
      "357/357 [==============================] - 24s 66ms/step - loss: 0.8456 - accuracy: 0.7228 - val_loss: 0.8872 - val_accuracy: 0.7028\n",
      "Epoch 9/100\n",
      "357/357 [==============================] - 24s 66ms/step - loss: 0.8038 - accuracy: 0.7391 - val_loss: 0.7527 - val_accuracy: 0.7471\n",
      "Epoch 10/100\n",
      "357/357 [==============================] - 25s 68ms/step - loss: 0.7718 - accuracy: 0.7494 - val_loss: 0.6855 - val_accuracy: 0.7747\n",
      "Epoch 11/100\n",
      "357/357 [==============================] - 24s 66ms/step - loss: 0.7363 - accuracy: 0.7581 - val_loss: 0.7162 - val_accuracy: 0.7599\n",
      "Epoch 12/100\n",
      "357/357 [==============================] - 25s 68ms/step - loss: 0.7147 - accuracy: 0.7656 - val_loss: 0.6830 - val_accuracy: 0.7841\n",
      "Epoch 13/100\n",
      "357/357 [==============================] - 24s 66ms/step - loss: 0.6937 - accuracy: 0.7742 - val_loss: 0.6646 - val_accuracy: 0.7817\n",
      "Epoch 14/100\n",
      "357/357 [==============================] - 24s 66ms/step - loss: 0.6755 - accuracy: 0.7791 - val_loss: 0.6700 - val_accuracy: 0.7811\n",
      "Epoch 15/100\n",
      "357/357 [==============================] - 25s 68ms/step - loss: 0.6600 - accuracy: 0.7836 - val_loss: 0.6397 - val_accuracy: 0.7944\n",
      "Epoch 16/100\n",
      "357/357 [==============================] - 24s 66ms/step - loss: 0.6386 - accuracy: 0.7909 - val_loss: 0.6400 - val_accuracy: 0.7941\n",
      "Epoch 17/100\n",
      "357/357 [==============================] - 24s 66ms/step - loss: 0.6230 - accuracy: 0.7948 - val_loss: 0.6543 - val_accuracy: 0.7865\n",
      "Epoch 18/100\n",
      "357/357 [==============================] - 25s 68ms/step - loss: 0.6112 - accuracy: 0.7994 - val_loss: 0.6599 - val_accuracy: 0.7995\n",
      "Epoch 19/100\n",
      "357/357 [==============================] - 24s 66ms/step - loss: 0.5992 - accuracy: 0.8019 - val_loss: 0.6572 - val_accuracy: 0.7880\n",
      "Epoch 20/100\n",
      "357/357 [==============================] - 24s 66ms/step - loss: 0.5851 - accuracy: 0.8064 - val_loss: 0.6610 - val_accuracy: 0.7795\n",
      "Epoch 21/100\n",
      "357/357 [==============================] - 25s 69ms/step - loss: 0.5763 - accuracy: 0.8104 - val_loss: 0.6323 - val_accuracy: 0.8028\n",
      "Epoch 22/100\n",
      "357/357 [==============================] - 25s 69ms/step - loss: 0.5640 - accuracy: 0.8142 - val_loss: 0.6017 - val_accuracy: 0.8135\n",
      "Epoch 23/100\n",
      "357/357 [==============================] - 24s 66ms/step - loss: 0.5536 - accuracy: 0.8165 - val_loss: 0.6061 - val_accuracy: 0.8104\n",
      "Epoch 24/100\n",
      "357/357 [==============================] - 24s 66ms/step - loss: 0.5457 - accuracy: 0.8196 - val_loss: 0.6425 - val_accuracy: 0.8085\n",
      "Epoch 25/100\n",
      "357/357 [==============================] - 24s 66ms/step - loss: 0.5367 - accuracy: 0.8219 - val_loss: 0.6180 - val_accuracy: 0.8036\n",
      "Epoch 26/100\n",
      "357/357 [==============================] - 24s 66ms/step - loss: 0.5214 - accuracy: 0.8260 - val_loss: 0.5982 - val_accuracy: 0.8088\n",
      "Epoch 27/100\n",
      "357/357 [==============================] - 25s 68ms/step - loss: 0.5156 - accuracy: 0.8286 - val_loss: 0.6080 - val_accuracy: 0.8141\n",
      "Epoch 28/100\n",
      "357/357 [==============================] - 25s 69ms/step - loss: 0.5070 - accuracy: 0.8298 - val_loss: 0.6084 - val_accuracy: 0.8153\n",
      "Epoch 29/100\n",
      "357/357 [==============================] - 25s 68ms/step - loss: 0.5028 - accuracy: 0.8308 - val_loss: 0.6158 - val_accuracy: 0.8180\n",
      "Epoch 30/100\n",
      "357/357 [==============================] - 24s 66ms/step - loss: 0.4935 - accuracy: 0.8343 - val_loss: 0.6269 - val_accuracy: 0.8153\n",
      "Epoch 31/100\n",
      "357/357 [==============================] - 24s 66ms/step - loss: 0.4851 - accuracy: 0.8378 - val_loss: 0.7110 - val_accuracy: 0.7997\n",
      "Epoch 32/100\n",
      "357/357 [==============================] - 24s 66ms/step - loss: 0.4793 - accuracy: 0.8390 - val_loss: 0.6122 - val_accuracy: 0.8172\n",
      "Epoch 33/100\n",
      "357/357 [==============================] - 24s 66ms/step - loss: 0.4751 - accuracy: 0.8399 - val_loss: 0.6110 - val_accuracy: 0.8171\n",
      "Epoch 34/100\n",
      "357/357 [==============================] - 25s 68ms/step - loss: 0.4653 - accuracy: 0.8431 - val_loss: 0.5861 - val_accuracy: 0.8255\n",
      "Epoch 35/100\n",
      "357/357 [==============================] - 25s 68ms/step - loss: 0.4568 - accuracy: 0.8462 - val_loss: 0.5993 - val_accuracy: 0.8264\n",
      "Epoch 36/100\n",
      "357/357 [==============================] - 24s 66ms/step - loss: 0.4507 - accuracy: 0.8470 - val_loss: 0.6376 - val_accuracy: 0.8116\n",
      "Epoch 37/100\n",
      "357/357 [==============================] - 25s 68ms/step - loss: 0.4510 - accuracy: 0.8471 - val_loss: 0.6059 - val_accuracy: 0.8275\n",
      "Epoch 38/100\n",
      "357/357 [==============================] - 24s 66ms/step - loss: 0.4399 - accuracy: 0.8513 - val_loss: 0.6267 - val_accuracy: 0.8193\n",
      "Epoch 39/100\n",
      "357/357 [==============================] - 24s 66ms/step - loss: 0.4398 - accuracy: 0.8496 - val_loss: 0.6447 - val_accuracy: 0.8184\n",
      "Epoch 40/100\n",
      "357/357 [==============================] - 24s 66ms/step - loss: 0.4300 - accuracy: 0.8534 - val_loss: 0.6400 - val_accuracy: 0.8232\n",
      "Epoch 41/100\n",
      "357/357 [==============================] - 24s 66ms/step - loss: 0.4268 - accuracy: 0.8543 - val_loss: 0.6593 - val_accuracy: 0.8140\n",
      "Epoch 42/100\n",
      "357/357 [==============================] - 24s 66ms/step - loss: 0.4243 - accuracy: 0.8560 - val_loss: 0.7176 - val_accuracy: 0.7968\n",
      "Epoch 43/100\n",
      "357/357 [==============================] - 24s 66ms/step - loss: 0.4194 - accuracy: 0.8574 - val_loss: 0.7039 - val_accuracy: 0.7903\n",
      "Epoch 44/100\n",
      "357/357 [==============================] - 24s 66ms/step - loss: 0.4105 - accuracy: 0.8590 - val_loss: 0.8333 - val_accuracy: 0.7523\n",
      "Epoch 45/100\n",
      "357/357 [==============================] - 24s 66ms/step - loss: 0.4070 - accuracy: 0.8603 - val_loss: 0.6387 - val_accuracy: 0.8261\n",
      "Epoch 46/100\n",
      "357/357 [==============================] - 25s 68ms/step - loss: 0.3992 - accuracy: 0.8630 - val_loss: 0.6016 - val_accuracy: 0.8291\n",
      "Epoch 47/100\n",
      "357/357 [==============================] - 24s 66ms/step - loss: 0.4006 - accuracy: 0.8626 - val_loss: 0.6208 - val_accuracy: 0.8275\n",
      "Epoch 48/100\n",
      "357/357 [==============================] - 24s 66ms/step - loss: 0.3960 - accuracy: 0.8645 - val_loss: 0.6559 - val_accuracy: 0.8209\n",
      "Epoch 49/100\n",
      "357/357 [==============================] - 25s 69ms/step - loss: 0.3946 - accuracy: 0.8645 - val_loss: 0.6260 - val_accuracy: 0.8332\n",
      "Epoch 50/100\n",
      "357/357 [==============================] - 24s 66ms/step - loss: 0.3883 - accuracy: 0.8683 - val_loss: 0.6370 - val_accuracy: 0.8247\n",
      "Epoch 51/100\n",
      "357/357 [==============================] - 24s 66ms/step - loss: 0.3847 - accuracy: 0.8664 - val_loss: 0.6422 - val_accuracy: 0.8181\n",
      "Epoch 52/100\n",
      "357/357 [==============================] - 24s 66ms/step - loss: 0.3813 - accuracy: 0.8688 - val_loss: 0.6462 - val_accuracy: 0.8277\n",
      "Epoch 53/100\n",
      "357/357 [==============================] - 24s 66ms/step - loss: 0.3801 - accuracy: 0.8685 - val_loss: 0.7929 - val_accuracy: 0.7657\n",
      "Epoch 54/100\n",
      "357/357 [==============================] - 24s 66ms/step - loss: 0.3752 - accuracy: 0.8708 - val_loss: 0.6738 - val_accuracy: 0.8139\n",
      "Epoch 55/100\n",
      "357/357 [==============================] - 24s 66ms/step - loss: 0.3736 - accuracy: 0.8706 - val_loss: 0.6639 - val_accuracy: 0.8249\n",
      "Epoch 56/100\n",
      "357/357 [==============================] - 24s 66ms/step - loss: 0.3666 - accuracy: 0.8717 - val_loss: 0.7384 - val_accuracy: 0.8033\n",
      "Epoch 57/100\n",
      "357/357 [==============================] - 24s 66ms/step - loss: 0.3648 - accuracy: 0.8729 - val_loss: 0.6572 - val_accuracy: 0.8315\n",
      "Epoch 58/100\n",
      "357/357 [==============================] - 24s 66ms/step - loss: 0.3631 - accuracy: 0.8745 - val_loss: 0.6586 - val_accuracy: 0.8332\n",
      "Epoch 59/100\n",
      "357/357 [==============================] - 24s 66ms/step - loss: 0.3625 - accuracy: 0.8748 - val_loss: 0.6603 - val_accuracy: 0.8312\n",
      "Epoch 60/100\n",
      "357/357 [==============================] - 24s 66ms/step - loss: 0.3565 - accuracy: 0.8761 - val_loss: 0.6460 - val_accuracy: 0.8276\n",
      "Epoch 61/100\n",
      "357/357 [==============================] - 24s 66ms/step - loss: 0.3554 - accuracy: 0.8772 - val_loss: 0.6721 - val_accuracy: 0.8183\n",
      "Epoch 62/100\n",
      "357/357 [==============================] - 24s 66ms/step - loss: 0.3567 - accuracy: 0.8759 - val_loss: 0.6719 - val_accuracy: 0.8235\n",
      "Epoch 63/100\n",
      "357/357 [==============================] - 24s 66ms/step - loss: 0.3500 - accuracy: 0.8784 - val_loss: 0.6521 - val_accuracy: 0.8280\n",
      "Epoch 64/100\n",
      "357/357 [==============================] - 24s 66ms/step - loss: 0.3437 - accuracy: 0.8799 - val_loss: 0.6607 - val_accuracy: 0.8301\n",
      "Epoch 65/100\n",
      "357/357 [==============================] - 24s 66ms/step - loss: 0.3471 - accuracy: 0.8786 - val_loss: 0.7468 - val_accuracy: 0.8065\n",
      "Epoch 66/100\n",
      "357/357 [==============================] - 24s 66ms/step - loss: 0.3459 - accuracy: 0.8793 - val_loss: 0.6497 - val_accuracy: 0.8249\n",
      "Epoch 67/100\n",
      "357/357 [==============================] - 25s 69ms/step - loss: 0.3429 - accuracy: 0.8809 - val_loss: 0.6649 - val_accuracy: 0.8373\n",
      "Epoch 68/100\n",
      "357/357 [==============================] - 24s 66ms/step - loss: 0.3383 - accuracy: 0.8825 - val_loss: 0.6717 - val_accuracy: 0.8309\n",
      "Epoch 69/100\n",
      "357/357 [==============================] - 24s 66ms/step - loss: 0.3346 - accuracy: 0.8821 - val_loss: 0.6816 - val_accuracy: 0.8301\n",
      "Epoch 70/100\n",
      "357/357 [==============================] - 24s 66ms/step - loss: 0.3322 - accuracy: 0.8833 - val_loss: 0.6951 - val_accuracy: 0.8280\n",
      "Epoch 71/100\n",
      "357/357 [==============================] - 24s 66ms/step - loss: 0.3310 - accuracy: 0.8831 - val_loss: 0.6867 - val_accuracy: 0.8288\n",
      "Epoch 72/100\n",
      "357/357 [==============================] - 24s 66ms/step - loss: 0.3294 - accuracy: 0.8843 - val_loss: 0.6830 - val_accuracy: 0.8300\n",
      "Epoch 73/100\n",
      "357/357 [==============================] - 24s 66ms/step - loss: 0.3272 - accuracy: 0.8854 - val_loss: 0.7073 - val_accuracy: 0.8220\n",
      "Epoch 74/100\n",
      "357/357 [==============================] - 24s 66ms/step - loss: 0.3247 - accuracy: 0.8859 - val_loss: 0.6796 - val_accuracy: 0.8272\n",
      "Epoch 75/100\n",
      "357/357 [==============================] - 24s 66ms/step - loss: 0.3220 - accuracy: 0.8871 - val_loss: 0.6938 - val_accuracy: 0.8155\n",
      "Epoch 76/100\n",
      "357/357 [==============================] - 24s 66ms/step - loss: 0.3220 - accuracy: 0.8879 - val_loss: 0.6640 - val_accuracy: 0.8252\n",
      "Epoch 77/100\n",
      "357/357 [==============================] - 24s 66ms/step - loss: 0.3215 - accuracy: 0.8877 - val_loss: 0.6760 - val_accuracy: 0.8327\n",
      "Epoch 78/100\n",
      "357/357 [==============================] - 24s 66ms/step - loss: 0.3141 - accuracy: 0.8888 - val_loss: 0.6861 - val_accuracy: 0.8323\n",
      "Epoch 79/100\n",
      "357/357 [==============================] - 24s 66ms/step - loss: 0.3171 - accuracy: 0.8891 - val_loss: 0.7030 - val_accuracy: 0.8295\n",
      "Epoch 80/100\n",
      "357/357 [==============================] - 24s 66ms/step - loss: 0.3125 - accuracy: 0.8898 - val_loss: 0.6735 - val_accuracy: 0.8280\n",
      "Epoch 81/100\n",
      "357/357 [==============================] - 24s 66ms/step - loss: 0.3082 - accuracy: 0.8911 - val_loss: 0.6688 - val_accuracy: 0.8367\n",
      "Epoch 82/100\n",
      "357/357 [==============================] - 24s 66ms/step - loss: 0.3079 - accuracy: 0.8918 - val_loss: 0.6753 - val_accuracy: 0.8299\n",
      "Epoch 83/100\n",
      "357/357 [==============================] - 24s 66ms/step - loss: 0.3076 - accuracy: 0.8916 - val_loss: 0.7083 - val_accuracy: 0.8292\n",
      "Epoch 84/100\n",
      "357/357 [==============================] - 24s 66ms/step - loss: 0.3056 - accuracy: 0.8909 - val_loss: 0.7148 - val_accuracy: 0.8315\n",
      "Epoch 85/100\n",
      "357/357 [==============================] - 24s 66ms/step - loss: 0.3063 - accuracy: 0.8929 - val_loss: 0.6930 - val_accuracy: 0.8337\n",
      "Epoch 86/100\n",
      "357/357 [==============================] - 24s 66ms/step - loss: 0.3013 - accuracy: 0.8937 - val_loss: 0.7208 - val_accuracy: 0.8237\n",
      "Epoch 87/100\n",
      "357/357 [==============================] - 24s 66ms/step - loss: 0.2980 - accuracy: 0.8936 - val_loss: 0.7564 - val_accuracy: 0.8160\n",
      "Epoch 88/100\n",
      "357/357 [==============================] - 24s 67ms/step - loss: 0.3013 - accuracy: 0.8930 - val_loss: 0.6865 - val_accuracy: 0.8297\n",
      "Epoch 89/100\n",
      "357/357 [==============================] - 26s 71ms/step - loss: 0.2956 - accuracy: 0.8951 - val_loss: 0.7191 - val_accuracy: 0.8388\n",
      "Epoch 90/100\n",
      "357/357 [==============================] - 24s 66ms/step - loss: 0.2942 - accuracy: 0.8947 - val_loss: 0.7398 - val_accuracy: 0.8260\n",
      "Epoch 91/100\n",
      "357/357 [==============================] - 24s 66ms/step - loss: 0.2961 - accuracy: 0.8944 - val_loss: 0.7572 - val_accuracy: 0.8105\n",
      "Epoch 92/100\n",
      "357/357 [==============================] - 24s 67ms/step - loss: 0.2977 - accuracy: 0.8948 - val_loss: 0.7258 - val_accuracy: 0.8335\n",
      "Epoch 93/100\n",
      "357/357 [==============================] - 24s 66ms/step - loss: 0.2906 - accuracy: 0.8965 - val_loss: 0.6878 - val_accuracy: 0.8377\n",
      "Epoch 94/100\n",
      "357/357 [==============================] - 24s 66ms/step - loss: 0.2935 - accuracy: 0.8962 - val_loss: 0.6891 - val_accuracy: 0.8316\n",
      "Epoch 95/100\n",
      "357/357 [==============================] - 24s 66ms/step - loss: 0.2890 - accuracy: 0.8964 - val_loss: 0.7547 - val_accuracy: 0.8193\n",
      "Epoch 96/100\n",
      "357/357 [==============================] - 24s 66ms/step - loss: 0.2869 - accuracy: 0.8985 - val_loss: 0.7143 - val_accuracy: 0.8375\n",
      "Epoch 97/100\n",
      "357/357 [==============================] - 24s 66ms/step - loss: 0.2864 - accuracy: 0.8978 - val_loss: 0.6992 - val_accuracy: 0.8336\n",
      "Epoch 98/100\n",
      "357/357 [==============================] - 24s 67ms/step - loss: 0.2832 - accuracy: 0.8995 - val_loss: 0.7087 - val_accuracy: 0.8327\n",
      "Epoch 99/100\n",
      "357/357 [==============================] - 24s 66ms/step - loss: 0.2814 - accuracy: 0.8992 - val_loss: 0.7082 - val_accuracy: 0.8383\n",
      "Epoch 100/100\n",
      "357/357 [==============================] - 24s 67ms/step - loss: 0.2843 - accuracy: 0.8988 - val_loss: 0.7535 - val_accuracy: 0.8357\n"
     ]
    }
   ],
   "source": [
    "history3 = model3.fit(\n",
    "    x=train_ds_norm,\n",
    "    y=None,\n",
    "    validation_data= val_ds_norm,\n",
    "    epochs=epochs,\n",
    "    verbose=\"auto\",\n",
    "    callbacks=callbacks,\n",
    "    validation_split=0.0,\n",
    "    shuffle=True,\n",
    "    validation_freq=1,\n",
    "    batch_size = batch_size\n",
    "    )"
   ]
  },
  {
   "cell_type": "code",
   "execution_count": null,
   "metadata": {
    "id": "IBr4bDlYWmkM"
   },
   "outputs": [],
   "source": []
  },
  {
   "cell_type": "code",
   "execution_count": null,
   "metadata": {
    "colab": {
     "base_uri": "https://localhost:8080/"
    },
    "id": "srG4l6IAWvz8",
    "outputId": "81f268f1-2b28-4365-8c21-a5e06cdb2201"
   },
   "outputs": [
    {
     "name": "stdout",
     "output_type": "stream",
     "text": [
      "30/30 - 2s - loss: 0.7535 - accuracy: 0.8357 - 2s/epoch - 51ms/step\n"
     ]
    }
   ],
   "source": [
    "loss, acc = model3.evaluate(x=test_ds_norm, y=None, verbose=2)"
   ]
  },
  {
   "cell_type": "code",
   "execution_count": null,
   "metadata": {
    "id": "YHZ1t67dWvz-"
   },
   "outputs": [],
   "source": [
    "model3.save('model_9_20a4.keras')"
   ]
  },
  {
   "cell_type": "code",
   "execution_count": null,
   "metadata": {
    "colab": {
     "base_uri": "https://localhost:8080/",
     "height": 864
    },
    "id": "7JQVuDx5Wvz-",
    "outputId": "5c8a23c6-550e-4605-9d0f-34c1d7a7e314"
   },
   "outputs": [
    {
     "data": {
      "image/png": "[encoded data removed]",
      "text/plain": [
       "<Figure size 640x480 with 1 Axes>"
      ]
     },
     "metadata": {},
     "output_type": "display_data"
    },
    {
     "data": {
      "image/png": "[encoded data removed]",
      "text/plain": [
       "<Figure size 640x480 with 1 Axes>"
      ]
     },
     "metadata": {},
     "output_type": "display_data"
    }
   ],
   "source": [
    "accuracy = history3.history['accuracy']\n",
    "val_accuracy = history3.history['val_accuracy']\n",
    "loss = history3.history['loss']\n",
    "val_loss = history3.history['val_loss']\n",
    "epochs = range(1, len(accuracy) + 1)\n",
    "plt.plot(epochs, accuracy, 'bo', label='Training accuracy')\n",
    "plt.plot(epochs, val_accuracy, 'b', label='Validation accuracy')\n",
    "plt.legend()\n",
    "plt.figure()\n",
    "plt.plot(epochs, loss, 'bo', label='Training loss')\n",
    "plt.plot(epochs, val_loss, 'b', label='Validation loss')\n",
    "plt.legend()\n",
    "plt.show()"
   ]
  },
  {
   "cell_type": "code",
   "execution_count": null,
   "metadata": {
    "id": "-c-gXWJdWnzd"
   },
   "outputs": [],
   "source": [
    "from google.colab import runtime\n",
    "runtime.unassign()"
   ]
  },
  {
   "cell_type": "code",
   "execution_count": null,
   "metadata": {
    "id": "gYzWXwS9atzo"
   },
   "outputs": [],
   "source": []
  },
  {
   "cell_type": "code",
   "execution_count": null,
   "metadata": {
    "colab": {
     "base_uri": "https://localhost:8080/"
    },
    "id": "sVN_k2EEtdEv",
    "outputId": "ae964c37-34bb-43a6-815c-7fba779f9625"
   },
   "outputs": [
    {
     "name": "stdout",
     "output_type": "stream",
     "text": [
      "Found 91166 files belonging to 15 classes.\n"
     ]
    }
   ],
   "source": [
    "column_labels = ['blouse', 'dhoti_pants', 'dupattas', 'gowns', 'kurta_men', 'leggings_and_salwars', 'lehenga', 'mojaris_men', 'mojaris_women', 'nehru_jackets', 'palazzos', 'petticoats', 'sherwanis', 'saree', 'women_kurta']\n",
    "train_dataset = image_dataset_from_directory(\n",
    "    '/content/train_w_labels',\n",
    "    labels='inferred',\n",
    "    color_mode='grayscale',\n",
    "    batch_size=256,\n",
    "    image_size=(80,80),\n",
    "    shuffle=True,\n",
    "    seed=None,\n",
    "    validation_split=None,\n",
    "    subset=None,\n",
    "    interpolation='bilinear',\n",
    "    crop_to_aspect_ratio=False,\n",
    "    class_names=column_labels)"
   ]
  },
  {
   "cell_type": "code",
   "execution_count": null,
   "metadata": {
    "colab": {
     "base_uri": "https://localhost:8080/"
    },
    "id": "SP5cYdp9tdEy",
    "outputId": "fd005ed7-a8ce-457b-8c65-c1bd76546d3e"
   },
   "outputs": [
    {
     "name": "stdout",
     "output_type": "stream",
     "text": [
      "Found 7500 files belonging to 15 classes.\n"
     ]
    }
   ],
   "source": [
    "val_dataset = image_dataset_from_directory(\n",
    "    '/content/val_w_labels',\n",
    "    labels='inferred',\n",
    "    color_mode='grayscale',\n",
    "    batch_size=256,\n",
    "    image_size=(80,80),\n",
    "    shuffle=True,\n",
    "    seed=None,\n",
    "    validation_split=None,\n",
    "    subset=None,\n",
    "    interpolation='bilinear',\n",
    "    crop_to_aspect_ratio=False,\n",
    "    class_names=column_labels)"
   ]
  },
  {
   "cell_type": "code",
   "execution_count": null,
   "metadata": {
    "colab": {
     "base_uri": "https://localhost:8080/"
    },
    "id": "H0cxifomtdEz",
    "outputId": "99f20bc6-87b4-4cb9-d06f-288ca2644381"
   },
   "outputs": [
    {
     "name": "stdout",
     "output_type": "stream",
     "text": [
      "Found 7500 files belonging to 15 classes.\n"
     ]
    }
   ],
   "source": [
    "test_dataset = image_dataset_from_directory(\n",
    "    '/content/test_w_labels',\n",
    "    labels='inferred',\n",
    "    color_mode='grayscale',\n",
    "    batch_size=256,\n",
    "    image_size=(80,80),\n",
    "    shuffle=True,\n",
    "    seed=None,\n",
    "    validation_split=None,\n",
    "    subset=None,\n",
    "    interpolation='bilinear',\n",
    "    crop_to_aspect_ratio=False,\n",
    "    class_names=column_labels)"
   ]
  },
  {
   "cell_type": "code",
   "execution_count": null,
   "metadata": {
    "id": "40y5wuTlu41G"
   },
   "outputs": [],
   "source": [
    "normalization_layer = layers.Rescaling(1./255)\n",
    "train_ds_norm = train_dataset.map(lambda x, y: (normalization_layer(x), y))\n",
    "test_ds_norm = test_dataset.map(lambda x, y: (normalization_layer(x), y))\n",
    "val_ds_norm = test_dataset.map(lambda x, y: (normalization_layer(x), y))"
   ]
  },
  {
   "cell_type": "code",
   "execution_count": null,
   "metadata": {
    "id": "WeepmeOQtOM0"
   },
   "outputs": [],
   "source": [
    "# Setting up model\n",
    "img_width, img_height = 80,80\n",
    "\n",
    "\n",
    "nb_train_samples = 91166\n",
    "nb_validation_samples = 7500\n",
    "epochs = 500\n",
    "batch_size = 256\n",
    "n_classes = 15\n",
    "input_shape= (img_width, img_height, 1)"
   ]
  },
  {
   "cell_type": "code",
   "execution_count": null,
   "metadata": {
    "id": "kfh1W_UDtOM3"
   },
   "outputs": [],
   "source": []
  },
  {
   "cell_type": "code",
   "execution_count": null,
   "metadata": {
    "id": "7HjEfEHwtOM3"
   },
   "outputs": [],
   "source": [
    "model3 = Sequential()\n",
    "\n",
    "model3.add(Conv2D(32, (3,3), activation='relu', input_shape=input_shape))\n",
    "model3.add(layers.BatchNormalization())\n",
    "model3.add(MaxPooling2D(pool_size=(2, 2)))\n",
    "\n",
    "model3.add(Dropout(0.5))\n",
    "\n",
    "model3.add(Conv2D(64, (3,3), activation='relu'))\n",
    "model3.add(layers.BatchNormalization())\n",
    "model3.add(MaxPooling2D(pool_size=(2, 2)))\n",
    "\n",
    "model3.add(Dropout(0.5))\n",
    "\n",
    "model3.add(Conv2D(128, (3,3), activation='relu'))\n",
    "model3.add(layers.BatchNormalization())\n",
    "model3.add(MaxPooling2D(pool_size=(2, 2)))\n",
    "\n",
    "model3.add(Flatten())\n",
    "\n",
    "model3.add(Dense(140, activation='relu'))\n",
    "model3.add(Dropout(0.5))\n",
    "\n",
    "model3.add(Dense(n_classes, activation='softmax'))\n",
    "\n",
    "model3.compile(loss='SparseCategoricalCrossentropy', optimizer='adam', metrics=['accuracy'])\n"
   ]
  },
  {
   "cell_type": "code",
   "execution_count": null,
   "metadata": {
    "id": "O97kr7jqtOM4"
   },
   "outputs": [],
   "source": [
    "callbacks = [\n",
    "    keras.callbacks.ModelCheckpoint(\n",
    "        filepath='/content/drive/MyDrive/keras/09_20a5.keras',\n",
    "        save_best_only=True,\n",
    "        monitor='val_accuracy'\n",
    "    )]"
   ]
  },
  {
   "cell_type": "code",
   "execution_count": null,
   "metadata": {
    "colab": {
     "base_uri": "https://localhost:8080/",
     "height": 1000
    },
    "id": "4GpD17AjtOM4",
    "outputId": "440176ec-2cbe-4c89-a761-7015066fb304"
   },
   "outputs": [
    {
     "name": "stdout",
     "output_type": "stream",
     "text": [
      "Epoch 1/500\n",
      "357/357 [==============================] - 37s 92ms/step - loss: 1.9300 - accuracy: 0.3973 - val_loss: 2.4618 - val_accuracy: 0.1996\n",
      "Epoch 2/500\n",
      "357/357 [==============================] - 33s 91ms/step - loss: 1.4034 - accuracy: 0.5369 - val_loss: 1.1974 - val_accuracy: 0.5937\n",
      "Epoch 3/500\n",
      "357/357 [==============================] - 33s 90ms/step - loss: 1.2345 - accuracy: 0.5871 - val_loss: 1.0531 - val_accuracy: 0.6368\n",
      "Epoch 4/500\n",
      "357/357 [==============================] - 33s 90ms/step - loss: 1.1209 - accuracy: 0.6220 - val_loss: 1.0092 - val_accuracy: 0.6536\n",
      "Epoch 5/500\n",
      "357/357 [==============================] - 33s 90ms/step - loss: 1.0401 - accuracy: 0.6509 - val_loss: 0.9305 - val_accuracy: 0.6931\n",
      "Epoch 6/500\n",
      "357/357 [==============================] - 32s 88ms/step - loss: 0.9780 - accuracy: 0.6708 - val_loss: 1.0928 - val_accuracy: 0.6357\n",
      "Epoch 7/500\n",
      "357/357 [==============================] - 33s 90ms/step - loss: 0.9295 - accuracy: 0.6907 - val_loss: 0.8897 - val_accuracy: 0.7087\n",
      "Epoch 8/500\n",
      "357/357 [==============================] - 33s 90ms/step - loss: 0.8877 - accuracy: 0.7058 - val_loss: 0.7433 - val_accuracy: 0.7556\n",
      "Epoch 9/500\n",
      "357/357 [==============================] - 32s 88ms/step - loss: 0.8440 - accuracy: 0.7229 - val_loss: 0.7526 - val_accuracy: 0.7533\n",
      "Epoch 10/500\n",
      "357/357 [==============================] - 32s 88ms/step - loss: 0.8023 - accuracy: 0.7355 - val_loss: 0.7832 - val_accuracy: 0.7527\n",
      "Epoch 11/500\n",
      "357/357 [==============================] - 33s 90ms/step - loss: 0.7686 - accuracy: 0.7495 - val_loss: 0.7038 - val_accuracy: 0.7741\n",
      "Epoch 12/500\n",
      "357/357 [==============================] - 33s 90ms/step - loss: 0.7393 - accuracy: 0.7590 - val_loss: 0.7034 - val_accuracy: 0.7835\n",
      "Epoch 13/500\n",
      "357/357 [==============================] - 32s 88ms/step - loss: 0.7085 - accuracy: 0.7674 - val_loss: 0.6831 - val_accuracy: 0.7823\n",
      "Epoch 14/500\n",
      "357/357 [==============================] - 33s 90ms/step - loss: 0.6885 - accuracy: 0.7753 - val_loss: 0.6417 - val_accuracy: 0.7947\n",
      "Epoch 15/500\n",
      "357/357 [==============================] - 32s 88ms/step - loss: 0.6649 - accuracy: 0.7822 - val_loss: 0.7974 - val_accuracy: 0.7437\n",
      "Epoch 16/500\n",
      "357/357 [==============================] - 33s 90ms/step - loss: 0.6490 - accuracy: 0.7864 - val_loss: 0.6207 - val_accuracy: 0.8107\n",
      "Epoch 17/500\n",
      "357/357 [==============================] - 32s 88ms/step - loss: 0.6288 - accuracy: 0.7938 - val_loss: 0.6363 - val_accuracy: 0.7959\n",
      "Epoch 18/500\n",
      "357/357 [==============================] - 32s 88ms/step - loss: 0.6098 - accuracy: 0.7998 - val_loss: 0.9589 - val_accuracy: 0.6947\n",
      "Epoch 19/500\n",
      "357/357 [==============================] - 32s 88ms/step - loss: 0.5945 - accuracy: 0.8050 - val_loss: 0.7223 - val_accuracy: 0.7820\n",
      "Epoch 20/500\n",
      "357/357 [==============================] - 33s 91ms/step - loss: 0.5830 - accuracy: 0.8076 - val_loss: 0.6063 - val_accuracy: 0.8159\n",
      "Epoch 21/500\n",
      "357/357 [==============================] - 32s 88ms/step - loss: 0.5688 - accuracy: 0.8124 - val_loss: 0.6319 - val_accuracy: 0.8084\n",
      "Epoch 22/500\n",
      "357/357 [==============================] - 32s 88ms/step - loss: 0.5612 - accuracy: 0.8151 - val_loss: 0.6529 - val_accuracy: 0.8023\n",
      "Epoch 23/500\n",
      "357/357 [==============================] - 32s 88ms/step - loss: 0.5477 - accuracy: 0.8195 - val_loss: 0.6233 - val_accuracy: 0.8080\n",
      "Epoch 24/500\n",
      "357/357 [==============================] - 32s 88ms/step - loss: 0.5310 - accuracy: 0.8235 - val_loss: 0.6186 - val_accuracy: 0.8113\n",
      "Epoch 25/500\n",
      "357/357 [==============================] - 32s 88ms/step - loss: 0.5228 - accuracy: 0.8263 - val_loss: 0.6448 - val_accuracy: 0.8088\n",
      "Epoch 26/500\n",
      "357/357 [==============================] - 32s 88ms/step - loss: 0.5157 - accuracy: 0.8281 - val_loss: 0.6540 - val_accuracy: 0.8125\n",
      "Epoch 27/500\n",
      "357/357 [==============================] - 32s 88ms/step - loss: 0.5065 - accuracy: 0.8306 - val_loss: 0.6254 - val_accuracy: 0.8063\n",
      "Epoch 28/500\n",
      "357/357 [==============================] - 32s 88ms/step - loss: 0.4904 - accuracy: 0.8369 - val_loss: 0.6405 - val_accuracy: 0.8105\n",
      "Epoch 29/500\n",
      "357/357 [==============================] - 33s 90ms/step - loss: 0.4909 - accuracy: 0.8357 - val_loss: 0.6265 - val_accuracy: 0.8163\n",
      "Epoch 30/500\n",
      "357/357 [==============================] - 33s 90ms/step - loss: 0.4757 - accuracy: 0.8403 - val_loss: 0.6140 - val_accuracy: 0.8200\n",
      "Epoch 31/500\n",
      "357/357 [==============================] - 32s 88ms/step - loss: 0.4711 - accuracy: 0.8422 - val_loss: 0.7514 - val_accuracy: 0.7736\n",
      "Epoch 32/500\n",
      "357/357 [==============================] - 32s 88ms/step - loss: 0.4638 - accuracy: 0.8446 - val_loss: 0.6612 - val_accuracy: 0.8105\n",
      "Epoch 33/500\n",
      "357/357 [==============================] - 32s 88ms/step - loss: 0.4524 - accuracy: 0.8469 - val_loss: 0.6401 - val_accuracy: 0.8191\n",
      "Epoch 34/500\n",
      "357/357 [==============================] - 32s 88ms/step - loss: 0.4505 - accuracy: 0.8479 - val_loss: 0.9411 - val_accuracy: 0.7197\n",
      "Epoch 35/500\n",
      "357/357 [==============================] - 33s 90ms/step - loss: 0.4428 - accuracy: 0.8511 - val_loss: 0.6469 - val_accuracy: 0.8251\n",
      "Epoch 36/500\n",
      "357/357 [==============================] - 32s 88ms/step - loss: 0.4373 - accuracy: 0.8531 - val_loss: 0.6856 - val_accuracy: 0.8107\n",
      "Epoch 37/500\n",
      "357/357 [==============================] - 32s 88ms/step - loss: 0.4291 - accuracy: 0.8541 - val_loss: 0.6580 - val_accuracy: 0.8163\n",
      "Epoch 38/500\n",
      "357/357 [==============================] - 33s 90ms/step - loss: 0.4243 - accuracy: 0.8573 - val_loss: 0.6301 - val_accuracy: 0.8296\n",
      "Epoch 39/500\n",
      "357/357 [==============================] - 32s 88ms/step - loss: 0.4201 - accuracy: 0.8576 - val_loss: 0.6785 - val_accuracy: 0.7924\n",
      "Epoch 40/500\n",
      "357/357 [==============================] - 33s 91ms/step - loss: 0.4102 - accuracy: 0.8598 - val_loss: 0.6491 - val_accuracy: 0.8311\n",
      "Epoch 41/500\n",
      "357/357 [==============================] - 32s 88ms/step - loss: 0.4107 - accuracy: 0.8598 - val_loss: 0.6366 - val_accuracy: 0.8240\n",
      "Epoch 42/500\n",
      "357/357 [==============================] - 32s 88ms/step - loss: 0.4064 - accuracy: 0.8608 - val_loss: 0.9592 - val_accuracy: 0.7488\n",
      "Epoch 43/500\n",
      "357/357 [==============================] - 32s 88ms/step - loss: 0.3999 - accuracy: 0.8640 - val_loss: 0.6517 - val_accuracy: 0.8287\n",
      "Epoch 44/500\n",
      "357/357 [==============================] - 32s 88ms/step - loss: 0.3940 - accuracy: 0.8656 - val_loss: 0.6686 - val_accuracy: 0.8203\n",
      "Epoch 45/500\n",
      "357/357 [==============================] - 32s 88ms/step - loss: 0.3946 - accuracy: 0.8644 - val_loss: 0.6939 - val_accuracy: 0.8109\n",
      "Epoch 46/500\n",
      "357/357 [==============================] - 33s 91ms/step - loss: 0.3862 - accuracy: 0.8681 - val_loss: 0.6614 - val_accuracy: 0.8323\n",
      "Epoch 47/500\n",
      "357/357 [==============================] - 32s 88ms/step - loss: 0.3833 - accuracy: 0.8694 - val_loss: 0.7430 - val_accuracy: 0.8155\n",
      "Epoch 48/500\n",
      "357/357 [==============================] - 33s 90ms/step - loss: 0.3788 - accuracy: 0.8695 - val_loss: 0.6447 - val_accuracy: 0.8328\n",
      "Epoch 49/500\n",
      "357/357 [==============================] - 32s 88ms/step - loss: 0.3744 - accuracy: 0.8724 - val_loss: 0.6809 - val_accuracy: 0.8313\n",
      "Epoch 50/500\n",
      "357/357 [==============================] - 32s 88ms/step - loss: 0.3710 - accuracy: 0.8729 - val_loss: 0.6814 - val_accuracy: 0.8240\n",
      "Epoch 51/500\n",
      "357/357 [==============================] - 32s 88ms/step - loss: 0.3654 - accuracy: 0.8735 - val_loss: 0.7037 - val_accuracy: 0.8181\n",
      "Epoch 52/500\n",
      "357/357 [==============================] - 32s 88ms/step - loss: 0.3621 - accuracy: 0.8752 - val_loss: 0.6980 - val_accuracy: 0.8243\n",
      "Epoch 53/500\n",
      "357/357 [==============================] - 32s 88ms/step - loss: 0.3591 - accuracy: 0.8766 - val_loss: 0.7411 - val_accuracy: 0.8048\n",
      "Epoch 54/500\n",
      "357/357 [==============================] - 32s 88ms/step - loss: 0.3523 - accuracy: 0.8770 - val_loss: 0.6941 - val_accuracy: 0.8216\n",
      "Epoch 55/500\n",
      "357/357 [==============================] - 32s 88ms/step - loss: 0.3516 - accuracy: 0.8779 - val_loss: 0.6928 - val_accuracy: 0.8317\n",
      "Epoch 56/500\n",
      "357/357 [==============================] - 32s 88ms/step - loss: 0.3496 - accuracy: 0.8790 - val_loss: 0.7013 - val_accuracy: 0.8245\n",
      "Epoch 57/500\n",
      "357/357 [==============================] - 32s 88ms/step - loss: 0.3479 - accuracy: 0.8801 - val_loss: 0.6813 - val_accuracy: 0.8203\n",
      "Epoch 58/500\n",
      "357/357 [==============================] - 32s 88ms/step - loss: 0.3439 - accuracy: 0.8813 - val_loss: 0.6875 - val_accuracy: 0.8239\n",
      "Epoch 59/500\n",
      "357/357 [==============================] - 32s 88ms/step - loss: 0.3415 - accuracy: 0.8812 - val_loss: 0.6901 - val_accuracy: 0.8248\n",
      "Epoch 60/500\n",
      "357/357 [==============================] - 32s 88ms/step - loss: 0.3394 - accuracy: 0.8823 - val_loss: 0.7021 - val_accuracy: 0.8316\n",
      "Epoch 61/500\n",
      "357/357 [==============================] - 32s 88ms/step - loss: 0.3326 - accuracy: 0.8850 - val_loss: 0.7097 - val_accuracy: 0.8281\n",
      "Epoch 62/500\n",
      "357/357 [==============================] - 32s 88ms/step - loss: 0.3255 - accuracy: 0.8865 - val_loss: 0.7865 - val_accuracy: 0.7987\n",
      "Epoch 63/500\n",
      "357/357 [==============================] - 32s 88ms/step - loss: 0.3301 - accuracy: 0.8849 - val_loss: 0.7346 - val_accuracy: 0.8299\n",
      "Epoch 64/500\n",
      "357/357 [==============================] - 32s 88ms/step - loss: 0.3275 - accuracy: 0.8868 - val_loss: 0.8059 - val_accuracy: 0.7971\n",
      "Epoch 65/500\n",
      "357/357 [==============================] - 32s 88ms/step - loss: 0.3263 - accuracy: 0.8857 - val_loss: 0.7466 - val_accuracy: 0.8179\n",
      "Epoch 66/500\n",
      "357/357 [==============================] - 33s 90ms/step - loss: 0.3206 - accuracy: 0.8886 - val_loss: 0.6886 - val_accuracy: 0.8368\n",
      "Epoch 67/500\n",
      "357/357 [==============================] - 32s 88ms/step - loss: 0.3171 - accuracy: 0.8885 - val_loss: 1.9576 - val_accuracy: 0.7005\n",
      "Epoch 68/500\n",
      "357/357 [==============================] - 32s 88ms/step - loss: 0.3140 - accuracy: 0.8905 - val_loss: 0.7128 - val_accuracy: 0.8279\n",
      "Epoch 69/500\n",
      "357/357 [==============================] - 32s 88ms/step - loss: 0.3113 - accuracy: 0.8918 - val_loss: 0.7139 - val_accuracy: 0.8273\n",
      "Epoch 70/500\n",
      "357/357 [==============================] - 32s 88ms/step - loss: 0.3068 - accuracy: 0.8925 - val_loss: 0.7310 - val_accuracy: 0.8189\n",
      "Epoch 71/500\n",
      "357/357 [==============================] - 32s 88ms/step - loss: 0.3092 - accuracy: 0.8925 - val_loss: 0.7092 - val_accuracy: 0.8260\n",
      "Epoch 72/500\n",
      "357/357 [==============================] - 32s 88ms/step - loss: 0.3029 - accuracy: 0.8937 - val_loss: 0.8439 - val_accuracy: 0.8169\n",
      "Epoch 73/500\n",
      "357/357 [==============================] - 32s 88ms/step - loss: 0.3006 - accuracy: 0.8943 - val_loss: 0.7317 - val_accuracy: 0.8273\n",
      "Epoch 74/500\n",
      "357/357 [==============================] - 32s 88ms/step - loss: 0.3024 - accuracy: 0.8938 - val_loss: 0.7703 - val_accuracy: 0.8284\n",
      "Epoch 75/500\n",
      "357/357 [==============================] - 32s 88ms/step - loss: 0.2990 - accuracy: 0.8950 - val_loss: 0.8711 - val_accuracy: 0.8187\n",
      "Epoch 76/500\n",
      "357/357 [==============================] - 32s 88ms/step - loss: 0.2977 - accuracy: 0.8957 - val_loss: 0.7339 - val_accuracy: 0.8248\n",
      "Epoch 77/500\n",
      "357/357 [==============================] - 32s 88ms/step - loss: 0.2931 - accuracy: 0.8967 - val_loss: 0.7214 - val_accuracy: 0.8295\n",
      "Epoch 78/500\n",
      "357/357 [==============================] - 32s 88ms/step - loss: 0.2935 - accuracy: 0.8976 - val_loss: 0.7710 - val_accuracy: 0.8209\n",
      "Epoch 79/500\n",
      "357/357 [==============================] - 32s 88ms/step - loss: 0.2913 - accuracy: 0.8972 - val_loss: 0.7445 - val_accuracy: 0.8308\n",
      "Epoch 80/500\n",
      "357/357 [==============================] - 32s 88ms/step - loss: 0.2881 - accuracy: 0.8980 - val_loss: 0.7064 - val_accuracy: 0.8332\n",
      "Epoch 81/500\n",
      "357/357 [==============================] - 32s 88ms/step - loss: 0.2883 - accuracy: 0.8980 - val_loss: 0.7453 - val_accuracy: 0.8221\n",
      "Epoch 82/500\n",
      "357/357 [==============================] - 32s 88ms/step - loss: 0.2821 - accuracy: 0.8988 - val_loss: 0.8835 - val_accuracy: 0.7959\n",
      "Epoch 83/500\n",
      "357/357 [==============================] - 32s 88ms/step - loss: 0.2847 - accuracy: 0.8985 - val_loss: 0.7563 - val_accuracy: 0.8259\n",
      "Epoch 84/500\n",
      "357/357 [==============================] - 32s 88ms/step - loss: 0.2790 - accuracy: 0.9015 - val_loss: 0.8175 - val_accuracy: 0.8317\n",
      "Epoch 85/500\n",
      "357/357 [==============================] - 32s 88ms/step - loss: 0.2813 - accuracy: 0.8999 - val_loss: 0.8010 - val_accuracy: 0.8293\n",
      "Epoch 86/500\n",
      "357/357 [==============================] - 32s 88ms/step - loss: 0.2769 - accuracy: 0.9016 - val_loss: 0.7434 - val_accuracy: 0.8261\n",
      "Epoch 87/500\n",
      "357/357 [==============================] - 32s 88ms/step - loss: 0.2790 - accuracy: 0.9009 - val_loss: 0.7101 - val_accuracy: 0.8311\n",
      "Epoch 88/500\n",
      "357/357 [==============================] - 32s 88ms/step - loss: 0.2752 - accuracy: 0.9027 - val_loss: 0.7440 - val_accuracy: 0.8285\n",
      "Epoch 89/500\n",
      "357/357 [==============================] - 32s 88ms/step - loss: 0.2728 - accuracy: 0.9026 - val_loss: 0.7752 - val_accuracy: 0.8285\n",
      "Epoch 90/500\n",
      "357/357 [==============================] - 32s 88ms/step - loss: 0.2692 - accuracy: 0.9036 - val_loss: 0.8397 - val_accuracy: 0.8265\n",
      "Epoch 91/500\n",
      "357/357 [==============================] - 32s 88ms/step - loss: 0.2698 - accuracy: 0.9035 - val_loss: 0.7674 - val_accuracy: 0.8233\n",
      "Epoch 92/500\n",
      "357/357 [==============================] - 32s 88ms/step - loss: 0.2701 - accuracy: 0.9040 - val_loss: 0.7969 - val_accuracy: 0.8340\n",
      "Epoch 93/500\n",
      "357/357 [==============================] - 32s 88ms/step - loss: 0.2674 - accuracy: 0.9044 - val_loss: 0.7932 - val_accuracy: 0.8203\n",
      "Epoch 94/500\n",
      "357/357 [==============================] - 32s 88ms/step - loss: 0.2643 - accuracy: 0.9057 - val_loss: 0.7470 - val_accuracy: 0.8276\n",
      "Epoch 95/500\n",
      "221/357 [=================>............] - ETA: 11s - loss: 0.2642 - accuracy: 0.9064"
     ]
    },
    {
     "ename": "KeyboardInterrupt",
     "evalue": "ignored",
     "output_type": "error",
     "traceback": [
      "\u001b[0;31m---------------------------------------------------------------------------\u001b[0m",
      "\u001b[0;31mKeyboardInterrupt\u001b[0m                         Traceback (most recent call last)",
      "\u001b[0;32m<ipython-input-32-dcea6fc0da9b>\u001b[0m in \u001b[0;36m<cell line: 1>\u001b[0;34m()\u001b[0m\n\u001b[0;32m----> 1\u001b[0;31m history3 = model3.fit(\n\u001b[0m\u001b[1;32m      2\u001b[0m     \u001b[0mx\u001b[0m\u001b[0;34m=\u001b[0m\u001b[0mtrain_ds_norm\u001b[0m\u001b[0;34m,\u001b[0m\u001b[0;34m\u001b[0m\u001b[0;34m\u001b[0m\u001b[0m\n\u001b[1;32m      3\u001b[0m     \u001b[0my\u001b[0m\u001b[0;34m=\u001b[0m\u001b[0;32mNone\u001b[0m\u001b[0;34m,\u001b[0m\u001b[0;34m\u001b[0m\u001b[0;34m\u001b[0m\u001b[0m\n\u001b[1;32m      4\u001b[0m     \u001b[0mvalidation_data\u001b[0m\u001b[0;34m=\u001b[0m \u001b[0mval_ds_norm\u001b[0m\u001b[0;34m,\u001b[0m\u001b[0;34m\u001b[0m\u001b[0;34m\u001b[0m\u001b[0m\n\u001b[1;32m      5\u001b[0m     \u001b[0mepochs\u001b[0m\u001b[0;34m=\u001b[0m\u001b[0mepochs\u001b[0m\u001b[0;34m,\u001b[0m\u001b[0;34m\u001b[0m\u001b[0;34m\u001b[0m\u001b[0m\n",
      "\u001b[0;32m/usr/local/lib/python3.10/dist-packages/keras/utils/traceback_utils.py\u001b[0m in \u001b[0;36merror_handler\u001b[0;34m(*args, **kwargs)\u001b[0m\n\u001b[1;32m     63\u001b[0m         \u001b[0mfiltered_tb\u001b[0m \u001b[0;34m=\u001b[0m \u001b[0;32mNone\u001b[0m\u001b[0;34m\u001b[0m\u001b[0;34m\u001b[0m\u001b[0m\n\u001b[1;32m     64\u001b[0m         \u001b[0;32mtry\u001b[0m\u001b[0;34m:\u001b[0m\u001b[0;34m\u001b[0m\u001b[0;34m\u001b[0m\u001b[0m\n\u001b[0;32m---> 65\u001b[0;31m             \u001b[0;32mreturn\u001b[0m \u001b[0mfn\u001b[0m\u001b[0;34m(\u001b[0m\u001b[0;34m*\u001b[0m\u001b[0margs\u001b[0m\u001b[0;34m,\u001b[0m \u001b[0;34m**\u001b[0m\u001b[0mkwargs\u001b[0m\u001b[0;34m)\u001b[0m\u001b[0;34m\u001b[0m\u001b[0;34m\u001b[0m\u001b[0m\n\u001b[0m\u001b[1;32m     66\u001b[0m         \u001b[0;32mexcept\u001b[0m \u001b[0mException\u001b[0m \u001b[0;32mas\u001b[0m \u001b[0me\u001b[0m\u001b[0;34m:\u001b[0m\u001b[0;34m\u001b[0m\u001b[0;34m\u001b[0m\u001b[0m\n\u001b[1;32m     67\u001b[0m             \u001b[0mfiltered_tb\u001b[0m \u001b[0;34m=\u001b[0m \u001b[0m_process_traceback_frames\u001b[0m\u001b[0;34m(\u001b[0m\u001b[0me\u001b[0m\u001b[0;34m.\u001b[0m\u001b[0m__traceback__\u001b[0m\u001b[0;34m)\u001b[0m\u001b[0;34m\u001b[0m\u001b[0;34m\u001b[0m\u001b[0m\n",
      "\u001b[0;32m/usr/local/lib/python3.10/dist-packages/keras/engine/training.py\u001b[0m in \u001b[0;36mfit\u001b[0;34m(self, x, y, batch_size, epochs, verbose, callbacks, validation_split, validation_data, shuffle, class_weight, sample_weight, initial_epoch, steps_per_epoch, validation_steps, validation_batch_size, validation_freq, max_queue_size, workers, use_multiprocessing)\u001b[0m\n\u001b[1;32m   1689\u001b[0m                             \u001b[0mlogs\u001b[0m \u001b[0;34m=\u001b[0m \u001b[0mtmp_logs\u001b[0m\u001b[0;34m\u001b[0m\u001b[0;34m\u001b[0m\u001b[0m\n\u001b[1;32m   1690\u001b[0m                             \u001b[0mend_step\u001b[0m \u001b[0;34m=\u001b[0m \u001b[0mstep\u001b[0m \u001b[0;34m+\u001b[0m \u001b[0mdata_handler\u001b[0m\u001b[0;34m.\u001b[0m\u001b[0mstep_increment\u001b[0m\u001b[0;34m\u001b[0m\u001b[0;34m\u001b[0m\u001b[0m\n\u001b[0;32m-> 1691\u001b[0;31m                             \u001b[0mcallbacks\u001b[0m\u001b[0;34m.\u001b[0m\u001b[0mon_train_batch_end\u001b[0m\u001b[0;34m(\u001b[0m\u001b[0mend_step\u001b[0m\u001b[0;34m,\u001b[0m \u001b[0mlogs\u001b[0m\u001b[0;34m)\u001b[0m\u001b[0;34m\u001b[0m\u001b[0;34m\u001b[0m\u001b[0m\n\u001b[0m\u001b[1;32m   1692\u001b[0m                             \u001b[0;32mif\u001b[0m \u001b[0mself\u001b[0m\u001b[0;34m.\u001b[0m\u001b[0mstop_training\u001b[0m\u001b[0;34m:\u001b[0m\u001b[0;34m\u001b[0m\u001b[0;34m\u001b[0m\u001b[0m\n\u001b[1;32m   1693\u001b[0m                                 \u001b[0;32mbreak\u001b[0m\u001b[0;34m\u001b[0m\u001b[0;34m\u001b[0m\u001b[0m\n",
      "\u001b[0;32m/usr/local/lib/python3.10/dist-packages/keras/callbacks.py\u001b[0m in \u001b[0;36mon_train_batch_end\u001b[0;34m(self, batch, logs)\u001b[0m\n\u001b[1;32m    473\u001b[0m         \"\"\"\n\u001b[1;32m    474\u001b[0m         \u001b[0;32mif\u001b[0m \u001b[0mself\u001b[0m\u001b[0;34m.\u001b[0m\u001b[0m_should_call_train_batch_hooks\u001b[0m\u001b[0;34m:\u001b[0m\u001b[0;34m\u001b[0m\u001b[0;34m\u001b[0m\u001b[0m\n\u001b[0;32m--> 475\u001b[0;31m             \u001b[0mself\u001b[0m\u001b[0;34m.\u001b[0m\u001b[0m_call_batch_hook\u001b[0m\u001b[0;34m(\u001b[0m\u001b[0mModeKeys\u001b[0m\u001b[0;34m.\u001b[0m\u001b[0mTRAIN\u001b[0m\u001b[0;34m,\u001b[0m \u001b[0;34m\"end\"\u001b[0m\u001b[0;34m,\u001b[0m \u001b[0mbatch\u001b[0m\u001b[0;34m,\u001b[0m \u001b[0mlogs\u001b[0m\u001b[0;34m=\u001b[0m\u001b[0mlogs\u001b[0m\u001b[0;34m)\u001b[0m\u001b[0;34m\u001b[0m\u001b[0;34m\u001b[0m\u001b[0m\n\u001b[0m\u001b[1;32m    476\u001b[0m \u001b[0;34m\u001b[0m\u001b[0m\n\u001b[1;32m    477\u001b[0m     \u001b[0;32mdef\u001b[0m \u001b[0mon_test_batch_begin\u001b[0m\u001b[0;34m(\u001b[0m\u001b[0mself\u001b[0m\u001b[0;34m,\u001b[0m \u001b[0mbatch\u001b[0m\u001b[0;34m,\u001b[0m \u001b[0mlogs\u001b[0m\u001b[0;34m=\u001b[0m\u001b[0;32mNone\u001b[0m\u001b[0;34m)\u001b[0m\u001b[0;34m:\u001b[0m\u001b[0;34m\u001b[0m\u001b[0;34m\u001b[0m\u001b[0m\n",
      "\u001b[0;32m/usr/local/lib/python3.10/dist-packages/keras/callbacks.py\u001b[0m in \u001b[0;36m_call_batch_hook\u001b[0;34m(self, mode, hook, batch, logs)\u001b[0m\n\u001b[1;32m    320\u001b[0m             \u001b[0mself\u001b[0m\u001b[0;34m.\u001b[0m\u001b[0m_call_batch_begin_hook\u001b[0m\u001b[0;34m(\u001b[0m\u001b[0mmode\u001b[0m\u001b[0;34m,\u001b[0m \u001b[0mbatch\u001b[0m\u001b[0;34m,\u001b[0m \u001b[0mlogs\u001b[0m\u001b[0;34m)\u001b[0m\u001b[0;34m\u001b[0m\u001b[0;34m\u001b[0m\u001b[0m\n\u001b[1;32m    321\u001b[0m         \u001b[0;32melif\u001b[0m \u001b[0mhook\u001b[0m \u001b[0;34m==\u001b[0m \u001b[0;34m\"end\"\u001b[0m\u001b[0;34m:\u001b[0m\u001b[0;34m\u001b[0m\u001b[0;34m\u001b[0m\u001b[0m\n\u001b[0;32m--> 322\u001b[0;31m             \u001b[0mself\u001b[0m\u001b[0;34m.\u001b[0m\u001b[0m_call_batch_end_hook\u001b[0m\u001b[0;34m(\u001b[0m\u001b[0mmode\u001b[0m\u001b[0;34m,\u001b[0m \u001b[0mbatch\u001b[0m\u001b[0;34m,\u001b[0m \u001b[0mlogs\u001b[0m\u001b[0;34m)\u001b[0m\u001b[0;34m\u001b[0m\u001b[0;34m\u001b[0m\u001b[0m\n\u001b[0m\u001b[1;32m    323\u001b[0m         \u001b[0;32melse\u001b[0m\u001b[0;34m:\u001b[0m\u001b[0;34m\u001b[0m\u001b[0;34m\u001b[0m\u001b[0m\n\u001b[1;32m    324\u001b[0m             raise ValueError(\n",
      "\u001b[0;32m/usr/local/lib/python3.10/dist-packages/keras/callbacks.py\u001b[0m in \u001b[0;36m_call_batch_end_hook\u001b[0;34m(self, mode, batch, logs)\u001b[0m\n\u001b[1;32m    343\u001b[0m             \u001b[0mself\u001b[0m\u001b[0;34m.\u001b[0m\u001b[0m_batch_times\u001b[0m\u001b[0;34m.\u001b[0m\u001b[0mappend\u001b[0m\u001b[0;34m(\u001b[0m\u001b[0mbatch_time\u001b[0m\u001b[0;34m)\u001b[0m\u001b[0;34m\u001b[0m\u001b[0;34m\u001b[0m\u001b[0m\n\u001b[1;32m    344\u001b[0m \u001b[0;34m\u001b[0m\u001b[0m\n\u001b[0;32m--> 345\u001b[0;31m         \u001b[0mself\u001b[0m\u001b[0;34m.\u001b[0m\u001b[0m_call_batch_hook_helper\u001b[0m\u001b[0;34m(\u001b[0m\u001b[0mhook_name\u001b[0m\u001b[0;34m,\u001b[0m \u001b[0mbatch\u001b[0m\u001b[0;34m,\u001b[0m \u001b[0mlogs\u001b[0m\u001b[0;34m)\u001b[0m\u001b[0;34m\u001b[0m\u001b[0;34m\u001b[0m\u001b[0m\n\u001b[0m\u001b[1;32m    346\u001b[0m \u001b[0;34m\u001b[0m\u001b[0m\n\u001b[1;32m    347\u001b[0m         \u001b[0;32mif\u001b[0m \u001b[0mlen\u001b[0m\u001b[0;34m(\u001b[0m\u001b[0mself\u001b[0m\u001b[0;34m.\u001b[0m\u001b[0m_batch_times\u001b[0m\u001b[0;34m)\u001b[0m \u001b[0;34m>=\u001b[0m \u001b[0mself\u001b[0m\u001b[0;34m.\u001b[0m\u001b[0m_num_batches_for_timing_check\u001b[0m\u001b[0;34m:\u001b[0m\u001b[0;34m\u001b[0m\u001b[0;34m\u001b[0m\u001b[0m\n",
      "\u001b[0;32m/usr/local/lib/python3.10/dist-packages/keras/callbacks.py\u001b[0m in \u001b[0;36m_call_batch_hook_helper\u001b[0;34m(self, hook_name, batch, logs)\u001b[0m\n\u001b[1;32m    391\u001b[0m         \u001b[0;32mfor\u001b[0m \u001b[0mcallback\u001b[0m \u001b[0;32min\u001b[0m \u001b[0mself\u001b[0m\u001b[0;34m.\u001b[0m\u001b[0mcallbacks\u001b[0m\u001b[0;34m:\u001b[0m\u001b[0;34m\u001b[0m\u001b[0;34m\u001b[0m\u001b[0m\n\u001b[1;32m    392\u001b[0m             \u001b[0mhook\u001b[0m \u001b[0;34m=\u001b[0m \u001b[0mgetattr\u001b[0m\u001b[0;34m(\u001b[0m\u001b[0mcallback\u001b[0m\u001b[0;34m,\u001b[0m \u001b[0mhook_name\u001b[0m\u001b[0;34m)\u001b[0m\u001b[0;34m\u001b[0m\u001b[0;34m\u001b[0m\u001b[0m\n\u001b[0;32m--> 393\u001b[0;31m             \u001b[0mhook\u001b[0m\u001b[0;34m(\u001b[0m\u001b[0mbatch\u001b[0m\u001b[0;34m,\u001b[0m \u001b[0mlogs\u001b[0m\u001b[0;34m)\u001b[0m\u001b[0;34m\u001b[0m\u001b[0;34m\u001b[0m\u001b[0m\n\u001b[0m\u001b[1;32m    394\u001b[0m \u001b[0;34m\u001b[0m\u001b[0m\n\u001b[1;32m    395\u001b[0m         \u001b[0;32mif\u001b[0m \u001b[0mself\u001b[0m\u001b[0;34m.\u001b[0m\u001b[0m_check_timing\u001b[0m\u001b[0;34m:\u001b[0m\u001b[0;34m\u001b[0m\u001b[0;34m\u001b[0m\u001b[0m\n",
      "\u001b[0;32m/usr/local/lib/python3.10/dist-packages/keras/callbacks.py\u001b[0m in \u001b[0;36mon_train_batch_end\u001b[0;34m(self, batch, logs)\u001b[0m\n\u001b[1;32m   1091\u001b[0m \u001b[0;34m\u001b[0m\u001b[0m\n\u001b[1;32m   1092\u001b[0m     \u001b[0;32mdef\u001b[0m \u001b[0mon_train_batch_end\u001b[0m\u001b[0;34m(\u001b[0m\u001b[0mself\u001b[0m\u001b[0;34m,\u001b[0m \u001b[0mbatch\u001b[0m\u001b[0;34m,\u001b[0m \u001b[0mlogs\u001b[0m\u001b[0;34m=\u001b[0m\u001b[0;32mNone\u001b[0m\u001b[0;34m)\u001b[0m\u001b[0;34m:\u001b[0m\u001b[0;34m\u001b[0m\u001b[0;34m\u001b[0m\u001b[0m\n\u001b[0;32m-> 1093\u001b[0;31m         \u001b[0mself\u001b[0m\u001b[0;34m.\u001b[0m\u001b[0m_batch_update_progbar\u001b[0m\u001b[0;34m(\u001b[0m\u001b[0mbatch\u001b[0m\u001b[0;34m,\u001b[0m \u001b[0mlogs\u001b[0m\u001b[0;34m)\u001b[0m\u001b[0;34m\u001b[0m\u001b[0;34m\u001b[0m\u001b[0m\n\u001b[0m\u001b[1;32m   1094\u001b[0m \u001b[0;34m\u001b[0m\u001b[0m\n\u001b[1;32m   1095\u001b[0m     \u001b[0;32mdef\u001b[0m \u001b[0mon_test_batch_end\u001b[0m\u001b[0;34m(\u001b[0m\u001b[0mself\u001b[0m\u001b[0;34m,\u001b[0m \u001b[0mbatch\u001b[0m\u001b[0;34m,\u001b[0m \u001b[0mlogs\u001b[0m\u001b[0;34m=\u001b[0m\u001b[0;32mNone\u001b[0m\u001b[0;34m)\u001b[0m\u001b[0;34m:\u001b[0m\u001b[0;34m\u001b[0m\u001b[0;34m\u001b[0m\u001b[0m\n",
      "\u001b[0;32m/usr/local/lib/python3.10/dist-packages/keras/callbacks.py\u001b[0m in \u001b[0;36m_batch_update_progbar\u001b[0;34m(self, batch, logs)\u001b[0m\n\u001b[1;32m   1167\u001b[0m         \u001b[0;32mif\u001b[0m \u001b[0mself\u001b[0m\u001b[0;34m.\u001b[0m\u001b[0mverbose\u001b[0m \u001b[0;34m==\u001b[0m \u001b[0;36m1\u001b[0m\u001b[0;34m:\u001b[0m\u001b[0;34m\u001b[0m\u001b[0;34m\u001b[0m\u001b[0m\n\u001b[1;32m   1168\u001b[0m             \u001b[0;31m# Only block async when verbose = 1.\u001b[0m\u001b[0;34m\u001b[0m\u001b[0;34m\u001b[0m\u001b[0m\n\u001b[0;32m-> 1169\u001b[0;31m             \u001b[0mlogs\u001b[0m \u001b[0;34m=\u001b[0m \u001b[0mtf_utils\u001b[0m\u001b[0;34m.\u001b[0m\u001b[0msync_to_numpy_or_python_type\u001b[0m\u001b[0;34m(\u001b[0m\u001b[0mlogs\u001b[0m\u001b[0;34m)\u001b[0m\u001b[0;34m\u001b[0m\u001b[0;34m\u001b[0m\u001b[0m\n\u001b[0m\u001b[1;32m   1170\u001b[0m             \u001b[0mself\u001b[0m\u001b[0;34m.\u001b[0m\u001b[0mprogbar\u001b[0m\u001b[0;34m.\u001b[0m\u001b[0mupdate\u001b[0m\u001b[0;34m(\u001b[0m\u001b[0mself\u001b[0m\u001b[0;34m.\u001b[0m\u001b[0mseen\u001b[0m\u001b[0;34m,\u001b[0m \u001b[0mlist\u001b[0m\u001b[0;34m(\u001b[0m\u001b[0mlogs\u001b[0m\u001b[0;34m.\u001b[0m\u001b[0mitems\u001b[0m\u001b[0;34m(\u001b[0m\u001b[0;34m)\u001b[0m\u001b[0;34m)\u001b[0m\u001b[0;34m,\u001b[0m \u001b[0mfinalize\u001b[0m\u001b[0;34m=\u001b[0m\u001b[0;32mFalse\u001b[0m\u001b[0;34m)\u001b[0m\u001b[0;34m\u001b[0m\u001b[0;34m\u001b[0m\u001b[0m\n\u001b[1;32m   1171\u001b[0m \u001b[0;34m\u001b[0m\u001b[0m\n",
      "\u001b[0;32m/usr/local/lib/python3.10/dist-packages/keras/utils/tf_utils.py\u001b[0m in \u001b[0;36msync_to_numpy_or_python_type\u001b[0;34m(tensors)\u001b[0m\n\u001b[1;32m    678\u001b[0m         \u001b[0;32mreturn\u001b[0m \u001b[0mt\u001b[0m\u001b[0;34m.\u001b[0m\u001b[0mitem\u001b[0m\u001b[0;34m(\u001b[0m\u001b[0;34m)\u001b[0m \u001b[0;32mif\u001b[0m \u001b[0mnp\u001b[0m\u001b[0;34m.\u001b[0m\u001b[0mndim\u001b[0m\u001b[0;34m(\u001b[0m\u001b[0mt\u001b[0m\u001b[0;34m)\u001b[0m \u001b[0;34m==\u001b[0m \u001b[0;36m0\u001b[0m \u001b[0;32melse\u001b[0m \u001b[0mt\u001b[0m\u001b[0;34m\u001b[0m\u001b[0;34m\u001b[0m\u001b[0m\n\u001b[1;32m    679\u001b[0m \u001b[0;34m\u001b[0m\u001b[0m\n\u001b[0;32m--> 680\u001b[0;31m     \u001b[0;32mreturn\u001b[0m \u001b[0mtf\u001b[0m\u001b[0;34m.\u001b[0m\u001b[0mnest\u001b[0m\u001b[0;34m.\u001b[0m\u001b[0mmap_structure\u001b[0m\u001b[0;34m(\u001b[0m\u001b[0m_to_single_numpy_or_python_type\u001b[0m\u001b[0;34m,\u001b[0m \u001b[0mtensors\u001b[0m\u001b[0;34m)\u001b[0m\u001b[0;34m\u001b[0m\u001b[0;34m\u001b[0m\u001b[0m\n\u001b[0m\u001b[1;32m    681\u001b[0m \u001b[0;34m\u001b[0m\u001b[0m\n\u001b[1;32m    682\u001b[0m \u001b[0;34m\u001b[0m\u001b[0m\n",
      "\u001b[0;32m/usr/local/lib/python3.10/dist-packages/tensorflow/python/util/nest.py\u001b[0m in \u001b[0;36mmap_structure\u001b[0;34m(func, *structure, **kwargs)\u001b[0m\n\u001b[1;32m    915\u001b[0m \u001b[0;34m\u001b[0m\u001b[0m\n\u001b[1;32m    916\u001b[0m   return pack_sequence_as(\n\u001b[0;32m--> 917\u001b[0;31m       \u001b[0mstructure\u001b[0m\u001b[0;34m[\u001b[0m\u001b[0;36m0\u001b[0m\u001b[0;34m]\u001b[0m\u001b[0;34m,\u001b[0m \u001b[0;34m[\u001b[0m\u001b[0mfunc\u001b[0m\u001b[0;34m(\u001b[0m\u001b[0;34m*\u001b[0m\u001b[0mx\u001b[0m\u001b[0;34m)\u001b[0m \u001b[0;32mfor\u001b[0m \u001b[0mx\u001b[0m \u001b[0;32min\u001b[0m \u001b[0mentries\u001b[0m\u001b[0;34m]\u001b[0m\u001b[0;34m,\u001b[0m\u001b[0;34m\u001b[0m\u001b[0;34m\u001b[0m\u001b[0m\n\u001b[0m\u001b[1;32m    918\u001b[0m       expand_composites=expand_composites)\n\u001b[1;32m    919\u001b[0m \u001b[0;34m\u001b[0m\u001b[0m\n",
      "\u001b[0;32m/usr/local/lib/python3.10/dist-packages/tensorflow/python/util/nest.py\u001b[0m in \u001b[0;36m<listcomp>\u001b[0;34m(.0)\u001b[0m\n\u001b[1;32m    915\u001b[0m \u001b[0;34m\u001b[0m\u001b[0m\n\u001b[1;32m    916\u001b[0m   return pack_sequence_as(\n\u001b[0;32m--> 917\u001b[0;31m       \u001b[0mstructure\u001b[0m\u001b[0;34m[\u001b[0m\u001b[0;36m0\u001b[0m\u001b[0;34m]\u001b[0m\u001b[0;34m,\u001b[0m \u001b[0;34m[\u001b[0m\u001b[0mfunc\u001b[0m\u001b[0;34m(\u001b[0m\u001b[0;34m*\u001b[0m\u001b[0mx\u001b[0m\u001b[0;34m)\u001b[0m \u001b[0;32mfor\u001b[0m \u001b[0mx\u001b[0m \u001b[0;32min\u001b[0m \u001b[0mentries\u001b[0m\u001b[0;34m]\u001b[0m\u001b[0;34m,\u001b[0m\u001b[0;34m\u001b[0m\u001b[0;34m\u001b[0m\u001b[0m\n\u001b[0m\u001b[1;32m    918\u001b[0m       expand_composites=expand_composites)\n\u001b[1;32m    919\u001b[0m \u001b[0;34m\u001b[0m\u001b[0m\n",
      "\u001b[0;32m/usr/local/lib/python3.10/dist-packages/keras/utils/tf_utils.py\u001b[0m in \u001b[0;36m_to_single_numpy_or_python_type\u001b[0;34m(t)\u001b[0m\n\u001b[1;32m    671\u001b[0m         \u001b[0;31m# Don't turn ragged or sparse tensors to NumPy.\u001b[0m\u001b[0;34m\u001b[0m\u001b[0;34m\u001b[0m\u001b[0m\n\u001b[1;32m    672\u001b[0m         \u001b[0;32mif\u001b[0m \u001b[0misinstance\u001b[0m\u001b[0;34m(\u001b[0m\u001b[0mt\u001b[0m\u001b[0;34m,\u001b[0m \u001b[0mtf\u001b[0m\u001b[0;34m.\u001b[0m\u001b[0mTensor\u001b[0m\u001b[0;34m)\u001b[0m\u001b[0;34m:\u001b[0m\u001b[0;34m\u001b[0m\u001b[0;34m\u001b[0m\u001b[0m\n\u001b[0;32m--> 673\u001b[0;31m             \u001b[0mt\u001b[0m \u001b[0;34m=\u001b[0m \u001b[0mt\u001b[0m\u001b[0;34m.\u001b[0m\u001b[0mnumpy\u001b[0m\u001b[0;34m(\u001b[0m\u001b[0;34m)\u001b[0m\u001b[0;34m\u001b[0m\u001b[0;34m\u001b[0m\u001b[0m\n\u001b[0m\u001b[1;32m    674\u001b[0m         \u001b[0;31m# Strings, ragged and sparse tensors don't have .item(). Return them\u001b[0m\u001b[0;34m\u001b[0m\u001b[0;34m\u001b[0m\u001b[0m\n\u001b[1;32m    675\u001b[0m         \u001b[0;31m# as-is.\u001b[0m\u001b[0;34m\u001b[0m\u001b[0;34m\u001b[0m\u001b[0m\n",
      "\u001b[0;32m/usr/local/lib/python3.10/dist-packages/tensorflow/python/framework/ops.py\u001b[0m in \u001b[0;36mnumpy\u001b[0;34m(self)\u001b[0m\n\u001b[1;32m   1158\u001b[0m     \"\"\"\n\u001b[1;32m   1159\u001b[0m     \u001b[0;31m# TODO(slebedev): Consider avoiding a copy for non-CPU or remote tensors.\u001b[0m\u001b[0;34m\u001b[0m\u001b[0;34m\u001b[0m\u001b[0m\n\u001b[0;32m-> 1160\u001b[0;31m     \u001b[0mmaybe_arr\u001b[0m \u001b[0;34m=\u001b[0m \u001b[0mself\u001b[0m\u001b[0;34m.\u001b[0m\u001b[0m_numpy\u001b[0m\u001b[0;34m(\u001b[0m\u001b[0;34m)\u001b[0m  \u001b[0;31m# pylint: disable=protected-access\u001b[0m\u001b[0;34m\u001b[0m\u001b[0;34m\u001b[0m\u001b[0m\n\u001b[0m\u001b[1;32m   1161\u001b[0m     \u001b[0;32mreturn\u001b[0m \u001b[0mmaybe_arr\u001b[0m\u001b[0;34m.\u001b[0m\u001b[0mcopy\u001b[0m\u001b[0;34m(\u001b[0m\u001b[0;34m)\u001b[0m \u001b[0;32mif\u001b[0m \u001b[0misinstance\u001b[0m\u001b[0;34m(\u001b[0m\u001b[0mmaybe_arr\u001b[0m\u001b[0;34m,\u001b[0m \u001b[0mnp\u001b[0m\u001b[0;34m.\u001b[0m\u001b[0mndarray\u001b[0m\u001b[0;34m)\u001b[0m \u001b[0;32melse\u001b[0m \u001b[0mmaybe_arr\u001b[0m\u001b[0;34m\u001b[0m\u001b[0;34m\u001b[0m\u001b[0m\n\u001b[1;32m   1162\u001b[0m \u001b[0;34m\u001b[0m\u001b[0m\n",
      "\u001b[0;32m/usr/local/lib/python3.10/dist-packages/tensorflow/python/framework/ops.py\u001b[0m in \u001b[0;36m_numpy\u001b[0;34m(self)\u001b[0m\n\u001b[1;32m   1124\u001b[0m   \u001b[0;32mdef\u001b[0m \u001b[0m_numpy\u001b[0m\u001b[0;34m(\u001b[0m\u001b[0mself\u001b[0m\u001b[0;34m)\u001b[0m\u001b[0;34m:\u001b[0m\u001b[0;34m\u001b[0m\u001b[0;34m\u001b[0m\u001b[0m\n\u001b[1;32m   1125\u001b[0m     \u001b[0;32mtry\u001b[0m\u001b[0;34m:\u001b[0m\u001b[0;34m\u001b[0m\u001b[0;34m\u001b[0m\u001b[0m\n\u001b[0;32m-> 1126\u001b[0;31m       \u001b[0;32mreturn\u001b[0m \u001b[0mself\u001b[0m\u001b[0;34m.\u001b[0m\u001b[0m_numpy_internal\u001b[0m\u001b[0;34m(\u001b[0m\u001b[0;34m)\u001b[0m\u001b[0;34m\u001b[0m\u001b[0;34m\u001b[0m\u001b[0m\n\u001b[0m\u001b[1;32m   1127\u001b[0m     \u001b[0;32mexcept\u001b[0m \u001b[0mcore\u001b[0m\u001b[0;34m.\u001b[0m\u001b[0m_NotOkStatusException\u001b[0m \u001b[0;32mas\u001b[0m \u001b[0me\u001b[0m\u001b[0;34m:\u001b[0m  \u001b[0;31m# pylint: disable=protected-access\u001b[0m\u001b[0;34m\u001b[0m\u001b[0;34m\u001b[0m\u001b[0m\n\u001b[1;32m   1128\u001b[0m       \u001b[0;32mraise\u001b[0m \u001b[0mcore\u001b[0m\u001b[0;34m.\u001b[0m\u001b[0m_status_to_exception\u001b[0m\u001b[0;34m(\u001b[0m\u001b[0me\u001b[0m\u001b[0;34m)\u001b[0m \u001b[0;32mfrom\u001b[0m \u001b[0;32mNone\u001b[0m  \u001b[0;31m# pylint: disable=protected-access\u001b[0m\u001b[0;34m\u001b[0m\u001b[0;34m\u001b[0m\u001b[0m\n",
      "\u001b[0;31mKeyboardInterrupt\u001b[0m: "
     ]
    }
   ],
   "source": [
    "history3 = model3.fit(\n",
    "    x=train_ds_norm,\n",
    "    y=None,\n",
    "    validation_data= val_ds_norm,\n",
    "    epochs=epochs,\n",
    "    verbose=\"auto\",\n",
    "    callbacks=callbacks,\n",
    "    validation_split=0.0,\n",
    "    shuffle=True,\n",
    "    validation_freq=1,\n",
    "    batch_size = batch_size\n",
    "    )"
   ]
  },
  {
   "cell_type": "code",
   "execution_count": null,
   "metadata": {
    "id": "v46QmySFtOM5"
   },
   "outputs": [],
   "source": []
  },
  {
   "cell_type": "code",
   "execution_count": null,
   "metadata": {
    "colab": {
     "base_uri": "https://localhost:8080/"
    },
    "id": "xddOC7yQtOM5",
    "outputId": "9aafceb4-cd45-42d0-8788-4d9d67b07f97"
   },
   "outputs": [
    {
     "name": "stdout",
     "output_type": "stream",
     "text": [
      "30/30 - 2s - loss: 0.7831 - accuracy: 0.8216 - 2s/epoch - 55ms/step\n"
     ]
    }
   ],
   "source": [
    "loss, acc = model3.evaluate(x=test_ds_norm, y=None, verbose=2)"
   ]
  },
  {
   "cell_type": "code",
   "execution_count": null,
   "metadata": {
    "id": "SK1CmpLntOM5"
   },
   "outputs": [],
   "source": [
    "model3.save('model_9_20a5.keras')"
   ]
  },
  {
   "cell_type": "code",
   "execution_count": null,
   "metadata": {
    "colab": {
     "base_uri": "https://localhost:8080/",
     "height": 266
    },
    "id": "_Rz6j4EntOM5",
    "outputId": "98dc2af9-4e7f-4f39-b98e-b851650eaa08"
   },
   "outputs": [
    {
     "ename": "NameError",
     "evalue": "ignored",
     "output_type": "error",
     "traceback": [
      "\u001b[0;31m---------------------------------------------------------------------------\u001b[0m",
      "\u001b[0;31mNameError\u001b[0m                                 Traceback (most recent call last)",
      "\u001b[0;32m<ipython-input-35-3ce1695d14db>\u001b[0m in \u001b[0;36m<cell line: 1>\u001b[0;34m()\u001b[0m\n\u001b[0;32m----> 1\u001b[0;31m \u001b[0maccuracy\u001b[0m \u001b[0;34m=\u001b[0m \u001b[0mhistory3\u001b[0m\u001b[0;34m.\u001b[0m\u001b[0mhistory\u001b[0m\u001b[0;34m[\u001b[0m\u001b[0;34m'accuracy'\u001b[0m\u001b[0;34m]\u001b[0m\u001b[0;34m\u001b[0m\u001b[0;34m\u001b[0m\u001b[0m\n\u001b[0m\u001b[1;32m      2\u001b[0m \u001b[0mval_accuracy\u001b[0m \u001b[0;34m=\u001b[0m \u001b[0mhistory3\u001b[0m\u001b[0;34m.\u001b[0m\u001b[0mhistory\u001b[0m\u001b[0;34m[\u001b[0m\u001b[0;34m'val_accuracy'\u001b[0m\u001b[0;34m]\u001b[0m\u001b[0;34m\u001b[0m\u001b[0;34m\u001b[0m\u001b[0m\n\u001b[1;32m      3\u001b[0m \u001b[0mloss\u001b[0m \u001b[0;34m=\u001b[0m \u001b[0mhistory3\u001b[0m\u001b[0;34m.\u001b[0m\u001b[0mhistory\u001b[0m\u001b[0;34m[\u001b[0m\u001b[0;34m'loss'\u001b[0m\u001b[0;34m]\u001b[0m\u001b[0;34m\u001b[0m\u001b[0;34m\u001b[0m\u001b[0m\n\u001b[1;32m      4\u001b[0m \u001b[0mval_loss\u001b[0m \u001b[0;34m=\u001b[0m \u001b[0mhistory3\u001b[0m\u001b[0;34m.\u001b[0m\u001b[0mhistory\u001b[0m\u001b[0;34m[\u001b[0m\u001b[0;34m'val_loss'\u001b[0m\u001b[0;34m]\u001b[0m\u001b[0;34m\u001b[0m\u001b[0;34m\u001b[0m\u001b[0m\n\u001b[1;32m      5\u001b[0m \u001b[0mepochs\u001b[0m \u001b[0;34m=\u001b[0m \u001b[0mrange\u001b[0m\u001b[0;34m(\u001b[0m\u001b[0;36m1\u001b[0m\u001b[0;34m,\u001b[0m \u001b[0mlen\u001b[0m\u001b[0;34m(\u001b[0m\u001b[0maccuracy\u001b[0m\u001b[0;34m)\u001b[0m \u001b[0;34m+\u001b[0m \u001b[0;36m1\u001b[0m\u001b[0;34m)\u001b[0m\u001b[0;34m\u001b[0m\u001b[0;34m\u001b[0m\u001b[0m\n",
      "\u001b[0;31mNameError\u001b[0m: name 'history3' is not defined"
     ]
    }
   ],
   "source": [
    "accuracy = history3.history['accuracy']\n",
    "val_accuracy = history3.history['val_accuracy']\n",
    "loss = history3.history['loss']\n",
    "val_loss = history3.history['val_loss']\n",
    "epochs = range(1, len(accuracy) + 1)\n",
    "plt.plot(epochs, accuracy, 'g--', label='Training accuracy')\n",
    "plt.plot(epochs, val_accuracy, 'g', label='Validation accuracy')\n",
    "plt.legend()\n",
    "plt.figure()\n",
    "plt.plot(epochs, loss, 'g--', label='Training loss')\n",
    "plt.plot(epochs, val_loss, 'g', label='Validation loss')\n",
    "plt.legend()\n",
    "plt.show()"
   ]
  },
  {
   "cell_type": "code",
   "execution_count": null,
   "metadata": {
    "id": "ACUJdXfVz3wT"
   },
   "outputs": [],
   "source": []
  },
  {
   "cell_type": "code",
   "execution_count": null,
   "metadata": {
    "colab": {
     "base_uri": "https://localhost:8080/"
    },
    "id": "rV-Y02WNAUtq",
    "outputId": "085af544-429d-4efe-babe-517874267062"
   },
   "outputs": [
    {
     "name": "stdout",
     "output_type": "stream",
     "text": [
      "Found 91166 files belonging to 15 classes.\n"
     ]
    }
   ],
   "source": [
    "column_labels = ['blouse', 'dhoti_pants', 'dupattas', 'gowns', 'kurta_men', 'leggings_and_salwars', 'lehenga', 'mojaris_men', 'mojaris_women', 'nehru_jackets', 'palazzos', 'petticoats', 'sherwanis', 'saree', 'women_kurta']\n",
    "train_dataset = image_dataset_from_directory(\n",
    "    '/content/train_w_labels',\n",
    "    labels='inferred',\n",
    "    color_mode='grayscale',\n",
    "    batch_size=256,\n",
    "    image_size=(70,70),\n",
    "    shuffle=True,\n",
    "    seed=None,\n",
    "    validation_split=None,\n",
    "    subset=None,\n",
    "    interpolation='bilinear',\n",
    "    crop_to_aspect_ratio=False,\n",
    "    class_names=column_labels)"
   ]
  },
  {
   "cell_type": "code",
   "execution_count": null,
   "metadata": {
    "colab": {
     "base_uri": "https://localhost:8080/"
    },
    "id": "pHAXEDoNAUtu",
    "outputId": "a912e17b-3a8b-4be1-e0a0-b2c87ee23cea"
   },
   "outputs": [
    {
     "name": "stdout",
     "output_type": "stream",
     "text": [
      "Found 7500 files belonging to 15 classes.\n"
     ]
    }
   ],
   "source": [
    "val_dataset = image_dataset_from_directory(\n",
    "    '/content/val_w_labels',\n",
    "    labels='inferred',\n",
    "    color_mode='grayscale',\n",
    "    batch_size=256,\n",
    "    image_size=(70,70),\n",
    "    shuffle=True,\n",
    "    seed=None,\n",
    "    validation_split=None,\n",
    "    subset=None,\n",
    "    interpolation='bilinear',\n",
    "    crop_to_aspect_ratio=False,\n",
    "    class_names=column_labels)"
   ]
  },
  {
   "cell_type": "code",
   "execution_count": null,
   "metadata": {
    "colab": {
     "base_uri": "https://localhost:8080/"
    },
    "id": "3wskjWKNAUtv",
    "outputId": "5429cf98-9481-4d1d-b12c-71c5fe56efa8"
   },
   "outputs": [
    {
     "name": "stdout",
     "output_type": "stream",
     "text": [
      "Found 7500 files belonging to 15 classes.\n"
     ]
    }
   ],
   "source": [
    "test_dataset = image_dataset_from_directory(\n",
    "    '/content/test_w_labels',\n",
    "    labels='inferred',\n",
    "    color_mode='grayscale',\n",
    "    batch_size=256,\n",
    "    image_size=(70,70),\n",
    "    shuffle=True,\n",
    "    seed=None,\n",
    "    validation_split=None,\n",
    "    subset=None,\n",
    "    interpolation='bilinear',\n",
    "    crop_to_aspect_ratio=False,\n",
    "    class_names=column_labels)"
   ]
  },
  {
   "cell_type": "code",
   "execution_count": null,
   "metadata": {
    "id": "8iLgiCVbAUtv"
   },
   "outputs": [],
   "source": [
    "normalization_layer = layers.Rescaling(1./255)\n",
    "train_ds_norm = train_dataset.map(lambda x, y: (normalization_layer(x), y))\n",
    "test_ds_norm = test_dataset.map(lambda x, y: (normalization_layer(x), y))\n",
    "val_ds_norm = test_dataset.map(lambda x, y: (normalization_layer(x), y))"
   ]
  },
  {
   "cell_type": "code",
   "execution_count": null,
   "metadata": {
    "id": "hNbMsru2AUtv"
   },
   "outputs": [],
   "source": [
    "# Setting up model\n",
    "img_width, img_height = 70,70\n",
    "\n",
    "\n",
    "nb_train_samples = 91166\n",
    "nb_validation_samples = 7500\n",
    "epochs = 100\n",
    "batch_size = 256\n",
    "n_classes = 15\n",
    "input_shape= (img_width, img_height, 1)"
   ]
  },
  {
   "cell_type": "code",
   "execution_count": null,
   "metadata": {
    "id": "S3B0Wq0nAUtv"
   },
   "outputs": [],
   "source": []
  },
  {
   "cell_type": "code",
   "execution_count": null,
   "metadata": {
    "id": "14pZC2fDAUtw"
   },
   "outputs": [],
   "source": [
    "model3 = Sequential()\n",
    "\n",
    "model3.add(Conv2D(32, (3,3), activation='relu', input_shape=input_shape))\n",
    "model3.add(layers.BatchNormalization())\n",
    "model3.add(MaxPooling2D(pool_size=(2, 2)))\n",
    "\n",
    "model3.add(Dropout(0.5))\n",
    "\n",
    "model3.add(Conv2D(32, (3,3), activation='relu'))\n",
    "model3.add(layers.BatchNormalization())\n",
    "model3.add(MaxPooling2D(pool_size=(2, 2)))\n",
    "\n",
    "model3.add(Dropout(0.5))\n",
    "\n",
    "model3.add(Conv2D(64, (3,3), activation='relu'))\n",
    "model3.add(layers.BatchNormalization())\n",
    "model3.add(MaxPooling2D(pool_size=(2, 2)))\n",
    "\n",
    "model3.add(Flatten())\n",
    "\n",
    "model3.add(Dense(140, activation='relu'))\n",
    "model3.add(Dropout(0.5))\n",
    "\n",
    "model3.add(Dense(n_classes, activation='softmax'))\n",
    "\n",
    "model3.compile(loss='SparseCategoricalCrossentropy', optimizer='adam', metrics=['accuracy'])\n"
   ]
  },
  {
   "cell_type": "code",
   "execution_count": null,
   "metadata": {
    "id": "9tabhPwXAUtw"
   },
   "outputs": [],
   "source": [
    "callbacks = [\n",
    "    keras.callbacks.ModelCheckpoint(\n",
    "        filepath='/content/drive/MyDrive/keras/09_20a5.keras',\n",
    "        save_best_only=True,\n",
    "        monitor='val_accuracy'\n",
    "    )]"
   ]
  },
  {
   "cell_type": "code",
   "execution_count": null,
   "metadata": {
    "colab": {
     "base_uri": "https://localhost:8080/"
    },
    "id": "9r6BPA03AUtw",
    "outputId": "37e068a5-7d7a-454b-cb89-c475f4cfbc18"
   },
   "outputs": [
    {
     "name": "stdout",
     "output_type": "stream",
     "text": [
      "Epoch 1/100\n",
      "357/357 [==============================] - 24s 56ms/step - loss: 1.7959 - accuracy: 0.4368 - val_loss: 3.0216 - val_accuracy: 0.2657\n",
      "Epoch 2/100\n",
      "357/357 [==============================] - 20s 55ms/step - loss: 1.2494 - accuracy: 0.5965 - val_loss: 1.5012 - val_accuracy: 0.5540\n",
      "Epoch 3/100\n",
      "357/357 [==============================] - 20s 56ms/step - loss: 1.0938 - accuracy: 0.6455 - val_loss: 1.0151 - val_accuracy: 0.6576\n",
      "Epoch 4/100\n",
      "357/357 [==============================] - 20s 54ms/step - loss: 0.9994 - accuracy: 0.6739 - val_loss: 0.9490 - val_accuracy: 0.6897\n",
      "Epoch 5/100\n",
      "357/357 [==============================] - 19s 53ms/step - loss: 0.9330 - accuracy: 0.6962 - val_loss: 0.9987 - val_accuracy: 0.6839\n",
      "Epoch 6/100\n",
      "357/357 [==============================] - 20s 56ms/step - loss: 0.8767 - accuracy: 0.7157 - val_loss: 0.9248 - val_accuracy: 0.7119\n",
      "Epoch 7/100\n",
      "357/357 [==============================] - 20s 55ms/step - loss: 0.8365 - accuracy: 0.7286 - val_loss: 0.8449 - val_accuracy: 0.7407\n",
      "Epoch 8/100\n",
      "357/357 [==============================] - 20s 55ms/step - loss: 0.8018 - accuracy: 0.7402 - val_loss: 0.7888 - val_accuracy: 0.7575\n",
      "Epoch 9/100\n",
      "357/357 [==============================] - 20s 55ms/step - loss: 0.7723 - accuracy: 0.7506 - val_loss: 0.7552 - val_accuracy: 0.7703\n",
      "Epoch 10/100\n",
      "357/357 [==============================] - 19s 53ms/step - loss: 0.7445 - accuracy: 0.7593 - val_loss: 0.7413 - val_accuracy: 0.7673\n",
      "Epoch 11/100\n",
      "357/357 [==============================] - 19s 53ms/step - loss: 0.7261 - accuracy: 0.7646 - val_loss: 0.7922 - val_accuracy: 0.7472\n",
      "Epoch 12/100\n",
      "357/357 [==============================] - 20s 55ms/step - loss: 0.7075 - accuracy: 0.7698 - val_loss: 0.6944 - val_accuracy: 0.7763\n",
      "Epoch 13/100\n",
      "357/357 [==============================] - 19s 52ms/step - loss: 0.6910 - accuracy: 0.7760 - val_loss: 0.7355 - val_accuracy: 0.7760\n",
      "Epoch 14/100\n",
      "357/357 [==============================] - 20s 54ms/step - loss: 0.6744 - accuracy: 0.7806 - val_loss: 0.6831 - val_accuracy: 0.7868\n",
      "Epoch 15/100\n",
      "357/357 [==============================] - 19s 53ms/step - loss: 0.6597 - accuracy: 0.7869 - val_loss: 0.7039 - val_accuracy: 0.7841\n",
      "Epoch 16/100\n",
      "357/357 [==============================] - 20s 54ms/step - loss: 0.6448 - accuracy: 0.7912 - val_loss: 0.6675 - val_accuracy: 0.7965\n",
      "Epoch 17/100\n",
      "357/357 [==============================] - 19s 53ms/step - loss: 0.6338 - accuracy: 0.7927 - val_loss: 0.6817 - val_accuracy: 0.7847\n",
      "Epoch 18/100\n",
      "357/357 [==============================] - 19s 53ms/step - loss: 0.6225 - accuracy: 0.7989 - val_loss: 0.7090 - val_accuracy: 0.7836\n",
      "Epoch 19/100\n",
      "357/357 [==============================] - 20s 55ms/step - loss: 0.6126 - accuracy: 0.8006 - val_loss: 0.6561 - val_accuracy: 0.7995\n",
      "Epoch 20/100\n",
      "357/357 [==============================] - 19s 52ms/step - loss: 0.6082 - accuracy: 0.8028 - val_loss: 0.6562 - val_accuracy: 0.7953\n",
      "Epoch 21/100\n",
      "357/357 [==============================] - 19s 52ms/step - loss: 0.5937 - accuracy: 0.8075 - val_loss: 0.7473 - val_accuracy: 0.7681\n",
      "Epoch 22/100\n",
      "357/357 [==============================] - 19s 52ms/step - loss: 0.5898 - accuracy: 0.8086 - val_loss: 0.6375 - val_accuracy: 0.7985\n",
      "Epoch 23/100\n",
      "357/357 [==============================] - 19s 53ms/step - loss: 0.5766 - accuracy: 0.8106 - val_loss: 0.6724 - val_accuracy: 0.7979\n",
      "Epoch 24/100\n",
      "357/357 [==============================] - 20s 55ms/step - loss: 0.5702 - accuracy: 0.8135 - val_loss: 0.6219 - val_accuracy: 0.8117\n",
      "Epoch 25/100\n",
      "357/357 [==============================] - 19s 52ms/step - loss: 0.5680 - accuracy: 0.8123 - val_loss: 0.6356 - val_accuracy: 0.8080\n",
      "Epoch 26/100\n",
      "357/357 [==============================] - 20s 54ms/step - loss: 0.5595 - accuracy: 0.8178 - val_loss: 0.6105 - val_accuracy: 0.8145\n",
      "Epoch 27/100\n",
      "357/357 [==============================] - 19s 52ms/step - loss: 0.5511 - accuracy: 0.8184 - val_loss: 0.6302 - val_accuracy: 0.8132\n",
      "Epoch 28/100\n",
      "357/357 [==============================] - 20s 54ms/step - loss: 0.5428 - accuracy: 0.8218 - val_loss: 0.6105 - val_accuracy: 0.8152\n",
      "Epoch 29/100\n",
      "357/357 [==============================] - 19s 52ms/step - loss: 0.5419 - accuracy: 0.8216 - val_loss: 0.6315 - val_accuracy: 0.8101\n",
      "Epoch 30/100\n",
      "357/357 [==============================] - 19s 53ms/step - loss: 0.5345 - accuracy: 0.8226 - val_loss: 0.6130 - val_accuracy: 0.8149\n",
      "Epoch 31/100\n",
      "357/357 [==============================] - 19s 53ms/step - loss: 0.5274 - accuracy: 0.8243 - val_loss: 0.6238 - val_accuracy: 0.8077\n",
      "Epoch 32/100\n",
      "357/357 [==============================] - 19s 52ms/step - loss: 0.5230 - accuracy: 0.8268 - val_loss: 0.6946 - val_accuracy: 0.7924\n",
      "Epoch 33/100\n",
      "357/357 [==============================] - 20s 54ms/step - loss: 0.5195 - accuracy: 0.8270 - val_loss: 0.5944 - val_accuracy: 0.8155\n",
      "Epoch 34/100\n",
      "357/357 [==============================] - 19s 53ms/step - loss: 0.5150 - accuracy: 0.8293 - val_loss: 0.6243 - val_accuracy: 0.8119\n",
      "Epoch 35/100\n",
      "357/357 [==============================] - 19s 53ms/step - loss: 0.5108 - accuracy: 0.8309 - val_loss: 0.6352 - val_accuracy: 0.8136\n",
      "Epoch 36/100\n",
      "357/357 [==============================] - 19s 53ms/step - loss: 0.5080 - accuracy: 0.8319 - val_loss: 0.6492 - val_accuracy: 0.8096\n",
      "Epoch 37/100\n",
      "357/357 [==============================] - 20s 55ms/step - loss: 0.5017 - accuracy: 0.8337 - val_loss: 0.5936 - val_accuracy: 0.8220\n",
      "Epoch 38/100\n",
      "357/357 [==============================] - 19s 53ms/step - loss: 0.5034 - accuracy: 0.8339 - val_loss: 0.6273 - val_accuracy: 0.8201\n",
      "Epoch 39/100\n",
      "357/357 [==============================] - 19s 53ms/step - loss: 0.4946 - accuracy: 0.8345 - val_loss: 0.8152 - val_accuracy: 0.7801\n",
      "Epoch 40/100\n",
      "357/357 [==============================] - 20s 54ms/step - loss: 0.4926 - accuracy: 0.8367 - val_loss: 0.6170 - val_accuracy: 0.8223\n",
      "Epoch 41/100\n",
      "357/357 [==============================] - 20s 55ms/step - loss: 0.4868 - accuracy: 0.8384 - val_loss: 0.5871 - val_accuracy: 0.8264\n",
      "Epoch 42/100\n",
      "357/357 [==============================] - 20s 54ms/step - loss: 0.4853 - accuracy: 0.8362 - val_loss: 0.6067 - val_accuracy: 0.8144\n",
      "Epoch 43/100\n",
      "357/357 [==============================] - 19s 53ms/step - loss: 0.4801 - accuracy: 0.8401 - val_loss: 0.6110 - val_accuracy: 0.8257\n",
      "Epoch 44/100\n",
      "357/357 [==============================] - 19s 53ms/step - loss: 0.4785 - accuracy: 0.8398 - val_loss: 0.7112 - val_accuracy: 0.7917\n",
      "Epoch 45/100\n",
      "357/357 [==============================] - 19s 52ms/step - loss: 0.4756 - accuracy: 0.8404 - val_loss: 0.6552 - val_accuracy: 0.8127\n",
      "Epoch 46/100\n",
      "357/357 [==============================] - 19s 53ms/step - loss: 0.4716 - accuracy: 0.8427 - val_loss: 0.7051 - val_accuracy: 0.7899\n",
      "Epoch 47/100\n",
      "357/357 [==============================] - 19s 53ms/step - loss: 0.4697 - accuracy: 0.8432 - val_loss: 0.6164 - val_accuracy: 0.8199\n",
      "Epoch 48/100\n",
      "357/357 [==============================] - 20s 54ms/step - loss: 0.4655 - accuracy: 0.8440 - val_loss: 0.6273 - val_accuracy: 0.8195\n",
      "Epoch 49/100\n",
      "357/357 [==============================] - 20s 54ms/step - loss: 0.4629 - accuracy: 0.8451 - val_loss: 0.6419 - val_accuracy: 0.8147\n",
      "Epoch 50/100\n",
      "357/357 [==============================] - 19s 53ms/step - loss: 0.4561 - accuracy: 0.8457 - val_loss: 0.6481 - val_accuracy: 0.8056\n",
      "Epoch 51/100\n",
      "357/357 [==============================] - 19s 53ms/step - loss: 0.4567 - accuracy: 0.8477 - val_loss: 0.6311 - val_accuracy: 0.8192\n",
      "Epoch 52/100\n",
      "357/357 [==============================] - 20s 54ms/step - loss: 0.4527 - accuracy: 0.8475 - val_loss: 0.6019 - val_accuracy: 0.8316\n",
      "Epoch 53/100\n",
      "357/357 [==============================] - 19s 52ms/step - loss: 0.4483 - accuracy: 0.8492 - val_loss: 0.6540 - val_accuracy: 0.8175\n",
      "Epoch 54/100\n",
      "357/357 [==============================] - 19s 52ms/step - loss: 0.4531 - accuracy: 0.8478 - val_loss: 0.6561 - val_accuracy: 0.8204\n",
      "Epoch 55/100\n",
      "357/357 [==============================] - 19s 53ms/step - loss: 0.4460 - accuracy: 0.8498 - val_loss: 0.6246 - val_accuracy: 0.8195\n",
      "Epoch 56/100\n",
      "357/357 [==============================] - 20s 54ms/step - loss: 0.4469 - accuracy: 0.8493 - val_loss: 0.6098 - val_accuracy: 0.8256\n",
      "Epoch 57/100\n",
      "357/357 [==============================] - 19s 53ms/step - loss: 0.4426 - accuracy: 0.8507 - val_loss: 0.6013 - val_accuracy: 0.8257\n",
      "Epoch 58/100\n",
      "357/357 [==============================] - 19s 53ms/step - loss: 0.4467 - accuracy: 0.8498 - val_loss: 0.6192 - val_accuracy: 0.8276\n",
      "Epoch 59/100\n",
      "357/357 [==============================] - 19s 52ms/step - loss: 0.4415 - accuracy: 0.8504 - val_loss: 0.6344 - val_accuracy: 0.8216\n",
      "Epoch 60/100\n",
      "357/357 [==============================] - 19s 52ms/step - loss: 0.4412 - accuracy: 0.8514 - val_loss: 0.6145 - val_accuracy: 0.8252\n",
      "Epoch 61/100\n",
      "357/357 [==============================] - 19s 52ms/step - loss: 0.4373 - accuracy: 0.8517 - val_loss: 0.6090 - val_accuracy: 0.8293\n",
      "Epoch 62/100\n",
      "357/357 [==============================] - 19s 53ms/step - loss: 0.4308 - accuracy: 0.8546 - val_loss: 0.6227 - val_accuracy: 0.8225\n",
      "Epoch 63/100\n",
      "357/357 [==============================] - 19s 53ms/step - loss: 0.4308 - accuracy: 0.8542 - val_loss: 0.6036 - val_accuracy: 0.8276\n",
      "Epoch 64/100\n",
      "357/357 [==============================] - 19s 53ms/step - loss: 0.4305 - accuracy: 0.8547 - val_loss: 0.6302 - val_accuracy: 0.8212\n",
      "Epoch 65/100\n",
      "357/357 [==============================] - 19s 53ms/step - loss: 0.4281 - accuracy: 0.8542 - val_loss: 0.6313 - val_accuracy: 0.8256\n",
      "Epoch 66/100\n",
      "357/357 [==============================] - 19s 52ms/step - loss: 0.4285 - accuracy: 0.8547 - val_loss: 0.6006 - val_accuracy: 0.8308\n",
      "Epoch 67/100\n",
      "357/357 [==============================] - 19s 52ms/step - loss: 0.4220 - accuracy: 0.8568 - val_loss: 0.6248 - val_accuracy: 0.8276\n",
      "Epoch 68/100\n",
      "357/357 [==============================] - 19s 52ms/step - loss: 0.4238 - accuracy: 0.8561 - val_loss: 0.6313 - val_accuracy: 0.8276\n",
      "Epoch 69/100\n",
      "357/357 [==============================] - 19s 53ms/step - loss: 0.4184 - accuracy: 0.8583 - val_loss: 0.6342 - val_accuracy: 0.8303\n",
      "Epoch 70/100\n",
      "357/357 [==============================] - 20s 54ms/step - loss: 0.4214 - accuracy: 0.8562 - val_loss: 0.6854 - val_accuracy: 0.8079\n",
      "Epoch 71/100\n",
      "357/357 [==============================] - 19s 53ms/step - loss: 0.4175 - accuracy: 0.8588 - val_loss: 0.6131 - val_accuracy: 0.8280\n",
      "Epoch 72/100\n",
      "357/357 [==============================] - 19s 53ms/step - loss: 0.4151 - accuracy: 0.8599 - val_loss: 0.6225 - val_accuracy: 0.8279\n",
      "Epoch 73/100\n",
      "357/357 [==============================] - 19s 52ms/step - loss: 0.4138 - accuracy: 0.8590 - val_loss: 0.6319 - val_accuracy: 0.8219\n",
      "Epoch 74/100\n",
      "357/357 [==============================] - 19s 52ms/step - loss: 0.4151 - accuracy: 0.8584 - val_loss: 0.6218 - val_accuracy: 0.8305\n",
      "Epoch 75/100\n",
      "357/357 [==============================] - 19s 53ms/step - loss: 0.4117 - accuracy: 0.8598 - val_loss: 0.6229 - val_accuracy: 0.8196\n",
      "Epoch 76/100\n",
      "357/357 [==============================] - 19s 53ms/step - loss: 0.4074 - accuracy: 0.8614 - val_loss: 0.6722 - val_accuracy: 0.8115\n",
      "Epoch 77/100\n",
      "357/357 [==============================] - 20s 54ms/step - loss: 0.4096 - accuracy: 0.8607 - val_loss: 0.6513 - val_accuracy: 0.8148\n",
      "Epoch 78/100\n",
      "357/357 [==============================] - 20s 54ms/step - loss: 0.4087 - accuracy: 0.8606 - val_loss: 0.6811 - val_accuracy: 0.8056\n",
      "Epoch 79/100\n",
      "357/357 [==============================] - 19s 53ms/step - loss: 0.4029 - accuracy: 0.8624 - val_loss: 0.5958 - val_accuracy: 0.8308\n",
      "Epoch 80/100\n",
      "357/357 [==============================] - 19s 52ms/step - loss: 0.4096 - accuracy: 0.8611 - val_loss: 0.6139 - val_accuracy: 0.8223\n",
      "Epoch 81/100\n",
      "357/357 [==============================] - 19s 53ms/step - loss: 0.4075 - accuracy: 0.8612 - val_loss: 0.7046 - val_accuracy: 0.8061\n",
      "Epoch 82/100\n",
      "357/357 [==============================] - 19s 53ms/step - loss: 0.4031 - accuracy: 0.8623 - val_loss: 0.6319 - val_accuracy: 0.8204\n",
      "Epoch 83/100\n",
      "357/357 [==============================] - 19s 53ms/step - loss: 0.4009 - accuracy: 0.8625 - val_loss: 0.6591 - val_accuracy: 0.8193\n",
      "Epoch 84/100\n",
      "357/357 [==============================] - 20s 54ms/step - loss: 0.4038 - accuracy: 0.8613 - val_loss: 0.6239 - val_accuracy: 0.8276\n",
      "Epoch 85/100\n",
      "357/357 [==============================] - 20s 55ms/step - loss: 0.4002 - accuracy: 0.8627 - val_loss: 0.6177 - val_accuracy: 0.8323\n",
      "Epoch 86/100\n",
      "357/357 [==============================] - 19s 53ms/step - loss: 0.3966 - accuracy: 0.8630 - val_loss: 0.6692 - val_accuracy: 0.8188\n",
      "Epoch 87/100\n",
      "357/357 [==============================] - 19s 52ms/step - loss: 0.3953 - accuracy: 0.8647 - val_loss: 0.6761 - val_accuracy: 0.8207\n",
      "Epoch 88/100\n",
      "357/357 [==============================] - 20s 54ms/step - loss: 0.3957 - accuracy: 0.8642 - val_loss: 0.6161 - val_accuracy: 0.8337\n",
      "Epoch 89/100\n",
      "357/357 [==============================] - 19s 53ms/step - loss: 0.3923 - accuracy: 0.8658 - val_loss: 0.6381 - val_accuracy: 0.8271\n",
      "Epoch 90/100\n",
      "357/357 [==============================] - 19s 53ms/step - loss: 0.3899 - accuracy: 0.8661 - val_loss: 0.6193 - val_accuracy: 0.8297\n",
      "Epoch 91/100\n",
      "357/357 [==============================] - 19s 53ms/step - loss: 0.3912 - accuracy: 0.8665 - val_loss: 0.6385 - val_accuracy: 0.8271\n",
      "Epoch 92/100\n",
      "357/357 [==============================] - 19s 53ms/step - loss: 0.3926 - accuracy: 0.8654 - val_loss: 0.6161 - val_accuracy: 0.8196\n",
      "Epoch 93/100\n",
      "357/357 [==============================] - 19s 53ms/step - loss: 0.3879 - accuracy: 0.8661 - val_loss: 0.6133 - val_accuracy: 0.8257\n",
      "Epoch 94/100\n",
      "357/357 [==============================] - 19s 52ms/step - loss: 0.3862 - accuracy: 0.8676 - val_loss: 0.6308 - val_accuracy: 0.8252\n",
      "Epoch 95/100\n",
      "357/357 [==============================] - 19s 52ms/step - loss: 0.3816 - accuracy: 0.8684 - val_loss: 0.6502 - val_accuracy: 0.8235\n",
      "Epoch 96/100\n",
      "357/357 [==============================] - 19s 53ms/step - loss: 0.3861 - accuracy: 0.8670 - val_loss: 0.6867 - val_accuracy: 0.7979\n",
      "Epoch 97/100\n",
      "357/357 [==============================] - 19s 53ms/step - loss: 0.3817 - accuracy: 0.8695 - val_loss: 0.6443 - val_accuracy: 0.8288\n",
      "Epoch 98/100\n",
      "357/357 [==============================] - 20s 55ms/step - loss: 0.3819 - accuracy: 0.8684 - val_loss: 0.6282 - val_accuracy: 0.8293\n",
      "Epoch 99/100\n",
      "357/357 [==============================] - 19s 53ms/step - loss: 0.3819 - accuracy: 0.8688 - val_loss: 0.6422 - val_accuracy: 0.8247\n",
      "Epoch 100/100\n",
      "357/357 [==============================] - 20s 56ms/step - loss: 0.3859 - accuracy: 0.8678 - val_loss: 0.6138 - val_accuracy: 0.8288\n"
     ]
    }
   ],
   "source": [
    "history3 = model3.fit(\n",
    "    x=train_ds_norm,\n",
    "    y=None,\n",
    "    validation_data= val_ds_norm,\n",
    "    epochs=epochs,\n",
    "    verbose=\"auto\",\n",
    "    callbacks=callbacks,\n",
    "    validation_split=0.0,\n",
    "    shuffle=True,\n",
    "    validation_freq=1,\n",
    "    batch_size = batch_size\n",
    "    )"
   ]
  },
  {
   "cell_type": "code",
   "execution_count": null,
   "metadata": {
    "id": "tzpNj9JFAUtw"
   },
   "outputs": [],
   "source": []
  },
  {
   "cell_type": "code",
   "execution_count": null,
   "metadata": {
    "colab": {
     "base_uri": "https://localhost:8080/"
    },
    "id": "T0vB1cieAUtw",
    "outputId": "67f6d031-93ac-43fb-bb0b-20439a32ad98"
   },
   "outputs": [
    {
     "name": "stdout",
     "output_type": "stream",
     "text": [
      "30/30 - 1s - loss: 0.6138 - accuracy: 0.8288 - 1s/epoch - 49ms/step\n"
     ]
    }
   ],
   "source": [
    "loss, acc = model3.evaluate(x=test_ds_norm, y=None, verbose=2)"
   ]
  },
  {
   "cell_type": "code",
   "execution_count": null,
   "metadata": {
    "id": "Q2c6IVrEAUtx"
   },
   "outputs": [],
   "source": [
    "model3.save('model_9_20a6.keras')"
   ]
  },
  {
   "cell_type": "code",
   "execution_count": null,
   "metadata": {
    "colab": {
     "base_uri": "https://localhost:8080/",
     "height": 864
    },
    "id": "7uIDRFYqAUtx",
    "outputId": "0fca6f88-3e83-409c-fa4b-7b22dccdd5b0"
   },
   "outputs": [
    {
     "data": {
      "image/png": "[encoded data removed]",
      "text/plain": [
       "<Figure size 640x480 with 1 Axes>"
      ]
     },
     "metadata": {},
     "output_type": "display_data"
    },
    {
     "data": {
      "image/png": "[encoded data removed]",
      "text/plain": [
       "<Figure size 640x480 with 1 Axes>"
      ]
     },
     "metadata": {},
     "output_type": "display_data"
    }
   ],
   "source": [
    "accuracy = history3.history['accuracy']\n",
    "val_accuracy = history3.history['val_accuracy']\n",
    "loss = history3.history['loss']\n",
    "val_loss = history3.history['val_loss']\n",
    "epochs = range(1, len(accuracy) + 1)\n",
    "plt.plot(epochs, accuracy, 'g--', label='Training accuracy')\n",
    "plt.plot(epochs, val_accuracy, 'g', label='Validation accuracy')\n",
    "plt.legend()\n",
    "plt.figure()\n",
    "plt.plot(epochs, loss, 'g--', label='Training loss')\n",
    "plt.plot(epochs, val_loss, 'g', label='Validation loss')\n",
    "plt.legend()\n",
    "plt.show()"
   ]
  },
  {
   "cell_type": "code",
   "execution_count": null,
   "metadata": {
    "id": "mMI-XGwdIIMv"
   },
   "outputs": [],
   "source": []
  },
  {
   "cell_type": "code",
   "execution_count": null,
   "metadata": {
    "colab": {
     "base_uri": "https://localhost:8080/"
    },
    "id": "vy64DxCFIImi",
    "outputId": "ed86b3ad-530e-4b6a-dc22-37b9475e0a6d"
   },
   "outputs": [
    {
     "name": "stdout",
     "output_type": "stream",
     "text": [
      "Found 91166 files belonging to 15 classes.\n"
     ]
    }
   ],
   "source": [
    "column_labels = ['blouse', 'dhoti_pants', 'dupattas', 'gowns', 'kurta_men', 'leggings_and_salwars', 'lehenga', 'mojaris_men', 'mojaris_women', 'nehru_jackets', 'palazzos', 'petticoats', 'sherwanis', 'saree', 'women_kurta']\n",
    "train_dataset = image_dataset_from_directory(\n",
    "    '/content/train_w_labels',\n",
    "    labels='inferred',\n",
    "    color_mode='rgb',\n",
    "    batch_size=256,\n",
    "    image_size=(70,70),\n",
    "    shuffle=True,\n",
    "    seed=None,\n",
    "    validation_split=None,\n",
    "    subset=None,\n",
    "    interpolation='bilinear',\n",
    "    crop_to_aspect_ratio=False,\n",
    "    class_names=column_labels)"
   ]
  },
  {
   "cell_type": "code",
   "execution_count": null,
   "metadata": {
    "colab": {
     "base_uri": "https://localhost:8080/"
    },
    "id": "G9oL856mIImk",
    "outputId": "8feb0532-f101-47d0-b6a6-a461695972d4"
   },
   "outputs": [
    {
     "name": "stdout",
     "output_type": "stream",
     "text": [
      "Found 7500 files belonging to 15 classes.\n"
     ]
    }
   ],
   "source": [
    "val_dataset = image_dataset_from_directory(\n",
    "    '/content/val_w_labels',\n",
    "    labels='inferred',\n",
    "    color_mode='rgb',\n",
    "    batch_size=256,\n",
    "    image_size=(70,70),\n",
    "    shuffle=True,\n",
    "    seed=None,\n",
    "    validation_split=None,\n",
    "    subset=None,\n",
    "    interpolation='bilinear',\n",
    "    crop_to_aspect_ratio=False,\n",
    "    class_names=column_labels)"
   ]
  },
  {
   "cell_type": "code",
   "execution_count": null,
   "metadata": {
    "colab": {
     "base_uri": "https://localhost:8080/"
    },
    "id": "ZrFhMMC6IImk",
    "outputId": "94838a99-15e1-4d5d-b76c-5660b388acca"
   },
   "outputs": [
    {
     "name": "stdout",
     "output_type": "stream",
     "text": [
      "Found 7500 files belonging to 15 classes.\n"
     ]
    }
   ],
   "source": [
    "test_dataset = image_dataset_from_directory(\n",
    "    '/content/test_w_labels',\n",
    "    labels='inferred',\n",
    "    color_mode='rgb',\n",
    "    batch_size=256,\n",
    "    image_size=(70,70),\n",
    "    shuffle=True,\n",
    "    seed=None,\n",
    "    validation_split=None,\n",
    "    subset=None,\n",
    "    interpolation='bilinear',\n",
    "    crop_to_aspect_ratio=False,\n",
    "    class_names=column_labels)"
   ]
  },
  {
   "cell_type": "code",
   "execution_count": null,
   "metadata": {
    "id": "FTIGZ1-KIIml"
   },
   "outputs": [],
   "source": [
    "normalization_layer = layers.Rescaling(1./255)\n",
    "train_ds_norm = train_dataset.map(lambda x, y: (normalization_layer(x), y))\n",
    "test_ds_norm = test_dataset.map(lambda x, y: (normalization_layer(x), y))\n",
    "val_ds_norm = test_dataset.map(lambda x, y: (normalization_layer(x), y))"
   ]
  },
  {
   "cell_type": "code",
   "execution_count": null,
   "metadata": {
    "id": "s2d6gUfJIIml"
   },
   "outputs": [],
   "source": [
    "# Setting up model\n",
    "img_width, img_height = 70,70\n",
    "\n",
    "\n",
    "nb_train_samples = 91166\n",
    "nb_validation_samples = 7500\n",
    "epochs = 150\n",
    "batch_size = 256\n",
    "n_classes = 15\n",
    "input_shape= (img_width, img_height, 3)"
   ]
  },
  {
   "cell_type": "code",
   "execution_count": null,
   "metadata": {
    "id": "O8RzM88nIIml"
   },
   "outputs": [],
   "source": []
  },
  {
   "cell_type": "code",
   "execution_count": null,
   "metadata": {
    "id": "5CP09IRcIIml"
   },
   "outputs": [],
   "source": [
    "model3 = Sequential()\n",
    "\n",
    "model3.add(Conv2D(32, (3,3), activation='relu', input_shape=input_shape))\n",
    "model3.add(layers.BatchNormalization())\n",
    "model3.add(MaxPooling2D(pool_size=(2, 2)))\n",
    "\n",
    "model3.add(Dropout(0.5))\n",
    "\n",
    "model3.add(Conv2D(64, (3,3), activation='relu'))\n",
    "model3.add(layers.BatchNormalization())\n",
    "model3.add(MaxPooling2D(pool_size=(2, 2)))\n",
    "\n",
    "model3.add(Dropout(0.5))\n",
    "\n",
    "model3.add(Conv2D(128, (3,3), activation='relu'))\n",
    "model3.add(layers.BatchNormalization())\n",
    "model3.add(MaxPooling2D(pool_size=(2, 2)))\n",
    "\n",
    "model3.add(Flatten())\n",
    "\n",
    "model3.add(Dense(140, activation='relu'))\n",
    "model3.add(Dropout(0.5))\n",
    "\n",
    "model3.add(Dense(n_classes, activation='softmax'))\n",
    "\n",
    "model3.compile(loss='SparseCategoricalCrossentropy', optimizer='adam', metrics=['accuracy'])\n"
   ]
  },
  {
   "cell_type": "code",
   "execution_count": null,
   "metadata": {
    "id": "xzoX_156IImm"
   },
   "outputs": [],
   "source": [
    "callbacks = [\n",
    "    keras.callbacks.ModelCheckpoint(\n",
    "        filepath='/content/drive/MyDrive/keras/09_20a5.keras',\n",
    "        save_best_only=True,\n",
    "        monitor='val_accuracy'\n",
    "    )]"
   ]
  },
  {
   "cell_type": "code",
   "execution_count": null,
   "metadata": {
    "colab": {
     "background_save": true,
     "base_uri": "https://localhost:8080/"
    },
    "id": "4iq21b5NIImm",
    "outputId": "c7dcf5d0-eb82-4687-e35f-e42e9d831742"
   },
   "outputs": [
    {
     "name": "stdout",
     "output_type": "stream",
     "text": [
      "Epoch 1/150\n",
      "357/357 [==============================] - 30s 75ms/step - loss: 1.8712 - accuracy: 0.4086 - val_loss: 1.7984 - val_accuracy: 0.4088\n",
      "Epoch 2/150\n",
      "357/357 [==============================] - 27s 74ms/step - loss: 1.4096 - accuracy: 0.5314 - val_loss: 1.1544 - val_accuracy: 0.5932\n",
      "Epoch 3/150\n",
      "357/357 [==============================] - 27s 75ms/step - loss: 1.2472 - accuracy: 0.5803 - val_loss: 1.0640 - val_accuracy: 0.6184\n",
      "Epoch 4/150\n",
      "357/357 [==============================] - 28s 78ms/step - loss: 1.1403 - accuracy: 0.6178 - val_loss: 1.1171 - val_accuracy: 0.6233\n",
      "Epoch 5/150\n",
      "357/357 [==============================] - 27s 75ms/step - loss: 1.0528 - accuracy: 0.6478 - val_loss: 0.8714 - val_accuracy: 0.6909\n",
      "Epoch 6/150\n",
      "357/357 [==============================] - 27s 75ms/step - loss: 0.9788 - accuracy: 0.6730 - val_loss: 0.8386 - val_accuracy: 0.7097\n",
      "Epoch 7/150\n",
      "357/357 [==============================] - 27s 75ms/step - loss: 0.9187 - accuracy: 0.6944 - val_loss: 0.7789 - val_accuracy: 0.7312\n",
      "Epoch 8/150\n",
      "357/357 [==============================] - 27s 74ms/step - loss: 0.8684 - accuracy: 0.7137 - val_loss: 0.7272 - val_accuracy: 0.7603\n",
      "Epoch 9/150\n",
      "357/357 [==============================] - 27s 75ms/step - loss: 0.8256 - accuracy: 0.7270 - val_loss: 0.7417 - val_accuracy: 0.7643\n",
      "Epoch 10/150\n",
      "357/357 [==============================] - 26s 72ms/step - loss: 0.7975 - accuracy: 0.7376 - val_loss: 0.7437 - val_accuracy: 0.7519\n",
      "Epoch 11/150\n",
      "357/357 [==============================] - 27s 75ms/step - loss: 0.7666 - accuracy: 0.7482 - val_loss: 0.6780 - val_accuracy: 0.7825\n",
      "Epoch 12/150\n",
      "357/357 [==============================] - 26s 72ms/step - loss: 0.7399 - accuracy: 0.7574 - val_loss: 0.7027 - val_accuracy: 0.7720\n",
      "Epoch 13/150\n",
      "357/357 [==============================] - 26s 72ms/step - loss: 0.7178 - accuracy: 0.7651 - val_loss: 0.7066 - val_accuracy: 0.7656\n",
      "Epoch 14/150\n",
      "357/357 [==============================] - 26s 71ms/step - loss: 0.6953 - accuracy: 0.7736 - val_loss: 0.7091 - val_accuracy: 0.7679\n",
      "Epoch 15/150\n",
      "357/357 [==============================] - 27s 74ms/step - loss: 0.6741 - accuracy: 0.7804 - val_loss: 0.6405 - val_accuracy: 0.7927\n",
      "Epoch 16/150\n",
      "357/357 [==============================] - 26s 72ms/step - loss: 0.6548 - accuracy: 0.7877 - val_loss: 0.6618 - val_accuracy: 0.7868\n",
      "Epoch 17/150\n",
      "357/357 [==============================] - 26s 71ms/step - loss: 0.6378 - accuracy: 0.7919 - val_loss: 0.6714 - val_accuracy: 0.7869\n",
      "Epoch 18/150\n",
      "357/357 [==============================] - 27s 74ms/step - loss: 0.6191 - accuracy: 0.7988 - val_loss: 0.6376 - val_accuracy: 0.7952\n",
      "Epoch 19/150\n",
      "357/357 [==============================] - 26s 71ms/step - loss: 0.6034 - accuracy: 0.8022 - val_loss: 0.6580 - val_accuracy: 0.7819\n",
      "Epoch 20/150\n",
      "357/357 [==============================] - 27s 74ms/step - loss: 0.5909 - accuracy: 0.8051 - val_loss: 0.6121 - val_accuracy: 0.8019\n",
      "Epoch 21/150\n",
      "357/357 [==============================] - 26s 71ms/step - loss: 0.5784 - accuracy: 0.8093 - val_loss: 0.6903 - val_accuracy: 0.7829\n",
      "Epoch 22/150\n",
      "357/357 [==============================] - 27s 74ms/step - loss: 0.5687 - accuracy: 0.8128 - val_loss: 0.5977 - val_accuracy: 0.8093\n",
      "Epoch 23/150\n",
      "357/357 [==============================] - 26s 72ms/step - loss: 0.5573 - accuracy: 0.8157 - val_loss: 0.6578 - val_accuracy: 0.7840\n",
      "Epoch 24/150\n",
      "357/357 [==============================] - 26s 71ms/step - loss: 0.5415 - accuracy: 0.8214 - val_loss: 0.6554 - val_accuracy: 0.7963\n",
      "Epoch 25/150\n",
      "357/357 [==============================] - 27s 74ms/step - loss: 0.5353 - accuracy: 0.8228 - val_loss: 0.6067 - val_accuracy: 0.8127\n",
      "Epoch 26/150\n",
      "357/357 [==============================] - 27s 74ms/step - loss: 0.5234 - accuracy: 0.8272 - val_loss: 0.6123 - val_accuracy: 0.8128\n",
      "Epoch 27/150\n",
      "357/357 [==============================] - 26s 72ms/step - loss: 0.5182 - accuracy: 0.8290 - val_loss: 0.6335 - val_accuracy: 0.8067\n",
      "Epoch 28/150\n",
      "357/357 [==============================] - 26s 71ms/step - loss: 0.5069 - accuracy: 0.8311 - val_loss: 1.0133 - val_accuracy: 0.6872\n",
      "Epoch 29/150\n",
      "357/357 [==============================] - 27s 74ms/step - loss: 0.4970 - accuracy: 0.8342 - val_loss: 0.6002 - val_accuracy: 0.8201\n",
      "Epoch 30/150\n",
      "357/357 [==============================] - 26s 72ms/step - loss: 0.4908 - accuracy: 0.8359 - val_loss: 0.6911 - val_accuracy: 0.7851\n",
      "Epoch 31/150\n",
      "357/357 [==============================] - 26s 71ms/step - loss: 0.4859 - accuracy: 0.8380 - val_loss: 0.6863 - val_accuracy: 0.7916\n",
      "Epoch 32/150\n",
      "357/357 [==============================] - 26s 72ms/step - loss: 0.4779 - accuracy: 0.8401 - val_loss: 0.8145 - val_accuracy: 0.7335\n",
      "Epoch 33/150\n",
      "357/357 [==============================] - 27s 74ms/step - loss: 0.4704 - accuracy: 0.8424 - val_loss: 0.6009 - val_accuracy: 0.8219\n",
      "Epoch 34/150\n",
      "357/357 [==============================] - 26s 71ms/step - loss: 0.4663 - accuracy: 0.8445 - val_loss: 0.8907 - val_accuracy: 0.7431\n",
      "Epoch 35/150\n",
      "357/357 [==============================] - 26s 71ms/step - loss: 0.4578 - accuracy: 0.8466 - val_loss: 0.6215 - val_accuracy: 0.8011\n",
      "Epoch 36/150\n",
      "357/357 [==============================] - 26s 71ms/step - loss: 0.4536 - accuracy: 0.8480 - val_loss: 0.6336 - val_accuracy: 0.8101\n",
      "Epoch 37/150\n",
      "357/357 [==============================] - 27s 74ms/step - loss: 0.4480 - accuracy: 0.8487 - val_loss: 0.5992 - val_accuracy: 0.8243\n",
      "Epoch 38/150\n",
      "357/357 [==============================] - 26s 72ms/step - loss: 0.4395 - accuracy: 0.8529 - val_loss: 0.6071 - val_accuracy: 0.8200\n",
      "Epoch 39/150\n",
      "357/357 [==============================] - 27s 74ms/step - loss: 0.4345 - accuracy: 0.8532 - val_loss: 0.6053 - val_accuracy: 0.8272\n",
      "Epoch 40/150\n",
      "357/357 [==============================] - 26s 71ms/step - loss: 0.4282 - accuracy: 0.8552 - val_loss: 0.7582 - val_accuracy: 0.7785\n",
      "Epoch 41/150\n",
      "357/357 [==============================] - 26s 72ms/step - loss: 0.4237 - accuracy: 0.8562 - val_loss: 0.6405 - val_accuracy: 0.8196\n",
      "Epoch 42/150\n",
      "357/357 [==============================] - 26s 71ms/step - loss: 0.4212 - accuracy: 0.8562 - val_loss: 0.6564 - val_accuracy: 0.8036\n",
      "Epoch 43/150\n",
      "357/357 [==============================] - 26s 72ms/step - loss: 0.4137 - accuracy: 0.8591 - val_loss: 0.6341 - val_accuracy: 0.8251\n",
      "Epoch 44/150\n",
      "357/357 [==============================] - 26s 71ms/step - loss: 0.4118 - accuracy: 0.8605 - val_loss: 0.6506 - val_accuracy: 0.8196\n",
      "Epoch 45/150\n",
      "357/357 [==============================] - 26s 72ms/step - loss: 0.4019 - accuracy: 0.8639 - val_loss: 0.7208 - val_accuracy: 0.7845\n",
      "Epoch 46/150\n",
      "357/357 [==============================] - 26s 72ms/step - loss: 0.4101 - accuracy: 0.8612 - val_loss: 0.6520 - val_accuracy: 0.8169\n",
      "Epoch 47/150\n",
      "357/357 [==============================] - 26s 72ms/step - loss: 0.3986 - accuracy: 0.8644 - val_loss: 0.6381 - val_accuracy: 0.8264\n",
      "Epoch 48/150\n",
      "357/357 [==============================] - 26s 72ms/step - loss: 0.3983 - accuracy: 0.8646 - val_loss: 0.6287 - val_accuracy: 0.8244\n",
      "Epoch 49/150\n",
      "357/357 [==============================] - 26s 71ms/step - loss: 0.3905 - accuracy: 0.8668 - val_loss: 0.7163 - val_accuracy: 0.8107\n",
      "Epoch 50/150\n",
      "357/357 [==============================] - 27s 74ms/step - loss: 0.3929 - accuracy: 0.8657 - val_loss: 0.6209 - val_accuracy: 0.8291\n",
      "Epoch 51/150\n",
      "357/357 [==============================] - 26s 71ms/step - loss: 0.3842 - accuracy: 0.8686 - val_loss: 0.6768 - val_accuracy: 0.8177\n",
      "Epoch 52/150\n",
      "357/357 [==============================] - 26s 72ms/step - loss: 0.3765 - accuracy: 0.8708 - val_loss: 0.6220 - val_accuracy: 0.8225\n",
      "Epoch 53/150\n",
      "357/357 [==============================] - 26s 72ms/step - loss: 0.3795 - accuracy: 0.8704 - val_loss: 0.6498 - val_accuracy: 0.8247\n",
      "Epoch 54/150\n",
      "357/357 [==============================] - 27s 74ms/step - loss: 0.3768 - accuracy: 0.8707 - val_loss: 0.6105 - val_accuracy: 0.8309\n",
      "Epoch 55/150\n",
      "357/357 [==============================] - 26s 72ms/step - loss: 0.3677 - accuracy: 0.8726 - val_loss: 0.6540 - val_accuracy: 0.8287\n",
      "Epoch 56/150\n",
      "357/357 [==============================] - 26s 72ms/step - loss: 0.3680 - accuracy: 0.8733 - val_loss: 0.6645 - val_accuracy: 0.8281\n",
      "Epoch 57/150\n",
      "357/357 [==============================] - 27s 75ms/step - loss: 0.3643 - accuracy: 0.8744 - val_loss: 0.6482 - val_accuracy: 0.8335\n",
      "Epoch 58/150\n",
      "357/357 [==============================] - 26s 72ms/step - loss: 0.3616 - accuracy: 0.8761 - val_loss: 0.6708 - val_accuracy: 0.8263\n",
      "Epoch 59/150\n",
      "357/357 [==============================] - 26s 72ms/step - loss: 0.3606 - accuracy: 0.8746 - val_loss: 0.6599 - val_accuracy: 0.8144\n",
      "Epoch 60/150\n",
      "357/357 [==============================] - 26s 72ms/step - loss: 0.3553 - accuracy: 0.8775 - val_loss: 0.6864 - val_accuracy: 0.8211\n",
      "Epoch 61/150\n",
      "357/357 [==============================] - 26s 72ms/step - loss: 0.3535 - accuracy: 0.8783 - val_loss: 0.6355 - val_accuracy: 0.8308\n",
      "Epoch 62/150\n",
      "357/357 [==============================] - 26s 72ms/step - loss: 0.3515 - accuracy: 0.8784 - val_loss: 0.6497 - val_accuracy: 0.8280\n",
      "Epoch 63/150\n",
      "357/357 [==============================] - 26s 72ms/step - loss: 0.3505 - accuracy: 0.8787 - val_loss: 0.6341 - val_accuracy: 0.8324\n",
      "Epoch 64/150\n",
      "357/357 [==============================] - 26s 72ms/step - loss: 0.3460 - accuracy: 0.8804 - val_loss: 0.7344 - val_accuracy: 0.8159\n",
      "Epoch 65/150\n",
      "357/357 [==============================] - 26s 72ms/step - loss: 0.3426 - accuracy: 0.8816 - val_loss: 0.6726 - val_accuracy: 0.8301\n",
      "Epoch 66/150\n",
      "357/357 [==============================] - 26s 72ms/step - loss: 0.3403 - accuracy: 0.8823 - val_loss: 0.6372 - val_accuracy: 0.8287\n",
      "Epoch 67/150\n",
      "357/357 [==============================] - 26s 72ms/step - loss: 0.3368 - accuracy: 0.8828 - val_loss: 0.7831 - val_accuracy: 0.7951\n",
      "Epoch 68/150\n",
      "357/357 [==============================] - 27s 74ms/step - loss: 0.3393 - accuracy: 0.8826 - val_loss: 0.6517 - val_accuracy: 0.8343\n",
      "Epoch 69/150\n",
      "357/357 [==============================] - 26s 71ms/step - loss: 0.3359 - accuracy: 0.8829 - val_loss: 0.6501 - val_accuracy: 0.8320\n",
      "Epoch 70/150\n",
      "357/357 [==============================] - 26s 72ms/step - loss: 0.3310 - accuracy: 0.8851 - val_loss: 0.6587 - val_accuracy: 0.8317\n",
      "Epoch 71/150\n",
      "357/357 [==============================] - 26s 72ms/step - loss: 0.3320 - accuracy: 0.8830 - val_loss: 0.6665 - val_accuracy: 0.8313\n",
      "Epoch 72/150\n",
      "357/357 [==============================] - 26s 72ms/step - loss: 0.3309 - accuracy: 0.8843 - val_loss: 0.6578 - val_accuracy: 0.8316\n",
      "Epoch 73/150\n",
      "357/357 [==============================] - 26s 71ms/step - loss: 0.3264 - accuracy: 0.8864 - val_loss: 0.6437 - val_accuracy: 0.8308\n",
      "Epoch 74/150\n",
      "357/357 [==============================] - 26s 72ms/step - loss: 0.3255 - accuracy: 0.8857 - val_loss: 0.6540 - val_accuracy: 0.8309\n",
      "Epoch 75/150\n",
      "357/357 [==============================] - 27s 74ms/step - loss: 0.3202 - accuracy: 0.8870 - val_loss: 0.6750 - val_accuracy: 0.8352\n",
      "Epoch 76/150\n",
      "357/357 [==============================] - 26s 72ms/step - loss: 0.3186 - accuracy: 0.8889 - val_loss: 0.6767 - val_accuracy: 0.8196\n",
      "Epoch 77/150\n",
      "357/357 [==============================] - 26s 72ms/step - loss: 0.3187 - accuracy: 0.8882 - val_loss: 0.6519 - val_accuracy: 0.8347\n",
      "Epoch 78/150\n",
      "357/357 [==============================] - 26s 71ms/step - loss: 0.3176 - accuracy: 0.8883 - val_loss: 0.6743 - val_accuracy: 0.8337\n",
      "Epoch 79/150\n",
      "357/357 [==============================] - 26s 72ms/step - loss: 0.3142 - accuracy: 0.8897 - val_loss: 0.6755 - val_accuracy: 0.8319\n",
      "Epoch 80/150\n",
      "357/357 [==============================] - 26s 72ms/step - loss: 0.3154 - accuracy: 0.8884 - val_loss: 0.6583 - val_accuracy: 0.8328\n",
      "Epoch 81/150\n",
      "357/357 [==============================] - 26s 72ms/step - loss: 0.3106 - accuracy: 0.8917 - val_loss: 0.7364 - val_accuracy: 0.8095\n",
      "Epoch 82/150\n",
      "357/357 [==============================] - 26s 71ms/step - loss: 0.3096 - accuracy: 0.8910 - val_loss: 0.6871 - val_accuracy: 0.8297\n",
      "Epoch 83/150\n",
      "357/357 [==============================] - 27s 74ms/step - loss: 0.3067 - accuracy: 0.8929 - val_loss: 0.6803 - val_accuracy: 0.8365\n",
      "Epoch 84/150\n",
      "357/357 [==============================] - 26s 71ms/step - loss: 0.3080 - accuracy: 0.8907 - val_loss: 0.6963 - val_accuracy: 0.8324\n",
      "Epoch 85/150\n",
      "357/357 [==============================] - 26s 72ms/step - loss: 0.3011 - accuracy: 0.8932 - val_loss: 0.6791 - val_accuracy: 0.8347\n",
      "Epoch 86/150\n",
      "357/357 [==============================] - 27s 74ms/step - loss: 0.3032 - accuracy: 0.8933 - val_loss: 0.6769 - val_accuracy: 0.8368\n",
      "Epoch 87/150\n",
      "357/357 [==============================] - 26s 72ms/step - loss: 0.3031 - accuracy: 0.8931 - val_loss: 0.7352 - val_accuracy: 0.8268\n",
      "Epoch 88/150\n",
      "357/357 [==============================] - 26s 71ms/step - loss: 0.2965 - accuracy: 0.8953 - val_loss: 0.6908 - val_accuracy: 0.8317\n",
      "Epoch 89/150\n",
      "357/357 [==============================] - 26s 71ms/step - loss: 0.2962 - accuracy: 0.8946 - val_loss: 0.6787 - val_accuracy: 0.8336\n",
      "Epoch 90/150\n",
      "357/357 [==============================] - 26s 72ms/step - loss: 0.2936 - accuracy: 0.8953 - val_loss: 0.7053 - val_accuracy: 0.8164\n",
      "Epoch 91/150\n",
      "357/357 [==============================] - 26s 71ms/step - loss: 0.2970 - accuracy: 0.8954 - val_loss: 0.7878 - val_accuracy: 0.8141\n",
      "Epoch 92/150\n",
      "357/357 [==============================] - 26s 71ms/step - loss: 0.2975 - accuracy: 0.8949 - val_loss: 0.7371 - val_accuracy: 0.8256\n",
      "Epoch 93/150\n",
      "357/357 [==============================] - 26s 72ms/step - loss: 0.2973 - accuracy: 0.8949 - val_loss: 0.6505 - val_accuracy: 0.8343\n",
      "Epoch 94/150\n",
      "357/357 [==============================] - 26s 71ms/step - loss: 0.2938 - accuracy: 0.8956 - val_loss: 0.7409 - val_accuracy: 0.8172\n",
      "Epoch 95/150\n",
      "357/357 [==============================] - 26s 72ms/step - loss: 0.2870 - accuracy: 0.8980 - val_loss: 0.7064 - val_accuracy: 0.8367\n",
      "Epoch 96/150\n",
      "357/357 [==============================] - 26s 71ms/step - loss: 0.2840 - accuracy: 0.8979 - val_loss: 0.7230 - val_accuracy: 0.8307\n",
      "Epoch 97/150\n",
      "357/357 [==============================] - 26s 72ms/step - loss: 0.2851 - accuracy: 0.8993 - val_loss: 0.7058 - val_accuracy: 0.8351\n",
      "Epoch 98/150\n",
      "357/357 [==============================] - 26s 72ms/step - loss: 0.2825 - accuracy: 0.8986 - val_loss: 0.7984 - val_accuracy: 0.8077\n",
      "Epoch 99/150\n",
      "357/357 [==============================] - 26s 72ms/step - loss: 0.2809 - accuracy: 0.9007 - val_loss: 0.6994 - val_accuracy: 0.8328\n",
      "Epoch 100/150\n",
      "357/357 [==============================] - 26s 72ms/step - loss: 0.2839 - accuracy: 0.8988 - val_loss: 0.7496 - val_accuracy: 0.8293\n",
      "Epoch 101/150\n",
      "357/357 [==============================] - 26s 71ms/step - loss: 0.2841 - accuracy: 0.8990 - val_loss: 0.7418 - val_accuracy: 0.8268\n",
      "Epoch 102/150\n",
      "357/357 [==============================] - 26s 71ms/step - loss: 0.2795 - accuracy: 0.9010 - val_loss: 0.7392 - val_accuracy: 0.8296\n",
      "Epoch 103/150\n",
      "357/357 [==============================] - 26s 72ms/step - loss: 0.2793 - accuracy: 0.9017 - val_loss: 0.7492 - val_accuracy: 0.8295\n",
      "Epoch 104/150\n",
      "357/357 [==============================] - 26s 71ms/step - loss: 0.2766 - accuracy: 0.9015 - val_loss: 0.7149 - val_accuracy: 0.8321\n",
      "Epoch 105/150\n",
      "357/357 [==============================] - 26s 72ms/step - loss: 0.2767 - accuracy: 0.9017 - val_loss: 0.7883 - val_accuracy: 0.8243\n",
      "Epoch 106/150\n",
      "357/357 [==============================] - 26s 71ms/step - loss: 0.2735 - accuracy: 0.9019 - val_loss: 0.8646 - val_accuracy: 0.8109\n",
      "Epoch 107/150\n",
      "357/357 [==============================] - 26s 72ms/step - loss: 0.2748 - accuracy: 0.9012 - val_loss: 0.7640 - val_accuracy: 0.8277\n",
      "Epoch 108/150\n",
      "357/357 [==============================] - 26s 72ms/step - loss: 0.2704 - accuracy: 0.9037 - val_loss: 0.7345 - val_accuracy: 0.8348\n",
      "Epoch 109/150\n",
      "357/357 [==============================] - 26s 71ms/step - loss: 0.2695 - accuracy: 0.9034 - val_loss: 0.7741 - val_accuracy: 0.8163\n",
      "Epoch 110/150\n",
      "357/357 [==============================] - 26s 72ms/step - loss: 0.2680 - accuracy: 0.9043 - val_loss: 0.7446 - val_accuracy: 0.8339\n",
      "Epoch 111/150\n",
      "357/357 [==============================] - 26s 71ms/step - loss: 0.2692 - accuracy: 0.9047 - val_loss: 1.1605 - val_accuracy: 0.7688\n",
      "Epoch 112/150\n",
      "357/357 [==============================] - 26s 72ms/step - loss: 0.2657 - accuracy: 0.9043 - val_loss: 0.7210 - val_accuracy: 0.8317\n",
      "Epoch 113/150\n",
      "357/357 [==============================] - 26s 72ms/step - loss: 0.2667 - accuracy: 0.9036 - val_loss: 0.7831 - val_accuracy: 0.8329\n",
      "Epoch 114/150\n",
      "357/357 [==============================] - 26s 71ms/step - loss: 0.2656 - accuracy: 0.9050 - val_loss: 0.7369 - val_accuracy: 0.8320\n",
      "Epoch 115/150\n",
      "357/357 [==============================] - 26s 72ms/step - loss: 0.2620 - accuracy: 0.9054 - val_loss: 0.7562 - val_accuracy: 0.8288\n",
      "Epoch 116/150\n",
      "357/357 [==============================] - 26s 71ms/step - loss: 0.2675 - accuracy: 0.9050 - val_loss: 0.7537 - val_accuracy: 0.8328\n",
      "Epoch 117/150\n",
      "357/357 [==============================] - 26s 71ms/step - loss: 0.2655 - accuracy: 0.9046 - val_loss: 0.7401 - val_accuracy: 0.8344\n",
      "Epoch 118/150\n",
      "357/357 [==============================] - 26s 72ms/step - loss: 0.2663 - accuracy: 0.9041 - val_loss: 0.7155 - val_accuracy: 0.8367\n",
      "Epoch 119/150\n",
      "357/357 [==============================] - 26s 71ms/step - loss: 0.2610 - accuracy: 0.9061 - val_loss: 0.7350 - val_accuracy: 0.8297\n",
      "Epoch 120/150\n",
      "357/357 [==============================] - 26s 71ms/step - loss: 0.2618 - accuracy: 0.9054 - val_loss: 0.7826 - val_accuracy: 0.8319\n",
      "Epoch 121/150\n",
      "357/357 [==============================] - 26s 71ms/step - loss: 0.2586 - accuracy: 0.9071 - val_loss: 0.7982 - val_accuracy: 0.8188\n",
      "Epoch 122/150\n",
      "357/357 [==============================] - 26s 71ms/step - loss: 0.2582 - accuracy: 0.9069 - val_loss: 0.8006 - val_accuracy: 0.8264\n",
      "Epoch 123/150\n",
      "357/357 [==============================] - 26s 72ms/step - loss: 0.2580 - accuracy: 0.9083 - val_loss: 0.7747 - val_accuracy: 0.8308\n",
      "Epoch 124/150\n",
      "357/357 [==============================] - 26s 71ms/step - loss: 0.2590 - accuracy: 0.9071 - val_loss: 0.7541 - val_accuracy: 0.8325\n",
      "Epoch 125/150\n",
      "357/357 [==============================] - 26s 71ms/step - loss: 0.2562 - accuracy: 0.9077 - val_loss: 0.7545 - val_accuracy: 0.8320\n",
      "Epoch 126/150\n",
      "357/357 [==============================] - 26s 71ms/step - loss: 0.2532 - accuracy: 0.9089 - val_loss: 0.7749 - val_accuracy: 0.8277\n",
      "Epoch 127/150\n",
      "357/357 [==============================] - 26s 71ms/step - loss: 0.2550 - accuracy: 0.9073 - val_loss: 0.7402 - val_accuracy: 0.8355\n",
      "Epoch 128/150\n",
      "357/357 [==============================] - 26s 72ms/step - loss: 0.2541 - accuracy: 0.9086 - val_loss: 0.7547 - val_accuracy: 0.8336\n",
      "Epoch 129/150\n",
      "357/357 [==============================] - 26s 71ms/step - loss: 0.2498 - accuracy: 0.9107 - val_loss: 0.8148 - val_accuracy: 0.8249\n",
      "Epoch 130/150\n",
      "357/357 [==============================] - 26s 72ms/step - loss: 0.2502 - accuracy: 0.9093 - val_loss: 0.7509 - val_accuracy: 0.8355\n",
      "Epoch 131/150\n",
      "357/357 [==============================] - 26s 72ms/step - loss: 0.2524 - accuracy: 0.9091 - val_loss: 0.7360 - val_accuracy: 0.8307\n",
      "Epoch 132/150\n",
      "357/357 [==============================] - 26s 71ms/step - loss: 0.2487 - accuracy: 0.9105 - val_loss: 0.8398 - val_accuracy: 0.8181\n",
      "Epoch 133/150\n",
      "357/357 [==============================] - 26s 72ms/step - loss: 0.2477 - accuracy: 0.9098 - val_loss: 0.7555 - val_accuracy: 0.8332\n",
      "Epoch 134/150\n",
      "357/357 [==============================] - 26s 71ms/step - loss: 0.2481 - accuracy: 0.9106 - val_loss: 0.7646 - val_accuracy: 0.8319\n",
      "Epoch 135/150\n",
      "357/357 [==============================] - 26s 71ms/step - loss: 0.2479 - accuracy: 0.9099 - val_loss: 0.7773 - val_accuracy: 0.8352\n",
      "Epoch 136/150\n",
      "357/357 [==============================] - 26s 72ms/step - loss: 0.2433 - accuracy: 0.9111 - val_loss: 0.8227 - val_accuracy: 0.8323\n",
      "Epoch 137/150\n",
      "357/357 [==============================] - 26s 71ms/step - loss: 0.2428 - accuracy: 0.9119 - val_loss: 0.8076 - val_accuracy: 0.8241\n",
      "Epoch 138/150\n",
      "357/357 [==============================] - 26s 72ms/step - loss: 0.2475 - accuracy: 0.9112 - val_loss: 0.7813 - val_accuracy: 0.8316\n",
      "Epoch 139/150\n",
      "357/357 [==============================] - 26s 71ms/step - loss: 0.2486 - accuracy: 0.9101 - val_loss: 0.7847 - val_accuracy: 0.8339\n",
      "Epoch 140/150\n",
      "357/357 [==============================] - 26s 72ms/step - loss: 0.2453 - accuracy: 0.9113 - val_loss: 0.7605 - val_accuracy: 0.8333\n",
      "Epoch 141/150\n",
      "357/357 [==============================] - 26s 72ms/step - loss: 0.2439 - accuracy: 0.9121 - val_loss: 0.9347 - val_accuracy: 0.8073\n",
      "Epoch 142/150\n",
      "357/357 [==============================] - 26s 72ms/step - loss: 0.2462 - accuracy: 0.9098 - val_loss: 0.7870 - val_accuracy: 0.8279\n",
      "Epoch 143/150\n",
      "357/357 [==============================] - 26s 72ms/step - loss: 0.2408 - accuracy: 0.9124 - val_loss: 0.7849 - val_accuracy: 0.8289\n",
      "Epoch 144/150\n",
      "357/357 [==============================] - 26s 71ms/step - loss: 0.2362 - accuracy: 0.9134 - val_loss: 0.8120 - val_accuracy: 0.8316\n",
      "Epoch 145/150\n",
      "357/357 [==============================] - 26s 72ms/step - loss: 0.2372 - accuracy: 0.9139 - val_loss: 0.7593 - val_accuracy: 0.8331\n",
      "Epoch 146/150\n",
      "357/357 [==============================] - 26s 72ms/step - loss: 0.2392 - accuracy: 0.9140 - val_loss: 0.8113 - val_accuracy: 0.8293\n",
      "Epoch 147/150\n",
      "357/357 [==============================] - 26s 71ms/step - loss: 0.2414 - accuracy: 0.9122 - val_loss: 0.7811 - val_accuracy: 0.8309\n",
      "Epoch 148/150\n",
      "357/357 [==============================] - 26s 71ms/step - loss: 0.2384 - accuracy: 0.9130 - val_loss: 0.7976 - val_accuracy: 0.8284\n",
      "Epoch 149/150\n",
      "357/357 [==============================] - 26s 72ms/step - loss: 0.2347 - accuracy: 0.9148 - val_loss: 0.8062 - val_accuracy: 0.8300\n",
      "Epoch 150/150\n",
      "357/357 [==============================] - 26s 71ms/step - loss: 0.2396 - accuracy: 0.9133 - val_loss: 0.8258 - val_accuracy: 0.8220\n"
     ]
    }
   ],
   "source": [
    "history3 = model3.fit(\n",
    "    x=train_ds_norm,\n",
    "    y=None,\n",
    "    validation_data= val_ds_norm,\n",
    "    epochs=epochs,\n",
    "    verbose=\"auto\",\n",
    "    callbacks=callbacks,\n",
    "    validation_split=0.0,\n",
    "    shuffle=True,\n",
    "    validation_freq=1,\n",
    "    batch_size = batch_size\n",
    "    )"
   ]
  },
  {
   "cell_type": "code",
   "execution_count": null,
   "metadata": {
    "id": "7w8hbthQIImn"
   },
   "outputs": [],
   "source": []
  },
  {
   "cell_type": "code",
   "execution_count": null,
   "metadata": {
    "colab": {
     "background_save": true
    },
    "id": "1JhQnJYYIImn",
    "outputId": "b0cf662e-ee1a-4e75-e123-cf870bfecedb"
   },
   "outputs": [
    {
     "name": "stdout",
     "output_type": "stream",
     "text": [
      "30/30 - 2s - loss: 0.8258 - accuracy: 0.8220 - 2s/epoch - 61ms/step\n"
     ]
    }
   ],
   "source": [
    "loss, acc = model3.evaluate(x=test_ds_norm, y=None, verbose=2)"
   ]
  },
  {
   "cell_type": "code",
   "execution_count": null,
   "metadata": {
    "colab": {
     "background_save": true
    },
    "id": "KHUY0A-9IImn"
   },
   "outputs": [],
   "source": [
    "model3.save('model_9_20a6.keras')"
   ]
  },
  {
   "cell_type": "code",
   "execution_count": null,
   "metadata": {
    "colab": {
     "background_save": true
    },
    "id": "H5SbO0VGIImo",
    "outputId": "d024ade5-7cfa-4df3-b05d-b01ce044645d"
   },
   "outputs": [
    {
     "data": {
      "image/png": "[encoded data removed]",
      "text/plain": [
       "<Figure size 640x480 with 1 Axes>"
      ]
     },
     "metadata": {},
     "output_type": "display_data"
    },
    {
     "data": {
      "image/png": "[encoded data removed]",
      "text/plain": [
       "<Figure size 640x480 with 1 Axes>"
      ]
     },
     "metadata": {},
     "output_type": "display_data"
    }
   ],
   "source": [
    "accuracy = history3.history['accuracy']\n",
    "val_accuracy = history3.history['val_accuracy']\n",
    "loss = history3.history['loss']\n",
    "val_loss = history3.history['val_loss']\n",
    "epochs = range(1, len(accuracy) + 1)\n",
    "plt.plot(epochs, accuracy, 'c--', label='Training accuracy')\n",
    "plt.plot(epochs, val_accuracy, 'c', label='Validation accuracy')\n",
    "plt.legend()\n",
    "plt.figure()\n",
    "plt.plot(epochs, loss, 'c--', label='Training loss')\n",
    "plt.plot(epochs, val_loss, 'c', label='Validation loss')\n",
    "plt.legend()\n",
    "plt.show()"
   ]
  },
  {
   "cell_type": "code",
   "execution_count": null,
   "metadata": {
    "id": "ESizhfLDAzJ2"
   },
   "outputs": [],
   "source": [
    "from google.colab import runtime\n",
    "runtime.unassign()"
   ]
  }
 ],
 "metadata": {
  "accelerator": "GPU",
  "colab": {
   "machine_shape": "hm",
   "provenance": []
  },
  "kernelspec": {
   "display_name": "Python 3 (ipykernel)",
   "language": "python",
   "name": "python3"
  },
  "language_info": {
   "codemirror_mode": {
    "name": "ipython",
    "version": 3
   },
   "file_extension": ".py",
   "mimetype": "text/x-python",
   "name": "python",
   "nbconvert_exporter": "python",
   "pygments_lexer": "ipython3",
   "version": "3.9.17"
  }
 },
 "nbformat": 4,
 "nbformat_minor": 1
}
