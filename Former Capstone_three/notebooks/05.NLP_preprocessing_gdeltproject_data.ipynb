{
 "cells": [
  {
   "cell_type": "code",
   "execution_count": 5,
   "id": "2b5060ef",
   "metadata": {},
   "outputs": [],
   "source": [
    "import pandas as pd\n",
    "import numpy as np\n",
    "import pkg_resources\n",
    "from symspellpy import SymSpell, Verbosity\n",
    "import spacy\n",
    "from spacy.lang.en import English\n",
    "import nltk\n",
    "from nltk.sentiment import SentimentIntensityAnalyzer\n",
    "from nltk.tokenize.toktok import ToktokTokenizer\n",
    "import re"
   ]
  },
  {
   "cell_type": "code",
   "execution_count": 6,
   "id": "b9d88ecd",
   "metadata": {},
   "outputs": [],
   "source": [
    "df = pd.read_csv('/Users/butler/Documents/GitHub/projects/Capstone_three/data/interim/gdeltproject_data_without_BBC')"
   ]
  },
  {
   "cell_type": "code",
   "execution_count": 7,
   "id": "85bd43a5",
   "metadata": {
    "scrolled": true
   },
   "outputs": [
    {
     "data": {
      "text/html": [
       "<div>\n",
       "<style scoped>\n",
       "    .dataframe tbody tr th:only-of-type {\n",
       "        vertical-align: middle;\n",
       "    }\n",
       "\n",
       "    .dataframe tbody tr th {\n",
       "        vertical-align: top;\n",
       "    }\n",
       "\n",
       "    .dataframe thead th {\n",
       "        text-align: right;\n",
       "    }\n",
       "</style>\n",
       "<table border=\"1\" class=\"dataframe\">\n",
       "  <thead>\n",
       "    <tr style=\"text-align: right;\">\n",
       "      <th></th>\n",
       "      <th>Unnamed: 0</th>\n",
       "      <th>URL</th>\n",
       "      <th>Station</th>\n",
       "      <th>Show</th>\n",
       "      <th>IAShowID</th>\n",
       "      <th>IAPreviewThumb</th>\n",
       "      <th>Snippet</th>\n",
       "      <th>date</th>\n",
       "    </tr>\n",
       "  </thead>\n",
       "  <tbody>\n",
       "    <tr>\n",
       "      <th>0</th>\n",
       "      <td>0</td>\n",
       "      <td>https://archive.org/details/MSNBC_20090702_180...</td>\n",
       "      <td>MSNBC</td>\n",
       "      <td>MSNBC News Live</td>\n",
       "      <td>MSNBC_20090702_180000_MSNBC_News_Live</td>\n",
       "      <td>https://archive.org/download/MSNBC_20090702_18...</td>\n",
       "      <td>represesentitis passed ann traordinary piece o...</td>\n",
       "      <td>2009-07-02 18:40:30</td>\n",
       "    </tr>\n",
       "    <tr>\n",
       "      <th>1</th>\n",
       "      <td>1</td>\n",
       "      <td>https://archive.org/details/MSNBC_20090702_190...</td>\n",
       "      <td>MSNBC</td>\n",
       "      <td>MSNBC News Live</td>\n",
       "      <td>MSNBC_20090702_190000_MSNBC_News_Live</td>\n",
       "      <td>https://archive.org/download/MSNBC_20090702_19...</td>\n",
       "      <td>ma a lf headway with th climate change bill an...</td>\n",
       "      <td>2009-07-02 19:51:52</td>\n",
       "    </tr>\n",
       "    <tr>\n",
       "      <th>2</th>\n",
       "      <td>2</td>\n",
       "      <td>https://archive.org/details/FOXNEWS_20090702_2...</td>\n",
       "      <td>FOXNEWS</td>\n",
       "      <td>Special Report With Bret Baier</td>\n",
       "      <td>FOXNEWS_20090702_221612_Special_Report_With_Br...</td>\n",
       "      <td>https://archive.org/download/FOXNEWS_20090702_...</td>\n",
       "      <td>they spent in the fat years money on such fash...</td>\n",
       "      <td>2009-07-02 22:54:51</td>\n",
       "    </tr>\n",
       "    <tr>\n",
       "      <th>3</th>\n",
       "      <td>3</td>\n",
       "      <td>https://archive.org/details/FOXNEWS_20090703_0...</td>\n",
       "      <td>FOXNEWS</td>\n",
       "      <td>The OReilly Factor</td>\n",
       "      <td>FOXNEWS_20090703_000000_The_OReilly_Factor</td>\n",
       "      <td>https://archive.org/download/FOXNEWS_20090703_...</td>\n",
       "      <td>active? why not? no, we are not. nancy pelosi ...</td>\n",
       "      <td>2009-07-03 00:08:33</td>\n",
       "    </tr>\n",
       "    <tr>\n",
       "      <th>4</th>\n",
       "      <td>4</td>\n",
       "      <td>https://archive.org/details/FOXNEWS_20090703_0...</td>\n",
       "      <td>FOXNEWS</td>\n",
       "      <td>Greta Van Susteren</td>\n",
       "      <td>FOXNEWS_20090703_020000_Greta_Van_Susteren</td>\n",
       "      <td>https://archive.org/download/FOXNEWS_20090703_...</td>\n",
       "      <td>representative from washington state. he went ...</td>\n",
       "      <td>2009-07-03 02:44:09</td>\n",
       "    </tr>\n",
       "  </tbody>\n",
       "</table>\n",
       "</div>"
      ],
      "text/plain": [
       "   Unnamed: 0                                                URL  Station  \\\n",
       "0           0  https://archive.org/details/MSNBC_20090702_180...    MSNBC   \n",
       "1           1  https://archive.org/details/MSNBC_20090702_190...    MSNBC   \n",
       "2           2  https://archive.org/details/FOXNEWS_20090702_2...  FOXNEWS   \n",
       "3           3  https://archive.org/details/FOXNEWS_20090703_0...  FOXNEWS   \n",
       "4           4  https://archive.org/details/FOXNEWS_20090703_0...  FOXNEWS   \n",
       "\n",
       "                             Show  \\\n",
       "0                 MSNBC News Live   \n",
       "1                 MSNBC News Live   \n",
       "2  Special Report With Bret Baier   \n",
       "3              The OReilly Factor   \n",
       "4              Greta Van Susteren   \n",
       "\n",
       "                                            IAShowID  \\\n",
       "0              MSNBC_20090702_180000_MSNBC_News_Live   \n",
       "1              MSNBC_20090702_190000_MSNBC_News_Live   \n",
       "2  FOXNEWS_20090702_221612_Special_Report_With_Br...   \n",
       "3         FOXNEWS_20090703_000000_The_OReilly_Factor   \n",
       "4         FOXNEWS_20090703_020000_Greta_Van_Susteren   \n",
       "\n",
       "                                      IAPreviewThumb  \\\n",
       "0  https://archive.org/download/MSNBC_20090702_18...   \n",
       "1  https://archive.org/download/MSNBC_20090702_19...   \n",
       "2  https://archive.org/download/FOXNEWS_20090702_...   \n",
       "3  https://archive.org/download/FOXNEWS_20090703_...   \n",
       "4  https://archive.org/download/FOXNEWS_20090703_...   \n",
       "\n",
       "                                             Snippet                 date  \n",
       "0  represesentitis passed ann traordinary piece o...  2009-07-02 18:40:30  \n",
       "1  ma a lf headway with th climate change bill an...  2009-07-02 19:51:52  \n",
       "2  they spent in the fat years money on such fash...  2009-07-02 22:54:51  \n",
       "3  active? why not? no, we are not. nancy pelosi ...  2009-07-03 00:08:33  \n",
       "4  representative from washington state. he went ...  2009-07-03 02:44:09  "
      ]
     },
     "execution_count": 7,
     "metadata": {},
     "output_type": "execute_result"
    }
   ],
   "source": [
    "df.head()"
   ]
  },
  {
   "cell_type": "code",
   "execution_count": 8,
   "id": "6c016907",
   "metadata": {},
   "outputs": [],
   "source": [
    "df.drop(['Unnamed: 0'], axis=1, inplace=True)"
   ]
  },
  {
   "cell_type": "code",
   "execution_count": 9,
   "id": "758ca296",
   "metadata": {
    "scrolled": true
   },
   "outputs": [
    {
     "data": {
      "text/html": [
       "<div>\n",
       "<style scoped>\n",
       "    .dataframe tbody tr th:only-of-type {\n",
       "        vertical-align: middle;\n",
       "    }\n",
       "\n",
       "    .dataframe tbody tr th {\n",
       "        vertical-align: top;\n",
       "    }\n",
       "\n",
       "    .dataframe thead th {\n",
       "        text-align: right;\n",
       "    }\n",
       "</style>\n",
       "<table border=\"1\" class=\"dataframe\">\n",
       "  <thead>\n",
       "    <tr style=\"text-align: right;\">\n",
       "      <th></th>\n",
       "      <th>URL</th>\n",
       "      <th>Station</th>\n",
       "      <th>Show</th>\n",
       "      <th>IAShowID</th>\n",
       "      <th>IAPreviewThumb</th>\n",
       "      <th>Snippet</th>\n",
       "      <th>date</th>\n",
       "    </tr>\n",
       "  </thead>\n",
       "  <tbody>\n",
       "    <tr>\n",
       "      <th>0</th>\n",
       "      <td>https://archive.org/details/MSNBC_20090702_180...</td>\n",
       "      <td>MSNBC</td>\n",
       "      <td>MSNBC News Live</td>\n",
       "      <td>MSNBC_20090702_180000_MSNBC_News_Live</td>\n",
       "      <td>https://archive.org/download/MSNBC_20090702_18...</td>\n",
       "      <td>represesentitis passed ann traordinary piece o...</td>\n",
       "      <td>2009-07-02 18:40:30</td>\n",
       "    </tr>\n",
       "    <tr>\n",
       "      <th>1</th>\n",
       "      <td>https://archive.org/details/MSNBC_20090702_190...</td>\n",
       "      <td>MSNBC</td>\n",
       "      <td>MSNBC News Live</td>\n",
       "      <td>MSNBC_20090702_190000_MSNBC_News_Live</td>\n",
       "      <td>https://archive.org/download/MSNBC_20090702_19...</td>\n",
       "      <td>ma a lf headway with th climate change bill an...</td>\n",
       "      <td>2009-07-02 19:51:52</td>\n",
       "    </tr>\n",
       "    <tr>\n",
       "      <th>2</th>\n",
       "      <td>https://archive.org/details/FOXNEWS_20090702_2...</td>\n",
       "      <td>FOXNEWS</td>\n",
       "      <td>Special Report With Bret Baier</td>\n",
       "      <td>FOXNEWS_20090702_221612_Special_Report_With_Br...</td>\n",
       "      <td>https://archive.org/download/FOXNEWS_20090702_...</td>\n",
       "      <td>they spent in the fat years money on such fash...</td>\n",
       "      <td>2009-07-02 22:54:51</td>\n",
       "    </tr>\n",
       "    <tr>\n",
       "      <th>3</th>\n",
       "      <td>https://archive.org/details/FOXNEWS_20090703_0...</td>\n",
       "      <td>FOXNEWS</td>\n",
       "      <td>The OReilly Factor</td>\n",
       "      <td>FOXNEWS_20090703_000000_The_OReilly_Factor</td>\n",
       "      <td>https://archive.org/download/FOXNEWS_20090703_...</td>\n",
       "      <td>active? why not? no, we are not. nancy pelosi ...</td>\n",
       "      <td>2009-07-03 00:08:33</td>\n",
       "    </tr>\n",
       "    <tr>\n",
       "      <th>4</th>\n",
       "      <td>https://archive.org/details/FOXNEWS_20090703_0...</td>\n",
       "      <td>FOXNEWS</td>\n",
       "      <td>Greta Van Susteren</td>\n",
       "      <td>FOXNEWS_20090703_020000_Greta_Van_Susteren</td>\n",
       "      <td>https://archive.org/download/FOXNEWS_20090703_...</td>\n",
       "      <td>representative from washington state. he went ...</td>\n",
       "      <td>2009-07-03 02:44:09</td>\n",
       "    </tr>\n",
       "  </tbody>\n",
       "</table>\n",
       "</div>"
      ],
      "text/plain": [
       "                                                 URL  Station  \\\n",
       "0  https://archive.org/details/MSNBC_20090702_180...    MSNBC   \n",
       "1  https://archive.org/details/MSNBC_20090702_190...    MSNBC   \n",
       "2  https://archive.org/details/FOXNEWS_20090702_2...  FOXNEWS   \n",
       "3  https://archive.org/details/FOXNEWS_20090703_0...  FOXNEWS   \n",
       "4  https://archive.org/details/FOXNEWS_20090703_0...  FOXNEWS   \n",
       "\n",
       "                             Show  \\\n",
       "0                 MSNBC News Live   \n",
       "1                 MSNBC News Live   \n",
       "2  Special Report With Bret Baier   \n",
       "3              The OReilly Factor   \n",
       "4              Greta Van Susteren   \n",
       "\n",
       "                                            IAShowID  \\\n",
       "0              MSNBC_20090702_180000_MSNBC_News_Live   \n",
       "1              MSNBC_20090702_190000_MSNBC_News_Live   \n",
       "2  FOXNEWS_20090702_221612_Special_Report_With_Br...   \n",
       "3         FOXNEWS_20090703_000000_The_OReilly_Factor   \n",
       "4         FOXNEWS_20090703_020000_Greta_Van_Susteren   \n",
       "\n",
       "                                      IAPreviewThumb  \\\n",
       "0  https://archive.org/download/MSNBC_20090702_18...   \n",
       "1  https://archive.org/download/MSNBC_20090702_19...   \n",
       "2  https://archive.org/download/FOXNEWS_20090702_...   \n",
       "3  https://archive.org/download/FOXNEWS_20090703_...   \n",
       "4  https://archive.org/download/FOXNEWS_20090703_...   \n",
       "\n",
       "                                             Snippet                 date  \n",
       "0  represesentitis passed ann traordinary piece o...  2009-07-02 18:40:30  \n",
       "1  ma a lf headway with th climate change bill an...  2009-07-02 19:51:52  \n",
       "2  they spent in the fat years money on such fash...  2009-07-02 22:54:51  \n",
       "3  active? why not? no, we are not. nancy pelosi ...  2009-07-03 00:08:33  \n",
       "4  representative from washington state. he went ...  2009-07-03 02:44:09  "
      ]
     },
     "execution_count": 9,
     "metadata": {},
     "output_type": "execute_result"
    }
   ],
   "source": [
    "df.head()"
   ]
  },
  {
   "cell_type": "code",
   "execution_count": 10,
   "id": "2e607da4",
   "metadata": {
    "scrolled": true
   },
   "outputs": [],
   "source": [
    "#nltk.download('vader_lexicon')"
   ]
  },
  {
   "cell_type": "code",
   "execution_count": 11,
   "id": "ab4c17c5",
   "metadata": {},
   "outputs": [],
   "source": [
    "dictionary_path = pkg_resources.resource_filename(\n",
    "    'symspellpy', 'frequency_bigramdictionary_en_243_342.txt')"
   ]
  },
  {
   "cell_type": "code",
   "execution_count": 12,
   "id": "b911ebd6",
   "metadata": {},
   "outputs": [],
   "source": [
    "sym_spell = SymSpell()"
   ]
  },
  {
   "cell_type": "code",
   "execution_count": 13,
   "id": "6b39657d",
   "metadata": {},
   "outputs": [
    {
     "data": {
      "text/plain": [
       "True"
      ]
     },
     "execution_count": 13,
     "metadata": {},
     "output_type": "execute_result"
    }
   ],
   "source": [
    "sym_spell.load_bigram_dictionary(dictionary_path, 0, 2)"
   ]
  },
  {
   "cell_type": "code",
   "execution_count": 14,
   "id": "9a2c63c2",
   "metadata": {
    "scrolled": true
   },
   "outputs": [
    {
     "data": {
      "text/plain": [
       "'represesentitis passed ann traordinary piece off gigislion that would make renewawablenener the profitable kind of energy in america. it willedede our dependance on foreign oil. it will prevent the rst nsnseqnces of climate change and above all, itit h hds the promise of millions of new job,'"
      ]
     },
     "execution_count": 14,
     "metadata": {},
     "output_type": "execute_result"
    }
   ],
   "source": [
    "df.iloc[0,5]"
   ]
  },
  {
   "cell_type": "code",
   "execution_count": 15,
   "id": "299410a7",
   "metadata": {
    "scrolled": true
   },
   "outputs": [
    {
     "name": "stdout",
     "output_type": "stream",
     "text": [
      "represesentitis passed ann traordinary piece off gigislion that would make renewawablenener the profitable kind of energy in america it willedede our dependance on foreign oil it will prevent the rst nsnseqnces of climate change and above all itit h hds the promise of millions of new job, 4, 0\n"
     ]
    }
   ],
   "source": [
    "input_term = 'represesentitis passed ann traordinary piece off gigislion that would make renewawablenener the profitable kind of energy in america. it willedede our dependance on foreign oil. it will prevent the rst nsnseqnces of climate change and above all, itit h hds the promise of millions of new job,'\n",
    "suggestions = sym_spell.lookup_compound(input_term, max_edit_distance=2)\n",
    "for suggestion in suggestions:\n",
    "    print(suggestion)"
   ]
  },
  {
   "cell_type": "code",
   "execution_count": 16,
   "id": "b83f3e89",
   "metadata": {},
   "outputs": [
    {
     "data": {
      "text/plain": [
       "\"was sit down on that couch and make an ad with you. i'm nancy pelosi. life-long democrat and speaker of the house. and i'm newt gingrich, life-long republican and i used to be speaker. -- about climate change. i don't want to make any\""
      ]
     },
     "execution_count": 16,
     "metadata": {},
     "output_type": "execute_result"
    }
   ],
   "source": [
    "df.iloc[15001, 5]"
   ]
  },
  {
   "cell_type": "code",
   "execution_count": 17,
   "id": "20bba342",
   "metadata": {},
   "outputs": [
    {
     "data": {
      "text/plain": [
       "\"ma a lf headway with th climate change bill and right now democrats are playing into their hands by saying yes, energy prices are going to yrocket but we'll help yo out with the energy prices, but more importantly it's sometng we have to do to stave off climate change\""
      ]
     },
     "execution_count": 17,
     "metadata": {},
     "output_type": "execute_result"
    }
   ],
   "source": [
    "df.iloc[1,5]"
   ]
  },
  {
   "cell_type": "code",
   "execution_count": 18,
   "id": "5676d817",
   "metadata": {},
   "outputs": [],
   "source": [
    "input_term = \"ma a lf headway with th climate change bill and right now democrats are playing into their hands by saying yes, energy prices are going to yrocket but we'll help yo out with the energy prices, but more importantly it's sometng we have to do to stave off climate change\""
   ]
  },
  {
   "cell_type": "code",
   "execution_count": 19,
   "id": "c4629104",
   "metadata": {},
   "outputs": [
    {
     "name": "stdout",
     "output_type": "stream",
     "text": [
      "ma a lf headway with th climate change bill and right now democrats are playing into their hands by saying yes energy prices are going to yrocket but we'll help yo out with the energy prices but more importantly it's sometng we have to do to stave off climate change, 2, 0\n"
     ]
    }
   ],
   "source": [
    "input_term = \"ma a lf headway with th climate change bill and right now democrats are playing into their hands by saying yes, energy prices are going to yrocket but we'll help yo out with the energy prices, but more importantly it's sometng we have to do to stave off climate change\"\n",
    "suggestions = sym_spell.lookup_compound(input_term, max_edit_distance=2)\n",
    "for suggestion in suggestions:\n",
    "    print(suggestion)"
   ]
  },
  {
   "cell_type": "code",
   "execution_count": 20,
   "id": "7b17e73f",
   "metadata": {},
   "outputs": [
    {
     "data": {
      "text/plain": [
       "\"having a natural gas deal with china, working closer on regional issues. but what we must do is we have to engage china. we need china on climate change. if there's no climate change\""
      ]
     },
     "execution_count": 20,
     "metadata": {},
     "output_type": "execute_result"
    }
   ],
   "source": [
    "df.iloc[30000,5]"
   ]
  },
  {
   "cell_type": "code",
   "execution_count": 21,
   "id": "9169c1d3",
   "metadata": {},
   "outputs": [
    {
     "name": "stdout",
     "output_type": "stream",
     "text": [
      "no respectable evidence this manmade climate change in spite of blindly ignorant politicians you have to give it to the guy it has in fact been cold here funny enough he is neither from the u s nor the uk he's from australia australia is not cold australia is so hot it is on, 12, 0\n"
     ]
    }
   ],
   "source": [
    "input_term = \"no respectable evidence this manmade climate change in spite of blindly ignorant politicians.' you have to give it to the guy, it has, in fact, been cold here. funny enough, he is neither from the u.s. nor the uk. he's from australia. australia is not cold. australia is so hot it is on\"\n",
    "suggestions = sym_spell.lookup_compound(input_term, max_edit_distance=2)\n",
    "for suggestion in suggestions:\n",
    "    print(suggestion)"
   ]
  },
  {
   "cell_type": "code",
   "execution_count": 22,
   "id": "fe51ddaf",
   "metadata": {},
   "outputs": [],
   "source": [
    "nlp = spacy.load('en_core_web_sm')"
   ]
  },
  {
   "cell_type": "code",
   "execution_count": 23,
   "id": "aae7e7e1",
   "metadata": {},
   "outputs": [],
   "source": [
    "clip = nlp('represesentitis passed ann traordinary piece off gigislion that would make renewawablenener the profitable kind of energy in america. it willedede our dependance on foreign oil. it will prevent the rst nsnseqnces of climate change and above all, itit h hds the promise of millions of new job,')"
   ]
  },
  {
   "cell_type": "code",
   "execution_count": 24,
   "id": "17b98abf",
   "metadata": {},
   "outputs": [
    {
     "data": {
      "text/plain": [
       "represesentitis passed ann traordinary piece off gigislion that would make renewawablenener the profitable kind of energy in america. it willedede our dependance on foreign oil. it will prevent the rst nsnseqnces of climate change and above all, itit h hds the promise of millions of new job,"
      ]
     },
     "execution_count": 24,
     "metadata": {},
     "output_type": "execute_result"
    }
   ],
   "source": [
    "clip"
   ]
  },
  {
   "cell_type": "code",
   "execution_count": 25,
   "id": "cc5664ba",
   "metadata": {},
   "outputs": [],
   "source": [
    "sia = SentimentIntensityAnalyzer()"
   ]
  },
  {
   "cell_type": "code",
   "execution_count": 26,
   "id": "b3ae78aa",
   "metadata": {},
   "outputs": [
    {
     "data": {
      "text/plain": [
       "{'neg': 0.0, 'neu': 0.833, 'pos': 0.167, 'compound': 0.7506}"
      ]
     },
     "execution_count": 26,
     "metadata": {},
     "output_type": "execute_result"
    }
   ],
   "source": [
    "sia.polarity_scores(\"represesentitis passed ann traordinary piece off gigislion that would make renewawablenener the profitable kind of energy in america. it willedede our dependance on foreign oil. it will prevent the rst nsnseqnces of climate change and above all, itit h hds the promise of millions of new job,\")"
   ]
  },
  {
   "cell_type": "code",
   "execution_count": 27,
   "id": "97f424a4",
   "metadata": {},
   "outputs": [
    {
     "data": {
      "text/plain": [
       "{'neg': 0.125, 'neu': 0.78, 'pos': 0.094, 'compound': -0.2263}"
      ]
     },
     "execution_count": 27,
     "metadata": {},
     "output_type": "execute_result"
    }
   ],
   "source": [
    "sia.polarity_scores(\"no respectable evidence this manmade climate change in spite of blindly ignorant politicians.' you have to give it to the guy, it has, in fact, been cold here. funny enough, he is neither from the u.s. nor the uk. he's from australia. australia is not cold. australia is so hot it is on\")"
   ]
  },
  {
   "cell_type": "code",
   "execution_count": 28,
   "id": "18720dc2",
   "metadata": {},
   "outputs": [
    {
     "data": {
      "text/plain": [
       "{'neg': 0.0, 'neu': 0.749, 'pos': 0.251, 'compound': 0.9079}"
      ]
     },
     "execution_count": 28,
     "metadata": {},
     "output_type": "execute_result"
    }
   ],
   "source": [
    "sia.polarity_scores(\"ma a lf headway with th climate change bill and right now democrats are playing into their hands by saying yes energy prices are going to yrocket but we'll help yo out with the energy prices but more importantly it's sometng we have to do to stave off climate change\")"
   ]
  },
  {
   "cell_type": "code",
   "execution_count": 29,
   "id": "5fd78624",
   "metadata": {},
   "outputs": [
    {
     "data": {
      "text/plain": [
       "'aoc. she might embrace this idea if she reads about it. juan: i am surprised, greg. i think we are in agreement. i think republicans when they had control of the house and senate did nothing on climate change, did nothing on immigration, do nothing on'"
      ]
     },
     "execution_count": 29,
     "metadata": {},
     "output_type": "execute_result"
    }
   ],
   "source": [
    "df.iloc[60000,5]"
   ]
  },
  {
   "cell_type": "code",
   "execution_count": 30,
   "id": "e3187f12",
   "metadata": {},
   "outputs": [
    {
     "data": {
      "text/plain": [
       "{'neg': 0.14, 'neu': 0.746, 'pos': 0.114, 'compound': -0.2732}"
      ]
     },
     "execution_count": 30,
     "metadata": {},
     "output_type": "execute_result"
    }
   ],
   "source": [
    "sia.polarity_scores(\"wikipedia entries for global warming. in march the company announced they would be fighting fake news by adding fact checkers to certain conspiracy theory videos. scientists are applauding this change but some people are concerned about the source\")"
   ]
  },
  {
   "cell_type": "code",
   "execution_count": 31,
   "id": "41f06e50",
   "metadata": {},
   "outputs": [
    {
     "name": "stdout",
     "output_type": "stream",
     "text": [
      "aoc she might embrace this idea if she reads about it juan i am surprised greg i think we are in agreement i think republicans when they had control of the house and senate did nothing on climate change did nothing on immigration do nothing on, 8, 0\n"
     ]
    }
   ],
   "source": [
    "input_term = df.iloc[60000,5]\n",
    "suggestions = sym_spell.lookup_compound(input_term, max_edit_distance=2)\n",
    "for suggestion in suggestions:\n",
    "    print(suggestion)"
   ]
  },
  {
   "cell_type": "code",
   "execution_count": 32,
   "id": "5aedd17a",
   "metadata": {},
   "outputs": [],
   "source": [
    "clip = nlp(df.iloc[60000,5])"
   ]
  },
  {
   "cell_type": "code",
   "execution_count": 33,
   "id": "10c6309c",
   "metadata": {},
   "outputs": [
    {
     "data": {
      "text/plain": [
       "aoc. she might embrace this idea if she reads about it. juan: i am surprised, greg. i think we are in agreement. i think republicans when they had control of the house and senate did nothing on climate change, did nothing on immigration, do nothing on"
      ]
     },
     "execution_count": 33,
     "metadata": {},
     "output_type": "execute_result"
    }
   ],
   "source": [
    "clip"
   ]
  },
  {
   "cell_type": "code",
   "execution_count": 34,
   "id": "656203fa",
   "metadata": {},
   "outputs": [
    {
     "data": {
      "text/plain": [
       "{'neg': 0.14, 'neu': 0.746, 'pos': 0.114, 'compound': -0.2732}"
      ]
     },
     "execution_count": 34,
     "metadata": {},
     "output_type": "execute_result"
    }
   ],
   "source": [
    "sia.polarity_scores(\"wikipedia entries for global warming. in march the company announced they would be fighting fake news by adding fact checkers to certain conspiracy theory videos. scientists are applauding this change but some people are concerned about the source.\")"
   ]
  },
  {
   "cell_type": "code",
   "execution_count": 35,
   "id": "8b00f487",
   "metadata": {},
   "outputs": [
    {
     "data": {
      "text/plain": [
       "{'neg': 0.133, 'neu': 0.785, 'pos': 0.082, 'compound': -0.5423}"
      ]
     },
     "execution_count": 35,
     "metadata": {},
     "output_type": "execute_result"
    }
   ],
   "source": [
    "clip = nlp(df.iloc[43001,5])\n",
    "clip = str(clip)\n",
    "sia.polarity_scores(clip)"
   ]
  },
  {
   "cell_type": "code",
   "execution_count": 36,
   "id": "8b93b372",
   "metadata": {},
   "outputs": [],
   "source": [
    "input_term = df.iloc[43001,5]\n",
    "sent = []\n",
    "suggestions = sym_spell.lookup_compound(input_term, max_edit_distance=2)\n",
    "for suggestion in suggestions:\n",
    "    sent.append(str(suggestion))"
   ]
  },
  {
   "cell_type": "code",
   "execution_count": 37,
   "id": "5fac05f3",
   "metadata": {},
   "outputs": [],
   "source": [
    "sent = \" \".join(sent)"
   ]
  },
  {
   "cell_type": "code",
   "execution_count": 38,
   "id": "2715e051",
   "metadata": {},
   "outputs": [
    {
     "data": {
      "text/plain": [
       "{'neg': 0.13, 'neu': 0.789, 'pos': 0.081, 'compound': -0.5423}"
      ]
     },
     "execution_count": 38,
     "metadata": {},
     "output_type": "execute_result"
    }
   ],
   "source": [
    "sia.polarity_scores(sent)"
   ]
  },
  {
   "cell_type": "code",
   "execution_count": 39,
   "id": "a04e7d69",
   "metadata": {},
   "outputs": [
    {
     "data": {
      "text/plain": [
       "'global warming. i mean like 99% scientists around the world know that the world is heading for a catastrophe and we have to do something about it. and if the government of america, you know, backtracks on that, we may not be able to stop'"
      ]
     },
     "execution_count": 39,
     "metadata": {},
     "output_type": "execute_result"
    }
   ],
   "source": [
    "clip"
   ]
  },
  {
   "cell_type": "code",
   "execution_count": 40,
   "id": "5243d4f4",
   "metadata": {},
   "outputs": [
    {
     "data": {
      "text/plain": [
       "'they spent in the fat years money on such fashions as global warming and embryonic stem cell research. do you remember a fund for something that has nothing to do with states, and it was a way of poking their finger in the eye of george bush.'"
      ]
     },
     "execution_count": 40,
     "metadata": {},
     "output_type": "execute_result"
    }
   ],
   "source": [
    "df.iloc[2,5]"
   ]
  },
  {
   "cell_type": "code",
   "execution_count": 41,
   "id": "e179f058",
   "metadata": {},
   "outputs": [
    {
     "data": {
      "text/plain": [
       "{'neg': 0.0, 'neu': 0.965, 'pos': 0.035, 'compound': 0.1531}"
      ]
     },
     "execution_count": 41,
     "metadata": {},
     "output_type": "execute_result"
    }
   ],
   "source": [
    "sia.polarity_scores(df.iloc[2,5])"
   ]
  },
  {
   "cell_type": "code",
   "execution_count": 42,
   "id": "c690c91f",
   "metadata": {},
   "outputs": [
    {
     "data": {
      "text/plain": [
       "{'neg': 0.0, 'neu': 0.955, 'pos': 0.045, 'compound': 0.1531}"
      ]
     },
     "execution_count": 42,
     "metadata": {},
     "output_type": "execute_result"
    }
   ],
   "source": [
    "sia.polarity_scores(df.iloc[4,5])"
   ]
  },
  {
   "cell_type": "code",
   "execution_count": 43,
   "id": "c0956409",
   "metadata": {},
   "outputs": [
    {
     "data": {
      "text/plain": [
       "'representative from washington state. he went there for global warming. he took his wife and some other members of congress and their families. they talked to some scientists. they went off and snorkel and it'"
      ]
     },
     "execution_count": 43,
     "metadata": {},
     "output_type": "execute_result"
    }
   ],
   "source": [
    "df.iloc[4,5]"
   ]
  },
  {
   "cell_type": "code",
   "execution_count": 44,
   "id": "5eba202c",
   "metadata": {},
   "outputs": [
    {
     "data": {
      "text/plain": [
       "\"she did not ask about human rights. she asked about global warming. the chinese saysay that is nice, they're not going to do anything about it.\""
      ]
     },
     "execution_count": 44,
     "metadata": {},
     "output_type": "execute_result"
    }
   ],
   "source": [
    "df.iloc[5,5]"
   ]
  },
  {
   "cell_type": "code",
   "execution_count": 45,
   "id": "79c22f17",
   "metadata": {},
   "outputs": [
    {
     "data": {
      "text/plain": [
       "{'neg': 0.0, 'neu': 0.845, 'pos': 0.155, 'compound': 0.5267}"
      ]
     },
     "execution_count": 45,
     "metadata": {},
     "output_type": "execute_result"
    }
   ],
   "source": [
    "sia.polarity_scores(df.iloc[5,5])"
   ]
  },
  {
   "cell_type": "code",
   "execution_count": 46,
   "id": "ea37c513",
   "metadata": {
    "scrolled": true
   },
   "outputs": [
    {
     "data": {
      "text/html": [
       "<div>\n",
       "<style scoped>\n",
       "    .dataframe tbody tr th:only-of-type {\n",
       "        vertical-align: middle;\n",
       "    }\n",
       "\n",
       "    .dataframe tbody tr th {\n",
       "        vertical-align: top;\n",
       "    }\n",
       "\n",
       "    .dataframe thead th {\n",
       "        text-align: right;\n",
       "    }\n",
       "</style>\n",
       "<table border=\"1\" class=\"dataframe\">\n",
       "  <thead>\n",
       "    <tr style=\"text-align: right;\">\n",
       "      <th></th>\n",
       "      <th>URL</th>\n",
       "      <th>Station</th>\n",
       "      <th>Show</th>\n",
       "      <th>IAShowID</th>\n",
       "      <th>IAPreviewThumb</th>\n",
       "      <th>Snippet</th>\n",
       "      <th>date</th>\n",
       "    </tr>\n",
       "  </thead>\n",
       "  <tbody>\n",
       "    <tr>\n",
       "      <th>0</th>\n",
       "      <td>https://archive.org/details/MSNBC_20090702_180...</td>\n",
       "      <td>MSNBC</td>\n",
       "      <td>MSNBC News Live</td>\n",
       "      <td>MSNBC_20090702_180000_MSNBC_News_Live</td>\n",
       "      <td>https://archive.org/download/MSNBC_20090702_18...</td>\n",
       "      <td>represesentitis passed ann traordinary piece o...</td>\n",
       "      <td>2009-07-02 18:40:30</td>\n",
       "    </tr>\n",
       "    <tr>\n",
       "      <th>1</th>\n",
       "      <td>https://archive.org/details/MSNBC_20090702_190...</td>\n",
       "      <td>MSNBC</td>\n",
       "      <td>MSNBC News Live</td>\n",
       "      <td>MSNBC_20090702_190000_MSNBC_News_Live</td>\n",
       "      <td>https://archive.org/download/MSNBC_20090702_19...</td>\n",
       "      <td>ma a lf headway with th climate change bill an...</td>\n",
       "      <td>2009-07-02 19:51:52</td>\n",
       "    </tr>\n",
       "    <tr>\n",
       "      <th>2</th>\n",
       "      <td>https://archive.org/details/FOXNEWS_20090702_2...</td>\n",
       "      <td>FOXNEWS</td>\n",
       "      <td>Special Report With Bret Baier</td>\n",
       "      <td>FOXNEWS_20090702_221612_Special_Report_With_Br...</td>\n",
       "      <td>https://archive.org/download/FOXNEWS_20090702_...</td>\n",
       "      <td>they spent in the fat years money on such fash...</td>\n",
       "      <td>2009-07-02 22:54:51</td>\n",
       "    </tr>\n",
       "    <tr>\n",
       "      <th>3</th>\n",
       "      <td>https://archive.org/details/FOXNEWS_20090703_0...</td>\n",
       "      <td>FOXNEWS</td>\n",
       "      <td>The OReilly Factor</td>\n",
       "      <td>FOXNEWS_20090703_000000_The_OReilly_Factor</td>\n",
       "      <td>https://archive.org/download/FOXNEWS_20090703_...</td>\n",
       "      <td>active? why not? no, we are not. nancy pelosi ...</td>\n",
       "      <td>2009-07-03 00:08:33</td>\n",
       "    </tr>\n",
       "    <tr>\n",
       "      <th>4</th>\n",
       "      <td>https://archive.org/details/FOXNEWS_20090703_0...</td>\n",
       "      <td>FOXNEWS</td>\n",
       "      <td>Greta Van Susteren</td>\n",
       "      <td>FOXNEWS_20090703_020000_Greta_Van_Susteren</td>\n",
       "      <td>https://archive.org/download/FOXNEWS_20090703_...</td>\n",
       "      <td>representative from washington state. he went ...</td>\n",
       "      <td>2009-07-03 02:44:09</td>\n",
       "    </tr>\n",
       "  </tbody>\n",
       "</table>\n",
       "</div>"
      ],
      "text/plain": [
       "                                                 URL  Station  \\\n",
       "0  https://archive.org/details/MSNBC_20090702_180...    MSNBC   \n",
       "1  https://archive.org/details/MSNBC_20090702_190...    MSNBC   \n",
       "2  https://archive.org/details/FOXNEWS_20090702_2...  FOXNEWS   \n",
       "3  https://archive.org/details/FOXNEWS_20090703_0...  FOXNEWS   \n",
       "4  https://archive.org/details/FOXNEWS_20090703_0...  FOXNEWS   \n",
       "\n",
       "                             Show  \\\n",
       "0                 MSNBC News Live   \n",
       "1                 MSNBC News Live   \n",
       "2  Special Report With Bret Baier   \n",
       "3              The OReilly Factor   \n",
       "4              Greta Van Susteren   \n",
       "\n",
       "                                            IAShowID  \\\n",
       "0              MSNBC_20090702_180000_MSNBC_News_Live   \n",
       "1              MSNBC_20090702_190000_MSNBC_News_Live   \n",
       "2  FOXNEWS_20090702_221612_Special_Report_With_Br...   \n",
       "3         FOXNEWS_20090703_000000_The_OReilly_Factor   \n",
       "4         FOXNEWS_20090703_020000_Greta_Van_Susteren   \n",
       "\n",
       "                                      IAPreviewThumb  \\\n",
       "0  https://archive.org/download/MSNBC_20090702_18...   \n",
       "1  https://archive.org/download/MSNBC_20090702_19...   \n",
       "2  https://archive.org/download/FOXNEWS_20090702_...   \n",
       "3  https://archive.org/download/FOXNEWS_20090703_...   \n",
       "4  https://archive.org/download/FOXNEWS_20090703_...   \n",
       "\n",
       "                                             Snippet                 date  \n",
       "0  represesentitis passed ann traordinary piece o...  2009-07-02 18:40:30  \n",
       "1  ma a lf headway with th climate change bill an...  2009-07-02 19:51:52  \n",
       "2  they spent in the fat years money on such fash...  2009-07-02 22:54:51  \n",
       "3  active? why not? no, we are not. nancy pelosi ...  2009-07-03 00:08:33  \n",
       "4  representative from washington state. he went ...  2009-07-03 02:44:09  "
      ]
     },
     "execution_count": 46,
     "metadata": {},
     "output_type": "execute_result"
    }
   ],
   "source": [
    "df.head()"
   ]
  },
  {
   "cell_type": "code",
   "execution_count": 47,
   "id": "5a4cdb16",
   "metadata": {
    "scrolled": true
   },
   "outputs": [
    {
     "name": "stdout",
     "output_type": "stream",
     "text": [
      "<class 'pandas.core.frame.DataFrame'>\n",
      "RangeIndex: 71598 entries, 0 to 71597\n",
      "Data columns (total 7 columns):\n",
      " #   Column          Non-Null Count  Dtype \n",
      "---  ------          --------------  ----- \n",
      " 0   URL             71598 non-null  object\n",
      " 1   Station         71598 non-null  object\n",
      " 2   Show            71577 non-null  object\n",
      " 3   IAShowID        71598 non-null  object\n",
      " 4   IAPreviewThumb  71598 non-null  object\n",
      " 5   Snippet         71598 non-null  object\n",
      " 6   date            71598 non-null  object\n",
      "dtypes: object(7)\n",
      "memory usage: 3.8+ MB\n"
     ]
    }
   ],
   "source": [
    "df.info()"
   ]
  },
  {
   "cell_type": "code",
   "execution_count": 48,
   "id": "040e86f4",
   "metadata": {},
   "outputs": [],
   "source": [
    "df['date'] = pd.to_datetime(df['date'])"
   ]
  },
  {
   "cell_type": "code",
   "execution_count": 49,
   "id": "ea76a14b",
   "metadata": {},
   "outputs": [],
   "source": [
    "df['day'] = df['date'].dt.strftime('%Y-%m-%d')"
   ]
  },
  {
   "cell_type": "code",
   "execution_count": 50,
   "id": "7bed3374",
   "metadata": {},
   "outputs": [
    {
     "name": "stdout",
     "output_type": "stream",
     "text": [
      "<class 'pandas.core.frame.DataFrame'>\n",
      "RangeIndex: 71598 entries, 0 to 71597\n",
      "Data columns (total 8 columns):\n",
      " #   Column          Non-Null Count  Dtype         \n",
      "---  ------          --------------  -----         \n",
      " 0   URL             71598 non-null  object        \n",
      " 1   Station         71598 non-null  object        \n",
      " 2   Show            71577 non-null  object        \n",
      " 3   IAShowID        71598 non-null  object        \n",
      " 4   IAPreviewThumb  71598 non-null  object        \n",
      " 5   Snippet         71598 non-null  object        \n",
      " 6   date            71598 non-null  datetime64[ns]\n",
      " 7   day             71598 non-null  object        \n",
      "dtypes: datetime64[ns](1), object(7)\n",
      "memory usage: 4.4+ MB\n"
     ]
    }
   ],
   "source": [
    "df.info()"
   ]
  },
  {
   "cell_type": "code",
   "execution_count": 51,
   "id": "1b20bfb5",
   "metadata": {
    "scrolled": false
   },
   "outputs": [
    {
     "data": {
      "text/html": [
       "<div>\n",
       "<style scoped>\n",
       "    .dataframe tbody tr th:only-of-type {\n",
       "        vertical-align: middle;\n",
       "    }\n",
       "\n",
       "    .dataframe tbody tr th {\n",
       "        vertical-align: top;\n",
       "    }\n",
       "\n",
       "    .dataframe thead th {\n",
       "        text-align: right;\n",
       "    }\n",
       "</style>\n",
       "<table border=\"1\" class=\"dataframe\">\n",
       "  <thead>\n",
       "    <tr style=\"text-align: right;\">\n",
       "      <th></th>\n",
       "      <th>URL</th>\n",
       "      <th>Station</th>\n",
       "      <th>Show</th>\n",
       "      <th>IAShowID</th>\n",
       "      <th>IAPreviewThumb</th>\n",
       "      <th>Snippet</th>\n",
       "      <th>date</th>\n",
       "      <th>day</th>\n",
       "    </tr>\n",
       "  </thead>\n",
       "  <tbody>\n",
       "    <tr>\n",
       "      <th>0</th>\n",
       "      <td>https://archive.org/details/MSNBC_20090702_180...</td>\n",
       "      <td>MSNBC</td>\n",
       "      <td>MSNBC News Live</td>\n",
       "      <td>MSNBC_20090702_180000_MSNBC_News_Live</td>\n",
       "      <td>https://archive.org/download/MSNBC_20090702_18...</td>\n",
       "      <td>represesentitis passed ann traordinary piece o...</td>\n",
       "      <td>2009-07-02 18:40:30</td>\n",
       "      <td>2009-07-02</td>\n",
       "    </tr>\n",
       "    <tr>\n",
       "      <th>1</th>\n",
       "      <td>https://archive.org/details/MSNBC_20090702_190...</td>\n",
       "      <td>MSNBC</td>\n",
       "      <td>MSNBC News Live</td>\n",
       "      <td>MSNBC_20090702_190000_MSNBC_News_Live</td>\n",
       "      <td>https://archive.org/download/MSNBC_20090702_19...</td>\n",
       "      <td>ma a lf headway with th climate change bill an...</td>\n",
       "      <td>2009-07-02 19:51:52</td>\n",
       "      <td>2009-07-02</td>\n",
       "    </tr>\n",
       "    <tr>\n",
       "      <th>2</th>\n",
       "      <td>https://archive.org/details/FOXNEWS_20090702_2...</td>\n",
       "      <td>FOXNEWS</td>\n",
       "      <td>Special Report With Bret Baier</td>\n",
       "      <td>FOXNEWS_20090702_221612_Special_Report_With_Br...</td>\n",
       "      <td>https://archive.org/download/FOXNEWS_20090702_...</td>\n",
       "      <td>they spent in the fat years money on such fash...</td>\n",
       "      <td>2009-07-02 22:54:51</td>\n",
       "      <td>2009-07-02</td>\n",
       "    </tr>\n",
       "    <tr>\n",
       "      <th>3</th>\n",
       "      <td>https://archive.org/details/FOXNEWS_20090703_0...</td>\n",
       "      <td>FOXNEWS</td>\n",
       "      <td>The OReilly Factor</td>\n",
       "      <td>FOXNEWS_20090703_000000_The_OReilly_Factor</td>\n",
       "      <td>https://archive.org/download/FOXNEWS_20090703_...</td>\n",
       "      <td>active? why not? no, we are not. nancy pelosi ...</td>\n",
       "      <td>2009-07-03 00:08:33</td>\n",
       "      <td>2009-07-03</td>\n",
       "    </tr>\n",
       "    <tr>\n",
       "      <th>4</th>\n",
       "      <td>https://archive.org/details/FOXNEWS_20090703_0...</td>\n",
       "      <td>FOXNEWS</td>\n",
       "      <td>Greta Van Susteren</td>\n",
       "      <td>FOXNEWS_20090703_020000_Greta_Van_Susteren</td>\n",
       "      <td>https://archive.org/download/FOXNEWS_20090703_...</td>\n",
       "      <td>representative from washington state. he went ...</td>\n",
       "      <td>2009-07-03 02:44:09</td>\n",
       "      <td>2009-07-03</td>\n",
       "    </tr>\n",
       "  </tbody>\n",
       "</table>\n",
       "</div>"
      ],
      "text/plain": [
       "                                                 URL  Station  \\\n",
       "0  https://archive.org/details/MSNBC_20090702_180...    MSNBC   \n",
       "1  https://archive.org/details/MSNBC_20090702_190...    MSNBC   \n",
       "2  https://archive.org/details/FOXNEWS_20090702_2...  FOXNEWS   \n",
       "3  https://archive.org/details/FOXNEWS_20090703_0...  FOXNEWS   \n",
       "4  https://archive.org/details/FOXNEWS_20090703_0...  FOXNEWS   \n",
       "\n",
       "                             Show  \\\n",
       "0                 MSNBC News Live   \n",
       "1                 MSNBC News Live   \n",
       "2  Special Report With Bret Baier   \n",
       "3              The OReilly Factor   \n",
       "4              Greta Van Susteren   \n",
       "\n",
       "                                            IAShowID  \\\n",
       "0              MSNBC_20090702_180000_MSNBC_News_Live   \n",
       "1              MSNBC_20090702_190000_MSNBC_News_Live   \n",
       "2  FOXNEWS_20090702_221612_Special_Report_With_Br...   \n",
       "3         FOXNEWS_20090703_000000_The_OReilly_Factor   \n",
       "4         FOXNEWS_20090703_020000_Greta_Van_Susteren   \n",
       "\n",
       "                                      IAPreviewThumb  \\\n",
       "0  https://archive.org/download/MSNBC_20090702_18...   \n",
       "1  https://archive.org/download/MSNBC_20090702_19...   \n",
       "2  https://archive.org/download/FOXNEWS_20090702_...   \n",
       "3  https://archive.org/download/FOXNEWS_20090703_...   \n",
       "4  https://archive.org/download/FOXNEWS_20090703_...   \n",
       "\n",
       "                                             Snippet                date  \\\n",
       "0  represesentitis passed ann traordinary piece o... 2009-07-02 18:40:30   \n",
       "1  ma a lf headway with th climate change bill an... 2009-07-02 19:51:52   \n",
       "2  they spent in the fat years money on such fash... 2009-07-02 22:54:51   \n",
       "3  active? why not? no, we are not. nancy pelosi ... 2009-07-03 00:08:33   \n",
       "4  representative from washington state. he went ... 2009-07-03 02:44:09   \n",
       "\n",
       "          day  \n",
       "0  2009-07-02  \n",
       "1  2009-07-02  \n",
       "2  2009-07-02  \n",
       "3  2009-07-03  \n",
       "4  2009-07-03  "
      ]
     },
     "execution_count": 51,
     "metadata": {},
     "output_type": "execute_result"
    }
   ],
   "source": [
    "df.head()"
   ]
  },
  {
   "cell_type": "code",
   "execution_count": 52,
   "id": "431455b5",
   "metadata": {},
   "outputs": [],
   "source": [
    "df_sent = df.copy()"
   ]
  },
  {
   "cell_type": "code",
   "execution_count": 53,
   "id": "dc64863b",
   "metadata": {},
   "outputs": [],
   "source": [
    "df_sent['neg_sentiment'] = df_sent['Snippet'].apply(lambda Snippet: sia.polarity_scores(str(Snippet))['neg'])"
   ]
  },
  {
   "cell_type": "code",
   "execution_count": 54,
   "id": "940a02b5",
   "metadata": {},
   "outputs": [
    {
     "data": {
      "text/html": [
       "<div>\n",
       "<style scoped>\n",
       "    .dataframe tbody tr th:only-of-type {\n",
       "        vertical-align: middle;\n",
       "    }\n",
       "\n",
       "    .dataframe tbody tr th {\n",
       "        vertical-align: top;\n",
       "    }\n",
       "\n",
       "    .dataframe thead th {\n",
       "        text-align: right;\n",
       "    }\n",
       "</style>\n",
       "<table border=\"1\" class=\"dataframe\">\n",
       "  <thead>\n",
       "    <tr style=\"text-align: right;\">\n",
       "      <th></th>\n",
       "      <th>URL</th>\n",
       "      <th>Station</th>\n",
       "      <th>Show</th>\n",
       "      <th>IAShowID</th>\n",
       "      <th>IAPreviewThumb</th>\n",
       "      <th>Snippet</th>\n",
       "      <th>date</th>\n",
       "      <th>day</th>\n",
       "      <th>neg_sentiment</th>\n",
       "    </tr>\n",
       "  </thead>\n",
       "  <tbody>\n",
       "    <tr>\n",
       "      <th>0</th>\n",
       "      <td>https://archive.org/details/MSNBC_20090702_180...</td>\n",
       "      <td>MSNBC</td>\n",
       "      <td>MSNBC News Live</td>\n",
       "      <td>MSNBC_20090702_180000_MSNBC_News_Live</td>\n",
       "      <td>https://archive.org/download/MSNBC_20090702_18...</td>\n",
       "      <td>represesentitis passed ann traordinary piece o...</td>\n",
       "      <td>2009-07-02 18:40:30</td>\n",
       "      <td>2009-07-02</td>\n",
       "      <td>0.0</td>\n",
       "    </tr>\n",
       "    <tr>\n",
       "      <th>1</th>\n",
       "      <td>https://archive.org/details/MSNBC_20090702_190...</td>\n",
       "      <td>MSNBC</td>\n",
       "      <td>MSNBC News Live</td>\n",
       "      <td>MSNBC_20090702_190000_MSNBC_News_Live</td>\n",
       "      <td>https://archive.org/download/MSNBC_20090702_19...</td>\n",
       "      <td>ma a lf headway with th climate change bill an...</td>\n",
       "      <td>2009-07-02 19:51:52</td>\n",
       "      <td>2009-07-02</td>\n",
       "      <td>0.0</td>\n",
       "    </tr>\n",
       "    <tr>\n",
       "      <th>2</th>\n",
       "      <td>https://archive.org/details/FOXNEWS_20090702_2...</td>\n",
       "      <td>FOXNEWS</td>\n",
       "      <td>Special Report With Bret Baier</td>\n",
       "      <td>FOXNEWS_20090702_221612_Special_Report_With_Br...</td>\n",
       "      <td>https://archive.org/download/FOXNEWS_20090702_...</td>\n",
       "      <td>they spent in the fat years money on such fash...</td>\n",
       "      <td>2009-07-02 22:54:51</td>\n",
       "      <td>2009-07-02</td>\n",
       "      <td>0.0</td>\n",
       "    </tr>\n",
       "    <tr>\n",
       "      <th>3</th>\n",
       "      <td>https://archive.org/details/FOXNEWS_20090703_0...</td>\n",
       "      <td>FOXNEWS</td>\n",
       "      <td>The OReilly Factor</td>\n",
       "      <td>FOXNEWS_20090703_000000_The_OReilly_Factor</td>\n",
       "      <td>https://archive.org/download/FOXNEWS_20090703_...</td>\n",
       "      <td>active? why not? no, we are not. nancy pelosi ...</td>\n",
       "      <td>2009-07-03 00:08:33</td>\n",
       "      <td>2009-07-03</td>\n",
       "      <td>0.0</td>\n",
       "    </tr>\n",
       "    <tr>\n",
       "      <th>4</th>\n",
       "      <td>https://archive.org/details/FOXNEWS_20090703_0...</td>\n",
       "      <td>FOXNEWS</td>\n",
       "      <td>Greta Van Susteren</td>\n",
       "      <td>FOXNEWS_20090703_020000_Greta_Van_Susteren</td>\n",
       "      <td>https://archive.org/download/FOXNEWS_20090703_...</td>\n",
       "      <td>representative from washington state. he went ...</td>\n",
       "      <td>2009-07-03 02:44:09</td>\n",
       "      <td>2009-07-03</td>\n",
       "      <td>0.0</td>\n",
       "    </tr>\n",
       "  </tbody>\n",
       "</table>\n",
       "</div>"
      ],
      "text/plain": [
       "                                                 URL  Station  \\\n",
       "0  https://archive.org/details/MSNBC_20090702_180...    MSNBC   \n",
       "1  https://archive.org/details/MSNBC_20090702_190...    MSNBC   \n",
       "2  https://archive.org/details/FOXNEWS_20090702_2...  FOXNEWS   \n",
       "3  https://archive.org/details/FOXNEWS_20090703_0...  FOXNEWS   \n",
       "4  https://archive.org/details/FOXNEWS_20090703_0...  FOXNEWS   \n",
       "\n",
       "                             Show  \\\n",
       "0                 MSNBC News Live   \n",
       "1                 MSNBC News Live   \n",
       "2  Special Report With Bret Baier   \n",
       "3              The OReilly Factor   \n",
       "4              Greta Van Susteren   \n",
       "\n",
       "                                            IAShowID  \\\n",
       "0              MSNBC_20090702_180000_MSNBC_News_Live   \n",
       "1              MSNBC_20090702_190000_MSNBC_News_Live   \n",
       "2  FOXNEWS_20090702_221612_Special_Report_With_Br...   \n",
       "3         FOXNEWS_20090703_000000_The_OReilly_Factor   \n",
       "4         FOXNEWS_20090703_020000_Greta_Van_Susteren   \n",
       "\n",
       "                                      IAPreviewThumb  \\\n",
       "0  https://archive.org/download/MSNBC_20090702_18...   \n",
       "1  https://archive.org/download/MSNBC_20090702_19...   \n",
       "2  https://archive.org/download/FOXNEWS_20090702_...   \n",
       "3  https://archive.org/download/FOXNEWS_20090703_...   \n",
       "4  https://archive.org/download/FOXNEWS_20090703_...   \n",
       "\n",
       "                                             Snippet                date  \\\n",
       "0  represesentitis passed ann traordinary piece o... 2009-07-02 18:40:30   \n",
       "1  ma a lf headway with th climate change bill an... 2009-07-02 19:51:52   \n",
       "2  they spent in the fat years money on such fash... 2009-07-02 22:54:51   \n",
       "3  active? why not? no, we are not. nancy pelosi ... 2009-07-03 00:08:33   \n",
       "4  representative from washington state. he went ... 2009-07-03 02:44:09   \n",
       "\n",
       "          day  neg_sentiment  \n",
       "0  2009-07-02            0.0  \n",
       "1  2009-07-02            0.0  \n",
       "2  2009-07-02            0.0  \n",
       "3  2009-07-03            0.0  \n",
       "4  2009-07-03            0.0  "
      ]
     },
     "execution_count": 54,
     "metadata": {},
     "output_type": "execute_result"
    }
   ],
   "source": [
    "df_sent.head()"
   ]
  },
  {
   "cell_type": "code",
   "execution_count": 55,
   "id": "4028625e",
   "metadata": {},
   "outputs": [],
   "source": [
    "df_sent['neut_sentiment'] = df_sent['Snippet'].apply(lambda Snippet: sia.polarity_scores(str(Snippet))['neu'])"
   ]
  },
  {
   "cell_type": "code",
   "execution_count": 56,
   "id": "d3c7e4f8",
   "metadata": {},
   "outputs": [],
   "source": [
    "df_sent['pos_sentiment'] = df_sent['Snippet'].apply(lambda Snippet: sia.polarity_scores(str(Snippet))['pos'])"
   ]
  },
  {
   "cell_type": "code",
   "execution_count": 57,
   "id": "fb5df1cb",
   "metadata": {},
   "outputs": [],
   "source": [
    "df_sent['comp_sentiment'] = df_sent['Snippet'].apply(lambda Snippet: sia.polarity_scores(str(Snippet))['compound'])"
   ]
  },
  {
   "cell_type": "code",
   "execution_count": 58,
   "id": "21f87a0c",
   "metadata": {},
   "outputs": [
    {
     "data": {
      "text/html": [
       "<div>\n",
       "<style scoped>\n",
       "    .dataframe tbody tr th:only-of-type {\n",
       "        vertical-align: middle;\n",
       "    }\n",
       "\n",
       "    .dataframe tbody tr th {\n",
       "        vertical-align: top;\n",
       "    }\n",
       "\n",
       "    .dataframe thead th {\n",
       "        text-align: right;\n",
       "    }\n",
       "</style>\n",
       "<table border=\"1\" class=\"dataframe\">\n",
       "  <thead>\n",
       "    <tr style=\"text-align: right;\">\n",
       "      <th></th>\n",
       "      <th>URL</th>\n",
       "      <th>Station</th>\n",
       "      <th>Show</th>\n",
       "      <th>IAShowID</th>\n",
       "      <th>IAPreviewThumb</th>\n",
       "      <th>Snippet</th>\n",
       "      <th>date</th>\n",
       "      <th>day</th>\n",
       "      <th>neg_sentiment</th>\n",
       "      <th>neut_sentiment</th>\n",
       "      <th>pos_sentiment</th>\n",
       "      <th>comp_sentiment</th>\n",
       "    </tr>\n",
       "  </thead>\n",
       "  <tbody>\n",
       "    <tr>\n",
       "      <th>0</th>\n",
       "      <td>https://archive.org/details/MSNBC_20090702_180...</td>\n",
       "      <td>MSNBC</td>\n",
       "      <td>MSNBC News Live</td>\n",
       "      <td>MSNBC_20090702_180000_MSNBC_News_Live</td>\n",
       "      <td>https://archive.org/download/MSNBC_20090702_18...</td>\n",
       "      <td>represesentitis passed ann traordinary piece o...</td>\n",
       "      <td>2009-07-02 18:40:30</td>\n",
       "      <td>2009-07-02</td>\n",
       "      <td>0.0</td>\n",
       "      <td>0.833</td>\n",
       "      <td>0.167</td>\n",
       "      <td>0.7506</td>\n",
       "    </tr>\n",
       "    <tr>\n",
       "      <th>1</th>\n",
       "      <td>https://archive.org/details/MSNBC_20090702_190...</td>\n",
       "      <td>MSNBC</td>\n",
       "      <td>MSNBC News Live</td>\n",
       "      <td>MSNBC_20090702_190000_MSNBC_News_Live</td>\n",
       "      <td>https://archive.org/download/MSNBC_20090702_19...</td>\n",
       "      <td>ma a lf headway with th climate change bill an...</td>\n",
       "      <td>2009-07-02 19:51:52</td>\n",
       "      <td>2009-07-02</td>\n",
       "      <td>0.0</td>\n",
       "      <td>0.749</td>\n",
       "      <td>0.251</td>\n",
       "      <td>0.9079</td>\n",
       "    </tr>\n",
       "    <tr>\n",
       "      <th>2</th>\n",
       "      <td>https://archive.org/details/FOXNEWS_20090702_2...</td>\n",
       "      <td>FOXNEWS</td>\n",
       "      <td>Special Report With Bret Baier</td>\n",
       "      <td>FOXNEWS_20090702_221612_Special_Report_With_Br...</td>\n",
       "      <td>https://archive.org/download/FOXNEWS_20090702_...</td>\n",
       "      <td>they spent in the fat years money on such fash...</td>\n",
       "      <td>2009-07-02 22:54:51</td>\n",
       "      <td>2009-07-02</td>\n",
       "      <td>0.0</td>\n",
       "      <td>0.965</td>\n",
       "      <td>0.035</td>\n",
       "      <td>0.1531</td>\n",
       "    </tr>\n",
       "    <tr>\n",
       "      <th>3</th>\n",
       "      <td>https://archive.org/details/FOXNEWS_20090703_0...</td>\n",
       "      <td>FOXNEWS</td>\n",
       "      <td>The OReilly Factor</td>\n",
       "      <td>FOXNEWS_20090703_000000_The_OReilly_Factor</td>\n",
       "      <td>https://archive.org/download/FOXNEWS_20090703_...</td>\n",
       "      <td>active? why not? no, we are not. nancy pelosi ...</td>\n",
       "      <td>2009-07-03 00:08:33</td>\n",
       "      <td>2009-07-03</td>\n",
       "      <td>0.0</td>\n",
       "      <td>0.805</td>\n",
       "      <td>0.195</td>\n",
       "      <td>0.6755</td>\n",
       "    </tr>\n",
       "    <tr>\n",
       "      <th>4</th>\n",
       "      <td>https://archive.org/details/FOXNEWS_20090703_0...</td>\n",
       "      <td>FOXNEWS</td>\n",
       "      <td>Greta Van Susteren</td>\n",
       "      <td>FOXNEWS_20090703_020000_Greta_Van_Susteren</td>\n",
       "      <td>https://archive.org/download/FOXNEWS_20090703_...</td>\n",
       "      <td>representative from washington state. he went ...</td>\n",
       "      <td>2009-07-03 02:44:09</td>\n",
       "      <td>2009-07-03</td>\n",
       "      <td>0.0</td>\n",
       "      <td>0.955</td>\n",
       "      <td>0.045</td>\n",
       "      <td>0.1531</td>\n",
       "    </tr>\n",
       "  </tbody>\n",
       "</table>\n",
       "</div>"
      ],
      "text/plain": [
       "                                                 URL  Station  \\\n",
       "0  https://archive.org/details/MSNBC_20090702_180...    MSNBC   \n",
       "1  https://archive.org/details/MSNBC_20090702_190...    MSNBC   \n",
       "2  https://archive.org/details/FOXNEWS_20090702_2...  FOXNEWS   \n",
       "3  https://archive.org/details/FOXNEWS_20090703_0...  FOXNEWS   \n",
       "4  https://archive.org/details/FOXNEWS_20090703_0...  FOXNEWS   \n",
       "\n",
       "                             Show  \\\n",
       "0                 MSNBC News Live   \n",
       "1                 MSNBC News Live   \n",
       "2  Special Report With Bret Baier   \n",
       "3              The OReilly Factor   \n",
       "4              Greta Van Susteren   \n",
       "\n",
       "                                            IAShowID  \\\n",
       "0              MSNBC_20090702_180000_MSNBC_News_Live   \n",
       "1              MSNBC_20090702_190000_MSNBC_News_Live   \n",
       "2  FOXNEWS_20090702_221612_Special_Report_With_Br...   \n",
       "3         FOXNEWS_20090703_000000_The_OReilly_Factor   \n",
       "4         FOXNEWS_20090703_020000_Greta_Van_Susteren   \n",
       "\n",
       "                                      IAPreviewThumb  \\\n",
       "0  https://archive.org/download/MSNBC_20090702_18...   \n",
       "1  https://archive.org/download/MSNBC_20090702_19...   \n",
       "2  https://archive.org/download/FOXNEWS_20090702_...   \n",
       "3  https://archive.org/download/FOXNEWS_20090703_...   \n",
       "4  https://archive.org/download/FOXNEWS_20090703_...   \n",
       "\n",
       "                                             Snippet                date  \\\n",
       "0  represesentitis passed ann traordinary piece o... 2009-07-02 18:40:30   \n",
       "1  ma a lf headway with th climate change bill an... 2009-07-02 19:51:52   \n",
       "2  they spent in the fat years money on such fash... 2009-07-02 22:54:51   \n",
       "3  active? why not? no, we are not. nancy pelosi ... 2009-07-03 00:08:33   \n",
       "4  representative from washington state. he went ... 2009-07-03 02:44:09   \n",
       "\n",
       "          day  neg_sentiment  neut_sentiment  pos_sentiment  comp_sentiment  \n",
       "0  2009-07-02            0.0           0.833          0.167          0.7506  \n",
       "1  2009-07-02            0.0           0.749          0.251          0.9079  \n",
       "2  2009-07-02            0.0           0.965          0.035          0.1531  \n",
       "3  2009-07-03            0.0           0.805          0.195          0.6755  \n",
       "4  2009-07-03            0.0           0.955          0.045          0.1531  "
      ]
     },
     "execution_count": 58,
     "metadata": {},
     "output_type": "execute_result"
    }
   ],
   "source": [
    "df_sent.head()"
   ]
  },
  {
   "cell_type": "code",
   "execution_count": 59,
   "id": "05b084c1",
   "metadata": {
    "scrolled": true
   },
   "outputs": [
    {
     "data": {
      "text/html": [
       "<div>\n",
       "<style scoped>\n",
       "    .dataframe tbody tr th:only-of-type {\n",
       "        vertical-align: middle;\n",
       "    }\n",
       "\n",
       "    .dataframe tbody tr th {\n",
       "        vertical-align: top;\n",
       "    }\n",
       "\n",
       "    .dataframe thead th {\n",
       "        text-align: right;\n",
       "    }\n",
       "</style>\n",
       "<table border=\"1\" class=\"dataframe\">\n",
       "  <thead>\n",
       "    <tr style=\"text-align: right;\">\n",
       "      <th></th>\n",
       "      <th>URL</th>\n",
       "      <th>Station</th>\n",
       "      <th>Show</th>\n",
       "      <th>IAShowID</th>\n",
       "      <th>IAPreviewThumb</th>\n",
       "      <th>Snippet</th>\n",
       "      <th>date</th>\n",
       "      <th>day</th>\n",
       "      <th>neg_sentiment</th>\n",
       "      <th>neut_sentiment</th>\n",
       "      <th>pos_sentiment</th>\n",
       "      <th>comp_sentiment</th>\n",
       "    </tr>\n",
       "  </thead>\n",
       "  <tbody>\n",
       "    <tr>\n",
       "      <th>71593</th>\n",
       "      <td>https://archive.org/details/CNNW_20200121_1200...</td>\n",
       "      <td>CNN</td>\n",
       "      <td>New Day With Alisyn Camerota and John Berman</td>\n",
       "      <td>CNNW_20200121_120000_New_Day_With_Alisyn_Camer...</td>\n",
       "      <td>https://archive.org/download/CNNW_20200121_120...</td>\n",
       "      <td>initiative. that's not going to be enough to u...</td>\n",
       "      <td>2020-01-21 12:13:11</td>\n",
       "      <td>2020-01-21</td>\n",
       "      <td>0.041</td>\n",
       "      <td>0.897</td>\n",
       "      <td>0.062</td>\n",
       "      <td>0.2732</td>\n",
       "    </tr>\n",
       "    <tr>\n",
       "      <th>71594</th>\n",
       "      <td>https://archive.org/details/FOXNEWSW_20200121_...</td>\n",
       "      <td>FOXNEWS</td>\n",
       "      <td>Americas Newsroom</td>\n",
       "      <td>FOXNEWSW_20200121_140000_Americas_Newsroom</td>\n",
       "      <td>https://archive.org/download/FOXNEWSW_20200121...</td>\n",
       "      <td>environment policy and global warming, one of ...</td>\n",
       "      <td>2020-01-21 14:06:02</td>\n",
       "      <td>2020-01-21</td>\n",
       "      <td>0.000</td>\n",
       "      <td>0.807</td>\n",
       "      <td>0.193</td>\n",
       "      <td>0.8313</td>\n",
       "    </tr>\n",
       "    <tr>\n",
       "      <th>71595</th>\n",
       "      <td>https://archive.org/details/FOXNEWSW_20200121_...</td>\n",
       "      <td>FOXNEWS</td>\n",
       "      <td>Americas Newsroom</td>\n",
       "      <td>FOXNEWSW_20200121_140000_Americas_Newsroom</td>\n",
       "      <td>https://archive.org/download/FOXNEWSW_20200121...</td>\n",
       "      <td>about climate change. charles? that's low-hang...</td>\n",
       "      <td>2020-01-21 15:55:57</td>\n",
       "      <td>2020-01-21</td>\n",
       "      <td>0.000</td>\n",
       "      <td>0.831</td>\n",
       "      <td>0.169</td>\n",
       "      <td>0.7430</td>\n",
       "    </tr>\n",
       "    <tr>\n",
       "      <th>71596</th>\n",
       "      <td>https://archive.org/details/CNNW_20200121_1500...</td>\n",
       "      <td>CNN</td>\n",
       "      <td>The Senate Trial of Donald J. Trump</td>\n",
       "      <td>CNNW_20200121_150000_The_Senate_Trial_of_Donal...</td>\n",
       "      <td>https://archive.org/download/CNNW_20200121_150...</td>\n",
       "      <td>bring out the bold™. asand achieved new york c...</td>\n",
       "      <td>2020-01-21 16:35:00</td>\n",
       "      <td>2020-01-21</td>\n",
       "      <td>0.056</td>\n",
       "      <td>0.944</td>\n",
       "      <td>0.000</td>\n",
       "      <td>-0.3818</td>\n",
       "    </tr>\n",
       "    <tr>\n",
       "      <th>71597</th>\n",
       "      <td>https://archive.org/details/CNNW_20200121_1500...</td>\n",
       "      <td>CNN</td>\n",
       "      <td>The Senate Trial of Donald J. Trump</td>\n",
       "      <td>CNNW_20200121_150000_The_Senate_Trial_of_Donal...</td>\n",
       "      <td>https://archive.org/download/CNNW_20200121_150...</td>\n",
       "      <td>in history. as president, he intends to reduce...</td>\n",
       "      <td>2020-01-21 16:35:15</td>\n",
       "      <td>2020-01-21</td>\n",
       "      <td>0.049</td>\n",
       "      <td>0.871</td>\n",
       "      <td>0.079</td>\n",
       "      <td>0.0920</td>\n",
       "    </tr>\n",
       "  </tbody>\n",
       "</table>\n",
       "</div>"
      ],
      "text/plain": [
       "                                                     URL  Station  \\\n",
       "71593  https://archive.org/details/CNNW_20200121_1200...      CNN   \n",
       "71594  https://archive.org/details/FOXNEWSW_20200121_...  FOXNEWS   \n",
       "71595  https://archive.org/details/FOXNEWSW_20200121_...  FOXNEWS   \n",
       "71596  https://archive.org/details/CNNW_20200121_1500...      CNN   \n",
       "71597  https://archive.org/details/CNNW_20200121_1500...      CNN   \n",
       "\n",
       "                                               Show  \\\n",
       "71593  New Day With Alisyn Camerota and John Berman   \n",
       "71594                             Americas Newsroom   \n",
       "71595                             Americas Newsroom   \n",
       "71596           The Senate Trial of Donald J. Trump   \n",
       "71597           The Senate Trial of Donald J. Trump   \n",
       "\n",
       "                                                IAShowID  \\\n",
       "71593  CNNW_20200121_120000_New_Day_With_Alisyn_Camer...   \n",
       "71594         FOXNEWSW_20200121_140000_Americas_Newsroom   \n",
       "71595         FOXNEWSW_20200121_140000_Americas_Newsroom   \n",
       "71596  CNNW_20200121_150000_The_Senate_Trial_of_Donal...   \n",
       "71597  CNNW_20200121_150000_The_Senate_Trial_of_Donal...   \n",
       "\n",
       "                                          IAPreviewThumb  \\\n",
       "71593  https://archive.org/download/CNNW_20200121_120...   \n",
       "71594  https://archive.org/download/FOXNEWSW_20200121...   \n",
       "71595  https://archive.org/download/FOXNEWSW_20200121...   \n",
       "71596  https://archive.org/download/CNNW_20200121_150...   \n",
       "71597  https://archive.org/download/CNNW_20200121_150...   \n",
       "\n",
       "                                                 Snippet                date  \\\n",
       "71593  initiative. that's not going to be enough to u... 2020-01-21 12:13:11   \n",
       "71594  environment policy and global warming, one of ... 2020-01-21 14:06:02   \n",
       "71595  about climate change. charles? that's low-hang... 2020-01-21 15:55:57   \n",
       "71596  bring out the bold™. asand achieved new york c... 2020-01-21 16:35:00   \n",
       "71597  in history. as president, he intends to reduce... 2020-01-21 16:35:15   \n",
       "\n",
       "              day  neg_sentiment  neut_sentiment  pos_sentiment  \\\n",
       "71593  2020-01-21          0.041           0.897          0.062   \n",
       "71594  2020-01-21          0.000           0.807          0.193   \n",
       "71595  2020-01-21          0.000           0.831          0.169   \n",
       "71596  2020-01-21          0.056           0.944          0.000   \n",
       "71597  2020-01-21          0.049           0.871          0.079   \n",
       "\n",
       "       comp_sentiment  \n",
       "71593          0.2732  \n",
       "71594          0.8313  \n",
       "71595          0.7430  \n",
       "71596         -0.3818  \n",
       "71597          0.0920  "
      ]
     },
     "execution_count": 59,
     "metadata": {},
     "output_type": "execute_result"
    }
   ],
   "source": [
    "df_sent.tail()"
   ]
  },
  {
   "cell_type": "code",
   "execution_count": 60,
   "id": "02a8f73c",
   "metadata": {},
   "outputs": [
    {
     "data": {
      "text/plain": [
       "'environment policy and global warming, one of the biggest applause lines during his speech, ed, was when he said the united states would fully embrace the 1 million trees program. that something that came out of davos last year. that if the world were to plant'"
      ]
     },
     "execution_count": 60,
     "metadata": {},
     "output_type": "execute_result"
    }
   ],
   "source": [
    "df_sent.iloc[71594, 5]"
   ]
  },
  {
   "cell_type": "code",
   "execution_count": 61,
   "id": "d15a27f7",
   "metadata": {
    "scrolled": true
   },
   "outputs": [
    {
     "data": {
      "text/plain": [
       "\"bring out the bold™. asand achieved new york city'sed cacleanest air quality in more than 50 years. as a leader in the fight against climate change, he helped shut down over half of the nation's coal plants, then led one of the biggest pollution reduction efforts\""
      ]
     },
     "execution_count": 61,
     "metadata": {},
     "output_type": "execute_result"
    }
   ],
   "source": [
    "df_sent.iloc[71596, 5]"
   ]
  },
  {
   "cell_type": "code",
   "execution_count": 62,
   "id": "0cd14ab7",
   "metadata": {},
   "outputs": [
    {
     "data": {
      "text/html": [
       "<div>\n",
       "<style scoped>\n",
       "    .dataframe tbody tr th:only-of-type {\n",
       "        vertical-align: middle;\n",
       "    }\n",
       "\n",
       "    .dataframe tbody tr th {\n",
       "        vertical-align: top;\n",
       "    }\n",
       "\n",
       "    .dataframe thead th {\n",
       "        text-align: right;\n",
       "    }\n",
       "</style>\n",
       "<table border=\"1\" class=\"dataframe\">\n",
       "  <thead>\n",
       "    <tr style=\"text-align: right;\">\n",
       "      <th></th>\n",
       "      <th>URL</th>\n",
       "      <th>Station</th>\n",
       "      <th>Show</th>\n",
       "      <th>IAShowID</th>\n",
       "      <th>IAPreviewThumb</th>\n",
       "      <th>Snippet</th>\n",
       "      <th>date</th>\n",
       "      <th>day</th>\n",
       "      <th>neg_sentiment</th>\n",
       "      <th>neut_sentiment</th>\n",
       "      <th>pos_sentiment</th>\n",
       "      <th>comp_sentiment</th>\n",
       "    </tr>\n",
       "  </thead>\n",
       "  <tbody>\n",
       "    <tr>\n",
       "      <th>0</th>\n",
       "      <td>https://archive.org/details/MSNBC_20090702_180...</td>\n",
       "      <td>MSNBC</td>\n",
       "      <td>MSNBC News Live</td>\n",
       "      <td>MSNBC_20090702_180000_MSNBC_News_Live</td>\n",
       "      <td>https://archive.org/download/MSNBC_20090702_18...</td>\n",
       "      <td>represesentitis passed ann traordinary piece o...</td>\n",
       "      <td>2009-07-02 18:40:30</td>\n",
       "      <td>2009-07-02</td>\n",
       "      <td>0.0</td>\n",
       "      <td>0.833</td>\n",
       "      <td>0.167</td>\n",
       "      <td>0.7506</td>\n",
       "    </tr>\n",
       "    <tr>\n",
       "      <th>1</th>\n",
       "      <td>https://archive.org/details/MSNBC_20090702_190...</td>\n",
       "      <td>MSNBC</td>\n",
       "      <td>MSNBC News Live</td>\n",
       "      <td>MSNBC_20090702_190000_MSNBC_News_Live</td>\n",
       "      <td>https://archive.org/download/MSNBC_20090702_19...</td>\n",
       "      <td>ma a lf headway with th climate change bill an...</td>\n",
       "      <td>2009-07-02 19:51:52</td>\n",
       "      <td>2009-07-02</td>\n",
       "      <td>0.0</td>\n",
       "      <td>0.749</td>\n",
       "      <td>0.251</td>\n",
       "      <td>0.9079</td>\n",
       "    </tr>\n",
       "    <tr>\n",
       "      <th>2</th>\n",
       "      <td>https://archive.org/details/FOXNEWS_20090702_2...</td>\n",
       "      <td>FOXNEWS</td>\n",
       "      <td>Special Report With Bret Baier</td>\n",
       "      <td>FOXNEWS_20090702_221612_Special_Report_With_Br...</td>\n",
       "      <td>https://archive.org/download/FOXNEWS_20090702_...</td>\n",
       "      <td>they spent in the fat years money on such fash...</td>\n",
       "      <td>2009-07-02 22:54:51</td>\n",
       "      <td>2009-07-02</td>\n",
       "      <td>0.0</td>\n",
       "      <td>0.965</td>\n",
       "      <td>0.035</td>\n",
       "      <td>0.1531</td>\n",
       "    </tr>\n",
       "    <tr>\n",
       "      <th>3</th>\n",
       "      <td>https://archive.org/details/FOXNEWS_20090703_0...</td>\n",
       "      <td>FOXNEWS</td>\n",
       "      <td>The OReilly Factor</td>\n",
       "      <td>FOXNEWS_20090703_000000_The_OReilly_Factor</td>\n",
       "      <td>https://archive.org/download/FOXNEWS_20090703_...</td>\n",
       "      <td>active? why not? no, we are not. nancy pelosi ...</td>\n",
       "      <td>2009-07-03 00:08:33</td>\n",
       "      <td>2009-07-03</td>\n",
       "      <td>0.0</td>\n",
       "      <td>0.805</td>\n",
       "      <td>0.195</td>\n",
       "      <td>0.6755</td>\n",
       "    </tr>\n",
       "    <tr>\n",
       "      <th>4</th>\n",
       "      <td>https://archive.org/details/FOXNEWS_20090703_0...</td>\n",
       "      <td>FOXNEWS</td>\n",
       "      <td>Greta Van Susteren</td>\n",
       "      <td>FOXNEWS_20090703_020000_Greta_Van_Susteren</td>\n",
       "      <td>https://archive.org/download/FOXNEWS_20090703_...</td>\n",
       "      <td>representative from washington state. he went ...</td>\n",
       "      <td>2009-07-03 02:44:09</td>\n",
       "      <td>2009-07-03</td>\n",
       "      <td>0.0</td>\n",
       "      <td>0.955</td>\n",
       "      <td>0.045</td>\n",
       "      <td>0.1531</td>\n",
       "    </tr>\n",
       "  </tbody>\n",
       "</table>\n",
       "</div>"
      ],
      "text/plain": [
       "                                                 URL  Station  \\\n",
       "0  https://archive.org/details/MSNBC_20090702_180...    MSNBC   \n",
       "1  https://archive.org/details/MSNBC_20090702_190...    MSNBC   \n",
       "2  https://archive.org/details/FOXNEWS_20090702_2...  FOXNEWS   \n",
       "3  https://archive.org/details/FOXNEWS_20090703_0...  FOXNEWS   \n",
       "4  https://archive.org/details/FOXNEWS_20090703_0...  FOXNEWS   \n",
       "\n",
       "                             Show  \\\n",
       "0                 MSNBC News Live   \n",
       "1                 MSNBC News Live   \n",
       "2  Special Report With Bret Baier   \n",
       "3              The OReilly Factor   \n",
       "4              Greta Van Susteren   \n",
       "\n",
       "                                            IAShowID  \\\n",
       "0              MSNBC_20090702_180000_MSNBC_News_Live   \n",
       "1              MSNBC_20090702_190000_MSNBC_News_Live   \n",
       "2  FOXNEWS_20090702_221612_Special_Report_With_Br...   \n",
       "3         FOXNEWS_20090703_000000_The_OReilly_Factor   \n",
       "4         FOXNEWS_20090703_020000_Greta_Van_Susteren   \n",
       "\n",
       "                                      IAPreviewThumb  \\\n",
       "0  https://archive.org/download/MSNBC_20090702_18...   \n",
       "1  https://archive.org/download/MSNBC_20090702_19...   \n",
       "2  https://archive.org/download/FOXNEWS_20090702_...   \n",
       "3  https://archive.org/download/FOXNEWS_20090703_...   \n",
       "4  https://archive.org/download/FOXNEWS_20090703_...   \n",
       "\n",
       "                                             Snippet                date  \\\n",
       "0  represesentitis passed ann traordinary piece o... 2009-07-02 18:40:30   \n",
       "1  ma a lf headway with th climate change bill an... 2009-07-02 19:51:52   \n",
       "2  they spent in the fat years money on such fash... 2009-07-02 22:54:51   \n",
       "3  active? why not? no, we are not. nancy pelosi ... 2009-07-03 00:08:33   \n",
       "4  representative from washington state. he went ... 2009-07-03 02:44:09   \n",
       "\n",
       "          day  neg_sentiment  neut_sentiment  pos_sentiment  comp_sentiment  \n",
       "0  2009-07-02            0.0           0.833          0.167          0.7506  \n",
       "1  2009-07-02            0.0           0.749          0.251          0.9079  \n",
       "2  2009-07-02            0.0           0.965          0.035          0.1531  \n",
       "3  2009-07-03            0.0           0.805          0.195          0.6755  \n",
       "4  2009-07-03            0.0           0.955          0.045          0.1531  "
      ]
     },
     "execution_count": 62,
     "metadata": {},
     "output_type": "execute_result"
    }
   ],
   "source": [
    "df_sent.head()"
   ]
  },
  {
   "cell_type": "code",
   "execution_count": 63,
   "id": "412c29f6",
   "metadata": {},
   "outputs": [],
   "source": [
    "df_sent.to_csv('/Users/butler/Documents/GitHub/projects/Capstone_three/data/interim/sentiments_via_sia.csv')"
   ]
  },
  {
   "cell_type": "code",
   "execution_count": 64,
   "id": "41aa1e42",
   "metadata": {},
   "outputs": [],
   "source": [
    "df_day = df.copy()"
   ]
  },
  {
   "cell_type": "code",
   "execution_count": 65,
   "id": "ced4b19e",
   "metadata": {},
   "outputs": [],
   "source": [
    "df_day.reset_index(names=['number'], inplace=True)"
   ]
  },
  {
   "cell_type": "code",
   "execution_count": 66,
   "id": "23de7501",
   "metadata": {},
   "outputs": [],
   "source": [
    "df_day = df_day.groupby(['day'])['number'].count()"
   ]
  },
  {
   "cell_type": "code",
   "execution_count": 67,
   "id": "84676338",
   "metadata": {},
   "outputs": [
    {
     "data": {
      "text/plain": [
       "day\n",
       "2009-07-02     3\n",
       "2009-07-03    15\n",
       "2009-07-04    14\n",
       "2009-07-05     7\n",
       "2009-07-06     5\n",
       "Name: number, dtype: int64"
      ]
     },
     "execution_count": 67,
     "metadata": {},
     "output_type": "execute_result"
    }
   ],
   "source": [
    "df_day.head()"
   ]
  },
  {
   "cell_type": "code",
   "execution_count": 68,
   "id": "3b72a006",
   "metadata": {
    "scrolled": true
   },
   "outputs": [
    {
     "data": {
      "text/plain": [
       "count    3602.000000\n",
       "mean       19.877290\n",
       "std        33.324479\n",
       "min         1.000000\n",
       "25%         4.000000\n",
       "50%        10.000000\n",
       "75%        22.000000\n",
       "max       615.000000\n",
       "Name: number, dtype: float64"
      ]
     },
     "execution_count": 68,
     "metadata": {},
     "output_type": "execute_result"
    }
   ],
   "source": [
    "df_day.describe()"
   ]
  },
  {
   "cell_type": "code",
   "execution_count": 69,
   "id": "d01d4232",
   "metadata": {
    "scrolled": true
   },
   "outputs": [
    {
     "name": "stdout",
     "output_type": "stream",
     "text": [
      "<class 'pandas.core.series.Series'>\n",
      "Index: 3602 entries, 2009-07-02 to 2020-01-21\n",
      "Series name: number\n",
      "Non-Null Count  Dtype\n",
      "--------------  -----\n",
      "3602 non-null   int64\n",
      "dtypes: int64(1)\n",
      "memory usage: 56.3+ KB\n"
     ]
    }
   ],
   "source": [
    "df_day.info()"
   ]
  },
  {
   "cell_type": "code",
   "execution_count": 70,
   "id": "4225df31",
   "metadata": {},
   "outputs": [],
   "source": [
    "df_day.to_csv('/Users/butler/Documents/GitHub/projects/Capstone_three/data/interim/number_mentions_per_day.csv')"
   ]
  }
 ],
 "metadata": {
  "kernelspec": {
   "display_name": "Python 3 (ipykernel)",
   "language": "python",
   "name": "python3"
  },
  "language_info": {
   "codemirror_mode": {
    "name": "ipython",
    "version": 3
   },
   "file_extension": ".py",
   "mimetype": "text/x-python",
   "name": "python",
   "nbconvert_exporter": "python",
   "pygments_lexer": "ipython3",
   "version": "3.9.17"
  }
 },
 "nbformat": 4,
 "nbformat_minor": 5
}
