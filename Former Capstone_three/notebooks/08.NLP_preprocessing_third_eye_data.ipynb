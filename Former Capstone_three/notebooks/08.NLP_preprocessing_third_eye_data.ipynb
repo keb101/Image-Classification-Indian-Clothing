{
 "cells": [
  {
   "cell_type": "code",
   "execution_count": 33,
   "id": "8bec5a9e",
   "metadata": {},
   "outputs": [],
   "source": [
    "import pandas as pd\n",
    "import numpy as np\n",
    "import spacy\n",
    "from spacy.lang.en import English\n",
    "import nltk\n",
    "from nltk.sentiment import SentimentIntensityAnalyzer\n",
    "from nltk.tokenize.toktok import ToktokTokenizer\n",
    "import re\n",
    "import string"
   ]
  },
  {
   "cell_type": "code",
   "execution_count": 2,
   "id": "75e46956",
   "metadata": {},
   "outputs": [],
   "source": [
    "df = pd.read_csv(\"/Users/butler/Documents/GitHub/projects/tweets_climate_change/data/interim/third_eye_climate_words.csv\")"
   ]
  },
  {
   "cell_type": "code",
   "execution_count": 3,
   "id": "3d5a31c4",
   "metadata": {
    "scrolled": true
   },
   "outputs": [
    {
     "data": {
      "text/html": [
       "<div>\n",
       "<style scoped>\n",
       "    .dataframe tbody tr th:only-of-type {\n",
       "        vertical-align: middle;\n",
       "    }\n",
       "\n",
       "    .dataframe tbody tr th {\n",
       "        vertical-align: top;\n",
       "    }\n",
       "\n",
       "    .dataframe thead th {\n",
       "        text-align: right;\n",
       "    }\n",
       "</style>\n",
       "<table border=\"1\" class=\"dataframe\">\n",
       "  <thead>\n",
       "    <tr style=\"text-align: right;\">\n",
       "      <th></th>\n",
       "      <th>Unnamed: 0</th>\n",
       "      <th>datetime</th>\n",
       "      <th>network</th>\n",
       "      <th>duration</th>\n",
       "      <th>network_info</th>\n",
       "      <th>text</th>\n",
       "      <th>date</th>\n",
       "    </tr>\n",
       "  </thead>\n",
       "  <tbody>\n",
       "    <tr>\n",
       "      <th>0</th>\n",
       "      <td>1953</td>\n",
       "      <td>2017-09-07 17:10:00</td>\n",
       "      <td>BBCNEWS</td>\n",
       "      <td>5.0</td>\n",
       "      <td>BBCNEWS_20170907_170000_BBC_News_at_Six/start/600</td>\n",
       "      <td>Dr DANN MITCHELL. Climate Scientist, Bristol U...</td>\n",
       "      <td>2017-09-07</td>\n",
       "    </tr>\n",
       "    <tr>\n",
       "      <th>1</th>\n",
       "      <td>2118</td>\n",
       "      <td>2017-09-07 18:37:00</td>\n",
       "      <td>BBCNEWS</td>\n",
       "      <td>4.0</td>\n",
       "      <td>BBCNEWS_20170907_180000_BBC_News/start/2220</td>\n",
       "      <td>Dr DANN MITCHELL. Climate Scientist, Bristol U...</td>\n",
       "      <td>2017-09-07</td>\n",
       "    </tr>\n",
       "    <tr>\n",
       "      <th>2</th>\n",
       "      <td>2177</td>\n",
       "      <td>2017-09-07 19:13:00</td>\n",
       "      <td>BBCNEWS</td>\n",
       "      <td>4.0</td>\n",
       "      <td>BBCNEWS_20170907_190000_BBC_News/start/780</td>\n",
       "      <td>Dr DANN MITCHELL. Climate Scientist, Bristol U...</td>\n",
       "      <td>2017-09-07</td>\n",
       "    </tr>\n",
       "    <tr>\n",
       "      <th>3</th>\n",
       "      <td>3153</td>\n",
       "      <td>2017-09-08 04:35:00</td>\n",
       "      <td>BBCNEWS</td>\n",
       "      <td>8.0</td>\n",
       "      <td>BBCNEWS_20170908_043000_World_Business_Report/...</td>\n",
       "      <td>HURRICANE COSTS. Irma expected to be among cos...</td>\n",
       "      <td>2017-09-08</td>\n",
       "    </tr>\n",
       "    <tr>\n",
       "      <th>4</th>\n",
       "      <td>9621</td>\n",
       "      <td>2017-09-11 10:52:00</td>\n",
       "      <td>BBCNEWS</td>\n",
       "      <td>21.0</td>\n",
       "      <td>BBCNEWS_20170911_100000_BBC_Newsroom_Live/star...</td>\n",
       "      <td>UK ECONOMIC OUTLOOK. ICAEW says investment cli...</td>\n",
       "      <td>2017-09-11</td>\n",
       "    </tr>\n",
       "  </tbody>\n",
       "</table>\n",
       "</div>"
      ],
      "text/plain": [
       "   Unnamed: 0             datetime  network  duration  \\\n",
       "0        1953  2017-09-07 17:10:00  BBCNEWS       5.0   \n",
       "1        2118  2017-09-07 18:37:00  BBCNEWS       4.0   \n",
       "2        2177  2017-09-07 19:13:00  BBCNEWS       4.0   \n",
       "3        3153  2017-09-08 04:35:00  BBCNEWS       8.0   \n",
       "4        9621  2017-09-11 10:52:00  BBCNEWS      21.0   \n",
       "\n",
       "                                        network_info  \\\n",
       "0  BBCNEWS_20170907_170000_BBC_News_at_Six/start/600   \n",
       "1        BBCNEWS_20170907_180000_BBC_News/start/2220   \n",
       "2         BBCNEWS_20170907_190000_BBC_News/start/780   \n",
       "3  BBCNEWS_20170908_043000_World_Business_Report/...   \n",
       "4  BBCNEWS_20170911_100000_BBC_Newsroom_Live/star...   \n",
       "\n",
       "                                                text        date  \n",
       "0  Dr DANN MITCHELL. Climate Scientist, Bristol U...  2017-09-07  \n",
       "1  Dr DANN MITCHELL. Climate Scientist, Bristol U...  2017-09-07  \n",
       "2  Dr DANN MITCHELL. Climate Scientist, Bristol U...  2017-09-07  \n",
       "3  HURRICANE COSTS. Irma expected to be among cos...  2017-09-08  \n",
       "4  UK ECONOMIC OUTLOOK. ICAEW says investment cli...  2017-09-11  "
      ]
     },
     "execution_count": 3,
     "metadata": {},
     "output_type": "execute_result"
    }
   ],
   "source": [
    "df.head()"
   ]
  },
  {
   "cell_type": "code",
   "execution_count": 7,
   "id": "62c553c9",
   "metadata": {},
   "outputs": [],
   "source": [
    "df.drop(\"Unnamed: 0\", axis=1, inplace=True)"
   ]
  },
  {
   "cell_type": "code",
   "execution_count": 8,
   "id": "d76b3274",
   "metadata": {},
   "outputs": [],
   "source": [
    "df = df.sort_values(by=[\"datetime\"])"
   ]
  },
  {
   "cell_type": "code",
   "execution_count": 9,
   "id": "e3fc179a",
   "metadata": {},
   "outputs": [
    {
     "data": {
      "text/html": [
       "<div>\n",
       "<style scoped>\n",
       "    .dataframe tbody tr th:only-of-type {\n",
       "        vertical-align: middle;\n",
       "    }\n",
       "\n",
       "    .dataframe tbody tr th {\n",
       "        vertical-align: top;\n",
       "    }\n",
       "\n",
       "    .dataframe thead th {\n",
       "        text-align: right;\n",
       "    }\n",
       "</style>\n",
       "<table border=\"1\" class=\"dataframe\">\n",
       "  <thead>\n",
       "    <tr style=\"text-align: right;\">\n",
       "      <th></th>\n",
       "      <th>datetime</th>\n",
       "      <th>network</th>\n",
       "      <th>duration</th>\n",
       "      <th>network_info</th>\n",
       "      <th>text</th>\n",
       "      <th>date</th>\n",
       "    </tr>\n",
       "  </thead>\n",
       "  <tbody>\n",
       "    <tr>\n",
       "      <th>0</th>\n",
       "      <td>2017-09-07 17:10:00</td>\n",
       "      <td>BBCNEWS</td>\n",
       "      <td>5.0</td>\n",
       "      <td>BBCNEWS_20170907_170000_BBC_News_at_Six/start/600</td>\n",
       "      <td>Dr DANN MITCHELL. Climate Scientist, Bristol U...</td>\n",
       "      <td>2017-09-07</td>\n",
       "    </tr>\n",
       "    <tr>\n",
       "      <th>1</th>\n",
       "      <td>2017-09-07 18:37:00</td>\n",
       "      <td>BBCNEWS</td>\n",
       "      <td>4.0</td>\n",
       "      <td>BBCNEWS_20170907_180000_BBC_News/start/2220</td>\n",
       "      <td>Dr DANN MITCHELL. Climate Scientist, Bristol U...</td>\n",
       "      <td>2017-09-07</td>\n",
       "    </tr>\n",
       "    <tr>\n",
       "      <th>2</th>\n",
       "      <td>2017-09-07 19:13:00</td>\n",
       "      <td>BBCNEWS</td>\n",
       "      <td>4.0</td>\n",
       "      <td>BBCNEWS_20170907_190000_BBC_News/start/780</td>\n",
       "      <td>Dr DANN MITCHELL. Climate Scientist, Bristol U...</td>\n",
       "      <td>2017-09-07</td>\n",
       "    </tr>\n",
       "    <tr>\n",
       "      <th>3</th>\n",
       "      <td>2017-09-08 04:35:00</td>\n",
       "      <td>BBCNEWS</td>\n",
       "      <td>8.0</td>\n",
       "      <td>BBCNEWS_20170908_043000_World_Business_Report/...</td>\n",
       "      <td>HURRICANE COSTS. Irma expected to be among cos...</td>\n",
       "      <td>2017-09-08</td>\n",
       "    </tr>\n",
       "    <tr>\n",
       "      <th>4</th>\n",
       "      <td>2017-09-11 10:52:00</td>\n",
       "      <td>BBCNEWS</td>\n",
       "      <td>21.0</td>\n",
       "      <td>BBCNEWS_20170911_100000_BBC_Newsroom_Live/star...</td>\n",
       "      <td>UK ECONOMIC OUTLOOK. ICAEW says investment cli...</td>\n",
       "      <td>2017-09-11</td>\n",
       "    </tr>\n",
       "  </tbody>\n",
       "</table>\n",
       "</div>"
      ],
      "text/plain": [
       "              datetime  network  duration  \\\n",
       "0  2017-09-07 17:10:00  BBCNEWS       5.0   \n",
       "1  2017-09-07 18:37:00  BBCNEWS       4.0   \n",
       "2  2017-09-07 19:13:00  BBCNEWS       4.0   \n",
       "3  2017-09-08 04:35:00  BBCNEWS       8.0   \n",
       "4  2017-09-11 10:52:00  BBCNEWS      21.0   \n",
       "\n",
       "                                        network_info  \\\n",
       "0  BBCNEWS_20170907_170000_BBC_News_at_Six/start/600   \n",
       "1        BBCNEWS_20170907_180000_BBC_News/start/2220   \n",
       "2         BBCNEWS_20170907_190000_BBC_News/start/780   \n",
       "3  BBCNEWS_20170908_043000_World_Business_Report/...   \n",
       "4  BBCNEWS_20170911_100000_BBC_Newsroom_Live/star...   \n",
       "\n",
       "                                                text        date  \n",
       "0  Dr DANN MITCHELL. Climate Scientist, Bristol U...  2017-09-07  \n",
       "1  Dr DANN MITCHELL. Climate Scientist, Bristol U...  2017-09-07  \n",
       "2  Dr DANN MITCHELL. Climate Scientist, Bristol U...  2017-09-07  \n",
       "3  HURRICANE COSTS. Irma expected to be among cos...  2017-09-08  \n",
       "4  UK ECONOMIC OUTLOOK. ICAEW says investment cli...  2017-09-11  "
      ]
     },
     "execution_count": 9,
     "metadata": {},
     "output_type": "execute_result"
    }
   ],
   "source": [
    "df.head()"
   ]
  },
  {
   "cell_type": "code",
   "execution_count": 10,
   "id": "4edb024b",
   "metadata": {},
   "outputs": [
    {
     "data": {
      "text/html": [
       "<div>\n",
       "<style scoped>\n",
       "    .dataframe tbody tr th:only-of-type {\n",
       "        vertical-align: middle;\n",
       "    }\n",
       "\n",
       "    .dataframe tbody tr th {\n",
       "        vertical-align: top;\n",
       "    }\n",
       "\n",
       "    .dataframe thead th {\n",
       "        text-align: right;\n",
       "    }\n",
       "</style>\n",
       "<table border=\"1\" class=\"dataframe\">\n",
       "  <thead>\n",
       "    <tr style=\"text-align: right;\">\n",
       "      <th></th>\n",
       "      <th>datetime</th>\n",
       "      <th>network</th>\n",
       "      <th>duration</th>\n",
       "      <th>network_info</th>\n",
       "      <th>text</th>\n",
       "      <th>date</th>\n",
       "    </tr>\n",
       "  </thead>\n",
       "  <tbody>\n",
       "    <tr>\n",
       "      <th>0</th>\n",
       "      <td>2017-09-07 17:10:00</td>\n",
       "      <td>BBCNEWS</td>\n",
       "      <td>5.0</td>\n",
       "      <td>BBCNEWS_20170907_170000_BBC_News_at_Six/start/600</td>\n",
       "      <td>Dr DANN MITCHELL. Climate Scientist, Bristol U...</td>\n",
       "      <td>2017-09-07</td>\n",
       "    </tr>\n",
       "    <tr>\n",
       "      <th>1</th>\n",
       "      <td>2017-09-07 18:37:00</td>\n",
       "      <td>BBCNEWS</td>\n",
       "      <td>4.0</td>\n",
       "      <td>BBCNEWS_20170907_180000_BBC_News/start/2220</td>\n",
       "      <td>Dr DANN MITCHELL. Climate Scientist, Bristol U...</td>\n",
       "      <td>2017-09-07</td>\n",
       "    </tr>\n",
       "    <tr>\n",
       "      <th>2</th>\n",
       "      <td>2017-09-07 19:13:00</td>\n",
       "      <td>BBCNEWS</td>\n",
       "      <td>4.0</td>\n",
       "      <td>BBCNEWS_20170907_190000_BBC_News/start/780</td>\n",
       "      <td>Dr DANN MITCHELL. Climate Scientist, Bristol U...</td>\n",
       "      <td>2017-09-07</td>\n",
       "    </tr>\n",
       "    <tr>\n",
       "      <th>3</th>\n",
       "      <td>2017-09-08 04:35:00</td>\n",
       "      <td>BBCNEWS</td>\n",
       "      <td>8.0</td>\n",
       "      <td>BBCNEWS_20170908_043000_World_Business_Report/...</td>\n",
       "      <td>HURRICANE COSTS. Irma expected to be among cos...</td>\n",
       "      <td>2017-09-08</td>\n",
       "    </tr>\n",
       "    <tr>\n",
       "      <th>4</th>\n",
       "      <td>2017-09-11 10:52:00</td>\n",
       "      <td>BBCNEWS</td>\n",
       "      <td>21.0</td>\n",
       "      <td>BBCNEWS_20170911_100000_BBC_Newsroom_Live/star...</td>\n",
       "      <td>UK ECONOMIC OUTLOOK. ICAEW says investment cli...</td>\n",
       "      <td>2017-09-11</td>\n",
       "    </tr>\n",
       "    <tr>\n",
       "      <th>5</th>\n",
       "      <td>2017-09-11 10:53:00</td>\n",
       "      <td>BBCNEWS</td>\n",
       "      <td>15.0</td>\n",
       "      <td>BBCNEWS_20170911_100000_BBC_Newsroom_Live/star...</td>\n",
       "      <td>@ BBCBenThQMuson\\nUK ECONOMIC OUTLOOK. ICAEW: ...</td>\n",
       "      <td>2017-09-11</td>\n",
       "    </tr>\n",
       "    <tr>\n",
       "      <th>6</th>\n",
       "      <td>2017-09-12 00:25:00</td>\n",
       "      <td>MSNBCW</td>\n",
       "      <td>38.0</td>\n",
       "      <td>MSNBCW_20170912_000000_All_In_With_Chris_Hayes...</td>\n",
       "      <td>FLORIDA REPUBLICAN: TIME TO TALK CLIMATE CHANG...</td>\n",
       "      <td>2017-09-12</td>\n",
       "    </tr>\n",
       "    <tr>\n",
       "      <th>7</th>\n",
       "      <td>2017-09-12 00:26:00</td>\n",
       "      <td>MSNBCW</td>\n",
       "      <td>62.0</td>\n",
       "      <td>MSNBCW_20170912_000000_All_In_With_Chris_Hayes...</td>\n",
       "      <td>FLORIDA REPUBLICAN: TIME TO TALK CLIMATE CHANGE</td>\n",
       "      <td>2017-09-12</td>\n",
       "    </tr>\n",
       "    <tr>\n",
       "      <th>8</th>\n",
       "      <td>2017-09-12 00:27:00</td>\n",
       "      <td>MSNBCW</td>\n",
       "      <td>35.0</td>\n",
       "      <td>MSNBCW_20170912_000000_All_In_With_Chris_Hayes...</td>\n",
       "      <td>FLORIDA REPUBLICAN: TIME TO TALK CLIMATE CHANG...</td>\n",
       "      <td>2017-09-12</td>\n",
       "    </tr>\n",
       "    <tr>\n",
       "      <th>9</th>\n",
       "      <td>2017-09-12 00:30:00</td>\n",
       "      <td>MSNBCW</td>\n",
       "      <td>11.0</td>\n",
       "      <td>MSNBCW_20170912_000000_All_In_With_Chris_Hayes...</td>\n",
       "      <td>FLORIDA REPUBLICAN: TIME TO TALK CLIMATE CHANGE</td>\n",
       "      <td>2017-09-12</td>\n",
       "    </tr>\n",
       "    <tr>\n",
       "      <th>10</th>\n",
       "      <td>2017-09-12 01:51:00</td>\n",
       "      <td>FOXNEWSW</td>\n",
       "      <td>7.0</td>\n",
       "      <td>FOXNEWSW_20170912_010000_The_Five/start/3060</td>\n",
       "      <td>CNN WHITE HOUSE CORRESPONDENT LINKS CLIMATE. C...</td>\n",
       "      <td>2017-09-12</td>\n",
       "    </tr>\n",
       "    <tr>\n",
       "      <th>11</th>\n",
       "      <td>2017-09-12 01:52:00</td>\n",
       "      <td>FOXNEWSW</td>\n",
       "      <td>3.0</td>\n",
       "      <td>FOXNEWSW_20170912_010000_The_Five/start/3120</td>\n",
       "      <td>THE LEFT'S CLIMATE Cl-lANGE OBSESSION</td>\n",
       "      <td>2017-09-12</td>\n",
       "    </tr>\n",
       "    <tr>\n",
       "      <th>12</th>\n",
       "      <td>2017-09-12 01:54:00</td>\n",
       "      <td>FOXNEWSW</td>\n",
       "      <td>6.0</td>\n",
       "      <td>FOXNEWSW_20170912_010000_The_Five/start/3240</td>\n",
       "      <td>CNN WHITE HOUSE CORRESPONDENT LINKS CLIMATE. C...</td>\n",
       "      <td>2017-09-12</td>\n",
       "    </tr>\n",
       "    <tr>\n",
       "      <th>13</th>\n",
       "      <td>2017-09-12 07:24:00</td>\n",
       "      <td>MSNBCW</td>\n",
       "      <td>44.0</td>\n",
       "      <td>MSNBCW_20170912_070000_All_In_With_Chris_Hayes...</td>\n",
       "      <td>IRMA TRIGGERS SEVERE FLOODING IN FLORIDA\\u2019...</td>\n",
       "      <td>2017-09-12</td>\n",
       "    </tr>\n",
       "    <tr>\n",
       "      <th>14</th>\n",
       "      <td>2017-09-12 07:25:00</td>\n",
       "      <td>MSNBCW</td>\n",
       "      <td>51.0</td>\n",
       "      <td>MSNBCW_20170912_070000_All_In_With_Chris_Hayes...</td>\n",
       "      <td>FLORIDA REPUBLICAN: TIME TO TALK CLIMATE CHANG...</td>\n",
       "      <td>2017-09-12</td>\n",
       "    </tr>\n",
       "    <tr>\n",
       "      <th>15</th>\n",
       "      <td>2017-09-12 07:26:00</td>\n",
       "      <td>MSNBCW</td>\n",
       "      <td>62.0</td>\n",
       "      <td>MSNBCW_20170912_070000_All_In_With_Chris_Hayes...</td>\n",
       "      <td>FLORIDA REPUBLICAN: TIME TO TALK CLIMATE CHANGE</td>\n",
       "      <td>2017-09-12</td>\n",
       "    </tr>\n",
       "    <tr>\n",
       "      <th>16</th>\n",
       "      <td>2017-09-12 07:27:00</td>\n",
       "      <td>MSNBCW</td>\n",
       "      <td>41.0</td>\n",
       "      <td>MSNBCW_20170912_070000_All_In_With_Chris_Hayes...</td>\n",
       "      <td>PENNY TAYLOR I 92 \\ufb01y\\ufb01\\u00e9allNTY CO...</td>\n",
       "      <td>2017-09-12</td>\n",
       "    </tr>\n",
       "    <tr>\n",
       "      <th>17</th>\n",
       "      <td>2017-09-12 07:28:00</td>\n",
       "      <td>MSNBCW</td>\n",
       "      <td>51.0</td>\n",
       "      <td>MSNBCW_20170912_070000_All_In_With_Chris_Hayes...</td>\n",
       "      <td>FLORIDA REPUBLICAN: TIME TO TALK CLIMATE CHANG...</td>\n",
       "      <td>2017-09-12</td>\n",
       "    </tr>\n",
       "    <tr>\n",
       "      <th>18</th>\n",
       "      <td>2017-09-12 07:29:00</td>\n",
       "      <td>MSNBCW</td>\n",
       "      <td>7.0</td>\n",
       "      <td>MSNBCW_20170912_070000_All_In_With_Chris_Hayes...</td>\n",
       "      <td>FLORIDA REPUBLICAN: TIME TO TALK CLIMATE CHANGE</td>\n",
       "      <td>2017-09-12</td>\n",
       "    </tr>\n",
       "    <tr>\n",
       "      <th>19</th>\n",
       "      <td>2017-09-12 07:52:00</td>\n",
       "      <td>FOXNEWSW</td>\n",
       "      <td>13.0</td>\n",
       "      <td>FOXNEWSW_20170912_070000_The_Five/start/3120</td>\n",
       "      <td>THE LEFT' S CLIMATE CHANGE OBSESSION</td>\n",
       "      <td>2017-09-12</td>\n",
       "    </tr>\n",
       "  </tbody>\n",
       "</table>\n",
       "</div>"
      ],
      "text/plain": [
       "               datetime   network  duration  \\\n",
       "0   2017-09-07 17:10:00   BBCNEWS       5.0   \n",
       "1   2017-09-07 18:37:00   BBCNEWS       4.0   \n",
       "2   2017-09-07 19:13:00   BBCNEWS       4.0   \n",
       "3   2017-09-08 04:35:00   BBCNEWS       8.0   \n",
       "4   2017-09-11 10:52:00   BBCNEWS      21.0   \n",
       "5   2017-09-11 10:53:00   BBCNEWS      15.0   \n",
       "6   2017-09-12 00:25:00    MSNBCW      38.0   \n",
       "7   2017-09-12 00:26:00    MSNBCW      62.0   \n",
       "8   2017-09-12 00:27:00    MSNBCW      35.0   \n",
       "9   2017-09-12 00:30:00    MSNBCW      11.0   \n",
       "10  2017-09-12 01:51:00  FOXNEWSW       7.0   \n",
       "11  2017-09-12 01:52:00  FOXNEWSW       3.0   \n",
       "12  2017-09-12 01:54:00  FOXNEWSW       6.0   \n",
       "13  2017-09-12 07:24:00    MSNBCW      44.0   \n",
       "14  2017-09-12 07:25:00    MSNBCW      51.0   \n",
       "15  2017-09-12 07:26:00    MSNBCW      62.0   \n",
       "16  2017-09-12 07:27:00    MSNBCW      41.0   \n",
       "17  2017-09-12 07:28:00    MSNBCW      51.0   \n",
       "18  2017-09-12 07:29:00    MSNBCW       7.0   \n",
       "19  2017-09-12 07:52:00  FOXNEWSW      13.0   \n",
       "\n",
       "                                         network_info  \\\n",
       "0   BBCNEWS_20170907_170000_BBC_News_at_Six/start/600   \n",
       "1         BBCNEWS_20170907_180000_BBC_News/start/2220   \n",
       "2          BBCNEWS_20170907_190000_BBC_News/start/780   \n",
       "3   BBCNEWS_20170908_043000_World_Business_Report/...   \n",
       "4   BBCNEWS_20170911_100000_BBC_Newsroom_Live/star...   \n",
       "5   BBCNEWS_20170911_100000_BBC_Newsroom_Live/star...   \n",
       "6   MSNBCW_20170912_000000_All_In_With_Chris_Hayes...   \n",
       "7   MSNBCW_20170912_000000_All_In_With_Chris_Hayes...   \n",
       "8   MSNBCW_20170912_000000_All_In_With_Chris_Hayes...   \n",
       "9   MSNBCW_20170912_000000_All_In_With_Chris_Hayes...   \n",
       "10       FOXNEWSW_20170912_010000_The_Five/start/3060   \n",
       "11       FOXNEWSW_20170912_010000_The_Five/start/3120   \n",
       "12       FOXNEWSW_20170912_010000_The_Five/start/3240   \n",
       "13  MSNBCW_20170912_070000_All_In_With_Chris_Hayes...   \n",
       "14  MSNBCW_20170912_070000_All_In_With_Chris_Hayes...   \n",
       "15  MSNBCW_20170912_070000_All_In_With_Chris_Hayes...   \n",
       "16  MSNBCW_20170912_070000_All_In_With_Chris_Hayes...   \n",
       "17  MSNBCW_20170912_070000_All_In_With_Chris_Hayes...   \n",
       "18  MSNBCW_20170912_070000_All_In_With_Chris_Hayes...   \n",
       "19       FOXNEWSW_20170912_070000_The_Five/start/3120   \n",
       "\n",
       "                                                 text        date  \n",
       "0   Dr DANN MITCHELL. Climate Scientist, Bristol U...  2017-09-07  \n",
       "1   Dr DANN MITCHELL. Climate Scientist, Bristol U...  2017-09-07  \n",
       "2   Dr DANN MITCHELL. Climate Scientist, Bristol U...  2017-09-07  \n",
       "3   HURRICANE COSTS. Irma expected to be among cos...  2017-09-08  \n",
       "4   UK ECONOMIC OUTLOOK. ICAEW says investment cli...  2017-09-11  \n",
       "5   @ BBCBenThQMuson\\nUK ECONOMIC OUTLOOK. ICAEW: ...  2017-09-11  \n",
       "6   FLORIDA REPUBLICAN: TIME TO TALK CLIMATE CHANG...  2017-09-12  \n",
       "7     FLORIDA REPUBLICAN: TIME TO TALK CLIMATE CHANGE  2017-09-12  \n",
       "8   FLORIDA REPUBLICAN: TIME TO TALK CLIMATE CHANG...  2017-09-12  \n",
       "9     FLORIDA REPUBLICAN: TIME TO TALK CLIMATE CHANGE  2017-09-12  \n",
       "10  CNN WHITE HOUSE CORRESPONDENT LINKS CLIMATE. C...  2017-09-12  \n",
       "11              THE LEFT'S CLIMATE Cl-lANGE OBSESSION  2017-09-12  \n",
       "12  CNN WHITE HOUSE CORRESPONDENT LINKS CLIMATE. C...  2017-09-12  \n",
       "13  IRMA TRIGGERS SEVERE FLOODING IN FLORIDA\\u2019...  2017-09-12  \n",
       "14  FLORIDA REPUBLICAN: TIME TO TALK CLIMATE CHANG...  2017-09-12  \n",
       "15    FLORIDA REPUBLICAN: TIME TO TALK CLIMATE CHANGE  2017-09-12  \n",
       "16  PENNY TAYLOR I 92 \\ufb01y\\ufb01\\u00e9allNTY CO...  2017-09-12  \n",
       "17  FLORIDA REPUBLICAN: TIME TO TALK CLIMATE CHANG...  2017-09-12  \n",
       "18    FLORIDA REPUBLICAN: TIME TO TALK CLIMATE CHANGE  2017-09-12  \n",
       "19               THE LEFT' S CLIMATE CHANGE OBSESSION  2017-09-12  "
      ]
     },
     "execution_count": 10,
     "metadata": {},
     "output_type": "execute_result"
    }
   ],
   "source": [
    "df.head(20)"
   ]
  },
  {
   "cell_type": "code",
   "execution_count": 12,
   "id": "e55e8d94",
   "metadata": {},
   "outputs": [],
   "source": [
    "nlp = spacy.load(\"en_core_web_sm\")"
   ]
  },
  {
   "cell_type": "code",
   "execution_count": 13,
   "id": "f6a29364",
   "metadata": {},
   "outputs": [],
   "source": [
    "text = str(nlp(df.iloc[0,4]))"
   ]
  },
  {
   "cell_type": "code",
   "execution_count": 14,
   "id": "286a3376",
   "metadata": {},
   "outputs": [
    {
     "data": {
      "text/plain": [
       "'Dr DANN MITCHELL. Climate Scientist, Bristol University'"
      ]
     },
     "execution_count": 14,
     "metadata": {},
     "output_type": "execute_result"
    }
   ],
   "source": [
    "text"
   ]
  },
  {
   "cell_type": "code",
   "execution_count": 15,
   "id": "646db3fe",
   "metadata": {},
   "outputs": [],
   "source": [
    "sia = SentimentIntensityAnalyzer()"
   ]
  },
  {
   "cell_type": "code",
   "execution_count": 17,
   "id": "e2daf3af",
   "metadata": {},
   "outputs": [
    {
     "data": {
      "text/plain": [
       "{'neg': 0.0, 'neu': 1.0, 'pos': 0.0, 'compound': 0.0}"
      ]
     },
     "execution_count": 17,
     "metadata": {},
     "output_type": "execute_result"
    }
   ],
   "source": [
    "sia.polarity_scores(text)"
   ]
  },
  {
   "cell_type": "code",
   "execution_count": 18,
   "id": "ebf45bbb",
   "metadata": {},
   "outputs": [],
   "source": [
    "text = str(nlp(df.iloc[4,4]))"
   ]
  },
  {
   "cell_type": "code",
   "execution_count": 19,
   "id": "2347af5d",
   "metadata": {},
   "outputs": [
    {
     "data": {
      "text/plain": [
       "{'neg': 0.0, 'neu': 0.836, 'pos': 0.164, 'compound': 0.6705}"
      ]
     },
     "execution_count": 19,
     "metadata": {},
     "output_type": "execute_result"
    }
   ],
   "source": [
    "sia.polarity_scores(text)"
   ]
  },
  {
   "cell_type": "code",
   "execution_count": 21,
   "id": "e61eaace",
   "metadata": {},
   "outputs": [
    {
     "data": {
      "text/plain": [
       "'UK ECONOMIC OUTLOOK. ICAEW says investment climate good, costs low\\\\nUK ECONOMIC OUTLOOK. ICAEW: Businesses need to take leap of faith\\\\nUK ECONOMIC OUTLOOK. Group forecasting growth to slow to 1.6% in...'"
      ]
     },
     "execution_count": 21,
     "metadata": {},
     "output_type": "execute_result"
    }
   ],
   "source": [
    "text"
   ]
  },
  {
   "cell_type": "code",
   "execution_count": 24,
   "id": "4f079fcf",
   "metadata": {},
   "outputs": [
    {
     "data": {
      "text/plain": [
       "{'neg': 0.172, 'neu': 0.828, 'pos': 0.0, 'compound': -0.516}"
      ]
     },
     "execution_count": 24,
     "metadata": {},
     "output_type": "execute_result"
    }
   ],
   "source": [
    "text = str(nlp(df.iloc[13,4]))\n",
    "sia.polarity_scores(text)"
   ]
  },
  {
   "cell_type": "code",
   "execution_count": 25,
   "id": "642e6045",
   "metadata": {},
   "outputs": [
    {
     "data": {
      "text/plain": [
       "'IRMA TRIGGERS SEVERE FLOODING IN FLORIDA\\\\u2019S LARGEST CITY\\\\nPENNY TAYLOR I CHAIR, COLLIERCOUNTYCOMMISSION\\\\nFLORIDA REPUBLICAN: TIME TO TALK CLIMATE CHANGE'"
      ]
     },
     "execution_count": 25,
     "metadata": {},
     "output_type": "execute_result"
    }
   ],
   "source": [
    "text"
   ]
  },
  {
   "cell_type": "code",
   "execution_count": 27,
   "id": "1741d546",
   "metadata": {},
   "outputs": [
    {
     "data": {
      "text/plain": [
       "IRMA TRIGGERS SEVERE FLOODING IN FLORIDA\\u2019S LARGEST CITY\\nPENNY TAYLOR I CHAIR, COLLIERCOUNTYCOMMISSION\\nFLORIDA REPUBLICAN: TIME TO TALK CLIMATE CHANGE"
      ]
     },
     "execution_count": 27,
     "metadata": {},
     "output_type": "execute_result"
    }
   ],
   "source": [
    "text = nlp(df.iloc[13,4])\n",
    "text"
   ]
  },
  {
   "cell_type": "code",
   "execution_count": 28,
   "id": "ca063022",
   "metadata": {},
   "outputs": [],
   "source": [
    "import en_core_web_sm\n",
    "\n",
    "nlp = en_core_web_sm.load()"
   ]
  },
  {
   "cell_type": "code",
   "execution_count": 29,
   "id": "9cc06081",
   "metadata": {},
   "outputs": [
    {
     "data": {
      "text/plain": [
       "IRMA TRIGGERS SEVERE FLOODING IN FLORIDA\\u2019S LARGEST CITY\\nPENNY TAYLOR I CHAIR, COLLIERCOUNTYCOMMISSION\\nFLORIDA REPUBLICAN: TIME TO TALK CLIMATE CHANGE"
      ]
     },
     "execution_count": 29,
     "metadata": {},
     "output_type": "execute_result"
    }
   ],
   "source": [
    "text = nlp(df.iloc[13,4])\n",
    "text"
   ]
  },
  {
   "cell_type": "code",
   "execution_count": 31,
   "id": "c04c6ad2",
   "metadata": {},
   "outputs": [],
   "source": [
    "x = df[\"text\"]"
   ]
  },
  {
   "cell_type": "code",
   "execution_count": 56,
   "id": "6971996e",
   "metadata": {},
   "outputs": [
    {
     "name": "stdout",
     "output_type": "stream",
     "text": [
      "TRUMP: CHINA GOT BETI'ER DEAL IN PARIS CLIMATE AGREEMENT. . Gov Jerry Brown (D) California\\nCA GOV COMPARES TRUMP SUPPORTERS TO CAVE DWELLERS\\nTRUMP: CHINA GOT BETTER DEAL IN PARIS CLIMATE AGREEMENT\n",
      "TRUMP: CHINA GOT BETI'ER DEAL IN PARIS CLIMATE AGREEMENT. . Gov Jerry Brown (D) California\\nCA GOV COMPARES TRUMP SUPPORTERS TO CAVE DWELLERS\\nTRUMP: CHINA GOT BETTER DEAL IN PARIS CLIMATE AGREEMENT\n",
      "TRUMP: CHINA GOT BETI'ER DEAL IN PARIS CLIMATE AGREEMENT. . Gov Jerry Brown (D) California\\nCA GOV COMPARES TRUMP SUPPORTERS TO CAVE DWELLERS\\nTRUMP: CHINA GOT BETTER DEAL IN PARIS CLIMATE AGREEMENT\n",
      "TRUMP: CHINA GOT BETI'ER DEAL IN PARIS CLIMATE AGREEMENT. . Gov Jerry Brown (D) California CA GOV COMPARES TRUMP SUPPORTERS TO CAVE DWELLERS TRUMP: CHINA GOT BETTER DEAL IN PARIS CLIMATE AGREEMENT\n",
      "TRUMP: CHINA GOT BETI'ER DEAL IN PARIS CLIMATE AGREEMENT. . Gov Jerry Brown (D) California CA GOV COMPARES TRUMP SUPPORTERS TO CAVE DWELLERS TRUMP: CHINA GOT BETTER DEAL IN PARIS CLIMATE AGREEMENT\n",
      "trump: china got beti'er deal in paris climate agreement. . gov jerry brown (d) california ca gov compares trump supporters to cave dwellers trump: china got better deal in paris climate agreement\n",
      "MACRON SPEECH AT UN. French President defends Paris climate accord\n",
      "MACRON SPEECH AT UN. French President defends Paris climate accord\n",
      "MACRON SPEECH AT UN. French President defends Paris climate accord\n",
      "MACRON SPEECH AT UN. French President defends Paris climate accord\n",
      "MACRON SPEECH AT UN. French President defends Paris climate accord\n",
      "macron speech at un. french president defends paris climate accord\n",
      "TOYS 'R' US FILES FOR BANKRUPTCY IN U.S.. Toys 'R' US Asia unaffected by proceedings\\nSYRIAN CONFLICT. Russia says Syrian army fired on by US-backed rebels\\nMACRON SPEECH AT UN. French President defends Paris climate...\n",
      "TOYS 'R' US FILES FOR BANKRUPTCY IN U.S.. Toys 'R' US Asia unaffected by proceedings\\nSYRIAN CONFLICT. Russia says Syrian army fired on by US-backed rebels\\nMACRON SPEECH AT UN. French President defends Paris climate...\n",
      "TOYS 'R' US FILES FOR BANKRUPTCY IN U.S.. Toys 'R' US Asia unaffected by proceedings\\nSYRIAN CONFLICT. Russia says Syrian army fired on by US-backed rebels\\nMACRON SPEECH AT UN. French President defends Paris climate...\n",
      "TOYS 'R' US FILES FOR BANKRUPTCY IN U.S.. Toys 'R' US Asia unaffected by proceedings SYRIAN CONFLICT. Russia says Syrian army fired on by US-backed rebels MACRON SPEECH AT UN. French President defends Paris climate...\n",
      "TOYS 'R' US FILES FOR BANKRUPTCY IN U.S.. Toys 'R' US Asia unaffected by proceedings SYRIAN CONFLICT. Russia says Syrian army fired on by US-backed rebels MACRON SPEECH AT UN. French President defends Paris climate...\n",
      "toys 'r' us files for bankruptcy in u.s.. toys 'r' us asia unaffected by proceedings syrian conflict. russia says syrian army fired on by us-backed rebels macron speech at un. french president defends paris climate...\n",
      "IRAQ - KURD REFERENDUM. Iraqi-Kurdish leader says vote could be delayed\\nSYRIA CONFLICT. Russia claims troops attacked by US backed rebels\\nMACRON SPEECH AT UN. French President defends Paris climate accord\n",
      "IRAQ - KURD REFERENDUM. Iraqi-Kurdish leader says vote could be delayed\\nSYRIA CONFLICT. Russia claims troops attacked by US backed rebels\\nMACRON SPEECH AT UN. French President defends Paris climate accord\n",
      "IRAQ - KURD REFERENDUM. Iraqi-Kurdish leader says vote could be delayed\\nSYRIA CONFLICT. Russia claims troops attacked by US backed rebels\\nMACRON SPEECH AT UN. French President defends Paris climate accord\n",
      "IRAQ - KURD REFERENDUM. Iraqi-Kurdish leader says vote could be delayed SYRIA CONFLICT. Russia claims troops attacked by US backed rebels MACRON SPEECH AT UN. French President defends Paris climate accord\n",
      "IRAQ - KURD REFERENDUM. Iraqi-Kurdish leader says vote could be delayed SYRIA CONFLICT. Russia claims troops attacked by US backed rebels MACRON SPEECH AT UN. French President defends Paris climate accord\n",
      "iraq - kurd referendum. iraqi-kurdish leader says vote could be delayed syria conflict. russia claims troops attacked by us backed rebels macron speech at un. french president defends paris climate accord\n",
      "MACRON SPEECH AT UN. French President defends Paris climate accord\n",
      "MACRON SPEECH AT UN. French President defends Paris climate accord\n",
      "MACRON SPEECH AT UN. French President defends Paris climate accord\n",
      "MACRON SPEECH AT UN. French President defends Paris climate accord\n",
      "MACRON SPEECH AT UN. French President defends Paris climate accord\n",
      "macron speech at un. french president defends paris climate accord\n",
      "SYRIA CONFLICT. Russia claims troops attacked by US backed rebels\\nIRAQ - KURD REFERENDUM. Iraqi-Kurdish leader says vote could be delayed\\nMACRON SPEECH AT UN. French President defends Paris climate...\n",
      "SYRIA CONFLICT. Russia claims troops attacked by US backed rebels\\nIRAQ - KURD REFERENDUM. Iraqi-Kurdish leader says vote could be delayed\\nMACRON SPEECH AT UN. French President defends Paris climate...\n",
      "SYRIA CONFLICT. Russia claims troops attacked by US backed rebels\\nIRAQ - KURD REFERENDUM. Iraqi-Kurdish leader says vote could be delayed\\nMACRON SPEECH AT UN. French President defends Paris climate...\n",
      "SYRIA CONFLICT. Russia claims troops attacked by US backed rebels IRAQ - KURD REFERENDUM. Iraqi-Kurdish leader says vote could be delayed MACRON SPEECH AT UN. French President defends Paris climate...\n",
      "SYRIA CONFLICT. Russia claims troops attacked by US backed rebels IRAQ - KURD REFERENDUM. Iraqi-Kurdish leader says vote could be delayed MACRON SPEECH AT UN. French President defends Paris climate...\n",
      "syria conflict. russia claims troops attacked by us backed rebels iraq - kurd referendum. iraqi-kurdish leader says vote could be delayed macron speech at un. french president defends paris climate...\n",
      "MACRON DISCUSSES ISSUES WITH TRUMP DIRECTLY\\nMACRON DISCUSSES ISSUES WITH TRUMP DIRECTLY. . Emmanuel Macron French President\\nMACRON: MAIN DISAGREEMENT IS PARIS CLIMATE ACCORD\n",
      "MACRON DISCUSSES ISSUES WITH TRUMP DIRECTLY\\nMACRON DISCUSSES ISSUES WITH TRUMP DIRECTLY. . Emmanuel Macron French President\\nMACRON: MAIN DISAGREEMENT IS PARIS CLIMATE ACCORD\n",
      "MACRON DISCUSSES ISSUES WITH TRUMP DIRECTLY\\nMACRON DISCUSSES ISSUES WITH TRUMP DIRECTLY. . Emmanuel Macron French President\\nMACRON: MAIN DISAGREEMENT IS PARIS CLIMATE ACCORD\n",
      "MACRON DISCUSSES ISSUES WITH TRUMP DIRECTLY MACRON DISCUSSES ISSUES WITH TRUMP DIRECTLY. . Emmanuel Macron French President MACRON: MAIN DISAGREEMENT IS PARIS CLIMATE ACCORD\n",
      "MACRON DISCUSSES ISSUES WITH TRUMP DIRECTLY MACRON DISCUSSES ISSUES WITH TRUMP DIRECTLY. . Emmanuel Macron French President MACRON: MAIN DISAGREEMENT IS PARIS CLIMATE ACCORD\n",
      "macron discusses issues with trump directly macron discusses issues with trump directly. . emmanuel macron french president macron: main disagreement is paris climate accord\n",
      "MACRON: MAIN DISAGREEMENT IS PARIS CLIMATE ACCORD\\nMACRON: MAIN DISAGREEMENT IS PARIS CLIMATE ACCORD. . Emmanuel Macron French President\n",
      "MACRON: MAIN DISAGREEMENT IS PARIS CLIMATE ACCORD\\nMACRON: MAIN DISAGREEMENT IS PARIS CLIMATE ACCORD. . Emmanuel Macron French President\n",
      "MACRON: MAIN DISAGREEMENT IS PARIS CLIMATE ACCORD\\nMACRON: MAIN DISAGREEMENT IS PARIS CLIMATE ACCORD. . Emmanuel Macron French President\n",
      "MACRON: MAIN DISAGREEMENT IS PARIS CLIMATE ACCORD MACRON: MAIN DISAGREEMENT IS PARIS CLIMATE ACCORD. . Emmanuel Macron French President\n",
      "MACRON: MAIN DISAGREEMENT IS PARIS CLIMATE ACCORD MACRON: MAIN DISAGREEMENT IS PARIS CLIMATE ACCORD. . Emmanuel Macron French President\n",
      "macron: main disagreement is paris climate accord macron: main disagreement is paris climate accord. . emmanuel macron french president\n",
      "MACRON: MAIN DISAGREEMENT IS PARIS CLIMATE ACCORD\\nMACRON: WE WON'T CLOSE ANY DOOR TO DIALOGUE WITH NK\\nMACRON: WE WON'T CLOSE ANY DOOR TO DIALOGUE WITH NK. . Peter Mathews Political...\n",
      "MACRON: MAIN DISAGREEMENT IS PARIS CLIMATE ACCORD\\nMACRON: WE WON'T CLOSE ANY DOOR TO DIALOGUE WITH NK\\nMACRON: WE WON'T CLOSE ANY DOOR TO DIALOGUE WITH NK. . Peter Mathews Political...\n",
      "MACRON: MAIN DISAGREEMENT IS PARIS CLIMATE ACCORD\\nMACRON: WE WON'T CLOSE ANY DOOR TO DIALOGUE WITH NK\\nMACRON: WE WON'T CLOSE ANY DOOR TO DIALOGUE WITH NK. . Peter Mathews Political...\n",
      "MACRON: MAIN DISAGREEMENT IS PARIS CLIMATE ACCORD MACRON: WE WON'T CLOSE ANY DOOR TO DIALOGUE WITH NK MACRON: WE WON'T CLOSE ANY DOOR TO DIALOGUE WITH NK. . Peter Mathews Political...\n",
      "MACRON: MAIN DISAGREEMENT IS PARIS CLIMATE ACCORD MACRON: WE WON'T CLOSE ANY DOOR TO DIALOGUE WITH NK MACRON: WE WON'T CLOSE ANY DOOR TO DIALOGUE WITH NK. . Peter Mathews Political...\n",
      "macron: main disagreement is paris climate accord macron: we won't close any door to dialogue with nk macron: we won't close any door to dialogue with nk. . peter mathews political...\n",
      "OBAMA SPEAKS AMID GOP HEALTH CARE PUSH & IRAN DEAL THREAT\\nOBAMA: CLIMATE CHANGE MAY \\\"DEFINE THE CONTOURS\\\" OF CENTURY\n",
      "OBAMA SPEAKS AMID GOP HEALTH CARE PUSH & IRAN DEAL THREAT\\nOBAMA: CLIMATE CHANGE MAY \\\"DEFINE THE CONTOURS\\\" OF CENTURY\n",
      "OBAMA SPEAKS AMID GOP HEALTH CARE PUSH & IRAN DEAL THREAT\\nOBAMA: CLIMATE CHANGE MAY \\\"DEFINE THE CONTOURS\\\" OF CENTURY\n",
      "OBAMA SPEAKS AMID GOP HEALTH CARE PUSH & IRAN DEAL THREAT OBAMA: CLIMATE CHANGE MAY \\\"DEFINE THE CONTOURS\\\" OF CENTURY\n",
      "OBAMA SPEAKS AMID GOP HEALTH CARE PUSH & IRAN DEAL THREAT OBAMA: CLIMATE CHANGE MAY \\\"DEFINE THE CONTOURS\\\" OF CENTURY\n",
      "obama speaks amid gop health care push & iran deal threat obama: climate change may \\\"define the contours\\\" of century\n"
     ]
    }
   ],
   "source": [
    "txt = []\n",
    "for i in range(200,210):\n",
    "    print(x[i])\n",
    "    text = x[i].replace(string.punctuation, \" \")\n",
    "    print(text)\n",
    "    text = re.sub(r'(!\\,./:;\\\\)1+', ' ', text)\n",
    "    print(text)\n",
    "    text = text.replace(\"\\\\n\", ' ')\n",
    "    text = text.replace(\"\\n\", ' ')\n",
    "    print(text)\n",
    "    text = ''.join([i for i in text if not i.isdigit()])\n",
    "    print(text)\n",
    "    text = text.lower()\n",
    "    print(text)\n",
    "    text = re.sub(r'(\\n)1+', ' ', text)\n",
    "    \n",
    "    txt.append(text)\n"
   ]
  },
  {
   "cell_type": "code",
   "execution_count": 57,
   "id": "5dcee61d",
   "metadata": {},
   "outputs": [
    {
     "data": {
      "text/plain": [
       "[\"trump: china got beti'er deal in paris climate agreement. . gov jerry brown (d) california ca gov compares trump supporters to cave dwellers trump: china got better deal in paris climate agreement\",\n",
       " 'macron speech at un. french president defends paris climate accord',\n",
       " \"toys 'r' us files for bankruptcy in u.s.. toys 'r' us asia unaffected by proceedings syrian conflict. russia says syrian army fired on by us-backed rebels macron speech at un. french president defends paris climate...\",\n",
       " 'iraq - kurd referendum. iraqi-kurdish leader says vote could be delayed syria conflict. russia claims troops attacked by us backed rebels macron speech at un. french president defends paris climate accord',\n",
       " 'macron speech at un. french president defends paris climate accord',\n",
       " 'syria conflict. russia claims troops attacked by us backed rebels iraq - kurd referendum. iraqi-kurdish leader says vote could be delayed macron speech at un. french president defends paris climate...',\n",
       " 'macron discusses issues with trump directly macron discusses issues with trump directly. . emmanuel macron french president macron: main disagreement is paris climate accord',\n",
       " 'macron: main disagreement is paris climate accord macron: main disagreement is paris climate accord. . emmanuel macron french president',\n",
       " \"macron: main disagreement is paris climate accord macron: we won't close any door to dialogue with nk macron: we won't close any door to dialogue with nk. . peter mathews political...\",\n",
       " 'obama speaks amid gop health care push & iran deal threat obama: climate change may \\\\\"define the contours\\\\\" of century']"
      ]
     },
     "execution_count": 57,
     "metadata": {},
     "output_type": "execute_result"
    }
   ],
   "source": [
    "txt"
   ]
  },
  {
   "cell_type": "code",
   "execution_count": null,
   "id": "75578ef6",
   "metadata": {},
   "outputs": [],
   "source": []
  }
 ],
 "metadata": {
  "kernelspec": {
   "display_name": "Python 3 (ipykernel)",
   "language": "python",
   "name": "python3"
  },
  "language_info": {
   "codemirror_mode": {
    "name": "ipython",
    "version": 3
   },
   "file_extension": ".py",
   "mimetype": "text/x-python",
   "name": "python",
   "nbconvert_exporter": "python",
   "pygments_lexer": "ipython3",
   "version": "3.11.4"
  }
 },
 "nbformat": 4,
 "nbformat_minor": 5
}
