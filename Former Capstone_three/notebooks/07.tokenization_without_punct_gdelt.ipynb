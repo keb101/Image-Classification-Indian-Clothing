{
 "cells": [
  {
   "cell_type": "code",
   "execution_count": 2,
   "id": "25c352fd",
   "metadata": {},
   "outputs": [],
   "source": [
    "import pandas as pd\n",
    "import numpy as np\n",
    "import spacy\n",
    "from spacy.lang.en import English\n",
    "import nltk\n",
    "import re\n",
    "from absl import logging\n",
    "import tensorflow as tf\n",
    "import tensorflow_hub as hub\n",
    "import matplotlib.pyplot as plt\n",
    "import os\n",
    "import re\n",
    "import seaborn as sns\n",
    "import string\n",
    "from sklearn.cluster import KMeans\n",
    "from sklearn.decomposition import PCA\n",
    "from sklearn.metrics import silhouette_score"
   ]
  },
  {
   "cell_type": "code",
   "execution_count": 3,
   "id": "12f79a02",
   "metadata": {},
   "outputs": [],
   "source": [
    "df = pd.read_csv('/Users/butler/Documents/GitHub/projects/Capstone_three/data/interim/gdeltproject_data_without_BBC')"
   ]
  },
  {
   "cell_type": "code",
   "execution_count": 4,
   "id": "9da759ff",
   "metadata": {},
   "outputs": [
    {
     "data": {
      "text/html": [
       "<div>\n",
       "<style scoped>\n",
       "    .dataframe tbody tr th:only-of-type {\n",
       "        vertical-align: middle;\n",
       "    }\n",
       "\n",
       "    .dataframe tbody tr th {\n",
       "        vertical-align: top;\n",
       "    }\n",
       "\n",
       "    .dataframe thead th {\n",
       "        text-align: right;\n",
       "    }\n",
       "</style>\n",
       "<table border=\"1\" class=\"dataframe\">\n",
       "  <thead>\n",
       "    <tr style=\"text-align: right;\">\n",
       "      <th></th>\n",
       "      <th>Unnamed: 0</th>\n",
       "      <th>URL</th>\n",
       "      <th>Station</th>\n",
       "      <th>Show</th>\n",
       "      <th>IAShowID</th>\n",
       "      <th>IAPreviewThumb</th>\n",
       "      <th>Snippet</th>\n",
       "      <th>date</th>\n",
       "    </tr>\n",
       "  </thead>\n",
       "  <tbody>\n",
       "    <tr>\n",
       "      <th>0</th>\n",
       "      <td>0</td>\n",
       "      <td>https://archive.org/details/MSNBC_20090702_180...</td>\n",
       "      <td>MSNBC</td>\n",
       "      <td>MSNBC News Live</td>\n",
       "      <td>MSNBC_20090702_180000_MSNBC_News_Live</td>\n",
       "      <td>https://archive.org/download/MSNBC_20090702_18...</td>\n",
       "      <td>represesentitis passed ann traordinary piece o...</td>\n",
       "      <td>2009-07-02 18:40:30</td>\n",
       "    </tr>\n",
       "    <tr>\n",
       "      <th>1</th>\n",
       "      <td>1</td>\n",
       "      <td>https://archive.org/details/MSNBC_20090702_190...</td>\n",
       "      <td>MSNBC</td>\n",
       "      <td>MSNBC News Live</td>\n",
       "      <td>MSNBC_20090702_190000_MSNBC_News_Live</td>\n",
       "      <td>https://archive.org/download/MSNBC_20090702_19...</td>\n",
       "      <td>ma a lf headway with th climate change bill an...</td>\n",
       "      <td>2009-07-02 19:51:52</td>\n",
       "    </tr>\n",
       "    <tr>\n",
       "      <th>2</th>\n",
       "      <td>2</td>\n",
       "      <td>https://archive.org/details/FOXNEWS_20090702_2...</td>\n",
       "      <td>FOXNEWS</td>\n",
       "      <td>Special Report With Bret Baier</td>\n",
       "      <td>FOXNEWS_20090702_221612_Special_Report_With_Br...</td>\n",
       "      <td>https://archive.org/download/FOXNEWS_20090702_...</td>\n",
       "      <td>they spent in the fat years money on such fash...</td>\n",
       "      <td>2009-07-02 22:54:51</td>\n",
       "    </tr>\n",
       "    <tr>\n",
       "      <th>3</th>\n",
       "      <td>3</td>\n",
       "      <td>https://archive.org/details/FOXNEWS_20090703_0...</td>\n",
       "      <td>FOXNEWS</td>\n",
       "      <td>The OReilly Factor</td>\n",
       "      <td>FOXNEWS_20090703_000000_The_OReilly_Factor</td>\n",
       "      <td>https://archive.org/download/FOXNEWS_20090703_...</td>\n",
       "      <td>active? why not? no, we are not. nancy pelosi ...</td>\n",
       "      <td>2009-07-03 00:08:33</td>\n",
       "    </tr>\n",
       "    <tr>\n",
       "      <th>4</th>\n",
       "      <td>4</td>\n",
       "      <td>https://archive.org/details/FOXNEWS_20090703_0...</td>\n",
       "      <td>FOXNEWS</td>\n",
       "      <td>Greta Van Susteren</td>\n",
       "      <td>FOXNEWS_20090703_020000_Greta_Van_Susteren</td>\n",
       "      <td>https://archive.org/download/FOXNEWS_20090703_...</td>\n",
       "      <td>representative from washington state. he went ...</td>\n",
       "      <td>2009-07-03 02:44:09</td>\n",
       "    </tr>\n",
       "  </tbody>\n",
       "</table>\n",
       "</div>"
      ],
      "text/plain": [
       "   Unnamed: 0                                                URL  Station  \\\n",
       "0           0  https://archive.org/details/MSNBC_20090702_180...    MSNBC   \n",
       "1           1  https://archive.org/details/MSNBC_20090702_190...    MSNBC   \n",
       "2           2  https://archive.org/details/FOXNEWS_20090702_2...  FOXNEWS   \n",
       "3           3  https://archive.org/details/FOXNEWS_20090703_0...  FOXNEWS   \n",
       "4           4  https://archive.org/details/FOXNEWS_20090703_0...  FOXNEWS   \n",
       "\n",
       "                             Show  \\\n",
       "0                 MSNBC News Live   \n",
       "1                 MSNBC News Live   \n",
       "2  Special Report With Bret Baier   \n",
       "3              The OReilly Factor   \n",
       "4              Greta Van Susteren   \n",
       "\n",
       "                                            IAShowID  \\\n",
       "0              MSNBC_20090702_180000_MSNBC_News_Live   \n",
       "1              MSNBC_20090702_190000_MSNBC_News_Live   \n",
       "2  FOXNEWS_20090702_221612_Special_Report_With_Br...   \n",
       "3         FOXNEWS_20090703_000000_The_OReilly_Factor   \n",
       "4         FOXNEWS_20090703_020000_Greta_Van_Susteren   \n",
       "\n",
       "                                      IAPreviewThumb  \\\n",
       "0  https://archive.org/download/MSNBC_20090702_18...   \n",
       "1  https://archive.org/download/MSNBC_20090702_19...   \n",
       "2  https://archive.org/download/FOXNEWS_20090702_...   \n",
       "3  https://archive.org/download/FOXNEWS_20090703_...   \n",
       "4  https://archive.org/download/FOXNEWS_20090703_...   \n",
       "\n",
       "                                             Snippet                 date  \n",
       "0  represesentitis passed ann traordinary piece o...  2009-07-02 18:40:30  \n",
       "1  ma a lf headway with th climate change bill an...  2009-07-02 19:51:52  \n",
       "2  they spent in the fat years money on such fash...  2009-07-02 22:54:51  \n",
       "3  active? why not? no, we are not. nancy pelosi ...  2009-07-03 00:08:33  \n",
       "4  representative from washington state. he went ...  2009-07-03 02:44:09  "
      ]
     },
     "execution_count": 4,
     "metadata": {},
     "output_type": "execute_result"
    }
   ],
   "source": [
    "df.head()"
   ]
  },
  {
   "cell_type": "code",
   "execution_count": 5,
   "id": "0c750714",
   "metadata": {},
   "outputs": [
    {
     "name": "stdout",
     "output_type": "stream",
     "text": [
      "<class 'pandas.core.frame.DataFrame'>\n",
      "RangeIndex: 71598 entries, 0 to 71597\n",
      "Data columns (total 8 columns):\n",
      " #   Column          Non-Null Count  Dtype \n",
      "---  ------          --------------  ----- \n",
      " 0   Unnamed: 0      71598 non-null  int64 \n",
      " 1   URL             71598 non-null  object\n",
      " 2   Station         71598 non-null  object\n",
      " 3   Show            71577 non-null  object\n",
      " 4   IAShowID        71598 non-null  object\n",
      " 5   IAPreviewThumb  71598 non-null  object\n",
      " 6   Snippet         71598 non-null  object\n",
      " 7   date            71598 non-null  object\n",
      "dtypes: int64(1), object(7)\n",
      "memory usage: 4.4+ MB\n"
     ]
    }
   ],
   "source": [
    "df.info()"
   ]
  },
  {
   "cell_type": "code",
   "execution_count": 6,
   "id": "4dce60c0",
   "metadata": {},
   "outputs": [],
   "source": [
    "df.drop(['Unnamed: 0', 'URL', 'IAShowID', 'IAPreviewThumb'], axis=1, inplace=True)"
   ]
  },
  {
   "cell_type": "code",
   "execution_count": 7,
   "id": "45924a37",
   "metadata": {},
   "outputs": [],
   "source": [
    "df['date'] = pd.to_datetime(df['date'])"
   ]
  },
  {
   "cell_type": "code",
   "execution_count": 8,
   "id": "c7022f72",
   "metadata": {},
   "outputs": [
    {
     "name": "stdout",
     "output_type": "stream",
     "text": [
      "<class 'pandas.core.frame.DataFrame'>\n",
      "RangeIndex: 71598 entries, 0 to 71597\n",
      "Data columns (total 4 columns):\n",
      " #   Column   Non-Null Count  Dtype         \n",
      "---  ------   --------------  -----         \n",
      " 0   Station  71598 non-null  object        \n",
      " 1   Show     71577 non-null  object        \n",
      " 2   Snippet  71598 non-null  object        \n",
      " 3   date     71598 non-null  datetime64[ns]\n",
      "dtypes: datetime64[ns](1), object(3)\n",
      "memory usage: 2.2+ MB\n"
     ]
    }
   ],
   "source": [
    "df.info()"
   ]
  },
  {
   "cell_type": "code",
   "execution_count": 9,
   "id": "8a9f872f",
   "metadata": {},
   "outputs": [],
   "source": [
    "df = df.rename({'Snippet': 'text'}, axis=1)"
   ]
  },
  {
   "cell_type": "code",
   "execution_count": 10,
   "id": "650148fb",
   "metadata": {},
   "outputs": [
    {
     "data": {
      "text/html": [
       "<div>\n",
       "<style scoped>\n",
       "    .dataframe tbody tr th:only-of-type {\n",
       "        vertical-align: middle;\n",
       "    }\n",
       "\n",
       "    .dataframe tbody tr th {\n",
       "        vertical-align: top;\n",
       "    }\n",
       "\n",
       "    .dataframe thead th {\n",
       "        text-align: right;\n",
       "    }\n",
       "</style>\n",
       "<table border=\"1\" class=\"dataframe\">\n",
       "  <thead>\n",
       "    <tr style=\"text-align: right;\">\n",
       "      <th></th>\n",
       "      <th>Station</th>\n",
       "      <th>Show</th>\n",
       "      <th>text</th>\n",
       "      <th>date</th>\n",
       "    </tr>\n",
       "  </thead>\n",
       "  <tbody>\n",
       "    <tr>\n",
       "      <th>0</th>\n",
       "      <td>MSNBC</td>\n",
       "      <td>MSNBC News Live</td>\n",
       "      <td>represesentitis passed ann traordinary piece o...</td>\n",
       "      <td>2009-07-02 18:40:30</td>\n",
       "    </tr>\n",
       "    <tr>\n",
       "      <th>1</th>\n",
       "      <td>MSNBC</td>\n",
       "      <td>MSNBC News Live</td>\n",
       "      <td>ma a lf headway with th climate change bill an...</td>\n",
       "      <td>2009-07-02 19:51:52</td>\n",
       "    </tr>\n",
       "    <tr>\n",
       "      <th>2</th>\n",
       "      <td>FOXNEWS</td>\n",
       "      <td>Special Report With Bret Baier</td>\n",
       "      <td>they spent in the fat years money on such fash...</td>\n",
       "      <td>2009-07-02 22:54:51</td>\n",
       "    </tr>\n",
       "    <tr>\n",
       "      <th>3</th>\n",
       "      <td>FOXNEWS</td>\n",
       "      <td>The OReilly Factor</td>\n",
       "      <td>active? why not? no, we are not. nancy pelosi ...</td>\n",
       "      <td>2009-07-03 00:08:33</td>\n",
       "    </tr>\n",
       "    <tr>\n",
       "      <th>4</th>\n",
       "      <td>FOXNEWS</td>\n",
       "      <td>Greta Van Susteren</td>\n",
       "      <td>representative from washington state. he went ...</td>\n",
       "      <td>2009-07-03 02:44:09</td>\n",
       "    </tr>\n",
       "  </tbody>\n",
       "</table>\n",
       "</div>"
      ],
      "text/plain": [
       "   Station                            Show  \\\n",
       "0    MSNBC                 MSNBC News Live   \n",
       "1    MSNBC                 MSNBC News Live   \n",
       "2  FOXNEWS  Special Report With Bret Baier   \n",
       "3  FOXNEWS              The OReilly Factor   \n",
       "4  FOXNEWS              Greta Van Susteren   \n",
       "\n",
       "                                                text                date  \n",
       "0  represesentitis passed ann traordinary piece o... 2009-07-02 18:40:30  \n",
       "1  ma a lf headway with th climate change bill an... 2009-07-02 19:51:52  \n",
       "2  they spent in the fat years money on such fash... 2009-07-02 22:54:51  \n",
       "3  active? why not? no, we are not. nancy pelosi ... 2009-07-03 00:08:33  \n",
       "4  representative from washington state. he went ... 2009-07-03 02:44:09  "
      ]
     },
     "execution_count": 10,
     "metadata": {},
     "output_type": "execute_result"
    }
   ],
   "source": [
    "df.head()"
   ]
  },
  {
   "cell_type": "code",
   "execution_count": 11,
   "id": "674e3d3d",
   "metadata": {},
   "outputs": [],
   "source": [
    "df['text_no_punct'] = df['Show'].copy()"
   ]
  },
  {
   "cell_type": "code",
   "execution_count": 12,
   "id": "c6954cb7",
   "metadata": {},
   "outputs": [
    {
     "name": "stderr",
     "output_type": "stream",
     "text": [
      "/var/folders/nv/lggm200n09vgfy5n8_6lcz6c0000gn/T/ipykernel_3193/115077387.py:3: SettingWithCopyWarning: \n",
      "A value is trying to be set on a copy of a slice from a DataFrame\n",
      "\n",
      "See the caveats in the documentation: https://pandas.pydata.org/pandas-docs/stable/user_guide/indexing.html#returning-a-view-versus-a-copy\n",
      "  df['text_no_punct'].loc[i] = ''.join(lst)\n"
     ]
    }
   ],
   "source": [
    "for i in range(len(df)):\n",
    "    lst = [x for x in df['text'].loc[i] if x not in string.punctuation]\n",
    "    df['text_no_punct'].loc[i] = ''.join(lst)"
   ]
  },
  {
   "cell_type": "code",
   "execution_count": 13,
   "id": "c2dc715f",
   "metadata": {},
   "outputs": [
    {
     "data": {
      "text/html": [
       "<div>\n",
       "<style scoped>\n",
       "    .dataframe tbody tr th:only-of-type {\n",
       "        vertical-align: middle;\n",
       "    }\n",
       "\n",
       "    .dataframe tbody tr th {\n",
       "        vertical-align: top;\n",
       "    }\n",
       "\n",
       "    .dataframe thead th {\n",
       "        text-align: right;\n",
       "    }\n",
       "</style>\n",
       "<table border=\"1\" class=\"dataframe\">\n",
       "  <thead>\n",
       "    <tr style=\"text-align: right;\">\n",
       "      <th></th>\n",
       "      <th>Station</th>\n",
       "      <th>Show</th>\n",
       "      <th>text</th>\n",
       "      <th>date</th>\n",
       "      <th>text_no_punct</th>\n",
       "    </tr>\n",
       "  </thead>\n",
       "  <tbody>\n",
       "    <tr>\n",
       "      <th>0</th>\n",
       "      <td>MSNBC</td>\n",
       "      <td>MSNBC News Live</td>\n",
       "      <td>represesentitis passed ann traordinary piece o...</td>\n",
       "      <td>2009-07-02 18:40:30</td>\n",
       "      <td>represesentitis passed ann traordinary piece o...</td>\n",
       "    </tr>\n",
       "    <tr>\n",
       "      <th>1</th>\n",
       "      <td>MSNBC</td>\n",
       "      <td>MSNBC News Live</td>\n",
       "      <td>ma a lf headway with th climate change bill an...</td>\n",
       "      <td>2009-07-02 19:51:52</td>\n",
       "      <td>ma a lf headway with th climate change bill an...</td>\n",
       "    </tr>\n",
       "    <tr>\n",
       "      <th>2</th>\n",
       "      <td>FOXNEWS</td>\n",
       "      <td>Special Report With Bret Baier</td>\n",
       "      <td>they spent in the fat years money on such fash...</td>\n",
       "      <td>2009-07-02 22:54:51</td>\n",
       "      <td>they spent in the fat years money on such fash...</td>\n",
       "    </tr>\n",
       "    <tr>\n",
       "      <th>3</th>\n",
       "      <td>FOXNEWS</td>\n",
       "      <td>The OReilly Factor</td>\n",
       "      <td>active? why not? no, we are not. nancy pelosi ...</td>\n",
       "      <td>2009-07-03 00:08:33</td>\n",
       "      <td>active why not no we are not nancy pelosi went...</td>\n",
       "    </tr>\n",
       "    <tr>\n",
       "      <th>4</th>\n",
       "      <td>FOXNEWS</td>\n",
       "      <td>Greta Van Susteren</td>\n",
       "      <td>representative from washington state. he went ...</td>\n",
       "      <td>2009-07-03 02:44:09</td>\n",
       "      <td>representative from washington state he went t...</td>\n",
       "    </tr>\n",
       "  </tbody>\n",
       "</table>\n",
       "</div>"
      ],
      "text/plain": [
       "   Station                            Show  \\\n",
       "0    MSNBC                 MSNBC News Live   \n",
       "1    MSNBC                 MSNBC News Live   \n",
       "2  FOXNEWS  Special Report With Bret Baier   \n",
       "3  FOXNEWS              The OReilly Factor   \n",
       "4  FOXNEWS              Greta Van Susteren   \n",
       "\n",
       "                                                text                date  \\\n",
       "0  represesentitis passed ann traordinary piece o... 2009-07-02 18:40:30   \n",
       "1  ma a lf headway with th climate change bill an... 2009-07-02 19:51:52   \n",
       "2  they spent in the fat years money on such fash... 2009-07-02 22:54:51   \n",
       "3  active? why not? no, we are not. nancy pelosi ... 2009-07-03 00:08:33   \n",
       "4  representative from washington state. he went ... 2009-07-03 02:44:09   \n",
       "\n",
       "                                       text_no_punct  \n",
       "0  represesentitis passed ann traordinary piece o...  \n",
       "1  ma a lf headway with th climate change bill an...  \n",
       "2  they spent in the fat years money on such fash...  \n",
       "3  active why not no we are not nancy pelosi went...  \n",
       "4  representative from washington state he went t...  "
      ]
     },
     "execution_count": 13,
     "metadata": {},
     "output_type": "execute_result"
    }
   ],
   "source": [
    "df.head()"
   ]
  },
  {
   "cell_type": "code",
   "execution_count": 14,
   "id": "a50a0f53",
   "metadata": {},
   "outputs": [],
   "source": [
    "stopword_list = nltk.corpus.stopwords.words('english')"
   ]
  },
  {
   "cell_type": "code",
   "execution_count": 15,
   "id": "16d32127",
   "metadata": {},
   "outputs": [],
   "source": [
    "stopword_list.remove('no')"
   ]
  },
  {
   "cell_type": "code",
   "execution_count": 16,
   "id": "dc534d8f",
   "metadata": {},
   "outputs": [],
   "source": [
    "stopword_list.remove('not')"
   ]
  },
  {
   "cell_type": "code",
   "execution_count": 17,
   "id": "138b39a9",
   "metadata": {},
   "outputs": [],
   "source": [
    "nlp = spacy.load(\"en_core_web_lg\")"
   ]
  },
  {
   "cell_type": "code",
   "execution_count": 18,
   "id": "0cbc69e8",
   "metadata": {},
   "outputs": [],
   "source": [
    "df['nlp'] = df['text_no_punct'].apply(lambda x: nlp(x))"
   ]
  },
  {
   "cell_type": "code",
   "execution_count": 19,
   "id": "2053f7e3",
   "metadata": {},
   "outputs": [
    {
     "data": {
      "text/html": [
       "<div>\n",
       "<style scoped>\n",
       "    .dataframe tbody tr th:only-of-type {\n",
       "        vertical-align: middle;\n",
       "    }\n",
       "\n",
       "    .dataframe tbody tr th {\n",
       "        vertical-align: top;\n",
       "    }\n",
       "\n",
       "    .dataframe thead th {\n",
       "        text-align: right;\n",
       "    }\n",
       "</style>\n",
       "<table border=\"1\" class=\"dataframe\">\n",
       "  <thead>\n",
       "    <tr style=\"text-align: right;\">\n",
       "      <th></th>\n",
       "      <th>Station</th>\n",
       "      <th>Show</th>\n",
       "      <th>text</th>\n",
       "      <th>date</th>\n",
       "      <th>text_no_punct</th>\n",
       "      <th>nlp</th>\n",
       "    </tr>\n",
       "  </thead>\n",
       "  <tbody>\n",
       "    <tr>\n",
       "      <th>0</th>\n",
       "      <td>MSNBC</td>\n",
       "      <td>MSNBC News Live</td>\n",
       "      <td>represesentitis passed ann traordinary piece o...</td>\n",
       "      <td>2009-07-02 18:40:30</td>\n",
       "      <td>represesentitis passed ann traordinary piece o...</td>\n",
       "      <td>(represesentitis, passed, ann, traordinary, pi...</td>\n",
       "    </tr>\n",
       "    <tr>\n",
       "      <th>1</th>\n",
       "      <td>MSNBC</td>\n",
       "      <td>MSNBC News Live</td>\n",
       "      <td>ma a lf headway with th climate change bill an...</td>\n",
       "      <td>2009-07-02 19:51:52</td>\n",
       "      <td>ma a lf headway with th climate change bill an...</td>\n",
       "      <td>(ma, a, lf, headway, with, th, climate, change...</td>\n",
       "    </tr>\n",
       "    <tr>\n",
       "      <th>2</th>\n",
       "      <td>FOXNEWS</td>\n",
       "      <td>Special Report With Bret Baier</td>\n",
       "      <td>they spent in the fat years money on such fash...</td>\n",
       "      <td>2009-07-02 22:54:51</td>\n",
       "      <td>they spent in the fat years money on such fash...</td>\n",
       "      <td>(they, spent, in, the, fat, years, money, on, ...</td>\n",
       "    </tr>\n",
       "    <tr>\n",
       "      <th>3</th>\n",
       "      <td>FOXNEWS</td>\n",
       "      <td>The OReilly Factor</td>\n",
       "      <td>active? why not? no, we are not. nancy pelosi ...</td>\n",
       "      <td>2009-07-03 00:08:33</td>\n",
       "      <td>active why not no we are not nancy pelosi went...</td>\n",
       "      <td>(active, why, not, no, we, are, not, nancy, pe...</td>\n",
       "    </tr>\n",
       "    <tr>\n",
       "      <th>4</th>\n",
       "      <td>FOXNEWS</td>\n",
       "      <td>Greta Van Susteren</td>\n",
       "      <td>representative from washington state. he went ...</td>\n",
       "      <td>2009-07-03 02:44:09</td>\n",
       "      <td>representative from washington state he went t...</td>\n",
       "      <td>(representative, from, washington, state, he, ...</td>\n",
       "    </tr>\n",
       "  </tbody>\n",
       "</table>\n",
       "</div>"
      ],
      "text/plain": [
       "   Station                            Show  \\\n",
       "0    MSNBC                 MSNBC News Live   \n",
       "1    MSNBC                 MSNBC News Live   \n",
       "2  FOXNEWS  Special Report With Bret Baier   \n",
       "3  FOXNEWS              The OReilly Factor   \n",
       "4  FOXNEWS              Greta Van Susteren   \n",
       "\n",
       "                                                text                date  \\\n",
       "0  represesentitis passed ann traordinary piece o... 2009-07-02 18:40:30   \n",
       "1  ma a lf headway with th climate change bill an... 2009-07-02 19:51:52   \n",
       "2  they spent in the fat years money on such fash... 2009-07-02 22:54:51   \n",
       "3  active? why not? no, we are not. nancy pelosi ... 2009-07-03 00:08:33   \n",
       "4  representative from washington state. he went ... 2009-07-03 02:44:09   \n",
       "\n",
       "                                       text_no_punct  \\\n",
       "0  represesentitis passed ann traordinary piece o...   \n",
       "1  ma a lf headway with th climate change bill an...   \n",
       "2  they spent in the fat years money on such fash...   \n",
       "3  active why not no we are not nancy pelosi went...   \n",
       "4  representative from washington state he went t...   \n",
       "\n",
       "                                                 nlp  \n",
       "0  (represesentitis, passed, ann, traordinary, pi...  \n",
       "1  (ma, a, lf, headway, with, th, climate, change...  \n",
       "2  (they, spent, in, the, fat, years, money, on, ...  \n",
       "3  (active, why, not, no, we, are, not, nancy, pe...  \n",
       "4  (representative, from, washington, state, he, ...  "
      ]
     },
     "execution_count": 19,
     "metadata": {},
     "output_type": "execute_result"
    }
   ],
   "source": [
    "df.head()"
   ]
  },
  {
   "cell_type": "code",
   "execution_count": 20,
   "id": "16e72903",
   "metadata": {},
   "outputs": [
    {
     "name": "stderr",
     "output_type": "stream",
     "text": [
      "/var/folders/nv/lggm200n09vgfy5n8_6lcz6c0000gn/T/ipykernel_3193/3188447351.py:5: SettingWithCopyWarning: \n",
      "A value is trying to be set on a copy of a slice from a DataFrame\n",
      "\n",
      "See the caveats in the documentation: https://pandas.pydata.org/pandas-docs/stable/user_guide/indexing.html#returning-a-view-versus-a-copy\n",
      "  df['lemmas'].loc[i] = [token.lemma_ for token in df['nlp'].loc[i]]\n",
      "/var/folders/nv/lggm200n09vgfy5n8_6lcz6c0000gn/T/ipykernel_3193/3188447351.py:8: SettingWithCopyWarning: \n",
      "A value is trying to be set on a copy of a slice from a DataFrame\n",
      "\n",
      "See the caveats in the documentation: https://pandas.pydata.org/pandas-docs/stable/user_guide/indexing.html#returning-a-view-versus-a-copy\n",
      "  df['lemmas'].loc[i] = [x for x in lst1 if x not in string.punctuation]\n",
      "/var/folders/nv/lggm200n09vgfy5n8_6lcz6c0000gn/T/ipykernel_3193/3188447351.py:9: SettingWithCopyWarning: \n",
      "A value is trying to be set on a copy of a slice from a DataFrame\n",
      "\n",
      "See the caveats in the documentation: https://pandas.pydata.org/pandas-docs/stable/user_guide/indexing.html#returning-a-view-versus-a-copy\n",
      "  df['entities'].loc[i] = [(ent.text, ent.label_) for ent in df['nlp'].loc[i].ents]\n"
     ]
    }
   ],
   "source": [
    "df['entities'] = df['Show'].copy()\n",
    "df['lemmas'] = df['Show'].copy()\n",
    "\n",
    "for i in range(len(df)):\n",
    "    df['lemmas'].loc[i] = [token.lemma_ for token in df['nlp'].loc[i]]\n",
    "    lst = df['lemmas'].loc[i] \n",
    "    lst1 = [x for x in lst if x not in stopword_list]\n",
    "    df['lemmas'].loc[i] = [x for x in lst1 if x not in string.punctuation]\n",
    "    df['entities'].loc[i] = [(ent.text, ent.label_) for ent in df['nlp'].loc[i].ents]"
   ]
  },
  {
   "cell_type": "code",
   "execution_count": 21,
   "id": "19dbb871",
   "metadata": {},
   "outputs": [
    {
     "data": {
      "text/html": [
       "<div>\n",
       "<style scoped>\n",
       "    .dataframe tbody tr th:only-of-type {\n",
       "        vertical-align: middle;\n",
       "    }\n",
       "\n",
       "    .dataframe tbody tr th {\n",
       "        vertical-align: top;\n",
       "    }\n",
       "\n",
       "    .dataframe thead th {\n",
       "        text-align: right;\n",
       "    }\n",
       "</style>\n",
       "<table border=\"1\" class=\"dataframe\">\n",
       "  <thead>\n",
       "    <tr style=\"text-align: right;\">\n",
       "      <th></th>\n",
       "      <th>Station</th>\n",
       "      <th>Show</th>\n",
       "      <th>text</th>\n",
       "      <th>date</th>\n",
       "      <th>text_no_punct</th>\n",
       "      <th>nlp</th>\n",
       "      <th>entities</th>\n",
       "      <th>lemmas</th>\n",
       "    </tr>\n",
       "  </thead>\n",
       "  <tbody>\n",
       "    <tr>\n",
       "      <th>0</th>\n",
       "      <td>MSNBC</td>\n",
       "      <td>MSNBC News Live</td>\n",
       "      <td>represesentitis passed ann traordinary piece o...</td>\n",
       "      <td>2009-07-02 18:40:30</td>\n",
       "      <td>represesentitis passed ann traordinary piece o...</td>\n",
       "      <td>(represesentitis, passed, ann, traordinary, pi...</td>\n",
       "      <td>[(represesentitis, NORP), (ann traordinary, PE...</td>\n",
       "      <td>[represesentitis, pass, ann, traordinary, piec...</td>\n",
       "    </tr>\n",
       "    <tr>\n",
       "      <th>1</th>\n",
       "      <td>MSNBC</td>\n",
       "      <td>MSNBC News Live</td>\n",
       "      <td>ma a lf headway with th climate change bill an...</td>\n",
       "      <td>2009-07-02 19:51:52</td>\n",
       "      <td>ma a lf headway with th climate change bill an...</td>\n",
       "      <td>(ma, a, lf, headway, with, th, climate, change...</td>\n",
       "      <td>[(democrats, NORP)]</td>\n",
       "      <td>[lf, headway, th, climate, change, bill, right...</td>\n",
       "    </tr>\n",
       "    <tr>\n",
       "      <th>2</th>\n",
       "      <td>FOXNEWS</td>\n",
       "      <td>Special Report With Bret Baier</td>\n",
       "      <td>they spent in the fat years money on such fash...</td>\n",
       "      <td>2009-07-02 22:54:51</td>\n",
       "      <td>they spent in the fat years money on such fash...</td>\n",
       "      <td>(they, spent, in, the, fat, years, money, on, ...</td>\n",
       "      <td>[(the fat years, DATE), (george bush, PERSON)]</td>\n",
       "      <td>[spend, fat, year, money, fashion, global, war...</td>\n",
       "    </tr>\n",
       "    <tr>\n",
       "      <th>3</th>\n",
       "      <td>FOXNEWS</td>\n",
       "      <td>The OReilly Factor</td>\n",
       "      <td>active? why not? no, we are not. nancy pelosi ...</td>\n",
       "      <td>2009-07-03 00:08:33</td>\n",
       "      <td>active why not no we are not nancy pelosi went...</td>\n",
       "      <td>(active, why, not, no, we, are, not, nancy, pe...</td>\n",
       "      <td>[(china, GPE), (chinese, NORP)]</td>\n",
       "      <td>[active, not, no, not, nancy, pelosi, go, chin...</td>\n",
       "    </tr>\n",
       "    <tr>\n",
       "      <th>4</th>\n",
       "      <td>FOXNEWS</td>\n",
       "      <td>Greta Van Susteren</td>\n",
       "      <td>representative from washington state. he went ...</td>\n",
       "      <td>2009-07-03 02:44:09</td>\n",
       "      <td>representative from washington state he went t...</td>\n",
       "      <td>(representative, from, washington, state, he, ...</td>\n",
       "      <td>[(washington, GPE), (congress, ORG)]</td>\n",
       "      <td>[representative, washington, state, go, global...</td>\n",
       "    </tr>\n",
       "  </tbody>\n",
       "</table>\n",
       "</div>"
      ],
      "text/plain": [
       "   Station                            Show  \\\n",
       "0    MSNBC                 MSNBC News Live   \n",
       "1    MSNBC                 MSNBC News Live   \n",
       "2  FOXNEWS  Special Report With Bret Baier   \n",
       "3  FOXNEWS              The OReilly Factor   \n",
       "4  FOXNEWS              Greta Van Susteren   \n",
       "\n",
       "                                                text                date  \\\n",
       "0  represesentitis passed ann traordinary piece o... 2009-07-02 18:40:30   \n",
       "1  ma a lf headway with th climate change bill an... 2009-07-02 19:51:52   \n",
       "2  they spent in the fat years money on such fash... 2009-07-02 22:54:51   \n",
       "3  active? why not? no, we are not. nancy pelosi ... 2009-07-03 00:08:33   \n",
       "4  representative from washington state. he went ... 2009-07-03 02:44:09   \n",
       "\n",
       "                                       text_no_punct  \\\n",
       "0  represesentitis passed ann traordinary piece o...   \n",
       "1  ma a lf headway with th climate change bill an...   \n",
       "2  they spent in the fat years money on such fash...   \n",
       "3  active why not no we are not nancy pelosi went...   \n",
       "4  representative from washington state he went t...   \n",
       "\n",
       "                                                 nlp  \\\n",
       "0  (represesentitis, passed, ann, traordinary, pi...   \n",
       "1  (ma, a, lf, headway, with, th, climate, change...   \n",
       "2  (they, spent, in, the, fat, years, money, on, ...   \n",
       "3  (active, why, not, no, we, are, not, nancy, pe...   \n",
       "4  (representative, from, washington, state, he, ...   \n",
       "\n",
       "                                            entities  \\\n",
       "0  [(represesentitis, NORP), (ann traordinary, PE...   \n",
       "1                                [(democrats, NORP)]   \n",
       "2     [(the fat years, DATE), (george bush, PERSON)]   \n",
       "3                    [(china, GPE), (chinese, NORP)]   \n",
       "4               [(washington, GPE), (congress, ORG)]   \n",
       "\n",
       "                                              lemmas  \n",
       "0  [represesentitis, pass, ann, traordinary, piec...  \n",
       "1  [lf, headway, th, climate, change, bill, right...  \n",
       "2  [spend, fat, year, money, fashion, global, war...  \n",
       "3  [active, not, no, not, nancy, pelosi, go, chin...  \n",
       "4  [representative, washington, state, go, global...  "
      ]
     },
     "execution_count": 21,
     "metadata": {},
     "output_type": "execute_result"
    }
   ],
   "source": [
    "df.head()"
   ]
  },
  {
   "cell_type": "code",
   "execution_count": 22,
   "id": "6bcde9cb",
   "metadata": {},
   "outputs": [],
   "source": [
    "v = (df['nlp'].loc[0]).vector"
   ]
  },
  {
   "cell_type": "code",
   "execution_count": 23,
   "id": "74c751cd",
   "metadata": {},
   "outputs": [],
   "source": [
    "columns = np.arange(0, 300)"
   ]
  },
  {
   "cell_type": "code",
   "execution_count": 24,
   "id": "ca1a4023",
   "metadata": {},
   "outputs": [],
   "source": [
    "vectors = pd.DataFrame(v.reshape(-1, len(v)),columns=columns)"
   ]
  },
  {
   "cell_type": "code",
   "execution_count": 25,
   "id": "8ab98dbe",
   "metadata": {},
   "outputs": [
    {
     "data": {
      "text/html": [
       "<div>\n",
       "<style scoped>\n",
       "    .dataframe tbody tr th:only-of-type {\n",
       "        vertical-align: middle;\n",
       "    }\n",
       "\n",
       "    .dataframe tbody tr th {\n",
       "        vertical-align: top;\n",
       "    }\n",
       "\n",
       "    .dataframe thead th {\n",
       "        text-align: right;\n",
       "    }\n",
       "</style>\n",
       "<table border=\"1\" class=\"dataframe\">\n",
       "  <thead>\n",
       "    <tr style=\"text-align: right;\">\n",
       "      <th></th>\n",
       "      <th>0</th>\n",
       "      <th>1</th>\n",
       "      <th>2</th>\n",
       "      <th>3</th>\n",
       "      <th>4</th>\n",
       "      <th>5</th>\n",
       "      <th>6</th>\n",
       "      <th>7</th>\n",
       "      <th>8</th>\n",
       "      <th>9</th>\n",
       "      <th>...</th>\n",
       "      <th>290</th>\n",
       "      <th>291</th>\n",
       "      <th>292</th>\n",
       "      <th>293</th>\n",
       "      <th>294</th>\n",
       "      <th>295</th>\n",
       "      <th>296</th>\n",
       "      <th>297</th>\n",
       "      <th>298</th>\n",
       "      <th>299</th>\n",
       "    </tr>\n",
       "  </thead>\n",
       "  <tbody>\n",
       "    <tr>\n",
       "      <th>0</th>\n",
       "      <td>-1.585038</td>\n",
       "      <td>0.776908</td>\n",
       "      <td>-2.25324</td>\n",
       "      <td>0.631305</td>\n",
       "      <td>4.596736</td>\n",
       "      <td>0.284948</td>\n",
       "      <td>0.652779</td>\n",
       "      <td>4.046988</td>\n",
       "      <td>-0.277532</td>\n",
       "      <td>-1.109932</td>\n",
       "      <td>...</td>\n",
       "      <td>0.096414</td>\n",
       "      <td>0.243454</td>\n",
       "      <td>0.822692</td>\n",
       "      <td>-0.346068</td>\n",
       "      <td>-2.271298</td>\n",
       "      <td>0.45962</td>\n",
       "      <td>0.336875</td>\n",
       "      <td>-1.868874</td>\n",
       "      <td>-2.114235</td>\n",
       "      <td>0.358923</td>\n",
       "    </tr>\n",
       "  </tbody>\n",
       "</table>\n",
       "<p>1 rows × 300 columns</p>\n",
       "</div>"
      ],
      "text/plain": [
       "        0         1        2         3         4         5         6    \\\n",
       "0 -1.585038  0.776908 -2.25324  0.631305  4.596736  0.284948  0.652779   \n",
       "\n",
       "        7         8         9    ...       290       291       292       293  \\\n",
       "0  4.046988 -0.277532 -1.109932  ...  0.096414  0.243454  0.822692 -0.346068   \n",
       "\n",
       "        294      295       296       297       298       299  \n",
       "0 -2.271298  0.45962  0.336875 -1.868874 -2.114235  0.358923  \n",
       "\n",
       "[1 rows x 300 columns]"
      ]
     },
     "execution_count": 25,
     "metadata": {},
     "output_type": "execute_result"
    }
   ],
   "source": [
    "vectors.head()"
   ]
  },
  {
   "cell_type": "code",
   "execution_count": 26,
   "id": "05233f5a",
   "metadata": {},
   "outputs": [
    {
     "ename": "KeyboardInterrupt",
     "evalue": "",
     "output_type": "error",
     "traceback": [
      "\u001b[0;31m---------------------------------------------------------------------------\u001b[0m",
      "\u001b[0;31mKeyboardInterrupt\u001b[0m                         Traceback (most recent call last)",
      "Cell \u001b[0;32mIn[26], line 5\u001b[0m\n\u001b[1;32m      2\u001b[0m v \u001b[38;5;241m=\u001b[39m (df[\u001b[38;5;124m'\u001b[39m\u001b[38;5;124mnlp\u001b[39m\u001b[38;5;124m'\u001b[39m]\u001b[38;5;241m.\u001b[39mloc[i])\u001b[38;5;241m.\u001b[39mvector\n\u001b[1;32m      3\u001b[0m nv \u001b[38;5;241m=\u001b[39m pd\u001b[38;5;241m.\u001b[39mSeries(v)\n\u001b[0;32m----> 5\u001b[0m vectors\u001b[38;5;241m.\u001b[39mloc[i] \u001b[38;5;241m=\u001b[39m nv\n",
      "File \u001b[0;32m~/anaconda3/envs/Capstone_three/lib/python3.9/site-packages/pandas/core/indexing.py:818\u001b[0m, in \u001b[0;36m_LocationIndexer.__setitem__\u001b[0;34m(self, key, value)\u001b[0m\n\u001b[1;32m    815\u001b[0m \u001b[38;5;28mself\u001b[39m\u001b[38;5;241m.\u001b[39m_has_valid_setitem_indexer(key)\n\u001b[1;32m    817\u001b[0m iloc \u001b[38;5;241m=\u001b[39m \u001b[38;5;28mself\u001b[39m \u001b[38;5;28;01mif\u001b[39;00m \u001b[38;5;28mself\u001b[39m\u001b[38;5;241m.\u001b[39mname \u001b[38;5;241m==\u001b[39m \u001b[38;5;124m\"\u001b[39m\u001b[38;5;124miloc\u001b[39m\u001b[38;5;124m\"\u001b[39m \u001b[38;5;28;01melse\u001b[39;00m \u001b[38;5;28mself\u001b[39m\u001b[38;5;241m.\u001b[39mobj\u001b[38;5;241m.\u001b[39miloc\n\u001b[0;32m--> 818\u001b[0m \u001b[43miloc\u001b[49m\u001b[38;5;241;43m.\u001b[39;49m\u001b[43m_setitem_with_indexer\u001b[49m\u001b[43m(\u001b[49m\u001b[43mindexer\u001b[49m\u001b[43m,\u001b[49m\u001b[43m \u001b[49m\u001b[43mvalue\u001b[49m\u001b[43m,\u001b[49m\u001b[43m \u001b[49m\u001b[38;5;28;43mself\u001b[39;49m\u001b[38;5;241;43m.\u001b[39;49m\u001b[43mname\u001b[49m\u001b[43m)\u001b[49m\n",
      "File \u001b[0;32m~/anaconda3/envs/Capstone_three/lib/python3.9/site-packages/pandas/core/indexing.py:1785\u001b[0m, in \u001b[0;36m_iLocIndexer._setitem_with_indexer\u001b[0;34m(self, indexer, value, name)\u001b[0m\n\u001b[1;32m   1782\u001b[0m     indexer, missing \u001b[38;5;241m=\u001b[39m convert_missing_indexer(indexer)\n\u001b[1;32m   1784\u001b[0m     \u001b[38;5;28;01mif\u001b[39;00m missing:\n\u001b[0;32m-> 1785\u001b[0m         \u001b[38;5;28;43mself\u001b[39;49m\u001b[38;5;241;43m.\u001b[39;49m\u001b[43m_setitem_with_indexer_missing\u001b[49m\u001b[43m(\u001b[49m\u001b[43mindexer\u001b[49m\u001b[43m,\u001b[49m\u001b[43m \u001b[49m\u001b[43mvalue\u001b[49m\u001b[43m)\u001b[49m\n\u001b[1;32m   1786\u001b[0m         \u001b[38;5;28;01mreturn\u001b[39;00m\n\u001b[1;32m   1788\u001b[0m \u001b[38;5;28;01mif\u001b[39;00m name \u001b[38;5;241m==\u001b[39m \u001b[38;5;124m\"\u001b[39m\u001b[38;5;124mloc\u001b[39m\u001b[38;5;124m\"\u001b[39m:\n\u001b[1;32m   1789\u001b[0m     \u001b[38;5;66;03m# must come after setting of missing\u001b[39;00m\n",
      "File \u001b[0;32m~/anaconda3/envs/Capstone_three/lib/python3.9/site-packages/pandas/core/indexing.py:2182\u001b[0m, in \u001b[0;36m_iLocIndexer._setitem_with_indexer_missing\u001b[0;34m(self, indexer, value)\u001b[0m\n\u001b[1;32m   2180\u001b[0m     \u001b[38;5;28mself\u001b[39m\u001b[38;5;241m.\u001b[39mobj\u001b[38;5;241m.\u001b[39m_mgr \u001b[38;5;241m=\u001b[39m df\u001b[38;5;241m.\u001b[39m_mgr\n\u001b[1;32m   2181\u001b[0m \u001b[38;5;28;01melse\u001b[39;00m:\n\u001b[0;32m-> 2182\u001b[0m     \u001b[38;5;28mself\u001b[39m\u001b[38;5;241m.\u001b[39mobj\u001b[38;5;241m.\u001b[39m_mgr \u001b[38;5;241m=\u001b[39m \u001b[38;5;28;43mself\u001b[39;49m\u001b[38;5;241;43m.\u001b[39;49m\u001b[43mobj\u001b[49m\u001b[38;5;241;43m.\u001b[39;49m\u001b[43m_append\u001b[49m\u001b[43m(\u001b[49m\u001b[43mvalue\u001b[49m\u001b[43m)\u001b[49m\u001b[38;5;241m.\u001b[39m_mgr\n\u001b[1;32m   2183\u001b[0m \u001b[38;5;28mself\u001b[39m\u001b[38;5;241m.\u001b[39mobj\u001b[38;5;241m.\u001b[39m_maybe_update_cacher(clear\u001b[38;5;241m=\u001b[39m\u001b[38;5;28;01mTrue\u001b[39;00m)\n",
      "File \u001b[0;32m~/anaconda3/envs/Capstone_three/lib/python3.9/site-packages/pandas/core/frame.py:9808\u001b[0m, in \u001b[0;36mDataFrame._append\u001b[0;34m(self, other, ignore_index, verify_integrity, sort)\u001b[0m\n\u001b[1;32m   9805\u001b[0m \u001b[38;5;28;01melse\u001b[39;00m:\n\u001b[1;32m   9806\u001b[0m     to_concat \u001b[38;5;241m=\u001b[39m [\u001b[38;5;28mself\u001b[39m, other]\n\u001b[0;32m-> 9808\u001b[0m result \u001b[38;5;241m=\u001b[39m \u001b[43mconcat\u001b[49m\u001b[43m(\u001b[49m\n\u001b[1;32m   9809\u001b[0m \u001b[43m    \u001b[49m\u001b[43mto_concat\u001b[49m\u001b[43m,\u001b[49m\n\u001b[1;32m   9810\u001b[0m \u001b[43m    \u001b[49m\u001b[43mignore_index\u001b[49m\u001b[38;5;241;43m=\u001b[39;49m\u001b[43mignore_index\u001b[49m\u001b[43m,\u001b[49m\n\u001b[1;32m   9811\u001b[0m \u001b[43m    \u001b[49m\u001b[43mverify_integrity\u001b[49m\u001b[38;5;241;43m=\u001b[39;49m\u001b[43mverify_integrity\u001b[49m\u001b[43m,\u001b[49m\n\u001b[1;32m   9812\u001b[0m \u001b[43m    \u001b[49m\u001b[43msort\u001b[49m\u001b[38;5;241;43m=\u001b[39;49m\u001b[43msort\u001b[49m\u001b[43m,\u001b[49m\n\u001b[1;32m   9813\u001b[0m \u001b[43m\u001b[49m\u001b[43m)\u001b[49m\n\u001b[1;32m   9814\u001b[0m \u001b[38;5;28;01mreturn\u001b[39;00m result\u001b[38;5;241m.\u001b[39m__finalize__(\u001b[38;5;28mself\u001b[39m, method\u001b[38;5;241m=\u001b[39m\u001b[38;5;124m\"\u001b[39m\u001b[38;5;124mappend\u001b[39m\u001b[38;5;124m\"\u001b[39m)\n",
      "File \u001b[0;32m~/anaconda3/envs/Capstone_three/lib/python3.9/site-packages/pandas/util/_decorators.py:331\u001b[0m, in \u001b[0;36mdeprecate_nonkeyword_arguments.<locals>.decorate.<locals>.wrapper\u001b[0;34m(*args, **kwargs)\u001b[0m\n\u001b[1;32m    325\u001b[0m \u001b[38;5;28;01mif\u001b[39;00m \u001b[38;5;28mlen\u001b[39m(args) \u001b[38;5;241m>\u001b[39m num_allow_args:\n\u001b[1;32m    326\u001b[0m     warnings\u001b[38;5;241m.\u001b[39mwarn(\n\u001b[1;32m    327\u001b[0m         msg\u001b[38;5;241m.\u001b[39mformat(arguments\u001b[38;5;241m=\u001b[39m_format_argument_list(allow_args)),\n\u001b[1;32m    328\u001b[0m         \u001b[38;5;167;01mFutureWarning\u001b[39;00m,\n\u001b[1;32m    329\u001b[0m         stacklevel\u001b[38;5;241m=\u001b[39mfind_stack_level(),\n\u001b[1;32m    330\u001b[0m     )\n\u001b[0;32m--> 331\u001b[0m \u001b[38;5;28;01mreturn\u001b[39;00m \u001b[43mfunc\u001b[49m\u001b[43m(\u001b[49m\u001b[38;5;241;43m*\u001b[39;49m\u001b[43margs\u001b[49m\u001b[43m,\u001b[49m\u001b[43m \u001b[49m\u001b[38;5;241;43m*\u001b[39;49m\u001b[38;5;241;43m*\u001b[39;49m\u001b[43mkwargs\u001b[49m\u001b[43m)\u001b[49m\n",
      "File \u001b[0;32m~/anaconda3/envs/Capstone_three/lib/python3.9/site-packages/pandas/core/reshape/concat.py:381\u001b[0m, in \u001b[0;36mconcat\u001b[0;34m(objs, axis, join, ignore_index, keys, levels, names, verify_integrity, sort, copy)\u001b[0m\n\u001b[1;32m    159\u001b[0m \u001b[38;5;250m\u001b[39m\u001b[38;5;124;03m\"\"\"\u001b[39;00m\n\u001b[1;32m    160\u001b[0m \u001b[38;5;124;03mConcatenate pandas objects along a particular axis.\u001b[39;00m\n\u001b[1;32m    161\u001b[0m \n\u001b[0;32m   (...)\u001b[0m\n\u001b[1;32m    366\u001b[0m \u001b[38;5;124;03m1   3   4\u001b[39;00m\n\u001b[1;32m    367\u001b[0m \u001b[38;5;124;03m\"\"\"\u001b[39;00m\n\u001b[1;32m    368\u001b[0m op \u001b[38;5;241m=\u001b[39m _Concatenator(\n\u001b[1;32m    369\u001b[0m     objs,\n\u001b[1;32m    370\u001b[0m     axis\u001b[38;5;241m=\u001b[39maxis,\n\u001b[0;32m   (...)\u001b[0m\n\u001b[1;32m    378\u001b[0m     sort\u001b[38;5;241m=\u001b[39msort,\n\u001b[1;32m    379\u001b[0m )\n\u001b[0;32m--> 381\u001b[0m \u001b[38;5;28;01mreturn\u001b[39;00m \u001b[43mop\u001b[49m\u001b[38;5;241;43m.\u001b[39;49m\u001b[43mget_result\u001b[49m\u001b[43m(\u001b[49m\u001b[43m)\u001b[49m\n",
      "File \u001b[0;32m~/anaconda3/envs/Capstone_three/lib/python3.9/site-packages/pandas/core/reshape/concat.py:616\u001b[0m, in \u001b[0;36m_Concatenator.get_result\u001b[0;34m(self)\u001b[0m\n\u001b[1;32m    612\u001b[0m             indexers[ax] \u001b[38;5;241m=\u001b[39m obj_labels\u001b[38;5;241m.\u001b[39mget_indexer(new_labels)\n\u001b[1;32m    614\u001b[0m     mgrs_indexers\u001b[38;5;241m.\u001b[39mappend((obj\u001b[38;5;241m.\u001b[39m_mgr, indexers))\n\u001b[0;32m--> 616\u001b[0m new_data \u001b[38;5;241m=\u001b[39m \u001b[43mconcatenate_managers\u001b[49m\u001b[43m(\u001b[49m\n\u001b[1;32m    617\u001b[0m \u001b[43m    \u001b[49m\u001b[43mmgrs_indexers\u001b[49m\u001b[43m,\u001b[49m\u001b[43m \u001b[49m\u001b[38;5;28;43mself\u001b[39;49m\u001b[38;5;241;43m.\u001b[39;49m\u001b[43mnew_axes\u001b[49m\u001b[43m,\u001b[49m\u001b[43m \u001b[49m\u001b[43mconcat_axis\u001b[49m\u001b[38;5;241;43m=\u001b[39;49m\u001b[38;5;28;43mself\u001b[39;49m\u001b[38;5;241;43m.\u001b[39;49m\u001b[43mbm_axis\u001b[49m\u001b[43m,\u001b[49m\u001b[43m \u001b[49m\u001b[43mcopy\u001b[49m\u001b[38;5;241;43m=\u001b[39;49m\u001b[38;5;28;43mself\u001b[39;49m\u001b[38;5;241;43m.\u001b[39;49m\u001b[43mcopy\u001b[49m\n\u001b[1;32m    618\u001b[0m \u001b[43m\u001b[49m\u001b[43m)\u001b[49m\n\u001b[1;32m    619\u001b[0m \u001b[38;5;28;01mif\u001b[39;00m \u001b[38;5;129;01mnot\u001b[39;00m \u001b[38;5;28mself\u001b[39m\u001b[38;5;241m.\u001b[39mcopy:\n\u001b[1;32m    620\u001b[0m     new_data\u001b[38;5;241m.\u001b[39m_consolidate_inplace()\n",
      "File \u001b[0;32m~/anaconda3/envs/Capstone_three/lib/python3.9/site-packages/pandas/core/internals/concat.py:223\u001b[0m, in \u001b[0;36mconcatenate_managers\u001b[0;34m(mgrs_indexers, axes, concat_axis, copy)\u001b[0m\n\u001b[1;32m    217\u001b[0m vals \u001b[38;5;241m=\u001b[39m [ju\u001b[38;5;241m.\u001b[39mblock\u001b[38;5;241m.\u001b[39mvalues \u001b[38;5;28;01mfor\u001b[39;00m ju \u001b[38;5;129;01min\u001b[39;00m join_units]\n\u001b[1;32m    219\u001b[0m \u001b[38;5;28;01mif\u001b[39;00m \u001b[38;5;129;01mnot\u001b[39;00m blk\u001b[38;5;241m.\u001b[39mis_extension:\n\u001b[1;32m    220\u001b[0m     \u001b[38;5;66;03m# _is_uniform_join_units ensures a single dtype, so\u001b[39;00m\n\u001b[1;32m    221\u001b[0m     \u001b[38;5;66;03m#  we can use np.concatenate, which is more performant\u001b[39;00m\n\u001b[1;32m    222\u001b[0m     \u001b[38;5;66;03m#  than concat_compat\u001b[39;00m\n\u001b[0;32m--> 223\u001b[0m     values \u001b[38;5;241m=\u001b[39m \u001b[43mnp\u001b[49m\u001b[38;5;241;43m.\u001b[39;49m\u001b[43mconcatenate\u001b[49m\u001b[43m(\u001b[49m\u001b[43mvals\u001b[49m\u001b[43m,\u001b[49m\u001b[43m \u001b[49m\u001b[43maxis\u001b[49m\u001b[38;5;241;43m=\u001b[39;49m\u001b[38;5;241;43m1\u001b[39;49m\u001b[43m)\u001b[49m\n\u001b[1;32m    224\u001b[0m \u001b[38;5;28;01melse\u001b[39;00m:\n\u001b[1;32m    225\u001b[0m     \u001b[38;5;66;03m# TODO(EA2D): special-casing not needed with 2D EAs\u001b[39;00m\n\u001b[1;32m    226\u001b[0m     values \u001b[38;5;241m=\u001b[39m concat_compat(vals, axis\u001b[38;5;241m=\u001b[39m\u001b[38;5;241m1\u001b[39m)\n",
      "\u001b[0;31mKeyboardInterrupt\u001b[0m: "
     ]
    }
   ],
   "source": [
    "for i in range(1, len(df)):\n",
    "    v = (df['nlp'].loc[i]).vector\n",
    "    nv = pd.Series(v)\n",
    "    \n",
    "    vectors.loc[i] = nv "
   ]
  },
  {
   "cell_type": "code",
   "execution_count": null,
   "id": "3df2501a",
   "metadata": {
    "scrolled": true
   },
   "outputs": [],
   "source": [
    "vectors.head()"
   ]
  },
  {
   "cell_type": "code",
   "execution_count": 37,
   "id": "7561be90",
   "metadata": {},
   "outputs": [],
   "source": [
    "vectors.to_csv('/Users/butler/Documents/GitHub/projects/Capstone_three/data/interim/vectors_nlp_wo_punct_gdelt.csv')"
   ]
  },
  {
   "cell_type": "code",
   "execution_count": 33,
   "id": "9edda83c",
   "metadata": {},
   "outputs": [],
   "source": [
    "inertia_values = []\n",
    "sil_scores = []\n",
    "for i in range(2,10):\n",
    "    mod = KMeans(n_clusters=i, n_init='auto')\n",
    "    mod.fit(vectors)\n",
    "    inertia_values.append(mod.inertia_)\n",
    "    labels = mod.predict(vectors)\n",
    "    sil = silhouette_score(vectors, labels)\n",
    "    sil_scores.append(sil)\n",
    "    "
   ]
  },
  {
   "cell_type": "code",
   "execution_count": 34,
   "id": "2c9149d7",
   "metadata": {},
   "outputs": [
    {
     "data": {
      "text/plain": [
       "[10448612.0,\n",
       " 9920953.0,\n",
       " 9498128.0,\n",
       " 9214033.0,\n",
       " 8995478.0,\n",
       " 8812192.0,\n",
       " 8652274.0,\n",
       " 8537828.0]"
      ]
     },
     "execution_count": 34,
     "metadata": {},
     "output_type": "execute_result"
    }
   ],
   "source": [
    "inertia_values"
   ]
  },
  {
   "cell_type": "code",
   "execution_count": 35,
   "id": "765af63d",
   "metadata": {
    "scrolled": false
   },
   "outputs": [
    {
     "data": {
      "text/plain": [
       "[0.13500375,\n",
       " 0.07658182,\n",
       " 0.07424034,\n",
       " 0.06930633,\n",
       " 0.068085864,\n",
       " 0.060544863,\n",
       " 0.057681102,\n",
       " 0.054166585]"
      ]
     },
     "execution_count": 35,
     "metadata": {},
     "output_type": "execute_result"
    }
   ],
   "source": [
    "sil_scores"
   ]
  },
  {
   "cell_type": "code",
   "execution_count": 27,
   "id": "1bfce11c",
   "metadata": {},
   "outputs": [],
   "source": [
    "vectors = pd.read_csv('/Users/butler/Documents/GitHub/projects/Capstone_three/data/interim/vectors_nlp_wo_punct_gdelt.csv')"
   ]
  },
  {
   "cell_type": "code",
   "execution_count": 82,
   "id": "23e95934",
   "metadata": {
    "scrolled": true
   },
   "outputs": [
    {
     "data": {
      "text/html": [
       "<div>\n",
       "<style scoped>\n",
       "    .dataframe tbody tr th:only-of-type {\n",
       "        vertical-align: middle;\n",
       "    }\n",
       "\n",
       "    .dataframe tbody tr th {\n",
       "        vertical-align: top;\n",
       "    }\n",
       "\n",
       "    .dataframe thead th {\n",
       "        text-align: right;\n",
       "    }\n",
       "</style>\n",
       "<table border=\"1\" class=\"dataframe\">\n",
       "  <thead>\n",
       "    <tr style=\"text-align: right;\">\n",
       "      <th></th>\n",
       "      <th>Unnamed: 0</th>\n",
       "      <th>0</th>\n",
       "      <th>1</th>\n",
       "      <th>2</th>\n",
       "      <th>3</th>\n",
       "      <th>4</th>\n",
       "      <th>5</th>\n",
       "      <th>6</th>\n",
       "      <th>7</th>\n",
       "      <th>8</th>\n",
       "      <th>...</th>\n",
       "      <th>290</th>\n",
       "      <th>291</th>\n",
       "      <th>292</th>\n",
       "      <th>293</th>\n",
       "      <th>294</th>\n",
       "      <th>295</th>\n",
       "      <th>296</th>\n",
       "      <th>297</th>\n",
       "      <th>298</th>\n",
       "      <th>299</th>\n",
       "    </tr>\n",
       "  </thead>\n",
       "  <tbody>\n",
       "    <tr>\n",
       "      <th>0</th>\n",
       "      <td>0</td>\n",
       "      <td>-1.585038</td>\n",
       "      <td>0.776908</td>\n",
       "      <td>-2.253240</td>\n",
       "      <td>0.631305</td>\n",
       "      <td>4.596736</td>\n",
       "      <td>0.284948</td>\n",
       "      <td>0.652779</td>\n",
       "      <td>4.046989</td>\n",
       "      <td>-0.277532</td>\n",
       "      <td>...</td>\n",
       "      <td>0.096414</td>\n",
       "      <td>0.243454</td>\n",
       "      <td>0.822692</td>\n",
       "      <td>-0.346068</td>\n",
       "      <td>-2.271298</td>\n",
       "      <td>0.459620</td>\n",
       "      <td>0.336875</td>\n",
       "      <td>-1.868874</td>\n",
       "      <td>-2.114235</td>\n",
       "      <td>0.358923</td>\n",
       "    </tr>\n",
       "    <tr>\n",
       "      <th>1</th>\n",
       "      <td>1</td>\n",
       "      <td>-1.137692</td>\n",
       "      <td>2.322126</td>\n",
       "      <td>-3.371919</td>\n",
       "      <td>0.246694</td>\n",
       "      <td>1.783024</td>\n",
       "      <td>1.733879</td>\n",
       "      <td>-0.616709</td>\n",
       "      <td>3.581639</td>\n",
       "      <td>-2.359922</td>\n",
       "      <td>...</td>\n",
       "      <td>0.988488</td>\n",
       "      <td>-0.878835</td>\n",
       "      <td>0.388007</td>\n",
       "      <td>-0.393155</td>\n",
       "      <td>-1.158684</td>\n",
       "      <td>-0.008832</td>\n",
       "      <td>0.580320</td>\n",
       "      <td>-0.624207</td>\n",
       "      <td>-4.029707</td>\n",
       "      <td>2.954993</td>\n",
       "    </tr>\n",
       "    <tr>\n",
       "      <th>2</th>\n",
       "      <td>2</td>\n",
       "      <td>-2.229461</td>\n",
       "      <td>1.741505</td>\n",
       "      <td>-3.354967</td>\n",
       "      <td>0.352634</td>\n",
       "      <td>4.053811</td>\n",
       "      <td>-0.526949</td>\n",
       "      <td>0.254791</td>\n",
       "      <td>5.308504</td>\n",
       "      <td>-0.175237</td>\n",
       "      <td>...</td>\n",
       "      <td>0.817334</td>\n",
       "      <td>-0.677404</td>\n",
       "      <td>-0.080417</td>\n",
       "      <td>-0.548440</td>\n",
       "      <td>-2.242402</td>\n",
       "      <td>1.075100</td>\n",
       "      <td>1.240668</td>\n",
       "      <td>-1.518978</td>\n",
       "      <td>-3.097486</td>\n",
       "      <td>0.640433</td>\n",
       "    </tr>\n",
       "    <tr>\n",
       "      <th>3</th>\n",
       "      <td>3</td>\n",
       "      <td>-0.444676</td>\n",
       "      <td>2.887801</td>\n",
       "      <td>-2.746240</td>\n",
       "      <td>-0.910943</td>\n",
       "      <td>1.251352</td>\n",
       "      <td>0.618880</td>\n",
       "      <td>0.687496</td>\n",
       "      <td>3.574697</td>\n",
       "      <td>-2.568352</td>\n",
       "      <td>...</td>\n",
       "      <td>1.643914</td>\n",
       "      <td>-0.984649</td>\n",
       "      <td>0.360699</td>\n",
       "      <td>-1.773335</td>\n",
       "      <td>-1.172909</td>\n",
       "      <td>-1.527930</td>\n",
       "      <td>1.135828</td>\n",
       "      <td>0.220304</td>\n",
       "      <td>-3.823008</td>\n",
       "      <td>3.245398</td>\n",
       "    </tr>\n",
       "    <tr>\n",
       "      <th>4</th>\n",
       "      <td>4</td>\n",
       "      <td>-1.471585</td>\n",
       "      <td>0.892211</td>\n",
       "      <td>-3.039318</td>\n",
       "      <td>0.116040</td>\n",
       "      <td>4.098606</td>\n",
       "      <td>0.146115</td>\n",
       "      <td>-0.344206</td>\n",
       "      <td>5.607058</td>\n",
       "      <td>-0.857594</td>\n",
       "      <td>...</td>\n",
       "      <td>-0.068627</td>\n",
       "      <td>-1.390889</td>\n",
       "      <td>-1.582849</td>\n",
       "      <td>-1.197567</td>\n",
       "      <td>-2.232458</td>\n",
       "      <td>0.042879</td>\n",
       "      <td>0.568562</td>\n",
       "      <td>-0.946487</td>\n",
       "      <td>-4.293114</td>\n",
       "      <td>1.158995</td>\n",
       "    </tr>\n",
       "  </tbody>\n",
       "</table>\n",
       "<p>5 rows × 301 columns</p>\n",
       "</div>"
      ],
      "text/plain": [
       "   Unnamed: 0         0         1         2         3         4         5  \\\n",
       "0           0 -1.585038  0.776908 -2.253240  0.631305  4.596736  0.284948   \n",
       "1           1 -1.137692  2.322126 -3.371919  0.246694  1.783024  1.733879   \n",
       "2           2 -2.229461  1.741505 -3.354967  0.352634  4.053811 -0.526949   \n",
       "3           3 -0.444676  2.887801 -2.746240 -0.910943  1.251352  0.618880   \n",
       "4           4 -1.471585  0.892211 -3.039318  0.116040  4.098606  0.146115   \n",
       "\n",
       "          6         7         8  ...       290       291       292       293  \\\n",
       "0  0.652779  4.046989 -0.277532  ...  0.096414  0.243454  0.822692 -0.346068   \n",
       "1 -0.616709  3.581639 -2.359922  ...  0.988488 -0.878835  0.388007 -0.393155   \n",
       "2  0.254791  5.308504 -0.175237  ...  0.817334 -0.677404 -0.080417 -0.548440   \n",
       "3  0.687496  3.574697 -2.568352  ...  1.643914 -0.984649  0.360699 -1.773335   \n",
       "4 -0.344206  5.607058 -0.857594  ... -0.068627 -1.390889 -1.582849 -1.197567   \n",
       "\n",
       "        294       295       296       297       298       299  \n",
       "0 -2.271298  0.459620  0.336875 -1.868874 -2.114235  0.358923  \n",
       "1 -1.158684 -0.008832  0.580320 -0.624207 -4.029707  2.954993  \n",
       "2 -2.242402  1.075100  1.240668 -1.518978 -3.097486  0.640433  \n",
       "3 -1.172909 -1.527930  1.135828  0.220304 -3.823008  3.245398  \n",
       "4 -2.232458  0.042879  0.568562 -0.946487 -4.293114  1.158995  \n",
       "\n",
       "[5 rows x 301 columns]"
      ]
     },
     "execution_count": 82,
     "metadata": {},
     "output_type": "execute_result"
    }
   ],
   "source": [
    "vectors.head()"
   ]
  },
  {
   "cell_type": "code",
   "execution_count": 83,
   "id": "36b181d4",
   "metadata": {},
   "outputs": [],
   "source": [
    "vectors.drop(['Unnamed: 0'], axis=1, inplace=True)"
   ]
  },
  {
   "cell_type": "code",
   "execution_count": 84,
   "id": "17127a05",
   "metadata": {
    "scrolled": true
   },
   "outputs": [
    {
     "data": {
      "text/html": [
       "<style>#sk-container-id-4 {color: black;background-color: white;}#sk-container-id-4 pre{padding: 0;}#sk-container-id-4 div.sk-toggleable {background-color: white;}#sk-container-id-4 label.sk-toggleable__label {cursor: pointer;display: block;width: 100%;margin-bottom: 0;padding: 0.3em;box-sizing: border-box;text-align: center;}#sk-container-id-4 label.sk-toggleable__label-arrow:before {content: \"▸\";float: left;margin-right: 0.25em;color: #696969;}#sk-container-id-4 label.sk-toggleable__label-arrow:hover:before {color: black;}#sk-container-id-4 div.sk-estimator:hover label.sk-toggleable__label-arrow:before {color: black;}#sk-container-id-4 div.sk-toggleable__content {max-height: 0;max-width: 0;overflow: hidden;text-align: left;background-color: #f0f8ff;}#sk-container-id-4 div.sk-toggleable__content pre {margin: 0.2em;color: black;border-radius: 0.25em;background-color: #f0f8ff;}#sk-container-id-4 input.sk-toggleable__control:checked~div.sk-toggleable__content {max-height: 200px;max-width: 100%;overflow: auto;}#sk-container-id-4 input.sk-toggleable__control:checked~label.sk-toggleable__label-arrow:before {content: \"▾\";}#sk-container-id-4 div.sk-estimator input.sk-toggleable__control:checked~label.sk-toggleable__label {background-color: #d4ebff;}#sk-container-id-4 div.sk-label input.sk-toggleable__control:checked~label.sk-toggleable__label {background-color: #d4ebff;}#sk-container-id-4 input.sk-hidden--visually {border: 0;clip: rect(1px 1px 1px 1px);clip: rect(1px, 1px, 1px, 1px);height: 1px;margin: -1px;overflow: hidden;padding: 0;position: absolute;width: 1px;}#sk-container-id-4 div.sk-estimator {font-family: monospace;background-color: #f0f8ff;border: 1px dotted black;border-radius: 0.25em;box-sizing: border-box;margin-bottom: 0.5em;}#sk-container-id-4 div.sk-estimator:hover {background-color: #d4ebff;}#sk-container-id-4 div.sk-parallel-item::after {content: \"\";width: 100%;border-bottom: 1px solid gray;flex-grow: 1;}#sk-container-id-4 div.sk-label:hover label.sk-toggleable__label {background-color: #d4ebff;}#sk-container-id-4 div.sk-serial::before {content: \"\";position: absolute;border-left: 1px solid gray;box-sizing: border-box;top: 0;bottom: 0;left: 50%;z-index: 0;}#sk-container-id-4 div.sk-serial {display: flex;flex-direction: column;align-items: center;background-color: white;padding-right: 0.2em;padding-left: 0.2em;position: relative;}#sk-container-id-4 div.sk-item {position: relative;z-index: 1;}#sk-container-id-4 div.sk-parallel {display: flex;align-items: stretch;justify-content: center;background-color: white;position: relative;}#sk-container-id-4 div.sk-item::before, #sk-container-id-4 div.sk-parallel-item::before {content: \"\";position: absolute;border-left: 1px solid gray;box-sizing: border-box;top: 0;bottom: 0;left: 50%;z-index: -1;}#sk-container-id-4 div.sk-parallel-item {display: flex;flex-direction: column;z-index: 1;position: relative;background-color: white;}#sk-container-id-4 div.sk-parallel-item:first-child::after {align-self: flex-end;width: 50%;}#sk-container-id-4 div.sk-parallel-item:last-child::after {align-self: flex-start;width: 50%;}#sk-container-id-4 div.sk-parallel-item:only-child::after {width: 0;}#sk-container-id-4 div.sk-dashed-wrapped {border: 1px dashed gray;margin: 0 0.4em 0.5em 0.4em;box-sizing: border-box;padding-bottom: 0.4em;background-color: white;}#sk-container-id-4 div.sk-label label {font-family: monospace;font-weight: bold;display: inline-block;line-height: 1.2em;}#sk-container-id-4 div.sk-label-container {text-align: center;}#sk-container-id-4 div.sk-container {/* jupyter's `normalize.less` sets `[hidden] { display: none; }` but bootstrap.min.css set `[hidden] { display: none !important; }` so we also need the `!important` here to be able to override the default hidden behavior on the sphinx rendered scikit-learn.org. See: https://github.com/scikit-learn/scikit-learn/issues/21755 */display: inline-block !important;position: relative;}#sk-container-id-4 div.sk-text-repr-fallback {display: none;}</style><div id=\"sk-container-id-4\" class=\"sk-top-container\"><div class=\"sk-text-repr-fallback\"><pre>KMeans(n_clusters=2, n_init=&#x27;auto&#x27;)</pre><b>In a Jupyter environment, please rerun this cell to show the HTML representation or trust the notebook. <br />On GitHub, the HTML representation is unable to render, please try loading this page with nbviewer.org.</b></div><div class=\"sk-container\" hidden><div class=\"sk-item\"><div class=\"sk-estimator sk-toggleable\"><input class=\"sk-toggleable__control sk-hidden--visually\" id=\"sk-estimator-id-4\" type=\"checkbox\" checked><label for=\"sk-estimator-id-4\" class=\"sk-toggleable__label sk-toggleable__label-arrow\">KMeans</label><div class=\"sk-toggleable__content\"><pre>KMeans(n_clusters=2, n_init=&#x27;auto&#x27;)</pre></div></div></div></div></div>"
      ],
      "text/plain": [
       "KMeans(n_clusters=2, n_init='auto')"
      ]
     },
     "execution_count": 84,
     "metadata": {},
     "output_type": "execute_result"
    }
   ],
   "source": [
    "mod = KMeans(n_clusters=2, n_init='auto')\n",
    "mod.fit(vectors)"
   ]
  },
  {
   "cell_type": "code",
   "execution_count": 85,
   "id": "ed92e1d3",
   "metadata": {},
   "outputs": [],
   "source": [
    "df['labels_k_2'] = df['Show'].copy()"
   ]
  },
  {
   "cell_type": "code",
   "execution_count": 86,
   "id": "32364467",
   "metadata": {},
   "outputs": [],
   "source": [
    "df['labels_k_2'] = mod.labels_"
   ]
  },
  {
   "cell_type": "code",
   "execution_count": 87,
   "id": "1c5bc2d7",
   "metadata": {},
   "outputs": [
    {
     "data": {
      "text/html": [
       "<div>\n",
       "<style scoped>\n",
       "    .dataframe tbody tr th:only-of-type {\n",
       "        vertical-align: middle;\n",
       "    }\n",
       "\n",
       "    .dataframe tbody tr th {\n",
       "        vertical-align: top;\n",
       "    }\n",
       "\n",
       "    .dataframe thead th {\n",
       "        text-align: right;\n",
       "    }\n",
       "</style>\n",
       "<table border=\"1\" class=\"dataframe\">\n",
       "  <thead>\n",
       "    <tr style=\"text-align: right;\">\n",
       "      <th></th>\n",
       "      <th>Station</th>\n",
       "      <th>Show</th>\n",
       "      <th>text</th>\n",
       "      <th>date</th>\n",
       "      <th>text_no_punct</th>\n",
       "      <th>nlp</th>\n",
       "      <th>entities</th>\n",
       "      <th>lemmas</th>\n",
       "      <th>labels_k_2</th>\n",
       "      <th>labels_k_3</th>\n",
       "      <th>hoax</th>\n",
       "      <th>deception</th>\n",
       "      <th>fraud</th>\n",
       "      <th>con</th>\n",
       "      <th>scam</th>\n",
       "      <th>ruse</th>\n",
       "    </tr>\n",
       "  </thead>\n",
       "  <tbody>\n",
       "    <tr>\n",
       "      <th>0</th>\n",
       "      <td>MSNBC</td>\n",
       "      <td>MSNBC News Live</td>\n",
       "      <td>represesentitis passed ann traordinary piece o...</td>\n",
       "      <td>2009-07-02 18:40:30</td>\n",
       "      <td>represesentitis passed ann traordinary piece o...</td>\n",
       "      <td>(represesentitis, passed, ann, traordinary, pi...</td>\n",
       "      <td>[(represesentitis, NORP), (ann traordinary, PE...</td>\n",
       "      <td>[represesentitis, pass, ann, traordinary, piec...</td>\n",
       "      <td>0</td>\n",
       "      <td>1</td>\n",
       "      <td>False</td>\n",
       "      <td>False</td>\n",
       "      <td>False</td>\n",
       "      <td>False</td>\n",
       "      <td>False</td>\n",
       "      <td>False</td>\n",
       "    </tr>\n",
       "    <tr>\n",
       "      <th>1</th>\n",
       "      <td>MSNBC</td>\n",
       "      <td>MSNBC News Live</td>\n",
       "      <td>ma a lf headway with th climate change bill an...</td>\n",
       "      <td>2009-07-02 19:51:52</td>\n",
       "      <td>ma a lf headway with th climate change bill an...</td>\n",
       "      <td>(ma, a, lf, headway, with, th, climate, change...</td>\n",
       "      <td>[(democrats, NORP)]</td>\n",
       "      <td>[lf, headway, th, climate, change, bill, right...</td>\n",
       "      <td>1</td>\n",
       "      <td>1</td>\n",
       "      <td>False</td>\n",
       "      <td>False</td>\n",
       "      <td>False</td>\n",
       "      <td>False</td>\n",
       "      <td>False</td>\n",
       "      <td>False</td>\n",
       "    </tr>\n",
       "    <tr>\n",
       "      <th>2</th>\n",
       "      <td>FOXNEWS</td>\n",
       "      <td>Special Report With Bret Baier</td>\n",
       "      <td>they spent in the fat years money on such fash...</td>\n",
       "      <td>2009-07-02 22:54:51</td>\n",
       "      <td>they spent in the fat years money on such fash...</td>\n",
       "      <td>(they, spent, in, the, fat, years, money, on, ...</td>\n",
       "      <td>[(the fat years, DATE), (george bush, PERSON)]</td>\n",
       "      <td>[spend, fat, year, money, fashion, global, war...</td>\n",
       "      <td>0</td>\n",
       "      <td>1</td>\n",
       "      <td>False</td>\n",
       "      <td>False</td>\n",
       "      <td>False</td>\n",
       "      <td>False</td>\n",
       "      <td>False</td>\n",
       "      <td>False</td>\n",
       "    </tr>\n",
       "    <tr>\n",
       "      <th>3</th>\n",
       "      <td>FOXNEWS</td>\n",
       "      <td>The OReilly Factor</td>\n",
       "      <td>active? why not? no, we are not. nancy pelosi ...</td>\n",
       "      <td>2009-07-03 00:08:33</td>\n",
       "      <td>active why not no we are not nancy pelosi went...</td>\n",
       "      <td>(active, why, not, no, we, are, not, nancy, pe...</td>\n",
       "      <td>[(china, GPE), (chinese, NORP)]</td>\n",
       "      <td>[active, not, no, not, nancy, pelosi, go, chin...</td>\n",
       "      <td>1</td>\n",
       "      <td>1</td>\n",
       "      <td>False</td>\n",
       "      <td>False</td>\n",
       "      <td>False</td>\n",
       "      <td>False</td>\n",
       "      <td>False</td>\n",
       "      <td>False</td>\n",
       "    </tr>\n",
       "    <tr>\n",
       "      <th>4</th>\n",
       "      <td>FOXNEWS</td>\n",
       "      <td>Greta Van Susteren</td>\n",
       "      <td>representative from washington state. he went ...</td>\n",
       "      <td>2009-07-03 02:44:09</td>\n",
       "      <td>representative from washington state he went t...</td>\n",
       "      <td>(representative, from, washington, state, he, ...</td>\n",
       "      <td>[(washington, GPE), (congress, ORG)]</td>\n",
       "      <td>[representative, washington, state, go, global...</td>\n",
       "      <td>0</td>\n",
       "      <td>1</td>\n",
       "      <td>False</td>\n",
       "      <td>False</td>\n",
       "      <td>False</td>\n",
       "      <td>False</td>\n",
       "      <td>False</td>\n",
       "      <td>False</td>\n",
       "    </tr>\n",
       "  </tbody>\n",
       "</table>\n",
       "</div>"
      ],
      "text/plain": [
       "   Station                            Show  \\\n",
       "0    MSNBC                 MSNBC News Live   \n",
       "1    MSNBC                 MSNBC News Live   \n",
       "2  FOXNEWS  Special Report With Bret Baier   \n",
       "3  FOXNEWS              The OReilly Factor   \n",
       "4  FOXNEWS              Greta Van Susteren   \n",
       "\n",
       "                                                text                date  \\\n",
       "0  represesentitis passed ann traordinary piece o... 2009-07-02 18:40:30   \n",
       "1  ma a lf headway with th climate change bill an... 2009-07-02 19:51:52   \n",
       "2  they spent in the fat years money on such fash... 2009-07-02 22:54:51   \n",
       "3  active? why not? no, we are not. nancy pelosi ... 2009-07-03 00:08:33   \n",
       "4  representative from washington state. he went ... 2009-07-03 02:44:09   \n",
       "\n",
       "                                       text_no_punct  \\\n",
       "0  represesentitis passed ann traordinary piece o...   \n",
       "1  ma a lf headway with th climate change bill an...   \n",
       "2  they spent in the fat years money on such fash...   \n",
       "3  active why not no we are not nancy pelosi went...   \n",
       "4  representative from washington state he went t...   \n",
       "\n",
       "                                                 nlp  \\\n",
       "0  (represesentitis, passed, ann, traordinary, pi...   \n",
       "1  (ma, a, lf, headway, with, th, climate, change...   \n",
       "2  (they, spent, in, the, fat, years, money, on, ...   \n",
       "3  (active, why, not, no, we, are, not, nancy, pe...   \n",
       "4  (representative, from, washington, state, he, ...   \n",
       "\n",
       "                                            entities  \\\n",
       "0  [(represesentitis, NORP), (ann traordinary, PE...   \n",
       "1                                [(democrats, NORP)]   \n",
       "2     [(the fat years, DATE), (george bush, PERSON)]   \n",
       "3                    [(china, GPE), (chinese, NORP)]   \n",
       "4               [(washington, GPE), (congress, ORG)]   \n",
       "\n",
       "                                              lemmas  labels_k_2  labels_k_3  \\\n",
       "0  [represesentitis, pass, ann, traordinary, piec...           0           1   \n",
       "1  [lf, headway, th, climate, change, bill, right...           1           1   \n",
       "2  [spend, fat, year, money, fashion, global, war...           0           1   \n",
       "3  [active, not, no, not, nancy, pelosi, go, chin...           1           1   \n",
       "4  [representative, washington, state, go, global...           0           1   \n",
       "\n",
       "    hoax deception  fraud    con   scam   ruse  \n",
       "0  False     False  False  False  False  False  \n",
       "1  False     False  False  False  False  False  \n",
       "2  False     False  False  False  False  False  \n",
       "3  False     False  False  False  False  False  \n",
       "4  False     False  False  False  False  False  "
      ]
     },
     "execution_count": 87,
     "metadata": {},
     "output_type": "execute_result"
    }
   ],
   "source": [
    "df.head()"
   ]
  },
  {
   "cell_type": "code",
   "execution_count": 88,
   "id": "cab73c1e",
   "metadata": {},
   "outputs": [
    {
     "data": {
      "text/html": [
       "<style>#sk-container-id-5 {color: black;background-color: white;}#sk-container-id-5 pre{padding: 0;}#sk-container-id-5 div.sk-toggleable {background-color: white;}#sk-container-id-5 label.sk-toggleable__label {cursor: pointer;display: block;width: 100%;margin-bottom: 0;padding: 0.3em;box-sizing: border-box;text-align: center;}#sk-container-id-5 label.sk-toggleable__label-arrow:before {content: \"▸\";float: left;margin-right: 0.25em;color: #696969;}#sk-container-id-5 label.sk-toggleable__label-arrow:hover:before {color: black;}#sk-container-id-5 div.sk-estimator:hover label.sk-toggleable__label-arrow:before {color: black;}#sk-container-id-5 div.sk-toggleable__content {max-height: 0;max-width: 0;overflow: hidden;text-align: left;background-color: #f0f8ff;}#sk-container-id-5 div.sk-toggleable__content pre {margin: 0.2em;color: black;border-radius: 0.25em;background-color: #f0f8ff;}#sk-container-id-5 input.sk-toggleable__control:checked~div.sk-toggleable__content {max-height: 200px;max-width: 100%;overflow: auto;}#sk-container-id-5 input.sk-toggleable__control:checked~label.sk-toggleable__label-arrow:before {content: \"▾\";}#sk-container-id-5 div.sk-estimator input.sk-toggleable__control:checked~label.sk-toggleable__label {background-color: #d4ebff;}#sk-container-id-5 div.sk-label input.sk-toggleable__control:checked~label.sk-toggleable__label {background-color: #d4ebff;}#sk-container-id-5 input.sk-hidden--visually {border: 0;clip: rect(1px 1px 1px 1px);clip: rect(1px, 1px, 1px, 1px);height: 1px;margin: -1px;overflow: hidden;padding: 0;position: absolute;width: 1px;}#sk-container-id-5 div.sk-estimator {font-family: monospace;background-color: #f0f8ff;border: 1px dotted black;border-radius: 0.25em;box-sizing: border-box;margin-bottom: 0.5em;}#sk-container-id-5 div.sk-estimator:hover {background-color: #d4ebff;}#sk-container-id-5 div.sk-parallel-item::after {content: \"\";width: 100%;border-bottom: 1px solid gray;flex-grow: 1;}#sk-container-id-5 div.sk-label:hover label.sk-toggleable__label {background-color: #d4ebff;}#sk-container-id-5 div.sk-serial::before {content: \"\";position: absolute;border-left: 1px solid gray;box-sizing: border-box;top: 0;bottom: 0;left: 50%;z-index: 0;}#sk-container-id-5 div.sk-serial {display: flex;flex-direction: column;align-items: center;background-color: white;padding-right: 0.2em;padding-left: 0.2em;position: relative;}#sk-container-id-5 div.sk-item {position: relative;z-index: 1;}#sk-container-id-5 div.sk-parallel {display: flex;align-items: stretch;justify-content: center;background-color: white;position: relative;}#sk-container-id-5 div.sk-item::before, #sk-container-id-5 div.sk-parallel-item::before {content: \"\";position: absolute;border-left: 1px solid gray;box-sizing: border-box;top: 0;bottom: 0;left: 50%;z-index: -1;}#sk-container-id-5 div.sk-parallel-item {display: flex;flex-direction: column;z-index: 1;position: relative;background-color: white;}#sk-container-id-5 div.sk-parallel-item:first-child::after {align-self: flex-end;width: 50%;}#sk-container-id-5 div.sk-parallel-item:last-child::after {align-self: flex-start;width: 50%;}#sk-container-id-5 div.sk-parallel-item:only-child::after {width: 0;}#sk-container-id-5 div.sk-dashed-wrapped {border: 1px dashed gray;margin: 0 0.4em 0.5em 0.4em;box-sizing: border-box;padding-bottom: 0.4em;background-color: white;}#sk-container-id-5 div.sk-label label {font-family: monospace;font-weight: bold;display: inline-block;line-height: 1.2em;}#sk-container-id-5 div.sk-label-container {text-align: center;}#sk-container-id-5 div.sk-container {/* jupyter's `normalize.less` sets `[hidden] { display: none; }` but bootstrap.min.css set `[hidden] { display: none !important; }` so we also need the `!important` here to be able to override the default hidden behavior on the sphinx rendered scikit-learn.org. See: https://github.com/scikit-learn/scikit-learn/issues/21755 */display: inline-block !important;position: relative;}#sk-container-id-5 div.sk-text-repr-fallback {display: none;}</style><div id=\"sk-container-id-5\" class=\"sk-top-container\"><div class=\"sk-text-repr-fallback\"><pre>KMeans(n_clusters=3, n_init=&#x27;auto&#x27;)</pre><b>In a Jupyter environment, please rerun this cell to show the HTML representation or trust the notebook. <br />On GitHub, the HTML representation is unable to render, please try loading this page with nbviewer.org.</b></div><div class=\"sk-container\" hidden><div class=\"sk-item\"><div class=\"sk-estimator sk-toggleable\"><input class=\"sk-toggleable__control sk-hidden--visually\" id=\"sk-estimator-id-5\" type=\"checkbox\" checked><label for=\"sk-estimator-id-5\" class=\"sk-toggleable__label sk-toggleable__label-arrow\">KMeans</label><div class=\"sk-toggleable__content\"><pre>KMeans(n_clusters=3, n_init=&#x27;auto&#x27;)</pre></div></div></div></div></div>"
      ],
      "text/plain": [
       "KMeans(n_clusters=3, n_init='auto')"
      ]
     },
     "execution_count": 88,
     "metadata": {},
     "output_type": "execute_result"
    }
   ],
   "source": [
    "mod = KMeans(n_clusters=3, n_init='auto')\n",
    "mod.fit(vectors)"
   ]
  },
  {
   "cell_type": "code",
   "execution_count": 89,
   "id": "a199d051",
   "metadata": {},
   "outputs": [],
   "source": [
    "df['labels_k_3'] = df['Show'].copy()"
   ]
  },
  {
   "cell_type": "code",
   "execution_count": 90,
   "id": "18822910",
   "metadata": {},
   "outputs": [],
   "source": [
    "df['labels_k_3'] = mod.labels_"
   ]
  },
  {
   "cell_type": "code",
   "execution_count": 91,
   "id": "ba44d74f",
   "metadata": {},
   "outputs": [
    {
     "data": {
      "text/html": [
       "<div>\n",
       "<style scoped>\n",
       "    .dataframe tbody tr th:only-of-type {\n",
       "        vertical-align: middle;\n",
       "    }\n",
       "\n",
       "    .dataframe tbody tr th {\n",
       "        vertical-align: top;\n",
       "    }\n",
       "\n",
       "    .dataframe thead th {\n",
       "        text-align: right;\n",
       "    }\n",
       "</style>\n",
       "<table border=\"1\" class=\"dataframe\">\n",
       "  <thead>\n",
       "    <tr style=\"text-align: right;\">\n",
       "      <th></th>\n",
       "      <th>Station</th>\n",
       "      <th>Show</th>\n",
       "      <th>text</th>\n",
       "      <th>date</th>\n",
       "      <th>text_no_punct</th>\n",
       "      <th>nlp</th>\n",
       "      <th>entities</th>\n",
       "      <th>lemmas</th>\n",
       "      <th>labels_k_2</th>\n",
       "      <th>labels_k_3</th>\n",
       "      <th>hoax</th>\n",
       "      <th>deception</th>\n",
       "      <th>fraud</th>\n",
       "      <th>con</th>\n",
       "      <th>scam</th>\n",
       "      <th>ruse</th>\n",
       "    </tr>\n",
       "  </thead>\n",
       "  <tbody>\n",
       "    <tr>\n",
       "      <th>0</th>\n",
       "      <td>MSNBC</td>\n",
       "      <td>MSNBC News Live</td>\n",
       "      <td>represesentitis passed ann traordinary piece o...</td>\n",
       "      <td>2009-07-02 18:40:30</td>\n",
       "      <td>represesentitis passed ann traordinary piece o...</td>\n",
       "      <td>(represesentitis, passed, ann, traordinary, pi...</td>\n",
       "      <td>[(represesentitis, NORP), (ann traordinary, PE...</td>\n",
       "      <td>[represesentitis, pass, ann, traordinary, piec...</td>\n",
       "      <td>0</td>\n",
       "      <td>2</td>\n",
       "      <td>False</td>\n",
       "      <td>False</td>\n",
       "      <td>False</td>\n",
       "      <td>False</td>\n",
       "      <td>False</td>\n",
       "      <td>False</td>\n",
       "    </tr>\n",
       "    <tr>\n",
       "      <th>1</th>\n",
       "      <td>MSNBC</td>\n",
       "      <td>MSNBC News Live</td>\n",
       "      <td>ma a lf headway with th climate change bill an...</td>\n",
       "      <td>2009-07-02 19:51:52</td>\n",
       "      <td>ma a lf headway with th climate change bill an...</td>\n",
       "      <td>(ma, a, lf, headway, with, th, climate, change...</td>\n",
       "      <td>[(democrats, NORP)]</td>\n",
       "      <td>[lf, headway, th, climate, change, bill, right...</td>\n",
       "      <td>1</td>\n",
       "      <td>1</td>\n",
       "      <td>False</td>\n",
       "      <td>False</td>\n",
       "      <td>False</td>\n",
       "      <td>False</td>\n",
       "      <td>False</td>\n",
       "      <td>False</td>\n",
       "    </tr>\n",
       "    <tr>\n",
       "      <th>2</th>\n",
       "      <td>FOXNEWS</td>\n",
       "      <td>Special Report With Bret Baier</td>\n",
       "      <td>they spent in the fat years money on such fash...</td>\n",
       "      <td>2009-07-02 22:54:51</td>\n",
       "      <td>they spent in the fat years money on such fash...</td>\n",
       "      <td>(they, spent, in, the, fat, years, money, on, ...</td>\n",
       "      <td>[(the fat years, DATE), (george bush, PERSON)]</td>\n",
       "      <td>[spend, fat, year, money, fashion, global, war...</td>\n",
       "      <td>0</td>\n",
       "      <td>2</td>\n",
       "      <td>False</td>\n",
       "      <td>False</td>\n",
       "      <td>False</td>\n",
       "      <td>False</td>\n",
       "      <td>False</td>\n",
       "      <td>False</td>\n",
       "    </tr>\n",
       "    <tr>\n",
       "      <th>3</th>\n",
       "      <td>FOXNEWS</td>\n",
       "      <td>The OReilly Factor</td>\n",
       "      <td>active? why not? no, we are not. nancy pelosi ...</td>\n",
       "      <td>2009-07-03 00:08:33</td>\n",
       "      <td>active why not no we are not nancy pelosi went...</td>\n",
       "      <td>(active, why, not, no, we, are, not, nancy, pe...</td>\n",
       "      <td>[(china, GPE), (chinese, NORP)]</td>\n",
       "      <td>[active, not, no, not, nancy, pelosi, go, chin...</td>\n",
       "      <td>1</td>\n",
       "      <td>0</td>\n",
       "      <td>False</td>\n",
       "      <td>False</td>\n",
       "      <td>False</td>\n",
       "      <td>False</td>\n",
       "      <td>False</td>\n",
       "      <td>False</td>\n",
       "    </tr>\n",
       "    <tr>\n",
       "      <th>4</th>\n",
       "      <td>FOXNEWS</td>\n",
       "      <td>Greta Van Susteren</td>\n",
       "      <td>representative from washington state. he went ...</td>\n",
       "      <td>2009-07-03 02:44:09</td>\n",
       "      <td>representative from washington state he went t...</td>\n",
       "      <td>(representative, from, washington, state, he, ...</td>\n",
       "      <td>[(washington, GPE), (congress, ORG)]</td>\n",
       "      <td>[representative, washington, state, go, global...</td>\n",
       "      <td>0</td>\n",
       "      <td>2</td>\n",
       "      <td>False</td>\n",
       "      <td>False</td>\n",
       "      <td>False</td>\n",
       "      <td>False</td>\n",
       "      <td>False</td>\n",
       "      <td>False</td>\n",
       "    </tr>\n",
       "  </tbody>\n",
       "</table>\n",
       "</div>"
      ],
      "text/plain": [
       "   Station                            Show  \\\n",
       "0    MSNBC                 MSNBC News Live   \n",
       "1    MSNBC                 MSNBC News Live   \n",
       "2  FOXNEWS  Special Report With Bret Baier   \n",
       "3  FOXNEWS              The OReilly Factor   \n",
       "4  FOXNEWS              Greta Van Susteren   \n",
       "\n",
       "                                                text                date  \\\n",
       "0  represesentitis passed ann traordinary piece o... 2009-07-02 18:40:30   \n",
       "1  ma a lf headway with th climate change bill an... 2009-07-02 19:51:52   \n",
       "2  they spent in the fat years money on such fash... 2009-07-02 22:54:51   \n",
       "3  active? why not? no, we are not. nancy pelosi ... 2009-07-03 00:08:33   \n",
       "4  representative from washington state. he went ... 2009-07-03 02:44:09   \n",
       "\n",
       "                                       text_no_punct  \\\n",
       "0  represesentitis passed ann traordinary piece o...   \n",
       "1  ma a lf headway with th climate change bill an...   \n",
       "2  they spent in the fat years money on such fash...   \n",
       "3  active why not no we are not nancy pelosi went...   \n",
       "4  representative from washington state he went t...   \n",
       "\n",
       "                                                 nlp  \\\n",
       "0  (represesentitis, passed, ann, traordinary, pi...   \n",
       "1  (ma, a, lf, headway, with, th, climate, change...   \n",
       "2  (they, spent, in, the, fat, years, money, on, ...   \n",
       "3  (active, why, not, no, we, are, not, nancy, pe...   \n",
       "4  (representative, from, washington, state, he, ...   \n",
       "\n",
       "                                            entities  \\\n",
       "0  [(represesentitis, NORP), (ann traordinary, PE...   \n",
       "1                                [(democrats, NORP)]   \n",
       "2     [(the fat years, DATE), (george bush, PERSON)]   \n",
       "3                    [(china, GPE), (chinese, NORP)]   \n",
       "4               [(washington, GPE), (congress, ORG)]   \n",
       "\n",
       "                                              lemmas  labels_k_2  labels_k_3  \\\n",
       "0  [represesentitis, pass, ann, traordinary, piec...           0           2   \n",
       "1  [lf, headway, th, climate, change, bill, right...           1           1   \n",
       "2  [spend, fat, year, money, fashion, global, war...           0           2   \n",
       "3  [active, not, no, not, nancy, pelosi, go, chin...           1           0   \n",
       "4  [representative, washington, state, go, global...           0           2   \n",
       "\n",
       "    hoax deception  fraud    con   scam   ruse  \n",
       "0  False     False  False  False  False  False  \n",
       "1  False     False  False  False  False  False  \n",
       "2  False     False  False  False  False  False  \n",
       "3  False     False  False  False  False  False  \n",
       "4  False     False  False  False  False  False  "
      ]
     },
     "execution_count": 91,
     "metadata": {},
     "output_type": "execute_result"
    }
   ],
   "source": [
    "df.head()"
   ]
  },
  {
   "cell_type": "code",
   "execution_count": 92,
   "id": "6ef50abe",
   "metadata": {},
   "outputs": [
    {
     "data": {
      "text/plain": [
       "Text(0, 0.5, 'Number Data Points')"
      ]
     },
     "execution_count": 92,
     "metadata": {},
     "output_type": "execute_result"
    },
    {
     "data": {
      "image/png": "[encoded data removed]",
      "text/plain": [
       "<Figure size 640x480 with 1 Axes>"
      ]
     },
     "metadata": {},
     "output_type": "display_data"
    }
   ],
   "source": [
    "ax = sns.barplot(x=[0,1,2], y=np.bincount(mod.labels_))\n",
    "ax.set_title('Number of Data Points in Each Cluster in KMeans with K = 3')\n",
    "ax.set_xlabel('Cluster')\n",
    "ax.set_ylabel('Number Data Points')"
   ]
  },
  {
   "cell_type": "code",
   "execution_count": 93,
   "id": "5b5d37ae",
   "metadata": {
    "scrolled": true
   },
   "outputs": [
    {
     "name": "stderr",
     "output_type": "stream",
     "text": [
      "/var/folders/nv/lggm200n09vgfy5n8_6lcz6c0000gn/T/ipykernel_3193/2896022161.py:7: SettingWithCopyWarning: \n",
      "A value is trying to be set on a copy of a slice from a DataFrame\n",
      "\n",
      "See the caveats in the documentation: https://pandas.pydata.org/pandas-docs/stable/user_guide/indexing.html#returning-a-view-versus-a-copy\n",
      "  df['hoax'].loc[i] = False\n",
      "/var/folders/nv/lggm200n09vgfy5n8_6lcz6c0000gn/T/ipykernel_3193/2896022161.py:5: SettingWithCopyWarning: \n",
      "A value is trying to be set on a copy of a slice from a DataFrame\n",
      "\n",
      "See the caveats in the documentation: https://pandas.pydata.org/pandas-docs/stable/user_guide/indexing.html#returning-a-view-versus-a-copy\n",
      "  df['hoax'].loc[i] = True\n"
     ]
    }
   ],
   "source": [
    "df['hoax'] = df['Show'].copy()\n",
    "for i in range(len(df)):\n",
    "    if 'hoax' in df['lemmas'].loc[i]:\n",
    "        \n",
    "        df['hoax'].loc[i] = True\n",
    "    else:\n",
    "        df['hoax'].loc[i] = False"
   ]
  },
  {
   "cell_type": "code",
   "execution_count": 94,
   "id": "7ebb8aa0",
   "metadata": {},
   "outputs": [
    {
     "name": "stderr",
     "output_type": "stream",
     "text": [
      "/var/folders/nv/lggm200n09vgfy5n8_6lcz6c0000gn/T/ipykernel_3193/643027619.py:7: SettingWithCopyWarning: \n",
      "A value is trying to be set on a copy of a slice from a DataFrame\n",
      "\n",
      "See the caveats in the documentation: https://pandas.pydata.org/pandas-docs/stable/user_guide/indexing.html#returning-a-view-versus-a-copy\n",
      "  df['deception'].loc[i] = False\n",
      "/var/folders/nv/lggm200n09vgfy5n8_6lcz6c0000gn/T/ipykernel_3193/643027619.py:5: SettingWithCopyWarning: \n",
      "A value is trying to be set on a copy of a slice from a DataFrame\n",
      "\n",
      "See the caveats in the documentation: https://pandas.pydata.org/pandas-docs/stable/user_guide/indexing.html#returning-a-view-versus-a-copy\n",
      "  df['deception'].loc[i] = True\n"
     ]
    }
   ],
   "source": [
    "df['deception'] = df['Show'].copy()\n",
    "for i in range(len(df)):\n",
    "    if 'deception' in df['lemmas'].loc[i]:\n",
    "        \n",
    "        df['deception'].loc[i] = True\n",
    "    else:\n",
    "        df['deception'].loc[i] = False"
   ]
  },
  {
   "cell_type": "code",
   "execution_count": 95,
   "id": "3b72da60",
   "metadata": {},
   "outputs": [
    {
     "name": "stderr",
     "output_type": "stream",
     "text": [
      "/var/folders/nv/lggm200n09vgfy5n8_6lcz6c0000gn/T/ipykernel_3193/3788480606.py:7: SettingWithCopyWarning: \n",
      "A value is trying to be set on a copy of a slice from a DataFrame\n",
      "\n",
      "See the caveats in the documentation: https://pandas.pydata.org/pandas-docs/stable/user_guide/indexing.html#returning-a-view-versus-a-copy\n",
      "  df['fraud'].loc[i] = False\n",
      "/var/folders/nv/lggm200n09vgfy5n8_6lcz6c0000gn/T/ipykernel_3193/3788480606.py:5: SettingWithCopyWarning: \n",
      "A value is trying to be set on a copy of a slice from a DataFrame\n",
      "\n",
      "See the caveats in the documentation: https://pandas.pydata.org/pandas-docs/stable/user_guide/indexing.html#returning-a-view-versus-a-copy\n",
      "  df['fraud'].loc[i] = True\n"
     ]
    }
   ],
   "source": [
    "df['fraud'] = df['Show'].copy()\n",
    "for i in range(len(df)):\n",
    "    if 'fraud' in df['lemmas'].loc[i]:\n",
    "        \n",
    "        df['fraud'].loc[i] = True\n",
    "    else:\n",
    "        df['fraud'].loc[i] = False"
   ]
  },
  {
   "cell_type": "code",
   "execution_count": 135,
   "id": "5374ab6e",
   "metadata": {},
   "outputs": [],
   "source": [
    "fraud_list = df[df['fraud'] == True].index.to_list()"
   ]
  },
  {
   "cell_type": "code",
   "execution_count": 136,
   "id": "d9a4ff10",
   "metadata": {},
   "outputs": [],
   "source": [
    "hoax_list = df[df['hoax'] == True].index.to_list()"
   ]
  },
  {
   "cell_type": "code",
   "execution_count": 137,
   "id": "85ea0185",
   "metadata": {},
   "outputs": [],
   "source": [
    "deception_list = df[df['deception'] == True].index.to_list()"
   ]
  },
  {
   "cell_type": "code",
   "execution_count": 138,
   "id": "62112e16",
   "metadata": {},
   "outputs": [],
   "source": [
    "lst_0 = df[df['labels_k_3'] == 0].index.to_list()"
   ]
  },
  {
   "cell_type": "code",
   "execution_count": 139,
   "id": "7425d9a1",
   "metadata": {},
   "outputs": [],
   "source": [
    "lst_1 = df[df['labels_k_3'] == 1].index.to_list()"
   ]
  },
  {
   "cell_type": "code",
   "execution_count": 140,
   "id": "7ff67607",
   "metadata": {},
   "outputs": [],
   "source": [
    "lst_2 = df[df['labels_k_3'] == 2].index.to_list()"
   ]
  },
  {
   "cell_type": "code",
   "execution_count": 141,
   "id": "1dc99a40",
   "metadata": {},
   "outputs": [],
   "source": [
    "hoax_0 = [x for x in lst_0 if x in hoax_list]"
   ]
  },
  {
   "cell_type": "code",
   "execution_count": 142,
   "id": "e3e8970b",
   "metadata": {},
   "outputs": [
    {
     "data": {
      "text/plain": [
       "356"
      ]
     },
     "execution_count": 142,
     "metadata": {},
     "output_type": "execute_result"
    }
   ],
   "source": [
    "len(hoax_0)"
   ]
  },
  {
   "cell_type": "code",
   "execution_count": 143,
   "id": "fc1b2a13",
   "metadata": {},
   "outputs": [],
   "source": [
    "hoax_1 = [x for x in lst_1 if x in hoax_list]"
   ]
  },
  {
   "cell_type": "code",
   "execution_count": 144,
   "id": "3698eaea",
   "metadata": {},
   "outputs": [
    {
     "data": {
      "text/plain": [
       "696"
      ]
     },
     "execution_count": 144,
     "metadata": {},
     "output_type": "execute_result"
    }
   ],
   "source": [
    "len(hoax_1)"
   ]
  },
  {
   "cell_type": "code",
   "execution_count": 145,
   "id": "5ce9cc75",
   "metadata": {},
   "outputs": [],
   "source": [
    "hoax_2 = [x for x in lst_2 if x in hoax_list]"
   ]
  },
  {
   "cell_type": "code",
   "execution_count": 146,
   "id": "c52dca7d",
   "metadata": {},
   "outputs": [
    {
     "data": {
      "text/plain": [
       "433"
      ]
     },
     "execution_count": 146,
     "metadata": {},
     "output_type": "execute_result"
    }
   ],
   "source": [
    "len(hoax_2)"
   ]
  },
  {
   "cell_type": "code",
   "execution_count": 147,
   "id": "93d95f2b",
   "metadata": {},
   "outputs": [],
   "source": [
    "fraud_0 = [x for x in lst_0 if x in fraud_list]"
   ]
  },
  {
   "cell_type": "code",
   "execution_count": 148,
   "id": "3239de07",
   "metadata": {},
   "outputs": [
    {
     "data": {
      "text/plain": [
       "29"
      ]
     },
     "execution_count": 148,
     "metadata": {},
     "output_type": "execute_result"
    }
   ],
   "source": [
    "len(fraud_0)"
   ]
  },
  {
   "cell_type": "code",
   "execution_count": 149,
   "id": "6953b0bd",
   "metadata": {},
   "outputs": [],
   "source": [
    "fraud_1 = [x for x in lst_1 if x in fraud_list]"
   ]
  },
  {
   "cell_type": "code",
   "execution_count": 150,
   "id": "11ae33e7",
   "metadata": {},
   "outputs": [
    {
     "data": {
      "text/plain": [
       "44"
      ]
     },
     "execution_count": 150,
     "metadata": {},
     "output_type": "execute_result"
    }
   ],
   "source": [
    "len(fraud_1)"
   ]
  },
  {
   "cell_type": "code",
   "execution_count": 151,
   "id": "8c7bdf60",
   "metadata": {},
   "outputs": [],
   "source": [
    "fraud_2 = [x for x in lst_0 if x in fraud_list]"
   ]
  },
  {
   "cell_type": "code",
   "execution_count": 152,
   "id": "f24bccbb",
   "metadata": {},
   "outputs": [
    {
     "data": {
      "text/plain": [
       "29"
      ]
     },
     "execution_count": 152,
     "metadata": {},
     "output_type": "execute_result"
    }
   ],
   "source": [
    "len(fraud_2)"
   ]
  },
  {
   "cell_type": "code",
   "execution_count": 153,
   "id": "bb859bf5",
   "metadata": {
    "scrolled": true
   },
   "outputs": [
    {
     "name": "stdout",
     "output_type": "stream",
     "text": [
      "<class 'pandas.core.frame.DataFrame'>\n",
      "RangeIndex: 71598 entries, 0 to 71597\n",
      "Data columns (total 16 columns):\n",
      " #   Column         Non-Null Count  Dtype         \n",
      "---  ------         --------------  -----         \n",
      " 0   Station        71598 non-null  object        \n",
      " 1   Show           71577 non-null  object        \n",
      " 2   text           71598 non-null  object        \n",
      " 3   date           71598 non-null  datetime64[ns]\n",
      " 4   text_no_punct  71598 non-null  object        \n",
      " 5   nlp            71598 non-null  object        \n",
      " 6   entities       71598 non-null  object        \n",
      " 7   lemmas         71598 non-null  object        \n",
      " 8   labels_k_2     71598 non-null  int32         \n",
      " 9   labels_k_3     71598 non-null  int32         \n",
      " 10  hoax           71598 non-null  object        \n",
      " 11  deception      71598 non-null  object        \n",
      " 12  fraud          71598 non-null  object        \n",
      " 13  con            71598 non-null  object        \n",
      " 14  scam           71598 non-null  object        \n",
      " 15  ruse           71598 non-null  object        \n",
      "dtypes: datetime64[ns](1), int32(2), object(13)\n",
      "memory usage: 8.2+ MB\n"
     ]
    }
   ],
   "source": [
    "df.info()"
   ]
  },
  {
   "cell_type": "code",
   "execution_count": 154,
   "id": "c0fcfeb2",
   "metadata": {
    "scrolled": true
   },
   "outputs": [
    {
     "name": "stderr",
     "output_type": "stream",
     "text": [
      "/var/folders/nv/lggm200n09vgfy5n8_6lcz6c0000gn/T/ipykernel_3193/4142467073.py:7: SettingWithCopyWarning: \n",
      "A value is trying to be set on a copy of a slice from a DataFrame\n",
      "\n",
      "See the caveats in the documentation: https://pandas.pydata.org/pandas-docs/stable/user_guide/indexing.html#returning-a-view-versus-a-copy\n",
      "  df['con'].loc[i] = False\n",
      "/var/folders/nv/lggm200n09vgfy5n8_6lcz6c0000gn/T/ipykernel_3193/4142467073.py:5: SettingWithCopyWarning: \n",
      "A value is trying to be set on a copy of a slice from a DataFrame\n",
      "\n",
      "See the caveats in the documentation: https://pandas.pydata.org/pandas-docs/stable/user_guide/indexing.html#returning-a-view-versus-a-copy\n",
      "  df['con'].loc[i] = True\n"
     ]
    }
   ],
   "source": [
    "df['con'] = df['Show'].copy()\n",
    "for i in range(len(df)):\n",
    "    if 'con' in df['lemmas'].loc[i]:\n",
    "        \n",
    "        df['con'].loc[i] = True\n",
    "    else:\n",
    "        df['con'].loc[i] = False"
   ]
  },
  {
   "cell_type": "code",
   "execution_count": 155,
   "id": "cdfc7c48",
   "metadata": {},
   "outputs": [],
   "source": [
    "con_list = df[df['con'] == True].index.to_list()"
   ]
  },
  {
   "cell_type": "code",
   "execution_count": 156,
   "id": "bb692c5f",
   "metadata": {},
   "outputs": [],
   "source": [
    "con_0 = [x for x in lst_0 if x in con_list]"
   ]
  },
  {
   "cell_type": "code",
   "execution_count": 157,
   "id": "b9970e6e",
   "metadata": {},
   "outputs": [
    {
     "data": {
      "text/plain": [
       "29"
      ]
     },
     "execution_count": 157,
     "metadata": {},
     "output_type": "execute_result"
    }
   ],
   "source": [
    "len(con_0)"
   ]
  },
  {
   "cell_type": "code",
   "execution_count": 158,
   "id": "9ab5eb06",
   "metadata": {},
   "outputs": [],
   "source": [
    "con_1 = [x for x in lst_1 if x in con_list]"
   ]
  },
  {
   "cell_type": "code",
   "execution_count": 159,
   "id": "1c7aeaaa",
   "metadata": {},
   "outputs": [
    {
     "data": {
      "text/plain": [
       "29"
      ]
     },
     "execution_count": 159,
     "metadata": {},
     "output_type": "execute_result"
    }
   ],
   "source": [
    "len(con_1)"
   ]
  },
  {
   "cell_type": "code",
   "execution_count": 160,
   "id": "59fcef5a",
   "metadata": {},
   "outputs": [],
   "source": [
    "con_2 = [x for x in lst_2 if x in con_list]"
   ]
  },
  {
   "cell_type": "code",
   "execution_count": 120,
   "id": "7e9694e5",
   "metadata": {},
   "outputs": [
    {
     "data": {
      "text/plain": [
       "20"
      ]
     },
     "execution_count": 120,
     "metadata": {},
     "output_type": "execute_result"
    }
   ],
   "source": [
    "len(con_2)"
   ]
  },
  {
   "cell_type": "code",
   "execution_count": 62,
   "id": "7fbaefc7",
   "metadata": {
    "scrolled": false
   },
   "outputs": [
    {
     "name": "stderr",
     "output_type": "stream",
     "text": [
      "/var/folders/nv/lggm200n09vgfy5n8_6lcz6c0000gn/T/ipykernel_3193/3041829891.py:7: SettingWithCopyWarning: \n",
      "A value is trying to be set on a copy of a slice from a DataFrame\n",
      "\n",
      "See the caveats in the documentation: https://pandas.pydata.org/pandas-docs/stable/user_guide/indexing.html#returning-a-view-versus-a-copy\n",
      "  df['scam'].loc[i] = False\n",
      "/var/folders/nv/lggm200n09vgfy5n8_6lcz6c0000gn/T/ipykernel_3193/3041829891.py:5: SettingWithCopyWarning: \n",
      "A value is trying to be set on a copy of a slice from a DataFrame\n",
      "\n",
      "See the caveats in the documentation: https://pandas.pydata.org/pandas-docs/stable/user_guide/indexing.html#returning-a-view-versus-a-copy\n",
      "  df['scam'].loc[i] = True\n"
     ]
    }
   ],
   "source": [
    "df['scam'] = df['Show'].copy()\n",
    "for i in range(len(df)):\n",
    "    if 'scam' in df['lemmas'].loc[i]:\n",
    "        \n",
    "        df['scam'].loc[i] = True\n",
    "    else:\n",
    "        df['scam'].loc[i] = False"
   ]
  },
  {
   "cell_type": "code",
   "execution_count": 69,
   "id": "fdafef31",
   "metadata": {},
   "outputs": [],
   "source": [
    "scam_list = df[df['scam'] == True].index.to_list()"
   ]
  },
  {
   "cell_type": "code",
   "execution_count": 121,
   "id": "232be183",
   "metadata": {},
   "outputs": [],
   "source": [
    "scam_0 = [x for x in lst_0 if x in scam_list]"
   ]
  },
  {
   "cell_type": "code",
   "execution_count": 123,
   "id": "82bdb8fe",
   "metadata": {},
   "outputs": [
    {
     "data": {
      "text/plain": [
       "13"
      ]
     },
     "execution_count": 123,
     "metadata": {},
     "output_type": "execute_result"
    }
   ],
   "source": [
    "len(scam_0)"
   ]
  },
  {
   "cell_type": "code",
   "execution_count": 124,
   "id": "e7d5de0a",
   "metadata": {},
   "outputs": [],
   "source": [
    "scam_1 = [x for x in lst_1 if x in scam_list]"
   ]
  },
  {
   "cell_type": "code",
   "execution_count": 125,
   "id": "c8102389",
   "metadata": {},
   "outputs": [
    {
     "data": {
      "text/plain": [
       "29"
      ]
     },
     "execution_count": 125,
     "metadata": {},
     "output_type": "execute_result"
    }
   ],
   "source": [
    "len(scam_1)"
   ]
  },
  {
   "cell_type": "code",
   "execution_count": 126,
   "id": "3da4c6a9",
   "metadata": {},
   "outputs": [],
   "source": [
    "scam_2 = [x for x in lst_2 if x in scam_list]"
   ]
  },
  {
   "cell_type": "code",
   "execution_count": 127,
   "id": "71d43f6b",
   "metadata": {},
   "outputs": [
    {
     "data": {
      "text/plain": [
       "15"
      ]
     },
     "execution_count": 127,
     "metadata": {},
     "output_type": "execute_result"
    }
   ],
   "source": [
    "len(scam_2)"
   ]
  },
  {
   "cell_type": "code",
   "execution_count": 71,
   "id": "5258068a",
   "metadata": {
    "scrolled": true
   },
   "outputs": [
    {
     "name": "stderr",
     "output_type": "stream",
     "text": [
      "/var/folders/nv/lggm200n09vgfy5n8_6lcz6c0000gn/T/ipykernel_3193/1861019757.py:7: SettingWithCopyWarning: \n",
      "A value is trying to be set on a copy of a slice from a DataFrame\n",
      "\n",
      "See the caveats in the documentation: https://pandas.pydata.org/pandas-docs/stable/user_guide/indexing.html#returning-a-view-versus-a-copy\n",
      "  df['ruse'].loc[i] = False\n",
      "/var/folders/nv/lggm200n09vgfy5n8_6lcz6c0000gn/T/ipykernel_3193/1861019757.py:5: SettingWithCopyWarning: \n",
      "A value is trying to be set on a copy of a slice from a DataFrame\n",
      "\n",
      "See the caveats in the documentation: https://pandas.pydata.org/pandas-docs/stable/user_guide/indexing.html#returning-a-view-versus-a-copy\n",
      "  df['ruse'].loc[i] = True\n"
     ]
    }
   ],
   "source": [
    "df['ruse'] = df['Show'].copy()\n",
    "for i in range(len(df)):\n",
    "    if 'ruse' in df['lemmas'].loc[i]:\n",
    "        \n",
    "        df['ruse'].loc[i] = True\n",
    "    else:\n",
    "        df['ruse'].loc[i] = False"
   ]
  },
  {
   "cell_type": "code",
   "execution_count": 162,
   "id": "bc4055fa",
   "metadata": {},
   "outputs": [
    {
     "data": {
      "text/html": [
       "<div>\n",
       "<style scoped>\n",
       "    .dataframe tbody tr th:only-of-type {\n",
       "        vertical-align: middle;\n",
       "    }\n",
       "\n",
       "    .dataframe tbody tr th {\n",
       "        vertical-align: top;\n",
       "    }\n",
       "\n",
       "    .dataframe thead th {\n",
       "        text-align: right;\n",
       "    }\n",
       "</style>\n",
       "<table border=\"1\" class=\"dataframe\">\n",
       "  <thead>\n",
       "    <tr style=\"text-align: right;\">\n",
       "      <th></th>\n",
       "      <th>Station</th>\n",
       "      <th>Show</th>\n",
       "      <th>text</th>\n",
       "      <th>date</th>\n",
       "      <th>text_no_punct</th>\n",
       "      <th>nlp</th>\n",
       "      <th>entities</th>\n",
       "      <th>lemmas</th>\n",
       "      <th>labels_k_2</th>\n",
       "      <th>labels_k_3</th>\n",
       "      <th>hoax</th>\n",
       "      <th>deception</th>\n",
       "      <th>fraud</th>\n",
       "      <th>con</th>\n",
       "      <th>scam</th>\n",
       "      <th>ruse</th>\n",
       "    </tr>\n",
       "  </thead>\n",
       "  <tbody>\n",
       "    <tr>\n",
       "      <th>0</th>\n",
       "      <td>MSNBC</td>\n",
       "      <td>MSNBC News Live</td>\n",
       "      <td>represesentitis passed ann traordinary piece o...</td>\n",
       "      <td>2009-07-02 18:40:30</td>\n",
       "      <td>represesentitis passed ann traordinary piece o...</td>\n",
       "      <td>(represesentitis, passed, ann, traordinary, pi...</td>\n",
       "      <td>[(represesentitis, NORP), (ann traordinary, PE...</td>\n",
       "      <td>[represesentitis, pass, ann, traordinary, piec...</td>\n",
       "      <td>0</td>\n",
       "      <td>2</td>\n",
       "      <td>False</td>\n",
       "      <td>False</td>\n",
       "      <td>False</td>\n",
       "      <td>False</td>\n",
       "      <td>False</td>\n",
       "      <td>False</td>\n",
       "    </tr>\n",
       "    <tr>\n",
       "      <th>1</th>\n",
       "      <td>MSNBC</td>\n",
       "      <td>MSNBC News Live</td>\n",
       "      <td>ma a lf headway with th climate change bill an...</td>\n",
       "      <td>2009-07-02 19:51:52</td>\n",
       "      <td>ma a lf headway with th climate change bill an...</td>\n",
       "      <td>(ma, a, lf, headway, with, th, climate, change...</td>\n",
       "      <td>[(democrats, NORP)]</td>\n",
       "      <td>[lf, headway, th, climate, change, bill, right...</td>\n",
       "      <td>1</td>\n",
       "      <td>1</td>\n",
       "      <td>False</td>\n",
       "      <td>False</td>\n",
       "      <td>False</td>\n",
       "      <td>False</td>\n",
       "      <td>False</td>\n",
       "      <td>False</td>\n",
       "    </tr>\n",
       "    <tr>\n",
       "      <th>2</th>\n",
       "      <td>FOXNEWS</td>\n",
       "      <td>Special Report With Bret Baier</td>\n",
       "      <td>they spent in the fat years money on such fash...</td>\n",
       "      <td>2009-07-02 22:54:51</td>\n",
       "      <td>they spent in the fat years money on such fash...</td>\n",
       "      <td>(they, spent, in, the, fat, years, money, on, ...</td>\n",
       "      <td>[(the fat years, DATE), (george bush, PERSON)]</td>\n",
       "      <td>[spend, fat, year, money, fashion, global, war...</td>\n",
       "      <td>0</td>\n",
       "      <td>2</td>\n",
       "      <td>False</td>\n",
       "      <td>False</td>\n",
       "      <td>False</td>\n",
       "      <td>False</td>\n",
       "      <td>False</td>\n",
       "      <td>False</td>\n",
       "    </tr>\n",
       "    <tr>\n",
       "      <th>3</th>\n",
       "      <td>FOXNEWS</td>\n",
       "      <td>The OReilly Factor</td>\n",
       "      <td>active? why not? no, we are not. nancy pelosi ...</td>\n",
       "      <td>2009-07-03 00:08:33</td>\n",
       "      <td>active why not no we are not nancy pelosi went...</td>\n",
       "      <td>(active, why, not, no, we, are, not, nancy, pe...</td>\n",
       "      <td>[(china, GPE), (chinese, NORP)]</td>\n",
       "      <td>[active, not, no, not, nancy, pelosi, go, chin...</td>\n",
       "      <td>1</td>\n",
       "      <td>0</td>\n",
       "      <td>False</td>\n",
       "      <td>False</td>\n",
       "      <td>False</td>\n",
       "      <td>False</td>\n",
       "      <td>False</td>\n",
       "      <td>False</td>\n",
       "    </tr>\n",
       "    <tr>\n",
       "      <th>4</th>\n",
       "      <td>FOXNEWS</td>\n",
       "      <td>Greta Van Susteren</td>\n",
       "      <td>representative from washington state. he went ...</td>\n",
       "      <td>2009-07-03 02:44:09</td>\n",
       "      <td>representative from washington state he went t...</td>\n",
       "      <td>(representative, from, washington, state, he, ...</td>\n",
       "      <td>[(washington, GPE), (congress, ORG)]</td>\n",
       "      <td>[representative, washington, state, go, global...</td>\n",
       "      <td>0</td>\n",
       "      <td>2</td>\n",
       "      <td>False</td>\n",
       "      <td>False</td>\n",
       "      <td>False</td>\n",
       "      <td>False</td>\n",
       "      <td>False</td>\n",
       "      <td>False</td>\n",
       "    </tr>\n",
       "  </tbody>\n",
       "</table>\n",
       "</div>"
      ],
      "text/plain": [
       "   Station                            Show  \\\n",
       "0    MSNBC                 MSNBC News Live   \n",
       "1    MSNBC                 MSNBC News Live   \n",
       "2  FOXNEWS  Special Report With Bret Baier   \n",
       "3  FOXNEWS              The OReilly Factor   \n",
       "4  FOXNEWS              Greta Van Susteren   \n",
       "\n",
       "                                                text                date  \\\n",
       "0  represesentitis passed ann traordinary piece o... 2009-07-02 18:40:30   \n",
       "1  ma a lf headway with th climate change bill an... 2009-07-02 19:51:52   \n",
       "2  they spent in the fat years money on such fash... 2009-07-02 22:54:51   \n",
       "3  active? why not? no, we are not. nancy pelosi ... 2009-07-03 00:08:33   \n",
       "4  representative from washington state. he went ... 2009-07-03 02:44:09   \n",
       "\n",
       "                                       text_no_punct  \\\n",
       "0  represesentitis passed ann traordinary piece o...   \n",
       "1  ma a lf headway with th climate change bill an...   \n",
       "2  they spent in the fat years money on such fash...   \n",
       "3  active why not no we are not nancy pelosi went...   \n",
       "4  representative from washington state he went t...   \n",
       "\n",
       "                                                 nlp  \\\n",
       "0  (represesentitis, passed, ann, traordinary, pi...   \n",
       "1  (ma, a, lf, headway, with, th, climate, change...   \n",
       "2  (they, spent, in, the, fat, years, money, on, ...   \n",
       "3  (active, why, not, no, we, are, not, nancy, pe...   \n",
       "4  (representative, from, washington, state, he, ...   \n",
       "\n",
       "                                            entities  \\\n",
       "0  [(represesentitis, NORP), (ann traordinary, PE...   \n",
       "1                                [(democrats, NORP)]   \n",
       "2     [(the fat years, DATE), (george bush, PERSON)]   \n",
       "3                    [(china, GPE), (chinese, NORP)]   \n",
       "4               [(washington, GPE), (congress, ORG)]   \n",
       "\n",
       "                                              lemmas  labels_k_2  labels_k_3  \\\n",
       "0  [represesentitis, pass, ann, traordinary, piec...           0           2   \n",
       "1  [lf, headway, th, climate, change, bill, right...           1           1   \n",
       "2  [spend, fat, year, money, fashion, global, war...           0           2   \n",
       "3  [active, not, no, not, nancy, pelosi, go, chin...           1           0   \n",
       "4  [representative, washington, state, go, global...           0           2   \n",
       "\n",
       "    hoax deception  fraud    con   scam   ruse  \n",
       "0  False     False  False  False  False  False  \n",
       "1  False     False  False  False  False  False  \n",
       "2  False     False  False  False  False  False  \n",
       "3  False     False  False  False  False  False  \n",
       "4  False     False  False  False  False  False  "
      ]
     },
     "execution_count": 162,
     "metadata": {},
     "output_type": "execute_result"
    }
   ],
   "source": [
    "df.head()"
   ]
  },
  {
   "cell_type": "code",
   "execution_count": 73,
   "id": "03aade3c",
   "metadata": {},
   "outputs": [],
   "source": [
    "ruse_list = df[df['ruse'] == True].index.to_list()"
   ]
  },
  {
   "cell_type": "code",
   "execution_count": 128,
   "id": "ad16943f",
   "metadata": {},
   "outputs": [],
   "source": [
    "ruse_0 = [x for x in lst_0 if x in ruse_list]"
   ]
  },
  {
   "cell_type": "code",
   "execution_count": 129,
   "id": "b47dc792",
   "metadata": {},
   "outputs": [
    {
     "data": {
      "text/plain": [
       "0"
      ]
     },
     "execution_count": 129,
     "metadata": {},
     "output_type": "execute_result"
    }
   ],
   "source": [
    "len(ruse_0)"
   ]
  },
  {
   "cell_type": "code",
   "execution_count": 130,
   "id": "e208e2e8",
   "metadata": {},
   "outputs": [],
   "source": [
    "ruse_1 = [x for x in lst_1 if x in ruse_list]"
   ]
  },
  {
   "cell_type": "code",
   "execution_count": 132,
   "id": "d41d3c36",
   "metadata": {},
   "outputs": [
    {
     "data": {
      "text/plain": [
       "1"
      ]
     },
     "execution_count": 132,
     "metadata": {},
     "output_type": "execute_result"
    }
   ],
   "source": [
    "len(ruse_1)"
   ]
  },
  {
   "cell_type": "code",
   "execution_count": 133,
   "id": "2a44c0f9",
   "metadata": {},
   "outputs": [],
   "source": [
    "ruse_2 = [x for x in lst_2 if x in ruse_list]"
   ]
  },
  {
   "cell_type": "code",
   "execution_count": 134,
   "id": "03ee9271",
   "metadata": {},
   "outputs": [
    {
     "data": {
      "text/plain": [
       "0"
      ]
     },
     "execution_count": 134,
     "metadata": {},
     "output_type": "execute_result"
    }
   ],
   "source": [
    "len(ruse_2)"
   ]
  },
  {
   "cell_type": "code",
   "execution_count": 163,
   "id": "ca0ce21d",
   "metadata": {},
   "outputs": [],
   "source": [
    "df.to_csv('/Users/butler/Documents/GitHub/projects/Capstone_three/data/interim/nlp_wo_punct_gdelt.csv')"
   ]
  },
  {
   "cell_type": "code",
   "execution_count": null,
   "id": "938889e6",
   "metadata": {},
   "outputs": [],
   "source": []
  }
 ],
 "metadata": {
  "kernelspec": {
   "display_name": "Python 3 (ipykernel)",
   "language": "python",
   "name": "python3"
  },
  "language_info": {
   "codemirror_mode": {
    "name": "ipython",
    "version": 3
   },
   "file_extension": ".py",
   "mimetype": "text/x-python",
   "name": "python",
   "nbconvert_exporter": "python",
   "pygments_lexer": "ipython3",
   "version": "3.9.17"
  }
 },
 "nbformat": 4,
 "nbformat_minor": 5
}
