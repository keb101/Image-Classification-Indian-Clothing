{
 "cells": [
  {
   "cell_type": "code",
   "execution_count": 229,
   "id": "b01841c2",
   "metadata": {},
   "outputs": [],
   "source": [
    "import pandas as pd\n",
    "import numpy as np\n",
    "from statsmodels.tsa.arima.model import ARIMA\n",
    "import matplotlib.pyplot as plt\n",
    "import datetime \n",
    "import statsmodels.api as sm\n",
    "from statsmodels.tsa.stattools import adfuller\n",
    "from statsmodels.graphics import tsaplots\n",
    "import warnings\n",
    "from statsmodels.tools.sm_exceptions import ConvergenceWarning\n",
    "from sklearn.metrics import mean_squared_error\n",
    "from datetime import date\n",
    "warnings.simplefilter('ignore', ConvergenceWarning)\n",
    "%matplotlib inline"
   ]
  },
  {
   "cell_type": "code",
   "execution_count": null,
   "id": "fe2583f4",
   "metadata": {},
   "outputs": [],
   "source": []
  },
  {
   "cell_type": "code",
   "execution_count": 230,
   "id": "9cdd9fd3",
   "metadata": {},
   "outputs": [],
   "source": [
    "df_oil = pd.read_csv(\"/Users/butler/Documents/hp/Former Capstone_three/data/raw/Dow_Jones_Oil_&_Gas_Historical_Data.csv\")"
   ]
  },
  {
   "cell_type": "code",
   "execution_count": null,
   "id": "0963b091",
   "metadata": {},
   "outputs": [],
   "source": []
  },
  {
   "cell_type": "code",
   "execution_count": 231,
   "id": "005afd98",
   "metadata": {},
   "outputs": [
    {
     "data": {
      "text/html": [
       "<div>\n",
       "<style scoped>\n",
       "    .dataframe tbody tr th:only-of-type {\n",
       "        vertical-align: middle;\n",
       "    }\n",
       "\n",
       "    .dataframe tbody tr th {\n",
       "        vertical-align: top;\n",
       "    }\n",
       "\n",
       "    .dataframe thead th {\n",
       "        text-align: right;\n",
       "    }\n",
       "</style>\n",
       "<table border=\"1\" class=\"dataframe\">\n",
       "  <thead>\n",
       "    <tr style=\"text-align: right;\">\n",
       "      <th></th>\n",
       "      <th>Date</th>\n",
       "      <th>Price</th>\n",
       "      <th>Open</th>\n",
       "      <th>High</th>\n",
       "      <th>Low</th>\n",
       "      <th>Vol.</th>\n",
       "      <th>Change %</th>\n",
       "    </tr>\n",
       "  </thead>\n",
       "  <tbody>\n",
       "    <tr>\n",
       "      <th>0</th>\n",
       "      <td>01/31/2020</td>\n",
       "      <td>441.78</td>\n",
       "      <td>455.88</td>\n",
       "      <td>455.88</td>\n",
       "      <td>439.43</td>\n",
       "      <td>434.97M</td>\n",
       "      <td>-3.09%</td>\n",
       "    </tr>\n",
       "    <tr>\n",
       "      <th>1</th>\n",
       "      <td>01/30/2020</td>\n",
       "      <td>455.88</td>\n",
       "      <td>452.19</td>\n",
       "      <td>456.31</td>\n",
       "      <td>446.62</td>\n",
       "      <td>318.78M</td>\n",
       "      <td>0.82%</td>\n",
       "    </tr>\n",
       "    <tr>\n",
       "      <th>2</th>\n",
       "      <td>01/29/2020</td>\n",
       "      <td>452.19</td>\n",
       "      <td>457.24</td>\n",
       "      <td>461.58</td>\n",
       "      <td>452.08</td>\n",
       "      <td>332.96M</td>\n",
       "      <td>-1.10%</td>\n",
       "    </tr>\n",
       "    <tr>\n",
       "      <th>3</th>\n",
       "      <td>01/28/2020</td>\n",
       "      <td>457.24</td>\n",
       "      <td>455.09</td>\n",
       "      <td>460.21</td>\n",
       "      <td>455.09</td>\n",
       "      <td>320.22M</td>\n",
       "      <td>0.47%</td>\n",
       "    </tr>\n",
       "    <tr>\n",
       "      <th>4</th>\n",
       "      <td>01/27/2020</td>\n",
       "      <td>455.09</td>\n",
       "      <td>468.22</td>\n",
       "      <td>468.22</td>\n",
       "      <td>454.88</td>\n",
       "      <td>335.64M</td>\n",
       "      <td>-2.80%</td>\n",
       "    </tr>\n",
       "  </tbody>\n",
       "</table>\n",
       "</div>"
      ],
      "text/plain": [
       "         Date   Price    Open    High     Low     Vol. Change %\n",
       "0  01/31/2020  441.78  455.88  455.88  439.43  434.97M   -3.09%\n",
       "1  01/30/2020  455.88  452.19  456.31  446.62  318.78M    0.82%\n",
       "2  01/29/2020  452.19  457.24  461.58  452.08  332.96M   -1.10%\n",
       "3  01/28/2020  457.24  455.09  460.21  455.09  320.22M    0.47%\n",
       "4  01/27/2020  455.09  468.22  468.22  454.88  335.64M   -2.80%"
      ]
     },
     "execution_count": 231,
     "metadata": {},
     "output_type": "execute_result"
    }
   ],
   "source": [
    "df_oil.head()"
   ]
  },
  {
   "cell_type": "code",
   "execution_count": 232,
   "id": "030675cf",
   "metadata": {
    "scrolled": true
   },
   "outputs": [
    {
     "data": {
      "text/html": [
       "<div>\n",
       "<style scoped>\n",
       "    .dataframe tbody tr th:only-of-type {\n",
       "        vertical-align: middle;\n",
       "    }\n",
       "\n",
       "    .dataframe tbody tr th {\n",
       "        vertical-align: top;\n",
       "    }\n",
       "\n",
       "    .dataframe thead th {\n",
       "        text-align: right;\n",
       "    }\n",
       "</style>\n",
       "<table border=\"1\" class=\"dataframe\">\n",
       "  <thead>\n",
       "    <tr style=\"text-align: right;\">\n",
       "      <th></th>\n",
       "      <th>Date</th>\n",
       "      <th>Price</th>\n",
       "      <th>Open</th>\n",
       "      <th>High</th>\n",
       "      <th>Low</th>\n",
       "      <th>Vol.</th>\n",
       "      <th>Change %</th>\n",
       "    </tr>\n",
       "  </thead>\n",
       "  <tbody>\n",
       "    <tr>\n",
       "      <th>2442</th>\n",
       "      <td>05/21/2010</td>\n",
       "      <td>455.33</td>\n",
       "      <td>447.38</td>\n",
       "      <td>456.05</td>\n",
       "      <td>439.19</td>\n",
       "      <td>182.43M</td>\n",
       "      <td>1.77%</td>\n",
       "    </tr>\n",
       "    <tr>\n",
       "      <th>2443</th>\n",
       "      <td>05/20/2010</td>\n",
       "      <td>447.39</td>\n",
       "      <td>468.61</td>\n",
       "      <td>468.61</td>\n",
       "      <td>447.20</td>\n",
       "      <td>182.59M</td>\n",
       "      <td>-4.53%</td>\n",
       "    </tr>\n",
       "    <tr>\n",
       "      <th>2444</th>\n",
       "      <td>05/19/2010</td>\n",
       "      <td>468.62</td>\n",
       "      <td>473.55</td>\n",
       "      <td>474.82</td>\n",
       "      <td>461.35</td>\n",
       "      <td>126.09M</td>\n",
       "      <td>-1.04%</td>\n",
       "    </tr>\n",
       "    <tr>\n",
       "      <th>2445</th>\n",
       "      <td>05/18/2010</td>\n",
       "      <td>473.55</td>\n",
       "      <td>477.30</td>\n",
       "      <td>487.56</td>\n",
       "      <td>471.27</td>\n",
       "      <td>116.10M</td>\n",
       "      <td>-0.79%</td>\n",
       "    </tr>\n",
       "    <tr>\n",
       "      <th>2446</th>\n",
       "      <td>05/17/2010</td>\n",
       "      <td>477.30</td>\n",
       "      <td>482.30</td>\n",
       "      <td>484.81</td>\n",
       "      <td>467.90</td>\n",
       "      <td>124.46M</td>\n",
       "      <td>-1.04%</td>\n",
       "    </tr>\n",
       "  </tbody>\n",
       "</table>\n",
       "</div>"
      ],
      "text/plain": [
       "            Date   Price    Open    High     Low     Vol. Change %\n",
       "2442  05/21/2010  455.33  447.38  456.05  439.19  182.43M    1.77%\n",
       "2443  05/20/2010  447.39  468.61  468.61  447.20  182.59M   -4.53%\n",
       "2444  05/19/2010  468.62  473.55  474.82  461.35  126.09M   -1.04%\n",
       "2445  05/18/2010  473.55  477.30  487.56  471.27  116.10M   -0.79%\n",
       "2446  05/17/2010  477.30  482.30  484.81  467.90  124.46M   -1.04%"
      ]
     },
     "execution_count": 232,
     "metadata": {},
     "output_type": "execute_result"
    }
   ],
   "source": [
    "df_oil.tail()"
   ]
  },
  {
   "cell_type": "code",
   "execution_count": 233,
   "id": "f8183c7f",
   "metadata": {
    "scrolled": true
   },
   "outputs": [
    {
     "data": {
      "text/plain": [
       "(2447, 7)"
      ]
     },
     "execution_count": 233,
     "metadata": {},
     "output_type": "execute_result"
    }
   ],
   "source": [
    "df_oil.shape"
   ]
  },
  {
   "cell_type": "code",
   "execution_count": 234,
   "id": "aea42fc5",
   "metadata": {},
   "outputs": [
    {
     "name": "stdout",
     "output_type": "stream",
     "text": [
      "<class 'pandas.core.frame.DataFrame'>\n",
      "RangeIndex: 2447 entries, 0 to 2446\n",
      "Data columns (total 7 columns):\n",
      " #   Column    Non-Null Count  Dtype  \n",
      "---  ------    --------------  -----  \n",
      " 0   Date      2447 non-null   object \n",
      " 1   Price     2447 non-null   float64\n",
      " 2   Open      2447 non-null   float64\n",
      " 3   High      2447 non-null   float64\n",
      " 4   Low       2447 non-null   float64\n",
      " 5   Vol.      2440 non-null   object \n",
      " 6   Change %  2447 non-null   object \n",
      "dtypes: float64(4), object(3)\n",
      "memory usage: 133.9+ KB\n"
     ]
    }
   ],
   "source": [
    "df_oil.info()"
   ]
  },
  {
   "cell_type": "code",
   "execution_count": 235,
   "id": "45051415",
   "metadata": {},
   "outputs": [],
   "source": [
    "df_oil = df_oil.drop(['Open', 'High', 'Low', 'Vol.', 'Change %'], axis=1)"
   ]
  },
  {
   "cell_type": "code",
   "execution_count": 236,
   "id": "a2107b27",
   "metadata": {
    "scrolled": true
   },
   "outputs": [
    {
     "name": "stdout",
     "output_type": "stream",
     "text": [
      "<class 'pandas.core.frame.DataFrame'>\n",
      "RangeIndex: 2447 entries, 0 to 2446\n",
      "Data columns (total 2 columns):\n",
      " #   Column  Non-Null Count  Dtype  \n",
      "---  ------  --------------  -----  \n",
      " 0   Date    2447 non-null   object \n",
      " 1   Price   2447 non-null   float64\n",
      "dtypes: float64(1), object(1)\n",
      "memory usage: 38.4+ KB\n"
     ]
    }
   ],
   "source": [
    "df_oil.info()"
   ]
  },
  {
   "cell_type": "code",
   "execution_count": 237,
   "id": "0a36ff24",
   "metadata": {
    "scrolled": true
   },
   "outputs": [
    {
     "data": {
      "text/html": [
       "<div>\n",
       "<style scoped>\n",
       "    .dataframe tbody tr th:only-of-type {\n",
       "        vertical-align: middle;\n",
       "    }\n",
       "\n",
       "    .dataframe tbody tr th {\n",
       "        vertical-align: top;\n",
       "    }\n",
       "\n",
       "    .dataframe thead th {\n",
       "        text-align: right;\n",
       "    }\n",
       "</style>\n",
       "<table border=\"1\" class=\"dataframe\">\n",
       "  <thead>\n",
       "    <tr style=\"text-align: right;\">\n",
       "      <th></th>\n",
       "      <th>Date</th>\n",
       "      <th>Price</th>\n",
       "    </tr>\n",
       "  </thead>\n",
       "  <tbody>\n",
       "    <tr>\n",
       "      <th>0</th>\n",
       "      <td>01/31/2020</td>\n",
       "      <td>441.78</td>\n",
       "    </tr>\n",
       "    <tr>\n",
       "      <th>1</th>\n",
       "      <td>01/30/2020</td>\n",
       "      <td>455.88</td>\n",
       "    </tr>\n",
       "    <tr>\n",
       "      <th>2</th>\n",
       "      <td>01/29/2020</td>\n",
       "      <td>452.19</td>\n",
       "    </tr>\n",
       "    <tr>\n",
       "      <th>3</th>\n",
       "      <td>01/28/2020</td>\n",
       "      <td>457.24</td>\n",
       "    </tr>\n",
       "    <tr>\n",
       "      <th>4</th>\n",
       "      <td>01/27/2020</td>\n",
       "      <td>455.09</td>\n",
       "    </tr>\n",
       "  </tbody>\n",
       "</table>\n",
       "</div>"
      ],
      "text/plain": [
       "         Date   Price\n",
       "0  01/31/2020  441.78\n",
       "1  01/30/2020  455.88\n",
       "2  01/29/2020  452.19\n",
       "3  01/28/2020  457.24\n",
       "4  01/27/2020  455.09"
      ]
     },
     "execution_count": 237,
     "metadata": {},
     "output_type": "execute_result"
    }
   ],
   "source": [
    "df_oil.head()"
   ]
  },
  {
   "cell_type": "code",
   "execution_count": 238,
   "id": "6f10c802",
   "metadata": {},
   "outputs": [
    {
     "data": {
      "text/plain": [
       "Date   Price\n",
       "False  False    2447\n",
       "dtype: int64"
      ]
     },
     "execution_count": 238,
     "metadata": {},
     "output_type": "execute_result"
    }
   ],
   "source": [
    "df_oil.isnull().value_counts()"
   ]
  },
  {
   "cell_type": "code",
   "execution_count": 239,
   "id": "5ab48a4b",
   "metadata": {},
   "outputs": [],
   "source": [
    "df_oil['Date']= pd.to_datetime(df_oil['Date'])"
   ]
  },
  {
   "cell_type": "code",
   "execution_count": 240,
   "id": "db30c22e",
   "metadata": {
    "scrolled": true
   },
   "outputs": [
    {
     "name": "stdout",
     "output_type": "stream",
     "text": [
      "<class 'pandas.core.frame.DataFrame'>\n",
      "RangeIndex: 2447 entries, 0 to 2446\n",
      "Data columns (total 2 columns):\n",
      " #   Column  Non-Null Count  Dtype         \n",
      "---  ------  --------------  -----         \n",
      " 0   Date    2447 non-null   datetime64[ns]\n",
      " 1   Price   2447 non-null   float64       \n",
      "dtypes: datetime64[ns](1), float64(1)\n",
      "memory usage: 38.4 KB\n"
     ]
    }
   ],
   "source": [
    "df_oil.info()"
   ]
  },
  {
   "cell_type": "code",
   "execution_count": 241,
   "id": "52fcb465",
   "metadata": {},
   "outputs": [
    {
     "data": {
      "text/html": [
       "<div>\n",
       "<style scoped>\n",
       "    .dataframe tbody tr th:only-of-type {\n",
       "        vertical-align: middle;\n",
       "    }\n",
       "\n",
       "    .dataframe tbody tr th {\n",
       "        vertical-align: top;\n",
       "    }\n",
       "\n",
       "    .dataframe thead th {\n",
       "        text-align: right;\n",
       "    }\n",
       "</style>\n",
       "<table border=\"1\" class=\"dataframe\">\n",
       "  <thead>\n",
       "    <tr style=\"text-align: right;\">\n",
       "      <th></th>\n",
       "      <th>Date</th>\n",
       "      <th>Price</th>\n",
       "    </tr>\n",
       "  </thead>\n",
       "  <tbody>\n",
       "    <tr>\n",
       "      <th>2442</th>\n",
       "      <td>2010-05-21</td>\n",
       "      <td>455.33</td>\n",
       "    </tr>\n",
       "    <tr>\n",
       "      <th>2443</th>\n",
       "      <td>2010-05-20</td>\n",
       "      <td>447.39</td>\n",
       "    </tr>\n",
       "    <tr>\n",
       "      <th>2444</th>\n",
       "      <td>2010-05-19</td>\n",
       "      <td>468.62</td>\n",
       "    </tr>\n",
       "    <tr>\n",
       "      <th>2445</th>\n",
       "      <td>2010-05-18</td>\n",
       "      <td>473.55</td>\n",
       "    </tr>\n",
       "    <tr>\n",
       "      <th>2446</th>\n",
       "      <td>2010-05-17</td>\n",
       "      <td>477.30</td>\n",
       "    </tr>\n",
       "  </tbody>\n",
       "</table>\n",
       "</div>"
      ],
      "text/plain": [
       "           Date   Price\n",
       "2442 2010-05-21  455.33\n",
       "2443 2010-05-20  447.39\n",
       "2444 2010-05-19  468.62\n",
       "2445 2010-05-18  473.55\n",
       "2446 2010-05-17  477.30"
      ]
     },
     "execution_count": 241,
     "metadata": {},
     "output_type": "execute_result"
    }
   ],
   "source": [
    "df_oil.tail()"
   ]
  },
  {
   "cell_type": "code",
   "execution_count": 242,
   "id": "9df56a83",
   "metadata": {},
   "outputs": [
    {
     "name": "stdout",
     "output_type": "stream",
     "text": [
      "<class 'pandas.core.frame.DataFrame'>\n",
      "RangeIndex: 2447 entries, 0 to 2446\n",
      "Data columns (total 2 columns):\n",
      " #   Column  Non-Null Count  Dtype         \n",
      "---  ------  --------------  -----         \n",
      " 0   Date    2447 non-null   datetime64[ns]\n",
      " 1   Price   2447 non-null   float64       \n",
      "dtypes: datetime64[ns](1), float64(1)\n",
      "memory usage: 38.4 KB\n"
     ]
    }
   ],
   "source": [
    "df_oil.info()"
   ]
  },
  {
   "cell_type": "code",
   "execution_count": 243,
   "id": "723e2288",
   "metadata": {},
   "outputs": [],
   "source": [
    "df_oil = df_oil.set_index('Date')"
   ]
  },
  {
   "cell_type": "code",
   "execution_count": 244,
   "id": "8a21d799",
   "metadata": {},
   "outputs": [
    {
     "data": {
      "text/html": [
       "<div>\n",
       "<style scoped>\n",
       "    .dataframe tbody tr th:only-of-type {\n",
       "        vertical-align: middle;\n",
       "    }\n",
       "\n",
       "    .dataframe tbody tr th {\n",
       "        vertical-align: top;\n",
       "    }\n",
       "\n",
       "    .dataframe thead th {\n",
       "        text-align: right;\n",
       "    }\n",
       "</style>\n",
       "<table border=\"1\" class=\"dataframe\">\n",
       "  <thead>\n",
       "    <tr style=\"text-align: right;\">\n",
       "      <th></th>\n",
       "      <th>Price</th>\n",
       "    </tr>\n",
       "    <tr>\n",
       "      <th>Date</th>\n",
       "      <th></th>\n",
       "    </tr>\n",
       "  </thead>\n",
       "  <tbody>\n",
       "    <tr>\n",
       "      <th>2010-05-21</th>\n",
       "      <td>455.33</td>\n",
       "    </tr>\n",
       "    <tr>\n",
       "      <th>2010-05-20</th>\n",
       "      <td>447.39</td>\n",
       "    </tr>\n",
       "    <tr>\n",
       "      <th>2010-05-19</th>\n",
       "      <td>468.62</td>\n",
       "    </tr>\n",
       "    <tr>\n",
       "      <th>2010-05-18</th>\n",
       "      <td>473.55</td>\n",
       "    </tr>\n",
       "    <tr>\n",
       "      <th>2010-05-17</th>\n",
       "      <td>477.30</td>\n",
       "    </tr>\n",
       "  </tbody>\n",
       "</table>\n",
       "</div>"
      ],
      "text/plain": [
       "             Price\n",
       "Date              \n",
       "2010-05-21  455.33\n",
       "2010-05-20  447.39\n",
       "2010-05-19  468.62\n",
       "2010-05-18  473.55\n",
       "2010-05-17  477.30"
      ]
     },
     "execution_count": 244,
     "metadata": {},
     "output_type": "execute_result"
    }
   ],
   "source": [
    "df_oil.tail()"
   ]
  },
  {
   "cell_type": "code",
   "execution_count": 245,
   "id": "b776409e",
   "metadata": {},
   "outputs": [],
   "source": [
    "df_oil = df_oil.sort_values(by=['Date'])"
   ]
  },
  {
   "cell_type": "code",
   "execution_count": 246,
   "id": "60f0b26e",
   "metadata": {
    "scrolled": true
   },
   "outputs": [
    {
     "data": {
      "text/html": [
       "<div>\n",
       "<style scoped>\n",
       "    .dataframe tbody tr th:only-of-type {\n",
       "        vertical-align: middle;\n",
       "    }\n",
       "\n",
       "    .dataframe tbody tr th {\n",
       "        vertical-align: top;\n",
       "    }\n",
       "\n",
       "    .dataframe thead th {\n",
       "        text-align: right;\n",
       "    }\n",
       "</style>\n",
       "<table border=\"1\" class=\"dataframe\">\n",
       "  <thead>\n",
       "    <tr style=\"text-align: right;\">\n",
       "      <th></th>\n",
       "      <th>Price</th>\n",
       "    </tr>\n",
       "    <tr>\n",
       "      <th>Date</th>\n",
       "      <th></th>\n",
       "    </tr>\n",
       "  </thead>\n",
       "  <tbody>\n",
       "    <tr>\n",
       "      <th>2010-05-17</th>\n",
       "      <td>477.30</td>\n",
       "    </tr>\n",
       "    <tr>\n",
       "      <th>2010-05-18</th>\n",
       "      <td>473.55</td>\n",
       "    </tr>\n",
       "    <tr>\n",
       "      <th>2010-05-19</th>\n",
       "      <td>468.62</td>\n",
       "    </tr>\n",
       "    <tr>\n",
       "      <th>2010-05-20</th>\n",
       "      <td>447.39</td>\n",
       "    </tr>\n",
       "    <tr>\n",
       "      <th>2010-05-21</th>\n",
       "      <td>455.33</td>\n",
       "    </tr>\n",
       "  </tbody>\n",
       "</table>\n",
       "</div>"
      ],
      "text/plain": [
       "             Price\n",
       "Date              \n",
       "2010-05-17  477.30\n",
       "2010-05-18  473.55\n",
       "2010-05-19  468.62\n",
       "2010-05-20  447.39\n",
       "2010-05-21  455.33"
      ]
     },
     "execution_count": 246,
     "metadata": {},
     "output_type": "execute_result"
    }
   ],
   "source": [
    "df_oil.head()"
   ]
  },
  {
   "cell_type": "code",
   "execution_count": 247,
   "id": "2dca65eb",
   "metadata": {
    "scrolled": true
   },
   "outputs": [
    {
     "data": {
      "text/html": [
       "<div>\n",
       "<style scoped>\n",
       "    .dataframe tbody tr th:only-of-type {\n",
       "        vertical-align: middle;\n",
       "    }\n",
       "\n",
       "    .dataframe tbody tr th {\n",
       "        vertical-align: top;\n",
       "    }\n",
       "\n",
       "    .dataframe thead th {\n",
       "        text-align: right;\n",
       "    }\n",
       "</style>\n",
       "<table border=\"1\" class=\"dataframe\">\n",
       "  <thead>\n",
       "    <tr style=\"text-align: right;\">\n",
       "      <th></th>\n",
       "      <th>Price</th>\n",
       "    </tr>\n",
       "    <tr>\n",
       "      <th>Date</th>\n",
       "      <th></th>\n",
       "    </tr>\n",
       "  </thead>\n",
       "  <tbody>\n",
       "    <tr>\n",
       "      <th>2020-01-27</th>\n",
       "      <td>455.09</td>\n",
       "    </tr>\n",
       "    <tr>\n",
       "      <th>2020-01-28</th>\n",
       "      <td>457.24</td>\n",
       "    </tr>\n",
       "    <tr>\n",
       "      <th>2020-01-29</th>\n",
       "      <td>452.19</td>\n",
       "    </tr>\n",
       "    <tr>\n",
       "      <th>2020-01-30</th>\n",
       "      <td>455.88</td>\n",
       "    </tr>\n",
       "    <tr>\n",
       "      <th>2020-01-31</th>\n",
       "      <td>441.78</td>\n",
       "    </tr>\n",
       "  </tbody>\n",
       "</table>\n",
       "</div>"
      ],
      "text/plain": [
       "             Price\n",
       "Date              \n",
       "2020-01-27  455.09\n",
       "2020-01-28  457.24\n",
       "2020-01-29  452.19\n",
       "2020-01-30  455.88\n",
       "2020-01-31  441.78"
      ]
     },
     "execution_count": 247,
     "metadata": {},
     "output_type": "execute_result"
    }
   ],
   "source": [
    "df_oil.tail()"
   ]
  },
  {
   "cell_type": "code",
   "execution_count": 248,
   "id": "3b09caca",
   "metadata": {},
   "outputs": [],
   "source": [
    "df_2009 = pd.read_csv('/Users/butler/Documents/hp/Former Capstone_three/data/raw/DJUSEN_2009.csv')"
   ]
  },
  {
   "cell_type": "code",
   "execution_count": 249,
   "id": "fc2b5df5",
   "metadata": {},
   "outputs": [
    {
     "name": "stdout",
     "output_type": "stream",
     "text": [
      "<class 'pandas.core.frame.DataFrame'>\n",
      "RangeIndex: 130 entries, 0 to 129\n",
      "Data columns (total 5 columns):\n",
      " #   Column  Non-Null Count  Dtype  \n",
      "---  ------  --------------  -----  \n",
      " 0   Date    130 non-null    object \n",
      " 1   Open    130 non-null    float64\n",
      " 2   High    130 non-null    float64\n",
      " 3   Low     130 non-null    float64\n",
      " 4   Close   130 non-null    float64\n",
      "dtypes: float64(4), object(1)\n",
      "memory usage: 5.2+ KB\n"
     ]
    }
   ],
   "source": [
    "df_2009.info()"
   ]
  },
  {
   "cell_type": "code",
   "execution_count": 250,
   "id": "036c7a80",
   "metadata": {
    "scrolled": false
   },
   "outputs": [],
   "source": [
    "df_2009 = df_2009.sort_values(by='Date')"
   ]
  },
  {
   "cell_type": "code",
   "execution_count": 251,
   "id": "90d37e33",
   "metadata": {},
   "outputs": [
    {
     "data": {
      "text/html": [
       "<div>\n",
       "<style scoped>\n",
       "    .dataframe tbody tr th:only-of-type {\n",
       "        vertical-align: middle;\n",
       "    }\n",
       "\n",
       "    .dataframe tbody tr th {\n",
       "        vertical-align: top;\n",
       "    }\n",
       "\n",
       "    .dataframe thead th {\n",
       "        text-align: right;\n",
       "    }\n",
       "</style>\n",
       "<table border=\"1\" class=\"dataframe\">\n",
       "  <thead>\n",
       "    <tr style=\"text-align: right;\">\n",
       "      <th></th>\n",
       "      <th>Date</th>\n",
       "      <th>Open</th>\n",
       "      <th>High</th>\n",
       "      <th>Low</th>\n",
       "      <th>Close</th>\n",
       "    </tr>\n",
       "  </thead>\n",
       "  <tbody>\n",
       "    <tr>\n",
       "      <th>129</th>\n",
       "      <td>07/03/2009</td>\n",
       "      <td>413.98</td>\n",
       "      <td>413.98</td>\n",
       "      <td>413.98</td>\n",
       "      <td>413.98</td>\n",
       "    </tr>\n",
       "    <tr>\n",
       "      <th>128</th>\n",
       "      <td>07/06/2009</td>\n",
       "      <td>408.50</td>\n",
       "      <td>408.50</td>\n",
       "      <td>408.50</td>\n",
       "      <td>408.50</td>\n",
       "    </tr>\n",
       "    <tr>\n",
       "      <th>127</th>\n",
       "      <td>07/07/2009</td>\n",
       "      <td>398.29</td>\n",
       "      <td>398.29</td>\n",
       "      <td>398.29</td>\n",
       "      <td>398.29</td>\n",
       "    </tr>\n",
       "    <tr>\n",
       "      <th>126</th>\n",
       "      <td>07/08/2009</td>\n",
       "      <td>397.69</td>\n",
       "      <td>397.69</td>\n",
       "      <td>397.69</td>\n",
       "      <td>397.69</td>\n",
       "    </tr>\n",
       "    <tr>\n",
       "      <th>125</th>\n",
       "      <td>07/09/2009</td>\n",
       "      <td>402.41</td>\n",
       "      <td>402.41</td>\n",
       "      <td>402.41</td>\n",
       "      <td>402.41</td>\n",
       "    </tr>\n",
       "  </tbody>\n",
       "</table>\n",
       "</div>"
      ],
      "text/plain": [
       "           Date    Open    High     Low   Close\n",
       "129  07/03/2009  413.98  413.98  413.98  413.98\n",
       "128  07/06/2009  408.50  408.50  408.50  408.50\n",
       "127  07/07/2009  398.29  398.29  398.29  398.29\n",
       "126  07/08/2009  397.69  397.69  397.69  397.69\n",
       "125  07/09/2009  402.41  402.41  402.41  402.41"
      ]
     },
     "execution_count": 251,
     "metadata": {},
     "output_type": "execute_result"
    }
   ],
   "source": [
    "df_2009.head()"
   ]
  },
  {
   "cell_type": "code",
   "execution_count": 252,
   "id": "0525e5d0",
   "metadata": {},
   "outputs": [
    {
     "data": {
      "text/html": [
       "<div>\n",
       "<style scoped>\n",
       "    .dataframe tbody tr th:only-of-type {\n",
       "        vertical-align: middle;\n",
       "    }\n",
       "\n",
       "    .dataframe tbody tr th {\n",
       "        vertical-align: top;\n",
       "    }\n",
       "\n",
       "    .dataframe thead th {\n",
       "        text-align: right;\n",
       "    }\n",
       "</style>\n",
       "<table border=\"1\" class=\"dataframe\">\n",
       "  <thead>\n",
       "    <tr style=\"text-align: right;\">\n",
       "      <th></th>\n",
       "      <th>Date</th>\n",
       "      <th>Open</th>\n",
       "      <th>High</th>\n",
       "      <th>Low</th>\n",
       "      <th>Close</th>\n",
       "    </tr>\n",
       "  </thead>\n",
       "  <tbody>\n",
       "    <tr>\n",
       "      <th>4</th>\n",
       "      <td>12/25/2009</td>\n",
       "      <td>500.61</td>\n",
       "      <td>500.61</td>\n",
       "      <td>500.61</td>\n",
       "      <td>500.61</td>\n",
       "    </tr>\n",
       "    <tr>\n",
       "      <th>3</th>\n",
       "      <td>12/28/2009</td>\n",
       "      <td>501.98</td>\n",
       "      <td>501.98</td>\n",
       "      <td>501.98</td>\n",
       "      <td>501.98</td>\n",
       "    </tr>\n",
       "    <tr>\n",
       "      <th>2</th>\n",
       "      <td>12/29/2009</td>\n",
       "      <td>498.69</td>\n",
       "      <td>498.69</td>\n",
       "      <td>498.69</td>\n",
       "      <td>498.69</td>\n",
       "    </tr>\n",
       "    <tr>\n",
       "      <th>1</th>\n",
       "      <td>12/30/2009</td>\n",
       "      <td>498.58</td>\n",
       "      <td>498.58</td>\n",
       "      <td>498.58</td>\n",
       "      <td>498.58</td>\n",
       "    </tr>\n",
       "    <tr>\n",
       "      <th>0</th>\n",
       "      <td>12/31/2009</td>\n",
       "      <td>494.01</td>\n",
       "      <td>494.01</td>\n",
       "      <td>494.01</td>\n",
       "      <td>494.01</td>\n",
       "    </tr>\n",
       "  </tbody>\n",
       "</table>\n",
       "</div>"
      ],
      "text/plain": [
       "         Date    Open    High     Low   Close\n",
       "4  12/25/2009  500.61  500.61  500.61  500.61\n",
       "3  12/28/2009  501.98  501.98  501.98  501.98\n",
       "2  12/29/2009  498.69  498.69  498.69  498.69\n",
       "1  12/30/2009  498.58  498.58  498.58  498.58\n",
       "0  12/31/2009  494.01  494.01  494.01  494.01"
      ]
     },
     "execution_count": 252,
     "metadata": {},
     "output_type": "execute_result"
    }
   ],
   "source": [
    "df_2009.tail()"
   ]
  },
  {
   "cell_type": "code",
   "execution_count": 253,
   "id": "0ae46560",
   "metadata": {},
   "outputs": [],
   "source": [
    "df_2010 = pd.read_csv('/Users/butler/Documents/hp/Former Capstone_three/data/raw/DJUSEN_2010_05.csv')"
   ]
  },
  {
   "cell_type": "code",
   "execution_count": 254,
   "id": "f5800068",
   "metadata": {},
   "outputs": [
    {
     "name": "stdout",
     "output_type": "stream",
     "text": [
      "<class 'pandas.core.frame.DataFrame'>\n",
      "RangeIndex: 106 entries, 0 to 105\n",
      "Data columns (total 5 columns):\n",
      " #   Column  Non-Null Count  Dtype  \n",
      "---  ------  --------------  -----  \n",
      " 0   Date    106 non-null    object \n",
      " 1   Open    106 non-null    float64\n",
      " 2   High    106 non-null    float64\n",
      " 3   Low     106 non-null    float64\n",
      " 4   Close   106 non-null    float64\n",
      "dtypes: float64(4), object(1)\n",
      "memory usage: 4.3+ KB\n"
     ]
    }
   ],
   "source": [
    "df_2010.info()"
   ]
  },
  {
   "cell_type": "code",
   "execution_count": 255,
   "id": "d0793287",
   "metadata": {},
   "outputs": [],
   "source": [
    "df_2010 = df_2010.sort_values(by='Date')"
   ]
  },
  {
   "cell_type": "code",
   "execution_count": 256,
   "id": "16197d51",
   "metadata": {},
   "outputs": [
    {
     "data": {
      "text/html": [
       "<div>\n",
       "<style scoped>\n",
       "    .dataframe tbody tr th:only-of-type {\n",
       "        vertical-align: middle;\n",
       "    }\n",
       "\n",
       "    .dataframe tbody tr th {\n",
       "        vertical-align: top;\n",
       "    }\n",
       "\n",
       "    .dataframe thead th {\n",
       "        text-align: right;\n",
       "    }\n",
       "</style>\n",
       "<table border=\"1\" class=\"dataframe\">\n",
       "  <thead>\n",
       "    <tr style=\"text-align: right;\">\n",
       "      <th></th>\n",
       "      <th>Date</th>\n",
       "      <th>Open</th>\n",
       "      <th>High</th>\n",
       "      <th>Low</th>\n",
       "      <th>Close</th>\n",
       "    </tr>\n",
       "  </thead>\n",
       "  <tbody>\n",
       "    <tr>\n",
       "      <th>105</th>\n",
       "      <td>01/04/2010</td>\n",
       "      <td>508.78</td>\n",
       "      <td>508.78</td>\n",
       "      <td>508.78</td>\n",
       "      <td>508.78</td>\n",
       "    </tr>\n",
       "    <tr>\n",
       "      <th>104</th>\n",
       "      <td>01/05/2010</td>\n",
       "      <td>513.25</td>\n",
       "      <td>513.25</td>\n",
       "      <td>513.25</td>\n",
       "      <td>513.25</td>\n",
       "    </tr>\n",
       "    <tr>\n",
       "      <th>103</th>\n",
       "      <td>01/06/2010</td>\n",
       "      <td>518.89</td>\n",
       "      <td>518.89</td>\n",
       "      <td>518.89</td>\n",
       "      <td>518.89</td>\n",
       "    </tr>\n",
       "    <tr>\n",
       "      <th>102</th>\n",
       "      <td>01/07/2010</td>\n",
       "      <td>517.64</td>\n",
       "      <td>517.64</td>\n",
       "      <td>517.64</td>\n",
       "      <td>517.64</td>\n",
       "    </tr>\n",
       "    <tr>\n",
       "      <th>101</th>\n",
       "      <td>01/08/2010</td>\n",
       "      <td>520.98</td>\n",
       "      <td>520.98</td>\n",
       "      <td>520.98</td>\n",
       "      <td>520.98</td>\n",
       "    </tr>\n",
       "  </tbody>\n",
       "</table>\n",
       "</div>"
      ],
      "text/plain": [
       "           Date    Open    High     Low   Close\n",
       "105  01/04/2010  508.78  508.78  508.78  508.78\n",
       "104  01/05/2010  513.25  513.25  513.25  513.25\n",
       "103  01/06/2010  518.89  518.89  518.89  518.89\n",
       "102  01/07/2010  517.64  517.64  517.64  517.64\n",
       "101  01/08/2010  520.98  520.98  520.98  520.98"
      ]
     },
     "execution_count": 256,
     "metadata": {},
     "output_type": "execute_result"
    }
   ],
   "source": [
    "df_2010.head()"
   ]
  },
  {
   "cell_type": "code",
   "execution_count": 257,
   "id": "c8bdb052",
   "metadata": {},
   "outputs": [
    {
     "data": {
      "text/html": [
       "<div>\n",
       "<style scoped>\n",
       "    .dataframe tbody tr th:only-of-type {\n",
       "        vertical-align: middle;\n",
       "    }\n",
       "\n",
       "    .dataframe tbody tr th {\n",
       "        vertical-align: top;\n",
       "    }\n",
       "\n",
       "    .dataframe thead th {\n",
       "        text-align: right;\n",
       "    }\n",
       "</style>\n",
       "<table border=\"1\" class=\"dataframe\">\n",
       "  <thead>\n",
       "    <tr style=\"text-align: right;\">\n",
       "      <th></th>\n",
       "      <th>Date</th>\n",
       "      <th>Open</th>\n",
       "      <th>High</th>\n",
       "      <th>Low</th>\n",
       "      <th>Close</th>\n",
       "    </tr>\n",
       "  </thead>\n",
       "  <tbody>\n",
       "    <tr>\n",
       "      <th>4</th>\n",
       "      <td>05/25/2010</td>\n",
       "      <td>444.93</td>\n",
       "      <td>444.93</td>\n",
       "      <td>444.93</td>\n",
       "      <td>444.93</td>\n",
       "    </tr>\n",
       "    <tr>\n",
       "      <th>3</th>\n",
       "      <td>05/26/2010</td>\n",
       "      <td>444.46</td>\n",
       "      <td>444.46</td>\n",
       "      <td>444.46</td>\n",
       "      <td>444.46</td>\n",
       "    </tr>\n",
       "    <tr>\n",
       "      <th>2</th>\n",
       "      <td>05/27/2010</td>\n",
       "      <td>463.13</td>\n",
       "      <td>463.13</td>\n",
       "      <td>463.13</td>\n",
       "      <td>463.13</td>\n",
       "    </tr>\n",
       "    <tr>\n",
       "      <th>1</th>\n",
       "      <td>05/28/2010</td>\n",
       "      <td>453.89</td>\n",
       "      <td>453.89</td>\n",
       "      <td>453.89</td>\n",
       "      <td>453.89</td>\n",
       "    </tr>\n",
       "    <tr>\n",
       "      <th>0</th>\n",
       "      <td>05/31/2010</td>\n",
       "      <td>453.89</td>\n",
       "      <td>453.89</td>\n",
       "      <td>453.89</td>\n",
       "      <td>453.89</td>\n",
       "    </tr>\n",
       "  </tbody>\n",
       "</table>\n",
       "</div>"
      ],
      "text/plain": [
       "         Date    Open    High     Low   Close\n",
       "4  05/25/2010  444.93  444.93  444.93  444.93\n",
       "3  05/26/2010  444.46  444.46  444.46  444.46\n",
       "2  05/27/2010  463.13  463.13  463.13  463.13\n",
       "1  05/28/2010  453.89  453.89  453.89  453.89\n",
       "0  05/31/2010  453.89  453.89  453.89  453.89"
      ]
     },
     "execution_count": 257,
     "metadata": {},
     "output_type": "execute_result"
    }
   ],
   "source": [
    "df_2010.tail()"
   ]
  },
  {
   "cell_type": "code",
   "execution_count": 258,
   "id": "37d76d88",
   "metadata": {},
   "outputs": [],
   "source": [
    "df = pd.concat([df_2009, df_2010])"
   ]
  },
  {
   "cell_type": "code",
   "execution_count": 259,
   "id": "0c6ac132",
   "metadata": {},
   "outputs": [
    {
     "data": {
      "text/html": [
       "<div>\n",
       "<style scoped>\n",
       "    .dataframe tbody tr th:only-of-type {\n",
       "        vertical-align: middle;\n",
       "    }\n",
       "\n",
       "    .dataframe tbody tr th {\n",
       "        vertical-align: top;\n",
       "    }\n",
       "\n",
       "    .dataframe thead th {\n",
       "        text-align: right;\n",
       "    }\n",
       "</style>\n",
       "<table border=\"1\" class=\"dataframe\">\n",
       "  <thead>\n",
       "    <tr style=\"text-align: right;\">\n",
       "      <th></th>\n",
       "      <th>Date</th>\n",
       "      <th>Open</th>\n",
       "      <th>High</th>\n",
       "      <th>Low</th>\n",
       "      <th>Close</th>\n",
       "    </tr>\n",
       "  </thead>\n",
       "  <tbody>\n",
       "    <tr>\n",
       "      <th>129</th>\n",
       "      <td>07/03/2009</td>\n",
       "      <td>413.98</td>\n",
       "      <td>413.98</td>\n",
       "      <td>413.98</td>\n",
       "      <td>413.98</td>\n",
       "    </tr>\n",
       "    <tr>\n",
       "      <th>128</th>\n",
       "      <td>07/06/2009</td>\n",
       "      <td>408.50</td>\n",
       "      <td>408.50</td>\n",
       "      <td>408.50</td>\n",
       "      <td>408.50</td>\n",
       "    </tr>\n",
       "    <tr>\n",
       "      <th>127</th>\n",
       "      <td>07/07/2009</td>\n",
       "      <td>398.29</td>\n",
       "      <td>398.29</td>\n",
       "      <td>398.29</td>\n",
       "      <td>398.29</td>\n",
       "    </tr>\n",
       "    <tr>\n",
       "      <th>126</th>\n",
       "      <td>07/08/2009</td>\n",
       "      <td>397.69</td>\n",
       "      <td>397.69</td>\n",
       "      <td>397.69</td>\n",
       "      <td>397.69</td>\n",
       "    </tr>\n",
       "    <tr>\n",
       "      <th>125</th>\n",
       "      <td>07/09/2009</td>\n",
       "      <td>402.41</td>\n",
       "      <td>402.41</td>\n",
       "      <td>402.41</td>\n",
       "      <td>402.41</td>\n",
       "    </tr>\n",
       "  </tbody>\n",
       "</table>\n",
       "</div>"
      ],
      "text/plain": [
       "           Date    Open    High     Low   Close\n",
       "129  07/03/2009  413.98  413.98  413.98  413.98\n",
       "128  07/06/2009  408.50  408.50  408.50  408.50\n",
       "127  07/07/2009  398.29  398.29  398.29  398.29\n",
       "126  07/08/2009  397.69  397.69  397.69  397.69\n",
       "125  07/09/2009  402.41  402.41  402.41  402.41"
      ]
     },
     "execution_count": 259,
     "metadata": {},
     "output_type": "execute_result"
    }
   ],
   "source": [
    "df.head()"
   ]
  },
  {
   "cell_type": "code",
   "execution_count": 260,
   "id": "67640ed9",
   "metadata": {},
   "outputs": [],
   "source": [
    "df['Date'] = pd.to_datetime(df['Date'])"
   ]
  },
  {
   "cell_type": "code",
   "execution_count": 261,
   "id": "caf5b75f",
   "metadata": {},
   "outputs": [
    {
     "name": "stdout",
     "output_type": "stream",
     "text": [
      "<class 'pandas.core.frame.DataFrame'>\n",
      "Int64Index: 236 entries, 129 to 0\n",
      "Data columns (total 5 columns):\n",
      " #   Column  Non-Null Count  Dtype         \n",
      "---  ------  --------------  -----         \n",
      " 0   Date    236 non-null    datetime64[ns]\n",
      " 1   Open    236 non-null    float64       \n",
      " 2   High    236 non-null    float64       \n",
      " 3   Low     236 non-null    float64       \n",
      " 4   Close   236 non-null    float64       \n",
      "dtypes: datetime64[ns](1), float64(4)\n",
      "memory usage: 11.1 KB\n"
     ]
    }
   ],
   "source": [
    "df.info()"
   ]
  },
  {
   "cell_type": "code",
   "execution_count": 262,
   "id": "c333ccb4",
   "metadata": {},
   "outputs": [],
   "source": [
    "df['Date'] = df['Date'].dt.strftime('%Y-%m-%d')"
   ]
  },
  {
   "cell_type": "code",
   "execution_count": 263,
   "id": "d535992e",
   "metadata": {},
   "outputs": [],
   "source": [
    "df['Date'] = pd.to_datetime(df['Date'])"
   ]
  },
  {
   "cell_type": "code",
   "execution_count": 264,
   "id": "3840b2ca",
   "metadata": {},
   "outputs": [
    {
     "name": "stdout",
     "output_type": "stream",
     "text": [
      "<class 'pandas.core.frame.DataFrame'>\n",
      "Int64Index: 236 entries, 129 to 0\n",
      "Data columns (total 5 columns):\n",
      " #   Column  Non-Null Count  Dtype         \n",
      "---  ------  --------------  -----         \n",
      " 0   Date    236 non-null    datetime64[ns]\n",
      " 1   Open    236 non-null    float64       \n",
      " 2   High    236 non-null    float64       \n",
      " 3   Low     236 non-null    float64       \n",
      " 4   Close   236 non-null    float64       \n",
      "dtypes: datetime64[ns](1), float64(4)\n",
      "memory usage: 11.1 KB\n"
     ]
    }
   ],
   "source": [
    "df.info()"
   ]
  },
  {
   "cell_type": "code",
   "execution_count": 265,
   "id": "aa1c3017",
   "metadata": {},
   "outputs": [],
   "source": [
    "df = df.sort_values(by=['Date'])"
   ]
  },
  {
   "cell_type": "code",
   "execution_count": 266,
   "id": "a6013ddf",
   "metadata": {},
   "outputs": [],
   "source": [
    "df.drop(['High', 'Low', 'Close'], axis=1, inplace=True)"
   ]
  },
  {
   "cell_type": "code",
   "execution_count": 267,
   "id": "b00521f2",
   "metadata": {
    "scrolled": true
   },
   "outputs": [
    {
     "data": {
      "text/html": [
       "<div>\n",
       "<style scoped>\n",
       "    .dataframe tbody tr th:only-of-type {\n",
       "        vertical-align: middle;\n",
       "    }\n",
       "\n",
       "    .dataframe tbody tr th {\n",
       "        vertical-align: top;\n",
       "    }\n",
       "\n",
       "    .dataframe thead th {\n",
       "        text-align: right;\n",
       "    }\n",
       "</style>\n",
       "<table border=\"1\" class=\"dataframe\">\n",
       "  <thead>\n",
       "    <tr style=\"text-align: right;\">\n",
       "      <th></th>\n",
       "      <th>Date</th>\n",
       "      <th>Open</th>\n",
       "    </tr>\n",
       "  </thead>\n",
       "  <tbody>\n",
       "    <tr>\n",
       "      <th>129</th>\n",
       "      <td>2009-07-03</td>\n",
       "      <td>413.98</td>\n",
       "    </tr>\n",
       "    <tr>\n",
       "      <th>128</th>\n",
       "      <td>2009-07-06</td>\n",
       "      <td>408.50</td>\n",
       "    </tr>\n",
       "    <tr>\n",
       "      <th>127</th>\n",
       "      <td>2009-07-07</td>\n",
       "      <td>398.29</td>\n",
       "    </tr>\n",
       "    <tr>\n",
       "      <th>126</th>\n",
       "      <td>2009-07-08</td>\n",
       "      <td>397.69</td>\n",
       "    </tr>\n",
       "    <tr>\n",
       "      <th>125</th>\n",
       "      <td>2009-07-09</td>\n",
       "      <td>402.41</td>\n",
       "    </tr>\n",
       "  </tbody>\n",
       "</table>\n",
       "</div>"
      ],
      "text/plain": [
       "          Date    Open\n",
       "129 2009-07-03  413.98\n",
       "128 2009-07-06  408.50\n",
       "127 2009-07-07  398.29\n",
       "126 2009-07-08  397.69\n",
       "125 2009-07-09  402.41"
      ]
     },
     "execution_count": 267,
     "metadata": {},
     "output_type": "execute_result"
    }
   ],
   "source": [
    "df.head()"
   ]
  },
  {
   "cell_type": "code",
   "execution_count": 268,
   "id": "493031db",
   "metadata": {},
   "outputs": [
    {
     "name": "stdout",
     "output_type": "stream",
     "text": [
      "<class 'pandas.core.frame.DataFrame'>\n",
      "Int64Index: 236 entries, 129 to 0\n",
      "Data columns (total 2 columns):\n",
      " #   Column  Non-Null Count  Dtype         \n",
      "---  ------  --------------  -----         \n",
      " 0   Date    236 non-null    datetime64[ns]\n",
      " 1   Open    236 non-null    float64       \n",
      "dtypes: datetime64[ns](1), float64(1)\n",
      "memory usage: 5.5 KB\n"
     ]
    }
   ],
   "source": [
    "df.info()"
   ]
  },
  {
   "cell_type": "code",
   "execution_count": 269,
   "id": "7db5605b",
   "metadata": {},
   "outputs": [],
   "source": [
    "df.set_index('Date', inplace=True)"
   ]
  },
  {
   "cell_type": "code",
   "execution_count": 270,
   "id": "e608dfe0",
   "metadata": {},
   "outputs": [
    {
     "data": {
      "text/html": [
       "<div>\n",
       "<style scoped>\n",
       "    .dataframe tbody tr th:only-of-type {\n",
       "        vertical-align: middle;\n",
       "    }\n",
       "\n",
       "    .dataframe tbody tr th {\n",
       "        vertical-align: top;\n",
       "    }\n",
       "\n",
       "    .dataframe thead th {\n",
       "        text-align: right;\n",
       "    }\n",
       "</style>\n",
       "<table border=\"1\" class=\"dataframe\">\n",
       "  <thead>\n",
       "    <tr style=\"text-align: right;\">\n",
       "      <th></th>\n",
       "      <th>Open</th>\n",
       "    </tr>\n",
       "    <tr>\n",
       "      <th>Date</th>\n",
       "      <th></th>\n",
       "    </tr>\n",
       "  </thead>\n",
       "  <tbody>\n",
       "    <tr>\n",
       "      <th>2009-07-03</th>\n",
       "      <td>413.98</td>\n",
       "    </tr>\n",
       "    <tr>\n",
       "      <th>2009-07-06</th>\n",
       "      <td>408.50</td>\n",
       "    </tr>\n",
       "    <tr>\n",
       "      <th>2009-07-07</th>\n",
       "      <td>398.29</td>\n",
       "    </tr>\n",
       "    <tr>\n",
       "      <th>2009-07-08</th>\n",
       "      <td>397.69</td>\n",
       "    </tr>\n",
       "    <tr>\n",
       "      <th>2009-07-09</th>\n",
       "      <td>402.41</td>\n",
       "    </tr>\n",
       "  </tbody>\n",
       "</table>\n",
       "</div>"
      ],
      "text/plain": [
       "              Open\n",
       "Date              \n",
       "2009-07-03  413.98\n",
       "2009-07-06  408.50\n",
       "2009-07-07  398.29\n",
       "2009-07-08  397.69\n",
       "2009-07-09  402.41"
      ]
     },
     "execution_count": 270,
     "metadata": {},
     "output_type": "execute_result"
    }
   ],
   "source": [
    "df.head()"
   ]
  },
  {
   "cell_type": "code",
   "execution_count": 271,
   "id": "aa4d5777",
   "metadata": {
    "scrolled": true
   },
   "outputs": [
    {
     "name": "stdout",
     "output_type": "stream",
     "text": [
      "<class 'pandas.core.frame.DataFrame'>\n",
      "DatetimeIndex: 236 entries, 2009-07-03 to 2010-05-31\n",
      "Data columns (total 1 columns):\n",
      " #   Column  Non-Null Count  Dtype  \n",
      "---  ------  --------------  -----  \n",
      " 0   Open    236 non-null    float64\n",
      "dtypes: float64(1)\n",
      "memory usage: 3.7 KB\n"
     ]
    }
   ],
   "source": [
    "df.info()"
   ]
  },
  {
   "cell_type": "code",
   "execution_count": 272,
   "id": "dcd05d4d",
   "metadata": {},
   "outputs": [],
   "source": [
    "df.rename({'Open':'Price'}, axis=1, inplace=True)"
   ]
  },
  {
   "cell_type": "code",
   "execution_count": 273,
   "id": "25261f7e",
   "metadata": {},
   "outputs": [
    {
     "name": "stdout",
     "output_type": "stream",
     "text": [
      "<class 'pandas.core.frame.DataFrame'>\n",
      "DatetimeIndex: 236 entries, 2009-07-03 to 2010-05-31\n",
      "Data columns (total 1 columns):\n",
      " #   Column  Non-Null Count  Dtype  \n",
      "---  ------  --------------  -----  \n",
      " 0   Price   236 non-null    float64\n",
      "dtypes: float64(1)\n",
      "memory usage: 3.7 KB\n"
     ]
    }
   ],
   "source": [
    "df.info()"
   ]
  },
  {
   "cell_type": "code",
   "execution_count": 274,
   "id": "2fd09c06",
   "metadata": {
    "scrolled": true
   },
   "outputs": [
    {
     "data": {
      "text/html": [
       "<div>\n",
       "<style scoped>\n",
       "    .dataframe tbody tr th:only-of-type {\n",
       "        vertical-align: middle;\n",
       "    }\n",
       "\n",
       "    .dataframe tbody tr th {\n",
       "        vertical-align: top;\n",
       "    }\n",
       "\n",
       "    .dataframe thead th {\n",
       "        text-align: right;\n",
       "    }\n",
       "</style>\n",
       "<table border=\"1\" class=\"dataframe\">\n",
       "  <thead>\n",
       "    <tr style=\"text-align: right;\">\n",
       "      <th></th>\n",
       "      <th>Price</th>\n",
       "    </tr>\n",
       "    <tr>\n",
       "      <th>Date</th>\n",
       "      <th></th>\n",
       "    </tr>\n",
       "  </thead>\n",
       "  <tbody>\n",
       "    <tr>\n",
       "      <th>2010-05-17</th>\n",
       "      <td>477.30</td>\n",
       "    </tr>\n",
       "    <tr>\n",
       "      <th>2010-05-18</th>\n",
       "      <td>473.55</td>\n",
       "    </tr>\n",
       "    <tr>\n",
       "      <th>2010-05-19</th>\n",
       "      <td>468.62</td>\n",
       "    </tr>\n",
       "    <tr>\n",
       "      <th>2010-05-20</th>\n",
       "      <td>447.39</td>\n",
       "    </tr>\n",
       "    <tr>\n",
       "      <th>2010-05-21</th>\n",
       "      <td>455.33</td>\n",
       "    </tr>\n",
       "  </tbody>\n",
       "</table>\n",
       "</div>"
      ],
      "text/plain": [
       "             Price\n",
       "Date              \n",
       "2010-05-17  477.30\n",
       "2010-05-18  473.55\n",
       "2010-05-19  468.62\n",
       "2010-05-20  447.39\n",
       "2010-05-21  455.33"
      ]
     },
     "execution_count": 274,
     "metadata": {},
     "output_type": "execute_result"
    }
   ],
   "source": [
    "df_oil.head()"
   ]
  },
  {
   "cell_type": "code",
   "execution_count": 275,
   "id": "e108b0af",
   "metadata": {},
   "outputs": [],
   "source": [
    "df_oil.drop(['2010-05-17', '2010-05-18','2010-05-19', '2010-05-20', '2010-05-21', '2010-05-24','2010-05-25', '2010-05-26', '2010-05-27', '2010-05-28'], axis=0, inplace=True)"
   ]
  },
  {
   "cell_type": "code",
   "execution_count": 276,
   "id": "81c3b851",
   "metadata": {},
   "outputs": [
    {
     "data": {
      "text/html": [
       "<div>\n",
       "<style scoped>\n",
       "    .dataframe tbody tr th:only-of-type {\n",
       "        vertical-align: middle;\n",
       "    }\n",
       "\n",
       "    .dataframe tbody tr th {\n",
       "        vertical-align: top;\n",
       "    }\n",
       "\n",
       "    .dataframe thead th {\n",
       "        text-align: right;\n",
       "    }\n",
       "</style>\n",
       "<table border=\"1\" class=\"dataframe\">\n",
       "  <thead>\n",
       "    <tr style=\"text-align: right;\">\n",
       "      <th></th>\n",
       "      <th>Price</th>\n",
       "    </tr>\n",
       "    <tr>\n",
       "      <th>Date</th>\n",
       "      <th></th>\n",
       "    </tr>\n",
       "  </thead>\n",
       "  <tbody>\n",
       "    <tr>\n",
       "      <th>2010-06-01</th>\n",
       "      <td>433.76</td>\n",
       "    </tr>\n",
       "    <tr>\n",
       "      <th>2010-06-02</th>\n",
       "      <td>452.37</td>\n",
       "    </tr>\n",
       "    <tr>\n",
       "      <th>2010-06-03</th>\n",
       "      <td>458.32</td>\n",
       "    </tr>\n",
       "    <tr>\n",
       "      <th>2010-06-04</th>\n",
       "      <td>442.68</td>\n",
       "    </tr>\n",
       "    <tr>\n",
       "      <th>2010-06-07</th>\n",
       "      <td>439.00</td>\n",
       "    </tr>\n",
       "  </tbody>\n",
       "</table>\n",
       "</div>"
      ],
      "text/plain": [
       "             Price\n",
       "Date              \n",
       "2010-06-01  433.76\n",
       "2010-06-02  452.37\n",
       "2010-06-03  458.32\n",
       "2010-06-04  442.68\n",
       "2010-06-07  439.00"
      ]
     },
     "execution_count": 276,
     "metadata": {},
     "output_type": "execute_result"
    }
   ],
   "source": [
    "df_oil.head()"
   ]
  },
  {
   "cell_type": "code",
   "execution_count": 277,
   "id": "9a2bfb8b",
   "metadata": {},
   "outputs": [],
   "source": [
    "df_oil = pd.concat([df_oil, df])"
   ]
  },
  {
   "cell_type": "code",
   "execution_count": 278,
   "id": "3e07544b",
   "metadata": {},
   "outputs": [],
   "source": [
    "df_oil = df_oil.sort_values(by=['Date'])"
   ]
  },
  {
   "cell_type": "code",
   "execution_count": 279,
   "id": "36cc5055",
   "metadata": {},
   "outputs": [
    {
     "data": {
      "text/html": [
       "<div>\n",
       "<style scoped>\n",
       "    .dataframe tbody tr th:only-of-type {\n",
       "        vertical-align: middle;\n",
       "    }\n",
       "\n",
       "    .dataframe tbody tr th {\n",
       "        vertical-align: top;\n",
       "    }\n",
       "\n",
       "    .dataframe thead th {\n",
       "        text-align: right;\n",
       "    }\n",
       "</style>\n",
       "<table border=\"1\" class=\"dataframe\">\n",
       "  <thead>\n",
       "    <tr style=\"text-align: right;\">\n",
       "      <th></th>\n",
       "      <th>Price</th>\n",
       "    </tr>\n",
       "    <tr>\n",
       "      <th>Date</th>\n",
       "      <th></th>\n",
       "    </tr>\n",
       "  </thead>\n",
       "  <tbody>\n",
       "    <tr>\n",
       "      <th>2009-07-03</th>\n",
       "      <td>413.98</td>\n",
       "    </tr>\n",
       "    <tr>\n",
       "      <th>2009-07-06</th>\n",
       "      <td>408.50</td>\n",
       "    </tr>\n",
       "    <tr>\n",
       "      <th>2009-07-07</th>\n",
       "      <td>398.29</td>\n",
       "    </tr>\n",
       "    <tr>\n",
       "      <th>2009-07-08</th>\n",
       "      <td>397.69</td>\n",
       "    </tr>\n",
       "    <tr>\n",
       "      <th>2009-07-09</th>\n",
       "      <td>402.41</td>\n",
       "    </tr>\n",
       "  </tbody>\n",
       "</table>\n",
       "</div>"
      ],
      "text/plain": [
       "             Price\n",
       "Date              \n",
       "2009-07-03  413.98\n",
       "2009-07-06  408.50\n",
       "2009-07-07  398.29\n",
       "2009-07-08  397.69\n",
       "2009-07-09  402.41"
      ]
     },
     "execution_count": 279,
     "metadata": {},
     "output_type": "execute_result"
    }
   ],
   "source": [
    "df_oil.head()"
   ]
  },
  {
   "cell_type": "code",
   "execution_count": 280,
   "id": "44d33d4b",
   "metadata": {},
   "outputs": [],
   "source": [
    "y_oil = df_oil['Price'] "
   ]
  },
  {
   "cell_type": "code",
   "execution_count": 281,
   "id": "977280bc",
   "metadata": {
    "scrolled": false
   },
   "outputs": [
    {
     "data": {
      "text/plain": [
       "<Axes: xlabel='Date'>"
      ]
     },
     "execution_count": 281,
     "metadata": {},
     "output_type": "execute_result"
    },
    {
     "data": {
      "image/png": "[encoded data removed]",
      "text/plain": [
       "<Figure size 640x480 with 1 Axes>"
      ]
     },
     "metadata": {},
     "output_type": "display_data"
    }
   ],
   "source": [
    "y_oil.plot()"
   ]
  },
  {
   "cell_type": "code",
   "execution_count": 282,
   "id": "ab650076",
   "metadata": {},
   "outputs": [
    {
     "data": {
      "text/plain": [
       "(-2.3673391956961205,\n",
       " 0.15116761984427718,\n",
       " 6,\n",
       " 2666,\n",
       " {'1%': -3.432805216616629,\n",
       "  '5%': -2.8626247313505173,\n",
       "  '10%': -2.5673474394742724},\n",
       " 18345.813441955044)"
      ]
     },
     "execution_count": 282,
     "metadata": {},
     "output_type": "execute_result"
    }
   ],
   "source": [
    "res = adfuller(y_oil)\n",
    "res"
   ]
  },
  {
   "cell_type": "code",
   "execution_count": 283,
   "id": "09260c88",
   "metadata": {},
   "outputs": [],
   "source": [
    "df_diff = y_oil.diff().dropna()"
   ]
  },
  {
   "cell_type": "code",
   "execution_count": 284,
   "id": "73b7f214",
   "metadata": {},
   "outputs": [
    {
     "data": {
      "text/plain": [
       "Date\n",
       "2009-07-06    -5.48\n",
       "2009-07-07   -10.21\n",
       "2009-07-08    -0.60\n",
       "2009-07-09     4.72\n",
       "2009-07-10    -4.20\n",
       "Name: Price, dtype: float64"
      ]
     },
     "execution_count": 284,
     "metadata": {},
     "output_type": "execute_result"
    }
   ],
   "source": [
    "df_diff.head()"
   ]
  },
  {
   "cell_type": "code",
   "execution_count": 285,
   "id": "3f00bcb7",
   "metadata": {},
   "outputs": [
    {
     "data": {
      "text/plain": [
       "<bound method NDFrame.describe of Date\n",
       "2009-07-06    -5.48\n",
       "2009-07-07   -10.21\n",
       "2009-07-08    -0.60\n",
       "2009-07-09     4.72\n",
       "2009-07-10    -4.20\n",
       "              ...  \n",
       "2020-01-27   -13.13\n",
       "2020-01-28     2.15\n",
       "2020-01-29    -5.05\n",
       "2020-01-30     3.69\n",
       "2020-01-31   -14.10\n",
       "Name: Price, Length: 2672, dtype: float64>"
      ]
     },
     "execution_count": 285,
     "metadata": {},
     "output_type": "execute_result"
    }
   ],
   "source": [
    "df_diff.describe"
   ]
  },
  {
   "cell_type": "code",
   "execution_count": 286,
   "id": "459ef958",
   "metadata": {},
   "outputs": [
    {
     "data": {
      "text/plain": [
       "<Axes: xlabel='Date'>"
      ]
     },
     "execution_count": 286,
     "metadata": {},
     "output_type": "execute_result"
    },
    {
     "data": {
      "image/png": "[encoded data removed]",
      "text/plain": [
       "<Figure size 640x480 with 1 Axes>"
      ]
     },
     "metadata": {},
     "output_type": "display_data"
    }
   ],
   "source": [
    "df_diff.plot()"
   ]
  },
  {
   "cell_type": "code",
   "execution_count": 287,
   "id": "df88e93e",
   "metadata": {},
   "outputs": [
    {
     "data": {
      "text/plain": [
       "(-21.307269949343016,\n",
       " 0.0,\n",
       " 5,\n",
       " 2666,\n",
       " {'1%': -3.432805216616629,\n",
       "  '5%': -2.8626247313505173,\n",
       "  '10%': -2.5673474394742724},\n",
       " 18342.30360458642)"
      ]
     },
     "execution_count": 287,
     "metadata": {},
     "output_type": "execute_result"
    }
   ],
   "source": [
    "res_diff = adfuller(df_diff)\n",
    "res_diff"
   ]
  },
  {
   "cell_type": "code",
   "execution_count": 288,
   "id": "c7c6329d",
   "metadata": {},
   "outputs": [],
   "source": [
    "oil_log = np.log(df_oil/df_oil.shift(1))\n",
    "oil_log = oil_log.dropna()"
   ]
  },
  {
   "cell_type": "code",
   "execution_count": 289,
   "id": "30529954",
   "metadata": {},
   "outputs": [
    {
     "name": "stdout",
     "output_type": "stream",
     "text": [
      "<class 'pandas.core.frame.DataFrame'>\n",
      "DatetimeIndex: 2672 entries, 2009-07-06 to 2020-01-31\n",
      "Data columns (total 1 columns):\n",
      " #   Column  Non-Null Count  Dtype  \n",
      "---  ------  --------------  -----  \n",
      " 0   Price   2672 non-null   float64\n",
      "dtypes: float64(1)\n",
      "memory usage: 41.8 KB\n"
     ]
    }
   ],
   "source": [
    "oil_log.info()"
   ]
  },
  {
   "cell_type": "code",
   "execution_count": 290,
   "id": "ac89b075",
   "metadata": {
    "scrolled": true
   },
   "outputs": [
    {
     "data": {
      "text/plain": [
       "(-21.398372390907667,\n",
       " 0.0,\n",
       " 5,\n",
       " 2666,\n",
       " {'1%': -3.432805216616629,\n",
       "  '5%': -2.8626247313505173,\n",
       "  '10%': -2.5673474394742724},\n",
       " -15186.509503118054)"
      ]
     },
     "execution_count": 290,
     "metadata": {},
     "output_type": "execute_result"
    }
   ],
   "source": [
    "res_log = adfuller(oil_log)\n",
    "res_log"
   ]
  },
  {
   "cell_type": "code",
   "execution_count": 291,
   "id": "c8cdc201",
   "metadata": {
    "scrolled": true
   },
   "outputs": [
    {
     "data": {
      "text/plain": [
       "<Axes: xlabel='Date'>"
      ]
     },
     "execution_count": 291,
     "metadata": {},
     "output_type": "execute_result"
    },
    {
     "data": {
      "image/png": "[encoded data removed]",
      "text/plain": [
       "<Figure size 640x480 with 1 Axes>"
      ]
     },
     "metadata": {},
     "output_type": "display_data"
    }
   ],
   "source": [
    "oil_log.plot()"
   ]
  },
  {
   "cell_type": "markdown",
   "id": "66b41128",
   "metadata": {},
   "source": [
    "### Taking the log makes little difference in the resulting statistics so using diff rather than log"
   ]
  },
  {
   "cell_type": "code",
   "execution_count": 292,
   "id": "3be84a94",
   "metadata": {},
   "outputs": [
    {
     "name": "stderr",
     "output_type": "stream",
     "text": [
      "/Users/butler/anaconda3/envs/Capstone_three/lib/python3.9/site-packages/statsmodels/tsa/base/tsa_model.py:471: ValueWarning: A date index has been provided, but it has no associated frequency information and so will be ignored when e.g. forecasting.\n",
      "  self._init_dates(dates, freq)\n",
      "/Users/butler/anaconda3/envs/Capstone_three/lib/python3.9/site-packages/statsmodels/tsa/base/tsa_model.py:471: ValueWarning: A date index has been provided, but it has no associated frequency information and so will be ignored when e.g. forecasting.\n",
      "  self._init_dates(dates, freq)\n",
      "/Users/butler/anaconda3/envs/Capstone_three/lib/python3.9/site-packages/statsmodels/tsa/base/tsa_model.py:471: ValueWarning: A date index has been provided, but it has no associated frequency information and so will be ignored when e.g. forecasting.\n",
      "  self._init_dates(dates, freq)\n",
      "/Users/butler/anaconda3/envs/Capstone_three/lib/python3.9/site-packages/statsmodels/tsa/statespace/sarimax.py:966: UserWarning: Non-stationary starting autoregressive parameters found. Using zeros as starting parameters.\n",
      "  warn('Non-stationary starting autoregressive parameters'\n",
      "/Users/butler/anaconda3/envs/Capstone_three/lib/python3.9/site-packages/statsmodels/tsa/statespace/sarimax.py:978: UserWarning: Non-invertible starting MA parameters found. Using zeros as starting parameters.\n",
      "  warn('Non-invertible starting MA parameters found.'\n"
     ]
    }
   ],
   "source": [
    "mod = ARIMA(df_oil, order=(1, 1, 1))\n",
    "res = mod.fit()"
   ]
  },
  {
   "cell_type": "code",
   "execution_count": 293,
   "id": "8ec82fb9",
   "metadata": {},
   "outputs": [
    {
     "data": {
      "text/html": [
       "<table class=\"simpletable\">\n",
       "<caption>SARIMAX Results</caption>\n",
       "<tr>\n",
       "  <th>Dep. Variable:</th>         <td>Price</td>      <th>  No. Observations:  </th>   <td>2673</td>   \n",
       "</tr>\n",
       "<tr>\n",
       "  <th>Model:</th>            <td>ARIMA(1, 1, 1)</td>  <th>  Log Likelihood     </th> <td>-9264.469</td>\n",
       "</tr>\n",
       "<tr>\n",
       "  <th>Date:</th>            <td>Tue, 01 Aug 2023</td> <th>  AIC                </th> <td>18534.937</td>\n",
       "</tr>\n",
       "<tr>\n",
       "  <th>Time:</th>                <td>09:42:06</td>     <th>  BIC                </th> <td>18552.609</td>\n",
       "</tr>\n",
       "<tr>\n",
       "  <th>Sample:</th>                  <td>0</td>        <th>  HQIC               </th> <td>18541.331</td>\n",
       "</tr>\n",
       "<tr>\n",
       "  <th></th>                      <td> - 2673</td>     <th>                     </th>     <td> </td>    \n",
       "</tr>\n",
       "<tr>\n",
       "  <th>Covariance Type:</th>        <td>opg</td>       <th>                     </th>     <td> </td>    \n",
       "</tr>\n",
       "</table>\n",
       "<table class=\"simpletable\">\n",
       "<tr>\n",
       "     <td></td>       <th>coef</th>     <th>std err</th>      <th>z</th>      <th>P>|z|</th>  <th>[0.025</th>    <th>0.975]</th>  \n",
       "</tr>\n",
       "<tr>\n",
       "  <th>ar.L1</th>  <td>   -0.8916</td> <td>    0.052</td> <td>  -17.261</td> <td> 0.000</td> <td>   -0.993</td> <td>   -0.790</td>\n",
       "</tr>\n",
       "<tr>\n",
       "  <th>ma.L1</th>  <td>    0.8608</td> <td>    0.058</td> <td>   14.820</td> <td> 0.000</td> <td>    0.747</td> <td>    0.975</td>\n",
       "</tr>\n",
       "<tr>\n",
       "  <th>sigma2</th> <td>   60.1360</td> <td>    1.146</td> <td>   52.457</td> <td> 0.000</td> <td>   57.889</td> <td>   62.383</td>\n",
       "</tr>\n",
       "</table>\n",
       "<table class=\"simpletable\">\n",
       "<tr>\n",
       "  <th>Ljung-Box (L1) (Q):</th>     <td>2.09</td> <th>  Jarque-Bera (JB):  </th> <td>629.44</td>\n",
       "</tr>\n",
       "<tr>\n",
       "  <th>Prob(Q):</th>                <td>0.15</td> <th>  Prob(JB):          </th>  <td>0.00</td> \n",
       "</tr>\n",
       "<tr>\n",
       "  <th>Heteroskedasticity (H):</th> <td>0.64</td> <th>  Skew:              </th>  <td>-0.38</td>\n",
       "</tr>\n",
       "<tr>\n",
       "  <th>Prob(H) (two-sided):</th>    <td>0.00</td> <th>  Kurtosis:          </th>  <td>5.25</td> \n",
       "</tr>\n",
       "</table><br/><br/>Warnings:<br/>[1] Covariance matrix calculated using the outer product of gradients (complex-step)."
      ],
      "text/plain": [
       "<class 'statsmodels.iolib.summary.Summary'>\n",
       "\"\"\"\n",
       "                               SARIMAX Results                                \n",
       "==============================================================================\n",
       "Dep. Variable:                  Price   No. Observations:                 2673\n",
       "Model:                 ARIMA(1, 1, 1)   Log Likelihood               -9264.469\n",
       "Date:                Tue, 01 Aug 2023   AIC                          18534.937\n",
       "Time:                        09:42:06   BIC                          18552.609\n",
       "Sample:                             0   HQIC                         18541.331\n",
       "                               - 2673                                         \n",
       "Covariance Type:                  opg                                         \n",
       "==============================================================================\n",
       "                 coef    std err          z      P>|z|      [0.025      0.975]\n",
       "------------------------------------------------------------------------------\n",
       "ar.L1         -0.8916      0.052    -17.261      0.000      -0.993      -0.790\n",
       "ma.L1          0.8608      0.058     14.820      0.000       0.747       0.975\n",
       "sigma2        60.1360      1.146     52.457      0.000      57.889      62.383\n",
       "===================================================================================\n",
       "Ljung-Box (L1) (Q):                   2.09   Jarque-Bera (JB):               629.44\n",
       "Prob(Q):                              0.15   Prob(JB):                         0.00\n",
       "Heteroskedasticity (H):               0.64   Skew:                            -0.38\n",
       "Prob(H) (two-sided):                  0.00   Kurtosis:                         5.25\n",
       "===================================================================================\n",
       "\n",
       "Warnings:\n",
       "[1] Covariance matrix calculated using the outer product of gradients (complex-step).\n",
       "\"\"\""
      ]
     },
     "execution_count": 293,
     "metadata": {},
     "output_type": "execute_result"
    }
   ],
   "source": [
    "res.summary()"
   ]
  },
  {
   "cell_type": "code",
   "execution_count": 302,
   "id": "0a002a3c",
   "metadata": {},
   "outputs": [],
   "source": [
    "y_pred = res.predict(\"2019-01-31\", \"2020-01-31\")"
   ]
  },
  {
   "cell_type": "code",
   "execution_count": 303,
   "id": "d3ee0f17",
   "metadata": {},
   "outputs": [
    {
     "data": {
      "image/png": "[encoded data removed]",
      "text/plain": [
       "<Figure size 640x480 with 1 Axes>"
      ]
     },
     "metadata": {},
     "output_type": "display_data"
    }
   ],
   "source": [
    "y_oil.plot(label=\"Actual\")\n",
    "y_pred.plot(label=\"Predicted\")\n",
    "plt.legend()\n",
    "plt.xlabel('Date')\n",
    "plt.ylabel('Dow_Jones Oil &_Gas Price')\n",
    "plt.show()"
   ]
  },
  {
   "cell_type": "markdown",
   "id": "77f127c0",
   "metadata": {},
   "source": [
    "## Note to self: Armax with exog variables as number and sentiment of tv news day before?"
   ]
  },
  {
   "cell_type": "code",
   "execution_count": 190,
   "id": "5db93c79",
   "metadata": {},
   "outputs": [
    {
     "data": {
      "text/plain": [
       "Date\n",
       "2023-06-26    102.376920\n",
       "2023-06-27    102.398087\n",
       "2023-06-28    102.378676\n",
       "2023-06-29    102.396477\n",
       "2023-06-30    102.380152\n",
       "2023-07-03    102.395123\n",
       "2023-07-05    102.381394\n",
       "2023-07-06    102.393984\n",
       "2023-07-07    102.382439\n",
       "2023-07-10    102.393026\n",
       "2023-07-11    102.383317\n",
       "2023-07-12    102.392221\n",
       "2023-07-13    102.384056\n",
       "2023-07-14    102.391543\n",
       "2023-07-17    102.384677\n",
       "2023-07-18    102.390974\n",
       "2023-07-19    102.385199\n",
       "2023-07-20    102.390495\n",
       "2023-07-21    102.385638\n",
       "2023-07-24    102.390092\n",
       "2023-07-25    102.386008\n",
       "2023-07-26    102.389753\n",
       "2023-07-27    102.386319\n",
       "2023-07-28    102.389468\n",
       "2023-07-31    102.386580\n",
       "Name: predicted_mean, dtype: float64"
      ]
     },
     "execution_count": 190,
     "metadata": {},
     "output_type": "execute_result"
    }
   ],
   "source": [
    "mean_forecast"
   ]
  },
  {
   "cell_type": "code",
   "execution_count": 190,
   "id": "8aa6f6aa",
   "metadata": {},
   "outputs": [
    {
     "data": {
      "text/plain": [
       "Date\n",
       "2023-06-26    102.376920\n",
       "2023-06-27    102.398087\n",
       "2023-06-28    102.378676\n",
       "2023-06-29    102.396477\n",
       "2023-06-30    102.380152\n",
       "2023-07-03    102.395123\n",
       "2023-07-05    102.381394\n",
       "2023-07-06    102.393984\n",
       "2023-07-07    102.382439\n",
       "2023-07-10    102.393026\n",
       "2023-07-11    102.383317\n",
       "2023-07-12    102.392221\n",
       "2023-07-13    102.384056\n",
       "2023-07-14    102.391543\n",
       "2023-07-17    102.384677\n",
       "2023-07-18    102.390974\n",
       "2023-07-19    102.385199\n",
       "2023-07-20    102.390495\n",
       "2023-07-21    102.385638\n",
       "2023-07-24    102.390092\n",
       "2023-07-25    102.386008\n",
       "2023-07-26    102.389753\n",
       "2023-07-27    102.386319\n",
       "2023-07-28    102.389468\n",
       "2023-07-31    102.386580\n",
       "Name: predicted_mean, dtype: float64"
      ]
     },
     "execution_count": 190,
     "metadata": {},
     "output_type": "execute_result"
    }
   ],
   "source": [
    "mean_forecast"
   ]
  },
  {
   "cell_type": "code",
   "execution_count": 294,
   "id": "4a98e2fb",
   "metadata": {},
   "outputs": [],
   "source": [
    "forecast = res.get_prediction(start=-300, dynamic=True)"
   ]
  },
  {
   "cell_type": "code",
   "execution_count": 300,
   "id": "5e5b95e1",
   "metadata": {},
   "outputs": [
    {
     "data": {
      "text/plain": [
       "<statsmodels.tsa.statespace.mlemodel.PredictionResultsWrapper at 0x168c5f910>"
      ]
     },
     "execution_count": 300,
     "metadata": {},
     "output_type": "execute_result"
    }
   ],
   "source": [
    "forecast"
   ]
  },
  {
   "cell_type": "code",
   "execution_count": 295,
   "id": "ebb9f7be",
   "metadata": {},
   "outputs": [],
   "source": [
    "mean_forecast = forecast.predicted_mean"
   ]
  },
  {
   "cell_type": "code",
   "execution_count": 296,
   "id": "7cb62980",
   "metadata": {},
   "outputs": [],
   "source": [
    "confidence_intervals = forecast.conf_int()"
   ]
  },
  {
   "cell_type": "code",
   "execution_count": 297,
   "id": "c8393950",
   "metadata": {},
   "outputs": [],
   "source": [
    "lower_limits = confidence_intervals.loc[:,'lower Price']\n",
    "upper_limits = confidence_intervals.loc[:,'upper Price']"
   ]
  },
  {
   "cell_type": "code",
   "execution_count": 298,
   "id": "39b30656",
   "metadata": {
    "scrolled": true
   },
   "outputs": [
    {
     "name": "stdout",
     "output_type": "stream",
     "text": [
      "Date\n",
      "2018-11-20    550.565859\n",
      "2018-11-21    550.837038\n",
      "2018-11-23    550.595249\n",
      "2018-11-26    550.810833\n",
      "2018-11-27    550.618614\n",
      "                 ...    \n",
      "2020-01-27    550.709217\n",
      "2020-01-28    550.709217\n",
      "2020-01-29    550.709217\n",
      "2020-01-30    550.709217\n",
      "2020-01-31    550.709217\n",
      "Name: predicted_mean, Length: 300, dtype: float64\n"
     ]
    }
   ],
   "source": [
    "print(mean_forecast)"
   ]
  },
  {
   "cell_type": "code",
   "execution_count": null,
   "id": "0b31e777",
   "metadata": {},
   "outputs": [],
   "source": []
  },
  {
   "cell_type": "code",
   "execution_count": 190,
   "id": "8ee4af8c",
   "metadata": {},
   "outputs": [
    {
     "data": {
      "text/plain": [
       "Date\n",
       "2023-06-26    102.376920\n",
       "2023-06-27    102.398087\n",
       "2023-06-28    102.378676\n",
       "2023-06-29    102.396477\n",
       "2023-06-30    102.380152\n",
       "2023-07-03    102.395123\n",
       "2023-07-05    102.381394\n",
       "2023-07-06    102.393984\n",
       "2023-07-07    102.382439\n",
       "2023-07-10    102.393026\n",
       "2023-07-11    102.383317\n",
       "2023-07-12    102.392221\n",
       "2023-07-13    102.384056\n",
       "2023-07-14    102.391543\n",
       "2023-07-17    102.384677\n",
       "2023-07-18    102.390974\n",
       "2023-07-19    102.385199\n",
       "2023-07-20    102.390495\n",
       "2023-07-21    102.385638\n",
       "2023-07-24    102.390092\n",
       "2023-07-25    102.386008\n",
       "2023-07-26    102.389753\n",
       "2023-07-27    102.386319\n",
       "2023-07-28    102.389468\n",
       "2023-07-31    102.386580\n",
       "Name: predicted_mean, dtype: float64"
      ]
     },
     "execution_count": 190,
     "metadata": {},
     "output_type": "execute_result"
    }
   ],
   "source": [
    "mean_forecast"
   ]
  },
  {
   "cell_type": "code",
   "execution_count": 299,
   "id": "0fc15d2b",
   "metadata": {
    "scrolled": true
   },
   "outputs": [
    {
     "data": {
      "image/png": "[encoded data removed]",
      "text/plain": [
       "<Figure size 640x480 with 1 Axes>"
      ]
     },
     "metadata": {},
     "output_type": "display_data"
    }
   ],
   "source": [
    "# plotting the df_oil data\n",
    "plt.plot(df_oil.index, df_oil, label='observed')\n",
    "\n",
    "# plotting the mean forecast\n",
    "plt.plot(mean_forecast.index, mean_forecast, color='r', label='forecast')\n",
    "\n",
    "# shading area between confidence limits\n",
    "plt.fill_between(lower_limits.index, lower_limits, upper_limits, color='pink')\n",
    "\n",
    "\n",
    "plt.xlabel('Date')\n",
    "plt.ylabel('Dow_Jones Oil &_Gas Price')\n",
    "plt.legend()\n",
    "plt.show()"
   ]
  },
  {
   "cell_type": "code",
   "execution_count": 132,
   "id": "bfeeaed4",
   "metadata": {},
   "outputs": [],
   "source": [
    "df_oil.to_csv('/Users/butler/Documents/GitHub/projects/Capstone_three/data/interim/DJUSEN_2009-07_to_2020_01.csv')"
   ]
  },
  {
   "cell_type": "code",
   "execution_count": 139,
   "id": "f7aa7def",
   "metadata": {},
   "outputs": [],
   "source": [
    "forecast = res.get_prediction(start=-25, dynamic=True)"
   ]
  },
  {
   "cell_type": "code",
   "execution_count": 140,
   "id": "8d8cea42",
   "metadata": {},
   "outputs": [],
   "source": [
    "mean_forecast = forecast.predicted_mean"
   ]
  },
  {
   "cell_type": "code",
   "execution_count": 141,
   "id": "a7b78433",
   "metadata": {},
   "outputs": [],
   "source": [
    "confidence_intervals = forecast.conf_int()"
   ]
  },
  {
   "cell_type": "code",
   "execution_count": 142,
   "id": "12f21284",
   "metadata": {},
   "outputs": [],
   "source": [
    "lower_limits = confidence_intervals.loc[:,'lower Price']\n",
    "upper_limits = confidence_intervals.loc[:,'upper Price']"
   ]
  },
  {
   "cell_type": "code",
   "execution_count": 143,
   "id": "4c34baa8",
   "metadata": {},
   "outputs": [
    {
     "name": "stdout",
     "output_type": "stream",
     "text": [
      "Date\n",
      "2019-12-26    498.919517\n",
      "2019-12-27    499.232015\n",
      "2019-12-30    498.953385\n",
      "2019-12-31    499.201817\n",
      "2020-01-02    498.980310\n",
      "2020-01-03    499.177811\n",
      "2020-01-06    499.001715\n",
      "2020-01-07    499.158726\n",
      "2020-01-08    499.018732\n",
      "2020-01-09    499.143553\n",
      "2020-01-10    499.032260\n",
      "2020-01-13    499.131491\n",
      "2020-01-14    499.043014\n",
      "2020-01-15    499.121902\n",
      "2020-01-16    499.051564\n",
      "2020-01-17    499.114279\n",
      "2020-01-21    499.058361\n",
      "2020-01-22    499.108219\n",
      "2020-01-23    499.063765\n",
      "2020-01-24    499.103401\n",
      "2020-01-27    499.068060\n",
      "2020-01-28    499.099571\n",
      "2020-01-29    499.071475\n",
      "2020-01-30    499.096526\n",
      "2020-01-31    499.074190\n",
      "Name: predicted_mean, dtype: float64\n"
     ]
    }
   ],
   "source": [
    "print(mean_forecast)"
   ]
  },
  {
   "cell_type": "code",
   "execution_count": 160,
   "id": "1656d797",
   "metadata": {
    "scrolled": true
   },
   "outputs": [
    {
     "data": {
      "image/png": "[encoded data removed]",
      "text/plain": [
       "<Figure size 640x480 with 1 Axes>"
      ]
     },
     "metadata": {},
     "output_type": "display_data"
    }
   ],
   "source": [
    "# plotting the df_oil data\n",
    "plt.plot(df_oil.index, df_oil, label='observed')\n",
    "\n",
    "# plotting the mean forecast\n",
    "plt.plot(mean_forecast.index, mean_forecast, color='r', label='forecast')\n",
    "\n",
    "# shading area between confidence limits\n",
    "plt.fill_between(lower_limits.index, lower_limits, upper_limits, color='pink')\n",
    "\n",
    "\n",
    "plt.xlabel('Date')\n",
    "plt.ylabel('Dow_Jones Oil &_Gas Price')\n",
    "plt.legend()\n",
    "plt.show()"
   ]
  },
  {
   "cell_type": "markdown",
   "id": "42b64c1d",
   "metadata": {},
   "source": [
    "Looking at one year of Exxonmobil for possible use in greenwashing"
   ]
  },
  {
   "cell_type": "code",
   "execution_count": null,
   "id": "216e673e",
   "metadata": {},
   "outputs": [],
   "source": [
    "df = pd.read_csv('/Users/butler/Downloads/XOM.csv')"
   ]
  },
  {
   "cell_type": "code",
   "execution_count": 305,
   "id": "0614cd10",
   "metadata": {},
   "outputs": [
    {
     "data": {
      "text/html": [
       "<div>\n",
       "<style scoped>\n",
       "    .dataframe tbody tr th:only-of-type {\n",
       "        vertical-align: middle;\n",
       "    }\n",
       "\n",
       "    .dataframe tbody tr th {\n",
       "        vertical-align: top;\n",
       "    }\n",
       "\n",
       "    .dataframe thead th {\n",
       "        text-align: right;\n",
       "    }\n",
       "</style>\n",
       "<table border=\"1\" class=\"dataframe\">\n",
       "  <thead>\n",
       "    <tr style=\"text-align: right;\">\n",
       "      <th></th>\n",
       "      <th>Date</th>\n",
       "      <th>Open</th>\n",
       "      <th>High</th>\n",
       "      <th>Low</th>\n",
       "      <th>Close</th>\n",
       "      <th>Adj Close</th>\n",
       "      <th>Volume</th>\n",
       "    </tr>\n",
       "  </thead>\n",
       "  <tbody>\n",
       "    <tr>\n",
       "      <th>0</th>\n",
       "      <td>2022-08-01</td>\n",
       "      <td>94.790001</td>\n",
       "      <td>95.349998</td>\n",
       "      <td>93.230003</td>\n",
       "      <td>94.480003</td>\n",
       "      <td>91.322334</td>\n",
       "      <td>20793200</td>\n",
       "    </tr>\n",
       "    <tr>\n",
       "      <th>1</th>\n",
       "      <td>2022-08-02</td>\n",
       "      <td>94.690002</td>\n",
       "      <td>95.199997</td>\n",
       "      <td>93.820000</td>\n",
       "      <td>94.070000</td>\n",
       "      <td>90.926041</td>\n",
       "      <td>16722500</td>\n",
       "    </tr>\n",
       "    <tr>\n",
       "      <th>2</th>\n",
       "      <td>2022-08-03</td>\n",
       "      <td>94.419998</td>\n",
       "      <td>94.419998</td>\n",
       "      <td>90.790001</td>\n",
       "      <td>91.019997</td>\n",
       "      <td>87.977974</td>\n",
       "      <td>23580800</td>\n",
       "    </tr>\n",
       "    <tr>\n",
       "      <th>3</th>\n",
       "      <td>2022-08-04</td>\n",
       "      <td>90.309998</td>\n",
       "      <td>90.339996</td>\n",
       "      <td>86.430000</td>\n",
       "      <td>87.190002</td>\n",
       "      <td>84.275986</td>\n",
       "      <td>31821500</td>\n",
       "    </tr>\n",
       "    <tr>\n",
       "      <th>4</th>\n",
       "      <td>2022-08-05</td>\n",
       "      <td>86.360001</td>\n",
       "      <td>89.690002</td>\n",
       "      <td>86.279999</td>\n",
       "      <td>88.449997</td>\n",
       "      <td>85.493858</td>\n",
       "      <td>17408000</td>\n",
       "    </tr>\n",
       "  </tbody>\n",
       "</table>\n",
       "</div>"
      ],
      "text/plain": [
       "         Date       Open       High        Low      Close  Adj Close    Volume\n",
       "0  2022-08-01  94.790001  95.349998  93.230003  94.480003  91.322334  20793200\n",
       "1  2022-08-02  94.690002  95.199997  93.820000  94.070000  90.926041  16722500\n",
       "2  2022-08-03  94.419998  94.419998  90.790001  91.019997  87.977974  23580800\n",
       "3  2022-08-04  90.309998  90.339996  86.430000  87.190002  84.275986  31821500\n",
       "4  2022-08-05  86.360001  89.690002  86.279999  88.449997  85.493858  17408000"
      ]
     },
     "execution_count": 305,
     "metadata": {},
     "output_type": "execute_result"
    }
   ],
   "source": [
    "df.head()"
   ]
  },
  {
   "cell_type": "code",
   "execution_count": 306,
   "id": "9d43ae71",
   "metadata": {},
   "outputs": [],
   "source": [
    "df.drop(['Open', 'High', 'Low', 'Adj Close'], axis=1, inplace=True)"
   ]
  },
  {
   "cell_type": "code",
   "execution_count": 307,
   "id": "1eb209fa",
   "metadata": {},
   "outputs": [
    {
     "data": {
      "text/html": [
       "<div>\n",
       "<style scoped>\n",
       "    .dataframe tbody tr th:only-of-type {\n",
       "        vertical-align: middle;\n",
       "    }\n",
       "\n",
       "    .dataframe tbody tr th {\n",
       "        vertical-align: top;\n",
       "    }\n",
       "\n",
       "    .dataframe thead th {\n",
       "        text-align: right;\n",
       "    }\n",
       "</style>\n",
       "<table border=\"1\" class=\"dataframe\">\n",
       "  <thead>\n",
       "    <tr style=\"text-align: right;\">\n",
       "      <th></th>\n",
       "      <th>Date</th>\n",
       "      <th>Close</th>\n",
       "      <th>Volume</th>\n",
       "    </tr>\n",
       "  </thead>\n",
       "  <tbody>\n",
       "    <tr>\n",
       "      <th>0</th>\n",
       "      <td>2022-08-01</td>\n",
       "      <td>94.480003</td>\n",
       "      <td>20793200</td>\n",
       "    </tr>\n",
       "    <tr>\n",
       "      <th>1</th>\n",
       "      <td>2022-08-02</td>\n",
       "      <td>94.070000</td>\n",
       "      <td>16722500</td>\n",
       "    </tr>\n",
       "    <tr>\n",
       "      <th>2</th>\n",
       "      <td>2022-08-03</td>\n",
       "      <td>91.019997</td>\n",
       "      <td>23580800</td>\n",
       "    </tr>\n",
       "    <tr>\n",
       "      <th>3</th>\n",
       "      <td>2022-08-04</td>\n",
       "      <td>87.190002</td>\n",
       "      <td>31821500</td>\n",
       "    </tr>\n",
       "    <tr>\n",
       "      <th>4</th>\n",
       "      <td>2022-08-05</td>\n",
       "      <td>88.449997</td>\n",
       "      <td>17408000</td>\n",
       "    </tr>\n",
       "  </tbody>\n",
       "</table>\n",
       "</div>"
      ],
      "text/plain": [
       "         Date      Close    Volume\n",
       "0  2022-08-01  94.480003  20793200\n",
       "1  2022-08-02  94.070000  16722500\n",
       "2  2022-08-03  91.019997  23580800\n",
       "3  2022-08-04  87.190002  31821500\n",
       "4  2022-08-05  88.449997  17408000"
      ]
     },
     "execution_count": 307,
     "metadata": {},
     "output_type": "execute_result"
    }
   ],
   "source": [
    "df.head()"
   ]
  },
  {
   "cell_type": "code",
   "execution_count": 308,
   "id": "47bfe5e2",
   "metadata": {},
   "outputs": [
    {
     "name": "stdout",
     "output_type": "stream",
     "text": [
      "<class 'pandas.core.frame.DataFrame'>\n",
      "RangeIndex: 251 entries, 0 to 250\n",
      "Data columns (total 3 columns):\n",
      " #   Column  Non-Null Count  Dtype  \n",
      "---  ------  --------------  -----  \n",
      " 0   Date    251 non-null    object \n",
      " 1   Close   251 non-null    float64\n",
      " 2   Volume  251 non-null    int64  \n",
      "dtypes: float64(1), int64(1), object(1)\n",
      "memory usage: 6.0+ KB\n"
     ]
    }
   ],
   "source": [
    "df.info()"
   ]
  },
  {
   "cell_type": "code",
   "execution_count": 309,
   "id": "1a828bb1",
   "metadata": {},
   "outputs": [],
   "source": [
    "df.Date = pd.to_datetime(df.Date)"
   ]
  },
  {
   "cell_type": "code",
   "execution_count": 310,
   "id": "40dfad18",
   "metadata": {},
   "outputs": [
    {
     "name": "stdout",
     "output_type": "stream",
     "text": [
      "<class 'pandas.core.frame.DataFrame'>\n",
      "RangeIndex: 251 entries, 0 to 250\n",
      "Data columns (total 3 columns):\n",
      " #   Column  Non-Null Count  Dtype         \n",
      "---  ------  --------------  -----         \n",
      " 0   Date    251 non-null    datetime64[ns]\n",
      " 1   Close   251 non-null    float64       \n",
      " 2   Volume  251 non-null    int64         \n",
      "dtypes: datetime64[ns](1), float64(1), int64(1)\n",
      "memory usage: 6.0 KB\n"
     ]
    }
   ],
   "source": [
    "df.info()"
   ]
  },
  {
   "cell_type": "code",
   "execution_count": 311,
   "id": "4bd4a774",
   "metadata": {
    "scrolled": true
   },
   "outputs": [
    {
     "data": {
      "text/plain": [
       "<Axes: >"
      ]
     },
     "execution_count": 311,
     "metadata": {},
     "output_type": "execute_result"
    },
    {
     "data": {
      "image/png": "[encoded data removed]",
      "text/plain": [
       "<Figure size 640x480 with 1 Axes>"
      ]
     },
     "metadata": {},
     "output_type": "display_data"
    }
   ],
   "source": [
    "df.Close.plot()"
   ]
  },
  {
   "cell_type": "code",
   "execution_count": 312,
   "id": "b623ed5d",
   "metadata": {
    "scrolled": true
   },
   "outputs": [
    {
     "data": {
      "text/plain": [
       "<Axes: >"
      ]
     },
     "execution_count": 312,
     "metadata": {},
     "output_type": "execute_result"
    },
    {
     "data": {
      "image/png": "[encoded data removed]",
      "text/plain": [
       "<Figure size 640x480 with 1 Axes>"
      ]
     },
     "metadata": {},
     "output_type": "display_data"
    }
   ],
   "source": [
    "df.Volume.plot()"
   ]
  },
  {
   "cell_type": "code",
   "execution_count": 313,
   "id": "56db0419",
   "metadata": {},
   "outputs": [],
   "source": [
    "df1 = df.copy()"
   ]
  },
  {
   "cell_type": "code",
   "execution_count": 314,
   "id": "c709f27f",
   "metadata": {},
   "outputs": [],
   "source": [
    "df.drop(['Volume'], axis=1, inplace=True)"
   ]
  },
  {
   "cell_type": "code",
   "execution_count": 315,
   "id": "a473c96b",
   "metadata": {},
   "outputs": [
    {
     "ename": "AttributeError",
     "evalue": "'NoneType' object has no attribute 'as_freq'",
     "output_type": "error",
     "traceback": [
      "\u001b[0;31m---------------------------------------------------------------------------\u001b[0m",
      "\u001b[0;31mAttributeError\u001b[0m                            Traceback (most recent call last)",
      "Cell \u001b[0;32mIn[315], line 1\u001b[0m\n\u001b[0;32m----> 1\u001b[0m \u001b[43mdf\u001b[49m\u001b[38;5;241;43m.\u001b[39;49m\u001b[43mset_index\u001b[49m\u001b[43m(\u001b[49m\u001b[38;5;124;43m'\u001b[39;49m\u001b[38;5;124;43mDate\u001b[39;49m\u001b[38;5;124;43m'\u001b[39;49m\u001b[43m,\u001b[49m\u001b[43m \u001b[49m\u001b[43minplace\u001b[49m\u001b[38;5;241;43m=\u001b[39;49m\u001b[38;5;28;43;01mTrue\u001b[39;49;00m\u001b[43m)\u001b[49m\u001b[38;5;241;43m.\u001b[39;49m\u001b[43mas_freq\u001b[49m(\u001b[38;5;124m'\u001b[39m\u001b[38;5;124md\u001b[39m\u001b[38;5;124m'\u001b[39m)\n",
      "\u001b[0;31mAttributeError\u001b[0m: 'NoneType' object has no attribute 'as_freq'"
     ]
    }
   ],
   "source": [
    "df.set_index('Date', inplace=True).as_freq('d')"
   ]
  },
  {
   "cell_type": "code",
   "execution_count": null,
   "id": "aaeb4b58",
   "metadata": {},
   "outputs": [],
   "source": [
    "res = adfuller(df)\n",
    "res"
   ]
  },
  {
   "cell_type": "code",
   "execution_count": null,
   "id": "aea0c2c6",
   "metadata": {},
   "outputs": [],
   "source": [
    "df_diff = df.diff().dropna()"
   ]
  },
  {
   "cell_type": "code",
   "execution_count": null,
   "id": "1d2c24b8",
   "metadata": {},
   "outputs": [],
   "source": [
    "df_diff.plot()"
   ]
  },
  {
   "cell_type": "code",
   "execution_count": null,
   "id": "c2191a9e",
   "metadata": {
    "scrolled": false
   },
   "outputs": [],
   "source": [
    "res = adfuller(df_diff)\n",
    "res"
   ]
  },
  {
   "cell_type": "code",
   "execution_count": null,
   "id": "293b8cb2",
   "metadata": {},
   "outputs": [],
   "source": [
    "df.head()"
   ]
  },
  {
   "cell_type": "code",
   "execution_count": null,
   "id": "33dee447",
   "metadata": {},
   "outputs": [],
   "source": [
    "mod = ARIMA(df, order=(1, 1, 1))\n",
    "res = mod.fit()"
   ]
  },
  {
   "cell_type": "code",
   "execution_count": null,
   "id": "1d0a4db9",
   "metadata": {},
   "outputs": [],
   "source": [
    "res.summary()"
   ]
  },
  {
   "cell_type": "code",
   "execution_count": null,
   "id": "72c466bd",
   "metadata": {},
   "outputs": [],
   "source": [
    "forecast = res.get_prediction(start=-100, dynamic=True)"
   ]
  },
  {
   "cell_type": "code",
   "execution_count": null,
   "id": "53bbda30",
   "metadata": {},
   "outputs": [],
   "source": [
    "mean_forecast = forecast.predicted_mean"
   ]
  },
  {
   "cell_type": "code",
   "execution_count": null,
   "id": "b9050ded",
   "metadata": {},
   "outputs": [],
   "source": [
    "mean_forecast"
   ]
  },
  {
   "cell_type": "code",
   "execution_count": null,
   "id": "79e62cbf",
   "metadata": {},
   "outputs": [],
   "source": [
    "confidence_intervals = forecast.conf_int()"
   ]
  },
  {
   "cell_type": "code",
   "execution_count": null,
   "id": "d6efc8b9",
   "metadata": {},
   "outputs": [],
   "source": [
    "confidence_intervals"
   ]
  },
  {
   "cell_type": "code",
   "execution_count": null,
   "id": "733dfa1e",
   "metadata": {},
   "outputs": [],
   "source": [
    "lower_limits = confidence_intervals.loc[:,'lower Close']\n",
    "upper_limits = confidence_intervals.loc[:,'upper Close']"
   ]
  },
  {
   "cell_type": "code",
   "execution_count": null,
   "id": "024c8fd0",
   "metadata": {
    "scrolled": true
   },
   "outputs": [],
   "source": [
    "mean_forecast"
   ]
  },
  {
   "cell_type": "code",
   "execution_count": null,
   "id": "6f2d00d1",
   "metadata": {},
   "outputs": [],
   "source": [
    "mean_forecast"
   ]
  },
  {
   "cell_type": "code",
   "execution_count": null,
   "id": "a2e39729",
   "metadata": {
    "scrolled": true
   },
   "outputs": [],
   "source": [
    "# plotting the df_oil data\n",
    "plt.plot(df.index, df, label='observed')\n",
    "\n",
    "# plotting the mean forecast\n",
    "plt.plot(mean_forecast.index, mean_forecast, color='r', label='forecast')\n",
    "\n",
    "# shading area between confidence limits\n",
    "plt.fill_between(lower_limits.index, lower_limits, upper_limits, color='pink')\n",
    "\n",
    "\n",
    "plt.xlabel('Date')\n",
    "plt.ylabel('ExxonMobil Stock Price')\n",
    "plt.legend()\n",
    "plt.show()"
   ]
  },
  {
   "cell_type": "code",
   "execution_count": null,
   "id": "c82a7fe2",
   "metadata": {},
   "outputs": [],
   "source": []
  },
  {
   "cell_type": "code",
   "execution_count": null,
   "id": "fd5f3b26",
   "metadata": {},
   "outputs": [],
   "source": [
    "from statsmodels.tsa.seasonal import seasonal_decompose\n",
    "from matplotlib import pyplot\n",
    "series = df\n",
    "result = seasonal_decompose(series, model='additive')\n",
    "result.plot()\n",
    "pyplot.show()"
   ]
  },
  {
   "cell_type": "code",
   "execution_count": null,
   "id": "e452c819",
   "metadata": {},
   "outputs": [],
   "source": []
  }
 ],
 "metadata": {
  "kernelspec": {
   "display_name": "Python 3 (ipykernel)",
   "language": "python",
   "name": "python3"
  },
  "language_info": {
   "codemirror_mode": {
    "name": "ipython",
    "version": 3
   },
   "file_extension": ".py",
   "mimetype": "text/x-python",
   "name": "python",
   "nbconvert_exporter": "python",
   "pygments_lexer": "ipython3",
   "version": "3.9.17"
  }
 },
 "nbformat": 4,
 "nbformat_minor": 5
}
