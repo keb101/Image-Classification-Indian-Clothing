{
 "cells": [
  {
   "cell_type": "code",
   "execution_count": 1,
   "id": "5d69a779",
   "metadata": {},
   "outputs": [],
   "source": [
    "import pandas as pd\n",
    "import numpy as np\n",
    "import seaborn as sns\n",
    "import matplotlib.pyplot as plt\n",
    "import imageio.v2 as imageio\n",
    "import cv2\n",
    "import glob\n",
    "from skimage import color\n",
    "from bs4 import BeautifulSoup\n",
    "import requests"
   ]
  },
  {
   "cell_type": "code",
   "execution_count": null,
   "id": "f41f7e3b",
   "metadata": {},
   "outputs": [],
   "source": [
    "#url_mens_kurta_list = ['https://www.tjori.com/collections/men-kurta-pyjama', 'https://suta.in/collections/kurtas-1', \\\n",
    "                        #'https://www.jaypore.com/search?q=&_category_level_2=Clothing&_category_level_3=Men&_category_level_4=Kurtas&orderBy=-searchpos', \\\n",
    "                        #'https://www.mirraw.com/men/clothing/kurtas' ]"
   ]
  },
  {
   "cell_type": "code",
   "execution_count": 4,
   "id": "5b895efe",
   "metadata": {},
   "outputs": [],
   "source": [
    "url_blouses_list = ['https://suta.in/collections/saree']\n",
    "\n",
    "for i in range(2, 101):\n",
    "    url = f'https://suta.in/collections/saree?p={i}'\n",
    "    url_blouses_list.append(url)\n"
   ]
  },
  {
   "cell_type": "code",
   "execution_count": null,
   "id": "93a7e5c5",
   "metadata": {},
   "outputs": [
    {
     "name": "stdout",
     "output_type": "stream",
     "text": [
      "https://suta.in/collections/saree\n",
      "https://suta.in/collections/saree?p=2\n",
      "https://suta.in/collections/saree?p=3\n",
      "https://suta.in/collections/saree?p=4\n",
      "https://suta.in/collections/saree?p=5\n",
      "https://suta.in/collections/saree?p=6\n",
      "https://suta.in/collections/saree?p=7\n",
      "https://suta.in/collections/saree?p=8\n",
      "https://suta.in/collections/saree?p=9\n",
      "https://suta.in/collections/saree?p=10\n",
      "https://suta.in/collections/saree?p=11\n",
      "https://suta.in/collections/saree?p=12\n",
      "https://suta.in/collections/saree?p=13\n",
      "https://suta.in/collections/saree?p=14\n",
      "https://suta.in/collections/saree?p=15\n",
      "https://suta.in/collections/saree?p=16\n",
      "https://suta.in/collections/saree?p=17\n",
      "https://suta.in/collections/saree?p=18\n",
      "https://suta.in/collections/saree?p=19\n",
      "https://suta.in/collections/saree?p=20\n",
      "https://suta.in/collections/saree?p=21\n",
      "https://suta.in/collections/saree?p=22\n",
      "https://suta.in/collections/saree?p=23\n",
      "https://suta.in/collections/saree?p=24\n",
      "https://suta.in/collections/saree?p=25\n",
      "https://suta.in/cdn/shop/products/raga-saama-547270.jpg\n",
      "https://suta.in/collections/saree?p=26\n",
      "https://suta.in/collections/saree?p=27\n",
      "https://suta.in/collections/saree?p=28\n",
      "https://suta.in/collections/saree?p=29\n",
      "https://suta.in/collections/saree?p=30\n",
      "https://suta.in/collections/saree?p=31\n",
      "https://suta.in/collections/saree?p=32\n",
      "https://suta.in/collections/saree?p=33\n",
      "https://suta.in/collections/saree?p=34\n"
     ]
    }
   ],
   "source": [
    "# code from https://www.makeuseof.com/python-scrape-web-images-how-to/\n",
    "\n",
    "#url_blouses_list = ['https://www.houseofindya.com/women-clothing/indo-western-dupattas/cat?depth=3&label=Clothing-Shop%20By%20Category-Dupattas']\n",
    "for url in url_blouses_list: \n",
    "    print(url)\n",
    "    URL = url\n",
    "    getURL = requests.get(URL, headers={'User-Agent':'Safari/16.5'})\n",
    "    soup = BeautifulSoup(getURL.text, 'html.parser')\n",
    "    \n",
    "    images = soup.find_all('img')\n",
    "    resolvedURLs = []\n",
    "    \n",
    "    for image in images:\n",
    "        src = image.get('src')\n",
    "        \n",
    "        resolvedURLs.append(requests.compat.urljoin(URL, src))\n",
    "      \n",
    "        \n",
    "\n",
    "        \n",
    "        \n",
    "    for image in resolvedURLs:\n",
    "        image = image.split('?', 1)[0]\n",
    "        \n",
    "        try:\n",
    "            webs = requests.get(image)\n",
    "            open('/Users/butler/Documents/hp/Retrieval_of_Indian_clothing_images/data/raw/indian_clothing/images/sarees/suta/' + image.split('/')[-1], 'wb').write(webs.content)\n",
    "        except:\n",
    "            print(image)"
   ]
  },
  {
   "cell_type": "code",
   "execution_count": null,
   "id": "8a4d63f4",
   "metadata": {},
   "outputs": [],
   "source": [
    "url_mens_kurta_list = ['https://www.jaypore.com/search?q=&_category_level_2=Clothing&_category_level_3=Men&_category_level_4=Kurtas&orderBy=-searchpos']"
   ]
  },
  {
   "cell_type": "code",
   "execution_count": null,
   "id": "38db91bb",
   "metadata": {},
   "outputs": [],
   "source": [
    "# code from https://www.makeuseof.com/python-scrape-web-images-how-to/\n",
    "\n",
    "url_mens_kurta_list = ['https://www.kalkifashion.com/saree-blouses.html']\n",
    "for url in url_mens_kurta_list: \n",
    "    print(url)\n",
    "    URL = url\n",
    "    getURL = requests.get(URL, headers={'User-Agent':'Safari/16.5'})\n",
    "    soup = BeautifulSoup(getURL.text, 'html.parser')\n",
    "    \n",
    "    images = soup.find_all('img')\n",
    "    resolvedURLs = []\n",
    "    \n",
    "    for image in images:\n",
    "        src = image.get('src')\n",
    "        resolvedURLs.append(requests.compat.urljoin(URL, src))\n",
    "        \n",
    "\n",
    "        \n",
    "        \n",
    "    for image in resolvedURLs:\n",
    "        image = image.split('?', 1)[0]\n",
    "        \n",
    "        try:\n",
    "            webs = requests.get(image)\n",
    "            open('/Users/butler/Documents/hp/Retrieval_of_Indian_clothing/data/raw/indian_clothing/images/blouses/' + image.split('/')[-1], 'wb').write(webs.content)\n",
    "        except:\n",
    "            print(image)\n",
    "       \n",
    "\n",
    "       \n",
    "            \n",
    "    \n",
    "\n",
    "    \n",
    "         "
   ]
  },
  {
   "cell_type": "code",
   "execution_count": null,
   "id": "2dc6a601",
   "metadata": {
    "scrolled": true
   },
   "outputs": [],
   "source": [
    "\n",
    "    \n",
    "    URL = 'https://suta.in/collections/lehengas'\n",
    "    getURL = requests.get(URL, headers={'User-Agent':'Safari/16.5'})\n",
    "    soup = BeautifulSoup(getURL.text, 'html.parser')\n",
    "    \n",
    "    images = soup.find_all('img')\n",
    "    resolvedURLs = []\n",
    "    \n",
    "    for image in images:\n",
    "        src = image.get('src')\n",
    "        resolvedURLs.append(requests.compat.urljoin(URL, src))\n",
    "        \n",
    "\n",
    "        \n",
    "        \n",
    "    for image in resolvedURLs:\n",
    "        image = image.split('?', 1)[0]\n",
    "        \n",
    "        try:\n",
    "            webs = requests.get(image)\n",
    "            open('/Users/butler/Documents/hp/Retrieval_of_Indian_clothing/data/raw/indian_clothing/images/lehengas/' + image.split('/')[-1], 'wb').write(webs.content)\n",
    "        except:\n",
    "            print(image)"
   ]
  },
  {
   "cell_type": "code",
   "execution_count": null,
   "id": "863f30e7",
   "metadata": {},
   "outputs": [],
   "source": [
    "for img in resolvedURLs:\n",
    "        try:\n",
    "            webs = requests.get(img)\n",
    "        except:\n",
    "            print(img)\n",
    "        open('/Users/butler/Documents/hp/Retrieval_of_Indian_clothing/data/raw/indian_clothing/images/kurtas_men/' + img.split('/')[-1], 'wb').write(webs.content)\n",
    "       \n",
    "    \n",
    "    "
   ]
  },
  {
   "cell_type": "code",
   "execution_count": null,
   "id": "d1900b4e",
   "metadata": {},
   "outputs": [],
   "source": [
    "https://suta.in/collections/lehengas"
   ]
  },
  {
   "cell_type": "code",
   "execution_count": null,
   "id": "9c871603",
   "metadata": {},
   "outputs": [],
   "source": []
  }
 ],
 "metadata": {
  "kernelspec": {
   "display_name": "Python 3 (ipykernel)",
   "language": "python",
   "name": "python3"
  },
  "language_info": {
   "codemirror_mode": {
    "name": "ipython",
    "version": 3
   },
   "file_extension": ".py",
   "mimetype": "text/x-python",
   "name": "python",
   "nbconvert_exporter": "python",
   "pygments_lexer": "ipython3",
   "version": "3.9.17"
  }
 },
 "nbformat": 4,
 "nbformat_minor": 5
}
