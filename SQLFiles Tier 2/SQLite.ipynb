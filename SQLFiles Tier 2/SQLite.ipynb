{
 "cells": [
  {
   "cell_type": "code",
   "execution_count": 2,
   "id": "872627ba",
   "metadata": {},
   "outputs": [],
   "source": [
    "from sqlalchemy import create_engine, inspect\n",
    "import sqlite3\n",
    "from pandas.io import sql\n",
    "import subprocess\n",
    "import pandas as pd"
   ]
  },
  {
   "cell_type": "code",
   "execution_count": 3,
   "id": "e4ee9a0a",
   "metadata": {},
   "outputs": [],
   "source": [
    "conn = sqlite3.connect('sqlite_db_pythonsqlite.db')\n",
    "\n",
    "\n"
   ]
  },
  {
   "cell_type": "code",
   "execution_count": 4,
   "id": "afe38886",
   "metadata": {},
   "outputs": [],
   "source": [
    "curs = conn.cursor()"
   ]
  },
  {
   "cell_type": "code",
   "execution_count": 5,
   "id": "e5bc314d",
   "metadata": {},
   "outputs": [
    {
     "data": {
      "text/plain": [
       "[('Bookings',), ('Facilities',), ('Members',)]"
      ]
     },
     "execution_count": 5,
     "metadata": {},
     "output_type": "execute_result"
    }
   ],
   "source": [
    "curs.execute(\"SELECT name FROM sqlite_master WHERE type = 'table'\").fetchall()"
   ]
  },
  {
   "cell_type": "code",
   "execution_count": 6,
   "id": "6425edfd",
   "metadata": {
    "scrolled": true
   },
   "outputs": [],
   "source": [
    "rs = curs.execute('SELECT * FROM Bookings')"
   ]
  },
  {
   "cell_type": "code",
   "execution_count": 7,
   "id": "6915312a",
   "metadata": {
    "scrolled": true
   },
   "outputs": [
    {
     "data": {
      "text/plain": [
       "['bookid', 'facid', 'memid', 'starttime', 'slots']"
      ]
     },
     "execution_count": 7,
     "metadata": {},
     "output_type": "execute_result"
    }
   ],
   "source": [
    "df = pd.DataFrame(rs.fetchall())\n",
    "names = list(map(lambda x: x[0], curs.description))\n",
    "names"
   ]
  },
  {
   "cell_type": "code",
   "execution_count": 8,
   "id": "27ab5257",
   "metadata": {},
   "outputs": [
    {
     "data": {
      "text/html": [
       "<div>\n",
       "<style scoped>\n",
       "    .dataframe tbody tr th:only-of-type {\n",
       "        vertical-align: middle;\n",
       "    }\n",
       "\n",
       "    .dataframe tbody tr th {\n",
       "        vertical-align: top;\n",
       "    }\n",
       "\n",
       "    .dataframe thead th {\n",
       "        text-align: right;\n",
       "    }\n",
       "</style>\n",
       "<table border=\"1\" class=\"dataframe\">\n",
       "  <thead>\n",
       "    <tr style=\"text-align: right;\">\n",
       "      <th></th>\n",
       "      <th>0</th>\n",
       "      <th>1</th>\n",
       "      <th>2</th>\n",
       "      <th>3</th>\n",
       "      <th>4</th>\n",
       "    </tr>\n",
       "  </thead>\n",
       "  <tbody>\n",
       "    <tr>\n",
       "      <th>0</th>\n",
       "      <td>0</td>\n",
       "      <td>3</td>\n",
       "      <td>1</td>\n",
       "      <td>2012-07-03 11:00:00</td>\n",
       "      <td>2</td>\n",
       "    </tr>\n",
       "    <tr>\n",
       "      <th>1</th>\n",
       "      <td>1</td>\n",
       "      <td>4</td>\n",
       "      <td>1</td>\n",
       "      <td>2012-07-03 08:00:00</td>\n",
       "      <td>2</td>\n",
       "    </tr>\n",
       "    <tr>\n",
       "      <th>2</th>\n",
       "      <td>2</td>\n",
       "      <td>6</td>\n",
       "      <td>0</td>\n",
       "      <td>2012-07-03 18:00:00</td>\n",
       "      <td>2</td>\n",
       "    </tr>\n",
       "    <tr>\n",
       "      <th>3</th>\n",
       "      <td>3</td>\n",
       "      <td>7</td>\n",
       "      <td>1</td>\n",
       "      <td>2012-07-03 19:00:00</td>\n",
       "      <td>2</td>\n",
       "    </tr>\n",
       "    <tr>\n",
       "      <th>4</th>\n",
       "      <td>4</td>\n",
       "      <td>8</td>\n",
       "      <td>1</td>\n",
       "      <td>2012-07-03 10:00:00</td>\n",
       "      <td>1</td>\n",
       "    </tr>\n",
       "  </tbody>\n",
       "</table>\n",
       "</div>"
      ],
      "text/plain": [
       "   0  1  2                    3  4\n",
       "0  0  3  1  2012-07-03 11:00:00  2\n",
       "1  1  4  1  2012-07-03 08:00:00  2\n",
       "2  2  6  0  2012-07-03 18:00:00  2\n",
       "3  3  7  1  2012-07-03 19:00:00  2\n",
       "4  4  8  1  2012-07-03 10:00:00  1"
      ]
     },
     "execution_count": 8,
     "metadata": {},
     "output_type": "execute_result"
    }
   ],
   "source": [
    "df.head()"
   ]
  },
  {
   "cell_type": "code",
   "execution_count": 9,
   "id": "3d9ec88c",
   "metadata": {},
   "outputs": [],
   "source": [
    "rs = curs.execute('SELECT * FROM Members')"
   ]
  },
  {
   "cell_type": "code",
   "execution_count": 10,
   "id": "98ecb124",
   "metadata": {},
   "outputs": [],
   "source": [
    "df1 = pd.DataFrame(rs.fetchall())\n",
    "names1 = list(map(lambda x: x[0], curs.description))\n"
   ]
  },
  {
   "cell_type": "code",
   "execution_count": 11,
   "id": "562e9651",
   "metadata": {},
   "outputs": [],
   "source": [
    "rs = curs.execute('SELECT * FROM Facilities')"
   ]
  },
  {
   "cell_type": "code",
   "execution_count": 12,
   "id": "03160e11",
   "metadata": {},
   "outputs": [
    {
     "data": {
      "text/plain": [
       "['facid',\n",
       " 'name',\n",
       " 'membercost',\n",
       " 'guestcost',\n",
       " 'initialoutlay',\n",
       " 'monthlymaintenance']"
      ]
     },
     "execution_count": 12,
     "metadata": {},
     "output_type": "execute_result"
    }
   ],
   "source": [
    "df2 = pd.DataFrame(rs.fetchall())\n",
    "names2 = list(map(lambda x: x[0], curs.description))\n",
    "names2"
   ]
  },
  {
   "cell_type": "code",
   "execution_count": 13,
   "id": "72b9c9b2",
   "metadata": {},
   "outputs": [
    {
     "data": {
      "text/html": [
       "<div>\n",
       "<style scoped>\n",
       "    .dataframe tbody tr th:only-of-type {\n",
       "        vertical-align: middle;\n",
       "    }\n",
       "\n",
       "    .dataframe tbody tr th {\n",
       "        vertical-align: top;\n",
       "    }\n",
       "\n",
       "    .dataframe thead th {\n",
       "        text-align: right;\n",
       "    }\n",
       "</style>\n",
       "<table border=\"1\" class=\"dataframe\">\n",
       "  <thead>\n",
       "    <tr style=\"text-align: right;\">\n",
       "      <th></th>\n",
       "      <th>name</th>\n",
       "      <th>CourtName</th>\n",
       "    </tr>\n",
       "  </thead>\n",
       "  <tbody>\n",
       "    <tr>\n",
       "      <th>0</th>\n",
       "      <td>Anne Baker</td>\n",
       "      <td>Tennis Court 1</td>\n",
       "    </tr>\n",
       "    <tr>\n",
       "      <th>1</th>\n",
       "      <td>Anne Baker</td>\n",
       "      <td>Tennis Court 2</td>\n",
       "    </tr>\n",
       "    <tr>\n",
       "      <th>2</th>\n",
       "      <td>Burton Tracy</td>\n",
       "      <td>Tennis Court 2</td>\n",
       "    </tr>\n",
       "    <tr>\n",
       "      <th>3</th>\n",
       "      <td>Burton Tracy</td>\n",
       "      <td>Tennis Court 1</td>\n",
       "    </tr>\n",
       "    <tr>\n",
       "      <th>4</th>\n",
       "      <td>Charles Owen</td>\n",
       "      <td>Tennis Court 1</td>\n",
       "    </tr>\n",
       "    <tr>\n",
       "      <th>5</th>\n",
       "      <td>Charles Owen</td>\n",
       "      <td>Tennis Court 2</td>\n",
       "    </tr>\n",
       "    <tr>\n",
       "      <th>6</th>\n",
       "      <td>Darren Smith</td>\n",
       "      <td>Tennis Court 2</td>\n",
       "    </tr>\n",
       "    <tr>\n",
       "      <th>7</th>\n",
       "      <td>David Farrell</td>\n",
       "      <td>Tennis Court 1</td>\n",
       "    </tr>\n",
       "    <tr>\n",
       "      <th>8</th>\n",
       "      <td>David Farrell</td>\n",
       "      <td>Tennis Court 2</td>\n",
       "    </tr>\n",
       "    <tr>\n",
       "      <th>9</th>\n",
       "      <td>David Jones</td>\n",
       "      <td>Tennis Court 2</td>\n",
       "    </tr>\n",
       "  </tbody>\n",
       "</table>\n",
       "</div>"
      ],
      "text/plain": [
       "            name       CourtName\n",
       "0     Anne Baker  Tennis Court 1\n",
       "1     Anne Baker  Tennis Court 2\n",
       "2   Burton Tracy  Tennis Court 2\n",
       "3   Burton Tracy  Tennis Court 1\n",
       "4   Charles Owen  Tennis Court 1\n",
       "5   Charles Owen  Tennis Court 2\n",
       "6   Darren Smith  Tennis Court 2\n",
       "7  David Farrell  Tennis Court 1\n",
       "8  David Farrell  Tennis Court 2\n",
       "9    David Jones  Tennis Court 2"
      ]
     },
     "execution_count": 13,
     "metadata": {},
     "output_type": "execute_result"
    }
   ],
   "source": [
    "rs = pd.read_sql_query(\"SELECT DISTINCT m.firstname|| ' '|| m.surname AS name, f.name AS CourtName FROM Members AS m INNER JOIN Bookings AS b ON m.memid = b.memid INNER JOIN Facilities AS f ON b.facid = f.facid WHERE m.memid != 0 AND f.name LIKE 'Tennis Court%' ORDER by name LIMIT 10\", conn)\n",
    "rs"
   ]
  },
  {
   "cell_type": "code",
   "execution_count": 14,
   "id": "0b23313f",
   "metadata": {
    "scrolled": true
   },
   "outputs": [
    {
     "data": {
      "text/html": [
       "<div>\n",
       "<style scoped>\n",
       "    .dataframe tbody tr th:only-of-type {\n",
       "        vertical-align: middle;\n",
       "    }\n",
       "\n",
       "    .dataframe tbody tr th {\n",
       "        vertical-align: top;\n",
       "    }\n",
       "\n",
       "    .dataframe thead th {\n",
       "        text-align: right;\n",
       "    }\n",
       "</style>\n",
       "<table border=\"1\" class=\"dataframe\">\n",
       "  <thead>\n",
       "    <tr style=\"text-align: right;\">\n",
       "      <th></th>\n",
       "      <th>member_name</th>\n",
       "      <th>facility_name</th>\n",
       "      <th>Cost</th>\n",
       "    </tr>\n",
       "  </thead>\n",
       "  <tbody>\n",
       "    <tr>\n",
       "      <th>0</th>\n",
       "      <td>GUEST GUEST</td>\n",
       "      <td>Massage Room 2</td>\n",
       "      <td>320.0</td>\n",
       "    </tr>\n",
       "    <tr>\n",
       "      <th>1</th>\n",
       "      <td>GUEST GUEST</td>\n",
       "      <td>Massage Room 1</td>\n",
       "      <td>160.0</td>\n",
       "    </tr>\n",
       "    <tr>\n",
       "      <th>2</th>\n",
       "      <td>GUEST GUEST</td>\n",
       "      <td>Massage Room 1</td>\n",
       "      <td>160.0</td>\n",
       "    </tr>\n",
       "    <tr>\n",
       "      <th>3</th>\n",
       "      <td>GUEST GUEST</td>\n",
       "      <td>Massage Room 1</td>\n",
       "      <td>160.0</td>\n",
       "    </tr>\n",
       "    <tr>\n",
       "      <th>4</th>\n",
       "      <td>GUEST GUEST</td>\n",
       "      <td>Tennis Court 2</td>\n",
       "      <td>150.0</td>\n",
       "    </tr>\n",
       "    <tr>\n",
       "      <th>5</th>\n",
       "      <td>GUEST GUEST</td>\n",
       "      <td>Tennis Court 1</td>\n",
       "      <td>75.0</td>\n",
       "    </tr>\n",
       "    <tr>\n",
       "      <th>6</th>\n",
       "      <td>GUEST GUEST</td>\n",
       "      <td>Tennis Court 1</td>\n",
       "      <td>75.0</td>\n",
       "    </tr>\n",
       "    <tr>\n",
       "      <th>7</th>\n",
       "      <td>GUEST GUEST</td>\n",
       "      <td>Tennis Court 2</td>\n",
       "      <td>75.0</td>\n",
       "    </tr>\n",
       "    <tr>\n",
       "      <th>8</th>\n",
       "      <td>GUEST GUEST</td>\n",
       "      <td>Squash Court</td>\n",
       "      <td>70.0</td>\n",
       "    </tr>\n",
       "    <tr>\n",
       "      <th>9</th>\n",
       "      <td>Jemima Farrell</td>\n",
       "      <td>Massage Room 1</td>\n",
       "      <td>39.6</td>\n",
       "    </tr>\n",
       "  </tbody>\n",
       "</table>\n",
       "</div>"
      ],
      "text/plain": [
       "      member_name   facility_name   Cost\n",
       "0     GUEST GUEST  Massage Room 2  320.0\n",
       "1     GUEST GUEST  Massage Room 1  160.0\n",
       "2     GUEST GUEST  Massage Room 1  160.0\n",
       "3     GUEST GUEST  Massage Room 1  160.0\n",
       "4     GUEST GUEST  Tennis Court 2  150.0\n",
       "5     GUEST GUEST  Tennis Court 1   75.0\n",
       "6     GUEST GUEST  Tennis Court 1   75.0\n",
       "7     GUEST GUEST  Tennis Court 2   75.0\n",
       "8     GUEST GUEST    Squash Court   70.0\n",
       "9  Jemima Farrell  Massage Room 1   39.6"
      ]
     },
     "execution_count": 14,
     "metadata": {},
     "output_type": "execute_result"
    }
   ],
   "source": [
    "rs1 = pd.read_sql_query(\"SELECT m.firstname|| ' '|| m.surname AS member_name, f.name AS facility_name, CASE WHEN m.memid != 0 THEN b.slots * f.membercost ELSE f.guestcost * b.slots END AS 'Cost' FROM Facilities as f INNER JOIN Bookings as b USING(facid) INNER JOIN Members as m USING(memid) WHERE Cost > 30 AND b.starttime LIKE '2012-09-14%' ORDER BY Cost DESC LIMIT 10\", conn)\n",
    "rs1"
   ]
  },
  {
   "cell_type": "code",
   "execution_count": 16,
   "id": "7b7098de",
   "metadata": {},
   "outputs": [
    {
     "data": {
      "text/html": [
       "<div>\n",
       "<style scoped>\n",
       "    .dataframe tbody tr th:only-of-type {\n",
       "        vertical-align: middle;\n",
       "    }\n",
       "\n",
       "    .dataframe tbody tr th {\n",
       "        vertical-align: top;\n",
       "    }\n",
       "\n",
       "    .dataframe thead th {\n",
       "        text-align: right;\n",
       "    }\n",
       "</style>\n",
       "<table border=\"1\" class=\"dataframe\">\n",
       "  <thead>\n",
       "    <tr style=\"text-align: right;\">\n",
       "      <th></th>\n",
       "      <th>member_name</th>\n",
       "      <th>facility_name</th>\n",
       "      <th>Cost</th>\n",
       "    </tr>\n",
       "  </thead>\n",
       "  <tbody>\n",
       "    <tr>\n",
       "      <th>0</th>\n",
       "      <td>GUEST GUEST</td>\n",
       "      <td>Massage Room 2</td>\n",
       "      <td>320.0</td>\n",
       "    </tr>\n",
       "    <tr>\n",
       "      <th>1</th>\n",
       "      <td>GUEST GUEST</td>\n",
       "      <td>Massage Room 1</td>\n",
       "      <td>160.0</td>\n",
       "    </tr>\n",
       "    <tr>\n",
       "      <th>2</th>\n",
       "      <td>GUEST GUEST</td>\n",
       "      <td>Massage Room 1</td>\n",
       "      <td>160.0</td>\n",
       "    </tr>\n",
       "    <tr>\n",
       "      <th>3</th>\n",
       "      <td>GUEST GUEST</td>\n",
       "      <td>Massage Room 1</td>\n",
       "      <td>160.0</td>\n",
       "    </tr>\n",
       "    <tr>\n",
       "      <th>4</th>\n",
       "      <td>GUEST GUEST</td>\n",
       "      <td>Tennis Court 2</td>\n",
       "      <td>150.0</td>\n",
       "    </tr>\n",
       "    <tr>\n",
       "      <th>5</th>\n",
       "      <td>GUEST GUEST</td>\n",
       "      <td>Tennis Court 1</td>\n",
       "      <td>75.0</td>\n",
       "    </tr>\n",
       "    <tr>\n",
       "      <th>6</th>\n",
       "      <td>GUEST GUEST</td>\n",
       "      <td>Tennis Court 1</td>\n",
       "      <td>75.0</td>\n",
       "    </tr>\n",
       "    <tr>\n",
       "      <th>7</th>\n",
       "      <td>GUEST GUEST</td>\n",
       "      <td>Tennis Court 2</td>\n",
       "      <td>75.0</td>\n",
       "    </tr>\n",
       "    <tr>\n",
       "      <th>8</th>\n",
       "      <td>GUEST GUEST</td>\n",
       "      <td>Squash Court</td>\n",
       "      <td>70.0</td>\n",
       "    </tr>\n",
       "    <tr>\n",
       "      <th>9</th>\n",
       "      <td>Jemima Farrell</td>\n",
       "      <td>Massage Room 1</td>\n",
       "      <td>39.6</td>\n",
       "    </tr>\n",
       "  </tbody>\n",
       "</table>\n",
       "</div>"
      ],
      "text/plain": [
       "      member_name   facility_name   Cost\n",
       "0     GUEST GUEST  Massage Room 2  320.0\n",
       "1     GUEST GUEST  Massage Room 1  160.0\n",
       "2     GUEST GUEST  Massage Room 1  160.0\n",
       "3     GUEST GUEST  Massage Room 1  160.0\n",
       "4     GUEST GUEST  Tennis Court 2  150.0\n",
       "5     GUEST GUEST  Tennis Court 1   75.0\n",
       "6     GUEST GUEST  Tennis Court 1   75.0\n",
       "7     GUEST GUEST  Tennis Court 2   75.0\n",
       "8     GUEST GUEST    Squash Court   70.0\n",
       "9  Jemima Farrell  Massage Room 1   39.6"
      ]
     },
     "execution_count": 16,
     "metadata": {},
     "output_type": "execute_result"
    }
   ],
   "source": [
    "rs1 = pd.read_sql_query(\"SELECT m.firstname|| ' '|| m.surname AS member_name, f.name AS facility_name, CASE WHEN m.memid != 0 THEN b.slots * f.membercost ELSE f.guestcost * b.slots END AS 'Cost' FROM Facilities as f INNER JOIN Bookings as b USING(facid) INNER JOIN Members as m USING(memid) WHERE Cost > 30 AND b.starttime LIKE '2012-09-14%' ORDER BY Cost DESC LIMIT 10\", conn)\n",
    "rs1"
   ]
  },
  {
   "cell_type": "code",
   "execution_count": null,
   "id": "8c5569c3",
   "metadata": {},
   "outputs": [],
   "source": [
    "df.columns = names\n"
   ]
  },
  {
   "cell_type": "code",
   "execution_count": null,
   "id": "3b2e5012",
   "metadata": {},
   "outputs": [],
   "source": [
    "df1.columns = names1"
   ]
  },
  {
   "cell_type": "code",
   "execution_count": null,
   "id": "7c364907",
   "metadata": {},
   "outputs": [],
   "source": []
  },
  {
   "cell_type": "code",
   "execution_count": null,
   "id": "fb744b01",
   "metadata": {},
   "outputs": [],
   "source": [
    "df2.columns = names2"
   ]
  },
  {
   "cell_type": "code",
   "execution_count": null,
   "id": "68659f71",
   "metadata": {},
   "outputs": [],
   "source": [
    "df.head()"
   ]
  },
  {
   "cell_type": "code",
   "execution_count": null,
   "id": "9ab20d96",
   "metadata": {},
   "outputs": [],
   "source": [
    "df1.head()"
   ]
  },
  {
   "cell_type": "code",
   "execution_count": null,
   "id": "f14c74f7",
   "metadata": {},
   "outputs": [],
   "source": [
    "df2.head(20)"
   ]
  },
  {
   "cell_type": "code",
   "execution_count": null,
   "id": "a173c20f",
   "metadata": {
    "scrolled": true
   },
   "outputs": [],
   "source": [
    "\n",
    "rs2 = pd.read_sql_query(\"SELECT m.surname, m.firstname, r.surname||' ' ||r.firstname AS Recommender FROM Members AS m LEFT JOIN Members AS r ON m.memid = r.recommendedby ORDEr BY m.surname, m.firstname\", conn)\n",
    "rs2"
   ]
  },
  {
   "cell_type": "code",
   "execution_count": null,
   "id": "102475f5",
   "metadata": {},
   "outputs": [],
   "source": [
    "\n",
    "rs3  = pd.read_sql_query(\"SELECT f.name AS facility_name, m.firstname||' '||m.surname AS member_name, b.slots AS Usage FROM Facilities AS f INNER JOIN Bookings AS b Using(facid) INNER JOIN Members AS m Using(memid) WHERE memid != 0 LIMIT 10\", conn)\n",
    "rs3"
   ]
  },
  {
   "cell_type": "code",
   "execution_count": null,
   "id": "095c57e0",
   "metadata": {},
   "outputs": [],
   "source": [
    "\n",
    "\n",
    "rs4 = pd.read_sql_query(\"SELECT name, strftime('%m', starttime) AS month, COUNT(b.slots) AS Usage FROM Facilities INNER JOIN Bookings AS b USING(facid) WHERE b.memid <> 0 GROUP BY name\", conn)\n",
    "rs4"
   ]
  },
  {
   "cell_type": "code",
   "execution_count": null,
   "id": "7f6cd183",
   "metadata": {},
   "outputs": [],
   "source": [
    "\n",
    "rs5 = pd.read_sql_query(\"SELECT f.name, (guestcost * SUM(k.slots) + membercost * SUM(b.slots)) AS total_revenue FROM Facilities AS f INNER JOIN Bookings AS b ON f.facid = b.facid AND b.memid != 0 INNER JOIN Bookings AS k ON b.facid = k.facid and k.memid = 0    GROUP BY k.slots, b.slots HAVING total_revenue < 1000 Order by total_revenue LIMIT 10\", conn)\n",
    "rs5"
   ]
  },
  {
   "cell_type": "code",
   "execution_count": null,
   "id": "c3b8c6af",
   "metadata": {},
   "outputs": [],
   "source": [
    "rs6 = pd.read_sql_query(\"SELECT m.firstname||' '|| m.surname AS member_name, f.name AS facility_name, (SELECT b.slots * f.membercost AS costm FROM Bookings AS b INNER JOIN Facilities AS f WHERE b.memid != 0) as 'mem', (SELECT b.slots * f.guestcost AS costg FROM Bookings AS b INNER JOIN Facilities AS f WHERE b.memid = 0) AS 'g' FROM Members AS m INNER JOIN Bookings AS b ON m.memid = b.memid INNER JOIN Facilities AS f ON b.facid = f.facid \",conn)\n",
    "rs6"
   ]
  },
  {
   "cell_type": "code",
   "execution_count": null,
   "id": "5e2eb797",
   "metadata": {},
   "outputs": [],
   "source": [
    "rs7 = pd.read_sql_query(\"SELECT m.firstname||' '||m.surname AS member_name, f.name AS facility_name, CASE WHEN b.memid != 0 THEN b.slots * f.membercost ELSE f.guestcost * b.slots END AS Cost FROM Facilities as f INNER JOIN Bookings as b ON f.facid = b.facid INNER JOIN Members AS m ON b.memid = m.memid WHERE b.starttime LIKE '2012-09-14%' AND Cost > 30 ORDER BY Cost DESC\", conn)\n"
   ]
  },
  {
   "cell_type": "code",
   "execution_count": null,
   "id": "3bb3335e",
   "metadata": {
    "scrolled": true
   },
   "outputs": [],
   "source": [
    "pd.read_sql_query(\"SELECT m.firstname||' '|| m.surname AS member_name, f.name AS facility_name, (SELECT f.guestcost * k.slots + f.membercost * b.slots AS Cost FROM Facilities AS f INNER JOIN Bookings AS b ON f.facid = b.facid AND b.memid != 0 INNER JOIN Bookings AS k ON b.facid = k.facid and k.memid = 0 WHERE b.starttime LIKE '2012-09-14%') AS Cost FROM Members AS m INNER JOIN Bookings as b ON m.memid = b.memid INNER JOIN Facilities AS f ON b.facid = f.facid WHERE Cost > 30 AND b.starttime LIKE '2012-09-14%' ORDER BY Cost DESC\", conn)"
   ]
  },
  {
   "cell_type": "code",
   "execution_count": 19,
   "id": "ce8f5b94",
   "metadata": {},
   "outputs": [
    {
     "data": {
      "text/html": [
       "<div>\n",
       "<style scoped>\n",
       "    .dataframe tbody tr th:only-of-type {\n",
       "        vertical-align: middle;\n",
       "    }\n",
       "\n",
       "    .dataframe tbody tr th {\n",
       "        vertical-align: top;\n",
       "    }\n",
       "\n",
       "    .dataframe thead th {\n",
       "        text-align: right;\n",
       "    }\n",
       "</style>\n",
       "<table border=\"1\" class=\"dataframe\">\n",
       "  <thead>\n",
       "    <tr style=\"text-align: right;\">\n",
       "      <th></th>\n",
       "      <th>member_name</th>\n",
       "      <th>facility_name</th>\n",
       "      <th>number_slots</th>\n",
       "    </tr>\n",
       "  </thead>\n",
       "  <tbody>\n",
       "    <tr>\n",
       "      <th>0</th>\n",
       "      <td>Burton Tracy</td>\n",
       "      <td>Tennis Court 1</td>\n",
       "      <td>3</td>\n",
       "    </tr>\n",
       "    <tr>\n",
       "      <th>1</th>\n",
       "      <td>David Pinker</td>\n",
       "      <td>Tennis Court 1</td>\n",
       "      <td>3</td>\n",
       "    </tr>\n",
       "    <tr>\n",
       "      <th>2</th>\n",
       "      <td>Gerald Butters</td>\n",
       "      <td>Tennis Court 1</td>\n",
       "      <td>3</td>\n",
       "    </tr>\n",
       "    <tr>\n",
       "      <th>3</th>\n",
       "      <td>Tim Rownam</td>\n",
       "      <td>Tennis Court 1</td>\n",
       "      <td>3</td>\n",
       "    </tr>\n",
       "    <tr>\n",
       "      <th>4</th>\n",
       "      <td>GUEST GUEST</td>\n",
       "      <td>Tennis Court 1</td>\n",
       "      <td>3</td>\n",
       "    </tr>\n",
       "    <tr>\n",
       "      <th>...</th>\n",
       "      <td>...</td>\n",
       "      <td>...</td>\n",
       "      <td>...</td>\n",
       "    </tr>\n",
       "    <tr>\n",
       "      <th>57</th>\n",
       "      <td>Tim Rownam</td>\n",
       "      <td>Pool Table</td>\n",
       "      <td>1</td>\n",
       "    </tr>\n",
       "    <tr>\n",
       "      <th>58</th>\n",
       "      <td>Florence Bader</td>\n",
       "      <td>Pool Table</td>\n",
       "      <td>1</td>\n",
       "    </tr>\n",
       "    <tr>\n",
       "      <th>59</th>\n",
       "      <td>Timothy Baker</td>\n",
       "      <td>Pool Table</td>\n",
       "      <td>2</td>\n",
       "    </tr>\n",
       "    <tr>\n",
       "      <th>60</th>\n",
       "      <td>David Jones</td>\n",
       "      <td>Pool Table</td>\n",
       "      <td>1</td>\n",
       "    </tr>\n",
       "    <tr>\n",
       "      <th>61</th>\n",
       "      <td>Tracy Smith</td>\n",
       "      <td>Pool Table</td>\n",
       "      <td>1</td>\n",
       "    </tr>\n",
       "  </tbody>\n",
       "</table>\n",
       "<p>62 rows × 3 columns</p>\n",
       "</div>"
      ],
      "text/plain": [
       "       member_name   facility_name  number_slots\n",
       "0     Burton Tracy  Tennis Court 1             3\n",
       "1     David Pinker  Tennis Court 1             3\n",
       "2   Gerald Butters  Tennis Court 1             3\n",
       "3       Tim Rownam  Tennis Court 1             3\n",
       "4      GUEST GUEST  Tennis Court 1             3\n",
       "..             ...             ...           ...\n",
       "57      Tim Rownam      Pool Table             1\n",
       "58  Florence Bader      Pool Table             1\n",
       "59   Timothy Baker      Pool Table             2\n",
       "60     David Jones      Pool Table             1\n",
       "61     Tracy Smith      Pool Table             1\n",
       "\n",
       "[62 rows x 3 columns]"
      ]
     },
     "execution_count": 19,
     "metadata": {},
     "output_type": "execute_result"
    }
   ],
   "source": [
    "rs1 = pd.read_sql_query(\"SELECT m.firstname|| ' '|| m.surname AS member_name, f.name AS facility_name, b.slots AS number_slots  FROM Facilities as f INNER JOIN Bookings as b USING(facid) INNER JOIN Members as m USING(memid) WHERE b.starttime LIKE '2012-09-14%'\", conn)\n",
    "rs1"
   ]
  },
  {
   "cell_type": "code",
   "execution_count": 23,
   "id": "96185a9d",
   "metadata": {},
   "outputs": [
    {
     "ename": "DatabaseError",
     "evalue": "Execution failed on sql 'SELECT m.firstname AS member_name, Cost, facility_name FROM ((SELECT b.slots * f.membercost AS Cost, f.name AS facility_name FROM Facilities AS f INNER JOIN Bookings AS b WHERE b.memid != 0) AS sq1 INNER JOIN (SELECT b.slots * f.guestcost AS Cost FROM Facilities AS f INNER JOIN Bookings AS b WHERE b.memid = 0) AS sq2 ON sq1.memid = sq2.memid)) INNER JOIN Members AS m on sq1.memid = m.memid INNER JOIN Bookings AS b ON m.memid = b.memid WHERE Cost > 30 AND b.starttime LIKE '2012-09-14%' ORDER BY Cost DESC': near \")\": syntax error",
     "output_type": "error",
     "traceback": [
      "\u001b[1;31m---------------------------------------------------------------------------\u001b[0m",
      "\u001b[1;31mOperationalError\u001b[0m                          Traceback (most recent call last)",
      "File \u001b[1;32m~\\Anaconda3\\lib\\site-packages\\pandas\\io\\sql.py:2018\u001b[0m, in \u001b[0;36mSQLiteDatabase.execute\u001b[1;34m(self, *args, **kwargs)\u001b[0m\n\u001b[0;32m   2017\u001b[0m \u001b[38;5;28;01mtry\u001b[39;00m:\n\u001b[1;32m-> 2018\u001b[0m     cur\u001b[38;5;241m.\u001b[39mexecute(\u001b[38;5;241m*\u001b[39margs, \u001b[38;5;241m*\u001b[39m\u001b[38;5;241m*\u001b[39mkwargs)\n\u001b[0;32m   2019\u001b[0m     \u001b[38;5;28;01mreturn\u001b[39;00m cur\n",
      "\u001b[1;31mOperationalError\u001b[0m: near \")\": syntax error",
      "\nThe above exception was the direct cause of the following exception:\n",
      "\u001b[1;31mDatabaseError\u001b[0m                             Traceback (most recent call last)",
      "Cell \u001b[1;32mIn[23], line 1\u001b[0m\n\u001b[1;32m----> 1\u001b[0m rs1 \u001b[38;5;241m=\u001b[39m \u001b[43mpd\u001b[49m\u001b[38;5;241;43m.\u001b[39;49m\u001b[43mread_sql_query\u001b[49m\u001b[43m(\u001b[49m\u001b[38;5;124;43m\"\u001b[39;49m\u001b[38;5;124;43mSELECT m.firstname AS member_name, Cost, facility_name FROM ((SELECT b.slots * f.membercost AS Cost, f.name AS facility_name FROM Facilities AS f INNER JOIN Bookings AS b WHERE b.memid != 0) AS sq1 INNER JOIN (SELECT b.slots * f.guestcost AS Cost FROM Facilities AS f INNER JOIN Bookings AS b WHERE b.memid = 0) AS sq2 ON sq1.memid = sq2.memid)) INNER JOIN Members AS m on sq1.memid = m.memid INNER JOIN Bookings AS b ON m.memid = b.memid WHERE Cost > 30 AND b.starttime LIKE \u001b[39;49m\u001b[38;5;124;43m'\u001b[39;49m\u001b[38;5;124;43m2012-09-14\u001b[39;49m\u001b[38;5;124;43m%\u001b[39;49m\u001b[38;5;124;43m'\u001b[39;49m\u001b[38;5;124;43m ORDER BY Cost DESC\u001b[39;49m\u001b[38;5;124;43m\"\u001b[39;49m\u001b[43m,\u001b[49m\u001b[43m \u001b[49m\u001b[43mconn\u001b[49m\u001b[43m)\u001b[49m\n\u001b[0;32m      2\u001b[0m rs1\n",
      "File \u001b[1;32m~\\Anaconda3\\lib\\site-packages\\pandas\\io\\sql.py:397\u001b[0m, in \u001b[0;36mread_sql_query\u001b[1;34m(sql, con, index_col, coerce_float, params, parse_dates, chunksize, dtype)\u001b[0m\n\u001b[0;32m    339\u001b[0m \u001b[38;5;124;03m\"\"\"\u001b[39;00m\n\u001b[0;32m    340\u001b[0m \u001b[38;5;124;03mRead SQL query into a DataFrame.\u001b[39;00m\n\u001b[0;32m    341\u001b[0m \n\u001b[1;32m   (...)\u001b[0m\n\u001b[0;32m    394\u001b[0m \u001b[38;5;124;03mparameter will be converted to UTC.\u001b[39;00m\n\u001b[0;32m    395\u001b[0m \u001b[38;5;124;03m\"\"\"\u001b[39;00m\n\u001b[0;32m    396\u001b[0m pandas_sql \u001b[38;5;241m=\u001b[39m pandasSQL_builder(con)\n\u001b[1;32m--> 397\u001b[0m \u001b[38;5;28;01mreturn\u001b[39;00m \u001b[43mpandas_sql\u001b[49m\u001b[38;5;241;43m.\u001b[39;49m\u001b[43mread_query\u001b[49m\u001b[43m(\u001b[49m\n\u001b[0;32m    398\u001b[0m \u001b[43m    \u001b[49m\u001b[43msql\u001b[49m\u001b[43m,\u001b[49m\n\u001b[0;32m    399\u001b[0m \u001b[43m    \u001b[49m\u001b[43mindex_col\u001b[49m\u001b[38;5;241;43m=\u001b[39;49m\u001b[43mindex_col\u001b[49m\u001b[43m,\u001b[49m\n\u001b[0;32m    400\u001b[0m \u001b[43m    \u001b[49m\u001b[43mparams\u001b[49m\u001b[38;5;241;43m=\u001b[39;49m\u001b[43mparams\u001b[49m\u001b[43m,\u001b[49m\n\u001b[0;32m    401\u001b[0m \u001b[43m    \u001b[49m\u001b[43mcoerce_float\u001b[49m\u001b[38;5;241;43m=\u001b[39;49m\u001b[43mcoerce_float\u001b[49m\u001b[43m,\u001b[49m\n\u001b[0;32m    402\u001b[0m \u001b[43m    \u001b[49m\u001b[43mparse_dates\u001b[49m\u001b[38;5;241;43m=\u001b[39;49m\u001b[43mparse_dates\u001b[49m\u001b[43m,\u001b[49m\n\u001b[0;32m    403\u001b[0m \u001b[43m    \u001b[49m\u001b[43mchunksize\u001b[49m\u001b[38;5;241;43m=\u001b[39;49m\u001b[43mchunksize\u001b[49m\u001b[43m,\u001b[49m\n\u001b[0;32m    404\u001b[0m \u001b[43m    \u001b[49m\u001b[43mdtype\u001b[49m\u001b[38;5;241;43m=\u001b[39;49m\u001b[43mdtype\u001b[49m\u001b[43m,\u001b[49m\n\u001b[0;32m    405\u001b[0m \u001b[43m\u001b[49m\u001b[43m)\u001b[49m\n",
      "File \u001b[1;32m~\\Anaconda3\\lib\\site-packages\\pandas\\io\\sql.py:2078\u001b[0m, in \u001b[0;36mSQLiteDatabase.read_query\u001b[1;34m(self, sql, index_col, coerce_float, params, parse_dates, chunksize, dtype)\u001b[0m\n\u001b[0;32m   2066\u001b[0m \u001b[38;5;28;01mdef\u001b[39;00m \u001b[38;5;21mread_query\u001b[39m(\n\u001b[0;32m   2067\u001b[0m     \u001b[38;5;28mself\u001b[39m,\n\u001b[0;32m   2068\u001b[0m     sql,\n\u001b[1;32m   (...)\u001b[0m\n\u001b[0;32m   2074\u001b[0m     dtype: DtypeArg \u001b[38;5;241m|\u001b[39m \u001b[38;5;28;01mNone\u001b[39;00m \u001b[38;5;241m=\u001b[39m \u001b[38;5;28;01mNone\u001b[39;00m,\n\u001b[0;32m   2075\u001b[0m ) \u001b[38;5;241m-\u001b[39m\u001b[38;5;241m>\u001b[39m DataFrame \u001b[38;5;241m|\u001b[39m Iterator[DataFrame]:\n\u001b[0;32m   2077\u001b[0m     args \u001b[38;5;241m=\u001b[39m _convert_params(sql, params)\n\u001b[1;32m-> 2078\u001b[0m     cursor \u001b[38;5;241m=\u001b[39m \u001b[38;5;28;43mself\u001b[39;49m\u001b[38;5;241;43m.\u001b[39;49m\u001b[43mexecute\u001b[49m\u001b[43m(\u001b[49m\u001b[38;5;241;43m*\u001b[39;49m\u001b[43margs\u001b[49m\u001b[43m)\u001b[49m\n\u001b[0;32m   2079\u001b[0m     columns \u001b[38;5;241m=\u001b[39m [col_desc[\u001b[38;5;241m0\u001b[39m] \u001b[38;5;28;01mfor\u001b[39;00m col_desc \u001b[38;5;129;01min\u001b[39;00m cursor\u001b[38;5;241m.\u001b[39mdescription]\n\u001b[0;32m   2081\u001b[0m     \u001b[38;5;28;01mif\u001b[39;00m chunksize \u001b[38;5;129;01mis\u001b[39;00m \u001b[38;5;129;01mnot\u001b[39;00m \u001b[38;5;28;01mNone\u001b[39;00m:\n",
      "File \u001b[1;32m~\\Anaconda3\\lib\\site-packages\\pandas\\io\\sql.py:2030\u001b[0m, in \u001b[0;36mSQLiteDatabase.execute\u001b[1;34m(self, *args, **kwargs)\u001b[0m\n\u001b[0;32m   2027\u001b[0m     \u001b[38;5;28;01mraise\u001b[39;00m ex \u001b[38;5;28;01mfrom\u001b[39;00m \u001b[38;5;21;01minner_exc\u001b[39;00m\n\u001b[0;32m   2029\u001b[0m ex \u001b[38;5;241m=\u001b[39m DatabaseError(\u001b[38;5;124mf\u001b[39m\u001b[38;5;124m\"\u001b[39m\u001b[38;5;124mExecution failed on sql \u001b[39m\u001b[38;5;124m'\u001b[39m\u001b[38;5;132;01m{\u001b[39;00margs[\u001b[38;5;241m0\u001b[39m]\u001b[38;5;132;01m}\u001b[39;00m\u001b[38;5;124m'\u001b[39m\u001b[38;5;124m: \u001b[39m\u001b[38;5;132;01m{\u001b[39;00mexc\u001b[38;5;132;01m}\u001b[39;00m\u001b[38;5;124m\"\u001b[39m)\n\u001b[1;32m-> 2030\u001b[0m \u001b[38;5;28;01mraise\u001b[39;00m ex \u001b[38;5;28;01mfrom\u001b[39;00m \u001b[38;5;21;01mexc\u001b[39;00m\n",
      "\u001b[1;31mDatabaseError\u001b[0m: Execution failed on sql 'SELECT m.firstname AS member_name, Cost, facility_name FROM ((SELECT b.slots * f.membercost AS Cost, f.name AS facility_name FROM Facilities AS f INNER JOIN Bookings AS b WHERE b.memid != 0) AS sq1 INNER JOIN (SELECT b.slots * f.guestcost AS Cost FROM Facilities AS f INNER JOIN Bookings AS b WHERE b.memid = 0) AS sq2 ON sq1.memid = sq2.memid)) INNER JOIN Members AS m on sq1.memid = m.memid INNER JOIN Bookings AS b ON m.memid = b.memid WHERE Cost > 30 AND b.starttime LIKE '2012-09-14%' ORDER BY Cost DESC': near \")\": syntax error"
     ]
    }
   ],
   "source": [
    "rs1 = pd.read_sql_query(\"SELECT m.firstname AS member_name, Cost, facility_name FROM ((SELECT b.slots * f.membercost AS Cost, f.name AS facility_name FROM Facilities AS f INNER JOIN Bookings AS b WHERE b.memid != 0) AS sq1 INNER JOIN (SELECT b.slots * f.guestcost AS Cost FROM Facilities AS f INNER JOIN Bookings AS b WHERE b.memid = 0) AS sq2 ON sq1.memid = sq2.memid)) INNER JOIN Members AS m on sq1.memid = m.memid INNER JOIN Bookings AS b ON m.memid = b.memid WHERE Cost > 30 AND b.starttime LIKE '2012-09-14%' ORDER BY Cost DESC\", conn)\n",
    "rs1"
   ]
  }
 ],
 "metadata": {
  "kernelspec": {
   "display_name": "Python 3 (ipykernel)",
   "language": "python",
   "name": "python3"
  },
  "language_info": {
   "codemirror_mode": {
    "name": "ipython",
    "version": 3
   },
   "file_extension": ".py",
   "mimetype": "text/x-python",
   "name": "python",
   "nbconvert_exporter": "python",
   "pygments_lexer": "ipython3",
   "version": "3.9.16"
  }
 },
 "nbformat": 4,
 "nbformat_minor": 5
}
