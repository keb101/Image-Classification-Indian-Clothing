{
  "cells": [
    {
      "cell_type": "markdown",
      "metadata": {
        "id": "view-in-github",
        "colab_type": "text"
      },
      "source": [
        "<a href=\"https://colab.research.google.com/github/OmdenaAI/ladakh-india-glacier-mapping/blob/main/src/visualizations/image_segmentation.ipynb\" target=\"_parent\"><img src=\"https://colab.research.google.com/assets/colab-badge.svg\" alt=\"Open In Colab\"/></a>"
      ]
    },
    {
      "cell_type": "code",
      "execution_count": 1,
      "metadata": {
        "id": "UONirdqMLZNs"
      },
      "outputs": [],
      "source": [
        "#pip install folium\n",
        "#pip install earthengine-api #if running on local conda environment\n",
        "# initiate earthengine authenticate to start the process in the local conda environment\n",
        "###only needed the first time your run\n",
        "#ee.Authenticate() -----IMPORTANT"
      ]
    },
    {
      "cell_type": "code",
      "execution_count": 2,
      "metadata": {
        "id": "u6vBnqmOLZNu"
      },
      "outputs": [],
      "source": [
        "# Import necessary libraries\n",
        "import ee\n",
        "import folium\n",
        "\n",
        "\n"
      ]
    },
    {
      "cell_type": "code",
      "execution_count": 3,
      "metadata": {
        "id": "1FvvEc88LZNu"
      },
      "outputs": [],
      "source": [
        "# Initialize the Earth Engine API\n",
        "\n",
        "\n",
        "\n",
        "\n",
        "ee.Initialize()\n",
        "\n",
        "# Define a method to display Earth Engine image tiles on a folium map.\n",
        "def add_ee_layer(self, ee_image_object, vis_params, name):\n",
        "    map_id_dict = ee.Image(ee_image_object).getMapId(vis_params)\n",
        "    folium.raster_layers.TileLayer(\n",
        "        tiles=map_id_dict['tile_fetcher'].url_format,\n",
        "        attr='Map Data &copy; Google Earth Engine',\n",
        "        name=name,\n",
        "        overlay=True,\n",
        "        control=True\n",
        "    ).add_to(self)\n",
        "\n",
        "# Add Earth Engine drawing method to folium.\n",
        "folium.Map.add_ee_layer = add_ee_layer\n",
        "\n"
      ]
    },
    {
      "cell_type": "code",
      "execution_count": 6,
      "metadata": {
        "id": "lUZa8qjlLZNu"
      },
      "outputs": [],
      "source": [
        "# Set the area of interest (AOI). For our example, it will be a rectangle around Ladakh\n",
        "aoi = ee.Geometry.Rectangle([75.0, 36, 82, 32])\n",
        "\n",
        "# Load a landsat image. Filter by date and AOI and cloud cover.\n",
        "landsat = (ee.ImageCollection('LANDSAT/LC08/C01/T1_TOA')\n",
        "           .filterDate(ee.Date('2020-07-01'), ee.Date('2020-10-31'))\n",
        "           .filterBounds(aoi)\n",
        "            .filterMetadata('CLOUD_COVER', 'less_than', 10)\n",
        "           .median())  # Take the median to remove clouds\n",
        "\n",
        "\n",
        "# this was the process that was mentioned in one of the tutorials\n",
        "# Use normalized difference to emphasize water bodies which can be indicative of glacial melt.\n",
        "ndwi = landsat.normalizedDifference(['B3', 'B6'])\n",
        "\n",
        "# Threshold the NDWI to create a binary mask of potential glacier locations.\n",
        "glacier_mask = ndwi.gt(0.3)\n",
        "\n"
      ]
    },
    {
      "cell_type": "code",
      "execution_count": 7,
      "metadata": {
        "colab": {
          "base_uri": "https://localhost:8080/",
          "height": 742
        },
        "id": "3tHawJfPLZNv",
        "outputId": "4b20c99d-960f-4de1-a3f3-e4fae113bcca"
      },
      "outputs": [
        {
          "output_type": "display_data",
          "data": {
            "text/plain": [
              "<folium.folium.Map at 0x7e40d6895120>"
            ],
            "text/html": [
              "<div style=\"width:100%;\"><div style=\"position:relative;width:100%;height:0;padding-bottom:60%;\"><span style=\"color:#565656\">Make this Notebook Trusted to load map: File -> Trust Notebook</span><iframe srcdoc=\"&lt;!DOCTYPE html&gt;\n",
              "&lt;html&gt;\n",
              "&lt;head&gt;\n",
              "    \n",
              "    &lt;meta http-equiv=&quot;content-type&quot; content=&quot;text/html; charset=UTF-8&quot; /&gt;\n",
              "    \n",
              "        &lt;script&gt;\n",
              "            L_NO_TOUCH = false;\n",
              "            L_DISABLE_3D = false;\n",
              "        &lt;/script&gt;\n",
              "    \n",
              "    &lt;style&gt;html, body {width: 100%;height: 100%;margin: 0;padding: 0;}&lt;/style&gt;\n",
              "    &lt;style&gt;#map {position:absolute;top:0;bottom:0;right:0;left:0;}&lt;/style&gt;\n",
              "    &lt;script src=&quot;https://cdn.jsdelivr.net/npm/leaflet@1.9.3/dist/leaflet.js&quot;&gt;&lt;/script&gt;\n",
              "    &lt;script src=&quot;https://code.jquery.com/jquery-1.12.4.min.js&quot;&gt;&lt;/script&gt;\n",
              "    &lt;script src=&quot;https://cdn.jsdelivr.net/npm/bootstrap@5.2.2/dist/js/bootstrap.bundle.min.js&quot;&gt;&lt;/script&gt;\n",
              "    &lt;script src=&quot;https://cdnjs.cloudflare.com/ajax/libs/Leaflet.awesome-markers/2.0.2/leaflet.awesome-markers.js&quot;&gt;&lt;/script&gt;\n",
              "    &lt;link rel=&quot;stylesheet&quot; href=&quot;https://cdn.jsdelivr.net/npm/leaflet@1.9.3/dist/leaflet.css&quot;/&gt;\n",
              "    &lt;link rel=&quot;stylesheet&quot; href=&quot;https://cdn.jsdelivr.net/npm/bootstrap@5.2.2/dist/css/bootstrap.min.css&quot;/&gt;\n",
              "    &lt;link rel=&quot;stylesheet&quot; href=&quot;https://netdna.bootstrapcdn.com/bootstrap/3.0.0/css/bootstrap.min.css&quot;/&gt;\n",
              "    &lt;link rel=&quot;stylesheet&quot; href=&quot;https://cdn.jsdelivr.net/npm/@fortawesome/fontawesome-free@6.2.0/css/all.min.css&quot;/&gt;\n",
              "    &lt;link rel=&quot;stylesheet&quot; href=&quot;https://cdnjs.cloudflare.com/ajax/libs/Leaflet.awesome-markers/2.0.2/leaflet.awesome-markers.css&quot;/&gt;\n",
              "    &lt;link rel=&quot;stylesheet&quot; href=&quot;https://cdn.jsdelivr.net/gh/python-visualization/folium/folium/templates/leaflet.awesome.rotate.min.css&quot;/&gt;\n",
              "    \n",
              "            &lt;meta name=&quot;viewport&quot; content=&quot;width=device-width,\n",
              "                initial-scale=1.0, maximum-scale=1.0, user-scalable=no&quot; /&gt;\n",
              "            &lt;style&gt;\n",
              "                #map_1c55adeec0df032e05beceb4572dd6a0 {\n",
              "                    position: relative;\n",
              "                    width: 100.0%;\n",
              "                    height: 100.0%;\n",
              "                    left: 0.0%;\n",
              "                    top: 0.0%;\n",
              "                }\n",
              "                .leaflet-container { font-size: 1rem; }\n",
              "            &lt;/style&gt;\n",
              "        \n",
              "&lt;/head&gt;\n",
              "&lt;body&gt;\n",
              "    \n",
              "    \n",
              "            &lt;div class=&quot;folium-map&quot; id=&quot;map_1c55adeec0df032e05beceb4572dd6a0&quot; &gt;&lt;/div&gt;\n",
              "        \n",
              "&lt;/body&gt;\n",
              "&lt;script&gt;\n",
              "    \n",
              "    \n",
              "            var map_1c55adeec0df032e05beceb4572dd6a0 = L.map(\n",
              "                &quot;map_1c55adeec0df032e05beceb4572dd6a0&quot;,\n",
              "                {\n",
              "                    center: [34.0, 77.5],\n",
              "                    crs: L.CRS.EPSG3857,\n",
              "                    zoom: 7,\n",
              "                    zoomControl: true,\n",
              "                    preferCanvas: false,\n",
              "                }\n",
              "            );\n",
              "\n",
              "            \n",
              "\n",
              "        \n",
              "    \n",
              "            var tile_layer_79188facfdab157c791d03086016fc87 = L.tileLayer(\n",
              "                &quot;https://{s}.tile.openstreetmap.org/{z}/{x}/{y}.png&quot;,\n",
              "                {&quot;attribution&quot;: &quot;Data by \\u0026copy; \\u003ca target=\\&quot;_blank\\&quot; href=\\&quot;http://openstreetmap.org\\&quot;\\u003eOpenStreetMap\\u003c/a\\u003e, under \\u003ca target=\\&quot;_blank\\&quot; href=\\&quot;http://www.openstreetmap.org/copyright\\&quot;\\u003eODbL\\u003c/a\\u003e.&quot;, &quot;detectRetina&quot;: false, &quot;maxNativeZoom&quot;: 18, &quot;maxZoom&quot;: 18, &quot;minZoom&quot;: 0, &quot;noWrap&quot;: false, &quot;opacity&quot;: 1, &quot;subdomains&quot;: &quot;abc&quot;, &quot;tms&quot;: false}\n",
              "            ).addTo(map_1c55adeec0df032e05beceb4572dd6a0);\n",
              "        \n",
              "    \n",
              "            var rectangle_b3435c3490d3fd8bd68fd90264a5eb06 = L.rectangle(\n",
              "                [[75.0, 36.0], [82.0, 32.0]],\n",
              "                {&quot;bubblingMouseEvents&quot;: true, &quot;color&quot;: &quot;#ff7800&quot;, &quot;dashArray&quot;: null, &quot;dashOffset&quot;: null, &quot;fill&quot;: true, &quot;fillColor&quot;: &quot;#ffff00&quot;, &quot;fillOpacity&quot;: 0.2, &quot;fillRule&quot;: &quot;evenodd&quot;, &quot;lineCap&quot;: &quot;round&quot;, &quot;lineJoin&quot;: &quot;round&quot;, &quot;noClip&quot;: false, &quot;opacity&quot;: 1.0, &quot;smoothFactor&quot;: 1.0, &quot;stroke&quot;: true, &quot;weight&quot;: 3}\n",
              "            ).addTo(map_1c55adeec0df032e05beceb4572dd6a0);\n",
              "        \n",
              "    \n",
              "            var tile_layer_0cf41297c111abcf868b5a3f199a408d = L.tileLayer(\n",
              "                &quot;https://earthengine.googleapis.com/v1/projects/earthengine-legacy/maps/e50ae940755adf3cd8109d60af773410-b9e8267a48e976f800acbf87c2f21133/tiles/{z}/{x}/{y}&quot;,\n",
              "                {&quot;attribution&quot;: &quot;Map Data \\u0026copy; Google Earth Engine&quot;, &quot;detectRetina&quot;: false, &quot;maxNativeZoom&quot;: 18, &quot;maxZoom&quot;: 18, &quot;minZoom&quot;: 0, &quot;noWrap&quot;: false, &quot;opacity&quot;: 1, &quot;subdomains&quot;: &quot;abc&quot;, &quot;tms&quot;: false}\n",
              "            ).addTo(map_1c55adeec0df032e05beceb4572dd6a0);\n",
              "        \n",
              "    \n",
              "            var tile_layer_6488ebe096689b89751fa6aa6196d492 = L.tileLayer(\n",
              "                &quot;https://earthengine.googleapis.com/v1/projects/earthengine-legacy/maps/c0f3a59a4588fe3986d01154d4f6955a-5708598816562874ddc336469979a5b8/tiles/{z}/{x}/{y}&quot;,\n",
              "                {&quot;attribution&quot;: &quot;Map Data \\u0026copy; Google Earth Engine&quot;, &quot;detectRetina&quot;: false, &quot;maxNativeZoom&quot;: 18, &quot;maxZoom&quot;: 18, &quot;minZoom&quot;: 0, &quot;noWrap&quot;: false, &quot;opacity&quot;: 1, &quot;subdomains&quot;: &quot;abc&quot;, &quot;tms&quot;: false}\n",
              "            ).addTo(map_1c55adeec0df032e05beceb4572dd6a0);\n",
              "        \n",
              "    \n",
              "            var layer_control_bd204f1514b6af1ca6239e1a6c3d5cde = {\n",
              "                base_layers : {\n",
              "                    &quot;openstreetmap&quot; : tile_layer_79188facfdab157c791d03086016fc87,\n",
              "                },\n",
              "                overlays :  {\n",
              "                    &quot;Landsat Image&quot; : tile_layer_0cf41297c111abcf868b5a3f199a408d,\n",
              "                    &quot;Glacier Mask&quot; : tile_layer_6488ebe096689b89751fa6aa6196d492,\n",
              "                },\n",
              "            };\n",
              "            L.control.layers(\n",
              "                layer_control_bd204f1514b6af1ca6239e1a6c3d5cde.base_layers,\n",
              "                layer_control_bd204f1514b6af1ca6239e1a6c3d5cde.overlays,\n",
              "                {&quot;autoZIndex&quot;: true, &quot;collapsed&quot;: true, &quot;position&quot;: &quot;topright&quot;}\n",
              "            ).addTo(map_1c55adeec0df032e05beceb4572dd6a0);\n",
              "        \n",
              "&lt;/script&gt;\n",
              "&lt;/html&gt;\" style=\"position:absolute;width:100%;height:100%;left:0;top:0;border:none !important;\" allowfullscreen webkitallowfullscreen mozallowfullscreen></iframe></div></div>"
            ]
          },
          "metadata": {}
        }
      ],
      "source": [
        "# Visualize\n",
        "location = [34.0, 77.5]  # For ladakh regions just a point somehwere in the rectabngle\n",
        "m = folium.Map(location=location, zoom_start=7)\n",
        "\n",
        "# Define the bounds of the rectangle. Format: [[lat_min, lon_min], [lat_max, lon_max]]\n",
        "bounds = [[75, 36], [82, 32]]\n",
        "\n",
        "# Add the rectangle to the map\n",
        "folium.Rectangle(\n",
        "    bounds=bounds,\n",
        "    color='#ff7800',\n",
        "    fill=True,\n",
        "    fill_color='#ffff00',\n",
        "    fill_opacity=0.2\n",
        ").add_to(m)\n",
        "\n",
        "\n",
        "\n",
        "# Add the raw image to the map\n",
        "vis_params = {'bands': ['B4', 'B3', 'B2'], 'max': 0.3}\n",
        "m.add_ee_layer(landsat, vis_params, 'Landsat Image')\n",
        "\n",
        "# Add the glacier mask to the map\n",
        "m.add_ee_layer(glacier_mask.updateMask(glacier_mask), {'palette': 'blue'}, 'Glacier Mask')\n",
        "\n",
        "# Add a layer control panel to the map.\n",
        "m.add_child(folium.LayerControl())\n",
        "\n",
        "# Display the map.\n",
        "display(m)"
      ]
    }
  ],
  "metadata": {
    "kernelspec": {
      "display_name": "Python 3",
      "language": "python",
      "name": "python3"
    },
    "language_info": {
      "codemirror_mode": {
        "name": "ipython",
        "version": 3
      },
      "file_extension": ".py",
      "mimetype": "text/x-python",
      "name": "python",
      "nbconvert_exporter": "python",
      "pygments_lexer": "ipython3",
      "version": "3.11.4"
    },
    "orig_nbformat": 4,
    "colab": {
      "provenance": [],
      "include_colab_link": true
    }
  },
  "nbformat": 4,
  "nbformat_minor": 0
}