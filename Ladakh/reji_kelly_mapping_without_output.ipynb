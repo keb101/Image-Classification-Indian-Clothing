{
 "cells": [
  {
   "cell_type": "markdown",
   "metadata": {
    "colab_type": "text",
    "id": "view-in-github"
   },
   "source": [
    "<a href=\"https://colab.research.google.com/github/OmdenaAI/ladakh-india-glacier-mapping/blob/main/src/visualizations/image_segmentation.ipynb\" target=\"_parent\"><img src=\"https://colab.research.google.com/assets/colab-badge.svg\" alt=\"Open In Colab\"/></a>"
   ]
  },
  {
   "cell_type": "code",
   "execution_count": null,
   "metadata": {
    "id": "UONirdqMLZNs"
   },
   "outputs": [],
   "source": [
    "#pip install folium\n",
    "#pip install earthengine-api #if running on local conda environment\n",
    "# initiate earthengine authenticate to start the process in the local conda environment\n",
    "###only needed the first time your run\n",
    "\n",
    "#ee.Authenticate() #-----IMPORTANT"
   ]
  },
  {
   "cell_type": "code",
   "execution_count": null,
   "metadata": {
    "id": "u6vBnqmOLZNu"
   },
   "outputs": [],
   "source": [
    "# Import necessary libraries\n",
    "import ee\n",
    "import folium\n",
    "from glob import glob\n",
    "import geopandas as gpd\n",
    "import pandas as pd\n"
   ]
  },
  {
   "cell_type": "code",
   "execution_count": null,
   "metadata": {
    "id": "1FvvEc88LZNu"
   },
   "outputs": [],
   "source": [
    "# Initialize the Earth Engine API\n",
    "ee.Initialize()\n",
    "\n",
    "# Define a method to display Earth Engine image tiles on a folium map.\n",
    "def add_ee_layer(self, ee_image_object, vis_params, name):\n",
    "    map_id_dict = ee.Image(ee_image_object).getMapId(vis_params)\n",
    "    folium.raster_layers.TileLayer(\n",
    "        tiles=map_id_dict['tile_fetcher'].url_format,\n",
    "        attr='Map Data &copy; Google Earth Engine',\n",
    "        name=name,\n",
    "        overlay=True,\n",
    "        control=True\n",
    "    ).add_to(self)\n",
    "\n",
    "# Add Earth Engine drawing method to folium.\n",
    "folium.Map.add_ee_layer = add_ee_layer"
   ]
  },
  {
   "cell_type": "code",
   "execution_count": null,
   "metadata": {
    "id": "lUZa8qjlLZNu"
   },
   "outputs": [],
   "source": [
    "# Set the area of interest (AOI). For our example, it will be a rectangle around Ladakh\n",
    "aoi = ee.Geometry.Rectangle([75.0, 36, 82, 32])\n",
    "\n",
    "# Load a landsat image. Filter by date and AOI and cloud cover.\n",
    "landsat = (ee.ImageCollection('LANDSAT/LC08/C01/T1_TOA')\n",
    "           .filterDate(ee.Date('2020-07-01'), ee.Date('2020-10-31'))\n",
    "           .filterBounds(aoi)\n",
    "            .filterMetadata('CLOUD_COVER', 'less_than', 10)\n",
    "           .median())  # Take the median to remove clouds\n",
    "\n",
    "\n",
    "# this was the process that was mentioned in one of the tutorials\n",
    "# Use normalized difference to emphasize water bodies which can be indicative of glacial melt.\n",
    "ndwi = landsat.normalizedDifference(['B3', 'B6'])\n",
    "\n",
    "# Threshold the NDWI to create a binary mask of potential glacier locations.\n",
    "glacier_mask = ndwi.gt(0.3)"
   ]
  },
  {
   "cell_type": "code",
   "execution_count": null,
   "metadata": {
    "colab": {
     "base_uri": "https://localhost:8080/",
     "height": 742
    },
    "id": "3tHawJfPLZNv",
    "outputId": "4b20c99d-960f-4de1-a3f3-e4fae113bcca",
    "scrolled": true
   },
   "outputs": [],
   "source": [
    "# Visualize\n",
    "location = [34.0, 77.5]  # For ladakh regions just a point somehwere in the rectangle\n",
    "m = folium.Map(location=location, zoom_start=7)\n",
    "\n",
    "# Define the bounds of the rectangle. Format: [[lat_min, lon_min], [lat_max, lon_max]]\n",
    "bounds = [[75, 36], [82, 32]]\n",
    "\n",
    "# Add the rectangle to the map\n",
    "folium.Rectangle(\n",
    "    bounds=bounds,\n",
    "    color='#ff7800',\n",
    "    fill=True,\n",
    "    fill_color='#ffff00',\n",
    "    fill_opacity=0.2\n",
    ").add_to(m)\n",
    "\n",
    "# Add the raw image to the map\n",
    "vis_params = {'bands': ['B4', 'B3', 'B2'], 'max': 0.3}\n",
    "m.add_ee_layer(landsat, vis_params, 'Landsat Image')\n",
    "\n",
    "# Add the glacier mask to the map\n",
    "m.add_ee_layer(glacier_mask.updateMask(glacier_mask), {'palette': 'blue'}, 'Glacier Mask')\n",
    "\n",
    "# Add a layer control panel to the map.\n",
    "m.add_child(folium.LayerControl())\n",
    "\n",
    "# Display the map.\n",
    "display(m)"
   ]
  },
  {
   "cell_type": "code",
   "execution_count": null,
   "metadata": {
    "colab": {
     "base_uri": "https://localhost:8080/",
     "height": 742
    },
    "id": "3tHawJfPLZNv",
    "outputId": "4b20c99d-960f-4de1-a3f3-e4fae113bcca"
   },
   "outputs": [],
   "source": [
    "# Visualize without glacier mask\n",
    "location = [34.0, 77.5]  # For ladakh regions just a point somehwere in the rectangle\n",
    "m = folium.Map(location=location, zoom_start=7)\n",
    "\n",
    "# Define the bounds of the rectangle. Format: [[lat_min, lon_min], [lat_max, lon_max]]\n",
    "bounds = [[75, 36], [82, 32]]\n",
    "\n",
    "# Add the rectangle to the map\n",
    "folium.Rectangle(\n",
    "    bounds=bounds,\n",
    "    color='#ff7800',\n",
    "    fill=True,\n",
    "    fill_color='#ffff00',\n",
    "    fill_opacity=0.2\n",
    ").add_to(m)\n",
    "\n",
    "\n",
    "\n",
    "# Add the raw image to the map\n",
    "vis_params = {'bands': ['B4', 'B3', 'B2'], 'max': 0.3}\n",
    "m.add_ee_layer(landsat, vis_params, 'Landsat Image')\n",
    "\n",
    "# Add the glacier mask to the map\n",
    "#m.add_ee_layer(glacier_mask.updateMask(glacier_mask), {'palette': 'blue'}, 'Glacier Mask')\n",
    "\n",
    "\n",
    "    \n",
    "# Add a layer control panel to the map.\n",
    "m.add_child(folium.LayerControl())\n",
    "\n",
    "# Display the map.\n",
    "display(m)"
   ]
  },
  {
   "cell_type": "code",
   "execution_count": null,
   "metadata": {
    "scrolled": true
   },
   "outputs": [],
   "source": [
    "# Reading in Pangong glacier data for 1977\n",
    "gdf = gpd.read_file('/DATA_IN_GEOPACKAGE_FORMAT/GLACIER_OUTLINES/PANGONG_GLACIERS_1977.gpkg')\n",
    "gdf.head()\n"
   ]
  },
  {
   "cell_type": "code",
   "execution_count": null,
   "metadata": {},
   "outputs": [],
   "source": [
    "gdf.shape"
   ]
  },
  {
   "cell_type": "code",
   "execution_count": null,
   "metadata": {
    "scrolled": true
   },
   "outputs": [],
   "source": [
    "gdf['area'] = gdf.area"
   ]
  },
  {
   "cell_type": "code",
   "execution_count": null,
   "metadata": {},
   "outputs": [],
   "source": [
    "gdf = gdf.to_crs(epsg=4326)\n",
    "gdf.crs"
   ]
  },
  {
   "cell_type": "code",
   "execution_count": null,
   "metadata": {},
   "outputs": [],
   "source": [
    "gdf.plot('area')"
   ]
  },
  {
   "cell_type": "code",
   "execution_count": null,
   "metadata": {},
   "outputs": [],
   "source": [
    "# Reading in Shayok glacier data for 1977\n",
    "gdf1 = gpd.read_file('/DATA_IN_GEOPACKAGE_FORMAT/GLACIER_OUTLINES/SHAYOK_GLACIERS_1977.gpkg')"
   ]
  },
  {
   "cell_type": "code",
   "execution_count": null,
   "metadata": {
    "scrolled": true
   },
   "outputs": [],
   "source": [
    "gdf1.head()"
   ]
  },
  {
   "cell_type": "code",
   "execution_count": null,
   "metadata": {},
   "outputs": [],
   "source": [
    "gdf1.shape"
   ]
  },
  {
   "cell_type": "code",
   "execution_count": null,
   "metadata": {},
   "outputs": [],
   "source": [
    "gdf1['area'] = gdf1.area"
   ]
  },
  {
   "cell_type": "code",
   "execution_count": null,
   "metadata": {
    "scrolled": false
   },
   "outputs": [],
   "source": [
    "gdf1 = gdf1.to_crs(epsg=4326)\n",
    "gdf1.crs"
   ]
  },
  {
   "cell_type": "code",
   "execution_count": null,
   "metadata": {
    "scrolled": true
   },
   "outputs": [],
   "source": [
    "gdf1.plot('area')"
   ]
  },
  {
   "cell_type": "code",
   "execution_count": null,
   "metadata": {},
   "outputs": [],
   "source": [
    "# Reading in Leh glacier data for 1977\n",
    "gdf2 = gpd.read_file('/DATA_IN_GEOPACKAGE_FORMAT/GLACIER_OUTLINES/LEH_GLACIERS_1977.gpkg')"
   ]
  },
  {
   "cell_type": "code",
   "execution_count": null,
   "metadata": {},
   "outputs": [],
   "source": [
    "gdf2['area'] = gdf2.area"
   ]
  },
  {
   "cell_type": "code",
   "execution_count": null,
   "metadata": {
    "scrolled": false
   },
   "outputs": [],
   "source": [
    "gdf2 = gdf2.to_crs(epsg=4326)\n",
    "gdf2.crs"
   ]
  },
  {
   "cell_type": "code",
   "execution_count": null,
   "metadata": {},
   "outputs": [],
   "source": [
    "gdf2.plot('area')"
   ]
  },
  {
   "cell_type": "code",
   "execution_count": null,
   "metadata": {},
   "outputs": [],
   "source": [
    "# Reading in Suru glacier data for 1977\n",
    "gdf3 = gpd.read_file(']/DATA_IN_GEOPACKAGE_FORMAT/GLACIER_OUTLINES/SURU_GLACIERS_1977.gpkg')"
   ]
  },
  {
   "cell_type": "code",
   "execution_count": null,
   "metadata": {},
   "outputs": [],
   "source": [
    "gdf3['area'] = gdf3.area"
   ]
  },
  {
   "cell_type": "code",
   "execution_count": null,
   "metadata": {
    "scrolled": false
   },
   "outputs": [],
   "source": [
    "gdf3 = gdf3.to_crs(epsg=4326)\n",
    "gdf3.crs"
   ]
  },
  {
   "cell_type": "code",
   "execution_count": null,
   "metadata": {
    "scrolled": true
   },
   "outputs": [],
   "source": [
    "gdf3.plot('area')"
   ]
  },
  {
   "cell_type": "code",
   "execution_count": null,
   "metadata": {},
   "outputs": [],
   "source": [
    "# Reading in Tsokar glacier data for 1977\n",
    "gdf4 = gpd.read_file('/DATA_IN_GEOPACKAGE_FORMAT/GLACIER_OUTLINES/TSOKAR_GLACIERS_1977.gpkg')"
   ]
  },
  {
   "cell_type": "code",
   "execution_count": null,
   "metadata": {},
   "outputs": [],
   "source": [
    "gdf4['area'] = gdf4.area"
   ]
  },
  {
   "cell_type": "code",
   "execution_count": null,
   "metadata": {
    "scrolled": false
   },
   "outputs": [],
   "source": [
    "gdf4 = gdf4.to_crs(epsg=4326)\n",
    "gdf4.crs"
   ]
  },
  {
   "cell_type": "code",
   "execution_count": null,
   "metadata": {
    "scrolled": true
   },
   "outputs": [],
   "source": [
    "gdf4.plot('area')"
   ]
  },
  {
   "cell_type": "code",
   "execution_count": null,
   "metadata": {},
   "outputs": [],
   "source": [
    "# Reading in Tsomoriri glacier data for 1977\n",
    "gdf5 = gpd.read_file('/DATA_IN_GEOPACKAGE_FORMAT/GLACIER_OUTLINES/TSOMORIRI_GLACIERS_1977.gpkg')"
   ]
  },
  {
   "cell_type": "code",
   "execution_count": null,
   "metadata": {},
   "outputs": [],
   "source": [
    "gdf5['area'] = gdf5.area"
   ]
  },
  {
   "cell_type": "code",
   "execution_count": null,
   "metadata": {
    "scrolled": false
   },
   "outputs": [],
   "source": [
    "gdf5 = gdf5.to_crs(epsg=4326)\n",
    "gdf5.crs"
   ]
  },
  {
   "cell_type": "code",
   "execution_count": null,
   "metadata": {
    "scrolled": true
   },
   "outputs": [],
   "source": [
    "gdf5.plot('area')"
   ]
  },
  {
   "cell_type": "code",
   "execution_count": null,
   "metadata": {},
   "outputs": [],
   "source": [
    "# Reading in Zanskar glacier data for 1977\n",
    "gdf6 = gpd.read_file('/DATA_IN_GEOPACKAGE_FORMAT/GLACIER_OUTLINES/ZANSKAR_GLACIERS_1977.gpkg')"
   ]
  },
  {
   "cell_type": "code",
   "execution_count": null,
   "metadata": {},
   "outputs": [],
   "source": [
    "gdf6['area'] = gdf6.area"
   ]
  },
  {
   "cell_type": "code",
   "execution_count": null,
   "metadata": {
    "scrolled": false
   },
   "outputs": [],
   "source": [
    "gdf6 = gdf6.to_crs(epsg=4326)\n",
    "gdf6.crs"
   ]
  },
  {
   "cell_type": "code",
   "execution_count": null,
   "metadata": {
    "scrolled": false
   },
   "outputs": [],
   "source": [
    "gdf6.plot('area')"
   ]
  },
  {
   "cell_type": "code",
   "execution_count": null,
   "metadata": {},
   "outputs": [],
   "source": [
    "# Concatenating all glacier data\n",
    "gdf = pd.concat([gdf, gdf1, gdf2, gdf3, gdf4, gdf5, gdf6])"
   ]
  },
  {
   "cell_type": "code",
   "execution_count": null,
   "metadata": {
    "colab": {
     "base_uri": "https://localhost:8080/",
     "height": 742
    },
    "id": "3tHawJfPLZNv",
    "outputId": "4b20c99d-960f-4de1-a3f3-e4fae113bcca"
   },
   "outputs": [],
   "source": [
    "# Visualizing with glacier data from 1977\n",
    "location = [34.0, 77.5]  # For ladakh regions just a point somehwere in the rectangle\n",
    "m = folium.Map(location=location, zoom_start=7)\n",
    "\n",
    "# Define the bounds of the rectangle. Format: [[lat_min, lon_min], [lat_max, lon_max]]\n",
    "bounds = [[75, 36], [82, 32]]\n",
    "\n",
    "# Add the rectangle to the map\n",
    "folium.Rectangle(\n",
    "    bounds=bounds,\n",
    "    color='#ff7800',\n",
    "    fill=True,\n",
    "    fill_color='#ffff00',\n",
    "    fill_opacity=0.2\n",
    ").add_to(m)\n",
    "\n",
    "# Plotting the glacier data\n",
    "# Code from https://geopandas.org/en/stable/gallery/polygon_plotting_with_folium.html\n",
    "for _, r in gdf.iterrows():\n",
    "    # Without simplifying the representation of part,\n",
    "    # the map might not be displayed\n",
    "    sim_geo = gpd.GeoSeries(r[\"geometry\"]).simplify(tolerance=0.001)\n",
    "    geo_j = sim_geo.to_json()\n",
    "    geo_j = folium.GeoJson(data=geo_j)\n",
    "    folium.Popup(r[\"JNUOAId\"]).add_to(geo_j)\n",
    "    geo_j.add_to(m)\n",
    "    \n",
    "\n",
    "# Add the raw image to the map\n",
    "vis_params = {'bands': ['B4', 'B3', 'B2'], 'max': 0.3}\n",
    "m.add_ee_layer(landsat, vis_params, 'Landsat Image')\n",
    "\n",
    "# Add a layer control panel to the map.\n",
    "m.add_child(folium.LayerControl())\n",
    "\n",
    "# Display the map.\n",
    "display(m)"
   ]
  }
 ],
 "metadata": {
  "colab": {
   "include_colab_link": true,
   "provenance": []
  },
  "kernelspec": {
   "display_name": "Python 3 (ipykernel)",
   "language": "python",
   "name": "python3"
  },
  "language_info": {
   "codemirror_mode": {
    "name": "ipython",
    "version": 3
   },
   "file_extension": ".py",
   "mimetype": "text/x-python",
   "name": "python",
   "nbconvert_exporter": "python",
   "pygments_lexer": "ipython3",
   "version": "3.9.7"
  }
 },
 "nbformat": 4,
 "nbformat_minor": 1
}
