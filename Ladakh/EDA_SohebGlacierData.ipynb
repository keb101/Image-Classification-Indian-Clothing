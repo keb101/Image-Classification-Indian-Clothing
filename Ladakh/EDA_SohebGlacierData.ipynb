{
 "cells": [
  {
   "cell_type": "markdown",
   "metadata": {},
   "source": [
    "You can try and run this notebook in google colab, but there's a chance the map (main feature) won't work. Probably better to run it locally.\n",
    "\n",
    "Outputs are not saved, cause otherwise the notebook would have something like 100MB.\n",
    "\n",
    "[![Open in Colab](https://colab.research.google.com/assets/colab-badge.svg)](https://colab.research.google.com/drive/1Egxj5spvoPlugWLT9PPhdxCr2R0JgtQW?usp=sharing)"
   ]
  },
  {
   "cell_type": "code",
   "execution_count": null,
   "metadata": {},
   "outputs": [],
   "source": [
    "# requirements\n",
    "# pip install contextily geopandas matplotlib pandas requests"
   ]
  },
  {
   "cell_type": "code",
   "execution_count": 5,
   "metadata": {},
   "outputs": [],
   "source": [
    "import geopandas as gpd\n",
    "import contextily as cx\n",
    "\n",
    "import pandas as pd\n",
    "import matplotlib.pyplot as plt\n",
    "import matplotlib.patches as mpatches\n",
    "\n",
    "import pathlib\n",
    "import requests\n",
    "import shutil"
   ]
  },
  {
   "cell_type": "code",
   "execution_count": 7,
   "metadata": {},
   "outputs": [],
   "source": [
    "# download data to a folder \"../data/soheb\"\n",
    "data_folder = pathlib.Path(\"../data/soheb\")\n",
    "data_folder.mkdir(exist_ok=True, parents=True)\n",
    "# add a .gitignore to not show up in version control\n",
    "(data_folder / \".gitignore\").write_text(\"*\")\n",
    "\n",
    "url = \"https://download.pangaea.de/dataset/940994/files/DATA_IN_GEOPACKAGE_FORMAT.zip\"\n",
    "zip_file = data_folder / url.split(\"/\")[-1]\n",
    "\n",
    "if not zip_file.is_file():\n",
    "    r = requests.get(url, stream=True)\n",
    "    if r.status_code == 200:\n",
    "        with zip_file.open(\"wb\") as f:\n",
    "            r.raw.decode_content = True\n",
    "            shutil.copyfileobj(r.raw, f)\n",
    "    else:\n",
    "        print(\"File unavailable\")\n",
    "\n",
    "assert zip_file.is_file(), f\"File {zip_file} not found\"\n",
    "\n",
    "shutil.unpack_archive(zip_file, data_folder)"
   ]
  },
  {
   "cell_type": "code",
   "execution_count": null,
   "metadata": {},
   "outputs": [],
   "source": [
    "glaciers = data_folder / \"DATA IN GEOPACKAGE FORMAT\" / \"GLACIER_OUTLINES\"\n",
    "\n",
    "glaciers_1977 = glaciers.rglob(\"*1977.gpkg\")\n",
    "glaciers_1994 = glaciers.rglob(\"*1994.gpkg\")\n",
    "glaciers_2009 = glaciers.rglob(\"*2009.gpkg\")\n",
    "glaciers_2019 = glaciers.rglob(\"*2019.gpkg\")\n",
    "\n",
    "df_1977 = pd.concat([gpd.read_file(map_file) for map_file in glaciers_1977])\n",
    "df_1994 = pd.concat([gpd.read_file(map_file) for map_file in glaciers_1994])\n",
    "df_2009 = pd.concat([gpd.read_file(map_file) for map_file in glaciers_2009])\n",
    "df_2019 = pd.concat([gpd.read_file(map_file) for map_file in glaciers_2019])"
   ]
  },
  {
   "cell_type": "markdown",
   "metadata": {},
   "source": [
    "## Glaciers movement\n",
    "\n",
    "The following map is interactive and constructed by overlapping the glacier outlines from the different periods we have access to.\n",
    "You'll probably have to zoom in at the edges of the glaciers to see the differences across periods.\n",
    "\n",
    "Legend:\n",
    "\n",
    "-   Blue - 1977\n",
    "-   Green - 1994\n",
    "-   Purple - 2009\n",
    "-   Red - 2019\n",
    "\n",
    "The background of the map can be changed by altering the `tiles` argument. The available options are described [here](https://contextily.readthedocs.io/en/latest/providers_deepdive.html#What-is-this-%E2%80%9Cprovider%E2%80%9D-object-?). You can preview how each one looks like in [this demo](https://leaflet-extras.github.io/leaflet-providers/preview/)."
   ]
  },
  {
   "cell_type": "code",
   "execution_count": null,
   "metadata": {},
   "outputs": [],
   "source": [
    "glacier_dfs = [df_1977, df_1994, df_2009, df_2019]\n",
    "years = [1977, 1994, 2009, 2019]\n",
    "colors = [\"blue\", \"green\", \"purple\", \"red\"]\n",
    "\n",
    "m = None\n",
    "for idx, df in enumerate(glacier_dfs):\n",
    "    if not m:\n",
    "        m = df.explore(\n",
    "            tiles=cx.providers.OpenTopoMap,\n",
    "            color=colors[idx],\n",
    "            style_kwds=dict(fillOpacity=0.3),\n",
    "        )\n",
    "    else:\n",
    "        m = df.explore(\n",
    "            tiles=cx.providers.OpenTopoMap,\n",
    "            color=colors[idx],\n",
    "            m=m,\n",
    "            style_kwds=dict(fillOpacity=0.3),\n",
    "        )\n",
    "\n",
    "m"
   ]
  },
  {
   "cell_type": "markdown",
   "metadata": {},
   "source": [
    "The next piece of code saves a high resolution image of the previous map to a file `map.png`. The image isn't interactive. The resolution has to be high in order for us to see the deails on the edge of the glaciers. \n",
    "\n",
    "This takes quite some time to run (30s - 2min)."
   ]
  },
  {
   "cell_type": "code",
   "execution_count": null,
   "metadata": {},
   "outputs": [],
   "source": [
    "fig = plt.figure(dpi=1200)\n",
    "ax = None\n",
    "for idx, df in enumerate(glacier_dfs):\n",
    "    if not ax:\n",
    "        ax = df.plot(color=colors[idx], figsize=(160, 160))\n",
    "    else:\n",
    "        df.plot(ax=ax, color=colors[idx])\n",
    "\n",
    "# All maps have the same crs (coordinate system), so we just grab from any of them\n",
    "cx.add_basemap(ax, crs=glacier_dfs[0].crs, source=cx.providers.OpenTopoMap)\n",
    "\n",
    "ax.legend(\n",
    "    handles=[\n",
    "        mpatches.Patch(color=col, label=str(year)) for col, year in zip(colors, years)\n",
    "    ],\n",
    "    fontsize=120,\n",
    "    title=\"Glacier area\",\n",
    "    title_fontsize=100,\n",
    ")\n",
    "plt.savefig(data_folder / \"map.png\")"
   ]
  }
 ],
 "metadata": {
  "kernelspec": {
   "display_name": "Python 3 (ipykernel)",
   "language": "python",
   "name": "python3"
  },
  "language_info": {
   "codemirror_mode": {
    "name": "ipython",
    "version": 3
   },
   "file_extension": ".py",
   "mimetype": "text/x-python",
   "name": "python",
   "nbconvert_exporter": "python",
   "pygments_lexer": "ipython3",
   "version": "3.9.17"
  }
 },
 "nbformat": 4,
 "nbformat_minor": 2
}
