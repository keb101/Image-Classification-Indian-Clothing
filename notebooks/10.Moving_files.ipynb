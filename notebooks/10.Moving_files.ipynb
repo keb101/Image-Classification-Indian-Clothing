{
 "cells": [
  {
   "cell_type": "markdown",
   "id": "31244b01",
   "metadata": {},
   "source": [
    "## Moving the files specified in the dataframes that have 500 randomized images to a new folder"
   ]
  },
  {
   "cell_type": "code",
   "execution_count": 1,
   "id": "57c232fd",
   "metadata": {},
   "outputs": [],
   "source": [
    "import shutil\n",
    "import pandas as pd"
   ]
  },
  {
   "cell_type": "code",
   "execution_count": 5,
   "id": "95e32cf2",
   "metadata": {},
   "outputs": [],
   "source": [
    "df_women_kurta = pd.read_csv('data/processed/df_women_kurta.csv')"
   ]
  },
  {
   "cell_type": "code",
   "execution_count": 6,
   "id": "743b7653",
   "metadata": {},
   "outputs": [],
   "source": [
    "df_sherwanis = pd.read_csv('data/processed/df_sherwanis.csv')"
   ]
  },
  {
   "cell_type": "code",
   "execution_count": 7,
   "id": "5d411cd3",
   "metadata": {},
   "outputs": [],
   "source": [
    "df_saree = pd.read_csv('data/processed/df_saree.csv')"
   ]
  },
  {
   "cell_type": "code",
   "execution_count": 8,
   "id": "99c4d218",
   "metadata": {},
   "outputs": [],
   "source": [
    "df_petticoats = pd.read_csv('data/processed/df_petticoats.csv')"
   ]
  },
  {
   "cell_type": "code",
   "execution_count": 9,
   "id": "fa5cf5f5",
   "metadata": {},
   "outputs": [],
   "source": [
    "df_palazzos = pd.read_csv('data/processed/df_palazzos.csv')"
   ]
  },
  {
   "cell_type": "code",
   "execution_count": 10,
   "id": "00f786b0",
   "metadata": {},
   "outputs": [],
   "source": [
    "df_nehru_jackets = pd.read_csv('data/processed/df_nehru_jackets.csv')"
   ]
  },
  {
   "cell_type": "code",
   "execution_count": 11,
   "id": "5b2d944c",
   "metadata": {},
   "outputs": [],
   "source": [
    "df_mojaris_women = pd.read_csv('data/processed/df_mojaris_women.csv')"
   ]
  },
  {
   "cell_type": "code",
   "execution_count": 80,
   "id": "5bbb9d61",
   "metadata": {},
   "outputs": [],
   "source": [
    "df_mojaris_men = pd.read_csv('data/processed/df_mojaris_men.csv')"
   ]
  },
  {
   "cell_type": "code",
   "execution_count": 13,
   "id": "d94af0fa",
   "metadata": {},
   "outputs": [],
   "source": [
    "df_lehenga = pd.read_csv('data/processed/df_lehenga.csv')"
   ]
  },
  {
   "cell_type": "code",
   "execution_count": 84,
   "id": "d5362f5e",
   "metadata": {},
   "outputs": [],
   "source": [
    "df_leggings_and_salwars = pd.read_csv('data/processed/df_leggings_and_salwars.csv')"
   ]
  },
  {
   "cell_type": "code",
   "execution_count": 15,
   "id": "8bfc9eb7",
   "metadata": {},
   "outputs": [],
   "source": [
    "df_kurta_men = pd.read_csv('data/processed/df_kurta_men.csv')"
   ]
  },
  {
   "cell_type": "code",
   "execution_count": 16,
   "id": "b464728a",
   "metadata": {},
   "outputs": [],
   "source": [
    "df_dupattas = pd.read_csv('data/processed/df_dupattas.csv')"
   ]
  },
  {
   "cell_type": "code",
   "execution_count": 17,
   "id": "f51a2aa8",
   "metadata": {},
   "outputs": [],
   "source": [
    "df_dhoti_pants = pd.read_csv('data/processeddf_dhoti_pants.csv')"
   ]
  },
  {
   "cell_type": "code",
   "execution_count": 2,
   "id": "0335cb20",
   "metadata": {},
   "outputs": [],
   "source": [
    "df_blouse = pd.read_csv('data/processed/df_blouse.csv')"
   ]
  },
  {
   "cell_type": "code",
   "execution_count": 19,
   "id": "03911485",
   "metadata": {},
   "outputs": [],
   "source": [
    "df_gown = pd.read_csv('data/processed/df_gowns.csv')"
   ]
  },
  {
   "cell_type": "code",
   "execution_count": 20,
   "id": "5e3ebc77",
   "metadata": {
    "scrolled": false
   },
   "outputs": [
    {
     "data": {
      "text/html": [
       "<div>\n",
       "<style scoped>\n",
       "    .dataframe tbody tr th:only-of-type {\n",
       "        vertical-align: middle;\n",
       "    }\n",
       "\n",
       "    .dataframe tbody tr th {\n",
       "        vertical-align: top;\n",
       "    }\n",
       "\n",
       "    .dataframe thead th {\n",
       "        text-align: right;\n",
       "    }\n",
       "</style>\n",
       "<table border=\"1\" class=\"dataframe\">\n",
       "  <thead>\n",
       "    <tr style=\"text-align: right;\">\n",
       "      <th></th>\n",
       "      <th>Unnamed: 0</th>\n",
       "      <th>files</th>\n",
       "      <th>random_number</th>\n",
       "    </tr>\n",
       "  </thead>\n",
       "  <tbody>\n",
       "    <tr>\n",
       "      <th>0</th>\n",
       "      <td>0</td>\n",
       "      <td>gowns/flipkart/na-xs-3-4-sleeve-stitched-kfo-6...</td>\n",
       "      <td>7</td>\n",
       "    </tr>\n",
       "    <tr>\n",
       "      <th>1</th>\n",
       "      <td>1</td>\n",
       "      <td>gowns/flipkart/na-xl-3-4-sleeve-stitched-60g2-...</td>\n",
       "      <td>22</td>\n",
       "    </tr>\n",
       "    <tr>\n",
       "      <th>2</th>\n",
       "      <td>2</td>\n",
       "      <td>gowns/flipkart/na-xl-3-4-sleeve-stitched-rayon...</td>\n",
       "      <td>25</td>\n",
       "    </tr>\n",
       "    <tr>\n",
       "      <th>3</th>\n",
       "      <td>3</td>\n",
       "      <td>gowns/flipkart/na-m-full-sleeve-stitched-sara-...</td>\n",
       "      <td>26</td>\n",
       "    </tr>\n",
       "    <tr>\n",
       "      <th>4</th>\n",
       "      <td>4</td>\n",
       "      <td>gowns/karmaplace/AHKUCRFP-722-1_512x683.jpg</td>\n",
       "      <td>29</td>\n",
       "    </tr>\n",
       "  </tbody>\n",
       "</table>\n",
       "</div>"
      ],
      "text/plain": [
       "   Unnamed: 0                                              files  \\\n",
       "0           0  gowns/flipkart/na-xs-3-4-sleeve-stitched-kfo-6...   \n",
       "1           1  gowns/flipkart/na-xl-3-4-sleeve-stitched-60g2-...   \n",
       "2           2  gowns/flipkart/na-xl-3-4-sleeve-stitched-rayon...   \n",
       "3           3  gowns/flipkart/na-m-full-sleeve-stitched-sara-...   \n",
       "4           4        gowns/karmaplace/AHKUCRFP-722-1_512x683.jpg   \n",
       "\n",
       "   random_number  \n",
       "0              7  \n",
       "1             22  \n",
       "2             25  \n",
       "3             26  \n",
       "4             29  "
      ]
     },
     "execution_count": 20,
     "metadata": {},
     "output_type": "execute_result"
    }
   ],
   "source": [
    "df_gown.head()"
   ]
  },
  {
   "cell_type": "code",
   "execution_count": 23,
   "id": "d74f9725",
   "metadata": {
    "scrolled": true
   },
   "outputs": [
    {
     "data": {
      "text/plain": [
       "'gowns/flipkart/na-xl-3-4-sleeve-stitched-60g2-sheqegirl-na-original-imagag2nacqzjpkh.jpeg'"
      ]
     },
     "execution_count": 23,
     "metadata": {},
     "output_type": "execute_result"
    }
   ],
   "source": [
    "df_gown.iloc[1,1]"
   ]
  },
  {
   "cell_type": "code",
   "execution_count": 24,
   "id": "8e18473a",
   "metadata": {},
   "outputs": [
    {
     "data": {
      "text/plain": [
       "'gowns/flipkart/na-xs-3-4-sleeve-stitched-kfo-69-navy-blue-xs-amouk-na-original-imagq9zfsfdugwg4.jpeg'"
      ]
     },
     "execution_count": 24,
     "metadata": {},
     "output_type": "execute_result"
    }
   ],
   "source": [
    "df_gown.iloc[0,1]"
   ]
  },
  {
   "cell_type": "code",
   "execution_count": 41,
   "id": "6094d3e6",
   "metadata": {},
   "outputs": [],
   "source": [
    "# Transferring gown images that are in the dataframe with the 500 randomized images. \n",
    "lst = []\n",
    "for i in range(len(df_gown)):\n",
    "    old = df_gown.iloc[i,1]\n",
    "    \n",
    "    new = f'data/processed/new_test_images/gowns/{i}.jpg'\n",
    "    \n",
    "    try:\n",
    "        shutil.copyfile(old, new)\n",
    "    \n",
    "    except:\n",
    "        lst.append(old)\n",
    "        "
   ]
  },
  {
   "cell_type": "code",
   "execution_count": 42,
   "id": "c1a8f607",
   "metadata": {},
   "outputs": [
    {
     "data": {
      "text/plain": [
       "0"
      ]
     },
     "execution_count": 42,
     "metadata": {},
     "output_type": "execute_result"
    }
   ],
   "source": [
    "# Checking to make sure that all image have been moves\n",
    "len(lst)"
   ]
  },
  {
   "cell_type": "code",
   "execution_count": 3,
   "id": "9647161f",
   "metadata": {
    "scrolled": true
   },
   "outputs": [
    {
     "data": {
      "text/plain": [
       "'data/external/newly_scraped_images/blouse/flipkart/free-0021-mk-womens-original-imagghppht7hvxsg.jpg'"
      ]
     },
     "execution_count": 3,
     "metadata": {},
     "output_type": "execute_result"
    }
   ],
   "source": [
    "df_blouse.iloc[1,1]"
   ]
  },
  {
   "cell_type": "code",
   "execution_count": 4,
   "id": "04d8a4ea",
   "metadata": {},
   "outputs": [
    {
     "data": {
      "text/plain": [
       "'data/external/newly_scraped_images/blouse/amazon.in/913OjPlRq9L._AC_UL320_.jpg'"
      ]
     },
     "execution_count": 4,
     "metadata": {},
     "output_type": "execute_result"
    }
   ],
   "source": [
    "df_blouse.iloc[0,1]"
   ]
  },
  {
   "cell_type": "code",
   "execution_count": 5,
   "id": "c9ab6e9e",
   "metadata": {},
   "outputs": [],
   "source": [
    "lst = []\n",
    "for i in range(len(df_blouse)):\n",
    "    old = df_blouse.iloc[i,1]\n",
    "    \n",
    "    new = f'data/processed/new_test_images/blouse/{i}.jpg'\n",
    "    \n",
    "    try:\n",
    "        shutil.move(old, new)\n",
    "    except:\n",
    "        lst.append(old)"
   ]
  },
  {
   "cell_type": "code",
   "execution_count": 6,
   "id": "cf42d0c7",
   "metadata": {
    "scrolled": true
   },
   "outputs": [
    {
     "data": {
      "text/plain": [
       "0"
      ]
     },
     "execution_count": 6,
     "metadata": {},
     "output_type": "execute_result"
    }
   ],
   "source": [
    "len(lst)"
   ]
  },
  {
   "cell_type": "code",
   "execution_count": 51,
   "id": "51211b1e",
   "metadata": {},
   "outputs": [
    {
     "data": {
      "text/plain": [
       "'lehenga/utsavfashion/embroidered-georgette-lehenga-in-pink-v1-lbc1394.jpg'"
      ]
     },
     "execution_count": 51,
     "metadata": {},
     "output_type": "execute_result"
    }
   ],
   "source": [
    "df_lehenga.iloc[0,1]"
   ]
  },
  {
   "cell_type": "code",
   "execution_count": 52,
   "id": "da477f28",
   "metadata": {},
   "outputs": [],
   "source": [
    "lst = []\n",
    "for i in range(len(df_lehenga)):\n",
    "    old = df_lehenga.iloc[i,1]\n",
    "    \n",
    "    new = f'data/processed/new_test_images/lehenga/{i}.jpg'\n",
    "    \n",
    "    try:\n",
    "        shutil.copyfile(old, new)\n",
    "    except:\n",
    "        lst.append(old)\n",
    "        "
   ]
  },
  {
   "cell_type": "code",
   "execution_count": 53,
   "id": "9687146e",
   "metadata": {
    "scrolled": true
   },
   "outputs": [
    {
     "data": {
      "text/plain": [
       "0"
      ]
     },
     "execution_count": 53,
     "metadata": {},
     "output_type": "execute_result"
    }
   ],
   "source": [
    "len(lst)"
   ]
  },
  {
   "cell_type": "code",
   "execution_count": 54,
   "id": "01141b62",
   "metadata": {},
   "outputs": [
    {
     "data": {
      "text/plain": [
       "'petticoats/flipkart/m-ds-pc-skirt-3706-light-blue-dresque-store-original-imagevgbcuyezgrn.jpeg'"
      ]
     },
     "execution_count": 54,
     "metadata": {},
     "output_type": "execute_result"
    }
   ],
   "source": [
    "df_petticoats.iloc[0,1]"
   ]
  },
  {
   "cell_type": "code",
   "execution_count": 55,
   "id": "2e11711d",
   "metadata": {},
   "outputs": [],
   "source": [
    "lst = []\n",
    "for i in range(len(df_petticoats)):\n",
    "    old = df_petticoats.iloc[i,1]\n",
    "    \n",
    "    new = f'data/processed/new_test_images/petticoats/{i}.jpg'\n",
    "    \n",
    "    try:\n",
    "        shutil.copyfile(old, new)\n",
    "    except:\n",
    "        lst.append(old)\n",
    "        "
   ]
  },
  {
   "cell_type": "code",
   "execution_count": 56,
   "id": "302232fb",
   "metadata": {},
   "outputs": [
    {
     "data": {
      "text/plain": [
       "0"
      ]
     },
     "execution_count": 56,
     "metadata": {},
     "output_type": "execute_result"
    }
   ],
   "source": [
    "len(lst)"
   ]
  },
  {
   "cell_type": "code",
   "execution_count": 57,
   "id": "3386cd20",
   "metadata": {},
   "outputs": [],
   "source": [
    "lst = []\n",
    "for i in range(len(df_dhoti_pants)):\n",
    "    old = df_dhoti_pants.iloc[i,1]\n",
    "    \n",
    "    new = f'data/processed/new_test_images/dhoti_pants/{i}.jpg'\n",
    "    \n",
    "    try:\n",
    "        shutil.copyfile(old, new)\n",
    "    except:\n",
    "        lst.append(old)\n",
    "        "
   ]
  },
  {
   "cell_type": "code",
   "execution_count": 58,
   "id": "b60e087e",
   "metadata": {},
   "outputs": [
    {
     "data": {
      "text/plain": [
       "0"
      ]
     },
     "execution_count": 58,
     "metadata": {},
     "output_type": "execute_result"
    }
   ],
   "source": [
    "len(lst)"
   ]
  },
  {
   "cell_type": "code",
   "execution_count": 59,
   "id": "8f45e3d5",
   "metadata": {},
   "outputs": [],
   "source": [
    "lst = []\n",
    "for i in range(len(df_nehru_jackets)):\n",
    "    old = df_nehru_jackets.iloc[i,1]\n",
    "    \n",
    "    new = f'data/processed/new_test_images/nehru_jackets/{i}.jpg'\n",
    "    \n",
    "    try:\n",
    "        shutil.copyfile(old, new)\n",
    "    except:\n",
    "        lst.append(old)\n",
    "        "
   ]
  },
  {
   "cell_type": "code",
   "execution_count": 60,
   "id": "847c32f7",
   "metadata": {
    "scrolled": true
   },
   "outputs": [
    {
     "data": {
      "text/plain": [
       "0"
      ]
     },
     "execution_count": 60,
     "metadata": {},
     "output_type": "execute_result"
    }
   ],
   "source": [
    "len(lst)"
   ]
  },
  {
   "cell_type": "code",
   "execution_count": 61,
   "id": "9e4b91dc",
   "metadata": {},
   "outputs": [],
   "source": [
    "lst = []\n",
    "for i in range(len(df_kurta_men)):\n",
    "    old = df_kurta_men.iloc[i,1]\n",
    "    \n",
    "    new = f'data/processed/new_test_images/kurta_men/{i}.jpg'\n",
    "    \n",
    "    try:\n",
    "        shutil.copyfile(old, new)\n",
    "    except:\n",
    "        lst.append(old)\n",
    "        "
   ]
  },
  {
   "cell_type": "code",
   "execution_count": 62,
   "id": "67ea981a",
   "metadata": {},
   "outputs": [
    {
     "data": {
      "text/plain": [
       "0"
      ]
     },
     "execution_count": 62,
     "metadata": {},
     "output_type": "execute_result"
    }
   ],
   "source": [
    "len(lst)"
   ]
  },
  {
   "cell_type": "code",
   "execution_count": 89,
   "id": "00426546",
   "metadata": {},
   "outputs": [],
   "source": [
    "lst = []\n",
    "for i in range(len(df_leggings_and_salwars)):\n",
    "    old = df_leggings_and_salwars.iloc[i,1]\n",
    "    \n",
    "    new = f'data/processed/new_test_images/leggings_and_salwars/{i}.jpg'\n",
    "    \n",
    "    try:\n",
    "        shutil.copyfile(old, new)\n",
    "    except:\n",
    "        lst.append(old)\n",
    "        "
   ]
  },
  {
   "cell_type": "code",
   "execution_count": 90,
   "id": "0b53bc63",
   "metadata": {
    "scrolled": true
   },
   "outputs": [
    {
     "data": {
      "text/plain": [
       "0"
      ]
     },
     "execution_count": 90,
     "metadata": {},
     "output_type": "execute_result"
    }
   ],
   "source": [
    "len(lst)"
   ]
  },
  {
   "cell_type": "code",
   "execution_count": 81,
   "id": "bcd7ee2a",
   "metadata": {},
   "outputs": [],
   "source": [
    "lst = []\n",
    "for i in range(len(df_mojaris_men)):\n",
    "    old = df_mojaris_men.iloc[i,1]\n",
    "    \n",
    "    new = f'data/processed/new_test_images/mojaris_men/{i}.jpg'\n",
    "    \n",
    "    try:\n",
    "        shutil.copyfile(old, new)\n",
    "    except:\n",
    "        lst.append(old)\n",
    "        "
   ]
  },
  {
   "cell_type": "code",
   "execution_count": 82,
   "id": "8213b1a5",
   "metadata": {
    "scrolled": true
   },
   "outputs": [
    {
     "data": {
      "text/plain": [
       "0"
      ]
     },
     "execution_count": 82,
     "metadata": {},
     "output_type": "execute_result"
    }
   ],
   "source": [
    "len(lst)"
   ]
  },
  {
   "cell_type": "code",
   "execution_count": 67,
   "id": "2383698c",
   "metadata": {},
   "outputs": [],
   "source": [
    "lst = []\n",
    "for i in range(len(df_mojaris_women)):\n",
    "    old = df_mojaris_women.iloc[i,1]\n",
    "    \n",
    "    new = f'data/processed/new_test_images/mojaris_women/{i}.jpg'\n",
    "    \n",
    "    try:\n",
    "        shutil.copyfile(old, new)\n",
    "    except:\n",
    "        lst.append(old)\n",
    "        "
   ]
  },
  {
   "cell_type": "code",
   "execution_count": 68,
   "id": "4cc88f29",
   "metadata": {
    "scrolled": true
   },
   "outputs": [
    {
     "data": {
      "text/plain": [
       "0"
      ]
     },
     "execution_count": 68,
     "metadata": {},
     "output_type": "execute_result"
    }
   ],
   "source": [
    "len(lst)"
   ]
  },
  {
   "cell_type": "code",
   "execution_count": 69,
   "id": "6e83f5c6",
   "metadata": {},
   "outputs": [
    {
     "data": {
      "text/plain": [
       "'dupattas/amazon.in/81jocy6VR+L._AC_UL320_.jpg'"
      ]
     },
     "execution_count": 69,
     "metadata": {},
     "output_type": "execute_result"
    }
   ],
   "source": [
    "df_dupattas.iloc[0,1]"
   ]
  },
  {
   "cell_type": "code",
   "execution_count": 70,
   "id": "fdfc3396",
   "metadata": {},
   "outputs": [],
   "source": [
    "lst = []\n",
    "for i in range(len(df_dupattas)):\n",
    "    old = df_dupattas.iloc[i,1]\n",
    "    \n",
    "    new = f'data/processed/new_test_images/dupattas/{i}.jpg'\n",
    "    \n",
    "    try:\n",
    "        shutil.copyfile(old, new)\n",
    "    except:\n",
    "        lst.append(old)\n",
    "        "
   ]
  },
  {
   "cell_type": "code",
   "execution_count": 71,
   "id": "12b21672",
   "metadata": {},
   "outputs": [
    {
     "data": {
      "text/plain": [
       "0"
      ]
     },
     "execution_count": 71,
     "metadata": {},
     "output_type": "execute_result"
    }
   ],
   "source": [
    "len(lst)"
   ]
  },
  {
   "cell_type": "code",
   "execution_count": 72,
   "id": "51485fbe",
   "metadata": {},
   "outputs": [],
   "source": [
    "lst = []\n",
    "for i in range(len(df_palazzos)):\n",
    "    old = df_palazzos.iloc[i,1]\n",
    "    \n",
    "    new = f'data/processed/new_test_images/palazzos/{i}.jpg'\n",
    "    \n",
    "    try:\n",
    "        shutil.copyfile(old, new)\n",
    "    except:\n",
    "        lst.append(old)\n",
    "        "
   ]
  },
  {
   "cell_type": "code",
   "execution_count": 73,
   "id": "ed104dfd",
   "metadata": {},
   "outputs": [
    {
     "data": {
      "text/plain": [
       "0"
      ]
     },
     "execution_count": 73,
     "metadata": {},
     "output_type": "execute_result"
    }
   ],
   "source": [
    "len(lst)"
   ]
  },
  {
   "cell_type": "code",
   "execution_count": 74,
   "id": "5254e528",
   "metadata": {},
   "outputs": [],
   "source": [
    "lst = []\n",
    "for i in range(len(df_saree)):\n",
    "    old = df_saree.iloc[i,1]\n",
    "    \n",
    "    new = f'data/processed/new_test_images/saree/{i}.jpg'\n",
    "    \n",
    "    try:\n",
    "        shutil.copyfile(old, new)\n",
    "    except:\n",
    "        lst.append(old)\n",
    "        "
   ]
  },
  {
   "cell_type": "code",
   "execution_count": 75,
   "id": "70a4536a",
   "metadata": {},
   "outputs": [
    {
     "data": {
      "text/plain": [
       "0"
      ]
     },
     "execution_count": 75,
     "metadata": {},
     "output_type": "execute_result"
    }
   ],
   "source": [
    "len(lst)"
   ]
  },
  {
   "cell_type": "code",
   "execution_count": 76,
   "id": "8264faa8",
   "metadata": {},
   "outputs": [],
   "source": [
    "lst = []\n",
    "for i in range(len(df_sherwanis)):\n",
    "    old = df_sherwanis.iloc[i,1]\n",
    "    \n",
    "    new = f'data/processed/new_test_images/sherwanis/{i}.jpg'\n",
    "    \n",
    "    try:\n",
    "        shutil.copyfile(old, new)\n",
    "    except:\n",
    "        lst.append(old)\n",
    "        "
   ]
  },
  {
   "cell_type": "code",
   "execution_count": 77,
   "id": "7d9fff84",
   "metadata": {},
   "outputs": [
    {
     "data": {
      "text/plain": [
       "0"
      ]
     },
     "execution_count": 77,
     "metadata": {},
     "output_type": "execute_result"
    }
   ],
   "source": [
    "len(lst)"
   ]
  },
  {
   "cell_type": "code",
   "execution_count": 78,
   "id": "c95a4728",
   "metadata": {},
   "outputs": [],
   "source": [
    "lst = []\n",
    "for i in range(len(df_women_kurta)):\n",
    "    old = df_women_kurta.iloc[i,1]\n",
    "    \n",
    "    new = f'data/processed/new_test_images/women_kurta/{i}.jpg'\n",
    "    \n",
    "    try:\n",
    "        shutil.copyfile(old, new)\n",
    "    except:\n",
    "        lst.append(old)\n",
    "        "
   ]
  },
  {
   "cell_type": "code",
   "execution_count": 79,
   "id": "51dc6590",
   "metadata": {},
   "outputs": [
    {
     "data": {
      "text/plain": [
       "0"
      ]
     },
     "execution_count": 79,
     "metadata": {},
     "output_type": "execute_result"
    }
   ],
   "source": [
    "len(lst)"
   ]
  }
 ],
 "metadata": {
  "kernelspec": {
   "display_name": "Python 3 (ipykernel)",
   "language": "python",
   "name": "python3"
  },
  "language_info": {
   "codemirror_mode": {
    "name": "ipython",
    "version": 3
   },
   "file_extension": ".py",
   "mimetype": "text/x-python",
   "name": "python",
   "nbconvert_exporter": "python",
   "pygments_lexer": "ipython3",
   "version": "3.9.17"
  }
 },
 "nbformat": 4,
 "nbformat_minor": 5
}
