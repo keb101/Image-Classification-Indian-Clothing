{
 "cells": [
  {
   "cell_type": "code",
   "execution_count": 2,
   "id": "5d69a779",
   "metadata": {},
   "outputs": [],
   "source": [
    "import pandas as pd\n",
    "import numpy as np\n",
    "import seaborn as sns\n",
    "import matplotlib.pyplot as plt\n",
    "import imageio.v2 as imageio\n",
    "import cv2\n",
    "import glob\n",
    "from skimage import color\n",
    "from bs4 import BeautifulSoup\n",
    "import requests"
   ]
  },
  {
   "cell_type": "code",
   "execution_count": 7,
   "id": "f41f7e3b",
   "metadata": {},
   "outputs": [],
   "source": [
    "# Making list of all urls to scrape for men's kurtas from KarmaPlace\n",
    "url_mens_kurta_list = ['https://www.karmaplace.com/search?type=product&q=mens*+kurta*&options%5Bunavailable_products%5D=hide']\n",
    "\n",
    "for i in range(2, 21):\n",
    "    url = f'https://www.karmaplace.com/search?options%5Bunavailable_products%5D=hide&page={i}&q=mens%2A+kurta%2A&type=product'\n",
    "    url_mens_kurta_list.append(url)"
   ]
  },
  {
   "cell_type": "code",
   "execution_count": null,
   "id": "156fdeae",
   "metadata": {},
   "outputs": [],
   "source": [
    "# Making list of all urls to scrape for sarees from Suta\n",
    "url_sarees_list = ['https://suta.in/collections/saree']\n",
    "\n",
    "for i in range(2, 30):\n",
    "    url = f'https://suta.in/collections/saree?p={i}'\n",
    "    url_sarees_list.append(url)"
   ]
  },
  {
   "cell_type": "code",
   "execution_count": null,
   "id": "f08993e3",
   "metadata": {},
   "outputs": [],
   "source": [
    "# Making list of all urls to scrape for lehenga from Utsav Fashion\n",
    "url_lehenga_list = ['https://www.utsavfashion.com/lehenga']\n",
    "\n",
    "for i in range(2, 50):\n",
    "    url = f'https://www.utsavfashion.com/lehenga?p={i}'\n",
    "    url_lehenga_list.append(url)"
   ]
  },
  {
   "cell_type": "code",
   "execution_count": null,
   "id": "6b7dcf20",
   "metadata": {},
   "outputs": [],
   "source": [
    "# Making list of all urls to scrape for women's kurtas from KarmaPlace\n",
    "url_women_kurta_list = ['https://www.karmaplace.com/search?type=product&q=Womens*+kurtas*&options%5Bunavailable_products%5D=hide']\n",
    "\n",
    "for i in range(2, 50):\n",
    "    url = f'https://www.karmaplace.com/search?options%5Bunavailable_products%5D=hide&page={i}&q=Womens%2A+kurtas%2A&type=product'\n",
    "    url_women_kurta_list.append(url)"
   ]
  },
  {
   "cell_type": "code",
   "execution_count": 35,
   "id": "9ac0928d",
   "metadata": {},
   "outputs": [],
   "source": [
    "# Making list of all urls to scrape for men's mojaris from Flipkart\n",
    "url_mojaris_men_list = ['https://www.flipkart.com/search?q=mens+mojari&sid=osp%2Ccil%2Cssd&as=on&as-show=on&otracker=AS_QueryStore_OrganicAutoSuggest_1_11_na_na_na&otracker1=AS_QueryStore_OrganicAutoSuggest_1_11_na_na_na&as-pos=1&as-type=RECENT&suggestionId=mens+mojari%7CMen’s+Ethnic+Shoes&requestId=fd3e656a-2dce-423b-a757-7d0817062acd&as-searchtext=men%27s%20mojar']\n",
    "\n",
    "for i in range(2, 31):\n",
    "    url = f'https://www.flipkart.com/search?q=mens+mojari&sid=osp%2Ccil%2Cssd&as=on&as-show=on&otracker=AS_QueryStore_OrganicAutoSuggest_1_11_na_na_na&otracker1=AS_QueryStore_OrganicAutoSuggest_1_11_na_na_na&as-pos=1&as-type=RECENT&suggestionId=mens+mojari%7CMen’s+Ethnic+Shoes&requestId=fd3e656a-2dce-423b-a757-7d0817062acd&as-searchtext=men%27s+mojar&page={i}'\n",
    "    url_mojaris_men_list.append(url)"
   ]
  },
  {
   "cell_type": "code",
   "execution_count": 18,
   "id": "dab9e9b7",
   "metadata": {},
   "outputs": [],
   "source": [
    "# Making list of all urls to scrape for gowns from Flipkart\n",
    "url_gowns_list = ['https://www.flipkart.com/search?q=Womens%20gowns&otracker=search&otracker1=search&marketplace=FLIPKART&as-show=on&as=off']\n",
    "\n",
    "for i in range(2, 31):\n",
    "    url = f'https://www.flipkart.com/search?q=Womens+gowns&otracker=search&otracker1=search&marketplace=FLIPKART&as-show=on&as=off&page={i}'\n",
    "    url_gowns_list.append(url)"
   ]
  },
  {
   "cell_type": "code",
   "execution_count": null,
   "id": "b669fcf6",
   "metadata": {},
   "outputs": [],
   "source": [
    "# Making list of all urls to scrape for dupattas from Utsav Fashion\n",
    "url_dupattas_list = ['https://www.utsavfashion.com/indowestern/dupattas']\n",
    "\n",
    "for i in range(2,21):\n",
    "    url = f'https://www.utsavfashion.com/indowestern/dupattas?p={i}'\n",
    "    url_dupattas_list.append(url)"
   ]
  },
  {
   "cell_type": "code",
   "execution_count": 12,
   "id": "1c67ae14",
   "metadata": {},
   "outputs": [],
   "source": [
    "# Scraping leggings and salwars separately. Making list of all urls to scrape for leggings from Utsav Fashion\n",
    "url_leggings_list = ['https://www.utsavfashion.com/catalogsearch/result/?q=leggings']\n",
    "\n",
    "for i in range(2,4):\n",
    "    url = f'https://www.utsavfashion.com/catalogsearch/result/index/?p={i}&q=leggings'\n",
    "    url_leggings_list.append(url)"
   ]
  },
  {
   "cell_type": "code",
   "execution_count": null,
   "id": "f4839c9f",
   "metadata": {},
   "outputs": [],
   "source": [
    "# Making list of all urls to scrape for leggings from Utsav Fashion\n",
    "url_dhoti_pants_list = ['https://www.utsavfashion.com/catalogsearch/result/?q=dhoti+pants']\n",
    "\n",
    "for i in range(2,20):\n",
    "    url = f'https://www.utsavfashion.com/catalogsearch/result/index/?p={i}&q=dhoti+pants'\n",
    "    url_dhoti_pants_list.append(url)"
   ]
  },
  {
   "cell_type": "code",
   "execution_count": null,
   "id": "c8919b2b",
   "metadata": {},
   "outputs": [],
   "source": [
    "# Making list of all urls to scrape for sherwanis from KarmaPlace\n",
    "\n",
    "url_sherwanis_list = ['https://www.karmaplace.com/search?type=product&q=sherwanis*&options%5Bunavailable_products%5D=hide']\n",
    "\n",
    "for i in range(2, 21):\n",
    "    url = f'https://www.karmaplace.com/search?options%5Bunavailable_products%5D=hide&page={i}&q=sherwanis%2A&type=product'\n",
    "    url_sherwanis_list.append(url)"
   ]
  },
  {
   "cell_type": "code",
   "execution_count": 8,
   "id": "0cef7ba7",
   "metadata": {},
   "outputs": [],
   "source": [
    "# Making list of all urls to scrape for salwars from Utsav Fashion\n",
    "url_salwar_list = ['https://www.utsavfashion.com/catalogsearch/result/?q=leggings']\n",
    "\n",
    "for i in range(2, 4):\n",
    "    url = f'https://www.utsavfashion.com/catalogsearch/result/index/?p={i}&q=leggings'\n",
    "    url_salwar_list.append(url)"
   ]
  },
  {
   "cell_type": "code",
   "execution_count": 27,
   "id": "c7173420",
   "metadata": {},
   "outputs": [],
   "source": [
    "# Making list of all urls to scrape for women's mojaris Indian Wedding Saree\n",
    "url_mojaris_women_list = ['https://www.indianweddingsaree.com/search?q=mojaris']\n",
    "\n",
    "for i in range(3, 16):\n",
    "    url = f'https://mojari.com.pk/search?options%5Bprefix%5D=last&page={i}&q=mojaris+women'\n",
    "    url_mojaris_women_list.append(url)"
   ]
  },
  {
   "cell_type": "code",
   "execution_count": null,
   "id": "a2cbd22c",
   "metadata": {},
   "outputs": [],
   "source": [
    "# Making list of all urls to scrape for Nehru jackets from Flipkart\n",
    "url_nehru_jackets_list = ['https://www.flipkart.com/search?q=nehru+jacket&sid=clo%2Cqvw%2Cz0g%2Cjbm&as=on&as-show=on&otracker=AS_QueryStore_OrganicAutoSuggest_1_5_na_na_na&otracker1=AS_QueryStore_OrganicAutoSuggest_1_5_na_na_na&as-pos=1&as-type=RECENT&suggestionId=nehru+jacket%7CMen%27s+Jackets&requestId=bc82b6bc-6921-4bd6-b153-fd3cad4ccb7c&as-searchtext=nehru']\n",
    "\n",
    "for i in range(2, 21):\n",
    "    url = f'https://www.flipkart.com/search?q=nehru+jacket&sid=clo%2Cqvw%2Cz0g%2Cjbm&as=on&as-show=on&otracker=AS_QueryStore_OrganicAutoSuggest_1_5_na_na_na&otracker1=AS_QueryStore_OrganicAutoSuggest_1_5_na_na_na&as-pos=1&as-type=RECENT&suggestionId=nehru+jacket%7CMen%27s+Jackets&requestId=bc82b6bc-6921-4bd6-b153-fd3cad4ccb7c&as-searchtext=nehru&page={i}'\n",
    "    url_nehru_jackets_list.append(url)"
   ]
  },
  {
   "cell_type": "code",
   "execution_count": null,
   "id": "b09bde58",
   "metadata": {},
   "outputs": [],
   "source": [
    "# Making list of all urls to scrape for petticoats from Flipkart\n",
    "url_petticoats_list = ['https://www.flipkart.com/search?q=petticoats&otracker=search&otracker1=search&marketplace=FLIPKART&as-show=off&as=off']\n",
    "\n",
    "for i in range(2, 21):\n",
    "    url = f'https://www.flipkart.com/search?q=petticoats&otracker=search&otracker1=search&marketplace=FLIPKART&as-show=off&as=off&page={i}'\n",
    "    url_petticoats_list.append(url)"
   ]
  },
  {
   "cell_type": "code",
   "execution_count": 4,
   "id": "ac78a543",
   "metadata": {},
   "outputs": [],
   "source": [
    "# Making list of all urls to scrape for palazzos from Amazon.in\n",
    "url_palazzos_list = ['https://www.amazon.in/s?k=palazzos&crid=QAHRYPVXMXNE&sprefix=palazzos%2Caps%2C188&ref=nb_sb_noss_1']\n",
    "\n",
    "for i in range(2, 21):\n",
    "    url = f'https://www.amazon.in/s?k=palazzos&page=2&crid=QAHRYPVXMXNE&qid=1695766880&sprefix=palazzos%2Caps%2C188&ref=sr_pg_{i}'\n",
    "    url_palazzos_list.append(url)"
   ]
  },
  {
   "cell_type": "code",
   "execution_count": 4,
   "id": "6c016e0c",
   "metadata": {},
   "outputs": [],
   "source": [
    "# Making list of all urls to scrape for blouses from Flipkart\n",
    "url_blouses_list = ['https://www.flipkart.com/search?q=blouses&otracker=search&otracker1=search&marketplace=FLIPKART&as-show=on&as=off']\n",
    "\n",
    "for i in range(2, 41):\n",
    "    url = f'https://www.flipkart.com/search?q=blouses&otracker=search&otracker1=search&marketplace=FLIPKART&as-show=on&as=off&page={i}'\n",
    "    url_blouses_list.append(url)"
   ]
  },
  {
   "cell_type": "code",
   "execution_count": null,
   "id": "0e371047",
   "metadata": {},
   "outputs": [],
   "source": [
    "# most of this code from https://www.makeuseof.com/python-scrape-web-images-how-to/\n",
    "\n",
    "for url in url_blouses_list: \n",
    "    URL = url\n",
    "    getURL = requests.get(URL, headers={'User-Agent':'Safari/16.5'})\n",
    "    soup = BeautifulSoup(getURL.text, 'html.parser')\n",
    "    \n",
    "    images = soup.find_all('img')\n",
    "    resolvedURLs = []\n",
    "    \n",
    "    \n",
    "    for image in images:\n",
    "        src = image.get('src')\n",
    "        \n",
    "        resolvedURLs.append(requests.compat.urljoin(URL, src))\n",
    "     \n",
    "    for i in range(len(resolvedURLs)):\n",
    "        image = resolvedURLs[i].split('?', 1)[0]\n",
    "        \n",
    "        try:\n",
    "            webs = requests.get(image)\n",
    "            \n",
    "            open('/data/external/newly_scraped_images/blouse/flipkart/' + image.split('/')[-1], 'wb').write(webs.content)\n",
    "                 \n",
    "        except:\n",
    "            print(image)\n",
    "    "
   ]
  }
 ],
 "metadata": {
  "kernelspec": {
   "display_name": "Python 3 (ipykernel)",
   "language": "python",
   "name": "python3"
  },
  "language_info": {
   "codemirror_mode": {
    "name": "ipython",
    "version": 3
   },
   "file_extension": ".py",
   "mimetype": "text/x-python",
   "name": "python",
   "nbconvert_exporter": "python",
   "pygments_lexer": "ipython3",
   "version": "3.9.17"
  }
 },
 "nbformat": 4,
 "nbformat_minor": 5
}
