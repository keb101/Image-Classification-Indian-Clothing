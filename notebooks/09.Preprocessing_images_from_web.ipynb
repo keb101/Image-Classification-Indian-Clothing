{
 "cells": [
  {
   "cell_type": "markdown",
   "id": "d91c296a",
   "metadata": {},
   "source": [
    "## Creating dataframe for each class label of paths to 500 newly scraped images"
   ]
  },
  {
   "cell_type": "code",
   "execution_count": 1,
   "id": "3d6fc90a",
   "metadata": {},
   "outputs": [],
   "source": [
    "import pandas as pd\n",
    "import os\n",
    "from glob import glob\n",
    "import random"
   ]
  },
  {
   "cell_type": "markdown",
   "id": "34fa6c7f",
   "metadata": {},
   "source": [
    "### Women's Kurtas"
   ]
  },
  {
   "cell_type": "code",
   "execution_count": 906,
   "id": "25641200",
   "metadata": {},
   "outputs": [],
   "source": [
    "# Getting all the saved images of women's kurtas\n",
    "# They are in folders that indicate from where they were scraped\n",
    "# These are from Flipkart\n",
    "files_fk = glob('data/external/newly_scraped_images/women_kurta/flipkart/*.jpeg')"
   ]
  },
  {
   "cell_type": "code",
   "execution_count": 907,
   "id": "44090fc0",
   "metadata": {},
   "outputs": [
    {
     "data": {
      "text/plain": [
       "528"
      ]
     },
     "execution_count": 907,
     "metadata": {},
     "output_type": "execute_result"
    }
   ],
   "source": [
    "len(files_fk)"
   ]
  },
  {
   "cell_type": "code",
   "execution_count": 908,
   "id": "2583d770",
   "metadata": {},
   "outputs": [],
   "source": [
    "# Getting all the saved images of women's kurtas from Utsav Fashion\n",
    "files_uf = glob('data/external/newly_scraped_images/women_kurta/utsavfashion/*.jpg')"
   ]
  },
  {
   "cell_type": "code",
   "execution_count": 909,
   "id": "744d024f",
   "metadata": {},
   "outputs": [
    {
     "data": {
      "text/plain": [
       "83"
      ]
     },
     "execution_count": 909,
     "metadata": {},
     "output_type": "execute_result"
    }
   ],
   "source": [
    "len(files_uf)"
   ]
  },
  {
   "cell_type": "markdown",
   "id": "79d84232",
   "metadata": {},
   "source": [
    "Want 500 files"
   ]
  },
  {
   "cell_type": "code",
   "execution_count": 910,
   "id": "934fd086",
   "metadata": {},
   "outputs": [],
   "source": [
    "# Making a list with all of the paths of images of women's kurtas\n",
    "lst = files_uf + files_fk"
   ]
  },
  {
   "cell_type": "code",
   "execution_count": 911,
   "id": "8f0f988d",
   "metadata": {},
   "outputs": [],
   "source": [
    "# Putting the file paths into a dataframe\n",
    "df_women_kurta = pd.DataFrame()"
   ]
  },
  {
   "cell_type": "code",
   "execution_count": 912,
   "id": "2fbe0873",
   "metadata": {},
   "outputs": [],
   "source": [
    "df_women_kurta['files'] = lst"
   ]
  },
  {
   "cell_type": "code",
   "execution_count": 913,
   "id": "1d3fbeb9",
   "metadata": {
    "scrolled": false
   },
   "outputs": [
    {
     "data": {
      "text/html": [
       "<div>\n",
       "<style scoped>\n",
       "    .dataframe tbody tr th:only-of-type {\n",
       "        vertical-align: middle;\n",
       "    }\n",
       "\n",
       "    .dataframe tbody tr th {\n",
       "        vertical-align: top;\n",
       "    }\n",
       "\n",
       "    .dataframe thead th {\n",
       "        text-align: right;\n",
       "    }\n",
       "</style>\n",
       "<table border=\"1\" class=\"dataframe\">\n",
       "  <thead>\n",
       "    <tr style=\"text-align: right;\">\n",
       "      <th></th>\n",
       "      <th>files</th>\n",
       "    </tr>\n",
       "  </thead>\n",
       "  <tbody>\n",
       "    <tr>\n",
       "      <th>0</th>\n",
       "      <td>women_kurta/utsavfashion/chikankari-cotton-sil...</td>\n",
       "    </tr>\n",
       "    <tr>\n",
       "      <th>1</th>\n",
       "      <td>women_kurta/utsavfashion/embroidered-art-silk-...</td>\n",
       "    </tr>\n",
       "    <tr>\n",
       "      <th>2</th>\n",
       "      <td>women_kurta/utsavfashion/embroidered-cotton-ku...</td>\n",
       "    </tr>\n",
       "    <tr>\n",
       "      <th>3</th>\n",
       "      <td>women_kurta/utsavfashion/solid-color-cotton-ku...</td>\n",
       "    </tr>\n",
       "    <tr>\n",
       "      <th>4</th>\n",
       "      <td>women_kurta/utsavfashion/block-printed-cotton-...</td>\n",
       "    </tr>\n",
       "  </tbody>\n",
       "</table>\n",
       "</div>"
      ],
      "text/plain": [
       "                                               files\n",
       "0  women_kurta/utsavfashion/chikankari-cotton-sil...\n",
       "1  women_kurta/utsavfashion/embroidered-art-silk-...\n",
       "2  women_kurta/utsavfashion/embroidered-cotton-ku...\n",
       "3  women_kurta/utsavfashion/solid-color-cotton-ku...\n",
       "4  women_kurta/utsavfashion/block-printed-cotton-..."
      ]
     },
     "execution_count": 913,
     "metadata": {},
     "output_type": "execute_result"
    }
   ],
   "source": [
    "df_women_kurta.head()"
   ]
  },
  {
   "cell_type": "code",
   "execution_count": 914,
   "id": "7c428de5",
   "metadata": {},
   "outputs": [
    {
     "data": {
      "text/plain": [
       "611"
      ]
     },
     "execution_count": 914,
     "metadata": {},
     "output_type": "execute_result"
    }
   ],
   "source": [
    "# Total number of images of women's kurtas\n",
    "len(df_women_kurta)"
   ]
  },
  {
   "cell_type": "code",
   "execution_count": 915,
   "id": "7b487db3",
   "metadata": {},
   "outputs": [],
   "source": [
    "# Making a list of random numbers with the same length as the dataframe.\n",
    "r = list(random.sample(range(0, 5000), 611))"
   ]
  },
  {
   "cell_type": "code",
   "execution_count": 916,
   "id": "36d5deff",
   "metadata": {},
   "outputs": [
    {
     "data": {
      "text/plain": [
       "611"
      ]
     },
     "execution_count": 916,
     "metadata": {},
     "output_type": "execute_result"
    }
   ],
   "source": [
    "len(r)"
   ]
  },
  {
   "cell_type": "code",
   "execution_count": 917,
   "id": "80eae381",
   "metadata": {},
   "outputs": [],
   "source": [
    "# Adding the random numbers to the df\n",
    "df_women_kurta['random_number'] = r"
   ]
  },
  {
   "cell_type": "code",
   "execution_count": 918,
   "id": "7ba4bc5f",
   "metadata": {},
   "outputs": [
    {
     "data": {
      "text/html": [
       "<div>\n",
       "<style scoped>\n",
       "    .dataframe tbody tr th:only-of-type {\n",
       "        vertical-align: middle;\n",
       "    }\n",
       "\n",
       "    .dataframe tbody tr th {\n",
       "        vertical-align: top;\n",
       "    }\n",
       "\n",
       "    .dataframe thead th {\n",
       "        text-align: right;\n",
       "    }\n",
       "</style>\n",
       "<table border=\"1\" class=\"dataframe\">\n",
       "  <thead>\n",
       "    <tr style=\"text-align: right;\">\n",
       "      <th></th>\n",
       "      <th>files</th>\n",
       "      <th>random_number</th>\n",
       "    </tr>\n",
       "  </thead>\n",
       "  <tbody>\n",
       "    <tr>\n",
       "      <th>0</th>\n",
       "      <td>women_kurta/utsavfashion/chikankari-cotton-sil...</td>\n",
       "      <td>2208</td>\n",
       "    </tr>\n",
       "    <tr>\n",
       "      <th>1</th>\n",
       "      <td>women_kurta/utsavfashion/embroidered-art-silk-...</td>\n",
       "      <td>4290</td>\n",
       "    </tr>\n",
       "    <tr>\n",
       "      <th>2</th>\n",
       "      <td>women_kurta/utsavfashion/embroidered-cotton-ku...</td>\n",
       "      <td>2345</td>\n",
       "    </tr>\n",
       "    <tr>\n",
       "      <th>3</th>\n",
       "      <td>women_kurta/utsavfashion/solid-color-cotton-ku...</td>\n",
       "      <td>3084</td>\n",
       "    </tr>\n",
       "    <tr>\n",
       "      <th>4</th>\n",
       "      <td>women_kurta/utsavfashion/block-printed-cotton-...</td>\n",
       "      <td>4283</td>\n",
       "    </tr>\n",
       "  </tbody>\n",
       "</table>\n",
       "</div>"
      ],
      "text/plain": [
       "                                               files  random_number\n",
       "0  women_kurta/utsavfashion/chikankari-cotton-sil...           2208\n",
       "1  women_kurta/utsavfashion/embroidered-art-silk-...           4290\n",
       "2  women_kurta/utsavfashion/embroidered-cotton-ku...           2345\n",
       "3  women_kurta/utsavfashion/solid-color-cotton-ku...           3084\n",
       "4  women_kurta/utsavfashion/block-printed-cotton-...           4283"
      ]
     },
     "execution_count": 918,
     "metadata": {},
     "output_type": "execute_result"
    }
   ],
   "source": [
    "df_women_kurta.head()"
   ]
  },
  {
   "cell_type": "code",
   "execution_count": 919,
   "id": "81bf192a",
   "metadata": {},
   "outputs": [],
   "source": [
    "# Sorting the df based on the random numbers to randomize images\n",
    "df_women_kurta = df_women_kurta.sort_values('random_number')"
   ]
  },
  {
   "cell_type": "code",
   "execution_count": 920,
   "id": "fbe96560",
   "metadata": {},
   "outputs": [],
   "source": [
    "# Taking only the first 500 images\n",
    "df_women_kurta = df_women_kurta.iloc[:500, :]"
   ]
  },
  {
   "cell_type": "code",
   "execution_count": 921,
   "id": "824575ea",
   "metadata": {
    "scrolled": true
   },
   "outputs": [
    {
     "data": {
      "text/plain": [
       "500"
      ]
     },
     "execution_count": 921,
     "metadata": {},
     "output_type": "execute_result"
    }
   ],
   "source": [
    "len(df_women_kurta)"
   ]
  },
  {
   "cell_type": "code",
   "execution_count": 922,
   "id": "59532699",
   "metadata": {
    "scrolled": true
   },
   "outputs": [
    {
     "data": {
      "text/html": [
       "<div>\n",
       "<style scoped>\n",
       "    .dataframe tbody tr th:only-of-type {\n",
       "        vertical-align: middle;\n",
       "    }\n",
       "\n",
       "    .dataframe tbody tr th {\n",
       "        vertical-align: top;\n",
       "    }\n",
       "\n",
       "    .dataframe thead th {\n",
       "        text-align: right;\n",
       "    }\n",
       "</style>\n",
       "<table border=\"1\" class=\"dataframe\">\n",
       "  <thead>\n",
       "    <tr style=\"text-align: right;\">\n",
       "      <th></th>\n",
       "      <th>files</th>\n",
       "      <th>random_number</th>\n",
       "    </tr>\n",
       "  </thead>\n",
       "  <tbody>\n",
       "    <tr>\n",
       "      <th>0</th>\n",
       "      <td>women_kurta/flipkart/6xl-479-sanwariya-creatio...</td>\n",
       "      <td>2</td>\n",
       "    </tr>\n",
       "    <tr>\n",
       "      <th>1</th>\n",
       "      <td>women_kurta/flipkart/xxl-ck-11-15-ketaki-fashi...</td>\n",
       "      <td>4</td>\n",
       "    </tr>\n",
       "    <tr>\n",
       "      <th>2</th>\n",
       "      <td>women_kurta/flipkart/xxl-47vs1058kr-vasant-app...</td>\n",
       "      <td>26</td>\n",
       "    </tr>\n",
       "    <tr>\n",
       "      <th>3</th>\n",
       "      <td>women_kurta/flipkart/s-sa19kr628r-surhi-origin...</td>\n",
       "      <td>33</td>\n",
       "    </tr>\n",
       "    <tr>\n",
       "      <th>4</th>\n",
       "      <td>women_kurta/utsavfashion/embroidered-cotton-sh...</td>\n",
       "      <td>34</td>\n",
       "    </tr>\n",
       "  </tbody>\n",
       "</table>\n",
       "</div>"
      ],
      "text/plain": [
       "                                               files  random_number\n",
       "0  women_kurta/flipkart/6xl-479-sanwariya-creatio...              2\n",
       "1  women_kurta/flipkart/xxl-ck-11-15-ketaki-fashi...              4\n",
       "2  women_kurta/flipkart/xxl-47vs1058kr-vasant-app...             26\n",
       "3  women_kurta/flipkart/s-sa19kr628r-surhi-origin...             33\n",
       "4  women_kurta/utsavfashion/embroidered-cotton-sh...             34"
      ]
     },
     "execution_count": 922,
     "metadata": {},
     "output_type": "execute_result"
    }
   ],
   "source": [
    "df_women_kurta.reset_index(drop=True,inplace=True)\n",
    "df_women_kurta.head()"
   ]
  },
  {
   "cell_type": "code",
   "execution_count": 923,
   "id": "4fae0e1a",
   "metadata": {},
   "outputs": [],
   "source": [
    "df_women_kurta.to_csv('data/external/newly_scraped_images/df_women_kurta.csv')"
   ]
  },
  {
   "cell_type": "markdown",
   "id": "fda5bfa9",
   "metadata": {},
   "source": [
    "### Sherwanis"
   ]
  },
  {
   "cell_type": "code",
   "execution_count": 924,
   "id": "cd784c5b",
   "metadata": {},
   "outputs": [],
   "source": [
    "# Getting all saved images of sherwanis from Flipkart\n",
    "files_fk = glob('data/external/newly_scraped_images/sherwanis/flipkart/*.jpeg')"
   ]
  },
  {
   "cell_type": "code",
   "execution_count": 925,
   "id": "dfcab058",
   "metadata": {},
   "outputs": [
    {
     "data": {
      "text/plain": [
       "443"
      ]
     },
     "execution_count": 925,
     "metadata": {},
     "output_type": "execute_result"
    }
   ],
   "source": [
    "len(files_fk)"
   ]
  },
  {
   "cell_type": "code",
   "execution_count": 926,
   "id": "b2f55640",
   "metadata": {},
   "outputs": [],
   "source": [
    "# Getting all saved images of sherwanis from Karmaplace\n",
    "files_kp = glob('data/external/newly_scraped_images/sherwanis/karmaplace/*.jpg')"
   ]
  },
  {
   "cell_type": "code",
   "execution_count": 927,
   "id": "b6595d78",
   "metadata": {},
   "outputs": [
    {
     "data": {
      "text/plain": [
       "589"
      ]
     },
     "execution_count": 927,
     "metadata": {},
     "output_type": "execute_result"
    }
   ],
   "source": [
    "len(files_kp)"
   ]
  },
  {
   "cell_type": "code",
   "execution_count": 928,
   "id": "3de33f79",
   "metadata": {},
   "outputs": [],
   "source": [
    "# Getting all saved images of sherwanis from Utsav Fashion\n",
    "files_uf = glob('data/external/newly_scraped_images/sherwanis/utsavfashion/*.jpg')"
   ]
  },
  {
   "cell_type": "code",
   "execution_count": 929,
   "id": "a0646958",
   "metadata": {},
   "outputs": [
    {
     "data": {
      "text/plain": [
       "114"
      ]
     },
     "execution_count": 929,
     "metadata": {},
     "output_type": "execute_result"
    }
   ],
   "source": [
    "len(files_uf)"
   ]
  },
  {
   "cell_type": "markdown",
   "id": "1212729e",
   "metadata": {},
   "source": [
    "Want 500 files"
   ]
  },
  {
   "cell_type": "code",
   "execution_count": 930,
   "id": "c1a9d10c",
   "metadata": {},
   "outputs": [],
   "source": [
    "# Making combined list\n",
    "lst = files_uf + files_kp + files_fk"
   ]
  },
  {
   "cell_type": "code",
   "execution_count": 931,
   "id": "622a7a42",
   "metadata": {},
   "outputs": [
    {
     "data": {
      "text/html": [
       "<div>\n",
       "<style scoped>\n",
       "    .dataframe tbody tr th:only-of-type {\n",
       "        vertical-align: middle;\n",
       "    }\n",
       "\n",
       "    .dataframe tbody tr th {\n",
       "        vertical-align: top;\n",
       "    }\n",
       "\n",
       "    .dataframe thead th {\n",
       "        text-align: right;\n",
       "    }\n",
       "</style>\n",
       "<table border=\"1\" class=\"dataframe\">\n",
       "  <thead>\n",
       "    <tr style=\"text-align: right;\">\n",
       "      <th></th>\n",
       "      <th>files</th>\n",
       "    </tr>\n",
       "  </thead>\n",
       "  <tbody>\n",
       "    <tr>\n",
       "      <th>0</th>\n",
       "      <td>sherwanis/utsavfashion/embroidered-dupion-silk...</td>\n",
       "    </tr>\n",
       "    <tr>\n",
       "      <th>1</th>\n",
       "      <td>sherwanis/utsavfashion/embroidered-velvet-sher...</td>\n",
       "    </tr>\n",
       "    <tr>\n",
       "      <th>2</th>\n",
       "      <td>sherwanis/utsavfashion/brocade-sherwani-in-fuc...</td>\n",
       "    </tr>\n",
       "    <tr>\n",
       "      <th>3</th>\n",
       "      <td>sherwanis/utsavfashion/mgv144_2.jpg</td>\n",
       "    </tr>\n",
       "    <tr>\n",
       "      <th>4</th>\n",
       "      <td>sherwanis/utsavfashion/brocade-sherwani-in-lig...</td>\n",
       "    </tr>\n",
       "  </tbody>\n",
       "</table>\n",
       "</div>"
      ],
      "text/plain": [
       "                                               files\n",
       "0  sherwanis/utsavfashion/embroidered-dupion-silk...\n",
       "1  sherwanis/utsavfashion/embroidered-velvet-sher...\n",
       "2  sherwanis/utsavfashion/brocade-sherwani-in-fuc...\n",
       "3                sherwanis/utsavfashion/mgv144_2.jpg\n",
       "4  sherwanis/utsavfashion/brocade-sherwani-in-lig..."
      ]
     },
     "execution_count": 931,
     "metadata": {},
     "output_type": "execute_result"
    }
   ],
   "source": [
    "# Putting list into df\n",
    "df_sherwanis = pd.DataFrame()\n",
    "df_sherwanis['files'] = lst\n",
    "df_sherwanis.head()"
   ]
  },
  {
   "cell_type": "code",
   "execution_count": 932,
   "id": "26db2e9a",
   "metadata": {},
   "outputs": [
    {
     "data": {
      "text/plain": [
       "1146"
      ]
     },
     "execution_count": 932,
     "metadata": {},
     "output_type": "execute_result"
    }
   ],
   "source": [
    "# Total number of images\n",
    "len(df_sherwanis)"
   ]
  },
  {
   "cell_type": "code",
   "execution_count": 933,
   "id": "19ece34a",
   "metadata": {},
   "outputs": [],
   "source": [
    "# Making list of random numbers\n",
    "r = list(random.sample(range(0, 5000), 1146))"
   ]
  },
  {
   "cell_type": "code",
   "execution_count": 934,
   "id": "271750fb",
   "metadata": {},
   "outputs": [
    {
     "data": {
      "text/plain": [
       "1146"
      ]
     },
     "execution_count": 934,
     "metadata": {},
     "output_type": "execute_result"
    }
   ],
   "source": [
    "len(r)"
   ]
  },
  {
   "cell_type": "code",
   "execution_count": 935,
   "id": "d49d81c0",
   "metadata": {},
   "outputs": [],
   "source": [
    "# Adding random numbers to df\n",
    "df_sherwanis['random_number'] = r"
   ]
  },
  {
   "cell_type": "code",
   "execution_count": 936,
   "id": "32371134",
   "metadata": {},
   "outputs": [
    {
     "data": {
      "text/html": [
       "<div>\n",
       "<style scoped>\n",
       "    .dataframe tbody tr th:only-of-type {\n",
       "        vertical-align: middle;\n",
       "    }\n",
       "\n",
       "    .dataframe tbody tr th {\n",
       "        vertical-align: top;\n",
       "    }\n",
       "\n",
       "    .dataframe thead th {\n",
       "        text-align: right;\n",
       "    }\n",
       "</style>\n",
       "<table border=\"1\" class=\"dataframe\">\n",
       "  <thead>\n",
       "    <tr style=\"text-align: right;\">\n",
       "      <th></th>\n",
       "      <th>files</th>\n",
       "      <th>random_number</th>\n",
       "    </tr>\n",
       "  </thead>\n",
       "  <tbody>\n",
       "    <tr>\n",
       "      <th>0</th>\n",
       "      <td>sherwanis/utsavfashion/embroidered-dupion-silk...</td>\n",
       "      <td>2359</td>\n",
       "    </tr>\n",
       "    <tr>\n",
       "      <th>1</th>\n",
       "      <td>sherwanis/utsavfashion/embroidered-velvet-sher...</td>\n",
       "      <td>3100</td>\n",
       "    </tr>\n",
       "    <tr>\n",
       "      <th>2</th>\n",
       "      <td>sherwanis/utsavfashion/brocade-sherwani-in-fuc...</td>\n",
       "      <td>3797</td>\n",
       "    </tr>\n",
       "    <tr>\n",
       "      <th>3</th>\n",
       "      <td>sherwanis/utsavfashion/mgv144_2.jpg</td>\n",
       "      <td>3133</td>\n",
       "    </tr>\n",
       "    <tr>\n",
       "      <th>4</th>\n",
       "      <td>sherwanis/utsavfashion/brocade-sherwani-in-lig...</td>\n",
       "      <td>2438</td>\n",
       "    </tr>\n",
       "  </tbody>\n",
       "</table>\n",
       "</div>"
      ],
      "text/plain": [
       "                                               files  random_number\n",
       "0  sherwanis/utsavfashion/embroidered-dupion-silk...           2359\n",
       "1  sherwanis/utsavfashion/embroidered-velvet-sher...           3100\n",
       "2  sherwanis/utsavfashion/brocade-sherwani-in-fuc...           3797\n",
       "3                sherwanis/utsavfashion/mgv144_2.jpg           3133\n",
       "4  sherwanis/utsavfashion/brocade-sherwani-in-lig...           2438"
      ]
     },
     "execution_count": 936,
     "metadata": {},
     "output_type": "execute_result"
    }
   ],
   "source": [
    "df_sherwanis.head()"
   ]
  },
  {
   "cell_type": "code",
   "execution_count": 937,
   "id": "dc55a314",
   "metadata": {},
   "outputs": [],
   "source": [
    "# Sorting dataframe based on random numbers to randomize images\n",
    "df_sherwanis = df_sherwanis.sort_values('random_number')"
   ]
  },
  {
   "cell_type": "code",
   "execution_count": 938,
   "id": "5eecc74c",
   "metadata": {},
   "outputs": [],
   "source": [
    "# Taking only first 500 images\n",
    "df_sherwanis = df_sherwanis.iloc[:500, :]"
   ]
  },
  {
   "cell_type": "code",
   "execution_count": 939,
   "id": "9776604c",
   "metadata": {
    "scrolled": true
   },
   "outputs": [
    {
     "data": {
      "text/plain": [
       "500"
      ]
     },
     "execution_count": 939,
     "metadata": {},
     "output_type": "execute_result"
    }
   ],
   "source": [
    "len(df_sherwanis)"
   ]
  },
  {
   "cell_type": "code",
   "execution_count": 940,
   "id": "02125a46",
   "metadata": {
    "scrolled": false
   },
   "outputs": [
    {
     "data": {
      "text/html": [
       "<div>\n",
       "<style scoped>\n",
       "    .dataframe tbody tr th:only-of-type {\n",
       "        vertical-align: middle;\n",
       "    }\n",
       "\n",
       "    .dataframe tbody tr th {\n",
       "        vertical-align: top;\n",
       "    }\n",
       "\n",
       "    .dataframe thead th {\n",
       "        text-align: right;\n",
       "    }\n",
       "</style>\n",
       "<table border=\"1\" class=\"dataframe\">\n",
       "  <thead>\n",
       "    <tr style=\"text-align: right;\">\n",
       "      <th></th>\n",
       "      <th>files</th>\n",
       "      <th>random_number</th>\n",
       "    </tr>\n",
       "  </thead>\n",
       "  <tbody>\n",
       "    <tr>\n",
       "      <th>0</th>\n",
       "      <td>sherwanis/karmaplace/VSHRMIW026CRnCDCRnMD002CR...</td>\n",
       "      <td>3</td>\n",
       "    </tr>\n",
       "    <tr>\n",
       "      <th>1</th>\n",
       "      <td>sherwanis/flipkart/m-instar-141-maroon-pldp-ta...</td>\n",
       "      <td>4</td>\n",
       "    </tr>\n",
       "    <tr>\n",
       "      <th>2</th>\n",
       "      <td>sherwanis/flipkart/xxl-aroras-the-complete-fas...</td>\n",
       "      <td>7</td>\n",
       "    </tr>\n",
       "    <tr>\n",
       "      <th>3</th>\n",
       "      <td>sherwanis/karmaplace/VASMIW001NBnKRG001nPRG-2_...</td>\n",
       "      <td>11</td>\n",
       "    </tr>\n",
       "    <tr>\n",
       "      <th>4</th>\n",
       "      <td>sherwanis/flipkart/m-crkurta1-peb-avaeta-origi...</td>\n",
       "      <td>16</td>\n",
       "    </tr>\n",
       "  </tbody>\n",
       "</table>\n",
       "</div>"
      ],
      "text/plain": [
       "                                               files  random_number\n",
       "0  sherwanis/karmaplace/VSHRMIW026CRnCDCRnMD002CR...              3\n",
       "1  sherwanis/flipkart/m-instar-141-maroon-pldp-ta...              4\n",
       "2  sherwanis/flipkart/xxl-aroras-the-complete-fas...              7\n",
       "3  sherwanis/karmaplace/VASMIW001NBnKRG001nPRG-2_...             11\n",
       "4  sherwanis/flipkart/m-crkurta1-peb-avaeta-origi...             16"
      ]
     },
     "execution_count": 940,
     "metadata": {},
     "output_type": "execute_result"
    }
   ],
   "source": [
    "df_sherwanis.reset_index(drop=True, inplace=True)\n",
    "df_sherwanis.head()"
   ]
  },
  {
   "cell_type": "code",
   "execution_count": 941,
   "id": "227a7c92",
   "metadata": {},
   "outputs": [],
   "source": [
    "# Saving df with file paths\n",
    "df_sherwanis.to_csv('data/external/newly_scraped_images/df_sherwanis.csv')"
   ]
  },
  {
   "cell_type": "markdown",
   "id": "ba54a532",
   "metadata": {},
   "source": [
    "### Sarees"
   ]
  },
  {
   "cell_type": "code",
   "execution_count": 942,
   "id": "6383c0c0",
   "metadata": {},
   "outputs": [],
   "source": [
    "# Getting all saved images of sarees from Flipkart\n",
    "files_fk = glob('data/external/newly_scraped_images/saree/flipkart/*.jpeg')"
   ]
  },
  {
   "cell_type": "code",
   "execution_count": 943,
   "id": "3a2d06ee",
   "metadata": {},
   "outputs": [
    {
     "data": {
      "text/plain": [
       "574"
      ]
     },
     "execution_count": 943,
     "metadata": {},
     "output_type": "execute_result"
    }
   ],
   "source": [
    "len(files_fk)"
   ]
  },
  {
   "cell_type": "code",
   "execution_count": 944,
   "id": "041c3970",
   "metadata": {},
   "outputs": [],
   "source": [
    "# Getting all saved images of sarees from Utsav Fashion\n",
    "files_uf = glob('data/external/newly_scraped_images/saree/utsavfashion/*.jpg')"
   ]
  },
  {
   "cell_type": "code",
   "execution_count": 945,
   "id": "4310c085",
   "metadata": {},
   "outputs": [
    {
     "data": {
      "text/plain": [
       "294"
      ]
     },
     "execution_count": 945,
     "metadata": {},
     "output_type": "execute_result"
    }
   ],
   "source": [
    "len(files_uf)"
   ]
  },
  {
   "cell_type": "markdown",
   "id": "161ed910",
   "metadata": {},
   "source": [
    "Want 500 files"
   ]
  },
  {
   "cell_type": "code",
   "execution_count": 946,
   "id": "d7edf030",
   "metadata": {},
   "outputs": [],
   "source": [
    "# Making combined list\n",
    "lst = files_uf + files_fk"
   ]
  },
  {
   "cell_type": "code",
   "execution_count": 947,
   "id": "c8a6681d",
   "metadata": {},
   "outputs": [],
   "source": [
    "df_saree = pd.DataFrame()"
   ]
  },
  {
   "cell_type": "code",
   "execution_count": 948,
   "id": "ffdf941f",
   "metadata": {},
   "outputs": [],
   "source": [
    "df_saree['files'] = lst"
   ]
  },
  {
   "cell_type": "code",
   "execution_count": 949,
   "id": "c722d982",
   "metadata": {
    "scrolled": false
   },
   "outputs": [
    {
     "data": {
      "text/html": [
       "<div>\n",
       "<style scoped>\n",
       "    .dataframe tbody tr th:only-of-type {\n",
       "        vertical-align: middle;\n",
       "    }\n",
       "\n",
       "    .dataframe tbody tr th {\n",
       "        vertical-align: top;\n",
       "    }\n",
       "\n",
       "    .dataframe thead th {\n",
       "        text-align: right;\n",
       "    }\n",
       "</style>\n",
       "<table border=\"1\" class=\"dataframe\">\n",
       "  <thead>\n",
       "    <tr style=\"text-align: right;\">\n",
       "      <th></th>\n",
       "      <th>files</th>\n",
       "    </tr>\n",
       "  </thead>\n",
       "  <tbody>\n",
       "    <tr>\n",
       "      <th>0</th>\n",
       "      <td>saree/utsavfashion/embroidered-satin-butterfly...</td>\n",
       "    </tr>\n",
       "    <tr>\n",
       "      <th>1</th>\n",
       "      <td>saree/utsavfashion/shibori-printed-organza-sar...</td>\n",
       "    </tr>\n",
       "    <tr>\n",
       "      <th>2</th>\n",
       "      <td>saree/utsavfashion/banarasi-saree-in-off-white...</td>\n",
       "    </tr>\n",
       "    <tr>\n",
       "      <th>3</th>\n",
       "      <td>saree/utsavfashion/kanchipuram-pure-silk-handl...</td>\n",
       "    </tr>\n",
       "    <tr>\n",
       "      <th>4</th>\n",
       "      <td>saree/utsavfashion/embroidered-net-scalloped-s...</td>\n",
       "    </tr>\n",
       "  </tbody>\n",
       "</table>\n",
       "</div>"
      ],
      "text/plain": [
       "                                               files\n",
       "0  saree/utsavfashion/embroidered-satin-butterfly...\n",
       "1  saree/utsavfashion/shibori-printed-organza-sar...\n",
       "2  saree/utsavfashion/banarasi-saree-in-off-white...\n",
       "3  saree/utsavfashion/kanchipuram-pure-silk-handl...\n",
       "4  saree/utsavfashion/embroidered-net-scalloped-s..."
      ]
     },
     "execution_count": 949,
     "metadata": {},
     "output_type": "execute_result"
    }
   ],
   "source": [
    "df_saree.head()"
   ]
  },
  {
   "cell_type": "code",
   "execution_count": 950,
   "id": "00949813",
   "metadata": {},
   "outputs": [
    {
     "data": {
      "text/plain": [
       "868"
      ]
     },
     "execution_count": 950,
     "metadata": {},
     "output_type": "execute_result"
    }
   ],
   "source": [
    "len(df_saree)"
   ]
  },
  {
   "cell_type": "code",
   "execution_count": 951,
   "id": "511c9f89",
   "metadata": {},
   "outputs": [],
   "source": [
    "# Making a list of random numbers with the same length as the dataframe.\n",
    "r = list(random.sample(range(0, 5000), 868))"
   ]
  },
  {
   "cell_type": "code",
   "execution_count": 952,
   "id": "f687babc",
   "metadata": {},
   "outputs": [
    {
     "data": {
      "text/plain": [
       "868"
      ]
     },
     "execution_count": 952,
     "metadata": {},
     "output_type": "execute_result"
    }
   ],
   "source": [
    "len(r)"
   ]
  },
  {
   "cell_type": "code",
   "execution_count": 953,
   "id": "2d9e1be9",
   "metadata": {},
   "outputs": [],
   "source": [
    "# Adding the random numbers to the df\n",
    "df_saree['random_number'] = r"
   ]
  },
  {
   "cell_type": "code",
   "execution_count": 954,
   "id": "d5cdef95",
   "metadata": {},
   "outputs": [
    {
     "data": {
      "text/html": [
       "<div>\n",
       "<style scoped>\n",
       "    .dataframe tbody tr th:only-of-type {\n",
       "        vertical-align: middle;\n",
       "    }\n",
       "\n",
       "    .dataframe tbody tr th {\n",
       "        vertical-align: top;\n",
       "    }\n",
       "\n",
       "    .dataframe thead th {\n",
       "        text-align: right;\n",
       "    }\n",
       "</style>\n",
       "<table border=\"1\" class=\"dataframe\">\n",
       "  <thead>\n",
       "    <tr style=\"text-align: right;\">\n",
       "      <th></th>\n",
       "      <th>files</th>\n",
       "      <th>random_number</th>\n",
       "    </tr>\n",
       "  </thead>\n",
       "  <tbody>\n",
       "    <tr>\n",
       "      <th>0</th>\n",
       "      <td>saree/utsavfashion/embroidered-satin-butterfly...</td>\n",
       "      <td>4670</td>\n",
       "    </tr>\n",
       "    <tr>\n",
       "      <th>1</th>\n",
       "      <td>saree/utsavfashion/shibori-printed-organza-sar...</td>\n",
       "      <td>1750</td>\n",
       "    </tr>\n",
       "    <tr>\n",
       "      <th>2</th>\n",
       "      <td>saree/utsavfashion/banarasi-saree-in-off-white...</td>\n",
       "      <td>2739</td>\n",
       "    </tr>\n",
       "    <tr>\n",
       "      <th>3</th>\n",
       "      <td>saree/utsavfashion/kanchipuram-pure-silk-handl...</td>\n",
       "      <td>2786</td>\n",
       "    </tr>\n",
       "    <tr>\n",
       "      <th>4</th>\n",
       "      <td>saree/utsavfashion/embroidered-net-scalloped-s...</td>\n",
       "      <td>2398</td>\n",
       "    </tr>\n",
       "  </tbody>\n",
       "</table>\n",
       "</div>"
      ],
      "text/plain": [
       "                                               files  random_number\n",
       "0  saree/utsavfashion/embroidered-satin-butterfly...           4670\n",
       "1  saree/utsavfashion/shibori-printed-organza-sar...           1750\n",
       "2  saree/utsavfashion/banarasi-saree-in-off-white...           2739\n",
       "3  saree/utsavfashion/kanchipuram-pure-silk-handl...           2786\n",
       "4  saree/utsavfashion/embroidered-net-scalloped-s...           2398"
      ]
     },
     "execution_count": 954,
     "metadata": {},
     "output_type": "execute_result"
    }
   ],
   "source": [
    "df_saree.head()"
   ]
  },
  {
   "cell_type": "code",
   "execution_count": 955,
   "id": "216661d1",
   "metadata": {},
   "outputs": [],
   "source": [
    "# Sorting the df based on the random numbers to randomize images\n",
    "df_saree = df_saree.sort_values('random_number')"
   ]
  },
  {
   "cell_type": "code",
   "execution_count": 956,
   "id": "f0dc1f2f",
   "metadata": {},
   "outputs": [],
   "source": [
    "# Taking only first 500 images\n",
    "df_saree = df_saree.iloc[:500, :]"
   ]
  },
  {
   "cell_type": "code",
   "execution_count": 957,
   "id": "7cfdd19e",
   "metadata": {},
   "outputs": [
    {
     "data": {
      "text/plain": [
       "500"
      ]
     },
     "execution_count": 957,
     "metadata": {},
     "output_type": "execute_result"
    }
   ],
   "source": [
    "len(df_saree)"
   ]
  },
  {
   "cell_type": "code",
   "execution_count": 958,
   "id": "b0904591",
   "metadata": {
    "scrolled": true
   },
   "outputs": [
    {
     "data": {
      "text/html": [
       "<div>\n",
       "<style scoped>\n",
       "    .dataframe tbody tr th:only-of-type {\n",
       "        vertical-align: middle;\n",
       "    }\n",
       "\n",
       "    .dataframe tbody tr th {\n",
       "        vertical-align: top;\n",
       "    }\n",
       "\n",
       "    .dataframe thead th {\n",
       "        text-align: right;\n",
       "    }\n",
       "</style>\n",
       "<table border=\"1\" class=\"dataframe\">\n",
       "  <thead>\n",
       "    <tr style=\"text-align: right;\">\n",
       "      <th></th>\n",
       "      <th>files</th>\n",
       "      <th>random_number</th>\n",
       "    </tr>\n",
       "  </thead>\n",
       "  <tbody>\n",
       "    <tr>\n",
       "      <th>0</th>\n",
       "      <td>saree/utsavfashion/digital-printed-crepe-saree...</td>\n",
       "      <td>1</td>\n",
       "    </tr>\n",
       "    <tr>\n",
       "      <th>1</th>\n",
       "      <td>saree/flipkart/free-r-kaju-black-rosyqueen-uns...</td>\n",
       "      <td>6</td>\n",
       "    </tr>\n",
       "    <tr>\n",
       "      <th>2</th>\n",
       "      <td>saree/flipkart/free-new-launch-pencil-art-soft...</td>\n",
       "      <td>10</td>\n",
       "    </tr>\n",
       "    <tr>\n",
       "      <th>3</th>\n",
       "      <td>saree/flipkart/free-pink-jay-ramdev-fashion-un...</td>\n",
       "      <td>13</td>\n",
       "    </tr>\n",
       "    <tr>\n",
       "      <th>4</th>\n",
       "      <td>saree/flipkart/free-7129-pinkeve-unstitched-or...</td>\n",
       "      <td>17</td>\n",
       "    </tr>\n",
       "  </tbody>\n",
       "</table>\n",
       "</div>"
      ],
      "text/plain": [
       "                                               files  random_number\n",
       "0  saree/utsavfashion/digital-printed-crepe-saree...              1\n",
       "1  saree/flipkart/free-r-kaju-black-rosyqueen-uns...              6\n",
       "2  saree/flipkart/free-new-launch-pencil-art-soft...             10\n",
       "3  saree/flipkart/free-pink-jay-ramdev-fashion-un...             13\n",
       "4  saree/flipkart/free-7129-pinkeve-unstitched-or...             17"
      ]
     },
     "execution_count": 958,
     "metadata": {},
     "output_type": "execute_result"
    }
   ],
   "source": [
    "df_saree.reset_index(drop=True, inplace=True)\n",
    "df_saree.head()"
   ]
  },
  {
   "cell_type": "code",
   "execution_count": 959,
   "id": "74c12b30",
   "metadata": {},
   "outputs": [],
   "source": [
    "df_saree.to_csv('df_saree.csv')"
   ]
  },
  {
   "cell_type": "markdown",
   "id": "b4618193",
   "metadata": {},
   "source": [
    "### Petticoats"
   ]
  },
  {
   "cell_type": "code",
   "execution_count": 960,
   "id": "525f244c",
   "metadata": {},
   "outputs": [],
   "source": [
    "# Getting all saved images of petticoats from Flipkart\n",
    "files_fk = glob('data/external/newly_scraped_images/petticoats/flipkart/*.jpeg')"
   ]
  },
  {
   "cell_type": "code",
   "execution_count": 961,
   "id": "2c7e75a7",
   "metadata": {},
   "outputs": [
    {
     "data": {
      "text/plain": [
       "472"
      ]
     },
     "execution_count": 961,
     "metadata": {},
     "output_type": "execute_result"
    }
   ],
   "source": [
    "len(files_fk)"
   ]
  },
  {
   "cell_type": "code",
   "execution_count": 962,
   "id": "1f8322ab",
   "metadata": {},
   "outputs": [],
   "source": [
    "# Getting all saved images of petticoats from Utsav Fashion\n",
    "files_uf = glob('data/external/newly_scraped_images/petticoats/utsavfashion/*.jpg')"
   ]
  },
  {
   "cell_type": "code",
   "execution_count": 963,
   "id": "8f0d692a",
   "metadata": {},
   "outputs": [
    {
     "data": {
      "text/plain": [
       "84"
      ]
     },
     "execution_count": 963,
     "metadata": {},
     "output_type": "execute_result"
    }
   ],
   "source": [
    "len(files_uf)"
   ]
  },
  {
   "cell_type": "markdown",
   "id": "748afb55",
   "metadata": {},
   "source": [
    "Want 500 files"
   ]
  },
  {
   "cell_type": "code",
   "execution_count": 964,
   "id": "cfffcd4d",
   "metadata": {},
   "outputs": [],
   "source": [
    "# Making combined list\n",
    "lst = files_uf + files_fk"
   ]
  },
  {
   "cell_type": "code",
   "execution_count": 965,
   "id": "50c4e6bb",
   "metadata": {},
   "outputs": [],
   "source": [
    "df_petticoats = pd.DataFrame()"
   ]
  },
  {
   "cell_type": "code",
   "execution_count": 966,
   "id": "5280334b",
   "metadata": {},
   "outputs": [],
   "source": [
    "df_petticoats['files'] = lst"
   ]
  },
  {
   "cell_type": "code",
   "execution_count": 967,
   "id": "c6ac5b67",
   "metadata": {
    "scrolled": false
   },
   "outputs": [
    {
     "data": {
      "text/html": [
       "<div>\n",
       "<style scoped>\n",
       "    .dataframe tbody tr th:only-of-type {\n",
       "        vertical-align: middle;\n",
       "    }\n",
       "\n",
       "    .dataframe tbody tr th {\n",
       "        vertical-align: top;\n",
       "    }\n",
       "\n",
       "    .dataframe thead th {\n",
       "        text-align: right;\n",
       "    }\n",
       "</style>\n",
       "<table border=\"1\" class=\"dataframe\">\n",
       "  <thead>\n",
       "    <tr style=\"text-align: right;\">\n",
       "      <th></th>\n",
       "      <th>files</th>\n",
       "    </tr>\n",
       "  </thead>\n",
       "  <tbody>\n",
       "    <tr>\n",
       "      <th>0</th>\n",
       "      <td>petticoats/utsavfashion/plain-combo-of-cotton-...</td>\n",
       "    </tr>\n",
       "    <tr>\n",
       "      <th>1</th>\n",
       "      <td>petticoats/utsavfashion/uub87.jpg</td>\n",
       "    </tr>\n",
       "    <tr>\n",
       "      <th>2</th>\n",
       "      <td>petticoats/utsavfashion/uub78.jpg</td>\n",
       "    </tr>\n",
       "    <tr>\n",
       "      <th>3</th>\n",
       "      <td>petticoats/utsavfashion/maternity-pre-stitched...</td>\n",
       "    </tr>\n",
       "    <tr>\n",
       "      <th>4</th>\n",
       "      <td>petticoats/utsavfashion/uub51.jpg</td>\n",
       "    </tr>\n",
       "  </tbody>\n",
       "</table>\n",
       "</div>"
      ],
      "text/plain": [
       "                                               files\n",
       "0  petticoats/utsavfashion/plain-combo-of-cotton-...\n",
       "1                  petticoats/utsavfashion/uub87.jpg\n",
       "2                  petticoats/utsavfashion/uub78.jpg\n",
       "3  petticoats/utsavfashion/maternity-pre-stitched...\n",
       "4                  petticoats/utsavfashion/uub51.jpg"
      ]
     },
     "execution_count": 967,
     "metadata": {},
     "output_type": "execute_result"
    }
   ],
   "source": [
    "df_petticoats.head()"
   ]
  },
  {
   "cell_type": "code",
   "execution_count": 968,
   "id": "b5b4cdba",
   "metadata": {},
   "outputs": [
    {
     "data": {
      "text/plain": [
       "556"
      ]
     },
     "execution_count": 968,
     "metadata": {},
     "output_type": "execute_result"
    }
   ],
   "source": [
    "len(df_petticoats)"
   ]
  },
  {
   "cell_type": "code",
   "execution_count": 969,
   "id": "bcfc1e7f",
   "metadata": {},
   "outputs": [],
   "source": [
    "# Making a list of random numbers with the same length as the dataframe.\n",
    "r = list(random.sample(range(0, 5000), 556))"
   ]
  },
  {
   "cell_type": "code",
   "execution_count": 970,
   "id": "b95e42a3",
   "metadata": {},
   "outputs": [
    {
     "data": {
      "text/plain": [
       "556"
      ]
     },
     "execution_count": 970,
     "metadata": {},
     "output_type": "execute_result"
    }
   ],
   "source": [
    "len(r)"
   ]
  },
  {
   "cell_type": "code",
   "execution_count": 971,
   "id": "6728d4e1",
   "metadata": {},
   "outputs": [],
   "source": [
    "# Adding the random numbers to the df\n",
    "df_petticoats['random_number'] = r"
   ]
  },
  {
   "cell_type": "code",
   "execution_count": 972,
   "id": "81cb2489",
   "metadata": {},
   "outputs": [
    {
     "data": {
      "text/html": [
       "<div>\n",
       "<style scoped>\n",
       "    .dataframe tbody tr th:only-of-type {\n",
       "        vertical-align: middle;\n",
       "    }\n",
       "\n",
       "    .dataframe tbody tr th {\n",
       "        vertical-align: top;\n",
       "    }\n",
       "\n",
       "    .dataframe thead th {\n",
       "        text-align: right;\n",
       "    }\n",
       "</style>\n",
       "<table border=\"1\" class=\"dataframe\">\n",
       "  <thead>\n",
       "    <tr style=\"text-align: right;\">\n",
       "      <th></th>\n",
       "      <th>files</th>\n",
       "      <th>random_number</th>\n",
       "    </tr>\n",
       "  </thead>\n",
       "  <tbody>\n",
       "    <tr>\n",
       "      <th>0</th>\n",
       "      <td>petticoats/utsavfashion/plain-combo-of-cotton-...</td>\n",
       "      <td>4433</td>\n",
       "    </tr>\n",
       "    <tr>\n",
       "      <th>1</th>\n",
       "      <td>petticoats/utsavfashion/uub87.jpg</td>\n",
       "      <td>1980</td>\n",
       "    </tr>\n",
       "    <tr>\n",
       "      <th>2</th>\n",
       "      <td>petticoats/utsavfashion/uub78.jpg</td>\n",
       "      <td>3464</td>\n",
       "    </tr>\n",
       "    <tr>\n",
       "      <th>3</th>\n",
       "      <td>petticoats/utsavfashion/maternity-pre-stitched...</td>\n",
       "      <td>4094</td>\n",
       "    </tr>\n",
       "    <tr>\n",
       "      <th>4</th>\n",
       "      <td>petticoats/utsavfashion/uub51.jpg</td>\n",
       "      <td>318</td>\n",
       "    </tr>\n",
       "  </tbody>\n",
       "</table>\n",
       "</div>"
      ],
      "text/plain": [
       "                                               files  random_number\n",
       "0  petticoats/utsavfashion/plain-combo-of-cotton-...           4433\n",
       "1                  petticoats/utsavfashion/uub87.jpg           1980\n",
       "2                  petticoats/utsavfashion/uub78.jpg           3464\n",
       "3  petticoats/utsavfashion/maternity-pre-stitched...           4094\n",
       "4                  petticoats/utsavfashion/uub51.jpg            318"
      ]
     },
     "execution_count": 972,
     "metadata": {},
     "output_type": "execute_result"
    }
   ],
   "source": [
    "df_petticoats.head()"
   ]
  },
  {
   "cell_type": "code",
   "execution_count": 973,
   "id": "81e43fe5",
   "metadata": {},
   "outputs": [],
   "source": [
    "# Sorting the df based on the random numbers to randomize images\n",
    "df_petticoats = df_petticoats.sort_values('random_number')"
   ]
  },
  {
   "cell_type": "code",
   "execution_count": 974,
   "id": "4645be6a",
   "metadata": {},
   "outputs": [],
   "source": [
    "# Taking only first 500 images\n",
    "df_petticoats = df_petticoats.iloc[:500, :]"
   ]
  },
  {
   "cell_type": "code",
   "execution_count": 975,
   "id": "5035bc45",
   "metadata": {},
   "outputs": [
    {
     "data": {
      "text/plain": [
       "500"
      ]
     },
     "execution_count": 975,
     "metadata": {},
     "output_type": "execute_result"
    }
   ],
   "source": [
    "len(df_petticoats)"
   ]
  },
  {
   "cell_type": "code",
   "execution_count": 976,
   "id": "8a1c9b51",
   "metadata": {
    "scrolled": true
   },
   "outputs": [
    {
     "data": {
      "text/html": [
       "<div>\n",
       "<style scoped>\n",
       "    .dataframe tbody tr th:only-of-type {\n",
       "        vertical-align: middle;\n",
       "    }\n",
       "\n",
       "    .dataframe tbody tr th {\n",
       "        vertical-align: top;\n",
       "    }\n",
       "\n",
       "    .dataframe thead th {\n",
       "        text-align: right;\n",
       "    }\n",
       "</style>\n",
       "<table border=\"1\" class=\"dataframe\">\n",
       "  <thead>\n",
       "    <tr style=\"text-align: right;\">\n",
       "      <th></th>\n",
       "      <th>files</th>\n",
       "      <th>random_number</th>\n",
       "    </tr>\n",
       "  </thead>\n",
       "  <tbody>\n",
       "    <tr>\n",
       "      <th>0</th>\n",
       "      <td>petticoats/flipkart/medium-firozi-jamuni-navy-...</td>\n",
       "      <td>38</td>\n",
       "    </tr>\n",
       "    <tr>\n",
       "      <th>1</th>\n",
       "      <td>petticoats/flipkart/free-1-104-namra-tex-origi...</td>\n",
       "      <td>42</td>\n",
       "    </tr>\n",
       "    <tr>\n",
       "      <th>2</th>\n",
       "      <td>petticoats/utsavfashion/plain-combo-of-cotton-...</td>\n",
       "      <td>43</td>\n",
       "    </tr>\n",
       "    <tr>\n",
       "      <th>3</th>\n",
       "      <td>petticoats/flipkart/free-1-gd-1102-silver-gudd...</td>\n",
       "      <td>46</td>\n",
       "    </tr>\n",
       "    <tr>\n",
       "      <th>4</th>\n",
       "      <td>petticoats/utsavfashion/solid-color-lycra-cott...</td>\n",
       "      <td>50</td>\n",
       "    </tr>\n",
       "  </tbody>\n",
       "</table>\n",
       "</div>"
      ],
      "text/plain": [
       "                                               files  random_number\n",
       "0  petticoats/flipkart/medium-firozi-jamuni-navy-...             38\n",
       "1  petticoats/flipkart/free-1-104-namra-tex-origi...             42\n",
       "2  petticoats/utsavfashion/plain-combo-of-cotton-...             43\n",
       "3  petticoats/flipkart/free-1-gd-1102-silver-gudd...             46\n",
       "4  petticoats/utsavfashion/solid-color-lycra-cott...             50"
      ]
     },
     "execution_count": 976,
     "metadata": {},
     "output_type": "execute_result"
    }
   ],
   "source": [
    "df_petticoats.reset_index(drop=True, inplace=True)\n",
    "df_petticoats.head()"
   ]
  },
  {
   "cell_type": "code",
   "execution_count": 977,
   "id": "4a031f00",
   "metadata": {},
   "outputs": [],
   "source": [
    "df_petticoats.to_csv('data/external/newly_scraped_images/df_petticoats.csv')"
   ]
  },
  {
   "cell_type": "markdown",
   "id": "81cd0113",
   "metadata": {},
   "source": [
    "### Palazzos"
   ]
  },
  {
   "cell_type": "code",
   "execution_count": 978,
   "id": "342a3efd",
   "metadata": {},
   "outputs": [],
   "source": [
    "# Getting all saved images of palazzos from Flipkart\n",
    "files_fk = glob('data/external/newly_scraped_images/palazzos/flipkart/*.jpeg')"
   ]
  },
  {
   "cell_type": "code",
   "execution_count": 979,
   "id": "a5a80121",
   "metadata": {},
   "outputs": [
    {
     "data": {
      "text/plain": [
       "462"
      ]
     },
     "execution_count": 979,
     "metadata": {},
     "output_type": "execute_result"
    }
   ],
   "source": [
    "len(files_fk)"
   ]
  },
  {
   "cell_type": "code",
   "execution_count": 980,
   "id": "8af6f428",
   "metadata": {},
   "outputs": [],
   "source": [
    "# Getting all saved images of palazzos from Amazon.in\n",
    "files_ai = glob('data/external/newly_scraped_images/palazzos/amazon.in/*.jpg')"
   ]
  },
  {
   "cell_type": "code",
   "execution_count": 981,
   "id": "1a4c35ed",
   "metadata": {},
   "outputs": [
    {
     "data": {
      "text/plain": [
       "248"
      ]
     },
     "execution_count": 981,
     "metadata": {},
     "output_type": "execute_result"
    }
   ],
   "source": [
    "len(files_ai)"
   ]
  },
  {
   "cell_type": "code",
   "execution_count": 982,
   "id": "9e8cc312",
   "metadata": {},
   "outputs": [],
   "source": [
    "# Getting all saved images of palazzos from Utsav Fashion\n",
    "files_uf = glob('data/external/newly_scraped_images/palazzos/utsavfashion/*.jpg')"
   ]
  },
  {
   "cell_type": "code",
   "execution_count": 983,
   "id": "8bde4e9a",
   "metadata": {},
   "outputs": [
    {
     "data": {
      "text/plain": [
       "120"
      ]
     },
     "execution_count": 983,
     "metadata": {},
     "output_type": "execute_result"
    }
   ],
   "source": [
    "len(files_uf)"
   ]
  },
  {
   "cell_type": "markdown",
   "id": "01157a88",
   "metadata": {},
   "source": [
    "Want 500 files"
   ]
  },
  {
   "cell_type": "code",
   "execution_count": 984,
   "id": "793938d7",
   "metadata": {},
   "outputs": [],
   "source": [
    "# Making combined list\n",
    "lst = files_uf + files_ai + files_fk"
   ]
  },
  {
   "cell_type": "code",
   "execution_count": 985,
   "id": "0f22405a",
   "metadata": {},
   "outputs": [],
   "source": [
    "df_palazzos = pd.DataFrame()"
   ]
  },
  {
   "cell_type": "code",
   "execution_count": 986,
   "id": "344d470c",
   "metadata": {},
   "outputs": [],
   "source": [
    "df_palazzos['files'] = lst"
   ]
  },
  {
   "cell_type": "code",
   "execution_count": 987,
   "id": "e2774a16",
   "metadata": {
    "scrolled": false
   },
   "outputs": [
    {
     "data": {
      "text/html": [
       "<div>\n",
       "<style scoped>\n",
       "    .dataframe tbody tr th:only-of-type {\n",
       "        vertical-align: middle;\n",
       "    }\n",
       "\n",
       "    .dataframe tbody tr th {\n",
       "        vertical-align: top;\n",
       "    }\n",
       "\n",
       "    .dataframe thead th {\n",
       "        text-align: right;\n",
       "    }\n",
       "</style>\n",
       "<table border=\"1\" class=\"dataframe\">\n",
       "  <thead>\n",
       "    <tr style=\"text-align: right;\">\n",
       "      <th></th>\n",
       "      <th>files</th>\n",
       "    </tr>\n",
       "  </thead>\n",
       "  <tbody>\n",
       "    <tr>\n",
       "      <th>0</th>\n",
       "      <td>palazzos/utsavfashion/printed-rayon-kurta-with...</td>\n",
       "    </tr>\n",
       "    <tr>\n",
       "      <th>1</th>\n",
       "      <td>palazzos/utsavfashion/block-printed-cotton-pal...</td>\n",
       "    </tr>\n",
       "    <tr>\n",
       "      <th>2</th>\n",
       "      <td>palazzos/utsavfashion/foil-printed-art-silk-st...</td>\n",
       "    </tr>\n",
       "    <tr>\n",
       "      <th>3</th>\n",
       "      <td>palazzos/utsavfashion/thub12.jpg</td>\n",
       "    </tr>\n",
       "    <tr>\n",
       "      <th>4</th>\n",
       "      <td>palazzos/utsavfashion/embroidered-art-silk-kur...</td>\n",
       "    </tr>\n",
       "  </tbody>\n",
       "</table>\n",
       "</div>"
      ],
      "text/plain": [
       "                                               files\n",
       "0  palazzos/utsavfashion/printed-rayon-kurta-with...\n",
       "1  palazzos/utsavfashion/block-printed-cotton-pal...\n",
       "2  palazzos/utsavfashion/foil-printed-art-silk-st...\n",
       "3                   palazzos/utsavfashion/thub12.jpg\n",
       "4  palazzos/utsavfashion/embroidered-art-silk-kur..."
      ]
     },
     "execution_count": 987,
     "metadata": {},
     "output_type": "execute_result"
    }
   ],
   "source": [
    "df_palazzos.head()"
   ]
  },
  {
   "cell_type": "code",
   "execution_count": 988,
   "id": "2e4f26be",
   "metadata": {},
   "outputs": [
    {
     "data": {
      "text/plain": [
       "830"
      ]
     },
     "execution_count": 988,
     "metadata": {},
     "output_type": "execute_result"
    }
   ],
   "source": [
    "len(df_palazzos)"
   ]
  },
  {
   "cell_type": "code",
   "execution_count": 989,
   "id": "8803bf49",
   "metadata": {},
   "outputs": [],
   "source": [
    "# Making a list of random numbers with the same length as the dataframe.\n",
    "r = list(random.sample(range(0, 5000), 830))"
   ]
  },
  {
   "cell_type": "code",
   "execution_count": 990,
   "id": "44fa00dd",
   "metadata": {},
   "outputs": [
    {
     "data": {
      "text/plain": [
       "830"
      ]
     },
     "execution_count": 990,
     "metadata": {},
     "output_type": "execute_result"
    }
   ],
   "source": [
    "len(r)"
   ]
  },
  {
   "cell_type": "code",
   "execution_count": 991,
   "id": "ae9f6672",
   "metadata": {},
   "outputs": [],
   "source": [
    "# Adding the random numbers to the df\n",
    "df_palazzos['random_number'] = r"
   ]
  },
  {
   "cell_type": "code",
   "execution_count": 992,
   "id": "0e01d353",
   "metadata": {},
   "outputs": [
    {
     "data": {
      "text/html": [
       "<div>\n",
       "<style scoped>\n",
       "    .dataframe tbody tr th:only-of-type {\n",
       "        vertical-align: middle;\n",
       "    }\n",
       "\n",
       "    .dataframe tbody tr th {\n",
       "        vertical-align: top;\n",
       "    }\n",
       "\n",
       "    .dataframe thead th {\n",
       "        text-align: right;\n",
       "    }\n",
       "</style>\n",
       "<table border=\"1\" class=\"dataframe\">\n",
       "  <thead>\n",
       "    <tr style=\"text-align: right;\">\n",
       "      <th></th>\n",
       "      <th>files</th>\n",
       "      <th>random_number</th>\n",
       "    </tr>\n",
       "  </thead>\n",
       "  <tbody>\n",
       "    <tr>\n",
       "      <th>0</th>\n",
       "      <td>palazzos/utsavfashion/printed-rayon-kurta-with...</td>\n",
       "      <td>2350</td>\n",
       "    </tr>\n",
       "    <tr>\n",
       "      <th>1</th>\n",
       "      <td>palazzos/utsavfashion/block-printed-cotton-pal...</td>\n",
       "      <td>2339</td>\n",
       "    </tr>\n",
       "    <tr>\n",
       "      <th>2</th>\n",
       "      <td>palazzos/utsavfashion/foil-printed-art-silk-st...</td>\n",
       "      <td>501</td>\n",
       "    </tr>\n",
       "    <tr>\n",
       "      <th>3</th>\n",
       "      <td>palazzos/utsavfashion/thub12.jpg</td>\n",
       "      <td>1806</td>\n",
       "    </tr>\n",
       "    <tr>\n",
       "      <th>4</th>\n",
       "      <td>palazzos/utsavfashion/embroidered-art-silk-kur...</td>\n",
       "      <td>1188</td>\n",
       "    </tr>\n",
       "  </tbody>\n",
       "</table>\n",
       "</div>"
      ],
      "text/plain": [
       "                                               files  random_number\n",
       "0  palazzos/utsavfashion/printed-rayon-kurta-with...           2350\n",
       "1  palazzos/utsavfashion/block-printed-cotton-pal...           2339\n",
       "2  palazzos/utsavfashion/foil-printed-art-silk-st...            501\n",
       "3                   palazzos/utsavfashion/thub12.jpg           1806\n",
       "4  palazzos/utsavfashion/embroidered-art-silk-kur...           1188"
      ]
     },
     "execution_count": 992,
     "metadata": {},
     "output_type": "execute_result"
    }
   ],
   "source": [
    "df_palazzos.head()"
   ]
  },
  {
   "cell_type": "code",
   "execution_count": 993,
   "id": "162fe659",
   "metadata": {},
   "outputs": [],
   "source": [
    "# Sorting the df based on the random numbers to randomize images\n",
    "df_palazzos = df_palazzos.sort_values('random_number')"
   ]
  },
  {
   "cell_type": "code",
   "execution_count": 994,
   "id": "ed5f9173",
   "metadata": {},
   "outputs": [],
   "source": [
    "# Taking only first 500 images\n",
    "df_palazzos = df_palazzos.iloc[:500, :]"
   ]
  },
  {
   "cell_type": "code",
   "execution_count": 995,
   "id": "350878a4",
   "metadata": {},
   "outputs": [
    {
     "data": {
      "text/plain": [
       "500"
      ]
     },
     "execution_count": 995,
     "metadata": {},
     "output_type": "execute_result"
    }
   ],
   "source": [
    "len(df_palazzos)"
   ]
  },
  {
   "cell_type": "code",
   "execution_count": 996,
   "id": "d51dd833",
   "metadata": {
    "scrolled": true
   },
   "outputs": [
    {
     "data": {
      "text/html": [
       "<div>\n",
       "<style scoped>\n",
       "    .dataframe tbody tr th:only-of-type {\n",
       "        vertical-align: middle;\n",
       "    }\n",
       "\n",
       "    .dataframe tbody tr th {\n",
       "        vertical-align: top;\n",
       "    }\n",
       "\n",
       "    .dataframe thead th {\n",
       "        text-align: right;\n",
       "    }\n",
       "</style>\n",
       "<table border=\"1\" class=\"dataframe\">\n",
       "  <thead>\n",
       "    <tr style=\"text-align: right;\">\n",
       "      <th></th>\n",
       "      <th>files</th>\n",
       "      <th>random_number</th>\n",
       "    </tr>\n",
       "  </thead>\n",
       "  <tbody>\n",
       "    <tr>\n",
       "      <th>0</th>\n",
       "      <td>palazzos/amazon.in/51A3+RBuc9L._AC_UL320_.jpg</td>\n",
       "      <td>7</td>\n",
       "    </tr>\n",
       "    <tr>\n",
       "      <th>1</th>\n",
       "      <td>palazzos/amazon.in/61V9e2YxiWL._AC_SR180,120_Q...</td>\n",
       "      <td>16</td>\n",
       "    </tr>\n",
       "    <tr>\n",
       "      <th>2</th>\n",
       "      <td>palazzos/amazon.in/61BQmTBPlSS._AC_UL320_.jpg</td>\n",
       "      <td>18</td>\n",
       "    </tr>\n",
       "    <tr>\n",
       "      <th>3</th>\n",
       "      <td>palazzos/flipkart/32-el-2120-bottom-epilog-ori...</td>\n",
       "      <td>20</td>\n",
       "    </tr>\n",
       "    <tr>\n",
       "      <th>4</th>\n",
       "      <td>palazzos/amazon.in/71H2HQNGOXS._AC_UL320_.jpg</td>\n",
       "      <td>27</td>\n",
       "    </tr>\n",
       "  </tbody>\n",
       "</table>\n",
       "</div>"
      ],
      "text/plain": [
       "                                               files  random_number\n",
       "0      palazzos/amazon.in/51A3+RBuc9L._AC_UL320_.jpg              7\n",
       "1  palazzos/amazon.in/61V9e2YxiWL._AC_SR180,120_Q...             16\n",
       "2      palazzos/amazon.in/61BQmTBPlSS._AC_UL320_.jpg             18\n",
       "3  palazzos/flipkart/32-el-2120-bottom-epilog-ori...             20\n",
       "4      palazzos/amazon.in/71H2HQNGOXS._AC_UL320_.jpg             27"
      ]
     },
     "execution_count": 996,
     "metadata": {},
     "output_type": "execute_result"
    }
   ],
   "source": [
    "df_palazzos.reset_index(drop=True, inplace=True)\n",
    "df_palazzos.head()"
   ]
  },
  {
   "cell_type": "code",
   "execution_count": 997,
   "id": "736f0229",
   "metadata": {},
   "outputs": [],
   "source": [
    "df_palazzos.to_csv('data/external/newly_scraped_images/df_palazzos.csv')"
   ]
  },
  {
   "cell_type": "markdown",
   "id": "0509afc3",
   "metadata": {},
   "source": [
    "### Nehru Jackets"
   ]
  },
  {
   "cell_type": "code",
   "execution_count": 998,
   "id": "6eca647a",
   "metadata": {},
   "outputs": [],
   "source": [
    "# Getting all saved images of Nehru jackets from Flipkart\n",
    "files_fk = glob('data/external/newly_scraped_images/nehru_jackets/flipkart/*.jpeg')"
   ]
  },
  {
   "cell_type": "code",
   "execution_count": 999,
   "id": "e186532d",
   "metadata": {},
   "outputs": [
    {
     "data": {
      "text/plain": [
       "540"
      ]
     },
     "execution_count": 999,
     "metadata": {},
     "output_type": "execute_result"
    }
   ],
   "source": [
    "len(files_fk)"
   ]
  },
  {
   "cell_type": "code",
   "execution_count": 1000,
   "id": "a1868168",
   "metadata": {},
   "outputs": [],
   "source": [
    "# Getting all saved images of Nehru jackets from Karmaplace\n",
    "files_kp = glob('data/external/newly_scraped_images/nehru_jackets/karmaplace/*.jpg')"
   ]
  },
  {
   "cell_type": "code",
   "execution_count": 1001,
   "id": "13b3068e",
   "metadata": {},
   "outputs": [
    {
     "data": {
      "text/plain": [
       "20"
      ]
     },
     "execution_count": 1001,
     "metadata": {},
     "output_type": "execute_result"
    }
   ],
   "source": [
    "len(files_kp)"
   ]
  },
  {
   "cell_type": "code",
   "execution_count": 1002,
   "id": "2e1044f7",
   "metadata": {},
   "outputs": [],
   "source": [
    "# Getting all saved images of Nehru jackets from Utsav Fashion\n",
    "files_uf = glob('data/external/newly_scraped_images/nehru_jackets/utsavfashion/*.jpg')"
   ]
  },
  {
   "cell_type": "code",
   "execution_count": 1003,
   "id": "e6428b39",
   "metadata": {},
   "outputs": [
    {
     "data": {
      "text/plain": [
       "120"
      ]
     },
     "execution_count": 1003,
     "metadata": {},
     "output_type": "execute_result"
    }
   ],
   "source": [
    "len(files_uf)"
   ]
  },
  {
   "cell_type": "markdown",
   "id": "a53f07d2",
   "metadata": {},
   "source": [
    "Want 500 files"
   ]
  },
  {
   "cell_type": "code",
   "execution_count": 1004,
   "id": "7fa9c686",
   "metadata": {},
   "outputs": [],
   "source": [
    "# Making combined list\n",
    "lst = files_uf + files_kp + files_fk"
   ]
  },
  {
   "cell_type": "code",
   "execution_count": 1005,
   "id": "465d22ec",
   "metadata": {},
   "outputs": [],
   "source": [
    "df_nehru_jackets = pd.DataFrame()"
   ]
  },
  {
   "cell_type": "code",
   "execution_count": 1006,
   "id": "571513a0",
   "metadata": {},
   "outputs": [],
   "source": [
    "df_nehru_jackets['files'] = lst"
   ]
  },
  {
   "cell_type": "code",
   "execution_count": 1007,
   "id": "b689976c",
   "metadata": {
    "scrolled": false
   },
   "outputs": [
    {
     "data": {
      "text/html": [
       "<div>\n",
       "<style scoped>\n",
       "    .dataframe tbody tr th:only-of-type {\n",
       "        vertical-align: middle;\n",
       "    }\n",
       "\n",
       "    .dataframe tbody tr th {\n",
       "        vertical-align: top;\n",
       "    }\n",
       "\n",
       "    .dataframe thead th {\n",
       "        text-align: right;\n",
       "    }\n",
       "</style>\n",
       "<table border=\"1\" class=\"dataframe\">\n",
       "  <thead>\n",
       "    <tr style=\"text-align: right;\">\n",
       "      <th></th>\n",
       "      <th>files</th>\n",
       "    </tr>\n",
       "  </thead>\n",
       "  <tbody>\n",
       "    <tr>\n",
       "      <th>0</th>\n",
       "      <td>nehru_jackets/utsavfashion/embroidered-georget...</td>\n",
       "    </tr>\n",
       "    <tr>\n",
       "      <th>1</th>\n",
       "      <td>nehru_jackets/utsavfashion/woven-art-silk-jacq...</td>\n",
       "    </tr>\n",
       "    <tr>\n",
       "      <th>2</th>\n",
       "      <td>nehru_jackets/utsavfashion/brocade-brocade-neh...</td>\n",
       "    </tr>\n",
       "    <tr>\n",
       "      <th>3</th>\n",
       "      <td>nehru_jackets/utsavfashion/digital-printed-cot...</td>\n",
       "    </tr>\n",
       "    <tr>\n",
       "      <th>4</th>\n",
       "      <td>nehru_jackets/utsavfashion/embroidered-art-sil...</td>\n",
       "    </tr>\n",
       "  </tbody>\n",
       "</table>\n",
       "</div>"
      ],
      "text/plain": [
       "                                               files\n",
       "0  nehru_jackets/utsavfashion/embroidered-georget...\n",
       "1  nehru_jackets/utsavfashion/woven-art-silk-jacq...\n",
       "2  nehru_jackets/utsavfashion/brocade-brocade-neh...\n",
       "3  nehru_jackets/utsavfashion/digital-printed-cot...\n",
       "4  nehru_jackets/utsavfashion/embroidered-art-sil..."
      ]
     },
     "execution_count": 1007,
     "metadata": {},
     "output_type": "execute_result"
    }
   ],
   "source": [
    "df_nehru_jackets.head()"
   ]
  },
  {
   "cell_type": "code",
   "execution_count": 1008,
   "id": "61d21a77",
   "metadata": {},
   "outputs": [
    {
     "data": {
      "text/plain": [
       "680"
      ]
     },
     "execution_count": 1008,
     "metadata": {},
     "output_type": "execute_result"
    }
   ],
   "source": [
    "len(df_nehru_jackets)"
   ]
  },
  {
   "cell_type": "code",
   "execution_count": 1009,
   "id": "905f0577",
   "metadata": {},
   "outputs": [],
   "source": [
    "# Making a list of random numbers with the same length as the dataframe.\n",
    "r = list(random.sample(range(0, 5000), 680))"
   ]
  },
  {
   "cell_type": "code",
   "execution_count": 1010,
   "id": "9962afe9",
   "metadata": {},
   "outputs": [
    {
     "data": {
      "text/plain": [
       "680"
      ]
     },
     "execution_count": 1010,
     "metadata": {},
     "output_type": "execute_result"
    }
   ],
   "source": [
    "len(r)"
   ]
  },
  {
   "cell_type": "code",
   "execution_count": null,
   "id": "44fd3c07",
   "metadata": {},
   "outputs": [],
   "source": [
    "# Adding the random numbers to the df\n",
    "df_nehru_jackets['random_number'] = r"
   ]
  },
  {
   "cell_type": "code",
   "execution_count": 1012,
   "id": "a8524104",
   "metadata": {},
   "outputs": [
    {
     "data": {
      "text/html": [
       "<div>\n",
       "<style scoped>\n",
       "    .dataframe tbody tr th:only-of-type {\n",
       "        vertical-align: middle;\n",
       "    }\n",
       "\n",
       "    .dataframe tbody tr th {\n",
       "        vertical-align: top;\n",
       "    }\n",
       "\n",
       "    .dataframe thead th {\n",
       "        text-align: right;\n",
       "    }\n",
       "</style>\n",
       "<table border=\"1\" class=\"dataframe\">\n",
       "  <thead>\n",
       "    <tr style=\"text-align: right;\">\n",
       "      <th></th>\n",
       "      <th>files</th>\n",
       "      <th>random_number</th>\n",
       "    </tr>\n",
       "  </thead>\n",
       "  <tbody>\n",
       "    <tr>\n",
       "      <th>0</th>\n",
       "      <td>nehru_jackets/utsavfashion/embroidered-georget...</td>\n",
       "      <td>1730</td>\n",
       "    </tr>\n",
       "    <tr>\n",
       "      <th>1</th>\n",
       "      <td>nehru_jackets/utsavfashion/woven-art-silk-jacq...</td>\n",
       "      <td>3235</td>\n",
       "    </tr>\n",
       "    <tr>\n",
       "      <th>2</th>\n",
       "      <td>nehru_jackets/utsavfashion/brocade-brocade-neh...</td>\n",
       "      <td>1384</td>\n",
       "    </tr>\n",
       "    <tr>\n",
       "      <th>3</th>\n",
       "      <td>nehru_jackets/utsavfashion/digital-printed-cot...</td>\n",
       "      <td>4609</td>\n",
       "    </tr>\n",
       "    <tr>\n",
       "      <th>4</th>\n",
       "      <td>nehru_jackets/utsavfashion/embroidered-art-sil...</td>\n",
       "      <td>3255</td>\n",
       "    </tr>\n",
       "  </tbody>\n",
       "</table>\n",
       "</div>"
      ],
      "text/plain": [
       "                                               files  random_number\n",
       "0  nehru_jackets/utsavfashion/embroidered-georget...           1730\n",
       "1  nehru_jackets/utsavfashion/woven-art-silk-jacq...           3235\n",
       "2  nehru_jackets/utsavfashion/brocade-brocade-neh...           1384\n",
       "3  nehru_jackets/utsavfashion/digital-printed-cot...           4609\n",
       "4  nehru_jackets/utsavfashion/embroidered-art-sil...           3255"
      ]
     },
     "execution_count": 1012,
     "metadata": {},
     "output_type": "execute_result"
    }
   ],
   "source": [
    "df_nehru_jackets.head()"
   ]
  },
  {
   "cell_type": "code",
   "execution_count": 1013,
   "id": "95763f9c",
   "metadata": {},
   "outputs": [],
   "source": [
    "# Sorting the df based on the random numbers to randomize images\n",
    "df_nehru_jackets = df_nehru_jackets.sort_values('random_number')"
   ]
  },
  {
   "cell_type": "code",
   "execution_count": 1014,
   "id": "9143ce60",
   "metadata": {},
   "outputs": [],
   "source": [
    "# Taking only first 500 images\n",
    "df_nehru_jackets = df_nehru_jackets.iloc[:500, :]"
   ]
  },
  {
   "cell_type": "code",
   "execution_count": 1015,
   "id": "4172d687",
   "metadata": {},
   "outputs": [
    {
     "data": {
      "text/plain": [
       "500"
      ]
     },
     "execution_count": 1015,
     "metadata": {},
     "output_type": "execute_result"
    }
   ],
   "source": [
    "len(df_nehru_jackets)"
   ]
  },
  {
   "cell_type": "code",
   "execution_count": 1016,
   "id": "b6c5236f",
   "metadata": {
    "scrolled": true
   },
   "outputs": [
    {
     "data": {
      "text/html": [
       "<div>\n",
       "<style scoped>\n",
       "    .dataframe tbody tr th:only-of-type {\n",
       "        vertical-align: middle;\n",
       "    }\n",
       "\n",
       "    .dataframe tbody tr th {\n",
       "        vertical-align: top;\n",
       "    }\n",
       "\n",
       "    .dataframe thead th {\n",
       "        text-align: right;\n",
       "    }\n",
       "</style>\n",
       "<table border=\"1\" class=\"dataframe\">\n",
       "  <thead>\n",
       "    <tr style=\"text-align: right;\">\n",
       "      <th></th>\n",
       "      <th>files</th>\n",
       "      <th>random_number</th>\n",
       "    </tr>\n",
       "  </thead>\n",
       "  <tbody>\n",
       "    <tr>\n",
       "      <th>0</th>\n",
       "      <td>nehru_jackets/flipkart/48-nehru-jacket-badoliy...</td>\n",
       "      <td>17</td>\n",
       "    </tr>\n",
       "    <tr>\n",
       "      <th>1</th>\n",
       "      <td>nehru_jackets/flipkart/s-no-jkt-201-cream-male...</td>\n",
       "      <td>18</td>\n",
       "    </tr>\n",
       "    <tr>\n",
       "      <th>2</th>\n",
       "      <td>nehru_jackets/flipkart/xxl-1-no-cmob00969-o6-c...</td>\n",
       "      <td>34</td>\n",
       "    </tr>\n",
       "    <tr>\n",
       "      <th>3</th>\n",
       "      <td>nehru_jackets/flipkart/s-cream-beige-modi-999-...</td>\n",
       "      <td>41</td>\n",
       "    </tr>\n",
       "    <tr>\n",
       "      <th>4</th>\n",
       "      <td>nehru_jackets/flipkart/xl-no-wc-jsl-148-silver...</td>\n",
       "      <td>61</td>\n",
       "    </tr>\n",
       "  </tbody>\n",
       "</table>\n",
       "</div>"
      ],
      "text/plain": [
       "                                               files  random_number\n",
       "0  nehru_jackets/flipkart/48-nehru-jacket-badoliy...             17\n",
       "1  nehru_jackets/flipkart/s-no-jkt-201-cream-male...             18\n",
       "2  nehru_jackets/flipkart/xxl-1-no-cmob00969-o6-c...             34\n",
       "3  nehru_jackets/flipkart/s-cream-beige-modi-999-...             41\n",
       "4  nehru_jackets/flipkart/xl-no-wc-jsl-148-silver...             61"
      ]
     },
     "execution_count": 1016,
     "metadata": {},
     "output_type": "execute_result"
    }
   ],
   "source": [
    "df_nehru_jackets.reset_index(drop=True, inplace=True)\n",
    "df_nehru_jackets.head()"
   ]
  },
  {
   "cell_type": "code",
   "execution_count": 1017,
   "id": "1dddbe5e",
   "metadata": {},
   "outputs": [],
   "source": [
    "df_nehru_jackets.to_csv('data/external/newly_scraped_images/df_nehru_jackets.csv')"
   ]
  },
  {
   "cell_type": "markdown",
   "id": "5993d6a3",
   "metadata": {},
   "source": [
    "### Women's Mojaris"
   ]
  },
  {
   "cell_type": "code",
   "execution_count": 1018,
   "id": "44be2a80",
   "metadata": {},
   "outputs": [],
   "source": [
    "# Getting all saved images of women's mojaris from Flipkart\n",
    "files_fk = glob('data/external/newly_scraped_images/mojaris_women/flipkart/*.jpeg')"
   ]
  },
  {
   "cell_type": "code",
   "execution_count": 1019,
   "id": "9a0eb007",
   "metadata": {},
   "outputs": [
    {
     "data": {
      "text/plain": [
       "475"
      ]
     },
     "execution_count": 1019,
     "metadata": {},
     "output_type": "execute_result"
    }
   ],
   "source": [
    "len(files_fk)"
   ]
  },
  {
   "cell_type": "code",
   "execution_count": 1020,
   "id": "21c6f85d",
   "metadata": {},
   "outputs": [],
   "source": [
    "# Getting all saved images of women's mojaris from Amazon.in\n",
    "files_ai = glob('mojaris_women/amazon.in/*.jpg')"
   ]
  },
  {
   "cell_type": "code",
   "execution_count": 1021,
   "id": "376a345d",
   "metadata": {},
   "outputs": [
    {
     "data": {
      "text/plain": [
       "136"
      ]
     },
     "execution_count": 1021,
     "metadata": {},
     "output_type": "execute_result"
    }
   ],
   "source": [
    "len(files_ai)"
   ]
  },
  {
   "cell_type": "code",
   "execution_count": 1022,
   "id": "1a3a56bf",
   "metadata": {},
   "outputs": [],
   "source": [
    "# Getting all saved images of women's mojaris from Mojari\n",
    "files_mi = glob('data/external/newly_scraped_images/mojaris_women/mojari/*.jpg')"
   ]
  },
  {
   "cell_type": "markdown",
   "id": "522f7e98",
   "metadata": {},
   "source": [
    "Want 500 files"
   ]
  },
  {
   "cell_type": "code",
   "execution_count": 1023,
   "id": "23f1edd7",
   "metadata": {},
   "outputs": [],
   "source": [
    "# Making combined list\n",
    "lst = files_fk + files_ai + files_mi"
   ]
  },
  {
   "cell_type": "code",
   "execution_count": 1024,
   "id": "4092126d",
   "metadata": {},
   "outputs": [],
   "source": [
    "df_mojaris_women = pd.DataFrame()"
   ]
  },
  {
   "cell_type": "code",
   "execution_count": 1025,
   "id": "e719ea7a",
   "metadata": {},
   "outputs": [],
   "source": [
    "df_mojaris_women['files'] = lst"
   ]
  },
  {
   "cell_type": "code",
   "execution_count": 1026,
   "id": "aa163cbc",
   "metadata": {
    "scrolled": false
   },
   "outputs": [
    {
     "data": {
      "text/html": [
       "<div>\n",
       "<style scoped>\n",
       "    .dataframe tbody tr th:only-of-type {\n",
       "        vertical-align: middle;\n",
       "    }\n",
       "\n",
       "    .dataframe tbody tr th {\n",
       "        vertical-align: top;\n",
       "    }\n",
       "\n",
       "    .dataframe thead th {\n",
       "        text-align: right;\n",
       "    }\n",
       "</style>\n",
       "<table border=\"1\" class=\"dataframe\">\n",
       "  <thead>\n",
       "    <tr style=\"text-align: right;\">\n",
       "      <th></th>\n",
       "      <th>files</th>\n",
       "    </tr>\n",
       "  </thead>\n",
       "  <tbody>\n",
       "    <tr>\n",
       "      <th>0</th>\n",
       "      <td>mojaris_women/flipkart/dd015-35-the-desi-dulha...</td>\n",
       "    </tr>\n",
       "    <tr>\n",
       "      <th>1</th>\n",
       "      <td>mojaris_women/flipkart/4-ljt54-4-sdshopping-cr...</td>\n",
       "    </tr>\n",
       "    <tr>\n",
       "      <th>2</th>\n",
       "      <td>mojaris_women/flipkart/6-makkhi-k-white-aissay...</td>\n",
       "    </tr>\n",
       "    <tr>\n",
       "      <th>3</th>\n",
       "      <td>mojaris_women/flipkart/8-dd680-41-the-desi-dul...</td>\n",
       "    </tr>\n",
       "    <tr>\n",
       "      <th>4</th>\n",
       "      <td>mojaris_women/flipkart/dd111-37-the-desi-dulha...</td>\n",
       "    </tr>\n",
       "  </tbody>\n",
       "</table>\n",
       "</div>"
      ],
      "text/plain": [
       "                                               files\n",
       "0  mojaris_women/flipkart/dd015-35-the-desi-dulha...\n",
       "1  mojaris_women/flipkart/4-ljt54-4-sdshopping-cr...\n",
       "2  mojaris_women/flipkart/6-makkhi-k-white-aissay...\n",
       "3  mojaris_women/flipkart/8-dd680-41-the-desi-dul...\n",
       "4  mojaris_women/flipkart/dd111-37-the-desi-dulha..."
      ]
     },
     "execution_count": 1026,
     "metadata": {},
     "output_type": "execute_result"
    }
   ],
   "source": [
    "df_mojaris_women.head()"
   ]
  },
  {
   "cell_type": "code",
   "execution_count": 1027,
   "id": "47800430",
   "metadata": {},
   "outputs": [
    {
     "data": {
      "text/plain": [
       "946"
      ]
     },
     "execution_count": 1027,
     "metadata": {},
     "output_type": "execute_result"
    }
   ],
   "source": [
    "len(df_mojaris_women)"
   ]
  },
  {
   "cell_type": "code",
   "execution_count": 1028,
   "id": "4995b2ac",
   "metadata": {},
   "outputs": [],
   "source": [
    "# Making a list of random numbers with the same length as the dataframe.\n",
    "r = list(random.sample(range(0, 5000), 946))"
   ]
  },
  {
   "cell_type": "code",
   "execution_count": 1029,
   "id": "a61e5f28",
   "metadata": {},
   "outputs": [
    {
     "data": {
      "text/plain": [
       "946"
      ]
     },
     "execution_count": 1029,
     "metadata": {},
     "output_type": "execute_result"
    }
   ],
   "source": [
    "len(r)"
   ]
  },
  {
   "cell_type": "code",
   "execution_count": 1030,
   "id": "f5e95bb2",
   "metadata": {},
   "outputs": [],
   "source": [
    "# Adding the random numbers to the df\n",
    "df_mojaris_women['random_number'] = r"
   ]
  },
  {
   "cell_type": "code",
   "execution_count": 1031,
   "id": "52e986b6",
   "metadata": {},
   "outputs": [
    {
     "data": {
      "text/html": [
       "<div>\n",
       "<style scoped>\n",
       "    .dataframe tbody tr th:only-of-type {\n",
       "        vertical-align: middle;\n",
       "    }\n",
       "\n",
       "    .dataframe tbody tr th {\n",
       "        vertical-align: top;\n",
       "    }\n",
       "\n",
       "    .dataframe thead th {\n",
       "        text-align: right;\n",
       "    }\n",
       "</style>\n",
       "<table border=\"1\" class=\"dataframe\">\n",
       "  <thead>\n",
       "    <tr style=\"text-align: right;\">\n",
       "      <th></th>\n",
       "      <th>files</th>\n",
       "      <th>random_number</th>\n",
       "    </tr>\n",
       "  </thead>\n",
       "  <tbody>\n",
       "    <tr>\n",
       "      <th>0</th>\n",
       "      <td>mojaris_women/flipkart/dd015-35-the-desi-dulha...</td>\n",
       "      <td>3161</td>\n",
       "    </tr>\n",
       "    <tr>\n",
       "      <th>1</th>\n",
       "      <td>mojaris_women/flipkart/4-ljt54-4-sdshopping-cr...</td>\n",
       "      <td>1604</td>\n",
       "    </tr>\n",
       "    <tr>\n",
       "      <th>2</th>\n",
       "      <td>mojaris_women/flipkart/6-makkhi-k-white-aissay...</td>\n",
       "      <td>4934</td>\n",
       "    </tr>\n",
       "    <tr>\n",
       "      <th>3</th>\n",
       "      <td>mojaris_women/flipkart/8-dd680-41-the-desi-dul...</td>\n",
       "      <td>2620</td>\n",
       "    </tr>\n",
       "    <tr>\n",
       "      <th>4</th>\n",
       "      <td>mojaris_women/flipkart/dd111-37-the-desi-dulha...</td>\n",
       "      <td>74</td>\n",
       "    </tr>\n",
       "  </tbody>\n",
       "</table>\n",
       "</div>"
      ],
      "text/plain": [
       "                                               files  random_number\n",
       "0  mojaris_women/flipkart/dd015-35-the-desi-dulha...           3161\n",
       "1  mojaris_women/flipkart/4-ljt54-4-sdshopping-cr...           1604\n",
       "2  mojaris_women/flipkart/6-makkhi-k-white-aissay...           4934\n",
       "3  mojaris_women/flipkart/8-dd680-41-the-desi-dul...           2620\n",
       "4  mojaris_women/flipkart/dd111-37-the-desi-dulha...             74"
      ]
     },
     "execution_count": 1031,
     "metadata": {},
     "output_type": "execute_result"
    }
   ],
   "source": [
    "df_mojaris_women.head()"
   ]
  },
  {
   "cell_type": "code",
   "execution_count": 1032,
   "id": "e129487d",
   "metadata": {},
   "outputs": [],
   "source": [
    "# Sorting the df based on the random numbers to randomize images\n",
    "df_mojaris_women = df_mojaris_women.sort_values('random_number')"
   ]
  },
  {
   "cell_type": "code",
   "execution_count": 1033,
   "id": "62c50c2c",
   "metadata": {},
   "outputs": [],
   "source": [
    "# Taking only first 500 images\n",
    "df_mojaris_women = df_mojaris_women.iloc[:500, :]"
   ]
  },
  {
   "cell_type": "code",
   "execution_count": 1034,
   "id": "c4be6468",
   "metadata": {},
   "outputs": [
    {
     "data": {
      "text/plain": [
       "500"
      ]
     },
     "execution_count": 1034,
     "metadata": {},
     "output_type": "execute_result"
    }
   ],
   "source": [
    "len(df_mojaris_women)"
   ]
  },
  {
   "cell_type": "code",
   "execution_count": 1035,
   "id": "62852b95",
   "metadata": {
    "scrolled": false
   },
   "outputs": [
    {
     "data": {
      "text/html": [
       "<div>\n",
       "<style scoped>\n",
       "    .dataframe tbody tr th:only-of-type {\n",
       "        vertical-align: middle;\n",
       "    }\n",
       "\n",
       "    .dataframe tbody tr th {\n",
       "        vertical-align: top;\n",
       "    }\n",
       "\n",
       "    .dataframe thead th {\n",
       "        text-align: right;\n",
       "    }\n",
       "</style>\n",
       "<table border=\"1\" class=\"dataframe\">\n",
       "  <thead>\n",
       "    <tr style=\"text-align: right;\">\n",
       "      <th></th>\n",
       "      <th>files</th>\n",
       "      <th>random_number</th>\n",
       "    </tr>\n",
       "  </thead>\n",
       "  <tbody>\n",
       "    <tr>\n",
       "      <th>0</th>\n",
       "      <td>mojaris_women/mojari/SS-1320Maroon_jpg_533x.jpg</td>\n",
       "      <td>10</td>\n",
       "    </tr>\n",
       "    <tr>\n",
       "      <th>1</th>\n",
       "      <td>mojaris_women/amazon.in/612Ar2Ct9-L._AC_UL320_...</td>\n",
       "      <td>13</td>\n",
       "    </tr>\n",
       "    <tr>\n",
       "      <th>2</th>\n",
       "      <td>mojaris_women/mojari/SS-2035Maroon_jpg_533x.jpg</td>\n",
       "      <td>14</td>\n",
       "    </tr>\n",
       "    <tr>\n",
       "      <th>3</th>\n",
       "      <td>mojaris_women/flipkart/8-indian-handicraft-syn...</td>\n",
       "      <td>26</td>\n",
       "    </tr>\n",
       "    <tr>\n",
       "      <th>4</th>\n",
       "      <td>mojaris_women/flipkart/5-dc2007-38-desicolour-...</td>\n",
       "      <td>29</td>\n",
       "    </tr>\n",
       "  </tbody>\n",
       "</table>\n",
       "</div>"
      ],
      "text/plain": [
       "                                               files  random_number\n",
       "0    mojaris_women/mojari/SS-1320Maroon_jpg_533x.jpg             10\n",
       "1  mojaris_women/amazon.in/612Ar2Ct9-L._AC_UL320_...             13\n",
       "2    mojaris_women/mojari/SS-2035Maroon_jpg_533x.jpg             14\n",
       "3  mojaris_women/flipkart/8-indian-handicraft-syn...             26\n",
       "4  mojaris_women/flipkart/5-dc2007-38-desicolour-...             29"
      ]
     },
     "execution_count": 1035,
     "metadata": {},
     "output_type": "execute_result"
    }
   ],
   "source": [
    "df_mojaris_women.reset_index(drop=True, inplace=True)\n",
    "df_mojaris_women.head()"
   ]
  },
  {
   "cell_type": "code",
   "execution_count": 1036,
   "id": "e372f1f4",
   "metadata": {},
   "outputs": [],
   "source": [
    "df_mojaris_women.to_csv('data/external/newly_scraped_images/df_mojaris_women.csv')"
   ]
  },
  {
   "cell_type": "markdown",
   "id": "87ddf689",
   "metadata": {},
   "source": [
    "### Men's Mojaris"
   ]
  },
  {
   "cell_type": "code",
   "execution_count": 1037,
   "id": "651483d3",
   "metadata": {},
   "outputs": [],
   "source": [
    "# Getting all saved images of men's mojaris from Flipkart\n",
    "files_fk = glob('data/external/newly_scraped_images/mojaris_men/flipkart/*.jpeg')"
   ]
  },
  {
   "cell_type": "code",
   "execution_count": 1038,
   "id": "b1e00566",
   "metadata": {},
   "outputs": [
    {
     "data": {
      "text/plain": [
       "491"
      ]
     },
     "execution_count": 1038,
     "metadata": {},
     "output_type": "execute_result"
    }
   ],
   "source": [
    "len(files_fk)"
   ]
  },
  {
   "cell_type": "code",
   "execution_count": 1039,
   "id": "f23cf722",
   "metadata": {},
   "outputs": [],
   "source": [
    "# Getting all saved images of men's mojaris from Amazon.in\n",
    "files_ai = glob('data/external/newly_scraped_images/mojaris_men/amazon.in/*.jpg')"
   ]
  },
  {
   "cell_type": "code",
   "execution_count": 1040,
   "id": "966874bc",
   "metadata": {},
   "outputs": [
    {
     "data": {
      "text/plain": [
       "203"
      ]
     },
     "execution_count": 1040,
     "metadata": {},
     "output_type": "execute_result"
    }
   ],
   "source": [
    "len(files_ai)"
   ]
  },
  {
   "cell_type": "code",
   "execution_count": 1041,
   "id": "ddfc8f9a",
   "metadata": {},
   "outputs": [],
   "source": [
    "# Getting all saved images of men's mojaris from Rajwadi\n",
    "files_ri = glob('data/external/newly_scraped_images/mojaris_men/rajwadi/*.jpg')"
   ]
  },
  {
   "cell_type": "markdown",
   "id": "eae6dccf",
   "metadata": {},
   "source": [
    "Want 500 files"
   ]
  },
  {
   "cell_type": "code",
   "execution_count": 1042,
   "id": "9be00b4b",
   "metadata": {},
   "outputs": [],
   "source": [
    "# Making combined list\n",
    "lst = files_ai + files_fk + files_ri"
   ]
  },
  {
   "cell_type": "code",
   "execution_count": 1043,
   "id": "e33ce95f",
   "metadata": {},
   "outputs": [],
   "source": [
    "df_mojaris_men = pd.DataFrame()"
   ]
  },
  {
   "cell_type": "code",
   "execution_count": 1044,
   "id": "1b6aa4f4",
   "metadata": {},
   "outputs": [],
   "source": [
    "df_mojaris_men['files'] = lst"
   ]
  },
  {
   "cell_type": "code",
   "execution_count": 1045,
   "id": "196abe36",
   "metadata": {
    "scrolled": false
   },
   "outputs": [
    {
     "data": {
      "text/html": [
       "<div>\n",
       "<style scoped>\n",
       "    .dataframe tbody tr th:only-of-type {\n",
       "        vertical-align: middle;\n",
       "    }\n",
       "\n",
       "    .dataframe tbody tr th {\n",
       "        vertical-align: top;\n",
       "    }\n",
       "\n",
       "    .dataframe thead th {\n",
       "        text-align: right;\n",
       "    }\n",
       "</style>\n",
       "<table border=\"1\" class=\"dataframe\">\n",
       "  <thead>\n",
       "    <tr style=\"text-align: right;\">\n",
       "      <th></th>\n",
       "      <th>files</th>\n",
       "    </tr>\n",
       "  </thead>\n",
       "  <tbody>\n",
       "    <tr>\n",
       "      <th>0</th>\n",
       "      <td>mojaris_men/amazon.in/61GVo6+OdoL._AC_UF264,32...</td>\n",
       "    </tr>\n",
       "    <tr>\n",
       "      <th>1</th>\n",
       "      <td>mojaris_men/amazon.in/61z0M0UDG0L._AC_UF264,32...</td>\n",
       "    </tr>\n",
       "    <tr>\n",
       "      <th>2</th>\n",
       "      <td>mojaris_men/amazon.in/711V72jOSZL._AC_UF264,32...</td>\n",
       "    </tr>\n",
       "    <tr>\n",
       "      <th>3</th>\n",
       "      <td>mojaris_men/amazon.in/41I5gvBh7-L._AC_UL320_.jpg</td>\n",
       "    </tr>\n",
       "    <tr>\n",
       "      <th>4</th>\n",
       "      <td>mojaris_men/amazon.in/61KOjyXUqdL._AC_SR160,13...</td>\n",
       "    </tr>\n",
       "  </tbody>\n",
       "</table>\n",
       "</div>"
      ],
      "text/plain": [
       "                                               files\n",
       "0  mojaris_men/amazon.in/61GVo6+OdoL._AC_UF264,32...\n",
       "1  mojaris_men/amazon.in/61z0M0UDG0L._AC_UF264,32...\n",
       "2  mojaris_men/amazon.in/711V72jOSZL._AC_UF264,32...\n",
       "3   mojaris_men/amazon.in/41I5gvBh7-L._AC_UL320_.jpg\n",
       "4  mojaris_men/amazon.in/61KOjyXUqdL._AC_SR160,13..."
      ]
     },
     "execution_count": 1045,
     "metadata": {},
     "output_type": "execute_result"
    }
   ],
   "source": [
    "df_mojaris_men.head()"
   ]
  },
  {
   "cell_type": "code",
   "execution_count": 1046,
   "id": "b9f6580d",
   "metadata": {},
   "outputs": [
    {
     "data": {
      "text/plain": [
       "725"
      ]
     },
     "execution_count": 1046,
     "metadata": {},
     "output_type": "execute_result"
    }
   ],
   "source": [
    "len(df_mojaris_men)"
   ]
  },
  {
   "cell_type": "code",
   "execution_count": 1047,
   "id": "cd2f886f",
   "metadata": {},
   "outputs": [],
   "source": [
    "# Making a list of random numbers with the same length as the dataframe\n",
    "r = list(random.sample(range(0, 5000), 725))"
   ]
  },
  {
   "cell_type": "code",
   "execution_count": 1048,
   "id": "9da3ee51",
   "metadata": {},
   "outputs": [
    {
     "data": {
      "text/plain": [
       "725"
      ]
     },
     "execution_count": 1048,
     "metadata": {},
     "output_type": "execute_result"
    }
   ],
   "source": [
    "len(r)"
   ]
  },
  {
   "cell_type": "code",
   "execution_count": 1049,
   "id": "81be6093",
   "metadata": {},
   "outputs": [],
   "source": [
    "# Adding the random numbers to the df\n",
    "df_mojaris_men['random_number'] = r"
   ]
  },
  {
   "cell_type": "code",
   "execution_count": 1050,
   "id": "233816e5",
   "metadata": {},
   "outputs": [
    {
     "data": {
      "text/html": [
       "<div>\n",
       "<style scoped>\n",
       "    .dataframe tbody tr th:only-of-type {\n",
       "        vertical-align: middle;\n",
       "    }\n",
       "\n",
       "    .dataframe tbody tr th {\n",
       "        vertical-align: top;\n",
       "    }\n",
       "\n",
       "    .dataframe thead th {\n",
       "        text-align: right;\n",
       "    }\n",
       "</style>\n",
       "<table border=\"1\" class=\"dataframe\">\n",
       "  <thead>\n",
       "    <tr style=\"text-align: right;\">\n",
       "      <th></th>\n",
       "      <th>files</th>\n",
       "      <th>random_number</th>\n",
       "    </tr>\n",
       "  </thead>\n",
       "  <tbody>\n",
       "    <tr>\n",
       "      <th>0</th>\n",
       "      <td>mojaris_men/amazon.in/61GVo6+OdoL._AC_UF264,32...</td>\n",
       "      <td>2483</td>\n",
       "    </tr>\n",
       "    <tr>\n",
       "      <th>1</th>\n",
       "      <td>mojaris_men/amazon.in/61z0M0UDG0L._AC_UF264,32...</td>\n",
       "      <td>1388</td>\n",
       "    </tr>\n",
       "    <tr>\n",
       "      <th>2</th>\n",
       "      <td>mojaris_men/amazon.in/711V72jOSZL._AC_UF264,32...</td>\n",
       "      <td>4015</td>\n",
       "    </tr>\n",
       "    <tr>\n",
       "      <th>3</th>\n",
       "      <td>mojaris_men/amazon.in/41I5gvBh7-L._AC_UL320_.jpg</td>\n",
       "      <td>2758</td>\n",
       "    </tr>\n",
       "    <tr>\n",
       "      <th>4</th>\n",
       "      <td>mojaris_men/amazon.in/61KOjyXUqdL._AC_SR160,13...</td>\n",
       "      <td>3745</td>\n",
       "    </tr>\n",
       "  </tbody>\n",
       "</table>\n",
       "</div>"
      ],
      "text/plain": [
       "                                               files  random_number\n",
       "0  mojaris_men/amazon.in/61GVo6+OdoL._AC_UF264,32...           2483\n",
       "1  mojaris_men/amazon.in/61z0M0UDG0L._AC_UF264,32...           1388\n",
       "2  mojaris_men/amazon.in/711V72jOSZL._AC_UF264,32...           4015\n",
       "3   mojaris_men/amazon.in/41I5gvBh7-L._AC_UL320_.jpg           2758\n",
       "4  mojaris_men/amazon.in/61KOjyXUqdL._AC_SR160,13...           3745"
      ]
     },
     "execution_count": 1050,
     "metadata": {},
     "output_type": "execute_result"
    }
   ],
   "source": [
    "df_mojaris_men.head()"
   ]
  },
  {
   "cell_type": "code",
   "execution_count": 1051,
   "id": "fc17c336",
   "metadata": {},
   "outputs": [],
   "source": [
    "# Sorting the df based on the random numbers to randomize images\n",
    "df_mojaris_men = df_mojaris_men.sort_values('random_number')"
   ]
  },
  {
   "cell_type": "code",
   "execution_count": 1052,
   "id": "0f04d5e0",
   "metadata": {},
   "outputs": [],
   "source": [
    "# Taking only first 500 images\n",
    "df_mojaris_men = df_mojaris_men.iloc[:500, :]"
   ]
  },
  {
   "cell_type": "code",
   "execution_count": 1053,
   "id": "d0b60667",
   "metadata": {
    "scrolled": true
   },
   "outputs": [
    {
     "data": {
      "text/html": [
       "<div>\n",
       "<style scoped>\n",
       "    .dataframe tbody tr th:only-of-type {\n",
       "        vertical-align: middle;\n",
       "    }\n",
       "\n",
       "    .dataframe tbody tr th {\n",
       "        vertical-align: top;\n",
       "    }\n",
       "\n",
       "    .dataframe thead th {\n",
       "        text-align: right;\n",
       "    }\n",
       "</style>\n",
       "<table border=\"1\" class=\"dataframe\">\n",
       "  <thead>\n",
       "    <tr style=\"text-align: right;\">\n",
       "      <th></th>\n",
       "      <th>files</th>\n",
       "      <th>random_number</th>\n",
       "    </tr>\n",
       "  </thead>\n",
       "  <tbody>\n",
       "    <tr>\n",
       "      <th>0</th>\n",
       "      <td>mojaris_men/flipkart/11-plain-j7-maroon-royal-...</td>\n",
       "      <td>3</td>\n",
       "    </tr>\n",
       "    <tr>\n",
       "      <th>1</th>\n",
       "      <td>mojaris_men/amazon.in/51cJzrSMKaL._AC_UL320_.jpg</td>\n",
       "      <td>7</td>\n",
       "    </tr>\n",
       "    <tr>\n",
       "      <th>2</th>\n",
       "      <td>mojaris_men/flipkart/10-anmpvl-007-brown-10-an...</td>\n",
       "      <td>10</td>\n",
       "    </tr>\n",
       "    <tr>\n",
       "      <th>3</th>\n",
       "      <td>mojaris_men/rajwadi/brocade-silk-groom-wear-mo...</td>\n",
       "      <td>16</td>\n",
       "    </tr>\n",
       "    <tr>\n",
       "      <th>4</th>\n",
       "      <td>mojaris_men/flipkart/550yuv-8-yuvrato-baxi-red...</td>\n",
       "      <td>33</td>\n",
       "    </tr>\n",
       "  </tbody>\n",
       "</table>\n",
       "</div>"
      ],
      "text/plain": [
       "                                               files  random_number\n",
       "0  mojaris_men/flipkart/11-plain-j7-maroon-royal-...              3\n",
       "1   mojaris_men/amazon.in/51cJzrSMKaL._AC_UL320_.jpg              7\n",
       "2  mojaris_men/flipkart/10-anmpvl-007-brown-10-an...             10\n",
       "3  mojaris_men/rajwadi/brocade-silk-groom-wear-mo...             16\n",
       "4  mojaris_men/flipkart/550yuv-8-yuvrato-baxi-red...             33"
      ]
     },
     "execution_count": 1053,
     "metadata": {},
     "output_type": "execute_result"
    }
   ],
   "source": [
    "df_mojaris_men.reset_index(drop=True, inplace=True)\n",
    "df_mojaris_men.head()"
   ]
  },
  {
   "cell_type": "code",
   "execution_count": 1054,
   "id": "4e29a5ad",
   "metadata": {},
   "outputs": [],
   "source": [
    "df_mojaris_men.to_csv('data/external/newly_scraped_images/df_mojaris_men.csv')"
   ]
  },
  {
   "cell_type": "markdown",
   "id": "b0b92fed",
   "metadata": {},
   "source": [
    "### Men's Kurtas"
   ]
  },
  {
   "cell_type": "code",
   "execution_count": 1055,
   "id": "5ede755a",
   "metadata": {},
   "outputs": [],
   "source": [
    "# Getting all saved images of men's kurtas from Flipkart\n",
    "files_fk = glob('data/external/newly_scraped_images/kurta_men/flipkart/*.jpeg')"
   ]
  },
  {
   "cell_type": "code",
   "execution_count": 1056,
   "id": "6f6ffe52",
   "metadata": {},
   "outputs": [
    {
     "data": {
      "text/plain": [
       "542"
      ]
     },
     "execution_count": 1056,
     "metadata": {},
     "output_type": "execute_result"
    }
   ],
   "source": [
    "len(files_fk)"
   ]
  },
  {
   "cell_type": "code",
   "execution_count": 1057,
   "id": "6a8f7f09",
   "metadata": {},
   "outputs": [],
   "source": [
    "# Getting all saved images of men's kurtas from Karmaplace\n",
    "files_kp = glob('data/external/newly_scraped_images/kurta_men/karmaplace/*.jpg')"
   ]
  },
  {
   "cell_type": "code",
   "execution_count": 1058,
   "id": "7da29616",
   "metadata": {},
   "outputs": [
    {
     "data": {
      "text/plain": [
       "534"
      ]
     },
     "execution_count": 1058,
     "metadata": {},
     "output_type": "execute_result"
    }
   ],
   "source": [
    "len(files_kp)"
   ]
  },
  {
   "cell_type": "markdown",
   "id": "0fb36dd1",
   "metadata": {},
   "source": [
    "Want 500 files"
   ]
  },
  {
   "cell_type": "code",
   "execution_count": 1059,
   "id": "c051aa54",
   "metadata": {},
   "outputs": [],
   "source": [
    "# Making combined list\n",
    "lst = files_kp + files_fk"
   ]
  },
  {
   "cell_type": "code",
   "execution_count": 1060,
   "id": "a533d7e7",
   "metadata": {},
   "outputs": [],
   "source": [
    "df_kurta_men = pd.DataFrame()"
   ]
  },
  {
   "cell_type": "code",
   "execution_count": 1061,
   "id": "8f64700f",
   "metadata": {},
   "outputs": [],
   "source": [
    "df_kurta_men['files'] = lst"
   ]
  },
  {
   "cell_type": "code",
   "execution_count": 1062,
   "id": "dfb86f12",
   "metadata": {
    "scrolled": false
   },
   "outputs": [
    {
     "data": {
      "text/html": [
       "<div>\n",
       "<style scoped>\n",
       "    .dataframe tbody tr th:only-of-type {\n",
       "        vertical-align: middle;\n",
       "    }\n",
       "\n",
       "    .dataframe tbody tr th {\n",
       "        vertical-align: top;\n",
       "    }\n",
       "\n",
       "    .dataframe thead th {\n",
       "        text-align: right;\n",
       "    }\n",
       "</style>\n",
       "<table border=\"1\" class=\"dataframe\">\n",
       "  <thead>\n",
       "    <tr style=\"text-align: right;\">\n",
       "      <th></th>\n",
       "      <th>files</th>\n",
       "    </tr>\n",
       "  </thead>\n",
       "  <tbody>\n",
       "    <tr>\n",
       "      <th>0</th>\n",
       "      <td>kurta_men/karmaplace/VPLUSMKPV001GN-1_512x769.jpg</td>\n",
       "    </tr>\n",
       "    <tr>\n",
       "      <th>1</th>\n",
       "      <td>kurta_men/karmaplace/LK-STR1215-BKC-1_512x769.jpg</td>\n",
       "    </tr>\n",
       "    <tr>\n",
       "      <th>2</th>\n",
       "      <td>kurta_men/karmaplace/LK-MMS755-MR0C_512x769.jpg</td>\n",
       "    </tr>\n",
       "    <tr>\n",
       "      <th>3</th>\n",
       "      <td>kurta_men/karmaplace/1_6d1c15cf-20e6-46fb-9990...</td>\n",
       "    </tr>\n",
       "    <tr>\n",
       "      <th>4</th>\n",
       "      <td>kurta_men/karmaplace/VSHRMK136GY-3_512x769.jpg</td>\n",
       "    </tr>\n",
       "  </tbody>\n",
       "</table>\n",
       "</div>"
      ],
      "text/plain": [
       "                                               files\n",
       "0  kurta_men/karmaplace/VPLUSMKPV001GN-1_512x769.jpg\n",
       "1  kurta_men/karmaplace/LK-STR1215-BKC-1_512x769.jpg\n",
       "2    kurta_men/karmaplace/LK-MMS755-MR0C_512x769.jpg\n",
       "3  kurta_men/karmaplace/1_6d1c15cf-20e6-46fb-9990...\n",
       "4     kurta_men/karmaplace/VSHRMK136GY-3_512x769.jpg"
      ]
     },
     "execution_count": 1062,
     "metadata": {},
     "output_type": "execute_result"
    }
   ],
   "source": [
    "df_kurta_men.head()"
   ]
  },
  {
   "cell_type": "code",
   "execution_count": 1063,
   "id": "66d51539",
   "metadata": {},
   "outputs": [
    {
     "data": {
      "text/plain": [
       "1076"
      ]
     },
     "execution_count": 1063,
     "metadata": {},
     "output_type": "execute_result"
    }
   ],
   "source": [
    "len(df_kurta_men)"
   ]
  },
  {
   "cell_type": "code",
   "execution_count": 1064,
   "id": "92a97e22",
   "metadata": {},
   "outputs": [],
   "source": [
    "# Making a list of random numbers with the same length as the dataframe.\n",
    "r = list(random.sample(range(0, 5000), 1076))"
   ]
  },
  {
   "cell_type": "code",
   "execution_count": 1065,
   "id": "c979d8fc",
   "metadata": {},
   "outputs": [
    {
     "data": {
      "text/plain": [
       "1076"
      ]
     },
     "execution_count": 1065,
     "metadata": {},
     "output_type": "execute_result"
    }
   ],
   "source": [
    "len(r)"
   ]
  },
  {
   "cell_type": "code",
   "execution_count": 1066,
   "id": "28d7758b",
   "metadata": {},
   "outputs": [],
   "source": [
    "# Adding the random numbers to the df\n",
    "df_kurta_men['random_number'] = r"
   ]
  },
  {
   "cell_type": "code",
   "execution_count": 1067,
   "id": "ed98ded9",
   "metadata": {},
   "outputs": [
    {
     "data": {
      "text/html": [
       "<div>\n",
       "<style scoped>\n",
       "    .dataframe tbody tr th:only-of-type {\n",
       "        vertical-align: middle;\n",
       "    }\n",
       "\n",
       "    .dataframe tbody tr th {\n",
       "        vertical-align: top;\n",
       "    }\n",
       "\n",
       "    .dataframe thead th {\n",
       "        text-align: right;\n",
       "    }\n",
       "</style>\n",
       "<table border=\"1\" class=\"dataframe\">\n",
       "  <thead>\n",
       "    <tr style=\"text-align: right;\">\n",
       "      <th></th>\n",
       "      <th>files</th>\n",
       "      <th>random_number</th>\n",
       "    </tr>\n",
       "  </thead>\n",
       "  <tbody>\n",
       "    <tr>\n",
       "      <th>0</th>\n",
       "      <td>kurta_men/karmaplace/VPLUSMKPV001GN-1_512x769.jpg</td>\n",
       "      <td>4544</td>\n",
       "    </tr>\n",
       "    <tr>\n",
       "      <th>1</th>\n",
       "      <td>kurta_men/karmaplace/LK-STR1215-BKC-1_512x769.jpg</td>\n",
       "      <td>2362</td>\n",
       "    </tr>\n",
       "    <tr>\n",
       "      <th>2</th>\n",
       "      <td>kurta_men/karmaplace/LK-MMS755-MR0C_512x769.jpg</td>\n",
       "      <td>4470</td>\n",
       "    </tr>\n",
       "    <tr>\n",
       "      <th>3</th>\n",
       "      <td>kurta_men/karmaplace/1_6d1c15cf-20e6-46fb-9990...</td>\n",
       "      <td>1432</td>\n",
       "    </tr>\n",
       "    <tr>\n",
       "      <th>4</th>\n",
       "      <td>kurta_men/karmaplace/VSHRMK136GY-3_512x769.jpg</td>\n",
       "      <td>3906</td>\n",
       "    </tr>\n",
       "  </tbody>\n",
       "</table>\n",
       "</div>"
      ],
      "text/plain": [
       "                                               files  random_number\n",
       "0  kurta_men/karmaplace/VPLUSMKPV001GN-1_512x769.jpg           4544\n",
       "1  kurta_men/karmaplace/LK-STR1215-BKC-1_512x769.jpg           2362\n",
       "2    kurta_men/karmaplace/LK-MMS755-MR0C_512x769.jpg           4470\n",
       "3  kurta_men/karmaplace/1_6d1c15cf-20e6-46fb-9990...           1432\n",
       "4     kurta_men/karmaplace/VSHRMK136GY-3_512x769.jpg           3906"
      ]
     },
     "execution_count": 1067,
     "metadata": {},
     "output_type": "execute_result"
    }
   ],
   "source": [
    "df_kurta_men.head()"
   ]
  },
  {
   "cell_type": "code",
   "execution_count": 1068,
   "id": "ae0f4739",
   "metadata": {},
   "outputs": [],
   "source": [
    "# Sorting the df based on the random numbers to randomize images\n",
    "df_kurta_men = df_kurta_men.sort_values('random_number')"
   ]
  },
  {
   "cell_type": "code",
   "execution_count": 1069,
   "id": "ee6888b5",
   "metadata": {},
   "outputs": [],
   "source": [
    "# Taking only first 500 images\n",
    "df_kurta_men = df_kurta_men.iloc[:500, :]"
   ]
  },
  {
   "cell_type": "code",
   "execution_count": 1070,
   "id": "33b7de9a",
   "metadata": {},
   "outputs": [
    {
     "data": {
      "text/plain": [
       "500"
      ]
     },
     "execution_count": 1070,
     "metadata": {},
     "output_type": "execute_result"
    }
   ],
   "source": [
    "len(df_kurta_men)"
   ]
  },
  {
   "cell_type": "code",
   "execution_count": 1071,
   "id": "07e3abf2",
   "metadata": {
    "scrolled": false
   },
   "outputs": [
    {
     "data": {
      "text/html": [
       "<div>\n",
       "<style scoped>\n",
       "    .dataframe tbody tr th:only-of-type {\n",
       "        vertical-align: middle;\n",
       "    }\n",
       "\n",
       "    .dataframe tbody tr th {\n",
       "        vertical-align: top;\n",
       "    }\n",
       "\n",
       "    .dataframe thead th {\n",
       "        text-align: right;\n",
       "    }\n",
       "</style>\n",
       "<table border=\"1\" class=\"dataframe\">\n",
       "  <thead>\n",
       "    <tr style=\"text-align: right;\">\n",
       "      <th></th>\n",
       "      <th>files</th>\n",
       "      <th>random_number</th>\n",
       "    </tr>\n",
       "  </thead>\n",
       "  <tbody>\n",
       "    <tr>\n",
       "      <th>0</th>\n",
       "      <td>kurta_men/karmaplace/VPLUSMK007BUnPCWH-2_512x7...</td>\n",
       "      <td>0</td>\n",
       "    </tr>\n",
       "    <tr>\n",
       "      <th>1</th>\n",
       "      <td>kurta_men/karmaplace/VASMK007PN_512x769.jpg</td>\n",
       "      <td>4</td>\n",
       "    </tr>\n",
       "    <tr>\n",
       "      <th>2</th>\n",
       "      <td>kurta_men/karmaplace/LPP-MMS1101-BKC-2_512x769...</td>\n",
       "      <td>7</td>\n",
       "    </tr>\n",
       "    <tr>\n",
       "      <th>3</th>\n",
       "      <td>kurta_men/flipkart/s-ic-shk4f-indiclub-origina...</td>\n",
       "      <td>10</td>\n",
       "    </tr>\n",
       "    <tr>\n",
       "      <th>4</th>\n",
       "      <td>kurta_men/flipkart/s-rblue-haldi-latest-one-ti...</td>\n",
       "      <td>14</td>\n",
       "    </tr>\n",
       "  </tbody>\n",
       "</table>\n",
       "</div>"
      ],
      "text/plain": [
       "                                               files  random_number\n",
       "0  kurta_men/karmaplace/VPLUSMK007BUnPCWH-2_512x7...              0\n",
       "1        kurta_men/karmaplace/VASMK007PN_512x769.jpg              4\n",
       "2  kurta_men/karmaplace/LPP-MMS1101-BKC-2_512x769...              7\n",
       "3  kurta_men/flipkart/s-ic-shk4f-indiclub-origina...             10\n",
       "4  kurta_men/flipkart/s-rblue-haldi-latest-one-ti...             14"
      ]
     },
     "execution_count": 1071,
     "metadata": {},
     "output_type": "execute_result"
    }
   ],
   "source": [
    "df_kurta_men.reset_index(drop=True, inplace=True)\n",
    "df_kurta_men.head()"
   ]
  },
  {
   "cell_type": "code",
   "execution_count": 1072,
   "id": "afffea2e",
   "metadata": {},
   "outputs": [],
   "source": [
    "df_kurta_men.to_csv('data/external/newly_scraped_images/df_kurta_men.csv')"
   ]
  },
  {
   "cell_type": "markdown",
   "id": "bd7e4f20",
   "metadata": {},
   "source": [
    "### Lehenga"
   ]
  },
  {
   "cell_type": "code",
   "execution_count": 1073,
   "id": "3684181d",
   "metadata": {},
   "outputs": [],
   "source": [
    "# Getting all saved images of lehenga from Flipkart\n",
    "files_fk = glob('data/external/newly_scraped_images/lehenga/flipkart/*.jpeg')"
   ]
  },
  {
   "cell_type": "code",
   "execution_count": 1074,
   "id": "eb0df25e",
   "metadata": {},
   "outputs": [
    {
     "data": {
      "text/plain": [
       "557"
      ]
     },
     "execution_count": 1074,
     "metadata": {},
     "output_type": "execute_result"
    }
   ],
   "source": [
    "len(files_fk)"
   ]
  },
  {
   "cell_type": "code",
   "execution_count": 1075,
   "id": "52b0de67",
   "metadata": {},
   "outputs": [],
   "source": [
    "# Getting all saved images of lehenga from Utsav Fashion\n",
    "files_uf = glob('data/external/newly_scraped_images/lehenga/utsavfashion/*.jpg')"
   ]
  },
  {
   "cell_type": "code",
   "execution_count": 1076,
   "id": "9a7e5cf9",
   "metadata": {},
   "outputs": [
    {
     "data": {
      "text/plain": [
       "292"
      ]
     },
     "execution_count": 1076,
     "metadata": {},
     "output_type": "execute_result"
    }
   ],
   "source": [
    "len(files_uf)"
   ]
  },
  {
   "cell_type": "markdown",
   "id": "12dfbca4",
   "metadata": {},
   "source": [
    "Want 500 files"
   ]
  },
  {
   "cell_type": "code",
   "execution_count": 1077,
   "id": "f88dc432",
   "metadata": {},
   "outputs": [],
   "source": [
    "# Making combined list\n",
    "lst = files_fk + files_uf"
   ]
  },
  {
   "cell_type": "code",
   "execution_count": 1078,
   "id": "8e4b9dfa",
   "metadata": {},
   "outputs": [],
   "source": [
    "df_lehenga = pd.DataFrame()"
   ]
  },
  {
   "cell_type": "code",
   "execution_count": 1079,
   "id": "338257f1",
   "metadata": {},
   "outputs": [],
   "source": [
    "df_lehenga['files'] = lst"
   ]
  },
  {
   "cell_type": "code",
   "execution_count": 1080,
   "id": "67d818f9",
   "metadata": {
    "scrolled": false
   },
   "outputs": [
    {
     "data": {
      "text/html": [
       "<div>\n",
       "<style scoped>\n",
       "    .dataframe tbody tr th:only-of-type {\n",
       "        vertical-align: middle;\n",
       "    }\n",
       "\n",
       "    .dataframe tbody tr th {\n",
       "        vertical-align: top;\n",
       "    }\n",
       "\n",
       "    .dataframe thead th {\n",
       "        text-align: right;\n",
       "    }\n",
       "</style>\n",
       "<table border=\"1\" class=\"dataframe\">\n",
       "  <thead>\n",
       "    <tr style=\"text-align: right;\">\n",
       "      <th></th>\n",
       "      <th>files</th>\n",
       "    </tr>\n",
       "  </thead>\n",
       "  <tbody>\n",
       "    <tr>\n",
       "      <th>0</th>\n",
       "      <td>lehenga/flipkart/free-na-kali-sarkari-dishas-o...</td>\n",
       "    </tr>\n",
       "    <tr>\n",
       "      <th>1</th>\n",
       "      <td>lehenga/flipkart/free-3-4-sleeve-riya-yellow-d...</td>\n",
       "    </tr>\n",
       "    <tr>\n",
       "      <th>2</th>\n",
       "      <td>lehenga/flipkart/free-sleeveless-aaliya-skytar...</td>\n",
       "    </tr>\n",
       "    <tr>\n",
       "      <th>3</th>\n",
       "      <td>lehenga/flipkart/free-full-sleeve-d-w-g-dijitr...</td>\n",
       "    </tr>\n",
       "    <tr>\n",
       "      <th>4</th>\n",
       "      <td>lehenga/flipkart/free-na-5005-xaycra-original-...</td>\n",
       "    </tr>\n",
       "  </tbody>\n",
       "</table>\n",
       "</div>"
      ],
      "text/plain": [
       "                                               files\n",
       "0  lehenga/flipkart/free-na-kali-sarkari-dishas-o...\n",
       "1  lehenga/flipkart/free-3-4-sleeve-riya-yellow-d...\n",
       "2  lehenga/flipkart/free-sleeveless-aaliya-skytar...\n",
       "3  lehenga/flipkart/free-full-sleeve-d-w-g-dijitr...\n",
       "4  lehenga/flipkart/free-na-5005-xaycra-original-..."
      ]
     },
     "execution_count": 1080,
     "metadata": {},
     "output_type": "execute_result"
    }
   ],
   "source": [
    "df_lehenga.head()"
   ]
  },
  {
   "cell_type": "code",
   "execution_count": 1081,
   "id": "5f541d96",
   "metadata": {},
   "outputs": [
    {
     "data": {
      "text/plain": [
       "849"
      ]
     },
     "execution_count": 1081,
     "metadata": {},
     "output_type": "execute_result"
    }
   ],
   "source": [
    "len(df_lehenga)"
   ]
  },
  {
   "cell_type": "code",
   "execution_count": 1082,
   "id": "4dcf2ddf",
   "metadata": {},
   "outputs": [],
   "source": [
    "# Making a list of random numbers with the same length as the dataframe.\n",
    "r = list(random.sample(range(0, 5000), 849))"
   ]
  },
  {
   "cell_type": "code",
   "execution_count": 1083,
   "id": "f4cc1054",
   "metadata": {},
   "outputs": [
    {
     "data": {
      "text/plain": [
       "849"
      ]
     },
     "execution_count": 1083,
     "metadata": {},
     "output_type": "execute_result"
    }
   ],
   "source": [
    "len(r)"
   ]
  },
  {
   "cell_type": "code",
   "execution_count": 3,
   "id": "0ed600f3",
   "metadata": {},
   "outputs": [],
   "source": [
    "# Adding the random numbers to the df\n",
    "df_lehenga['random_number'] = r"
   ]
  },
  {
   "cell_type": "code",
   "execution_count": 1085,
   "id": "6cf771e8",
   "metadata": {},
   "outputs": [
    {
     "data": {
      "text/html": [
       "<div>\n",
       "<style scoped>\n",
       "    .dataframe tbody tr th:only-of-type {\n",
       "        vertical-align: middle;\n",
       "    }\n",
       "\n",
       "    .dataframe tbody tr th {\n",
       "        vertical-align: top;\n",
       "    }\n",
       "\n",
       "    .dataframe thead th {\n",
       "        text-align: right;\n",
       "    }\n",
       "</style>\n",
       "<table border=\"1\" class=\"dataframe\">\n",
       "  <thead>\n",
       "    <tr style=\"text-align: right;\">\n",
       "      <th></th>\n",
       "      <th>files</th>\n",
       "      <th>random_number</th>\n",
       "    </tr>\n",
       "  </thead>\n",
       "  <tbody>\n",
       "    <tr>\n",
       "      <th>0</th>\n",
       "      <td>lehenga/flipkart/free-na-kali-sarkari-dishas-o...</td>\n",
       "      <td>4951</td>\n",
       "    </tr>\n",
       "    <tr>\n",
       "      <th>1</th>\n",
       "      <td>lehenga/flipkart/free-3-4-sleeve-riya-yellow-d...</td>\n",
       "      <td>940</td>\n",
       "    </tr>\n",
       "    <tr>\n",
       "      <th>2</th>\n",
       "      <td>lehenga/flipkart/free-sleeveless-aaliya-skytar...</td>\n",
       "      <td>4689</td>\n",
       "    </tr>\n",
       "    <tr>\n",
       "      <th>3</th>\n",
       "      <td>lehenga/flipkart/free-full-sleeve-d-w-g-dijitr...</td>\n",
       "      <td>3996</td>\n",
       "    </tr>\n",
       "    <tr>\n",
       "      <th>4</th>\n",
       "      <td>lehenga/flipkart/free-na-5005-xaycra-original-...</td>\n",
       "      <td>1275</td>\n",
       "    </tr>\n",
       "  </tbody>\n",
       "</table>\n",
       "</div>"
      ],
      "text/plain": [
       "                                               files  random_number\n",
       "0  lehenga/flipkart/free-na-kali-sarkari-dishas-o...           4951\n",
       "1  lehenga/flipkart/free-3-4-sleeve-riya-yellow-d...            940\n",
       "2  lehenga/flipkart/free-sleeveless-aaliya-skytar...           4689\n",
       "3  lehenga/flipkart/free-full-sleeve-d-w-g-dijitr...           3996\n",
       "4  lehenga/flipkart/free-na-5005-xaycra-original-...           1275"
      ]
     },
     "execution_count": 1085,
     "metadata": {},
     "output_type": "execute_result"
    }
   ],
   "source": [
    "df_lehenga.head()"
   ]
  },
  {
   "cell_type": "code",
   "execution_count": 1086,
   "id": "e7354101",
   "metadata": {},
   "outputs": [],
   "source": [
    "# Sorting the df based on the random numbers to randomize images\n",
    "df_lehenga = df_lehenga.sort_values('random_number')"
   ]
  },
  {
   "cell_type": "code",
   "execution_count": 1087,
   "id": "f282b82f",
   "metadata": {},
   "outputs": [],
   "source": [
    "# Taking only first 500 images\n",
    "df_lehenga = df_lehenga.iloc[:500, :]"
   ]
  },
  {
   "cell_type": "code",
   "execution_count": 1088,
   "id": "ed665c5d",
   "metadata": {},
   "outputs": [
    {
     "data": {
      "text/plain": [
       "500"
      ]
     },
     "execution_count": 1088,
     "metadata": {},
     "output_type": "execute_result"
    }
   ],
   "source": [
    "len(df_lehenga)"
   ]
  },
  {
   "cell_type": "code",
   "execution_count": 1089,
   "id": "5b575ea8",
   "metadata": {
    "scrolled": false
   },
   "outputs": [
    {
     "data": {
      "text/html": [
       "<div>\n",
       "<style scoped>\n",
       "    .dataframe tbody tr th:only-of-type {\n",
       "        vertical-align: middle;\n",
       "    }\n",
       "\n",
       "    .dataframe tbody tr th {\n",
       "        vertical-align: top;\n",
       "    }\n",
       "\n",
       "    .dataframe thead th {\n",
       "        text-align: right;\n",
       "    }\n",
       "</style>\n",
       "<table border=\"1\" class=\"dataframe\">\n",
       "  <thead>\n",
       "    <tr style=\"text-align: right;\">\n",
       "      <th></th>\n",
       "      <th>files</th>\n",
       "      <th>random_number</th>\n",
       "    </tr>\n",
       "  </thead>\n",
       "  <tbody>\n",
       "    <tr>\n",
       "      <th>0</th>\n",
       "      <td>lehenga/utsavfashion/embroidered-georgette-leh...</td>\n",
       "      <td>13</td>\n",
       "    </tr>\n",
       "    <tr>\n",
       "      <th>1</th>\n",
       "      <td>lehenga/flipkart/free-half-sleeve-latest-royal...</td>\n",
       "      <td>15</td>\n",
       "    </tr>\n",
       "    <tr>\n",
       "      <th>2</th>\n",
       "      <td>lehenga/utsavfashion/embroidered-georgette-leh...</td>\n",
       "      <td>17</td>\n",
       "    </tr>\n",
       "    <tr>\n",
       "      <th>3</th>\n",
       "      <td>lehenga/flipkart/free-sleeveless-new-designer-...</td>\n",
       "      <td>20</td>\n",
       "    </tr>\n",
       "    <tr>\n",
       "      <th>4</th>\n",
       "      <td>lehenga/utsavfashion/digital-printed-organza-l...</td>\n",
       "      <td>21</td>\n",
       "    </tr>\n",
       "  </tbody>\n",
       "</table>\n",
       "</div>"
      ],
      "text/plain": [
       "                                               files  random_number\n",
       "0  lehenga/utsavfashion/embroidered-georgette-leh...             13\n",
       "1  lehenga/flipkart/free-half-sleeve-latest-royal...             15\n",
       "2  lehenga/utsavfashion/embroidered-georgette-leh...             17\n",
       "3  lehenga/flipkart/free-sleeveless-new-designer-...             20\n",
       "4  lehenga/utsavfashion/digital-printed-organza-l...             21"
      ]
     },
     "execution_count": 1089,
     "metadata": {},
     "output_type": "execute_result"
    }
   ],
   "source": [
    "df_lehenga.reset_index(drop=True, inplace=True)\n",
    "df_lehenga.head()"
   ]
  },
  {
   "cell_type": "code",
   "execution_count": 1090,
   "id": "cac58bc7",
   "metadata": {},
   "outputs": [],
   "source": [
    "df_lehenga.to_csv('data/external/newly_scraped_images/df_lehenga.csv')"
   ]
  },
  {
   "cell_type": "markdown",
   "id": "a4c9f0a3",
   "metadata": {},
   "source": [
    "### Gowns"
   ]
  },
  {
   "cell_type": "code",
   "execution_count": 1091,
   "id": "609dccfe",
   "metadata": {},
   "outputs": [],
   "source": [
    "# Getting all saved images of gowns from Flipkart\n",
    "files_fk = glob('data/external/newly_scraped_images/gowns/flipkart/*.jpeg')"
   ]
  },
  {
   "cell_type": "code",
   "execution_count": 1092,
   "id": "b5fa8ad2",
   "metadata": {},
   "outputs": [
    {
     "data": {
      "text/plain": [
       "643"
      ]
     },
     "execution_count": 1092,
     "metadata": {},
     "output_type": "execute_result"
    }
   ],
   "source": [
    "len(files_fk)"
   ]
  },
  {
   "cell_type": "code",
   "execution_count": 1093,
   "id": "663ca6c0",
   "metadata": {},
   "outputs": [],
   "source": [
    "# Getting all saved images of gowns from Karmaplace\n",
    "files_kp = glob('data/external/newly_scraped_images/gowns/karmaplace/*.jpg')"
   ]
  },
  {
   "cell_type": "code",
   "execution_count": 1094,
   "id": "75480381",
   "metadata": {},
   "outputs": [
    {
     "data": {
      "text/plain": [
       "21"
      ]
     },
     "execution_count": 1094,
     "metadata": {},
     "output_type": "execute_result"
    }
   ],
   "source": [
    "len(files_kp)"
   ]
  },
  {
   "cell_type": "code",
   "execution_count": 1095,
   "id": "0a5e7554",
   "metadata": {},
   "outputs": [],
   "source": [
    "# Getting all saved images of gowns from Utsav Fashion\n",
    "files_uf = glob('data/external/newly_scraped_images/gowns/utsavfashion/*.jpg')"
   ]
  },
  {
   "cell_type": "code",
   "execution_count": 1096,
   "id": "d26f752a",
   "metadata": {},
   "outputs": [
    {
     "data": {
      "text/plain": [
       "60"
      ]
     },
     "execution_count": 1096,
     "metadata": {},
     "output_type": "execute_result"
    }
   ],
   "source": [
    "len(files_uf)"
   ]
  },
  {
   "cell_type": "code",
   "execution_count": 1097,
   "id": "c184b372",
   "metadata": {},
   "outputs": [],
   "source": [
    "# Getting all saved images of gowns from Amazon.in\n",
    "files_ai = glob('data/external/newly_scraped_images/gowns/amazon.in/*.jpg')"
   ]
  },
  {
   "cell_type": "code",
   "execution_count": 1098,
   "id": "4e8e2440",
   "metadata": {},
   "outputs": [
    {
     "data": {
      "text/plain": [
       "51"
      ]
     },
     "execution_count": 1098,
     "metadata": {},
     "output_type": "execute_result"
    }
   ],
   "source": [
    "len(files_ai)"
   ]
  },
  {
   "cell_type": "markdown",
   "id": "ebcda8d8",
   "metadata": {},
   "source": [
    "Want 500 files"
   ]
  },
  {
   "cell_type": "code",
   "execution_count": 1099,
   "id": "763cf438",
   "metadata": {},
   "outputs": [],
   "source": [
    "# Making combined list\n",
    "lst = files_kp + files_fk + files_ai + files_uf"
   ]
  },
  {
   "cell_type": "code",
   "execution_count": 1100,
   "id": "73e1ce57",
   "metadata": {},
   "outputs": [],
   "source": [
    "df_gowns = pd.DataFrame()"
   ]
  },
  {
   "cell_type": "code",
   "execution_count": 1101,
   "id": "cdac0f9b",
   "metadata": {},
   "outputs": [],
   "source": [
    "df_gowns['files'] = lst"
   ]
  },
  {
   "cell_type": "code",
   "execution_count": 1102,
   "id": "e331d669",
   "metadata": {
    "scrolled": false
   },
   "outputs": [
    {
     "data": {
      "text/html": [
       "<div>\n",
       "<style scoped>\n",
       "    .dataframe tbody tr th:only-of-type {\n",
       "        vertical-align: middle;\n",
       "    }\n",
       "\n",
       "    .dataframe tbody tr th {\n",
       "        vertical-align: top;\n",
       "    }\n",
       "\n",
       "    .dataframe thead th {\n",
       "        text-align: right;\n",
       "    }\n",
       "</style>\n",
       "<table border=\"1\" class=\"dataframe\">\n",
       "  <thead>\n",
       "    <tr style=\"text-align: right;\">\n",
       "      <th></th>\n",
       "      <th>files</th>\n",
       "    </tr>\n",
       "  </thead>\n",
       "  <tbody>\n",
       "    <tr>\n",
       "      <th>0</th>\n",
       "      <td>gowns/karmaplace/ACU6105_512x769.jpg</td>\n",
       "    </tr>\n",
       "    <tr>\n",
       "      <th>1</th>\n",
       "      <td>gowns/karmaplace/ACU6959-1_512x769.jpg</td>\n",
       "    </tr>\n",
       "    <tr>\n",
       "      <th>2</th>\n",
       "      <td>gowns/karmaplace/ACT4710._512x769.jpg</td>\n",
       "    </tr>\n",
       "    <tr>\n",
       "      <th>3</th>\n",
       "      <td>gowns/karmaplace/ACU6960-1_512x769.jpg</td>\n",
       "    </tr>\n",
       "    <tr>\n",
       "      <th>4</th>\n",
       "      <td>gowns/karmaplace/AS8318-C-1_512x769.jpg</td>\n",
       "    </tr>\n",
       "  </tbody>\n",
       "</table>\n",
       "</div>"
      ],
      "text/plain": [
       "                                     files\n",
       "0     gowns/karmaplace/ACU6105_512x769.jpg\n",
       "1   gowns/karmaplace/ACU6959-1_512x769.jpg\n",
       "2    gowns/karmaplace/ACT4710._512x769.jpg\n",
       "3   gowns/karmaplace/ACU6960-1_512x769.jpg\n",
       "4  gowns/karmaplace/AS8318-C-1_512x769.jpg"
      ]
     },
     "execution_count": 1102,
     "metadata": {},
     "output_type": "execute_result"
    }
   ],
   "source": [
    "df_gowns.head()"
   ]
  },
  {
   "cell_type": "code",
   "execution_count": 1103,
   "id": "136f85d1",
   "metadata": {},
   "outputs": [
    {
     "data": {
      "text/plain": [
       "775"
      ]
     },
     "execution_count": 1103,
     "metadata": {},
     "output_type": "execute_result"
    }
   ],
   "source": [
    "len(df_gowns)"
   ]
  },
  {
   "cell_type": "code",
   "execution_count": 1104,
   "id": "095b5ab6",
   "metadata": {},
   "outputs": [],
   "source": [
    "# Making a list of random numbers with the same length as the dataframe.\n",
    "r = list(random.sample(range(0, 5000), 775))"
   ]
  },
  {
   "cell_type": "code",
   "execution_count": 1105,
   "id": "4282acad",
   "metadata": {},
   "outputs": [
    {
     "data": {
      "text/plain": [
       "775"
      ]
     },
     "execution_count": 1105,
     "metadata": {},
     "output_type": "execute_result"
    }
   ],
   "source": [
    "len(r)"
   ]
  },
  {
   "cell_type": "code",
   "execution_count": 1106,
   "id": "a4245a5c",
   "metadata": {},
   "outputs": [],
   "source": [
    "# Adding the random numbers to the df\n",
    "df_gowns['random_number'] = r"
   ]
  },
  {
   "cell_type": "code",
   "execution_count": 1107,
   "id": "cabe5b80",
   "metadata": {},
   "outputs": [
    {
     "data": {
      "text/html": [
       "<div>\n",
       "<style scoped>\n",
       "    .dataframe tbody tr th:only-of-type {\n",
       "        vertical-align: middle;\n",
       "    }\n",
       "\n",
       "    .dataframe tbody tr th {\n",
       "        vertical-align: top;\n",
       "    }\n",
       "\n",
       "    .dataframe thead th {\n",
       "        text-align: right;\n",
       "    }\n",
       "</style>\n",
       "<table border=\"1\" class=\"dataframe\">\n",
       "  <thead>\n",
       "    <tr style=\"text-align: right;\">\n",
       "      <th></th>\n",
       "      <th>files</th>\n",
       "      <th>random_number</th>\n",
       "    </tr>\n",
       "  </thead>\n",
       "  <tbody>\n",
       "    <tr>\n",
       "      <th>0</th>\n",
       "      <td>gowns/karmaplace/ACU6105_512x769.jpg</td>\n",
       "      <td>2018</td>\n",
       "    </tr>\n",
       "    <tr>\n",
       "      <th>1</th>\n",
       "      <td>gowns/karmaplace/ACU6959-1_512x769.jpg</td>\n",
       "      <td>1769</td>\n",
       "    </tr>\n",
       "    <tr>\n",
       "      <th>2</th>\n",
       "      <td>gowns/karmaplace/ACT4710._512x769.jpg</td>\n",
       "      <td>4911</td>\n",
       "    </tr>\n",
       "    <tr>\n",
       "      <th>3</th>\n",
       "      <td>gowns/karmaplace/ACU6960-1_512x769.jpg</td>\n",
       "      <td>4159</td>\n",
       "    </tr>\n",
       "    <tr>\n",
       "      <th>4</th>\n",
       "      <td>gowns/karmaplace/AS8318-C-1_512x769.jpg</td>\n",
       "      <td>3031</td>\n",
       "    </tr>\n",
       "  </tbody>\n",
       "</table>\n",
       "</div>"
      ],
      "text/plain": [
       "                                     files  random_number\n",
       "0     gowns/karmaplace/ACU6105_512x769.jpg           2018\n",
       "1   gowns/karmaplace/ACU6959-1_512x769.jpg           1769\n",
       "2    gowns/karmaplace/ACT4710._512x769.jpg           4911\n",
       "3   gowns/karmaplace/ACU6960-1_512x769.jpg           4159\n",
       "4  gowns/karmaplace/AS8318-C-1_512x769.jpg           3031"
      ]
     },
     "execution_count": 1107,
     "metadata": {},
     "output_type": "execute_result"
    }
   ],
   "source": [
    "df_gowns.head()"
   ]
  },
  {
   "cell_type": "code",
   "execution_count": 1108,
   "id": "504b7127",
   "metadata": {},
   "outputs": [],
   "source": [
    "# Sorting the df based on the random numbers to randomize images\n",
    "df_gowns = df_gowns.sort_values('random_number')"
   ]
  },
  {
   "cell_type": "code",
   "execution_count": 1109,
   "id": "3d06ddc2",
   "metadata": {},
   "outputs": [],
   "source": [
    "# Taking only first 500 images\n",
    "df_gowns = df_gowns.iloc[:500, :]"
   ]
  },
  {
   "cell_type": "code",
   "execution_count": 1110,
   "id": "1e6e116c",
   "metadata": {},
   "outputs": [
    {
     "data": {
      "text/plain": [
       "500"
      ]
     },
     "execution_count": 1110,
     "metadata": {},
     "output_type": "execute_result"
    }
   ],
   "source": [
    "len(df_gowns)"
   ]
  },
  {
   "cell_type": "code",
   "execution_count": 1111,
   "id": "fc185890",
   "metadata": {
    "scrolled": false
   },
   "outputs": [
    {
     "data": {
      "text/html": [
       "<div>\n",
       "<style scoped>\n",
       "    .dataframe tbody tr th:only-of-type {\n",
       "        vertical-align: middle;\n",
       "    }\n",
       "\n",
       "    .dataframe tbody tr th {\n",
       "        vertical-align: top;\n",
       "    }\n",
       "\n",
       "    .dataframe thead th {\n",
       "        text-align: right;\n",
       "    }\n",
       "</style>\n",
       "<table border=\"1\" class=\"dataframe\">\n",
       "  <thead>\n",
       "    <tr style=\"text-align: right;\">\n",
       "      <th></th>\n",
       "      <th>files</th>\n",
       "      <th>random_number</th>\n",
       "    </tr>\n",
       "  </thead>\n",
       "  <tbody>\n",
       "    <tr>\n",
       "      <th>0</th>\n",
       "      <td>gowns/flipkart/na-free-full-sleeve-semi-stitch...</td>\n",
       "      <td>0</td>\n",
       "    </tr>\n",
       "    <tr>\n",
       "      <th>1</th>\n",
       "      <td>gowns/flipkart/na-xxl-full-sleeve-stitched-fir...</td>\n",
       "      <td>6</td>\n",
       "    </tr>\n",
       "    <tr>\n",
       "      <th>2</th>\n",
       "      <td>gowns/flipkart/na-free-full-sleeve-semi-stitch...</td>\n",
       "      <td>8</td>\n",
       "    </tr>\n",
       "    <tr>\n",
       "      <th>3</th>\n",
       "      <td>gowns/flipkart/free-full-sleeve-designer-lehen...</td>\n",
       "      <td>21</td>\n",
       "    </tr>\n",
       "    <tr>\n",
       "      <th>4</th>\n",
       "      <td>gowns/flipkart/na-free-3-4-sleeve-semi-stitche...</td>\n",
       "      <td>22</td>\n",
       "    </tr>\n",
       "  </tbody>\n",
       "</table>\n",
       "</div>"
      ],
      "text/plain": [
       "                                               files  random_number\n",
       "0  gowns/flipkart/na-free-full-sleeve-semi-stitch...              0\n",
       "1  gowns/flipkart/na-xxl-full-sleeve-stitched-fir...              6\n",
       "2  gowns/flipkart/na-free-full-sleeve-semi-stitch...              8\n",
       "3  gowns/flipkart/free-full-sleeve-designer-lehen...             21\n",
       "4  gowns/flipkart/na-free-3-4-sleeve-semi-stitche...             22"
      ]
     },
     "execution_count": 1111,
     "metadata": {},
     "output_type": "execute_result"
    }
   ],
   "source": [
    "df_gowns.reset_index(drop=True, inplace=True)\n",
    "df_gowns.head()"
   ]
  },
  {
   "cell_type": "code",
   "execution_count": 1112,
   "id": "b376bc77",
   "metadata": {},
   "outputs": [],
   "source": [
    "df_gowns.to_csv('data/external/newly_scraped_images/df_gowns.csv')"
   ]
  },
  {
   "cell_type": "markdown",
   "id": "5c60e5d2",
   "metadata": {},
   "source": [
    "### Dupattas"
   ]
  },
  {
   "cell_type": "code",
   "execution_count": 1113,
   "id": "282b1ff6",
   "metadata": {},
   "outputs": [],
   "source": [
    "# Getting all saved images of dupattas from Amazon.in\n",
    "files_ai = glob('data/external/newly_scraped_images/dupattas/amazon.in/*.jpg')"
   ]
  },
  {
   "cell_type": "code",
   "execution_count": 1114,
   "id": "e60277dd",
   "metadata": {},
   "outputs": [
    {
     "data": {
      "text/plain": [
       "159"
      ]
     },
     "execution_count": 1114,
     "metadata": {},
     "output_type": "execute_result"
    }
   ],
   "source": [
    "len(files_ai)"
   ]
  },
  {
   "cell_type": "code",
   "execution_count": 1115,
   "id": "eac6191f",
   "metadata": {},
   "outputs": [],
   "source": [
    "# Getting all saved images of dupattas from Karmaplace\n",
    "files_kp = glob('data/external/newly_scraped_images/dupattas/karmaplace/*.jpg')"
   ]
  },
  {
   "cell_type": "code",
   "execution_count": 1116,
   "id": "103605ca",
   "metadata": {},
   "outputs": [
    {
     "data": {
      "text/plain": [
       "763"
      ]
     },
     "execution_count": 1116,
     "metadata": {},
     "output_type": "execute_result"
    }
   ],
   "source": [
    "len(files_kp)"
   ]
  },
  {
   "cell_type": "code",
   "execution_count": 1117,
   "id": "7327b327",
   "metadata": {},
   "outputs": [],
   "source": [
    "# Getting all saved images of dupattas from Utsav Fashion\n",
    "files_uf = glob('data/external/newly_scraped_images/dupattas/utsavfashion/*.jpg')"
   ]
  },
  {
   "cell_type": "code",
   "execution_count": 1118,
   "id": "52246ca5",
   "metadata": {},
   "outputs": [
    {
     "data": {
      "text/plain": [
       "120"
      ]
     },
     "execution_count": 1118,
     "metadata": {},
     "output_type": "execute_result"
    }
   ],
   "source": [
    "len(files_uf)"
   ]
  },
  {
   "cell_type": "markdown",
   "id": "b7f899c1",
   "metadata": {},
   "source": [
    "Want 500 files"
   ]
  },
  {
   "cell_type": "code",
   "execution_count": 1119,
   "id": "1d99c3d2",
   "metadata": {},
   "outputs": [],
   "source": [
    "# Making combined list\n",
    "lst = files_kp + files_ai + files_uf"
   ]
  },
  {
   "cell_type": "code",
   "execution_count": 1120,
   "id": "0b6d4b36",
   "metadata": {},
   "outputs": [],
   "source": [
    "df_dupattas = pd.DataFrame()"
   ]
  },
  {
   "cell_type": "code",
   "execution_count": 1121,
   "id": "c3e6b749",
   "metadata": {},
   "outputs": [],
   "source": [
    "df_dupattas['files'] = lst"
   ]
  },
  {
   "cell_type": "code",
   "execution_count": 1122,
   "id": "b0f35a52",
   "metadata": {
    "scrolled": true
   },
   "outputs": [
    {
     "data": {
      "text/html": [
       "<div>\n",
       "<style scoped>\n",
       "    .dataframe tbody tr th:only-of-type {\n",
       "        vertical-align: middle;\n",
       "    }\n",
       "\n",
       "    .dataframe tbody tr th {\n",
       "        vertical-align: top;\n",
       "    }\n",
       "\n",
       "    .dataframe thead th {\n",
       "        text-align: right;\n",
       "    }\n",
       "</style>\n",
       "<table border=\"1\" class=\"dataframe\">\n",
       "  <thead>\n",
       "    <tr style=\"text-align: right;\">\n",
       "      <th></th>\n",
       "      <th>files</th>\n",
       "    </tr>\n",
       "  </thead>\n",
       "  <tbody>\n",
       "    <tr>\n",
       "      <th>0</th>\n",
       "      <td>dupattas/karmaplace/N2Zdk0632-S_512x769.jpg</td>\n",
       "    </tr>\n",
       "    <tr>\n",
       "      <th>1</th>\n",
       "      <td>dupattas/karmaplace/1405-112RAM_512x769.jpg</td>\n",
       "    </tr>\n",
       "    <tr>\n",
       "      <th>2</th>\n",
       "      <td>dupattas/karmaplace/1404-111NBLU_512x769.jpg</td>\n",
       "    </tr>\n",
       "    <tr>\n",
       "      <th>3</th>\n",
       "      <td>dupattas/karmaplace/PHT0066-2_512x769.jpg</td>\n",
       "    </tr>\n",
       "    <tr>\n",
       "      <th>4</th>\n",
       "      <td>dupattas/karmaplace/N2ZHKS0197S_b77a74d7-3ee9-...</td>\n",
       "    </tr>\n",
       "  </tbody>\n",
       "</table>\n",
       "</div>"
      ],
      "text/plain": [
       "                                               files\n",
       "0        dupattas/karmaplace/N2Zdk0632-S_512x769.jpg\n",
       "1        dupattas/karmaplace/1405-112RAM_512x769.jpg\n",
       "2       dupattas/karmaplace/1404-111NBLU_512x769.jpg\n",
       "3          dupattas/karmaplace/PHT0066-2_512x769.jpg\n",
       "4  dupattas/karmaplace/N2ZHKS0197S_b77a74d7-3ee9-..."
      ]
     },
     "execution_count": 1122,
     "metadata": {},
     "output_type": "execute_result"
    }
   ],
   "source": [
    "df_dupattas.head()"
   ]
  },
  {
   "cell_type": "code",
   "execution_count": 1123,
   "id": "6aceb69f",
   "metadata": {},
   "outputs": [
    {
     "data": {
      "text/plain": [
       "1042"
      ]
     },
     "execution_count": 1123,
     "metadata": {},
     "output_type": "execute_result"
    }
   ],
   "source": [
    "len(df_dupattas)"
   ]
  },
  {
   "cell_type": "code",
   "execution_count": 1124,
   "id": "42c4d0dc",
   "metadata": {},
   "outputs": [],
   "source": [
    "# Making a list of random numbers with the same length as the dataframe.\n",
    "r = list(random.sample(range(0, 5000), 1042))"
   ]
  },
  {
   "cell_type": "code",
   "execution_count": 1125,
   "id": "0d8b0309",
   "metadata": {},
   "outputs": [
    {
     "data": {
      "text/plain": [
       "1042"
      ]
     },
     "execution_count": 1125,
     "metadata": {},
     "output_type": "execute_result"
    }
   ],
   "source": [
    "len(r)"
   ]
  },
  {
   "cell_type": "code",
   "execution_count": 1126,
   "id": "80d36231",
   "metadata": {},
   "outputs": [],
   "source": [
    "# Adding the random numbers to the df\n",
    "df_dupattas['random_number'] = r"
   ]
  },
  {
   "cell_type": "code",
   "execution_count": 1127,
   "id": "9b2109b4",
   "metadata": {},
   "outputs": [
    {
     "data": {
      "text/html": [
       "<div>\n",
       "<style scoped>\n",
       "    .dataframe tbody tr th:only-of-type {\n",
       "        vertical-align: middle;\n",
       "    }\n",
       "\n",
       "    .dataframe tbody tr th {\n",
       "        vertical-align: top;\n",
       "    }\n",
       "\n",
       "    .dataframe thead th {\n",
       "        text-align: right;\n",
       "    }\n",
       "</style>\n",
       "<table border=\"1\" class=\"dataframe\">\n",
       "  <thead>\n",
       "    <tr style=\"text-align: right;\">\n",
       "      <th></th>\n",
       "      <th>files</th>\n",
       "      <th>random_number</th>\n",
       "    </tr>\n",
       "  </thead>\n",
       "  <tbody>\n",
       "    <tr>\n",
       "      <th>0</th>\n",
       "      <td>dupattas/karmaplace/N2Zdk0632-S_512x769.jpg</td>\n",
       "      <td>1146</td>\n",
       "    </tr>\n",
       "    <tr>\n",
       "      <th>1</th>\n",
       "      <td>dupattas/karmaplace/1405-112RAM_512x769.jpg</td>\n",
       "      <td>3894</td>\n",
       "    </tr>\n",
       "    <tr>\n",
       "      <th>2</th>\n",
       "      <td>dupattas/karmaplace/1404-111NBLU_512x769.jpg</td>\n",
       "      <td>2899</td>\n",
       "    </tr>\n",
       "    <tr>\n",
       "      <th>3</th>\n",
       "      <td>dupattas/karmaplace/PHT0066-2_512x769.jpg</td>\n",
       "      <td>2128</td>\n",
       "    </tr>\n",
       "    <tr>\n",
       "      <th>4</th>\n",
       "      <td>dupattas/karmaplace/N2ZHKS0197S_b77a74d7-3ee9-...</td>\n",
       "      <td>3490</td>\n",
       "    </tr>\n",
       "  </tbody>\n",
       "</table>\n",
       "</div>"
      ],
      "text/plain": [
       "                                               files  random_number\n",
       "0        dupattas/karmaplace/N2Zdk0632-S_512x769.jpg           1146\n",
       "1        dupattas/karmaplace/1405-112RAM_512x769.jpg           3894\n",
       "2       dupattas/karmaplace/1404-111NBLU_512x769.jpg           2899\n",
       "3          dupattas/karmaplace/PHT0066-2_512x769.jpg           2128\n",
       "4  dupattas/karmaplace/N2ZHKS0197S_b77a74d7-3ee9-...           3490"
      ]
     },
     "execution_count": 1127,
     "metadata": {},
     "output_type": "execute_result"
    }
   ],
   "source": [
    "df_dupattas.head()"
   ]
  },
  {
   "cell_type": "code",
   "execution_count": 1128,
   "id": "6d78603e",
   "metadata": {},
   "outputs": [],
   "source": [
    "# Sorting the df based on the random numbers to randomize images\n",
    "df_dupattas = df_dupattas.sort_values('random_number')"
   ]
  },
  {
   "cell_type": "code",
   "execution_count": 1129,
   "id": "b117833f",
   "metadata": {},
   "outputs": [],
   "source": [
    "# Taking only first 500 images\n",
    "df_dupattas = df_dupattas.iloc[:500, :]"
   ]
  },
  {
   "cell_type": "code",
   "execution_count": 1130,
   "id": "5694607a",
   "metadata": {},
   "outputs": [
    {
     "data": {
      "text/plain": [
       "500"
      ]
     },
     "execution_count": 1130,
     "metadata": {},
     "output_type": "execute_result"
    }
   ],
   "source": [
    "len(df_dupattas)"
   ]
  },
  {
   "cell_type": "code",
   "execution_count": 1131,
   "id": "0795fc25",
   "metadata": {
    "scrolled": true
   },
   "outputs": [
    {
     "data": {
      "text/html": [
       "<div>\n",
       "<style scoped>\n",
       "    .dataframe tbody tr th:only-of-type {\n",
       "        vertical-align: middle;\n",
       "    }\n",
       "\n",
       "    .dataframe tbody tr th {\n",
       "        vertical-align: top;\n",
       "    }\n",
       "\n",
       "    .dataframe thead th {\n",
       "        text-align: right;\n",
       "    }\n",
       "</style>\n",
       "<table border=\"1\" class=\"dataframe\">\n",
       "  <thead>\n",
       "    <tr style=\"text-align: right;\">\n",
       "      <th></th>\n",
       "      <th>files</th>\n",
       "      <th>random_number</th>\n",
       "    </tr>\n",
       "  </thead>\n",
       "  <tbody>\n",
       "    <tr>\n",
       "      <th>0</th>\n",
       "      <td>dupattas/amazon.in/7136CasC1fL._AC_UL320_.jpg</td>\n",
       "      <td>2</td>\n",
       "    </tr>\n",
       "    <tr>\n",
       "      <th>1</th>\n",
       "      <td>dupattas/karmaplace/N2ZKDBBB028_3-4Y_7f9d9fe4-...</td>\n",
       "      <td>8</td>\n",
       "    </tr>\n",
       "    <tr>\n",
       "      <th>2</th>\n",
       "      <td>dupattas/karmaplace/PHT0003-1_512x769.jpg</td>\n",
       "      <td>17</td>\n",
       "    </tr>\n",
       "    <tr>\n",
       "      <th>3</th>\n",
       "      <td>dupattas/karmaplace/AHKUDUSH-COMBO-472-FF-M_af...</td>\n",
       "      <td>19</td>\n",
       "    </tr>\n",
       "    <tr>\n",
       "      <th>4</th>\n",
       "      <td>dupattas/utsavfashion/bnj266.jpg</td>\n",
       "      <td>46</td>\n",
       "    </tr>\n",
       "  </tbody>\n",
       "</table>\n",
       "</div>"
      ],
      "text/plain": [
       "                                               files  random_number\n",
       "0      dupattas/amazon.in/7136CasC1fL._AC_UL320_.jpg              2\n",
       "1  dupattas/karmaplace/N2ZKDBBB028_3-4Y_7f9d9fe4-...              8\n",
       "2          dupattas/karmaplace/PHT0003-1_512x769.jpg             17\n",
       "3  dupattas/karmaplace/AHKUDUSH-COMBO-472-FF-M_af...             19\n",
       "4                   dupattas/utsavfashion/bnj266.jpg             46"
      ]
     },
     "execution_count": 1131,
     "metadata": {},
     "output_type": "execute_result"
    }
   ],
   "source": [
    "df_dupattas.reset_index(drop=True, inplace=True)\n",
    "df_dupattas.head()"
   ]
  },
  {
   "cell_type": "code",
   "execution_count": 1132,
   "id": "e1c66db3",
   "metadata": {},
   "outputs": [],
   "source": [
    "df_dupattas.to_csv('data/external/newly_scraped_images/df_dupattas.csv')"
   ]
  },
  {
   "cell_type": "markdown",
   "id": "8bc91c78",
   "metadata": {},
   "source": [
    "### Dhoti Pants"
   ]
  },
  {
   "cell_type": "code",
   "execution_count": 1192,
   "id": "625a1e83",
   "metadata": {},
   "outputs": [],
   "source": [
    "# Getting all saved images of dhoti pants from Flipkart\n",
    "files_fk = glob('data/external/newly_scraped_images/dhoti_pants/flipkart/*.jpeg')"
   ]
  },
  {
   "cell_type": "code",
   "execution_count": 1193,
   "id": "dc66ae2b",
   "metadata": {},
   "outputs": [
    {
     "data": {
      "text/plain": [
       "608"
      ]
     },
     "execution_count": 1193,
     "metadata": {},
     "output_type": "execute_result"
    }
   ],
   "source": [
    "len(files_fk)"
   ]
  },
  {
   "cell_type": "code",
   "execution_count": 1194,
   "id": "ec35dfac",
   "metadata": {},
   "outputs": [],
   "source": [
    "# Getting all saved images of dhoti pants from Karmaplace\n",
    "files_kp = glob('data/external/newly_scraped_images/dhoti_pants/karmaplace/*.jpg')"
   ]
  },
  {
   "cell_type": "code",
   "execution_count": 1195,
   "id": "bd4c65e4",
   "metadata": {},
   "outputs": [
    {
     "data": {
      "text/plain": [
       "302"
      ]
     },
     "execution_count": 1195,
     "metadata": {},
     "output_type": "execute_result"
    }
   ],
   "source": [
    "len(files_kp)"
   ]
  },
  {
   "cell_type": "code",
   "execution_count": 1196,
   "id": "ee9974b1",
   "metadata": {},
   "outputs": [],
   "source": [
    "# Getting all saved images of dhoti pants from Utsav Fashion\n",
    "files_uf = glob('data/external/newly_scraped_images/dhoti_pants/utsavfashion/*.jpg')"
   ]
  },
  {
   "cell_type": "code",
   "execution_count": 1197,
   "id": "ba7681be",
   "metadata": {},
   "outputs": [
    {
     "data": {
      "text/plain": [
       "114"
      ]
     },
     "execution_count": 1197,
     "metadata": {},
     "output_type": "execute_result"
    }
   ],
   "source": [
    "len(files_uf)"
   ]
  },
  {
   "cell_type": "markdown",
   "id": "3eed56f5",
   "metadata": {},
   "source": [
    "Want 500 files"
   ]
  },
  {
   "cell_type": "code",
   "execution_count": 1198,
   "id": "0482033a",
   "metadata": {},
   "outputs": [],
   "source": [
    "# Making combined list\n",
    "lst = files_kp + files_fk + files_uf"
   ]
  },
  {
   "cell_type": "code",
   "execution_count": 1199,
   "id": "f02a5cba",
   "metadata": {},
   "outputs": [],
   "source": [
    "df_dhoti_pants = pd.DataFrame()"
   ]
  },
  {
   "cell_type": "code",
   "execution_count": 1200,
   "id": "04fc4fd6",
   "metadata": {},
   "outputs": [],
   "source": [
    "df_dhoti_pants['files'] = lst"
   ]
  },
  {
   "cell_type": "code",
   "execution_count": 1201,
   "id": "15d89df5",
   "metadata": {
    "scrolled": false
   },
   "outputs": [
    {
     "data": {
      "text/html": [
       "<div>\n",
       "<style scoped>\n",
       "    .dataframe tbody tr th:only-of-type {\n",
       "        vertical-align: middle;\n",
       "    }\n",
       "\n",
       "    .dataframe tbody tr th {\n",
       "        vertical-align: top;\n",
       "    }\n",
       "\n",
       "    .dataframe thead th {\n",
       "        text-align: right;\n",
       "    }\n",
       "</style>\n",
       "<table border=\"1\" class=\"dataframe\">\n",
       "  <thead>\n",
       "    <tr style=\"text-align: right;\">\n",
       "      <th></th>\n",
       "      <th>files</th>\n",
       "    </tr>\n",
       "  </thead>\n",
       "  <tbody>\n",
       "    <tr>\n",
       "      <th>0</th>\n",
       "      <td>dhoti_pants/karmaplace/VASMDTWH_1_512x776.jpg</td>\n",
       "    </tr>\n",
       "    <tr>\n",
       "      <th>1</th>\n",
       "      <td>dhoti_pants/karmaplace/VASMCDWH_512x776.jpg</td>\n",
       "    </tr>\n",
       "    <tr>\n",
       "      <th>2</th>\n",
       "      <td>dhoti_pants/karmaplace/AHKUDO-Combo-128-2_512x...</td>\n",
       "    </tr>\n",
       "    <tr>\n",
       "      <th>3</th>\n",
       "      <td>dhoti_pants/karmaplace/VASMCD007WN-1_512x769.jpg</td>\n",
       "    </tr>\n",
       "    <tr>\n",
       "      <th>4</th>\n",
       "      <td>dhoti_pants/karmaplace/VASMKWH001nDTBU_1_512x7...</td>\n",
       "    </tr>\n",
       "  </tbody>\n",
       "</table>\n",
       "</div>"
      ],
      "text/plain": [
       "                                               files\n",
       "0      dhoti_pants/karmaplace/VASMDTWH_1_512x776.jpg\n",
       "1        dhoti_pants/karmaplace/VASMCDWH_512x776.jpg\n",
       "2  dhoti_pants/karmaplace/AHKUDO-Combo-128-2_512x...\n",
       "3   dhoti_pants/karmaplace/VASMCD007WN-1_512x769.jpg\n",
       "4  dhoti_pants/karmaplace/VASMKWH001nDTBU_1_512x7..."
      ]
     },
     "execution_count": 1201,
     "metadata": {},
     "output_type": "execute_result"
    }
   ],
   "source": [
    "df_dhoti_pants.head()"
   ]
  },
  {
   "cell_type": "code",
   "execution_count": 1202,
   "id": "18ddfcd5",
   "metadata": {},
   "outputs": [
    {
     "data": {
      "text/plain": [
       "1024"
      ]
     },
     "execution_count": 1202,
     "metadata": {},
     "output_type": "execute_result"
    }
   ],
   "source": [
    "len(df_dhoti_pants)"
   ]
  },
  {
   "cell_type": "code",
   "execution_count": 1203,
   "id": "dc688333",
   "metadata": {},
   "outputs": [],
   "source": [
    "# Making a list of random numbers with the same length as the dataframe.\n",
    "r = list(random.sample(range(0, 5000), 1024))"
   ]
  },
  {
   "cell_type": "code",
   "execution_count": 1204,
   "id": "2560de58",
   "metadata": {},
   "outputs": [
    {
     "data": {
      "text/plain": [
       "1024"
      ]
     },
     "execution_count": 1204,
     "metadata": {},
     "output_type": "execute_result"
    }
   ],
   "source": [
    "len(r)"
   ]
  },
  {
   "cell_type": "code",
   "execution_count": 1205,
   "id": "2403d573",
   "metadata": {},
   "outputs": [],
   "source": [
    "# Adding the random numbers to the df\n",
    "df_dhoti_pants['random_number'] = r"
   ]
  },
  {
   "cell_type": "code",
   "execution_count": 1206,
   "id": "b90682d3",
   "metadata": {},
   "outputs": [
    {
     "data": {
      "text/html": [
       "<div>\n",
       "<style scoped>\n",
       "    .dataframe tbody tr th:only-of-type {\n",
       "        vertical-align: middle;\n",
       "    }\n",
       "\n",
       "    .dataframe tbody tr th {\n",
       "        vertical-align: top;\n",
       "    }\n",
       "\n",
       "    .dataframe thead th {\n",
       "        text-align: right;\n",
       "    }\n",
       "</style>\n",
       "<table border=\"1\" class=\"dataframe\">\n",
       "  <thead>\n",
       "    <tr style=\"text-align: right;\">\n",
       "      <th></th>\n",
       "      <th>files</th>\n",
       "      <th>random_number</th>\n",
       "    </tr>\n",
       "  </thead>\n",
       "  <tbody>\n",
       "    <tr>\n",
       "      <th>0</th>\n",
       "      <td>dhoti_pants/karmaplace/VASMDTWH_1_512x776.jpg</td>\n",
       "      <td>1027</td>\n",
       "    </tr>\n",
       "    <tr>\n",
       "      <th>1</th>\n",
       "      <td>dhoti_pants/karmaplace/VASMCDWH_512x776.jpg</td>\n",
       "      <td>4335</td>\n",
       "    </tr>\n",
       "    <tr>\n",
       "      <th>2</th>\n",
       "      <td>dhoti_pants/karmaplace/AHKUDO-Combo-128-2_512x...</td>\n",
       "      <td>4310</td>\n",
       "    </tr>\n",
       "    <tr>\n",
       "      <th>3</th>\n",
       "      <td>dhoti_pants/karmaplace/VASMCD007WN-1_512x769.jpg</td>\n",
       "      <td>2887</td>\n",
       "    </tr>\n",
       "    <tr>\n",
       "      <th>4</th>\n",
       "      <td>dhoti_pants/karmaplace/VASMKWH001nDTBU_1_512x7...</td>\n",
       "      <td>2184</td>\n",
       "    </tr>\n",
       "  </tbody>\n",
       "</table>\n",
       "</div>"
      ],
      "text/plain": [
       "                                               files  random_number\n",
       "0      dhoti_pants/karmaplace/VASMDTWH_1_512x776.jpg           1027\n",
       "1        dhoti_pants/karmaplace/VASMCDWH_512x776.jpg           4335\n",
       "2  dhoti_pants/karmaplace/AHKUDO-Combo-128-2_512x...           4310\n",
       "3   dhoti_pants/karmaplace/VASMCD007WN-1_512x769.jpg           2887\n",
       "4  dhoti_pants/karmaplace/VASMKWH001nDTBU_1_512x7...           2184"
      ]
     },
     "execution_count": 1206,
     "metadata": {},
     "output_type": "execute_result"
    }
   ],
   "source": [
    "df_dhoti_pants.head()"
   ]
  },
  {
   "cell_type": "code",
   "execution_count": 1207,
   "id": "833b5022",
   "metadata": {},
   "outputs": [],
   "source": [
    "# Sorting the df based on the random numbers to randomize images\n",
    "df_dhoti_pants = df_dhoti_pants.sort_values('random_number')"
   ]
  },
  {
   "cell_type": "code",
   "execution_count": 1208,
   "id": "fbc7e13d",
   "metadata": {},
   "outputs": [],
   "source": [
    "# Taking only first 500 images\n",
    "df_dhoti_pants = df_dhoti_pants.iloc[:500, :]"
   ]
  },
  {
   "cell_type": "code",
   "execution_count": 1209,
   "id": "b5837078",
   "metadata": {},
   "outputs": [
    {
     "data": {
      "text/plain": [
       "500"
      ]
     },
     "execution_count": 1209,
     "metadata": {},
     "output_type": "execute_result"
    }
   ],
   "source": [
    "len(df_dhoti_pants)"
   ]
  },
  {
   "cell_type": "code",
   "execution_count": 1210,
   "id": "ad33942e",
   "metadata": {
    "scrolled": true
   },
   "outputs": [
    {
     "data": {
      "text/html": [
       "<div>\n",
       "<style scoped>\n",
       "    .dataframe tbody tr th:only-of-type {\n",
       "        vertical-align: middle;\n",
       "    }\n",
       "\n",
       "    .dataframe tbody tr th {\n",
       "        vertical-align: top;\n",
       "    }\n",
       "\n",
       "    .dataframe thead th {\n",
       "        text-align: right;\n",
       "    }\n",
       "</style>\n",
       "<table border=\"1\" class=\"dataframe\">\n",
       "  <thead>\n",
       "    <tr style=\"text-align: right;\">\n",
       "      <th></th>\n",
       "      <th>files</th>\n",
       "      <th>random_number</th>\n",
       "    </tr>\n",
       "  </thead>\n",
       "  <tbody>\n",
       "    <tr>\n",
       "      <th>0</th>\n",
       "      <td>dhoti_pants/flipkart/free-1-hp49-icare-origina...</td>\n",
       "      <td>1</td>\n",
       "    </tr>\n",
       "    <tr>\n",
       "      <th>1</th>\n",
       "      <td>dhoti_pants/karmaplace/VASMCDCR-2_512x769.jpg</td>\n",
       "      <td>2</td>\n",
       "    </tr>\n",
       "    <tr>\n",
       "      <th>2</th>\n",
       "      <td>dhoti_pants/flipkart/free-fpi-india-195-fashio...</td>\n",
       "      <td>8</td>\n",
       "    </tr>\n",
       "    <tr>\n",
       "      <th>3</th>\n",
       "      <td>dhoti_pants/flipkart/free-india-2002-whitewhal...</td>\n",
       "      <td>10</td>\n",
       "    </tr>\n",
       "    <tr>\n",
       "      <th>4</th>\n",
       "      <td>dhoti_pants/utsavfashion/utsavfashionembroider...</td>\n",
       "      <td>18</td>\n",
       "    </tr>\n",
       "  </tbody>\n",
       "</table>\n",
       "</div>"
      ],
      "text/plain": [
       "                                               files  random_number\n",
       "0  dhoti_pants/flipkart/free-1-hp49-icare-origina...              1\n",
       "1      dhoti_pants/karmaplace/VASMCDCR-2_512x769.jpg              2\n",
       "2  dhoti_pants/flipkart/free-fpi-india-195-fashio...              8\n",
       "3  dhoti_pants/flipkart/free-india-2002-whitewhal...             10\n",
       "4  dhoti_pants/utsavfashion/utsavfashionembroider...             18"
      ]
     },
     "execution_count": 1210,
     "metadata": {},
     "output_type": "execute_result"
    }
   ],
   "source": [
    "df_dhoti_pants.reset_index(drop=True, inplace=True)\n",
    "df_dhoti_pants.head()"
   ]
  },
  {
   "cell_type": "code",
   "execution_count": 1211,
   "id": "f11ce565",
   "metadata": {},
   "outputs": [],
   "source": [
    "df_dhoti_pants.to_csv('data/external/newly_scraped_images/df_dhoti_pants.csv')"
   ]
  },
  {
   "cell_type": "markdown",
   "id": "0be48aad",
   "metadata": {},
   "source": [
    "### Blouses"
   ]
  },
  {
   "cell_type": "code",
   "execution_count": 17,
   "id": "27eb7cf5",
   "metadata": {},
   "outputs": [],
   "source": [
    "# Getting all saved images of blouses from Flipkart\n",
    "files_fk = glob('data/external/newly_scraped_images/blouse/flipkart/*.jpg')"
   ]
  },
  {
   "cell_type": "code",
   "execution_count": 18,
   "id": "da5ceba0",
   "metadata": {},
   "outputs": [
    {
     "data": {
      "text/plain": [
       "387"
      ]
     },
     "execution_count": 18,
     "metadata": {},
     "output_type": "execute_result"
    }
   ],
   "source": [
    "len(files_fk)"
   ]
  },
  {
   "cell_type": "code",
   "execution_count": 19,
   "id": "98bfaa57",
   "metadata": {},
   "outputs": [],
   "source": [
    "# Getting all saved images of blouses from more pages from Flipkart\n",
    "files_fk1 = glob('data/external/newly_scraped_images/blouse/flipkart/*.jpeg')"
   ]
  },
  {
   "cell_type": "code",
   "execution_count": 20,
   "id": "c777c98b",
   "metadata": {},
   "outputs": [
    {
     "data": {
      "text/plain": [
       "223"
      ]
     },
     "execution_count": 20,
     "metadata": {},
     "output_type": "execute_result"
    }
   ],
   "source": [
    "len(files_fk1)"
   ]
  },
  {
   "cell_type": "code",
   "execution_count": 21,
   "id": "81ff7df5",
   "metadata": {},
   "outputs": [],
   "source": [
    "# Getting all saved images of blouses from Amazon.in\n",
    "files_ai = glob('data/external/newly_scraped_images/blouse/amazon.in/*.jpg')"
   ]
  },
  {
   "cell_type": "code",
   "execution_count": 22,
   "id": "e27d822b",
   "metadata": {},
   "outputs": [
    {
     "data": {
      "text/plain": [
       "157"
      ]
     },
     "execution_count": 22,
     "metadata": {},
     "output_type": "execute_result"
    }
   ],
   "source": [
    "len(files_ai)"
   ]
  },
  {
   "cell_type": "code",
   "execution_count": 23,
   "id": "029b70a8",
   "metadata": {},
   "outputs": [],
   "source": [
    "# Getting all saved images of blouses from Utsav Fashion\n",
    "files_uf = glob('data/external/newly_scraped_images/blouse/utsavfashion/*.jpg')"
   ]
  },
  {
   "cell_type": "code",
   "execution_count": 24,
   "id": "86ed9310",
   "metadata": {},
   "outputs": [
    {
     "data": {
      "text/plain": [
       "25"
      ]
     },
     "execution_count": 24,
     "metadata": {},
     "output_type": "execute_result"
    }
   ],
   "source": [
    "len(files_uf)"
   ]
  },
  {
   "cell_type": "markdown",
   "id": "abc1eb0d",
   "metadata": {},
   "source": [
    "Want 500 files"
   ]
  },
  {
   "cell_type": "code",
   "execution_count": 25,
   "id": "d3d9f2bc",
   "metadata": {},
   "outputs": [],
   "source": [
    "# Making combined list\n",
    "lst = files_fk + files_fk1 + files_uf + files_ai"
   ]
  },
  {
   "cell_type": "code",
   "execution_count": 26,
   "id": "3995002e",
   "metadata": {},
   "outputs": [],
   "source": [
    "df_blouse = pd.DataFrame()"
   ]
  },
  {
   "cell_type": "code",
   "execution_count": 27,
   "id": "547a54b8",
   "metadata": {},
   "outputs": [],
   "source": [
    "df_blouse['files'] = lst"
   ]
  },
  {
   "cell_type": "code",
   "execution_count": 28,
   "id": "16bc6e49",
   "metadata": {
    "scrolled": false
   },
   "outputs": [
    {
     "data": {
      "text/html": [
       "<div>\n",
       "<style scoped>\n",
       "    .dataframe tbody tr th:only-of-type {\n",
       "        vertical-align: middle;\n",
       "    }\n",
       "\n",
       "    .dataframe tbody tr th {\n",
       "        vertical-align: top;\n",
       "    }\n",
       "\n",
       "    .dataframe thead th {\n",
       "        text-align: right;\n",
       "    }\n",
       "</style>\n",
       "<table border=\"1\" class=\"dataframe\">\n",
       "  <thead>\n",
       "    <tr style=\"text-align: right;\">\n",
       "      <th></th>\n",
       "      <th>files</th>\n",
       "    </tr>\n",
       "  </thead>\n",
       "  <tbody>\n",
       "    <tr>\n",
       "      <th>0</th>\n",
       "      <td>data/external/newly_scraped_images/blouse/flip...</td>\n",
       "    </tr>\n",
       "    <tr>\n",
       "      <th>1</th>\n",
       "      <td>data/external/newly_scraped_images/blouse/flip...</td>\n",
       "    </tr>\n",
       "    <tr>\n",
       "      <th>2</th>\n",
       "      <td>data/external/newly_scraped_images/blouse/flip...</td>\n",
       "    </tr>\n",
       "    <tr>\n",
       "      <th>3</th>\n",
       "      <td>data/external/newly_scraped_images/blouse/flip...</td>\n",
       "    </tr>\n",
       "    <tr>\n",
       "      <th>4</th>\n",
       "      <td>data/external/newly_scraped_images/blouse/flip...</td>\n",
       "    </tr>\n",
       "  </tbody>\n",
       "</table>\n",
       "</div>"
      ],
      "text/plain": [
       "                                               files\n",
       "0  data/external/newly_scraped_images/blouse/flip...\n",
       "1  data/external/newly_scraped_images/blouse/flip...\n",
       "2  data/external/newly_scraped_images/blouse/flip...\n",
       "3  data/external/newly_scraped_images/blouse/flip...\n",
       "4  data/external/newly_scraped_images/blouse/flip..."
      ]
     },
     "execution_count": 28,
     "metadata": {},
     "output_type": "execute_result"
    }
   ],
   "source": [
    "df_blouse.head()"
   ]
  },
  {
   "cell_type": "code",
   "execution_count": 29,
   "id": "0a119ab0",
   "metadata": {},
   "outputs": [
    {
     "data": {
      "text/plain": [
       "792"
      ]
     },
     "execution_count": 29,
     "metadata": {},
     "output_type": "execute_result"
    }
   ],
   "source": [
    "len(df_blouse)"
   ]
  },
  {
   "cell_type": "code",
   "execution_count": 30,
   "id": "15b267b9",
   "metadata": {},
   "outputs": [],
   "source": [
    "# Making a list of random numbers with the same length as the dataframe.\n",
    "r = list(random.sample(range(0, 5000), 792))"
   ]
  },
  {
   "cell_type": "code",
   "execution_count": 31,
   "id": "f7f20cf9",
   "metadata": {},
   "outputs": [
    {
     "data": {
      "text/plain": [
       "792"
      ]
     },
     "execution_count": 31,
     "metadata": {},
     "output_type": "execute_result"
    }
   ],
   "source": [
    "len(r)"
   ]
  },
  {
   "cell_type": "code",
   "execution_count": 32,
   "id": "cc9ae54f",
   "metadata": {},
   "outputs": [],
   "source": [
    "# Adding the random numbers to the df\n",
    "df_blouse['random_number'] = r"
   ]
  },
  {
   "cell_type": "code",
   "execution_count": 33,
   "id": "0490e869",
   "metadata": {},
   "outputs": [
    {
     "data": {
      "text/html": [
       "<div>\n",
       "<style scoped>\n",
       "    .dataframe tbody tr th:only-of-type {\n",
       "        vertical-align: middle;\n",
       "    }\n",
       "\n",
       "    .dataframe tbody tr th {\n",
       "        vertical-align: top;\n",
       "    }\n",
       "\n",
       "    .dataframe thead th {\n",
       "        text-align: right;\n",
       "    }\n",
       "</style>\n",
       "<table border=\"1\" class=\"dataframe\">\n",
       "  <thead>\n",
       "    <tr style=\"text-align: right;\">\n",
       "      <th></th>\n",
       "      <th>files</th>\n",
       "      <th>random_number</th>\n",
       "    </tr>\n",
       "  </thead>\n",
       "  <tbody>\n",
       "    <tr>\n",
       "      <th>0</th>\n",
       "      <td>data/external/newly_scraped_images/blouse/flip...</td>\n",
       "      <td>4533</td>\n",
       "    </tr>\n",
       "    <tr>\n",
       "      <th>1</th>\n",
       "      <td>data/external/newly_scraped_images/blouse/flip...</td>\n",
       "      <td>1756</td>\n",
       "    </tr>\n",
       "    <tr>\n",
       "      <th>2</th>\n",
       "      <td>data/external/newly_scraped_images/blouse/flip...</td>\n",
       "      <td>3998</td>\n",
       "    </tr>\n",
       "    <tr>\n",
       "      <th>3</th>\n",
       "      <td>data/external/newly_scraped_images/blouse/flip...</td>\n",
       "      <td>2378</td>\n",
       "    </tr>\n",
       "    <tr>\n",
       "      <th>4</th>\n",
       "      <td>data/external/newly_scraped_images/blouse/flip...</td>\n",
       "      <td>2702</td>\n",
       "    </tr>\n",
       "  </tbody>\n",
       "</table>\n",
       "</div>"
      ],
      "text/plain": [
       "                                               files  random_number\n",
       "0  data/external/newly_scraped_images/blouse/flip...           4533\n",
       "1  data/external/newly_scraped_images/blouse/flip...           1756\n",
       "2  data/external/newly_scraped_images/blouse/flip...           3998\n",
       "3  data/external/newly_scraped_images/blouse/flip...           2378\n",
       "4  data/external/newly_scraped_images/blouse/flip...           2702"
      ]
     },
     "execution_count": 33,
     "metadata": {},
     "output_type": "execute_result"
    }
   ],
   "source": [
    "df_blouse.head()"
   ]
  },
  {
   "cell_type": "code",
   "execution_count": 34,
   "id": "c54a79bc",
   "metadata": {},
   "outputs": [],
   "source": [
    "# Sorting the df based on the random numbers to randomize images\n",
    "df_blouse = df_blouse.sort_values('random_number')"
   ]
  },
  {
   "cell_type": "code",
   "execution_count": 35,
   "id": "04878599",
   "metadata": {},
   "outputs": [],
   "source": [
    "# Taking only first 500 images\n",
    "df_blouse = df_blouse.iloc[:500, :]"
   ]
  },
  {
   "cell_type": "code",
   "execution_count": 36,
   "id": "0fbb02fa",
   "metadata": {},
   "outputs": [
    {
     "data": {
      "text/plain": [
       "500"
      ]
     },
     "execution_count": 36,
     "metadata": {},
     "output_type": "execute_result"
    }
   ],
   "source": [
    "len(df_blouse)"
   ]
  },
  {
   "cell_type": "code",
   "execution_count": 37,
   "id": "55d54a18",
   "metadata": {
    "scrolled": true
   },
   "outputs": [
    {
     "data": {
      "text/html": [
       "<div>\n",
       "<style scoped>\n",
       "    .dataframe tbody tr th:only-of-type {\n",
       "        vertical-align: middle;\n",
       "    }\n",
       "\n",
       "    .dataframe tbody tr th {\n",
       "        vertical-align: top;\n",
       "    }\n",
       "\n",
       "    .dataframe thead th {\n",
       "        text-align: right;\n",
       "    }\n",
       "</style>\n",
       "<table border=\"1\" class=\"dataframe\">\n",
       "  <thead>\n",
       "    <tr style=\"text-align: right;\">\n",
       "      <th></th>\n",
       "      <th>files</th>\n",
       "      <th>random_number</th>\n",
       "    </tr>\n",
       "  </thead>\n",
       "  <tbody>\n",
       "    <tr>\n",
       "      <th>0</th>\n",
       "      <td>data/external/newly_scraped_images/blouse/amaz...</td>\n",
       "      <td>2</td>\n",
       "    </tr>\n",
       "    <tr>\n",
       "      <th>1</th>\n",
       "      <td>data/external/newly_scraped_images/blouse/flip...</td>\n",
       "      <td>11</td>\n",
       "    </tr>\n",
       "    <tr>\n",
       "      <th>2</th>\n",
       "      <td>data/external/newly_scraped_images/blouse/flip...</td>\n",
       "      <td>30</td>\n",
       "    </tr>\n",
       "    <tr>\n",
       "      <th>3</th>\n",
       "      <td>data/external/newly_scraped_images/blouse/flip...</td>\n",
       "      <td>38</td>\n",
       "    </tr>\n",
       "    <tr>\n",
       "      <th>4</th>\n",
       "      <td>data/external/newly_scraped_images/blouse/flip...</td>\n",
       "      <td>48</td>\n",
       "    </tr>\n",
       "  </tbody>\n",
       "</table>\n",
       "</div>"
      ],
      "text/plain": [
       "                                               files  random_number\n",
       "0  data/external/newly_scraped_images/blouse/amaz...              2\n",
       "1  data/external/newly_scraped_images/blouse/flip...             11\n",
       "2  data/external/newly_scraped_images/blouse/flip...             30\n",
       "3  data/external/newly_scraped_images/blouse/flip...             38\n",
       "4  data/external/newly_scraped_images/blouse/flip...             48"
      ]
     },
     "execution_count": 37,
     "metadata": {},
     "output_type": "execute_result"
    }
   ],
   "source": [
    "df_blouse.reset_index(drop=True, inplace=True)\n",
    "df_blouse.head()"
   ]
  },
  {
   "cell_type": "code",
   "execution_count": 39,
   "id": "1dffc5a0",
   "metadata": {},
   "outputs": [],
   "source": [
    "df_blouse.to_csv('data/processed/df_blouse.csv')"
   ]
  },
  {
   "cell_type": "markdown",
   "id": "4be24f6b",
   "metadata": {},
   "source": [
    "### Leggings and Salwars"
   ]
  },
  {
   "cell_type": "code",
   "execution_count": 1167,
   "id": "0b8ad2d9",
   "metadata": {},
   "outputs": [],
   "source": [
    "# Getting all saved images of salwars from Amazon.in\n",
    "files_ai = glob('leggings_and_salwars/amazon.in_salwars/*.jpg')"
   ]
  },
  {
   "cell_type": "code",
   "execution_count": 1168,
   "id": "a8f5ff60",
   "metadata": {},
   "outputs": [
    {
     "data": {
      "text/plain": [
       "237"
      ]
     },
     "execution_count": 1168,
     "metadata": {},
     "output_type": "execute_result"
    }
   ],
   "source": [
    "len(files_ai)"
   ]
  },
  {
   "cell_type": "code",
   "execution_count": 1169,
   "id": "560cb8b3",
   "metadata": {},
   "outputs": [],
   "source": [
    "# Getting all saved images of leggings from Flipkart\n",
    "files_fk = glob('leggings_and_salwars/flipkart/*.jpeg')"
   ]
  },
  {
   "cell_type": "code",
   "execution_count": 1170,
   "id": "e7713e52",
   "metadata": {},
   "outputs": [
    {
     "data": {
      "text/plain": [
       "482"
      ]
     },
     "execution_count": 1170,
     "metadata": {},
     "output_type": "execute_result"
    }
   ],
   "source": [
    "len(files_fk)"
   ]
  },
  {
   "cell_type": "code",
   "execution_count": 1171,
   "id": "cd45f04b",
   "metadata": {},
   "outputs": [],
   "source": [
    "# Getting all saved images of salvars from Flipkart\n",
    "files_fkw = glob('leggings_and_salwars/flipkart_salwars/*.jpeg')"
   ]
  },
  {
   "cell_type": "code",
   "execution_count": 1172,
   "id": "f4faed5b",
   "metadata": {},
   "outputs": [
    {
     "data": {
      "text/plain": [
       "420"
      ]
     },
     "execution_count": 1172,
     "metadata": {},
     "output_type": "execute_result"
    }
   ],
   "source": [
    "len(files_fkw)"
   ]
  },
  {
   "cell_type": "code",
   "execution_count": 1173,
   "id": "a5a18cc7",
   "metadata": {},
   "outputs": [],
   "source": [
    "# Getting all saved images of leggings from Utsav Fashion\n",
    "files_uf = glob('leggings_and_salwars/utsav_leggings/*.jpg')"
   ]
  },
  {
   "cell_type": "code",
   "execution_count": 1174,
   "id": "a779d790",
   "metadata": {},
   "outputs": [
    {
     "data": {
      "text/plain": [
       "18"
      ]
     },
     "execution_count": 1174,
     "metadata": {},
     "output_type": "execute_result"
    }
   ],
   "source": [
    "len(files_uf)"
   ]
  },
  {
   "cell_type": "markdown",
   "id": "9306cfbd",
   "metadata": {},
   "source": [
    "Want 500 files"
   ]
  },
  {
   "cell_type": "code",
   "execution_count": 1175,
   "id": "5606a4b5",
   "metadata": {},
   "outputs": [],
   "source": [
    "# Making combined list\n",
    "lst = files_ai + files_fk + files_uf + files_fkw"
   ]
  },
  {
   "cell_type": "code",
   "execution_count": 1176,
   "id": "cd35ce73",
   "metadata": {},
   "outputs": [],
   "source": [
    "df_leggings_and_salwars = pd.DataFrame()"
   ]
  },
  {
   "cell_type": "code",
   "execution_count": 1177,
   "id": "c9426b36",
   "metadata": {},
   "outputs": [],
   "source": [
    "df_leggings_and_salwars['files'] = lst"
   ]
  },
  {
   "cell_type": "code",
   "execution_count": 1178,
   "id": "73291af1",
   "metadata": {
    "scrolled": false
   },
   "outputs": [
    {
     "data": {
      "text/html": [
       "<div>\n",
       "<style scoped>\n",
       "    .dataframe tbody tr th:only-of-type {\n",
       "        vertical-align: middle;\n",
       "    }\n",
       "\n",
       "    .dataframe tbody tr th {\n",
       "        vertical-align: top;\n",
       "    }\n",
       "\n",
       "    .dataframe thead th {\n",
       "        text-align: right;\n",
       "    }\n",
       "</style>\n",
       "<table border=\"1\" class=\"dataframe\">\n",
       "  <thead>\n",
       "    <tr style=\"text-align: right;\">\n",
       "      <th></th>\n",
       "      <th>files</th>\n",
       "    </tr>\n",
       "  </thead>\n",
       "  <tbody>\n",
       "    <tr>\n",
       "      <th>0</th>\n",
       "      <td>leggings_and_salwars/amazon.in_salwars/61f7bHk...</td>\n",
       "    </tr>\n",
       "    <tr>\n",
       "      <th>1</th>\n",
       "      <td>leggings_and_salwars/amazon.in_salwars/41uqpW8...</td>\n",
       "    </tr>\n",
       "    <tr>\n",
       "      <th>2</th>\n",
       "      <td>leggings_and_salwars/amazon.in_salwars/61nnI4m...</td>\n",
       "    </tr>\n",
       "    <tr>\n",
       "      <th>3</th>\n",
       "      <td>leggings_and_salwars/amazon.in_salwars/71LBFRQ...</td>\n",
       "    </tr>\n",
       "    <tr>\n",
       "      <th>4</th>\n",
       "      <td>leggings_and_salwars/amazon.in_salwars/617CAyn...</td>\n",
       "    </tr>\n",
       "  </tbody>\n",
       "</table>\n",
       "</div>"
      ],
      "text/plain": [
       "                                               files\n",
       "0  leggings_and_salwars/amazon.in_salwars/61f7bHk...\n",
       "1  leggings_and_salwars/amazon.in_salwars/41uqpW8...\n",
       "2  leggings_and_salwars/amazon.in_salwars/61nnI4m...\n",
       "3  leggings_and_salwars/amazon.in_salwars/71LBFRQ...\n",
       "4  leggings_and_salwars/amazon.in_salwars/617CAyn..."
      ]
     },
     "execution_count": 1178,
     "metadata": {},
     "output_type": "execute_result"
    }
   ],
   "source": [
    "df_leggings_and_salwars.head()"
   ]
  },
  {
   "cell_type": "code",
   "execution_count": 1179,
   "id": "f46864fc",
   "metadata": {},
   "outputs": [
    {
     "data": {
      "text/plain": [
       "1157"
      ]
     },
     "execution_count": 1179,
     "metadata": {},
     "output_type": "execute_result"
    }
   ],
   "source": [
    "len(df_leggings_and_salwars)"
   ]
  },
  {
   "cell_type": "code",
   "execution_count": 1183,
   "id": "e7ebc8f1",
   "metadata": {},
   "outputs": [],
   "source": [
    "# Making a list of random numbers with the same length as the dataframe.\n",
    "r = list(random.sample(range(0, 5000), 1157))"
   ]
  },
  {
   "cell_type": "code",
   "execution_count": 1184,
   "id": "5143030e",
   "metadata": {},
   "outputs": [
    {
     "data": {
      "text/plain": [
       "1157"
      ]
     },
     "execution_count": 1184,
     "metadata": {},
     "output_type": "execute_result"
    }
   ],
   "source": [
    "len(r)"
   ]
  },
  {
   "cell_type": "code",
   "execution_count": 1185,
   "id": "c1ad9d2b",
   "metadata": {},
   "outputs": [],
   "source": [
    "# Adding the random numbers to the df\n",
    "df_leggings_and_salwars['random_number'] = r"
   ]
  },
  {
   "cell_type": "code",
   "execution_count": 1186,
   "id": "a3f30819",
   "metadata": {},
   "outputs": [
    {
     "data": {
      "text/html": [
       "<div>\n",
       "<style scoped>\n",
       "    .dataframe tbody tr th:only-of-type {\n",
       "        vertical-align: middle;\n",
       "    }\n",
       "\n",
       "    .dataframe tbody tr th {\n",
       "        vertical-align: top;\n",
       "    }\n",
       "\n",
       "    .dataframe thead th {\n",
       "        text-align: right;\n",
       "    }\n",
       "</style>\n",
       "<table border=\"1\" class=\"dataframe\">\n",
       "  <thead>\n",
       "    <tr style=\"text-align: right;\">\n",
       "      <th></th>\n",
       "      <th>files</th>\n",
       "      <th>random_number</th>\n",
       "    </tr>\n",
       "  </thead>\n",
       "  <tbody>\n",
       "    <tr>\n",
       "      <th>0</th>\n",
       "      <td>leggings_and_salwars/amazon.in_salwars/61f7bHk...</td>\n",
       "      <td>81</td>\n",
       "    </tr>\n",
       "    <tr>\n",
       "      <th>1</th>\n",
       "      <td>leggings_and_salwars/amazon.in_salwars/41uqpW8...</td>\n",
       "      <td>3713</td>\n",
       "    </tr>\n",
       "    <tr>\n",
       "      <th>2</th>\n",
       "      <td>leggings_and_salwars/amazon.in_salwars/61nnI4m...</td>\n",
       "      <td>4307</td>\n",
       "    </tr>\n",
       "    <tr>\n",
       "      <th>3</th>\n",
       "      <td>leggings_and_salwars/amazon.in_salwars/71LBFRQ...</td>\n",
       "      <td>2074</td>\n",
       "    </tr>\n",
       "    <tr>\n",
       "      <th>4</th>\n",
       "      <td>leggings_and_salwars/amazon.in_salwars/617CAyn...</td>\n",
       "      <td>1015</td>\n",
       "    </tr>\n",
       "  </tbody>\n",
       "</table>\n",
       "</div>"
      ],
      "text/plain": [
       "                                               files  random_number\n",
       "0  leggings_and_salwars/amazon.in_salwars/61f7bHk...             81\n",
       "1  leggings_and_salwars/amazon.in_salwars/41uqpW8...           3713\n",
       "2  leggings_and_salwars/amazon.in_salwars/61nnI4m...           4307\n",
       "3  leggings_and_salwars/amazon.in_salwars/71LBFRQ...           2074\n",
       "4  leggings_and_salwars/amazon.in_salwars/617CAyn...           1015"
      ]
     },
     "execution_count": 1186,
     "metadata": {},
     "output_type": "execute_result"
    }
   ],
   "source": [
    "df_leggings_and_salwars.head()"
   ]
  },
  {
   "cell_type": "code",
   "execution_count": 1187,
   "id": "c9567721",
   "metadata": {},
   "outputs": [],
   "source": [
    "# Sorting the df based on the random numbers to randomize images\n",
    "df_leggings_and_salwars = df_leggings_and_salwars.sort_values('random_number')"
   ]
  },
  {
   "cell_type": "code",
   "execution_count": 1188,
   "id": "4975935b",
   "metadata": {},
   "outputs": [],
   "source": [
    "# Taking only first 500 images\n",
    "df_leggings_and_salwars = df_leggings_and_salwars.iloc[:500, :]"
   ]
  },
  {
   "cell_type": "code",
   "execution_count": 1189,
   "id": "70eb15da",
   "metadata": {},
   "outputs": [
    {
     "data": {
      "text/plain": [
       "500"
      ]
     },
     "execution_count": 1189,
     "metadata": {},
     "output_type": "execute_result"
    }
   ],
   "source": [
    "len(df_leggings_and_salwars)"
   ]
  },
  {
   "cell_type": "code",
   "execution_count": 1190,
   "id": "d7089246",
   "metadata": {
    "scrolled": false
   },
   "outputs": [
    {
     "data": {
      "text/html": [
       "<div>\n",
       "<style scoped>\n",
       "    .dataframe tbody tr th:only-of-type {\n",
       "        vertical-align: middle;\n",
       "    }\n",
       "\n",
       "    .dataframe tbody tr th {\n",
       "        vertical-align: top;\n",
       "    }\n",
       "\n",
       "    .dataframe thead th {\n",
       "        text-align: right;\n",
       "    }\n",
       "</style>\n",
       "<table border=\"1\" class=\"dataframe\">\n",
       "  <thead>\n",
       "    <tr style=\"text-align: right;\">\n",
       "      <th></th>\n",
       "      <th>files</th>\n",
       "      <th>random_number</th>\n",
       "    </tr>\n",
       "  </thead>\n",
       "  <tbody>\n",
       "    <tr>\n",
       "      <th>0</th>\n",
       "      <td>leggings_and_salwars/flipkart_salwars/free-sbp...</td>\n",
       "      <td>3</td>\n",
       "    </tr>\n",
       "    <tr>\n",
       "      <th>1</th>\n",
       "      <td>leggings_and_salwars/flipkart_salwars/yes-2-m-...</td>\n",
       "      <td>8</td>\n",
       "    </tr>\n",
       "    <tr>\n",
       "      <th>2</th>\n",
       "      <td>leggings_and_salwars/flipkart/s-ajwa-18-ajwa-o...</td>\n",
       "      <td>16</td>\n",
       "    </tr>\n",
       "    <tr>\n",
       "      <th>3</th>\n",
       "      <td>leggings_and_salwars/flipkart_salwars/54-pat-b...</td>\n",
       "      <td>27</td>\n",
       "    </tr>\n",
       "    <tr>\n",
       "      <th>4</th>\n",
       "      <td>leggings_and_salwars/flipkart/3xl-pt-brown-ali...</td>\n",
       "      <td>33</td>\n",
       "    </tr>\n",
       "  </tbody>\n",
       "</table>\n",
       "</div>"
      ],
      "text/plain": [
       "                                               files  random_number\n",
       "0  leggings_and_salwars/flipkart_salwars/free-sbp...              3\n",
       "1  leggings_and_salwars/flipkart_salwars/yes-2-m-...              8\n",
       "2  leggings_and_salwars/flipkart/s-ajwa-18-ajwa-o...             16\n",
       "3  leggings_and_salwars/flipkart_salwars/54-pat-b...             27\n",
       "4  leggings_and_salwars/flipkart/3xl-pt-brown-ali...             33"
      ]
     },
     "execution_count": 1190,
     "metadata": {},
     "output_type": "execute_result"
    }
   ],
   "source": [
    "df_leggings_and_salwars.reset_index(drop=True, inplace=True)\n",
    "df_leggings_and_salwars.head()"
   ]
  },
  {
   "cell_type": "code",
   "execution_count": 1191,
   "id": "e0612ea6",
   "metadata": {},
   "outputs": [],
   "source": [
    "df_leggings_and_salwars.to_csv('df_leggings_and_salwars.csv')"
   ]
  }
 ],
 "metadata": {
  "kernelspec": {
   "display_name": "Python 3 (ipykernel)",
   "language": "python",
   "name": "python3"
  },
  "language_info": {
   "codemirror_mode": {
    "name": "ipython",
    "version": 3
   },
   "file_extension": ".py",
   "mimetype": "text/x-python",
   "name": "python",
   "nbconvert_exporter": "python",
   "pygments_lexer": "ipython3",
   "version": "3.9.17"
  }
 },
 "nbformat": 4,
 "nbformat_minor": 5
}
