{
 "cells": [
  {
   "cell_type": "code",
   "execution_count": 11,
   "id": "130035e7",
   "metadata": {},
   "outputs": [],
   "source": [
    "import pandas as pd\n",
    "import numpy as np\n",
    "import matplotlib.pyplot as plt\n",
    "import seaborn as sns"
   ]
  },
  {
   "cell_type": "code",
   "execution_count": 24,
   "id": "a905e5e4",
   "metadata": {},
   "outputs": [],
   "source": [
    "df = pd.read_csv('/Users/butler/Downloads/archive-6/tweets_merged.csv')"
   ]
  },
  {
   "cell_type": "code",
   "execution_count": 25,
   "id": "c5132deb",
   "metadata": {
    "scrolled": true
   },
   "outputs": [
    {
     "data": {
      "text/html": [
       "<div>\n",
       "<style scoped>\n",
       "    .dataframe tbody tr th:only-of-type {\n",
       "        vertical-align: middle;\n",
       "    }\n",
       "\n",
       "    .dataframe tbody tr th {\n",
       "        vertical-align: top;\n",
       "    }\n",
       "\n",
       "    .dataframe thead th {\n",
       "        text-align: right;\n",
       "    }\n",
       "</style>\n",
       "<table border=\"1\" class=\"dataframe\">\n",
       "  <thead>\n",
       "    <tr style=\"text-align: right;\">\n",
       "      <th></th>\n",
       "      <th>Unnamed: 0</th>\n",
       "      <th>ID</th>\n",
       "      <th>Date</th>\n",
       "      <th>Text</th>\n",
       "      <th>Likes</th>\n",
       "      <th>Retweets</th>\n",
       "      <th>Replies</th>\n",
       "      <th>Quotes</th>\n",
       "      <th>Ticker</th>\n",
       "    </tr>\n",
       "  </thead>\n",
       "  <tbody>\n",
       "    <tr>\n",
       "      <th>0</th>\n",
       "      <td>185</td>\n",
       "      <td>1608941517649096705</td>\n",
       "      <td>1.672358e+09</td>\n",
       "      <td>Few of mine to be thankful for in 2022:  $IBM ...</td>\n",
       "      <td>208</td>\n",
       "      <td>7</td>\n",
       "      <td>25</td>\n",
       "      <td>1</td>\n",
       "      <td>DE</td>\n",
       "    </tr>\n",
       "    <tr>\n",
       "      <th>1</th>\n",
       "      <td>192</td>\n",
       "      <td>1609196318089412609</td>\n",
       "      <td>1.672445e+09</td>\n",
       "      <td>Bill Gates Top 10 Dividend Stocks💰 \\n\\n$DE 🚜 1...</td>\n",
       "      <td>46</td>\n",
       "      <td>12</td>\n",
       "      <td>2</td>\n",
       "      <td>0</td>\n",
       "      <td>DE</td>\n",
       "    </tr>\n",
       "    <tr>\n",
       "      <th>2</th>\n",
       "      <td>195</td>\n",
       "      <td>1609203444971352068</td>\n",
       "      <td>1.672445e+09</td>\n",
       "      <td>2022 was a \"stay-away\" market, as @chasharris1...</td>\n",
       "      <td>38</td>\n",
       "      <td>4</td>\n",
       "      <td>2</td>\n",
       "      <td>2</td>\n",
       "      <td>DE</td>\n",
       "    </tr>\n",
       "    <tr>\n",
       "      <th>3</th>\n",
       "      <td>196</td>\n",
       "      <td>1608673073892556800</td>\n",
       "      <td>1.672358e+09</td>\n",
       "      <td>Checking out my Dividend Growth Pie and turns ...</td>\n",
       "      <td>19</td>\n",
       "      <td>0</td>\n",
       "      <td>3</td>\n",
       "      <td>0</td>\n",
       "      <td>DE</td>\n",
       "    </tr>\n",
       "    <tr>\n",
       "      <th>4</th>\n",
       "      <td>203</td>\n",
       "      <td>1609332176713318401</td>\n",
       "      <td>1.672445e+09</td>\n",
       "      <td>Great list by @thedividendclub on IG\\n\\n$SCHW ...</td>\n",
       "      <td>83</td>\n",
       "      <td>15</td>\n",
       "      <td>2</td>\n",
       "      <td>1</td>\n",
       "      <td>DE</td>\n",
       "    </tr>\n",
       "  </tbody>\n",
       "</table>\n",
       "</div>"
      ],
      "text/plain": [
       "   Unnamed: 0                   ID          Date  \\\n",
       "0         185  1608941517649096705  1.672358e+09   \n",
       "1         192  1609196318089412609  1.672445e+09   \n",
       "2         195  1609203444971352068  1.672445e+09   \n",
       "3         196  1608673073892556800  1.672358e+09   \n",
       "4         203  1609332176713318401  1.672445e+09   \n",
       "\n",
       "                                                Text  Likes  Retweets  \\\n",
       "0  Few of mine to be thankful for in 2022:  $IBM ...    208         7   \n",
       "1  Bill Gates Top 10 Dividend Stocks💰 \\n\\n$DE 🚜 1...     46        12   \n",
       "2  2022 was a \"stay-away\" market, as @chasharris1...     38         4   \n",
       "3  Checking out my Dividend Growth Pie and turns ...     19         0   \n",
       "4  Great list by @thedividendclub on IG\\n\\n$SCHW ...     83        15   \n",
       "\n",
       "   Replies  Quotes Ticker  \n",
       "0       25       1     DE  \n",
       "1        2       0     DE  \n",
       "2        2       2     DE  \n",
       "3        3       0     DE  \n",
       "4        2       1     DE  "
      ]
     },
     "execution_count": 25,
     "metadata": {},
     "output_type": "execute_result"
    }
   ],
   "source": [
    "df.head()"
   ]
  },
  {
   "cell_type": "code",
   "execution_count": 39,
   "id": "ddb437c3",
   "metadata": {
    "scrolled": true
   },
   "outputs": [
    {
     "data": {
      "text/plain": [
       "'2022 was a \"stay-away\" market, as @chasharris1025 said on Friday\\'s #IBDLive. That\\'s esp. true for speculative growth. What to do as we head into 2023? Wait for evidence of a sustained uptrend. (1/5) $TSLA $NIO $MEDP $XOM $DE $CELH $BMRN $LI #BYD $XPEV https://t.co/H76AIBd8q9'"
      ]
     },
     "execution_count": 39,
     "metadata": {},
     "output_type": "execute_result"
    }
   ],
   "source": [
    "df.iloc[2,3]"
   ]
  },
  {
   "cell_type": "code",
   "execution_count": 30,
   "id": "bac0161e",
   "metadata": {},
   "outputs": [
    {
     "data": {
      "text/plain": [
       "(104509, 9)"
      ]
     },
     "execution_count": 30,
     "metadata": {},
     "output_type": "execute_result"
    }
   ],
   "source": [
    "df.shape"
   ]
  },
  {
   "cell_type": "code",
   "execution_count": 28,
   "id": "2cd0ada3",
   "metadata": {
    "scrolled": true
   },
   "outputs": [
    {
     "data": {
      "text/plain": [
       "array(['DE', 'VEGI', 'TSLA', 'ILMN', 'PFE', 'AAPL'], dtype=object)"
      ]
     },
     "execution_count": 28,
     "metadata": {},
     "output_type": "execute_result"
    }
   ],
   "source": [
    "df.Ticker.unique()"
   ]
  },
  {
   "cell_type": "code",
   "execution_count": 33,
   "id": "3c6c76ab",
   "metadata": {},
   "outputs": [],
   "source": [
    "df_vegi = df[df.Ticker == 'VEGI']"
   ]
  },
  {
   "cell_type": "code",
   "execution_count": 34,
   "id": "a89cfeda",
   "metadata": {},
   "outputs": [
    {
     "data": {
      "text/plain": [
       "(1192, 9)"
      ]
     },
     "execution_count": 34,
     "metadata": {},
     "output_type": "execute_result"
    }
   ],
   "source": [
    "df_vegi.shape"
   ]
  },
  {
   "cell_type": "code",
   "execution_count": 26,
   "id": "9d546fc5",
   "metadata": {},
   "outputs": [],
   "source": [
    "df_de = df[df.Ticker == 'DE']"
   ]
  },
  {
   "cell_type": "code",
   "execution_count": 29,
   "id": "de1d0164",
   "metadata": {
    "scrolled": true
   },
   "outputs": [
    {
     "data": {
      "text/plain": [
       "(1281, 9)"
      ]
     },
     "execution_count": 29,
     "metadata": {},
     "output_type": "execute_result"
    }
   ],
   "source": [
    "df_de.shape"
   ]
  },
  {
   "cell_type": "code",
   "execution_count": 35,
   "id": "f34a833f",
   "metadata": {},
   "outputs": [],
   "source": [
    "df_tsla = df[df.Ticker == 'TSLA']"
   ]
  },
  {
   "cell_type": "code",
   "execution_count": 36,
   "id": "779905a0",
   "metadata": {},
   "outputs": [
    {
     "data": {
      "text/plain": [
       "(47910, 9)"
      ]
     },
     "execution_count": 36,
     "metadata": {},
     "output_type": "execute_result"
    }
   ],
   "source": [
    "df_tsla.shape"
   ]
  },
  {
   "cell_type": "code",
   "execution_count": 37,
   "id": "0cd1eb30",
   "metadata": {},
   "outputs": [],
   "source": [
    "df_ilmn = df[df.Ticker == 'ILMN']"
   ]
  },
  {
   "cell_type": "code",
   "execution_count": 38,
   "id": "4d768538",
   "metadata": {},
   "outputs": [
    {
     "data": {
      "text/plain": [
       "(40727, 9)"
      ]
     },
     "execution_count": 38,
     "metadata": {},
     "output_type": "execute_result"
    }
   ],
   "source": [
    "df_ilmn.shape"
   ]
  },
  {
   "cell_type": "code",
   "execution_count": 27,
   "id": "6ada029a",
   "metadata": {},
   "outputs": [
    {
     "data": {
      "text/html": [
       "<div>\n",
       "<style scoped>\n",
       "    .dataframe tbody tr th:only-of-type {\n",
       "        vertical-align: middle;\n",
       "    }\n",
       "\n",
       "    .dataframe tbody tr th {\n",
       "        vertical-align: top;\n",
       "    }\n",
       "\n",
       "    .dataframe thead th {\n",
       "        text-align: right;\n",
       "    }\n",
       "</style>\n",
       "<table border=\"1\" class=\"dataframe\">\n",
       "  <thead>\n",
       "    <tr style=\"text-align: right;\">\n",
       "      <th></th>\n",
       "      <th>Unnamed: 0</th>\n",
       "      <th>ID</th>\n",
       "      <th>Date</th>\n",
       "      <th>Text</th>\n",
       "      <th>Likes</th>\n",
       "      <th>Retweets</th>\n",
       "      <th>Replies</th>\n",
       "      <th>Quotes</th>\n",
       "      <th>Ticker</th>\n",
       "    </tr>\n",
       "  </thead>\n",
       "  <tbody>\n",
       "    <tr>\n",
       "      <th>0</th>\n",
       "      <td>185</td>\n",
       "      <td>1608941517649096705</td>\n",
       "      <td>1.672358e+09</td>\n",
       "      <td>Few of mine to be thankful for in 2022:  $IBM ...</td>\n",
       "      <td>208</td>\n",
       "      <td>7</td>\n",
       "      <td>25</td>\n",
       "      <td>1</td>\n",
       "      <td>DE</td>\n",
       "    </tr>\n",
       "    <tr>\n",
       "      <th>1</th>\n",
       "      <td>192</td>\n",
       "      <td>1609196318089412609</td>\n",
       "      <td>1.672445e+09</td>\n",
       "      <td>Bill Gates Top 10 Dividend Stocks💰 \\n\\n$DE 🚜 1...</td>\n",
       "      <td>46</td>\n",
       "      <td>12</td>\n",
       "      <td>2</td>\n",
       "      <td>0</td>\n",
       "      <td>DE</td>\n",
       "    </tr>\n",
       "    <tr>\n",
       "      <th>2</th>\n",
       "      <td>195</td>\n",
       "      <td>1609203444971352068</td>\n",
       "      <td>1.672445e+09</td>\n",
       "      <td>2022 was a \"stay-away\" market, as @chasharris1...</td>\n",
       "      <td>38</td>\n",
       "      <td>4</td>\n",
       "      <td>2</td>\n",
       "      <td>2</td>\n",
       "      <td>DE</td>\n",
       "    </tr>\n",
       "    <tr>\n",
       "      <th>3</th>\n",
       "      <td>196</td>\n",
       "      <td>1608673073892556800</td>\n",
       "      <td>1.672358e+09</td>\n",
       "      <td>Checking out my Dividend Growth Pie and turns ...</td>\n",
       "      <td>19</td>\n",
       "      <td>0</td>\n",
       "      <td>3</td>\n",
       "      <td>0</td>\n",
       "      <td>DE</td>\n",
       "    </tr>\n",
       "    <tr>\n",
       "      <th>4</th>\n",
       "      <td>203</td>\n",
       "      <td>1609332176713318401</td>\n",
       "      <td>1.672445e+09</td>\n",
       "      <td>Great list by @thedividendclub on IG\\n\\n$SCHW ...</td>\n",
       "      <td>83</td>\n",
       "      <td>15</td>\n",
       "      <td>2</td>\n",
       "      <td>1</td>\n",
       "      <td>DE</td>\n",
       "    </tr>\n",
       "  </tbody>\n",
       "</table>\n",
       "</div>"
      ],
      "text/plain": [
       "   Unnamed: 0                   ID          Date  \\\n",
       "0         185  1608941517649096705  1.672358e+09   \n",
       "1         192  1609196318089412609  1.672445e+09   \n",
       "2         195  1609203444971352068  1.672445e+09   \n",
       "3         196  1608673073892556800  1.672358e+09   \n",
       "4         203  1609332176713318401  1.672445e+09   \n",
       "\n",
       "                                                Text  Likes  Retweets  \\\n",
       "0  Few of mine to be thankful for in 2022:  $IBM ...    208         7   \n",
       "1  Bill Gates Top 10 Dividend Stocks💰 \\n\\n$DE 🚜 1...     46        12   \n",
       "2  2022 was a \"stay-away\" market, as @chasharris1...     38         4   \n",
       "3  Checking out my Dividend Growth Pie and turns ...     19         0   \n",
       "4  Great list by @thedividendclub on IG\\n\\n$SCHW ...     83        15   \n",
       "\n",
       "   Replies  Quotes Ticker  \n",
       "0       25       1     DE  \n",
       "1        2       0     DE  \n",
       "2        2       2     DE  \n",
       "3        3       0     DE  \n",
       "4        2       1     DE  "
      ]
     },
     "execution_count": 27,
     "metadata": {},
     "output_type": "execute_result"
    }
   ],
   "source": [
    "df_de.head()"
   ]
  },
  {
   "cell_type": "code",
   "execution_count": 17,
   "id": "fc92f7c0",
   "metadata": {},
   "outputs": [
    {
     "data": {
      "text/plain": [
       "\"Why is it that Twitter took down my comment and BANNED ME FOR THREE DAYS  for posting men slander and called it hate speech but I found THOUSANDS OF lgbt+ hate, still up? That's actually hate speech\""
      ]
     },
     "execution_count": 17,
     "metadata": {},
     "output_type": "execute_result"
    }
   ],
   "source": [
    "df.iloc[20,4]"
   ]
  },
  {
   "cell_type": "code",
   "execution_count": 18,
   "id": "f3e81e09",
   "metadata": {},
   "outputs": [
    {
     "data": {
      "text/plain": [
       "'I mentioned this yesterday already but pics can explain it better then words about conservatives hold a distain for LGBT no matter what, like Dave rubin supported the right on almost all issues but still get this vitriol thrown towards him.  https://t.co/5PdMsQlLgt'"
      ]
     },
     "execution_count": 18,
     "metadata": {},
     "output_type": "execute_result"
    }
   ],
   "source": [
    "df.iloc[30,4]"
   ]
  },
  {
   "cell_type": "code",
   "execution_count": 19,
   "id": "749a27ce",
   "metadata": {},
   "outputs": [
    {
     "data": {
      "text/plain": [
       "'Any BL or GL recommendations?  #LGBT #raikantopeni  https://t.co/6Qn9oAw9lv'"
      ]
     },
     "execution_count": 19,
     "metadata": {},
     "output_type": "execute_result"
    }
   ],
   "source": [
    "df.iloc[40,4]"
   ]
  },
  {
   "cell_type": "code",
   "execution_count": 20,
   "id": "e510477a",
   "metadata": {},
   "outputs": [
    {
     "data": {
      "text/plain": [
       "'@gayety @LGBT Bro these are all trash'"
      ]
     },
     "execution_count": 20,
     "metadata": {},
     "output_type": "execute_result"
    }
   ],
   "source": [
    "df.iloc[50,4]"
   ]
  },
  {
   "cell_type": "code",
   "execution_count": 21,
   "id": "2bfb6e36",
   "metadata": {},
   "outputs": [
    {
     "data": {
      "text/plain": [
       "\"@PickardJE Why are they bringing all this confusing- very easy to offend LGBT- pronouns etc stuff into politics so much now it's ridiculous and shafting ppl for saying literally anything. There's more pressing stuff\""
      ]
     },
     "execution_count": 21,
     "metadata": {},
     "output_type": "execute_result"
    }
   ],
   "source": [
    "df.iloc[60,4]"
   ]
  },
  {
   "cell_type": "code",
   "execution_count": 22,
   "id": "ddec1ffe",
   "metadata": {},
   "outputs": [
    {
     "data": {
      "text/plain": [
       "'@pana_pancake I agree 100%. When we did the wedding zine we wanted smaller creators and rare pair ships because we were donating to an LGBT+ charity and wanted to be inclusive in other ways as well. So yes I agree with all of this! Digital zines are really the way to go to highlight new talent'"
      ]
     },
     "execution_count": 22,
     "metadata": {},
     "output_type": "execute_result"
    }
   ],
   "source": [
    "df.iloc[70,4]"
   ]
  },
  {
   "cell_type": "code",
   "execution_count": 23,
   "id": "98b42c49",
   "metadata": {},
   "outputs": [
    {
     "data": {
      "text/plain": [
       "'@CatchMeOSHBD @RealAndyLeeShow Regardless of the lack of newsworthy garish violence at the occupation, unconventional assault was used (noise based warfare) and there were numerous assaults and harassing of LGBT people, a soup kitchen, ANYONE wearing a mask...'"
      ]
     },
     "execution_count": 23,
     "metadata": {},
     "output_type": "execute_result"
    }
   ],
   "source": [
    "df.iloc[80,4]"
   ]
  },
  {
   "cell_type": "code",
   "execution_count": null,
   "id": "e9ecabb9",
   "metadata": {},
   "outputs": [],
   "source": []
  }
 ],
 "metadata": {
  "kernelspec": {
   "display_name": "Python 3 (ipykernel)",
   "language": "python",
   "name": "python3"
  },
  "language_info": {
   "codemirror_mode": {
    "name": "ipython",
    "version": 3
   },
   "file_extension": ".py",
   "mimetype": "text/x-python",
   "name": "python",
   "nbconvert_exporter": "python",
   "pygments_lexer": "ipython3",
   "version": "3.9.16"
  }
 },
 "nbformat": 4,
 "nbformat_minor": 5
}
