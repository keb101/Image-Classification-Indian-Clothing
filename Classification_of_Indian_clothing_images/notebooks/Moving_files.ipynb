{
 "cells": [
  {
   "cell_type": "code",
   "execution_count": 79,
   "id": "57c232fd",
   "metadata": {},
   "outputs": [],
   "source": [
    "import shutil\n",
    "import pandas as pd\n",
    "import numpy as np\n",
    "import seaborn as sns\n",
    "import matplotlib.pyplot as plt\n",
    "import imageio.v2 as imageio\n",
    "import cv2\n",
    "from skimage import color\n",
    "import os\n",
    "from glob import glob\n",
    "import random\n",
    "from pathlib import Path\n",
    "\n"
   ]
  },
  {
   "cell_type": "code",
   "execution_count": 135,
   "id": "95e32cf2",
   "metadata": {},
   "outputs": [],
   "source": [
    "df_women_kurta = pd.read_csv('/Users/butler/Documents/springboard_bootcamp/Classification_of_Indian_clothing_images/data/external/newly_scraped_images/df_women_kurta.csv')"
   ]
  },
  {
   "cell_type": "code",
   "execution_count": 81,
   "id": "743b7653",
   "metadata": {},
   "outputs": [],
   "source": [
    "df_sherwanis = pd.read_csv('/Users/butler/Documents/springboard_bootcamp/Classification_of_Indian_clothing_images/data/external/newly_scraped_images/df_sherwanis.csv')"
   ]
  },
  {
   "cell_type": "code",
   "execution_count": 82,
   "id": "5d411cd3",
   "metadata": {},
   "outputs": [],
   "source": [
    "df_saree = pd.read_csv('/Users/butler/Documents/springboard_bootcamp/Classification_of_Indian_clothing_images/data/external/newly_scraped_images/df_saree.csv')"
   ]
  },
  {
   "cell_type": "code",
   "execution_count": 83,
   "id": "99c4d218",
   "metadata": {},
   "outputs": [],
   "source": [
    "df_petticoats = pd.read_csv('/Users/butler/Documents/springboard_bootcamp/Classification_of_Indian_clothing_images/data/external/newly_scraped_images/df_petticoats.csv')"
   ]
  },
  {
   "cell_type": "code",
   "execution_count": 84,
   "id": "fa5cf5f5",
   "metadata": {},
   "outputs": [],
   "source": [
    "df_palazzos = pd.read_csv('/Users/butler/Documents/springboard_bootcamp/Classification_of_Indian_clothing_images/data/external/newly_scraped_images/df_palazzos.csv')"
   ]
  },
  {
   "cell_type": "code",
   "execution_count": 85,
   "id": "00f786b0",
   "metadata": {},
   "outputs": [],
   "source": [
    "df_nehru_jackets = pd.read_csv('/Users/butler/Documents/springboard_bootcamp/Classification_of_Indian_clothing_images/data/external/newly_scraped_images/df_nehru_jackets.csv')"
   ]
  },
  {
   "cell_type": "code",
   "execution_count": 86,
   "id": "5b2d944c",
   "metadata": {},
   "outputs": [],
   "source": [
    "df_mojaris_women = pd.read_csv('/Users/butler/Documents/springboard_bootcamp/Classification_of_Indian_clothing_images/data/external/newly_scraped_images/df_mojaris_women.csv')"
   ]
  },
  {
   "cell_type": "code",
   "execution_count": 87,
   "id": "5bbb9d61",
   "metadata": {},
   "outputs": [],
   "source": [
    "df_mojaris_men = pd.read_csv('/Users/butler/Documents/springboard_bootcamp/Classification_of_Indian_clothing_images/data/external/newly_scraped_images/df_mojaris_men.csv')"
   ]
  },
  {
   "cell_type": "code",
   "execution_count": 88,
   "id": "d94af0fa",
   "metadata": {},
   "outputs": [],
   "source": [
    "df_lehenga = pd.read_csv('/Users/butler/Documents/springboard_bootcamp/Classification_of_Indian_clothing_images/data/external/newly_scraped_images/df_lehenga.csv')"
   ]
  },
  {
   "cell_type": "code",
   "execution_count": 89,
   "id": "d5362f5e",
   "metadata": {},
   "outputs": [],
   "source": [
    "df_leggings_and_salwars = pd.read_csv('/Users/butler/Documents/springboard_bootcamp/Classification_of_Indian_clothing_images/data/external/newly_scraped_images/df_leggings_and_salwars.csv')"
   ]
  },
  {
   "cell_type": "code",
   "execution_count": 90,
   "id": "8bfc9eb7",
   "metadata": {},
   "outputs": [],
   "source": [
    "df_kurta_men = pd.read_csv('/Users/butler/Documents/springboard_bootcamp/Classification_of_Indian_clothing_images/data/external/newly_scraped_images/df_kurta_men.csv')"
   ]
  },
  {
   "cell_type": "code",
   "execution_count": 136,
   "id": "b464728a",
   "metadata": {},
   "outputs": [],
   "source": [
    "df_dupattas = pd.read_csv('/Users/butler/Documents/springboard_bootcamp/Classification_of_Indian_clothing_images/data/external/newly_scraped_images/df_dupattas.csv')"
   ]
  },
  {
   "cell_type": "code",
   "execution_count": 92,
   "id": "f51a2aa8",
   "metadata": {},
   "outputs": [],
   "source": [
    "df_dhoti_pants = pd.read_csv('/Users/butler/Documents/springboard_bootcamp/Classification_of_Indian_clothing_images/data/external/newly_scraped_images/df_dhoti_pants.csv')"
   ]
  },
  {
   "cell_type": "code",
   "execution_count": 93,
   "id": "0335cb20",
   "metadata": {},
   "outputs": [],
   "source": [
    "df_blouse = pd.read_csv('/Users/butler/Documents/springboard_bootcamp/Classification_of_Indian_clothing_images/data/external/newly_scraped_images/df_blouse.csv')"
   ]
  },
  {
   "cell_type": "code",
   "execution_count": 94,
   "id": "03911485",
   "metadata": {},
   "outputs": [],
   "source": [
    "df_gown = pd.read_csv('/Users/butler/Documents/springboard_bootcamp/Classification_of_Indian_clothing_images/data/external/newly_scraped_images/df_gowns.csv')"
   ]
  },
  {
   "cell_type": "code",
   "execution_count": 95,
   "id": "5e3ebc77",
   "metadata": {
    "scrolled": false
   },
   "outputs": [
    {
     "data": {
      "text/html": [
       "<div>\n",
       "<style scoped>\n",
       "    .dataframe tbody tr th:only-of-type {\n",
       "        vertical-align: middle;\n",
       "    }\n",
       "\n",
       "    .dataframe tbody tr th {\n",
       "        vertical-align: top;\n",
       "    }\n",
       "\n",
       "    .dataframe thead th {\n",
       "        text-align: right;\n",
       "    }\n",
       "</style>\n",
       "<table border=\"1\" class=\"dataframe\">\n",
       "  <thead>\n",
       "    <tr style=\"text-align: right;\">\n",
       "      <th></th>\n",
       "      <th>Unnamed: 0</th>\n",
       "      <th>files</th>\n",
       "      <th>random_number</th>\n",
       "    </tr>\n",
       "  </thead>\n",
       "  <tbody>\n",
       "    <tr>\n",
       "      <th>0</th>\n",
       "      <td>0</td>\n",
       "      <td>/Users/butler/Documents/springboard_bootcamp/C...</td>\n",
       "      <td>3</td>\n",
       "    </tr>\n",
       "    <tr>\n",
       "      <th>1</th>\n",
       "      <td>1</td>\n",
       "      <td>/Users/butler/Documents/springboard_bootcamp/C...</td>\n",
       "      <td>9</td>\n",
       "    </tr>\n",
       "    <tr>\n",
       "      <th>2</th>\n",
       "      <td>2</td>\n",
       "      <td>/Users/butler/Documents/springboard_bootcamp/C...</td>\n",
       "      <td>20</td>\n",
       "    </tr>\n",
       "    <tr>\n",
       "      <th>3</th>\n",
       "      <td>3</td>\n",
       "      <td>/Users/butler/Documents/springboard_bootcamp/C...</td>\n",
       "      <td>26</td>\n",
       "    </tr>\n",
       "    <tr>\n",
       "      <th>4</th>\n",
       "      <td>4</td>\n",
       "      <td>/Users/butler/Documents/springboard_bootcamp/C...</td>\n",
       "      <td>32</td>\n",
       "    </tr>\n",
       "  </tbody>\n",
       "</table>\n",
       "</div>"
      ],
      "text/plain": [
       "   Unnamed: 0                                              files  \\\n",
       "0           0  /Users/butler/Documents/springboard_bootcamp/C...   \n",
       "1           1  /Users/butler/Documents/springboard_bootcamp/C...   \n",
       "2           2  /Users/butler/Documents/springboard_bootcamp/C...   \n",
       "3           3  /Users/butler/Documents/springboard_bootcamp/C...   \n",
       "4           4  /Users/butler/Documents/springboard_bootcamp/C...   \n",
       "\n",
       "   random_number  \n",
       "0              3  \n",
       "1              9  \n",
       "2             20  \n",
       "3             26  \n",
       "4             32  "
      ]
     },
     "execution_count": 95,
     "metadata": {},
     "output_type": "execute_result"
    }
   ],
   "source": [
    "df_gown.head()"
   ]
  },
  {
   "cell_type": "code",
   "execution_count": 96,
   "id": "d74f9725",
   "metadata": {
    "scrolled": true
   },
   "outputs": [
    {
     "data": {
      "text/plain": [
       "'/Users/butler/Documents/springboard_bootcamp/Classification_of_Indian_clothing_images/data/external/newly_scraped_images/gowns/flipkart/17-m-short-sleeve-stitched-gown-black-flowers-ne-style-60-original-imagbg8jprvsujpv.jpeg'"
      ]
     },
     "execution_count": 96,
     "metadata": {},
     "output_type": "execute_result"
    }
   ],
   "source": [
    "df_gown.iloc[1,1]"
   ]
  },
  {
   "cell_type": "code",
   "execution_count": 97,
   "id": "8e18473a",
   "metadata": {},
   "outputs": [
    {
     "data": {
      "text/plain": [
       "'/Users/butler/Documents/springboard_bootcamp/Classification_of_Indian_clothing_images/data/external/newly_scraped_images/gowns/utsavfashion/embroidered-art-silk-gown-in-black-v1-unj1411.jpg'"
      ]
     },
     "execution_count": 97,
     "metadata": {},
     "output_type": "execute_result"
    }
   ],
   "source": [
    "df_gown.iloc[0,1]"
   ]
  },
  {
   "cell_type": "code",
   "execution_count": 99,
   "id": "6094d3e6",
   "metadata": {},
   "outputs": [],
   "source": [
    "lst = []\n",
    "for i in range(len(df_gown)):\n",
    "    old = df_gown.iloc[i,1]\n",
    "    \n",
    "    new = f'/Users/butler/Documents/springboard_bootcamp/Classification_of_Indian_clothing_images/data/external/newly_scraped_images/new_test_images/gowns/{i}.jpg'\n",
    "    \n",
    "    try:\n",
    "        shutil.copyfile(old, new)\n",
    "    except:\n",
    "        lst.append(old)\n",
    "        "
   ]
  },
  {
   "cell_type": "code",
   "execution_count": 100,
   "id": "c1a8f607",
   "metadata": {},
   "outputs": [
    {
     "data": {
      "text/plain": [
       "0"
      ]
     },
     "execution_count": 100,
     "metadata": {},
     "output_type": "execute_result"
    }
   ],
   "source": [
    "len(lst)"
   ]
  },
  {
   "cell_type": "code",
   "execution_count": 101,
   "id": "9647161f",
   "metadata": {
    "scrolled": true
   },
   "outputs": [
    {
     "data": {
      "text/plain": [
       "'/Users/butler/Documents/springboard_bootcamp/Classification_of_Indian_clothing_images/data/external/newly_scraped_images/blouse/utsavfashion/brocade-blouse-in-golden-v1-ukx234.jpg'"
      ]
     },
     "execution_count": 101,
     "metadata": {},
     "output_type": "execute_result"
    }
   ],
   "source": [
    "df_blouse.iloc[1,1]"
   ]
  },
  {
   "cell_type": "code",
   "execution_count": 102,
   "id": "04d8a4ea",
   "metadata": {},
   "outputs": [
    {
     "data": {
      "text/plain": [
       "'/Users/butler/Documents/springboard_bootcamp/Classification_of_Indian_clothing_images/data/external/newly_scraped_images/blouse/flipkart/32-dnob511-rani-tiptop-creation-original-imagggrcyvhcgvcy.jpeg'"
      ]
     },
     "execution_count": 102,
     "metadata": {},
     "output_type": "execute_result"
    }
   ],
   "source": [
    "df_blouse.iloc[0,1]"
   ]
  },
  {
   "cell_type": "code",
   "execution_count": 103,
   "id": "c9ab6e9e",
   "metadata": {},
   "outputs": [],
   "source": [
    "lst = []\n",
    "for i in range(len(df_blouse)):\n",
    "    old = df_blouse.iloc[i,1]\n",
    "    \n",
    "    new = f'/Users/butler/Documents/springboard_bootcamp/Classification_of_Indian_clothing_images/data/external/newly_scraped_images/new_test_images/blouse/{i}.jpg'\n",
    "    \n",
    "    try:\n",
    "        shutil.move(old, new)\n",
    "    except:\n",
    "        lst.append(old)"
   ]
  },
  {
   "cell_type": "code",
   "execution_count": 104,
   "id": "cf42d0c7",
   "metadata": {
    "scrolled": true
   },
   "outputs": [
    {
     "data": {
      "text/plain": [
       "0"
      ]
     },
     "execution_count": 104,
     "metadata": {},
     "output_type": "execute_result"
    }
   ],
   "source": [
    "len(lst)"
   ]
  },
  {
   "cell_type": "code",
   "execution_count": 105,
   "id": "51211b1e",
   "metadata": {},
   "outputs": [
    {
     "data": {
      "text/plain": [
       "'/Users/butler/Documents/springboard_bootcamp/Classification_of_Indian_clothing_images/data/external/newly_scraped_images/lehenga/flipkart/free-full-sleeve-women-vidhi-purple-fulpari-original-imagd8ppeavsrahr.jpeg'"
      ]
     },
     "execution_count": 105,
     "metadata": {},
     "output_type": "execute_result"
    }
   ],
   "source": [
    "df_lehenga.iloc[0,1]"
   ]
  },
  {
   "cell_type": "code",
   "execution_count": 106,
   "id": "da477f28",
   "metadata": {},
   "outputs": [],
   "source": [
    "lst = []\n",
    "for i in range(len(df_lehenga)):\n",
    "    old = df_lehenga.iloc[i,1]\n",
    "    \n",
    "    new = f'/Users/butler/Documents/springboard_bootcamp/Classification_of_Indian_clothing_images/data/external/newly_scraped_images/new_test_images/lehenga/{i}.jpg'\n",
    "    \n",
    "    try:\n",
    "        shutil.copyfile(old, new)\n",
    "    except:\n",
    "        lst.append(old)\n",
    "        "
   ]
  },
  {
   "cell_type": "code",
   "execution_count": 107,
   "id": "9687146e",
   "metadata": {
    "scrolled": true
   },
   "outputs": [
    {
     "data": {
      "text/plain": [
       "0"
      ]
     },
     "execution_count": 107,
     "metadata": {},
     "output_type": "execute_result"
    }
   ],
   "source": [
    "len(lst)"
   ]
  },
  {
   "cell_type": "code",
   "execution_count": 108,
   "id": "01141b62",
   "metadata": {},
   "outputs": [
    {
     "data": {
      "text/plain": [
       "'/Users/butler/Documents/springboard_bootcamp/Classification_of_Indian_clothing_images/data/external/newly_scraped_images/petticoats/flipkart/free-white-satin-petticoat-saree-002-herbisense-original-imagfnvfjv4kanaf.jpeg'"
      ]
     },
     "execution_count": 108,
     "metadata": {},
     "output_type": "execute_result"
    }
   ],
   "source": [
    "df_petticoats.iloc[0,1]"
   ]
  },
  {
   "cell_type": "code",
   "execution_count": 109,
   "id": "2e11711d",
   "metadata": {},
   "outputs": [],
   "source": [
    "lst = []\n",
    "for i in range(len(df_petticoats)):\n",
    "    old = df_petticoats.iloc[i,1]\n",
    "    \n",
    "    new = f'/Users/butler/Documents/springboard_bootcamp/Classification_of_Indian_clothing_images/data/external/newly_scraped_images/new_test_images/petticoats/{i}.jpg'\n",
    "    \n",
    "    try:\n",
    "        shutil.copyfile(old, new)\n",
    "    except:\n",
    "        lst.append(old)\n",
    "        "
   ]
  },
  {
   "cell_type": "code",
   "execution_count": 110,
   "id": "302232fb",
   "metadata": {},
   "outputs": [
    {
     "data": {
      "text/plain": [
       "0"
      ]
     },
     "execution_count": 110,
     "metadata": {},
     "output_type": "execute_result"
    }
   ],
   "source": [
    "len(lst)"
   ]
  },
  {
   "cell_type": "code",
   "execution_count": 111,
   "id": "3386cd20",
   "metadata": {},
   "outputs": [],
   "source": [
    "lst = []\n",
    "for i in range(len(df_dhoti_pants)):\n",
    "    old = df_dhoti_pants.iloc[i,1]\n",
    "    \n",
    "    new = f'/Users/butler/Documents/springboard_bootcamp/Classification_of_Indian_clothing_images/data/external/newly_scraped_images/new_test_images/dhoti_pants/{i}.jpg'\n",
    "    \n",
    "    try:\n",
    "        shutil.copyfile(old, new)\n",
    "    except:\n",
    "        lst.append(old)\n",
    "        "
   ]
  },
  {
   "cell_type": "code",
   "execution_count": 112,
   "id": "b60e087e",
   "metadata": {},
   "outputs": [
    {
     "data": {
      "text/plain": [
       "0"
      ]
     },
     "execution_count": 112,
     "metadata": {},
     "output_type": "execute_result"
    }
   ],
   "source": [
    "len(lst)"
   ]
  },
  {
   "cell_type": "code",
   "execution_count": 113,
   "id": "8f45e3d5",
   "metadata": {},
   "outputs": [],
   "source": [
    "lst = []\n",
    "for i in range(len(df_nehru_jackets)):\n",
    "    old = df_nehru_jackets.iloc[i,1]\n",
    "    \n",
    "    new = f'/Users/butler/Documents/springboard_bootcamp/Classification_of_Indian_clothing_images/data/external/newly_scraped_images/new_test_images/nehru_jackets/{i}.jpg'\n",
    "    \n",
    "    try:\n",
    "        shutil.copyfile(old, new)\n",
    "    except:\n",
    "        lst.append(old)\n",
    "        "
   ]
  },
  {
   "cell_type": "code",
   "execution_count": 114,
   "id": "847c32f7",
   "metadata": {
    "scrolled": true
   },
   "outputs": [
    {
     "data": {
      "text/plain": [
       "0"
      ]
     },
     "execution_count": 114,
     "metadata": {},
     "output_type": "execute_result"
    }
   ],
   "source": [
    "len(lst)"
   ]
  },
  {
   "cell_type": "code",
   "execution_count": 115,
   "id": "9e4b91dc",
   "metadata": {},
   "outputs": [],
   "source": [
    "lst = []\n",
    "for i in range(len(df_kurta_men)):\n",
    "    old = df_kurta_men.iloc[i,1]\n",
    "    \n",
    "    new = f'/Users/butler/Documents/springboard_bootcamp/Classification_of_Indian_clothing_images/data/external/newly_scraped_images/new_test_images/kurta_men/{i}.jpg'\n",
    "    \n",
    "    try:\n",
    "        shutil.copyfile(old, new)\n",
    "    except:\n",
    "        lst.append(old)\n",
    "        "
   ]
  },
  {
   "cell_type": "code",
   "execution_count": 116,
   "id": "67ea981a",
   "metadata": {},
   "outputs": [
    {
     "data": {
      "text/plain": [
       "0"
      ]
     },
     "execution_count": 116,
     "metadata": {},
     "output_type": "execute_result"
    }
   ],
   "source": [
    "len(lst)"
   ]
  },
  {
   "cell_type": "code",
   "execution_count": 117,
   "id": "00426546",
   "metadata": {},
   "outputs": [],
   "source": [
    "lst = []\n",
    "for i in range(len(df_leggings_and_salwars)):\n",
    "    old = df_leggings_and_salwars.iloc[i,1]\n",
    "    \n",
    "    new = f'/Users/butler/Documents/springboard_bootcamp/Classification_of_Indian_clothing_images/data/external/newly_scraped_images/new_test_images/leggings_and_salwars/{i}.jpg'\n",
    "    \n",
    "    try:\n",
    "        shutil.copyfile(old, new)\n",
    "    except:\n",
    "        lst.append(old)\n",
    "        "
   ]
  },
  {
   "cell_type": "code",
   "execution_count": 118,
   "id": "0b53bc63",
   "metadata": {
    "scrolled": true
   },
   "outputs": [
    {
     "data": {
      "text/plain": [
       "0"
      ]
     },
     "execution_count": 118,
     "metadata": {},
     "output_type": "execute_result"
    }
   ],
   "source": [
    "len(lst)"
   ]
  },
  {
   "cell_type": "code",
   "execution_count": 119,
   "id": "bcd7ee2a",
   "metadata": {},
   "outputs": [],
   "source": [
    "lst = []\n",
    "for i in range(len(df_mojaris_men)):\n",
    "    old = df_mojaris_men.iloc[i,1]\n",
    "    \n",
    "    new = f'/Users/butler/Documents/springboard_bootcamp/Classification_of_Indian_clothing_images/data/external/newly_scraped_images/new_test_images/mojaris_men/{i}.jpg'\n",
    "    \n",
    "    try:\n",
    "        shutil.copyfile(old, new)\n",
    "    except:\n",
    "        lst.append(old)\n",
    "        "
   ]
  },
  {
   "cell_type": "code",
   "execution_count": 120,
   "id": "8213b1a5",
   "metadata": {
    "scrolled": true
   },
   "outputs": [
    {
     "data": {
      "text/plain": [
       "0"
      ]
     },
     "execution_count": 120,
     "metadata": {},
     "output_type": "execute_result"
    }
   ],
   "source": [
    "len(lst)"
   ]
  },
  {
   "cell_type": "code",
   "execution_count": 121,
   "id": "2383698c",
   "metadata": {},
   "outputs": [],
   "source": [
    "lst = []\n",
    "for i in range(len(df_mojaris_women)):\n",
    "    old = df_mojaris_women.iloc[i,1]\n",
    "    \n",
    "    new = f'/Users/butler/Documents/springboard_bootcamp/Classification_of_Indian_clothing_images/data/external/newly_scraped_images/new_test_images/mojaris_women/{i}.jpg'\n",
    "    \n",
    "    try:\n",
    "        shutil.copyfile(old, new)\n",
    "    except:\n",
    "        lst.append(old)\n",
    "        "
   ]
  },
  {
   "cell_type": "code",
   "execution_count": 122,
   "id": "4cc88f29",
   "metadata": {
    "scrolled": true
   },
   "outputs": [
    {
     "data": {
      "text/plain": [
       "0"
      ]
     },
     "execution_count": 122,
     "metadata": {},
     "output_type": "execute_result"
    }
   ],
   "source": [
    "len(lst)"
   ]
  },
  {
   "cell_type": "code",
   "execution_count": 137,
   "id": "6e83f5c6",
   "metadata": {},
   "outputs": [
    {
     "data": {
      "text/plain": [
       "'/Users/butler/Documents/springboard_bootcamp/Classification_of_Indian_clothing_images/data/external/newly_scraped_images/dupattas/utsavfashion/contrast-border-net-dupatta-in-peach-v1-bnj997.jpg'"
      ]
     },
     "execution_count": 137,
     "metadata": {},
     "output_type": "execute_result"
    }
   ],
   "source": [
    "df_dupattas.iloc[0,1]"
   ]
  },
  {
   "cell_type": "code",
   "execution_count": 138,
   "id": "fdfc3396",
   "metadata": {},
   "outputs": [],
   "source": [
    "lst = []\n",
    "for i in range(len(df_dupattas)):\n",
    "    old = df_dupattas.iloc[i,1]\n",
    "    \n",
    "    new = f'/Users/butler/Documents/springboard_bootcamp/Classification_of_Indian_clothing_images/data/external/newly_scraped_images/new_test_images/dupattas/{i}.jpg'\n",
    "    \n",
    "    try:\n",
    "        shutil.copyfile(old, new)\n",
    "    except:\n",
    "        lst.append(old)\n",
    "        "
   ]
  },
  {
   "cell_type": "code",
   "execution_count": 139,
   "id": "12b21672",
   "metadata": {},
   "outputs": [
    {
     "data": {
      "text/plain": [
       "0"
      ]
     },
     "execution_count": 139,
     "metadata": {},
     "output_type": "execute_result"
    }
   ],
   "source": [
    "len(lst)"
   ]
  },
  {
   "cell_type": "code",
   "execution_count": 125,
   "id": "51485fbe",
   "metadata": {},
   "outputs": [],
   "source": [
    "lst = []\n",
    "for i in range(len(df_palazzos)):\n",
    "    old = df_palazzos.iloc[i,1]\n",
    "    \n",
    "    new = f'/Users/butler/Documents/springboard_bootcamp/Classification_of_Indian_clothing_images/data/external/newly_scraped_images/new_test_images/palazzos/{i}.jpg'\n",
    "    \n",
    "    try:\n",
    "        shutil.copyfile(old, new)\n",
    "    except:\n",
    "        lst.append(old)\n",
    "        "
   ]
  },
  {
   "cell_type": "code",
   "execution_count": 126,
   "id": "ed104dfd",
   "metadata": {},
   "outputs": [
    {
     "data": {
      "text/plain": [
       "0"
      ]
     },
     "execution_count": 126,
     "metadata": {},
     "output_type": "execute_result"
    }
   ],
   "source": [
    "len(lst)"
   ]
  },
  {
   "cell_type": "code",
   "execution_count": 127,
   "id": "5254e528",
   "metadata": {},
   "outputs": [],
   "source": [
    "lst = []\n",
    "for i in range(len(df_saree)):\n",
    "    old = df_saree.iloc[i,1]\n",
    "    \n",
    "    new = f'/Users/butler/Documents/springboard_bootcamp/Classification_of_Indian_clothing_images/data/external/newly_scraped_images/new_test_images/saree/{i}.jpg'\n",
    "    \n",
    "    try:\n",
    "        shutil.copyfile(old, new)\n",
    "    except:\n",
    "        lst.append(old)\n",
    "        "
   ]
  },
  {
   "cell_type": "code",
   "execution_count": 128,
   "id": "70a4536a",
   "metadata": {},
   "outputs": [
    {
     "data": {
      "text/plain": [
       "0"
      ]
     },
     "execution_count": 128,
     "metadata": {},
     "output_type": "execute_result"
    }
   ],
   "source": [
    "len(lst)"
   ]
  },
  {
   "cell_type": "code",
   "execution_count": 129,
   "id": "8264faa8",
   "metadata": {},
   "outputs": [],
   "source": [
    "lst = []\n",
    "for i in range(len(df_sherwanis)):\n",
    "    old = df_sherwanis.iloc[i,1]\n",
    "    \n",
    "    new = f'/Users/butler/Documents/springboard_bootcamp/Classification_of_Indian_clothing_images/data/external/newly_scraped_images/new_test_images/sherwanis/{i}.jpg'\n",
    "    \n",
    "    try:\n",
    "        shutil.copyfile(old, new)\n",
    "    except:\n",
    "        lst.append(old)\n",
    "        "
   ]
  },
  {
   "cell_type": "code",
   "execution_count": 130,
   "id": "7d9fff84",
   "metadata": {},
   "outputs": [
    {
     "data": {
      "text/plain": [
       "0"
      ]
     },
     "execution_count": 130,
     "metadata": {},
     "output_type": "execute_result"
    }
   ],
   "source": [
    "len(lst)"
   ]
  },
  {
   "cell_type": "code",
   "execution_count": 131,
   "id": "c95a4728",
   "metadata": {},
   "outputs": [],
   "source": [
    "lst = []\n",
    "for i in range(len(df_women_kurta)):\n",
    "    old = df_women_kurta.iloc[i,1]\n",
    "    \n",
    "    new = f'/Users/butler/Documents/springboard_bootcamp/Classification_of_Indian_clothing_images/data/external/newly_scraped_images/new_test_images/women_kurta/{i}.jpg'\n",
    "    \n",
    "    try:\n",
    "        shutil.copyfile(old, new)\n",
    "    except:\n",
    "        lst.append(old)\n",
    "        "
   ]
  },
  {
   "cell_type": "code",
   "execution_count": 132,
   "id": "51dc6590",
   "metadata": {},
   "outputs": [
    {
     "data": {
      "text/plain": [
       "0"
      ]
     },
     "execution_count": 132,
     "metadata": {},
     "output_type": "execute_result"
    }
   ],
   "source": [
    "len(lst)"
   ]
  },
  {
   "cell_type": "code",
   "execution_count": null,
   "id": "ba737b6e",
   "metadata": {},
   "outputs": [],
   "source": []
  }
 ],
 "metadata": {
  "kernelspec": {
   "display_name": "Python 3 (ipykernel)",
   "language": "python",
   "name": "python3"
  },
  "language_info": {
   "codemirror_mode": {
    "name": "ipython",
    "version": 3
   },
   "file_extension": ".py",
   "mimetype": "text/x-python",
   "name": "python",
   "nbconvert_exporter": "python",
   "pygments_lexer": "ipython3",
   "version": "3.9.17"
  }
 },
 "nbformat": 4,
 "nbformat_minor": 5
}
