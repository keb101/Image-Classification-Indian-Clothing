{
 "cells": [
  {
   "cell_type": "code",
   "execution_count": 1,
   "metadata": {
    "id": "OQSx6DFa_6_l"
   },
   "outputs": [],
   "source": [
    "#! pip install python-resize-image"
   ]
  },
  {
   "cell_type": "code",
   "execution_count": 2,
   "metadata": {
    "id": "MVeg-DZ2M2Yv"
   },
   "outputs": [],
   "source": [
    "#! pip install tensorflow"
   ]
  },
  {
   "cell_type": "code",
   "execution_count": null,
   "metadata": {
    "id": "WTJZx6WNM2Yw"
   },
   "outputs": [],
   "source": []
  },
  {
   "cell_type": "code",
   "execution_count": 3,
   "metadata": {
    "id": "d4ef7ab0"
   },
   "outputs": [],
   "source": [
    "import pandas as pd\n",
    "import numpy as np\n",
    "\n",
    "import keras\n",
    "from keras.models import Sequential\n",
    "from keras.layers import Dense, Conv2D, MaxPooling2D, UpSampling2D, Activation, Flatten, Dropout\n",
    "from keras.preprocessing.image import ImageDataGenerator\n",
    "from tensorflow.keras.utils import image_dataset_from_directory\n",
    "\n",
    "import tensorflow as tf\n",
    "from tensorflow.keras.models import model_from_json\n",
    "import cv2\n",
    "#from skimage import color\n",
    "from PIL import Image\n",
    "#import imageio\n",
    "#from resizeimage import resizeimage\n",
    "import os\n",
    "\n",
    "import pickle\n",
    "\n",
    "from sklearn.metrics import confusion_matrix"
   ]
  },
  {
   "cell_type": "code",
   "execution_count": 4,
   "metadata": {
    "colab": {
     "base_uri": "https://localhost:8080/"
    },
    "id": "8XEnPS4Gj2Sg",
    "outputId": "d827f583-12fb-47cd-a6c7-d491cf395ea7"
   },
   "outputs": [],
   "source": [
    "#drive.mount('/content/drive')"
   ]
  },
  {
   "cell_type": "code",
   "execution_count": 5,
   "metadata": {
    "colab": {
     "base_uri": "https://localhost:8080/",
     "height": 86
    },
    "id": "97eH6PSQRL00",
    "outputId": "fab325b9-b8a0-47e0-e5c5-d8208f4f7280"
   },
   "outputs": [],
   "source": [
    "#files.upload()"
   ]
  },
  {
   "cell_type": "code",
   "execution_count": 6,
   "metadata": {
    "id": "vNSDQvjWys5Y"
   },
   "outputs": [],
   "source": [
    "#! mkdir ~/.kaggle\n",
    "#! cp kaggle.json ~/.kaggle/\n",
    "#! chmod 600 ~/.kaggle/kaggle.json"
   ]
  },
  {
   "cell_type": "code",
   "execution_count": 7,
   "metadata": {
    "colab": {
     "base_uri": "https://localhost:8080/"
    },
    "id": "frUriQ9nByJh",
    "outputId": "f6ccab8d-1261-4681-e52f-b7b89388da3d"
   },
   "outputs": [],
   "source": [
    "#!kaggle datasets download -d validmodel/indo-fashion-dataset"
   ]
  },
  {
   "cell_type": "code",
   "execution_count": 8,
   "metadata": {
    "id": "9ajCuIwEM2Yy"
   },
   "outputs": [],
   "source": [
    "#!unzip -q /content/indo-fashion-dataset.zip\n"
   ]
  },
  {
   "cell_type": "code",
   "execution_count": 9,
   "metadata": {
    "id": "JdDICPMfOV7o"
   },
   "outputs": [],
   "source": [
    "df_train = pd.read_json('/Users/butler/Documents/hp/Retrieval_of_Indian_clothing_images/data/raw/indian_clothing/train_data.json', lines=True)"
   ]
  },
  {
   "cell_type": "code",
   "execution_count": 10,
   "metadata": {
    "colab": {
     "base_uri": "https://localhost:8080/",
     "height": 289
    },
    "id": "d_-NgUdnPTNE",
    "outputId": "26abf6c0-3ea1-4497-c933-610303e17167"
   },
   "outputs": [
    {
     "data": {
      "text/html": [
       "<div>\n",
       "<style scoped>\n",
       "    .dataframe tbody tr th:only-of-type {\n",
       "        vertical-align: middle;\n",
       "    }\n",
       "\n",
       "    .dataframe tbody tr th {\n",
       "        vertical-align: top;\n",
       "    }\n",
       "\n",
       "    .dataframe thead th {\n",
       "        text-align: right;\n",
       "    }\n",
       "</style>\n",
       "<table border=\"1\" class=\"dataframe\">\n",
       "  <thead>\n",
       "    <tr style=\"text-align: right;\">\n",
       "      <th></th>\n",
       "      <th>image_url</th>\n",
       "      <th>image_path</th>\n",
       "      <th>brand</th>\n",
       "      <th>product_title</th>\n",
       "      <th>class_label</th>\n",
       "      <th>color</th>\n",
       "    </tr>\n",
       "  </thead>\n",
       "  <tbody>\n",
       "    <tr>\n",
       "      <th>0</th>\n",
       "      <td>https://m.media-amazon.com/images/I/81XKaSKvly...</td>\n",
       "      <td>images/train/0.jpeg</td>\n",
       "      <td>Womanista</td>\n",
       "      <td>Women's Georgette Saree with Blouse Piece (TKI...</td>\n",
       "      <td>saree</td>\n",
       "      <td>NaN</td>\n",
       "    </tr>\n",
       "    <tr>\n",
       "      <th>1</th>\n",
       "      <td>https://m.media-amazon.com/images/I/91dDMDg+QT...</td>\n",
       "      <td>images/train/1.jpeg</td>\n",
       "      <td>Yashika</td>\n",
       "      <td>Women Linen Printed Sarees Free Size (BEE)</td>\n",
       "      <td>saree</td>\n",
       "      <td>NaN</td>\n",
       "    </tr>\n",
       "    <tr>\n",
       "      <th>2</th>\n",
       "      <td>https://m.media-amazon.com/images/I/71TJ9p46PV...</td>\n",
       "      <td>images/train/2.jpeg</td>\n",
       "      <td>Womanista</td>\n",
       "      <td>Organza Floral Print Saree with Blouse Piece(W...</td>\n",
       "      <td>saree</td>\n",
       "      <td>NaN</td>\n",
       "    </tr>\n",
       "    <tr>\n",
       "      <th>3</th>\n",
       "      <td>https://m.media-amazon.com/images/I/81Y+je7CEg...</td>\n",
       "      <td>images/train/3.jpeg</td>\n",
       "      <td>PERFECTBLUE</td>\n",
       "      <td>Women's Digital Cotton Linen Blend Saree with ...</td>\n",
       "      <td>saree</td>\n",
       "      <td>NaN</td>\n",
       "    </tr>\n",
       "    <tr>\n",
       "      <th>4</th>\n",
       "      <td>https://m.media-amazon.com/images/I/61B8o9Ulqp...</td>\n",
       "      <td>images/train/4.jpeg</td>\n",
       "      <td>VAIVIDHYAM</td>\n",
       "      <td>Designer Sarees Women's Banarasi Cotton Silk S...</td>\n",
       "      <td>saree</td>\n",
       "      <td>NaN</td>\n",
       "    </tr>\n",
       "  </tbody>\n",
       "</table>\n",
       "</div>"
      ],
      "text/plain": [
       "                                           image_url           image_path  \\\n",
       "0  https://m.media-amazon.com/images/I/81XKaSKvly...  images/train/0.jpeg   \n",
       "1  https://m.media-amazon.com/images/I/91dDMDg+QT...  images/train/1.jpeg   \n",
       "2  https://m.media-amazon.com/images/I/71TJ9p46PV...  images/train/2.jpeg   \n",
       "3  https://m.media-amazon.com/images/I/81Y+je7CEg...  images/train/3.jpeg   \n",
       "4  https://m.media-amazon.com/images/I/61B8o9Ulqp...  images/train/4.jpeg   \n",
       "\n",
       "         brand                                      product_title class_label  \\\n",
       "0    Womanista  Women's Georgette Saree with Blouse Piece (TKI...       saree   \n",
       "1      Yashika         Women Linen Printed Sarees Free Size (BEE)       saree   \n",
       "2    Womanista  Organza Floral Print Saree with Blouse Piece(W...       saree   \n",
       "3  PERFECTBLUE  Women's Digital Cotton Linen Blend Saree with ...       saree   \n",
       "4   VAIVIDHYAM  Designer Sarees Women's Banarasi Cotton Silk S...       saree   \n",
       "\n",
       "  color  \n",
       "0   NaN  \n",
       "1   NaN  \n",
       "2   NaN  \n",
       "3   NaN  \n",
       "4   NaN  "
      ]
     },
     "execution_count": 10,
     "metadata": {},
     "output_type": "execute_result"
    }
   ],
   "source": [
    "df_train.head()"
   ]
  },
  {
   "cell_type": "code",
   "execution_count": 11,
   "metadata": {
    "id": "S-Wji9lVPfa4"
   },
   "outputs": [],
   "source": [
    "df_train.drop(['image_url', 'brand', 'product_title', 'color'], axis=1, inplace=True)"
   ]
  },
  {
   "cell_type": "code",
   "execution_count": 12,
   "metadata": {
    "colab": {
     "base_uri": "https://localhost:8080/",
     "height": 204
    },
    "id": "fUQ8yIIDPv23",
    "outputId": "07c8b058-4cef-41ae-ab94-94c4a9fb5c13"
   },
   "outputs": [
    {
     "data": {
      "text/html": [
       "<div>\n",
       "<style scoped>\n",
       "    .dataframe tbody tr th:only-of-type {\n",
       "        vertical-align: middle;\n",
       "    }\n",
       "\n",
       "    .dataframe tbody tr th {\n",
       "        vertical-align: top;\n",
       "    }\n",
       "\n",
       "    .dataframe thead th {\n",
       "        text-align: right;\n",
       "    }\n",
       "</style>\n",
       "<table border=\"1\" class=\"dataframe\">\n",
       "  <thead>\n",
       "    <tr style=\"text-align: right;\">\n",
       "      <th></th>\n",
       "      <th>image_path</th>\n",
       "      <th>class_label</th>\n",
       "    </tr>\n",
       "  </thead>\n",
       "  <tbody>\n",
       "    <tr>\n",
       "      <th>0</th>\n",
       "      <td>images/train/0.jpeg</td>\n",
       "      <td>saree</td>\n",
       "    </tr>\n",
       "    <tr>\n",
       "      <th>1</th>\n",
       "      <td>images/train/1.jpeg</td>\n",
       "      <td>saree</td>\n",
       "    </tr>\n",
       "    <tr>\n",
       "      <th>2</th>\n",
       "      <td>images/train/2.jpeg</td>\n",
       "      <td>saree</td>\n",
       "    </tr>\n",
       "    <tr>\n",
       "      <th>3</th>\n",
       "      <td>images/train/3.jpeg</td>\n",
       "      <td>saree</td>\n",
       "    </tr>\n",
       "    <tr>\n",
       "      <th>4</th>\n",
       "      <td>images/train/4.jpeg</td>\n",
       "      <td>saree</td>\n",
       "    </tr>\n",
       "  </tbody>\n",
       "</table>\n",
       "</div>"
      ],
      "text/plain": [
       "            image_path class_label\n",
       "0  images/train/0.jpeg       saree\n",
       "1  images/train/1.jpeg       saree\n",
       "2  images/train/2.jpeg       saree\n",
       "3  images/train/3.jpeg       saree\n",
       "4  images/train/4.jpeg       saree"
      ]
     },
     "execution_count": 12,
     "metadata": {},
     "output_type": "execute_result"
    }
   ],
   "source": [
    "df_train.head()"
   ]
  },
  {
   "cell_type": "code",
   "execution_count": 13,
   "metadata": {
    "id": "Z0jrYIQjQML2"
   },
   "outputs": [],
   "source": [
    "df_test = pd.read_json('/Users/butler/Documents/hp/Retrieval_of_Indian_clothing_images/data/raw/indian_clothing/test_data.json', lines = True)"
   ]
  },
  {
   "cell_type": "markdown",
   "metadata": {
    "id": "MA7VfCojhaeV"
   },
   "source": []
  },
  {
   "cell_type": "code",
   "execution_count": 14,
   "metadata": {
    "colab": {
     "base_uri": "https://localhost:8080/",
     "height": 289
    },
    "id": "IuR9V3RDQXF9",
    "outputId": "ca6333b3-bbab-4d58-94e1-c6c65622bb2f"
   },
   "outputs": [
    {
     "data": {
      "text/html": [
       "<div>\n",
       "<style scoped>\n",
       "    .dataframe tbody tr th:only-of-type {\n",
       "        vertical-align: middle;\n",
       "    }\n",
       "\n",
       "    .dataframe tbody tr th {\n",
       "        vertical-align: top;\n",
       "    }\n",
       "\n",
       "    .dataframe thead th {\n",
       "        text-align: right;\n",
       "    }\n",
       "</style>\n",
       "<table border=\"1\" class=\"dataframe\">\n",
       "  <thead>\n",
       "    <tr style=\"text-align: right;\">\n",
       "      <th></th>\n",
       "      <th>image_url</th>\n",
       "      <th>image_path</th>\n",
       "      <th>brand</th>\n",
       "      <th>product_title</th>\n",
       "      <th>class_label</th>\n",
       "      <th>color</th>\n",
       "    </tr>\n",
       "  </thead>\n",
       "  <tbody>\n",
       "    <tr>\n",
       "      <th>0</th>\n",
       "      <td>https://m.media-amazon.com/images/I/71NZQ-aaAS...</td>\n",
       "      <td>images/test/0.jpeg</td>\n",
       "      <td>TANTUJA BENGAL HANDLOOM</td>\n",
       "      <td>(A Govt. of West Bengal Enterprises) Handloom ...</td>\n",
       "      <td>saree</td>\n",
       "      <td>NaN</td>\n",
       "    </tr>\n",
       "    <tr>\n",
       "      <th>1</th>\n",
       "      <td>https://m.media-amazon.com/images/I/81aQmbWsG7...</td>\n",
       "      <td>images/test/1.jpeg</td>\n",
       "      <td>Trilok Fab</td>\n",
       "      <td>Women's Silk Saree With Blouse Piece</td>\n",
       "      <td>saree</td>\n",
       "      <td>NaN</td>\n",
       "    </tr>\n",
       "    <tr>\n",
       "      <th>2</th>\n",
       "      <td>https://m.media-amazon.com/images/I/71YjGvzs9y...</td>\n",
       "      <td>images/test/2.jpeg</td>\n",
       "      <td>Nine Sister</td>\n",
       "      <td>Women's Georgette Net Embroidered Saree with B...</td>\n",
       "      <td>saree</td>\n",
       "      <td>NaN</td>\n",
       "    </tr>\n",
       "    <tr>\n",
       "      <th>3</th>\n",
       "      <td>https://m.media-amazon.com/images/I/81JYhYV5Xr...</td>\n",
       "      <td>images/test/3.jpeg</td>\n",
       "      <td>Gauri Laxmi Enterprise</td>\n",
       "      <td>Women's Crepe Saree with Blouse (GLE$CHICKOO C...</td>\n",
       "      <td>saree</td>\n",
       "      <td>NaN</td>\n",
       "    </tr>\n",
       "    <tr>\n",
       "      <th>4</th>\n",
       "      <td>https://m.media-amazon.com/images/I/91fXc5i5Dy...</td>\n",
       "      <td>images/test/4.jpeg</td>\n",
       "      <td>SOURBH</td>\n",
       "      <td>Women's Cotton Blend Digital Butta Printed Sar...</td>\n",
       "      <td>saree</td>\n",
       "      <td>NaN</td>\n",
       "    </tr>\n",
       "  </tbody>\n",
       "</table>\n",
       "</div>"
      ],
      "text/plain": [
       "                                           image_url          image_path  \\\n",
       "0  https://m.media-amazon.com/images/I/71NZQ-aaAS...  images/test/0.jpeg   \n",
       "1  https://m.media-amazon.com/images/I/81aQmbWsG7...  images/test/1.jpeg   \n",
       "2  https://m.media-amazon.com/images/I/71YjGvzs9y...  images/test/2.jpeg   \n",
       "3  https://m.media-amazon.com/images/I/81JYhYV5Xr...  images/test/3.jpeg   \n",
       "4  https://m.media-amazon.com/images/I/91fXc5i5Dy...  images/test/4.jpeg   \n",
       "\n",
       "                     brand                                      product_title  \\\n",
       "0  TANTUJA BENGAL HANDLOOM  (A Govt. of West Bengal Enterprises) Handloom ...   \n",
       "1               Trilok Fab               Women's Silk Saree With Blouse Piece   \n",
       "2              Nine Sister  Women's Georgette Net Embroidered Saree with B...   \n",
       "3   Gauri Laxmi Enterprise  Women's Crepe Saree with Blouse (GLE$CHICKOO C...   \n",
       "4                   SOURBH  Women's Cotton Blend Digital Butta Printed Sar...   \n",
       "\n",
       "  class_label color  \n",
       "0       saree   NaN  \n",
       "1       saree   NaN  \n",
       "2       saree   NaN  \n",
       "3       saree   NaN  \n",
       "4       saree   NaN  "
      ]
     },
     "execution_count": 14,
     "metadata": {},
     "output_type": "execute_result"
    }
   ],
   "source": [
    "df_test.head()"
   ]
  },
  {
   "cell_type": "code",
   "execution_count": 15,
   "metadata": {
    "id": "qYGbb3oAQcDR"
   },
   "outputs": [],
   "source": [
    "df_test.drop(['image_url', 'brand', 'product_title', 'color'], axis=1, inplace=True)"
   ]
  },
  {
   "cell_type": "code",
   "execution_count": 16,
   "metadata": {
    "colab": {
     "base_uri": "https://localhost:8080/",
     "height": 204
    },
    "id": "VEkr5NZucd2R",
    "outputId": "055720dc-2a80-42e6-e386-46e3cb112f58"
   },
   "outputs": [
    {
     "data": {
      "text/html": [
       "<div>\n",
       "<style scoped>\n",
       "    .dataframe tbody tr th:only-of-type {\n",
       "        vertical-align: middle;\n",
       "    }\n",
       "\n",
       "    .dataframe tbody tr th {\n",
       "        vertical-align: top;\n",
       "    }\n",
       "\n",
       "    .dataframe thead th {\n",
       "        text-align: right;\n",
       "    }\n",
       "</style>\n",
       "<table border=\"1\" class=\"dataframe\">\n",
       "  <thead>\n",
       "    <tr style=\"text-align: right;\">\n",
       "      <th></th>\n",
       "      <th>image_path</th>\n",
       "      <th>class_label</th>\n",
       "    </tr>\n",
       "  </thead>\n",
       "  <tbody>\n",
       "    <tr>\n",
       "      <th>7495</th>\n",
       "      <td>images/test/7495.jpeg</td>\n",
       "      <td>women_kurta</td>\n",
       "    </tr>\n",
       "    <tr>\n",
       "      <th>7496</th>\n",
       "      <td>images/test/7496.jpeg</td>\n",
       "      <td>women_kurta</td>\n",
       "    </tr>\n",
       "    <tr>\n",
       "      <th>7497</th>\n",
       "      <td>images/test/7497.jpeg</td>\n",
       "      <td>women_kurta</td>\n",
       "    </tr>\n",
       "    <tr>\n",
       "      <th>7498</th>\n",
       "      <td>images/test/7498.jpeg</td>\n",
       "      <td>women_kurta</td>\n",
       "    </tr>\n",
       "    <tr>\n",
       "      <th>7499</th>\n",
       "      <td>images/test/7499.jpeg</td>\n",
       "      <td>women_kurta</td>\n",
       "    </tr>\n",
       "  </tbody>\n",
       "</table>\n",
       "</div>"
      ],
      "text/plain": [
       "                 image_path  class_label\n",
       "7495  images/test/7495.jpeg  women_kurta\n",
       "7496  images/test/7496.jpeg  women_kurta\n",
       "7497  images/test/7497.jpeg  women_kurta\n",
       "7498  images/test/7498.jpeg  women_kurta\n",
       "7499  images/test/7499.jpeg  women_kurta"
      ]
     },
     "execution_count": 16,
     "metadata": {},
     "output_type": "execute_result"
    }
   ],
   "source": [
    "df_test.tail()"
   ]
  },
  {
   "cell_type": "code",
   "execution_count": 17,
   "metadata": {
    "id": "MAveTGtCQjzr"
   },
   "outputs": [],
   "source": [
    "#df_test.to_csv('/content/drive/My Drive/capstone_3/df_test.csv')"
   ]
  },
  {
   "cell_type": "code",
   "execution_count": 18,
   "metadata": {
    "id": "SLqC-IosQnxV"
   },
   "outputs": [],
   "source": [
    "\n",
    "df_val = pd.read_json('/Users/butler/Documents/hp/Retrieval_of_Indian_clothing_images/data/raw/indian_clothing/val_data.json', lines=True)"
   ]
  },
  {
   "cell_type": "code",
   "execution_count": null,
   "metadata": {
    "id": "G1Eege45M2Yz"
   },
   "outputs": [],
   "source": []
  },
  {
   "cell_type": "code",
   "execution_count": 19,
   "metadata": {
    "colab": {
     "base_uri": "https://localhost:8080/",
     "height": 289
    },
    "id": "g6NfshqCQwoZ",
    "outputId": "b91dd243-3b32-4b99-a859-76f93e6c955d"
   },
   "outputs": [
    {
     "data": {
      "text/html": [
       "<div>\n",
       "<style scoped>\n",
       "    .dataframe tbody tr th:only-of-type {\n",
       "        vertical-align: middle;\n",
       "    }\n",
       "\n",
       "    .dataframe tbody tr th {\n",
       "        vertical-align: top;\n",
       "    }\n",
       "\n",
       "    .dataframe thead th {\n",
       "        text-align: right;\n",
       "    }\n",
       "</style>\n",
       "<table border=\"1\" class=\"dataframe\">\n",
       "  <thead>\n",
       "    <tr style=\"text-align: right;\">\n",
       "      <th></th>\n",
       "      <th>image_url</th>\n",
       "      <th>image_path</th>\n",
       "      <th>brand</th>\n",
       "      <th>product_title</th>\n",
       "      <th>class_label</th>\n",
       "      <th>color</th>\n",
       "    </tr>\n",
       "  </thead>\n",
       "  <tbody>\n",
       "    <tr>\n",
       "      <th>0</th>\n",
       "      <td>https://m.media-amazon.com/images/I/81LOPbFPiQ...</td>\n",
       "      <td>images/val/0.jpeg</td>\n",
       "      <td>Generic</td>\n",
       "      <td>Women's Khadi Cotton Saree With Blouse Piece (...</td>\n",
       "      <td>saree</td>\n",
       "      <td>NaN</td>\n",
       "    </tr>\n",
       "    <tr>\n",
       "      <th>1</th>\n",
       "      <td>https://m.media-amazon.com/images/I/81Q8Oktw4s...</td>\n",
       "      <td>images/val/1.jpeg</td>\n",
       "      <td>Yashvi Designer</td>\n",
       "      <td>Women's Net Saree With Unstitched Blouse Piece</td>\n",
       "      <td>saree</td>\n",
       "      <td>NaN</td>\n",
       "    </tr>\n",
       "    <tr>\n",
       "      <th>2</th>\n",
       "      <td>https://m.media-amazon.com/images/I/613S1YGCmo...</td>\n",
       "      <td>images/val/2.jpeg</td>\n",
       "      <td>Aarrah</td>\n",
       "      <td>Georgette Strip Print Saree[S_SHIKHA30021SR02_...</td>\n",
       "      <td>saree</td>\n",
       "      <td>NaN</td>\n",
       "    </tr>\n",
       "    <tr>\n",
       "      <th>3</th>\n",
       "      <td>https://m.media-amazon.com/images/I/819budhQl1...</td>\n",
       "      <td>images/val/3.jpeg</td>\n",
       "      <td>MIMOSA</td>\n",
       "      <td>Women's Patola Style Art Silk Saree (Green)</td>\n",
       "      <td>saree</td>\n",
       "      <td>NaN</td>\n",
       "    </tr>\n",
       "    <tr>\n",
       "      <th>4</th>\n",
       "      <td>https://m.media-amazon.com/images/I/61cAZ94ZQV...</td>\n",
       "      <td>images/val/4.jpeg</td>\n",
       "      <td>Generic</td>\n",
       "      <td>Women's Pure Hand Block Patola Printed Cotton ...</td>\n",
       "      <td>saree</td>\n",
       "      <td>NaN</td>\n",
       "    </tr>\n",
       "  </tbody>\n",
       "</table>\n",
       "</div>"
      ],
      "text/plain": [
       "                                           image_url         image_path  \\\n",
       "0  https://m.media-amazon.com/images/I/81LOPbFPiQ...  images/val/0.jpeg   \n",
       "1  https://m.media-amazon.com/images/I/81Q8Oktw4s...  images/val/1.jpeg   \n",
       "2  https://m.media-amazon.com/images/I/613S1YGCmo...  images/val/2.jpeg   \n",
       "3  https://m.media-amazon.com/images/I/819budhQl1...  images/val/3.jpeg   \n",
       "4  https://m.media-amazon.com/images/I/61cAZ94ZQV...  images/val/4.jpeg   \n",
       "\n",
       "             brand                                      product_title  \\\n",
       "0          Generic  Women's Khadi Cotton Saree With Blouse Piece (...   \n",
       "1  Yashvi Designer     Women's Net Saree With Unstitched Blouse Piece   \n",
       "2           Aarrah  Georgette Strip Print Saree[S_SHIKHA30021SR02_...   \n",
       "3           MIMOSA        Women's Patola Style Art Silk Saree (Green)   \n",
       "4          Generic  Women's Pure Hand Block Patola Printed Cotton ...   \n",
       "\n",
       "  class_label color  \n",
       "0       saree   NaN  \n",
       "1       saree   NaN  \n",
       "2       saree   NaN  \n",
       "3       saree   NaN  \n",
       "4       saree   NaN  "
      ]
     },
     "execution_count": 19,
     "metadata": {},
     "output_type": "execute_result"
    }
   ],
   "source": [
    "df_val.head()"
   ]
  },
  {
   "cell_type": "code",
   "execution_count": 20,
   "metadata": {
    "id": "4ILWhraUQ2nh"
   },
   "outputs": [],
   "source": [
    "\n",
    "df_val.drop(['image_url', 'brand', 'product_title', 'color'], axis=1, inplace=True)"
   ]
  },
  {
   "cell_type": "code",
   "execution_count": 21,
   "metadata": {
    "colab": {
     "base_uri": "https://localhost:8080/",
     "height": 204
    },
    "id": "M4_iwXYqQ5V7",
    "outputId": "7abc5f7b-2400-4b60-843a-202cc76b9d09"
   },
   "outputs": [
    {
     "data": {
      "text/html": [
       "<div>\n",
       "<style scoped>\n",
       "    .dataframe tbody tr th:only-of-type {\n",
       "        vertical-align: middle;\n",
       "    }\n",
       "\n",
       "    .dataframe tbody tr th {\n",
       "        vertical-align: top;\n",
       "    }\n",
       "\n",
       "    .dataframe thead th {\n",
       "        text-align: right;\n",
       "    }\n",
       "</style>\n",
       "<table border=\"1\" class=\"dataframe\">\n",
       "  <thead>\n",
       "    <tr style=\"text-align: right;\">\n",
       "      <th></th>\n",
       "      <th>image_path</th>\n",
       "      <th>class_label</th>\n",
       "    </tr>\n",
       "  </thead>\n",
       "  <tbody>\n",
       "    <tr>\n",
       "      <th>0</th>\n",
       "      <td>images/val/0.jpeg</td>\n",
       "      <td>saree</td>\n",
       "    </tr>\n",
       "    <tr>\n",
       "      <th>1</th>\n",
       "      <td>images/val/1.jpeg</td>\n",
       "      <td>saree</td>\n",
       "    </tr>\n",
       "    <tr>\n",
       "      <th>2</th>\n",
       "      <td>images/val/2.jpeg</td>\n",
       "      <td>saree</td>\n",
       "    </tr>\n",
       "    <tr>\n",
       "      <th>3</th>\n",
       "      <td>images/val/3.jpeg</td>\n",
       "      <td>saree</td>\n",
       "    </tr>\n",
       "    <tr>\n",
       "      <th>4</th>\n",
       "      <td>images/val/4.jpeg</td>\n",
       "      <td>saree</td>\n",
       "    </tr>\n",
       "  </tbody>\n",
       "</table>\n",
       "</div>"
      ],
      "text/plain": [
       "          image_path class_label\n",
       "0  images/val/0.jpeg       saree\n",
       "1  images/val/1.jpeg       saree\n",
       "2  images/val/2.jpeg       saree\n",
       "3  images/val/3.jpeg       saree\n",
       "4  images/val/4.jpeg       saree"
      ]
     },
     "execution_count": 21,
     "metadata": {},
     "output_type": "execute_result"
    }
   ],
   "source": [
    "df_val.head()"
   ]
  },
  {
   "cell_type": "code",
   "execution_count": 22,
   "metadata": {
    "id": "9hinbKHcM2Y2"
   },
   "outputs": [],
   "source": [
    "df_train = pd.get_dummies(data=df_train, columns=['class_label'])"
   ]
  },
  {
   "cell_type": "code",
   "execution_count": 23,
   "metadata": {
    "colab": {
     "base_uri": "https://localhost:8080/",
     "height": 224
    },
    "id": "KfIFJqZqM2Y3",
    "outputId": "b3f9a3e5-beef-4bed-db18-17f1a5911114"
   },
   "outputs": [
    {
     "data": {
      "text/html": [
       "<div>\n",
       "<style scoped>\n",
       "    .dataframe tbody tr th:only-of-type {\n",
       "        vertical-align: middle;\n",
       "    }\n",
       "\n",
       "    .dataframe tbody tr th {\n",
       "        vertical-align: top;\n",
       "    }\n",
       "\n",
       "    .dataframe thead th {\n",
       "        text-align: right;\n",
       "    }\n",
       "</style>\n",
       "<table border=\"1\" class=\"dataframe\">\n",
       "  <thead>\n",
       "    <tr style=\"text-align: right;\">\n",
       "      <th></th>\n",
       "      <th>image_path</th>\n",
       "      <th>class_label_blouse</th>\n",
       "      <th>class_label_dhoti_pants</th>\n",
       "      <th>class_label_dupattas</th>\n",
       "      <th>class_label_gowns</th>\n",
       "      <th>class_label_kurta_men</th>\n",
       "      <th>class_label_leggings_and_salwars</th>\n",
       "      <th>class_label_lehenga</th>\n",
       "      <th>class_label_mojaris_men</th>\n",
       "      <th>class_label_mojaris_women</th>\n",
       "      <th>class_label_nehru_jackets</th>\n",
       "      <th>class_label_palazzos</th>\n",
       "      <th>class_label_petticoats</th>\n",
       "      <th>class_label_saree</th>\n",
       "      <th>class_label_sherwanis</th>\n",
       "      <th>class_label_women_kurta</th>\n",
       "    </tr>\n",
       "  </thead>\n",
       "  <tbody>\n",
       "    <tr>\n",
       "      <th>0</th>\n",
       "      <td>images/train/0.jpeg</td>\n",
       "      <td>0</td>\n",
       "      <td>0</td>\n",
       "      <td>0</td>\n",
       "      <td>0</td>\n",
       "      <td>0</td>\n",
       "      <td>0</td>\n",
       "      <td>0</td>\n",
       "      <td>0</td>\n",
       "      <td>0</td>\n",
       "      <td>0</td>\n",
       "      <td>0</td>\n",
       "      <td>0</td>\n",
       "      <td>1</td>\n",
       "      <td>0</td>\n",
       "      <td>0</td>\n",
       "    </tr>\n",
       "    <tr>\n",
       "      <th>1</th>\n",
       "      <td>images/train/1.jpeg</td>\n",
       "      <td>0</td>\n",
       "      <td>0</td>\n",
       "      <td>0</td>\n",
       "      <td>0</td>\n",
       "      <td>0</td>\n",
       "      <td>0</td>\n",
       "      <td>0</td>\n",
       "      <td>0</td>\n",
       "      <td>0</td>\n",
       "      <td>0</td>\n",
       "      <td>0</td>\n",
       "      <td>0</td>\n",
       "      <td>1</td>\n",
       "      <td>0</td>\n",
       "      <td>0</td>\n",
       "    </tr>\n",
       "    <tr>\n",
       "      <th>2</th>\n",
       "      <td>images/train/2.jpeg</td>\n",
       "      <td>0</td>\n",
       "      <td>0</td>\n",
       "      <td>0</td>\n",
       "      <td>0</td>\n",
       "      <td>0</td>\n",
       "      <td>0</td>\n",
       "      <td>0</td>\n",
       "      <td>0</td>\n",
       "      <td>0</td>\n",
       "      <td>0</td>\n",
       "      <td>0</td>\n",
       "      <td>0</td>\n",
       "      <td>1</td>\n",
       "      <td>0</td>\n",
       "      <td>0</td>\n",
       "    </tr>\n",
       "    <tr>\n",
       "      <th>3</th>\n",
       "      <td>images/train/3.jpeg</td>\n",
       "      <td>0</td>\n",
       "      <td>0</td>\n",
       "      <td>0</td>\n",
       "      <td>0</td>\n",
       "      <td>0</td>\n",
       "      <td>0</td>\n",
       "      <td>0</td>\n",
       "      <td>0</td>\n",
       "      <td>0</td>\n",
       "      <td>0</td>\n",
       "      <td>0</td>\n",
       "      <td>0</td>\n",
       "      <td>1</td>\n",
       "      <td>0</td>\n",
       "      <td>0</td>\n",
       "    </tr>\n",
       "    <tr>\n",
       "      <th>4</th>\n",
       "      <td>images/train/4.jpeg</td>\n",
       "      <td>0</td>\n",
       "      <td>0</td>\n",
       "      <td>0</td>\n",
       "      <td>0</td>\n",
       "      <td>0</td>\n",
       "      <td>0</td>\n",
       "      <td>0</td>\n",
       "      <td>0</td>\n",
       "      <td>0</td>\n",
       "      <td>0</td>\n",
       "      <td>0</td>\n",
       "      <td>0</td>\n",
       "      <td>1</td>\n",
       "      <td>0</td>\n",
       "      <td>0</td>\n",
       "    </tr>\n",
       "  </tbody>\n",
       "</table>\n",
       "</div>"
      ],
      "text/plain": [
       "            image_path  class_label_blouse  class_label_dhoti_pants  \\\n",
       "0  images/train/0.jpeg                   0                        0   \n",
       "1  images/train/1.jpeg                   0                        0   \n",
       "2  images/train/2.jpeg                   0                        0   \n",
       "3  images/train/3.jpeg                   0                        0   \n",
       "4  images/train/4.jpeg                   0                        0   \n",
       "\n",
       "   class_label_dupattas  class_label_gowns  class_label_kurta_men  \\\n",
       "0                     0                  0                      0   \n",
       "1                     0                  0                      0   \n",
       "2                     0                  0                      0   \n",
       "3                     0                  0                      0   \n",
       "4                     0                  0                      0   \n",
       "\n",
       "   class_label_leggings_and_salwars  class_label_lehenga  \\\n",
       "0                                 0                    0   \n",
       "1                                 0                    0   \n",
       "2                                 0                    0   \n",
       "3                                 0                    0   \n",
       "4                                 0                    0   \n",
       "\n",
       "   class_label_mojaris_men  class_label_mojaris_women  \\\n",
       "0                        0                          0   \n",
       "1                        0                          0   \n",
       "2                        0                          0   \n",
       "3                        0                          0   \n",
       "4                        0                          0   \n",
       "\n",
       "   class_label_nehru_jackets  class_label_palazzos  class_label_petticoats  \\\n",
       "0                          0                     0                       0   \n",
       "1                          0                     0                       0   \n",
       "2                          0                     0                       0   \n",
       "3                          0                     0                       0   \n",
       "4                          0                     0                       0   \n",
       "\n",
       "   class_label_saree  class_label_sherwanis  class_label_women_kurta  \n",
       "0                  1                      0                        0  \n",
       "1                  1                      0                        0  \n",
       "2                  1                      0                        0  \n",
       "3                  1                      0                        0  \n",
       "4                  1                      0                        0  "
      ]
     },
     "execution_count": 23,
     "metadata": {},
     "output_type": "execute_result"
    }
   ],
   "source": [
    "df_train.head()"
   ]
  },
  {
   "cell_type": "code",
   "execution_count": 24,
   "metadata": {
    "id": "EoyvMHUsM2Y4"
   },
   "outputs": [],
   "source": [
    "df_val = pd.get_dummies(data=df_val, columns=['class_label'])"
   ]
  },
  {
   "cell_type": "code",
   "execution_count": 25,
   "metadata": {
    "colab": {
     "base_uri": "https://localhost:8080/",
     "height": 224
    },
    "id": "NmQiZI18M2Y4",
    "outputId": "9dcb9bdf-1cd5-46d5-a7ba-56068033913a"
   },
   "outputs": [
    {
     "data": {
      "text/html": [
       "<div>\n",
       "<style scoped>\n",
       "    .dataframe tbody tr th:only-of-type {\n",
       "        vertical-align: middle;\n",
       "    }\n",
       "\n",
       "    .dataframe tbody tr th {\n",
       "        vertical-align: top;\n",
       "    }\n",
       "\n",
       "    .dataframe thead th {\n",
       "        text-align: right;\n",
       "    }\n",
       "</style>\n",
       "<table border=\"1\" class=\"dataframe\">\n",
       "  <thead>\n",
       "    <tr style=\"text-align: right;\">\n",
       "      <th></th>\n",
       "      <th>image_path</th>\n",
       "      <th>class_label_blouse</th>\n",
       "      <th>class_label_dhoti_pants</th>\n",
       "      <th>class_label_dupattas</th>\n",
       "      <th>class_label_gowns</th>\n",
       "      <th>class_label_kurta_men</th>\n",
       "      <th>class_label_leggings_and_salwars</th>\n",
       "      <th>class_label_lehenga</th>\n",
       "      <th>class_label_mojaris_men</th>\n",
       "      <th>class_label_mojaris_women</th>\n",
       "      <th>class_label_nehru_jackets</th>\n",
       "      <th>class_label_palazzos</th>\n",
       "      <th>class_label_petticoats</th>\n",
       "      <th>class_label_saree</th>\n",
       "      <th>class_label_sherwanis</th>\n",
       "      <th>class_label_women_kurta</th>\n",
       "    </tr>\n",
       "  </thead>\n",
       "  <tbody>\n",
       "    <tr>\n",
       "      <th>0</th>\n",
       "      <td>images/val/0.jpeg</td>\n",
       "      <td>0</td>\n",
       "      <td>0</td>\n",
       "      <td>0</td>\n",
       "      <td>0</td>\n",
       "      <td>0</td>\n",
       "      <td>0</td>\n",
       "      <td>0</td>\n",
       "      <td>0</td>\n",
       "      <td>0</td>\n",
       "      <td>0</td>\n",
       "      <td>0</td>\n",
       "      <td>0</td>\n",
       "      <td>1</td>\n",
       "      <td>0</td>\n",
       "      <td>0</td>\n",
       "    </tr>\n",
       "    <tr>\n",
       "      <th>1</th>\n",
       "      <td>images/val/1.jpeg</td>\n",
       "      <td>0</td>\n",
       "      <td>0</td>\n",
       "      <td>0</td>\n",
       "      <td>0</td>\n",
       "      <td>0</td>\n",
       "      <td>0</td>\n",
       "      <td>0</td>\n",
       "      <td>0</td>\n",
       "      <td>0</td>\n",
       "      <td>0</td>\n",
       "      <td>0</td>\n",
       "      <td>0</td>\n",
       "      <td>1</td>\n",
       "      <td>0</td>\n",
       "      <td>0</td>\n",
       "    </tr>\n",
       "    <tr>\n",
       "      <th>2</th>\n",
       "      <td>images/val/2.jpeg</td>\n",
       "      <td>0</td>\n",
       "      <td>0</td>\n",
       "      <td>0</td>\n",
       "      <td>0</td>\n",
       "      <td>0</td>\n",
       "      <td>0</td>\n",
       "      <td>0</td>\n",
       "      <td>0</td>\n",
       "      <td>0</td>\n",
       "      <td>0</td>\n",
       "      <td>0</td>\n",
       "      <td>0</td>\n",
       "      <td>1</td>\n",
       "      <td>0</td>\n",
       "      <td>0</td>\n",
       "    </tr>\n",
       "    <tr>\n",
       "      <th>3</th>\n",
       "      <td>images/val/3.jpeg</td>\n",
       "      <td>0</td>\n",
       "      <td>0</td>\n",
       "      <td>0</td>\n",
       "      <td>0</td>\n",
       "      <td>0</td>\n",
       "      <td>0</td>\n",
       "      <td>0</td>\n",
       "      <td>0</td>\n",
       "      <td>0</td>\n",
       "      <td>0</td>\n",
       "      <td>0</td>\n",
       "      <td>0</td>\n",
       "      <td>1</td>\n",
       "      <td>0</td>\n",
       "      <td>0</td>\n",
       "    </tr>\n",
       "    <tr>\n",
       "      <th>4</th>\n",
       "      <td>images/val/4.jpeg</td>\n",
       "      <td>0</td>\n",
       "      <td>0</td>\n",
       "      <td>0</td>\n",
       "      <td>0</td>\n",
       "      <td>0</td>\n",
       "      <td>0</td>\n",
       "      <td>0</td>\n",
       "      <td>0</td>\n",
       "      <td>0</td>\n",
       "      <td>0</td>\n",
       "      <td>0</td>\n",
       "      <td>0</td>\n",
       "      <td>1</td>\n",
       "      <td>0</td>\n",
       "      <td>0</td>\n",
       "    </tr>\n",
       "  </tbody>\n",
       "</table>\n",
       "</div>"
      ],
      "text/plain": [
       "          image_path  class_label_blouse  class_label_dhoti_pants  \\\n",
       "0  images/val/0.jpeg                   0                        0   \n",
       "1  images/val/1.jpeg                   0                        0   \n",
       "2  images/val/2.jpeg                   0                        0   \n",
       "3  images/val/3.jpeg                   0                        0   \n",
       "4  images/val/4.jpeg                   0                        0   \n",
       "\n",
       "   class_label_dupattas  class_label_gowns  class_label_kurta_men  \\\n",
       "0                     0                  0                      0   \n",
       "1                     0                  0                      0   \n",
       "2                     0                  0                      0   \n",
       "3                     0                  0                      0   \n",
       "4                     0                  0                      0   \n",
       "\n",
       "   class_label_leggings_and_salwars  class_label_lehenga  \\\n",
       "0                                 0                    0   \n",
       "1                                 0                    0   \n",
       "2                                 0                    0   \n",
       "3                                 0                    0   \n",
       "4                                 0                    0   \n",
       "\n",
       "   class_label_mojaris_men  class_label_mojaris_women  \\\n",
       "0                        0                          0   \n",
       "1                        0                          0   \n",
       "2                        0                          0   \n",
       "3                        0                          0   \n",
       "4                        0                          0   \n",
       "\n",
       "   class_label_nehru_jackets  class_label_palazzos  class_label_petticoats  \\\n",
       "0                          0                     0                       0   \n",
       "1                          0                     0                       0   \n",
       "2                          0                     0                       0   \n",
       "3                          0                     0                       0   \n",
       "4                          0                     0                       0   \n",
       "\n",
       "   class_label_saree  class_label_sherwanis  class_label_women_kurta  \n",
       "0                  1                      0                        0  \n",
       "1                  1                      0                        0  \n",
       "2                  1                      0                        0  \n",
       "3                  1                      0                        0  \n",
       "4                  1                      0                        0  "
      ]
     },
     "execution_count": 25,
     "metadata": {},
     "output_type": "execute_result"
    }
   ],
   "source": [
    "df_val.head()"
   ]
  },
  {
   "cell_type": "code",
   "execution_count": 26,
   "metadata": {
    "id": "Y-H8eEEMM2Y4"
   },
   "outputs": [],
   "source": [
    "df_test = pd.get_dummies(data=df_test, columns=['class_label'])"
   ]
  },
  {
   "cell_type": "code",
   "execution_count": 27,
   "metadata": {
    "colab": {
     "base_uri": "https://localhost:8080/"
    },
    "id": "Ftnb-p_BM2Y4",
    "outputId": "23af559e-4e9e-47e7-997f-7cd517023c3b"
   },
   "outputs": [
    {
     "data": {
      "text/plain": [
       "Index(['image_path', 'class_label_blouse', 'class_label_dhoti_pants',\n",
       "       'class_label_dupattas', 'class_label_gowns', 'class_label_kurta_men',\n",
       "       'class_label_leggings_and_salwars', 'class_label_lehenga',\n",
       "       'class_label_mojaris_men', 'class_label_mojaris_women',\n",
       "       'class_label_nehru_jackets', 'class_label_palazzos',\n",
       "       'class_label_petticoats', 'class_label_saree', 'class_label_sherwanis',\n",
       "       'class_label_women_kurta'],\n",
       "      dtype='object')"
      ]
     },
     "execution_count": 27,
     "metadata": {},
     "output_type": "execute_result"
    }
   ],
   "source": [
    "df_train.columns"
   ]
  },
  {
   "cell_type": "code",
   "execution_count": 28,
   "metadata": {
    "colab": {
     "base_uri": "https://localhost:8080/"
    },
    "id": "FJPDKio3Xxzb",
    "outputId": "4b4a9022-53f3-43d2-c93a-ce087cd10194"
   },
   "outputs": [
    {
     "name": "stdout",
     "output_type": "stream",
     "text": [
      "Found 91166 validated image filenames.\n"
     ]
    }
   ],
   "source": [
    "# Creating generator images sizes 64 x 64\n",
    "columns = ['class_label_blouse', 'class_label_dhoti_pants',\n",
    "       'class_label_dupattas', 'class_label_gowns', 'class_label_kurta_men',\n",
    "       'class_label_leggings_and_salwars', 'class_label_lehenga',\n",
    "       'class_label_mojaris_men', 'class_label_mojaris_women',\n",
    "       'class_label_nehru_jackets', 'class_label_palazzos',\n",
    "       'class_label_petticoats', 'class_label_saree', 'class_label_sherwanis',\n",
    "       'class_label_women_kurta']\n",
    "train_datagen=ImageDataGenerator(rescale=1./255)\n",
    "train_generator = train_datagen.flow_from_dataframe(dataframe=df_train, directory='/Users/butler/Documents/hp/Retrieval_of_Indian_clothing_images/data/raw/indian_clothing/', x_col='image_path', y_col=columns, target_size=(32,32), batch_size=128, seed=26, save_to_dir='/Users/butler/Documents/untitled/', class_mode='raw')"
   ]
  },
  {
   "cell_type": "code",
   "execution_count": 29,
   "metadata": {
    "colab": {
     "base_uri": "https://localhost:8080/"
    },
    "id": "S3bbvLzzM2Y_",
    "outputId": "244e72e6-ad1d-4214-d4f4-0b78733c9a8c"
   },
   "outputs": [
    {
     "name": "stdout",
     "output_type": "stream",
     "text": [
      "Found 7500 validated image filenames.\n"
     ]
    }
   ],
   "source": [
    "columns = ['class_label_blouse', 'class_label_dhoti_pants',\n",
    "       'class_label_dupattas', 'class_label_gowns', 'class_label_kurta_men',\n",
    "       'class_label_leggings_and_salwars', 'class_label_lehenga',\n",
    "       'class_label_mojaris_men', 'class_label_mojaris_women',\n",
    "       'class_label_nehru_jackets', 'class_label_palazzos',\n",
    "       'class_label_petticoats', 'class_label_saree', 'class_label_sherwanis',\n",
    "       'class_label_women_kurta']\n",
    "val_datagen=ImageDataGenerator(rescale=1./255)\n",
    "val_generator = val_datagen.flow_from_dataframe(dataframe=df_val, directory='/Users/butler/Documents/hp/Retrieval_of_Indian_clothing_images/data/raw/indian_clothing/', x_col='image_path', y_col=columns, target_size=(32,32), batch_size=128, seed=26, save_to_dir='/Users/butler/Documents/untitled/', class_mode='raw')"
   ]
  },
  {
   "cell_type": "code",
   "execution_count": 28,
   "metadata": {
    "colab": {
     "base_uri": "https://localhost:8080/"
    },
    "id": "PfNLi5u6_JQl",
    "outputId": "706a8a8d-34ab-4b1d-e789-c20b4eb94fff"
   },
   "outputs": [
    {
     "name": "stdout",
     "output_type": "stream",
     "text": [
      "Found 0 validated image filenames.\n"
     ]
    },
    {
     "name": "stderr",
     "output_type": "stream",
     "text": [
      "/Users/butler/anaconda3/envs/CNN/lib/python3.9/site-packages/keras/preprocessing/image.py:1137: UserWarning: Found 7500 invalid image filename(s) in x_col=\"image_path\". These filename(s) will be ignored.\n",
      "  warnings.warn(\n"
     ]
    }
   ],
   "source": [
    "columns = ['class_label_blouse', 'class_label_dhoti_pants',\n",
    "       'class_label_dupattas', 'class_label_gowns', 'class_label_kurta_men',\n",
    "       'class_label_leggings_and_salwars', 'class_label_lehenga',\n",
    "       'class_label_mojaris_men', 'class_label_mojaris_women',\n",
    "       'class_label_nehru_jackets', 'class_label_palazzos',\n",
    "       'class_label_petticoats', 'class_label_saree', 'class_label_sherwanis',\n",
    "       'class_label_women_kurta']\n",
    "test_datagen=ImageDataGenerator(rescale=1./255)\n",
    "test_generator = test_datagen.flow_from_dataframe(dataframe=df_test, directory='/content/', x_col='image_path', y_col=columns, target_size=(32,32), batch_size=128, seed=26, save_to_dir='/Users/butler/Documents/untitled2/', class_mode='raw')"
   ]
  },
  {
   "cell_type": "code",
   "execution_count": 32,
   "metadata": {
    "id": "RihJCuyqv42c"
   },
   "outputs": [],
   "source": [
    "# Setting up model\n",
    "img_width, img_height = 32, 32\n",
    "\n",
    "train_data = train_generator\n",
    "val_data = val_generator\n",
    "nb_train_samples = 91166\n",
    "nb_validation_samples = 7500\n",
    "epochs = 500\n",
    "batch_size = 64\n",
    "n_classes = 15\n",
    "\n",
    "input_shape = (img_width, img_height, 3)"
   ]
  },
  {
   "cell_type": "code",
   "execution_count": 37,
   "metadata": {
    "id": "9ozjPIuVjNTe"
   },
   "outputs": [],
   "source": [
    "\n",
    "model = Sequential()\n",
    "\n",
    "model.add(Conv2D(32, (3,3), activation='relu', input_shape=input_shape))\n",
    "model.add(Conv2D(32, (3,3), activation='relu'))\n",
    "\n",
    "model.add(MaxPooling2D(pool_size=(2, 2)))\n",
    "\n",
    "model.add(Conv2D(64, (3,3), activation='relu'))\n",
    "model.add(Conv2D(64, (3,3), activation='relu'))\n",
    "model.add(Conv2D(64, (3,3), activation='relu'))\n",
    "\n",
    "model.add(MaxPooling2D(pool_size=(2, 2)))\n",
    "\n",
    "model.add(Flatten())\n",
    "\n",
    "model.add(Dense(32, activation='relu'))\n",
    "model.add(Dropout(0.35))\n",
    "model.add(Dense(n_classes, activation='softmax'))\n",
    "\n",
    "model.compile(loss='categorical_crossentropy', optimizer='adam', metrics=['accuracy'])"
   ]
  },
  {
   "cell_type": "code",
   "execution_count": 35,
   "metadata": {
    "id": "s1mpS9zSvvfS"
   },
   "outputs": [],
   "source": [
    "callbacks = [\n",
    "    keras.callbacks.ModelCheckpoint(\n",
    "        filepath='/Users/butler/Documents/hp/Retrieval_of_Indian_clothing_images/models',\n",
    "        save_best_only=True,\n",
    "        monitor='val_accuracy'\n",
    "    )\n",
    "]"
   ]
  },
  {
   "cell_type": "code",
   "execution_count": 41,
   "metadata": {
    "colab": {
     "base_uri": "https://localhost:8080/",
     "height": 694
    },
    "id": "geG5JuZaAf8w",
    "outputId": "c2479676-c492-436a-cba3-0579426ae591"
   },
   "outputs": [
    {
     "name": "stdout",
     "output_type": "stream",
     "text": [
      "Epoch 1/500\n"
     ]
    },
    {
     "name": "stderr",
     "output_type": "stream",
     "text": [
      "2023-08-31 17:05:46.738091: I tensorflow/core/common_runtime/executor.cc:1197] [/device:CPU:0] (DEBUG INFO) Executor start aborting (this does not indicate an error and you can ignore this message): INVALID_ARGUMENT: You must feed a value for placeholder tensor 'Placeholder/_0' with dtype int32\n",
      "\t [[{{node Placeholder/_0}}]]\n"
     ]
    },
    {
     "name": "stdout",
     "output_type": "stream",
     "text": [
      "713/713 [==============================] - ETA: 0s - loss: 1.1546 - accuracy: 0.6263WARNING:tensorflow:Can save best model only with val_accuracy available, skipping.\n",
      "713/713 [==============================] - 119s 166ms/step - loss: 1.1546 - accuracy: 0.6263\n",
      "Epoch 2/500\n",
      "713/713 [==============================] - ETA: 0s - loss: 1.0283 - accuracy: 0.6672WARNING:tensorflow:Can save best model only with val_accuracy available, skipping.\n",
      "713/713 [==============================] - 129s 180ms/step - loss: 1.0283 - accuracy: 0.6672\n",
      "Epoch 3/500\n",
      "713/713 [==============================] - ETA: 0s - loss: 0.9492 - accuracy: 0.6928WARNING:tensorflow:Can save best model only with val_accuracy available, skipping.\n",
      "713/713 [==============================] - 130s 182ms/step - loss: 0.9492 - accuracy: 0.6928\n",
      "Epoch 4/500\n",
      "713/713 [==============================] - ETA: 0s - loss: 0.8887 - accuracy: 0.7124WARNING:tensorflow:Can save best model only with val_accuracy available, skipping.\n",
      "713/713 [==============================] - 129s 180ms/step - loss: 0.8887 - accuracy: 0.7124\n",
      "Epoch 5/500\n",
      "713/713 [==============================] - ETA: 0s - loss: 0.8444 - accuracy: 0.7264WARNING:tensorflow:Can save best model only with val_accuracy available, skipping.\n",
      "713/713 [==============================] - 138s 194ms/step - loss: 0.8444 - accuracy: 0.7264\n",
      "Epoch 6/500\n",
      "713/713 [==============================] - ETA: 0s - loss: 0.8124 - accuracy: 0.7354WARNING:tensorflow:Can save best model only with val_accuracy available, skipping.\n",
      "713/713 [==============================] - 137s 192ms/step - loss: 0.8124 - accuracy: 0.7354\n",
      "Epoch 7/500\n",
      "713/713 [==============================] - ETA: 0s - loss: 0.7752 - accuracy: 0.7493WARNING:tensorflow:Can save best model only with val_accuracy available, skipping.\n",
      "713/713 [==============================] - 131s 183ms/step - loss: 0.7752 - accuracy: 0.7493\n",
      "Epoch 8/500\n",
      "713/713 [==============================] - ETA: 0s - loss: 0.7529 - accuracy: 0.7547WARNING:tensorflow:Can save best model only with val_accuracy available, skipping.\n",
      "713/713 [==============================] - 139s 195ms/step - loss: 0.7529 - accuracy: 0.7547\n",
      "Epoch 9/500\n",
      "713/713 [==============================] - ETA: 0s - loss: 0.7253 - accuracy: 0.7637WARNING:tensorflow:Can save best model only with val_accuracy available, skipping.\n",
      "713/713 [==============================] - 143s 200ms/step - loss: 0.7253 - accuracy: 0.7637\n",
      "Epoch 10/500\n",
      "713/713 [==============================] - ETA: 0s - loss: 0.6994 - accuracy: 0.7705"
     ]
    },
    {
     "name": "stderr",
     "output_type": "stream",
     "text": [
      "2023-08-31 17:28:05.507957: I tensorflow/core/common_runtime/executor.cc:1197] [/device:CPU:0] (DEBUG INFO) Executor start aborting (this does not indicate an error and you can ignore this message): INVALID_ARGUMENT: You must feed a value for placeholder tensor 'Placeholder/_0' with dtype int32\n",
      "\t [[{{node Placeholder/_0}}]]\n",
      "2023-08-31 17:28:17.087197: I tensorflow/core/common_runtime/executor.cc:1197] [/device:CPU:0] (DEBUG INFO) Executor start aborting (this does not indicate an error and you can ignore this message): INVALID_ARGUMENT: You must feed a value for placeholder tensor 'inputs' with dtype float and shape [?,32]\n",
      "\t [[{{node inputs}}]]\n",
      "2023-08-31 17:28:17.189179: I tensorflow/core/common_runtime/executor.cc:1197] [/device:CPU:0] (DEBUG INFO) Executor start aborting (this does not indicate an error and you can ignore this message): INVALID_ARGUMENT: You must feed a value for placeholder tensor 'inputs' with dtype float and shape [?,32]\n",
      "\t [[{{node inputs}}]]\n",
      "WARNING:absl:Found untraced functions such as _jit_compiled_convolution_op, _jit_compiled_convolution_op, _jit_compiled_convolution_op, _jit_compiled_convolution_op, _jit_compiled_convolution_op while saving (showing 5 of 5). These functions will not be directly callable after loading.\n"
     ]
    },
    {
     "name": "stdout",
     "output_type": "stream",
     "text": [
      "INFO:tensorflow:Assets written to: /Users/butler/Documents/hp/Retrieval_of_Indian_clothing_images/models/assets\n"
     ]
    },
    {
     "name": "stderr",
     "output_type": "stream",
     "text": [
      "INFO:tensorflow:Assets written to: /Users/butler/Documents/hp/Retrieval_of_Indian_clothing_images/models/assets\n"
     ]
    },
    {
     "name": "stdout",
     "output_type": "stream",
     "text": [
      "713/713 [==============================] - 156s 219ms/step - loss: 0.6994 - accuracy: 0.7705 - val_loss: 0.7541 - val_accuracy: 0.7536\n",
      "Epoch 11/500\n",
      "713/713 [==============================] - ETA: 0s - loss: 0.6839 - accuracy: 0.7753WARNING:tensorflow:Can save best model only with val_accuracy available, skipping.\n"
     ]
    },
    {
     "name": "stderr",
     "output_type": "stream",
     "text": [
      "WARNING:tensorflow:Can save best model only with val_accuracy available, skipping.\n"
     ]
    },
    {
     "name": "stdout",
     "output_type": "stream",
     "text": [
      "713/713 [==============================] - 141s 197ms/step - loss: 0.6839 - accuracy: 0.7753\n",
      "Epoch 12/500\n",
      "713/713 [==============================] - ETA: 0s - loss: 0.6673 - accuracy: 0.7818WARNING:tensorflow:Can save best model only with val_accuracy available, skipping.\n"
     ]
    },
    {
     "name": "stderr",
     "output_type": "stream",
     "text": [
      "WARNING:tensorflow:Can save best model only with val_accuracy available, skipping.\n"
     ]
    },
    {
     "name": "stdout",
     "output_type": "stream",
     "text": [
      "713/713 [==============================] - 141s 197ms/step - loss: 0.6673 - accuracy: 0.7818\n",
      "Epoch 13/500\n",
      "713/713 [==============================] - ETA: 0s - loss: 0.6481 - accuracy: 0.7850WARNING:tensorflow:Can save best model only with val_accuracy available, skipping.\n"
     ]
    },
    {
     "name": "stderr",
     "output_type": "stream",
     "text": [
      "WARNING:tensorflow:Can save best model only with val_accuracy available, skipping.\n"
     ]
    },
    {
     "name": "stdout",
     "output_type": "stream",
     "text": [
      "713/713 [==============================] - 150s 211ms/step - loss: 0.6481 - accuracy: 0.7850\n",
      "Epoch 14/500\n",
      "713/713 [==============================] - ETA: 0s - loss: 0.6328 - accuracy: 0.7908WARNING:tensorflow:Can save best model only with val_accuracy available, skipping.\n"
     ]
    },
    {
     "name": "stderr",
     "output_type": "stream",
     "text": [
      "WARNING:tensorflow:Can save best model only with val_accuracy available, skipping.\n"
     ]
    },
    {
     "name": "stdout",
     "output_type": "stream",
     "text": [
      "713/713 [==============================] - 143s 201ms/step - loss: 0.6328 - accuracy: 0.7908\n",
      "Epoch 15/500\n",
      "713/713 [==============================] - ETA: 0s - loss: 0.6242 - accuracy: 0.7935WARNING:tensorflow:Can save best model only with val_accuracy available, skipping.\n"
     ]
    },
    {
     "name": "stderr",
     "output_type": "stream",
     "text": [
      "WARNING:tensorflow:Can save best model only with val_accuracy available, skipping.\n"
     ]
    },
    {
     "name": "stdout",
     "output_type": "stream",
     "text": [
      "713/713 [==============================] - 148s 208ms/step - loss: 0.6242 - accuracy: 0.7935\n",
      "Epoch 16/500\n",
      "713/713 [==============================] - ETA: 0s - loss: 0.6062 - accuracy: 0.7982WARNING:tensorflow:Can save best model only with val_accuracy available, skipping.\n"
     ]
    },
    {
     "name": "stderr",
     "output_type": "stream",
     "text": [
      "WARNING:tensorflow:Can save best model only with val_accuracy available, skipping.\n"
     ]
    },
    {
     "name": "stdout",
     "output_type": "stream",
     "text": [
      "713/713 [==============================] - 153s 215ms/step - loss: 0.6062 - accuracy: 0.7982\n",
      "Epoch 17/500\n",
      "713/713 [==============================] - ETA: 0s - loss: 0.5908 - accuracy: 0.8012WARNING:tensorflow:Can save best model only with val_accuracy available, skipping.\n"
     ]
    },
    {
     "name": "stderr",
     "output_type": "stream",
     "text": [
      "WARNING:tensorflow:Can save best model only with val_accuracy available, skipping.\n"
     ]
    },
    {
     "name": "stdout",
     "output_type": "stream",
     "text": [
      "713/713 [==============================] - 153s 213ms/step - loss: 0.5908 - accuracy: 0.8012\n",
      "Epoch 18/500\n",
      "713/713 [==============================] - ETA: 0s - loss: 0.5771 - accuracy: 0.8059WARNING:tensorflow:Can save best model only with val_accuracy available, skipping.\n"
     ]
    },
    {
     "name": "stderr",
     "output_type": "stream",
     "text": [
      "WARNING:tensorflow:Can save best model only with val_accuracy available, skipping.\n"
     ]
    },
    {
     "name": "stdout",
     "output_type": "stream",
     "text": [
      "713/713 [==============================] - 148s 207ms/step - loss: 0.5771 - accuracy: 0.8059\n",
      "Epoch 19/500\n",
      "713/713 [==============================] - ETA: 0s - loss: 0.5683 - accuracy: 0.8087WARNING:tensorflow:Can save best model only with val_accuracy available, skipping.\n"
     ]
    },
    {
     "name": "stderr",
     "output_type": "stream",
     "text": [
      "WARNING:tensorflow:Can save best model only with val_accuracy available, skipping.\n"
     ]
    },
    {
     "name": "stdout",
     "output_type": "stream",
     "text": [
      "713/713 [==============================] - 143s 200ms/step - loss: 0.5683 - accuracy: 0.8087\n",
      "Epoch 20/500\n",
      "713/713 [==============================] - ETA: 0s - loss: 0.5607 - accuracy: 0.8119"
     ]
    },
    {
     "name": "stderr",
     "output_type": "stream",
     "text": [
      "2023-08-31 17:53:01.446245: I tensorflow/core/common_runtime/executor.cc:1197] [/device:CPU:0] (DEBUG INFO) Executor start aborting (this does not indicate an error and you can ignore this message): INVALID_ARGUMENT: You must feed a value for placeholder tensor 'inputs' with dtype float and shape [?,32]\n",
      "\t [[{{node inputs}}]]\n",
      "2023-08-31 17:53:01.535570: I tensorflow/core/common_runtime/executor.cc:1197] [/device:CPU:0] (DEBUG INFO) Executor start aborting (this does not indicate an error and you can ignore this message): INVALID_ARGUMENT: You must feed a value for placeholder tensor 'inputs' with dtype float and shape [?,32]\n",
      "\t [[{{node inputs}}]]\n",
      "WARNING:absl:Found untraced functions such as _jit_compiled_convolution_op, _jit_compiled_convolution_op, _jit_compiled_convolution_op, _jit_compiled_convolution_op, _jit_compiled_convolution_op while saving (showing 5 of 5). These functions will not be directly callable after loading.\n"
     ]
    },
    {
     "name": "stdout",
     "output_type": "stream",
     "text": [
      "INFO:tensorflow:Assets written to: /Users/butler/Documents/hp/Retrieval_of_Indian_clothing_images/models/assets\n"
     ]
    },
    {
     "name": "stderr",
     "output_type": "stream",
     "text": [
      "INFO:tensorflow:Assets written to: /Users/butler/Documents/hp/Retrieval_of_Indian_clothing_images/models/assets\n"
     ]
    },
    {
     "name": "stdout",
     "output_type": "stream",
     "text": [
      "713/713 [==============================] - 164s 230ms/step - loss: 0.5607 - accuracy: 0.8119 - val_loss: 0.7404 - val_accuracy: 0.7661\n",
      "Epoch 21/500\n",
      "713/713 [==============================] - ETA: 0s - loss: 0.5454 - accuracy: 0.8158WARNING:tensorflow:Can save best model only with val_accuracy available, skipping.\n"
     ]
    },
    {
     "name": "stderr",
     "output_type": "stream",
     "text": [
      "WARNING:tensorflow:Can save best model only with val_accuracy available, skipping.\n"
     ]
    },
    {
     "name": "stdout",
     "output_type": "stream",
     "text": [
      "713/713 [==============================] - 151s 212ms/step - loss: 0.5454 - accuracy: 0.8158\n",
      "Epoch 22/500\n",
      "713/713 [==============================] - ETA: 0s - loss: 0.5372 - accuracy: 0.8175WARNING:tensorflow:Can save best model only with val_accuracy available, skipping.\n"
     ]
    },
    {
     "name": "stderr",
     "output_type": "stream",
     "text": [
      "WARNING:tensorflow:Can save best model only with val_accuracy available, skipping.\n"
     ]
    },
    {
     "name": "stdout",
     "output_type": "stream",
     "text": [
      "713/713 [==============================] - 154s 216ms/step - loss: 0.5372 - accuracy: 0.8175\n",
      "Epoch 23/500\n",
      "713/713 [==============================] - ETA: 0s - loss: 0.5287 - accuracy: 0.8206WARNING:tensorflow:Can save best model only with val_accuracy available, skipping.\n"
     ]
    },
    {
     "name": "stderr",
     "output_type": "stream",
     "text": [
      "WARNING:tensorflow:Can save best model only with val_accuracy available, skipping.\n"
     ]
    },
    {
     "name": "stdout",
     "output_type": "stream",
     "text": [
      "713/713 [==============================] - 157s 220ms/step - loss: 0.5287 - accuracy: 0.8206\n",
      "Epoch 24/500\n",
      "713/713 [==============================] - ETA: 0s - loss: 0.5236 - accuracy: 0.8214WARNING:tensorflow:Can save best model only with val_accuracy available, skipping.\n"
     ]
    },
    {
     "name": "stderr",
     "output_type": "stream",
     "text": [
      "WARNING:tensorflow:Can save best model only with val_accuracy available, skipping.\n"
     ]
    },
    {
     "name": "stdout",
     "output_type": "stream",
     "text": [
      "713/713 [==============================] - 155s 217ms/step - loss: 0.5236 - accuracy: 0.8214\n",
      "Epoch 25/500\n",
      "713/713 [==============================] - ETA: 0s - loss: 0.5151 - accuracy: 0.8241WARNING:tensorflow:Can save best model only with val_accuracy available, skipping.\n"
     ]
    },
    {
     "name": "stderr",
     "output_type": "stream",
     "text": [
      "WARNING:tensorflow:Can save best model only with val_accuracy available, skipping.\n"
     ]
    },
    {
     "name": "stdout",
     "output_type": "stream",
     "text": [
      "713/713 [==============================] - 155s 218ms/step - loss: 0.5151 - accuracy: 0.8241\n",
      "Epoch 26/500\n",
      "713/713 [==============================] - ETA: 0s - loss: 0.5039 - accuracy: 0.8276WARNING:tensorflow:Can save best model only with val_accuracy available, skipping.\n"
     ]
    },
    {
     "name": "stderr",
     "output_type": "stream",
     "text": [
      "WARNING:tensorflow:Can save best model only with val_accuracy available, skipping.\n"
     ]
    },
    {
     "name": "stdout",
     "output_type": "stream",
     "text": [
      "713/713 [==============================] - 149s 209ms/step - loss: 0.5039 - accuracy: 0.8276\n",
      "Epoch 27/500\n",
      "713/713 [==============================] - ETA: 0s - loss: 0.5026 - accuracy: 0.8280WARNING:tensorflow:Can save best model only with val_accuracy available, skipping.\n"
     ]
    },
    {
     "name": "stderr",
     "output_type": "stream",
     "text": [
      "WARNING:tensorflow:Can save best model only with val_accuracy available, skipping.\n"
     ]
    },
    {
     "name": "stdout",
     "output_type": "stream",
     "text": [
      "713/713 [==============================] - 150s 210ms/step - loss: 0.5026 - accuracy: 0.8280\n",
      "Epoch 28/500\n",
      "713/713 [==============================] - ETA: 0s - loss: 0.4895 - accuracy: 0.8321WARNING:tensorflow:Can save best model only with val_accuracy available, skipping.\n"
     ]
    },
    {
     "name": "stderr",
     "output_type": "stream",
     "text": [
      "WARNING:tensorflow:Can save best model only with val_accuracy available, skipping.\n"
     ]
    },
    {
     "name": "stdout",
     "output_type": "stream",
     "text": [
      "713/713 [==============================] - 156s 219ms/step - loss: 0.4895 - accuracy: 0.8321\n",
      "Epoch 29/500\n",
      "713/713 [==============================] - ETA: 0s - loss: 0.4836 - accuracy: 0.8329WARNING:tensorflow:Can save best model only with val_accuracy available, skipping.\n"
     ]
    },
    {
     "name": "stderr",
     "output_type": "stream",
     "text": [
      "WARNING:tensorflow:Can save best model only with val_accuracy available, skipping.\n"
     ]
    },
    {
     "name": "stdout",
     "output_type": "stream",
     "text": [
      "713/713 [==============================] - 150s 210ms/step - loss: 0.4836 - accuracy: 0.8329\n",
      "Epoch 30/500\n",
      "713/713 [==============================] - ETA: 0s - loss: 0.4743 - accuracy: 0.8347"
     ]
    },
    {
     "name": "stderr",
     "output_type": "stream",
     "text": [
      "2023-08-31 18:18:46.191795: I tensorflow/core/common_runtime/executor.cc:1197] [/device:CPU:0] (DEBUG INFO) Executor start aborting (this does not indicate an error and you can ignore this message): INVALID_ARGUMENT: You must feed a value for placeholder tensor 'inputs' with dtype float and shape [?,32]\n",
      "\t [[{{node inputs}}]]\n",
      "2023-08-31 18:18:46.281670: I tensorflow/core/common_runtime/executor.cc:1197] [/device:CPU:0] (DEBUG INFO) Executor start aborting (this does not indicate an error and you can ignore this message): INVALID_ARGUMENT: You must feed a value for placeholder tensor 'inputs' with dtype float and shape [?,32]\n",
      "\t [[{{node inputs}}]]\n",
      "WARNING:absl:Found untraced functions such as _jit_compiled_convolution_op, _jit_compiled_convolution_op, _jit_compiled_convolution_op, _jit_compiled_convolution_op, _jit_compiled_convolution_op while saving (showing 5 of 5). These functions will not be directly callable after loading.\n"
     ]
    },
    {
     "name": "stdout",
     "output_type": "stream",
     "text": [
      "INFO:tensorflow:Assets written to: /Users/butler/Documents/hp/Retrieval_of_Indian_clothing_images/models/assets\n"
     ]
    },
    {
     "name": "stderr",
     "output_type": "stream",
     "text": [
      "INFO:tensorflow:Assets written to: /Users/butler/Documents/hp/Retrieval_of_Indian_clothing_images/models/assets\n"
     ]
    },
    {
     "name": "stdout",
     "output_type": "stream",
     "text": [
      "713/713 [==============================] - 167s 235ms/step - loss: 0.4743 - accuracy: 0.8347 - val_loss: 0.7986 - val_accuracy: 0.7805\n",
      "Epoch 31/500\n",
      "713/713 [==============================] - ETA: 0s - loss: 0.4740 - accuracy: 0.8361WARNING:tensorflow:Can save best model only with val_accuracy available, skipping.\n"
     ]
    },
    {
     "name": "stderr",
     "output_type": "stream",
     "text": [
      "WARNING:tensorflow:Can save best model only with val_accuracy available, skipping.\n"
     ]
    },
    {
     "name": "stdout",
     "output_type": "stream",
     "text": [
      "713/713 [==============================] - 156s 219ms/step - loss: 0.4740 - accuracy: 0.8361\n",
      "Epoch 32/500\n",
      "713/713 [==============================] - ETA: 0s - loss: 0.4644 - accuracy: 0.8393WARNING:tensorflow:Can save best model only with val_accuracy available, skipping.\n"
     ]
    },
    {
     "name": "stderr",
     "output_type": "stream",
     "text": [
      "WARNING:tensorflow:Can save best model only with val_accuracy available, skipping.\n"
     ]
    },
    {
     "name": "stdout",
     "output_type": "stream",
     "text": [
      "713/713 [==============================] - 152s 213ms/step - loss: 0.4644 - accuracy: 0.8393\n",
      "Epoch 33/500\n",
      "713/713 [==============================] - ETA: 0s - loss: 0.4601 - accuracy: 0.8384WARNING:tensorflow:Can save best model only with val_accuracy available, skipping.\n"
     ]
    },
    {
     "name": "stderr",
     "output_type": "stream",
     "text": [
      "WARNING:tensorflow:Can save best model only with val_accuracy available, skipping.\n"
     ]
    },
    {
     "name": "stdout",
     "output_type": "stream",
     "text": [
      "713/713 [==============================] - 149s 209ms/step - loss: 0.4601 - accuracy: 0.8384\n",
      "Epoch 34/500\n",
      "451/713 [=================>............] - ETA: 1:50 - loss: 0.4501 - accuracy: 0.8426"
     ]
    },
    {
     "ename": "KeyboardInterrupt",
     "evalue": "",
     "output_type": "error",
     "traceback": [
      "\u001b[0;31m---------------------------------------------------------------------------\u001b[0m",
      "\u001b[0;31mKeyboardInterrupt\u001b[0m                         Traceback (most recent call last)",
      "Cell \u001b[0;32mIn[41], line 1\u001b[0m\n\u001b[0;32m----> 1\u001b[0m history \u001b[38;5;241m=\u001b[39m \u001b[43mmodel\u001b[49m\u001b[38;5;241;43m.\u001b[39;49m\u001b[43mfit\u001b[49m\u001b[43m(\u001b[49m\n\u001b[1;32m      2\u001b[0m \u001b[43m    \u001b[49m\u001b[43mx\u001b[49m\u001b[38;5;241;43m=\u001b[39;49m\u001b[43mtrain_data\u001b[49m\u001b[43m,\u001b[49m\n\u001b[1;32m      3\u001b[0m \u001b[43m    \u001b[49m\u001b[43my\u001b[49m\u001b[38;5;241;43m=\u001b[39;49m\u001b[38;5;28;43;01mNone\u001b[39;49;00m\u001b[43m,\u001b[49m\n\u001b[1;32m      4\u001b[0m \u001b[43m    \u001b[49m\u001b[43mvalidation_data\u001b[49m\u001b[38;5;241;43m=\u001b[39;49m\u001b[43m \u001b[49m\u001b[43mval_data\u001b[49m\u001b[43m,\u001b[49m\n\u001b[1;32m      5\u001b[0m \u001b[43m    \u001b[49m\u001b[43mepochs\u001b[49m\u001b[38;5;241;43m=\u001b[39;49m\u001b[43mepochs\u001b[49m\u001b[43m,\u001b[49m\n\u001b[1;32m      6\u001b[0m \u001b[43m    \u001b[49m\u001b[43mverbose\u001b[49m\u001b[38;5;241;43m=\u001b[39;49m\u001b[38;5;124;43m\"\u001b[39;49m\u001b[38;5;124;43mauto\u001b[39;49m\u001b[38;5;124;43m\"\u001b[39;49m\u001b[43m,\u001b[49m\n\u001b[1;32m      7\u001b[0m \u001b[43m    \u001b[49m\u001b[43mcallbacks\u001b[49m\u001b[38;5;241;43m=\u001b[39;49m\u001b[43mcallbacks\u001b[49m\u001b[43m,\u001b[49m\n\u001b[1;32m      8\u001b[0m \u001b[43m    \u001b[49m\u001b[43mvalidation_split\u001b[49m\u001b[38;5;241;43m=\u001b[39;49m\u001b[38;5;241;43m0.0\u001b[39;49m\u001b[43m,\u001b[49m\n\u001b[1;32m      9\u001b[0m \u001b[43m    \u001b[49m\u001b[43mshuffle\u001b[49m\u001b[38;5;241;43m=\u001b[39;49m\u001b[38;5;28;43;01mTrue\u001b[39;49;00m\u001b[43m,\u001b[49m\n\u001b[1;32m     10\u001b[0m \u001b[43m    \u001b[49m\u001b[43mvalidation_freq\u001b[49m\u001b[38;5;241;43m=\u001b[39;49m\u001b[38;5;241;43m10\u001b[39;49m\u001b[43m,\u001b[49m\n\u001b[1;32m     11\u001b[0m \u001b[43m    \u001b[49m\u001b[43m)\u001b[49m\n",
      "File \u001b[0;32m~/anaconda3/envs/CNN/lib/python3.9/site-packages/keras/utils/traceback_utils.py:65\u001b[0m, in \u001b[0;36mfilter_traceback.<locals>.error_handler\u001b[0;34m(*args, **kwargs)\u001b[0m\n\u001b[1;32m     63\u001b[0m filtered_tb \u001b[38;5;241m=\u001b[39m \u001b[38;5;28;01mNone\u001b[39;00m\n\u001b[1;32m     64\u001b[0m \u001b[38;5;28;01mtry\u001b[39;00m:\n\u001b[0;32m---> 65\u001b[0m     \u001b[38;5;28;01mreturn\u001b[39;00m \u001b[43mfn\u001b[49m\u001b[43m(\u001b[49m\u001b[38;5;241;43m*\u001b[39;49m\u001b[43margs\u001b[49m\u001b[43m,\u001b[49m\u001b[43m \u001b[49m\u001b[38;5;241;43m*\u001b[39;49m\u001b[38;5;241;43m*\u001b[39;49m\u001b[43mkwargs\u001b[49m\u001b[43m)\u001b[49m\n\u001b[1;32m     66\u001b[0m \u001b[38;5;28;01mexcept\u001b[39;00m \u001b[38;5;167;01mException\u001b[39;00m \u001b[38;5;28;01mas\u001b[39;00m e:\n\u001b[1;32m     67\u001b[0m     filtered_tb \u001b[38;5;241m=\u001b[39m _process_traceback_frames(e\u001b[38;5;241m.\u001b[39m__traceback__)\n",
      "File \u001b[0;32m~/anaconda3/envs/CNN/lib/python3.9/site-packages/keras/engine/training.py:1685\u001b[0m, in \u001b[0;36mModel.fit\u001b[0;34m(self, x, y, batch_size, epochs, verbose, callbacks, validation_split, validation_data, shuffle, class_weight, sample_weight, initial_epoch, steps_per_epoch, validation_steps, validation_batch_size, validation_freq, max_queue_size, workers, use_multiprocessing)\u001b[0m\n\u001b[1;32m   1677\u001b[0m \u001b[38;5;28;01mwith\u001b[39;00m tf\u001b[38;5;241m.\u001b[39mprofiler\u001b[38;5;241m.\u001b[39mexperimental\u001b[38;5;241m.\u001b[39mTrace(\n\u001b[1;32m   1678\u001b[0m     \u001b[38;5;124m\"\u001b[39m\u001b[38;5;124mtrain\u001b[39m\u001b[38;5;124m\"\u001b[39m,\n\u001b[1;32m   1679\u001b[0m     epoch_num\u001b[38;5;241m=\u001b[39mepoch,\n\u001b[0;32m   (...)\u001b[0m\n\u001b[1;32m   1682\u001b[0m     _r\u001b[38;5;241m=\u001b[39m\u001b[38;5;241m1\u001b[39m,\n\u001b[1;32m   1683\u001b[0m ):\n\u001b[1;32m   1684\u001b[0m     callbacks\u001b[38;5;241m.\u001b[39mon_train_batch_begin(step)\n\u001b[0;32m-> 1685\u001b[0m     tmp_logs \u001b[38;5;241m=\u001b[39m \u001b[38;5;28;43mself\u001b[39;49m\u001b[38;5;241;43m.\u001b[39;49m\u001b[43mtrain_function\u001b[49m\u001b[43m(\u001b[49m\u001b[43miterator\u001b[49m\u001b[43m)\u001b[49m\n\u001b[1;32m   1686\u001b[0m     \u001b[38;5;28;01mif\u001b[39;00m data_handler\u001b[38;5;241m.\u001b[39mshould_sync:\n\u001b[1;32m   1687\u001b[0m         context\u001b[38;5;241m.\u001b[39masync_wait()\n",
      "File \u001b[0;32m~/anaconda3/envs/CNN/lib/python3.9/site-packages/tensorflow/python/util/traceback_utils.py:150\u001b[0m, in \u001b[0;36mfilter_traceback.<locals>.error_handler\u001b[0;34m(*args, **kwargs)\u001b[0m\n\u001b[1;32m    148\u001b[0m filtered_tb \u001b[38;5;241m=\u001b[39m \u001b[38;5;28;01mNone\u001b[39;00m\n\u001b[1;32m    149\u001b[0m \u001b[38;5;28;01mtry\u001b[39;00m:\n\u001b[0;32m--> 150\u001b[0m   \u001b[38;5;28;01mreturn\u001b[39;00m \u001b[43mfn\u001b[49m\u001b[43m(\u001b[49m\u001b[38;5;241;43m*\u001b[39;49m\u001b[43margs\u001b[49m\u001b[43m,\u001b[49m\u001b[43m \u001b[49m\u001b[38;5;241;43m*\u001b[39;49m\u001b[38;5;241;43m*\u001b[39;49m\u001b[43mkwargs\u001b[49m\u001b[43m)\u001b[49m\n\u001b[1;32m    151\u001b[0m \u001b[38;5;28;01mexcept\u001b[39;00m \u001b[38;5;167;01mException\u001b[39;00m \u001b[38;5;28;01mas\u001b[39;00m e:\n\u001b[1;32m    152\u001b[0m   filtered_tb \u001b[38;5;241m=\u001b[39m _process_traceback_frames(e\u001b[38;5;241m.\u001b[39m__traceback__)\n",
      "File \u001b[0;32m~/anaconda3/envs/CNN/lib/python3.9/site-packages/tensorflow/python/eager/polymorphic_function/polymorphic_function.py:894\u001b[0m, in \u001b[0;36mFunction.__call__\u001b[0;34m(self, *args, **kwds)\u001b[0m\n\u001b[1;32m    891\u001b[0m compiler \u001b[38;5;241m=\u001b[39m \u001b[38;5;124m\"\u001b[39m\u001b[38;5;124mxla\u001b[39m\u001b[38;5;124m\"\u001b[39m \u001b[38;5;28;01mif\u001b[39;00m \u001b[38;5;28mself\u001b[39m\u001b[38;5;241m.\u001b[39m_jit_compile \u001b[38;5;28;01melse\u001b[39;00m \u001b[38;5;124m\"\u001b[39m\u001b[38;5;124mnonXla\u001b[39m\u001b[38;5;124m\"\u001b[39m\n\u001b[1;32m    893\u001b[0m \u001b[38;5;28;01mwith\u001b[39;00m OptionalXlaContext(\u001b[38;5;28mself\u001b[39m\u001b[38;5;241m.\u001b[39m_jit_compile):\n\u001b[0;32m--> 894\u001b[0m   result \u001b[38;5;241m=\u001b[39m \u001b[38;5;28;43mself\u001b[39;49m\u001b[38;5;241;43m.\u001b[39;49m\u001b[43m_call\u001b[49m\u001b[43m(\u001b[49m\u001b[38;5;241;43m*\u001b[39;49m\u001b[43margs\u001b[49m\u001b[43m,\u001b[49m\u001b[43m \u001b[49m\u001b[38;5;241;43m*\u001b[39;49m\u001b[38;5;241;43m*\u001b[39;49m\u001b[43mkwds\u001b[49m\u001b[43m)\u001b[49m\n\u001b[1;32m    896\u001b[0m new_tracing_count \u001b[38;5;241m=\u001b[39m \u001b[38;5;28mself\u001b[39m\u001b[38;5;241m.\u001b[39mexperimental_get_tracing_count()\n\u001b[1;32m    897\u001b[0m without_tracing \u001b[38;5;241m=\u001b[39m (tracing_count \u001b[38;5;241m==\u001b[39m new_tracing_count)\n",
      "File \u001b[0;32m~/anaconda3/envs/CNN/lib/python3.9/site-packages/tensorflow/python/eager/polymorphic_function/polymorphic_function.py:926\u001b[0m, in \u001b[0;36mFunction._call\u001b[0;34m(self, *args, **kwds)\u001b[0m\n\u001b[1;32m    923\u001b[0m   \u001b[38;5;28mself\u001b[39m\u001b[38;5;241m.\u001b[39m_lock\u001b[38;5;241m.\u001b[39mrelease()\n\u001b[1;32m    924\u001b[0m   \u001b[38;5;66;03m# In this case we have created variables on the first call, so we run the\u001b[39;00m\n\u001b[1;32m    925\u001b[0m   \u001b[38;5;66;03m# defunned version which is guaranteed to never create variables.\u001b[39;00m\n\u001b[0;32m--> 926\u001b[0m   \u001b[38;5;28;01mreturn\u001b[39;00m \u001b[38;5;28;43mself\u001b[39;49m\u001b[38;5;241;43m.\u001b[39;49m\u001b[43m_no_variable_creation_fn\u001b[49m\u001b[43m(\u001b[49m\u001b[38;5;241;43m*\u001b[39;49m\u001b[43margs\u001b[49m\u001b[43m,\u001b[49m\u001b[43m \u001b[49m\u001b[38;5;241;43m*\u001b[39;49m\u001b[38;5;241;43m*\u001b[39;49m\u001b[43mkwds\u001b[49m\u001b[43m)\u001b[49m  \u001b[38;5;66;03m# pylint: disable=not-callable\u001b[39;00m\n\u001b[1;32m    927\u001b[0m \u001b[38;5;28;01melif\u001b[39;00m \u001b[38;5;28mself\u001b[39m\u001b[38;5;241m.\u001b[39m_variable_creation_fn \u001b[38;5;129;01mis\u001b[39;00m \u001b[38;5;129;01mnot\u001b[39;00m \u001b[38;5;28;01mNone\u001b[39;00m:\n\u001b[1;32m    928\u001b[0m   \u001b[38;5;66;03m# Release the lock early so that multiple threads can perform the call\u001b[39;00m\n\u001b[1;32m    929\u001b[0m   \u001b[38;5;66;03m# in parallel.\u001b[39;00m\n\u001b[1;32m    930\u001b[0m   \u001b[38;5;28mself\u001b[39m\u001b[38;5;241m.\u001b[39m_lock\u001b[38;5;241m.\u001b[39mrelease()\n",
      "File \u001b[0;32m~/anaconda3/envs/CNN/lib/python3.9/site-packages/tensorflow/python/eager/polymorphic_function/tracing_compiler.py:143\u001b[0m, in \u001b[0;36mTracingCompiler.__call__\u001b[0;34m(self, *args, **kwargs)\u001b[0m\n\u001b[1;32m    140\u001b[0m \u001b[38;5;28;01mwith\u001b[39;00m \u001b[38;5;28mself\u001b[39m\u001b[38;5;241m.\u001b[39m_lock:\n\u001b[1;32m    141\u001b[0m   (concrete_function,\n\u001b[1;32m    142\u001b[0m    filtered_flat_args) \u001b[38;5;241m=\u001b[39m \u001b[38;5;28mself\u001b[39m\u001b[38;5;241m.\u001b[39m_maybe_define_function(args, kwargs)\n\u001b[0;32m--> 143\u001b[0m \u001b[38;5;28;01mreturn\u001b[39;00m \u001b[43mconcrete_function\u001b[49m\u001b[38;5;241;43m.\u001b[39;49m\u001b[43m_call_flat\u001b[49m\u001b[43m(\u001b[49m\n\u001b[1;32m    144\u001b[0m \u001b[43m    \u001b[49m\u001b[43mfiltered_flat_args\u001b[49m\u001b[43m,\u001b[49m\u001b[43m \u001b[49m\u001b[43mcaptured_inputs\u001b[49m\u001b[38;5;241;43m=\u001b[39;49m\u001b[43mconcrete_function\u001b[49m\u001b[38;5;241;43m.\u001b[39;49m\u001b[43mcaptured_inputs\u001b[49m\u001b[43m)\u001b[49m\n",
      "File \u001b[0;32m~/anaconda3/envs/CNN/lib/python3.9/site-packages/tensorflow/python/eager/polymorphic_function/monomorphic_function.py:1757\u001b[0m, in \u001b[0;36mConcreteFunction._call_flat\u001b[0;34m(self, args, captured_inputs, cancellation_manager)\u001b[0m\n\u001b[1;32m   1753\u001b[0m possible_gradient_type \u001b[38;5;241m=\u001b[39m gradients_util\u001b[38;5;241m.\u001b[39mPossibleTapeGradientTypes(args)\n\u001b[1;32m   1754\u001b[0m \u001b[38;5;28;01mif\u001b[39;00m (possible_gradient_type \u001b[38;5;241m==\u001b[39m gradients_util\u001b[38;5;241m.\u001b[39mPOSSIBLE_GRADIENT_TYPES_NONE\n\u001b[1;32m   1755\u001b[0m     \u001b[38;5;129;01mand\u001b[39;00m executing_eagerly):\n\u001b[1;32m   1756\u001b[0m   \u001b[38;5;66;03m# No tape is watching; skip to running the function.\u001b[39;00m\n\u001b[0;32m-> 1757\u001b[0m   \u001b[38;5;28;01mreturn\u001b[39;00m \u001b[38;5;28mself\u001b[39m\u001b[38;5;241m.\u001b[39m_build_call_outputs(\u001b[38;5;28;43mself\u001b[39;49m\u001b[38;5;241;43m.\u001b[39;49m\u001b[43m_inference_function\u001b[49m\u001b[38;5;241;43m.\u001b[39;49m\u001b[43mcall\u001b[49m\u001b[43m(\u001b[49m\n\u001b[1;32m   1758\u001b[0m \u001b[43m      \u001b[49m\u001b[43mctx\u001b[49m\u001b[43m,\u001b[49m\u001b[43m \u001b[49m\u001b[43margs\u001b[49m\u001b[43m,\u001b[49m\u001b[43m \u001b[49m\u001b[43mcancellation_manager\u001b[49m\u001b[38;5;241;43m=\u001b[39;49m\u001b[43mcancellation_manager\u001b[49m\u001b[43m)\u001b[49m)\n\u001b[1;32m   1759\u001b[0m forward_backward \u001b[38;5;241m=\u001b[39m \u001b[38;5;28mself\u001b[39m\u001b[38;5;241m.\u001b[39m_select_forward_and_backward_functions(\n\u001b[1;32m   1760\u001b[0m     args,\n\u001b[1;32m   1761\u001b[0m     possible_gradient_type,\n\u001b[1;32m   1762\u001b[0m     executing_eagerly)\n\u001b[1;32m   1763\u001b[0m forward_function, args_with_tangents \u001b[38;5;241m=\u001b[39m forward_backward\u001b[38;5;241m.\u001b[39mforward()\n",
      "File \u001b[0;32m~/anaconda3/envs/CNN/lib/python3.9/site-packages/tensorflow/python/eager/polymorphic_function/monomorphic_function.py:381\u001b[0m, in \u001b[0;36m_EagerDefinedFunction.call\u001b[0;34m(self, ctx, args, cancellation_manager)\u001b[0m\n\u001b[1;32m    379\u001b[0m \u001b[38;5;28;01mwith\u001b[39;00m _InterpolateFunctionError(\u001b[38;5;28mself\u001b[39m):\n\u001b[1;32m    380\u001b[0m   \u001b[38;5;28;01mif\u001b[39;00m cancellation_manager \u001b[38;5;129;01mis\u001b[39;00m \u001b[38;5;28;01mNone\u001b[39;00m:\n\u001b[0;32m--> 381\u001b[0m     outputs \u001b[38;5;241m=\u001b[39m \u001b[43mexecute\u001b[49m\u001b[38;5;241;43m.\u001b[39;49m\u001b[43mexecute\u001b[49m\u001b[43m(\u001b[49m\n\u001b[1;32m    382\u001b[0m \u001b[43m        \u001b[49m\u001b[38;5;28;43mstr\u001b[39;49m\u001b[43m(\u001b[49m\u001b[38;5;28;43mself\u001b[39;49m\u001b[38;5;241;43m.\u001b[39;49m\u001b[43msignature\u001b[49m\u001b[38;5;241;43m.\u001b[39;49m\u001b[43mname\u001b[49m\u001b[43m)\u001b[49m\u001b[43m,\u001b[49m\n\u001b[1;32m    383\u001b[0m \u001b[43m        \u001b[49m\u001b[43mnum_outputs\u001b[49m\u001b[38;5;241;43m=\u001b[39;49m\u001b[38;5;28;43mself\u001b[39;49m\u001b[38;5;241;43m.\u001b[39;49m\u001b[43m_num_outputs\u001b[49m\u001b[43m,\u001b[49m\n\u001b[1;32m    384\u001b[0m \u001b[43m        \u001b[49m\u001b[43minputs\u001b[49m\u001b[38;5;241;43m=\u001b[39;49m\u001b[43margs\u001b[49m\u001b[43m,\u001b[49m\n\u001b[1;32m    385\u001b[0m \u001b[43m        \u001b[49m\u001b[43mattrs\u001b[49m\u001b[38;5;241;43m=\u001b[39;49m\u001b[43mattrs\u001b[49m\u001b[43m,\u001b[49m\n\u001b[1;32m    386\u001b[0m \u001b[43m        \u001b[49m\u001b[43mctx\u001b[49m\u001b[38;5;241;43m=\u001b[39;49m\u001b[43mctx\u001b[49m\u001b[43m)\u001b[49m\n\u001b[1;32m    387\u001b[0m   \u001b[38;5;28;01melse\u001b[39;00m:\n\u001b[1;32m    388\u001b[0m     outputs \u001b[38;5;241m=\u001b[39m execute\u001b[38;5;241m.\u001b[39mexecute_with_cancellation(\n\u001b[1;32m    389\u001b[0m         \u001b[38;5;28mstr\u001b[39m(\u001b[38;5;28mself\u001b[39m\u001b[38;5;241m.\u001b[39msignature\u001b[38;5;241m.\u001b[39mname),\n\u001b[1;32m    390\u001b[0m         num_outputs\u001b[38;5;241m=\u001b[39m\u001b[38;5;28mself\u001b[39m\u001b[38;5;241m.\u001b[39m_num_outputs,\n\u001b[0;32m   (...)\u001b[0m\n\u001b[1;32m    393\u001b[0m         ctx\u001b[38;5;241m=\u001b[39mctx,\n\u001b[1;32m    394\u001b[0m         cancellation_manager\u001b[38;5;241m=\u001b[39mcancellation_manager)\n",
      "File \u001b[0;32m~/anaconda3/envs/CNN/lib/python3.9/site-packages/tensorflow/python/eager/execute.py:52\u001b[0m, in \u001b[0;36mquick_execute\u001b[0;34m(op_name, num_outputs, inputs, attrs, ctx, name)\u001b[0m\n\u001b[1;32m     50\u001b[0m \u001b[38;5;28;01mtry\u001b[39;00m:\n\u001b[1;32m     51\u001b[0m   ctx\u001b[38;5;241m.\u001b[39mensure_initialized()\n\u001b[0;32m---> 52\u001b[0m   tensors \u001b[38;5;241m=\u001b[39m \u001b[43mpywrap_tfe\u001b[49m\u001b[38;5;241;43m.\u001b[39;49m\u001b[43mTFE_Py_Execute\u001b[49m\u001b[43m(\u001b[49m\u001b[43mctx\u001b[49m\u001b[38;5;241;43m.\u001b[39;49m\u001b[43m_handle\u001b[49m\u001b[43m,\u001b[49m\u001b[43m \u001b[49m\u001b[43mdevice_name\u001b[49m\u001b[43m,\u001b[49m\u001b[43m \u001b[49m\u001b[43mop_name\u001b[49m\u001b[43m,\u001b[49m\n\u001b[1;32m     53\u001b[0m \u001b[43m                                      \u001b[49m\u001b[43minputs\u001b[49m\u001b[43m,\u001b[49m\u001b[43m \u001b[49m\u001b[43mattrs\u001b[49m\u001b[43m,\u001b[49m\u001b[43m \u001b[49m\u001b[43mnum_outputs\u001b[49m\u001b[43m)\u001b[49m\n\u001b[1;32m     54\u001b[0m \u001b[38;5;28;01mexcept\u001b[39;00m core\u001b[38;5;241m.\u001b[39m_NotOkStatusException \u001b[38;5;28;01mas\u001b[39;00m e:\n\u001b[1;32m     55\u001b[0m   \u001b[38;5;28;01mif\u001b[39;00m name \u001b[38;5;129;01mis\u001b[39;00m \u001b[38;5;129;01mnot\u001b[39;00m \u001b[38;5;28;01mNone\u001b[39;00m:\n",
      "\u001b[0;31mKeyboardInterrupt\u001b[0m: "
     ]
    }
   ],
   "source": [
    "history = model.fit(\n",
    "    x=train_data,\n",
    "    y=None,\n",
    "    validation_data= val_data,\n",
    "    epochs=epochs,\n",
    "    verbose=\"auto\",\n",
    "    callbacks=callbacks,\n",
    "    validation_split=0.0,\n",
    "    shuffle=True,\n",
    "    validation_freq=10,\n",
    "    )"
   ]
  },
  {
   "cell_type": "code",
   "execution_count": 46,
   "metadata": {
    "id": "C-NnKToZAf0M"
   },
   "outputs": [
    {
     "name": "stderr",
     "output_type": "stream",
     "text": [
      "2023-08-31 18:31:25.501599: I tensorflow/core/common_runtime/executor.cc:1197] [/device:CPU:0] (DEBUG INFO) Executor start aborting (this does not indicate an error and you can ignore this message): INVALID_ARGUMENT: You must feed a value for placeholder tensor 'Placeholder/_0' with dtype int32\n",
      "\t [[{{node Placeholder/_0}}]]\n"
     ]
    },
    {
     "ename": "KeyboardInterrupt",
     "evalue": "",
     "output_type": "error",
     "traceback": [
      "\u001b[0;31m---------------------------------------------------------------------------\u001b[0m",
      "\u001b[0;31mKeyboardInterrupt\u001b[0m                         Traceback (most recent call last)",
      "Cell \u001b[0;32mIn[46], line 1\u001b[0m\n\u001b[0;32m----> 1\u001b[0m scores \u001b[38;5;241m=\u001b[39m \u001b[43mmodel\u001b[49m\u001b[38;5;241;43m.\u001b[39;49m\u001b[43mevaluate\u001b[49m\u001b[43m(\u001b[49m\u001b[43mx\u001b[49m\u001b[38;5;241;43m=\u001b[39;49m\u001b[43mval_generator\u001b[49m\u001b[43m,\u001b[49m\u001b[43m \u001b[49m\u001b[43my\u001b[49m\u001b[38;5;241;43m=\u001b[39;49m\u001b[38;5;28;43;01mNone\u001b[39;49;00m\u001b[43m,\u001b[49m\u001b[43m \u001b[49m\u001b[43mverbose\u001b[49m\u001b[38;5;241;43m=\u001b[39;49m\u001b[38;5;241;43m0\u001b[39;49m\u001b[43m)\u001b[49m\n\u001b[1;32m      2\u001b[0m \u001b[38;5;28mprint\u001b[39m(\u001b[38;5;124m\"\u001b[39m\u001b[38;5;132;01m%s\u001b[39;00m\u001b[38;5;124m: \u001b[39m\u001b[38;5;132;01m%.2f\u001b[39;00m\u001b[38;5;132;01m%%\u001b[39;00m\u001b[38;5;124m\"\u001b[39m \u001b[38;5;241m%\u001b[39m (model\u001b[38;5;241m.\u001b[39mmetrics_names[\u001b[38;5;241m1\u001b[39m], scores[\u001b[38;5;241m1\u001b[39m]\u001b[38;5;241m*\u001b[39m\u001b[38;5;241m100\u001b[39m))\n",
      "File \u001b[0;32m~/anaconda3/envs/CNN/lib/python3.9/site-packages/keras/utils/traceback_utils.py:65\u001b[0m, in \u001b[0;36mfilter_traceback.<locals>.error_handler\u001b[0;34m(*args, **kwargs)\u001b[0m\n\u001b[1;32m     63\u001b[0m filtered_tb \u001b[38;5;241m=\u001b[39m \u001b[38;5;28;01mNone\u001b[39;00m\n\u001b[1;32m     64\u001b[0m \u001b[38;5;28;01mtry\u001b[39;00m:\n\u001b[0;32m---> 65\u001b[0m     \u001b[38;5;28;01mreturn\u001b[39;00m \u001b[43mfn\u001b[49m\u001b[43m(\u001b[49m\u001b[38;5;241;43m*\u001b[39;49m\u001b[43margs\u001b[49m\u001b[43m,\u001b[49m\u001b[43m \u001b[49m\u001b[38;5;241;43m*\u001b[39;49m\u001b[38;5;241;43m*\u001b[39;49m\u001b[43mkwargs\u001b[49m\u001b[43m)\u001b[49m\n\u001b[1;32m     66\u001b[0m \u001b[38;5;28;01mexcept\u001b[39;00m \u001b[38;5;167;01mException\u001b[39;00m \u001b[38;5;28;01mas\u001b[39;00m e:\n\u001b[1;32m     67\u001b[0m     filtered_tb \u001b[38;5;241m=\u001b[39m _process_traceback_frames(e\u001b[38;5;241m.\u001b[39m__traceback__)\n",
      "File \u001b[0;32m~/anaconda3/envs/CNN/lib/python3.9/site-packages/keras/engine/training.py:2072\u001b[0m, in \u001b[0;36mModel.evaluate\u001b[0;34m(self, x, y, batch_size, verbose, sample_weight, steps, callbacks, max_queue_size, workers, use_multiprocessing, return_dict, **kwargs)\u001b[0m\n\u001b[1;32m   2068\u001b[0m \u001b[38;5;28;01mwith\u001b[39;00m tf\u001b[38;5;241m.\u001b[39mprofiler\u001b[38;5;241m.\u001b[39mexperimental\u001b[38;5;241m.\u001b[39mTrace(\n\u001b[1;32m   2069\u001b[0m     \u001b[38;5;124m\"\u001b[39m\u001b[38;5;124mtest\u001b[39m\u001b[38;5;124m\"\u001b[39m, step_num\u001b[38;5;241m=\u001b[39mstep, _r\u001b[38;5;241m=\u001b[39m\u001b[38;5;241m1\u001b[39m\n\u001b[1;32m   2070\u001b[0m ):\n\u001b[1;32m   2071\u001b[0m     callbacks\u001b[38;5;241m.\u001b[39mon_test_batch_begin(step)\n\u001b[0;32m-> 2072\u001b[0m     tmp_logs \u001b[38;5;241m=\u001b[39m \u001b[38;5;28;43mself\u001b[39;49m\u001b[38;5;241;43m.\u001b[39;49m\u001b[43mtest_function\u001b[49m\u001b[43m(\u001b[49m\u001b[43miterator\u001b[49m\u001b[43m)\u001b[49m\n\u001b[1;32m   2073\u001b[0m     \u001b[38;5;28;01mif\u001b[39;00m data_handler\u001b[38;5;241m.\u001b[39mshould_sync:\n\u001b[1;32m   2074\u001b[0m         context\u001b[38;5;241m.\u001b[39masync_wait()\n",
      "File \u001b[0;32m~/anaconda3/envs/CNN/lib/python3.9/site-packages/tensorflow/python/util/traceback_utils.py:150\u001b[0m, in \u001b[0;36mfilter_traceback.<locals>.error_handler\u001b[0;34m(*args, **kwargs)\u001b[0m\n\u001b[1;32m    148\u001b[0m filtered_tb \u001b[38;5;241m=\u001b[39m \u001b[38;5;28;01mNone\u001b[39;00m\n\u001b[1;32m    149\u001b[0m \u001b[38;5;28;01mtry\u001b[39;00m:\n\u001b[0;32m--> 150\u001b[0m   \u001b[38;5;28;01mreturn\u001b[39;00m \u001b[43mfn\u001b[49m\u001b[43m(\u001b[49m\u001b[38;5;241;43m*\u001b[39;49m\u001b[43margs\u001b[49m\u001b[43m,\u001b[49m\u001b[43m \u001b[49m\u001b[38;5;241;43m*\u001b[39;49m\u001b[38;5;241;43m*\u001b[39;49m\u001b[43mkwargs\u001b[49m\u001b[43m)\u001b[49m\n\u001b[1;32m    151\u001b[0m \u001b[38;5;28;01mexcept\u001b[39;00m \u001b[38;5;167;01mException\u001b[39;00m \u001b[38;5;28;01mas\u001b[39;00m e:\n\u001b[1;32m    152\u001b[0m   filtered_tb \u001b[38;5;241m=\u001b[39m _process_traceback_frames(e\u001b[38;5;241m.\u001b[39m__traceback__)\n",
      "File \u001b[0;32m~/anaconda3/envs/CNN/lib/python3.9/site-packages/tensorflow/python/eager/polymorphic_function/polymorphic_function.py:894\u001b[0m, in \u001b[0;36mFunction.__call__\u001b[0;34m(self, *args, **kwds)\u001b[0m\n\u001b[1;32m    891\u001b[0m compiler \u001b[38;5;241m=\u001b[39m \u001b[38;5;124m\"\u001b[39m\u001b[38;5;124mxla\u001b[39m\u001b[38;5;124m\"\u001b[39m \u001b[38;5;28;01mif\u001b[39;00m \u001b[38;5;28mself\u001b[39m\u001b[38;5;241m.\u001b[39m_jit_compile \u001b[38;5;28;01melse\u001b[39;00m \u001b[38;5;124m\"\u001b[39m\u001b[38;5;124mnonXla\u001b[39m\u001b[38;5;124m\"\u001b[39m\n\u001b[1;32m    893\u001b[0m \u001b[38;5;28;01mwith\u001b[39;00m OptionalXlaContext(\u001b[38;5;28mself\u001b[39m\u001b[38;5;241m.\u001b[39m_jit_compile):\n\u001b[0;32m--> 894\u001b[0m   result \u001b[38;5;241m=\u001b[39m \u001b[38;5;28;43mself\u001b[39;49m\u001b[38;5;241;43m.\u001b[39;49m\u001b[43m_call\u001b[49m\u001b[43m(\u001b[49m\u001b[38;5;241;43m*\u001b[39;49m\u001b[43margs\u001b[49m\u001b[43m,\u001b[49m\u001b[43m \u001b[49m\u001b[38;5;241;43m*\u001b[39;49m\u001b[38;5;241;43m*\u001b[39;49m\u001b[43mkwds\u001b[49m\u001b[43m)\u001b[49m\n\u001b[1;32m    896\u001b[0m new_tracing_count \u001b[38;5;241m=\u001b[39m \u001b[38;5;28mself\u001b[39m\u001b[38;5;241m.\u001b[39mexperimental_get_tracing_count()\n\u001b[1;32m    897\u001b[0m without_tracing \u001b[38;5;241m=\u001b[39m (tracing_count \u001b[38;5;241m==\u001b[39m new_tracing_count)\n",
      "File \u001b[0;32m~/anaconda3/envs/CNN/lib/python3.9/site-packages/tensorflow/python/eager/polymorphic_function/polymorphic_function.py:933\u001b[0m, in \u001b[0;36mFunction._call\u001b[0;34m(self, *args, **kwds)\u001b[0m\n\u001b[1;32m    930\u001b[0m \u001b[38;5;28mself\u001b[39m\u001b[38;5;241m.\u001b[39m_lock\u001b[38;5;241m.\u001b[39mrelease()\n\u001b[1;32m    931\u001b[0m \u001b[38;5;66;03m# In this case we have not created variables on the first call. So we can\u001b[39;00m\n\u001b[1;32m    932\u001b[0m \u001b[38;5;66;03m# run the first trace but we should fail if variables are created.\u001b[39;00m\n\u001b[0;32m--> 933\u001b[0m results \u001b[38;5;241m=\u001b[39m \u001b[38;5;28;43mself\u001b[39;49m\u001b[38;5;241;43m.\u001b[39;49m\u001b[43m_variable_creation_fn\u001b[49m\u001b[43m(\u001b[49m\u001b[38;5;241;43m*\u001b[39;49m\u001b[43margs\u001b[49m\u001b[43m,\u001b[49m\u001b[43m \u001b[49m\u001b[38;5;241;43m*\u001b[39;49m\u001b[38;5;241;43m*\u001b[39;49m\u001b[43mkwds\u001b[49m\u001b[43m)\u001b[49m\n\u001b[1;32m    934\u001b[0m \u001b[38;5;28;01mif\u001b[39;00m \u001b[38;5;28mself\u001b[39m\u001b[38;5;241m.\u001b[39m_created_variables \u001b[38;5;129;01mand\u001b[39;00m \u001b[38;5;129;01mnot\u001b[39;00m ALLOW_DYNAMIC_VARIABLE_CREATION:\n\u001b[1;32m    935\u001b[0m   \u001b[38;5;28;01mraise\u001b[39;00m \u001b[38;5;167;01mValueError\u001b[39;00m(\u001b[38;5;124m\"\u001b[39m\u001b[38;5;124mCreating variables on a non-first call to a function\u001b[39m\u001b[38;5;124m\"\u001b[39m\n\u001b[1;32m    936\u001b[0m                    \u001b[38;5;124m\"\u001b[39m\u001b[38;5;124m decorated with tf.function.\u001b[39m\u001b[38;5;124m\"\u001b[39m)\n",
      "File \u001b[0;32m~/anaconda3/envs/CNN/lib/python3.9/site-packages/tensorflow/python/eager/polymorphic_function/tracing_compiler.py:143\u001b[0m, in \u001b[0;36mTracingCompiler.__call__\u001b[0;34m(self, *args, **kwargs)\u001b[0m\n\u001b[1;32m    140\u001b[0m \u001b[38;5;28;01mwith\u001b[39;00m \u001b[38;5;28mself\u001b[39m\u001b[38;5;241m.\u001b[39m_lock:\n\u001b[1;32m    141\u001b[0m   (concrete_function,\n\u001b[1;32m    142\u001b[0m    filtered_flat_args) \u001b[38;5;241m=\u001b[39m \u001b[38;5;28mself\u001b[39m\u001b[38;5;241m.\u001b[39m_maybe_define_function(args, kwargs)\n\u001b[0;32m--> 143\u001b[0m \u001b[38;5;28;01mreturn\u001b[39;00m \u001b[43mconcrete_function\u001b[49m\u001b[38;5;241;43m.\u001b[39;49m\u001b[43m_call_flat\u001b[49m\u001b[43m(\u001b[49m\n\u001b[1;32m    144\u001b[0m \u001b[43m    \u001b[49m\u001b[43mfiltered_flat_args\u001b[49m\u001b[43m,\u001b[49m\u001b[43m \u001b[49m\u001b[43mcaptured_inputs\u001b[49m\u001b[38;5;241;43m=\u001b[39;49m\u001b[43mconcrete_function\u001b[49m\u001b[38;5;241;43m.\u001b[39;49m\u001b[43mcaptured_inputs\u001b[49m\u001b[43m)\u001b[49m\n",
      "File \u001b[0;32m~/anaconda3/envs/CNN/lib/python3.9/site-packages/tensorflow/python/eager/polymorphic_function/monomorphic_function.py:1757\u001b[0m, in \u001b[0;36mConcreteFunction._call_flat\u001b[0;34m(self, args, captured_inputs, cancellation_manager)\u001b[0m\n\u001b[1;32m   1753\u001b[0m possible_gradient_type \u001b[38;5;241m=\u001b[39m gradients_util\u001b[38;5;241m.\u001b[39mPossibleTapeGradientTypes(args)\n\u001b[1;32m   1754\u001b[0m \u001b[38;5;28;01mif\u001b[39;00m (possible_gradient_type \u001b[38;5;241m==\u001b[39m gradients_util\u001b[38;5;241m.\u001b[39mPOSSIBLE_GRADIENT_TYPES_NONE\n\u001b[1;32m   1755\u001b[0m     \u001b[38;5;129;01mand\u001b[39;00m executing_eagerly):\n\u001b[1;32m   1756\u001b[0m   \u001b[38;5;66;03m# No tape is watching; skip to running the function.\u001b[39;00m\n\u001b[0;32m-> 1757\u001b[0m   \u001b[38;5;28;01mreturn\u001b[39;00m \u001b[38;5;28mself\u001b[39m\u001b[38;5;241m.\u001b[39m_build_call_outputs(\u001b[38;5;28;43mself\u001b[39;49m\u001b[38;5;241;43m.\u001b[39;49m\u001b[43m_inference_function\u001b[49m\u001b[38;5;241;43m.\u001b[39;49m\u001b[43mcall\u001b[49m\u001b[43m(\u001b[49m\n\u001b[1;32m   1758\u001b[0m \u001b[43m      \u001b[49m\u001b[43mctx\u001b[49m\u001b[43m,\u001b[49m\u001b[43m \u001b[49m\u001b[43margs\u001b[49m\u001b[43m,\u001b[49m\u001b[43m \u001b[49m\u001b[43mcancellation_manager\u001b[49m\u001b[38;5;241;43m=\u001b[39;49m\u001b[43mcancellation_manager\u001b[49m\u001b[43m)\u001b[49m)\n\u001b[1;32m   1759\u001b[0m forward_backward \u001b[38;5;241m=\u001b[39m \u001b[38;5;28mself\u001b[39m\u001b[38;5;241m.\u001b[39m_select_forward_and_backward_functions(\n\u001b[1;32m   1760\u001b[0m     args,\n\u001b[1;32m   1761\u001b[0m     possible_gradient_type,\n\u001b[1;32m   1762\u001b[0m     executing_eagerly)\n\u001b[1;32m   1763\u001b[0m forward_function, args_with_tangents \u001b[38;5;241m=\u001b[39m forward_backward\u001b[38;5;241m.\u001b[39mforward()\n",
      "File \u001b[0;32m~/anaconda3/envs/CNN/lib/python3.9/site-packages/tensorflow/python/eager/polymorphic_function/monomorphic_function.py:381\u001b[0m, in \u001b[0;36m_EagerDefinedFunction.call\u001b[0;34m(self, ctx, args, cancellation_manager)\u001b[0m\n\u001b[1;32m    379\u001b[0m \u001b[38;5;28;01mwith\u001b[39;00m _InterpolateFunctionError(\u001b[38;5;28mself\u001b[39m):\n\u001b[1;32m    380\u001b[0m   \u001b[38;5;28;01mif\u001b[39;00m cancellation_manager \u001b[38;5;129;01mis\u001b[39;00m \u001b[38;5;28;01mNone\u001b[39;00m:\n\u001b[0;32m--> 381\u001b[0m     outputs \u001b[38;5;241m=\u001b[39m \u001b[43mexecute\u001b[49m\u001b[38;5;241;43m.\u001b[39;49m\u001b[43mexecute\u001b[49m\u001b[43m(\u001b[49m\n\u001b[1;32m    382\u001b[0m \u001b[43m        \u001b[49m\u001b[38;5;28;43mstr\u001b[39;49m\u001b[43m(\u001b[49m\u001b[38;5;28;43mself\u001b[39;49m\u001b[38;5;241;43m.\u001b[39;49m\u001b[43msignature\u001b[49m\u001b[38;5;241;43m.\u001b[39;49m\u001b[43mname\u001b[49m\u001b[43m)\u001b[49m\u001b[43m,\u001b[49m\n\u001b[1;32m    383\u001b[0m \u001b[43m        \u001b[49m\u001b[43mnum_outputs\u001b[49m\u001b[38;5;241;43m=\u001b[39;49m\u001b[38;5;28;43mself\u001b[39;49m\u001b[38;5;241;43m.\u001b[39;49m\u001b[43m_num_outputs\u001b[49m\u001b[43m,\u001b[49m\n\u001b[1;32m    384\u001b[0m \u001b[43m        \u001b[49m\u001b[43minputs\u001b[49m\u001b[38;5;241;43m=\u001b[39;49m\u001b[43margs\u001b[49m\u001b[43m,\u001b[49m\n\u001b[1;32m    385\u001b[0m \u001b[43m        \u001b[49m\u001b[43mattrs\u001b[49m\u001b[38;5;241;43m=\u001b[39;49m\u001b[43mattrs\u001b[49m\u001b[43m,\u001b[49m\n\u001b[1;32m    386\u001b[0m \u001b[43m        \u001b[49m\u001b[43mctx\u001b[49m\u001b[38;5;241;43m=\u001b[39;49m\u001b[43mctx\u001b[49m\u001b[43m)\u001b[49m\n\u001b[1;32m    387\u001b[0m   \u001b[38;5;28;01melse\u001b[39;00m:\n\u001b[1;32m    388\u001b[0m     outputs \u001b[38;5;241m=\u001b[39m execute\u001b[38;5;241m.\u001b[39mexecute_with_cancellation(\n\u001b[1;32m    389\u001b[0m         \u001b[38;5;28mstr\u001b[39m(\u001b[38;5;28mself\u001b[39m\u001b[38;5;241m.\u001b[39msignature\u001b[38;5;241m.\u001b[39mname),\n\u001b[1;32m    390\u001b[0m         num_outputs\u001b[38;5;241m=\u001b[39m\u001b[38;5;28mself\u001b[39m\u001b[38;5;241m.\u001b[39m_num_outputs,\n\u001b[0;32m   (...)\u001b[0m\n\u001b[1;32m    393\u001b[0m         ctx\u001b[38;5;241m=\u001b[39mctx,\n\u001b[1;32m    394\u001b[0m         cancellation_manager\u001b[38;5;241m=\u001b[39mcancellation_manager)\n",
      "File \u001b[0;32m~/anaconda3/envs/CNN/lib/python3.9/site-packages/tensorflow/python/eager/execute.py:52\u001b[0m, in \u001b[0;36mquick_execute\u001b[0;34m(op_name, num_outputs, inputs, attrs, ctx, name)\u001b[0m\n\u001b[1;32m     50\u001b[0m \u001b[38;5;28;01mtry\u001b[39;00m:\n\u001b[1;32m     51\u001b[0m   ctx\u001b[38;5;241m.\u001b[39mensure_initialized()\n\u001b[0;32m---> 52\u001b[0m   tensors \u001b[38;5;241m=\u001b[39m \u001b[43mpywrap_tfe\u001b[49m\u001b[38;5;241;43m.\u001b[39;49m\u001b[43mTFE_Py_Execute\u001b[49m\u001b[43m(\u001b[49m\u001b[43mctx\u001b[49m\u001b[38;5;241;43m.\u001b[39;49m\u001b[43m_handle\u001b[49m\u001b[43m,\u001b[49m\u001b[43m \u001b[49m\u001b[43mdevice_name\u001b[49m\u001b[43m,\u001b[49m\u001b[43m \u001b[49m\u001b[43mop_name\u001b[49m\u001b[43m,\u001b[49m\n\u001b[1;32m     53\u001b[0m \u001b[43m                                      \u001b[49m\u001b[43minputs\u001b[49m\u001b[43m,\u001b[49m\u001b[43m \u001b[49m\u001b[43mattrs\u001b[49m\u001b[43m,\u001b[49m\u001b[43m \u001b[49m\u001b[43mnum_outputs\u001b[49m\u001b[43m)\u001b[49m\n\u001b[1;32m     54\u001b[0m \u001b[38;5;28;01mexcept\u001b[39;00m core\u001b[38;5;241m.\u001b[39m_NotOkStatusException \u001b[38;5;28;01mas\u001b[39;00m e:\n\u001b[1;32m     55\u001b[0m   \u001b[38;5;28;01mif\u001b[39;00m name \u001b[38;5;129;01mis\u001b[39;00m \u001b[38;5;129;01mnot\u001b[39;00m \u001b[38;5;28;01mNone\u001b[39;00m:\n",
      "\u001b[0;31mKeyboardInterrupt\u001b[0m: "
     ]
    }
   ],
   "source": [
    "scores = model.evaluate(x=val_generator, y=None, verbose=0)\n",
    "print(\"%s: %.2f%%\" % (model.metrics_names[1], scores[1]*100))"
   ]
  },
  {
   "cell_type": "code",
   "execution_count": 47,
   "metadata": {
    "id": "O-vbY8oiWn_J"
   },
   "outputs": [],
   "source": [
    "model.save('/Users/butler/Documents/hp/Retrieval_of_Indian_clothing_images/models/model_11.keras')"
   ]
  },
  {
   "cell_type": "code",
   "execution_count": 45,
   "metadata": {
    "id": "g_wAbXvhXA3W"
   },
   "outputs": [
    {
     "name": "stderr",
     "output_type": "stream",
     "text": [
      "2023-08-31 18:31:00.579246: I tensorflow/core/common_runtime/executor.cc:1197] [/device:CPU:0] (DEBUG INFO) Executor start aborting (this does not indicate an error and you can ignore this message): INVALID_ARGUMENT: You must feed a value for placeholder tensor 'inputs' with dtype float and shape [?,32]\n",
      "\t [[{{node inputs}}]]\n",
      "2023-08-31 18:31:00.675646: I tensorflow/core/common_runtime/executor.cc:1197] [/device:CPU:0] (DEBUG INFO) Executor start aborting (this does not indicate an error and you can ignore this message): INVALID_ARGUMENT: You must feed a value for placeholder tensor 'inputs' with dtype float and shape [?,32]\n",
      "\t [[{{node inputs}}]]\n",
      "WARNING:absl:Found untraced functions such as _jit_compiled_convolution_op, _jit_compiled_convolution_op, _jit_compiled_convolution_op, _jit_compiled_convolution_op, _jit_compiled_convolution_op while saving (showing 5 of 5). These functions will not be directly callable after loading.\n"
     ]
    },
    {
     "name": "stdout",
     "output_type": "stream",
     "text": [
      "INFO:tensorflow:Assets written to: /Users/butler/Documents/hp/Retrieval_of_Indian_clothing_images/models/model_11a/assets\n"
     ]
    },
    {
     "name": "stderr",
     "output_type": "stream",
     "text": [
      "INFO:tensorflow:Assets written to: /Users/butler/Documents/hp/Retrieval_of_Indian_clothing_images/models/model_11a/assets\n"
     ]
    }
   ],
   "source": [
    "tf.keras.saving.save_model(\n",
    "    model, '/Users/butler/Documents/hp/Retrieval_of_Indian_clothing_images/models/model_11a', overwrite=True, save_format=None)"
   ]
  },
  {
   "cell_type": "code",
   "execution_count": null,
   "metadata": {
    "id": "EoR27yukwYDB"
   },
   "outputs": [],
   "source": [
    "dataset = tf.data.Dataset.from_tensor_slices()"
   ]
  },
  {
   "cell_type": "code",
   "execution_count": null,
   "metadata": {
    "id": "HAAHC0QiYMOA"
   },
   "outputs": [],
   "source": []
  },
  {
   "cell_type": "code",
   "execution_count": 29,
   "metadata": {
    "id": "Dl1II60Ee3pm"
   },
   "outputs": [],
   "source": [
    "loaded_model = tf.keras.models.load_model('/Users/butler/Documents/hp/Retrieval_of_Indian_clothing_images/models')"
   ]
  },
  {
   "cell_type": "code",
   "execution_count": 30,
   "metadata": {
    "id": "iJBia_M8fDPA"
   },
   "outputs": [
    {
     "name": "stdout",
     "output_type": "stream",
     "text": [
      "Model: \"sequential_2\"\n",
      "_________________________________________________________________\n",
      " Layer (type)                Output Shape              Param #   \n",
      "=================================================================\n",
      " conv2d_5 (Conv2D)           (None, 30, 30, 32)        896       \n",
      "                                                                 \n",
      " conv2d_6 (Conv2D)           (None, 28, 28, 32)        9248      \n",
      "                                                                 \n",
      " max_pooling2d_2 (MaxPooling  (None, 14, 14, 32)       0         \n",
      " 2D)                                                             \n",
      "                                                                 \n",
      " conv2d_7 (Conv2D)           (None, 12, 12, 64)        18496     \n",
      "                                                                 \n",
      " conv2d_8 (Conv2D)           (None, 10, 10, 64)        36928     \n",
      "                                                                 \n",
      " conv2d_9 (Conv2D)           (None, 8, 8, 64)          36928     \n",
      "                                                                 \n",
      " max_pooling2d_3 (MaxPooling  (None, 4, 4, 64)         0         \n",
      " 2D)                                                             \n",
      "                                                                 \n",
      " flatten_1 (Flatten)         (None, 1024)              0         \n",
      "                                                                 \n",
      " dense_2 (Dense)             (None, 32)                32800     \n",
      "                                                                 \n",
      " dropout_1 (Dropout)         (None, 32)                0         \n",
      "                                                                 \n",
      " dense_3 (Dense)             (None, 15)                495       \n",
      "                                                                 \n",
      "=================================================================\n",
      "Total params: 135,791\n",
      "Trainable params: 135,791\n",
      "Non-trainable params: 0\n",
      "_________________________________________________________________\n"
     ]
    }
   ],
   "source": [
    "loaded_model.summary()"
   ]
  },
  {
   "cell_type": "code",
   "execution_count": 50,
   "metadata": {
    "id": "DUtjifZZhJMv"
   },
   "outputs": [
    {
     "name": "stderr",
     "output_type": "stream",
     "text": [
      "2023-08-31 18:37:41.919785: W tensorflow/core/util/tensor_slice_reader.cc:97] Could not open /Users/butler/Documents/hp/Retrieval_of_Indian_clothing_images/models: FAILED_PRECONDITION: /Users/butler/Documents/hp/Retrieval_of_Indian_clothing_images/models; Is a directory: perhaps your file is in a different file format and you need to use a different restore operator?\n"
     ]
    },
    {
     "data": {
      "text/plain": [
       "<tensorflow.python.checkpoint.checkpoint.CheckpointLoadStatus at 0x298b1eeb0>"
      ]
     },
     "execution_count": 50,
     "metadata": {},
     "output_type": "execute_result"
    }
   ],
   "source": [
    "!!loaded_model.load_weights('/Users/butler/Documents/hp/Retrieval_of_Indian_clothing_images/models')"
   ]
  },
  {
   "cell_type": "code",
   "execution_count": null,
   "metadata": {
    "id": "CMai1iUdknmc"
   },
   "outputs": [],
   "source": [
    "loaded_model.compile(loss='categorical_crossentropy', optimizer='adam', metrics=['accuracy'])"
   ]
  },
  {
   "cell_type": "code",
   "execution_count": 36,
   "metadata": {
    "id": "-Wn9l16VkzJQ"
   },
   "outputs": [
    {
     "name": "stdout",
     "output_type": "stream",
     "text": [
      "Epoch 1/500\n"
     ]
    },
    {
     "name": "stderr",
     "output_type": "stream",
     "text": [
      "2023-08-31 18:44:36.166214: I tensorflow/core/common_runtime/executor.cc:1197] [/device:CPU:0] (DEBUG INFO) Executor start aborting (this does not indicate an error and you can ignore this message): INVALID_ARGUMENT: You must feed a value for placeholder tensor 'Placeholder/_0' with dtype int32\n",
      "\t [[{{node Placeholder/_0}}]]\n",
      "2023-08-31 18:44:36.186251: W tensorflow/tsl/platform/profile_utils/cpu_utils.cc:128] Failed to get CPU frequency: 0 Hz\n"
     ]
    },
    {
     "name": "stdout",
     "output_type": "stream",
     "text": [
      "713/713 [==============================] - ETA: 0s - loss: 0.4746 - accuracy: 0.8359WARNING:tensorflow:Can save best model only with val_accuracy available, skipping.\n",
      "713/713 [==============================] - 156s 218ms/step - loss: 0.4746 - accuracy: 0.8359\n",
      "Epoch 2/500\n",
      "713/713 [==============================] - ETA: 0s - loss: 0.4615 - accuracy: 0.8388WARNING:tensorflow:Can save best model only with val_accuracy available, skipping.\n",
      "713/713 [==============================] - 157s 221ms/step - loss: 0.4615 - accuracy: 0.8388\n",
      "Epoch 3/500\n",
      "713/713 [==============================] - ETA: 0s - loss: 0.4554 - accuracy: 0.8406WARNING:tensorflow:Can save best model only with val_accuracy available, skipping.\n",
      "713/713 [==============================] - 145s 204ms/step - loss: 0.4554 - accuracy: 0.8406\n",
      "Epoch 4/500\n",
      "713/713 [==============================] - ETA: 0s - loss: 0.4547 - accuracy: 0.8406WARNING:tensorflow:Can save best model only with val_accuracy available, skipping.\n",
      "713/713 [==============================] - 149s 208ms/step - loss: 0.4547 - accuracy: 0.8406\n",
      "Epoch 5/500\n",
      "713/713 [==============================] - ETA: 0s - loss: 0.4506 - accuracy: 0.8434WARNING:tensorflow:Can save best model only with val_accuracy available, skipping.\n",
      "713/713 [==============================] - 158s 221ms/step - loss: 0.4506 - accuracy: 0.8434\n",
      "Epoch 6/500\n",
      "713/713 [==============================] - ETA: 0s - loss: 0.4430 - accuracy: 0.8432WARNING:tensorflow:Can save best model only with val_accuracy available, skipping.\n",
      "713/713 [==============================] - 150s 210ms/step - loss: 0.4430 - accuracy: 0.8432\n",
      "Epoch 7/500\n",
      "713/713 [==============================] - ETA: 0s - loss: 0.4397 - accuracy: 0.8472WARNING:tensorflow:Can save best model only with val_accuracy available, skipping.\n",
      "713/713 [==============================] - 159s 223ms/step - loss: 0.4397 - accuracy: 0.8472\n",
      "Epoch 8/500\n",
      "713/713 [==============================] - ETA: 0s - loss: 0.4361 - accuracy: 0.8470WARNING:tensorflow:Can save best model only with val_accuracy available, skipping.\n",
      "713/713 [==============================] - 164s 230ms/step - loss: 0.4361 - accuracy: 0.8470\n",
      "Epoch 9/500\n",
      "713/713 [==============================] - ETA: 0s - loss: 0.4379 - accuracy: 0.8466WARNING:tensorflow:Can save best model only with val_accuracy available, skipping.\n",
      "713/713 [==============================] - 173s 241ms/step - loss: 0.4379 - accuracy: 0.8466\n",
      "Epoch 10/500\n",
      "713/713 [==============================] - ETA: 0s - loss: 0.4242 - accuracy: 0.8508"
     ]
    },
    {
     "name": "stderr",
     "output_type": "stream",
     "text": [
      "2023-08-31 19:11:11.187438: I tensorflow/core/common_runtime/executor.cc:1197] [/device:CPU:0] (DEBUG INFO) Executor start aborting (this does not indicate an error and you can ignore this message): INVALID_ARGUMENT: You must feed a value for placeholder tensor 'Placeholder/_0' with dtype int32\n",
      "\t [[{{node Placeholder/_0}}]]\n",
      "2023-08-31 19:11:22.690636: I tensorflow/core/common_runtime/executor.cc:1197] [/device:CPU:0] (DEBUG INFO) Executor start aborting (this does not indicate an error and you can ignore this message): INVALID_ARGUMENT: You must feed a value for placeholder tensor 'inputs' with dtype float and shape [?,32]\n",
      "\t [[{{node inputs}}]]\n",
      "2023-08-31 19:11:22.819782: I tensorflow/core/common_runtime/executor.cc:1197] [/device:CPU:0] (DEBUG INFO) Executor start aborting (this does not indicate an error and you can ignore this message): INVALID_ARGUMENT: You must feed a value for placeholder tensor 'inputs' with dtype float and shape [?,32]\n",
      "\t [[{{node inputs}}]]\n",
      "WARNING:absl:Found untraced functions such as _jit_compiled_convolution_op, _jit_compiled_convolution_op, _jit_compiled_convolution_op, _jit_compiled_convolution_op, _jit_compiled_convolution_op while saving (showing 5 of 5). These functions will not be directly callable after loading.\n"
     ]
    },
    {
     "name": "stdout",
     "output_type": "stream",
     "text": [
      "INFO:tensorflow:Assets written to: /Users/butler/Documents/hp/Retrieval_of_Indian_clothing_images/models/assets\n"
     ]
    },
    {
     "name": "stderr",
     "output_type": "stream",
     "text": [
      "INFO:tensorflow:Assets written to: /Users/butler/Documents/hp/Retrieval_of_Indian_clothing_images/models/assets\n"
     ]
    },
    {
     "name": "stdout",
     "output_type": "stream",
     "text": [
      "713/713 [==============================] - 196s 274ms/step - loss: 0.4242 - accuracy: 0.8508 - val_loss: 0.8859 - val_accuracy: 0.7671\n",
      "Epoch 11/500\n",
      "713/713 [==============================] - ETA: 0s - loss: 0.4213 - accuracy: 0.8510WARNING:tensorflow:Can save best model only with val_accuracy available, skipping.\n"
     ]
    },
    {
     "name": "stderr",
     "output_type": "stream",
     "text": [
      "WARNING:tensorflow:Can save best model only with val_accuracy available, skipping.\n"
     ]
    },
    {
     "name": "stdout",
     "output_type": "stream",
     "text": [
      "713/713 [==============================] - 180s 251ms/step - loss: 0.4213 - accuracy: 0.8510\n",
      "Epoch 12/500\n",
      "713/713 [==============================] - ETA: 0s - loss: 0.4193 - accuracy: 0.8510WARNING:tensorflow:Can save best model only with val_accuracy available, skipping.\n"
     ]
    },
    {
     "name": "stderr",
     "output_type": "stream",
     "text": [
      "WARNING:tensorflow:Can save best model only with val_accuracy available, skipping.\n"
     ]
    },
    {
     "name": "stdout",
     "output_type": "stream",
     "text": [
      "713/713 [==============================] - 180s 253ms/step - loss: 0.4193 - accuracy: 0.8510\n",
      "Epoch 13/500\n",
      "713/713 [==============================] - ETA: 0s - loss: 0.4130 - accuracy: 0.8546WARNING:tensorflow:Can save best model only with val_accuracy available, skipping.\n"
     ]
    },
    {
     "name": "stderr",
     "output_type": "stream",
     "text": [
      "WARNING:tensorflow:Can save best model only with val_accuracy available, skipping.\n"
     ]
    },
    {
     "name": "stdout",
     "output_type": "stream",
     "text": [
      "713/713 [==============================] - 179s 251ms/step - loss: 0.4130 - accuracy: 0.8546\n",
      "Epoch 14/500\n",
      "713/713 [==============================] - ETA: 0s - loss: 0.4107 - accuracy: 0.8541WARNING:tensorflow:Can save best model only with val_accuracy available, skipping.\n"
     ]
    },
    {
     "name": "stderr",
     "output_type": "stream",
     "text": [
      "WARNING:tensorflow:Can save best model only with val_accuracy available, skipping.\n"
     ]
    },
    {
     "name": "stdout",
     "output_type": "stream",
     "text": [
      "713/713 [==============================] - 181s 254ms/step - loss: 0.4107 - accuracy: 0.8541\n",
      "Epoch 15/500\n",
      "713/713 [==============================] - ETA: 0s - loss: 0.4053 - accuracy: 0.8559WARNING:tensorflow:Can save best model only with val_accuracy available, skipping.\n"
     ]
    },
    {
     "name": "stderr",
     "output_type": "stream",
     "text": [
      "WARNING:tensorflow:Can save best model only with val_accuracy available, skipping.\n"
     ]
    },
    {
     "name": "stdout",
     "output_type": "stream",
     "text": [
      "713/713 [==============================] - 177s 247ms/step - loss: 0.4053 - accuracy: 0.8559\n",
      "Epoch 16/500\n",
      "713/713 [==============================] - ETA: 0s - loss: 0.4039 - accuracy: 0.8555WARNING:tensorflow:Can save best model only with val_accuracy available, skipping.\n"
     ]
    },
    {
     "name": "stderr",
     "output_type": "stream",
     "text": [
      "WARNING:tensorflow:Can save best model only with val_accuracy available, skipping.\n"
     ]
    },
    {
     "name": "stdout",
     "output_type": "stream",
     "text": [
      "713/713 [==============================] - 181s 252ms/step - loss: 0.4039 - accuracy: 0.8555\n",
      "Epoch 17/500\n",
      "713/713 [==============================] - ETA: 0s - loss: 0.3964 - accuracy: 0.8587WARNING:tensorflow:Can save best model only with val_accuracy available, skipping.\n"
     ]
    },
    {
     "name": "stderr",
     "output_type": "stream",
     "text": [
      "WARNING:tensorflow:Can save best model only with val_accuracy available, skipping.\n"
     ]
    },
    {
     "name": "stdout",
     "output_type": "stream",
     "text": [
      "713/713 [==============================] - 189s 265ms/step - loss: 0.3964 - accuracy: 0.8587\n",
      "Epoch 18/500\n",
      "713/713 [==============================] - ETA: 0s - loss: 0.3943 - accuracy: 0.8594WARNING:tensorflow:Can save best model only with val_accuracy available, skipping.\n"
     ]
    },
    {
     "name": "stderr",
     "output_type": "stream",
     "text": [
      "WARNING:tensorflow:Can save best model only with val_accuracy available, skipping.\n"
     ]
    },
    {
     "name": "stdout",
     "output_type": "stream",
     "text": [
      "713/713 [==============================] - 185s 258ms/step - loss: 0.3943 - accuracy: 0.8594\n",
      "Epoch 19/500\n",
      "713/713 [==============================] - ETA: 0s - loss: 0.3962 - accuracy: 0.8578WARNING:tensorflow:Can save best model only with val_accuracy available, skipping.\n"
     ]
    },
    {
     "name": "stderr",
     "output_type": "stream",
     "text": [
      "WARNING:tensorflow:Can save best model only with val_accuracy available, skipping.\n"
     ]
    },
    {
     "name": "stdout",
     "output_type": "stream",
     "text": [
      "713/713 [==============================] - 171s 240ms/step - loss: 0.3962 - accuracy: 0.8578\n",
      "Epoch 20/500\n",
      "713/713 [==============================] - ETA: 0s - loss: 0.3845 - accuracy: 0.8614"
     ]
    },
    {
     "name": "stderr",
     "output_type": "stream",
     "text": [
      "2023-08-31 19:41:26.923543: I tensorflow/core/common_runtime/executor.cc:1197] [/device:CPU:0] (DEBUG INFO) Executor start aborting (this does not indicate an error and you can ignore this message): INVALID_ARGUMENT: You must feed a value for placeholder tensor 'inputs' with dtype float and shape [?,32]\n",
      "\t [[{{node inputs}}]]\n",
      "2023-08-31 19:41:27.016226: I tensorflow/core/common_runtime/executor.cc:1197] [/device:CPU:0] (DEBUG INFO) Executor start aborting (this does not indicate an error and you can ignore this message): INVALID_ARGUMENT: You must feed a value for placeholder tensor 'inputs' with dtype float and shape [?,32]\n",
      "\t [[{{node inputs}}]]\n",
      "WARNING:absl:Found untraced functions such as _jit_compiled_convolution_op, _jit_compiled_convolution_op, _jit_compiled_convolution_op, _jit_compiled_convolution_op, _jit_compiled_convolution_op while saving (showing 5 of 5). These functions will not be directly callable after loading.\n"
     ]
    },
    {
     "name": "stdout",
     "output_type": "stream",
     "text": [
      "INFO:tensorflow:Assets written to: /Users/butler/Documents/hp/Retrieval_of_Indian_clothing_images/models/assets\n"
     ]
    },
    {
     "name": "stderr",
     "output_type": "stream",
     "text": [
      "INFO:tensorflow:Assets written to: /Users/butler/Documents/hp/Retrieval_of_Indian_clothing_images/models/assets\n"
     ]
    },
    {
     "name": "stdout",
     "output_type": "stream",
     "text": [
      "713/713 [==============================] - 181s 253ms/step - loss: 0.3845 - accuracy: 0.8614 - val_loss: 0.9261 - val_accuracy: 0.7729\n",
      "Epoch 21/500\n",
      "713/713 [==============================] - ETA: 0s - loss: 0.3785 - accuracy: 0.8645WARNING:tensorflow:Can save best model only with val_accuracy available, skipping.\n"
     ]
    },
    {
     "name": "stderr",
     "output_type": "stream",
     "text": [
      "WARNING:tensorflow:Can save best model only with val_accuracy available, skipping.\n"
     ]
    },
    {
     "name": "stdout",
     "output_type": "stream",
     "text": [
      "713/713 [==============================] - 240s 336ms/step - loss: 0.3785 - accuracy: 0.8645\n",
      "Epoch 22/500\n",
      "713/713 [==============================] - ETA: 0s - loss: 0.3735 - accuracy: 0.8663WARNING:tensorflow:Can save best model only with val_accuracy available, skipping.\n"
     ]
    },
    {
     "name": "stderr",
     "output_type": "stream",
     "text": [
      "WARNING:tensorflow:Can save best model only with val_accuracy available, skipping.\n"
     ]
    },
    {
     "name": "stdout",
     "output_type": "stream",
     "text": [
      "713/713 [==============================] - 168s 235ms/step - loss: 0.3735 - accuracy: 0.8663\n",
      "Epoch 23/500\n",
      "713/713 [==============================] - ETA: 0s - loss: 0.3747 - accuracy: 0.8667WARNING:tensorflow:Can save best model only with val_accuracy available, skipping.\n"
     ]
    },
    {
     "name": "stderr",
     "output_type": "stream",
     "text": [
      "WARNING:tensorflow:Can save best model only with val_accuracy available, skipping.\n"
     ]
    },
    {
     "name": "stdout",
     "output_type": "stream",
     "text": [
      "713/713 [==============================] - 171s 240ms/step - loss: 0.3747 - accuracy: 0.8667\n",
      "Epoch 24/500\n",
      "713/713 [==============================] - ETA: 0s - loss: 0.3709 - accuracy: 0.8660WARNING:tensorflow:Can save best model only with val_accuracy available, skipping.\n"
     ]
    },
    {
     "name": "stderr",
     "output_type": "stream",
     "text": [
      "WARNING:tensorflow:Can save best model only with val_accuracy available, skipping.\n"
     ]
    },
    {
     "name": "stdout",
     "output_type": "stream",
     "text": [
      "713/713 [==============================] - 164s 229ms/step - loss: 0.3709 - accuracy: 0.8660\n",
      "Epoch 25/500\n",
      "713/713 [==============================] - ETA: 0s - loss: 0.3665 - accuracy: 0.8686WARNING:tensorflow:Can save best model only with val_accuracy available, skipping.\n"
     ]
    },
    {
     "name": "stderr",
     "output_type": "stream",
     "text": [
      "WARNING:tensorflow:Can save best model only with val_accuracy available, skipping.\n"
     ]
    },
    {
     "name": "stdout",
     "output_type": "stream",
     "text": [
      "713/713 [==============================] - 164s 229ms/step - loss: 0.3665 - accuracy: 0.8686\n",
      "Epoch 26/500\n",
      "713/713 [==============================] - ETA: 0s - loss: 0.3605 - accuracy: 0.8702WARNING:tensorflow:Can save best model only with val_accuracy available, skipping.\n"
     ]
    },
    {
     "name": "stderr",
     "output_type": "stream",
     "text": [
      "WARNING:tensorflow:Can save best model only with val_accuracy available, skipping.\n"
     ]
    },
    {
     "name": "stdout",
     "output_type": "stream",
     "text": [
      "713/713 [==============================] - 157s 220ms/step - loss: 0.3605 - accuracy: 0.8702\n",
      "Epoch 27/500\n",
      "713/713 [==============================] - ETA: 0s - loss: 0.3707 - accuracy: 0.8669WARNING:tensorflow:Can save best model only with val_accuracy available, skipping.\n"
     ]
    },
    {
     "name": "stderr",
     "output_type": "stream",
     "text": [
      "WARNING:tensorflow:Can save best model only with val_accuracy available, skipping.\n"
     ]
    },
    {
     "name": "stdout",
     "output_type": "stream",
     "text": [
      "713/713 [==============================] - 161s 225ms/step - loss: 0.3707 - accuracy: 0.8669\n",
      "Epoch 28/500\n",
      "713/713 [==============================] - ETA: 0s - loss: 0.3586 - accuracy: 0.8706WARNING:tensorflow:Can save best model only with val_accuracy available, skipping.\n"
     ]
    },
    {
     "name": "stderr",
     "output_type": "stream",
     "text": [
      "WARNING:tensorflow:Can save best model only with val_accuracy available, skipping.\n"
     ]
    },
    {
     "name": "stdout",
     "output_type": "stream",
     "text": [
      "713/713 [==============================] - 171s 239ms/step - loss: 0.3586 - accuracy: 0.8706\n",
      "Epoch 29/500\n",
      "713/713 [==============================] - ETA: 0s - loss: 0.3558 - accuracy: 0.8717WARNING:tensorflow:Can save best model only with val_accuracy available, skipping.\n"
     ]
    },
    {
     "name": "stderr",
     "output_type": "stream",
     "text": [
      "WARNING:tensorflow:Can save best model only with val_accuracy available, skipping.\n"
     ]
    },
    {
     "name": "stdout",
     "output_type": "stream",
     "text": [
      "713/713 [==============================] - 170s 238ms/step - loss: 0.3558 - accuracy: 0.8717\n",
      "Epoch 30/500\n",
      "713/713 [==============================] - ETA: 0s - loss: 0.3556 - accuracy: 0.8714"
     ]
    },
    {
     "name": "stderr",
     "output_type": "stream",
     "text": [
      "2023-08-31 20:10:33.899553: I tensorflow/core/common_runtime/executor.cc:1197] [/device:CPU:0] (DEBUG INFO) Executor start aborting (this does not indicate an error and you can ignore this message): INVALID_ARGUMENT: You must feed a value for placeholder tensor 'inputs' with dtype float and shape [?,32]\n",
      "\t [[{{node inputs}}]]\n",
      "2023-08-31 20:10:33.990209: I tensorflow/core/common_runtime/executor.cc:1197] [/device:CPU:0] (DEBUG INFO) Executor start aborting (this does not indicate an error and you can ignore this message): INVALID_ARGUMENT: You must feed a value for placeholder tensor 'inputs' with dtype float and shape [?,32]\n",
      "\t [[{{node inputs}}]]\n",
      "WARNING:absl:Found untraced functions such as _jit_compiled_convolution_op, _jit_compiled_convolution_op, _jit_compiled_convolution_op, _jit_compiled_convolution_op, _jit_compiled_convolution_op while saving (showing 5 of 5). These functions will not be directly callable after loading.\n"
     ]
    },
    {
     "name": "stdout",
     "output_type": "stream",
     "text": [
      "INFO:tensorflow:Assets written to: /Users/butler/Documents/hp/Retrieval_of_Indian_clothing_images/models/assets\n"
     ]
    },
    {
     "name": "stderr",
     "output_type": "stream",
     "text": [
      "INFO:tensorflow:Assets written to: /Users/butler/Documents/hp/Retrieval_of_Indian_clothing_images/models/assets\n"
     ]
    },
    {
     "name": "stdout",
     "output_type": "stream",
     "text": [
      "713/713 [==============================] - 181s 253ms/step - loss: 0.3556 - accuracy: 0.8714 - val_loss: 1.0275 - val_accuracy: 0.7745\n",
      "Epoch 31/500\n",
      "713/713 [==============================] - ETA: 0s - loss: 0.3566 - accuracy: 0.8708WARNING:tensorflow:Can save best model only with val_accuracy available, skipping.\n"
     ]
    },
    {
     "name": "stderr",
     "output_type": "stream",
     "text": [
      "WARNING:tensorflow:Can save best model only with val_accuracy available, skipping.\n"
     ]
    },
    {
     "name": "stdout",
     "output_type": "stream",
     "text": [
      "713/713 [==============================] - 162s 227ms/step - loss: 0.3566 - accuracy: 0.8708\n",
      "Epoch 32/500\n",
      "713/713 [==============================] - ETA: 0s - loss: 0.3510 - accuracy: 0.8724WARNING:tensorflow:Can save best model only with val_accuracy available, skipping.\n"
     ]
    },
    {
     "name": "stderr",
     "output_type": "stream",
     "text": [
      "WARNING:tensorflow:Can save best model only with val_accuracy available, skipping.\n"
     ]
    },
    {
     "name": "stdout",
     "output_type": "stream",
     "text": [
      "713/713 [==============================] - 167s 233ms/step - loss: 0.3510 - accuracy: 0.8724\n",
      "Epoch 33/500\n",
      "713/713 [==============================] - ETA: 0s - loss: 0.3469 - accuracy: 0.8761WARNING:tensorflow:Can save best model only with val_accuracy available, skipping.\n"
     ]
    },
    {
     "name": "stderr",
     "output_type": "stream",
     "text": [
      "WARNING:tensorflow:Can save best model only with val_accuracy available, skipping.\n"
     ]
    },
    {
     "name": "stdout",
     "output_type": "stream",
     "text": [
      "713/713 [==============================] - 164s 230ms/step - loss: 0.3469 - accuracy: 0.8761\n",
      "Epoch 34/500\n",
      "713/713 [==============================] - ETA: 0s - loss: 0.3439 - accuracy: 0.8761WARNING:tensorflow:Can save best model only with val_accuracy available, skipping.\n"
     ]
    },
    {
     "name": "stderr",
     "output_type": "stream",
     "text": [
      "WARNING:tensorflow:Can save best model only with val_accuracy available, skipping.\n"
     ]
    },
    {
     "name": "stdout",
     "output_type": "stream",
     "text": [
      "713/713 [==============================] - 155s 217ms/step - loss: 0.3439 - accuracy: 0.8761\n",
      "Epoch 35/500\n",
      "713/713 [==============================] - ETA: 0s - loss: 0.3410 - accuracy: 0.8760WARNING:tensorflow:Can save best model only with val_accuracy available, skipping.\n"
     ]
    },
    {
     "name": "stderr",
     "output_type": "stream",
     "text": [
      "WARNING:tensorflow:Can save best model only with val_accuracy available, skipping.\n"
     ]
    },
    {
     "name": "stdout",
     "output_type": "stream",
     "text": [
      "713/713 [==============================] - 162s 226ms/step - loss: 0.3410 - accuracy: 0.8760\n",
      "Epoch 36/500\n",
      "713/713 [==============================] - ETA: 0s - loss: 0.3385 - accuracy: 0.8784WARNING:tensorflow:Can save best model only with val_accuracy available, skipping.\n"
     ]
    },
    {
     "name": "stderr",
     "output_type": "stream",
     "text": [
      "WARNING:tensorflow:Can save best model only with val_accuracy available, skipping.\n"
     ]
    },
    {
     "name": "stdout",
     "output_type": "stream",
     "text": [
      "713/713 [==============================] - 164s 229ms/step - loss: 0.3385 - accuracy: 0.8784\n",
      "Epoch 37/500\n",
      "713/713 [==============================] - ETA: 0s - loss: 0.3337 - accuracy: 0.8790WARNING:tensorflow:Can save best model only with val_accuracy available, skipping.\n"
     ]
    },
    {
     "name": "stderr",
     "output_type": "stream",
     "text": [
      "WARNING:tensorflow:Can save best model only with val_accuracy available, skipping.\n"
     ]
    },
    {
     "name": "stdout",
     "output_type": "stream",
     "text": [
      "713/713 [==============================] - 156s 219ms/step - loss: 0.3337 - accuracy: 0.8790\n",
      "Epoch 38/500\n",
      "713/713 [==============================] - ETA: 0s - loss: 0.3367 - accuracy: 0.8785WARNING:tensorflow:Can save best model only with val_accuracy available, skipping.\n"
     ]
    },
    {
     "name": "stderr",
     "output_type": "stream",
     "text": [
      "WARNING:tensorflow:Can save best model only with val_accuracy available, skipping.\n"
     ]
    },
    {
     "name": "stdout",
     "output_type": "stream",
     "text": [
      "713/713 [==============================] - 162s 226ms/step - loss: 0.3367 - accuracy: 0.8785\n",
      "Epoch 39/500\n",
      "713/713 [==============================] - ETA: 0s - loss: 0.3356 - accuracy: 0.8778WARNING:tensorflow:Can save best model only with val_accuracy available, skipping.\n"
     ]
    },
    {
     "name": "stderr",
     "output_type": "stream",
     "text": [
      "WARNING:tensorflow:Can save best model only with val_accuracy available, skipping.\n"
     ]
    },
    {
     "name": "stdout",
     "output_type": "stream",
     "text": [
      "713/713 [==============================] - 161s 225ms/step - loss: 0.3356 - accuracy: 0.8778\n",
      "Epoch 40/500\n",
      "713/713 [==============================] - 171s 240ms/step - loss: 0.3324 - accuracy: 0.8787 - val_loss: 1.0779 - val_accuracy: 0.7691\n",
      "Epoch 41/500\n",
      "713/713 [==============================] - ETA: 0s - loss: 0.3280 - accuracy: 0.8800WARNING:tensorflow:Can save best model only with val_accuracy available, skipping.\n"
     ]
    },
    {
     "name": "stderr",
     "output_type": "stream",
     "text": [
      "WARNING:tensorflow:Can save best model only with val_accuracy available, skipping.\n"
     ]
    },
    {
     "name": "stdout",
     "output_type": "stream",
     "text": [
      "713/713 [==============================] - 168s 236ms/step - loss: 0.3280 - accuracy: 0.8800\n",
      "Epoch 42/500\n",
      "713/713 [==============================] - ETA: 0s - loss: 0.3304 - accuracy: 0.8790WARNING:tensorflow:Can save best model only with val_accuracy available, skipping.\n"
     ]
    },
    {
     "name": "stderr",
     "output_type": "stream",
     "text": [
      "WARNING:tensorflow:Can save best model only with val_accuracy available, skipping.\n"
     ]
    },
    {
     "name": "stdout",
     "output_type": "stream",
     "text": [
      "713/713 [==============================] - 169s 237ms/step - loss: 0.3304 - accuracy: 0.8790\n",
      "Epoch 43/500\n",
      "713/713 [==============================] - ETA: 0s - loss: 0.3258 - accuracy: 0.8801WARNING:tensorflow:Can save best model only with val_accuracy available, skipping.\n"
     ]
    },
    {
     "name": "stderr",
     "output_type": "stream",
     "text": [
      "WARNING:tensorflow:Can save best model only with val_accuracy available, skipping.\n"
     ]
    },
    {
     "name": "stdout",
     "output_type": "stream",
     "text": [
      "713/713 [==============================] - 186s 261ms/step - loss: 0.3258 - accuracy: 0.8801\n",
      "Epoch 44/500\n",
      "713/713 [==============================] - ETA: 0s - loss: 0.3287 - accuracy: 0.8797WARNING:tensorflow:Can save best model only with val_accuracy available, skipping.\n"
     ]
    },
    {
     "name": "stderr",
     "output_type": "stream",
     "text": [
      "WARNING:tensorflow:Can save best model only with val_accuracy available, skipping.\n"
     ]
    },
    {
     "name": "stdout",
     "output_type": "stream",
     "text": [
      "713/713 [==============================] - 175s 245ms/step - loss: 0.3287 - accuracy: 0.8797\n",
      "Epoch 45/500\n",
      "713/713 [==============================] - ETA: 0s - loss: 0.3174 - accuracy: 0.8840WARNING:tensorflow:Can save best model only with val_accuracy available, skipping.\n"
     ]
    },
    {
     "name": "stderr",
     "output_type": "stream",
     "text": [
      "WARNING:tensorflow:Can save best model only with val_accuracy available, skipping.\n"
     ]
    },
    {
     "name": "stdout",
     "output_type": "stream",
     "text": [
      "713/713 [==============================] - 183s 256ms/step - loss: 0.3174 - accuracy: 0.8840\n",
      "Epoch 46/500\n",
      "713/713 [==============================] - ETA: 0s - loss: 0.3168 - accuracy: 0.8828WARNING:tensorflow:Can save best model only with val_accuracy available, skipping.\n"
     ]
    },
    {
     "name": "stderr",
     "output_type": "stream",
     "text": [
      "WARNING:tensorflow:Can save best model only with val_accuracy available, skipping.\n"
     ]
    },
    {
     "name": "stdout",
     "output_type": "stream",
     "text": [
      "713/713 [==============================] - 171s 240ms/step - loss: 0.3168 - accuracy: 0.8828\n",
      "Epoch 47/500\n",
      "713/713 [==============================] - ETA: 0s - loss: 0.3171 - accuracy: 0.8836WARNING:tensorflow:Can save best model only with val_accuracy available, skipping.\n"
     ]
    },
    {
     "name": "stderr",
     "output_type": "stream",
     "text": [
      "WARNING:tensorflow:Can save best model only with val_accuracy available, skipping.\n"
     ]
    },
    {
     "name": "stdout",
     "output_type": "stream",
     "text": [
      "713/713 [==============================] - 175s 245ms/step - loss: 0.3171 - accuracy: 0.8836\n",
      "Epoch 48/500\n",
      "713/713 [==============================] - ETA: 0s - loss: 0.3191 - accuracy: 0.8835WARNING:tensorflow:Can save best model only with val_accuracy available, skipping.\n"
     ]
    },
    {
     "name": "stderr",
     "output_type": "stream",
     "text": [
      "WARNING:tensorflow:Can save best model only with val_accuracy available, skipping.\n"
     ]
    },
    {
     "name": "stdout",
     "output_type": "stream",
     "text": [
      "713/713 [==============================] - 187s 263ms/step - loss: 0.3191 - accuracy: 0.8835\n",
      "Epoch 49/500\n",
      "713/713 [==============================] - ETA: 0s - loss: 0.3179 - accuracy: 0.8826WARNING:tensorflow:Can save best model only with val_accuracy available, skipping.\n"
     ]
    },
    {
     "name": "stderr",
     "output_type": "stream",
     "text": [
      "WARNING:tensorflow:Can save best model only with val_accuracy available, skipping.\n"
     ]
    },
    {
     "name": "stdout",
     "output_type": "stream",
     "text": [
      "713/713 [==============================] - 173s 243ms/step - loss: 0.3179 - accuracy: 0.8826\n",
      "Epoch 50/500\n",
      "713/713 [==============================] - 192s 269ms/step - loss: 0.3148 - accuracy: 0.8840 - val_loss: 1.1384 - val_accuracy: 0.7685\n",
      "Epoch 51/500\n",
      "713/713 [==============================] - ETA: 0s - loss: 0.3099 - accuracy: 0.8861WARNING:tensorflow:Can save best model only with val_accuracy available, skipping.\n"
     ]
    },
    {
     "name": "stderr",
     "output_type": "stream",
     "text": [
      "WARNING:tensorflow:Can save best model only with val_accuracy available, skipping.\n"
     ]
    },
    {
     "name": "stdout",
     "output_type": "stream",
     "text": [
      "713/713 [==============================] - 183s 257ms/step - loss: 0.3099 - accuracy: 0.8861\n",
      "Epoch 52/500\n",
      "713/713 [==============================] - ETA: 0s - loss: 0.3126 - accuracy: 0.8859WARNING:tensorflow:Can save best model only with val_accuracy available, skipping.\n"
     ]
    },
    {
     "name": "stderr",
     "output_type": "stream",
     "text": [
      "WARNING:tensorflow:Can save best model only with val_accuracy available, skipping.\n"
     ]
    },
    {
     "name": "stdout",
     "output_type": "stream",
     "text": [
      "713/713 [==============================] - 176s 247ms/step - loss: 0.3126 - accuracy: 0.8859\n",
      "Epoch 53/500\n",
      "713/713 [==============================] - ETA: 0s - loss: 0.3159 - accuracy: 0.8844WARNING:tensorflow:Can save best model only with val_accuracy available, skipping.\n"
     ]
    },
    {
     "name": "stderr",
     "output_type": "stream",
     "text": [
      "WARNING:tensorflow:Can save best model only with val_accuracy available, skipping.\n"
     ]
    },
    {
     "name": "stdout",
     "output_type": "stream",
     "text": [
      "713/713 [==============================] - 186s 260ms/step - loss: 0.3159 - accuracy: 0.8844\n",
      "Epoch 54/500\n",
      "713/713 [==============================] - ETA: 0s - loss: 0.3019 - accuracy: 0.8886WARNING:tensorflow:Can save best model only with val_accuracy available, skipping.\n"
     ]
    },
    {
     "name": "stderr",
     "output_type": "stream",
     "text": [
      "WARNING:tensorflow:Can save best model only with val_accuracy available, skipping.\n"
     ]
    },
    {
     "name": "stdout",
     "output_type": "stream",
     "text": [
      "713/713 [==============================] - 174s 244ms/step - loss: 0.3019 - accuracy: 0.8886\n",
      "Epoch 55/500\n",
      "713/713 [==============================] - ETA: 0s - loss: 0.3051 - accuracy: 0.8879WARNING:tensorflow:Can save best model only with val_accuracy available, skipping.\n"
     ]
    },
    {
     "name": "stderr",
     "output_type": "stream",
     "text": [
      "WARNING:tensorflow:Can save best model only with val_accuracy available, skipping.\n"
     ]
    },
    {
     "name": "stdout",
     "output_type": "stream",
     "text": [
      "713/713 [==============================] - 177s 248ms/step - loss: 0.3051 - accuracy: 0.8879\n",
      "Epoch 56/500\n",
      "713/713 [==============================] - ETA: 0s - loss: 0.3071 - accuracy: 0.8871WARNING:tensorflow:Can save best model only with val_accuracy available, skipping.\n"
     ]
    },
    {
     "name": "stderr",
     "output_type": "stream",
     "text": [
      "WARNING:tensorflow:Can save best model only with val_accuracy available, skipping.\n"
     ]
    },
    {
     "name": "stdout",
     "output_type": "stream",
     "text": [
      "713/713 [==============================] - 179s 251ms/step - loss: 0.3071 - accuracy: 0.8871\n",
      "Epoch 57/500\n",
      "713/713 [==============================] - ETA: 0s - loss: 0.2998 - accuracy: 0.8898WARNING:tensorflow:Can save best model only with val_accuracy available, skipping.\n"
     ]
    },
    {
     "name": "stderr",
     "output_type": "stream",
     "text": [
      "WARNING:tensorflow:Can save best model only with val_accuracy available, skipping.\n"
     ]
    },
    {
     "name": "stdout",
     "output_type": "stream",
     "text": [
      "713/713 [==============================] - 175s 245ms/step - loss: 0.2998 - accuracy: 0.8898\n",
      "Epoch 58/500\n",
      "713/713 [==============================] - ETA: 0s - loss: 0.3016 - accuracy: 0.8886WARNING:tensorflow:Can save best model only with val_accuracy available, skipping.\n"
     ]
    },
    {
     "name": "stderr",
     "output_type": "stream",
     "text": [
      "WARNING:tensorflow:Can save best model only with val_accuracy available, skipping.\n"
     ]
    },
    {
     "name": "stdout",
     "output_type": "stream",
     "text": [
      "713/713 [==============================] - 194s 272ms/step - loss: 0.3016 - accuracy: 0.8886\n",
      "Epoch 59/500\n",
      "713/713 [==============================] - ETA: 0s - loss: 0.2983 - accuracy: 0.8892WARNING:tensorflow:Can save best model only with val_accuracy available, skipping.\n"
     ]
    },
    {
     "name": "stderr",
     "output_type": "stream",
     "text": [
      "WARNING:tensorflow:Can save best model only with val_accuracy available, skipping.\n"
     ]
    },
    {
     "name": "stdout",
     "output_type": "stream",
     "text": [
      "713/713 [==============================] - 176s 246ms/step - loss: 0.2983 - accuracy: 0.8892\n",
      "Epoch 60/500\n",
      "713/713 [==============================] - 203s 285ms/step - loss: 0.3001 - accuracy: 0.8891 - val_loss: 1.1903 - val_accuracy: 0.7657\n",
      "Epoch 61/500\n",
      "713/713 [==============================] - ETA: 0s - loss: 0.2963 - accuracy: 0.8909WARNING:tensorflow:Can save best model only with val_accuracy available, skipping.\n"
     ]
    },
    {
     "name": "stderr",
     "output_type": "stream",
     "text": [
      "WARNING:tensorflow:Can save best model only with val_accuracy available, skipping.\n"
     ]
    },
    {
     "name": "stdout",
     "output_type": "stream",
     "text": [
      "713/713 [==============================] - 178s 249ms/step - loss: 0.2963 - accuracy: 0.8909\n",
      "Epoch 62/500\n",
      "713/713 [==============================] - ETA: 0s - loss: 0.2940 - accuracy: 0.8915WARNING:tensorflow:Can save best model only with val_accuracy available, skipping.\n"
     ]
    },
    {
     "name": "stderr",
     "output_type": "stream",
     "text": [
      "WARNING:tensorflow:Can save best model only with val_accuracy available, skipping.\n"
     ]
    },
    {
     "name": "stdout",
     "output_type": "stream",
     "text": [
      "713/713 [==============================] - 189s 265ms/step - loss: 0.2940 - accuracy: 0.8915\n",
      "Epoch 63/500\n",
      "713/713 [==============================] - ETA: 0s - loss: 0.2922 - accuracy: 0.8924WARNING:tensorflow:Can save best model only with val_accuracy available, skipping.\n"
     ]
    },
    {
     "name": "stderr",
     "output_type": "stream",
     "text": [
      "WARNING:tensorflow:Can save best model only with val_accuracy available, skipping.\n"
     ]
    },
    {
     "name": "stdout",
     "output_type": "stream",
     "text": [
      "713/713 [==============================] - 182s 255ms/step - loss: 0.2922 - accuracy: 0.8924\n",
      "Epoch 64/500\n",
      "713/713 [==============================] - ETA: 0s - loss: 0.2943 - accuracy: 0.8914WARNING:tensorflow:Can save best model only with val_accuracy available, skipping.\n"
     ]
    },
    {
     "name": "stderr",
     "output_type": "stream",
     "text": [
      "WARNING:tensorflow:Can save best model only with val_accuracy available, skipping.\n"
     ]
    },
    {
     "name": "stdout",
     "output_type": "stream",
     "text": [
      "713/713 [==============================] - 179s 251ms/step - loss: 0.2943 - accuracy: 0.8914\n",
      "Epoch 65/500\n",
      "713/713 [==============================] - ETA: 0s - loss: 0.2936 - accuracy: 0.8923WARNING:tensorflow:Can save best model only with val_accuracy available, skipping.\n"
     ]
    },
    {
     "name": "stderr",
     "output_type": "stream",
     "text": [
      "WARNING:tensorflow:Can save best model only with val_accuracy available, skipping.\n"
     ]
    },
    {
     "name": "stdout",
     "output_type": "stream",
     "text": [
      "713/713 [==============================] - 187s 263ms/step - loss: 0.2936 - accuracy: 0.8923\n",
      "Epoch 66/500\n",
      "713/713 [==============================] - ETA: 0s - loss: 0.2906 - accuracy: 0.8926WARNING:tensorflow:Can save best model only with val_accuracy available, skipping.\n"
     ]
    },
    {
     "name": "stderr",
     "output_type": "stream",
     "text": [
      "WARNING:tensorflow:Can save best model only with val_accuracy available, skipping.\n"
     ]
    },
    {
     "name": "stdout",
     "output_type": "stream",
     "text": [
      "713/713 [==============================] - 180s 253ms/step - loss: 0.2906 - accuracy: 0.8926\n",
      "Epoch 67/500\n",
      "713/713 [==============================] - ETA: 0s - loss: 0.2881 - accuracy: 0.8926WARNING:tensorflow:Can save best model only with val_accuracy available, skipping.\n"
     ]
    },
    {
     "name": "stderr",
     "output_type": "stream",
     "text": [
      "WARNING:tensorflow:Can save best model only with val_accuracy available, skipping.\n"
     ]
    },
    {
     "name": "stdout",
     "output_type": "stream",
     "text": [
      "713/713 [==============================] - 186s 261ms/step - loss: 0.2881 - accuracy: 0.8926\n",
      "Epoch 68/500\n",
      "713/713 [==============================] - ETA: 0s - loss: 0.2800 - accuracy: 0.8961WARNING:tensorflow:Can save best model only with val_accuracy available, skipping.\n"
     ]
    },
    {
     "name": "stderr",
     "output_type": "stream",
     "text": [
      "WARNING:tensorflow:Can save best model only with val_accuracy available, skipping.\n"
     ]
    },
    {
     "name": "stdout",
     "output_type": "stream",
     "text": [
      "713/713 [==============================] - 185s 260ms/step - loss: 0.2800 - accuracy: 0.8961\n",
      "Epoch 69/500\n",
      "713/713 [==============================] - ETA: 0s - loss: 0.2852 - accuracy: 0.8941WARNING:tensorflow:Can save best model only with val_accuracy available, skipping.\n"
     ]
    },
    {
     "name": "stderr",
     "output_type": "stream",
     "text": [
      "WARNING:tensorflow:Can save best model only with val_accuracy available, skipping.\n"
     ]
    },
    {
     "name": "stdout",
     "output_type": "stream",
     "text": [
      "713/713 [==============================] - 184s 257ms/step - loss: 0.2852 - accuracy: 0.8941\n",
      "Epoch 70/500\n",
      "713/713 [==============================] - 203s 285ms/step - loss: 0.2831 - accuracy: 0.8956 - val_loss: 1.2890 - val_accuracy: 0.7604\n",
      "Epoch 71/500\n",
      "713/713 [==============================] - ETA: 0s - loss: 0.2828 - accuracy: 0.8948WARNING:tensorflow:Can save best model only with val_accuracy available, skipping.\n"
     ]
    },
    {
     "name": "stderr",
     "output_type": "stream",
     "text": [
      "WARNING:tensorflow:Can save best model only with val_accuracy available, skipping.\n"
     ]
    },
    {
     "name": "stdout",
     "output_type": "stream",
     "text": [
      "713/713 [==============================] - 181s 254ms/step - loss: 0.2828 - accuracy: 0.8948\n",
      "Epoch 72/500\n",
      "713/713 [==============================] - ETA: 0s - loss: 0.2868 - accuracy: 0.8940WARNING:tensorflow:Can save best model only with val_accuracy available, skipping.\n"
     ]
    },
    {
     "name": "stderr",
     "output_type": "stream",
     "text": [
      "WARNING:tensorflow:Can save best model only with val_accuracy available, skipping.\n"
     ]
    },
    {
     "name": "stdout",
     "output_type": "stream",
     "text": [
      "713/713 [==============================] - 191s 268ms/step - loss: 0.2868 - accuracy: 0.8940\n",
      "Epoch 73/500\n",
      "713/713 [==============================] - ETA: 0s - loss: 0.2806 - accuracy: 0.8961WARNING:tensorflow:Can save best model only with val_accuracy available, skipping.\n"
     ]
    },
    {
     "name": "stderr",
     "output_type": "stream",
     "text": [
      "WARNING:tensorflow:Can save best model only with val_accuracy available, skipping.\n"
     ]
    },
    {
     "name": "stdout",
     "output_type": "stream",
     "text": [
      "713/713 [==============================] - 182s 255ms/step - loss: 0.2806 - accuracy: 0.8961\n",
      "Epoch 74/500\n",
      "713/713 [==============================] - ETA: 0s - loss: 0.2852 - accuracy: 0.8957WARNING:tensorflow:Can save best model only with val_accuracy available, skipping.\n"
     ]
    },
    {
     "name": "stderr",
     "output_type": "stream",
     "text": [
      "WARNING:tensorflow:Can save best model only with val_accuracy available, skipping.\n"
     ]
    },
    {
     "name": "stdout",
     "output_type": "stream",
     "text": [
      "713/713 [==============================] - 187s 262ms/step - loss: 0.2852 - accuracy: 0.8957\n",
      "Epoch 75/500\n",
      "713/713 [==============================] - ETA: 0s - loss: 0.2836 - accuracy: 0.8953WARNING:tensorflow:Can save best model only with val_accuracy available, skipping.\n"
     ]
    },
    {
     "name": "stderr",
     "output_type": "stream",
     "text": [
      "WARNING:tensorflow:Can save best model only with val_accuracy available, skipping.\n"
     ]
    },
    {
     "name": "stdout",
     "output_type": "stream",
     "text": [
      "713/713 [==============================] - 182s 255ms/step - loss: 0.2836 - accuracy: 0.8953\n",
      "Epoch 76/500\n",
      "713/713 [==============================] - ETA: 0s - loss: 0.2745 - accuracy: 0.8979WARNING:tensorflow:Can save best model only with val_accuracy available, skipping.\n"
     ]
    },
    {
     "name": "stderr",
     "output_type": "stream",
     "text": [
      "WARNING:tensorflow:Can save best model only with val_accuracy available, skipping.\n"
     ]
    },
    {
     "name": "stdout",
     "output_type": "stream",
     "text": [
      "713/713 [==============================] - 207s 290ms/step - loss: 0.2745 - accuracy: 0.8979\n",
      "Epoch 77/500\n",
      "713/713 [==============================] - ETA: 0s - loss: 0.2759 - accuracy: 0.8977WARNING:tensorflow:Can save best model only with val_accuracy available, skipping.\n"
     ]
    },
    {
     "name": "stderr",
     "output_type": "stream",
     "text": [
      "WARNING:tensorflow:Can save best model only with val_accuracy available, skipping.\n"
     ]
    },
    {
     "name": "stdout",
     "output_type": "stream",
     "text": [
      "713/713 [==============================] - 185s 259ms/step - loss: 0.2759 - accuracy: 0.8977\n",
      "Epoch 78/500\n",
      "713/713 [==============================] - ETA: 0s - loss: 0.2789 - accuracy: 0.8969WARNING:tensorflow:Can save best model only with val_accuracy available, skipping.\n"
     ]
    },
    {
     "name": "stderr",
     "output_type": "stream",
     "text": [
      "WARNING:tensorflow:Can save best model only with val_accuracy available, skipping.\n"
     ]
    },
    {
     "name": "stdout",
     "output_type": "stream",
     "text": [
      "713/713 [==============================] - 187s 263ms/step - loss: 0.2789 - accuracy: 0.8969\n",
      "Epoch 79/500\n",
      "713/713 [==============================] - ETA: 0s - loss: 0.2813 - accuracy: 0.8963WARNING:tensorflow:Can save best model only with val_accuracy available, skipping.\n"
     ]
    },
    {
     "name": "stderr",
     "output_type": "stream",
     "text": [
      "WARNING:tensorflow:Can save best model only with val_accuracy available, skipping.\n"
     ]
    },
    {
     "name": "stdout",
     "output_type": "stream",
     "text": [
      "713/713 [==============================] - 188s 264ms/step - loss: 0.2813 - accuracy: 0.8963\n",
      "Epoch 80/500\n",
      "713/713 [==============================] - 186s 261ms/step - loss: 0.2748 - accuracy: 0.8973 - val_loss: 1.3793 - val_accuracy: 0.7548\n",
      "Epoch 81/500\n",
      "713/713 [==============================] - ETA: 0s - loss: 0.2758 - accuracy: 0.8972WARNING:tensorflow:Can save best model only with val_accuracy available, skipping.\n"
     ]
    },
    {
     "name": "stderr",
     "output_type": "stream",
     "text": [
      "WARNING:tensorflow:Can save best model only with val_accuracy available, skipping.\n"
     ]
    },
    {
     "name": "stdout",
     "output_type": "stream",
     "text": [
      "713/713 [==============================] - 181s 254ms/step - loss: 0.2758 - accuracy: 0.8972\n",
      "Epoch 82/500\n",
      "713/713 [==============================] - ETA: 0s - loss: 0.2795 - accuracy: 0.8962WARNING:tensorflow:Can save best model only with val_accuracy available, skipping.\n"
     ]
    },
    {
     "name": "stderr",
     "output_type": "stream",
     "text": [
      "WARNING:tensorflow:Can save best model only with val_accuracy available, skipping.\n"
     ]
    },
    {
     "name": "stdout",
     "output_type": "stream",
     "text": [
      "713/713 [==============================] - 186s 260ms/step - loss: 0.2795 - accuracy: 0.8962\n",
      "Epoch 83/500\n",
      "713/713 [==============================] - ETA: 0s - loss: 0.2719 - accuracy: 0.8997WARNING:tensorflow:Can save best model only with val_accuracy available, skipping.\n"
     ]
    },
    {
     "name": "stderr",
     "output_type": "stream",
     "text": [
      "WARNING:tensorflow:Can save best model only with val_accuracy available, skipping.\n"
     ]
    },
    {
     "name": "stdout",
     "output_type": "stream",
     "text": [
      "713/713 [==============================] - 190s 266ms/step - loss: 0.2719 - accuracy: 0.8997\n",
      "Epoch 84/500\n",
      "713/713 [==============================] - ETA: 0s - loss: 0.2699 - accuracy: 0.9000WARNING:tensorflow:Can save best model only with val_accuracy available, skipping.\n"
     ]
    },
    {
     "name": "stderr",
     "output_type": "stream",
     "text": [
      "WARNING:tensorflow:Can save best model only with val_accuracy available, skipping.\n"
     ]
    },
    {
     "name": "stdout",
     "output_type": "stream",
     "text": [
      "713/713 [==============================] - 184s 258ms/step - loss: 0.2699 - accuracy: 0.9000\n",
      "Epoch 85/500\n",
      "713/713 [==============================] - ETA: 0s - loss: 0.2744 - accuracy: 0.8985WARNING:tensorflow:Can save best model only with val_accuracy available, skipping.\n"
     ]
    },
    {
     "name": "stderr",
     "output_type": "stream",
     "text": [
      "WARNING:tensorflow:Can save best model only with val_accuracy available, skipping.\n"
     ]
    },
    {
     "name": "stdout",
     "output_type": "stream",
     "text": [
      "713/713 [==============================] - 173s 242ms/step - loss: 0.2744 - accuracy: 0.8985\n",
      "Epoch 86/500\n",
      "713/713 [==============================] - ETA: 0s - loss: 0.2727 - accuracy: 0.8989WARNING:tensorflow:Can save best model only with val_accuracy available, skipping.\n"
     ]
    },
    {
     "name": "stderr",
     "output_type": "stream",
     "text": [
      "WARNING:tensorflow:Can save best model only with val_accuracy available, skipping.\n"
     ]
    },
    {
     "name": "stdout",
     "output_type": "stream",
     "text": [
      "713/713 [==============================] - 181s 253ms/step - loss: 0.2727 - accuracy: 0.8989\n",
      "Epoch 87/500\n",
      "713/713 [==============================] - ETA: 0s - loss: 0.2703 - accuracy: 0.8985WARNING:tensorflow:Can save best model only with val_accuracy available, skipping.\n"
     ]
    },
    {
     "name": "stderr",
     "output_type": "stream",
     "text": [
      "WARNING:tensorflow:Can save best model only with val_accuracy available, skipping.\n"
     ]
    },
    {
     "name": "stdout",
     "output_type": "stream",
     "text": [
      "713/713 [==============================] - 194s 272ms/step - loss: 0.2703 - accuracy: 0.8985\n",
      "Epoch 88/500\n",
      "713/713 [==============================] - ETA: 0s - loss: 0.2724 - accuracy: 0.8987WARNING:tensorflow:Can save best model only with val_accuracy available, skipping.\n"
     ]
    },
    {
     "name": "stderr",
     "output_type": "stream",
     "text": [
      "WARNING:tensorflow:Can save best model only with val_accuracy available, skipping.\n"
     ]
    },
    {
     "name": "stdout",
     "output_type": "stream",
     "text": [
      "713/713 [==============================] - 185s 259ms/step - loss: 0.2724 - accuracy: 0.8987\n",
      "Epoch 89/500\n",
      "713/713 [==============================] - ETA: 0s - loss: 0.2645 - accuracy: 0.9009WARNING:tensorflow:Can save best model only with val_accuracy available, skipping.\n"
     ]
    },
    {
     "name": "stderr",
     "output_type": "stream",
     "text": [
      "WARNING:tensorflow:Can save best model only with val_accuracy available, skipping.\n"
     ]
    },
    {
     "name": "stdout",
     "output_type": "stream",
     "text": [
      "713/713 [==============================] - 190s 267ms/step - loss: 0.2645 - accuracy: 0.9009\n",
      "Epoch 90/500\n",
      "713/713 [==============================] - 201s 281ms/step - loss: 0.2672 - accuracy: 0.9007 - val_loss: 1.3438 - val_accuracy: 0.7612\n",
      "Epoch 91/500\n",
      "713/713 [==============================] - ETA: 0s - loss: 0.2647 - accuracy: 0.9005WARNING:tensorflow:Can save best model only with val_accuracy available, skipping.\n"
     ]
    },
    {
     "name": "stderr",
     "output_type": "stream",
     "text": [
      "WARNING:tensorflow:Can save best model only with val_accuracy available, skipping.\n"
     ]
    },
    {
     "name": "stdout",
     "output_type": "stream",
     "text": [
      "713/713 [==============================] - 200s 280ms/step - loss: 0.2647 - accuracy: 0.9005\n",
      "Epoch 92/500\n",
      "713/713 [==============================] - ETA: 0s - loss: 0.2625 - accuracy: 0.9014WARNING:tensorflow:Can save best model only with val_accuracy available, skipping.\n"
     ]
    },
    {
     "name": "stderr",
     "output_type": "stream",
     "text": [
      "WARNING:tensorflow:Can save best model only with val_accuracy available, skipping.\n"
     ]
    },
    {
     "name": "stdout",
     "output_type": "stream",
     "text": [
      "713/713 [==============================] - 192s 269ms/step - loss: 0.2625 - accuracy: 0.9014\n",
      "Epoch 93/500\n",
      "713/713 [==============================] - ETA: 0s - loss: 0.2621 - accuracy: 0.9016WARNING:tensorflow:Can save best model only with val_accuracy available, skipping.\n"
     ]
    },
    {
     "name": "stderr",
     "output_type": "stream",
     "text": [
      "WARNING:tensorflow:Can save best model only with val_accuracy available, skipping.\n"
     ]
    },
    {
     "name": "stdout",
     "output_type": "stream",
     "text": [
      "713/713 [==============================] - 180s 253ms/step - loss: 0.2621 - accuracy: 0.9016\n",
      "Epoch 94/500\n",
      "713/713 [==============================] - ETA: 0s - loss: 0.2665 - accuracy: 0.9009WARNING:tensorflow:Can save best model only with val_accuracy available, skipping.\n"
     ]
    },
    {
     "name": "stderr",
     "output_type": "stream",
     "text": [
      "WARNING:tensorflow:Can save best model only with val_accuracy available, skipping.\n"
     ]
    },
    {
     "name": "stdout",
     "output_type": "stream",
     "text": [
      "713/713 [==============================] - 216s 303ms/step - loss: 0.2665 - accuracy: 0.9009\n",
      "Epoch 95/500\n",
      "713/713 [==============================] - ETA: 0s - loss: 0.2676 - accuracy: 0.9007WARNING:tensorflow:Can save best model only with val_accuracy available, skipping.\n"
     ]
    },
    {
     "name": "stderr",
     "output_type": "stream",
     "text": [
      "WARNING:tensorflow:Can save best model only with val_accuracy available, skipping.\n"
     ]
    },
    {
     "name": "stdout",
     "output_type": "stream",
     "text": [
      "713/713 [==============================] - 189s 265ms/step - loss: 0.2676 - accuracy: 0.9007\n",
      "Epoch 96/500\n",
      "713/713 [==============================] - ETA: 0s - loss: 0.2647 - accuracy: 0.9010WARNING:tensorflow:Can save best model only with val_accuracy available, skipping.\n"
     ]
    },
    {
     "name": "stderr",
     "output_type": "stream",
     "text": [
      "WARNING:tensorflow:Can save best model only with val_accuracy available, skipping.\n"
     ]
    },
    {
     "name": "stdout",
     "output_type": "stream",
     "text": [
      "713/713 [==============================] - 214s 300ms/step - loss: 0.2647 - accuracy: 0.9010\n",
      "Epoch 97/500\n",
      "713/713 [==============================] - ETA: 0s - loss: 0.2581 - accuracy: 0.9035WARNING:tensorflow:Can save best model only with val_accuracy available, skipping.\n"
     ]
    },
    {
     "name": "stderr",
     "output_type": "stream",
     "text": [
      "WARNING:tensorflow:Can save best model only with val_accuracy available, skipping.\n"
     ]
    },
    {
     "name": "stdout",
     "output_type": "stream",
     "text": [
      "713/713 [==============================] - 193s 270ms/step - loss: 0.2581 - accuracy: 0.9035\n",
      "Epoch 98/500\n",
      "713/713 [==============================] - ETA: 0s - loss: 0.2636 - accuracy: 0.9025WARNING:tensorflow:Can save best model only with val_accuracy available, skipping.\n"
     ]
    },
    {
     "name": "stderr",
     "output_type": "stream",
     "text": [
      "WARNING:tensorflow:Can save best model only with val_accuracy available, skipping.\n"
     ]
    },
    {
     "name": "stdout",
     "output_type": "stream",
     "text": [
      "713/713 [==============================] - 185s 259ms/step - loss: 0.2636 - accuracy: 0.9025\n",
      "Epoch 99/500\n",
      "713/713 [==============================] - ETA: 0s - loss: 0.2622 - accuracy: 0.9025WARNING:tensorflow:Can save best model only with val_accuracy available, skipping.\n"
     ]
    },
    {
     "name": "stderr",
     "output_type": "stream",
     "text": [
      "WARNING:tensorflow:Can save best model only with val_accuracy available, skipping.\n"
     ]
    },
    {
     "name": "stdout",
     "output_type": "stream",
     "text": [
      "713/713 [==============================] - 190s 267ms/step - loss: 0.2622 - accuracy: 0.9025\n",
      "Epoch 100/500\n",
      "713/713 [==============================] - 203s 284ms/step - loss: 0.2582 - accuracy: 0.9032 - val_loss: 1.4264 - val_accuracy: 0.7585\n",
      "Epoch 101/500\n",
      "713/713 [==============================] - ETA: 0s - loss: 0.2607 - accuracy: 0.9029WARNING:tensorflow:Can save best model only with val_accuracy available, skipping.\n"
     ]
    },
    {
     "name": "stderr",
     "output_type": "stream",
     "text": [
      "WARNING:tensorflow:Can save best model only with val_accuracy available, skipping.\n"
     ]
    },
    {
     "name": "stdout",
     "output_type": "stream",
     "text": [
      "713/713 [==============================] - 206s 288ms/step - loss: 0.2607 - accuracy: 0.9029\n",
      "Epoch 102/500\n",
      "713/713 [==============================] - ETA: 0s - loss: 0.2574 - accuracy: 0.9035WARNING:tensorflow:Can save best model only with val_accuracy available, skipping.\n"
     ]
    },
    {
     "name": "stderr",
     "output_type": "stream",
     "text": [
      "WARNING:tensorflow:Can save best model only with val_accuracy available, skipping.\n"
     ]
    },
    {
     "name": "stdout",
     "output_type": "stream",
     "text": [
      "713/713 [==============================] - 188s 264ms/step - loss: 0.2574 - accuracy: 0.9035\n",
      "Epoch 103/500\n",
      "713/713 [==============================] - ETA: 0s - loss: 0.2549 - accuracy: 0.9046WARNING:tensorflow:Can save best model only with val_accuracy available, skipping.\n"
     ]
    },
    {
     "name": "stderr",
     "output_type": "stream",
     "text": [
      "WARNING:tensorflow:Can save best model only with val_accuracy available, skipping.\n"
     ]
    },
    {
     "name": "stdout",
     "output_type": "stream",
     "text": [
      "713/713 [==============================] - 223s 312ms/step - loss: 0.2549 - accuracy: 0.9046\n",
      "Epoch 104/500\n",
      "713/713 [==============================] - ETA: 0s - loss: 0.2519 - accuracy: 0.9058WARNING:tensorflow:Can save best model only with val_accuracy available, skipping.\n"
     ]
    },
    {
     "name": "stderr",
     "output_type": "stream",
     "text": [
      "WARNING:tensorflow:Can save best model only with val_accuracy available, skipping.\n"
     ]
    },
    {
     "name": "stdout",
     "output_type": "stream",
     "text": [
      "713/713 [==============================] - 191s 268ms/step - loss: 0.2519 - accuracy: 0.9058\n",
      "Epoch 105/500\n",
      "713/713 [==============================] - ETA: 0s - loss: 0.2592 - accuracy: 0.9046WARNING:tensorflow:Can save best model only with val_accuracy available, skipping.\n"
     ]
    },
    {
     "name": "stderr",
     "output_type": "stream",
     "text": [
      "WARNING:tensorflow:Can save best model only with val_accuracy available, skipping.\n"
     ]
    },
    {
     "name": "stdout",
     "output_type": "stream",
     "text": [
      "713/713 [==============================] - 216s 303ms/step - loss: 0.2592 - accuracy: 0.9046\n",
      "Epoch 106/500\n",
      "713/713 [==============================] - ETA: 0s - loss: 0.2543 - accuracy: 0.9056WARNING:tensorflow:Can save best model only with val_accuracy available, skipping.\n"
     ]
    },
    {
     "name": "stderr",
     "output_type": "stream",
     "text": [
      "WARNING:tensorflow:Can save best model only with val_accuracy available, skipping.\n"
     ]
    },
    {
     "name": "stdout",
     "output_type": "stream",
     "text": [
      "713/713 [==============================] - 196s 275ms/step - loss: 0.2543 - accuracy: 0.9056\n",
      "Epoch 107/500\n",
      "713/713 [==============================] - ETA: 0s - loss: 0.2521 - accuracy: 0.9053WARNING:tensorflow:Can save best model only with val_accuracy available, skipping.\n"
     ]
    },
    {
     "name": "stderr",
     "output_type": "stream",
     "text": [
      "WARNING:tensorflow:Can save best model only with val_accuracy available, skipping.\n"
     ]
    },
    {
     "name": "stdout",
     "output_type": "stream",
     "text": [
      "713/713 [==============================] - 225s 315ms/step - loss: 0.2521 - accuracy: 0.9053\n",
      "Epoch 108/500\n",
      "713/713 [==============================] - ETA: 0s - loss: 0.2528 - accuracy: 0.9051WARNING:tensorflow:Can save best model only with val_accuracy available, skipping.\n"
     ]
    },
    {
     "name": "stderr",
     "output_type": "stream",
     "text": [
      "WARNING:tensorflow:Can save best model only with val_accuracy available, skipping.\n"
     ]
    },
    {
     "name": "stdout",
     "output_type": "stream",
     "text": [
      "713/713 [==============================] - 206s 288ms/step - loss: 0.2528 - accuracy: 0.9051\n",
      "Epoch 109/500\n",
      "713/713 [==============================] - ETA: 0s - loss: 0.2536 - accuracy: 0.9059WARNING:tensorflow:Can save best model only with val_accuracy available, skipping.\n"
     ]
    },
    {
     "name": "stderr",
     "output_type": "stream",
     "text": [
      "WARNING:tensorflow:Can save best model only with val_accuracy available, skipping.\n"
     ]
    },
    {
     "name": "stdout",
     "output_type": "stream",
     "text": [
      "713/713 [==============================] - 187s 263ms/step - loss: 0.2536 - accuracy: 0.9059\n",
      "Epoch 110/500\n",
      "713/713 [==============================] - 221s 310ms/step - loss: 0.2519 - accuracy: 0.9047 - val_loss: 1.5217 - val_accuracy: 0.7560\n",
      "Epoch 111/500\n",
      "713/713 [==============================] - ETA: 0s - loss: 0.2517 - accuracy: 0.9071WARNING:tensorflow:Can save best model only with val_accuracy available, skipping.\n"
     ]
    },
    {
     "name": "stderr",
     "output_type": "stream",
     "text": [
      "WARNING:tensorflow:Can save best model only with val_accuracy available, skipping.\n"
     ]
    },
    {
     "name": "stdout",
     "output_type": "stream",
     "text": [
      "713/713 [==============================] - 198s 277ms/step - loss: 0.2517 - accuracy: 0.9071\n",
      "Epoch 112/500\n",
      "713/713 [==============================] - ETA: 0s - loss: 0.2509 - accuracy: 0.9054WARNING:tensorflow:Can save best model only with val_accuracy available, skipping.\n"
     ]
    },
    {
     "name": "stderr",
     "output_type": "stream",
     "text": [
      "WARNING:tensorflow:Can save best model only with val_accuracy available, skipping.\n"
     ]
    },
    {
     "name": "stdout",
     "output_type": "stream",
     "text": [
      "713/713 [==============================] - 210s 295ms/step - loss: 0.2509 - accuracy: 0.9054\n",
      "Epoch 113/500\n",
      "713/713 [==============================] - ETA: 0s - loss: 0.2521 - accuracy: 0.9056WARNING:tensorflow:Can save best model only with val_accuracy available, skipping.\n"
     ]
    },
    {
     "name": "stderr",
     "output_type": "stream",
     "text": [
      "WARNING:tensorflow:Can save best model only with val_accuracy available, skipping.\n"
     ]
    },
    {
     "name": "stdout",
     "output_type": "stream",
     "text": [
      "713/713 [==============================] - 186s 261ms/step - loss: 0.2521 - accuracy: 0.9056\n",
      "Epoch 114/500\n",
      "713/713 [==============================] - ETA: 0s - loss: 0.2480 - accuracy: 0.9072WARNING:tensorflow:Can save best model only with val_accuracy available, skipping.\n"
     ]
    },
    {
     "name": "stderr",
     "output_type": "stream",
     "text": [
      "WARNING:tensorflow:Can save best model only with val_accuracy available, skipping.\n"
     ]
    },
    {
     "name": "stdout",
     "output_type": "stream",
     "text": [
      "713/713 [==============================] - 202s 283ms/step - loss: 0.2480 - accuracy: 0.9072\n",
      "Epoch 115/500\n",
      "713/713 [==============================] - ETA: 0s - loss: 0.2488 - accuracy: 0.9076WARNING:tensorflow:Can save best model only with val_accuracy available, skipping.\n"
     ]
    },
    {
     "name": "stderr",
     "output_type": "stream",
     "text": [
      "WARNING:tensorflow:Can save best model only with val_accuracy available, skipping.\n"
     ]
    },
    {
     "name": "stdout",
     "output_type": "stream",
     "text": [
      "713/713 [==============================] - 192s 270ms/step - loss: 0.2488 - accuracy: 0.9076\n",
      "Epoch 116/500\n",
      "713/713 [==============================] - ETA: 0s - loss: 0.2503 - accuracy: 0.9076WARNING:tensorflow:Can save best model only with val_accuracy available, skipping.\n"
     ]
    },
    {
     "name": "stderr",
     "output_type": "stream",
     "text": [
      "WARNING:tensorflow:Can save best model only with val_accuracy available, skipping.\n"
     ]
    },
    {
     "name": "stdout",
     "output_type": "stream",
     "text": [
      "713/713 [==============================] - 175s 244ms/step - loss: 0.2503 - accuracy: 0.9076\n",
      "Epoch 117/500\n",
      "713/713 [==============================] - ETA: 0s - loss: 0.2526 - accuracy: 0.9052WARNING:tensorflow:Can save best model only with val_accuracy available, skipping.\n"
     ]
    },
    {
     "name": "stderr",
     "output_type": "stream",
     "text": [
      "WARNING:tensorflow:Can save best model only with val_accuracy available, skipping.\n"
     ]
    },
    {
     "name": "stdout",
     "output_type": "stream",
     "text": [
      "713/713 [==============================] - 169s 235ms/step - loss: 0.2526 - accuracy: 0.9052\n",
      "Epoch 118/500\n",
      "713/713 [==============================] - ETA: 0s - loss: 0.2483 - accuracy: 0.9059WARNING:tensorflow:Can save best model only with val_accuracy available, skipping.\n"
     ]
    },
    {
     "name": "stderr",
     "output_type": "stream",
     "text": [
      "WARNING:tensorflow:Can save best model only with val_accuracy available, skipping.\n"
     ]
    },
    {
     "name": "stdout",
     "output_type": "stream",
     "text": [
      "713/713 [==============================] - 166s 231ms/step - loss: 0.2483 - accuracy: 0.9059\n",
      "Epoch 119/500\n",
      "713/713 [==============================] - ETA: 0s - loss: 0.2479 - accuracy: 0.9067WARNING:tensorflow:Can save best model only with val_accuracy available, skipping.\n"
     ]
    },
    {
     "name": "stderr",
     "output_type": "stream",
     "text": [
      "WARNING:tensorflow:Can save best model only with val_accuracy available, skipping.\n"
     ]
    },
    {
     "name": "stdout",
     "output_type": "stream",
     "text": [
      "713/713 [==============================] - 172s 240ms/step - loss: 0.2479 - accuracy: 0.9067\n",
      "Epoch 120/500\n",
      "713/713 [==============================] - 194s 271ms/step - loss: 0.2434 - accuracy: 0.9075 - val_loss: 1.5738 - val_accuracy: 0.7511\n",
      "Epoch 121/500\n",
      "713/713 [==============================] - ETA: 0s - loss: 0.2503 - accuracy: 0.9064WARNING:tensorflow:Can save best model only with val_accuracy available, skipping.\n"
     ]
    },
    {
     "name": "stderr",
     "output_type": "stream",
     "text": [
      "WARNING:tensorflow:Can save best model only with val_accuracy available, skipping.\n"
     ]
    },
    {
     "name": "stdout",
     "output_type": "stream",
     "text": [
      "713/713 [==============================] - 172s 241ms/step - loss: 0.2503 - accuracy: 0.9064\n",
      "Epoch 122/500\n",
      "713/713 [==============================] - ETA: 0s - loss: 0.2477 - accuracy: 0.9067WARNING:tensorflow:Can save best model only with val_accuracy available, skipping.\n"
     ]
    },
    {
     "name": "stderr",
     "output_type": "stream",
     "text": [
      "WARNING:tensorflow:Can save best model only with val_accuracy available, skipping.\n"
     ]
    },
    {
     "name": "stdout",
     "output_type": "stream",
     "text": [
      "713/713 [==============================] - 182s 254ms/step - loss: 0.2477 - accuracy: 0.9067\n",
      "Epoch 123/500\n",
      "713/713 [==============================] - ETA: 0s - loss: 0.2474 - accuracy: 0.9077WARNING:tensorflow:Can save best model only with val_accuracy available, skipping.\n"
     ]
    },
    {
     "name": "stderr",
     "output_type": "stream",
     "text": [
      "WARNING:tensorflow:Can save best model only with val_accuracy available, skipping.\n"
     ]
    },
    {
     "name": "stdout",
     "output_type": "stream",
     "text": [
      "713/713 [==============================] - 190s 265ms/step - loss: 0.2474 - accuracy: 0.9077\n",
      "Epoch 124/500\n",
      "453/713 [==================>...........] - ETA: 1:10 - loss: 0.2382 - accuracy: 0.9089"
     ]
    },
    {
     "name": "stderr",
     "output_type": "stream",
     "text": [
      "2023-09-01 01:00:06.728123: W tensorflow/core/framework/op_kernel.cc:1818] UNKNOWN: OSError: [Errno 28] No space left on device\n",
      "Traceback (most recent call last):\n",
      "\n",
      "  File \"/Users/butler/anaconda3/envs/CNN/lib/python3.9/site-packages/PIL/Image.py\", line 2431, in save\n",
      "    save_handler(self, fp, filename)\n",
      "\n",
      "  File \"/Users/butler/anaconda3/envs/CNN/lib/python3.9/site-packages/PIL/PngImagePlugin.py\", line 1434, in _save\n",
      "    fp.flush()\n",
      "\n",
      "OSError: [Errno 28] No space left on device\n",
      "\n",
      "\n",
      "During handling of the above exception, another exception occurred:\n",
      "\n",
      "\n",
      "Traceback (most recent call last):\n",
      "\n",
      "  File \"/Users/butler/anaconda3/envs/CNN/lib/python3.9/site-packages/tensorflow/python/ops/script_ops.py\", line 267, in __call__\n",
      "    ret = func(*args)\n",
      "\n",
      "  File \"/Users/butler/anaconda3/envs/CNN/lib/python3.9/site-packages/tensorflow/python/autograph/impl/api.py\", line 642, in wrapper\n",
      "    return func(*args, **kwargs)\n",
      "\n",
      "  File \"/Users/butler/anaconda3/envs/CNN/lib/python3.9/site-packages/tensorflow/python/data/ops/from_generator_op.py\", line 198, in generator_py_func\n",
      "    values = next(generator_state.get_iterator(iterator_id))\n",
      "\n",
      "  File \"/Users/butler/anaconda3/envs/CNN/lib/python3.9/site-packages/keras/engine/data_adapter.py\", line 902, in wrapped_generator\n",
      "    for data in generator_fn():\n",
      "\n",
      "  File \"/Users/butler/anaconda3/envs/CNN/lib/python3.9/site-packages/keras/engine/data_adapter.py\", line 1049, in generator_fn\n",
      "    yield x[i]\n",
      "\n",
      "  File \"/Users/butler/anaconda3/envs/CNN/lib/python3.9/site-packages/keras/preprocessing/image.py\", line 116, in __getitem__\n",
      "    return self._get_batches_of_transformed_samples(index_array)\n",
      "\n",
      "  File \"/Users/butler/anaconda3/envs/CNN/lib/python3.9/site-packages/keras/preprocessing/image.py\", line 399, in _get_batches_of_transformed_samples\n",
      "    img.save(os.path.join(self.save_to_dir, fname))\n",
      "\n",
      "  File \"/Users/butler/anaconda3/envs/CNN/lib/python3.9/site-packages/PIL/Image.py\", line 2434, in save\n",
      "    fp.close()\n",
      "\n",
      "OSError: [Errno 28] No space left on device\n",
      "\n",
      "\n",
      "2023-09-01 01:00:06.728160: I tensorflow/core/common_runtime/executor.cc:1197] [/job:localhost/replica:0/task:0/device:CPU:0] (DEBUG INFO) Executor start aborting (this does not indicate an error and you can ignore this message): UNKNOWN: OSError: [Errno 28] No space left on device\n",
      "Traceback (most recent call last):\n",
      "\n",
      "  File \"/Users/butler/anaconda3/envs/CNN/lib/python3.9/site-packages/PIL/Image.py\", line 2431, in save\n",
      "    save_handler(self, fp, filename)\n",
      "\n",
      "  File \"/Users/butler/anaconda3/envs/CNN/lib/python3.9/site-packages/PIL/PngImagePlugin.py\", line 1434, in _save\n",
      "    fp.flush()\n",
      "\n",
      "OSError: [Errno 28] No space left on device\n",
      "\n",
      "\n",
      "During handling of the above exception, another exception occurred:\n",
      "\n",
      "\n",
      "Traceback (most recent call last):\n",
      "\n",
      "  File \"/Users/butler/anaconda3/envs/CNN/lib/python3.9/site-packages/tensorflow/python/ops/script_ops.py\", line 267, in __call__\n",
      "    ret = func(*args)\n",
      "\n",
      "  File \"/Users/butler/anaconda3/envs/CNN/lib/python3.9/site-packages/tensorflow/python/autograph/impl/api.py\", line 642, in wrapper\n",
      "    return func(*args, **kwargs)\n",
      "\n",
      "  File \"/Users/butler/anaconda3/envs/CNN/lib/python3.9/site-packages/tensorflow/python/data/ops/from_generator_op.py\", line 198, in generator_py_func\n",
      "    values = next(generator_state.get_iterator(iterator_id))\n",
      "\n",
      "  File \"/Users/butler/anaconda3/envs/CNN/lib/python3.9/site-packages/keras/engine/data_adapter.py\", line 902, in wrapped_generator\n",
      "    for data in generator_fn():\n",
      "\n",
      "  File \"/Users/butler/anaconda3/envs/CNN/lib/python3.9/site-packages/keras/engine/data_adapter.py\", line 1049, in generator_fn\n",
      "    yield x[i]\n",
      "\n",
      "  File \"/Users/butler/anaconda3/envs/CNN/lib/python3.9/site-packages/keras/preprocessing/image.py\", line 116, in __getitem__\n",
      "    return self._get_batches_of_transformed_samples(index_array)\n",
      "\n",
      "  File \"/Users/butler/anaconda3/envs/CNN/lib/python3.9/site-packages/keras/preprocessing/image.py\", line 399, in _get_batches_of_transformed_samples\n",
      "    img.save(os.path.join(self.save_to_dir, fname))\n",
      "\n",
      "  File \"/Users/butler/anaconda3/envs/CNN/lib/python3.9/site-packages/PIL/Image.py\", line 2434, in save\n",
      "    fp.close()\n",
      "\n",
      "OSError: [Errno 28] No space left on device\n",
      "\n",
      "\n",
      "\t [[{{node PyFunc}}]]\n",
      "2023-09-01 01:00:06.728243: I tensorflow/core/common_runtime/executor.cc:1197] [/job:localhost/replica:0/task:0/device:CPU:0] (DEBUG INFO) Executor start aborting (this does not indicate an error and you can ignore this message): UNKNOWN: OSError: [Errno 28] No space left on device\n",
      "Traceback (most recent call last):\n",
      "\n",
      "  File \"/Users/butler/anaconda3/envs/CNN/lib/python3.9/site-packages/PIL/Image.py\", line 2431, in save\n",
      "    save_handler(self, fp, filename)\n",
      "\n",
      "  File \"/Users/butler/anaconda3/envs/CNN/lib/python3.9/site-packages/PIL/PngImagePlugin.py\", line 1434, in _save\n",
      "    fp.flush()\n",
      "\n",
      "OSError: [Errno 28] No space left on device\n",
      "\n",
      "\n",
      "During handling of the above exception, another exception occurred:\n",
      "\n",
      "\n",
      "Traceback (most recent call last):\n",
      "\n",
      "  File \"/Users/butler/anaconda3/envs/CNN/lib/python3.9/site-packages/tensorflow/python/ops/script_ops.py\", line 267, in __call__\n",
      "    ret = func(*args)\n",
      "\n",
      "  File \"/Users/butler/anaconda3/envs/CNN/lib/python3.9/site-packages/tensorflow/python/autograph/impl/api.py\", line 642, in wrapper\n",
      "    return func(*args, **kwargs)\n",
      "\n",
      "  File \"/Users/butler/anaconda3/envs/CNN/lib/python3.9/site-packages/tensorflow/python/data/ops/from_generator_op.py\", line 198, in generator_py_func\n",
      "    values = next(generator_state.get_iterator(iterator_id))\n",
      "\n",
      "  File \"/Users/butler/anaconda3/envs/CNN/lib/python3.9/site-packages/keras/engine/data_adapter.py\", line 902, in wrapped_generator\n",
      "    for data in generator_fn():\n",
      "\n",
      "  File \"/Users/butler/anaconda3/envs/CNN/lib/python3.9/site-packages/keras/engine/data_adapter.py\", line 1049, in generator_fn\n",
      "    yield x[i]\n",
      "\n",
      "  File \"/Users/butler/anaconda3/envs/CNN/lib/python3.9/site-packages/keras/preprocessing/image.py\", line 116, in __getitem__\n",
      "    return self._get_batches_of_transformed_samples(index_array)\n",
      "\n",
      "  File \"/Users/butler/anaconda3/envs/CNN/lib/python3.9/site-packages/keras/preprocessing/image.py\", line 399, in _get_batches_of_transformed_samples\n",
      "    img.save(os.path.join(self.save_to_dir, fname))\n",
      "\n",
      "  File \"/Users/butler/anaconda3/envs/CNN/lib/python3.9/site-packages/PIL/Image.py\", line 2434, in save\n",
      "    fp.close()\n",
      "\n",
      "OSError: [Errno 28] No space left on device\n",
      "\n",
      "\n",
      "\t [[{{node PyFunc}}]]\n",
      "\t [[IteratorGetNext]]\n"
     ]
    },
    {
     "ename": "UnknownError",
     "evalue": "Graph execution error:\n\nOSError: [Errno 28] No space left on device\nTraceback (most recent call last):\n\n  File \"/Users/butler/anaconda3/envs/CNN/lib/python3.9/site-packages/PIL/Image.py\", line 2431, in save\n    save_handler(self, fp, filename)\n\n  File \"/Users/butler/anaconda3/envs/CNN/lib/python3.9/site-packages/PIL/PngImagePlugin.py\", line 1434, in _save\n    fp.flush()\n\nOSError: [Errno 28] No space left on device\n\n\nDuring handling of the above exception, another exception occurred:\n\n\nTraceback (most recent call last):\n\n  File \"/Users/butler/anaconda3/envs/CNN/lib/python3.9/site-packages/tensorflow/python/ops/script_ops.py\", line 267, in __call__\n    ret = func(*args)\n\n  File \"/Users/butler/anaconda3/envs/CNN/lib/python3.9/site-packages/tensorflow/python/autograph/impl/api.py\", line 642, in wrapper\n    return func(*args, **kwargs)\n\n  File \"/Users/butler/anaconda3/envs/CNN/lib/python3.9/site-packages/tensorflow/python/data/ops/from_generator_op.py\", line 198, in generator_py_func\n    values = next(generator_state.get_iterator(iterator_id))\n\n  File \"/Users/butler/anaconda3/envs/CNN/lib/python3.9/site-packages/keras/engine/data_adapter.py\", line 902, in wrapped_generator\n    for data in generator_fn():\n\n  File \"/Users/butler/anaconda3/envs/CNN/lib/python3.9/site-packages/keras/engine/data_adapter.py\", line 1049, in generator_fn\n    yield x[i]\n\n  File \"/Users/butler/anaconda3/envs/CNN/lib/python3.9/site-packages/keras/preprocessing/image.py\", line 116, in __getitem__\n    return self._get_batches_of_transformed_samples(index_array)\n\n  File \"/Users/butler/anaconda3/envs/CNN/lib/python3.9/site-packages/keras/preprocessing/image.py\", line 399, in _get_batches_of_transformed_samples\n    img.save(os.path.join(self.save_to_dir, fname))\n\n  File \"/Users/butler/anaconda3/envs/CNN/lib/python3.9/site-packages/PIL/Image.py\", line 2434, in save\n    fp.close()\n\nOSError: [Errno 28] No space left on device\n\n\n\t [[{{node PyFunc}}]]\n\t [[IteratorGetNext]] [Op:__inference_train_function_2703]",
     "output_type": "error",
     "traceback": [
      "\u001b[0;31m---------------------------------------------------------------------------\u001b[0m",
      "\u001b[0;31mUnknownError\u001b[0m                              Traceback (most recent call last)",
      "Cell \u001b[0;32mIn[36], line 1\u001b[0m\n\u001b[0;32m----> 1\u001b[0m history \u001b[38;5;241m=\u001b[39m \u001b[43mloaded_model\u001b[49m\u001b[38;5;241;43m.\u001b[39;49m\u001b[43mfit\u001b[49m\u001b[43m(\u001b[49m\n\u001b[1;32m      2\u001b[0m \u001b[43m    \u001b[49m\u001b[43mx\u001b[49m\u001b[38;5;241;43m=\u001b[39;49m\u001b[43mtrain_data\u001b[49m\u001b[43m,\u001b[49m\n\u001b[1;32m      3\u001b[0m \u001b[43m    \u001b[49m\u001b[43my\u001b[49m\u001b[38;5;241;43m=\u001b[39;49m\u001b[38;5;28;43;01mNone\u001b[39;49;00m\u001b[43m,\u001b[49m\n\u001b[1;32m      4\u001b[0m \u001b[43m    \u001b[49m\u001b[43mvalidation_data\u001b[49m\u001b[38;5;241;43m=\u001b[39;49m\u001b[43m \u001b[49m\u001b[43mval_data\u001b[49m\u001b[43m,\u001b[49m\n\u001b[1;32m      5\u001b[0m \u001b[43m    \u001b[49m\u001b[43mepochs\u001b[49m\u001b[38;5;241;43m=\u001b[39;49m\u001b[43mepochs\u001b[49m\u001b[43m,\u001b[49m\n\u001b[1;32m      6\u001b[0m \u001b[43m    \u001b[49m\u001b[43mverbose\u001b[49m\u001b[38;5;241;43m=\u001b[39;49m\u001b[38;5;124;43m\"\u001b[39;49m\u001b[38;5;124;43mauto\u001b[39;49m\u001b[38;5;124;43m\"\u001b[39;49m\u001b[43m,\u001b[49m\n\u001b[1;32m      7\u001b[0m \u001b[43m    \u001b[49m\u001b[43mcallbacks\u001b[49m\u001b[38;5;241;43m=\u001b[39;49m\u001b[43mcallbacks\u001b[49m\u001b[43m,\u001b[49m\n\u001b[1;32m      8\u001b[0m \u001b[43m    \u001b[49m\u001b[43mvalidation_split\u001b[49m\u001b[38;5;241;43m=\u001b[39;49m\u001b[38;5;241;43m0.0\u001b[39;49m\u001b[43m,\u001b[49m\n\u001b[1;32m      9\u001b[0m \u001b[43m    \u001b[49m\u001b[43mshuffle\u001b[49m\u001b[38;5;241;43m=\u001b[39;49m\u001b[38;5;28;43;01mTrue\u001b[39;49;00m\u001b[43m,\u001b[49m\n\u001b[1;32m     10\u001b[0m \u001b[43m    \u001b[49m\u001b[43mvalidation_freq\u001b[49m\u001b[38;5;241;43m=\u001b[39;49m\u001b[38;5;241;43m10\u001b[39;49m\u001b[43m,\u001b[49m\n\u001b[1;32m     11\u001b[0m \u001b[43m    \u001b[49m\u001b[43m)\u001b[49m\n",
      "File \u001b[0;32m~/anaconda3/envs/CNN/lib/python3.9/site-packages/keras/utils/traceback_utils.py:70\u001b[0m, in \u001b[0;36mfilter_traceback.<locals>.error_handler\u001b[0;34m(*args, **kwargs)\u001b[0m\n\u001b[1;32m     67\u001b[0m     filtered_tb \u001b[38;5;241m=\u001b[39m _process_traceback_frames(e\u001b[38;5;241m.\u001b[39m__traceback__)\n\u001b[1;32m     68\u001b[0m     \u001b[38;5;66;03m# To get the full stack trace, call:\u001b[39;00m\n\u001b[1;32m     69\u001b[0m     \u001b[38;5;66;03m# `tf.debugging.disable_traceback_filtering()`\u001b[39;00m\n\u001b[0;32m---> 70\u001b[0m     \u001b[38;5;28;01mraise\u001b[39;00m e\u001b[38;5;241m.\u001b[39mwith_traceback(filtered_tb) \u001b[38;5;28;01mfrom\u001b[39;00m \u001b[38;5;28;01mNone\u001b[39;00m\n\u001b[1;32m     71\u001b[0m \u001b[38;5;28;01mfinally\u001b[39;00m:\n\u001b[1;32m     72\u001b[0m     \u001b[38;5;28;01mdel\u001b[39;00m filtered_tb\n",
      "File \u001b[0;32m~/anaconda3/envs/CNN/lib/python3.9/site-packages/tensorflow/python/eager/execute.py:52\u001b[0m, in \u001b[0;36mquick_execute\u001b[0;34m(op_name, num_outputs, inputs, attrs, ctx, name)\u001b[0m\n\u001b[1;32m     50\u001b[0m \u001b[38;5;28;01mtry\u001b[39;00m:\n\u001b[1;32m     51\u001b[0m   ctx\u001b[38;5;241m.\u001b[39mensure_initialized()\n\u001b[0;32m---> 52\u001b[0m   tensors \u001b[38;5;241m=\u001b[39m pywrap_tfe\u001b[38;5;241m.\u001b[39mTFE_Py_Execute(ctx\u001b[38;5;241m.\u001b[39m_handle, device_name, op_name,\n\u001b[1;32m     53\u001b[0m                                       inputs, attrs, num_outputs)\n\u001b[1;32m     54\u001b[0m \u001b[38;5;28;01mexcept\u001b[39;00m core\u001b[38;5;241m.\u001b[39m_NotOkStatusException \u001b[38;5;28;01mas\u001b[39;00m e:\n\u001b[1;32m     55\u001b[0m   \u001b[38;5;28;01mif\u001b[39;00m name \u001b[38;5;129;01mis\u001b[39;00m \u001b[38;5;129;01mnot\u001b[39;00m \u001b[38;5;28;01mNone\u001b[39;00m:\n",
      "\u001b[0;31mUnknownError\u001b[0m: Graph execution error:\n\nOSError: [Errno 28] No space left on device\nTraceback (most recent call last):\n\n  File \"/Users/butler/anaconda3/envs/CNN/lib/python3.9/site-packages/PIL/Image.py\", line 2431, in save\n    save_handler(self, fp, filename)\n\n  File \"/Users/butler/anaconda3/envs/CNN/lib/python3.9/site-packages/PIL/PngImagePlugin.py\", line 1434, in _save\n    fp.flush()\n\nOSError: [Errno 28] No space left on device\n\n\nDuring handling of the above exception, another exception occurred:\n\n\nTraceback (most recent call last):\n\n  File \"/Users/butler/anaconda3/envs/CNN/lib/python3.9/site-packages/tensorflow/python/ops/script_ops.py\", line 267, in __call__\n    ret = func(*args)\n\n  File \"/Users/butler/anaconda3/envs/CNN/lib/python3.9/site-packages/tensorflow/python/autograph/impl/api.py\", line 642, in wrapper\n    return func(*args, **kwargs)\n\n  File \"/Users/butler/anaconda3/envs/CNN/lib/python3.9/site-packages/tensorflow/python/data/ops/from_generator_op.py\", line 198, in generator_py_func\n    values = next(generator_state.get_iterator(iterator_id))\n\n  File \"/Users/butler/anaconda3/envs/CNN/lib/python3.9/site-packages/keras/engine/data_adapter.py\", line 902, in wrapped_generator\n    for data in generator_fn():\n\n  File \"/Users/butler/anaconda3/envs/CNN/lib/python3.9/site-packages/keras/engine/data_adapter.py\", line 1049, in generator_fn\n    yield x[i]\n\n  File \"/Users/butler/anaconda3/envs/CNN/lib/python3.9/site-packages/keras/preprocessing/image.py\", line 116, in __getitem__\n    return self._get_batches_of_transformed_samples(index_array)\n\n  File \"/Users/butler/anaconda3/envs/CNN/lib/python3.9/site-packages/keras/preprocessing/image.py\", line 399, in _get_batches_of_transformed_samples\n    img.save(os.path.join(self.save_to_dir, fname))\n\n  File \"/Users/butler/anaconda3/envs/CNN/lib/python3.9/site-packages/PIL/Image.py\", line 2434, in save\n    fp.close()\n\nOSError: [Errno 28] No space left on device\n\n\n\t [[{{node PyFunc}}]]\n\t [[IteratorGetNext]] [Op:__inference_train_function_2703]"
     ]
    }
   ],
   "source": [
    "history = loaded_model.fit(\n",
    "    x=train_data,\n",
    "    y=None,\n",
    "    validation_data= val_data,\n",
    "    epochs=epochs,\n",
    "    verbose=\"auto\",\n",
    "    callbacks=callbacks,\n",
    "    validation_split=0.0,\n",
    "    shuffle=True,\n",
    "    validation_freq=10,\n",
    "    )"
   ]
  },
  {
   "cell_type": "code",
   "execution_count": 37,
   "metadata": {
    "id": "vTv5vk-wfM7W"
   },
   "outputs": [
    {
     "name": "stderr",
     "output_type": "stream",
     "text": [
      "2023-09-01 06:27:26.552536: I tensorflow/core/common_runtime/executor.cc:1197] [/device:CPU:0] (DEBUG INFO) Executor start aborting (this does not indicate an error and you can ignore this message): INVALID_ARGUMENT: You must feed a value for placeholder tensor 'Placeholder/_0' with dtype int32\n",
      "\t [[{{node Placeholder/_0}}]]\n"
     ]
    },
    {
     "name": "stdout",
     "output_type": "stream",
     "text": [
      "accuracy: 75.67%\n"
     ]
    }
   ],
   "source": [
    "scores = loaded_model.evaluate(x=val_generator, y=None, verbose=0)\n",
    "print(\"%s: %.2f%%\" % (loaded_model.metrics_names[1], scores[1]*100))"
   ]
  },
  {
   "cell_type": "code",
   "execution_count": 38,
   "metadata": {
    "id": "4wUZJxjvyEG7"
   },
   "outputs": [],
   "source": [
    "loaded_model.save('model.keras')"
   ]
  },
  {
   "cell_type": "code",
   "execution_count": 41,
   "metadata": {
    "id": "NCkyoUFdoNJq"
   },
   "outputs": [],
   "source": [
    "#!pip install h5py\n",
    "# serialize model to JSON\n",
    "loaded_model_json = loaded_model.to_json()\n",
    "with open('/Users/butler/Documents/hp/Retrieval_of_Indian_clothing_images/models/model20230831.json', 'w') as json_file:\n",
    "    json_file.write(loaded_model_json)\n",
    "# serialize weights to HDF5\n",
    "loaded_model.save_weights('/Users/butler/Documents/hp/Retrieval_of_Indian_clothing_images/models/model20230831.h5')"
   ]
  },
  {
   "cell_type": "code",
   "execution_count": 4,
   "metadata": {
    "id": "yu9DTUtFhpbh"
   },
   "outputs": [],
   "source": []
  },
  {
   "cell_type": "code",
   "execution_count": 30,
   "metadata": {},
   "outputs": [],
   "source": [
    "json_file = open('/Users/butler/Documents/hp/Retrieval_of_Indian_clothing_images/models/model20230831.json', 'r')\n",
    "loaded_model2_json = json_file.read()\n",
    "json_file.close()\n",
    "loaded_model2 = model_from_json(loaded_model2_json)"
   ]
  },
  {
   "cell_type": "code",
   "execution_count": 31,
   "metadata": {},
   "outputs": [
    {
     "name": "stdout",
     "output_type": "stream",
     "text": [
      "Loaded model from disk\n"
     ]
    }
   ],
   "source": [
    "loaded_model2.load_weights('/Users/butler/Documents/hp/Retrieval_of_Indian_clothing_images/models/model20230831.h5')\n",
    "print(\"Loaded model from disk\")"
   ]
  },
  {
   "cell_type": "code",
   "execution_count": null,
   "metadata": {},
   "outputs": [],
   "source": []
  },
  {
   "cell_type": "code",
   "execution_count": 32,
   "metadata": {
    "id": "RihJCuyqv42c"
   },
   "outputs": [],
   "source": [
    "# Setting up model\n",
    "img_width, img_height = 32, 32\n",
    "\n",
    "train_data = train_generator\n",
    "val_data = val_generator\n",
    "nb_train_samples = 91166\n",
    "nb_validation_samples = 7500\n",
    "epochs = 500\n",
    "batch_size = 64\n",
    "n_classes = 15\n",
    "\n",
    "input_shape = (img_width, img_height, 3)"
   ]
  },
  {
   "cell_type": "code",
   "execution_count": 33,
   "metadata": {},
   "outputs": [],
   "source": [
    "callbacks = [\n",
    "    keras.callbacks.ModelCheckpoint(\n",
    "        filepath='/Users/butler/Documents/hp/Retrieval_of_Indian_clothing_images/models/model',\n",
    "        save_best_only=True,\n",
    "        monitor='val_accuracy'\n",
    "    )\n",
    "]"
   ]
  },
  {
   "cell_type": "code",
   "execution_count": 34,
   "metadata": {},
   "outputs": [],
   "source": [
    "loaded_model2.compile(loss='categorical_crossentropy', optimizer='adam', metrics=['accuracy'])"
   ]
  },
  {
   "cell_type": "code",
   "execution_count": 35,
   "metadata": {},
   "outputs": [
    {
     "name": "stdout",
     "output_type": "stream",
     "text": [
      "Epoch 1/500\n",
      "713/713 [==============================] - ETA: 0s - loss: 0.2459 - accuracy: 0.9092WARNING:tensorflow:Can save best model only with val_accuracy available, skipping.\n",
      "713/713 [==============================] - 193s 270ms/step - loss: 0.2459 - accuracy: 0.9092\n",
      "Epoch 2/500\n",
      "713/713 [==============================] - ETA: 0s - loss: 0.2429 - accuracy: 0.9095WARNING:tensorflow:Can save best model only with val_accuracy available, skipping.\n",
      "713/713 [==============================] - 174s 244ms/step - loss: 0.2429 - accuracy: 0.9095\n",
      "Epoch 3/500\n",
      "713/713 [==============================] - ETA: 0s - loss: 0.2412 - accuracy: 0.9102WARNING:tensorflow:Can save best model only with val_accuracy available, skipping.\n",
      "713/713 [==============================] - 164s 230ms/step - loss: 0.2412 - accuracy: 0.9102\n",
      "Epoch 4/500\n",
      "713/713 [==============================] - ETA: 0s - loss: 0.2483 - accuracy: 0.9062WARNING:tensorflow:Can save best model only with val_accuracy available, skipping.\n",
      "713/713 [==============================] - 173s 243ms/step - loss: 0.2483 - accuracy: 0.9062\n",
      "Epoch 5/500\n",
      "713/713 [==============================] - ETA: 0s - loss: 0.2415 - accuracy: 0.9087WARNING:tensorflow:Can save best model only with val_accuracy available, skipping.\n",
      "713/713 [==============================] - 206s 289ms/step - loss: 0.2415 - accuracy: 0.9087\n",
      "Epoch 6/500\n",
      "713/713 [==============================] - ETA: 0s - loss: 0.2465 - accuracy: 0.9073WARNING:tensorflow:Can save best model only with val_accuracy available, skipping.\n",
      "713/713 [==============================] - 213s 299ms/step - loss: 0.2465 - accuracy: 0.9073\n",
      "Epoch 7/500\n",
      "713/713 [==============================] - ETA: 0s - loss: 0.2423 - accuracy: 0.9082WARNING:tensorflow:Can save best model only with val_accuracy available, skipping.\n",
      "713/713 [==============================] - 182s 255ms/step - loss: 0.2423 - accuracy: 0.9082\n",
      "Epoch 8/500\n",
      "713/713 [==============================] - ETA: 0s - loss: 0.2397 - accuracy: 0.9090WARNING:tensorflow:Can save best model only with val_accuracy available, skipping.\n",
      "713/713 [==============================] - 200s 280ms/step - loss: 0.2397 - accuracy: 0.9090\n",
      "Epoch 9/500\n",
      "713/713 [==============================] - ETA: 0s - loss: 0.2428 - accuracy: 0.9096WARNING:tensorflow:Can save best model only with val_accuracy available, skipping.\n",
      "713/713 [==============================] - 205s 287ms/step - loss: 0.2428 - accuracy: 0.9096\n",
      "Epoch 10/500\n",
      "713/713 [==============================] - ETA: 0s - loss: 0.2477 - accuracy: 0.9068INFO:tensorflow:Assets written to: /Users/butler/Documents/hp/Retrieval_of_Indian_clothing_images/models/model/assets\n"
     ]
    },
    {
     "name": "stderr",
     "output_type": "stream",
     "text": [
      "INFO:tensorflow:Assets written to: /Users/butler/Documents/hp/Retrieval_of_Indian_clothing_images/models/model/assets\n"
     ]
    },
    {
     "name": "stdout",
     "output_type": "stream",
     "text": [
      "713/713 [==============================] - 207s 290ms/step - loss: 0.2477 - accuracy: 0.9068 - val_loss: 1.6138 - val_accuracy: 0.7547\n",
      "Epoch 11/500\n",
      "713/713 [==============================] - ETA: 0s - loss: 0.2393 - accuracy: 0.9098WARNING:tensorflow:Can save best model only with val_accuracy available, skipping.\n"
     ]
    },
    {
     "name": "stderr",
     "output_type": "stream",
     "text": [
      "WARNING:tensorflow:Can save best model only with val_accuracy available, skipping.\n"
     ]
    },
    {
     "name": "stdout",
     "output_type": "stream",
     "text": [
      "713/713 [==============================] - 194s 272ms/step - loss: 0.2393 - accuracy: 0.9098\n",
      "Epoch 12/500\n",
      "713/713 [==============================] - ETA: 0s - loss: 0.2385 - accuracy: 0.9102WARNING:tensorflow:Can save best model only with val_accuracy available, skipping.\n"
     ]
    },
    {
     "name": "stderr",
     "output_type": "stream",
     "text": [
      "WARNING:tensorflow:Can save best model only with val_accuracy available, skipping.\n"
     ]
    },
    {
     "name": "stdout",
     "output_type": "stream",
     "text": [
      "713/713 [==============================] - 202s 283ms/step - loss: 0.2385 - accuracy: 0.9102\n",
      "Epoch 13/500\n",
      "713/713 [==============================] - ETA: 0s - loss: 0.2403 - accuracy: 0.9089WARNING:tensorflow:Can save best model only with val_accuracy available, skipping.\n"
     ]
    },
    {
     "name": "stderr",
     "output_type": "stream",
     "text": [
      "WARNING:tensorflow:Can save best model only with val_accuracy available, skipping.\n"
     ]
    },
    {
     "name": "stdout",
     "output_type": "stream",
     "text": [
      "713/713 [==============================] - 200s 281ms/step - loss: 0.2403 - accuracy: 0.9089\n",
      "Epoch 14/500\n",
      "713/713 [==============================] - ETA: 0s - loss: 0.2431 - accuracy: 0.9084WARNING:tensorflow:Can save best model only with val_accuracy available, skipping.\n"
     ]
    },
    {
     "name": "stderr",
     "output_type": "stream",
     "text": [
      "WARNING:tensorflow:Can save best model only with val_accuracy available, skipping.\n"
     ]
    },
    {
     "name": "stdout",
     "output_type": "stream",
     "text": [
      "713/713 [==============================] - 191s 268ms/step - loss: 0.2431 - accuracy: 0.9084\n",
      "Epoch 15/500\n",
      "713/713 [==============================] - ETA: 0s - loss: 0.2358 - accuracy: 0.9112WARNING:tensorflow:Can save best model only with val_accuracy available, skipping.\n"
     ]
    },
    {
     "name": "stderr",
     "output_type": "stream",
     "text": [
      "WARNING:tensorflow:Can save best model only with val_accuracy available, skipping.\n"
     ]
    },
    {
     "name": "stdout",
     "output_type": "stream",
     "text": [
      "713/713 [==============================] - 200s 280ms/step - loss: 0.2358 - accuracy: 0.9112\n",
      "Epoch 16/500\n",
      "713/713 [==============================] - ETA: 0s - loss: 0.2374 - accuracy: 0.9102WARNING:tensorflow:Can save best model only with val_accuracy available, skipping.\n"
     ]
    },
    {
     "name": "stderr",
     "output_type": "stream",
     "text": [
      "WARNING:tensorflow:Can save best model only with val_accuracy available, skipping.\n"
     ]
    },
    {
     "name": "stdout",
     "output_type": "stream",
     "text": [
      "713/713 [==============================] - 189s 265ms/step - loss: 0.2374 - accuracy: 0.9102\n",
      "Epoch 17/500\n",
      "713/713 [==============================] - ETA: 0s - loss: 0.2350 - accuracy: 0.9115WARNING:tensorflow:Can save best model only with val_accuracy available, skipping.\n"
     ]
    },
    {
     "name": "stderr",
     "output_type": "stream",
     "text": [
      "WARNING:tensorflow:Can save best model only with val_accuracy available, skipping.\n"
     ]
    },
    {
     "name": "stdout",
     "output_type": "stream",
     "text": [
      "713/713 [==============================] - 188s 263ms/step - loss: 0.2350 - accuracy: 0.9115\n",
      "Epoch 18/500\n",
      "713/713 [==============================] - ETA: 0s - loss: 0.2348 - accuracy: 0.9110WARNING:tensorflow:Can save best model only with val_accuracy available, skipping.\n"
     ]
    },
    {
     "name": "stderr",
     "output_type": "stream",
     "text": [
      "WARNING:tensorflow:Can save best model only with val_accuracy available, skipping.\n"
     ]
    },
    {
     "name": "stdout",
     "output_type": "stream",
     "text": [
      "713/713 [==============================] - 206s 289ms/step - loss: 0.2348 - accuracy: 0.9110\n",
      "Epoch 19/500\n",
      "713/713 [==============================] - ETA: 0s - loss: 0.2396 - accuracy: 0.9105WARNING:tensorflow:Can save best model only with val_accuracy available, skipping.\n"
     ]
    },
    {
     "name": "stderr",
     "output_type": "stream",
     "text": [
      "WARNING:tensorflow:Can save best model only with val_accuracy available, skipping.\n"
     ]
    },
    {
     "name": "stdout",
     "output_type": "stream",
     "text": [
      "713/713 [==============================] - 185s 260ms/step - loss: 0.2396 - accuracy: 0.9105\n",
      "Epoch 20/500\n",
      "713/713 [==============================] - ETA: 0s - loss: 0.2382 - accuracy: 0.9116INFO:tensorflow:Assets written to: /Users/butler/Documents/hp/Retrieval_of_Indian_clothing_images/models/model/assets\n"
     ]
    },
    {
     "name": "stderr",
     "output_type": "stream",
     "text": [
      "INFO:tensorflow:Assets written to: /Users/butler/Documents/hp/Retrieval_of_Indian_clothing_images/models/model/assets\n"
     ]
    },
    {
     "name": "stdout",
     "output_type": "stream",
     "text": [
      "713/713 [==============================] - 204s 287ms/step - loss: 0.2382 - accuracy: 0.9116 - val_loss: 1.5684 - val_accuracy: 0.7604\n",
      "Epoch 21/500\n",
      "713/713 [==============================] - ETA: 0s - loss: 0.2352 - accuracy: 0.9113WARNING:tensorflow:Can save best model only with val_accuracy available, skipping.\n"
     ]
    },
    {
     "name": "stderr",
     "output_type": "stream",
     "text": [
      "WARNING:tensorflow:Can save best model only with val_accuracy available, skipping.\n"
     ]
    },
    {
     "name": "stdout",
     "output_type": "stream",
     "text": [
      "713/713 [==============================] - 197s 276ms/step - loss: 0.2352 - accuracy: 0.9113\n",
      "Epoch 22/500\n",
      "713/713 [==============================] - ETA: 0s - loss: 0.2354 - accuracy: 0.9117WARNING:tensorflow:Can save best model only with val_accuracy available, skipping.\n"
     ]
    },
    {
     "name": "stderr",
     "output_type": "stream",
     "text": [
      "WARNING:tensorflow:Can save best model only with val_accuracy available, skipping.\n"
     ]
    },
    {
     "name": "stdout",
     "output_type": "stream",
     "text": [
      "713/713 [==============================] - 201s 282ms/step - loss: 0.2354 - accuracy: 0.9117\n",
      "Epoch 23/500\n",
      "713/713 [==============================] - ETA: 0s - loss: 0.2368 - accuracy: 0.9116WARNING:tensorflow:Can save best model only with val_accuracy available, skipping.\n"
     ]
    },
    {
     "name": "stderr",
     "output_type": "stream",
     "text": [
      "WARNING:tensorflow:Can save best model only with val_accuracy available, skipping.\n"
     ]
    },
    {
     "name": "stdout",
     "output_type": "stream",
     "text": [
      "713/713 [==============================] - 198s 278ms/step - loss: 0.2368 - accuracy: 0.9116\n",
      "Epoch 24/500\n",
      "713/713 [==============================] - ETA: 0s - loss: 0.2368 - accuracy: 0.9112WARNING:tensorflow:Can save best model only with val_accuracy available, skipping.\n"
     ]
    },
    {
     "name": "stderr",
     "output_type": "stream",
     "text": [
      "WARNING:tensorflow:Can save best model only with val_accuracy available, skipping.\n"
     ]
    },
    {
     "name": "stdout",
     "output_type": "stream",
     "text": [
      "713/713 [==============================] - 204s 286ms/step - loss: 0.2368 - accuracy: 0.9112\n",
      "Epoch 25/500\n",
      "713/713 [==============================] - ETA: 0s - loss: 0.2319 - accuracy: 0.9121WARNING:tensorflow:Can save best model only with val_accuracy available, skipping.\n"
     ]
    },
    {
     "name": "stderr",
     "output_type": "stream",
     "text": [
      "WARNING:tensorflow:Can save best model only with val_accuracy available, skipping.\n"
     ]
    },
    {
     "name": "stdout",
     "output_type": "stream",
     "text": [
      "713/713 [==============================] - 187s 262ms/step - loss: 0.2319 - accuracy: 0.9121\n",
      "Epoch 26/500\n",
      "713/713 [==============================] - ETA: 0s - loss: 0.2398 - accuracy: 0.9099WARNING:tensorflow:Can save best model only with val_accuracy available, skipping.\n"
     ]
    },
    {
     "name": "stderr",
     "output_type": "stream",
     "text": [
      "WARNING:tensorflow:Can save best model only with val_accuracy available, skipping.\n"
     ]
    },
    {
     "name": "stdout",
     "output_type": "stream",
     "text": [
      "713/713 [==============================] - 193s 270ms/step - loss: 0.2398 - accuracy: 0.9099\n",
      "Epoch 27/500\n",
      "713/713 [==============================] - ETA: 0s - loss: 0.2361 - accuracy: 0.9116WARNING:tensorflow:Can save best model only with val_accuracy available, skipping.\n"
     ]
    },
    {
     "name": "stderr",
     "output_type": "stream",
     "text": [
      "WARNING:tensorflow:Can save best model only with val_accuracy available, skipping.\n"
     ]
    },
    {
     "name": "stdout",
     "output_type": "stream",
     "text": [
      "713/713 [==============================] - 184s 257ms/step - loss: 0.2361 - accuracy: 0.9116\n",
      "Epoch 28/500\n",
      "713/713 [==============================] - ETA: 0s - loss: 0.2375 - accuracy: 0.9109WARNING:tensorflow:Can save best model only with val_accuracy available, skipping.\n"
     ]
    },
    {
     "name": "stderr",
     "output_type": "stream",
     "text": [
      "WARNING:tensorflow:Can save best model only with val_accuracy available, skipping.\n"
     ]
    },
    {
     "name": "stdout",
     "output_type": "stream",
     "text": [
      "713/713 [==============================] - 200s 281ms/step - loss: 0.2375 - accuracy: 0.9109\n",
      "Epoch 29/500\n",
      "713/713 [==============================] - ETA: 0s - loss: 0.2336 - accuracy: 0.9117WARNING:tensorflow:Can save best model only with val_accuracy available, skipping.\n"
     ]
    },
    {
     "name": "stderr",
     "output_type": "stream",
     "text": [
      "WARNING:tensorflow:Can save best model only with val_accuracy available, skipping.\n"
     ]
    },
    {
     "name": "stdout",
     "output_type": "stream",
     "text": [
      "713/713 [==============================] - 193s 270ms/step - loss: 0.2336 - accuracy: 0.9117\n",
      "Epoch 30/500\n",
      "713/713 [==============================] - 214s 301ms/step - loss: 0.2363 - accuracy: 0.9102 - val_loss: 1.7005 - val_accuracy: 0.7569\n",
      "Epoch 31/500\n",
      "713/713 [==============================] - ETA: 0s - loss: 0.2275 - accuracy: 0.9142WARNING:tensorflow:Can save best model only with val_accuracy available, skipping.\n"
     ]
    },
    {
     "name": "stderr",
     "output_type": "stream",
     "text": [
      "WARNING:tensorflow:Can save best model only with val_accuracy available, skipping.\n"
     ]
    },
    {
     "name": "stdout",
     "output_type": "stream",
     "text": [
      "713/713 [==============================] - 201s 282ms/step - loss: 0.2275 - accuracy: 0.9142\n",
      "Epoch 32/500\n",
      "713/713 [==============================] - ETA: 0s - loss: 0.2272 - accuracy: 0.9142WARNING:tensorflow:Can save best model only with val_accuracy available, skipping.\n"
     ]
    },
    {
     "name": "stderr",
     "output_type": "stream",
     "text": [
      "WARNING:tensorflow:Can save best model only with val_accuracy available, skipping.\n"
     ]
    },
    {
     "name": "stdout",
     "output_type": "stream",
     "text": [
      "713/713 [==============================] - 210s 295ms/step - loss: 0.2272 - accuracy: 0.9142\n",
      "Epoch 33/500\n",
      "713/713 [==============================] - ETA: 0s - loss: 0.2387 - accuracy: 0.9105WARNING:tensorflow:Can save best model only with val_accuracy available, skipping.\n"
     ]
    },
    {
     "name": "stderr",
     "output_type": "stream",
     "text": [
      "WARNING:tensorflow:Can save best model only with val_accuracy available, skipping.\n"
     ]
    },
    {
     "name": "stdout",
     "output_type": "stream",
     "text": [
      "713/713 [==============================] - 187s 263ms/step - loss: 0.2387 - accuracy: 0.9105\n",
      "Epoch 34/500\n",
      "713/713 [==============================] - ETA: 0s - loss: 0.2362 - accuracy: 0.9120WARNING:tensorflow:Can save best model only with val_accuracy available, skipping.\n"
     ]
    },
    {
     "name": "stderr",
     "output_type": "stream",
     "text": [
      "WARNING:tensorflow:Can save best model only with val_accuracy available, skipping.\n"
     ]
    },
    {
     "name": "stdout",
     "output_type": "stream",
     "text": [
      "713/713 [==============================] - 204s 286ms/step - loss: 0.2362 - accuracy: 0.9120\n",
      "Epoch 35/500\n",
      "713/713 [==============================] - ETA: 0s - loss: 0.2330 - accuracy: 0.9121WARNING:tensorflow:Can save best model only with val_accuracy available, skipping.\n"
     ]
    },
    {
     "name": "stderr",
     "output_type": "stream",
     "text": [
      "WARNING:tensorflow:Can save best model only with val_accuracy available, skipping.\n"
     ]
    },
    {
     "name": "stdout",
     "output_type": "stream",
     "text": [
      "713/713 [==============================] - 191s 268ms/step - loss: 0.2330 - accuracy: 0.9121\n",
      "Epoch 36/500\n",
      "713/713 [==============================] - ETA: 0s - loss: 0.2402 - accuracy: 0.9107WARNING:tensorflow:Can save best model only with val_accuracy available, skipping.\n"
     ]
    },
    {
     "name": "stderr",
     "output_type": "stream",
     "text": [
      "WARNING:tensorflow:Can save best model only with val_accuracy available, skipping.\n"
     ]
    },
    {
     "name": "stdout",
     "output_type": "stream",
     "text": [
      "713/713 [==============================] - 191s 268ms/step - loss: 0.2402 - accuracy: 0.9107\n",
      "Epoch 37/500\n",
      "713/713 [==============================] - ETA: 0s - loss: 0.2302 - accuracy: 0.9132WARNING:tensorflow:Can save best model only with val_accuracy available, skipping.\n"
     ]
    },
    {
     "name": "stderr",
     "output_type": "stream",
     "text": [
      "WARNING:tensorflow:Can save best model only with val_accuracy available, skipping.\n"
     ]
    },
    {
     "name": "stdout",
     "output_type": "stream",
     "text": [
      "713/713 [==============================] - 209s 293ms/step - loss: 0.2302 - accuracy: 0.9132\n",
      "Epoch 38/500\n",
      "713/713 [==============================] - ETA: 0s - loss: 0.2278 - accuracy: 0.9132WARNING:tensorflow:Can save best model only with val_accuracy available, skipping.\n"
     ]
    },
    {
     "name": "stderr",
     "output_type": "stream",
     "text": [
      "WARNING:tensorflow:Can save best model only with val_accuracy available, skipping.\n"
     ]
    },
    {
     "name": "stdout",
     "output_type": "stream",
     "text": [
      "713/713 [==============================] - 196s 275ms/step - loss: 0.2278 - accuracy: 0.9132\n",
      "Epoch 39/500\n",
      "713/713 [==============================] - ETA: 0s - loss: 0.2311 - accuracy: 0.9128WARNING:tensorflow:Can save best model only with val_accuracy available, skipping.\n"
     ]
    },
    {
     "name": "stderr",
     "output_type": "stream",
     "text": [
      "WARNING:tensorflow:Can save best model only with val_accuracy available, skipping.\n"
     ]
    },
    {
     "name": "stdout",
     "output_type": "stream",
     "text": [
      "713/713 [==============================] - 184s 259ms/step - loss: 0.2311 - accuracy: 0.9128\n",
      "Epoch 40/500\n",
      "713/713 [==============================] - 193s 271ms/step - loss: 0.2259 - accuracy: 0.9147 - val_loss: 1.7199 - val_accuracy: 0.7548\n",
      "Epoch 41/500\n",
      "713/713 [==============================] - ETA: 0s - loss: 0.2324 - accuracy: 0.9129WARNING:tensorflow:Can save best model only with val_accuracy available, skipping.\n"
     ]
    },
    {
     "name": "stderr",
     "output_type": "stream",
     "text": [
      "WARNING:tensorflow:Can save best model only with val_accuracy available, skipping.\n"
     ]
    },
    {
     "name": "stdout",
     "output_type": "stream",
     "text": [
      "713/713 [==============================] - 186s 261ms/step - loss: 0.2324 - accuracy: 0.9129\n",
      "Epoch 42/500\n",
      "713/713 [==============================] - ETA: 0s - loss: 0.2281 - accuracy: 0.9145WARNING:tensorflow:Can save best model only with val_accuracy available, skipping.\n"
     ]
    },
    {
     "name": "stderr",
     "output_type": "stream",
     "text": [
      "WARNING:tensorflow:Can save best model only with val_accuracy available, skipping.\n"
     ]
    },
    {
     "name": "stdout",
     "output_type": "stream",
     "text": [
      "713/713 [==============================] - 176s 246ms/step - loss: 0.2281 - accuracy: 0.9145\n",
      "Epoch 43/500\n",
      "713/713 [==============================] - ETA: 0s - loss: 0.2250 - accuracy: 0.9148WARNING:tensorflow:Can save best model only with val_accuracy available, skipping.\n"
     ]
    },
    {
     "name": "stderr",
     "output_type": "stream",
     "text": [
      "WARNING:tensorflow:Can save best model only with val_accuracy available, skipping.\n"
     ]
    },
    {
     "name": "stdout",
     "output_type": "stream",
     "text": [
      "713/713 [==============================] - 197s 274ms/step - loss: 0.2250 - accuracy: 0.9148\n",
      "Epoch 44/500\n",
      "713/713 [==============================] - ETA: 0s - loss: 0.2296 - accuracy: 0.9134WARNING:tensorflow:Can save best model only with val_accuracy available, skipping.\n"
     ]
    },
    {
     "name": "stderr",
     "output_type": "stream",
     "text": [
      "WARNING:tensorflow:Can save best model only with val_accuracy available, skipping.\n"
     ]
    },
    {
     "name": "stdout",
     "output_type": "stream",
     "text": [
      "713/713 [==============================] - 206s 289ms/step - loss: 0.2296 - accuracy: 0.9134\n",
      "Epoch 45/500\n",
      "713/713 [==============================] - ETA: 0s - loss: 0.2246 - accuracy: 0.9148WARNING:tensorflow:Can save best model only with val_accuracy available, skipping.\n"
     ]
    },
    {
     "name": "stderr",
     "output_type": "stream",
     "text": [
      "WARNING:tensorflow:Can save best model only with val_accuracy available, skipping.\n"
     ]
    },
    {
     "name": "stdout",
     "output_type": "stream",
     "text": [
      "713/713 [==============================] - 199s 280ms/step - loss: 0.2246 - accuracy: 0.9148\n",
      "Epoch 46/500\n",
      "713/713 [==============================] - ETA: 0s - loss: 0.2305 - accuracy: 0.9138WARNING:tensorflow:Can save best model only with val_accuracy available, skipping.\n"
     ]
    },
    {
     "name": "stderr",
     "output_type": "stream",
     "text": [
      "WARNING:tensorflow:Can save best model only with val_accuracy available, skipping.\n"
     ]
    },
    {
     "name": "stdout",
     "output_type": "stream",
     "text": [
      "713/713 [==============================] - 198s 277ms/step - loss: 0.2305 - accuracy: 0.9138\n",
      "Epoch 47/500\n",
      "713/713 [==============================] - ETA: 0s - loss: 0.2312 - accuracy: 0.9119WARNING:tensorflow:Can save best model only with val_accuracy available, skipping.\n"
     ]
    },
    {
     "name": "stderr",
     "output_type": "stream",
     "text": [
      "WARNING:tensorflow:Can save best model only with val_accuracy available, skipping.\n"
     ]
    },
    {
     "name": "stdout",
     "output_type": "stream",
     "text": [
      "713/713 [==============================] - 193s 271ms/step - loss: 0.2312 - accuracy: 0.9119\n",
      "Epoch 48/500\n",
      "713/713 [==============================] - ETA: 0s - loss: 0.2251 - accuracy: 0.9143WARNING:tensorflow:Can save best model only with val_accuracy available, skipping.\n"
     ]
    },
    {
     "name": "stderr",
     "output_type": "stream",
     "text": [
      "WARNING:tensorflow:Can save best model only with val_accuracy available, skipping.\n"
     ]
    },
    {
     "name": "stdout",
     "output_type": "stream",
     "text": [
      "713/713 [==============================] - 200s 280ms/step - loss: 0.2251 - accuracy: 0.9143\n",
      "Epoch 49/500\n",
      "713/713 [==============================] - ETA: 0s - loss: 0.2330 - accuracy: 0.9120WARNING:tensorflow:Can save best model only with val_accuracy available, skipping.\n"
     ]
    },
    {
     "name": "stderr",
     "output_type": "stream",
     "text": [
      "WARNING:tensorflow:Can save best model only with val_accuracy available, skipping.\n"
     ]
    },
    {
     "name": "stdout",
     "output_type": "stream",
     "text": [
      "713/713 [==============================] - 209s 293ms/step - loss: 0.2330 - accuracy: 0.9120\n",
      "Epoch 50/500\n",
      "713/713 [==============================] - 214s 300ms/step - loss: 0.2304 - accuracy: 0.9140 - val_loss: 1.6730 - val_accuracy: 0.7569\n",
      "Epoch 51/500\n",
      "713/713 [==============================] - ETA: 0s - loss: 0.2234 - accuracy: 0.9156WARNING:tensorflow:Can save best model only with val_accuracy available, skipping.\n"
     ]
    },
    {
     "name": "stderr",
     "output_type": "stream",
     "text": [
      "WARNING:tensorflow:Can save best model only with val_accuracy available, skipping.\n"
     ]
    },
    {
     "name": "stdout",
     "output_type": "stream",
     "text": [
      "713/713 [==============================] - 198s 278ms/step - loss: 0.2234 - accuracy: 0.9156\n",
      "Epoch 52/500\n",
      "713/713 [==============================] - ETA: 0s - loss: 0.2257 - accuracy: 0.9154WARNING:tensorflow:Can save best model only with val_accuracy available, skipping.\n"
     ]
    },
    {
     "name": "stderr",
     "output_type": "stream",
     "text": [
      "WARNING:tensorflow:Can save best model only with val_accuracy available, skipping.\n"
     ]
    },
    {
     "name": "stdout",
     "output_type": "stream",
     "text": [
      "713/713 [==============================] - 196s 274ms/step - loss: 0.2257 - accuracy: 0.9154\n",
      "Epoch 53/500\n",
      "713/713 [==============================] - ETA: 0s - loss: 0.2238 - accuracy: 0.9152WARNING:tensorflow:Can save best model only with val_accuracy available, skipping.\n"
     ]
    },
    {
     "name": "stderr",
     "output_type": "stream",
     "text": [
      "WARNING:tensorflow:Can save best model only with val_accuracy available, skipping.\n"
     ]
    },
    {
     "name": "stdout",
     "output_type": "stream",
     "text": [
      "713/713 [==============================] - 185s 260ms/step - loss: 0.2238 - accuracy: 0.9152\n",
      "Epoch 54/500\n",
      "713/713 [==============================] - ETA: 0s - loss: 0.2224 - accuracy: 0.9158WARNING:tensorflow:Can save best model only with val_accuracy available, skipping.\n"
     ]
    },
    {
     "name": "stderr",
     "output_type": "stream",
     "text": [
      "WARNING:tensorflow:Can save best model only with val_accuracy available, skipping.\n"
     ]
    },
    {
     "name": "stdout",
     "output_type": "stream",
     "text": [
      "713/713 [==============================] - 201s 281ms/step - loss: 0.2224 - accuracy: 0.9158\n",
      "Epoch 55/500\n",
      "713/713 [==============================] - ETA: 0s - loss: 0.2252 - accuracy: 0.9152WARNING:tensorflow:Can save best model only with val_accuracy available, skipping.\n"
     ]
    },
    {
     "name": "stderr",
     "output_type": "stream",
     "text": [
      "WARNING:tensorflow:Can save best model only with val_accuracy available, skipping.\n"
     ]
    },
    {
     "name": "stdout",
     "output_type": "stream",
     "text": [
      "713/713 [==============================] - 197s 277ms/step - loss: 0.2252 - accuracy: 0.9152\n",
      "Epoch 56/500\n",
      "712/713 [============================>.] - ETA: 0s - loss: 0.2217 - accuracy: 0.9170WARNING:tensorflow:Can save best model only with val_accuracy available, skipping.\n"
     ]
    },
    {
     "name": "stderr",
     "output_type": "stream",
     "text": [
      "WARNING:tensorflow:Can save best model only with val_accuracy available, skipping.\n"
     ]
    },
    {
     "name": "stdout",
     "output_type": "stream",
     "text": [
      "713/713 [==============================] - 197s 277ms/step - loss: 0.2217 - accuracy: 0.9170\n",
      "Epoch 57/500\n",
      "713/713 [==============================] - ETA: 0s - loss: 0.2291 - accuracy: 0.9145WARNING:tensorflow:Can save best model only with val_accuracy available, skipping.\n"
     ]
    },
    {
     "name": "stderr",
     "output_type": "stream",
     "text": [
      "WARNING:tensorflow:Can save best model only with val_accuracy available, skipping.\n"
     ]
    },
    {
     "name": "stdout",
     "output_type": "stream",
     "text": [
      "713/713 [==============================] - 211s 296ms/step - loss: 0.2291 - accuracy: 0.9145\n",
      "Epoch 58/500\n",
      "713/713 [==============================] - ETA: 0s - loss: 0.2252 - accuracy: 0.9141WARNING:tensorflow:Can save best model only with val_accuracy available, skipping.\n"
     ]
    },
    {
     "name": "stderr",
     "output_type": "stream",
     "text": [
      "WARNING:tensorflow:Can save best model only with val_accuracy available, skipping.\n"
     ]
    },
    {
     "name": "stdout",
     "output_type": "stream",
     "text": [
      "713/713 [==============================] - 207s 291ms/step - loss: 0.2252 - accuracy: 0.9141\n",
      "Epoch 59/500\n",
      "713/713 [==============================] - ETA: 0s - loss: 0.2232 - accuracy: 0.9164WARNING:tensorflow:Can save best model only with val_accuracy available, skipping.\n"
     ]
    },
    {
     "name": "stderr",
     "output_type": "stream",
     "text": [
      "WARNING:tensorflow:Can save best model only with val_accuracy available, skipping.\n"
     ]
    },
    {
     "name": "stdout",
     "output_type": "stream",
     "text": [
      "713/713 [==============================] - 204s 286ms/step - loss: 0.2232 - accuracy: 0.9164\n",
      "Epoch 60/500\n",
      "713/713 [==============================] - 208s 291ms/step - loss: 0.2271 - accuracy: 0.9146 - val_loss: 1.8458 - val_accuracy: 0.7492\n",
      "Epoch 61/500\n",
      "713/713 [==============================] - ETA: 0s - loss: 0.2221 - accuracy: 0.9161WARNING:tensorflow:Can save best model only with val_accuracy available, skipping.\n"
     ]
    },
    {
     "name": "stderr",
     "output_type": "stream",
     "text": [
      "WARNING:tensorflow:Can save best model only with val_accuracy available, skipping.\n"
     ]
    },
    {
     "name": "stdout",
     "output_type": "stream",
     "text": [
      "713/713 [==============================] - 208s 291ms/step - loss: 0.2221 - accuracy: 0.9161\n",
      "Epoch 62/500\n",
      "713/713 [==============================] - ETA: 0s - loss: 0.2203 - accuracy: 0.9165WARNING:tensorflow:Can save best model only with val_accuracy available, skipping.\n"
     ]
    },
    {
     "name": "stderr",
     "output_type": "stream",
     "text": [
      "WARNING:tensorflow:Can save best model only with val_accuracy available, skipping.\n"
     ]
    },
    {
     "name": "stdout",
     "output_type": "stream",
     "text": [
      "713/713 [==============================] - 207s 291ms/step - loss: 0.2203 - accuracy: 0.9165\n",
      "Epoch 63/500\n",
      "713/713 [==============================] - ETA: 0s - loss: 0.2232 - accuracy: 0.9156WARNING:tensorflow:Can save best model only with val_accuracy available, skipping.\n"
     ]
    },
    {
     "name": "stderr",
     "output_type": "stream",
     "text": [
      "WARNING:tensorflow:Can save best model only with val_accuracy available, skipping.\n"
     ]
    },
    {
     "name": "stdout",
     "output_type": "stream",
     "text": [
      "713/713 [==============================] - 196s 274ms/step - loss: 0.2232 - accuracy: 0.9156\n",
      "Epoch 64/500\n",
      "713/713 [==============================] - ETA: 0s - loss: 0.2237 - accuracy: 0.9164WARNING:tensorflow:Can save best model only with val_accuracy available, skipping.\n"
     ]
    },
    {
     "name": "stderr",
     "output_type": "stream",
     "text": [
      "WARNING:tensorflow:Can save best model only with val_accuracy available, skipping.\n"
     ]
    },
    {
     "name": "stdout",
     "output_type": "stream",
     "text": [
      "713/713 [==============================] - 213s 298ms/step - loss: 0.2237 - accuracy: 0.9164\n",
      "Epoch 65/500\n",
      "713/713 [==============================] - ETA: 0s - loss: 0.2185 - accuracy: 0.9171WARNING:tensorflow:Can save best model only with val_accuracy available, skipping.\n"
     ]
    },
    {
     "name": "stderr",
     "output_type": "stream",
     "text": [
      "WARNING:tensorflow:Can save best model only with val_accuracy available, skipping.\n"
     ]
    },
    {
     "name": "stdout",
     "output_type": "stream",
     "text": [
      "713/713 [==============================] - 201s 281ms/step - loss: 0.2185 - accuracy: 0.9171\n",
      "Epoch 66/500\n",
      "713/713 [==============================] - ETA: 0s - loss: 0.2206 - accuracy: 0.9158WARNING:tensorflow:Can save best model only with val_accuracy available, skipping.\n"
     ]
    },
    {
     "name": "stderr",
     "output_type": "stream",
     "text": [
      "WARNING:tensorflow:Can save best model only with val_accuracy available, skipping.\n"
     ]
    },
    {
     "name": "stdout",
     "output_type": "stream",
     "text": [
      "713/713 [==============================] - 204s 285ms/step - loss: 0.2206 - accuracy: 0.9158\n",
      "Epoch 67/500\n",
      "713/713 [==============================] - ETA: 0s - loss: 0.2186 - accuracy: 0.9166WARNING:tensorflow:Can save best model only with val_accuracy available, skipping.\n"
     ]
    },
    {
     "name": "stderr",
     "output_type": "stream",
     "text": [
      "WARNING:tensorflow:Can save best model only with val_accuracy available, skipping.\n"
     ]
    },
    {
     "name": "stdout",
     "output_type": "stream",
     "text": [
      "713/713 [==============================] - 215s 301ms/step - loss: 0.2186 - accuracy: 0.9166\n",
      "Epoch 68/500\n",
      "713/713 [==============================] - ETA: 0s - loss: 0.2165 - accuracy: 0.9180WARNING:tensorflow:Can save best model only with val_accuracy available, skipping.\n"
     ]
    },
    {
     "name": "stderr",
     "output_type": "stream",
     "text": [
      "WARNING:tensorflow:Can save best model only with val_accuracy available, skipping.\n"
     ]
    },
    {
     "name": "stdout",
     "output_type": "stream",
     "text": [
      "713/713 [==============================] - 207s 291ms/step - loss: 0.2165 - accuracy: 0.9180\n",
      "Epoch 69/500\n",
      "713/713 [==============================] - ETA: 0s - loss: 0.2236 - accuracy: 0.9160WARNING:tensorflow:Can save best model only with val_accuracy available, skipping.\n"
     ]
    },
    {
     "name": "stderr",
     "output_type": "stream",
     "text": [
      "WARNING:tensorflow:Can save best model only with val_accuracy available, skipping.\n"
     ]
    },
    {
     "name": "stdout",
     "output_type": "stream",
     "text": [
      "713/713 [==============================] - 202s 283ms/step - loss: 0.2236 - accuracy: 0.9160\n",
      "Epoch 70/500\n",
      "713/713 [==============================] - 207s 290ms/step - loss: 0.2206 - accuracy: 0.9163 - val_loss: 1.8234 - val_accuracy: 0.7496\n",
      "Epoch 71/500\n",
      "713/713 [==============================] - ETA: 0s - loss: 0.2208 - accuracy: 0.9176WARNING:tensorflow:Can save best model only with val_accuracy available, skipping.\n"
     ]
    },
    {
     "name": "stderr",
     "output_type": "stream",
     "text": [
      "WARNING:tensorflow:Can save best model only with val_accuracy available, skipping.\n"
     ]
    },
    {
     "name": "stdout",
     "output_type": "stream",
     "text": [
      "713/713 [==============================] - 212s 297ms/step - loss: 0.2208 - accuracy: 0.9176\n",
      "Epoch 72/500\n",
      "713/713 [==============================] - ETA: 0s - loss: 0.2219 - accuracy: 0.9162WARNING:tensorflow:Can save best model only with val_accuracy available, skipping.\n"
     ]
    },
    {
     "name": "stderr",
     "output_type": "stream",
     "text": [
      "WARNING:tensorflow:Can save best model only with val_accuracy available, skipping.\n"
     ]
    },
    {
     "name": "stdout",
     "output_type": "stream",
     "text": [
      "713/713 [==============================] - 201s 283ms/step - loss: 0.2219 - accuracy: 0.9162\n",
      "Epoch 73/500\n",
      "713/713 [==============================] - ETA: 0s - loss: 0.2173 - accuracy: 0.9172WARNING:tensorflow:Can save best model only with val_accuracy available, skipping.\n"
     ]
    },
    {
     "name": "stderr",
     "output_type": "stream",
     "text": [
      "WARNING:tensorflow:Can save best model only with val_accuracy available, skipping.\n"
     ]
    },
    {
     "name": "stdout",
     "output_type": "stream",
     "text": [
      "713/713 [==============================] - 193s 270ms/step - loss: 0.2173 - accuracy: 0.9172\n",
      "Epoch 74/500\n",
      "713/713 [==============================] - ETA: 0s - loss: 0.2185 - accuracy: 0.9174WARNING:tensorflow:Can save best model only with val_accuracy available, skipping.\n"
     ]
    },
    {
     "name": "stderr",
     "output_type": "stream",
     "text": [
      "WARNING:tensorflow:Can save best model only with val_accuracy available, skipping.\n"
     ]
    },
    {
     "name": "stdout",
     "output_type": "stream",
     "text": [
      "713/713 [==============================] - 219s 307ms/step - loss: 0.2185 - accuracy: 0.9174\n",
      "Epoch 75/500\n",
      "713/713 [==============================] - ETA: 0s - loss: 0.2218 - accuracy: 0.9167WARNING:tensorflow:Can save best model only with val_accuracy available, skipping.\n"
     ]
    },
    {
     "name": "stderr",
     "output_type": "stream",
     "text": [
      "WARNING:tensorflow:Can save best model only with val_accuracy available, skipping.\n"
     ]
    },
    {
     "name": "stdout",
     "output_type": "stream",
     "text": [
      "713/713 [==============================] - 217s 305ms/step - loss: 0.2218 - accuracy: 0.9167\n",
      "Epoch 76/500\n",
      "713/713 [==============================] - ETA: 0s - loss: 0.2181 - accuracy: 0.9185WARNING:tensorflow:Can save best model only with val_accuracy available, skipping.\n"
     ]
    },
    {
     "name": "stderr",
     "output_type": "stream",
     "text": [
      "WARNING:tensorflow:Can save best model only with val_accuracy available, skipping.\n"
     ]
    },
    {
     "name": "stdout",
     "output_type": "stream",
     "text": [
      "713/713 [==============================] - 213s 298ms/step - loss: 0.2181 - accuracy: 0.9185\n",
      "Epoch 77/500\n",
      "713/713 [==============================] - ETA: 0s - loss: 0.2173 - accuracy: 0.9180WARNING:tensorflow:Can save best model only with val_accuracy available, skipping.\n"
     ]
    },
    {
     "name": "stderr",
     "output_type": "stream",
     "text": [
      "WARNING:tensorflow:Can save best model only with val_accuracy available, skipping.\n"
     ]
    },
    {
     "name": "stdout",
     "output_type": "stream",
     "text": [
      "713/713 [==============================] - 204s 286ms/step - loss: 0.2173 - accuracy: 0.9180\n",
      "Epoch 78/500\n",
      "713/713 [==============================] - ETA: 0s - loss: 0.2170 - accuracy: 0.9183WARNING:tensorflow:Can save best model only with val_accuracy available, skipping.\n"
     ]
    },
    {
     "name": "stderr",
     "output_type": "stream",
     "text": [
      "WARNING:tensorflow:Can save best model only with val_accuracy available, skipping.\n"
     ]
    },
    {
     "name": "stdout",
     "output_type": "stream",
     "text": [
      "713/713 [==============================] - 193s 271ms/step - loss: 0.2170 - accuracy: 0.9183\n",
      "Epoch 79/500\n",
      "713/713 [==============================] - ETA: 0s - loss: 0.2141 - accuracy: 0.9183WARNING:tensorflow:Can save best model only with val_accuracy available, skipping.\n"
     ]
    },
    {
     "name": "stderr",
     "output_type": "stream",
     "text": [
      "WARNING:tensorflow:Can save best model only with val_accuracy available, skipping.\n"
     ]
    },
    {
     "name": "stdout",
     "output_type": "stream",
     "text": [
      "713/713 [==============================] - 214s 300ms/step - loss: 0.2141 - accuracy: 0.9183\n",
      "Epoch 80/500\n",
      "713/713 [==============================] - 229s 321ms/step - loss: 0.2131 - accuracy: 0.9201 - val_loss: 1.8500 - val_accuracy: 0.7544\n",
      "Epoch 81/500\n",
      "713/713 [==============================] - ETA: 0s - loss: 0.2197 - accuracy: 0.9178WARNING:tensorflow:Can save best model only with val_accuracy available, skipping.\n"
     ]
    },
    {
     "name": "stderr",
     "output_type": "stream",
     "text": [
      "WARNING:tensorflow:Can save best model only with val_accuracy available, skipping.\n"
     ]
    },
    {
     "name": "stdout",
     "output_type": "stream",
     "text": [
      "713/713 [==============================] - 213s 299ms/step - loss: 0.2197 - accuracy: 0.9178\n",
      "Epoch 82/500\n",
      "713/713 [==============================] - ETA: 0s - loss: 0.2216 - accuracy: 0.9163WARNING:tensorflow:Can save best model only with val_accuracy available, skipping.\n"
     ]
    },
    {
     "name": "stderr",
     "output_type": "stream",
     "text": [
      "WARNING:tensorflow:Can save best model only with val_accuracy available, skipping.\n"
     ]
    },
    {
     "name": "stdout",
     "output_type": "stream",
     "text": [
      "713/713 [==============================] - 215s 301ms/step - loss: 0.2216 - accuracy: 0.9163\n",
      "Epoch 83/500\n",
      "713/713 [==============================] - ETA: 0s - loss: 0.2126 - accuracy: 0.9194WARNING:tensorflow:Can save best model only with val_accuracy available, skipping.\n"
     ]
    },
    {
     "name": "stderr",
     "output_type": "stream",
     "text": [
      "WARNING:tensorflow:Can save best model only with val_accuracy available, skipping.\n"
     ]
    },
    {
     "name": "stdout",
     "output_type": "stream",
     "text": [
      "713/713 [==============================] - 195s 273ms/step - loss: 0.2126 - accuracy: 0.9194\n",
      "Epoch 84/500\n",
      "713/713 [==============================] - ETA: 0s - loss: 0.2190 - accuracy: 0.9175WARNING:tensorflow:Can save best model only with val_accuracy available, skipping.\n"
     ]
    },
    {
     "name": "stderr",
     "output_type": "stream",
     "text": [
      "WARNING:tensorflow:Can save best model only with val_accuracy available, skipping.\n"
     ]
    },
    {
     "name": "stdout",
     "output_type": "stream",
     "text": [
      "713/713 [==============================] - 227s 319ms/step - loss: 0.2190 - accuracy: 0.9175\n",
      "Epoch 85/500\n",
      "713/713 [==============================] - ETA: 0s - loss: 0.2161 - accuracy: 0.9186WARNING:tensorflow:Can save best model only with val_accuracy available, skipping.\n"
     ]
    },
    {
     "name": "stderr",
     "output_type": "stream",
     "text": [
      "WARNING:tensorflow:Can save best model only with val_accuracy available, skipping.\n"
     ]
    },
    {
     "name": "stdout",
     "output_type": "stream",
     "text": [
      "713/713 [==============================] - 213s 298ms/step - loss: 0.2161 - accuracy: 0.9186\n",
      "Epoch 86/500\n",
      "713/713 [==============================] - ETA: 0s - loss: 0.2156 - accuracy: 0.9200WARNING:tensorflow:Can save best model only with val_accuracy available, skipping.\n"
     ]
    },
    {
     "name": "stderr",
     "output_type": "stream",
     "text": [
      "WARNING:tensorflow:Can save best model only with val_accuracy available, skipping.\n"
     ]
    },
    {
     "name": "stdout",
     "output_type": "stream",
     "text": [
      "713/713 [==============================] - 224s 314ms/step - loss: 0.2156 - accuracy: 0.9200\n",
      "Epoch 87/500\n",
      "713/713 [==============================] - ETA: 0s - loss: 0.2151 - accuracy: 0.9188WARNING:tensorflow:Can save best model only with val_accuracy available, skipping.\n"
     ]
    },
    {
     "name": "stderr",
     "output_type": "stream",
     "text": [
      "WARNING:tensorflow:Can save best model only with val_accuracy available, skipping.\n"
     ]
    },
    {
     "name": "stdout",
     "output_type": "stream",
     "text": [
      "713/713 [==============================] - 207s 290ms/step - loss: 0.2151 - accuracy: 0.9188\n",
      "Epoch 88/500\n",
      "713/713 [==============================] - ETA: 0s - loss: 0.2116 - accuracy: 0.9202WARNING:tensorflow:Can save best model only with val_accuracy available, skipping.\n"
     ]
    },
    {
     "name": "stderr",
     "output_type": "stream",
     "text": [
      "WARNING:tensorflow:Can save best model only with val_accuracy available, skipping.\n"
     ]
    },
    {
     "name": "stdout",
     "output_type": "stream",
     "text": [
      "713/713 [==============================] - 217s 304ms/step - loss: 0.2116 - accuracy: 0.9202\n",
      "Epoch 89/500\n",
      "713/713 [==============================] - ETA: 0s - loss: 0.2117 - accuracy: 0.9203WARNING:tensorflow:Can save best model only with val_accuracy available, skipping.\n"
     ]
    },
    {
     "name": "stderr",
     "output_type": "stream",
     "text": [
      "WARNING:tensorflow:Can save best model only with val_accuracy available, skipping.\n"
     ]
    },
    {
     "name": "stdout",
     "output_type": "stream",
     "text": [
      "713/713 [==============================] - 221s 311ms/step - loss: 0.2117 - accuracy: 0.9203\n",
      "Epoch 90/500\n",
      "713/713 [==============================] - 216s 303ms/step - loss: 0.2166 - accuracy: 0.9188 - val_loss: 1.9250 - val_accuracy: 0.7492\n",
      "Epoch 91/500\n",
      "713/713 [==============================] - ETA: 0s - loss: 0.2156 - accuracy: 0.9187WARNING:tensorflow:Can save best model only with val_accuracy available, skipping.\n"
     ]
    },
    {
     "name": "stderr",
     "output_type": "stream",
     "text": [
      "WARNING:tensorflow:Can save best model only with val_accuracy available, skipping.\n"
     ]
    },
    {
     "name": "stdout",
     "output_type": "stream",
     "text": [
      "713/713 [==============================] - 230s 322ms/step - loss: 0.2156 - accuracy: 0.9187\n",
      "Epoch 92/500\n",
      "713/713 [==============================] - ETA: 0s - loss: 0.2112 - accuracy: 0.9207WARNING:tensorflow:Can save best model only with val_accuracy available, skipping.\n"
     ]
    },
    {
     "name": "stderr",
     "output_type": "stream",
     "text": [
      "WARNING:tensorflow:Can save best model only with val_accuracy available, skipping.\n"
     ]
    },
    {
     "name": "stdout",
     "output_type": "stream",
     "text": [
      "713/713 [==============================] - 206s 289ms/step - loss: 0.2112 - accuracy: 0.9207\n",
      "Epoch 93/500\n",
      "713/713 [==============================] - ETA: 0s - loss: 0.2126 - accuracy: 0.9203WARNING:tensorflow:Can save best model only with val_accuracy available, skipping.\n"
     ]
    },
    {
     "name": "stderr",
     "output_type": "stream",
     "text": [
      "WARNING:tensorflow:Can save best model only with val_accuracy available, skipping.\n"
     ]
    },
    {
     "name": "stdout",
     "output_type": "stream",
     "text": [
      "713/713 [==============================] - 209s 293ms/step - loss: 0.2126 - accuracy: 0.9203\n",
      "Epoch 94/500\n",
      "713/713 [==============================] - ETA: 0s - loss: 0.2134 - accuracy: 0.9195WARNING:tensorflow:Can save best model only with val_accuracy available, skipping.\n"
     ]
    },
    {
     "name": "stderr",
     "output_type": "stream",
     "text": [
      "WARNING:tensorflow:Can save best model only with val_accuracy available, skipping.\n"
     ]
    },
    {
     "name": "stdout",
     "output_type": "stream",
     "text": [
      "713/713 [==============================] - 206s 290ms/step - loss: 0.2134 - accuracy: 0.9195\n",
      "Epoch 95/500\n",
      "713/713 [==============================] - ETA: 0s - loss: 0.2080 - accuracy: 0.9205WARNING:tensorflow:Can save best model only with val_accuracy available, skipping.\n"
     ]
    },
    {
     "name": "stderr",
     "output_type": "stream",
     "text": [
      "WARNING:tensorflow:Can save best model only with val_accuracy available, skipping.\n"
     ]
    },
    {
     "name": "stdout",
     "output_type": "stream",
     "text": [
      "713/713 [==============================] - 197s 276ms/step - loss: 0.2080 - accuracy: 0.9205\n",
      "Epoch 96/500\n",
      "713/713 [==============================] - ETA: 0s - loss: 0.2154 - accuracy: 0.9194WARNING:tensorflow:Can save best model only with val_accuracy available, skipping.\n"
     ]
    },
    {
     "name": "stderr",
     "output_type": "stream",
     "text": [
      "WARNING:tensorflow:Can save best model only with val_accuracy available, skipping.\n"
     ]
    },
    {
     "name": "stdout",
     "output_type": "stream",
     "text": [
      "713/713 [==============================] - 215s 302ms/step - loss: 0.2154 - accuracy: 0.9194\n",
      "Epoch 97/500\n",
      "713/713 [==============================] - ETA: 0s - loss: 0.2075 - accuracy: 0.9218WARNING:tensorflow:Can save best model only with val_accuracy available, skipping.\n"
     ]
    },
    {
     "name": "stderr",
     "output_type": "stream",
     "text": [
      "WARNING:tensorflow:Can save best model only with val_accuracy available, skipping.\n"
     ]
    },
    {
     "name": "stdout",
     "output_type": "stream",
     "text": [
      "713/713 [==============================] - 199s 279ms/step - loss: 0.2075 - accuracy: 0.9218\n",
      "Epoch 98/500\n",
      "713/713 [==============================] - ETA: 0s - loss: 0.2116 - accuracy: 0.9202WARNING:tensorflow:Can save best model only with val_accuracy available, skipping.\n"
     ]
    },
    {
     "name": "stderr",
     "output_type": "stream",
     "text": [
      "WARNING:tensorflow:Can save best model only with val_accuracy available, skipping.\n"
     ]
    },
    {
     "name": "stdout",
     "output_type": "stream",
     "text": [
      "713/713 [==============================] - 202s 283ms/step - loss: 0.2116 - accuracy: 0.9202\n",
      "Epoch 99/500\n",
      "713/713 [==============================] - ETA: 0s - loss: 0.2156 - accuracy: 0.9190WARNING:tensorflow:Can save best model only with val_accuracy available, skipping.\n"
     ]
    },
    {
     "name": "stderr",
     "output_type": "stream",
     "text": [
      "WARNING:tensorflow:Can save best model only with val_accuracy available, skipping.\n"
     ]
    },
    {
     "name": "stdout",
     "output_type": "stream",
     "text": [
      "713/713 [==============================] - 203s 284ms/step - loss: 0.2156 - accuracy: 0.9190\n",
      "Epoch 100/500\n",
      "713/713 [==============================] - 210s 295ms/step - loss: 0.2132 - accuracy: 0.9200 - val_loss: 1.8737 - val_accuracy: 0.7531\n",
      "Epoch 101/500\n",
      "713/713 [==============================] - ETA: 0s - loss: 0.2130 - accuracy: 0.9193WARNING:tensorflow:Can save best model only with val_accuracy available, skipping.\n"
     ]
    },
    {
     "name": "stderr",
     "output_type": "stream",
     "text": [
      "WARNING:tensorflow:Can save best model only with val_accuracy available, skipping.\n"
     ]
    },
    {
     "name": "stdout",
     "output_type": "stream",
     "text": [
      "713/713 [==============================] - 211s 296ms/step - loss: 0.2130 - accuracy: 0.9193\n",
      "Epoch 102/500\n",
      "713/713 [==============================] - ETA: 0s - loss: 0.2124 - accuracy: 0.9198WARNING:tensorflow:Can save best model only with val_accuracy available, skipping.\n"
     ]
    },
    {
     "name": "stderr",
     "output_type": "stream",
     "text": [
      "WARNING:tensorflow:Can save best model only with val_accuracy available, skipping.\n"
     ]
    },
    {
     "name": "stdout",
     "output_type": "stream",
     "text": [
      "713/713 [==============================] - 206s 289ms/step - loss: 0.2124 - accuracy: 0.9198\n",
      "Epoch 103/500\n",
      "713/713 [==============================] - ETA: 0s - loss: 0.2051 - accuracy: 0.9218WARNING:tensorflow:Can save best model only with val_accuracy available, skipping.\n"
     ]
    },
    {
     "name": "stderr",
     "output_type": "stream",
     "text": [
      "WARNING:tensorflow:Can save best model only with val_accuracy available, skipping.\n"
     ]
    },
    {
     "name": "stdout",
     "output_type": "stream",
     "text": [
      "713/713 [==============================] - 202s 283ms/step - loss: 0.2051 - accuracy: 0.9218\n",
      "Epoch 104/500\n",
      "713/713 [==============================] - ETA: 0s - loss: 0.2097 - accuracy: 0.9205WARNING:tensorflow:Can save best model only with val_accuracy available, skipping.\n"
     ]
    },
    {
     "name": "stderr",
     "output_type": "stream",
     "text": [
      "WARNING:tensorflow:Can save best model only with val_accuracy available, skipping.\n"
     ]
    },
    {
     "name": "stdout",
     "output_type": "stream",
     "text": [
      "713/713 [==============================] - 192s 269ms/step - loss: 0.2097 - accuracy: 0.9205\n",
      "Epoch 105/500\n",
      "713/713 [==============================] - ETA: 0s - loss: 0.2141 - accuracy: 0.9189WARNING:tensorflow:Can save best model only with val_accuracy available, skipping.\n"
     ]
    },
    {
     "name": "stderr",
     "output_type": "stream",
     "text": [
      "WARNING:tensorflow:Can save best model only with val_accuracy available, skipping.\n"
     ]
    },
    {
     "name": "stdout",
     "output_type": "stream",
     "text": [
      "713/713 [==============================] - 212s 298ms/step - loss: 0.2141 - accuracy: 0.9189\n",
      "Epoch 106/500\n",
      "713/713 [==============================] - ETA: 0s - loss: 0.2056 - accuracy: 0.9235WARNING:tensorflow:Can save best model only with val_accuracy available, skipping.\n"
     ]
    },
    {
     "name": "stderr",
     "output_type": "stream",
     "text": [
      "WARNING:tensorflow:Can save best model only with val_accuracy available, skipping.\n"
     ]
    },
    {
     "name": "stdout",
     "output_type": "stream",
     "text": [
      "713/713 [==============================] - 210s 295ms/step - loss: 0.2056 - accuracy: 0.9235\n",
      "Epoch 107/500\n",
      "713/713 [==============================] - ETA: 0s - loss: 0.2053 - accuracy: 0.9220WARNING:tensorflow:Can save best model only with val_accuracy available, skipping.\n"
     ]
    },
    {
     "name": "stderr",
     "output_type": "stream",
     "text": [
      "WARNING:tensorflow:Can save best model only with val_accuracy available, skipping.\n"
     ]
    },
    {
     "name": "stdout",
     "output_type": "stream",
     "text": [
      "713/713 [==============================] - 225s 315ms/step - loss: 0.2053 - accuracy: 0.9220\n",
      "Epoch 108/500\n",
      "713/713 [==============================] - ETA: 0s - loss: 0.2147 - accuracy: 0.9193WARNING:tensorflow:Can save best model only with val_accuracy available, skipping.\n"
     ]
    },
    {
     "name": "stderr",
     "output_type": "stream",
     "text": [
      "WARNING:tensorflow:Can save best model only with val_accuracy available, skipping.\n"
     ]
    },
    {
     "name": "stdout",
     "output_type": "stream",
     "text": [
      "713/713 [==============================] - 209s 293ms/step - loss: 0.2147 - accuracy: 0.9193\n",
      "Epoch 109/500\n",
      "713/713 [==============================] - ETA: 0s - loss: 0.2076 - accuracy: 0.9217WARNING:tensorflow:Can save best model only with val_accuracy available, skipping.\n"
     ]
    },
    {
     "name": "stderr",
     "output_type": "stream",
     "text": [
      "WARNING:tensorflow:Can save best model only with val_accuracy available, skipping.\n"
     ]
    },
    {
     "name": "stdout",
     "output_type": "stream",
     "text": [
      "713/713 [==============================] - 214s 300ms/step - loss: 0.2076 - accuracy: 0.9217\n",
      "Epoch 110/500\n",
      "713/713 [==============================] - 224s 313ms/step - loss: 0.2111 - accuracy: 0.9205 - val_loss: 1.8926 - val_accuracy: 0.7501\n",
      "Epoch 111/500\n",
      "713/713 [==============================] - ETA: 0s - loss: 0.2083 - accuracy: 0.9213WARNING:tensorflow:Can save best model only with val_accuracy available, skipping.\n"
     ]
    },
    {
     "name": "stderr",
     "output_type": "stream",
     "text": [
      "WARNING:tensorflow:Can save best model only with val_accuracy available, skipping.\n"
     ]
    },
    {
     "name": "stdout",
     "output_type": "stream",
     "text": [
      "713/713 [==============================] - 211s 296ms/step - loss: 0.2083 - accuracy: 0.9213\n",
      "Epoch 112/500\n",
      "713/713 [==============================] - ETA: 0s - loss: 0.2117 - accuracy: 0.9208WARNING:tensorflow:Can save best model only with val_accuracy available, skipping.\n"
     ]
    },
    {
     "name": "stderr",
     "output_type": "stream",
     "text": [
      "WARNING:tensorflow:Can save best model only with val_accuracy available, skipping.\n"
     ]
    },
    {
     "name": "stdout",
     "output_type": "stream",
     "text": [
      "713/713 [==============================] - 210s 294ms/step - loss: 0.2117 - accuracy: 0.9208\n",
      "Epoch 113/500\n",
      "713/713 [==============================] - ETA: 0s - loss: 0.2117 - accuracy: 0.9203WARNING:tensorflow:Can save best model only with val_accuracy available, skipping.\n"
     ]
    },
    {
     "name": "stderr",
     "output_type": "stream",
     "text": [
      "WARNING:tensorflow:Can save best model only with val_accuracy available, skipping.\n"
     ]
    },
    {
     "name": "stdout",
     "output_type": "stream",
     "text": [
      "713/713 [==============================] - 176s 247ms/step - loss: 0.2117 - accuracy: 0.9203\n",
      "Epoch 114/500\n",
      "713/713 [==============================] - ETA: 0s - loss: 0.2095 - accuracy: 0.9206WARNING:tensorflow:Can save best model only with val_accuracy available, skipping.\n"
     ]
    },
    {
     "name": "stderr",
     "output_type": "stream",
     "text": [
      "WARNING:tensorflow:Can save best model only with val_accuracy available, skipping.\n"
     ]
    },
    {
     "name": "stdout",
     "output_type": "stream",
     "text": [
      "713/713 [==============================] - 182s 253ms/step - loss: 0.2095 - accuracy: 0.9206\n",
      "Epoch 115/500\n",
      "713/713 [==============================] - ETA: 0s - loss: 0.2042 - accuracy: 0.9222WARNING:tensorflow:Can save best model only with val_accuracy available, skipping.\n"
     ]
    },
    {
     "name": "stderr",
     "output_type": "stream",
     "text": [
      "WARNING:tensorflow:Can save best model only with val_accuracy available, skipping.\n"
     ]
    },
    {
     "name": "stdout",
     "output_type": "stream",
     "text": [
      "713/713 [==============================] - 194s 270ms/step - loss: 0.2042 - accuracy: 0.9222\n",
      "Epoch 116/500\n",
      "713/713 [==============================] - ETA: 0s - loss: 0.2102 - accuracy: 0.9211WARNING:tensorflow:Can save best model only with val_accuracy available, skipping.\n"
     ]
    },
    {
     "name": "stderr",
     "output_type": "stream",
     "text": [
      "WARNING:tensorflow:Can save best model only with val_accuracy available, skipping.\n"
     ]
    },
    {
     "name": "stdout",
     "output_type": "stream",
     "text": [
      "713/713 [==============================] - 178s 248ms/step - loss: 0.2102 - accuracy: 0.9211\n",
      "Epoch 117/500\n",
      "713/713 [==============================] - ETA: 0s - loss: 0.2072 - accuracy: 0.9227WARNING:tensorflow:Can save best model only with val_accuracy available, skipping.\n"
     ]
    },
    {
     "name": "stderr",
     "output_type": "stream",
     "text": [
      "WARNING:tensorflow:Can save best model only with val_accuracy available, skipping.\n"
     ]
    },
    {
     "name": "stdout",
     "output_type": "stream",
     "text": [
      "713/713 [==============================] - 176s 244ms/step - loss: 0.2072 - accuracy: 0.9227\n",
      "Epoch 118/500\n",
      "713/713 [==============================] - ETA: 0s - loss: 0.2021 - accuracy: 0.9242WARNING:tensorflow:Can save best model only with val_accuracy available, skipping.\n"
     ]
    },
    {
     "name": "stderr",
     "output_type": "stream",
     "text": [
      "WARNING:tensorflow:Can save best model only with val_accuracy available, skipping.\n"
     ]
    },
    {
     "name": "stdout",
     "output_type": "stream",
     "text": [
      "713/713 [==============================] - 178s 247ms/step - loss: 0.2021 - accuracy: 0.9242\n",
      "Epoch 119/500\n",
      "713/713 [==============================] - ETA: 0s - loss: 0.2076 - accuracy: 0.9209WARNING:tensorflow:Can save best model only with val_accuracy available, skipping.\n"
     ]
    },
    {
     "name": "stderr",
     "output_type": "stream",
     "text": [
      "WARNING:tensorflow:Can save best model only with val_accuracy available, skipping.\n"
     ]
    },
    {
     "name": "stdout",
     "output_type": "stream",
     "text": [
      "713/713 [==============================] - 183s 256ms/step - loss: 0.2076 - accuracy: 0.9209\n",
      "Epoch 120/500\n",
      "339/713 [=============>................] - ETA: 1:36 - loss: 0.2015 - accuracy: 0.9242"
     ]
    },
    {
     "name": "stderr",
     "output_type": "stream",
     "text": [
      "2023-09-01 16:24:35.942304: W tensorflow/core/framework/op_kernel.cc:1816] UNKNOWN: OSError: [Errno 28] No space left on device\n",
      "Traceback (most recent call last):\n",
      "\n",
      "  File \"/Users/butler/anaconda3/envs/CNN/lib/python3.9/site-packages/PIL/Image.py\", line 2431, in save\n",
      "    save_handler(self, fp, filename)\n",
      "\n",
      "  File \"/Users/butler/anaconda3/envs/CNN/lib/python3.9/site-packages/PIL/PngImagePlugin.py\", line 1434, in _save\n",
      "    fp.flush()\n",
      "\n",
      "OSError: [Errno 28] No space left on device\n",
      "\n",
      "\n",
      "During handling of the above exception, another exception occurred:\n",
      "\n",
      "\n",
      "Traceback (most recent call last):\n",
      "\n",
      "  File \"/Users/butler/anaconda3/envs/CNN/lib/python3.9/site-packages/tensorflow/python/ops/script_ops.py\", line 268, in __call__\n",
      "    ret = func(*args)\n",
      "\n",
      "  File \"/Users/butler/anaconda3/envs/CNN/lib/python3.9/site-packages/tensorflow/python/autograph/impl/api.py\", line 643, in wrapper\n",
      "    return func(*args, **kwargs)\n",
      "\n",
      "  File \"/Users/butler/anaconda3/envs/CNN/lib/python3.9/site-packages/tensorflow/python/data/ops/from_generator_op.py\", line 198, in generator_py_func\n",
      "    values = next(generator_state.get_iterator(iterator_id))\n",
      "\n",
      "  File \"/Users/butler/anaconda3/envs/CNN/lib/python3.9/site-packages/keras/src/engine/data_adapter.py\", line 917, in wrapped_generator\n",
      "    for data in generator_fn():\n",
      "\n",
      "  File \"/Users/butler/anaconda3/envs/CNN/lib/python3.9/site-packages/keras/src/engine/data_adapter.py\", line 1064, in generator_fn\n",
      "    yield x[i]\n",
      "\n",
      "  File \"/Users/butler/anaconda3/envs/CNN/lib/python3.9/site-packages/keras/src/preprocessing/image.py\", line 116, in __getitem__\n",
      "    return self._get_batches_of_transformed_samples(index_array)\n",
      "\n",
      "  File \"/Users/butler/anaconda3/envs/CNN/lib/python3.9/site-packages/keras/src/preprocessing/image.py\", line 399, in _get_batches_of_transformed_samples\n",
      "    img.save(os.path.join(self.save_to_dir, fname))\n",
      "\n",
      "  File \"/Users/butler/anaconda3/envs/CNN/lib/python3.9/site-packages/PIL/Image.py\", line 2434, in save\n",
      "    fp.close()\n",
      "\n",
      "OSError: [Errno 28] No space left on device\n",
      "\n",
      "\n"
     ]
    },
    {
     "ename": "UnknownError",
     "evalue": "Graph execution error:\n\nOSError: [Errno 28] No space left on device\nTraceback (most recent call last):\n\n  File \"/Users/butler/anaconda3/envs/CNN/lib/python3.9/site-packages/PIL/Image.py\", line 2431, in save\n    save_handler(self, fp, filename)\n\n  File \"/Users/butler/anaconda3/envs/CNN/lib/python3.9/site-packages/PIL/PngImagePlugin.py\", line 1434, in _save\n    fp.flush()\n\nOSError: [Errno 28] No space left on device\n\n\nDuring handling of the above exception, another exception occurred:\n\n\nTraceback (most recent call last):\n\n  File \"/Users/butler/anaconda3/envs/CNN/lib/python3.9/site-packages/tensorflow/python/ops/script_ops.py\", line 268, in __call__\n    ret = func(*args)\n\n  File \"/Users/butler/anaconda3/envs/CNN/lib/python3.9/site-packages/tensorflow/python/autograph/impl/api.py\", line 643, in wrapper\n    return func(*args, **kwargs)\n\n  File \"/Users/butler/anaconda3/envs/CNN/lib/python3.9/site-packages/tensorflow/python/data/ops/from_generator_op.py\", line 198, in generator_py_func\n    values = next(generator_state.get_iterator(iterator_id))\n\n  File \"/Users/butler/anaconda3/envs/CNN/lib/python3.9/site-packages/keras/src/engine/data_adapter.py\", line 917, in wrapped_generator\n    for data in generator_fn():\n\n  File \"/Users/butler/anaconda3/envs/CNN/lib/python3.9/site-packages/keras/src/engine/data_adapter.py\", line 1064, in generator_fn\n    yield x[i]\n\n  File \"/Users/butler/anaconda3/envs/CNN/lib/python3.9/site-packages/keras/src/preprocessing/image.py\", line 116, in __getitem__\n    return self._get_batches_of_transformed_samples(index_array)\n\n  File \"/Users/butler/anaconda3/envs/CNN/lib/python3.9/site-packages/keras/src/preprocessing/image.py\", line 399, in _get_batches_of_transformed_samples\n    img.save(os.path.join(self.save_to_dir, fname))\n\n  File \"/Users/butler/anaconda3/envs/CNN/lib/python3.9/site-packages/PIL/Image.py\", line 2434, in save\n    fp.close()\n\nOSError: [Errno 28] No space left on device\n\n\n\t [[{{node PyFunc}}]]\n\t [[IteratorGetNext]] [Op:__inference_train_function_1190]",
     "output_type": "error",
     "traceback": [
      "\u001b[0;31m---------------------------------------------------------------------------\u001b[0m",
      "\u001b[0;31mUnknownError\u001b[0m                              Traceback (most recent call last)",
      "Cell \u001b[0;32mIn[35], line 1\u001b[0m\n\u001b[0;32m----> 1\u001b[0m history \u001b[38;5;241m=\u001b[39m \u001b[43mloaded_model2\u001b[49m\u001b[38;5;241;43m.\u001b[39;49m\u001b[43mfit\u001b[49m\u001b[43m(\u001b[49m\n\u001b[1;32m      2\u001b[0m \u001b[43m    \u001b[49m\u001b[43mx\u001b[49m\u001b[38;5;241;43m=\u001b[39;49m\u001b[43mtrain_data\u001b[49m\u001b[43m,\u001b[49m\n\u001b[1;32m      3\u001b[0m \u001b[43m    \u001b[49m\u001b[43my\u001b[49m\u001b[38;5;241;43m=\u001b[39;49m\u001b[38;5;28;43;01mNone\u001b[39;49;00m\u001b[43m,\u001b[49m\n\u001b[1;32m      4\u001b[0m \u001b[43m    \u001b[49m\u001b[43mvalidation_data\u001b[49m\u001b[38;5;241;43m=\u001b[39;49m\u001b[43m \u001b[49m\u001b[43mval_data\u001b[49m\u001b[43m,\u001b[49m\n\u001b[1;32m      5\u001b[0m \u001b[43m    \u001b[49m\u001b[43mepochs\u001b[49m\u001b[38;5;241;43m=\u001b[39;49m\u001b[43mepochs\u001b[49m\u001b[43m,\u001b[49m\n\u001b[1;32m      6\u001b[0m \u001b[43m    \u001b[49m\u001b[43mverbose\u001b[49m\u001b[38;5;241;43m=\u001b[39;49m\u001b[38;5;124;43m\"\u001b[39;49m\u001b[38;5;124;43mauto\u001b[39;49m\u001b[38;5;124;43m\"\u001b[39;49m\u001b[43m,\u001b[49m\n\u001b[1;32m      7\u001b[0m \u001b[43m    \u001b[49m\u001b[43mcallbacks\u001b[49m\u001b[38;5;241;43m=\u001b[39;49m\u001b[43mcallbacks\u001b[49m\u001b[43m,\u001b[49m\n\u001b[1;32m      8\u001b[0m \u001b[43m    \u001b[49m\u001b[43mvalidation_split\u001b[49m\u001b[38;5;241;43m=\u001b[39;49m\u001b[38;5;241;43m0.0\u001b[39;49m\u001b[43m,\u001b[49m\n\u001b[1;32m      9\u001b[0m \u001b[43m    \u001b[49m\u001b[43mshuffle\u001b[49m\u001b[38;5;241;43m=\u001b[39;49m\u001b[38;5;28;43;01mTrue\u001b[39;49;00m\u001b[43m,\u001b[49m\n\u001b[1;32m     10\u001b[0m \u001b[43m    \u001b[49m\u001b[43mvalidation_freq\u001b[49m\u001b[38;5;241;43m=\u001b[39;49m\u001b[38;5;241;43m10\u001b[39;49m\u001b[43m,\u001b[49m\n\u001b[1;32m     11\u001b[0m \u001b[43m    \u001b[49m\u001b[43m)\u001b[49m\n",
      "File \u001b[0;32m~/anaconda3/envs/CNN/lib/python3.9/site-packages/keras/src/utils/traceback_utils.py:70\u001b[0m, in \u001b[0;36mfilter_traceback.<locals>.error_handler\u001b[0;34m(*args, **kwargs)\u001b[0m\n\u001b[1;32m     67\u001b[0m     filtered_tb \u001b[38;5;241m=\u001b[39m _process_traceback_frames(e\u001b[38;5;241m.\u001b[39m__traceback__)\n\u001b[1;32m     68\u001b[0m     \u001b[38;5;66;03m# To get the full stack trace, call:\u001b[39;00m\n\u001b[1;32m     69\u001b[0m     \u001b[38;5;66;03m# `tf.debugging.disable_traceback_filtering()`\u001b[39;00m\n\u001b[0;32m---> 70\u001b[0m     \u001b[38;5;28;01mraise\u001b[39;00m e\u001b[38;5;241m.\u001b[39mwith_traceback(filtered_tb) \u001b[38;5;28;01mfrom\u001b[39;00m \u001b[38;5;28;01mNone\u001b[39;00m\n\u001b[1;32m     71\u001b[0m \u001b[38;5;28;01mfinally\u001b[39;00m:\n\u001b[1;32m     72\u001b[0m     \u001b[38;5;28;01mdel\u001b[39;00m filtered_tb\n",
      "File \u001b[0;32m~/anaconda3/envs/CNN/lib/python3.9/site-packages/tensorflow/python/eager/execute.py:53\u001b[0m, in \u001b[0;36mquick_execute\u001b[0;34m(op_name, num_outputs, inputs, attrs, ctx, name)\u001b[0m\n\u001b[1;32m     51\u001b[0m \u001b[38;5;28;01mtry\u001b[39;00m:\n\u001b[1;32m     52\u001b[0m   ctx\u001b[38;5;241m.\u001b[39mensure_initialized()\n\u001b[0;32m---> 53\u001b[0m   tensors \u001b[38;5;241m=\u001b[39m pywrap_tfe\u001b[38;5;241m.\u001b[39mTFE_Py_Execute(ctx\u001b[38;5;241m.\u001b[39m_handle, device_name, op_name,\n\u001b[1;32m     54\u001b[0m                                       inputs, attrs, num_outputs)\n\u001b[1;32m     55\u001b[0m \u001b[38;5;28;01mexcept\u001b[39;00m core\u001b[38;5;241m.\u001b[39m_NotOkStatusException \u001b[38;5;28;01mas\u001b[39;00m e:\n\u001b[1;32m     56\u001b[0m   \u001b[38;5;28;01mif\u001b[39;00m name \u001b[38;5;129;01mis\u001b[39;00m \u001b[38;5;129;01mnot\u001b[39;00m \u001b[38;5;28;01mNone\u001b[39;00m:\n",
      "\u001b[0;31mUnknownError\u001b[0m: Graph execution error:\n\nOSError: [Errno 28] No space left on device\nTraceback (most recent call last):\n\n  File \"/Users/butler/anaconda3/envs/CNN/lib/python3.9/site-packages/PIL/Image.py\", line 2431, in save\n    save_handler(self, fp, filename)\n\n  File \"/Users/butler/anaconda3/envs/CNN/lib/python3.9/site-packages/PIL/PngImagePlugin.py\", line 1434, in _save\n    fp.flush()\n\nOSError: [Errno 28] No space left on device\n\n\nDuring handling of the above exception, another exception occurred:\n\n\nTraceback (most recent call last):\n\n  File \"/Users/butler/anaconda3/envs/CNN/lib/python3.9/site-packages/tensorflow/python/ops/script_ops.py\", line 268, in __call__\n    ret = func(*args)\n\n  File \"/Users/butler/anaconda3/envs/CNN/lib/python3.9/site-packages/tensorflow/python/autograph/impl/api.py\", line 643, in wrapper\n    return func(*args, **kwargs)\n\n  File \"/Users/butler/anaconda3/envs/CNN/lib/python3.9/site-packages/tensorflow/python/data/ops/from_generator_op.py\", line 198, in generator_py_func\n    values = next(generator_state.get_iterator(iterator_id))\n\n  File \"/Users/butler/anaconda3/envs/CNN/lib/python3.9/site-packages/keras/src/engine/data_adapter.py\", line 917, in wrapped_generator\n    for data in generator_fn():\n\n  File \"/Users/butler/anaconda3/envs/CNN/lib/python3.9/site-packages/keras/src/engine/data_adapter.py\", line 1064, in generator_fn\n    yield x[i]\n\n  File \"/Users/butler/anaconda3/envs/CNN/lib/python3.9/site-packages/keras/src/preprocessing/image.py\", line 116, in __getitem__\n    return self._get_batches_of_transformed_samples(index_array)\n\n  File \"/Users/butler/anaconda3/envs/CNN/lib/python3.9/site-packages/keras/src/preprocessing/image.py\", line 399, in _get_batches_of_transformed_samples\n    img.save(os.path.join(self.save_to_dir, fname))\n\n  File \"/Users/butler/anaconda3/envs/CNN/lib/python3.9/site-packages/PIL/Image.py\", line 2434, in save\n    fp.close()\n\nOSError: [Errno 28] No space left on device\n\n\n\t [[{{node PyFunc}}]]\n\t [[IteratorGetNext]] [Op:__inference_train_function_1190]"
     ]
    }
   ],
   "source": [
    "history = loaded_model2.fit(\n",
    "    x=train_data,\n",
    "    y=None,\n",
    "    validation_data= val_data,\n",
    "    epochs=epochs,\n",
    "    verbose=\"auto\",\n",
    "    callbacks=callbacks,\n",
    "    validation_split=0.0,\n",
    "    shuffle=True,\n",
    "    validation_freq=10,\n",
    "    )"
   ]
  },
  {
   "cell_type": "code",
   "execution_count": 36,
   "metadata": {},
   "outputs": [],
   "source": [
    "loaded_model2_json = loaded_model2.to_json()\n",
    "with open('/Users/butler/Documents/hp/Retrieval_of_Indian_clothing_images/models/model20230831_2.json', 'w') as json_file:\n",
    "    json_file.write(loaded_model2_json)\n",
    "# serialize weights to HDF5\n",
    "loaded_model2.save_weights('/Users/butler/Documents/hp/Retrieval_of_Indian_clothing_images/models/model20230831_2.h5')"
   ]
  },
  {
   "cell_type": "code",
   "execution_count": 34,
   "metadata": {},
   "outputs": [],
   "source": [
    "json_file = open('/Users/butler/Documents/hp/Retrieval_of_Indian_clothing_images/models/model20230831_2.json', 'r')\n",
    "loaded_model3_json = json_file.read()\n",
    "json_file.close()\n",
    "loaded_model3 = model_from_json(loaded_model3_json)"
   ]
  },
  {
   "cell_type": "code",
   "execution_count": 35,
   "metadata": {
    "scrolled": true
   },
   "outputs": [
    {
     "name": "stdout",
     "output_type": "stream",
     "text": [
      "Loaded model from disk\n"
     ]
    }
   ],
   "source": [
    "loaded_model3.load_weights('/Users/butler/Documents/hp/Retrieval_of_Indian_clothing_images/models/model20230831_2.h5')\n",
    "print(\"Loaded model from disk\")"
   ]
  },
  {
   "cell_type": "code",
   "execution_count": 37,
   "metadata": {},
   "outputs": [],
   "source": [
    "loaded_model3.compile(loss='categorical_crossentropy', optimizer='adam', metrics=['accuracy'])"
   ]
  },
  {
   "cell_type": "code",
   "execution_count": 39,
   "metadata": {},
   "outputs": [
    {
     "name": "stdout",
     "output_type": "stream",
     "text": [
      "accuracy: 75.55%\n"
     ]
    }
   ],
   "source": [
    "scores = loaded_model3.evaluate(x=val_generator, y=None, verbose=0)\n",
    "print(\"%s: %.2f%%\" % (loaded_model3.metrics_names[1], scores[1]*100))"
   ]
  },
  {
   "cell_type": "code",
   "execution_count": null,
   "metadata": {},
   "outputs": [],
   "source": []
  }
 ],
 "metadata": {
  "accelerator": "GPU",
  "colab": {
   "gpuType": "T4",
   "machine_shape": "hm",
   "provenance": []
  },
  "kernelspec": {
   "display_name": "Python 3 (ipykernel)",
   "language": "python",
   "name": "python3"
  },
  "language_info": {
   "codemirror_mode": {
    "name": "ipython",
    "version": 3
   },
   "file_extension": ".py",
   "mimetype": "text/x-python",
   "name": "python",
   "nbconvert_exporter": "python",
   "pygments_lexer": "ipython3",
   "version": "3.9.17"
  }
 },
 "nbformat": 4,
 "nbformat_minor": 1
}
