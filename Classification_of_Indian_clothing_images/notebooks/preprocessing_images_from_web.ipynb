{
 "cells": [
  {
   "cell_type": "code",
   "execution_count": 538,
   "id": "3d6fc90a",
   "metadata": {},
   "outputs": [],
   "source": [
    "import pandas as pd\n",
    "import numpy as np\n",
    "import seaborn as sns\n",
    "import matplotlib.pyplot as plt\n",
    "import imageio.v2 as imageio\n",
    "import cv2\n",
    "from skimage import color\n",
    "import os\n",
    "from glob import glob\n",
    "import random"
   ]
  },
  {
   "cell_type": "markdown",
   "id": "34fa6c7f",
   "metadata": {},
   "source": [
    "Women's Kurtas"
   ]
  },
  {
   "cell_type": "code",
   "execution_count": 539,
   "id": "25641200",
   "metadata": {},
   "outputs": [],
   "source": [
    "files_fk = glob('/Users/butler/Documents/springboard_bootcamp/Classification_of_Indian_clothing_images/data/external/newly_scraped_images/women_kurta/flipkart/*.jpeg')"
   ]
  },
  {
   "cell_type": "code",
   "execution_count": 540,
   "id": "44090fc0",
   "metadata": {},
   "outputs": [
    {
     "data": {
      "text/plain": [
       "528"
      ]
     },
     "execution_count": 540,
     "metadata": {},
     "output_type": "execute_result"
    }
   ],
   "source": [
    "len(files_fk)"
   ]
  },
  {
   "cell_type": "code",
   "execution_count": 541,
   "id": "2583d770",
   "metadata": {},
   "outputs": [],
   "source": [
    "files_uf = glob('/Users/butler/Documents/springboard_bootcamp/Classification_of_Indian_clothing_images/data/external/newly_scraped_images/women_kurta/utsavfashion/*.jpg')"
   ]
  },
  {
   "cell_type": "code",
   "execution_count": 542,
   "id": "744d024f",
   "metadata": {},
   "outputs": [
    {
     "data": {
      "text/plain": [
       "83"
      ]
     },
     "execution_count": 542,
     "metadata": {},
     "output_type": "execute_result"
    }
   ],
   "source": [
    "len(files_uf)"
   ]
  },
  {
   "cell_type": "markdown",
   "id": "79d84232",
   "metadata": {},
   "source": [
    "Want 500 files"
   ]
  },
  {
   "cell_type": "code",
   "execution_count": 543,
   "id": "934fd086",
   "metadata": {},
   "outputs": [],
   "source": [
    "lst = files_uf + files_fk"
   ]
  },
  {
   "cell_type": "code",
   "execution_count": 544,
   "id": "8f0f988d",
   "metadata": {},
   "outputs": [],
   "source": [
    "df_women_kurta = pd.DataFrame()"
   ]
  },
  {
   "cell_type": "code",
   "execution_count": 545,
   "id": "2fbe0873",
   "metadata": {},
   "outputs": [],
   "source": [
    "df_women_kurta['files'] = lst"
   ]
  },
  {
   "cell_type": "code",
   "execution_count": 546,
   "id": "1d3fbeb9",
   "metadata": {
    "scrolled": false
   },
   "outputs": [
    {
     "data": {
      "text/html": [
       "<div>\n",
       "<style scoped>\n",
       "    .dataframe tbody tr th:only-of-type {\n",
       "        vertical-align: middle;\n",
       "    }\n",
       "\n",
       "    .dataframe tbody tr th {\n",
       "        vertical-align: top;\n",
       "    }\n",
       "\n",
       "    .dataframe thead th {\n",
       "        text-align: right;\n",
       "    }\n",
       "</style>\n",
       "<table border=\"1\" class=\"dataframe\">\n",
       "  <thead>\n",
       "    <tr style=\"text-align: right;\">\n",
       "      <th></th>\n",
       "      <th>files</th>\n",
       "    </tr>\n",
       "  </thead>\n",
       "  <tbody>\n",
       "    <tr>\n",
       "      <th>0</th>\n",
       "      <td>/Users/butler/Documents/springboard_bootcamp/C...</td>\n",
       "    </tr>\n",
       "    <tr>\n",
       "      <th>1</th>\n",
       "      <td>/Users/butler/Documents/springboard_bootcamp/C...</td>\n",
       "    </tr>\n",
       "    <tr>\n",
       "      <th>2</th>\n",
       "      <td>/Users/butler/Documents/springboard_bootcamp/C...</td>\n",
       "    </tr>\n",
       "    <tr>\n",
       "      <th>3</th>\n",
       "      <td>/Users/butler/Documents/springboard_bootcamp/C...</td>\n",
       "    </tr>\n",
       "    <tr>\n",
       "      <th>4</th>\n",
       "      <td>/Users/butler/Documents/springboard_bootcamp/C...</td>\n",
       "    </tr>\n",
       "  </tbody>\n",
       "</table>\n",
       "</div>"
      ],
      "text/plain": [
       "                                               files\n",
       "0  /Users/butler/Documents/springboard_bootcamp/C...\n",
       "1  /Users/butler/Documents/springboard_bootcamp/C...\n",
       "2  /Users/butler/Documents/springboard_bootcamp/C...\n",
       "3  /Users/butler/Documents/springboard_bootcamp/C...\n",
       "4  /Users/butler/Documents/springboard_bootcamp/C..."
      ]
     },
     "execution_count": 546,
     "metadata": {},
     "output_type": "execute_result"
    }
   ],
   "source": [
    "df_women_kurta.head()"
   ]
  },
  {
   "cell_type": "code",
   "execution_count": 547,
   "id": "7c428de5",
   "metadata": {},
   "outputs": [
    {
     "data": {
      "text/plain": [
       "611"
      ]
     },
     "execution_count": 547,
     "metadata": {},
     "output_type": "execute_result"
    }
   ],
   "source": [
    "len(df_women_kurta)"
   ]
  },
  {
   "cell_type": "code",
   "execution_count": 548,
   "id": "7b487db3",
   "metadata": {},
   "outputs": [],
   "source": [
    "r = list(random.sample(range(0, 5000), 611))"
   ]
  },
  {
   "cell_type": "code",
   "execution_count": 549,
   "id": "36d5deff",
   "metadata": {},
   "outputs": [
    {
     "data": {
      "text/plain": [
       "611"
      ]
     },
     "execution_count": 549,
     "metadata": {},
     "output_type": "execute_result"
    }
   ],
   "source": [
    "len(r)"
   ]
  },
  {
   "cell_type": "code",
   "execution_count": 550,
   "id": "80eae381",
   "metadata": {},
   "outputs": [],
   "source": [
    "df_women_kurta['random_number'] = r"
   ]
  },
  {
   "cell_type": "code",
   "execution_count": 551,
   "id": "7ba4bc5f",
   "metadata": {},
   "outputs": [
    {
     "data": {
      "text/html": [
       "<div>\n",
       "<style scoped>\n",
       "    .dataframe tbody tr th:only-of-type {\n",
       "        vertical-align: middle;\n",
       "    }\n",
       "\n",
       "    .dataframe tbody tr th {\n",
       "        vertical-align: top;\n",
       "    }\n",
       "\n",
       "    .dataframe thead th {\n",
       "        text-align: right;\n",
       "    }\n",
       "</style>\n",
       "<table border=\"1\" class=\"dataframe\">\n",
       "  <thead>\n",
       "    <tr style=\"text-align: right;\">\n",
       "      <th></th>\n",
       "      <th>files</th>\n",
       "      <th>random_number</th>\n",
       "    </tr>\n",
       "  </thead>\n",
       "  <tbody>\n",
       "    <tr>\n",
       "      <th>0</th>\n",
       "      <td>/Users/butler/Documents/springboard_bootcamp/C...</td>\n",
       "      <td>4841</td>\n",
       "    </tr>\n",
       "    <tr>\n",
       "      <th>1</th>\n",
       "      <td>/Users/butler/Documents/springboard_bootcamp/C...</td>\n",
       "      <td>1576</td>\n",
       "    </tr>\n",
       "    <tr>\n",
       "      <th>2</th>\n",
       "      <td>/Users/butler/Documents/springboard_bootcamp/C...</td>\n",
       "      <td>2991</td>\n",
       "    </tr>\n",
       "    <tr>\n",
       "      <th>3</th>\n",
       "      <td>/Users/butler/Documents/springboard_bootcamp/C...</td>\n",
       "      <td>339</td>\n",
       "    </tr>\n",
       "    <tr>\n",
       "      <th>4</th>\n",
       "      <td>/Users/butler/Documents/springboard_bootcamp/C...</td>\n",
       "      <td>4946</td>\n",
       "    </tr>\n",
       "  </tbody>\n",
       "</table>\n",
       "</div>"
      ],
      "text/plain": [
       "                                               files  random_number\n",
       "0  /Users/butler/Documents/springboard_bootcamp/C...           4841\n",
       "1  /Users/butler/Documents/springboard_bootcamp/C...           1576\n",
       "2  /Users/butler/Documents/springboard_bootcamp/C...           2991\n",
       "3  /Users/butler/Documents/springboard_bootcamp/C...            339\n",
       "4  /Users/butler/Documents/springboard_bootcamp/C...           4946"
      ]
     },
     "execution_count": 551,
     "metadata": {},
     "output_type": "execute_result"
    }
   ],
   "source": [
    "df_women_kurta.head()"
   ]
  },
  {
   "cell_type": "code",
   "execution_count": 552,
   "id": "81bf192a",
   "metadata": {},
   "outputs": [],
   "source": [
    "df_women_kurta = df_women_kurta.sort_values('random_number')"
   ]
  },
  {
   "cell_type": "code",
   "execution_count": 553,
   "id": "fbe96560",
   "metadata": {},
   "outputs": [],
   "source": [
    "df_women_kurta = df_women_kurta.iloc[:500, :]"
   ]
  },
  {
   "cell_type": "code",
   "execution_count": 554,
   "id": "824575ea",
   "metadata": {
    "scrolled": true
   },
   "outputs": [
    {
     "data": {
      "text/plain": [
       "500"
      ]
     },
     "execution_count": 554,
     "metadata": {},
     "output_type": "execute_result"
    }
   ],
   "source": [
    "len(df_women_kurta)"
   ]
  },
  {
   "cell_type": "code",
   "execution_count": 555,
   "id": "59532699",
   "metadata": {
    "scrolled": true
   },
   "outputs": [
    {
     "data": {
      "text/html": [
       "<div>\n",
       "<style scoped>\n",
       "    .dataframe tbody tr th:only-of-type {\n",
       "        vertical-align: middle;\n",
       "    }\n",
       "\n",
       "    .dataframe tbody tr th {\n",
       "        vertical-align: top;\n",
       "    }\n",
       "\n",
       "    .dataframe thead th {\n",
       "        text-align: right;\n",
       "    }\n",
       "</style>\n",
       "<table border=\"1\" class=\"dataframe\">\n",
       "  <thead>\n",
       "    <tr style=\"text-align: right;\">\n",
       "      <th></th>\n",
       "      <th>files</th>\n",
       "      <th>random_number</th>\n",
       "    </tr>\n",
       "  </thead>\n",
       "  <tbody>\n",
       "    <tr>\n",
       "      <th>0</th>\n",
       "      <td>/Users/butler/Documents/springboard_bootcamp/C...</td>\n",
       "      <td>0</td>\n",
       "    </tr>\n",
       "    <tr>\n",
       "      <th>1</th>\n",
       "      <td>/Users/butler/Documents/springboard_bootcamp/C...</td>\n",
       "      <td>5</td>\n",
       "    </tr>\n",
       "    <tr>\n",
       "      <th>2</th>\n",
       "      <td>/Users/butler/Documents/springboard_bootcamp/C...</td>\n",
       "      <td>7</td>\n",
       "    </tr>\n",
       "    <tr>\n",
       "      <th>3</th>\n",
       "      <td>/Users/butler/Documents/springboard_bootcamp/C...</td>\n",
       "      <td>18</td>\n",
       "    </tr>\n",
       "    <tr>\n",
       "      <th>4</th>\n",
       "      <td>/Users/butler/Documents/springboard_bootcamp/C...</td>\n",
       "      <td>22</td>\n",
       "    </tr>\n",
       "  </tbody>\n",
       "</table>\n",
       "</div>"
      ],
      "text/plain": [
       "                                               files  random_number\n",
       "0  /Users/butler/Documents/springboard_bootcamp/C...              0\n",
       "1  /Users/butler/Documents/springboard_bootcamp/C...              5\n",
       "2  /Users/butler/Documents/springboard_bootcamp/C...              7\n",
       "3  /Users/butler/Documents/springboard_bootcamp/C...             18\n",
       "4  /Users/butler/Documents/springboard_bootcamp/C...             22"
      ]
     },
     "execution_count": 555,
     "metadata": {},
     "output_type": "execute_result"
    }
   ],
   "source": [
    "df_women_kurta.reset_index(drop=True,inplace=True)\n",
    "df_women_kurta.head()"
   ]
  },
  {
   "cell_type": "code",
   "execution_count": 556,
   "id": "4fae0e1a",
   "metadata": {},
   "outputs": [],
   "source": [
    "df_women_kurta.to_csv('/Users/butler/Documents/springboard_bootcamp/Classification_of_Indian_clothing_images/data/external/newly_scraped_images/df_women_kurta.csv')"
   ]
  },
  {
   "cell_type": "markdown",
   "id": "fda5bfa9",
   "metadata": {},
   "source": [
    "Sherwanis"
   ]
  },
  {
   "cell_type": "code",
   "execution_count": 557,
   "id": "cd784c5b",
   "metadata": {},
   "outputs": [],
   "source": [
    "files_fk = glob('/Users/butler/Documents/springboard_bootcamp/Classification_of_Indian_clothing_images/data/external/newly_scraped_images/sherwanis/flipkart/*.jpeg')"
   ]
  },
  {
   "cell_type": "code",
   "execution_count": 558,
   "id": "dfcab058",
   "metadata": {},
   "outputs": [
    {
     "data": {
      "text/plain": [
       "443"
      ]
     },
     "execution_count": 558,
     "metadata": {},
     "output_type": "execute_result"
    }
   ],
   "source": [
    "len(files_fk)"
   ]
  },
  {
   "cell_type": "code",
   "execution_count": 559,
   "id": "b2f55640",
   "metadata": {},
   "outputs": [],
   "source": [
    "files_kp = glob('/Users/butler/Documents/springboard_bootcamp/Classification_of_Indian_clothing_images/data/external/newly_scraped_images/sherwanis/karmaplace/*.jpg')"
   ]
  },
  {
   "cell_type": "code",
   "execution_count": 560,
   "id": "b6595d78",
   "metadata": {},
   "outputs": [
    {
     "data": {
      "text/plain": [
       "589"
      ]
     },
     "execution_count": 560,
     "metadata": {},
     "output_type": "execute_result"
    }
   ],
   "source": [
    "len(files_kp)"
   ]
  },
  {
   "cell_type": "code",
   "execution_count": 561,
   "id": "3de33f79",
   "metadata": {},
   "outputs": [],
   "source": [
    "files_uf = glob('/Users/butler/Documents/springboard_bootcamp/Classification_of_Indian_clothing_images/data/external/newly_scraped_images/sherwanis/utsavfashion/*.jpg')"
   ]
  },
  {
   "cell_type": "code",
   "execution_count": 562,
   "id": "a0646958",
   "metadata": {},
   "outputs": [
    {
     "data": {
      "text/plain": [
       "114"
      ]
     },
     "execution_count": 562,
     "metadata": {},
     "output_type": "execute_result"
    }
   ],
   "source": [
    "len(files_uf)"
   ]
  },
  {
   "cell_type": "markdown",
   "id": "1212729e",
   "metadata": {},
   "source": [
    "Want 500 files"
   ]
  },
  {
   "cell_type": "code",
   "execution_count": 563,
   "id": "c1a9d10c",
   "metadata": {},
   "outputs": [],
   "source": [
    "lst = files_uf + files_kp + files_fk"
   ]
  },
  {
   "cell_type": "code",
   "execution_count": 564,
   "id": "622a7a42",
   "metadata": {},
   "outputs": [],
   "source": [
    "df_sherwanis = pd.DataFrame()"
   ]
  },
  {
   "cell_type": "code",
   "execution_count": 565,
   "id": "c66a5e5a",
   "metadata": {},
   "outputs": [],
   "source": [
    "df_sherwanis['files'] = lst"
   ]
  },
  {
   "cell_type": "code",
   "execution_count": 566,
   "id": "91a5ceb3",
   "metadata": {
    "scrolled": false
   },
   "outputs": [
    {
     "data": {
      "text/html": [
       "<div>\n",
       "<style scoped>\n",
       "    .dataframe tbody tr th:only-of-type {\n",
       "        vertical-align: middle;\n",
       "    }\n",
       "\n",
       "    .dataframe tbody tr th {\n",
       "        vertical-align: top;\n",
       "    }\n",
       "\n",
       "    .dataframe thead th {\n",
       "        text-align: right;\n",
       "    }\n",
       "</style>\n",
       "<table border=\"1\" class=\"dataframe\">\n",
       "  <thead>\n",
       "    <tr style=\"text-align: right;\">\n",
       "      <th></th>\n",
       "      <th>files</th>\n",
       "    </tr>\n",
       "  </thead>\n",
       "  <tbody>\n",
       "    <tr>\n",
       "      <th>0</th>\n",
       "      <td>/Users/butler/Documents/springboard_bootcamp/C...</td>\n",
       "    </tr>\n",
       "    <tr>\n",
       "      <th>1</th>\n",
       "      <td>/Users/butler/Documents/springboard_bootcamp/C...</td>\n",
       "    </tr>\n",
       "    <tr>\n",
       "      <th>2</th>\n",
       "      <td>/Users/butler/Documents/springboard_bootcamp/C...</td>\n",
       "    </tr>\n",
       "    <tr>\n",
       "      <th>3</th>\n",
       "      <td>/Users/butler/Documents/springboard_bootcamp/C...</td>\n",
       "    </tr>\n",
       "    <tr>\n",
       "      <th>4</th>\n",
       "      <td>/Users/butler/Documents/springboard_bootcamp/C...</td>\n",
       "    </tr>\n",
       "  </tbody>\n",
       "</table>\n",
       "</div>"
      ],
      "text/plain": [
       "                                               files\n",
       "0  /Users/butler/Documents/springboard_bootcamp/C...\n",
       "1  /Users/butler/Documents/springboard_bootcamp/C...\n",
       "2  /Users/butler/Documents/springboard_bootcamp/C...\n",
       "3  /Users/butler/Documents/springboard_bootcamp/C...\n",
       "4  /Users/butler/Documents/springboard_bootcamp/C..."
      ]
     },
     "execution_count": 566,
     "metadata": {},
     "output_type": "execute_result"
    }
   ],
   "source": [
    "df_sherwanis.head()"
   ]
  },
  {
   "cell_type": "code",
   "execution_count": 567,
   "id": "26db2e9a",
   "metadata": {},
   "outputs": [
    {
     "data": {
      "text/plain": [
       "1146"
      ]
     },
     "execution_count": 567,
     "metadata": {},
     "output_type": "execute_result"
    }
   ],
   "source": [
    "len(df_sherwanis)"
   ]
  },
  {
   "cell_type": "code",
   "execution_count": 568,
   "id": "19ece34a",
   "metadata": {},
   "outputs": [],
   "source": [
    "r = list(random.sample(range(0, 5000), 1146))"
   ]
  },
  {
   "cell_type": "code",
   "execution_count": 569,
   "id": "271750fb",
   "metadata": {},
   "outputs": [
    {
     "data": {
      "text/plain": [
       "1146"
      ]
     },
     "execution_count": 569,
     "metadata": {},
     "output_type": "execute_result"
    }
   ],
   "source": [
    "len(r)"
   ]
  },
  {
   "cell_type": "code",
   "execution_count": 570,
   "id": "d49d81c0",
   "metadata": {},
   "outputs": [],
   "source": [
    "df_sherwanis['random_number'] = r"
   ]
  },
  {
   "cell_type": "code",
   "execution_count": 571,
   "id": "32371134",
   "metadata": {},
   "outputs": [
    {
     "data": {
      "text/html": [
       "<div>\n",
       "<style scoped>\n",
       "    .dataframe tbody tr th:only-of-type {\n",
       "        vertical-align: middle;\n",
       "    }\n",
       "\n",
       "    .dataframe tbody tr th {\n",
       "        vertical-align: top;\n",
       "    }\n",
       "\n",
       "    .dataframe thead th {\n",
       "        text-align: right;\n",
       "    }\n",
       "</style>\n",
       "<table border=\"1\" class=\"dataframe\">\n",
       "  <thead>\n",
       "    <tr style=\"text-align: right;\">\n",
       "      <th></th>\n",
       "      <th>files</th>\n",
       "      <th>random_number</th>\n",
       "    </tr>\n",
       "  </thead>\n",
       "  <tbody>\n",
       "    <tr>\n",
       "      <th>0</th>\n",
       "      <td>/Users/butler/Documents/springboard_bootcamp/C...</td>\n",
       "      <td>2019</td>\n",
       "    </tr>\n",
       "    <tr>\n",
       "      <th>1</th>\n",
       "      <td>/Users/butler/Documents/springboard_bootcamp/C...</td>\n",
       "      <td>4303</td>\n",
       "    </tr>\n",
       "    <tr>\n",
       "      <th>2</th>\n",
       "      <td>/Users/butler/Documents/springboard_bootcamp/C...</td>\n",
       "      <td>283</td>\n",
       "    </tr>\n",
       "    <tr>\n",
       "      <th>3</th>\n",
       "      <td>/Users/butler/Documents/springboard_bootcamp/C...</td>\n",
       "      <td>2411</td>\n",
       "    </tr>\n",
       "    <tr>\n",
       "      <th>4</th>\n",
       "      <td>/Users/butler/Documents/springboard_bootcamp/C...</td>\n",
       "      <td>1874</td>\n",
       "    </tr>\n",
       "  </tbody>\n",
       "</table>\n",
       "</div>"
      ],
      "text/plain": [
       "                                               files  random_number\n",
       "0  /Users/butler/Documents/springboard_bootcamp/C...           2019\n",
       "1  /Users/butler/Documents/springboard_bootcamp/C...           4303\n",
       "2  /Users/butler/Documents/springboard_bootcamp/C...            283\n",
       "3  /Users/butler/Documents/springboard_bootcamp/C...           2411\n",
       "4  /Users/butler/Documents/springboard_bootcamp/C...           1874"
      ]
     },
     "execution_count": 571,
     "metadata": {},
     "output_type": "execute_result"
    }
   ],
   "source": [
    "df_sherwanis.head()"
   ]
  },
  {
   "cell_type": "code",
   "execution_count": 572,
   "id": "dc55a314",
   "metadata": {},
   "outputs": [],
   "source": [
    "df_sherwanis = df_sherwanis.sort_values('random_number')"
   ]
  },
  {
   "cell_type": "code",
   "execution_count": 573,
   "id": "5eecc74c",
   "metadata": {},
   "outputs": [],
   "source": [
    "df_sherwanis = df_sherwanis.iloc[:500, :]"
   ]
  },
  {
   "cell_type": "code",
   "execution_count": 574,
   "id": "9776604c",
   "metadata": {
    "scrolled": true
   },
   "outputs": [
    {
     "data": {
      "text/plain": [
       "500"
      ]
     },
     "execution_count": 574,
     "metadata": {},
     "output_type": "execute_result"
    }
   ],
   "source": [
    "len(df_sherwanis)"
   ]
  },
  {
   "cell_type": "code",
   "execution_count": 575,
   "id": "02125a46",
   "metadata": {
    "scrolled": false
   },
   "outputs": [
    {
     "data": {
      "text/html": [
       "<div>\n",
       "<style scoped>\n",
       "    .dataframe tbody tr th:only-of-type {\n",
       "        vertical-align: middle;\n",
       "    }\n",
       "\n",
       "    .dataframe tbody tr th {\n",
       "        vertical-align: top;\n",
       "    }\n",
       "\n",
       "    .dataframe thead th {\n",
       "        text-align: right;\n",
       "    }\n",
       "</style>\n",
       "<table border=\"1\" class=\"dataframe\">\n",
       "  <thead>\n",
       "    <tr style=\"text-align: right;\">\n",
       "      <th></th>\n",
       "      <th>files</th>\n",
       "      <th>random_number</th>\n",
       "    </tr>\n",
       "  </thead>\n",
       "  <tbody>\n",
       "    <tr>\n",
       "      <th>0</th>\n",
       "      <td>/Users/butler/Documents/springboard_bootcamp/C...</td>\n",
       "      <td>2</td>\n",
       "    </tr>\n",
       "    <tr>\n",
       "      <th>1</th>\n",
       "      <td>/Users/butler/Documents/springboard_bootcamp/C...</td>\n",
       "      <td>6</td>\n",
       "    </tr>\n",
       "    <tr>\n",
       "      <th>2</th>\n",
       "      <td>/Users/butler/Documents/springboard_bootcamp/C...</td>\n",
       "      <td>8</td>\n",
       "    </tr>\n",
       "    <tr>\n",
       "      <th>3</th>\n",
       "      <td>/Users/butler/Documents/springboard_bootcamp/C...</td>\n",
       "      <td>20</td>\n",
       "    </tr>\n",
       "    <tr>\n",
       "      <th>4</th>\n",
       "      <td>/Users/butler/Documents/springboard_bootcamp/C...</td>\n",
       "      <td>27</td>\n",
       "    </tr>\n",
       "  </tbody>\n",
       "</table>\n",
       "</div>"
      ],
      "text/plain": [
       "                                               files  random_number\n",
       "0  /Users/butler/Documents/springboard_bootcamp/C...              2\n",
       "1  /Users/butler/Documents/springboard_bootcamp/C...              6\n",
       "2  /Users/butler/Documents/springboard_bootcamp/C...              8\n",
       "3  /Users/butler/Documents/springboard_bootcamp/C...             20\n",
       "4  /Users/butler/Documents/springboard_bootcamp/C...             27"
      ]
     },
     "execution_count": 575,
     "metadata": {},
     "output_type": "execute_result"
    }
   ],
   "source": [
    "df_sherwanis.reset_index(drop=True, inplace=True)\n",
    "df_sherwanis.head()"
   ]
  },
  {
   "cell_type": "code",
   "execution_count": 576,
   "id": "227a7c92",
   "metadata": {},
   "outputs": [],
   "source": [
    "df_sherwanis.to_csv('/Users/butler/Documents/springboard_bootcamp/Classification_of_Indian_clothing_images/data/external/newly_scraped_images/df_sherwanis.csv')"
   ]
  },
  {
   "cell_type": "markdown",
   "id": "ba54a532",
   "metadata": {},
   "source": [
    "Sarees"
   ]
  },
  {
   "cell_type": "code",
   "execution_count": 577,
   "id": "6383c0c0",
   "metadata": {},
   "outputs": [],
   "source": [
    "files_fk = glob('/Users/butler/Documents/springboard_bootcamp/Classification_of_Indian_clothing_images/data/external/newly_scraped_images/saree/flipkart/*.jpeg')"
   ]
  },
  {
   "cell_type": "code",
   "execution_count": 578,
   "id": "3a2d06ee",
   "metadata": {},
   "outputs": [
    {
     "data": {
      "text/plain": [
       "574"
      ]
     },
     "execution_count": 578,
     "metadata": {},
     "output_type": "execute_result"
    }
   ],
   "source": [
    "len(files_fk)"
   ]
  },
  {
   "cell_type": "code",
   "execution_count": 579,
   "id": "041c3970",
   "metadata": {},
   "outputs": [],
   "source": [
    "files_uf = glob('/Users/butler/Documents/springboard_bootcamp/Classification_of_Indian_clothing_images/data/external/newly_scraped_images/saree/utsavfashion/*.jpg')"
   ]
  },
  {
   "cell_type": "code",
   "execution_count": 580,
   "id": "4310c085",
   "metadata": {},
   "outputs": [
    {
     "data": {
      "text/plain": [
       "294"
      ]
     },
     "execution_count": 580,
     "metadata": {},
     "output_type": "execute_result"
    }
   ],
   "source": [
    "len(files_uf)"
   ]
  },
  {
   "cell_type": "markdown",
   "id": "161ed910",
   "metadata": {},
   "source": [
    "Want 500 files"
   ]
  },
  {
   "cell_type": "code",
   "execution_count": 581,
   "id": "d7edf030",
   "metadata": {},
   "outputs": [],
   "source": [
    "lst = files_uf + files_fk"
   ]
  },
  {
   "cell_type": "code",
   "execution_count": 582,
   "id": "c8a6681d",
   "metadata": {},
   "outputs": [],
   "source": [
    "df_saree = pd.DataFrame()"
   ]
  },
  {
   "cell_type": "code",
   "execution_count": 583,
   "id": "ffdf941f",
   "metadata": {},
   "outputs": [],
   "source": [
    "df_saree['files'] = lst"
   ]
  },
  {
   "cell_type": "code",
   "execution_count": 584,
   "id": "c722d982",
   "metadata": {
    "scrolled": false
   },
   "outputs": [
    {
     "data": {
      "text/html": [
       "<div>\n",
       "<style scoped>\n",
       "    .dataframe tbody tr th:only-of-type {\n",
       "        vertical-align: middle;\n",
       "    }\n",
       "\n",
       "    .dataframe tbody tr th {\n",
       "        vertical-align: top;\n",
       "    }\n",
       "\n",
       "    .dataframe thead th {\n",
       "        text-align: right;\n",
       "    }\n",
       "</style>\n",
       "<table border=\"1\" class=\"dataframe\">\n",
       "  <thead>\n",
       "    <tr style=\"text-align: right;\">\n",
       "      <th></th>\n",
       "      <th>files</th>\n",
       "    </tr>\n",
       "  </thead>\n",
       "  <tbody>\n",
       "    <tr>\n",
       "      <th>0</th>\n",
       "      <td>/Users/butler/Documents/springboard_bootcamp/C...</td>\n",
       "    </tr>\n",
       "    <tr>\n",
       "      <th>1</th>\n",
       "      <td>/Users/butler/Documents/springboard_bootcamp/C...</td>\n",
       "    </tr>\n",
       "    <tr>\n",
       "      <th>2</th>\n",
       "      <td>/Users/butler/Documents/springboard_bootcamp/C...</td>\n",
       "    </tr>\n",
       "    <tr>\n",
       "      <th>3</th>\n",
       "      <td>/Users/butler/Documents/springboard_bootcamp/C...</td>\n",
       "    </tr>\n",
       "    <tr>\n",
       "      <th>4</th>\n",
       "      <td>/Users/butler/Documents/springboard_bootcamp/C...</td>\n",
       "    </tr>\n",
       "  </tbody>\n",
       "</table>\n",
       "</div>"
      ],
      "text/plain": [
       "                                               files\n",
       "0  /Users/butler/Documents/springboard_bootcamp/C...\n",
       "1  /Users/butler/Documents/springboard_bootcamp/C...\n",
       "2  /Users/butler/Documents/springboard_bootcamp/C...\n",
       "3  /Users/butler/Documents/springboard_bootcamp/C...\n",
       "4  /Users/butler/Documents/springboard_bootcamp/C..."
      ]
     },
     "execution_count": 584,
     "metadata": {},
     "output_type": "execute_result"
    }
   ],
   "source": [
    "df_saree.head()"
   ]
  },
  {
   "cell_type": "code",
   "execution_count": 585,
   "id": "00949813",
   "metadata": {},
   "outputs": [
    {
     "data": {
      "text/plain": [
       "868"
      ]
     },
     "execution_count": 585,
     "metadata": {},
     "output_type": "execute_result"
    }
   ],
   "source": [
    "len(df_saree)"
   ]
  },
  {
   "cell_type": "code",
   "execution_count": 586,
   "id": "511c9f89",
   "metadata": {},
   "outputs": [],
   "source": [
    "r = list(random.sample(range(0, 5000), 868))"
   ]
  },
  {
   "cell_type": "code",
   "execution_count": 587,
   "id": "f687babc",
   "metadata": {},
   "outputs": [
    {
     "data": {
      "text/plain": [
       "868"
      ]
     },
     "execution_count": 587,
     "metadata": {},
     "output_type": "execute_result"
    }
   ],
   "source": [
    "len(r)"
   ]
  },
  {
   "cell_type": "code",
   "execution_count": 588,
   "id": "2d9e1be9",
   "metadata": {},
   "outputs": [],
   "source": [
    "df_saree['random_number'] = r"
   ]
  },
  {
   "cell_type": "code",
   "execution_count": 589,
   "id": "d5cdef95",
   "metadata": {},
   "outputs": [
    {
     "data": {
      "text/html": [
       "<div>\n",
       "<style scoped>\n",
       "    .dataframe tbody tr th:only-of-type {\n",
       "        vertical-align: middle;\n",
       "    }\n",
       "\n",
       "    .dataframe tbody tr th {\n",
       "        vertical-align: top;\n",
       "    }\n",
       "\n",
       "    .dataframe thead th {\n",
       "        text-align: right;\n",
       "    }\n",
       "</style>\n",
       "<table border=\"1\" class=\"dataframe\">\n",
       "  <thead>\n",
       "    <tr style=\"text-align: right;\">\n",
       "      <th></th>\n",
       "      <th>files</th>\n",
       "      <th>random_number</th>\n",
       "    </tr>\n",
       "  </thead>\n",
       "  <tbody>\n",
       "    <tr>\n",
       "      <th>0</th>\n",
       "      <td>/Users/butler/Documents/springboard_bootcamp/C...</td>\n",
       "      <td>1245</td>\n",
       "    </tr>\n",
       "    <tr>\n",
       "      <th>1</th>\n",
       "      <td>/Users/butler/Documents/springboard_bootcamp/C...</td>\n",
       "      <td>978</td>\n",
       "    </tr>\n",
       "    <tr>\n",
       "      <th>2</th>\n",
       "      <td>/Users/butler/Documents/springboard_bootcamp/C...</td>\n",
       "      <td>1736</td>\n",
       "    </tr>\n",
       "    <tr>\n",
       "      <th>3</th>\n",
       "      <td>/Users/butler/Documents/springboard_bootcamp/C...</td>\n",
       "      <td>2432</td>\n",
       "    </tr>\n",
       "    <tr>\n",
       "      <th>4</th>\n",
       "      <td>/Users/butler/Documents/springboard_bootcamp/C...</td>\n",
       "      <td>3335</td>\n",
       "    </tr>\n",
       "  </tbody>\n",
       "</table>\n",
       "</div>"
      ],
      "text/plain": [
       "                                               files  random_number\n",
       "0  /Users/butler/Documents/springboard_bootcamp/C...           1245\n",
       "1  /Users/butler/Documents/springboard_bootcamp/C...            978\n",
       "2  /Users/butler/Documents/springboard_bootcamp/C...           1736\n",
       "3  /Users/butler/Documents/springboard_bootcamp/C...           2432\n",
       "4  /Users/butler/Documents/springboard_bootcamp/C...           3335"
      ]
     },
     "execution_count": 589,
     "metadata": {},
     "output_type": "execute_result"
    }
   ],
   "source": [
    "df_saree.head()"
   ]
  },
  {
   "cell_type": "code",
   "execution_count": 590,
   "id": "216661d1",
   "metadata": {},
   "outputs": [],
   "source": [
    "df_saree = df_saree.sort_values('random_number')"
   ]
  },
  {
   "cell_type": "code",
   "execution_count": 591,
   "id": "f0dc1f2f",
   "metadata": {},
   "outputs": [],
   "source": [
    "df_saree = df_saree.iloc[:500, :]"
   ]
  },
  {
   "cell_type": "code",
   "execution_count": 592,
   "id": "7cfdd19e",
   "metadata": {},
   "outputs": [
    {
     "data": {
      "text/plain": [
       "500"
      ]
     },
     "execution_count": 592,
     "metadata": {},
     "output_type": "execute_result"
    }
   ],
   "source": [
    "len(df_saree)"
   ]
  },
  {
   "cell_type": "code",
   "execution_count": 593,
   "id": "b0904591",
   "metadata": {
    "scrolled": true
   },
   "outputs": [
    {
     "data": {
      "text/html": [
       "<div>\n",
       "<style scoped>\n",
       "    .dataframe tbody tr th:only-of-type {\n",
       "        vertical-align: middle;\n",
       "    }\n",
       "\n",
       "    .dataframe tbody tr th {\n",
       "        vertical-align: top;\n",
       "    }\n",
       "\n",
       "    .dataframe thead th {\n",
       "        text-align: right;\n",
       "    }\n",
       "</style>\n",
       "<table border=\"1\" class=\"dataframe\">\n",
       "  <thead>\n",
       "    <tr style=\"text-align: right;\">\n",
       "      <th></th>\n",
       "      <th>files</th>\n",
       "      <th>random_number</th>\n",
       "    </tr>\n",
       "  </thead>\n",
       "  <tbody>\n",
       "    <tr>\n",
       "      <th>0</th>\n",
       "      <td>/Users/butler/Documents/springboard_bootcamp/C...</td>\n",
       "      <td>6</td>\n",
       "    </tr>\n",
       "    <tr>\n",
       "      <th>1</th>\n",
       "      <td>/Users/butler/Documents/springboard_bootcamp/C...</td>\n",
       "      <td>10</td>\n",
       "    </tr>\n",
       "    <tr>\n",
       "      <th>2</th>\n",
       "      <td>/Users/butler/Documents/springboard_bootcamp/C...</td>\n",
       "      <td>15</td>\n",
       "    </tr>\n",
       "    <tr>\n",
       "      <th>3</th>\n",
       "      <td>/Users/butler/Documents/springboard_bootcamp/C...</td>\n",
       "      <td>19</td>\n",
       "    </tr>\n",
       "    <tr>\n",
       "      <th>4</th>\n",
       "      <td>/Users/butler/Documents/springboard_bootcamp/C...</td>\n",
       "      <td>21</td>\n",
       "    </tr>\n",
       "  </tbody>\n",
       "</table>\n",
       "</div>"
      ],
      "text/plain": [
       "                                               files  random_number\n",
       "0  /Users/butler/Documents/springboard_bootcamp/C...              6\n",
       "1  /Users/butler/Documents/springboard_bootcamp/C...             10\n",
       "2  /Users/butler/Documents/springboard_bootcamp/C...             15\n",
       "3  /Users/butler/Documents/springboard_bootcamp/C...             19\n",
       "4  /Users/butler/Documents/springboard_bootcamp/C...             21"
      ]
     },
     "execution_count": 593,
     "metadata": {},
     "output_type": "execute_result"
    }
   ],
   "source": [
    "df_saree.reset_index(drop=True, inplace=True)\n",
    "df_saree.head()"
   ]
  },
  {
   "cell_type": "code",
   "execution_count": 594,
   "id": "74c12b30",
   "metadata": {},
   "outputs": [],
   "source": [
    "df_saree.to_csv('/Users/butler/Documents/springboard_bootcamp/Classification_of_Indian_clothing_images/data/external/newly_scraped_images/df_saree.csv')"
   ]
  },
  {
   "cell_type": "markdown",
   "id": "b4618193",
   "metadata": {},
   "source": [
    "Petticoats"
   ]
  },
  {
   "cell_type": "code",
   "execution_count": 595,
   "id": "525f244c",
   "metadata": {},
   "outputs": [],
   "source": [
    "files_fk = glob('/Users/butler/Documents/springboard_bootcamp/Classification_of_Indian_clothing_images/data/external/newly_scraped_images/petticoats/flipkart/*.jpeg')"
   ]
  },
  {
   "cell_type": "code",
   "execution_count": 596,
   "id": "2c7e75a7",
   "metadata": {},
   "outputs": [
    {
     "data": {
      "text/plain": [
       "472"
      ]
     },
     "execution_count": 596,
     "metadata": {},
     "output_type": "execute_result"
    }
   ],
   "source": [
    "len(files_fk)"
   ]
  },
  {
   "cell_type": "code",
   "execution_count": 597,
   "id": "1f8322ab",
   "metadata": {},
   "outputs": [],
   "source": [
    "files_uf = glob('/Users/butler/Documents/springboard_bootcamp/Classification_of_Indian_clothing_images/data/external/newly_scraped_images/petticoats/utsavfashion/*.jpg')"
   ]
  },
  {
   "cell_type": "code",
   "execution_count": 598,
   "id": "8f0d692a",
   "metadata": {},
   "outputs": [
    {
     "data": {
      "text/plain": [
       "84"
      ]
     },
     "execution_count": 598,
     "metadata": {},
     "output_type": "execute_result"
    }
   ],
   "source": [
    "len(files_uf)"
   ]
  },
  {
   "cell_type": "markdown",
   "id": "748afb55",
   "metadata": {},
   "source": [
    "Want 500 files"
   ]
  },
  {
   "cell_type": "code",
   "execution_count": 599,
   "id": "cfffcd4d",
   "metadata": {},
   "outputs": [],
   "source": [
    "lst = files_uf + files_fk"
   ]
  },
  {
   "cell_type": "code",
   "execution_count": 600,
   "id": "50c4e6bb",
   "metadata": {},
   "outputs": [],
   "source": [
    "df_petticoats = pd.DataFrame()"
   ]
  },
  {
   "cell_type": "code",
   "execution_count": 601,
   "id": "5280334b",
   "metadata": {},
   "outputs": [],
   "source": [
    "df_petticoats['files'] = lst"
   ]
  },
  {
   "cell_type": "code",
   "execution_count": 602,
   "id": "c6ac5b67",
   "metadata": {
    "scrolled": false
   },
   "outputs": [
    {
     "data": {
      "text/html": [
       "<div>\n",
       "<style scoped>\n",
       "    .dataframe tbody tr th:only-of-type {\n",
       "        vertical-align: middle;\n",
       "    }\n",
       "\n",
       "    .dataframe tbody tr th {\n",
       "        vertical-align: top;\n",
       "    }\n",
       "\n",
       "    .dataframe thead th {\n",
       "        text-align: right;\n",
       "    }\n",
       "</style>\n",
       "<table border=\"1\" class=\"dataframe\">\n",
       "  <thead>\n",
       "    <tr style=\"text-align: right;\">\n",
       "      <th></th>\n",
       "      <th>files</th>\n",
       "    </tr>\n",
       "  </thead>\n",
       "  <tbody>\n",
       "    <tr>\n",
       "      <th>0</th>\n",
       "      <td>/Users/butler/Documents/springboard_bootcamp/C...</td>\n",
       "    </tr>\n",
       "    <tr>\n",
       "      <th>1</th>\n",
       "      <td>/Users/butler/Documents/springboard_bootcamp/C...</td>\n",
       "    </tr>\n",
       "    <tr>\n",
       "      <th>2</th>\n",
       "      <td>/Users/butler/Documents/springboard_bootcamp/C...</td>\n",
       "    </tr>\n",
       "    <tr>\n",
       "      <th>3</th>\n",
       "      <td>/Users/butler/Documents/springboard_bootcamp/C...</td>\n",
       "    </tr>\n",
       "    <tr>\n",
       "      <th>4</th>\n",
       "      <td>/Users/butler/Documents/springboard_bootcamp/C...</td>\n",
       "    </tr>\n",
       "  </tbody>\n",
       "</table>\n",
       "</div>"
      ],
      "text/plain": [
       "                                               files\n",
       "0  /Users/butler/Documents/springboard_bootcamp/C...\n",
       "1  /Users/butler/Documents/springboard_bootcamp/C...\n",
       "2  /Users/butler/Documents/springboard_bootcamp/C...\n",
       "3  /Users/butler/Documents/springboard_bootcamp/C...\n",
       "4  /Users/butler/Documents/springboard_bootcamp/C..."
      ]
     },
     "execution_count": 602,
     "metadata": {},
     "output_type": "execute_result"
    }
   ],
   "source": [
    "df_petticoats.head()"
   ]
  },
  {
   "cell_type": "code",
   "execution_count": 603,
   "id": "b5b4cdba",
   "metadata": {},
   "outputs": [
    {
     "data": {
      "text/plain": [
       "556"
      ]
     },
     "execution_count": 603,
     "metadata": {},
     "output_type": "execute_result"
    }
   ],
   "source": [
    "len(df_petticoats)"
   ]
  },
  {
   "cell_type": "code",
   "execution_count": 604,
   "id": "bcfc1e7f",
   "metadata": {},
   "outputs": [],
   "source": [
    "r = list(random.sample(range(0, 5000), 556))"
   ]
  },
  {
   "cell_type": "code",
   "execution_count": 605,
   "id": "b95e42a3",
   "metadata": {},
   "outputs": [
    {
     "data": {
      "text/plain": [
       "556"
      ]
     },
     "execution_count": 605,
     "metadata": {},
     "output_type": "execute_result"
    }
   ],
   "source": [
    "len(r)"
   ]
  },
  {
   "cell_type": "code",
   "execution_count": 606,
   "id": "6728d4e1",
   "metadata": {},
   "outputs": [],
   "source": [
    "df_petticoats['random_number'] = r"
   ]
  },
  {
   "cell_type": "code",
   "execution_count": 607,
   "id": "81cb2489",
   "metadata": {},
   "outputs": [
    {
     "data": {
      "text/html": [
       "<div>\n",
       "<style scoped>\n",
       "    .dataframe tbody tr th:only-of-type {\n",
       "        vertical-align: middle;\n",
       "    }\n",
       "\n",
       "    .dataframe tbody tr th {\n",
       "        vertical-align: top;\n",
       "    }\n",
       "\n",
       "    .dataframe thead th {\n",
       "        text-align: right;\n",
       "    }\n",
       "</style>\n",
       "<table border=\"1\" class=\"dataframe\">\n",
       "  <thead>\n",
       "    <tr style=\"text-align: right;\">\n",
       "      <th></th>\n",
       "      <th>files</th>\n",
       "      <th>random_number</th>\n",
       "    </tr>\n",
       "  </thead>\n",
       "  <tbody>\n",
       "    <tr>\n",
       "      <th>0</th>\n",
       "      <td>/Users/butler/Documents/springboard_bootcamp/C...</td>\n",
       "      <td>3834</td>\n",
       "    </tr>\n",
       "    <tr>\n",
       "      <th>1</th>\n",
       "      <td>/Users/butler/Documents/springboard_bootcamp/C...</td>\n",
       "      <td>1905</td>\n",
       "    </tr>\n",
       "    <tr>\n",
       "      <th>2</th>\n",
       "      <td>/Users/butler/Documents/springboard_bootcamp/C...</td>\n",
       "      <td>513</td>\n",
       "    </tr>\n",
       "    <tr>\n",
       "      <th>3</th>\n",
       "      <td>/Users/butler/Documents/springboard_bootcamp/C...</td>\n",
       "      <td>3023</td>\n",
       "    </tr>\n",
       "    <tr>\n",
       "      <th>4</th>\n",
       "      <td>/Users/butler/Documents/springboard_bootcamp/C...</td>\n",
       "      <td>4013</td>\n",
       "    </tr>\n",
       "  </tbody>\n",
       "</table>\n",
       "</div>"
      ],
      "text/plain": [
       "                                               files  random_number\n",
       "0  /Users/butler/Documents/springboard_bootcamp/C...           3834\n",
       "1  /Users/butler/Documents/springboard_bootcamp/C...           1905\n",
       "2  /Users/butler/Documents/springboard_bootcamp/C...            513\n",
       "3  /Users/butler/Documents/springboard_bootcamp/C...           3023\n",
       "4  /Users/butler/Documents/springboard_bootcamp/C...           4013"
      ]
     },
     "execution_count": 607,
     "metadata": {},
     "output_type": "execute_result"
    }
   ],
   "source": [
    "df_petticoats.head()"
   ]
  },
  {
   "cell_type": "code",
   "execution_count": 608,
   "id": "81e43fe5",
   "metadata": {},
   "outputs": [],
   "source": [
    "df_petticoats = df_petticoats.sort_values('random_number')"
   ]
  },
  {
   "cell_type": "code",
   "execution_count": 609,
   "id": "4645be6a",
   "metadata": {},
   "outputs": [],
   "source": [
    "df_petticoats = df_petticoats.iloc[:500, :]"
   ]
  },
  {
   "cell_type": "code",
   "execution_count": 610,
   "id": "5035bc45",
   "metadata": {},
   "outputs": [
    {
     "data": {
      "text/plain": [
       "500"
      ]
     },
     "execution_count": 610,
     "metadata": {},
     "output_type": "execute_result"
    }
   ],
   "source": [
    "len(df_petticoats)"
   ]
  },
  {
   "cell_type": "code",
   "execution_count": 611,
   "id": "8a1c9b51",
   "metadata": {
    "scrolled": true
   },
   "outputs": [
    {
     "data": {
      "text/html": [
       "<div>\n",
       "<style scoped>\n",
       "    .dataframe tbody tr th:only-of-type {\n",
       "        vertical-align: middle;\n",
       "    }\n",
       "\n",
       "    .dataframe tbody tr th {\n",
       "        vertical-align: top;\n",
       "    }\n",
       "\n",
       "    .dataframe thead th {\n",
       "        text-align: right;\n",
       "    }\n",
       "</style>\n",
       "<table border=\"1\" class=\"dataframe\">\n",
       "  <thead>\n",
       "    <tr style=\"text-align: right;\">\n",
       "      <th></th>\n",
       "      <th>files</th>\n",
       "      <th>random_number</th>\n",
       "    </tr>\n",
       "  </thead>\n",
       "  <tbody>\n",
       "    <tr>\n",
       "      <th>0</th>\n",
       "      <td>/Users/butler/Documents/springboard_bootcamp/C...</td>\n",
       "      <td>8</td>\n",
       "    </tr>\n",
       "    <tr>\n",
       "      <th>1</th>\n",
       "      <td>/Users/butler/Documents/springboard_bootcamp/C...</td>\n",
       "      <td>28</td>\n",
       "    </tr>\n",
       "    <tr>\n",
       "      <th>2</th>\n",
       "      <td>/Users/butler/Documents/springboard_bootcamp/C...</td>\n",
       "      <td>33</td>\n",
       "    </tr>\n",
       "    <tr>\n",
       "      <th>3</th>\n",
       "      <td>/Users/butler/Documents/springboard_bootcamp/C...</td>\n",
       "      <td>36</td>\n",
       "    </tr>\n",
       "    <tr>\n",
       "      <th>4</th>\n",
       "      <td>/Users/butler/Documents/springboard_bootcamp/C...</td>\n",
       "      <td>39</td>\n",
       "    </tr>\n",
       "  </tbody>\n",
       "</table>\n",
       "</div>"
      ],
      "text/plain": [
       "                                               files  random_number\n",
       "0  /Users/butler/Documents/springboard_bootcamp/C...              8\n",
       "1  /Users/butler/Documents/springboard_bootcamp/C...             28\n",
       "2  /Users/butler/Documents/springboard_bootcamp/C...             33\n",
       "3  /Users/butler/Documents/springboard_bootcamp/C...             36\n",
       "4  /Users/butler/Documents/springboard_bootcamp/C...             39"
      ]
     },
     "execution_count": 611,
     "metadata": {},
     "output_type": "execute_result"
    }
   ],
   "source": [
    "df_petticoats.reset_index(drop=True, inplace=True)\n",
    "df_petticoats.head()"
   ]
  },
  {
   "cell_type": "code",
   "execution_count": 612,
   "id": "4a031f00",
   "metadata": {},
   "outputs": [],
   "source": [
    "df_petticoats.to_csv('/Users/butler/Documents/springboard_bootcamp/Classification_of_Indian_clothing_images/data/external/newly_scraped_images/df_petticoats.csv')"
   ]
  },
  {
   "cell_type": "markdown",
   "id": "81cd0113",
   "metadata": {},
   "source": [
    "Palazzos"
   ]
  },
  {
   "cell_type": "code",
   "execution_count": 613,
   "id": "342a3efd",
   "metadata": {},
   "outputs": [],
   "source": [
    "files_fk = glob('/Users/butler/Documents/springboard_bootcamp/Classification_of_Indian_clothing_images/data/external/newly_scraped_images/palazzos/flipkart/*.jpeg')"
   ]
  },
  {
   "cell_type": "code",
   "execution_count": 614,
   "id": "a5a80121",
   "metadata": {},
   "outputs": [
    {
     "data": {
      "text/plain": [
       "462"
      ]
     },
     "execution_count": 614,
     "metadata": {},
     "output_type": "execute_result"
    }
   ],
   "source": [
    "len(files_fk)"
   ]
  },
  {
   "cell_type": "code",
   "execution_count": 615,
   "id": "8af6f428",
   "metadata": {},
   "outputs": [],
   "source": [
    "files_ai = glob('/Users/butler/Documents/springboard_bootcamp/Classification_of_Indian_clothing_images/data/external/newly_scraped_images/women_kurta/amazon.in/*.jpg')"
   ]
  },
  {
   "cell_type": "code",
   "execution_count": 616,
   "id": "1a4c35ed",
   "metadata": {},
   "outputs": [
    {
     "data": {
      "text/plain": [
       "589"
      ]
     },
     "execution_count": 616,
     "metadata": {},
     "output_type": "execute_result"
    }
   ],
   "source": [
    "len(files_kp)"
   ]
  },
  {
   "cell_type": "code",
   "execution_count": 617,
   "id": "9e8cc312",
   "metadata": {},
   "outputs": [],
   "source": [
    "files_uf = glob('/Users/butler/Documents/springboard_bootcamp/Classification_of_Indian_clothing_images/data/external/newly_scraped_images/palazzos/utsavfashion/*.jpg')"
   ]
  },
  {
   "cell_type": "code",
   "execution_count": 618,
   "id": "8bde4e9a",
   "metadata": {},
   "outputs": [
    {
     "data": {
      "text/plain": [
       "120"
      ]
     },
     "execution_count": 618,
     "metadata": {},
     "output_type": "execute_result"
    }
   ],
   "source": [
    "len(files_uf)"
   ]
  },
  {
   "cell_type": "markdown",
   "id": "01157a88",
   "metadata": {},
   "source": [
    "Want 500 files"
   ]
  },
  {
   "cell_type": "code",
   "execution_count": 619,
   "id": "793938d7",
   "metadata": {},
   "outputs": [],
   "source": [
    "lst = files_uf + files_ai + files_fk"
   ]
  },
  {
   "cell_type": "code",
   "execution_count": 620,
   "id": "0f22405a",
   "metadata": {},
   "outputs": [],
   "source": [
    "df_palazzos = pd.DataFrame()"
   ]
  },
  {
   "cell_type": "code",
   "execution_count": 621,
   "id": "344d470c",
   "metadata": {},
   "outputs": [],
   "source": [
    "df_palazzos['files'] = lst"
   ]
  },
  {
   "cell_type": "code",
   "execution_count": 622,
   "id": "e2774a16",
   "metadata": {
    "scrolled": false
   },
   "outputs": [
    {
     "data": {
      "text/html": [
       "<div>\n",
       "<style scoped>\n",
       "    .dataframe tbody tr th:only-of-type {\n",
       "        vertical-align: middle;\n",
       "    }\n",
       "\n",
       "    .dataframe tbody tr th {\n",
       "        vertical-align: top;\n",
       "    }\n",
       "\n",
       "    .dataframe thead th {\n",
       "        text-align: right;\n",
       "    }\n",
       "</style>\n",
       "<table border=\"1\" class=\"dataframe\">\n",
       "  <thead>\n",
       "    <tr style=\"text-align: right;\">\n",
       "      <th></th>\n",
       "      <th>files</th>\n",
       "    </tr>\n",
       "  </thead>\n",
       "  <tbody>\n",
       "    <tr>\n",
       "      <th>0</th>\n",
       "      <td>/Users/butler/Documents/springboard_bootcamp/C...</td>\n",
       "    </tr>\n",
       "    <tr>\n",
       "      <th>1</th>\n",
       "      <td>/Users/butler/Documents/springboard_bootcamp/C...</td>\n",
       "    </tr>\n",
       "    <tr>\n",
       "      <th>2</th>\n",
       "      <td>/Users/butler/Documents/springboard_bootcamp/C...</td>\n",
       "    </tr>\n",
       "    <tr>\n",
       "      <th>3</th>\n",
       "      <td>/Users/butler/Documents/springboard_bootcamp/C...</td>\n",
       "    </tr>\n",
       "    <tr>\n",
       "      <th>4</th>\n",
       "      <td>/Users/butler/Documents/springboard_bootcamp/C...</td>\n",
       "    </tr>\n",
       "  </tbody>\n",
       "</table>\n",
       "</div>"
      ],
      "text/plain": [
       "                                               files\n",
       "0  /Users/butler/Documents/springboard_bootcamp/C...\n",
       "1  /Users/butler/Documents/springboard_bootcamp/C...\n",
       "2  /Users/butler/Documents/springboard_bootcamp/C...\n",
       "3  /Users/butler/Documents/springboard_bootcamp/C...\n",
       "4  /Users/butler/Documents/springboard_bootcamp/C..."
      ]
     },
     "execution_count": 622,
     "metadata": {},
     "output_type": "execute_result"
    }
   ],
   "source": [
    "df_palazzos.head()"
   ]
  },
  {
   "cell_type": "code",
   "execution_count": 623,
   "id": "2e4f26be",
   "metadata": {},
   "outputs": [
    {
     "data": {
      "text/plain": [
       "582"
      ]
     },
     "execution_count": 623,
     "metadata": {},
     "output_type": "execute_result"
    }
   ],
   "source": [
    "len(df_palazzos)"
   ]
  },
  {
   "cell_type": "code",
   "execution_count": 624,
   "id": "8803bf49",
   "metadata": {},
   "outputs": [],
   "source": [
    "r = list(random.sample(range(0, 5000), 582))"
   ]
  },
  {
   "cell_type": "code",
   "execution_count": 625,
   "id": "44fa00dd",
   "metadata": {},
   "outputs": [
    {
     "data": {
      "text/plain": [
       "582"
      ]
     },
     "execution_count": 625,
     "metadata": {},
     "output_type": "execute_result"
    }
   ],
   "source": [
    "len(r)"
   ]
  },
  {
   "cell_type": "code",
   "execution_count": 626,
   "id": "ae9f6672",
   "metadata": {},
   "outputs": [],
   "source": [
    "df_palazzos['random_number'] = r"
   ]
  },
  {
   "cell_type": "code",
   "execution_count": 627,
   "id": "0e01d353",
   "metadata": {},
   "outputs": [
    {
     "data": {
      "text/html": [
       "<div>\n",
       "<style scoped>\n",
       "    .dataframe tbody tr th:only-of-type {\n",
       "        vertical-align: middle;\n",
       "    }\n",
       "\n",
       "    .dataframe tbody tr th {\n",
       "        vertical-align: top;\n",
       "    }\n",
       "\n",
       "    .dataframe thead th {\n",
       "        text-align: right;\n",
       "    }\n",
       "</style>\n",
       "<table border=\"1\" class=\"dataframe\">\n",
       "  <thead>\n",
       "    <tr style=\"text-align: right;\">\n",
       "      <th></th>\n",
       "      <th>files</th>\n",
       "      <th>random_number</th>\n",
       "    </tr>\n",
       "  </thead>\n",
       "  <tbody>\n",
       "    <tr>\n",
       "      <th>0</th>\n",
       "      <td>/Users/butler/Documents/springboard_bootcamp/C...</td>\n",
       "      <td>1374</td>\n",
       "    </tr>\n",
       "    <tr>\n",
       "      <th>1</th>\n",
       "      <td>/Users/butler/Documents/springboard_bootcamp/C...</td>\n",
       "      <td>3235</td>\n",
       "    </tr>\n",
       "    <tr>\n",
       "      <th>2</th>\n",
       "      <td>/Users/butler/Documents/springboard_bootcamp/C...</td>\n",
       "      <td>187</td>\n",
       "    </tr>\n",
       "    <tr>\n",
       "      <th>3</th>\n",
       "      <td>/Users/butler/Documents/springboard_bootcamp/C...</td>\n",
       "      <td>2512</td>\n",
       "    </tr>\n",
       "    <tr>\n",
       "      <th>4</th>\n",
       "      <td>/Users/butler/Documents/springboard_bootcamp/C...</td>\n",
       "      <td>897</td>\n",
       "    </tr>\n",
       "  </tbody>\n",
       "</table>\n",
       "</div>"
      ],
      "text/plain": [
       "                                               files  random_number\n",
       "0  /Users/butler/Documents/springboard_bootcamp/C...           1374\n",
       "1  /Users/butler/Documents/springboard_bootcamp/C...           3235\n",
       "2  /Users/butler/Documents/springboard_bootcamp/C...            187\n",
       "3  /Users/butler/Documents/springboard_bootcamp/C...           2512\n",
       "4  /Users/butler/Documents/springboard_bootcamp/C...            897"
      ]
     },
     "execution_count": 627,
     "metadata": {},
     "output_type": "execute_result"
    }
   ],
   "source": [
    "df_palazzos.head()"
   ]
  },
  {
   "cell_type": "code",
   "execution_count": 628,
   "id": "162fe659",
   "metadata": {},
   "outputs": [],
   "source": [
    "df_palazzos = df_palazzos.sort_values('random_number')"
   ]
  },
  {
   "cell_type": "code",
   "execution_count": 629,
   "id": "ed5f9173",
   "metadata": {},
   "outputs": [],
   "source": [
    "df_palazzos = df_palazzos.iloc[:500, :]"
   ]
  },
  {
   "cell_type": "code",
   "execution_count": 630,
   "id": "350878a4",
   "metadata": {},
   "outputs": [
    {
     "data": {
      "text/plain": [
       "500"
      ]
     },
     "execution_count": 630,
     "metadata": {},
     "output_type": "execute_result"
    }
   ],
   "source": [
    "len(df_palazzos)"
   ]
  },
  {
   "cell_type": "code",
   "execution_count": 631,
   "id": "d51dd833",
   "metadata": {
    "scrolled": true
   },
   "outputs": [
    {
     "data": {
      "text/html": [
       "<div>\n",
       "<style scoped>\n",
       "    .dataframe tbody tr th:only-of-type {\n",
       "        vertical-align: middle;\n",
       "    }\n",
       "\n",
       "    .dataframe tbody tr th {\n",
       "        vertical-align: top;\n",
       "    }\n",
       "\n",
       "    .dataframe thead th {\n",
       "        text-align: right;\n",
       "    }\n",
       "</style>\n",
       "<table border=\"1\" class=\"dataframe\">\n",
       "  <thead>\n",
       "    <tr style=\"text-align: right;\">\n",
       "      <th></th>\n",
       "      <th>files</th>\n",
       "      <th>random_number</th>\n",
       "    </tr>\n",
       "  </thead>\n",
       "  <tbody>\n",
       "    <tr>\n",
       "      <th>0</th>\n",
       "      <td>/Users/butler/Documents/springboard_bootcamp/C...</td>\n",
       "      <td>16</td>\n",
       "    </tr>\n",
       "    <tr>\n",
       "      <th>1</th>\n",
       "      <td>/Users/butler/Documents/springboard_bootcamp/C...</td>\n",
       "      <td>41</td>\n",
       "    </tr>\n",
       "    <tr>\n",
       "      <th>2</th>\n",
       "      <td>/Users/butler/Documents/springboard_bootcamp/C...</td>\n",
       "      <td>67</td>\n",
       "    </tr>\n",
       "    <tr>\n",
       "      <th>3</th>\n",
       "      <td>/Users/butler/Documents/springboard_bootcamp/C...</td>\n",
       "      <td>75</td>\n",
       "    </tr>\n",
       "    <tr>\n",
       "      <th>4</th>\n",
       "      <td>/Users/butler/Documents/springboard_bootcamp/C...</td>\n",
       "      <td>91</td>\n",
       "    </tr>\n",
       "  </tbody>\n",
       "</table>\n",
       "</div>"
      ],
      "text/plain": [
       "                                               files  random_number\n",
       "0  /Users/butler/Documents/springboard_bootcamp/C...             16\n",
       "1  /Users/butler/Documents/springboard_bootcamp/C...             41\n",
       "2  /Users/butler/Documents/springboard_bootcamp/C...             67\n",
       "3  /Users/butler/Documents/springboard_bootcamp/C...             75\n",
       "4  /Users/butler/Documents/springboard_bootcamp/C...             91"
      ]
     },
     "execution_count": 631,
     "metadata": {},
     "output_type": "execute_result"
    }
   ],
   "source": [
    "df_palazzos.reset_index(drop=True, inplace=True)\n",
    "df_palazzos.head()"
   ]
  },
  {
   "cell_type": "code",
   "execution_count": 632,
   "id": "736f0229",
   "metadata": {},
   "outputs": [],
   "source": [
    "df_palazzos.to_csv('/Users/butler/Documents/springboard_bootcamp/Classification_of_Indian_clothing_images/data/external/newly_scraped_images/df_palazzos.csv')"
   ]
  },
  {
   "cell_type": "markdown",
   "id": "0509afc3",
   "metadata": {},
   "source": [
    "Nehru Jackets"
   ]
  },
  {
   "cell_type": "code",
   "execution_count": 633,
   "id": "6eca647a",
   "metadata": {},
   "outputs": [],
   "source": [
    "files_fk = glob('/Users/butler/Documents/springboard_bootcamp/Classification_of_Indian_clothing_images/data/external/newly_scraped_images/nehru_jackets/flipkart/*.jpeg')"
   ]
  },
  {
   "cell_type": "code",
   "execution_count": 634,
   "id": "e186532d",
   "metadata": {},
   "outputs": [
    {
     "data": {
      "text/plain": [
       "540"
      ]
     },
     "execution_count": 634,
     "metadata": {},
     "output_type": "execute_result"
    }
   ],
   "source": [
    "len(files_fk)"
   ]
  },
  {
   "cell_type": "code",
   "execution_count": 635,
   "id": "a1868168",
   "metadata": {},
   "outputs": [],
   "source": [
    "files_kp = glob('/Users/butler/Documents/springboard_bootcamp/Classification_of_Indian_clothing_images/data/external/newly_scraped_images/nehru_jackets/karmaplace/*.jpg')"
   ]
  },
  {
   "cell_type": "code",
   "execution_count": 636,
   "id": "13b3068e",
   "metadata": {},
   "outputs": [
    {
     "data": {
      "text/plain": [
       "20"
      ]
     },
     "execution_count": 636,
     "metadata": {},
     "output_type": "execute_result"
    }
   ],
   "source": [
    "len(files_kp)"
   ]
  },
  {
   "cell_type": "code",
   "execution_count": 637,
   "id": "2e1044f7",
   "metadata": {},
   "outputs": [],
   "source": [
    "files_uf = glob('/Users/butler/Documents/springboard_bootcamp/Classification_of_Indian_clothing_images/data/external/newly_scraped_images/nehru_jackets/utsavfashion/*.jpg')"
   ]
  },
  {
   "cell_type": "code",
   "execution_count": 638,
   "id": "e6428b39",
   "metadata": {},
   "outputs": [
    {
     "data": {
      "text/plain": [
       "120"
      ]
     },
     "execution_count": 638,
     "metadata": {},
     "output_type": "execute_result"
    }
   ],
   "source": [
    "len(files_uf)"
   ]
  },
  {
   "cell_type": "markdown",
   "id": "a53f07d2",
   "metadata": {},
   "source": [
    "Want 500 files"
   ]
  },
  {
   "cell_type": "code",
   "execution_count": 639,
   "id": "7fa9c686",
   "metadata": {},
   "outputs": [],
   "source": [
    "lst = files_uf + files_kp + files_fk"
   ]
  },
  {
   "cell_type": "code",
   "execution_count": 640,
   "id": "465d22ec",
   "metadata": {},
   "outputs": [],
   "source": [
    "df_nehru_jackets = pd.DataFrame()"
   ]
  },
  {
   "cell_type": "code",
   "execution_count": 641,
   "id": "571513a0",
   "metadata": {},
   "outputs": [],
   "source": [
    "df_nehru_jackets['files'] = lst"
   ]
  },
  {
   "cell_type": "code",
   "execution_count": 642,
   "id": "b689976c",
   "metadata": {
    "scrolled": false
   },
   "outputs": [
    {
     "data": {
      "text/html": [
       "<div>\n",
       "<style scoped>\n",
       "    .dataframe tbody tr th:only-of-type {\n",
       "        vertical-align: middle;\n",
       "    }\n",
       "\n",
       "    .dataframe tbody tr th {\n",
       "        vertical-align: top;\n",
       "    }\n",
       "\n",
       "    .dataframe thead th {\n",
       "        text-align: right;\n",
       "    }\n",
       "</style>\n",
       "<table border=\"1\" class=\"dataframe\">\n",
       "  <thead>\n",
       "    <tr style=\"text-align: right;\">\n",
       "      <th></th>\n",
       "      <th>files</th>\n",
       "    </tr>\n",
       "  </thead>\n",
       "  <tbody>\n",
       "    <tr>\n",
       "      <th>0</th>\n",
       "      <td>/Users/butler/Documents/springboard_bootcamp/C...</td>\n",
       "    </tr>\n",
       "    <tr>\n",
       "      <th>1</th>\n",
       "      <td>/Users/butler/Documents/springboard_bootcamp/C...</td>\n",
       "    </tr>\n",
       "    <tr>\n",
       "      <th>2</th>\n",
       "      <td>/Users/butler/Documents/springboard_bootcamp/C...</td>\n",
       "    </tr>\n",
       "    <tr>\n",
       "      <th>3</th>\n",
       "      <td>/Users/butler/Documents/springboard_bootcamp/C...</td>\n",
       "    </tr>\n",
       "    <tr>\n",
       "      <th>4</th>\n",
       "      <td>/Users/butler/Documents/springboard_bootcamp/C...</td>\n",
       "    </tr>\n",
       "  </tbody>\n",
       "</table>\n",
       "</div>"
      ],
      "text/plain": [
       "                                               files\n",
       "0  /Users/butler/Documents/springboard_bootcamp/C...\n",
       "1  /Users/butler/Documents/springboard_bootcamp/C...\n",
       "2  /Users/butler/Documents/springboard_bootcamp/C...\n",
       "3  /Users/butler/Documents/springboard_bootcamp/C...\n",
       "4  /Users/butler/Documents/springboard_bootcamp/C..."
      ]
     },
     "execution_count": 642,
     "metadata": {},
     "output_type": "execute_result"
    }
   ],
   "source": [
    "df_nehru_jackets.head()"
   ]
  },
  {
   "cell_type": "code",
   "execution_count": 643,
   "id": "61d21a77",
   "metadata": {},
   "outputs": [
    {
     "data": {
      "text/plain": [
       "680"
      ]
     },
     "execution_count": 643,
     "metadata": {},
     "output_type": "execute_result"
    }
   ],
   "source": [
    "len(df_nehru_jackets)"
   ]
  },
  {
   "cell_type": "code",
   "execution_count": 644,
   "id": "905f0577",
   "metadata": {},
   "outputs": [],
   "source": [
    "r = list(random.sample(range(0, 5000), 680))"
   ]
  },
  {
   "cell_type": "code",
   "execution_count": 645,
   "id": "9962afe9",
   "metadata": {},
   "outputs": [
    {
     "data": {
      "text/plain": [
       "680"
      ]
     },
     "execution_count": 645,
     "metadata": {},
     "output_type": "execute_result"
    }
   ],
   "source": [
    "len(r)"
   ]
  },
  {
   "cell_type": "code",
   "execution_count": 646,
   "id": "44fd3c07",
   "metadata": {},
   "outputs": [],
   "source": [
    "df_nehru_jackets['random_number'] = r"
   ]
  },
  {
   "cell_type": "code",
   "execution_count": 647,
   "id": "a8524104",
   "metadata": {},
   "outputs": [
    {
     "data": {
      "text/html": [
       "<div>\n",
       "<style scoped>\n",
       "    .dataframe tbody tr th:only-of-type {\n",
       "        vertical-align: middle;\n",
       "    }\n",
       "\n",
       "    .dataframe tbody tr th {\n",
       "        vertical-align: top;\n",
       "    }\n",
       "\n",
       "    .dataframe thead th {\n",
       "        text-align: right;\n",
       "    }\n",
       "</style>\n",
       "<table border=\"1\" class=\"dataframe\">\n",
       "  <thead>\n",
       "    <tr style=\"text-align: right;\">\n",
       "      <th></th>\n",
       "      <th>files</th>\n",
       "      <th>random_number</th>\n",
       "    </tr>\n",
       "  </thead>\n",
       "  <tbody>\n",
       "    <tr>\n",
       "      <th>0</th>\n",
       "      <td>/Users/butler/Documents/springboard_bootcamp/C...</td>\n",
       "      <td>4862</td>\n",
       "    </tr>\n",
       "    <tr>\n",
       "      <th>1</th>\n",
       "      <td>/Users/butler/Documents/springboard_bootcamp/C...</td>\n",
       "      <td>3046</td>\n",
       "    </tr>\n",
       "    <tr>\n",
       "      <th>2</th>\n",
       "      <td>/Users/butler/Documents/springboard_bootcamp/C...</td>\n",
       "      <td>756</td>\n",
       "    </tr>\n",
       "    <tr>\n",
       "      <th>3</th>\n",
       "      <td>/Users/butler/Documents/springboard_bootcamp/C...</td>\n",
       "      <td>2831</td>\n",
       "    </tr>\n",
       "    <tr>\n",
       "      <th>4</th>\n",
       "      <td>/Users/butler/Documents/springboard_bootcamp/C...</td>\n",
       "      <td>1257</td>\n",
       "    </tr>\n",
       "  </tbody>\n",
       "</table>\n",
       "</div>"
      ],
      "text/plain": [
       "                                               files  random_number\n",
       "0  /Users/butler/Documents/springboard_bootcamp/C...           4862\n",
       "1  /Users/butler/Documents/springboard_bootcamp/C...           3046\n",
       "2  /Users/butler/Documents/springboard_bootcamp/C...            756\n",
       "3  /Users/butler/Documents/springboard_bootcamp/C...           2831\n",
       "4  /Users/butler/Documents/springboard_bootcamp/C...           1257"
      ]
     },
     "execution_count": 647,
     "metadata": {},
     "output_type": "execute_result"
    }
   ],
   "source": [
    "df_nehru_jackets.head()"
   ]
  },
  {
   "cell_type": "code",
   "execution_count": 648,
   "id": "95763f9c",
   "metadata": {},
   "outputs": [],
   "source": [
    "df_nehru_jackets = df_nehru_jackets.sort_values('random_number')"
   ]
  },
  {
   "cell_type": "code",
   "execution_count": 649,
   "id": "9143ce60",
   "metadata": {},
   "outputs": [],
   "source": [
    "df_nehru_jackets = df_nehru_jackets.iloc[:500, :]"
   ]
  },
  {
   "cell_type": "code",
   "execution_count": 650,
   "id": "4172d687",
   "metadata": {},
   "outputs": [
    {
     "data": {
      "text/plain": [
       "500"
      ]
     },
     "execution_count": 650,
     "metadata": {},
     "output_type": "execute_result"
    }
   ],
   "source": [
    "len(df_nehru_jackets)"
   ]
  },
  {
   "cell_type": "code",
   "execution_count": 651,
   "id": "b6c5236f",
   "metadata": {
    "scrolled": true
   },
   "outputs": [
    {
     "data": {
      "text/html": [
       "<div>\n",
       "<style scoped>\n",
       "    .dataframe tbody tr th:only-of-type {\n",
       "        vertical-align: middle;\n",
       "    }\n",
       "\n",
       "    .dataframe tbody tr th {\n",
       "        vertical-align: top;\n",
       "    }\n",
       "\n",
       "    .dataframe thead th {\n",
       "        text-align: right;\n",
       "    }\n",
       "</style>\n",
       "<table border=\"1\" class=\"dataframe\">\n",
       "  <thead>\n",
       "    <tr style=\"text-align: right;\">\n",
       "      <th></th>\n",
       "      <th>files</th>\n",
       "      <th>random_number</th>\n",
       "    </tr>\n",
       "  </thead>\n",
       "  <tbody>\n",
       "    <tr>\n",
       "      <th>0</th>\n",
       "      <td>/Users/butler/Documents/springboard_bootcamp/C...</td>\n",
       "      <td>12</td>\n",
       "    </tr>\n",
       "    <tr>\n",
       "      <th>1</th>\n",
       "      <td>/Users/butler/Documents/springboard_bootcamp/C...</td>\n",
       "      <td>17</td>\n",
       "    </tr>\n",
       "    <tr>\n",
       "      <th>2</th>\n",
       "      <td>/Users/butler/Documents/springboard_bootcamp/C...</td>\n",
       "      <td>18</td>\n",
       "    </tr>\n",
       "    <tr>\n",
       "      <th>3</th>\n",
       "      <td>/Users/butler/Documents/springboard_bootcamp/C...</td>\n",
       "      <td>30</td>\n",
       "    </tr>\n",
       "    <tr>\n",
       "      <th>4</th>\n",
       "      <td>/Users/butler/Documents/springboard_bootcamp/C...</td>\n",
       "      <td>34</td>\n",
       "    </tr>\n",
       "  </tbody>\n",
       "</table>\n",
       "</div>"
      ],
      "text/plain": [
       "                                               files  random_number\n",
       "0  /Users/butler/Documents/springboard_bootcamp/C...             12\n",
       "1  /Users/butler/Documents/springboard_bootcamp/C...             17\n",
       "2  /Users/butler/Documents/springboard_bootcamp/C...             18\n",
       "3  /Users/butler/Documents/springboard_bootcamp/C...             30\n",
       "4  /Users/butler/Documents/springboard_bootcamp/C...             34"
      ]
     },
     "execution_count": 651,
     "metadata": {},
     "output_type": "execute_result"
    }
   ],
   "source": [
    "df_nehru_jackets.reset_index(drop=True, inplace=True)\n",
    "df_nehru_jackets.head()"
   ]
  },
  {
   "cell_type": "code",
   "execution_count": 652,
   "id": "1dddbe5e",
   "metadata": {},
   "outputs": [],
   "source": [
    "df_nehru_jackets.to_csv('/Users/butler/Documents/springboard_bootcamp/Classification_of_Indian_clothing_images/data/external/newly_scraped_images/df_nehru_jackets.csv')"
   ]
  },
  {
   "cell_type": "markdown",
   "id": "5993d6a3",
   "metadata": {},
   "source": [
    "Women's Mojaris"
   ]
  },
  {
   "cell_type": "code",
   "execution_count": 653,
   "id": "44be2a80",
   "metadata": {},
   "outputs": [],
   "source": [
    "files_fk = glob('/Users/butler/Documents/springboard_bootcamp/Classification_of_Indian_clothing_images/data/external/newly_scraped_images/mojaris_women/flipkart/*.jpeg')"
   ]
  },
  {
   "cell_type": "code",
   "execution_count": 654,
   "id": "9a0eb007",
   "metadata": {},
   "outputs": [
    {
     "data": {
      "text/plain": [
       "475"
      ]
     },
     "execution_count": 654,
     "metadata": {},
     "output_type": "execute_result"
    }
   ],
   "source": [
    "len(files_fk)"
   ]
  },
  {
   "cell_type": "code",
   "execution_count": 655,
   "id": "21c6f85d",
   "metadata": {},
   "outputs": [],
   "source": [
    "files_ai = glob('/Users/butler/Documents/springboard_bootcamp/Classification_of_Indian_clothing_images/data/external/newly_scraped_images/mojaris_women/amazon.in/*.jpg')"
   ]
  },
  {
   "cell_type": "code",
   "execution_count": 656,
   "id": "376a345d",
   "metadata": {},
   "outputs": [
    {
     "data": {
      "text/plain": [
       "136"
      ]
     },
     "execution_count": 656,
     "metadata": {},
     "output_type": "execute_result"
    }
   ],
   "source": [
    "len(files_ai)"
   ]
  },
  {
   "cell_type": "markdown",
   "id": "522f7e98",
   "metadata": {},
   "source": [
    "Want 500 files"
   ]
  },
  {
   "cell_type": "code",
   "execution_count": 657,
   "id": "23f1edd7",
   "metadata": {},
   "outputs": [],
   "source": [
    "lst = files_fk + files_ai "
   ]
  },
  {
   "cell_type": "code",
   "execution_count": 658,
   "id": "4092126d",
   "metadata": {},
   "outputs": [],
   "source": [
    "df_mojaris_women = pd.DataFrame()"
   ]
  },
  {
   "cell_type": "code",
   "execution_count": 659,
   "id": "e719ea7a",
   "metadata": {},
   "outputs": [],
   "source": [
    "df_mojaris_women['files'] = lst"
   ]
  },
  {
   "cell_type": "code",
   "execution_count": 660,
   "id": "aa163cbc",
   "metadata": {
    "scrolled": false
   },
   "outputs": [
    {
     "data": {
      "text/html": [
       "<div>\n",
       "<style scoped>\n",
       "    .dataframe tbody tr th:only-of-type {\n",
       "        vertical-align: middle;\n",
       "    }\n",
       "\n",
       "    .dataframe tbody tr th {\n",
       "        vertical-align: top;\n",
       "    }\n",
       "\n",
       "    .dataframe thead th {\n",
       "        text-align: right;\n",
       "    }\n",
       "</style>\n",
       "<table border=\"1\" class=\"dataframe\">\n",
       "  <thead>\n",
       "    <tr style=\"text-align: right;\">\n",
       "      <th></th>\n",
       "      <th>files</th>\n",
       "    </tr>\n",
       "  </thead>\n",
       "  <tbody>\n",
       "    <tr>\n",
       "      <th>0</th>\n",
       "      <td>/Users/butler/Documents/springboard_bootcamp/C...</td>\n",
       "    </tr>\n",
       "    <tr>\n",
       "      <th>1</th>\n",
       "      <td>/Users/butler/Documents/springboard_bootcamp/C...</td>\n",
       "    </tr>\n",
       "    <tr>\n",
       "      <th>2</th>\n",
       "      <td>/Users/butler/Documents/springboard_bootcamp/C...</td>\n",
       "    </tr>\n",
       "    <tr>\n",
       "      <th>3</th>\n",
       "      <td>/Users/butler/Documents/springboard_bootcamp/C...</td>\n",
       "    </tr>\n",
       "    <tr>\n",
       "      <th>4</th>\n",
       "      <td>/Users/butler/Documents/springboard_bootcamp/C...</td>\n",
       "    </tr>\n",
       "  </tbody>\n",
       "</table>\n",
       "</div>"
      ],
      "text/plain": [
       "                                               files\n",
       "0  /Users/butler/Documents/springboard_bootcamp/C...\n",
       "1  /Users/butler/Documents/springboard_bootcamp/C...\n",
       "2  /Users/butler/Documents/springboard_bootcamp/C...\n",
       "3  /Users/butler/Documents/springboard_bootcamp/C...\n",
       "4  /Users/butler/Documents/springboard_bootcamp/C..."
      ]
     },
     "execution_count": 660,
     "metadata": {},
     "output_type": "execute_result"
    }
   ],
   "source": [
    "df_mojaris_women.head()"
   ]
  },
  {
   "cell_type": "code",
   "execution_count": 661,
   "id": "47800430",
   "metadata": {},
   "outputs": [
    {
     "data": {
      "text/plain": [
       "611"
      ]
     },
     "execution_count": 661,
     "metadata": {},
     "output_type": "execute_result"
    }
   ],
   "source": [
    "len(df_mojaris_women)"
   ]
  },
  {
   "cell_type": "code",
   "execution_count": 662,
   "id": "4995b2ac",
   "metadata": {},
   "outputs": [],
   "source": [
    "r = list(random.sample(range(0, 5000), 611))"
   ]
  },
  {
   "cell_type": "code",
   "execution_count": 663,
   "id": "a61e5f28",
   "metadata": {},
   "outputs": [
    {
     "data": {
      "text/plain": [
       "611"
      ]
     },
     "execution_count": 663,
     "metadata": {},
     "output_type": "execute_result"
    }
   ],
   "source": [
    "len(r)"
   ]
  },
  {
   "cell_type": "code",
   "execution_count": 664,
   "id": "f5e95bb2",
   "metadata": {},
   "outputs": [],
   "source": [
    "df_mojaris_women['random_number'] = r"
   ]
  },
  {
   "cell_type": "code",
   "execution_count": 665,
   "id": "52e986b6",
   "metadata": {},
   "outputs": [
    {
     "data": {
      "text/html": [
       "<div>\n",
       "<style scoped>\n",
       "    .dataframe tbody tr th:only-of-type {\n",
       "        vertical-align: middle;\n",
       "    }\n",
       "\n",
       "    .dataframe tbody tr th {\n",
       "        vertical-align: top;\n",
       "    }\n",
       "\n",
       "    .dataframe thead th {\n",
       "        text-align: right;\n",
       "    }\n",
       "</style>\n",
       "<table border=\"1\" class=\"dataframe\">\n",
       "  <thead>\n",
       "    <tr style=\"text-align: right;\">\n",
       "      <th></th>\n",
       "      <th>files</th>\n",
       "      <th>random_number</th>\n",
       "    </tr>\n",
       "  </thead>\n",
       "  <tbody>\n",
       "    <tr>\n",
       "      <th>0</th>\n",
       "      <td>/Users/butler/Documents/springboard_bootcamp/C...</td>\n",
       "      <td>3407</td>\n",
       "    </tr>\n",
       "    <tr>\n",
       "      <th>1</th>\n",
       "      <td>/Users/butler/Documents/springboard_bootcamp/C...</td>\n",
       "      <td>4536</td>\n",
       "    </tr>\n",
       "    <tr>\n",
       "      <th>2</th>\n",
       "      <td>/Users/butler/Documents/springboard_bootcamp/C...</td>\n",
       "      <td>3627</td>\n",
       "    </tr>\n",
       "    <tr>\n",
       "      <th>3</th>\n",
       "      <td>/Users/butler/Documents/springboard_bootcamp/C...</td>\n",
       "      <td>3699</td>\n",
       "    </tr>\n",
       "    <tr>\n",
       "      <th>4</th>\n",
       "      <td>/Users/butler/Documents/springboard_bootcamp/C...</td>\n",
       "      <td>2762</td>\n",
       "    </tr>\n",
       "  </tbody>\n",
       "</table>\n",
       "</div>"
      ],
      "text/plain": [
       "                                               files  random_number\n",
       "0  /Users/butler/Documents/springboard_bootcamp/C...           3407\n",
       "1  /Users/butler/Documents/springboard_bootcamp/C...           4536\n",
       "2  /Users/butler/Documents/springboard_bootcamp/C...           3627\n",
       "3  /Users/butler/Documents/springboard_bootcamp/C...           3699\n",
       "4  /Users/butler/Documents/springboard_bootcamp/C...           2762"
      ]
     },
     "execution_count": 665,
     "metadata": {},
     "output_type": "execute_result"
    }
   ],
   "source": [
    "df_mojaris_women.head()"
   ]
  },
  {
   "cell_type": "code",
   "execution_count": 666,
   "id": "e129487d",
   "metadata": {},
   "outputs": [],
   "source": [
    "df_mojaris_women = df_mojaris_women.sort_values('random_number')"
   ]
  },
  {
   "cell_type": "code",
   "execution_count": 667,
   "id": "62c50c2c",
   "metadata": {},
   "outputs": [],
   "source": [
    "df_mojaris_women = df_mojaris_women.iloc[:500, :]"
   ]
  },
  {
   "cell_type": "code",
   "execution_count": 668,
   "id": "c4be6468",
   "metadata": {},
   "outputs": [
    {
     "data": {
      "text/plain": [
       "500"
      ]
     },
     "execution_count": 668,
     "metadata": {},
     "output_type": "execute_result"
    }
   ],
   "source": [
    "len(df_mojaris_women)"
   ]
  },
  {
   "cell_type": "code",
   "execution_count": 669,
   "id": "62852b95",
   "metadata": {
    "scrolled": false
   },
   "outputs": [
    {
     "data": {
      "text/html": [
       "<div>\n",
       "<style scoped>\n",
       "    .dataframe tbody tr th:only-of-type {\n",
       "        vertical-align: middle;\n",
       "    }\n",
       "\n",
       "    .dataframe tbody tr th {\n",
       "        vertical-align: top;\n",
       "    }\n",
       "\n",
       "    .dataframe thead th {\n",
       "        text-align: right;\n",
       "    }\n",
       "</style>\n",
       "<table border=\"1\" class=\"dataframe\">\n",
       "  <thead>\n",
       "    <tr style=\"text-align: right;\">\n",
       "      <th></th>\n",
       "      <th>files</th>\n",
       "      <th>random_number</th>\n",
       "    </tr>\n",
       "  </thead>\n",
       "  <tbody>\n",
       "    <tr>\n",
       "      <th>0</th>\n",
       "      <td>/Users/butler/Documents/springboard_bootcamp/C...</td>\n",
       "      <td>6</td>\n",
       "    </tr>\n",
       "    <tr>\n",
       "      <th>1</th>\n",
       "      <td>/Users/butler/Documents/springboard_bootcamp/C...</td>\n",
       "      <td>8</td>\n",
       "    </tr>\n",
       "    <tr>\n",
       "      <th>2</th>\n",
       "      <td>/Users/butler/Documents/springboard_bootcamp/C...</td>\n",
       "      <td>13</td>\n",
       "    </tr>\n",
       "    <tr>\n",
       "      <th>3</th>\n",
       "      <td>/Users/butler/Documents/springboard_bootcamp/C...</td>\n",
       "      <td>21</td>\n",
       "    </tr>\n",
       "    <tr>\n",
       "      <th>4</th>\n",
       "      <td>/Users/butler/Documents/springboard_bootcamp/C...</td>\n",
       "      <td>43</td>\n",
       "    </tr>\n",
       "  </tbody>\n",
       "</table>\n",
       "</div>"
      ],
      "text/plain": [
       "                                               files  random_number\n",
       "0  /Users/butler/Documents/springboard_bootcamp/C...              6\n",
       "1  /Users/butler/Documents/springboard_bootcamp/C...              8\n",
       "2  /Users/butler/Documents/springboard_bootcamp/C...             13\n",
       "3  /Users/butler/Documents/springboard_bootcamp/C...             21\n",
       "4  /Users/butler/Documents/springboard_bootcamp/C...             43"
      ]
     },
     "execution_count": 669,
     "metadata": {},
     "output_type": "execute_result"
    }
   ],
   "source": [
    "df_mojaris_women.reset_index(drop=True, inplace=True)\n",
    "df_mojaris_women.head()"
   ]
  },
  {
   "cell_type": "code",
   "execution_count": 670,
   "id": "e372f1f4",
   "metadata": {},
   "outputs": [],
   "source": [
    "df_mojaris_women.to_csv('/Users/butler/Documents/springboard_bootcamp/Classification_of_Indian_clothing_images/data/external/newly_scraped_images/df_mojaris_women.csv')"
   ]
  },
  {
   "cell_type": "code",
   "execution_count": null,
   "id": "592499a2",
   "metadata": {},
   "outputs": [],
   "source": []
  },
  {
   "cell_type": "markdown",
   "id": "87ddf689",
   "metadata": {},
   "source": [
    "Men's Mojaris"
   ]
  },
  {
   "cell_type": "code",
   "execution_count": 671,
   "id": "651483d3",
   "metadata": {},
   "outputs": [],
   "source": [
    "files_fk = glob('/Users/butler/Documents/springboard_bootcamp/Classification_of_Indian_clothing_images/data/external/newly_scraped_images/mojaris_men/flipkart/*.jpeg')"
   ]
  },
  {
   "cell_type": "code",
   "execution_count": 672,
   "id": "b1e00566",
   "metadata": {},
   "outputs": [
    {
     "data": {
      "text/plain": [
       "93"
      ]
     },
     "execution_count": 672,
     "metadata": {},
     "output_type": "execute_result"
    }
   ],
   "source": [
    "len(files_fk)"
   ]
  },
  {
   "cell_type": "code",
   "execution_count": 673,
   "id": "f23cf722",
   "metadata": {},
   "outputs": [],
   "source": [
    "files_ai = glob('/Users/butler/Documents/springboard_bootcamp/Classification_of_Indian_clothing_images/data/external/newly_scraped_images/mojaris_men/amazon.in/*.jpg')"
   ]
  },
  {
   "cell_type": "code",
   "execution_count": 674,
   "id": "966874bc",
   "metadata": {},
   "outputs": [
    {
     "data": {
      "text/plain": [
       "203"
      ]
     },
     "execution_count": 674,
     "metadata": {},
     "output_type": "execute_result"
    }
   ],
   "source": [
    "len(files_ai)"
   ]
  },
  {
   "cell_type": "markdown",
   "id": "eae6dccf",
   "metadata": {},
   "source": [
    "Want 500 files"
   ]
  },
  {
   "cell_type": "code",
   "execution_count": 675,
   "id": "9be00b4b",
   "metadata": {},
   "outputs": [],
   "source": [
    "lst = files_ai + files_fk"
   ]
  },
  {
   "cell_type": "code",
   "execution_count": 676,
   "id": "e33ce95f",
   "metadata": {},
   "outputs": [],
   "source": [
    "df_mojaris_men = pd.DataFrame()"
   ]
  },
  {
   "cell_type": "code",
   "execution_count": 677,
   "id": "1b6aa4f4",
   "metadata": {},
   "outputs": [],
   "source": [
    "df_mojaris_men['files'] = lst"
   ]
  },
  {
   "cell_type": "code",
   "execution_count": 678,
   "id": "196abe36",
   "metadata": {
    "scrolled": false
   },
   "outputs": [
    {
     "data": {
      "text/html": [
       "<div>\n",
       "<style scoped>\n",
       "    .dataframe tbody tr th:only-of-type {\n",
       "        vertical-align: middle;\n",
       "    }\n",
       "\n",
       "    .dataframe tbody tr th {\n",
       "        vertical-align: top;\n",
       "    }\n",
       "\n",
       "    .dataframe thead th {\n",
       "        text-align: right;\n",
       "    }\n",
       "</style>\n",
       "<table border=\"1\" class=\"dataframe\">\n",
       "  <thead>\n",
       "    <tr style=\"text-align: right;\">\n",
       "      <th></th>\n",
       "      <th>files</th>\n",
       "    </tr>\n",
       "  </thead>\n",
       "  <tbody>\n",
       "    <tr>\n",
       "      <th>0</th>\n",
       "      <td>/Users/butler/Documents/springboard_bootcamp/C...</td>\n",
       "    </tr>\n",
       "    <tr>\n",
       "      <th>1</th>\n",
       "      <td>/Users/butler/Documents/springboard_bootcamp/C...</td>\n",
       "    </tr>\n",
       "    <tr>\n",
       "      <th>2</th>\n",
       "      <td>/Users/butler/Documents/springboard_bootcamp/C...</td>\n",
       "    </tr>\n",
       "    <tr>\n",
       "      <th>3</th>\n",
       "      <td>/Users/butler/Documents/springboard_bootcamp/C...</td>\n",
       "    </tr>\n",
       "    <tr>\n",
       "      <th>4</th>\n",
       "      <td>/Users/butler/Documents/springboard_bootcamp/C...</td>\n",
       "    </tr>\n",
       "  </tbody>\n",
       "</table>\n",
       "</div>"
      ],
      "text/plain": [
       "                                               files\n",
       "0  /Users/butler/Documents/springboard_bootcamp/C...\n",
       "1  /Users/butler/Documents/springboard_bootcamp/C...\n",
       "2  /Users/butler/Documents/springboard_bootcamp/C...\n",
       "3  /Users/butler/Documents/springboard_bootcamp/C...\n",
       "4  /Users/butler/Documents/springboard_bootcamp/C..."
      ]
     },
     "execution_count": 678,
     "metadata": {},
     "output_type": "execute_result"
    }
   ],
   "source": [
    "df_mojaris_men.head()"
   ]
  },
  {
   "cell_type": "code",
   "execution_count": 679,
   "id": "b9f6580d",
   "metadata": {},
   "outputs": [
    {
     "data": {
      "text/plain": [
       "296"
      ]
     },
     "execution_count": 679,
     "metadata": {},
     "output_type": "execute_result"
    }
   ],
   "source": [
    "len(df_mojaris_men)"
   ]
  },
  {
   "cell_type": "code",
   "execution_count": 680,
   "id": "cd2f886f",
   "metadata": {},
   "outputs": [],
   "source": [
    "r = list(random.sample(range(0, 5000), 296))"
   ]
  },
  {
   "cell_type": "code",
   "execution_count": 681,
   "id": "9da3ee51",
   "metadata": {},
   "outputs": [
    {
     "data": {
      "text/plain": [
       "296"
      ]
     },
     "execution_count": 681,
     "metadata": {},
     "output_type": "execute_result"
    }
   ],
   "source": [
    "len(r)"
   ]
  },
  {
   "cell_type": "code",
   "execution_count": 682,
   "id": "81be6093",
   "metadata": {},
   "outputs": [],
   "source": [
    "df_mojaris_men['random_number'] = r"
   ]
  },
  {
   "cell_type": "code",
   "execution_count": 683,
   "id": "233816e5",
   "metadata": {},
   "outputs": [
    {
     "data": {
      "text/html": [
       "<div>\n",
       "<style scoped>\n",
       "    .dataframe tbody tr th:only-of-type {\n",
       "        vertical-align: middle;\n",
       "    }\n",
       "\n",
       "    .dataframe tbody tr th {\n",
       "        vertical-align: top;\n",
       "    }\n",
       "\n",
       "    .dataframe thead th {\n",
       "        text-align: right;\n",
       "    }\n",
       "</style>\n",
       "<table border=\"1\" class=\"dataframe\">\n",
       "  <thead>\n",
       "    <tr style=\"text-align: right;\">\n",
       "      <th></th>\n",
       "      <th>files</th>\n",
       "      <th>random_number</th>\n",
       "    </tr>\n",
       "  </thead>\n",
       "  <tbody>\n",
       "    <tr>\n",
       "      <th>0</th>\n",
       "      <td>/Users/butler/Documents/springboard_bootcamp/C...</td>\n",
       "      <td>1933</td>\n",
       "    </tr>\n",
       "    <tr>\n",
       "      <th>1</th>\n",
       "      <td>/Users/butler/Documents/springboard_bootcamp/C...</td>\n",
       "      <td>3905</td>\n",
       "    </tr>\n",
       "    <tr>\n",
       "      <th>2</th>\n",
       "      <td>/Users/butler/Documents/springboard_bootcamp/C...</td>\n",
       "      <td>1342</td>\n",
       "    </tr>\n",
       "    <tr>\n",
       "      <th>3</th>\n",
       "      <td>/Users/butler/Documents/springboard_bootcamp/C...</td>\n",
       "      <td>4392</td>\n",
       "    </tr>\n",
       "    <tr>\n",
       "      <th>4</th>\n",
       "      <td>/Users/butler/Documents/springboard_bootcamp/C...</td>\n",
       "      <td>4834</td>\n",
       "    </tr>\n",
       "  </tbody>\n",
       "</table>\n",
       "</div>"
      ],
      "text/plain": [
       "                                               files  random_number\n",
       "0  /Users/butler/Documents/springboard_bootcamp/C...           1933\n",
       "1  /Users/butler/Documents/springboard_bootcamp/C...           3905\n",
       "2  /Users/butler/Documents/springboard_bootcamp/C...           1342\n",
       "3  /Users/butler/Documents/springboard_bootcamp/C...           4392\n",
       "4  /Users/butler/Documents/springboard_bootcamp/C...           4834"
      ]
     },
     "execution_count": 683,
     "metadata": {},
     "output_type": "execute_result"
    }
   ],
   "source": [
    "df_mojaris_men.head()"
   ]
  },
  {
   "cell_type": "code",
   "execution_count": 684,
   "id": "fc17c336",
   "metadata": {},
   "outputs": [],
   "source": [
    "df_mojaris_men = df_mojaris_men.sort_values('random_number')"
   ]
  },
  {
   "cell_type": "code",
   "execution_count": 685,
   "id": "d0b60667",
   "metadata": {
    "scrolled": true
   },
   "outputs": [
    {
     "data": {
      "text/html": [
       "<div>\n",
       "<style scoped>\n",
       "    .dataframe tbody tr th:only-of-type {\n",
       "        vertical-align: middle;\n",
       "    }\n",
       "\n",
       "    .dataframe tbody tr th {\n",
       "        vertical-align: top;\n",
       "    }\n",
       "\n",
       "    .dataframe thead th {\n",
       "        text-align: right;\n",
       "    }\n",
       "</style>\n",
       "<table border=\"1\" class=\"dataframe\">\n",
       "  <thead>\n",
       "    <tr style=\"text-align: right;\">\n",
       "      <th></th>\n",
       "      <th>files</th>\n",
       "      <th>random_number</th>\n",
       "    </tr>\n",
       "  </thead>\n",
       "  <tbody>\n",
       "    <tr>\n",
       "      <th>0</th>\n",
       "      <td>/Users/butler/Documents/springboard_bootcamp/C...</td>\n",
       "      <td>30</td>\n",
       "    </tr>\n",
       "    <tr>\n",
       "      <th>1</th>\n",
       "      <td>/Users/butler/Documents/springboard_bootcamp/C...</td>\n",
       "      <td>43</td>\n",
       "    </tr>\n",
       "    <tr>\n",
       "      <th>2</th>\n",
       "      <td>/Users/butler/Documents/springboard_bootcamp/C...</td>\n",
       "      <td>72</td>\n",
       "    </tr>\n",
       "    <tr>\n",
       "      <th>3</th>\n",
       "      <td>/Users/butler/Documents/springboard_bootcamp/C...</td>\n",
       "      <td>105</td>\n",
       "    </tr>\n",
       "    <tr>\n",
       "      <th>4</th>\n",
       "      <td>/Users/butler/Documents/springboard_bootcamp/C...</td>\n",
       "      <td>114</td>\n",
       "    </tr>\n",
       "  </tbody>\n",
       "</table>\n",
       "</div>"
      ],
      "text/plain": [
       "                                               files  random_number\n",
       "0  /Users/butler/Documents/springboard_bootcamp/C...             30\n",
       "1  /Users/butler/Documents/springboard_bootcamp/C...             43\n",
       "2  /Users/butler/Documents/springboard_bootcamp/C...             72\n",
       "3  /Users/butler/Documents/springboard_bootcamp/C...            105\n",
       "4  /Users/butler/Documents/springboard_bootcamp/C...            114"
      ]
     },
     "execution_count": 685,
     "metadata": {},
     "output_type": "execute_result"
    }
   ],
   "source": [
    "df_mojaris_men.reset_index(drop=True, inplace=True)\n",
    "df_mojaris_men.head()"
   ]
  },
  {
   "cell_type": "code",
   "execution_count": 686,
   "id": "4e29a5ad",
   "metadata": {},
   "outputs": [],
   "source": [
    "df_mojaris_men.to_csv('/Users/butler/Documents/springboard_bootcamp/Classification_of_Indian_clothing_images/data/external/newly_scraped_images/df_mojaris_men.csv')"
   ]
  },
  {
   "cell_type": "markdown",
   "id": "b0b92fed",
   "metadata": {},
   "source": [
    "Men's Kurtas"
   ]
  },
  {
   "cell_type": "code",
   "execution_count": 687,
   "id": "5ede755a",
   "metadata": {},
   "outputs": [],
   "source": [
    "files_fk = glob('/Users/butler/Documents/springboard_bootcamp/Classification_of_Indian_clothing_images/data/external/newly_scraped_images/kurta_men/flipkart/*.jpeg')"
   ]
  },
  {
   "cell_type": "code",
   "execution_count": 688,
   "id": "6f6ffe52",
   "metadata": {},
   "outputs": [
    {
     "data": {
      "text/plain": [
       "542"
      ]
     },
     "execution_count": 688,
     "metadata": {},
     "output_type": "execute_result"
    }
   ],
   "source": [
    "len(files_fk)"
   ]
  },
  {
   "cell_type": "code",
   "execution_count": 689,
   "id": "6a8f7f09",
   "metadata": {},
   "outputs": [],
   "source": [
    "files_kp = glob('/Users/butler/Documents/springboard_bootcamp/Classification_of_Indian_clothing_images/data/external/newly_scraped_images/kurta_men/karmaplace/*.jpg')"
   ]
  },
  {
   "cell_type": "code",
   "execution_count": 690,
   "id": "7da29616",
   "metadata": {},
   "outputs": [
    {
     "data": {
      "text/plain": [
       "534"
      ]
     },
     "execution_count": 690,
     "metadata": {},
     "output_type": "execute_result"
    }
   ],
   "source": [
    "len(files_kp)"
   ]
  },
  {
   "cell_type": "markdown",
   "id": "0fb36dd1",
   "metadata": {},
   "source": [
    "Want 500 files"
   ]
  },
  {
   "cell_type": "code",
   "execution_count": 691,
   "id": "c051aa54",
   "metadata": {},
   "outputs": [],
   "source": [
    "lst = files_kp + files_fk"
   ]
  },
  {
   "cell_type": "code",
   "execution_count": 692,
   "id": "a533d7e7",
   "metadata": {},
   "outputs": [],
   "source": [
    "df_kurta_men = pd.DataFrame()"
   ]
  },
  {
   "cell_type": "code",
   "execution_count": 693,
   "id": "8f64700f",
   "metadata": {},
   "outputs": [],
   "source": [
    "df_kurta_men['files'] = lst"
   ]
  },
  {
   "cell_type": "code",
   "execution_count": 694,
   "id": "dfb86f12",
   "metadata": {
    "scrolled": false
   },
   "outputs": [
    {
     "data": {
      "text/html": [
       "<div>\n",
       "<style scoped>\n",
       "    .dataframe tbody tr th:only-of-type {\n",
       "        vertical-align: middle;\n",
       "    }\n",
       "\n",
       "    .dataframe tbody tr th {\n",
       "        vertical-align: top;\n",
       "    }\n",
       "\n",
       "    .dataframe thead th {\n",
       "        text-align: right;\n",
       "    }\n",
       "</style>\n",
       "<table border=\"1\" class=\"dataframe\">\n",
       "  <thead>\n",
       "    <tr style=\"text-align: right;\">\n",
       "      <th></th>\n",
       "      <th>files</th>\n",
       "    </tr>\n",
       "  </thead>\n",
       "  <tbody>\n",
       "    <tr>\n",
       "      <th>0</th>\n",
       "      <td>/Users/butler/Documents/springboard_bootcamp/C...</td>\n",
       "    </tr>\n",
       "    <tr>\n",
       "      <th>1</th>\n",
       "      <td>/Users/butler/Documents/springboard_bootcamp/C...</td>\n",
       "    </tr>\n",
       "    <tr>\n",
       "      <th>2</th>\n",
       "      <td>/Users/butler/Documents/springboard_bootcamp/C...</td>\n",
       "    </tr>\n",
       "    <tr>\n",
       "      <th>3</th>\n",
       "      <td>/Users/butler/Documents/springboard_bootcamp/C...</td>\n",
       "    </tr>\n",
       "    <tr>\n",
       "      <th>4</th>\n",
       "      <td>/Users/butler/Documents/springboard_bootcamp/C...</td>\n",
       "    </tr>\n",
       "  </tbody>\n",
       "</table>\n",
       "</div>"
      ],
      "text/plain": [
       "                                               files\n",
       "0  /Users/butler/Documents/springboard_bootcamp/C...\n",
       "1  /Users/butler/Documents/springboard_bootcamp/C...\n",
       "2  /Users/butler/Documents/springboard_bootcamp/C...\n",
       "3  /Users/butler/Documents/springboard_bootcamp/C...\n",
       "4  /Users/butler/Documents/springboard_bootcamp/C..."
      ]
     },
     "execution_count": 694,
     "metadata": {},
     "output_type": "execute_result"
    }
   ],
   "source": [
    "df_kurta_men.head()"
   ]
  },
  {
   "cell_type": "code",
   "execution_count": 695,
   "id": "66d51539",
   "metadata": {},
   "outputs": [
    {
     "data": {
      "text/plain": [
       "1076"
      ]
     },
     "execution_count": 695,
     "metadata": {},
     "output_type": "execute_result"
    }
   ],
   "source": [
    "len(df_kurta_men)"
   ]
  },
  {
   "cell_type": "code",
   "execution_count": 696,
   "id": "92a97e22",
   "metadata": {},
   "outputs": [],
   "source": [
    "r = list(random.sample(range(0, 5000), 1076))"
   ]
  },
  {
   "cell_type": "code",
   "execution_count": 697,
   "id": "c979d8fc",
   "metadata": {},
   "outputs": [
    {
     "data": {
      "text/plain": [
       "1076"
      ]
     },
     "execution_count": 697,
     "metadata": {},
     "output_type": "execute_result"
    }
   ],
   "source": [
    "len(r)"
   ]
  },
  {
   "cell_type": "code",
   "execution_count": 698,
   "id": "28d7758b",
   "metadata": {},
   "outputs": [],
   "source": [
    "df_kurta_men['random_number'] = r"
   ]
  },
  {
   "cell_type": "code",
   "execution_count": 699,
   "id": "ed98ded9",
   "metadata": {},
   "outputs": [
    {
     "data": {
      "text/html": [
       "<div>\n",
       "<style scoped>\n",
       "    .dataframe tbody tr th:only-of-type {\n",
       "        vertical-align: middle;\n",
       "    }\n",
       "\n",
       "    .dataframe tbody tr th {\n",
       "        vertical-align: top;\n",
       "    }\n",
       "\n",
       "    .dataframe thead th {\n",
       "        text-align: right;\n",
       "    }\n",
       "</style>\n",
       "<table border=\"1\" class=\"dataframe\">\n",
       "  <thead>\n",
       "    <tr style=\"text-align: right;\">\n",
       "      <th></th>\n",
       "      <th>files</th>\n",
       "      <th>random_number</th>\n",
       "    </tr>\n",
       "  </thead>\n",
       "  <tbody>\n",
       "    <tr>\n",
       "      <th>0</th>\n",
       "      <td>/Users/butler/Documents/springboard_bootcamp/C...</td>\n",
       "      <td>1370</td>\n",
       "    </tr>\n",
       "    <tr>\n",
       "      <th>1</th>\n",
       "      <td>/Users/butler/Documents/springboard_bootcamp/C...</td>\n",
       "      <td>2774</td>\n",
       "    </tr>\n",
       "    <tr>\n",
       "      <th>2</th>\n",
       "      <td>/Users/butler/Documents/springboard_bootcamp/C...</td>\n",
       "      <td>4437</td>\n",
       "    </tr>\n",
       "    <tr>\n",
       "      <th>3</th>\n",
       "      <td>/Users/butler/Documents/springboard_bootcamp/C...</td>\n",
       "      <td>4670</td>\n",
       "    </tr>\n",
       "    <tr>\n",
       "      <th>4</th>\n",
       "      <td>/Users/butler/Documents/springboard_bootcamp/C...</td>\n",
       "      <td>3962</td>\n",
       "    </tr>\n",
       "  </tbody>\n",
       "</table>\n",
       "</div>"
      ],
      "text/plain": [
       "                                               files  random_number\n",
       "0  /Users/butler/Documents/springboard_bootcamp/C...           1370\n",
       "1  /Users/butler/Documents/springboard_bootcamp/C...           2774\n",
       "2  /Users/butler/Documents/springboard_bootcamp/C...           4437\n",
       "3  /Users/butler/Documents/springboard_bootcamp/C...           4670\n",
       "4  /Users/butler/Documents/springboard_bootcamp/C...           3962"
      ]
     },
     "execution_count": 699,
     "metadata": {},
     "output_type": "execute_result"
    }
   ],
   "source": [
    "df_kurta_men.head()"
   ]
  },
  {
   "cell_type": "code",
   "execution_count": 700,
   "id": "ae0f4739",
   "metadata": {},
   "outputs": [],
   "source": [
    "df_kurta_men = df_kurta_men.sort_values('random_number')"
   ]
  },
  {
   "cell_type": "code",
   "execution_count": 701,
   "id": "ee6888b5",
   "metadata": {},
   "outputs": [],
   "source": [
    "df_kurta_men = df_kurta_men.iloc[:500, :]"
   ]
  },
  {
   "cell_type": "code",
   "execution_count": 702,
   "id": "33b7de9a",
   "metadata": {},
   "outputs": [
    {
     "data": {
      "text/plain": [
       "500"
      ]
     },
     "execution_count": 702,
     "metadata": {},
     "output_type": "execute_result"
    }
   ],
   "source": [
    "len(df_kurta_men)"
   ]
  },
  {
   "cell_type": "code",
   "execution_count": 703,
   "id": "07e3abf2",
   "metadata": {
    "scrolled": false
   },
   "outputs": [
    {
     "data": {
      "text/html": [
       "<div>\n",
       "<style scoped>\n",
       "    .dataframe tbody tr th:only-of-type {\n",
       "        vertical-align: middle;\n",
       "    }\n",
       "\n",
       "    .dataframe tbody tr th {\n",
       "        vertical-align: top;\n",
       "    }\n",
       "\n",
       "    .dataframe thead th {\n",
       "        text-align: right;\n",
       "    }\n",
       "</style>\n",
       "<table border=\"1\" class=\"dataframe\">\n",
       "  <thead>\n",
       "    <tr style=\"text-align: right;\">\n",
       "      <th></th>\n",
       "      <th>files</th>\n",
       "      <th>random_number</th>\n",
       "    </tr>\n",
       "  </thead>\n",
       "  <tbody>\n",
       "    <tr>\n",
       "      <th>0</th>\n",
       "      <td>/Users/butler/Documents/springboard_bootcamp/C...</td>\n",
       "      <td>1</td>\n",
       "    </tr>\n",
       "    <tr>\n",
       "      <th>1</th>\n",
       "      <td>/Users/butler/Documents/springboard_bootcamp/C...</td>\n",
       "      <td>4</td>\n",
       "    </tr>\n",
       "    <tr>\n",
       "      <th>2</th>\n",
       "      <td>/Users/butler/Documents/springboard_bootcamp/C...</td>\n",
       "      <td>6</td>\n",
       "    </tr>\n",
       "    <tr>\n",
       "      <th>3</th>\n",
       "      <td>/Users/butler/Documents/springboard_bootcamp/C...</td>\n",
       "      <td>7</td>\n",
       "    </tr>\n",
       "    <tr>\n",
       "      <th>4</th>\n",
       "      <td>/Users/butler/Documents/springboard_bootcamp/C...</td>\n",
       "      <td>10</td>\n",
       "    </tr>\n",
       "  </tbody>\n",
       "</table>\n",
       "</div>"
      ],
      "text/plain": [
       "                                               files  random_number\n",
       "0  /Users/butler/Documents/springboard_bootcamp/C...              1\n",
       "1  /Users/butler/Documents/springboard_bootcamp/C...              4\n",
       "2  /Users/butler/Documents/springboard_bootcamp/C...              6\n",
       "3  /Users/butler/Documents/springboard_bootcamp/C...              7\n",
       "4  /Users/butler/Documents/springboard_bootcamp/C...             10"
      ]
     },
     "execution_count": 703,
     "metadata": {},
     "output_type": "execute_result"
    }
   ],
   "source": [
    "df_kurta_men.reset_index(drop=True, inplace=True)\n",
    "df_kurta_men.head()"
   ]
  },
  {
   "cell_type": "code",
   "execution_count": 704,
   "id": "afffea2e",
   "metadata": {},
   "outputs": [],
   "source": [
    "df_kurta_men.to_csv('/Users/butler/Documents/springboard_bootcamp/Classification_of_Indian_clothing_images/data/external/newly_scraped_images/df_kurta_men.csv')"
   ]
  },
  {
   "cell_type": "markdown",
   "id": "bd7e4f20",
   "metadata": {},
   "source": [
    "Lehenga"
   ]
  },
  {
   "cell_type": "code",
   "execution_count": 705,
   "id": "3684181d",
   "metadata": {},
   "outputs": [],
   "source": [
    "files_fk = glob('/Users/butler/Documents/springboard_bootcamp/Classification_of_Indian_clothing_images/data/external/newly_scraped_images/lehenga/flipkart/*.jpeg')"
   ]
  },
  {
   "cell_type": "code",
   "execution_count": 706,
   "id": "eb0df25e",
   "metadata": {},
   "outputs": [
    {
     "data": {
      "text/plain": [
       "557"
      ]
     },
     "execution_count": 706,
     "metadata": {},
     "output_type": "execute_result"
    }
   ],
   "source": [
    "len(files_fk)"
   ]
  },
  {
   "cell_type": "code",
   "execution_count": 707,
   "id": "52b0de67",
   "metadata": {},
   "outputs": [],
   "source": [
    "files_uf = glob('/Users/butler/Documents/springboard_bootcamp/Classification_of_Indian_clothing_images/data/external/newly_scraped_images/lehenga/utsavfashion/*.jpg')"
   ]
  },
  {
   "cell_type": "code",
   "execution_count": 708,
   "id": "9a7e5cf9",
   "metadata": {},
   "outputs": [
    {
     "data": {
      "text/plain": [
       "292"
      ]
     },
     "execution_count": 708,
     "metadata": {},
     "output_type": "execute_result"
    }
   ],
   "source": [
    "len(files_uf)"
   ]
  },
  {
   "cell_type": "markdown",
   "id": "12dfbca4",
   "metadata": {},
   "source": [
    "Want 500 files"
   ]
  },
  {
   "cell_type": "code",
   "execution_count": 709,
   "id": "f88dc432",
   "metadata": {},
   "outputs": [],
   "source": [
    "lst = files_fk + files_uf"
   ]
  },
  {
   "cell_type": "code",
   "execution_count": 710,
   "id": "8e4b9dfa",
   "metadata": {},
   "outputs": [],
   "source": [
    "df_lehenga = pd.DataFrame()"
   ]
  },
  {
   "cell_type": "code",
   "execution_count": 711,
   "id": "338257f1",
   "metadata": {},
   "outputs": [],
   "source": [
    "df_lehenga['files'] = lst"
   ]
  },
  {
   "cell_type": "code",
   "execution_count": 712,
   "id": "67d818f9",
   "metadata": {
    "scrolled": false
   },
   "outputs": [
    {
     "data": {
      "text/html": [
       "<div>\n",
       "<style scoped>\n",
       "    .dataframe tbody tr th:only-of-type {\n",
       "        vertical-align: middle;\n",
       "    }\n",
       "\n",
       "    .dataframe tbody tr th {\n",
       "        vertical-align: top;\n",
       "    }\n",
       "\n",
       "    .dataframe thead th {\n",
       "        text-align: right;\n",
       "    }\n",
       "</style>\n",
       "<table border=\"1\" class=\"dataframe\">\n",
       "  <thead>\n",
       "    <tr style=\"text-align: right;\">\n",
       "      <th></th>\n",
       "      <th>files</th>\n",
       "    </tr>\n",
       "  </thead>\n",
       "  <tbody>\n",
       "    <tr>\n",
       "      <th>0</th>\n",
       "      <td>/Users/butler/Documents/springboard_bootcamp/C...</td>\n",
       "    </tr>\n",
       "    <tr>\n",
       "      <th>1</th>\n",
       "      <td>/Users/butler/Documents/springboard_bootcamp/C...</td>\n",
       "    </tr>\n",
       "    <tr>\n",
       "      <th>2</th>\n",
       "      <td>/Users/butler/Documents/springboard_bootcamp/C...</td>\n",
       "    </tr>\n",
       "    <tr>\n",
       "      <th>3</th>\n",
       "      <td>/Users/butler/Documents/springboard_bootcamp/C...</td>\n",
       "    </tr>\n",
       "    <tr>\n",
       "      <th>4</th>\n",
       "      <td>/Users/butler/Documents/springboard_bootcamp/C...</td>\n",
       "    </tr>\n",
       "  </tbody>\n",
       "</table>\n",
       "</div>"
      ],
      "text/plain": [
       "                                               files\n",
       "0  /Users/butler/Documents/springboard_bootcamp/C...\n",
       "1  /Users/butler/Documents/springboard_bootcamp/C...\n",
       "2  /Users/butler/Documents/springboard_bootcamp/C...\n",
       "3  /Users/butler/Documents/springboard_bootcamp/C...\n",
       "4  /Users/butler/Documents/springboard_bootcamp/C..."
      ]
     },
     "execution_count": 712,
     "metadata": {},
     "output_type": "execute_result"
    }
   ],
   "source": [
    "df_lehenga.head()"
   ]
  },
  {
   "cell_type": "code",
   "execution_count": 713,
   "id": "5f541d96",
   "metadata": {},
   "outputs": [
    {
     "data": {
      "text/plain": [
       "849"
      ]
     },
     "execution_count": 713,
     "metadata": {},
     "output_type": "execute_result"
    }
   ],
   "source": [
    "len(df_lehenga)"
   ]
  },
  {
   "cell_type": "code",
   "execution_count": 714,
   "id": "4dcf2ddf",
   "metadata": {},
   "outputs": [],
   "source": [
    "r = list(random.sample(range(0, 5000), 849))"
   ]
  },
  {
   "cell_type": "code",
   "execution_count": 715,
   "id": "f4cc1054",
   "metadata": {},
   "outputs": [
    {
     "data": {
      "text/plain": [
       "849"
      ]
     },
     "execution_count": 715,
     "metadata": {},
     "output_type": "execute_result"
    }
   ],
   "source": [
    "len(r)"
   ]
  },
  {
   "cell_type": "code",
   "execution_count": 716,
   "id": "0ed600f3",
   "metadata": {},
   "outputs": [],
   "source": [
    "df_lehenga['random_number'] = r"
   ]
  },
  {
   "cell_type": "code",
   "execution_count": 717,
   "id": "6cf771e8",
   "metadata": {},
   "outputs": [
    {
     "data": {
      "text/html": [
       "<div>\n",
       "<style scoped>\n",
       "    .dataframe tbody tr th:only-of-type {\n",
       "        vertical-align: middle;\n",
       "    }\n",
       "\n",
       "    .dataframe tbody tr th {\n",
       "        vertical-align: top;\n",
       "    }\n",
       "\n",
       "    .dataframe thead th {\n",
       "        text-align: right;\n",
       "    }\n",
       "</style>\n",
       "<table border=\"1\" class=\"dataframe\">\n",
       "  <thead>\n",
       "    <tr style=\"text-align: right;\">\n",
       "      <th></th>\n",
       "      <th>files</th>\n",
       "      <th>random_number</th>\n",
       "    </tr>\n",
       "  </thead>\n",
       "  <tbody>\n",
       "    <tr>\n",
       "      <th>0</th>\n",
       "      <td>/Users/butler/Documents/springboard_bootcamp/C...</td>\n",
       "      <td>3980</td>\n",
       "    </tr>\n",
       "    <tr>\n",
       "      <th>1</th>\n",
       "      <td>/Users/butler/Documents/springboard_bootcamp/C...</td>\n",
       "      <td>2858</td>\n",
       "    </tr>\n",
       "    <tr>\n",
       "      <th>2</th>\n",
       "      <td>/Users/butler/Documents/springboard_bootcamp/C...</td>\n",
       "      <td>2244</td>\n",
       "    </tr>\n",
       "    <tr>\n",
       "      <th>3</th>\n",
       "      <td>/Users/butler/Documents/springboard_bootcamp/C...</td>\n",
       "      <td>4367</td>\n",
       "    </tr>\n",
       "    <tr>\n",
       "      <th>4</th>\n",
       "      <td>/Users/butler/Documents/springboard_bootcamp/C...</td>\n",
       "      <td>4664</td>\n",
       "    </tr>\n",
       "  </tbody>\n",
       "</table>\n",
       "</div>"
      ],
      "text/plain": [
       "                                               files  random_number\n",
       "0  /Users/butler/Documents/springboard_bootcamp/C...           3980\n",
       "1  /Users/butler/Documents/springboard_bootcamp/C...           2858\n",
       "2  /Users/butler/Documents/springboard_bootcamp/C...           2244\n",
       "3  /Users/butler/Documents/springboard_bootcamp/C...           4367\n",
       "4  /Users/butler/Documents/springboard_bootcamp/C...           4664"
      ]
     },
     "execution_count": 717,
     "metadata": {},
     "output_type": "execute_result"
    }
   ],
   "source": [
    "df_lehenga.head()"
   ]
  },
  {
   "cell_type": "code",
   "execution_count": 718,
   "id": "e7354101",
   "metadata": {},
   "outputs": [],
   "source": [
    "df_lehenga = df_lehenga.sort_values('random_number')"
   ]
  },
  {
   "cell_type": "code",
   "execution_count": 719,
   "id": "f282b82f",
   "metadata": {},
   "outputs": [],
   "source": [
    "df_lehenga = df_lehenga.iloc[:500, :]"
   ]
  },
  {
   "cell_type": "code",
   "execution_count": 720,
   "id": "ed665c5d",
   "metadata": {},
   "outputs": [
    {
     "data": {
      "text/plain": [
       "500"
      ]
     },
     "execution_count": 720,
     "metadata": {},
     "output_type": "execute_result"
    }
   ],
   "source": [
    "len(df_lehenga)"
   ]
  },
  {
   "cell_type": "code",
   "execution_count": 721,
   "id": "5b575ea8",
   "metadata": {
    "scrolled": false
   },
   "outputs": [
    {
     "data": {
      "text/html": [
       "<div>\n",
       "<style scoped>\n",
       "    .dataframe tbody tr th:only-of-type {\n",
       "        vertical-align: middle;\n",
       "    }\n",
       "\n",
       "    .dataframe tbody tr th {\n",
       "        vertical-align: top;\n",
       "    }\n",
       "\n",
       "    .dataframe thead th {\n",
       "        text-align: right;\n",
       "    }\n",
       "</style>\n",
       "<table border=\"1\" class=\"dataframe\">\n",
       "  <thead>\n",
       "    <tr style=\"text-align: right;\">\n",
       "      <th></th>\n",
       "      <th>files</th>\n",
       "      <th>random_number</th>\n",
       "    </tr>\n",
       "  </thead>\n",
       "  <tbody>\n",
       "    <tr>\n",
       "      <th>0</th>\n",
       "      <td>/Users/butler/Documents/springboard_bootcamp/C...</td>\n",
       "      <td>5</td>\n",
       "    </tr>\n",
       "    <tr>\n",
       "      <th>1</th>\n",
       "      <td>/Users/butler/Documents/springboard_bootcamp/C...</td>\n",
       "      <td>9</td>\n",
       "    </tr>\n",
       "    <tr>\n",
       "      <th>2</th>\n",
       "      <td>/Users/butler/Documents/springboard_bootcamp/C...</td>\n",
       "      <td>10</td>\n",
       "    </tr>\n",
       "    <tr>\n",
       "      <th>3</th>\n",
       "      <td>/Users/butler/Documents/springboard_bootcamp/C...</td>\n",
       "      <td>13</td>\n",
       "    </tr>\n",
       "    <tr>\n",
       "      <th>4</th>\n",
       "      <td>/Users/butler/Documents/springboard_bootcamp/C...</td>\n",
       "      <td>24</td>\n",
       "    </tr>\n",
       "  </tbody>\n",
       "</table>\n",
       "</div>"
      ],
      "text/plain": [
       "                                               files  random_number\n",
       "0  /Users/butler/Documents/springboard_bootcamp/C...              5\n",
       "1  /Users/butler/Documents/springboard_bootcamp/C...              9\n",
       "2  /Users/butler/Documents/springboard_bootcamp/C...             10\n",
       "3  /Users/butler/Documents/springboard_bootcamp/C...             13\n",
       "4  /Users/butler/Documents/springboard_bootcamp/C...             24"
      ]
     },
     "execution_count": 721,
     "metadata": {},
     "output_type": "execute_result"
    }
   ],
   "source": [
    "df_lehenga.reset_index(drop=True, inplace=True)\n",
    "df_lehenga.head()"
   ]
  },
  {
   "cell_type": "code",
   "execution_count": 722,
   "id": "e74ded68",
   "metadata": {},
   "outputs": [
    {
     "data": {
      "text/plain": [
       "'/Users/butler/Documents/springboard_bootcamp/Classification_of_Indian_clothing_images/data/external/newly_scraped_images/lehenga/flipkart/free-full-sleeve-women-vidhi-purple-fulpari-original-imagd8ppeavsrahr.jpeg'"
      ]
     },
     "execution_count": 722,
     "metadata": {},
     "output_type": "execute_result"
    }
   ],
   "source": [
    "df_lehenga.iloc[0,0]"
   ]
  },
  {
   "cell_type": "code",
   "execution_count": 723,
   "id": "cac58bc7",
   "metadata": {},
   "outputs": [],
   "source": [
    "df_lehenga.to_csv('/Users/butler/Documents/springboard_bootcamp/Classification_of_Indian_clothing_images/data/external/newly_scraped_images/df_lehenga.csv')"
   ]
  },
  {
   "cell_type": "markdown",
   "id": "a4c9f0a3",
   "metadata": {},
   "source": [
    "Gowns"
   ]
  },
  {
   "cell_type": "code",
   "execution_count": 724,
   "id": "609dccfe",
   "metadata": {},
   "outputs": [],
   "source": [
    "files_fk = glob('/Users/butler/Documents/springboard_bootcamp/Classification_of_Indian_clothing_images/data/external/newly_scraped_images/gowns/flipkart/*.jpeg')"
   ]
  },
  {
   "cell_type": "code",
   "execution_count": 725,
   "id": "b5fa8ad2",
   "metadata": {},
   "outputs": [
    {
     "data": {
      "text/plain": [
       "643"
      ]
     },
     "execution_count": 725,
     "metadata": {},
     "output_type": "execute_result"
    }
   ],
   "source": [
    "len(files_fk)"
   ]
  },
  {
   "cell_type": "code",
   "execution_count": 726,
   "id": "663ca6c0",
   "metadata": {},
   "outputs": [],
   "source": [
    "files_kp = glob('/Users/butler/Documents/springboard_bootcamp/Classification_of_Indian_clothing_images/data/external/newly_scraped_images/gowns/karmaplace/*.jpg')"
   ]
  },
  {
   "cell_type": "code",
   "execution_count": 727,
   "id": "75480381",
   "metadata": {},
   "outputs": [
    {
     "data": {
      "text/plain": [
       "21"
      ]
     },
     "execution_count": 727,
     "metadata": {},
     "output_type": "execute_result"
    }
   ],
   "source": [
    "len(files_kp)"
   ]
  },
  {
   "cell_type": "code",
   "execution_count": 728,
   "id": "0a5e7554",
   "metadata": {},
   "outputs": [],
   "source": [
    "files_uf = glob('/Users/butler/Documents/springboard_bootcamp/Classification_of_Indian_clothing_images/data/external/newly_scraped_images/gowns/utsavfashion/*.jpg')"
   ]
  },
  {
   "cell_type": "code",
   "execution_count": 729,
   "id": "d26f752a",
   "metadata": {},
   "outputs": [
    {
     "data": {
      "text/plain": [
       "60"
      ]
     },
     "execution_count": 729,
     "metadata": {},
     "output_type": "execute_result"
    }
   ],
   "source": [
    "len(files_uf)"
   ]
  },
  {
   "cell_type": "code",
   "execution_count": 730,
   "id": "0ad02638",
   "metadata": {},
   "outputs": [],
   "source": [
    "files_ai = glob('/Users/butler/Documents/springboard_bootcamp/Classification_of_Indian_clothing_images/data/external/newly_scraped_images/gowns/amazon.in/*.jpg')"
   ]
  },
  {
   "cell_type": "code",
   "execution_count": 731,
   "id": "441df286",
   "metadata": {},
   "outputs": [
    {
     "data": {
      "text/plain": [
       "51"
      ]
     },
     "execution_count": 731,
     "metadata": {},
     "output_type": "execute_result"
    }
   ],
   "source": [
    "len(files_ai)"
   ]
  },
  {
   "cell_type": "markdown",
   "id": "ebcda8d8",
   "metadata": {},
   "source": [
    "Want 500 files"
   ]
  },
  {
   "cell_type": "code",
   "execution_count": 732,
   "id": "763cf438",
   "metadata": {},
   "outputs": [],
   "source": [
    "lst = files_kp + files_fk + files_ai + files_uf"
   ]
  },
  {
   "cell_type": "code",
   "execution_count": 733,
   "id": "73e1ce57",
   "metadata": {},
   "outputs": [],
   "source": [
    "df_gowns = pd.DataFrame()"
   ]
  },
  {
   "cell_type": "code",
   "execution_count": 734,
   "id": "cdac0f9b",
   "metadata": {},
   "outputs": [],
   "source": [
    "df_gowns['files'] = lst"
   ]
  },
  {
   "cell_type": "code",
   "execution_count": 735,
   "id": "e331d669",
   "metadata": {
    "scrolled": false
   },
   "outputs": [
    {
     "data": {
      "text/html": [
       "<div>\n",
       "<style scoped>\n",
       "    .dataframe tbody tr th:only-of-type {\n",
       "        vertical-align: middle;\n",
       "    }\n",
       "\n",
       "    .dataframe tbody tr th {\n",
       "        vertical-align: top;\n",
       "    }\n",
       "\n",
       "    .dataframe thead th {\n",
       "        text-align: right;\n",
       "    }\n",
       "</style>\n",
       "<table border=\"1\" class=\"dataframe\">\n",
       "  <thead>\n",
       "    <tr style=\"text-align: right;\">\n",
       "      <th></th>\n",
       "      <th>files</th>\n",
       "    </tr>\n",
       "  </thead>\n",
       "  <tbody>\n",
       "    <tr>\n",
       "      <th>0</th>\n",
       "      <td>/Users/butler/Documents/springboard_bootcamp/C...</td>\n",
       "    </tr>\n",
       "    <tr>\n",
       "      <th>1</th>\n",
       "      <td>/Users/butler/Documents/springboard_bootcamp/C...</td>\n",
       "    </tr>\n",
       "    <tr>\n",
       "      <th>2</th>\n",
       "      <td>/Users/butler/Documents/springboard_bootcamp/C...</td>\n",
       "    </tr>\n",
       "    <tr>\n",
       "      <th>3</th>\n",
       "      <td>/Users/butler/Documents/springboard_bootcamp/C...</td>\n",
       "    </tr>\n",
       "    <tr>\n",
       "      <th>4</th>\n",
       "      <td>/Users/butler/Documents/springboard_bootcamp/C...</td>\n",
       "    </tr>\n",
       "  </tbody>\n",
       "</table>\n",
       "</div>"
      ],
      "text/plain": [
       "                                               files\n",
       "0  /Users/butler/Documents/springboard_bootcamp/C...\n",
       "1  /Users/butler/Documents/springboard_bootcamp/C...\n",
       "2  /Users/butler/Documents/springboard_bootcamp/C...\n",
       "3  /Users/butler/Documents/springboard_bootcamp/C...\n",
       "4  /Users/butler/Documents/springboard_bootcamp/C..."
      ]
     },
     "execution_count": 735,
     "metadata": {},
     "output_type": "execute_result"
    }
   ],
   "source": [
    "df_gowns.head()"
   ]
  },
  {
   "cell_type": "code",
   "execution_count": 736,
   "id": "136f85d1",
   "metadata": {},
   "outputs": [
    {
     "data": {
      "text/plain": [
       "775"
      ]
     },
     "execution_count": 736,
     "metadata": {},
     "output_type": "execute_result"
    }
   ],
   "source": [
    "len(df_gowns)"
   ]
  },
  {
   "cell_type": "code",
   "execution_count": 737,
   "id": "095b5ab6",
   "metadata": {},
   "outputs": [],
   "source": [
    "r = list(random.sample(range(0, 5000), 775))"
   ]
  },
  {
   "cell_type": "code",
   "execution_count": 738,
   "id": "4282acad",
   "metadata": {},
   "outputs": [
    {
     "data": {
      "text/plain": [
       "775"
      ]
     },
     "execution_count": 738,
     "metadata": {},
     "output_type": "execute_result"
    }
   ],
   "source": [
    "len(r)"
   ]
  },
  {
   "cell_type": "code",
   "execution_count": 739,
   "id": "a4245a5c",
   "metadata": {},
   "outputs": [],
   "source": [
    "df_gowns['random_number'] = r"
   ]
  },
  {
   "cell_type": "code",
   "execution_count": 740,
   "id": "cabe5b80",
   "metadata": {},
   "outputs": [
    {
     "data": {
      "text/html": [
       "<div>\n",
       "<style scoped>\n",
       "    .dataframe tbody tr th:only-of-type {\n",
       "        vertical-align: middle;\n",
       "    }\n",
       "\n",
       "    .dataframe tbody tr th {\n",
       "        vertical-align: top;\n",
       "    }\n",
       "\n",
       "    .dataframe thead th {\n",
       "        text-align: right;\n",
       "    }\n",
       "</style>\n",
       "<table border=\"1\" class=\"dataframe\">\n",
       "  <thead>\n",
       "    <tr style=\"text-align: right;\">\n",
       "      <th></th>\n",
       "      <th>files</th>\n",
       "      <th>random_number</th>\n",
       "    </tr>\n",
       "  </thead>\n",
       "  <tbody>\n",
       "    <tr>\n",
       "      <th>0</th>\n",
       "      <td>/Users/butler/Documents/springboard_bootcamp/C...</td>\n",
       "      <td>4691</td>\n",
       "    </tr>\n",
       "    <tr>\n",
       "      <th>1</th>\n",
       "      <td>/Users/butler/Documents/springboard_bootcamp/C...</td>\n",
       "      <td>2320</td>\n",
       "    </tr>\n",
       "    <tr>\n",
       "      <th>2</th>\n",
       "      <td>/Users/butler/Documents/springboard_bootcamp/C...</td>\n",
       "      <td>1185</td>\n",
       "    </tr>\n",
       "    <tr>\n",
       "      <th>3</th>\n",
       "      <td>/Users/butler/Documents/springboard_bootcamp/C...</td>\n",
       "      <td>1041</td>\n",
       "    </tr>\n",
       "    <tr>\n",
       "      <th>4</th>\n",
       "      <td>/Users/butler/Documents/springboard_bootcamp/C...</td>\n",
       "      <td>4902</td>\n",
       "    </tr>\n",
       "  </tbody>\n",
       "</table>\n",
       "</div>"
      ],
      "text/plain": [
       "                                               files  random_number\n",
       "0  /Users/butler/Documents/springboard_bootcamp/C...           4691\n",
       "1  /Users/butler/Documents/springboard_bootcamp/C...           2320\n",
       "2  /Users/butler/Documents/springboard_bootcamp/C...           1185\n",
       "3  /Users/butler/Documents/springboard_bootcamp/C...           1041\n",
       "4  /Users/butler/Documents/springboard_bootcamp/C...           4902"
      ]
     },
     "execution_count": 740,
     "metadata": {},
     "output_type": "execute_result"
    }
   ],
   "source": [
    "df_gowns.head()"
   ]
  },
  {
   "cell_type": "code",
   "execution_count": 741,
   "id": "504b7127",
   "metadata": {},
   "outputs": [],
   "source": [
    "df_gowns = df_gowns.sort_values('random_number')"
   ]
  },
  {
   "cell_type": "code",
   "execution_count": 742,
   "id": "3d06ddc2",
   "metadata": {},
   "outputs": [],
   "source": [
    "df_gowns = df_gowns.iloc[:500, :]"
   ]
  },
  {
   "cell_type": "code",
   "execution_count": 743,
   "id": "1e6e116c",
   "metadata": {},
   "outputs": [
    {
     "data": {
      "text/plain": [
       "500"
      ]
     },
     "execution_count": 743,
     "metadata": {},
     "output_type": "execute_result"
    }
   ],
   "source": [
    "len(df_gowns)"
   ]
  },
  {
   "cell_type": "code",
   "execution_count": 744,
   "id": "fc185890",
   "metadata": {
    "scrolled": false
   },
   "outputs": [
    {
     "data": {
      "text/html": [
       "<div>\n",
       "<style scoped>\n",
       "    .dataframe tbody tr th:only-of-type {\n",
       "        vertical-align: middle;\n",
       "    }\n",
       "\n",
       "    .dataframe tbody tr th {\n",
       "        vertical-align: top;\n",
       "    }\n",
       "\n",
       "    .dataframe thead th {\n",
       "        text-align: right;\n",
       "    }\n",
       "</style>\n",
       "<table border=\"1\" class=\"dataframe\">\n",
       "  <thead>\n",
       "    <tr style=\"text-align: right;\">\n",
       "      <th></th>\n",
       "      <th>files</th>\n",
       "      <th>random_number</th>\n",
       "    </tr>\n",
       "  </thead>\n",
       "  <tbody>\n",
       "    <tr>\n",
       "      <th>0</th>\n",
       "      <td>/Users/butler/Documents/springboard_bootcamp/C...</td>\n",
       "      <td>3</td>\n",
       "    </tr>\n",
       "    <tr>\n",
       "      <th>1</th>\n",
       "      <td>/Users/butler/Documents/springboard_bootcamp/C...</td>\n",
       "      <td>9</td>\n",
       "    </tr>\n",
       "    <tr>\n",
       "      <th>2</th>\n",
       "      <td>/Users/butler/Documents/springboard_bootcamp/C...</td>\n",
       "      <td>20</td>\n",
       "    </tr>\n",
       "    <tr>\n",
       "      <th>3</th>\n",
       "      <td>/Users/butler/Documents/springboard_bootcamp/C...</td>\n",
       "      <td>26</td>\n",
       "    </tr>\n",
       "    <tr>\n",
       "      <th>4</th>\n",
       "      <td>/Users/butler/Documents/springboard_bootcamp/C...</td>\n",
       "      <td>32</td>\n",
       "    </tr>\n",
       "  </tbody>\n",
       "</table>\n",
       "</div>"
      ],
      "text/plain": [
       "                                               files  random_number\n",
       "0  /Users/butler/Documents/springboard_bootcamp/C...              3\n",
       "1  /Users/butler/Documents/springboard_bootcamp/C...              9\n",
       "2  /Users/butler/Documents/springboard_bootcamp/C...             20\n",
       "3  /Users/butler/Documents/springboard_bootcamp/C...             26\n",
       "4  /Users/butler/Documents/springboard_bootcamp/C...             32"
      ]
     },
     "execution_count": 744,
     "metadata": {},
     "output_type": "execute_result"
    }
   ],
   "source": [
    "df_gowns.reset_index(drop=True, inplace=True)\n",
    "df_gowns.head()"
   ]
  },
  {
   "cell_type": "code",
   "execution_count": 745,
   "id": "b376bc77",
   "metadata": {},
   "outputs": [],
   "source": [
    "df_gowns.to_csv('/Users/butler/Documents/springboard_bootcamp/Classification_of_Indian_clothing_images/data/external/newly_scraped_images/df_gowns.csv')"
   ]
  },
  {
   "cell_type": "markdown",
   "id": "5c60e5d2",
   "metadata": {},
   "source": [
    "Dupattas"
   ]
  },
  {
   "cell_type": "code",
   "execution_count": 746,
   "id": "282b1ff6",
   "metadata": {},
   "outputs": [],
   "source": [
    "files_ai = glob('/Users/butler/Documents/springboard_bootcamp/Classification_of_Indian_clothing_images/data/external/newly_scraped_images/dupattas/amazon.in/*.jpg')"
   ]
  },
  {
   "cell_type": "code",
   "execution_count": 747,
   "id": "e60277dd",
   "metadata": {},
   "outputs": [
    {
     "data": {
      "text/plain": [
       "159"
      ]
     },
     "execution_count": 747,
     "metadata": {},
     "output_type": "execute_result"
    }
   ],
   "source": [
    "len(files_ai)"
   ]
  },
  {
   "cell_type": "code",
   "execution_count": 748,
   "id": "eac6191f",
   "metadata": {},
   "outputs": [],
   "source": [
    "files_kp = glob('/Users/butler/Documents/springboard_bootcamp/Classification_of_Indian_clothing_images/data/external/newly_scraped_images/dupattas/karmaplace/*.jpg')"
   ]
  },
  {
   "cell_type": "code",
   "execution_count": 749,
   "id": "103605ca",
   "metadata": {},
   "outputs": [
    {
     "data": {
      "text/plain": [
       "763"
      ]
     },
     "execution_count": 749,
     "metadata": {},
     "output_type": "execute_result"
    }
   ],
   "source": [
    "len(files_kp)"
   ]
  },
  {
   "cell_type": "code",
   "execution_count": 750,
   "id": "7327b327",
   "metadata": {},
   "outputs": [],
   "source": [
    "files_uf = glob('/Users/butler/Documents/springboard_bootcamp/Classification_of_Indian_clothing_images/data/external/newly_scraped_images/dupattas/utsavfashion/*.jpg')"
   ]
  },
  {
   "cell_type": "code",
   "execution_count": 751,
   "id": "52246ca5",
   "metadata": {},
   "outputs": [
    {
     "data": {
      "text/plain": [
       "120"
      ]
     },
     "execution_count": 751,
     "metadata": {},
     "output_type": "execute_result"
    }
   ],
   "source": [
    "len(files_uf)"
   ]
  },
  {
   "cell_type": "markdown",
   "id": "b7f899c1",
   "metadata": {},
   "source": [
    "Want 500 files"
   ]
  },
  {
   "cell_type": "code",
   "execution_count": 752,
   "id": "1d99c3d2",
   "metadata": {},
   "outputs": [],
   "source": [
    "lst = files_kp + files_fk + files_uf"
   ]
  },
  {
   "cell_type": "code",
   "execution_count": 753,
   "id": "0b6d4b36",
   "metadata": {},
   "outputs": [],
   "source": [
    "df_dupattas = pd.DataFrame()"
   ]
  },
  {
   "cell_type": "code",
   "execution_count": 754,
   "id": "c3e6b749",
   "metadata": {},
   "outputs": [],
   "source": [
    "df_dupattas['files'] = lst"
   ]
  },
  {
   "cell_type": "code",
   "execution_count": 755,
   "id": "b0f35a52",
   "metadata": {
    "scrolled": false
   },
   "outputs": [
    {
     "data": {
      "text/html": [
       "<div>\n",
       "<style scoped>\n",
       "    .dataframe tbody tr th:only-of-type {\n",
       "        vertical-align: middle;\n",
       "    }\n",
       "\n",
       "    .dataframe tbody tr th {\n",
       "        vertical-align: top;\n",
       "    }\n",
       "\n",
       "    .dataframe thead th {\n",
       "        text-align: right;\n",
       "    }\n",
       "</style>\n",
       "<table border=\"1\" class=\"dataframe\">\n",
       "  <thead>\n",
       "    <tr style=\"text-align: right;\">\n",
       "      <th></th>\n",
       "      <th>files</th>\n",
       "    </tr>\n",
       "  </thead>\n",
       "  <tbody>\n",
       "    <tr>\n",
       "      <th>0</th>\n",
       "      <td>/Users/butler/Documents/springboard_bootcamp/C...</td>\n",
       "    </tr>\n",
       "    <tr>\n",
       "      <th>1</th>\n",
       "      <td>/Users/butler/Documents/springboard_bootcamp/C...</td>\n",
       "    </tr>\n",
       "    <tr>\n",
       "      <th>2</th>\n",
       "      <td>/Users/butler/Documents/springboard_bootcamp/C...</td>\n",
       "    </tr>\n",
       "    <tr>\n",
       "      <th>3</th>\n",
       "      <td>/Users/butler/Documents/springboard_bootcamp/C...</td>\n",
       "    </tr>\n",
       "    <tr>\n",
       "      <th>4</th>\n",
       "      <td>/Users/butler/Documents/springboard_bootcamp/C...</td>\n",
       "    </tr>\n",
       "  </tbody>\n",
       "</table>\n",
       "</div>"
      ],
      "text/plain": [
       "                                               files\n",
       "0  /Users/butler/Documents/springboard_bootcamp/C...\n",
       "1  /Users/butler/Documents/springboard_bootcamp/C...\n",
       "2  /Users/butler/Documents/springboard_bootcamp/C...\n",
       "3  /Users/butler/Documents/springboard_bootcamp/C...\n",
       "4  /Users/butler/Documents/springboard_bootcamp/C..."
      ]
     },
     "execution_count": 755,
     "metadata": {},
     "output_type": "execute_result"
    }
   ],
   "source": [
    "df_dupattas.head()"
   ]
  },
  {
   "cell_type": "code",
   "execution_count": 756,
   "id": "6aceb69f",
   "metadata": {},
   "outputs": [
    {
     "data": {
      "text/plain": [
       "1526"
      ]
     },
     "execution_count": 756,
     "metadata": {},
     "output_type": "execute_result"
    }
   ],
   "source": [
    "len(df_dupattas)"
   ]
  },
  {
   "cell_type": "code",
   "execution_count": 760,
   "id": "42c4d0dc",
   "metadata": {},
   "outputs": [],
   "source": [
    "r = list(random.sample(range(0, 5000), 1526))"
   ]
  },
  {
   "cell_type": "code",
   "execution_count": 761,
   "id": "0d8b0309",
   "metadata": {},
   "outputs": [
    {
     "data": {
      "text/plain": [
       "1526"
      ]
     },
     "execution_count": 761,
     "metadata": {},
     "output_type": "execute_result"
    }
   ],
   "source": [
    "len(r)"
   ]
  },
  {
   "cell_type": "code",
   "execution_count": 762,
   "id": "80d36231",
   "metadata": {},
   "outputs": [],
   "source": [
    "df_dupattas['random_number'] = r"
   ]
  },
  {
   "cell_type": "code",
   "execution_count": 763,
   "id": "9b2109b4",
   "metadata": {},
   "outputs": [
    {
     "data": {
      "text/html": [
       "<div>\n",
       "<style scoped>\n",
       "    .dataframe tbody tr th:only-of-type {\n",
       "        vertical-align: middle;\n",
       "    }\n",
       "\n",
       "    .dataframe tbody tr th {\n",
       "        vertical-align: top;\n",
       "    }\n",
       "\n",
       "    .dataframe thead th {\n",
       "        text-align: right;\n",
       "    }\n",
       "</style>\n",
       "<table border=\"1\" class=\"dataframe\">\n",
       "  <thead>\n",
       "    <tr style=\"text-align: right;\">\n",
       "      <th></th>\n",
       "      <th>files</th>\n",
       "      <th>random_number</th>\n",
       "    </tr>\n",
       "  </thead>\n",
       "  <tbody>\n",
       "    <tr>\n",
       "      <th>0</th>\n",
       "      <td>/Users/butler/Documents/springboard_bootcamp/C...</td>\n",
       "      <td>4692</td>\n",
       "    </tr>\n",
       "    <tr>\n",
       "      <th>1</th>\n",
       "      <td>/Users/butler/Documents/springboard_bootcamp/C...</td>\n",
       "      <td>4317</td>\n",
       "    </tr>\n",
       "    <tr>\n",
       "      <th>2</th>\n",
       "      <td>/Users/butler/Documents/springboard_bootcamp/C...</td>\n",
       "      <td>2759</td>\n",
       "    </tr>\n",
       "    <tr>\n",
       "      <th>3</th>\n",
       "      <td>/Users/butler/Documents/springboard_bootcamp/C...</td>\n",
       "      <td>4231</td>\n",
       "    </tr>\n",
       "    <tr>\n",
       "      <th>4</th>\n",
       "      <td>/Users/butler/Documents/springboard_bootcamp/C...</td>\n",
       "      <td>3190</td>\n",
       "    </tr>\n",
       "  </tbody>\n",
       "</table>\n",
       "</div>"
      ],
      "text/plain": [
       "                                               files  random_number\n",
       "0  /Users/butler/Documents/springboard_bootcamp/C...           4692\n",
       "1  /Users/butler/Documents/springboard_bootcamp/C...           4317\n",
       "2  /Users/butler/Documents/springboard_bootcamp/C...           2759\n",
       "3  /Users/butler/Documents/springboard_bootcamp/C...           4231\n",
       "4  /Users/butler/Documents/springboard_bootcamp/C...           3190"
      ]
     },
     "execution_count": 763,
     "metadata": {},
     "output_type": "execute_result"
    }
   ],
   "source": [
    "df_dupattas.head()"
   ]
  },
  {
   "cell_type": "code",
   "execution_count": 764,
   "id": "6d78603e",
   "metadata": {},
   "outputs": [],
   "source": [
    "df_dupattas = df_dupattas.sort_values('random_number')"
   ]
  },
  {
   "cell_type": "code",
   "execution_count": 765,
   "id": "b117833f",
   "metadata": {},
   "outputs": [],
   "source": [
    "df_dupattas = df_dupattas.iloc[:500, :]"
   ]
  },
  {
   "cell_type": "code",
   "execution_count": 766,
   "id": "5694607a",
   "metadata": {},
   "outputs": [
    {
     "data": {
      "text/plain": [
       "500"
      ]
     },
     "execution_count": 766,
     "metadata": {},
     "output_type": "execute_result"
    }
   ],
   "source": [
    "len(df_dupattas)"
   ]
  },
  {
   "cell_type": "code",
   "execution_count": 767,
   "id": "0795fc25",
   "metadata": {
    "scrolled": true
   },
   "outputs": [
    {
     "data": {
      "text/html": [
       "<div>\n",
       "<style scoped>\n",
       "    .dataframe tbody tr th:only-of-type {\n",
       "        vertical-align: middle;\n",
       "    }\n",
       "\n",
       "    .dataframe tbody tr th {\n",
       "        vertical-align: top;\n",
       "    }\n",
       "\n",
       "    .dataframe thead th {\n",
       "        text-align: right;\n",
       "    }\n",
       "</style>\n",
       "<table border=\"1\" class=\"dataframe\">\n",
       "  <thead>\n",
       "    <tr style=\"text-align: right;\">\n",
       "      <th></th>\n",
       "      <th>files</th>\n",
       "      <th>random_number</th>\n",
       "    </tr>\n",
       "  </thead>\n",
       "  <tbody>\n",
       "    <tr>\n",
       "      <th>0</th>\n",
       "      <td>/Users/butler/Documents/springboard_bootcamp/C...</td>\n",
       "      <td>0</td>\n",
       "    </tr>\n",
       "    <tr>\n",
       "      <th>1</th>\n",
       "      <td>/Users/butler/Documents/springboard_bootcamp/C...</td>\n",
       "      <td>1</td>\n",
       "    </tr>\n",
       "    <tr>\n",
       "      <th>2</th>\n",
       "      <td>/Users/butler/Documents/springboard_bootcamp/C...</td>\n",
       "      <td>2</td>\n",
       "    </tr>\n",
       "    <tr>\n",
       "      <th>3</th>\n",
       "      <td>/Users/butler/Documents/springboard_bootcamp/C...</td>\n",
       "      <td>6</td>\n",
       "    </tr>\n",
       "    <tr>\n",
       "      <th>4</th>\n",
       "      <td>/Users/butler/Documents/springboard_bootcamp/C...</td>\n",
       "      <td>10</td>\n",
       "    </tr>\n",
       "  </tbody>\n",
       "</table>\n",
       "</div>"
      ],
      "text/plain": [
       "                                               files  random_number\n",
       "0  /Users/butler/Documents/springboard_bootcamp/C...              0\n",
       "1  /Users/butler/Documents/springboard_bootcamp/C...              1\n",
       "2  /Users/butler/Documents/springboard_bootcamp/C...              2\n",
       "3  /Users/butler/Documents/springboard_bootcamp/C...              6\n",
       "4  /Users/butler/Documents/springboard_bootcamp/C...             10"
      ]
     },
     "execution_count": 767,
     "metadata": {},
     "output_type": "execute_result"
    }
   ],
   "source": [
    "df_dupattas.reset_index(drop=True, inplace=True)\n",
    "df_dupattas.head()"
   ]
  },
  {
   "cell_type": "code",
   "execution_count": 768,
   "id": "fce7342d",
   "metadata": {},
   "outputs": [
    {
     "data": {
      "text/plain": [
       "'/Users/butler/Documents/springboard_bootcamp/Classification_of_Indian_clothing_images/data/external/newly_scraped_images/gowns/flipkart/l-js116-red-printed-anarkali-kurta-m-misree-original-imafwgfc8xhqzyxy.jpeg'"
      ]
     },
     "execution_count": 768,
     "metadata": {},
     "output_type": "execute_result"
    }
   ],
   "source": [
    "df_dupattas.iloc[0,0]"
   ]
  },
  {
   "cell_type": "code",
   "execution_count": 769,
   "id": "e1c66db3",
   "metadata": {},
   "outputs": [],
   "source": [
    "df_dupattas.to_csv('/Users/butler/Documents/springboard_bootcamp/Classification_of_Indian_clothing_images/data/external/newly_scraped_images/df_dupattas.csv')"
   ]
  },
  {
   "cell_type": "markdown",
   "id": "8bc91c78",
   "metadata": {},
   "source": [
    "Dhoti Pants"
   ]
  },
  {
   "cell_type": "code",
   "execution_count": 770,
   "id": "625a1e83",
   "metadata": {},
   "outputs": [],
   "source": [
    "files_fk = glob('/Users/butler/Documents/springboard_bootcamp/Classification_of_Indian_clothing_images/data/external/newly_scraped_images/dhoti_pants/flipkart/*.jpeg')"
   ]
  },
  {
   "cell_type": "code",
   "execution_count": 771,
   "id": "dc66ae2b",
   "metadata": {},
   "outputs": [
    {
     "data": {
      "text/plain": [
       "608"
      ]
     },
     "execution_count": 771,
     "metadata": {},
     "output_type": "execute_result"
    }
   ],
   "source": [
    "len(files_fk)"
   ]
  },
  {
   "cell_type": "code",
   "execution_count": 772,
   "id": "ec35dfac",
   "metadata": {},
   "outputs": [],
   "source": [
    "files_kp = glob('/Users/butler/Documents/springboard_bootcamp/Classification_of_Indian_clothing_images/data/external/newly_scraped_images/dhoti_pants/karmaplace/*.jpg')"
   ]
  },
  {
   "cell_type": "code",
   "execution_count": 773,
   "id": "bd4c65e4",
   "metadata": {},
   "outputs": [
    {
     "data": {
      "text/plain": [
       "302"
      ]
     },
     "execution_count": 773,
     "metadata": {},
     "output_type": "execute_result"
    }
   ],
   "source": [
    "len(files_kp)"
   ]
  },
  {
   "cell_type": "code",
   "execution_count": 774,
   "id": "ee9974b1",
   "metadata": {},
   "outputs": [],
   "source": [
    "files_uf = glob('/Users/butler/Documents/springboard_bootcamp/Classification_of_Indian_clothing_images/data/external/newly_scraped_images/dhoti_pants/utsavfashion/*.jpg')"
   ]
  },
  {
   "cell_type": "code",
   "execution_count": 775,
   "id": "ba7681be",
   "metadata": {},
   "outputs": [
    {
     "data": {
      "text/plain": [
       "114"
      ]
     },
     "execution_count": 775,
     "metadata": {},
     "output_type": "execute_result"
    }
   ],
   "source": [
    "len(files_uf)"
   ]
  },
  {
   "cell_type": "markdown",
   "id": "3eed56f5",
   "metadata": {},
   "source": [
    "Want 500 files"
   ]
  },
  {
   "cell_type": "code",
   "execution_count": 776,
   "id": "0482033a",
   "metadata": {},
   "outputs": [],
   "source": [
    "lst = files_kp + files_fk + files_uf"
   ]
  },
  {
   "cell_type": "code",
   "execution_count": 777,
   "id": "f02a5cba",
   "metadata": {},
   "outputs": [],
   "source": [
    "df_dhoti_pants = pd.DataFrame()"
   ]
  },
  {
   "cell_type": "code",
   "execution_count": 778,
   "id": "04fc4fd6",
   "metadata": {},
   "outputs": [],
   "source": [
    "df_dhoti_pants['files'] = lst"
   ]
  },
  {
   "cell_type": "code",
   "execution_count": 779,
   "id": "15d89df5",
   "metadata": {
    "scrolled": false
   },
   "outputs": [
    {
     "data": {
      "text/html": [
       "<div>\n",
       "<style scoped>\n",
       "    .dataframe tbody tr th:only-of-type {\n",
       "        vertical-align: middle;\n",
       "    }\n",
       "\n",
       "    .dataframe tbody tr th {\n",
       "        vertical-align: top;\n",
       "    }\n",
       "\n",
       "    .dataframe thead th {\n",
       "        text-align: right;\n",
       "    }\n",
       "</style>\n",
       "<table border=\"1\" class=\"dataframe\">\n",
       "  <thead>\n",
       "    <tr style=\"text-align: right;\">\n",
       "      <th></th>\n",
       "      <th>files</th>\n",
       "    </tr>\n",
       "  </thead>\n",
       "  <tbody>\n",
       "    <tr>\n",
       "      <th>0</th>\n",
       "      <td>/Users/butler/Documents/springboard_bootcamp/C...</td>\n",
       "    </tr>\n",
       "    <tr>\n",
       "      <th>1</th>\n",
       "      <td>/Users/butler/Documents/springboard_bootcamp/C...</td>\n",
       "    </tr>\n",
       "    <tr>\n",
       "      <th>2</th>\n",
       "      <td>/Users/butler/Documents/springboard_bootcamp/C...</td>\n",
       "    </tr>\n",
       "    <tr>\n",
       "      <th>3</th>\n",
       "      <td>/Users/butler/Documents/springboard_bootcamp/C...</td>\n",
       "    </tr>\n",
       "    <tr>\n",
       "      <th>4</th>\n",
       "      <td>/Users/butler/Documents/springboard_bootcamp/C...</td>\n",
       "    </tr>\n",
       "  </tbody>\n",
       "</table>\n",
       "</div>"
      ],
      "text/plain": [
       "                                               files\n",
       "0  /Users/butler/Documents/springboard_bootcamp/C...\n",
       "1  /Users/butler/Documents/springboard_bootcamp/C...\n",
       "2  /Users/butler/Documents/springboard_bootcamp/C...\n",
       "3  /Users/butler/Documents/springboard_bootcamp/C...\n",
       "4  /Users/butler/Documents/springboard_bootcamp/C..."
      ]
     },
     "execution_count": 779,
     "metadata": {},
     "output_type": "execute_result"
    }
   ],
   "source": [
    "df_dhoti_pants.head()"
   ]
  },
  {
   "cell_type": "code",
   "execution_count": 784,
   "id": "18ddfcd5",
   "metadata": {},
   "outputs": [
    {
     "data": {
      "text/plain": [
       "1024"
      ]
     },
     "execution_count": 784,
     "metadata": {},
     "output_type": "execute_result"
    }
   ],
   "source": [
    "len(df_dhoti_pants)"
   ]
  },
  {
   "cell_type": "code",
   "execution_count": 785,
   "id": "dc688333",
   "metadata": {},
   "outputs": [],
   "source": [
    "r = list(random.sample(range(0, 5000), 1024))"
   ]
  },
  {
   "cell_type": "code",
   "execution_count": 786,
   "id": "2560de58",
   "metadata": {},
   "outputs": [
    {
     "data": {
      "text/plain": [
       "1024"
      ]
     },
     "execution_count": 786,
     "metadata": {},
     "output_type": "execute_result"
    }
   ],
   "source": [
    "len(r)"
   ]
  },
  {
   "cell_type": "code",
   "execution_count": 787,
   "id": "2403d573",
   "metadata": {},
   "outputs": [],
   "source": [
    "df_dhoti_pants['random_number'] = r"
   ]
  },
  {
   "cell_type": "code",
   "execution_count": 788,
   "id": "b90682d3",
   "metadata": {},
   "outputs": [
    {
     "data": {
      "text/html": [
       "<div>\n",
       "<style scoped>\n",
       "    .dataframe tbody tr th:only-of-type {\n",
       "        vertical-align: middle;\n",
       "    }\n",
       "\n",
       "    .dataframe tbody tr th {\n",
       "        vertical-align: top;\n",
       "    }\n",
       "\n",
       "    .dataframe thead th {\n",
       "        text-align: right;\n",
       "    }\n",
       "</style>\n",
       "<table border=\"1\" class=\"dataframe\">\n",
       "  <thead>\n",
       "    <tr style=\"text-align: right;\">\n",
       "      <th></th>\n",
       "      <th>files</th>\n",
       "      <th>random_number</th>\n",
       "    </tr>\n",
       "  </thead>\n",
       "  <tbody>\n",
       "    <tr>\n",
       "      <th>0</th>\n",
       "      <td>/Users/butler/Documents/springboard_bootcamp/C...</td>\n",
       "      <td>4371</td>\n",
       "    </tr>\n",
       "    <tr>\n",
       "      <th>1</th>\n",
       "      <td>/Users/butler/Documents/springboard_bootcamp/C...</td>\n",
       "      <td>1746</td>\n",
       "    </tr>\n",
       "    <tr>\n",
       "      <th>2</th>\n",
       "      <td>/Users/butler/Documents/springboard_bootcamp/C...</td>\n",
       "      <td>3478</td>\n",
       "    </tr>\n",
       "    <tr>\n",
       "      <th>3</th>\n",
       "      <td>/Users/butler/Documents/springboard_bootcamp/C...</td>\n",
       "      <td>2781</td>\n",
       "    </tr>\n",
       "    <tr>\n",
       "      <th>4</th>\n",
       "      <td>/Users/butler/Documents/springboard_bootcamp/C...</td>\n",
       "      <td>958</td>\n",
       "    </tr>\n",
       "  </tbody>\n",
       "</table>\n",
       "</div>"
      ],
      "text/plain": [
       "                                               files  random_number\n",
       "0  /Users/butler/Documents/springboard_bootcamp/C...           4371\n",
       "1  /Users/butler/Documents/springboard_bootcamp/C...           1746\n",
       "2  /Users/butler/Documents/springboard_bootcamp/C...           3478\n",
       "3  /Users/butler/Documents/springboard_bootcamp/C...           2781\n",
       "4  /Users/butler/Documents/springboard_bootcamp/C...            958"
      ]
     },
     "execution_count": 788,
     "metadata": {},
     "output_type": "execute_result"
    }
   ],
   "source": [
    "df_dhoti_pants.head()"
   ]
  },
  {
   "cell_type": "code",
   "execution_count": 789,
   "id": "833b5022",
   "metadata": {},
   "outputs": [],
   "source": [
    "df_dhoti_pants = df_dhoti_pants.sort_values('random_number')"
   ]
  },
  {
   "cell_type": "code",
   "execution_count": 790,
   "id": "fbc7e13d",
   "metadata": {},
   "outputs": [],
   "source": [
    "df_dhoti_pants = df_dhoti_pants.iloc[:500, :]"
   ]
  },
  {
   "cell_type": "code",
   "execution_count": 791,
   "id": "b5837078",
   "metadata": {},
   "outputs": [
    {
     "data": {
      "text/plain": [
       "500"
      ]
     },
     "execution_count": 791,
     "metadata": {},
     "output_type": "execute_result"
    }
   ],
   "source": [
    "len(df_dhoti_pants)"
   ]
  },
  {
   "cell_type": "code",
   "execution_count": 792,
   "id": "ad33942e",
   "metadata": {
    "scrolled": true
   },
   "outputs": [
    {
     "data": {
      "text/html": [
       "<div>\n",
       "<style scoped>\n",
       "    .dataframe tbody tr th:only-of-type {\n",
       "        vertical-align: middle;\n",
       "    }\n",
       "\n",
       "    .dataframe tbody tr th {\n",
       "        vertical-align: top;\n",
       "    }\n",
       "\n",
       "    .dataframe thead th {\n",
       "        text-align: right;\n",
       "    }\n",
       "</style>\n",
       "<table border=\"1\" class=\"dataframe\">\n",
       "  <thead>\n",
       "    <tr style=\"text-align: right;\">\n",
       "      <th></th>\n",
       "      <th>files</th>\n",
       "      <th>random_number</th>\n",
       "    </tr>\n",
       "  </thead>\n",
       "  <tbody>\n",
       "    <tr>\n",
       "      <th>0</th>\n",
       "      <td>/Users/butler/Documents/springboard_bootcamp/C...</td>\n",
       "      <td>1</td>\n",
       "    </tr>\n",
       "    <tr>\n",
       "      <th>1</th>\n",
       "      <td>/Users/butler/Documents/springboard_bootcamp/C...</td>\n",
       "      <td>13</td>\n",
       "    </tr>\n",
       "    <tr>\n",
       "      <th>2</th>\n",
       "      <td>/Users/butler/Documents/springboard_bootcamp/C...</td>\n",
       "      <td>21</td>\n",
       "    </tr>\n",
       "    <tr>\n",
       "      <th>3</th>\n",
       "      <td>/Users/butler/Documents/springboard_bootcamp/C...</td>\n",
       "      <td>28</td>\n",
       "    </tr>\n",
       "    <tr>\n",
       "      <th>4</th>\n",
       "      <td>/Users/butler/Documents/springboard_bootcamp/C...</td>\n",
       "      <td>30</td>\n",
       "    </tr>\n",
       "  </tbody>\n",
       "</table>\n",
       "</div>"
      ],
      "text/plain": [
       "                                               files  random_number\n",
       "0  /Users/butler/Documents/springboard_bootcamp/C...              1\n",
       "1  /Users/butler/Documents/springboard_bootcamp/C...             13\n",
       "2  /Users/butler/Documents/springboard_bootcamp/C...             21\n",
       "3  /Users/butler/Documents/springboard_bootcamp/C...             28\n",
       "4  /Users/butler/Documents/springboard_bootcamp/C...             30"
      ]
     },
     "execution_count": 792,
     "metadata": {},
     "output_type": "execute_result"
    }
   ],
   "source": [
    "df_dhoti_pants.reset_index(drop=True, inplace=True)\n",
    "df_dhoti_pants.head()"
   ]
  },
  {
   "cell_type": "code",
   "execution_count": 793,
   "id": "f11ce565",
   "metadata": {},
   "outputs": [],
   "source": [
    "df_dhoti_pants.to_csv('/Users/butler/Documents/springboard_bootcamp/Classification_of_Indian_clothing_images/data/external/newly_scraped_images/df_dhoti_pants.csv')"
   ]
  },
  {
   "cell_type": "markdown",
   "id": "0be48aad",
   "metadata": {},
   "source": [
    "Blouses"
   ]
  },
  {
   "cell_type": "code",
   "execution_count": 794,
   "id": "27eb7cf5",
   "metadata": {},
   "outputs": [],
   "source": [
    "files_fk = glob('/Users/butler/Documents/springboard_bootcamp/Classification_of_Indian_clothing_images/data/external/newly_scraped_images/blouse/flipkart/*.jpeg')"
   ]
  },
  {
   "cell_type": "code",
   "execution_count": 795,
   "id": "da5ceba0",
   "metadata": {},
   "outputs": [
    {
     "data": {
      "text/plain": [
       "527"
      ]
     },
     "execution_count": 795,
     "metadata": {},
     "output_type": "execute_result"
    }
   ],
   "source": [
    "len(files_fk)"
   ]
  },
  {
   "cell_type": "code",
   "execution_count": 796,
   "id": "029b70a8",
   "metadata": {},
   "outputs": [],
   "source": [
    "files_uf = glob('/Users/butler/Documents/springboard_bootcamp/Classification_of_Indian_clothing_images/data/external/newly_scraped_images/blouse/utsavfashion/*.jpg')"
   ]
  },
  {
   "cell_type": "code",
   "execution_count": 797,
   "id": "86ed9310",
   "metadata": {},
   "outputs": [
    {
     "data": {
      "text/plain": [
       "120"
      ]
     },
     "execution_count": 797,
     "metadata": {},
     "output_type": "execute_result"
    }
   ],
   "source": [
    "len(files_uf)"
   ]
  },
  {
   "cell_type": "markdown",
   "id": "abc1eb0d",
   "metadata": {},
   "source": [
    "Want 500 files"
   ]
  },
  {
   "cell_type": "code",
   "execution_count": 798,
   "id": "d3d9f2bc",
   "metadata": {},
   "outputs": [],
   "source": [
    "lst = files_fk + files_uf"
   ]
  },
  {
   "cell_type": "code",
   "execution_count": 799,
   "id": "3995002e",
   "metadata": {},
   "outputs": [],
   "source": [
    "df_blouse = pd.DataFrame()"
   ]
  },
  {
   "cell_type": "code",
   "execution_count": 800,
   "id": "547a54b8",
   "metadata": {},
   "outputs": [],
   "source": [
    "df_blouse['files'] = lst"
   ]
  },
  {
   "cell_type": "code",
   "execution_count": 801,
   "id": "16bc6e49",
   "metadata": {
    "scrolled": false
   },
   "outputs": [
    {
     "data": {
      "text/html": [
       "<div>\n",
       "<style scoped>\n",
       "    .dataframe tbody tr th:only-of-type {\n",
       "        vertical-align: middle;\n",
       "    }\n",
       "\n",
       "    .dataframe tbody tr th {\n",
       "        vertical-align: top;\n",
       "    }\n",
       "\n",
       "    .dataframe thead th {\n",
       "        text-align: right;\n",
       "    }\n",
       "</style>\n",
       "<table border=\"1\" class=\"dataframe\">\n",
       "  <thead>\n",
       "    <tr style=\"text-align: right;\">\n",
       "      <th></th>\n",
       "      <th>files</th>\n",
       "    </tr>\n",
       "  </thead>\n",
       "  <tbody>\n",
       "    <tr>\n",
       "      <th>0</th>\n",
       "      <td>/Users/butler/Documents/springboard_bootcamp/C...</td>\n",
       "    </tr>\n",
       "    <tr>\n",
       "      <th>1</th>\n",
       "      <td>/Users/butler/Documents/springboard_bootcamp/C...</td>\n",
       "    </tr>\n",
       "    <tr>\n",
       "      <th>2</th>\n",
       "      <td>/Users/butler/Documents/springboard_bootcamp/C...</td>\n",
       "    </tr>\n",
       "    <tr>\n",
       "      <th>3</th>\n",
       "      <td>/Users/butler/Documents/springboard_bootcamp/C...</td>\n",
       "    </tr>\n",
       "    <tr>\n",
       "      <th>4</th>\n",
       "      <td>/Users/butler/Documents/springboard_bootcamp/C...</td>\n",
       "    </tr>\n",
       "  </tbody>\n",
       "</table>\n",
       "</div>"
      ],
      "text/plain": [
       "                                               files\n",
       "0  /Users/butler/Documents/springboard_bootcamp/C...\n",
       "1  /Users/butler/Documents/springboard_bootcamp/C...\n",
       "2  /Users/butler/Documents/springboard_bootcamp/C...\n",
       "3  /Users/butler/Documents/springboard_bootcamp/C...\n",
       "4  /Users/butler/Documents/springboard_bootcamp/C..."
      ]
     },
     "execution_count": 801,
     "metadata": {},
     "output_type": "execute_result"
    }
   ],
   "source": [
    "df_blouse.head()"
   ]
  },
  {
   "cell_type": "code",
   "execution_count": 802,
   "id": "0a119ab0",
   "metadata": {},
   "outputs": [
    {
     "data": {
      "text/plain": [
       "647"
      ]
     },
     "execution_count": 802,
     "metadata": {},
     "output_type": "execute_result"
    }
   ],
   "source": [
    "len(df_blouse)"
   ]
  },
  {
   "cell_type": "code",
   "execution_count": 806,
   "id": "15b267b9",
   "metadata": {},
   "outputs": [],
   "source": [
    "r = list(random.sample(range(0, 5000), 647))"
   ]
  },
  {
   "cell_type": "code",
   "execution_count": 807,
   "id": "f7f20cf9",
   "metadata": {},
   "outputs": [
    {
     "data": {
      "text/plain": [
       "647"
      ]
     },
     "execution_count": 807,
     "metadata": {},
     "output_type": "execute_result"
    }
   ],
   "source": [
    "len(r)"
   ]
  },
  {
   "cell_type": "code",
   "execution_count": 808,
   "id": "cc9ae54f",
   "metadata": {},
   "outputs": [],
   "source": [
    "df_blouse['random_number'] = r"
   ]
  },
  {
   "cell_type": "code",
   "execution_count": 809,
   "id": "0490e869",
   "metadata": {},
   "outputs": [
    {
     "data": {
      "text/html": [
       "<div>\n",
       "<style scoped>\n",
       "    .dataframe tbody tr th:only-of-type {\n",
       "        vertical-align: middle;\n",
       "    }\n",
       "\n",
       "    .dataframe tbody tr th {\n",
       "        vertical-align: top;\n",
       "    }\n",
       "\n",
       "    .dataframe thead th {\n",
       "        text-align: right;\n",
       "    }\n",
       "</style>\n",
       "<table border=\"1\" class=\"dataframe\">\n",
       "  <thead>\n",
       "    <tr style=\"text-align: right;\">\n",
       "      <th></th>\n",
       "      <th>files</th>\n",
       "      <th>random_number</th>\n",
       "    </tr>\n",
       "  </thead>\n",
       "  <tbody>\n",
       "    <tr>\n",
       "      <th>0</th>\n",
       "      <td>/Users/butler/Documents/springboard_bootcamp/C...</td>\n",
       "      <td>1846</td>\n",
       "    </tr>\n",
       "    <tr>\n",
       "      <th>1</th>\n",
       "      <td>/Users/butler/Documents/springboard_bootcamp/C...</td>\n",
       "      <td>4319</td>\n",
       "    </tr>\n",
       "    <tr>\n",
       "      <th>2</th>\n",
       "      <td>/Users/butler/Documents/springboard_bootcamp/C...</td>\n",
       "      <td>2319</td>\n",
       "    </tr>\n",
       "    <tr>\n",
       "      <th>3</th>\n",
       "      <td>/Users/butler/Documents/springboard_bootcamp/C...</td>\n",
       "      <td>4339</td>\n",
       "    </tr>\n",
       "    <tr>\n",
       "      <th>4</th>\n",
       "      <td>/Users/butler/Documents/springboard_bootcamp/C...</td>\n",
       "      <td>3089</td>\n",
       "    </tr>\n",
       "  </tbody>\n",
       "</table>\n",
       "</div>"
      ],
      "text/plain": [
       "                                               files  random_number\n",
       "0  /Users/butler/Documents/springboard_bootcamp/C...           1846\n",
       "1  /Users/butler/Documents/springboard_bootcamp/C...           4319\n",
       "2  /Users/butler/Documents/springboard_bootcamp/C...           2319\n",
       "3  /Users/butler/Documents/springboard_bootcamp/C...           4339\n",
       "4  /Users/butler/Documents/springboard_bootcamp/C...           3089"
      ]
     },
     "execution_count": 809,
     "metadata": {},
     "output_type": "execute_result"
    }
   ],
   "source": [
    "df_blouse.head()"
   ]
  },
  {
   "cell_type": "code",
   "execution_count": 810,
   "id": "c54a79bc",
   "metadata": {},
   "outputs": [],
   "source": [
    "df_blouse = df_blouse.sort_values('random_number')"
   ]
  },
  {
   "cell_type": "code",
   "execution_count": 811,
   "id": "04878599",
   "metadata": {},
   "outputs": [],
   "source": [
    "df_blouse = df_blouse.iloc[:500, :]"
   ]
  },
  {
   "cell_type": "code",
   "execution_count": 812,
   "id": "0fbb02fa",
   "metadata": {},
   "outputs": [
    {
     "data": {
      "text/plain": [
       "500"
      ]
     },
     "execution_count": 812,
     "metadata": {},
     "output_type": "execute_result"
    }
   ],
   "source": [
    "len(df_blouse)"
   ]
  },
  {
   "cell_type": "code",
   "execution_count": 813,
   "id": "55d54a18",
   "metadata": {
    "scrolled": true
   },
   "outputs": [
    {
     "data": {
      "text/html": [
       "<div>\n",
       "<style scoped>\n",
       "    .dataframe tbody tr th:only-of-type {\n",
       "        vertical-align: middle;\n",
       "    }\n",
       "\n",
       "    .dataframe tbody tr th {\n",
       "        vertical-align: top;\n",
       "    }\n",
       "\n",
       "    .dataframe thead th {\n",
       "        text-align: right;\n",
       "    }\n",
       "</style>\n",
       "<table border=\"1\" class=\"dataframe\">\n",
       "  <thead>\n",
       "    <tr style=\"text-align: right;\">\n",
       "      <th></th>\n",
       "      <th>files</th>\n",
       "      <th>random_number</th>\n",
       "    </tr>\n",
       "  </thead>\n",
       "  <tbody>\n",
       "    <tr>\n",
       "      <th>0</th>\n",
       "      <td>/Users/butler/Documents/springboard_bootcamp/C...</td>\n",
       "      <td>2</td>\n",
       "    </tr>\n",
       "    <tr>\n",
       "      <th>1</th>\n",
       "      <td>/Users/butler/Documents/springboard_bootcamp/C...</td>\n",
       "      <td>4</td>\n",
       "    </tr>\n",
       "    <tr>\n",
       "      <th>2</th>\n",
       "      <td>/Users/butler/Documents/springboard_bootcamp/C...</td>\n",
       "      <td>12</td>\n",
       "    </tr>\n",
       "    <tr>\n",
       "      <th>3</th>\n",
       "      <td>/Users/butler/Documents/springboard_bootcamp/C...</td>\n",
       "      <td>31</td>\n",
       "    </tr>\n",
       "    <tr>\n",
       "      <th>4</th>\n",
       "      <td>/Users/butler/Documents/springboard_bootcamp/C...</td>\n",
       "      <td>32</td>\n",
       "    </tr>\n",
       "  </tbody>\n",
       "</table>\n",
       "</div>"
      ],
      "text/plain": [
       "                                               files  random_number\n",
       "0  /Users/butler/Documents/springboard_bootcamp/C...              2\n",
       "1  /Users/butler/Documents/springboard_bootcamp/C...              4\n",
       "2  /Users/butler/Documents/springboard_bootcamp/C...             12\n",
       "3  /Users/butler/Documents/springboard_bootcamp/C...             31\n",
       "4  /Users/butler/Documents/springboard_bootcamp/C...             32"
      ]
     },
     "execution_count": 813,
     "metadata": {},
     "output_type": "execute_result"
    }
   ],
   "source": [
    "df_blouse.reset_index(drop=True, inplace=True)\n",
    "df_blouse.head()"
   ]
  },
  {
   "cell_type": "code",
   "execution_count": 814,
   "id": "1dffc5a0",
   "metadata": {},
   "outputs": [],
   "source": [
    "df_blouse.to_csv('/Users/butler/Documents/springboard_bootcamp/Classification_of_Indian_clothing_images/data/external/newly_scraped_images/df_blouse.csv')"
   ]
  },
  {
   "cell_type": "markdown",
   "id": "4be24f6b",
   "metadata": {},
   "source": [
    "Leggings and Salwars"
   ]
  },
  {
   "cell_type": "code",
   "execution_count": 815,
   "id": "0b8ad2d9",
   "metadata": {},
   "outputs": [],
   "source": [
    "files_ai = glob('/Users/butler/Documents/springboard_bootcamp/Classification_of_Indian_clothing_images/data/external/newly_scraped_images/leggings_and_salwars/amazon.in_salwars/*.jpg')"
   ]
  },
  {
   "cell_type": "code",
   "execution_count": 816,
   "id": "a8f5ff60",
   "metadata": {},
   "outputs": [
    {
     "data": {
      "text/plain": [
       "237"
      ]
     },
     "execution_count": 816,
     "metadata": {},
     "output_type": "execute_result"
    }
   ],
   "source": [
    "len(files_ai)"
   ]
  },
  {
   "cell_type": "code",
   "execution_count": 817,
   "id": "560cb8b3",
   "metadata": {},
   "outputs": [],
   "source": [
    "files_fk = glob('/Users/butler/Documents/springboard_bootcamp/Classification_of_Indian_clothing_images/data/external/newly_scraped_images/leggings_and_salwars/flipkart/*.jpeg')"
   ]
  },
  {
   "cell_type": "code",
   "execution_count": 818,
   "id": "e7713e52",
   "metadata": {},
   "outputs": [
    {
     "data": {
      "text/plain": [
       "482"
      ]
     },
     "execution_count": 818,
     "metadata": {},
     "output_type": "execute_result"
    }
   ],
   "source": [
    "len(files_fk)"
   ]
  },
  {
   "cell_type": "code",
   "execution_count": 819,
   "id": "cd45f04b",
   "metadata": {},
   "outputs": [],
   "source": [
    "files_fkw = glob('/Users/butler/Documents/springboard_bootcamp/Classification_of_Indian_clothing_images/data/external/newly_scraped_images/leggings_and_salwars/flipkart_salwars/*.jpeg')"
   ]
  },
  {
   "cell_type": "code",
   "execution_count": 820,
   "id": "f4faed5b",
   "metadata": {},
   "outputs": [
    {
     "data": {
      "text/plain": [
       "420"
      ]
     },
     "execution_count": 820,
     "metadata": {},
     "output_type": "execute_result"
    }
   ],
   "source": [
    "len(files_fkw)"
   ]
  },
  {
   "cell_type": "code",
   "execution_count": 821,
   "id": "a5a18cc7",
   "metadata": {},
   "outputs": [],
   "source": [
    "files_uf = glob('/Users/butler/Documents/springboard_bootcamp/Classification_of_Indian_clothing_images/data/external/newly_scraped_images/leggings_and_salwars/utsav_leggings/*.jpg')"
   ]
  },
  {
   "cell_type": "code",
   "execution_count": 822,
   "id": "a779d790",
   "metadata": {},
   "outputs": [
    {
     "data": {
      "text/plain": [
       "18"
      ]
     },
     "execution_count": 822,
     "metadata": {},
     "output_type": "execute_result"
    }
   ],
   "source": [
    "len(files_uf)"
   ]
  },
  {
   "cell_type": "markdown",
   "id": "9306cfbd",
   "metadata": {},
   "source": [
    "Want 500 files"
   ]
  },
  {
   "cell_type": "code",
   "execution_count": 823,
   "id": "5606a4b5",
   "metadata": {},
   "outputs": [],
   "source": [
    "lst = files_kp + files_fk + files_uf + files_fkw"
   ]
  },
  {
   "cell_type": "code",
   "execution_count": 824,
   "id": "cd35ce73",
   "metadata": {},
   "outputs": [],
   "source": [
    "df_leggings_and_salwars = pd.DataFrame()"
   ]
  },
  {
   "cell_type": "code",
   "execution_count": 825,
   "id": "c9426b36",
   "metadata": {},
   "outputs": [],
   "source": [
    "df_leggings_and_salwars['files'] = lst"
   ]
  },
  {
   "cell_type": "code",
   "execution_count": 826,
   "id": "73291af1",
   "metadata": {
    "scrolled": false
   },
   "outputs": [
    {
     "data": {
      "text/html": [
       "<div>\n",
       "<style scoped>\n",
       "    .dataframe tbody tr th:only-of-type {\n",
       "        vertical-align: middle;\n",
       "    }\n",
       "\n",
       "    .dataframe tbody tr th {\n",
       "        vertical-align: top;\n",
       "    }\n",
       "\n",
       "    .dataframe thead th {\n",
       "        text-align: right;\n",
       "    }\n",
       "</style>\n",
       "<table border=\"1\" class=\"dataframe\">\n",
       "  <thead>\n",
       "    <tr style=\"text-align: right;\">\n",
       "      <th></th>\n",
       "      <th>files</th>\n",
       "    </tr>\n",
       "  </thead>\n",
       "  <tbody>\n",
       "    <tr>\n",
       "      <th>0</th>\n",
       "      <td>/Users/butler/Documents/springboard_bootcamp/C...</td>\n",
       "    </tr>\n",
       "    <tr>\n",
       "      <th>1</th>\n",
       "      <td>/Users/butler/Documents/springboard_bootcamp/C...</td>\n",
       "    </tr>\n",
       "    <tr>\n",
       "      <th>2</th>\n",
       "      <td>/Users/butler/Documents/springboard_bootcamp/C...</td>\n",
       "    </tr>\n",
       "    <tr>\n",
       "      <th>3</th>\n",
       "      <td>/Users/butler/Documents/springboard_bootcamp/C...</td>\n",
       "    </tr>\n",
       "    <tr>\n",
       "      <th>4</th>\n",
       "      <td>/Users/butler/Documents/springboard_bootcamp/C...</td>\n",
       "    </tr>\n",
       "  </tbody>\n",
       "</table>\n",
       "</div>"
      ],
      "text/plain": [
       "                                               files\n",
       "0  /Users/butler/Documents/springboard_bootcamp/C...\n",
       "1  /Users/butler/Documents/springboard_bootcamp/C...\n",
       "2  /Users/butler/Documents/springboard_bootcamp/C...\n",
       "3  /Users/butler/Documents/springboard_bootcamp/C...\n",
       "4  /Users/butler/Documents/springboard_bootcamp/C..."
      ]
     },
     "execution_count": 826,
     "metadata": {},
     "output_type": "execute_result"
    }
   ],
   "source": [
    "df_leggings_and_salwars.head()"
   ]
  },
  {
   "cell_type": "code",
   "execution_count": 827,
   "id": "f46864fc",
   "metadata": {},
   "outputs": [
    {
     "data": {
      "text/plain": [
       "1222"
      ]
     },
     "execution_count": 827,
     "metadata": {},
     "output_type": "execute_result"
    }
   ],
   "source": [
    "len(df_leggings_and_salwars)"
   ]
  },
  {
   "cell_type": "code",
   "execution_count": 831,
   "id": "e7ebc8f1",
   "metadata": {},
   "outputs": [],
   "source": [
    "r = list(random.sample(range(0, 5000), 1222))"
   ]
  },
  {
   "cell_type": "code",
   "execution_count": 832,
   "id": "5143030e",
   "metadata": {},
   "outputs": [
    {
     "data": {
      "text/plain": [
       "1222"
      ]
     },
     "execution_count": 832,
     "metadata": {},
     "output_type": "execute_result"
    }
   ],
   "source": [
    "len(r)"
   ]
  },
  {
   "cell_type": "code",
   "execution_count": 833,
   "id": "c1ad9d2b",
   "metadata": {},
   "outputs": [],
   "source": [
    "df_leggings_and_salwars['random_number'] = r"
   ]
  },
  {
   "cell_type": "code",
   "execution_count": 834,
   "id": "a3f30819",
   "metadata": {},
   "outputs": [
    {
     "data": {
      "text/html": [
       "<div>\n",
       "<style scoped>\n",
       "    .dataframe tbody tr th:only-of-type {\n",
       "        vertical-align: middle;\n",
       "    }\n",
       "\n",
       "    .dataframe tbody tr th {\n",
       "        vertical-align: top;\n",
       "    }\n",
       "\n",
       "    .dataframe thead th {\n",
       "        text-align: right;\n",
       "    }\n",
       "</style>\n",
       "<table border=\"1\" class=\"dataframe\">\n",
       "  <thead>\n",
       "    <tr style=\"text-align: right;\">\n",
       "      <th></th>\n",
       "      <th>files</th>\n",
       "      <th>random_number</th>\n",
       "    </tr>\n",
       "  </thead>\n",
       "  <tbody>\n",
       "    <tr>\n",
       "      <th>0</th>\n",
       "      <td>/Users/butler/Documents/springboard_bootcamp/C...</td>\n",
       "      <td>4853</td>\n",
       "    </tr>\n",
       "    <tr>\n",
       "      <th>1</th>\n",
       "      <td>/Users/butler/Documents/springboard_bootcamp/C...</td>\n",
       "      <td>4078</td>\n",
       "    </tr>\n",
       "    <tr>\n",
       "      <th>2</th>\n",
       "      <td>/Users/butler/Documents/springboard_bootcamp/C...</td>\n",
       "      <td>2449</td>\n",
       "    </tr>\n",
       "    <tr>\n",
       "      <th>3</th>\n",
       "      <td>/Users/butler/Documents/springboard_bootcamp/C...</td>\n",
       "      <td>1574</td>\n",
       "    </tr>\n",
       "    <tr>\n",
       "      <th>4</th>\n",
       "      <td>/Users/butler/Documents/springboard_bootcamp/C...</td>\n",
       "      <td>3652</td>\n",
       "    </tr>\n",
       "  </tbody>\n",
       "</table>\n",
       "</div>"
      ],
      "text/plain": [
       "                                               files  random_number\n",
       "0  /Users/butler/Documents/springboard_bootcamp/C...           4853\n",
       "1  /Users/butler/Documents/springboard_bootcamp/C...           4078\n",
       "2  /Users/butler/Documents/springboard_bootcamp/C...           2449\n",
       "3  /Users/butler/Documents/springboard_bootcamp/C...           1574\n",
       "4  /Users/butler/Documents/springboard_bootcamp/C...           3652"
      ]
     },
     "execution_count": 834,
     "metadata": {},
     "output_type": "execute_result"
    }
   ],
   "source": [
    "df_leggings_and_salwars.head()"
   ]
  },
  {
   "cell_type": "code",
   "execution_count": 835,
   "id": "c9567721",
   "metadata": {},
   "outputs": [],
   "source": [
    "df_leggings_and_salwars = df_leggings_and_salwars.sort_values('random_number')"
   ]
  },
  {
   "cell_type": "code",
   "execution_count": 836,
   "id": "4975935b",
   "metadata": {},
   "outputs": [],
   "source": [
    "df_leggings_and_salwars = df_leggings_and_salwars.iloc[:500, :]"
   ]
  },
  {
   "cell_type": "code",
   "execution_count": 837,
   "id": "70eb15da",
   "metadata": {},
   "outputs": [
    {
     "data": {
      "text/plain": [
       "500"
      ]
     },
     "execution_count": 837,
     "metadata": {},
     "output_type": "execute_result"
    }
   ],
   "source": [
    "len(df_leggings_and_salwars)"
   ]
  },
  {
   "cell_type": "code",
   "execution_count": 838,
   "id": "d7089246",
   "metadata": {
    "scrolled": false
   },
   "outputs": [
    {
     "data": {
      "text/html": [
       "<div>\n",
       "<style scoped>\n",
       "    .dataframe tbody tr th:only-of-type {\n",
       "        vertical-align: middle;\n",
       "    }\n",
       "\n",
       "    .dataframe tbody tr th {\n",
       "        vertical-align: top;\n",
       "    }\n",
       "\n",
       "    .dataframe thead th {\n",
       "        text-align: right;\n",
       "    }\n",
       "</style>\n",
       "<table border=\"1\" class=\"dataframe\">\n",
       "  <thead>\n",
       "    <tr style=\"text-align: right;\">\n",
       "      <th></th>\n",
       "      <th>files</th>\n",
       "      <th>random_number</th>\n",
       "    </tr>\n",
       "  </thead>\n",
       "  <tbody>\n",
       "    <tr>\n",
       "      <th>0</th>\n",
       "      <td>/Users/butler/Documents/springboard_bootcamp/C...</td>\n",
       "      <td>2</td>\n",
       "    </tr>\n",
       "    <tr>\n",
       "      <th>1</th>\n",
       "      <td>/Users/butler/Documents/springboard_bootcamp/C...</td>\n",
       "      <td>5</td>\n",
       "    </tr>\n",
       "    <tr>\n",
       "      <th>2</th>\n",
       "      <td>/Users/butler/Documents/springboard_bootcamp/C...</td>\n",
       "      <td>18</td>\n",
       "    </tr>\n",
       "    <tr>\n",
       "      <th>3</th>\n",
       "      <td>/Users/butler/Documents/springboard_bootcamp/C...</td>\n",
       "      <td>20</td>\n",
       "    </tr>\n",
       "    <tr>\n",
       "      <th>4</th>\n",
       "      <td>/Users/butler/Documents/springboard_bootcamp/C...</td>\n",
       "      <td>21</td>\n",
       "    </tr>\n",
       "  </tbody>\n",
       "</table>\n",
       "</div>"
      ],
      "text/plain": [
       "                                               files  random_number\n",
       "0  /Users/butler/Documents/springboard_bootcamp/C...              2\n",
       "1  /Users/butler/Documents/springboard_bootcamp/C...              5\n",
       "2  /Users/butler/Documents/springboard_bootcamp/C...             18\n",
       "3  /Users/butler/Documents/springboard_bootcamp/C...             20\n",
       "4  /Users/butler/Documents/springboard_bootcamp/C...             21"
      ]
     },
     "execution_count": 838,
     "metadata": {},
     "output_type": "execute_result"
    }
   ],
   "source": [
    "df_leggings_and_salwars.reset_index(drop=True, inplace=True)\n",
    "df_leggings_and_salwars.head()"
   ]
  },
  {
   "cell_type": "code",
   "execution_count": 839,
   "id": "e0612ea6",
   "metadata": {},
   "outputs": [],
   "source": [
    "df_leggings_and_salwars.to_csv('/Users/butler/Documents/springboard_bootcamp/Classification_of_Indian_clothing_images/data/external/newly_scraped_images/df_leggings_and_salwars.csv')"
   ]
  },
  {
   "cell_type": "code",
   "execution_count": null,
   "id": "395a3aa9",
   "metadata": {},
   "outputs": [],
   "source": []
  }
 ],
 "metadata": {
  "kernelspec": {
   "display_name": "Python 3 (ipykernel)",
   "language": "python",
   "name": "python3"
  },
  "language_info": {
   "codemirror_mode": {
    "name": "ipython",
    "version": 3
   },
   "file_extension": ".py",
   "mimetype": "text/x-python",
   "name": "python",
   "nbconvert_exporter": "python",
   "pygments_lexer": "ipython3",
   "version": "3.9.17"
  }
 },
 "nbformat": 4,
 "nbformat_minor": 5
}
