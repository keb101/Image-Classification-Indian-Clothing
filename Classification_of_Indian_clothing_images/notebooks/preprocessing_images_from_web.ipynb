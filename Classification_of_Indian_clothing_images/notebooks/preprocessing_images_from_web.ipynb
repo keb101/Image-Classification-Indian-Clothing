{
 "cells": [
  {
   "cell_type": "code",
   "execution_count": 79,
   "id": "3d6fc90a",
   "metadata": {},
   "outputs": [],
   "source": [
    "import pandas as pd\n",
    "import numpy as np\n",
    "import seaborn as sns\n",
    "import matplotlib.pyplot as plt\n",
    "import imageio.v2 as imageio\n",
    "import cv2\n",
    "from skimage import color\n",
    "import os\n",
    "from glob import glob\n",
    "import random"
   ]
  },
  {
   "cell_type": "markdown",
   "id": "34fa6c7f",
   "metadata": {},
   "source": [
    "Women's Kurtas"
   ]
  },
  {
   "cell_type": "code",
   "execution_count": 80,
   "id": "25641200",
   "metadata": {},
   "outputs": [],
   "source": [
    "files_fk = glob('/Users/butler/Documents/springboard_bootcamp/Classification_of_Indian_clothing_images/data/external/newly_scraped_images/women_kurta/flipkart/*.jpeg')"
   ]
  },
  {
   "cell_type": "code",
   "execution_count": 81,
   "id": "44090fc0",
   "metadata": {},
   "outputs": [
    {
     "data": {
      "text/plain": [
       "578"
      ]
     },
     "execution_count": 81,
     "metadata": {},
     "output_type": "execute_result"
    }
   ],
   "source": [
    "len(files_fk)"
   ]
  },
  {
   "cell_type": "code",
   "execution_count": 82,
   "id": "ece9a095",
   "metadata": {},
   "outputs": [],
   "source": [
    "files_kp = glob('/Users/butler/Documents/springboard_bootcamp/Classification_of_Indian_clothing_images/data/external/newly_scraped_images/women_kurta/karmaplace/*.jpg')"
   ]
  },
  {
   "cell_type": "code",
   "execution_count": 83,
   "id": "1562a839",
   "metadata": {},
   "outputs": [
    {
     "data": {
      "text/plain": [
       "2339"
      ]
     },
     "execution_count": 83,
     "metadata": {},
     "output_type": "execute_result"
    }
   ],
   "source": [
    "len(files_kp)"
   ]
  },
  {
   "cell_type": "code",
   "execution_count": 84,
   "id": "2583d770",
   "metadata": {},
   "outputs": [],
   "source": [
    "files_uf = glob('/Users/butler/Documents/springboard_bootcamp/Classification_of_Indian_clothing_images/data/external/newly_scraped_images/women_kurta/utsavfashion/*.jpg')"
   ]
  },
  {
   "cell_type": "code",
   "execution_count": 85,
   "id": "744d024f",
   "metadata": {},
   "outputs": [
    {
     "data": {
      "text/plain": [
       "83"
      ]
     },
     "execution_count": 85,
     "metadata": {},
     "output_type": "execute_result"
    }
   ],
   "source": [
    "len(files_uf)"
   ]
  },
  {
   "cell_type": "markdown",
   "id": "79d84232",
   "metadata": {},
   "source": [
    "Want 500 files"
   ]
  },
  {
   "cell_type": "code",
   "execution_count": 86,
   "id": "934fd086",
   "metadata": {},
   "outputs": [],
   "source": [
    "lst = files_uf + files_kp + files_fk"
   ]
  },
  {
   "cell_type": "code",
   "execution_count": 87,
   "id": "8f0f988d",
   "metadata": {},
   "outputs": [],
   "source": [
    "df_women_kurta = pd.DataFrame()"
   ]
  },
  {
   "cell_type": "code",
   "execution_count": 88,
   "id": "2fbe0873",
   "metadata": {},
   "outputs": [],
   "source": [
    "df_women_kurta['files'] = lst"
   ]
  },
  {
   "cell_type": "code",
   "execution_count": 89,
   "id": "1d3fbeb9",
   "metadata": {
    "scrolled": false
   },
   "outputs": [
    {
     "data": {
      "text/html": [
       "<div>\n",
       "<style scoped>\n",
       "    .dataframe tbody tr th:only-of-type {\n",
       "        vertical-align: middle;\n",
       "    }\n",
       "\n",
       "    .dataframe tbody tr th {\n",
       "        vertical-align: top;\n",
       "    }\n",
       "\n",
       "    .dataframe thead th {\n",
       "        text-align: right;\n",
       "    }\n",
       "</style>\n",
       "<table border=\"1\" class=\"dataframe\">\n",
       "  <thead>\n",
       "    <tr style=\"text-align: right;\">\n",
       "      <th></th>\n",
       "      <th>files</th>\n",
       "    </tr>\n",
       "  </thead>\n",
       "  <tbody>\n",
       "    <tr>\n",
       "      <th>0</th>\n",
       "      <td>/Users/butler/Documents/springboard_bootcamp/C...</td>\n",
       "    </tr>\n",
       "    <tr>\n",
       "      <th>1</th>\n",
       "      <td>/Users/butler/Documents/springboard_bootcamp/C...</td>\n",
       "    </tr>\n",
       "    <tr>\n",
       "      <th>2</th>\n",
       "      <td>/Users/butler/Documents/springboard_bootcamp/C...</td>\n",
       "    </tr>\n",
       "    <tr>\n",
       "      <th>3</th>\n",
       "      <td>/Users/butler/Documents/springboard_bootcamp/C...</td>\n",
       "    </tr>\n",
       "    <tr>\n",
       "      <th>4</th>\n",
       "      <td>/Users/butler/Documents/springboard_bootcamp/C...</td>\n",
       "    </tr>\n",
       "  </tbody>\n",
       "</table>\n",
       "</div>"
      ],
      "text/plain": [
       "                                               files\n",
       "0  /Users/butler/Documents/springboard_bootcamp/C...\n",
       "1  /Users/butler/Documents/springboard_bootcamp/C...\n",
       "2  /Users/butler/Documents/springboard_bootcamp/C...\n",
       "3  /Users/butler/Documents/springboard_bootcamp/C...\n",
       "4  /Users/butler/Documents/springboard_bootcamp/C..."
      ]
     },
     "execution_count": 89,
     "metadata": {},
     "output_type": "execute_result"
    }
   ],
   "source": [
    "df_women_kurta.head()"
   ]
  },
  {
   "cell_type": "code",
   "execution_count": 93,
   "id": "7c428de5",
   "metadata": {},
   "outputs": [
    {
     "data": {
      "text/plain": [
       "3000"
      ]
     },
     "execution_count": 93,
     "metadata": {},
     "output_type": "execute_result"
    }
   ],
   "source": [
    "len(df_women_kurta)"
   ]
  },
  {
   "cell_type": "code",
   "execution_count": 94,
   "id": "7b487db3",
   "metadata": {},
   "outputs": [],
   "source": [
    "r = list(random.sample(range(0, 5000), 3000))"
   ]
  },
  {
   "cell_type": "code",
   "execution_count": 95,
   "id": "36d5deff",
   "metadata": {},
   "outputs": [
    {
     "data": {
      "text/plain": [
       "3000"
      ]
     },
     "execution_count": 95,
     "metadata": {},
     "output_type": "execute_result"
    }
   ],
   "source": [
    "len(r)"
   ]
  },
  {
   "cell_type": "code",
   "execution_count": 96,
   "id": "80eae381",
   "metadata": {},
   "outputs": [],
   "source": [
    "df_women_kurta['random_number'] = r"
   ]
  },
  {
   "cell_type": "code",
   "execution_count": 97,
   "id": "7ba4bc5f",
   "metadata": {},
   "outputs": [
    {
     "data": {
      "text/html": [
       "<div>\n",
       "<style scoped>\n",
       "    .dataframe tbody tr th:only-of-type {\n",
       "        vertical-align: middle;\n",
       "    }\n",
       "\n",
       "    .dataframe tbody tr th {\n",
       "        vertical-align: top;\n",
       "    }\n",
       "\n",
       "    .dataframe thead th {\n",
       "        text-align: right;\n",
       "    }\n",
       "</style>\n",
       "<table border=\"1\" class=\"dataframe\">\n",
       "  <thead>\n",
       "    <tr style=\"text-align: right;\">\n",
       "      <th></th>\n",
       "      <th>files</th>\n",
       "      <th>random_number</th>\n",
       "    </tr>\n",
       "  </thead>\n",
       "  <tbody>\n",
       "    <tr>\n",
       "      <th>0</th>\n",
       "      <td>/Users/butler/Documents/springboard_bootcamp/C...</td>\n",
       "      <td>542</td>\n",
       "    </tr>\n",
       "    <tr>\n",
       "      <th>1</th>\n",
       "      <td>/Users/butler/Documents/springboard_bootcamp/C...</td>\n",
       "      <td>4383</td>\n",
       "    </tr>\n",
       "    <tr>\n",
       "      <th>2</th>\n",
       "      <td>/Users/butler/Documents/springboard_bootcamp/C...</td>\n",
       "      <td>2519</td>\n",
       "    </tr>\n",
       "    <tr>\n",
       "      <th>3</th>\n",
       "      <td>/Users/butler/Documents/springboard_bootcamp/C...</td>\n",
       "      <td>2353</td>\n",
       "    </tr>\n",
       "    <tr>\n",
       "      <th>4</th>\n",
       "      <td>/Users/butler/Documents/springboard_bootcamp/C...</td>\n",
       "      <td>3377</td>\n",
       "    </tr>\n",
       "  </tbody>\n",
       "</table>\n",
       "</div>"
      ],
      "text/plain": [
       "                                               files  random_number\n",
       "0  /Users/butler/Documents/springboard_bootcamp/C...            542\n",
       "1  /Users/butler/Documents/springboard_bootcamp/C...           4383\n",
       "2  /Users/butler/Documents/springboard_bootcamp/C...           2519\n",
       "3  /Users/butler/Documents/springboard_bootcamp/C...           2353\n",
       "4  /Users/butler/Documents/springboard_bootcamp/C...           3377"
      ]
     },
     "execution_count": 97,
     "metadata": {},
     "output_type": "execute_result"
    }
   ],
   "source": [
    "df_women_kurta.head()"
   ]
  },
  {
   "cell_type": "code",
   "execution_count": 99,
   "id": "81bf192a",
   "metadata": {},
   "outputs": [],
   "source": [
    "df_women_kurta = df_women_kurta.sort_values('random_number')"
   ]
  },
  {
   "cell_type": "code",
   "execution_count": 105,
   "id": "fbe96560",
   "metadata": {},
   "outputs": [],
   "source": [
    "df_women_kurta = df_women_kurta.iloc[:500, :]"
   ]
  },
  {
   "cell_type": "code",
   "execution_count": 106,
   "id": "824575ea",
   "metadata": {
    "scrolled": true
   },
   "outputs": [
    {
     "data": {
      "text/plain": [
       "500"
      ]
     },
     "execution_count": 106,
     "metadata": {},
     "output_type": "execute_result"
    }
   ],
   "source": [
    "len(df_women_kurta)"
   ]
  },
  {
   "cell_type": "code",
   "execution_count": 238,
   "id": "59532699",
   "metadata": {
    "scrolled": true
   },
   "outputs": [
    {
     "data": {
      "text/html": [
       "<div>\n",
       "<style scoped>\n",
       "    .dataframe tbody tr th:only-of-type {\n",
       "        vertical-align: middle;\n",
       "    }\n",
       "\n",
       "    .dataframe tbody tr th {\n",
       "        vertical-align: top;\n",
       "    }\n",
       "\n",
       "    .dataframe thead th {\n",
       "        text-align: right;\n",
       "    }\n",
       "</style>\n",
       "<table border=\"1\" class=\"dataframe\">\n",
       "  <thead>\n",
       "    <tr style=\"text-align: right;\">\n",
       "      <th></th>\n",
       "      <th>files</th>\n",
       "      <th>random_number</th>\n",
       "    </tr>\n",
       "  </thead>\n",
       "  <tbody>\n",
       "    <tr>\n",
       "      <th>0</th>\n",
       "      <td>/Users/butler/Documents/springboard_bootcamp/C...</td>\n",
       "      <td>0</td>\n",
       "    </tr>\n",
       "    <tr>\n",
       "      <th>1</th>\n",
       "      <td>/Users/butler/Documents/springboard_bootcamp/C...</td>\n",
       "      <td>1</td>\n",
       "    </tr>\n",
       "    <tr>\n",
       "      <th>2</th>\n",
       "      <td>/Users/butler/Documents/springboard_bootcamp/C...</td>\n",
       "      <td>2</td>\n",
       "    </tr>\n",
       "    <tr>\n",
       "      <th>3</th>\n",
       "      <td>/Users/butler/Documents/springboard_bootcamp/C...</td>\n",
       "      <td>4</td>\n",
       "    </tr>\n",
       "    <tr>\n",
       "      <th>4</th>\n",
       "      <td>/Users/butler/Documents/springboard_bootcamp/C...</td>\n",
       "      <td>5</td>\n",
       "    </tr>\n",
       "  </tbody>\n",
       "</table>\n",
       "</div>"
      ],
      "text/plain": [
       "                                               files  random_number\n",
       "0  /Users/butler/Documents/springboard_bootcamp/C...              0\n",
       "1  /Users/butler/Documents/springboard_bootcamp/C...              1\n",
       "2  /Users/butler/Documents/springboard_bootcamp/C...              2\n",
       "3  /Users/butler/Documents/springboard_bootcamp/C...              4\n",
       "4  /Users/butler/Documents/springboard_bootcamp/C...              5"
      ]
     },
     "execution_count": 238,
     "metadata": {},
     "output_type": "execute_result"
    }
   ],
   "source": [
    "df_women_kurta.reset_index(drop=True,inplace=True)\n",
    "df_women_kurta.head()"
   ]
  },
  {
   "cell_type": "code",
   "execution_count": 435,
   "id": "4fae0e1a",
   "metadata": {},
   "outputs": [],
   "source": [
    "df_women_kurta.to_csv('/Users/butler/Documents/springboard_bootcamp/Classification_of_Indian_clothing_images/data/external/newly_scraped_images/df_women_kurta.csv')"
   ]
  },
  {
   "cell_type": "markdown",
   "id": "fda5bfa9",
   "metadata": {},
   "source": [
    "Sherwanis"
   ]
  },
  {
   "cell_type": "code",
   "execution_count": 107,
   "id": "cd784c5b",
   "metadata": {},
   "outputs": [],
   "source": [
    "files_fk = glob('/Users/butler/Documents/springboard_bootcamp/Classification_of_Indian_clothing_images/data/external/newly_scraped_images/sherwanis/flipkart/*.jpeg')"
   ]
  },
  {
   "cell_type": "code",
   "execution_count": 108,
   "id": "dfcab058",
   "metadata": {},
   "outputs": [
    {
     "data": {
      "text/plain": [
       "443"
      ]
     },
     "execution_count": 108,
     "metadata": {},
     "output_type": "execute_result"
    }
   ],
   "source": [
    "len(files_fk)"
   ]
  },
  {
   "cell_type": "code",
   "execution_count": 111,
   "id": "b2f55640",
   "metadata": {},
   "outputs": [],
   "source": [
    "files_kp = glob('/Users/butler/Documents/springboard_bootcamp/Classification_of_Indian_clothing_images/data/external/newly_scraped_images/sherwanis/karmaplace/*.jpg')"
   ]
  },
  {
   "cell_type": "code",
   "execution_count": 112,
   "id": "b6595d78",
   "metadata": {},
   "outputs": [
    {
     "data": {
      "text/plain": [
       "589"
      ]
     },
     "execution_count": 112,
     "metadata": {},
     "output_type": "execute_result"
    }
   ],
   "source": [
    "len(files_kp)"
   ]
  },
  {
   "cell_type": "code",
   "execution_count": 113,
   "id": "3de33f79",
   "metadata": {},
   "outputs": [],
   "source": [
    "files_uf = glob('/Users/butler/Documents/springboard_bootcamp/Classification_of_Indian_clothing_images/data/external/newly_scraped_images/sherwanis/utsavfashion/*.jpg')"
   ]
  },
  {
   "cell_type": "code",
   "execution_count": 114,
   "id": "a0646958",
   "metadata": {},
   "outputs": [
    {
     "data": {
      "text/plain": [
       "114"
      ]
     },
     "execution_count": 114,
     "metadata": {},
     "output_type": "execute_result"
    }
   ],
   "source": [
    "len(files_uf)"
   ]
  },
  {
   "cell_type": "markdown",
   "id": "1212729e",
   "metadata": {},
   "source": [
    "Want 500 files"
   ]
  },
  {
   "cell_type": "code",
   "execution_count": 115,
   "id": "c1a9d10c",
   "metadata": {},
   "outputs": [],
   "source": [
    "lst = files_uf + files_kp + files_fk"
   ]
  },
  {
   "cell_type": "code",
   "execution_count": 116,
   "id": "622a7a42",
   "metadata": {},
   "outputs": [],
   "source": [
    "df_sherwanis = pd.DataFrame()"
   ]
  },
  {
   "cell_type": "code",
   "execution_count": 117,
   "id": "c66a5e5a",
   "metadata": {},
   "outputs": [],
   "source": [
    "df_sherwanis['files'] = lst"
   ]
  },
  {
   "cell_type": "code",
   "execution_count": 118,
   "id": "91a5ceb3",
   "metadata": {
    "scrolled": false
   },
   "outputs": [
    {
     "data": {
      "text/html": [
       "<div>\n",
       "<style scoped>\n",
       "    .dataframe tbody tr th:only-of-type {\n",
       "        vertical-align: middle;\n",
       "    }\n",
       "\n",
       "    .dataframe tbody tr th {\n",
       "        vertical-align: top;\n",
       "    }\n",
       "\n",
       "    .dataframe thead th {\n",
       "        text-align: right;\n",
       "    }\n",
       "</style>\n",
       "<table border=\"1\" class=\"dataframe\">\n",
       "  <thead>\n",
       "    <tr style=\"text-align: right;\">\n",
       "      <th></th>\n",
       "      <th>files</th>\n",
       "    </tr>\n",
       "  </thead>\n",
       "  <tbody>\n",
       "    <tr>\n",
       "      <th>0</th>\n",
       "      <td>/Users/butler/Documents/springboard_bootcamp/C...</td>\n",
       "    </tr>\n",
       "    <tr>\n",
       "      <th>1</th>\n",
       "      <td>/Users/butler/Documents/springboard_bootcamp/C...</td>\n",
       "    </tr>\n",
       "    <tr>\n",
       "      <th>2</th>\n",
       "      <td>/Users/butler/Documents/springboard_bootcamp/C...</td>\n",
       "    </tr>\n",
       "    <tr>\n",
       "      <th>3</th>\n",
       "      <td>/Users/butler/Documents/springboard_bootcamp/C...</td>\n",
       "    </tr>\n",
       "    <tr>\n",
       "      <th>4</th>\n",
       "      <td>/Users/butler/Documents/springboard_bootcamp/C...</td>\n",
       "    </tr>\n",
       "  </tbody>\n",
       "</table>\n",
       "</div>"
      ],
      "text/plain": [
       "                                               files\n",
       "0  /Users/butler/Documents/springboard_bootcamp/C...\n",
       "1  /Users/butler/Documents/springboard_bootcamp/C...\n",
       "2  /Users/butler/Documents/springboard_bootcamp/C...\n",
       "3  /Users/butler/Documents/springboard_bootcamp/C...\n",
       "4  /Users/butler/Documents/springboard_bootcamp/C..."
      ]
     },
     "execution_count": 118,
     "metadata": {},
     "output_type": "execute_result"
    }
   ],
   "source": [
    "df_sherwanis.head()"
   ]
  },
  {
   "cell_type": "code",
   "execution_count": 119,
   "id": "26db2e9a",
   "metadata": {},
   "outputs": [
    {
     "data": {
      "text/plain": [
       "1146"
      ]
     },
     "execution_count": 119,
     "metadata": {},
     "output_type": "execute_result"
    }
   ],
   "source": [
    "len(df_sherwanis)"
   ]
  },
  {
   "cell_type": "code",
   "execution_count": 120,
   "id": "19ece34a",
   "metadata": {},
   "outputs": [],
   "source": [
    "r = list(random.sample(range(0, 5000), 1146))"
   ]
  },
  {
   "cell_type": "code",
   "execution_count": 121,
   "id": "271750fb",
   "metadata": {},
   "outputs": [
    {
     "data": {
      "text/plain": [
       "1146"
      ]
     },
     "execution_count": 121,
     "metadata": {},
     "output_type": "execute_result"
    }
   ],
   "source": [
    "len(r)"
   ]
  },
  {
   "cell_type": "code",
   "execution_count": 123,
   "id": "d49d81c0",
   "metadata": {},
   "outputs": [],
   "source": [
    "df_sherwanis['random_number'] = r"
   ]
  },
  {
   "cell_type": "code",
   "execution_count": 124,
   "id": "32371134",
   "metadata": {},
   "outputs": [
    {
     "data": {
      "text/html": [
       "<div>\n",
       "<style scoped>\n",
       "    .dataframe tbody tr th:only-of-type {\n",
       "        vertical-align: middle;\n",
       "    }\n",
       "\n",
       "    .dataframe tbody tr th {\n",
       "        vertical-align: top;\n",
       "    }\n",
       "\n",
       "    .dataframe thead th {\n",
       "        text-align: right;\n",
       "    }\n",
       "</style>\n",
       "<table border=\"1\" class=\"dataframe\">\n",
       "  <thead>\n",
       "    <tr style=\"text-align: right;\">\n",
       "      <th></th>\n",
       "      <th>files</th>\n",
       "      <th>random_number</th>\n",
       "    </tr>\n",
       "  </thead>\n",
       "  <tbody>\n",
       "    <tr>\n",
       "      <th>0</th>\n",
       "      <td>/Users/butler/Documents/springboard_bootcamp/C...</td>\n",
       "      <td>701</td>\n",
       "    </tr>\n",
       "    <tr>\n",
       "      <th>1</th>\n",
       "      <td>/Users/butler/Documents/springboard_bootcamp/C...</td>\n",
       "      <td>1428</td>\n",
       "    </tr>\n",
       "    <tr>\n",
       "      <th>2</th>\n",
       "      <td>/Users/butler/Documents/springboard_bootcamp/C...</td>\n",
       "      <td>4058</td>\n",
       "    </tr>\n",
       "    <tr>\n",
       "      <th>3</th>\n",
       "      <td>/Users/butler/Documents/springboard_bootcamp/C...</td>\n",
       "      <td>3515</td>\n",
       "    </tr>\n",
       "    <tr>\n",
       "      <th>4</th>\n",
       "      <td>/Users/butler/Documents/springboard_bootcamp/C...</td>\n",
       "      <td>4034</td>\n",
       "    </tr>\n",
       "  </tbody>\n",
       "</table>\n",
       "</div>"
      ],
      "text/plain": [
       "                                               files  random_number\n",
       "0  /Users/butler/Documents/springboard_bootcamp/C...            701\n",
       "1  /Users/butler/Documents/springboard_bootcamp/C...           1428\n",
       "2  /Users/butler/Documents/springboard_bootcamp/C...           4058\n",
       "3  /Users/butler/Documents/springboard_bootcamp/C...           3515\n",
       "4  /Users/butler/Documents/springboard_bootcamp/C...           4034"
      ]
     },
     "execution_count": 124,
     "metadata": {},
     "output_type": "execute_result"
    }
   ],
   "source": [
    "df_sherwanis.head()"
   ]
  },
  {
   "cell_type": "code",
   "execution_count": 125,
   "id": "dc55a314",
   "metadata": {},
   "outputs": [],
   "source": [
    "df_sherwanis = df_sherwanis.sort_values('random_number')"
   ]
  },
  {
   "cell_type": "code",
   "execution_count": 126,
   "id": "5eecc74c",
   "metadata": {},
   "outputs": [],
   "source": [
    "df_sherwanis = df_sherwanis.iloc[:500, :]"
   ]
  },
  {
   "cell_type": "code",
   "execution_count": 127,
   "id": "9776604c",
   "metadata": {
    "scrolled": true
   },
   "outputs": [
    {
     "data": {
      "text/plain": [
       "500"
      ]
     },
     "execution_count": 127,
     "metadata": {},
     "output_type": "execute_result"
    }
   ],
   "source": [
    "len(df_sherwanis)"
   ]
  },
  {
   "cell_type": "code",
   "execution_count": 178,
   "id": "02125a46",
   "metadata": {
    "scrolled": false
   },
   "outputs": [
    {
     "data": {
      "text/html": [
       "<div>\n",
       "<style scoped>\n",
       "    .dataframe tbody tr th:only-of-type {\n",
       "        vertical-align: middle;\n",
       "    }\n",
       "\n",
       "    .dataframe tbody tr th {\n",
       "        vertical-align: top;\n",
       "    }\n",
       "\n",
       "    .dataframe thead th {\n",
       "        text-align: right;\n",
       "    }\n",
       "</style>\n",
       "<table border=\"1\" class=\"dataframe\">\n",
       "  <thead>\n",
       "    <tr style=\"text-align: right;\">\n",
       "      <th></th>\n",
       "      <th>files</th>\n",
       "      <th>random_number</th>\n",
       "    </tr>\n",
       "  </thead>\n",
       "  <tbody>\n",
       "    <tr>\n",
       "      <th>0</th>\n",
       "      <td>/Users/butler/Documents/springboard_bootcamp/C...</td>\n",
       "      <td>2</td>\n",
       "    </tr>\n",
       "    <tr>\n",
       "      <th>1</th>\n",
       "      <td>/Users/butler/Documents/springboard_bootcamp/C...</td>\n",
       "      <td>3</td>\n",
       "    </tr>\n",
       "    <tr>\n",
       "      <th>2</th>\n",
       "      <td>/Users/butler/Documents/springboard_bootcamp/C...</td>\n",
       "      <td>7</td>\n",
       "    </tr>\n",
       "    <tr>\n",
       "      <th>3</th>\n",
       "      <td>/Users/butler/Documents/springboard_bootcamp/C...</td>\n",
       "      <td>18</td>\n",
       "    </tr>\n",
       "    <tr>\n",
       "      <th>4</th>\n",
       "      <td>/Users/butler/Documents/springboard_bootcamp/C...</td>\n",
       "      <td>19</td>\n",
       "    </tr>\n",
       "  </tbody>\n",
       "</table>\n",
       "</div>"
      ],
      "text/plain": [
       "                                               files  random_number\n",
       "0  /Users/butler/Documents/springboard_bootcamp/C...              2\n",
       "1  /Users/butler/Documents/springboard_bootcamp/C...              3\n",
       "2  /Users/butler/Documents/springboard_bootcamp/C...              7\n",
       "3  /Users/butler/Documents/springboard_bootcamp/C...             18\n",
       "4  /Users/butler/Documents/springboard_bootcamp/C...             19"
      ]
     },
     "execution_count": 178,
     "metadata": {},
     "output_type": "execute_result"
    }
   ],
   "source": [
    "df_sherwanis.reset_index(drop=True, inplace=True)\n",
    "df_sherwanis.head()"
   ]
  },
  {
   "cell_type": "code",
   "execution_count": 436,
   "id": "227a7c92",
   "metadata": {},
   "outputs": [],
   "source": [
    "df_sherwanis.to_csv('/Users/butler/Documents/springboard_bootcamp/Classification_of_Indian_clothing_images/data/external/newly_scraped_images/df_sherwanis.csv')"
   ]
  },
  {
   "cell_type": "markdown",
   "id": "ba54a532",
   "metadata": {},
   "source": [
    "Sarees"
   ]
  },
  {
   "cell_type": "code",
   "execution_count": 128,
   "id": "6383c0c0",
   "metadata": {},
   "outputs": [],
   "source": [
    "files_fk = glob('/Users/butler/Documents/springboard_bootcamp/Classification_of_Indian_clothing_images/data/external/newly_scraped_images/saree/flipkart/*.jpeg')"
   ]
  },
  {
   "cell_type": "code",
   "execution_count": 129,
   "id": "3a2d06ee",
   "metadata": {},
   "outputs": [
    {
     "data": {
      "text/plain": [
       "583"
      ]
     },
     "execution_count": 129,
     "metadata": {},
     "output_type": "execute_result"
    }
   ],
   "source": [
    "len(files_fk)"
   ]
  },
  {
   "cell_type": "code",
   "execution_count": 137,
   "id": "ac2e17c6",
   "metadata": {},
   "outputs": [],
   "source": [
    "files_s = glob('/Users/butler/Documents/springboard_bootcamp/Classification_of_Indian_clothing_images/data/external/newly_scraped_images/saree/suta/*.jpg')"
   ]
  },
  {
   "cell_type": "code",
   "execution_count": 138,
   "id": "0c3aa31b",
   "metadata": {},
   "outputs": [
    {
     "data": {
      "text/plain": [
       "95"
      ]
     },
     "execution_count": 138,
     "metadata": {},
     "output_type": "execute_result"
    }
   ],
   "source": [
    "len(files_s)"
   ]
  },
  {
   "cell_type": "code",
   "execution_count": 139,
   "id": "041c3970",
   "metadata": {},
   "outputs": [],
   "source": [
    "files_uf = glob('/Users/butler/Documents/springboard_bootcamp/Classification_of_Indian_clothing_images/data/external/newly_scraped_images/saree/utsavfashion/*.jpg')"
   ]
  },
  {
   "cell_type": "code",
   "execution_count": 140,
   "id": "4310c085",
   "metadata": {},
   "outputs": [
    {
     "data": {
      "text/plain": [
       "294"
      ]
     },
     "execution_count": 140,
     "metadata": {},
     "output_type": "execute_result"
    }
   ],
   "source": [
    "len(files_uf)"
   ]
  },
  {
   "cell_type": "markdown",
   "id": "161ed910",
   "metadata": {},
   "source": [
    "Want 500 files"
   ]
  },
  {
   "cell_type": "code",
   "execution_count": 141,
   "id": "d7edf030",
   "metadata": {},
   "outputs": [],
   "source": [
    "lst = files_uf + files_s + files_fk"
   ]
  },
  {
   "cell_type": "code",
   "execution_count": 142,
   "id": "c8a6681d",
   "metadata": {},
   "outputs": [],
   "source": [
    "df_saree = pd.DataFrame()"
   ]
  },
  {
   "cell_type": "code",
   "execution_count": 143,
   "id": "ffdf941f",
   "metadata": {},
   "outputs": [],
   "source": [
    "df_saree['files'] = lst"
   ]
  },
  {
   "cell_type": "code",
   "execution_count": 144,
   "id": "c722d982",
   "metadata": {
    "scrolled": false
   },
   "outputs": [
    {
     "data": {
      "text/html": [
       "<div>\n",
       "<style scoped>\n",
       "    .dataframe tbody tr th:only-of-type {\n",
       "        vertical-align: middle;\n",
       "    }\n",
       "\n",
       "    .dataframe tbody tr th {\n",
       "        vertical-align: top;\n",
       "    }\n",
       "\n",
       "    .dataframe thead th {\n",
       "        text-align: right;\n",
       "    }\n",
       "</style>\n",
       "<table border=\"1\" class=\"dataframe\">\n",
       "  <thead>\n",
       "    <tr style=\"text-align: right;\">\n",
       "      <th></th>\n",
       "      <th>files</th>\n",
       "    </tr>\n",
       "  </thead>\n",
       "  <tbody>\n",
       "    <tr>\n",
       "      <th>0</th>\n",
       "      <td>/Users/butler/Documents/springboard_bootcamp/C...</td>\n",
       "    </tr>\n",
       "    <tr>\n",
       "      <th>1</th>\n",
       "      <td>/Users/butler/Documents/springboard_bootcamp/C...</td>\n",
       "    </tr>\n",
       "    <tr>\n",
       "      <th>2</th>\n",
       "      <td>/Users/butler/Documents/springboard_bootcamp/C...</td>\n",
       "    </tr>\n",
       "    <tr>\n",
       "      <th>3</th>\n",
       "      <td>/Users/butler/Documents/springboard_bootcamp/C...</td>\n",
       "    </tr>\n",
       "    <tr>\n",
       "      <th>4</th>\n",
       "      <td>/Users/butler/Documents/springboard_bootcamp/C...</td>\n",
       "    </tr>\n",
       "  </tbody>\n",
       "</table>\n",
       "</div>"
      ],
      "text/plain": [
       "                                               files\n",
       "0  /Users/butler/Documents/springboard_bootcamp/C...\n",
       "1  /Users/butler/Documents/springboard_bootcamp/C...\n",
       "2  /Users/butler/Documents/springboard_bootcamp/C...\n",
       "3  /Users/butler/Documents/springboard_bootcamp/C...\n",
       "4  /Users/butler/Documents/springboard_bootcamp/C..."
      ]
     },
     "execution_count": 144,
     "metadata": {},
     "output_type": "execute_result"
    }
   ],
   "source": [
    "df_saree.head()"
   ]
  },
  {
   "cell_type": "code",
   "execution_count": 145,
   "id": "00949813",
   "metadata": {},
   "outputs": [
    {
     "data": {
      "text/plain": [
       "972"
      ]
     },
     "execution_count": 145,
     "metadata": {},
     "output_type": "execute_result"
    }
   ],
   "source": [
    "len(df_saree)"
   ]
  },
  {
   "cell_type": "code",
   "execution_count": 146,
   "id": "511c9f89",
   "metadata": {},
   "outputs": [],
   "source": [
    "r = list(random.sample(range(0, 5000), 972))"
   ]
  },
  {
   "cell_type": "code",
   "execution_count": 147,
   "id": "f687babc",
   "metadata": {},
   "outputs": [
    {
     "data": {
      "text/plain": [
       "972"
      ]
     },
     "execution_count": 147,
     "metadata": {},
     "output_type": "execute_result"
    }
   ],
   "source": [
    "len(r)"
   ]
  },
  {
   "cell_type": "code",
   "execution_count": 148,
   "id": "2d9e1be9",
   "metadata": {},
   "outputs": [],
   "source": [
    "df_saree['random_number'] = r"
   ]
  },
  {
   "cell_type": "code",
   "execution_count": 149,
   "id": "d5cdef95",
   "metadata": {},
   "outputs": [
    {
     "data": {
      "text/html": [
       "<div>\n",
       "<style scoped>\n",
       "    .dataframe tbody tr th:only-of-type {\n",
       "        vertical-align: middle;\n",
       "    }\n",
       "\n",
       "    .dataframe tbody tr th {\n",
       "        vertical-align: top;\n",
       "    }\n",
       "\n",
       "    .dataframe thead th {\n",
       "        text-align: right;\n",
       "    }\n",
       "</style>\n",
       "<table border=\"1\" class=\"dataframe\">\n",
       "  <thead>\n",
       "    <tr style=\"text-align: right;\">\n",
       "      <th></th>\n",
       "      <th>files</th>\n",
       "      <th>random_number</th>\n",
       "    </tr>\n",
       "  </thead>\n",
       "  <tbody>\n",
       "    <tr>\n",
       "      <th>0</th>\n",
       "      <td>/Users/butler/Documents/springboard_bootcamp/C...</td>\n",
       "      <td>2482</td>\n",
       "    </tr>\n",
       "    <tr>\n",
       "      <th>1</th>\n",
       "      <td>/Users/butler/Documents/springboard_bootcamp/C...</td>\n",
       "      <td>4016</td>\n",
       "    </tr>\n",
       "    <tr>\n",
       "      <th>2</th>\n",
       "      <td>/Users/butler/Documents/springboard_bootcamp/C...</td>\n",
       "      <td>1155</td>\n",
       "    </tr>\n",
       "    <tr>\n",
       "      <th>3</th>\n",
       "      <td>/Users/butler/Documents/springboard_bootcamp/C...</td>\n",
       "      <td>1331</td>\n",
       "    </tr>\n",
       "    <tr>\n",
       "      <th>4</th>\n",
       "      <td>/Users/butler/Documents/springboard_bootcamp/C...</td>\n",
       "      <td>2126</td>\n",
       "    </tr>\n",
       "  </tbody>\n",
       "</table>\n",
       "</div>"
      ],
      "text/plain": [
       "                                               files  random_number\n",
       "0  /Users/butler/Documents/springboard_bootcamp/C...           2482\n",
       "1  /Users/butler/Documents/springboard_bootcamp/C...           4016\n",
       "2  /Users/butler/Documents/springboard_bootcamp/C...           1155\n",
       "3  /Users/butler/Documents/springboard_bootcamp/C...           1331\n",
       "4  /Users/butler/Documents/springboard_bootcamp/C...           2126"
      ]
     },
     "execution_count": 149,
     "metadata": {},
     "output_type": "execute_result"
    }
   ],
   "source": [
    "df_saree.head()"
   ]
  },
  {
   "cell_type": "code",
   "execution_count": 151,
   "id": "216661d1",
   "metadata": {},
   "outputs": [],
   "source": [
    "df_saree = df_saree.sort_values('random_number')"
   ]
  },
  {
   "cell_type": "code",
   "execution_count": 152,
   "id": "f0dc1f2f",
   "metadata": {},
   "outputs": [],
   "source": [
    "df_saree = df_saree.iloc[:500, :]"
   ]
  },
  {
   "cell_type": "code",
   "execution_count": 153,
   "id": "7cfdd19e",
   "metadata": {},
   "outputs": [
    {
     "data": {
      "text/plain": [
       "500"
      ]
     },
     "execution_count": 153,
     "metadata": {},
     "output_type": "execute_result"
    }
   ],
   "source": [
    "len(df_saree)"
   ]
  },
  {
   "cell_type": "code",
   "execution_count": 175,
   "id": "b0904591",
   "metadata": {
    "scrolled": true
   },
   "outputs": [
    {
     "data": {
      "text/html": [
       "<div>\n",
       "<style scoped>\n",
       "    .dataframe tbody tr th:only-of-type {\n",
       "        vertical-align: middle;\n",
       "    }\n",
       "\n",
       "    .dataframe tbody tr th {\n",
       "        vertical-align: top;\n",
       "    }\n",
       "\n",
       "    .dataframe thead th {\n",
       "        text-align: right;\n",
       "    }\n",
       "</style>\n",
       "<table border=\"1\" class=\"dataframe\">\n",
       "  <thead>\n",
       "    <tr style=\"text-align: right;\">\n",
       "      <th></th>\n",
       "      <th>files</th>\n",
       "      <th>random_number</th>\n",
       "    </tr>\n",
       "  </thead>\n",
       "  <tbody>\n",
       "    <tr>\n",
       "      <th>0</th>\n",
       "      <td>/Users/butler/Documents/springboard_bootcamp/C...</td>\n",
       "      <td>2</td>\n",
       "    </tr>\n",
       "    <tr>\n",
       "      <th>1</th>\n",
       "      <td>/Users/butler/Documents/springboard_bootcamp/C...</td>\n",
       "      <td>8</td>\n",
       "    </tr>\n",
       "    <tr>\n",
       "      <th>2</th>\n",
       "      <td>/Users/butler/Documents/springboard_bootcamp/C...</td>\n",
       "      <td>9</td>\n",
       "    </tr>\n",
       "    <tr>\n",
       "      <th>3</th>\n",
       "      <td>/Users/butler/Documents/springboard_bootcamp/C...</td>\n",
       "      <td>14</td>\n",
       "    </tr>\n",
       "    <tr>\n",
       "      <th>4</th>\n",
       "      <td>/Users/butler/Documents/springboard_bootcamp/C...</td>\n",
       "      <td>18</td>\n",
       "    </tr>\n",
       "  </tbody>\n",
       "</table>\n",
       "</div>"
      ],
      "text/plain": [
       "                                               files  random_number\n",
       "0  /Users/butler/Documents/springboard_bootcamp/C...              2\n",
       "1  /Users/butler/Documents/springboard_bootcamp/C...              8\n",
       "2  /Users/butler/Documents/springboard_bootcamp/C...              9\n",
       "3  /Users/butler/Documents/springboard_bootcamp/C...             14\n",
       "4  /Users/butler/Documents/springboard_bootcamp/C...             18"
      ]
     },
     "execution_count": 175,
     "metadata": {},
     "output_type": "execute_result"
    }
   ],
   "source": [
    "df_saree.reset_index(drop=True, inplace=True)\n",
    "df_saree.head()"
   ]
  },
  {
   "cell_type": "code",
   "execution_count": 437,
   "id": "74c12b30",
   "metadata": {},
   "outputs": [],
   "source": [
    "df_saree.to_csv('/Users/butler/Documents/springboard_bootcamp/Classification_of_Indian_clothing_images/data/external/newly_scraped_images/df_saree.csv')"
   ]
  },
  {
   "cell_type": "markdown",
   "id": "b4618193",
   "metadata": {},
   "source": [
    "Petticoats"
   ]
  },
  {
   "cell_type": "code",
   "execution_count": 155,
   "id": "525f244c",
   "metadata": {},
   "outputs": [],
   "source": [
    "files_fk = glob('/Users/butler/Documents/springboard_bootcamp/Classification_of_Indian_clothing_images/data/external/newly_scraped_images/petticoats/flipkart/*.jpeg')"
   ]
  },
  {
   "cell_type": "code",
   "execution_count": 156,
   "id": "2c7e75a7",
   "metadata": {},
   "outputs": [
    {
     "data": {
      "text/plain": [
       "472"
      ]
     },
     "execution_count": 156,
     "metadata": {},
     "output_type": "execute_result"
    }
   ],
   "source": [
    "len(files_fk)"
   ]
  },
  {
   "cell_type": "code",
   "execution_count": 157,
   "id": "1f8322ab",
   "metadata": {},
   "outputs": [],
   "source": [
    "files_uf = glob('/Users/butler/Documents/springboard_bootcamp/Classification_of_Indian_clothing_images/data/external/newly_scraped_images/petticoats/utsavfashion/*.jpg')"
   ]
  },
  {
   "cell_type": "code",
   "execution_count": 158,
   "id": "8f0d692a",
   "metadata": {},
   "outputs": [
    {
     "data": {
      "text/plain": [
       "84"
      ]
     },
     "execution_count": 158,
     "metadata": {},
     "output_type": "execute_result"
    }
   ],
   "source": [
    "len(files_uf)"
   ]
  },
  {
   "cell_type": "markdown",
   "id": "748afb55",
   "metadata": {},
   "source": [
    "Want 500 files"
   ]
  },
  {
   "cell_type": "code",
   "execution_count": 159,
   "id": "cfffcd4d",
   "metadata": {},
   "outputs": [],
   "source": [
    "lst = files_uf + files_fk"
   ]
  },
  {
   "cell_type": "code",
   "execution_count": 160,
   "id": "50c4e6bb",
   "metadata": {},
   "outputs": [],
   "source": [
    "df_petticoats = pd.DataFrame()"
   ]
  },
  {
   "cell_type": "code",
   "execution_count": 161,
   "id": "5280334b",
   "metadata": {},
   "outputs": [],
   "source": [
    "df_petticoats['files'] = lst"
   ]
  },
  {
   "cell_type": "code",
   "execution_count": 162,
   "id": "c6ac5b67",
   "metadata": {
    "scrolled": false
   },
   "outputs": [
    {
     "data": {
      "text/html": [
       "<div>\n",
       "<style scoped>\n",
       "    .dataframe tbody tr th:only-of-type {\n",
       "        vertical-align: middle;\n",
       "    }\n",
       "\n",
       "    .dataframe tbody tr th {\n",
       "        vertical-align: top;\n",
       "    }\n",
       "\n",
       "    .dataframe thead th {\n",
       "        text-align: right;\n",
       "    }\n",
       "</style>\n",
       "<table border=\"1\" class=\"dataframe\">\n",
       "  <thead>\n",
       "    <tr style=\"text-align: right;\">\n",
       "      <th></th>\n",
       "      <th>files</th>\n",
       "    </tr>\n",
       "  </thead>\n",
       "  <tbody>\n",
       "    <tr>\n",
       "      <th>0</th>\n",
       "      <td>/Users/butler/Documents/springboard_bootcamp/C...</td>\n",
       "    </tr>\n",
       "    <tr>\n",
       "      <th>1</th>\n",
       "      <td>/Users/butler/Documents/springboard_bootcamp/C...</td>\n",
       "    </tr>\n",
       "    <tr>\n",
       "      <th>2</th>\n",
       "      <td>/Users/butler/Documents/springboard_bootcamp/C...</td>\n",
       "    </tr>\n",
       "    <tr>\n",
       "      <th>3</th>\n",
       "      <td>/Users/butler/Documents/springboard_bootcamp/C...</td>\n",
       "    </tr>\n",
       "    <tr>\n",
       "      <th>4</th>\n",
       "      <td>/Users/butler/Documents/springboard_bootcamp/C...</td>\n",
       "    </tr>\n",
       "  </tbody>\n",
       "</table>\n",
       "</div>"
      ],
      "text/plain": [
       "                                               files\n",
       "0  /Users/butler/Documents/springboard_bootcamp/C...\n",
       "1  /Users/butler/Documents/springboard_bootcamp/C...\n",
       "2  /Users/butler/Documents/springboard_bootcamp/C...\n",
       "3  /Users/butler/Documents/springboard_bootcamp/C...\n",
       "4  /Users/butler/Documents/springboard_bootcamp/C..."
      ]
     },
     "execution_count": 162,
     "metadata": {},
     "output_type": "execute_result"
    }
   ],
   "source": [
    "df_petticoats.head()"
   ]
  },
  {
   "cell_type": "code",
   "execution_count": 163,
   "id": "b5b4cdba",
   "metadata": {},
   "outputs": [
    {
     "data": {
      "text/plain": [
       "556"
      ]
     },
     "execution_count": 163,
     "metadata": {},
     "output_type": "execute_result"
    }
   ],
   "source": [
    "len(df_petticoats)"
   ]
  },
  {
   "cell_type": "code",
   "execution_count": 164,
   "id": "bcfc1e7f",
   "metadata": {},
   "outputs": [],
   "source": [
    "r = list(random.sample(range(0, 5000), 556))"
   ]
  },
  {
   "cell_type": "code",
   "execution_count": 165,
   "id": "b95e42a3",
   "metadata": {},
   "outputs": [
    {
     "data": {
      "text/plain": [
       "556"
      ]
     },
     "execution_count": 165,
     "metadata": {},
     "output_type": "execute_result"
    }
   ],
   "source": [
    "len(r)"
   ]
  },
  {
   "cell_type": "code",
   "execution_count": 166,
   "id": "6728d4e1",
   "metadata": {},
   "outputs": [],
   "source": [
    "df_petticoats['random_number'] = r"
   ]
  },
  {
   "cell_type": "code",
   "execution_count": 167,
   "id": "81cb2489",
   "metadata": {},
   "outputs": [
    {
     "data": {
      "text/html": [
       "<div>\n",
       "<style scoped>\n",
       "    .dataframe tbody tr th:only-of-type {\n",
       "        vertical-align: middle;\n",
       "    }\n",
       "\n",
       "    .dataframe tbody tr th {\n",
       "        vertical-align: top;\n",
       "    }\n",
       "\n",
       "    .dataframe thead th {\n",
       "        text-align: right;\n",
       "    }\n",
       "</style>\n",
       "<table border=\"1\" class=\"dataframe\">\n",
       "  <thead>\n",
       "    <tr style=\"text-align: right;\">\n",
       "      <th></th>\n",
       "      <th>files</th>\n",
       "      <th>random_number</th>\n",
       "    </tr>\n",
       "  </thead>\n",
       "  <tbody>\n",
       "    <tr>\n",
       "      <th>0</th>\n",
       "      <td>/Users/butler/Documents/springboard_bootcamp/C...</td>\n",
       "      <td>278</td>\n",
       "    </tr>\n",
       "    <tr>\n",
       "      <th>1</th>\n",
       "      <td>/Users/butler/Documents/springboard_bootcamp/C...</td>\n",
       "      <td>4254</td>\n",
       "    </tr>\n",
       "    <tr>\n",
       "      <th>2</th>\n",
       "      <td>/Users/butler/Documents/springboard_bootcamp/C...</td>\n",
       "      <td>699</td>\n",
       "    </tr>\n",
       "    <tr>\n",
       "      <th>3</th>\n",
       "      <td>/Users/butler/Documents/springboard_bootcamp/C...</td>\n",
       "      <td>4385</td>\n",
       "    </tr>\n",
       "    <tr>\n",
       "      <th>4</th>\n",
       "      <td>/Users/butler/Documents/springboard_bootcamp/C...</td>\n",
       "      <td>2049</td>\n",
       "    </tr>\n",
       "  </tbody>\n",
       "</table>\n",
       "</div>"
      ],
      "text/plain": [
       "                                               files  random_number\n",
       "0  /Users/butler/Documents/springboard_bootcamp/C...            278\n",
       "1  /Users/butler/Documents/springboard_bootcamp/C...           4254\n",
       "2  /Users/butler/Documents/springboard_bootcamp/C...            699\n",
       "3  /Users/butler/Documents/springboard_bootcamp/C...           4385\n",
       "4  /Users/butler/Documents/springboard_bootcamp/C...           2049"
      ]
     },
     "execution_count": 167,
     "metadata": {},
     "output_type": "execute_result"
    }
   ],
   "source": [
    "df_petticoats.head()"
   ]
  },
  {
   "cell_type": "code",
   "execution_count": 168,
   "id": "81e43fe5",
   "metadata": {},
   "outputs": [],
   "source": [
    "df_petticoats = df_petticoats.sort_values('random_number')"
   ]
  },
  {
   "cell_type": "code",
   "execution_count": 169,
   "id": "4645be6a",
   "metadata": {},
   "outputs": [],
   "source": [
    "df_petticoats = df_petticoats.iloc[:500, :]"
   ]
  },
  {
   "cell_type": "code",
   "execution_count": 170,
   "id": "5035bc45",
   "metadata": {},
   "outputs": [
    {
     "data": {
      "text/plain": [
       "500"
      ]
     },
     "execution_count": 170,
     "metadata": {},
     "output_type": "execute_result"
    }
   ],
   "source": [
    "len(df_petticoats)"
   ]
  },
  {
   "cell_type": "code",
   "execution_count": 176,
   "id": "8a1c9b51",
   "metadata": {
    "scrolled": true
   },
   "outputs": [
    {
     "data": {
      "text/html": [
       "<div>\n",
       "<style scoped>\n",
       "    .dataframe tbody tr th:only-of-type {\n",
       "        vertical-align: middle;\n",
       "    }\n",
       "\n",
       "    .dataframe tbody tr th {\n",
       "        vertical-align: top;\n",
       "    }\n",
       "\n",
       "    .dataframe thead th {\n",
       "        text-align: right;\n",
       "    }\n",
       "</style>\n",
       "<table border=\"1\" class=\"dataframe\">\n",
       "  <thead>\n",
       "    <tr style=\"text-align: right;\">\n",
       "      <th></th>\n",
       "      <th>files</th>\n",
       "      <th>random_number</th>\n",
       "    </tr>\n",
       "  </thead>\n",
       "  <tbody>\n",
       "    <tr>\n",
       "      <th>0</th>\n",
       "      <td>/Users/butler/Documents/springboard_bootcamp/C...</td>\n",
       "      <td>10</td>\n",
       "    </tr>\n",
       "    <tr>\n",
       "      <th>1</th>\n",
       "      <td>/Users/butler/Documents/springboard_bootcamp/C...</td>\n",
       "      <td>24</td>\n",
       "    </tr>\n",
       "    <tr>\n",
       "      <th>2</th>\n",
       "      <td>/Users/butler/Documents/springboard_bootcamp/C...</td>\n",
       "      <td>25</td>\n",
       "    </tr>\n",
       "    <tr>\n",
       "      <th>3</th>\n",
       "      <td>/Users/butler/Documents/springboard_bootcamp/C...</td>\n",
       "      <td>27</td>\n",
       "    </tr>\n",
       "    <tr>\n",
       "      <th>4</th>\n",
       "      <td>/Users/butler/Documents/springboard_bootcamp/C...</td>\n",
       "      <td>55</td>\n",
       "    </tr>\n",
       "  </tbody>\n",
       "</table>\n",
       "</div>"
      ],
      "text/plain": [
       "                                               files  random_number\n",
       "0  /Users/butler/Documents/springboard_bootcamp/C...             10\n",
       "1  /Users/butler/Documents/springboard_bootcamp/C...             24\n",
       "2  /Users/butler/Documents/springboard_bootcamp/C...             25\n",
       "3  /Users/butler/Documents/springboard_bootcamp/C...             27\n",
       "4  /Users/butler/Documents/springboard_bootcamp/C...             55"
      ]
     },
     "execution_count": 176,
     "metadata": {},
     "output_type": "execute_result"
    }
   ],
   "source": [
    "df_petticoats.reset_index(drop=True, inplace=True)\n",
    "df_petticoats.head()"
   ]
  },
  {
   "cell_type": "code",
   "execution_count": 438,
   "id": "4a031f00",
   "metadata": {},
   "outputs": [],
   "source": [
    "df_petticoats.to_csv('/Users/butler/Documents/springboard_bootcamp/Classification_of_Indian_clothing_images/data/external/newly_scraped_images/df_petticoats.csv')"
   ]
  },
  {
   "cell_type": "markdown",
   "id": "81cd0113",
   "metadata": {},
   "source": [
    "Palazzos"
   ]
  },
  {
   "cell_type": "code",
   "execution_count": 179,
   "id": "342a3efd",
   "metadata": {},
   "outputs": [],
   "source": [
    "files_fk = glob('/Users/butler/Documents/springboard_bootcamp/Classification_of_Indian_clothing_images/data/external/newly_scraped_images/palazzos/flipkart/*.jpeg')"
   ]
  },
  {
   "cell_type": "code",
   "execution_count": 180,
   "id": "a5a80121",
   "metadata": {},
   "outputs": [
    {
     "data": {
      "text/plain": [
       "462"
      ]
     },
     "execution_count": 180,
     "metadata": {},
     "output_type": "execute_result"
    }
   ],
   "source": [
    "len(files_fk)"
   ]
  },
  {
   "cell_type": "code",
   "execution_count": 181,
   "id": "8af6f428",
   "metadata": {},
   "outputs": [],
   "source": [
    "files_ai = glob('/Users/butler/Documents/springboard_bootcamp/Classification_of_Indian_clothing_images/data/external/newly_scraped_images/women_kurta/amazon.in/*.jpg')"
   ]
  },
  {
   "cell_type": "code",
   "execution_count": 182,
   "id": "1a4c35ed",
   "metadata": {},
   "outputs": [
    {
     "data": {
      "text/plain": [
       "95"
      ]
     },
     "execution_count": 182,
     "metadata": {},
     "output_type": "execute_result"
    }
   ],
   "source": [
    "len(files_kp)"
   ]
  },
  {
   "cell_type": "code",
   "execution_count": 183,
   "id": "9e8cc312",
   "metadata": {},
   "outputs": [],
   "source": [
    "files_uf = glob('/Users/butler/Documents/springboard_bootcamp/Classification_of_Indian_clothing_images/data/external/newly_scraped_images/palazzos/utsavfashion/*.jpg')"
   ]
  },
  {
   "cell_type": "code",
   "execution_count": 184,
   "id": "8bde4e9a",
   "metadata": {},
   "outputs": [
    {
     "data": {
      "text/plain": [
       "120"
      ]
     },
     "execution_count": 184,
     "metadata": {},
     "output_type": "execute_result"
    }
   ],
   "source": [
    "len(files_uf)"
   ]
  },
  {
   "cell_type": "markdown",
   "id": "01157a88",
   "metadata": {},
   "source": [
    "Want 500 files"
   ]
  },
  {
   "cell_type": "code",
   "execution_count": 185,
   "id": "793938d7",
   "metadata": {},
   "outputs": [],
   "source": [
    "lst = files_uf + files_ai + files_fk"
   ]
  },
  {
   "cell_type": "code",
   "execution_count": 186,
   "id": "0f22405a",
   "metadata": {},
   "outputs": [],
   "source": [
    "df_palazzos = pd.DataFrame()"
   ]
  },
  {
   "cell_type": "code",
   "execution_count": 187,
   "id": "344d470c",
   "metadata": {},
   "outputs": [],
   "source": [
    "df_palazzos['files'] = lst"
   ]
  },
  {
   "cell_type": "code",
   "execution_count": 188,
   "id": "e2774a16",
   "metadata": {
    "scrolled": false
   },
   "outputs": [
    {
     "data": {
      "text/html": [
       "<div>\n",
       "<style scoped>\n",
       "    .dataframe tbody tr th:only-of-type {\n",
       "        vertical-align: middle;\n",
       "    }\n",
       "\n",
       "    .dataframe tbody tr th {\n",
       "        vertical-align: top;\n",
       "    }\n",
       "\n",
       "    .dataframe thead th {\n",
       "        text-align: right;\n",
       "    }\n",
       "</style>\n",
       "<table border=\"1\" class=\"dataframe\">\n",
       "  <thead>\n",
       "    <tr style=\"text-align: right;\">\n",
       "      <th></th>\n",
       "      <th>files</th>\n",
       "    </tr>\n",
       "  </thead>\n",
       "  <tbody>\n",
       "    <tr>\n",
       "      <th>0</th>\n",
       "      <td>/Users/butler/Documents/springboard_bootcamp/C...</td>\n",
       "    </tr>\n",
       "    <tr>\n",
       "      <th>1</th>\n",
       "      <td>/Users/butler/Documents/springboard_bootcamp/C...</td>\n",
       "    </tr>\n",
       "    <tr>\n",
       "      <th>2</th>\n",
       "      <td>/Users/butler/Documents/springboard_bootcamp/C...</td>\n",
       "    </tr>\n",
       "    <tr>\n",
       "      <th>3</th>\n",
       "      <td>/Users/butler/Documents/springboard_bootcamp/C...</td>\n",
       "    </tr>\n",
       "    <tr>\n",
       "      <th>4</th>\n",
       "      <td>/Users/butler/Documents/springboard_bootcamp/C...</td>\n",
       "    </tr>\n",
       "  </tbody>\n",
       "</table>\n",
       "</div>"
      ],
      "text/plain": [
       "                                               files\n",
       "0  /Users/butler/Documents/springboard_bootcamp/C...\n",
       "1  /Users/butler/Documents/springboard_bootcamp/C...\n",
       "2  /Users/butler/Documents/springboard_bootcamp/C...\n",
       "3  /Users/butler/Documents/springboard_bootcamp/C...\n",
       "4  /Users/butler/Documents/springboard_bootcamp/C..."
      ]
     },
     "execution_count": 188,
     "metadata": {},
     "output_type": "execute_result"
    }
   ],
   "source": [
    "df_palazzos.head()"
   ]
  },
  {
   "cell_type": "code",
   "execution_count": 189,
   "id": "2e4f26be",
   "metadata": {},
   "outputs": [
    {
     "data": {
      "text/plain": [
       "582"
      ]
     },
     "execution_count": 189,
     "metadata": {},
     "output_type": "execute_result"
    }
   ],
   "source": [
    "len(df_palazzos)"
   ]
  },
  {
   "cell_type": "code",
   "execution_count": 190,
   "id": "8803bf49",
   "metadata": {},
   "outputs": [],
   "source": [
    "r = list(random.sample(range(0, 5000), 582))"
   ]
  },
  {
   "cell_type": "code",
   "execution_count": 191,
   "id": "44fa00dd",
   "metadata": {},
   "outputs": [
    {
     "data": {
      "text/plain": [
       "582"
      ]
     },
     "execution_count": 191,
     "metadata": {},
     "output_type": "execute_result"
    }
   ],
   "source": [
    "len(r)"
   ]
  },
  {
   "cell_type": "code",
   "execution_count": 192,
   "id": "ae9f6672",
   "metadata": {},
   "outputs": [],
   "source": [
    "df_palazzos['random_number'] = r"
   ]
  },
  {
   "cell_type": "code",
   "execution_count": 193,
   "id": "0e01d353",
   "metadata": {},
   "outputs": [
    {
     "data": {
      "text/html": [
       "<div>\n",
       "<style scoped>\n",
       "    .dataframe tbody tr th:only-of-type {\n",
       "        vertical-align: middle;\n",
       "    }\n",
       "\n",
       "    .dataframe tbody tr th {\n",
       "        vertical-align: top;\n",
       "    }\n",
       "\n",
       "    .dataframe thead th {\n",
       "        text-align: right;\n",
       "    }\n",
       "</style>\n",
       "<table border=\"1\" class=\"dataframe\">\n",
       "  <thead>\n",
       "    <tr style=\"text-align: right;\">\n",
       "      <th></th>\n",
       "      <th>files</th>\n",
       "      <th>random_number</th>\n",
       "    </tr>\n",
       "  </thead>\n",
       "  <tbody>\n",
       "    <tr>\n",
       "      <th>0</th>\n",
       "      <td>/Users/butler/Documents/springboard_bootcamp/C...</td>\n",
       "      <td>870</td>\n",
       "    </tr>\n",
       "    <tr>\n",
       "      <th>1</th>\n",
       "      <td>/Users/butler/Documents/springboard_bootcamp/C...</td>\n",
       "      <td>2668</td>\n",
       "    </tr>\n",
       "    <tr>\n",
       "      <th>2</th>\n",
       "      <td>/Users/butler/Documents/springboard_bootcamp/C...</td>\n",
       "      <td>2145</td>\n",
       "    </tr>\n",
       "    <tr>\n",
       "      <th>3</th>\n",
       "      <td>/Users/butler/Documents/springboard_bootcamp/C...</td>\n",
       "      <td>1912</td>\n",
       "    </tr>\n",
       "    <tr>\n",
       "      <th>4</th>\n",
       "      <td>/Users/butler/Documents/springboard_bootcamp/C...</td>\n",
       "      <td>2672</td>\n",
       "    </tr>\n",
       "  </tbody>\n",
       "</table>\n",
       "</div>"
      ],
      "text/plain": [
       "                                               files  random_number\n",
       "0  /Users/butler/Documents/springboard_bootcamp/C...            870\n",
       "1  /Users/butler/Documents/springboard_bootcamp/C...           2668\n",
       "2  /Users/butler/Documents/springboard_bootcamp/C...           2145\n",
       "3  /Users/butler/Documents/springboard_bootcamp/C...           1912\n",
       "4  /Users/butler/Documents/springboard_bootcamp/C...           2672"
      ]
     },
     "execution_count": 193,
     "metadata": {},
     "output_type": "execute_result"
    }
   ],
   "source": [
    "df_palazzos.head()"
   ]
  },
  {
   "cell_type": "code",
   "execution_count": 194,
   "id": "162fe659",
   "metadata": {},
   "outputs": [],
   "source": [
    "df_palazzos = df_palazzos.sort_values('random_number')"
   ]
  },
  {
   "cell_type": "code",
   "execution_count": 195,
   "id": "ed5f9173",
   "metadata": {},
   "outputs": [],
   "source": [
    "df_palazzos = df_palazzos.iloc[:500, :]"
   ]
  },
  {
   "cell_type": "code",
   "execution_count": 196,
   "id": "350878a4",
   "metadata": {},
   "outputs": [
    {
     "data": {
      "text/plain": [
       "500"
      ]
     },
     "execution_count": 196,
     "metadata": {},
     "output_type": "execute_result"
    }
   ],
   "source": [
    "len(df_palazzos)"
   ]
  },
  {
   "cell_type": "code",
   "execution_count": 197,
   "id": "d51dd833",
   "metadata": {
    "scrolled": true
   },
   "outputs": [
    {
     "data": {
      "text/html": [
       "<div>\n",
       "<style scoped>\n",
       "    .dataframe tbody tr th:only-of-type {\n",
       "        vertical-align: middle;\n",
       "    }\n",
       "\n",
       "    .dataframe tbody tr th {\n",
       "        vertical-align: top;\n",
       "    }\n",
       "\n",
       "    .dataframe thead th {\n",
       "        text-align: right;\n",
       "    }\n",
       "</style>\n",
       "<table border=\"1\" class=\"dataframe\">\n",
       "  <thead>\n",
       "    <tr style=\"text-align: right;\">\n",
       "      <th></th>\n",
       "      <th>files</th>\n",
       "      <th>random_number</th>\n",
       "    </tr>\n",
       "  </thead>\n",
       "  <tbody>\n",
       "    <tr>\n",
       "      <th>0</th>\n",
       "      <td>/Users/butler/Documents/springboard_bootcamp/C...</td>\n",
       "      <td>6</td>\n",
       "    </tr>\n",
       "    <tr>\n",
       "      <th>1</th>\n",
       "      <td>/Users/butler/Documents/springboard_bootcamp/C...</td>\n",
       "      <td>16</td>\n",
       "    </tr>\n",
       "    <tr>\n",
       "      <th>2</th>\n",
       "      <td>/Users/butler/Documents/springboard_bootcamp/C...</td>\n",
       "      <td>43</td>\n",
       "    </tr>\n",
       "    <tr>\n",
       "      <th>3</th>\n",
       "      <td>/Users/butler/Documents/springboard_bootcamp/C...</td>\n",
       "      <td>45</td>\n",
       "    </tr>\n",
       "    <tr>\n",
       "      <th>4</th>\n",
       "      <td>/Users/butler/Documents/springboard_bootcamp/C...</td>\n",
       "      <td>53</td>\n",
       "    </tr>\n",
       "  </tbody>\n",
       "</table>\n",
       "</div>"
      ],
      "text/plain": [
       "                                               files  random_number\n",
       "0  /Users/butler/Documents/springboard_bootcamp/C...              6\n",
       "1  /Users/butler/Documents/springboard_bootcamp/C...             16\n",
       "2  /Users/butler/Documents/springboard_bootcamp/C...             43\n",
       "3  /Users/butler/Documents/springboard_bootcamp/C...             45\n",
       "4  /Users/butler/Documents/springboard_bootcamp/C...             53"
      ]
     },
     "execution_count": 197,
     "metadata": {},
     "output_type": "execute_result"
    }
   ],
   "source": [
    "df_palazzos.reset_index(drop=True, inplace=True)\n",
    "df_palazzos.head()"
   ]
  },
  {
   "cell_type": "code",
   "execution_count": 439,
   "id": "736f0229",
   "metadata": {},
   "outputs": [],
   "source": [
    "df_palazzos.to_csv('/Users/butler/Documents/springboard_bootcamp/Classification_of_Indian_clothing_images/data/external/newly_scraped_images/df_palazzos.csv')"
   ]
  },
  {
   "cell_type": "markdown",
   "id": "0509afc3",
   "metadata": {},
   "source": [
    "Nehru Jackets"
   ]
  },
  {
   "cell_type": "code",
   "execution_count": 198,
   "id": "6eca647a",
   "metadata": {},
   "outputs": [],
   "source": [
    "files_fk = glob('/Users/butler/Documents/springboard_bootcamp/Classification_of_Indian_clothing_images/data/external/newly_scraped_images/nehru_jackets/flipkart/*.jpeg')"
   ]
  },
  {
   "cell_type": "code",
   "execution_count": 199,
   "id": "e186532d",
   "metadata": {},
   "outputs": [
    {
     "data": {
      "text/plain": [
       "540"
      ]
     },
     "execution_count": 199,
     "metadata": {},
     "output_type": "execute_result"
    }
   ],
   "source": [
    "len(files_fk)"
   ]
  },
  {
   "cell_type": "code",
   "execution_count": 200,
   "id": "a1868168",
   "metadata": {},
   "outputs": [],
   "source": [
    "files_kp = glob('/Users/butler/Documents/springboard_bootcamp/Classification_of_Indian_clothing_images/data/external/newly_scraped_images/nehru_jackets/karmaplace/*.jpg')"
   ]
  },
  {
   "cell_type": "code",
   "execution_count": 201,
   "id": "13b3068e",
   "metadata": {},
   "outputs": [
    {
     "data": {
      "text/plain": [
       "20"
      ]
     },
     "execution_count": 201,
     "metadata": {},
     "output_type": "execute_result"
    }
   ],
   "source": [
    "len(files_kp)"
   ]
  },
  {
   "cell_type": "code",
   "execution_count": 202,
   "id": "2e1044f7",
   "metadata": {},
   "outputs": [],
   "source": [
    "files_uf = glob('/Users/butler/Documents/springboard_bootcamp/Classification_of_Indian_clothing_images/data/external/newly_scraped_images/nehru_jackets/utsavfashion/*.jpg')"
   ]
  },
  {
   "cell_type": "code",
   "execution_count": 203,
   "id": "e6428b39",
   "metadata": {},
   "outputs": [
    {
     "data": {
      "text/plain": [
       "120"
      ]
     },
     "execution_count": 203,
     "metadata": {},
     "output_type": "execute_result"
    }
   ],
   "source": [
    "len(files_uf)"
   ]
  },
  {
   "cell_type": "markdown",
   "id": "a53f07d2",
   "metadata": {},
   "source": [
    "Want 500 files"
   ]
  },
  {
   "cell_type": "code",
   "execution_count": 204,
   "id": "7fa9c686",
   "metadata": {},
   "outputs": [],
   "source": [
    "lst = files_uf + files_kp + files_fk"
   ]
  },
  {
   "cell_type": "code",
   "execution_count": 205,
   "id": "465d22ec",
   "metadata": {},
   "outputs": [],
   "source": [
    "df_nehru_jackets = pd.DataFrame()"
   ]
  },
  {
   "cell_type": "code",
   "execution_count": 206,
   "id": "571513a0",
   "metadata": {},
   "outputs": [],
   "source": [
    "df_nehru_jackets['files'] = lst"
   ]
  },
  {
   "cell_type": "code",
   "execution_count": 207,
   "id": "b689976c",
   "metadata": {
    "scrolled": false
   },
   "outputs": [
    {
     "data": {
      "text/html": [
       "<div>\n",
       "<style scoped>\n",
       "    .dataframe tbody tr th:only-of-type {\n",
       "        vertical-align: middle;\n",
       "    }\n",
       "\n",
       "    .dataframe tbody tr th {\n",
       "        vertical-align: top;\n",
       "    }\n",
       "\n",
       "    .dataframe thead th {\n",
       "        text-align: right;\n",
       "    }\n",
       "</style>\n",
       "<table border=\"1\" class=\"dataframe\">\n",
       "  <thead>\n",
       "    <tr style=\"text-align: right;\">\n",
       "      <th></th>\n",
       "      <th>files</th>\n",
       "    </tr>\n",
       "  </thead>\n",
       "  <tbody>\n",
       "    <tr>\n",
       "      <th>0</th>\n",
       "      <td>/Users/butler/Documents/springboard_bootcamp/C...</td>\n",
       "    </tr>\n",
       "    <tr>\n",
       "      <th>1</th>\n",
       "      <td>/Users/butler/Documents/springboard_bootcamp/C...</td>\n",
       "    </tr>\n",
       "    <tr>\n",
       "      <th>2</th>\n",
       "      <td>/Users/butler/Documents/springboard_bootcamp/C...</td>\n",
       "    </tr>\n",
       "    <tr>\n",
       "      <th>3</th>\n",
       "      <td>/Users/butler/Documents/springboard_bootcamp/C...</td>\n",
       "    </tr>\n",
       "    <tr>\n",
       "      <th>4</th>\n",
       "      <td>/Users/butler/Documents/springboard_bootcamp/C...</td>\n",
       "    </tr>\n",
       "  </tbody>\n",
       "</table>\n",
       "</div>"
      ],
      "text/plain": [
       "                                               files\n",
       "0  /Users/butler/Documents/springboard_bootcamp/C...\n",
       "1  /Users/butler/Documents/springboard_bootcamp/C...\n",
       "2  /Users/butler/Documents/springboard_bootcamp/C...\n",
       "3  /Users/butler/Documents/springboard_bootcamp/C...\n",
       "4  /Users/butler/Documents/springboard_bootcamp/C..."
      ]
     },
     "execution_count": 207,
     "metadata": {},
     "output_type": "execute_result"
    }
   ],
   "source": [
    "df_nehru_jackets.head()"
   ]
  },
  {
   "cell_type": "code",
   "execution_count": 208,
   "id": "61d21a77",
   "metadata": {},
   "outputs": [
    {
     "data": {
      "text/plain": [
       "680"
      ]
     },
     "execution_count": 208,
     "metadata": {},
     "output_type": "execute_result"
    }
   ],
   "source": [
    "len(df_nehru_jackets)"
   ]
  },
  {
   "cell_type": "code",
   "execution_count": 212,
   "id": "905f0577",
   "metadata": {},
   "outputs": [],
   "source": [
    "r = list(random.sample(range(0, 5000), 680))"
   ]
  },
  {
   "cell_type": "code",
   "execution_count": 213,
   "id": "9962afe9",
   "metadata": {},
   "outputs": [
    {
     "data": {
      "text/plain": [
       "680"
      ]
     },
     "execution_count": 213,
     "metadata": {},
     "output_type": "execute_result"
    }
   ],
   "source": [
    "len(r)"
   ]
  },
  {
   "cell_type": "code",
   "execution_count": 214,
   "id": "44fd3c07",
   "metadata": {},
   "outputs": [],
   "source": [
    "df_nehru_jackets['random_number'] = r"
   ]
  },
  {
   "cell_type": "code",
   "execution_count": 215,
   "id": "a8524104",
   "metadata": {},
   "outputs": [
    {
     "data": {
      "text/html": [
       "<div>\n",
       "<style scoped>\n",
       "    .dataframe tbody tr th:only-of-type {\n",
       "        vertical-align: middle;\n",
       "    }\n",
       "\n",
       "    .dataframe tbody tr th {\n",
       "        vertical-align: top;\n",
       "    }\n",
       "\n",
       "    .dataframe thead th {\n",
       "        text-align: right;\n",
       "    }\n",
       "</style>\n",
       "<table border=\"1\" class=\"dataframe\">\n",
       "  <thead>\n",
       "    <tr style=\"text-align: right;\">\n",
       "      <th></th>\n",
       "      <th>files</th>\n",
       "      <th>random_number</th>\n",
       "    </tr>\n",
       "  </thead>\n",
       "  <tbody>\n",
       "    <tr>\n",
       "      <th>0</th>\n",
       "      <td>/Users/butler/Documents/springboard_bootcamp/C...</td>\n",
       "      <td>4548</td>\n",
       "    </tr>\n",
       "    <tr>\n",
       "      <th>1</th>\n",
       "      <td>/Users/butler/Documents/springboard_bootcamp/C...</td>\n",
       "      <td>1943</td>\n",
       "    </tr>\n",
       "    <tr>\n",
       "      <th>2</th>\n",
       "      <td>/Users/butler/Documents/springboard_bootcamp/C...</td>\n",
       "      <td>3446</td>\n",
       "    </tr>\n",
       "    <tr>\n",
       "      <th>3</th>\n",
       "      <td>/Users/butler/Documents/springboard_bootcamp/C...</td>\n",
       "      <td>2692</td>\n",
       "    </tr>\n",
       "    <tr>\n",
       "      <th>4</th>\n",
       "      <td>/Users/butler/Documents/springboard_bootcamp/C...</td>\n",
       "      <td>1788</td>\n",
       "    </tr>\n",
       "  </tbody>\n",
       "</table>\n",
       "</div>"
      ],
      "text/plain": [
       "                                               files  random_number\n",
       "0  /Users/butler/Documents/springboard_bootcamp/C...           4548\n",
       "1  /Users/butler/Documents/springboard_bootcamp/C...           1943\n",
       "2  /Users/butler/Documents/springboard_bootcamp/C...           3446\n",
       "3  /Users/butler/Documents/springboard_bootcamp/C...           2692\n",
       "4  /Users/butler/Documents/springboard_bootcamp/C...           1788"
      ]
     },
     "execution_count": 215,
     "metadata": {},
     "output_type": "execute_result"
    }
   ],
   "source": [
    "df_nehru_jackets.head()"
   ]
  },
  {
   "cell_type": "code",
   "execution_count": 216,
   "id": "95763f9c",
   "metadata": {},
   "outputs": [],
   "source": [
    "df_nehru_jackets = df_nehru_jackets.sort_values('random_number')"
   ]
  },
  {
   "cell_type": "code",
   "execution_count": 217,
   "id": "9143ce60",
   "metadata": {},
   "outputs": [],
   "source": [
    "df_nehru_jackets = df_nehru_jackets.iloc[:500, :]"
   ]
  },
  {
   "cell_type": "code",
   "execution_count": 218,
   "id": "4172d687",
   "metadata": {},
   "outputs": [
    {
     "data": {
      "text/plain": [
       "500"
      ]
     },
     "execution_count": 218,
     "metadata": {},
     "output_type": "execute_result"
    }
   ],
   "source": [
    "len(df_nehru_jackets)"
   ]
  },
  {
   "cell_type": "code",
   "execution_count": 219,
   "id": "b6c5236f",
   "metadata": {
    "scrolled": true
   },
   "outputs": [
    {
     "data": {
      "text/html": [
       "<div>\n",
       "<style scoped>\n",
       "    .dataframe tbody tr th:only-of-type {\n",
       "        vertical-align: middle;\n",
       "    }\n",
       "\n",
       "    .dataframe tbody tr th {\n",
       "        vertical-align: top;\n",
       "    }\n",
       "\n",
       "    .dataframe thead th {\n",
       "        text-align: right;\n",
       "    }\n",
       "</style>\n",
       "<table border=\"1\" class=\"dataframe\">\n",
       "  <thead>\n",
       "    <tr style=\"text-align: right;\">\n",
       "      <th></th>\n",
       "      <th>files</th>\n",
       "      <th>random_number</th>\n",
       "    </tr>\n",
       "  </thead>\n",
       "  <tbody>\n",
       "    <tr>\n",
       "      <th>0</th>\n",
       "      <td>/Users/butler/Documents/springboard_bootcamp/C...</td>\n",
       "      <td>11</td>\n",
       "    </tr>\n",
       "    <tr>\n",
       "      <th>1</th>\n",
       "      <td>/Users/butler/Documents/springboard_bootcamp/C...</td>\n",
       "      <td>18</td>\n",
       "    </tr>\n",
       "    <tr>\n",
       "      <th>2</th>\n",
       "      <td>/Users/butler/Documents/springboard_bootcamp/C...</td>\n",
       "      <td>20</td>\n",
       "    </tr>\n",
       "    <tr>\n",
       "      <th>3</th>\n",
       "      <td>/Users/butler/Documents/springboard_bootcamp/C...</td>\n",
       "      <td>21</td>\n",
       "    </tr>\n",
       "    <tr>\n",
       "      <th>4</th>\n",
       "      <td>/Users/butler/Documents/springboard_bootcamp/C...</td>\n",
       "      <td>30</td>\n",
       "    </tr>\n",
       "  </tbody>\n",
       "</table>\n",
       "</div>"
      ],
      "text/plain": [
       "                                               files  random_number\n",
       "0  /Users/butler/Documents/springboard_bootcamp/C...             11\n",
       "1  /Users/butler/Documents/springboard_bootcamp/C...             18\n",
       "2  /Users/butler/Documents/springboard_bootcamp/C...             20\n",
       "3  /Users/butler/Documents/springboard_bootcamp/C...             21\n",
       "4  /Users/butler/Documents/springboard_bootcamp/C...             30"
      ]
     },
     "execution_count": 219,
     "metadata": {},
     "output_type": "execute_result"
    }
   ],
   "source": [
    "df_nehru_jackets.reset_index(drop=True, inplace=True)\n",
    "df_nehru_jackets.head()"
   ]
  },
  {
   "cell_type": "code",
   "execution_count": 440,
   "id": "1dddbe5e",
   "metadata": {},
   "outputs": [],
   "source": [
    "df_nehru_jackets.to_csv('/Users/butler/Documents/springboard_bootcamp/Classification_of_Indian_clothing_images/data/external/newly_scraped_images/df_nehru_jackets.csv')"
   ]
  },
  {
   "cell_type": "markdown",
   "id": "5993d6a3",
   "metadata": {},
   "source": [
    "Women's Mojaris"
   ]
  },
  {
   "cell_type": "code",
   "execution_count": 221,
   "id": "44be2a80",
   "metadata": {},
   "outputs": [],
   "source": [
    "files_fk = glob('/Users/butler/Documents/springboard_bootcamp/Classification_of_Indian_clothing_images/data/external/newly_scraped_images/mojaris_women/flipkart/*.jpeg')"
   ]
  },
  {
   "cell_type": "code",
   "execution_count": 222,
   "id": "9a0eb007",
   "metadata": {},
   "outputs": [
    {
     "data": {
      "text/plain": [
       "475"
      ]
     },
     "execution_count": 222,
     "metadata": {},
     "output_type": "execute_result"
    }
   ],
   "source": [
    "len(files_fk)"
   ]
  },
  {
   "cell_type": "code",
   "execution_count": 223,
   "id": "21c6f85d",
   "metadata": {},
   "outputs": [],
   "source": [
    "files_ai = glob('/Users/butler/Documents/springboard_bootcamp/Classification_of_Indian_clothing_images/data/external/newly_scraped_images/mojaris_women/amazon.in/*.jpg')"
   ]
  },
  {
   "cell_type": "code",
   "execution_count": 224,
   "id": "376a345d",
   "metadata": {},
   "outputs": [
    {
     "data": {
      "text/plain": [
       "136"
      ]
     },
     "execution_count": 224,
     "metadata": {},
     "output_type": "execute_result"
    }
   ],
   "source": [
    "len(files_ai)"
   ]
  },
  {
   "cell_type": "markdown",
   "id": "522f7e98",
   "metadata": {},
   "source": [
    "Want 500 files"
   ]
  },
  {
   "cell_type": "code",
   "execution_count": 225,
   "id": "23f1edd7",
   "metadata": {},
   "outputs": [],
   "source": [
    "lst = files_fk + files_ai "
   ]
  },
  {
   "cell_type": "code",
   "execution_count": 226,
   "id": "4092126d",
   "metadata": {},
   "outputs": [],
   "source": [
    "df_mojaris_women = pd.DataFrame()"
   ]
  },
  {
   "cell_type": "code",
   "execution_count": 227,
   "id": "e719ea7a",
   "metadata": {},
   "outputs": [],
   "source": [
    "df_mojaris_women['files'] = lst"
   ]
  },
  {
   "cell_type": "code",
   "execution_count": 228,
   "id": "aa163cbc",
   "metadata": {
    "scrolled": false
   },
   "outputs": [
    {
     "data": {
      "text/html": [
       "<div>\n",
       "<style scoped>\n",
       "    .dataframe tbody tr th:only-of-type {\n",
       "        vertical-align: middle;\n",
       "    }\n",
       "\n",
       "    .dataframe tbody tr th {\n",
       "        vertical-align: top;\n",
       "    }\n",
       "\n",
       "    .dataframe thead th {\n",
       "        text-align: right;\n",
       "    }\n",
       "</style>\n",
       "<table border=\"1\" class=\"dataframe\">\n",
       "  <thead>\n",
       "    <tr style=\"text-align: right;\">\n",
       "      <th></th>\n",
       "      <th>files</th>\n",
       "    </tr>\n",
       "  </thead>\n",
       "  <tbody>\n",
       "    <tr>\n",
       "      <th>0</th>\n",
       "      <td>/Users/butler/Documents/springboard_bootcamp/C...</td>\n",
       "    </tr>\n",
       "    <tr>\n",
       "      <th>1</th>\n",
       "      <td>/Users/butler/Documents/springboard_bootcamp/C...</td>\n",
       "    </tr>\n",
       "    <tr>\n",
       "      <th>2</th>\n",
       "      <td>/Users/butler/Documents/springboard_bootcamp/C...</td>\n",
       "    </tr>\n",
       "    <tr>\n",
       "      <th>3</th>\n",
       "      <td>/Users/butler/Documents/springboard_bootcamp/C...</td>\n",
       "    </tr>\n",
       "    <tr>\n",
       "      <th>4</th>\n",
       "      <td>/Users/butler/Documents/springboard_bootcamp/C...</td>\n",
       "    </tr>\n",
       "  </tbody>\n",
       "</table>\n",
       "</div>"
      ],
      "text/plain": [
       "                                               files\n",
       "0  /Users/butler/Documents/springboard_bootcamp/C...\n",
       "1  /Users/butler/Documents/springboard_bootcamp/C...\n",
       "2  /Users/butler/Documents/springboard_bootcamp/C...\n",
       "3  /Users/butler/Documents/springboard_bootcamp/C...\n",
       "4  /Users/butler/Documents/springboard_bootcamp/C..."
      ]
     },
     "execution_count": 228,
     "metadata": {},
     "output_type": "execute_result"
    }
   ],
   "source": [
    "df_mojaris_women.head()"
   ]
  },
  {
   "cell_type": "code",
   "execution_count": 229,
   "id": "47800430",
   "metadata": {},
   "outputs": [
    {
     "data": {
      "text/plain": [
       "611"
      ]
     },
     "execution_count": 229,
     "metadata": {},
     "output_type": "execute_result"
    }
   ],
   "source": [
    "len(df_mojaris_women)"
   ]
  },
  {
   "cell_type": "code",
   "execution_count": 230,
   "id": "4995b2ac",
   "metadata": {},
   "outputs": [],
   "source": [
    "r = list(random.sample(range(0, 5000), 611))"
   ]
  },
  {
   "cell_type": "code",
   "execution_count": 231,
   "id": "a61e5f28",
   "metadata": {},
   "outputs": [
    {
     "data": {
      "text/plain": [
       "611"
      ]
     },
     "execution_count": 231,
     "metadata": {},
     "output_type": "execute_result"
    }
   ],
   "source": [
    "len(r)"
   ]
  },
  {
   "cell_type": "code",
   "execution_count": 232,
   "id": "f5e95bb2",
   "metadata": {},
   "outputs": [],
   "source": [
    "df_mojaris_women['random_number'] = r"
   ]
  },
  {
   "cell_type": "code",
   "execution_count": 233,
   "id": "52e986b6",
   "metadata": {},
   "outputs": [
    {
     "data": {
      "text/html": [
       "<div>\n",
       "<style scoped>\n",
       "    .dataframe tbody tr th:only-of-type {\n",
       "        vertical-align: middle;\n",
       "    }\n",
       "\n",
       "    .dataframe tbody tr th {\n",
       "        vertical-align: top;\n",
       "    }\n",
       "\n",
       "    .dataframe thead th {\n",
       "        text-align: right;\n",
       "    }\n",
       "</style>\n",
       "<table border=\"1\" class=\"dataframe\">\n",
       "  <thead>\n",
       "    <tr style=\"text-align: right;\">\n",
       "      <th></th>\n",
       "      <th>files</th>\n",
       "      <th>random_number</th>\n",
       "    </tr>\n",
       "  </thead>\n",
       "  <tbody>\n",
       "    <tr>\n",
       "      <th>0</th>\n",
       "      <td>/Users/butler/Documents/springboard_bootcamp/C...</td>\n",
       "      <td>2891</td>\n",
       "    </tr>\n",
       "    <tr>\n",
       "      <th>1</th>\n",
       "      <td>/Users/butler/Documents/springboard_bootcamp/C...</td>\n",
       "      <td>683</td>\n",
       "    </tr>\n",
       "    <tr>\n",
       "      <th>2</th>\n",
       "      <td>/Users/butler/Documents/springboard_bootcamp/C...</td>\n",
       "      <td>3551</td>\n",
       "    </tr>\n",
       "    <tr>\n",
       "      <th>3</th>\n",
       "      <td>/Users/butler/Documents/springboard_bootcamp/C...</td>\n",
       "      <td>1356</td>\n",
       "    </tr>\n",
       "    <tr>\n",
       "      <th>4</th>\n",
       "      <td>/Users/butler/Documents/springboard_bootcamp/C...</td>\n",
       "      <td>1155</td>\n",
       "    </tr>\n",
       "  </tbody>\n",
       "</table>\n",
       "</div>"
      ],
      "text/plain": [
       "                                               files  random_number\n",
       "0  /Users/butler/Documents/springboard_bootcamp/C...           2891\n",
       "1  /Users/butler/Documents/springboard_bootcamp/C...            683\n",
       "2  /Users/butler/Documents/springboard_bootcamp/C...           3551\n",
       "3  /Users/butler/Documents/springboard_bootcamp/C...           1356\n",
       "4  /Users/butler/Documents/springboard_bootcamp/C...           1155"
      ]
     },
     "execution_count": 233,
     "metadata": {},
     "output_type": "execute_result"
    }
   ],
   "source": [
    "df_mojaris_women.head()"
   ]
  },
  {
   "cell_type": "code",
   "execution_count": 234,
   "id": "e129487d",
   "metadata": {},
   "outputs": [],
   "source": [
    "df_mojaris_women = df_mojaris_women.sort_values('random_number')"
   ]
  },
  {
   "cell_type": "code",
   "execution_count": 235,
   "id": "62c50c2c",
   "metadata": {},
   "outputs": [],
   "source": [
    "df_mojaris_women = df_mojaris_women.iloc[:500, :]"
   ]
  },
  {
   "cell_type": "code",
   "execution_count": 236,
   "id": "c4be6468",
   "metadata": {},
   "outputs": [
    {
     "data": {
      "text/plain": [
       "500"
      ]
     },
     "execution_count": 236,
     "metadata": {},
     "output_type": "execute_result"
    }
   ],
   "source": [
    "len(df_mojaris_women)"
   ]
  },
  {
   "cell_type": "code",
   "execution_count": 237,
   "id": "62852b95",
   "metadata": {
    "scrolled": false
   },
   "outputs": [
    {
     "data": {
      "text/html": [
       "<div>\n",
       "<style scoped>\n",
       "    .dataframe tbody tr th:only-of-type {\n",
       "        vertical-align: middle;\n",
       "    }\n",
       "\n",
       "    .dataframe tbody tr th {\n",
       "        vertical-align: top;\n",
       "    }\n",
       "\n",
       "    .dataframe thead th {\n",
       "        text-align: right;\n",
       "    }\n",
       "</style>\n",
       "<table border=\"1\" class=\"dataframe\">\n",
       "  <thead>\n",
       "    <tr style=\"text-align: right;\">\n",
       "      <th></th>\n",
       "      <th>files</th>\n",
       "      <th>random_number</th>\n",
       "    </tr>\n",
       "  </thead>\n",
       "  <tbody>\n",
       "    <tr>\n",
       "      <th>0</th>\n",
       "      <td>/Users/butler/Documents/springboard_bootcamp/C...</td>\n",
       "      <td>1</td>\n",
       "    </tr>\n",
       "    <tr>\n",
       "      <th>1</th>\n",
       "      <td>/Users/butler/Documents/springboard_bootcamp/C...</td>\n",
       "      <td>6</td>\n",
       "    </tr>\n",
       "    <tr>\n",
       "      <th>2</th>\n",
       "      <td>/Users/butler/Documents/springboard_bootcamp/C...</td>\n",
       "      <td>12</td>\n",
       "    </tr>\n",
       "    <tr>\n",
       "      <th>3</th>\n",
       "      <td>/Users/butler/Documents/springboard_bootcamp/C...</td>\n",
       "      <td>33</td>\n",
       "    </tr>\n",
       "    <tr>\n",
       "      <th>4</th>\n",
       "      <td>/Users/butler/Documents/springboard_bootcamp/C...</td>\n",
       "      <td>36</td>\n",
       "    </tr>\n",
       "  </tbody>\n",
       "</table>\n",
       "</div>"
      ],
      "text/plain": [
       "                                               files  random_number\n",
       "0  /Users/butler/Documents/springboard_bootcamp/C...              1\n",
       "1  /Users/butler/Documents/springboard_bootcamp/C...              6\n",
       "2  /Users/butler/Documents/springboard_bootcamp/C...             12\n",
       "3  /Users/butler/Documents/springboard_bootcamp/C...             33\n",
       "4  /Users/butler/Documents/springboard_bootcamp/C...             36"
      ]
     },
     "execution_count": 237,
     "metadata": {},
     "output_type": "execute_result"
    }
   ],
   "source": [
    "df_mojaris_women.reset_index(drop=True, inplace=True)\n",
    "df_mojaris_women.head()"
   ]
  },
  {
   "cell_type": "code",
   "execution_count": 441,
   "id": "e372f1f4",
   "metadata": {},
   "outputs": [],
   "source": [
    "df_mojaris_women.to_csv('/Users/butler/Documents/springboard_bootcamp/Classification_of_Indian_clothing_images/data/external/newly_scraped_images/df_mojaris_women.csv')"
   ]
  },
  {
   "cell_type": "code",
   "execution_count": null,
   "id": "592499a2",
   "metadata": {},
   "outputs": [],
   "source": []
  },
  {
   "cell_type": "markdown",
   "id": "87ddf689",
   "metadata": {},
   "source": [
    "Men's Mojaris"
   ]
  },
  {
   "cell_type": "code",
   "execution_count": 239,
   "id": "651483d3",
   "metadata": {},
   "outputs": [],
   "source": [
    "files_fk = glob('/Users/butler/Documents/springboard_bootcamp/Classification_of_Indian_clothing_images/data/external/newly_scraped_images/mojaris_men/flipkart/*.jpeg')"
   ]
  },
  {
   "cell_type": "code",
   "execution_count": 240,
   "id": "b1e00566",
   "metadata": {},
   "outputs": [
    {
     "data": {
      "text/plain": [
       "93"
      ]
     },
     "execution_count": 240,
     "metadata": {},
     "output_type": "execute_result"
    }
   ],
   "source": [
    "len(files_fk)"
   ]
  },
  {
   "cell_type": "code",
   "execution_count": 241,
   "id": "f23cf722",
   "metadata": {},
   "outputs": [],
   "source": [
    "files_ai = glob('/Users/butler/Documents/springboard_bootcamp/Classification_of_Indian_clothing_images/data/external/newly_scraped_images/mojaris_men/amazon.in/*.jpg')"
   ]
  },
  {
   "cell_type": "code",
   "execution_count": 242,
   "id": "966874bc",
   "metadata": {},
   "outputs": [
    {
     "data": {
      "text/plain": [
       "203"
      ]
     },
     "execution_count": 242,
     "metadata": {},
     "output_type": "execute_result"
    }
   ],
   "source": [
    "len(files_ai)"
   ]
  },
  {
   "cell_type": "code",
   "execution_count": null,
   "id": "6f7dd8cf",
   "metadata": {},
   "outputs": [],
   "source": []
  },
  {
   "cell_type": "code",
   "execution_count": null,
   "id": "e26236cf",
   "metadata": {},
   "outputs": [],
   "source": []
  },
  {
   "cell_type": "markdown",
   "id": "eae6dccf",
   "metadata": {},
   "source": [
    "Want 500 files"
   ]
  },
  {
   "cell_type": "code",
   "execution_count": 243,
   "id": "9be00b4b",
   "metadata": {},
   "outputs": [],
   "source": [
    "lst = files_ai + files_fk"
   ]
  },
  {
   "cell_type": "code",
   "execution_count": 244,
   "id": "e33ce95f",
   "metadata": {},
   "outputs": [],
   "source": [
    "df_mojaris_men = pd.DataFrame()"
   ]
  },
  {
   "cell_type": "code",
   "execution_count": 245,
   "id": "1b6aa4f4",
   "metadata": {},
   "outputs": [],
   "source": [
    "df_mojaris_men['files'] = lst"
   ]
  },
  {
   "cell_type": "code",
   "execution_count": 246,
   "id": "196abe36",
   "metadata": {
    "scrolled": false
   },
   "outputs": [
    {
     "data": {
      "text/html": [
       "<div>\n",
       "<style scoped>\n",
       "    .dataframe tbody tr th:only-of-type {\n",
       "        vertical-align: middle;\n",
       "    }\n",
       "\n",
       "    .dataframe tbody tr th {\n",
       "        vertical-align: top;\n",
       "    }\n",
       "\n",
       "    .dataframe thead th {\n",
       "        text-align: right;\n",
       "    }\n",
       "</style>\n",
       "<table border=\"1\" class=\"dataframe\">\n",
       "  <thead>\n",
       "    <tr style=\"text-align: right;\">\n",
       "      <th></th>\n",
       "      <th>files</th>\n",
       "    </tr>\n",
       "  </thead>\n",
       "  <tbody>\n",
       "    <tr>\n",
       "      <th>0</th>\n",
       "      <td>/Users/butler/Documents/springboard_bootcamp/C...</td>\n",
       "    </tr>\n",
       "    <tr>\n",
       "      <th>1</th>\n",
       "      <td>/Users/butler/Documents/springboard_bootcamp/C...</td>\n",
       "    </tr>\n",
       "    <tr>\n",
       "      <th>2</th>\n",
       "      <td>/Users/butler/Documents/springboard_bootcamp/C...</td>\n",
       "    </tr>\n",
       "    <tr>\n",
       "      <th>3</th>\n",
       "      <td>/Users/butler/Documents/springboard_bootcamp/C...</td>\n",
       "    </tr>\n",
       "    <tr>\n",
       "      <th>4</th>\n",
       "      <td>/Users/butler/Documents/springboard_bootcamp/C...</td>\n",
       "    </tr>\n",
       "  </tbody>\n",
       "</table>\n",
       "</div>"
      ],
      "text/plain": [
       "                                               files\n",
       "0  /Users/butler/Documents/springboard_bootcamp/C...\n",
       "1  /Users/butler/Documents/springboard_bootcamp/C...\n",
       "2  /Users/butler/Documents/springboard_bootcamp/C...\n",
       "3  /Users/butler/Documents/springboard_bootcamp/C...\n",
       "4  /Users/butler/Documents/springboard_bootcamp/C..."
      ]
     },
     "execution_count": 246,
     "metadata": {},
     "output_type": "execute_result"
    }
   ],
   "source": [
    "df_mojaris_men.head()"
   ]
  },
  {
   "cell_type": "code",
   "execution_count": 247,
   "id": "b9f6580d",
   "metadata": {},
   "outputs": [
    {
     "data": {
      "text/plain": [
       "296"
      ]
     },
     "execution_count": 247,
     "metadata": {},
     "output_type": "execute_result"
    }
   ],
   "source": [
    "len(df_mojaris_men)"
   ]
  },
  {
   "cell_type": "code",
   "execution_count": 248,
   "id": "cd2f886f",
   "metadata": {},
   "outputs": [],
   "source": [
    "r = list(random.sample(range(0, 5000), 296))"
   ]
  },
  {
   "cell_type": "code",
   "execution_count": 249,
   "id": "9da3ee51",
   "metadata": {},
   "outputs": [
    {
     "data": {
      "text/plain": [
       "296"
      ]
     },
     "execution_count": 249,
     "metadata": {},
     "output_type": "execute_result"
    }
   ],
   "source": [
    "len(r)"
   ]
  },
  {
   "cell_type": "code",
   "execution_count": 250,
   "id": "81be6093",
   "metadata": {},
   "outputs": [],
   "source": [
    "df_mojaris_men['random_number'] = r"
   ]
  },
  {
   "cell_type": "code",
   "execution_count": 251,
   "id": "233816e5",
   "metadata": {},
   "outputs": [
    {
     "data": {
      "text/html": [
       "<div>\n",
       "<style scoped>\n",
       "    .dataframe tbody tr th:only-of-type {\n",
       "        vertical-align: middle;\n",
       "    }\n",
       "\n",
       "    .dataframe tbody tr th {\n",
       "        vertical-align: top;\n",
       "    }\n",
       "\n",
       "    .dataframe thead th {\n",
       "        text-align: right;\n",
       "    }\n",
       "</style>\n",
       "<table border=\"1\" class=\"dataframe\">\n",
       "  <thead>\n",
       "    <tr style=\"text-align: right;\">\n",
       "      <th></th>\n",
       "      <th>files</th>\n",
       "      <th>random_number</th>\n",
       "    </tr>\n",
       "  </thead>\n",
       "  <tbody>\n",
       "    <tr>\n",
       "      <th>0</th>\n",
       "      <td>/Users/butler/Documents/springboard_bootcamp/C...</td>\n",
       "      <td>339</td>\n",
       "    </tr>\n",
       "    <tr>\n",
       "      <th>1</th>\n",
       "      <td>/Users/butler/Documents/springboard_bootcamp/C...</td>\n",
       "      <td>4881</td>\n",
       "    </tr>\n",
       "    <tr>\n",
       "      <th>2</th>\n",
       "      <td>/Users/butler/Documents/springboard_bootcamp/C...</td>\n",
       "      <td>2028</td>\n",
       "    </tr>\n",
       "    <tr>\n",
       "      <th>3</th>\n",
       "      <td>/Users/butler/Documents/springboard_bootcamp/C...</td>\n",
       "      <td>1622</td>\n",
       "    </tr>\n",
       "    <tr>\n",
       "      <th>4</th>\n",
       "      <td>/Users/butler/Documents/springboard_bootcamp/C...</td>\n",
       "      <td>875</td>\n",
       "    </tr>\n",
       "  </tbody>\n",
       "</table>\n",
       "</div>"
      ],
      "text/plain": [
       "                                               files  random_number\n",
       "0  /Users/butler/Documents/springboard_bootcamp/C...            339\n",
       "1  /Users/butler/Documents/springboard_bootcamp/C...           4881\n",
       "2  /Users/butler/Documents/springboard_bootcamp/C...           2028\n",
       "3  /Users/butler/Documents/springboard_bootcamp/C...           1622\n",
       "4  /Users/butler/Documents/springboard_bootcamp/C...            875"
      ]
     },
     "execution_count": 251,
     "metadata": {},
     "output_type": "execute_result"
    }
   ],
   "source": [
    "df_mojaris_men.head()"
   ]
  },
  {
   "cell_type": "code",
   "execution_count": 252,
   "id": "fc17c336",
   "metadata": {},
   "outputs": [],
   "source": [
    "df_mojaris_men = df_mojaris_men.sort_values('random_number')"
   ]
  },
  {
   "cell_type": "code",
   "execution_count": 105,
   "id": "5dac27c4",
   "metadata": {},
   "outputs": [],
   "source": []
  },
  {
   "cell_type": "code",
   "execution_count": 106,
   "id": "e9315373",
   "metadata": {},
   "outputs": [
    {
     "data": {
      "text/plain": [
       "500"
      ]
     },
     "execution_count": 106,
     "metadata": {},
     "output_type": "execute_result"
    }
   ],
   "source": []
  },
  {
   "cell_type": "code",
   "execution_count": 253,
   "id": "d0b60667",
   "metadata": {
    "scrolled": true
   },
   "outputs": [
    {
     "data": {
      "text/html": [
       "<div>\n",
       "<style scoped>\n",
       "    .dataframe tbody tr th:only-of-type {\n",
       "        vertical-align: middle;\n",
       "    }\n",
       "\n",
       "    .dataframe tbody tr th {\n",
       "        vertical-align: top;\n",
       "    }\n",
       "\n",
       "    .dataframe thead th {\n",
       "        text-align: right;\n",
       "    }\n",
       "</style>\n",
       "<table border=\"1\" class=\"dataframe\">\n",
       "  <thead>\n",
       "    <tr style=\"text-align: right;\">\n",
       "      <th></th>\n",
       "      <th>files</th>\n",
       "      <th>random_number</th>\n",
       "    </tr>\n",
       "  </thead>\n",
       "  <tbody>\n",
       "    <tr>\n",
       "      <th>0</th>\n",
       "      <td>/Users/butler/Documents/springboard_bootcamp/C...</td>\n",
       "      <td>2</td>\n",
       "    </tr>\n",
       "    <tr>\n",
       "      <th>1</th>\n",
       "      <td>/Users/butler/Documents/springboard_bootcamp/C...</td>\n",
       "      <td>36</td>\n",
       "    </tr>\n",
       "    <tr>\n",
       "      <th>2</th>\n",
       "      <td>/Users/butler/Documents/springboard_bootcamp/C...</td>\n",
       "      <td>96</td>\n",
       "    </tr>\n",
       "    <tr>\n",
       "      <th>3</th>\n",
       "      <td>/Users/butler/Documents/springboard_bootcamp/C...</td>\n",
       "      <td>100</td>\n",
       "    </tr>\n",
       "    <tr>\n",
       "      <th>4</th>\n",
       "      <td>/Users/butler/Documents/springboard_bootcamp/C...</td>\n",
       "      <td>102</td>\n",
       "    </tr>\n",
       "  </tbody>\n",
       "</table>\n",
       "</div>"
      ],
      "text/plain": [
       "                                               files  random_number\n",
       "0  /Users/butler/Documents/springboard_bootcamp/C...              2\n",
       "1  /Users/butler/Documents/springboard_bootcamp/C...             36\n",
       "2  /Users/butler/Documents/springboard_bootcamp/C...             96\n",
       "3  /Users/butler/Documents/springboard_bootcamp/C...            100\n",
       "4  /Users/butler/Documents/springboard_bootcamp/C...            102"
      ]
     },
     "execution_count": 253,
     "metadata": {},
     "output_type": "execute_result"
    }
   ],
   "source": [
    "df_mojaris_men.reset_index(drop=True, inplace=True)\n",
    "df_mojaris_men.head()"
   ]
  },
  {
   "cell_type": "code",
   "execution_count": 442,
   "id": "4e29a5ad",
   "metadata": {},
   "outputs": [],
   "source": [
    "df_mojaris_men.to_csv('/Users/butler/Documents/springboard_bootcamp/Classification_of_Indian_clothing_images/data/external/newly_scraped_images/df_mojaris_men.csv')"
   ]
  },
  {
   "cell_type": "markdown",
   "id": "b0b92fed",
   "metadata": {},
   "source": [
    "Men's Kurtas"
   ]
  },
  {
   "cell_type": "code",
   "execution_count": 260,
   "id": "5ede755a",
   "metadata": {},
   "outputs": [],
   "source": [
    "files_fk = glob('/Users/butler/Documents/springboard_bootcamp/Classification_of_Indian_clothing_images/data/external/newly_scraped_images/kurta_men/flipkart/*.jpeg')"
   ]
  },
  {
   "cell_type": "code",
   "execution_count": 261,
   "id": "6f6ffe52",
   "metadata": {},
   "outputs": [
    {
     "data": {
      "text/plain": [
       "542"
      ]
     },
     "execution_count": 261,
     "metadata": {},
     "output_type": "execute_result"
    }
   ],
   "source": [
    "len(files_fk)"
   ]
  },
  {
   "cell_type": "code",
   "execution_count": 262,
   "id": "6a8f7f09",
   "metadata": {},
   "outputs": [],
   "source": [
    "files_kp = glob('/Users/butler/Documents/springboard_bootcamp/Classification_of_Indian_clothing_images/data/external/newly_scraped_images/kurta_men/karmaplace/*.jpg')"
   ]
  },
  {
   "cell_type": "code",
   "execution_count": 263,
   "id": "7da29616",
   "metadata": {},
   "outputs": [
    {
     "data": {
      "text/plain": [
       "534"
      ]
     },
     "execution_count": 263,
     "metadata": {},
     "output_type": "execute_result"
    }
   ],
   "source": [
    "len(files_kp)"
   ]
  },
  {
   "cell_type": "code",
   "execution_count": 84,
   "id": "649b9f6b",
   "metadata": {},
   "outputs": [],
   "source": []
  },
  {
   "cell_type": "code",
   "execution_count": 85,
   "id": "cf80e79f",
   "metadata": {},
   "outputs": [
    {
     "data": {
      "text/plain": [
       "83"
      ]
     },
     "execution_count": 85,
     "metadata": {},
     "output_type": "execute_result"
    }
   ],
   "source": []
  },
  {
   "cell_type": "markdown",
   "id": "0fb36dd1",
   "metadata": {},
   "source": [
    "Want 500 files"
   ]
  },
  {
   "cell_type": "code",
   "execution_count": 264,
   "id": "c051aa54",
   "metadata": {},
   "outputs": [],
   "source": [
    "lst = files_kp + files_fk"
   ]
  },
  {
   "cell_type": "code",
   "execution_count": 265,
   "id": "a533d7e7",
   "metadata": {},
   "outputs": [],
   "source": [
    "df_kurta_men = pd.DataFrame()"
   ]
  },
  {
   "cell_type": "code",
   "execution_count": 266,
   "id": "8f64700f",
   "metadata": {},
   "outputs": [],
   "source": [
    "df_kurta_men['files'] = lst"
   ]
  },
  {
   "cell_type": "code",
   "execution_count": 267,
   "id": "dfb86f12",
   "metadata": {
    "scrolled": false
   },
   "outputs": [
    {
     "data": {
      "text/html": [
       "<div>\n",
       "<style scoped>\n",
       "    .dataframe tbody tr th:only-of-type {\n",
       "        vertical-align: middle;\n",
       "    }\n",
       "\n",
       "    .dataframe tbody tr th {\n",
       "        vertical-align: top;\n",
       "    }\n",
       "\n",
       "    .dataframe thead th {\n",
       "        text-align: right;\n",
       "    }\n",
       "</style>\n",
       "<table border=\"1\" class=\"dataframe\">\n",
       "  <thead>\n",
       "    <tr style=\"text-align: right;\">\n",
       "      <th></th>\n",
       "      <th>files</th>\n",
       "    </tr>\n",
       "  </thead>\n",
       "  <tbody>\n",
       "    <tr>\n",
       "      <th>0</th>\n",
       "      <td>/Users/butler/Documents/springboard_bootcamp/C...</td>\n",
       "    </tr>\n",
       "    <tr>\n",
       "      <th>1</th>\n",
       "      <td>/Users/butler/Documents/springboard_bootcamp/C...</td>\n",
       "    </tr>\n",
       "    <tr>\n",
       "      <th>2</th>\n",
       "      <td>/Users/butler/Documents/springboard_bootcamp/C...</td>\n",
       "    </tr>\n",
       "    <tr>\n",
       "      <th>3</th>\n",
       "      <td>/Users/butler/Documents/springboard_bootcamp/C...</td>\n",
       "    </tr>\n",
       "    <tr>\n",
       "      <th>4</th>\n",
       "      <td>/Users/butler/Documents/springboard_bootcamp/C...</td>\n",
       "    </tr>\n",
       "  </tbody>\n",
       "</table>\n",
       "</div>"
      ],
      "text/plain": [
       "                                               files\n",
       "0  /Users/butler/Documents/springboard_bootcamp/C...\n",
       "1  /Users/butler/Documents/springboard_bootcamp/C...\n",
       "2  /Users/butler/Documents/springboard_bootcamp/C...\n",
       "3  /Users/butler/Documents/springboard_bootcamp/C...\n",
       "4  /Users/butler/Documents/springboard_bootcamp/C..."
      ]
     },
     "execution_count": 267,
     "metadata": {},
     "output_type": "execute_result"
    }
   ],
   "source": [
    "df_kurta_men.head()"
   ]
  },
  {
   "cell_type": "code",
   "execution_count": 268,
   "id": "66d51539",
   "metadata": {},
   "outputs": [
    {
     "data": {
      "text/plain": [
       "1076"
      ]
     },
     "execution_count": 268,
     "metadata": {},
     "output_type": "execute_result"
    }
   ],
   "source": [
    "len(df_kurta_men)"
   ]
  },
  {
   "cell_type": "code",
   "execution_count": 269,
   "id": "92a97e22",
   "metadata": {},
   "outputs": [],
   "source": [
    "r = list(random.sample(range(0, 5000), 1076))"
   ]
  },
  {
   "cell_type": "code",
   "execution_count": 270,
   "id": "c979d8fc",
   "metadata": {},
   "outputs": [
    {
     "data": {
      "text/plain": [
       "1076"
      ]
     },
     "execution_count": 270,
     "metadata": {},
     "output_type": "execute_result"
    }
   ],
   "source": [
    "len(r)"
   ]
  },
  {
   "cell_type": "code",
   "execution_count": 271,
   "id": "28d7758b",
   "metadata": {},
   "outputs": [],
   "source": [
    "df_kurta_men['random_number'] = r"
   ]
  },
  {
   "cell_type": "code",
   "execution_count": 272,
   "id": "ed98ded9",
   "metadata": {},
   "outputs": [
    {
     "data": {
      "text/html": [
       "<div>\n",
       "<style scoped>\n",
       "    .dataframe tbody tr th:only-of-type {\n",
       "        vertical-align: middle;\n",
       "    }\n",
       "\n",
       "    .dataframe tbody tr th {\n",
       "        vertical-align: top;\n",
       "    }\n",
       "\n",
       "    .dataframe thead th {\n",
       "        text-align: right;\n",
       "    }\n",
       "</style>\n",
       "<table border=\"1\" class=\"dataframe\">\n",
       "  <thead>\n",
       "    <tr style=\"text-align: right;\">\n",
       "      <th></th>\n",
       "      <th>files</th>\n",
       "      <th>random_number</th>\n",
       "    </tr>\n",
       "  </thead>\n",
       "  <tbody>\n",
       "    <tr>\n",
       "      <th>0</th>\n",
       "      <td>/Users/butler/Documents/springboard_bootcamp/C...</td>\n",
       "      <td>4316</td>\n",
       "    </tr>\n",
       "    <tr>\n",
       "      <th>1</th>\n",
       "      <td>/Users/butler/Documents/springboard_bootcamp/C...</td>\n",
       "      <td>2565</td>\n",
       "    </tr>\n",
       "    <tr>\n",
       "      <th>2</th>\n",
       "      <td>/Users/butler/Documents/springboard_bootcamp/C...</td>\n",
       "      <td>1017</td>\n",
       "    </tr>\n",
       "    <tr>\n",
       "      <th>3</th>\n",
       "      <td>/Users/butler/Documents/springboard_bootcamp/C...</td>\n",
       "      <td>866</td>\n",
       "    </tr>\n",
       "    <tr>\n",
       "      <th>4</th>\n",
       "      <td>/Users/butler/Documents/springboard_bootcamp/C...</td>\n",
       "      <td>2703</td>\n",
       "    </tr>\n",
       "  </tbody>\n",
       "</table>\n",
       "</div>"
      ],
      "text/plain": [
       "                                               files  random_number\n",
       "0  /Users/butler/Documents/springboard_bootcamp/C...           4316\n",
       "1  /Users/butler/Documents/springboard_bootcamp/C...           2565\n",
       "2  /Users/butler/Documents/springboard_bootcamp/C...           1017\n",
       "3  /Users/butler/Documents/springboard_bootcamp/C...            866\n",
       "4  /Users/butler/Documents/springboard_bootcamp/C...           2703"
      ]
     },
     "execution_count": 272,
     "metadata": {},
     "output_type": "execute_result"
    }
   ],
   "source": [
    "df_kurta_men.head()"
   ]
  },
  {
   "cell_type": "code",
   "execution_count": 273,
   "id": "ae0f4739",
   "metadata": {},
   "outputs": [],
   "source": [
    "df_kurta_men = df_kurta_men.sort_values('random_number')"
   ]
  },
  {
   "cell_type": "code",
   "execution_count": 274,
   "id": "ee6888b5",
   "metadata": {},
   "outputs": [],
   "source": [
    "df_kurta_men = df_kurta_men.iloc[:500, :]"
   ]
  },
  {
   "cell_type": "code",
   "execution_count": 275,
   "id": "33b7de9a",
   "metadata": {},
   "outputs": [
    {
     "data": {
      "text/plain": [
       "500"
      ]
     },
     "execution_count": 275,
     "metadata": {},
     "output_type": "execute_result"
    }
   ],
   "source": [
    "len(df_kurta_men)"
   ]
  },
  {
   "cell_type": "code",
   "execution_count": 276,
   "id": "07e3abf2",
   "metadata": {
    "scrolled": false
   },
   "outputs": [
    {
     "data": {
      "text/html": [
       "<div>\n",
       "<style scoped>\n",
       "    .dataframe tbody tr th:only-of-type {\n",
       "        vertical-align: middle;\n",
       "    }\n",
       "\n",
       "    .dataframe tbody tr th {\n",
       "        vertical-align: top;\n",
       "    }\n",
       "\n",
       "    .dataframe thead th {\n",
       "        text-align: right;\n",
       "    }\n",
       "</style>\n",
       "<table border=\"1\" class=\"dataframe\">\n",
       "  <thead>\n",
       "    <tr style=\"text-align: right;\">\n",
       "      <th></th>\n",
       "      <th>files</th>\n",
       "      <th>random_number</th>\n",
       "    </tr>\n",
       "  </thead>\n",
       "  <tbody>\n",
       "    <tr>\n",
       "      <th>0</th>\n",
       "      <td>/Users/butler/Documents/springboard_bootcamp/C...</td>\n",
       "      <td>3</td>\n",
       "    </tr>\n",
       "    <tr>\n",
       "      <th>1</th>\n",
       "      <td>/Users/butler/Documents/springboard_bootcamp/C...</td>\n",
       "      <td>9</td>\n",
       "    </tr>\n",
       "    <tr>\n",
       "      <th>2</th>\n",
       "      <td>/Users/butler/Documents/springboard_bootcamp/C...</td>\n",
       "      <td>17</td>\n",
       "    </tr>\n",
       "    <tr>\n",
       "      <th>3</th>\n",
       "      <td>/Users/butler/Documents/springboard_bootcamp/C...</td>\n",
       "      <td>19</td>\n",
       "    </tr>\n",
       "    <tr>\n",
       "      <th>4</th>\n",
       "      <td>/Users/butler/Documents/springboard_bootcamp/C...</td>\n",
       "      <td>26</td>\n",
       "    </tr>\n",
       "  </tbody>\n",
       "</table>\n",
       "</div>"
      ],
      "text/plain": [
       "                                               files  random_number\n",
       "0  /Users/butler/Documents/springboard_bootcamp/C...              3\n",
       "1  /Users/butler/Documents/springboard_bootcamp/C...              9\n",
       "2  /Users/butler/Documents/springboard_bootcamp/C...             17\n",
       "3  /Users/butler/Documents/springboard_bootcamp/C...             19\n",
       "4  /Users/butler/Documents/springboard_bootcamp/C...             26"
      ]
     },
     "execution_count": 276,
     "metadata": {},
     "output_type": "execute_result"
    }
   ],
   "source": [
    "df_kurta_men.reset_index(drop=True, inplace=True)\n",
    "df_kurta_men.head()"
   ]
  },
  {
   "cell_type": "code",
   "execution_count": 443,
   "id": "afffea2e",
   "metadata": {},
   "outputs": [],
   "source": [
    "df_kurta_men.to_csv('/Users/butler/Documents/springboard_bootcamp/Classification_of_Indian_clothing_images/data/external/newly_scraped_images/df_kurta_men.csv')"
   ]
  },
  {
   "cell_type": "markdown",
   "id": "bd7e4f20",
   "metadata": {},
   "source": [
    "Lehenga"
   ]
  },
  {
   "cell_type": "code",
   "execution_count": 376,
   "id": "3684181d",
   "metadata": {},
   "outputs": [],
   "source": [
    "files_fk = glob('/Users/butler/Documents/springboard_bootcamp/Classification_of_Indian_clothing_images/data/external/newly_scraped_images/lehenga/flipkart/*.jpeg')"
   ]
  },
  {
   "cell_type": "code",
   "execution_count": 382,
   "id": "eb0df25e",
   "metadata": {},
   "outputs": [
    {
     "data": {
      "text/plain": [
       "580"
      ]
     },
     "execution_count": 382,
     "metadata": {},
     "output_type": "execute_result"
    }
   ],
   "source": [
    "len(files_fk)"
   ]
  },
  {
   "cell_type": "code",
   "execution_count": 378,
   "id": "0d629928",
   "metadata": {},
   "outputs": [],
   "source": []
  },
  {
   "cell_type": "code",
   "execution_count": 379,
   "id": "12573a3e",
   "metadata": {},
   "outputs": [
    {
     "data": {
      "text/plain": [
       "0"
      ]
     },
     "execution_count": 379,
     "metadata": {},
     "output_type": "execute_result"
    }
   ],
   "source": []
  },
  {
   "cell_type": "code",
   "execution_count": 380,
   "id": "52b0de67",
   "metadata": {},
   "outputs": [],
   "source": [
    "files_uf = glob('/Users/butler/Documents/springboard_bootcamp/Classification_of_Indian_clothing_images/data/external/newly_scraped_images/lehenga/utsavfashion/*.jpg')"
   ]
  },
  {
   "cell_type": "code",
   "execution_count": 381,
   "id": "9a7e5cf9",
   "metadata": {},
   "outputs": [
    {
     "data": {
      "text/plain": [
       "292"
      ]
     },
     "execution_count": 381,
     "metadata": {},
     "output_type": "execute_result"
    }
   ],
   "source": [
    "len(files_uf)"
   ]
  },
  {
   "cell_type": "markdown",
   "id": "12dfbca4",
   "metadata": {},
   "source": [
    "Want 500 files"
   ]
  },
  {
   "cell_type": "code",
   "execution_count": 383,
   "id": "f88dc432",
   "metadata": {},
   "outputs": [],
   "source": [
    "lst = files_fk + files_uf"
   ]
  },
  {
   "cell_type": "code",
   "execution_count": 384,
   "id": "8e4b9dfa",
   "metadata": {},
   "outputs": [],
   "source": [
    "df_lehenga = pd.DataFrame()"
   ]
  },
  {
   "cell_type": "code",
   "execution_count": 385,
   "id": "338257f1",
   "metadata": {},
   "outputs": [],
   "source": [
    "df_lehenga['files'] = lst"
   ]
  },
  {
   "cell_type": "code",
   "execution_count": 386,
   "id": "67d818f9",
   "metadata": {
    "scrolled": false
   },
   "outputs": [
    {
     "data": {
      "text/html": [
       "<div>\n",
       "<style scoped>\n",
       "    .dataframe tbody tr th:only-of-type {\n",
       "        vertical-align: middle;\n",
       "    }\n",
       "\n",
       "    .dataframe tbody tr th {\n",
       "        vertical-align: top;\n",
       "    }\n",
       "\n",
       "    .dataframe thead th {\n",
       "        text-align: right;\n",
       "    }\n",
       "</style>\n",
       "<table border=\"1\" class=\"dataframe\">\n",
       "  <thead>\n",
       "    <tr style=\"text-align: right;\">\n",
       "      <th></th>\n",
       "      <th>files</th>\n",
       "    </tr>\n",
       "  </thead>\n",
       "  <tbody>\n",
       "    <tr>\n",
       "      <th>0</th>\n",
       "      <td>/Users/butler/Documents/springboard_bootcamp/C...</td>\n",
       "    </tr>\n",
       "    <tr>\n",
       "      <th>1</th>\n",
       "      <td>/Users/butler/Documents/springboard_bootcamp/C...</td>\n",
       "    </tr>\n",
       "    <tr>\n",
       "      <th>2</th>\n",
       "      <td>/Users/butler/Documents/springboard_bootcamp/C...</td>\n",
       "    </tr>\n",
       "    <tr>\n",
       "      <th>3</th>\n",
       "      <td>/Users/butler/Documents/springboard_bootcamp/C...</td>\n",
       "    </tr>\n",
       "    <tr>\n",
       "      <th>4</th>\n",
       "      <td>/Users/butler/Documents/springboard_bootcamp/C...</td>\n",
       "    </tr>\n",
       "  </tbody>\n",
       "</table>\n",
       "</div>"
      ],
      "text/plain": [
       "                                               files\n",
       "0  /Users/butler/Documents/springboard_bootcamp/C...\n",
       "1  /Users/butler/Documents/springboard_bootcamp/C...\n",
       "2  /Users/butler/Documents/springboard_bootcamp/C...\n",
       "3  /Users/butler/Documents/springboard_bootcamp/C...\n",
       "4  /Users/butler/Documents/springboard_bootcamp/C..."
      ]
     },
     "execution_count": 386,
     "metadata": {},
     "output_type": "execute_result"
    }
   ],
   "source": [
    "df_lehenga.head()"
   ]
  },
  {
   "cell_type": "code",
   "execution_count": 387,
   "id": "5f541d96",
   "metadata": {},
   "outputs": [
    {
     "data": {
      "text/plain": [
       "872"
      ]
     },
     "execution_count": 387,
     "metadata": {},
     "output_type": "execute_result"
    }
   ],
   "source": [
    "len(df_lehenga)"
   ]
  },
  {
   "cell_type": "code",
   "execution_count": 388,
   "id": "4dcf2ddf",
   "metadata": {},
   "outputs": [],
   "source": [
    "r = list(random.sample(range(0, 5000), 872))"
   ]
  },
  {
   "cell_type": "code",
   "execution_count": 389,
   "id": "f4cc1054",
   "metadata": {},
   "outputs": [
    {
     "data": {
      "text/plain": [
       "872"
      ]
     },
     "execution_count": 389,
     "metadata": {},
     "output_type": "execute_result"
    }
   ],
   "source": [
    "len(r)"
   ]
  },
  {
   "cell_type": "code",
   "execution_count": 390,
   "id": "0ed600f3",
   "metadata": {},
   "outputs": [],
   "source": [
    "df_lehenga['random_number'] = r"
   ]
  },
  {
   "cell_type": "code",
   "execution_count": 391,
   "id": "6cf771e8",
   "metadata": {},
   "outputs": [
    {
     "data": {
      "text/html": [
       "<div>\n",
       "<style scoped>\n",
       "    .dataframe tbody tr th:only-of-type {\n",
       "        vertical-align: middle;\n",
       "    }\n",
       "\n",
       "    .dataframe tbody tr th {\n",
       "        vertical-align: top;\n",
       "    }\n",
       "\n",
       "    .dataframe thead th {\n",
       "        text-align: right;\n",
       "    }\n",
       "</style>\n",
       "<table border=\"1\" class=\"dataframe\">\n",
       "  <thead>\n",
       "    <tr style=\"text-align: right;\">\n",
       "      <th></th>\n",
       "      <th>files</th>\n",
       "      <th>random_number</th>\n",
       "    </tr>\n",
       "  </thead>\n",
       "  <tbody>\n",
       "    <tr>\n",
       "      <th>0</th>\n",
       "      <td>/Users/butler/Documents/springboard_bootcamp/C...</td>\n",
       "      <td>448</td>\n",
       "    </tr>\n",
       "    <tr>\n",
       "      <th>1</th>\n",
       "      <td>/Users/butler/Documents/springboard_bootcamp/C...</td>\n",
       "      <td>3030</td>\n",
       "    </tr>\n",
       "    <tr>\n",
       "      <th>2</th>\n",
       "      <td>/Users/butler/Documents/springboard_bootcamp/C...</td>\n",
       "      <td>4899</td>\n",
       "    </tr>\n",
       "    <tr>\n",
       "      <th>3</th>\n",
       "      <td>/Users/butler/Documents/springboard_bootcamp/C...</td>\n",
       "      <td>3507</td>\n",
       "    </tr>\n",
       "    <tr>\n",
       "      <th>4</th>\n",
       "      <td>/Users/butler/Documents/springboard_bootcamp/C...</td>\n",
       "      <td>3878</td>\n",
       "    </tr>\n",
       "  </tbody>\n",
       "</table>\n",
       "</div>"
      ],
      "text/plain": [
       "                                               files  random_number\n",
       "0  /Users/butler/Documents/springboard_bootcamp/C...            448\n",
       "1  /Users/butler/Documents/springboard_bootcamp/C...           3030\n",
       "2  /Users/butler/Documents/springboard_bootcamp/C...           4899\n",
       "3  /Users/butler/Documents/springboard_bootcamp/C...           3507\n",
       "4  /Users/butler/Documents/springboard_bootcamp/C...           3878"
      ]
     },
     "execution_count": 391,
     "metadata": {},
     "output_type": "execute_result"
    }
   ],
   "source": [
    "df_lehenga.head()"
   ]
  },
  {
   "cell_type": "code",
   "execution_count": 392,
   "id": "e7354101",
   "metadata": {},
   "outputs": [],
   "source": [
    "df_lehenga = df_lehenga.sort_values('random_number')"
   ]
  },
  {
   "cell_type": "code",
   "execution_count": 393,
   "id": "f282b82f",
   "metadata": {},
   "outputs": [],
   "source": [
    "df_lehenga = df_lehenga.iloc[:500, :]"
   ]
  },
  {
   "cell_type": "code",
   "execution_count": 394,
   "id": "ed665c5d",
   "metadata": {},
   "outputs": [
    {
     "data": {
      "text/plain": [
       "500"
      ]
     },
     "execution_count": 394,
     "metadata": {},
     "output_type": "execute_result"
    }
   ],
   "source": [
    "len(df_lehenga)"
   ]
  },
  {
   "cell_type": "code",
   "execution_count": 395,
   "id": "5b575ea8",
   "metadata": {
    "scrolled": false
   },
   "outputs": [
    {
     "data": {
      "text/html": [
       "<div>\n",
       "<style scoped>\n",
       "    .dataframe tbody tr th:only-of-type {\n",
       "        vertical-align: middle;\n",
       "    }\n",
       "\n",
       "    .dataframe tbody tr th {\n",
       "        vertical-align: top;\n",
       "    }\n",
       "\n",
       "    .dataframe thead th {\n",
       "        text-align: right;\n",
       "    }\n",
       "</style>\n",
       "<table border=\"1\" class=\"dataframe\">\n",
       "  <thead>\n",
       "    <tr style=\"text-align: right;\">\n",
       "      <th></th>\n",
       "      <th>files</th>\n",
       "      <th>random_number</th>\n",
       "    </tr>\n",
       "  </thead>\n",
       "  <tbody>\n",
       "    <tr>\n",
       "      <th>0</th>\n",
       "      <td>/Users/butler/Documents/springboard_bootcamp/C...</td>\n",
       "      <td>3</td>\n",
       "    </tr>\n",
       "    <tr>\n",
       "      <th>1</th>\n",
       "      <td>/Users/butler/Documents/springboard_bootcamp/C...</td>\n",
       "      <td>13</td>\n",
       "    </tr>\n",
       "    <tr>\n",
       "      <th>2</th>\n",
       "      <td>/Users/butler/Documents/springboard_bootcamp/C...</td>\n",
       "      <td>14</td>\n",
       "    </tr>\n",
       "    <tr>\n",
       "      <th>3</th>\n",
       "      <td>/Users/butler/Documents/springboard_bootcamp/C...</td>\n",
       "      <td>18</td>\n",
       "    </tr>\n",
       "    <tr>\n",
       "      <th>4</th>\n",
       "      <td>/Users/butler/Documents/springboard_bootcamp/C...</td>\n",
       "      <td>22</td>\n",
       "    </tr>\n",
       "  </tbody>\n",
       "</table>\n",
       "</div>"
      ],
      "text/plain": [
       "                                               files  random_number\n",
       "0  /Users/butler/Documents/springboard_bootcamp/C...              3\n",
       "1  /Users/butler/Documents/springboard_bootcamp/C...             13\n",
       "2  /Users/butler/Documents/springboard_bootcamp/C...             14\n",
       "3  /Users/butler/Documents/springboard_bootcamp/C...             18\n",
       "4  /Users/butler/Documents/springboard_bootcamp/C...             22"
      ]
     },
     "execution_count": 395,
     "metadata": {},
     "output_type": "execute_result"
    }
   ],
   "source": [
    "df_lehenga.reset_index(drop=True, inplace=True)\n",
    "df_lehenga.head()"
   ]
  },
  {
   "cell_type": "code",
   "execution_count": 451,
   "id": "e74ded68",
   "metadata": {},
   "outputs": [
    {
     "data": {
      "text/plain": [
       "'/Users/butler/Documents/springboard_bootcamp/Classification_of_Indian_clothing_images/data/external/newly_scraped_images/lehenga/flipkart/free-full-sleeve-velvet3-zingat-fashion-original-imagd57rjafhewhg.jpeg'"
      ]
     },
     "execution_count": 451,
     "metadata": {},
     "output_type": "execute_result"
    }
   ],
   "source": [
    "df_lehenga.iloc[0,0]"
   ]
  },
  {
   "cell_type": "code",
   "execution_count": 444,
   "id": "cac58bc7",
   "metadata": {},
   "outputs": [],
   "source": [
    "df_lehenga.to_csv('/Users/butler/Documents/springboard_bootcamp/Classification_of_Indian_clothing_images/data/external/newly_scraped_images/df_lehenga.csv')"
   ]
  },
  {
   "cell_type": "markdown",
   "id": "a4c9f0a3",
   "metadata": {},
   "source": [
    "Gowns"
   ]
  },
  {
   "cell_type": "code",
   "execution_count": 277,
   "id": "609dccfe",
   "metadata": {},
   "outputs": [],
   "source": [
    "files_fk = glob('/Users/butler/Documents/springboard_bootcamp/Classification_of_Indian_clothing_images/data/external/newly_scraped_images/gowns/flipkart/*.jpeg')"
   ]
  },
  {
   "cell_type": "code",
   "execution_count": 278,
   "id": "b5fa8ad2",
   "metadata": {},
   "outputs": [
    {
     "data": {
      "text/plain": [
       "600"
      ]
     },
     "execution_count": 278,
     "metadata": {},
     "output_type": "execute_result"
    }
   ],
   "source": [
    "len(files_fk)"
   ]
  },
  {
   "cell_type": "code",
   "execution_count": 279,
   "id": "663ca6c0",
   "metadata": {},
   "outputs": [],
   "source": [
    "files_kp = glob('/Users/butler/Documents/springboard_bootcamp/Classification_of_Indian_clothing_images/data/external/newly_scraped_images/gowns/karmaplace/*.jpg')"
   ]
  },
  {
   "cell_type": "code",
   "execution_count": 280,
   "id": "75480381",
   "metadata": {},
   "outputs": [
    {
     "data": {
      "text/plain": [
       "484"
      ]
     },
     "execution_count": 280,
     "metadata": {},
     "output_type": "execute_result"
    }
   ],
   "source": [
    "len(files_kp)"
   ]
  },
  {
   "cell_type": "code",
   "execution_count": null,
   "id": "0a5e7554",
   "metadata": {},
   "outputs": [],
   "source": []
  },
  {
   "cell_type": "code",
   "execution_count": null,
   "id": "d26f752a",
   "metadata": {},
   "outputs": [],
   "source": []
  },
  {
   "cell_type": "markdown",
   "id": "ebcda8d8",
   "metadata": {},
   "source": [
    "Want 500 files"
   ]
  },
  {
   "cell_type": "code",
   "execution_count": 281,
   "id": "763cf438",
   "metadata": {},
   "outputs": [],
   "source": [
    "lst = files_kp + files_fk"
   ]
  },
  {
   "cell_type": "code",
   "execution_count": 282,
   "id": "73e1ce57",
   "metadata": {},
   "outputs": [],
   "source": [
    "df_gowns = pd.DataFrame()"
   ]
  },
  {
   "cell_type": "code",
   "execution_count": 283,
   "id": "cdac0f9b",
   "metadata": {},
   "outputs": [],
   "source": [
    "df_gowns['files'] = lst"
   ]
  },
  {
   "cell_type": "code",
   "execution_count": 284,
   "id": "e331d669",
   "metadata": {
    "scrolled": false
   },
   "outputs": [
    {
     "data": {
      "text/html": [
       "<div>\n",
       "<style scoped>\n",
       "    .dataframe tbody tr th:only-of-type {\n",
       "        vertical-align: middle;\n",
       "    }\n",
       "\n",
       "    .dataframe tbody tr th {\n",
       "        vertical-align: top;\n",
       "    }\n",
       "\n",
       "    .dataframe thead th {\n",
       "        text-align: right;\n",
       "    }\n",
       "</style>\n",
       "<table border=\"1\" class=\"dataframe\">\n",
       "  <thead>\n",
       "    <tr style=\"text-align: right;\">\n",
       "      <th></th>\n",
       "      <th>files</th>\n",
       "    </tr>\n",
       "  </thead>\n",
       "  <tbody>\n",
       "    <tr>\n",
       "      <th>0</th>\n",
       "      <td>/Users/butler/Documents/springboard_bootcamp/C...</td>\n",
       "    </tr>\n",
       "    <tr>\n",
       "      <th>1</th>\n",
       "      <td>/Users/butler/Documents/springboard_bootcamp/C...</td>\n",
       "    </tr>\n",
       "    <tr>\n",
       "      <th>2</th>\n",
       "      <td>/Users/butler/Documents/springboard_bootcamp/C...</td>\n",
       "    </tr>\n",
       "    <tr>\n",
       "      <th>3</th>\n",
       "      <td>/Users/butler/Documents/springboard_bootcamp/C...</td>\n",
       "    </tr>\n",
       "    <tr>\n",
       "      <th>4</th>\n",
       "      <td>/Users/butler/Documents/springboard_bootcamp/C...</td>\n",
       "    </tr>\n",
       "  </tbody>\n",
       "</table>\n",
       "</div>"
      ],
      "text/plain": [
       "                                               files\n",
       "0  /Users/butler/Documents/springboard_bootcamp/C...\n",
       "1  /Users/butler/Documents/springboard_bootcamp/C...\n",
       "2  /Users/butler/Documents/springboard_bootcamp/C...\n",
       "3  /Users/butler/Documents/springboard_bootcamp/C...\n",
       "4  /Users/butler/Documents/springboard_bootcamp/C..."
      ]
     },
     "execution_count": 284,
     "metadata": {},
     "output_type": "execute_result"
    }
   ],
   "source": [
    "df_gowns.head()"
   ]
  },
  {
   "cell_type": "code",
   "execution_count": 285,
   "id": "136f85d1",
   "metadata": {},
   "outputs": [
    {
     "data": {
      "text/plain": [
       "1084"
      ]
     },
     "execution_count": 285,
     "metadata": {},
     "output_type": "execute_result"
    }
   ],
   "source": [
    "len(df_gowns)"
   ]
  },
  {
   "cell_type": "code",
   "execution_count": 286,
   "id": "095b5ab6",
   "metadata": {},
   "outputs": [],
   "source": [
    "r = list(random.sample(range(0, 5000), 1084))"
   ]
  },
  {
   "cell_type": "code",
   "execution_count": 287,
   "id": "4282acad",
   "metadata": {},
   "outputs": [
    {
     "data": {
      "text/plain": [
       "1084"
      ]
     },
     "execution_count": 287,
     "metadata": {},
     "output_type": "execute_result"
    }
   ],
   "source": [
    "len(r)"
   ]
  },
  {
   "cell_type": "code",
   "execution_count": 288,
   "id": "a4245a5c",
   "metadata": {},
   "outputs": [],
   "source": [
    "df_gowns['random_number'] = r"
   ]
  },
  {
   "cell_type": "code",
   "execution_count": 289,
   "id": "cabe5b80",
   "metadata": {},
   "outputs": [
    {
     "data": {
      "text/html": [
       "<div>\n",
       "<style scoped>\n",
       "    .dataframe tbody tr th:only-of-type {\n",
       "        vertical-align: middle;\n",
       "    }\n",
       "\n",
       "    .dataframe tbody tr th {\n",
       "        vertical-align: top;\n",
       "    }\n",
       "\n",
       "    .dataframe thead th {\n",
       "        text-align: right;\n",
       "    }\n",
       "</style>\n",
       "<table border=\"1\" class=\"dataframe\">\n",
       "  <thead>\n",
       "    <tr style=\"text-align: right;\">\n",
       "      <th></th>\n",
       "      <th>files</th>\n",
       "      <th>random_number</th>\n",
       "    </tr>\n",
       "  </thead>\n",
       "  <tbody>\n",
       "    <tr>\n",
       "      <th>0</th>\n",
       "      <td>/Users/butler/Documents/springboard_bootcamp/C...</td>\n",
       "      <td>916</td>\n",
       "    </tr>\n",
       "    <tr>\n",
       "      <th>1</th>\n",
       "      <td>/Users/butler/Documents/springboard_bootcamp/C...</td>\n",
       "      <td>4958</td>\n",
       "    </tr>\n",
       "    <tr>\n",
       "      <th>2</th>\n",
       "      <td>/Users/butler/Documents/springboard_bootcamp/C...</td>\n",
       "      <td>299</td>\n",
       "    </tr>\n",
       "    <tr>\n",
       "      <th>3</th>\n",
       "      <td>/Users/butler/Documents/springboard_bootcamp/C...</td>\n",
       "      <td>1564</td>\n",
       "    </tr>\n",
       "    <tr>\n",
       "      <th>4</th>\n",
       "      <td>/Users/butler/Documents/springboard_bootcamp/C...</td>\n",
       "      <td>3583</td>\n",
       "    </tr>\n",
       "  </tbody>\n",
       "</table>\n",
       "</div>"
      ],
      "text/plain": [
       "                                               files  random_number\n",
       "0  /Users/butler/Documents/springboard_bootcamp/C...            916\n",
       "1  /Users/butler/Documents/springboard_bootcamp/C...           4958\n",
       "2  /Users/butler/Documents/springboard_bootcamp/C...            299\n",
       "3  /Users/butler/Documents/springboard_bootcamp/C...           1564\n",
       "4  /Users/butler/Documents/springboard_bootcamp/C...           3583"
      ]
     },
     "execution_count": 289,
     "metadata": {},
     "output_type": "execute_result"
    }
   ],
   "source": [
    "df_gowns.head()"
   ]
  },
  {
   "cell_type": "code",
   "execution_count": 290,
   "id": "504b7127",
   "metadata": {},
   "outputs": [],
   "source": [
    "df_gowns = df_gowns.sort_values('random_number')"
   ]
  },
  {
   "cell_type": "code",
   "execution_count": 291,
   "id": "3d06ddc2",
   "metadata": {},
   "outputs": [],
   "source": [
    "df_gowns = df_gowns.iloc[:500, :]"
   ]
  },
  {
   "cell_type": "code",
   "execution_count": 292,
   "id": "1e6e116c",
   "metadata": {},
   "outputs": [
    {
     "data": {
      "text/plain": [
       "500"
      ]
     },
     "execution_count": 292,
     "metadata": {},
     "output_type": "execute_result"
    }
   ],
   "source": [
    "len(df_gowns)"
   ]
  },
  {
   "cell_type": "code",
   "execution_count": 293,
   "id": "fc185890",
   "metadata": {
    "scrolled": false
   },
   "outputs": [
    {
     "data": {
      "text/html": [
       "<div>\n",
       "<style scoped>\n",
       "    .dataframe tbody tr th:only-of-type {\n",
       "        vertical-align: middle;\n",
       "    }\n",
       "\n",
       "    .dataframe tbody tr th {\n",
       "        vertical-align: top;\n",
       "    }\n",
       "\n",
       "    .dataframe thead th {\n",
       "        text-align: right;\n",
       "    }\n",
       "</style>\n",
       "<table border=\"1\" class=\"dataframe\">\n",
       "  <thead>\n",
       "    <tr style=\"text-align: right;\">\n",
       "      <th></th>\n",
       "      <th>files</th>\n",
       "      <th>random_number</th>\n",
       "    </tr>\n",
       "  </thead>\n",
       "  <tbody>\n",
       "    <tr>\n",
       "      <th>0</th>\n",
       "      <td>/Users/butler/Documents/springboard_bootcamp/C...</td>\n",
       "      <td>2</td>\n",
       "    </tr>\n",
       "    <tr>\n",
       "      <th>1</th>\n",
       "      <td>/Users/butler/Documents/springboard_bootcamp/C...</td>\n",
       "      <td>8</td>\n",
       "    </tr>\n",
       "    <tr>\n",
       "      <th>2</th>\n",
       "      <td>/Users/butler/Documents/springboard_bootcamp/C...</td>\n",
       "      <td>10</td>\n",
       "    </tr>\n",
       "    <tr>\n",
       "      <th>3</th>\n",
       "      <td>/Users/butler/Documents/springboard_bootcamp/C...</td>\n",
       "      <td>11</td>\n",
       "    </tr>\n",
       "    <tr>\n",
       "      <th>4</th>\n",
       "      <td>/Users/butler/Documents/springboard_bootcamp/C...</td>\n",
       "      <td>14</td>\n",
       "    </tr>\n",
       "  </tbody>\n",
       "</table>\n",
       "</div>"
      ],
      "text/plain": [
       "                                               files  random_number\n",
       "0  /Users/butler/Documents/springboard_bootcamp/C...              2\n",
       "1  /Users/butler/Documents/springboard_bootcamp/C...              8\n",
       "2  /Users/butler/Documents/springboard_bootcamp/C...             10\n",
       "3  /Users/butler/Documents/springboard_bootcamp/C...             11\n",
       "4  /Users/butler/Documents/springboard_bootcamp/C...             14"
      ]
     },
     "execution_count": 293,
     "metadata": {},
     "output_type": "execute_result"
    }
   ],
   "source": [
    "df_gowns.reset_index(drop=True, inplace=True)\n",
    "df_gowns.head()"
   ]
  },
  {
   "cell_type": "code",
   "execution_count": 449,
   "id": "b376bc77",
   "metadata": {},
   "outputs": [],
   "source": [
    "df_gowns.to_csv('/Users/butler/Documents/springboard_bootcamp/Classification_of_Indian_clothing_images/data/external/newly_scraped_images/df_gowns.csv')"
   ]
  },
  {
   "cell_type": "markdown",
   "id": "5c60e5d2",
   "metadata": {},
   "source": [
    "Dupattas"
   ]
  },
  {
   "cell_type": "code",
   "execution_count": 294,
   "id": "282b1ff6",
   "metadata": {},
   "outputs": [],
   "source": [
    "files_ai = glob('/Users/butler/Documents/springboard_bootcamp/Classification_of_Indian_clothing_images/data/external/newly_scraped_images/dupattas/amazon.in/*.jpg')"
   ]
  },
  {
   "cell_type": "code",
   "execution_count": 295,
   "id": "e60277dd",
   "metadata": {},
   "outputs": [
    {
     "data": {
      "text/plain": [
       "171"
      ]
     },
     "execution_count": 295,
     "metadata": {},
     "output_type": "execute_result"
    }
   ],
   "source": [
    "len(files_ai)"
   ]
  },
  {
   "cell_type": "code",
   "execution_count": 296,
   "id": "eac6191f",
   "metadata": {},
   "outputs": [],
   "source": [
    "files_kp = glob('/Users/butler/Documents/springboard_bootcamp/Classification_of_Indian_clothing_images/data/external/newly_scraped_images/dupattas/karmaplace/*.jpg')"
   ]
  },
  {
   "cell_type": "code",
   "execution_count": 297,
   "id": "103605ca",
   "metadata": {},
   "outputs": [
    {
     "data": {
      "text/plain": [
       "773"
      ]
     },
     "execution_count": 297,
     "metadata": {},
     "output_type": "execute_result"
    }
   ],
   "source": [
    "len(files_kp)"
   ]
  },
  {
   "cell_type": "code",
   "execution_count": 298,
   "id": "7327b327",
   "metadata": {},
   "outputs": [],
   "source": [
    "files_uf = glob('/Users/butler/Documents/springboard_bootcamp/Classification_of_Indian_clothing_images/data/external/newly_scraped_images/dupattas/utsavfashion/*.jpg')"
   ]
  },
  {
   "cell_type": "code",
   "execution_count": 299,
   "id": "52246ca5",
   "metadata": {},
   "outputs": [
    {
     "data": {
      "text/plain": [
       "120"
      ]
     },
     "execution_count": 299,
     "metadata": {},
     "output_type": "execute_result"
    }
   ],
   "source": [
    "len(files_uf)"
   ]
  },
  {
   "cell_type": "markdown",
   "id": "b7f899c1",
   "metadata": {},
   "source": [
    "Want 500 files"
   ]
  },
  {
   "cell_type": "code",
   "execution_count": 300,
   "id": "1d99c3d2",
   "metadata": {},
   "outputs": [],
   "source": [
    "lst = files_kp + files_fk + files_uf"
   ]
  },
  {
   "cell_type": "code",
   "execution_count": 301,
   "id": "0b6d4b36",
   "metadata": {},
   "outputs": [],
   "source": [
    "df_dupattas = pd.DataFrame()"
   ]
  },
  {
   "cell_type": "code",
   "execution_count": 302,
   "id": "c3e6b749",
   "metadata": {},
   "outputs": [],
   "source": [
    "df_dupattas['files'] = lst"
   ]
  },
  {
   "cell_type": "code",
   "execution_count": 303,
   "id": "b0f35a52",
   "metadata": {
    "scrolled": false
   },
   "outputs": [
    {
     "data": {
      "text/html": [
       "<div>\n",
       "<style scoped>\n",
       "    .dataframe tbody tr th:only-of-type {\n",
       "        vertical-align: middle;\n",
       "    }\n",
       "\n",
       "    .dataframe tbody tr th {\n",
       "        vertical-align: top;\n",
       "    }\n",
       "\n",
       "    .dataframe thead th {\n",
       "        text-align: right;\n",
       "    }\n",
       "</style>\n",
       "<table border=\"1\" class=\"dataframe\">\n",
       "  <thead>\n",
       "    <tr style=\"text-align: right;\">\n",
       "      <th></th>\n",
       "      <th>files</th>\n",
       "    </tr>\n",
       "  </thead>\n",
       "  <tbody>\n",
       "    <tr>\n",
       "      <th>0</th>\n",
       "      <td>/Users/butler/Documents/springboard_bootcamp/C...</td>\n",
       "    </tr>\n",
       "    <tr>\n",
       "      <th>1</th>\n",
       "      <td>/Users/butler/Documents/springboard_bootcamp/C...</td>\n",
       "    </tr>\n",
       "    <tr>\n",
       "      <th>2</th>\n",
       "      <td>/Users/butler/Documents/springboard_bootcamp/C...</td>\n",
       "    </tr>\n",
       "    <tr>\n",
       "      <th>3</th>\n",
       "      <td>/Users/butler/Documents/springboard_bootcamp/C...</td>\n",
       "    </tr>\n",
       "    <tr>\n",
       "      <th>4</th>\n",
       "      <td>/Users/butler/Documents/springboard_bootcamp/C...</td>\n",
       "    </tr>\n",
       "  </tbody>\n",
       "</table>\n",
       "</div>"
      ],
      "text/plain": [
       "                                               files\n",
       "0  /Users/butler/Documents/springboard_bootcamp/C...\n",
       "1  /Users/butler/Documents/springboard_bootcamp/C...\n",
       "2  /Users/butler/Documents/springboard_bootcamp/C...\n",
       "3  /Users/butler/Documents/springboard_bootcamp/C...\n",
       "4  /Users/butler/Documents/springboard_bootcamp/C..."
      ]
     },
     "execution_count": 303,
     "metadata": {},
     "output_type": "execute_result"
    }
   ],
   "source": [
    "df_dupattas.head()"
   ]
  },
  {
   "cell_type": "code",
   "execution_count": 304,
   "id": "6aceb69f",
   "metadata": {},
   "outputs": [
    {
     "data": {
      "text/plain": [
       "1493"
      ]
     },
     "execution_count": 304,
     "metadata": {},
     "output_type": "execute_result"
    }
   ],
   "source": [
    "len(df_dupattas)"
   ]
  },
  {
   "cell_type": "code",
   "execution_count": 305,
   "id": "42c4d0dc",
   "metadata": {},
   "outputs": [],
   "source": [
    "r = list(random.sample(range(0, 5000), 1493))"
   ]
  },
  {
   "cell_type": "code",
   "execution_count": 306,
   "id": "0d8b0309",
   "metadata": {},
   "outputs": [
    {
     "data": {
      "text/plain": [
       "1493"
      ]
     },
     "execution_count": 306,
     "metadata": {},
     "output_type": "execute_result"
    }
   ],
   "source": [
    "len(r)"
   ]
  },
  {
   "cell_type": "code",
   "execution_count": 307,
   "id": "80d36231",
   "metadata": {},
   "outputs": [],
   "source": [
    "df_dupattas['random_number'] = r"
   ]
  },
  {
   "cell_type": "code",
   "execution_count": 308,
   "id": "9b2109b4",
   "metadata": {},
   "outputs": [
    {
     "data": {
      "text/html": [
       "<div>\n",
       "<style scoped>\n",
       "    .dataframe tbody tr th:only-of-type {\n",
       "        vertical-align: middle;\n",
       "    }\n",
       "\n",
       "    .dataframe tbody tr th {\n",
       "        vertical-align: top;\n",
       "    }\n",
       "\n",
       "    .dataframe thead th {\n",
       "        text-align: right;\n",
       "    }\n",
       "</style>\n",
       "<table border=\"1\" class=\"dataframe\">\n",
       "  <thead>\n",
       "    <tr style=\"text-align: right;\">\n",
       "      <th></th>\n",
       "      <th>files</th>\n",
       "      <th>random_number</th>\n",
       "    </tr>\n",
       "  </thead>\n",
       "  <tbody>\n",
       "    <tr>\n",
       "      <th>0</th>\n",
       "      <td>/Users/butler/Documents/springboard_bootcamp/C...</td>\n",
       "      <td>3175</td>\n",
       "    </tr>\n",
       "    <tr>\n",
       "      <th>1</th>\n",
       "      <td>/Users/butler/Documents/springboard_bootcamp/C...</td>\n",
       "      <td>3584</td>\n",
       "    </tr>\n",
       "    <tr>\n",
       "      <th>2</th>\n",
       "      <td>/Users/butler/Documents/springboard_bootcamp/C...</td>\n",
       "      <td>3112</td>\n",
       "    </tr>\n",
       "    <tr>\n",
       "      <th>3</th>\n",
       "      <td>/Users/butler/Documents/springboard_bootcamp/C...</td>\n",
       "      <td>4538</td>\n",
       "    </tr>\n",
       "    <tr>\n",
       "      <th>4</th>\n",
       "      <td>/Users/butler/Documents/springboard_bootcamp/C...</td>\n",
       "      <td>3397</td>\n",
       "    </tr>\n",
       "  </tbody>\n",
       "</table>\n",
       "</div>"
      ],
      "text/plain": [
       "                                               files  random_number\n",
       "0  /Users/butler/Documents/springboard_bootcamp/C...           3175\n",
       "1  /Users/butler/Documents/springboard_bootcamp/C...           3584\n",
       "2  /Users/butler/Documents/springboard_bootcamp/C...           3112\n",
       "3  /Users/butler/Documents/springboard_bootcamp/C...           4538\n",
       "4  /Users/butler/Documents/springboard_bootcamp/C...           3397"
      ]
     },
     "execution_count": 308,
     "metadata": {},
     "output_type": "execute_result"
    }
   ],
   "source": [
    "df_dupattas.head()"
   ]
  },
  {
   "cell_type": "code",
   "execution_count": 309,
   "id": "6d78603e",
   "metadata": {},
   "outputs": [],
   "source": [
    "df_dupattas = df_dupattas.sort_values('random_number')"
   ]
  },
  {
   "cell_type": "code",
   "execution_count": 310,
   "id": "b117833f",
   "metadata": {},
   "outputs": [],
   "source": [
    "df_dupattas = df_dupattas.iloc[:500, :]"
   ]
  },
  {
   "cell_type": "code",
   "execution_count": 311,
   "id": "5694607a",
   "metadata": {},
   "outputs": [
    {
     "data": {
      "text/plain": [
       "500"
      ]
     },
     "execution_count": 311,
     "metadata": {},
     "output_type": "execute_result"
    }
   ],
   "source": [
    "len(df_dupattas)"
   ]
  },
  {
   "cell_type": "code",
   "execution_count": 312,
   "id": "0795fc25",
   "metadata": {
    "scrolled": true
   },
   "outputs": [
    {
     "data": {
      "text/html": [
       "<div>\n",
       "<style scoped>\n",
       "    .dataframe tbody tr th:only-of-type {\n",
       "        vertical-align: middle;\n",
       "    }\n",
       "\n",
       "    .dataframe tbody tr th {\n",
       "        vertical-align: top;\n",
       "    }\n",
       "\n",
       "    .dataframe thead th {\n",
       "        text-align: right;\n",
       "    }\n",
       "</style>\n",
       "<table border=\"1\" class=\"dataframe\">\n",
       "  <thead>\n",
       "    <tr style=\"text-align: right;\">\n",
       "      <th></th>\n",
       "      <th>files</th>\n",
       "      <th>random_number</th>\n",
       "    </tr>\n",
       "  </thead>\n",
       "  <tbody>\n",
       "    <tr>\n",
       "      <th>0</th>\n",
       "      <td>/Users/butler/Documents/springboard_bootcamp/C...</td>\n",
       "      <td>0</td>\n",
       "    </tr>\n",
       "    <tr>\n",
       "      <th>1</th>\n",
       "      <td>/Users/butler/Documents/springboard_bootcamp/C...</td>\n",
       "      <td>4</td>\n",
       "    </tr>\n",
       "    <tr>\n",
       "      <th>2</th>\n",
       "      <td>/Users/butler/Documents/springboard_bootcamp/C...</td>\n",
       "      <td>5</td>\n",
       "    </tr>\n",
       "    <tr>\n",
       "      <th>3</th>\n",
       "      <td>/Users/butler/Documents/springboard_bootcamp/C...</td>\n",
       "      <td>7</td>\n",
       "    </tr>\n",
       "    <tr>\n",
       "      <th>4</th>\n",
       "      <td>/Users/butler/Documents/springboard_bootcamp/C...</td>\n",
       "      <td>9</td>\n",
       "    </tr>\n",
       "  </tbody>\n",
       "</table>\n",
       "</div>"
      ],
      "text/plain": [
       "                                               files  random_number\n",
       "0  /Users/butler/Documents/springboard_bootcamp/C...              0\n",
       "1  /Users/butler/Documents/springboard_bootcamp/C...              4\n",
       "2  /Users/butler/Documents/springboard_bootcamp/C...              5\n",
       "3  /Users/butler/Documents/springboard_bootcamp/C...              7\n",
       "4  /Users/butler/Documents/springboard_bootcamp/C...              9"
      ]
     },
     "execution_count": 312,
     "metadata": {},
     "output_type": "execute_result"
    }
   ],
   "source": [
    "df_dupattas.reset_index(drop=True, inplace=True)\n",
    "df_dupattas.head()"
   ]
  },
  {
   "cell_type": "code",
   "execution_count": 450,
   "id": "fce7342d",
   "metadata": {},
   "outputs": [
    {
     "data": {
      "text/plain": [
       "'/Users/butler/Documents/springboard_bootcamp/Classification_of_Indian_clothing_images/data/external/newly_scraped_images/gowns/flipkart/na-l-full-sleeve-stitched-7780-22-hotixo-na-original-imagp3gzygjhhkzq.jpeg'"
      ]
     },
     "execution_count": 450,
     "metadata": {},
     "output_type": "execute_result"
    }
   ],
   "source": [
    "df_dupattas.iloc[0,0]"
   ]
  },
  {
   "cell_type": "code",
   "execution_count": 445,
   "id": "e1c66db3",
   "metadata": {},
   "outputs": [],
   "source": [
    "df_dupattas.to_csv('/Users/butler/Documents/springboard_bootcamp/Classification_of_Indian_clothing_images/data/external/newly_scraped_images/df_dupattas.csv')"
   ]
  },
  {
   "cell_type": "markdown",
   "id": "8bc91c78",
   "metadata": {},
   "source": [
    "Dhoti Pants"
   ]
  },
  {
   "cell_type": "code",
   "execution_count": 315,
   "id": "625a1e83",
   "metadata": {},
   "outputs": [],
   "source": [
    "files_fk = glob('/Users/butler/Documents/springboard_bootcamp/Classification_of_Indian_clothing_images/data/external/newly_scraped_images/dhoti_pants/flipkart/*.jpeg')"
   ]
  },
  {
   "cell_type": "code",
   "execution_count": 316,
   "id": "dc66ae2b",
   "metadata": {},
   "outputs": [
    {
     "data": {
      "text/plain": [
       "608"
      ]
     },
     "execution_count": 316,
     "metadata": {},
     "output_type": "execute_result"
    }
   ],
   "source": [
    "len(files_fk)"
   ]
  },
  {
   "cell_type": "code",
   "execution_count": 317,
   "id": "ec35dfac",
   "metadata": {},
   "outputs": [],
   "source": [
    "files_kp = glob('/Users/butler/Documents/springboard_bootcamp/Classification_of_Indian_clothing_images/data/external/newly_scraped_images/dhoti_pants/karmaplace/*.jpg')"
   ]
  },
  {
   "cell_type": "code",
   "execution_count": 318,
   "id": "bd4c65e4",
   "metadata": {},
   "outputs": [
    {
     "data": {
      "text/plain": [
       "304"
      ]
     },
     "execution_count": 318,
     "metadata": {},
     "output_type": "execute_result"
    }
   ],
   "source": [
    "len(files_kp)"
   ]
  },
  {
   "cell_type": "code",
   "execution_count": 319,
   "id": "ee9974b1",
   "metadata": {},
   "outputs": [],
   "source": [
    "files_uf = glob('/Users/butler/Documents/springboard_bootcamp/Classification_of_Indian_clothing_images/data/external/newly_scraped_images/dhoti_pants/utsavfashion/*.jpg')"
   ]
  },
  {
   "cell_type": "code",
   "execution_count": 320,
   "id": "ba7681be",
   "metadata": {},
   "outputs": [
    {
     "data": {
      "text/plain": [
       "114"
      ]
     },
     "execution_count": 320,
     "metadata": {},
     "output_type": "execute_result"
    }
   ],
   "source": [
    "len(files_uf)"
   ]
  },
  {
   "cell_type": "markdown",
   "id": "3eed56f5",
   "metadata": {},
   "source": [
    "Want 500 files"
   ]
  },
  {
   "cell_type": "code",
   "execution_count": 321,
   "id": "0482033a",
   "metadata": {},
   "outputs": [],
   "source": [
    "lst = files_kp + files_fk + files_uf"
   ]
  },
  {
   "cell_type": "code",
   "execution_count": 322,
   "id": "f02a5cba",
   "metadata": {},
   "outputs": [],
   "source": [
    "df_dhoti_pants = pd.DataFrame()"
   ]
  },
  {
   "cell_type": "code",
   "execution_count": 323,
   "id": "04fc4fd6",
   "metadata": {},
   "outputs": [],
   "source": [
    "df_dhoti_pants['files'] = lst"
   ]
  },
  {
   "cell_type": "code",
   "execution_count": 324,
   "id": "15d89df5",
   "metadata": {
    "scrolled": false
   },
   "outputs": [
    {
     "data": {
      "text/html": [
       "<div>\n",
       "<style scoped>\n",
       "    .dataframe tbody tr th:only-of-type {\n",
       "        vertical-align: middle;\n",
       "    }\n",
       "\n",
       "    .dataframe tbody tr th {\n",
       "        vertical-align: top;\n",
       "    }\n",
       "\n",
       "    .dataframe thead th {\n",
       "        text-align: right;\n",
       "    }\n",
       "</style>\n",
       "<table border=\"1\" class=\"dataframe\">\n",
       "  <thead>\n",
       "    <tr style=\"text-align: right;\">\n",
       "      <th></th>\n",
       "      <th>files</th>\n",
       "    </tr>\n",
       "  </thead>\n",
       "  <tbody>\n",
       "    <tr>\n",
       "      <th>0</th>\n",
       "      <td>/Users/butler/Documents/springboard_bootcamp/C...</td>\n",
       "    </tr>\n",
       "    <tr>\n",
       "      <th>1</th>\n",
       "      <td>/Users/butler/Documents/springboard_bootcamp/C...</td>\n",
       "    </tr>\n",
       "    <tr>\n",
       "      <th>2</th>\n",
       "      <td>/Users/butler/Documents/springboard_bootcamp/C...</td>\n",
       "    </tr>\n",
       "    <tr>\n",
       "      <th>3</th>\n",
       "      <td>/Users/butler/Documents/springboard_bootcamp/C...</td>\n",
       "    </tr>\n",
       "    <tr>\n",
       "      <th>4</th>\n",
       "      <td>/Users/butler/Documents/springboard_bootcamp/C...</td>\n",
       "    </tr>\n",
       "  </tbody>\n",
       "</table>\n",
       "</div>"
      ],
      "text/plain": [
       "                                               files\n",
       "0  /Users/butler/Documents/springboard_bootcamp/C...\n",
       "1  /Users/butler/Documents/springboard_bootcamp/C...\n",
       "2  /Users/butler/Documents/springboard_bootcamp/C...\n",
       "3  /Users/butler/Documents/springboard_bootcamp/C...\n",
       "4  /Users/butler/Documents/springboard_bootcamp/C..."
      ]
     },
     "execution_count": 324,
     "metadata": {},
     "output_type": "execute_result"
    }
   ],
   "source": [
    "df_dhoti_pants.head()"
   ]
  },
  {
   "cell_type": "code",
   "execution_count": 325,
   "id": "18ddfcd5",
   "metadata": {},
   "outputs": [
    {
     "data": {
      "text/plain": [
       "1026"
      ]
     },
     "execution_count": 325,
     "metadata": {},
     "output_type": "execute_result"
    }
   ],
   "source": [
    "len(df_dhoti_pants)"
   ]
  },
  {
   "cell_type": "code",
   "execution_count": 326,
   "id": "dc688333",
   "metadata": {},
   "outputs": [],
   "source": [
    "r = list(random.sample(range(0, 5000), 1026))"
   ]
  },
  {
   "cell_type": "code",
   "execution_count": 327,
   "id": "2560de58",
   "metadata": {},
   "outputs": [
    {
     "data": {
      "text/plain": [
       "1026"
      ]
     },
     "execution_count": 327,
     "metadata": {},
     "output_type": "execute_result"
    }
   ],
   "source": [
    "len(r)"
   ]
  },
  {
   "cell_type": "code",
   "execution_count": 328,
   "id": "2403d573",
   "metadata": {},
   "outputs": [],
   "source": [
    "df_dhoti_pants['random_number'] = r"
   ]
  },
  {
   "cell_type": "code",
   "execution_count": 329,
   "id": "b90682d3",
   "metadata": {},
   "outputs": [
    {
     "data": {
      "text/html": [
       "<div>\n",
       "<style scoped>\n",
       "    .dataframe tbody tr th:only-of-type {\n",
       "        vertical-align: middle;\n",
       "    }\n",
       "\n",
       "    .dataframe tbody tr th {\n",
       "        vertical-align: top;\n",
       "    }\n",
       "\n",
       "    .dataframe thead th {\n",
       "        text-align: right;\n",
       "    }\n",
       "</style>\n",
       "<table border=\"1\" class=\"dataframe\">\n",
       "  <thead>\n",
       "    <tr style=\"text-align: right;\">\n",
       "      <th></th>\n",
       "      <th>files</th>\n",
       "      <th>random_number</th>\n",
       "    </tr>\n",
       "  </thead>\n",
       "  <tbody>\n",
       "    <tr>\n",
       "      <th>0</th>\n",
       "      <td>/Users/butler/Documents/springboard_bootcamp/C...</td>\n",
       "      <td>1712</td>\n",
       "    </tr>\n",
       "    <tr>\n",
       "      <th>1</th>\n",
       "      <td>/Users/butler/Documents/springboard_bootcamp/C...</td>\n",
       "      <td>2568</td>\n",
       "    </tr>\n",
       "    <tr>\n",
       "      <th>2</th>\n",
       "      <td>/Users/butler/Documents/springboard_bootcamp/C...</td>\n",
       "      <td>4768</td>\n",
       "    </tr>\n",
       "    <tr>\n",
       "      <th>3</th>\n",
       "      <td>/Users/butler/Documents/springboard_bootcamp/C...</td>\n",
       "      <td>409</td>\n",
       "    </tr>\n",
       "    <tr>\n",
       "      <th>4</th>\n",
       "      <td>/Users/butler/Documents/springboard_bootcamp/C...</td>\n",
       "      <td>1930</td>\n",
       "    </tr>\n",
       "  </tbody>\n",
       "</table>\n",
       "</div>"
      ],
      "text/plain": [
       "                                               files  random_number\n",
       "0  /Users/butler/Documents/springboard_bootcamp/C...           1712\n",
       "1  /Users/butler/Documents/springboard_bootcamp/C...           2568\n",
       "2  /Users/butler/Documents/springboard_bootcamp/C...           4768\n",
       "3  /Users/butler/Documents/springboard_bootcamp/C...            409\n",
       "4  /Users/butler/Documents/springboard_bootcamp/C...           1930"
      ]
     },
     "execution_count": 329,
     "metadata": {},
     "output_type": "execute_result"
    }
   ],
   "source": [
    "df_dhoti_pants.head()"
   ]
  },
  {
   "cell_type": "code",
   "execution_count": 330,
   "id": "833b5022",
   "metadata": {},
   "outputs": [],
   "source": [
    "df_dhoti_pants = df_dhoti_pants.sort_values('random_number')"
   ]
  },
  {
   "cell_type": "code",
   "execution_count": 331,
   "id": "fbc7e13d",
   "metadata": {},
   "outputs": [],
   "source": [
    "df_dhoti_pants = df_dhoti_pants.iloc[:500, :]"
   ]
  },
  {
   "cell_type": "code",
   "execution_count": 332,
   "id": "b5837078",
   "metadata": {},
   "outputs": [
    {
     "data": {
      "text/plain": [
       "500"
      ]
     },
     "execution_count": 332,
     "metadata": {},
     "output_type": "execute_result"
    }
   ],
   "source": [
    "len(df_dhoti_pants)"
   ]
  },
  {
   "cell_type": "code",
   "execution_count": 333,
   "id": "ad33942e",
   "metadata": {
    "scrolled": true
   },
   "outputs": [
    {
     "data": {
      "text/html": [
       "<div>\n",
       "<style scoped>\n",
       "    .dataframe tbody tr th:only-of-type {\n",
       "        vertical-align: middle;\n",
       "    }\n",
       "\n",
       "    .dataframe tbody tr th {\n",
       "        vertical-align: top;\n",
       "    }\n",
       "\n",
       "    .dataframe thead th {\n",
       "        text-align: right;\n",
       "    }\n",
       "</style>\n",
       "<table border=\"1\" class=\"dataframe\">\n",
       "  <thead>\n",
       "    <tr style=\"text-align: right;\">\n",
       "      <th></th>\n",
       "      <th>files</th>\n",
       "      <th>random_number</th>\n",
       "    </tr>\n",
       "  </thead>\n",
       "  <tbody>\n",
       "    <tr>\n",
       "      <th>0</th>\n",
       "      <td>/Users/butler/Documents/springboard_bootcamp/C...</td>\n",
       "      <td>2</td>\n",
       "    </tr>\n",
       "    <tr>\n",
       "      <th>1</th>\n",
       "      <td>/Users/butler/Documents/springboard_bootcamp/C...</td>\n",
       "      <td>5</td>\n",
       "    </tr>\n",
       "    <tr>\n",
       "      <th>2</th>\n",
       "      <td>/Users/butler/Documents/springboard_bootcamp/C...</td>\n",
       "      <td>8</td>\n",
       "    </tr>\n",
       "    <tr>\n",
       "      <th>3</th>\n",
       "      <td>/Users/butler/Documents/springboard_bootcamp/C...</td>\n",
       "      <td>10</td>\n",
       "    </tr>\n",
       "    <tr>\n",
       "      <th>4</th>\n",
       "      <td>/Users/butler/Documents/springboard_bootcamp/C...</td>\n",
       "      <td>27</td>\n",
       "    </tr>\n",
       "  </tbody>\n",
       "</table>\n",
       "</div>"
      ],
      "text/plain": [
       "                                               files  random_number\n",
       "0  /Users/butler/Documents/springboard_bootcamp/C...              2\n",
       "1  /Users/butler/Documents/springboard_bootcamp/C...              5\n",
       "2  /Users/butler/Documents/springboard_bootcamp/C...              8\n",
       "3  /Users/butler/Documents/springboard_bootcamp/C...             10\n",
       "4  /Users/butler/Documents/springboard_bootcamp/C...             27"
      ]
     },
     "execution_count": 333,
     "metadata": {},
     "output_type": "execute_result"
    }
   ],
   "source": [
    "df_dhoti_pants.reset_index(drop=True, inplace=True)\n",
    "df_dhoti_pants.head()"
   ]
  },
  {
   "cell_type": "code",
   "execution_count": 446,
   "id": "f11ce565",
   "metadata": {},
   "outputs": [],
   "source": [
    "df_dhoti_pants.to_csv('/Users/butler/Documents/springboard_bootcamp/Classification_of_Indian_clothing_images/data/external/newly_scraped_images/df_dhoti_pants.csv')"
   ]
  },
  {
   "cell_type": "markdown",
   "id": "0be48aad",
   "metadata": {},
   "source": [
    "Blouses"
   ]
  },
  {
   "cell_type": "code",
   "execution_count": 357,
   "id": "27eb7cf5",
   "metadata": {},
   "outputs": [],
   "source": [
    "files_fk = glob('/Users/butler/Documents/springboard_bootcamp/Classification_of_Indian_clothing_images/data/external/newly_scraped_images/blouse/flipkart/*.jpeg')"
   ]
  },
  {
   "cell_type": "code",
   "execution_count": 358,
   "id": "da5ceba0",
   "metadata": {},
   "outputs": [
    {
     "data": {
      "text/plain": [
       "357"
      ]
     },
     "execution_count": 358,
     "metadata": {},
     "output_type": "execute_result"
    }
   ],
   "source": [
    "len(files_fk)"
   ]
  },
  {
   "cell_type": "code",
   "execution_count": 359,
   "id": "f9b794dc",
   "metadata": {},
   "outputs": [],
   "source": [
    "files_kp = glob('/Users/butler/Documents/springboard_bootcamp/Classification_of_Indian_clothing_images/data/external/newly_scraped_images/blouse/karmaplace/*.jpg')"
   ]
  },
  {
   "cell_type": "code",
   "execution_count": 360,
   "id": "7b76c122",
   "metadata": {},
   "outputs": [
    {
     "data": {
      "text/plain": [
       "894"
      ]
     },
     "execution_count": 360,
     "metadata": {},
     "output_type": "execute_result"
    }
   ],
   "source": [
    "len(files_kp)"
   ]
  },
  {
   "cell_type": "code",
   "execution_count": 361,
   "id": "029b70a8",
   "metadata": {},
   "outputs": [],
   "source": [
    "files_uf = glob('/Users/butler/Documents/springboard_bootcamp/Classification_of_Indian_clothing_images/data/external/newly_scraped_images/blouse/utsavfashion/*.jpg')"
   ]
  },
  {
   "cell_type": "code",
   "execution_count": 362,
   "id": "86ed9310",
   "metadata": {},
   "outputs": [
    {
     "data": {
      "text/plain": [
       "120"
      ]
     },
     "execution_count": 362,
     "metadata": {},
     "output_type": "execute_result"
    }
   ],
   "source": [
    "len(files_uf)"
   ]
  },
  {
   "cell_type": "markdown",
   "id": "abc1eb0d",
   "metadata": {},
   "source": [
    "Want 500 files"
   ]
  },
  {
   "cell_type": "code",
   "execution_count": 363,
   "id": "d3d9f2bc",
   "metadata": {},
   "outputs": [],
   "source": [
    "lst = files_kp + files_fk + files_uf"
   ]
  },
  {
   "cell_type": "code",
   "execution_count": 364,
   "id": "3995002e",
   "metadata": {},
   "outputs": [],
   "source": [
    "df_blouse = pd.DataFrame()"
   ]
  },
  {
   "cell_type": "code",
   "execution_count": 365,
   "id": "547a54b8",
   "metadata": {},
   "outputs": [],
   "source": [
    "df_blouse['files'] = lst"
   ]
  },
  {
   "cell_type": "code",
   "execution_count": 366,
   "id": "16bc6e49",
   "metadata": {
    "scrolled": false
   },
   "outputs": [
    {
     "data": {
      "text/html": [
       "<div>\n",
       "<style scoped>\n",
       "    .dataframe tbody tr th:only-of-type {\n",
       "        vertical-align: middle;\n",
       "    }\n",
       "\n",
       "    .dataframe tbody tr th {\n",
       "        vertical-align: top;\n",
       "    }\n",
       "\n",
       "    .dataframe thead th {\n",
       "        text-align: right;\n",
       "    }\n",
       "</style>\n",
       "<table border=\"1\" class=\"dataframe\">\n",
       "  <thead>\n",
       "    <tr style=\"text-align: right;\">\n",
       "      <th></th>\n",
       "      <th>files</th>\n",
       "    </tr>\n",
       "  </thead>\n",
       "  <tbody>\n",
       "    <tr>\n",
       "      <th>0</th>\n",
       "      <td>/Users/butler/Documents/springboard_bootcamp/C...</td>\n",
       "    </tr>\n",
       "    <tr>\n",
       "      <th>1</th>\n",
       "      <td>/Users/butler/Documents/springboard_bootcamp/C...</td>\n",
       "    </tr>\n",
       "    <tr>\n",
       "      <th>2</th>\n",
       "      <td>/Users/butler/Documents/springboard_bootcamp/C...</td>\n",
       "    </tr>\n",
       "    <tr>\n",
       "      <th>3</th>\n",
       "      <td>/Users/butler/Documents/springboard_bootcamp/C...</td>\n",
       "    </tr>\n",
       "    <tr>\n",
       "      <th>4</th>\n",
       "      <td>/Users/butler/Documents/springboard_bootcamp/C...</td>\n",
       "    </tr>\n",
       "  </tbody>\n",
       "</table>\n",
       "</div>"
      ],
      "text/plain": [
       "                                               files\n",
       "0  /Users/butler/Documents/springboard_bootcamp/C...\n",
       "1  /Users/butler/Documents/springboard_bootcamp/C...\n",
       "2  /Users/butler/Documents/springboard_bootcamp/C...\n",
       "3  /Users/butler/Documents/springboard_bootcamp/C...\n",
       "4  /Users/butler/Documents/springboard_bootcamp/C..."
      ]
     },
     "execution_count": 366,
     "metadata": {},
     "output_type": "execute_result"
    }
   ],
   "source": [
    "df_blouse.head()"
   ]
  },
  {
   "cell_type": "code",
   "execution_count": 367,
   "id": "0a119ab0",
   "metadata": {},
   "outputs": [
    {
     "data": {
      "text/plain": [
       "1371"
      ]
     },
     "execution_count": 367,
     "metadata": {},
     "output_type": "execute_result"
    }
   ],
   "source": [
    "len(df_blouse)"
   ]
  },
  {
   "cell_type": "code",
   "execution_count": 368,
   "id": "15b267b9",
   "metadata": {},
   "outputs": [],
   "source": [
    "r = list(random.sample(range(0, 5000), 1371))"
   ]
  },
  {
   "cell_type": "code",
   "execution_count": 369,
   "id": "f7f20cf9",
   "metadata": {},
   "outputs": [
    {
     "data": {
      "text/plain": [
       "1371"
      ]
     },
     "execution_count": 369,
     "metadata": {},
     "output_type": "execute_result"
    }
   ],
   "source": [
    "len(r)"
   ]
  },
  {
   "cell_type": "code",
   "execution_count": 370,
   "id": "cc9ae54f",
   "metadata": {},
   "outputs": [],
   "source": [
    "df_blouse['random_number'] = r"
   ]
  },
  {
   "cell_type": "code",
   "execution_count": 371,
   "id": "0490e869",
   "metadata": {},
   "outputs": [
    {
     "data": {
      "text/html": [
       "<div>\n",
       "<style scoped>\n",
       "    .dataframe tbody tr th:only-of-type {\n",
       "        vertical-align: middle;\n",
       "    }\n",
       "\n",
       "    .dataframe tbody tr th {\n",
       "        vertical-align: top;\n",
       "    }\n",
       "\n",
       "    .dataframe thead th {\n",
       "        text-align: right;\n",
       "    }\n",
       "</style>\n",
       "<table border=\"1\" class=\"dataframe\">\n",
       "  <thead>\n",
       "    <tr style=\"text-align: right;\">\n",
       "      <th></th>\n",
       "      <th>files</th>\n",
       "      <th>random_number</th>\n",
       "    </tr>\n",
       "  </thead>\n",
       "  <tbody>\n",
       "    <tr>\n",
       "      <th>0</th>\n",
       "      <td>/Users/butler/Documents/springboard_bootcamp/C...</td>\n",
       "      <td>327</td>\n",
       "    </tr>\n",
       "    <tr>\n",
       "      <th>1</th>\n",
       "      <td>/Users/butler/Documents/springboard_bootcamp/C...</td>\n",
       "      <td>4019</td>\n",
       "    </tr>\n",
       "    <tr>\n",
       "      <th>2</th>\n",
       "      <td>/Users/butler/Documents/springboard_bootcamp/C...</td>\n",
       "      <td>2389</td>\n",
       "    </tr>\n",
       "    <tr>\n",
       "      <th>3</th>\n",
       "      <td>/Users/butler/Documents/springboard_bootcamp/C...</td>\n",
       "      <td>2346</td>\n",
       "    </tr>\n",
       "    <tr>\n",
       "      <th>4</th>\n",
       "      <td>/Users/butler/Documents/springboard_bootcamp/C...</td>\n",
       "      <td>3237</td>\n",
       "    </tr>\n",
       "  </tbody>\n",
       "</table>\n",
       "</div>"
      ],
      "text/plain": [
       "                                               files  random_number\n",
       "0  /Users/butler/Documents/springboard_bootcamp/C...            327\n",
       "1  /Users/butler/Documents/springboard_bootcamp/C...           4019\n",
       "2  /Users/butler/Documents/springboard_bootcamp/C...           2389\n",
       "3  /Users/butler/Documents/springboard_bootcamp/C...           2346\n",
       "4  /Users/butler/Documents/springboard_bootcamp/C...           3237"
      ]
     },
     "execution_count": 371,
     "metadata": {},
     "output_type": "execute_result"
    }
   ],
   "source": [
    "df_blouse.head()"
   ]
  },
  {
   "cell_type": "code",
   "execution_count": 372,
   "id": "c54a79bc",
   "metadata": {},
   "outputs": [],
   "source": [
    "df_blouse = df_blouses.sort_values('random_number')"
   ]
  },
  {
   "cell_type": "code",
   "execution_count": 373,
   "id": "04878599",
   "metadata": {},
   "outputs": [],
   "source": [
    "df_blouse = df_blouses.iloc[:500, :]"
   ]
  },
  {
   "cell_type": "code",
   "execution_count": 374,
   "id": "0fbb02fa",
   "metadata": {},
   "outputs": [
    {
     "data": {
      "text/plain": [
       "500"
      ]
     },
     "execution_count": 374,
     "metadata": {},
     "output_type": "execute_result"
    }
   ],
   "source": [
    "len(df_blouse)"
   ]
  },
  {
   "cell_type": "code",
   "execution_count": 375,
   "id": "55d54a18",
   "metadata": {
    "scrolled": true
   },
   "outputs": [
    {
     "data": {
      "text/html": [
       "<div>\n",
       "<style scoped>\n",
       "    .dataframe tbody tr th:only-of-type {\n",
       "        vertical-align: middle;\n",
       "    }\n",
       "\n",
       "    .dataframe tbody tr th {\n",
       "        vertical-align: top;\n",
       "    }\n",
       "\n",
       "    .dataframe thead th {\n",
       "        text-align: right;\n",
       "    }\n",
       "</style>\n",
       "<table border=\"1\" class=\"dataframe\">\n",
       "  <thead>\n",
       "    <tr style=\"text-align: right;\">\n",
       "      <th></th>\n",
       "      <th>files</th>\n",
       "      <th>random_number</th>\n",
       "    </tr>\n",
       "  </thead>\n",
       "  <tbody>\n",
       "    <tr>\n",
       "      <th>0</th>\n",
       "      <td>/Users/butler/Documents/springboard_bootcamp/C...</td>\n",
       "      <td>1</td>\n",
       "    </tr>\n",
       "    <tr>\n",
       "      <th>1</th>\n",
       "      <td>/Users/butler/Documents/springboard_bootcamp/C...</td>\n",
       "      <td>2</td>\n",
       "    </tr>\n",
       "    <tr>\n",
       "      <th>2</th>\n",
       "      <td>/Users/butler/Documents/springboard_bootcamp/C...</td>\n",
       "      <td>6</td>\n",
       "    </tr>\n",
       "    <tr>\n",
       "      <th>3</th>\n",
       "      <td>/Users/butler/Documents/springboard_bootcamp/C...</td>\n",
       "      <td>7</td>\n",
       "    </tr>\n",
       "    <tr>\n",
       "      <th>4</th>\n",
       "      <td>/Users/butler/Documents/springboard_bootcamp/C...</td>\n",
       "      <td>8</td>\n",
       "    </tr>\n",
       "  </tbody>\n",
       "</table>\n",
       "</div>"
      ],
      "text/plain": [
       "                                               files  random_number\n",
       "0  /Users/butler/Documents/springboard_bootcamp/C...              1\n",
       "1  /Users/butler/Documents/springboard_bootcamp/C...              2\n",
       "2  /Users/butler/Documents/springboard_bootcamp/C...              6\n",
       "3  /Users/butler/Documents/springboard_bootcamp/C...              7\n",
       "4  /Users/butler/Documents/springboard_bootcamp/C...              8"
      ]
     },
     "execution_count": 375,
     "metadata": {},
     "output_type": "execute_result"
    }
   ],
   "source": [
    "df_blouse.reset_index(drop=True, inplace=True)\n",
    "df_blouse.head()"
   ]
  },
  {
   "cell_type": "code",
   "execution_count": 447,
   "id": "1dffc5a0",
   "metadata": {},
   "outputs": [],
   "source": [
    "df_blouse.to_csv('/Users/butler/Documents/springboard_bootcamp/Classification_of_Indian_clothing_images/data/external/newly_scraped_images/df_blouse.csv')"
   ]
  },
  {
   "cell_type": "markdown",
   "id": "4be24f6b",
   "metadata": {},
   "source": [
    "Leggings and Salwars"
   ]
  },
  {
   "cell_type": "code",
   "execution_count": 399,
   "id": "0b8ad2d9",
   "metadata": {},
   "outputs": [],
   "source": [
    "files_ai = glob('/Users/butler/Documents/springboard_bootcamp/Classification_of_Indian_clothing_images/data/external/newly_scraped_images/leggings_and_salwars/amazon.in_salwars/*.jpg')"
   ]
  },
  {
   "cell_type": "code",
   "execution_count": 400,
   "id": "a8f5ff60",
   "metadata": {},
   "outputs": [
    {
     "data": {
      "text/plain": [
       "237"
      ]
     },
     "execution_count": 400,
     "metadata": {},
     "output_type": "execute_result"
    }
   ],
   "source": [
    "len(files_ai)"
   ]
  },
  {
   "cell_type": "code",
   "execution_count": 401,
   "id": "560cb8b3",
   "metadata": {},
   "outputs": [],
   "source": [
    "files_fk = glob('/Users/butler/Documents/springboard_bootcamp/Classification_of_Indian_clothing_images/data/external/newly_scraped_images/leggings_and_salwars/flipkart/*.jpeg')"
   ]
  },
  {
   "cell_type": "code",
   "execution_count": 402,
   "id": "e7713e52",
   "metadata": {},
   "outputs": [
    {
     "data": {
      "text/plain": [
       "482"
      ]
     },
     "execution_count": 402,
     "metadata": {},
     "output_type": "execute_result"
    }
   ],
   "source": [
    "len(files_fk)"
   ]
  },
  {
   "cell_type": "code",
   "execution_count": 403,
   "id": "cd45f04b",
   "metadata": {},
   "outputs": [],
   "source": [
    "files_fkw = glob('/Users/butler/Documents/springboard_bootcamp/Classification_of_Indian_clothing_images/data/external/newly_scraped_images/leggings_and_salwars/flipkart_salwars/*.jpeg')"
   ]
  },
  {
   "cell_type": "code",
   "execution_count": 405,
   "id": "f4faed5b",
   "metadata": {},
   "outputs": [
    {
     "data": {
      "text/plain": [
       "591"
      ]
     },
     "execution_count": 405,
     "metadata": {},
     "output_type": "execute_result"
    }
   ],
   "source": [
    "len(files_fkw)"
   ]
  },
  {
   "cell_type": "code",
   "execution_count": 406,
   "id": "a5a18cc7",
   "metadata": {},
   "outputs": [],
   "source": [
    "files_uf = glob('/Users/butler/Documents/springboard_bootcamp/Classification_of_Indian_clothing_images/data/external/newly_scraped_images/leggings_and_salwars/utsav_leggings/*.jpg')"
   ]
  },
  {
   "cell_type": "code",
   "execution_count": 407,
   "id": "a779d790",
   "metadata": {},
   "outputs": [
    {
     "data": {
      "text/plain": [
       "233"
      ]
     },
     "execution_count": 407,
     "metadata": {},
     "output_type": "execute_result"
    }
   ],
   "source": [
    "len(files_uf)"
   ]
  },
  {
   "cell_type": "markdown",
   "id": "9306cfbd",
   "metadata": {},
   "source": [
    "Want 500 files"
   ]
  },
  {
   "cell_type": "code",
   "execution_count": 408,
   "id": "5606a4b5",
   "metadata": {},
   "outputs": [],
   "source": [
    "lst = files_kp + files_fk + files_uf + files_fkw"
   ]
  },
  {
   "cell_type": "code",
   "execution_count": 409,
   "id": "cd35ce73",
   "metadata": {},
   "outputs": [],
   "source": [
    "df_leggings_and_salwars = pd.DataFrame()"
   ]
  },
  {
   "cell_type": "code",
   "execution_count": 410,
   "id": "c9426b36",
   "metadata": {},
   "outputs": [],
   "source": [
    "df_leggings_and_salwars['files'] = lst"
   ]
  },
  {
   "cell_type": "code",
   "execution_count": 411,
   "id": "73291af1",
   "metadata": {
    "scrolled": false
   },
   "outputs": [
    {
     "data": {
      "text/html": [
       "<div>\n",
       "<style scoped>\n",
       "    .dataframe tbody tr th:only-of-type {\n",
       "        vertical-align: middle;\n",
       "    }\n",
       "\n",
       "    .dataframe tbody tr th {\n",
       "        vertical-align: top;\n",
       "    }\n",
       "\n",
       "    .dataframe thead th {\n",
       "        text-align: right;\n",
       "    }\n",
       "</style>\n",
       "<table border=\"1\" class=\"dataframe\">\n",
       "  <thead>\n",
       "    <tr style=\"text-align: right;\">\n",
       "      <th></th>\n",
       "      <th>files</th>\n",
       "    </tr>\n",
       "  </thead>\n",
       "  <tbody>\n",
       "    <tr>\n",
       "      <th>0</th>\n",
       "      <td>/Users/butler/Documents/springboard_bootcamp/C...</td>\n",
       "    </tr>\n",
       "    <tr>\n",
       "      <th>1</th>\n",
       "      <td>/Users/butler/Documents/springboard_bootcamp/C...</td>\n",
       "    </tr>\n",
       "    <tr>\n",
       "      <th>2</th>\n",
       "      <td>/Users/butler/Documents/springboard_bootcamp/C...</td>\n",
       "    </tr>\n",
       "    <tr>\n",
       "      <th>3</th>\n",
       "      <td>/Users/butler/Documents/springboard_bootcamp/C...</td>\n",
       "    </tr>\n",
       "    <tr>\n",
       "      <th>4</th>\n",
       "      <td>/Users/butler/Documents/springboard_bootcamp/C...</td>\n",
       "    </tr>\n",
       "  </tbody>\n",
       "</table>\n",
       "</div>"
      ],
      "text/plain": [
       "                                               files\n",
       "0  /Users/butler/Documents/springboard_bootcamp/C...\n",
       "1  /Users/butler/Documents/springboard_bootcamp/C...\n",
       "2  /Users/butler/Documents/springboard_bootcamp/C...\n",
       "3  /Users/butler/Documents/springboard_bootcamp/C...\n",
       "4  /Users/butler/Documents/springboard_bootcamp/C..."
      ]
     },
     "execution_count": 411,
     "metadata": {},
     "output_type": "execute_result"
    }
   ],
   "source": [
    "df_leggings_and_salwars.head()"
   ]
  },
  {
   "cell_type": "code",
   "execution_count": 412,
   "id": "f46864fc",
   "metadata": {},
   "outputs": [
    {
     "data": {
      "text/plain": [
       "1306"
      ]
     },
     "execution_count": 412,
     "metadata": {},
     "output_type": "execute_result"
    }
   ],
   "source": [
    "len(df_leggings_and_salwars)"
   ]
  },
  {
   "cell_type": "code",
   "execution_count": 413,
   "id": "e7ebc8f1",
   "metadata": {},
   "outputs": [],
   "source": [
    "r = list(random.sample(range(0, 5000), 1306))"
   ]
  },
  {
   "cell_type": "code",
   "execution_count": 414,
   "id": "5143030e",
   "metadata": {},
   "outputs": [
    {
     "data": {
      "text/plain": [
       "1306"
      ]
     },
     "execution_count": 414,
     "metadata": {},
     "output_type": "execute_result"
    }
   ],
   "source": [
    "len(r)"
   ]
  },
  {
   "cell_type": "code",
   "execution_count": 415,
   "id": "c1ad9d2b",
   "metadata": {},
   "outputs": [],
   "source": [
    "df_leggings_and_salwars['random_number'] = r"
   ]
  },
  {
   "cell_type": "code",
   "execution_count": 416,
   "id": "a3f30819",
   "metadata": {},
   "outputs": [
    {
     "data": {
      "text/html": [
       "<div>\n",
       "<style scoped>\n",
       "    .dataframe tbody tr th:only-of-type {\n",
       "        vertical-align: middle;\n",
       "    }\n",
       "\n",
       "    .dataframe tbody tr th {\n",
       "        vertical-align: top;\n",
       "    }\n",
       "\n",
       "    .dataframe thead th {\n",
       "        text-align: right;\n",
       "    }\n",
       "</style>\n",
       "<table border=\"1\" class=\"dataframe\">\n",
       "  <thead>\n",
       "    <tr style=\"text-align: right;\">\n",
       "      <th></th>\n",
       "      <th>files</th>\n",
       "      <th>random_number</th>\n",
       "    </tr>\n",
       "  </thead>\n",
       "  <tbody>\n",
       "    <tr>\n",
       "      <th>0</th>\n",
       "      <td>/Users/butler/Documents/springboard_bootcamp/C...</td>\n",
       "      <td>474</td>\n",
       "    </tr>\n",
       "    <tr>\n",
       "      <th>1</th>\n",
       "      <td>/Users/butler/Documents/springboard_bootcamp/C...</td>\n",
       "      <td>3168</td>\n",
       "    </tr>\n",
       "    <tr>\n",
       "      <th>2</th>\n",
       "      <td>/Users/butler/Documents/springboard_bootcamp/C...</td>\n",
       "      <td>2008</td>\n",
       "    </tr>\n",
       "    <tr>\n",
       "      <th>3</th>\n",
       "      <td>/Users/butler/Documents/springboard_bootcamp/C...</td>\n",
       "      <td>1324</td>\n",
       "    </tr>\n",
       "    <tr>\n",
       "      <th>4</th>\n",
       "      <td>/Users/butler/Documents/springboard_bootcamp/C...</td>\n",
       "      <td>1062</td>\n",
       "    </tr>\n",
       "  </tbody>\n",
       "</table>\n",
       "</div>"
      ],
      "text/plain": [
       "                                               files  random_number\n",
       "0  /Users/butler/Documents/springboard_bootcamp/C...            474\n",
       "1  /Users/butler/Documents/springboard_bootcamp/C...           3168\n",
       "2  /Users/butler/Documents/springboard_bootcamp/C...           2008\n",
       "3  /Users/butler/Documents/springboard_bootcamp/C...           1324\n",
       "4  /Users/butler/Documents/springboard_bootcamp/C...           1062"
      ]
     },
     "execution_count": 416,
     "metadata": {},
     "output_type": "execute_result"
    }
   ],
   "source": [
    "df_leggings_and_salwars.head()"
   ]
  },
  {
   "cell_type": "code",
   "execution_count": 425,
   "id": "c9567721",
   "metadata": {},
   "outputs": [],
   "source": [
    "df_leggings_and_salwars = df_leggings_and_salwars.sort_values('random_number')"
   ]
  },
  {
   "cell_type": "code",
   "execution_count": 426,
   "id": "4975935b",
   "metadata": {},
   "outputs": [],
   "source": [
    "df_leggings_and_salwars = df_leggings_and_salwars.iloc[:500, :]"
   ]
  },
  {
   "cell_type": "code",
   "execution_count": 427,
   "id": "70eb15da",
   "metadata": {},
   "outputs": [
    {
     "data": {
      "text/plain": [
       "500"
      ]
     },
     "execution_count": 427,
     "metadata": {},
     "output_type": "execute_result"
    }
   ],
   "source": [
    "len(df_leggings_and_salwars)"
   ]
  },
  {
   "cell_type": "code",
   "execution_count": 428,
   "id": "d7089246",
   "metadata": {
    "scrolled": false
   },
   "outputs": [
    {
     "data": {
      "text/html": [
       "<div>\n",
       "<style scoped>\n",
       "    .dataframe tbody tr th:only-of-type {\n",
       "        vertical-align: middle;\n",
       "    }\n",
       "\n",
       "    .dataframe tbody tr th {\n",
       "        vertical-align: top;\n",
       "    }\n",
       "\n",
       "    .dataframe thead th {\n",
       "        text-align: right;\n",
       "    }\n",
       "</style>\n",
       "<table border=\"1\" class=\"dataframe\">\n",
       "  <thead>\n",
       "    <tr style=\"text-align: right;\">\n",
       "      <th></th>\n",
       "      <th>files</th>\n",
       "      <th>random_number</th>\n",
       "    </tr>\n",
       "  </thead>\n",
       "  <tbody>\n",
       "    <tr>\n",
       "      <th>0</th>\n",
       "      <td>/Users/butler/Documents/springboard_bootcamp/C...</td>\n",
       "      <td>7</td>\n",
       "    </tr>\n",
       "    <tr>\n",
       "      <th>1</th>\n",
       "      <td>/Users/butler/Documents/springboard_bootcamp/C...</td>\n",
       "      <td>11</td>\n",
       "    </tr>\n",
       "    <tr>\n",
       "      <th>2</th>\n",
       "      <td>/Users/butler/Documents/springboard_bootcamp/C...</td>\n",
       "      <td>20</td>\n",
       "    </tr>\n",
       "    <tr>\n",
       "      <th>3</th>\n",
       "      <td>/Users/butler/Documents/springboard_bootcamp/C...</td>\n",
       "      <td>22</td>\n",
       "    </tr>\n",
       "    <tr>\n",
       "      <th>4</th>\n",
       "      <td>/Users/butler/Documents/springboard_bootcamp/C...</td>\n",
       "      <td>39</td>\n",
       "    </tr>\n",
       "  </tbody>\n",
       "</table>\n",
       "</div>"
      ],
      "text/plain": [
       "                                               files  random_number\n",
       "0  /Users/butler/Documents/springboard_bootcamp/C...              7\n",
       "1  /Users/butler/Documents/springboard_bootcamp/C...             11\n",
       "2  /Users/butler/Documents/springboard_bootcamp/C...             20\n",
       "3  /Users/butler/Documents/springboard_bootcamp/C...             22\n",
       "4  /Users/butler/Documents/springboard_bootcamp/C...             39"
      ]
     },
     "execution_count": 428,
     "metadata": {},
     "output_type": "execute_result"
    }
   ],
   "source": [
    "df_leggings_and_salwars.reset_index(drop=True, inplace=True)\n",
    "df_leggings_and_salwars.head()"
   ]
  },
  {
   "cell_type": "code",
   "execution_count": 448,
   "id": "e0612ea6",
   "metadata": {},
   "outputs": [],
   "source": [
    "df_leggings_and_salwars.to_csv('/Users/butler/Documents/springboard_bootcamp/Classification_of_Indian_clothing_images/data/external/newly_scraped_images/df_leggings_and_salwars.csv')"
   ]
  },
  {
   "cell_type": "code",
   "execution_count": null,
   "id": "395a3aa9",
   "metadata": {},
   "outputs": [],
   "source": []
  }
 ],
 "metadata": {
  "kernelspec": {
   "display_name": "Python 3 (ipykernel)",
   "language": "python",
   "name": "python3"
  },
  "language_info": {
   "codemirror_mode": {
    "name": "ipython",
    "version": 3
   },
   "file_extension": ".py",
   "mimetype": "text/x-python",
   "name": "python",
   "nbconvert_exporter": "python",
   "pygments_lexer": "ipython3",
   "version": "3.9.17"
  }
 },
 "nbformat": 4,
 "nbformat_minor": 5
}
