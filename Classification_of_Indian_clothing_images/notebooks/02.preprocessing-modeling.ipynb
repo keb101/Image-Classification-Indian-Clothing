{
 "cells": [
  {
   "cell_type": "code",
   "execution_count": 53,
   "id": "d4ef7ab0",
   "metadata": {},
   "outputs": [],
   "source": [
    "import pandas as pd\n",
    "import numpy as np\n",
    "#import seaborn as sns\n",
    "#import matplotlib.pyplot as plt\n",
    "#import keras\n",
    "#from keras.models import Sequential\n",
    "#from keras.utils import to_categorical\n",
    "#from keras.layers import Dense, Conv2D, MaxPooling2D, UpSampling2D\n",
    "#from keras.preprocessing.image import ImageDataGenerator\n",
    "#import tensorflow as tf\n",
    "#import cv2\n",
    "#from PIL import Image\n",
    "#import imageio\n",
    "#from resizeimage import resizeimage\n",
    "import random\n",
    "import pickle"
   ]
  },
  {
   "cell_type": "code",
   "execution_count": 2,
   "id": "fd85978a",
   "metadata": {},
   "outputs": [],
   "source": [
    "resized_imgs_val = []\n",
    "arrs_val = []\n",
    "not_found = []\n",
    "for i in range(7500):\n",
    "    try:\n",
    "        img = Image.open(f'/Users/butler/Documents/hp/Retrieval_of_Indian_clothing_images/data/raw/indian_clothing/val/{i}.jpeg')\n",
    "       \n",
    "        img = resizeimage.resize_contain(img, [64,64])\n",
    "        img = img.convert(\"RGB\")\n",
    "        img.save(f'/Users/butler/Documents/hp/Retrieval_of_Indian_clothing_images/data/processed/val_resized_64x64/{i}.jpeg')\n",
    "        resized_imgs_val.append(img)\n",
    "        arr = np.array(img)\n",
    "        arr = arr / 255.0\n",
    "        arrs_val.append(arr)\n",
    "        \n",
    "    except:\n",
    "        \n",
    "        not_found.append(i)"
   ]
  },
  {
   "cell_type": "code",
   "execution_count": null,
   "id": "4b27e93f",
   "metadata": {},
   "outputs": [],
   "source": []
  },
  {
   "cell_type": "code",
   "execution_count": 3,
   "id": "612e222a",
   "metadata": {
    "scrolled": true
   },
   "outputs": [
    {
     "data": {
      "text/plain": [
       "7019"
      ]
     },
     "execution_count": 3,
     "metadata": {},
     "output_type": "execute_result"
    }
   ],
   "source": [
    "len(arrs_val)"
   ]
  },
  {
   "cell_type": "code",
   "execution_count": 4,
   "id": "520f6906",
   "metadata": {},
   "outputs": [
    {
     "data": {
      "text/plain": [
       "481"
      ]
     },
     "execution_count": 4,
     "metadata": {},
     "output_type": "execute_result"
    }
   ],
   "source": [
    "len(not_found)"
   ]
  },
  {
   "cell_type": "code",
   "execution_count": 5,
   "id": "016d2b51",
   "metadata": {
    "scrolled": true
   },
   "outputs": [
    {
     "data": {
      "text/plain": [
       "3503"
      ]
     },
     "execution_count": 5,
     "metadata": {},
     "output_type": "execute_result"
    }
   ],
   "source": [
    "not_found[0]"
   ]
  },
  {
   "cell_type": "code",
   "execution_count": 6,
   "id": "3b60ddf4",
   "metadata": {
    "scrolled": true
   },
   "outputs": [],
   "source": [
    "missing = []\n",
    "for i in not_found:\n",
    "    try:\n",
    "        img = Image.open(f'/Users/butler/Documents/hp/Retrieval_of_Indian_clothing_images/data/raw/indian_clothing/val/{i}.jpg')\n",
    "        img = resizeimage.resize_contain(img, [32, 32])\n",
    "        img = img.convert(\"RGB\")\n",
    "        img.save(f'/Users/butler/Documents/hp/Retrieval_of_Indian_clothing_images/data/processed/val_resized_64x64/{i}.jpg')\n",
    "        resized_imgs_val.append(img)\n",
    "        arr = np.array(img)\n",
    "        arr = arr / 255.0\n",
    "        arrs_val.append(arr)\n",
    "    except:\n",
    "        missing.append(i)"
   ]
  },
  {
   "cell_type": "code",
   "execution_count": 7,
   "id": "46ae4acc",
   "metadata": {},
   "outputs": [
    {
     "data": {
      "text/plain": [
       "3"
      ]
     },
     "execution_count": 7,
     "metadata": {},
     "output_type": "execute_result"
    }
   ],
   "source": [
    "len(missing)"
   ]
  },
  {
   "cell_type": "code",
   "execution_count": 8,
   "id": "2636dad9",
   "metadata": {},
   "outputs": [],
   "source": [
    "for i in missing:\n",
    "    try:\n",
    "        img = Image.open(f'/Users/butler/Documents/hp/Retrieval_of_Indian_clothing_images/data/raw/indian_clothing/val/{i}.png')\n",
    "        img = resizeimage.resize_contain(img, [32, 32])\n",
    "        img = img.convert(\"RGB\")\n",
    "        img.save(f'/Users/butler/Documents/hp/Retrieval_of_Indian_clothing_images/data/processed/val_resized_32x32/{i}.png')\n",
    "        resized_imgs_val.append(img)\n",
    "        arr = np.array(img)\n",
    "        arr = arr / 255.0\n",
    "        arrs_val.append(arr)\n",
    "    except:\n",
    "        print(i)"
   ]
  },
  {
   "cell_type": "code",
   "execution_count": 9,
   "id": "a26865f7",
   "metadata": {},
   "outputs": [
    {
     "data": {
      "text/plain": [
       "7500"
      ]
     },
     "execution_count": 9,
     "metadata": {},
     "output_type": "execute_result"
    }
   ],
   "source": [
    "len(arrs_val)"
   ]
  },
  {
   "cell_type": "code",
   "execution_count": 10,
   "id": "b88c5d9e",
   "metadata": {},
   "outputs": [],
   "source": [
    "resized_imgs_train = []\n",
    "arrs_train = []\n",
    "not_found = []\n",
    "for i in range(91166):\n",
    "    try:\n",
    "        img = Image.open(f'/Users/butler/Documents/hp/Retrieval_of_Indian_clothing_images/data/raw/indian_clothing/train/{i}.jpeg')\n",
    "        #img = resizeimage.resize_contain(img, [32, 32])\n",
    "        #img = img.convert(\"RGB\")\n",
    "        #img.save(f'/Users/butler/Documents/hp/Retrieval_of_Indian_clothing_images/data/processed/train_resized_32x32/{i}.jpeg')\n",
    "        #resized_imgs_train.append(img)\n",
    "        arr = np.array(img)\n",
    "        arr = arr / 255.0\n",
    "        arrs_train.append(arr)\n",
    "    except:\n",
    "        not_found.append(i)"
   ]
  },
  {
   "cell_type": "code",
   "execution_count": 11,
   "id": "f76ec708",
   "metadata": {
    "scrolled": true
   },
   "outputs": [
    {
     "data": {
      "text/plain": [
       "87336"
      ]
     },
     "execution_count": 11,
     "metadata": {},
     "output_type": "execute_result"
    }
   ],
   "source": [
    "len(arrs_train)"
   ]
  },
  {
   "cell_type": "code",
   "execution_count": 12,
   "id": "b85f351f",
   "metadata": {},
   "outputs": [
    {
     "data": {
      "text/plain": [
       "3830"
      ]
     },
     "execution_count": 12,
     "metadata": {},
     "output_type": "execute_result"
    }
   ],
   "source": [
    "len(not_found)"
   ]
  },
  {
   "cell_type": "code",
   "execution_count": 13,
   "id": "037f67f0",
   "metadata": {
    "scrolled": true
   },
   "outputs": [],
   "source": [
    "missing = []\n",
    "for i in not_found:\n",
    "    try:\n",
    "        img = Image.open(f'/Users/butler/Documents/hp/Retrieval_of_Indian_clothing_images/data/raw/indian_clothing/train/{i}.jpg')\n",
    "        #img = resizeimage.resize_contain(img, [32, 32])\n",
    "        #img = img.convert(\"RGB\")\n",
    "        #img.save(f'/Users/butler/Documents/hp/Retrieval_of_Indian_clothing_images/data/processed/train_resized_32x32/{i}.jpg')\n",
    "        #resized_imgs_train.append(img)\n",
    "        arr = np.array(img)\n",
    "        arr = arr / 255.0\n",
    "        arrs_train.append(arr)\n",
    "    except:\n",
    "        missing.append(i)"
   ]
  },
  {
   "cell_type": "code",
   "execution_count": 14,
   "id": "73e62869",
   "metadata": {},
   "outputs": [
    {
     "data": {
      "text/plain": [
       "31"
      ]
     },
     "execution_count": 14,
     "metadata": {},
     "output_type": "execute_result"
    }
   ],
   "source": [
    "len(missing)"
   ]
  },
  {
   "cell_type": "code",
   "execution_count": 15,
   "id": "768c0ff9",
   "metadata": {},
   "outputs": [],
   "source": [
    "for i in missing:\n",
    "    try:\n",
    "        img = Image.open(f'/Users/butler/Documents/hp/Retrieval_of_Indian_clothing_images/data/raw/indian_clothing/train/{i}.png')\n",
    "        #img = resizeimage.resize_contain(img, [32, 32])\n",
    "        #img = img.convert(\"RGB\")\n",
    "        #img.save(f'/Users/butler/Documents/hp/Retrieval_of_Indian_clothing_images/data/processed/train_resized_32x32/{i}.png')\n",
    "        #resized_imgs_train.append(img)\n",
    "        arr = np.array(img)\n",
    "        arr = arr / 255.0\n",
    "        arrs_train.append(arr)\n",
    "    except:\n",
    "        print(i)"
   ]
  },
  {
   "cell_type": "code",
   "execution_count": 16,
   "id": "6cca5f26",
   "metadata": {
    "scrolled": true
   },
   "outputs": [
    {
     "data": {
      "text/plain": [
       "91166"
      ]
     },
     "execution_count": 16,
     "metadata": {},
     "output_type": "execute_result"
    }
   ],
   "source": [
    "len(arrs_train)"
   ]
  },
  {
   "cell_type": "code",
   "execution_count": 17,
   "id": "73e73e3d",
   "metadata": {},
   "outputs": [],
   "source": [
    "#arrs_train[0][0]"
   ]
  },
  {
   "cell_type": "code",
   "execution_count": 18,
   "id": "003375ec",
   "metadata": {},
   "outputs": [],
   "source": [
    "#resized_imgs_test = []\n",
    "arrs_test = []\n",
    "not_found = []\n",
    "for i in range(7500):\n",
    "    try:\n",
    "        img = Image.open(f'/Users/butler/Documents/hp/Retrieval_of_Indian_clothing_images/data/raw/indian_clothing/train/{i}.jpeg')\n",
    "        #img = resizeimage.resize_contain(img, [32, 32])\n",
    "        #img = img.convert(\"RGB\")\n",
    "        #img.save(f'/Users/butler/Documents/hp/Retrieval_of_Indian_clothing_images/data/processed/test_resized_32x32/{i}.jpeg')\n",
    "        #resized_imgs_test.append(img)\n",
    "        arr = np.array(img)\n",
    "        arr = arr / 255.0\n",
    "        arrs_test.append(arr)\n",
    "    except:\n",
    "        not_found.append(i)"
   ]
  },
  {
   "cell_type": "code",
   "execution_count": 19,
   "id": "348d4146",
   "metadata": {
    "scrolled": true
   },
   "outputs": [
    {
     "data": {
      "text/plain": [
       "6992"
      ]
     },
     "execution_count": 19,
     "metadata": {},
     "output_type": "execute_result"
    }
   ],
   "source": [
    "len(arrs_test)"
   ]
  },
  {
   "cell_type": "code",
   "execution_count": 20,
   "id": "57c9944f",
   "metadata": {},
   "outputs": [
    {
     "data": {
      "text/plain": [
       "508"
      ]
     },
     "execution_count": 20,
     "metadata": {},
     "output_type": "execute_result"
    }
   ],
   "source": [
    "len(not_found)"
   ]
  },
  {
   "cell_type": "code",
   "execution_count": 21,
   "id": "159b1478",
   "metadata": {
    "scrolled": true
   },
   "outputs": [],
   "source": [
    "missing = []\n",
    "for i in not_found:\n",
    "    try:\n",
    "        img = Image.open(f'/Users/butler/Documents/hp/Retrieval_of_Indian_clothing_images/data/raw/indian_clothing/test/{i}.jpg')\n",
    "        #img = resizeimage.resize_contain(img, [32, 32])\n",
    "        #img = img.convert(\"RGB\")\n",
    "        #img.save(f'/Users/butler/Documents/hp/Retrieval_of_Indian_clothing_images/data/processed/test_resized_32x32/{i}.jpg')\n",
    "        #resized_imgs_test.append(img)\n",
    "        arr = np.array(img)\n",
    "        arr = arr / 255.0\n",
    "        arrs_test.append(arr)\n",
    "    except:\n",
    "        missing.append(i)"
   ]
  },
  {
   "cell_type": "code",
   "execution_count": 22,
   "id": "a6b4400e",
   "metadata": {},
   "outputs": [
    {
     "data": {
      "text/plain": [
       "4"
      ]
     },
     "execution_count": 22,
     "metadata": {},
     "output_type": "execute_result"
    }
   ],
   "source": [
    "len(missing)"
   ]
  },
  {
   "cell_type": "code",
   "execution_count": 23,
   "id": "d1f1c45a",
   "metadata": {},
   "outputs": [],
   "source": [
    "for i in missing:\n",
    "    try:\n",
    "        img = Image.open(f'/Users/butler/Documents/hp/Retrieval_of_Indian_clothing_images/data/raw/indian_clothing/test/{i}.png')\n",
    "        img = resizeimage.resize_contain(img, [32, 32])\n",
    "        #img = img.convert(\"RGB\")\n",
    "        #img.save(f'/Users/butler/Documents/hp/Retrieval_of_Indian_clothing_images/data/processed/test_resized_32x32/{i}.png')\n",
    "        #resized_imgs_test.append(img)\n",
    "        arr = np.array(img)\n",
    "        arr = arr / 255.0\n",
    "        arrs_test.append(arr)\n",
    "    except:\n",
    "        print(i)"
   ]
  },
  {
   "cell_type": "code",
   "execution_count": 24,
   "id": "270f3bea",
   "metadata": {},
   "outputs": [
    {
     "data": {
      "text/plain": [
       "7500"
      ]
     },
     "execution_count": 24,
     "metadata": {},
     "output_type": "execute_result"
    }
   ],
   "source": [
    "len(arrs_test)"
   ]
  },
  {
   "cell_type": "code",
   "execution_count": 25,
   "id": "220048a1",
   "metadata": {},
   "outputs": [
    {
     "data": {
      "text/plain": [
       "32"
      ]
     },
     "execution_count": 25,
     "metadata": {},
     "output_type": "execute_result"
    }
   ],
   "source": [
    "len(arrs_test[0])"
   ]
  },
  {
   "cell_type": "code",
   "execution_count": 26,
   "id": "0f5030c9",
   "metadata": {},
   "outputs": [
    {
     "data": {
      "text/plain": [
       "32"
      ]
     },
     "execution_count": 26,
     "metadata": {},
     "output_type": "execute_result"
    }
   ],
   "source": [
    "len(arrs_test[0][0])"
   ]
  },
  {
   "cell_type": "code",
   "execution_count": 27,
   "id": "2bdc6e77",
   "metadata": {},
   "outputs": [],
   "source": [
    "with open('/Users/butler/Documents/hp/Retrieval_of_Indian_clothing_images/data/raw/indian_clothing/trainx', 'wb') as fp:   \n",
    "    pickle.dump(arrs_train, fp)"
   ]
  },
  {
   "cell_type": "code",
   "execution_count": 28,
   "id": "3ffd0c87",
   "metadata": {},
   "outputs": [],
   "source": [
    "with open('/Users/butler/Documents/hp/Retrieval_of_Indian_clothing_images/data/raw/indian_clothing/testx', 'wb') as fp:   \n",
    "    pickle.dump(arrs_test, fp)"
   ]
  },
  {
   "cell_type": "code",
   "execution_count": 29,
   "id": "9c590759",
   "metadata": {},
   "outputs": [],
   "source": [
    "with open('/Users/butler/Documents/hp/Retrieval_of_Indian_clothing_images/data/raw/indian_clothing/valx', 'wb') as fp:   \n",
    "    pickle.dump(arrs_val, fp)"
   ]
  },
  {
   "cell_type": "code",
   "execution_count": 83,
   "id": "f7fd4cb4",
   "metadata": {},
   "outputs": [],
   "source": [
    "\n",
    "arrs_val = []\n",
    "not_found = []\n",
    "for i in range(7500):\n",
    "    try:\n",
    "        img = Image.open(f'/Users/butler/Documents/hp/Retrieval_of_Indian_clothing_images/data/raw/indian_clothing/val/{i}.jpeg')\n",
    "       \n",
    "        img = resizeimage.resize_contain(img, [64, 64])\n",
    "        img = img.convert(\"RGB\")\n",
    "        img.save(f'/Users/butler/Documents/hp/Retrieval_of_Indian_clothing_images/data/processed/val_resized_64x64/{i}.jpeg')\n",
    "        \n",
    "        arr = np.array(img)\n",
    "        arr = arr / 255.0\n",
    "        arrs_val.append(arr)\n",
    "        \n",
    "    except:\n",
    "        \n",
    "        not_found.append(i)"
   ]
  },
  {
   "cell_type": "code",
   "execution_count": 84,
   "id": "ece36cc3",
   "metadata": {
    "scrolled": true
   },
   "outputs": [
    {
     "data": {
      "text/plain": [
       "7019"
      ]
     },
     "execution_count": 84,
     "metadata": {},
     "output_type": "execute_result"
    }
   ],
   "source": [
    "len(arrs_val)"
   ]
  },
  {
   "cell_type": "code",
   "execution_count": 85,
   "id": "75c1513b",
   "metadata": {},
   "outputs": [
    {
     "data": {
      "text/plain": [
       "481"
      ]
     },
     "execution_count": 85,
     "metadata": {},
     "output_type": "execute_result"
    }
   ],
   "source": [
    "len(not_found)"
   ]
  },
  {
   "cell_type": "code",
   "execution_count": 86,
   "id": "389891bf",
   "metadata": {
    "scrolled": true
   },
   "outputs": [
    {
     "data": {
      "text/plain": [
       "3503"
      ]
     },
     "execution_count": 86,
     "metadata": {},
     "output_type": "execute_result"
    }
   ],
   "source": [
    "not_found[0]"
   ]
  },
  {
   "cell_type": "code",
   "execution_count": 87,
   "id": "2bb729e9",
   "metadata": {
    "scrolled": true
   },
   "outputs": [],
   "source": [
    "missing = []\n",
    "for i in not_found:\n",
    "    try:\n",
    "        img = Image.open(f'/Users/butler/Documents/hp/Retrieval_of_Indian_clothing_images/data/raw/indian_clothing/val/{i}.jpg')\n",
    "        img = resizeimage.resize_contain(img, [64, 64])\n",
    "        img = img.convert(\"RGB\")\n",
    "        img.save(f'/Users/butler/Documents/hp/Retrieval_of_Indian_clothing_images/data/processed/val_resized_64x64/{i}.jpg')\n",
    "        \n",
    "        arr = np.array(img)\n",
    "        arr = arr / 255.0\n",
    "        arrs_val.append(arr)\n",
    "    except:\n",
    "        missing.append(i)"
   ]
  },
  {
   "cell_type": "code",
   "execution_count": 88,
   "id": "d1ef1884",
   "metadata": {},
   "outputs": [
    {
     "data": {
      "text/plain": [
       "3"
      ]
     },
     "execution_count": 88,
     "metadata": {},
     "output_type": "execute_result"
    }
   ],
   "source": [
    "len(missing)"
   ]
  },
  {
   "cell_type": "code",
   "execution_count": 89,
   "id": "ff35c401",
   "metadata": {},
   "outputs": [],
   "source": [
    "for i in missing:\n",
    "    try:\n",
    "        img = Image.open(f'/Users/butler/Documents/hp/Retrieval_of_Indian_clothing_images/data/raw/indian_clothing/val/{i}.png')\n",
    "        img = resizeimage.resize_contain(img, [64, 64])\n",
    "        img = img.convert(\"RGB\")\n",
    "        img.save(f'/Users/butler/Documents/hp/Retrieval_of_Indian_clothing_images/data/processed/val_resized_64x64/{i}.png')\n",
    "        \n",
    "        arr = np.array(img)\n",
    "        arr = arr / 255.0\n",
    "        arrs_val.append(arr)\n",
    "    except:\n",
    "        print(i)"
   ]
  },
  {
   "cell_type": "code",
   "execution_count": 90,
   "id": "688830e9",
   "metadata": {},
   "outputs": [
    {
     "data": {
      "text/plain": [
       "7500"
      ]
     },
     "execution_count": 90,
     "metadata": {},
     "output_type": "execute_result"
    }
   ],
   "source": [
    "len(arrs_val)"
   ]
  },
  {
   "cell_type": "code",
   "execution_count": 91,
   "id": "90068f47",
   "metadata": {},
   "outputs": [],
   "source": [
    "\n",
    "arrs_train = []\n",
    "not_found = []\n",
    "for i in range(91166):\n",
    "    try:\n",
    "        img = Image.open(f'/Users/butler/Documents/hp/Retrieval_of_Indian_clothing_images/data/raw/indian_clothing/train/{i}.jpeg')\n",
    "        img = resizeimage.resize_contain(img, [64, 64])\n",
    "        img = img.convert(\"RGB\")\n",
    "        img.save(f'/Users/butler/Documents/hp/Retrieval_of_Indian_clothing_images/data/processed/train_resized_64x64/{i}.jpeg')\n",
    "        \n",
    "        arr = np.array(img)\n",
    "        arr = arr / 255.0\n",
    "        arrs_train.append(arr)\n",
    "    except:\n",
    "        not_found.append(i)"
   ]
  },
  {
   "cell_type": "code",
   "execution_count": 92,
   "id": "f7ce437f",
   "metadata": {
    "scrolled": true
   },
   "outputs": [
    {
     "data": {
      "text/plain": [
       "87336"
      ]
     },
     "execution_count": 92,
     "metadata": {},
     "output_type": "execute_result"
    }
   ],
   "source": [
    "len(arrs_train)"
   ]
  },
  {
   "cell_type": "code",
   "execution_count": 93,
   "id": "dd3ee983",
   "metadata": {},
   "outputs": [
    {
     "data": {
      "text/plain": [
       "3830"
      ]
     },
     "execution_count": 93,
     "metadata": {},
     "output_type": "execute_result"
    }
   ],
   "source": [
    "len(not_found)"
   ]
  },
  {
   "cell_type": "code",
   "execution_count": 94,
   "id": "e1365e76",
   "metadata": {
    "scrolled": true
   },
   "outputs": [],
   "source": [
    "missing = []\n",
    "for i in not_found:\n",
    "    try:\n",
    "        img = Image.open(f'/Users/butler/Documents/hp/Retrieval_of_Indian_clothing_images/data/raw/indian_clothing/train/{i}.jpg')\n",
    "        img = resizeimage.resize_contain(img, [64, 64])\n",
    "        img = img.convert(\"RGB\")\n",
    "        img.save(f'/Users/butler/Documents/hp/Retrieval_of_Indian_clothing_images/data/processed/train_resized_64x64/{i}.jpg')\n",
    "        \n",
    "        arr = np.array(img)\n",
    "        arr = arr / 255.0\n",
    "        arrs_train.append(arr)\n",
    "    except:\n",
    "        missing.append(i)"
   ]
  },
  {
   "cell_type": "code",
   "execution_count": 95,
   "id": "3c36932a",
   "metadata": {},
   "outputs": [
    {
     "data": {
      "text/plain": [
       "31"
      ]
     },
     "execution_count": 95,
     "metadata": {},
     "output_type": "execute_result"
    }
   ],
   "source": [
    "len(missing)"
   ]
  },
  {
   "cell_type": "code",
   "execution_count": 96,
   "id": "fa22994e",
   "metadata": {},
   "outputs": [],
   "source": [
    "for i in missing:\n",
    "    try:\n",
    "        img = Image.open(f'/Users/butler/Documents/hp/Retrieval_of_Indian_clothing_images/data/raw/indian_clothing/train/{i}.png')\n",
    "        img = resizeimage.resize_contain(img, [64, 64])\n",
    "        img = img.convert(\"RGB\")\n",
    "        img.save(f'/Users/butler/Documents/hp/Retrieval_of_Indian_clothing_images/data/processed/train_resized_64x64/{i}.png')\n",
    "        \n",
    "        arr = np.array(img)\n",
    "        arr = arr / 255.0\n",
    "        arrs_train.append(arr)\n",
    "    except:\n",
    "        print(i)"
   ]
  },
  {
   "cell_type": "code",
   "execution_count": 97,
   "id": "0f5d48b0",
   "metadata": {
    "scrolled": true
   },
   "outputs": [
    {
     "data": {
      "text/plain": [
       "91166"
      ]
     },
     "execution_count": 97,
     "metadata": {},
     "output_type": "execute_result"
    }
   ],
   "source": [
    "len(arrs_train)"
   ]
  },
  {
   "cell_type": "code",
   "execution_count": 98,
   "id": "75646b05",
   "metadata": {},
   "outputs": [],
   "source": [
    "#arrs_train[0][0]"
   ]
  },
  {
   "cell_type": "code",
   "execution_count": 99,
   "id": "fdc98bae",
   "metadata": {},
   "outputs": [],
   "source": [
    "#resized_imgs_test = []\n",
    "arrs_test = []\n",
    "not_found = []\n",
    "for i in range(7500):\n",
    "    try:\n",
    "        img = Image.open(f'/Users/butler/Documents/hp/Retrieval_of_Indian_clothing_images/data/raw/indian_clothing/test/{i}.jpeg')\n",
    "        img = resizeimage.resize_contain(img, [64, 64])\n",
    "        img = img.convert(\"RGB\")\n",
    "        img.save(f'/Users/butler/Documents/hp/Retrieval_of_Indian_clothing_images/data/processed/test_resized_64x64/{i}.jpeg')\n",
    "        \n",
    "        arr = np.array(img)\n",
    "        arr = arr / 255.0\n",
    "        arrs_test.append(arr)\n",
    "    except:\n",
    "        not_found.append(i)"
   ]
  },
  {
   "cell_type": "code",
   "execution_count": 100,
   "id": "037cc7c3",
   "metadata": {
    "scrolled": true
   },
   "outputs": [
    {
     "data": {
      "text/plain": [
       "6992"
      ]
     },
     "execution_count": 100,
     "metadata": {},
     "output_type": "execute_result"
    }
   ],
   "source": [
    "len(arrs_test)"
   ]
  },
  {
   "cell_type": "code",
   "execution_count": 101,
   "id": "e76c2883",
   "metadata": {},
   "outputs": [
    {
     "data": {
      "text/plain": [
       "508"
      ]
     },
     "execution_count": 101,
     "metadata": {},
     "output_type": "execute_result"
    }
   ],
   "source": [
    "len(not_found)"
   ]
  },
  {
   "cell_type": "code",
   "execution_count": 102,
   "id": "6938be94",
   "metadata": {
    "scrolled": true
   },
   "outputs": [],
   "source": [
    "missing = []\n",
    "for i in not_found:\n",
    "    try:\n",
    "        img = Image.open(f'/Users/butler/Documents/hp/Retrieval_of_Indian_clothing_images/data/raw/indian_clothing/test/{i}.jpg')\n",
    "        img = resizeimage.resize_contain(img, [64, 64])\n",
    "        img = img.convert(\"RGB\")\n",
    "        img.save(f'/Users/butler/Documents/hp/Retrieval_of_Indian_clothing_images/data/processed/test_resized_64x64/{i}.jpg')\n",
    "        \n",
    "        arr = np.array(img)\n",
    "        arr = arr / 255.0\n",
    "        arrs_test.append(arr)\n",
    "    except:\n",
    "        missing.append(i)"
   ]
  },
  {
   "cell_type": "code",
   "execution_count": 103,
   "id": "dbfdf68a",
   "metadata": {},
   "outputs": [
    {
     "data": {
      "text/plain": [
       "4"
      ]
     },
     "execution_count": 103,
     "metadata": {},
     "output_type": "execute_result"
    }
   ],
   "source": [
    "len(missing)"
   ]
  },
  {
   "cell_type": "code",
   "execution_count": 104,
   "id": "c2b2dd78",
   "metadata": {},
   "outputs": [],
   "source": [
    "for i in missing:\n",
    "    try:\n",
    "        img = Image.open(f'/Users/butler/Documents/hp/Retrieval_of_Indian_clothing_images/data/raw/indian_clothing/test/{i}.png')\n",
    "        img = resizeimage.resize_contain(img, [64, 64])\n",
    "        img = img.convert(\"RGB\")\n",
    "        img.save(f'/Users/butler/Documents/hp/Retrieval_of_Indian_clothing_images/data/processed/test_resized_64x64/{i}.png')\n",
    "        arr = np.array(img)\n",
    "        arr = arr / 255.0\n",
    "        arrs_test.append(arr)\n",
    "    except:\n",
    "        print(i)"
   ]
  },
  {
   "cell_type": "code",
   "execution_count": 105,
   "id": "dac87eae",
   "metadata": {},
   "outputs": [
    {
     "data": {
      "text/plain": [
       "7500"
      ]
     },
     "execution_count": 105,
     "metadata": {},
     "output_type": "execute_result"
    }
   ],
   "source": [
    "len(arrs_test)"
   ]
  },
  {
   "cell_type": "code",
   "execution_count": 77,
   "id": "594d9790",
   "metadata": {},
   "outputs": [
    {
     "data": {
      "text/plain": [
       "64"
      ]
     },
     "execution_count": 77,
     "metadata": {},
     "output_type": "execute_result"
    }
   ],
   "source": [
    "len(arrs_test[0])"
   ]
  },
  {
   "cell_type": "code",
   "execution_count": 78,
   "id": "4ccb1ec9",
   "metadata": {},
   "outputs": [
    {
     "data": {
      "text/plain": [
       "64"
      ]
     },
     "execution_count": 78,
     "metadata": {},
     "output_type": "execute_result"
    }
   ],
   "source": [
    "len(arrs_test[0][0])"
   ]
  },
  {
   "cell_type": "code",
   "execution_count": 112,
   "id": "06d4421c",
   "metadata": {},
   "outputs": [],
   "source": [
    "with open('/Users/butler/Documents/hp/Retrieval_of_Indian_clothing_images/data/raw/indian_clothing/trainx64', 'wb') as fp:   \n",
    "    pickle.dump(arrs_train, fp)"
   ]
  },
  {
   "cell_type": "code",
   "execution_count": 109,
   "id": "4ff168a7",
   "metadata": {},
   "outputs": [],
   "source": [
    "with open('/Users/butler/Documents/hp/Retrieval_of_Indian_clothing_images/data/raw/indian_clothing/testx64', 'w') as fp:   \n",
    "    pickle.dump(arrs_test, fp)"
   ]
  },
  {
   "cell_type": "code",
   "execution_count": 110,
   "id": "53d421d8",
   "metadata": {},
   "outputs": [],
   "source": [
    "with open('/Users/butler/Documents/hp/Retrieval_of_Indian_clothing_images/data/raw/indian_clothing/valx64', 'w') as fp:   \n",
    "    pickle.dump(arrs_val, fp)"
   ]
  },
  {
   "cell_type": "code",
   "execution_count": 30,
   "id": "4022f995",
   "metadata": {},
   "outputs": [],
   "source": [
    "df_train = pd.read_json('/Users/butler/Documents/hp/Retrieval_of_Indian_clothing_images/data/raw/indian_clothing/train_data.json', lines=True)"
   ]
  },
  {
   "cell_type": "code",
   "execution_count": 31,
   "id": "54c19b9e",
   "metadata": {},
   "outputs": [
    {
     "data": {
      "text/html": [
       "<div>\n",
       "<style scoped>\n",
       "    .dataframe tbody tr th:only-of-type {\n",
       "        vertical-align: middle;\n",
       "    }\n",
       "\n",
       "    .dataframe tbody tr th {\n",
       "        vertical-align: top;\n",
       "    }\n",
       "\n",
       "    .dataframe thead th {\n",
       "        text-align: right;\n",
       "    }\n",
       "</style>\n",
       "<table border=\"1\" class=\"dataframe\">\n",
       "  <thead>\n",
       "    <tr style=\"text-align: right;\">\n",
       "      <th></th>\n",
       "      <th>image_url</th>\n",
       "      <th>image_path</th>\n",
       "      <th>brand</th>\n",
       "      <th>product_title</th>\n",
       "      <th>class_label</th>\n",
       "      <th>color</th>\n",
       "    </tr>\n",
       "  </thead>\n",
       "  <tbody>\n",
       "    <tr>\n",
       "      <th>0</th>\n",
       "      <td>https://m.media-amazon.com/images/I/81XKaSKvly...</td>\n",
       "      <td>images/train/0.jpeg</td>\n",
       "      <td>Womanista</td>\n",
       "      <td>Women's Georgette Saree with Blouse Piece (TKI...</td>\n",
       "      <td>saree</td>\n",
       "      <td>NaN</td>\n",
       "    </tr>\n",
       "    <tr>\n",
       "      <th>1</th>\n",
       "      <td>https://m.media-amazon.com/images/I/91dDMDg+QT...</td>\n",
       "      <td>images/train/1.jpeg</td>\n",
       "      <td>Yashika</td>\n",
       "      <td>Women Linen Printed Sarees Free Size (BEE)</td>\n",
       "      <td>saree</td>\n",
       "      <td>NaN</td>\n",
       "    </tr>\n",
       "    <tr>\n",
       "      <th>2</th>\n",
       "      <td>https://m.media-amazon.com/images/I/71TJ9p46PV...</td>\n",
       "      <td>images/train/2.jpeg</td>\n",
       "      <td>Womanista</td>\n",
       "      <td>Organza Floral Print Saree with Blouse Piece(W...</td>\n",
       "      <td>saree</td>\n",
       "      <td>NaN</td>\n",
       "    </tr>\n",
       "    <tr>\n",
       "      <th>3</th>\n",
       "      <td>https://m.media-amazon.com/images/I/81Y+je7CEg...</td>\n",
       "      <td>images/train/3.jpeg</td>\n",
       "      <td>PERFECTBLUE</td>\n",
       "      <td>Women's Digital Cotton Linen Blend Saree with ...</td>\n",
       "      <td>saree</td>\n",
       "      <td>NaN</td>\n",
       "    </tr>\n",
       "    <tr>\n",
       "      <th>4</th>\n",
       "      <td>https://m.media-amazon.com/images/I/61B8o9Ulqp...</td>\n",
       "      <td>images/train/4.jpeg</td>\n",
       "      <td>VAIVIDHYAM</td>\n",
       "      <td>Designer Sarees Women's Banarasi Cotton Silk S...</td>\n",
       "      <td>saree</td>\n",
       "      <td>NaN</td>\n",
       "    </tr>\n",
       "  </tbody>\n",
       "</table>\n",
       "</div>"
      ],
      "text/plain": [
       "                                           image_url           image_path  \\\n",
       "0  https://m.media-amazon.com/images/I/81XKaSKvly...  images/train/0.jpeg   \n",
       "1  https://m.media-amazon.com/images/I/91dDMDg+QT...  images/train/1.jpeg   \n",
       "2  https://m.media-amazon.com/images/I/71TJ9p46PV...  images/train/2.jpeg   \n",
       "3  https://m.media-amazon.com/images/I/81Y+je7CEg...  images/train/3.jpeg   \n",
       "4  https://m.media-amazon.com/images/I/61B8o9Ulqp...  images/train/4.jpeg   \n",
       "\n",
       "         brand                                      product_title class_label  \\\n",
       "0    Womanista  Women's Georgette Saree with Blouse Piece (TKI...       saree   \n",
       "1      Yashika         Women Linen Printed Sarees Free Size (BEE)       saree   \n",
       "2    Womanista  Organza Floral Print Saree with Blouse Piece(W...       saree   \n",
       "3  PERFECTBLUE  Women's Digital Cotton Linen Blend Saree with ...       saree   \n",
       "4   VAIVIDHYAM  Designer Sarees Women's Banarasi Cotton Silk S...       saree   \n",
       "\n",
       "  color  \n",
       "0   NaN  \n",
       "1   NaN  \n",
       "2   NaN  \n",
       "3   NaN  \n",
       "4   NaN  "
      ]
     },
     "execution_count": 31,
     "metadata": {},
     "output_type": "execute_result"
    }
   ],
   "source": [
    "df_train.head()"
   ]
  },
  {
   "cell_type": "code",
   "execution_count": 32,
   "id": "2e054b3b",
   "metadata": {},
   "outputs": [
    {
     "data": {
      "text/html": [
       "<div>\n",
       "<style scoped>\n",
       "    .dataframe tbody tr th:only-of-type {\n",
       "        vertical-align: middle;\n",
       "    }\n",
       "\n",
       "    .dataframe tbody tr th {\n",
       "        vertical-align: top;\n",
       "    }\n",
       "\n",
       "    .dataframe thead th {\n",
       "        text-align: right;\n",
       "    }\n",
       "</style>\n",
       "<table border=\"1\" class=\"dataframe\">\n",
       "  <thead>\n",
       "    <tr style=\"text-align: right;\">\n",
       "      <th></th>\n",
       "      <th>image_path</th>\n",
       "      <th>class_label</th>\n",
       "    </tr>\n",
       "  </thead>\n",
       "  <tbody>\n",
       "    <tr>\n",
       "      <th>0</th>\n",
       "      <td>images/train/0.jpeg</td>\n",
       "      <td>saree</td>\n",
       "    </tr>\n",
       "    <tr>\n",
       "      <th>1</th>\n",
       "      <td>images/train/1.jpeg</td>\n",
       "      <td>saree</td>\n",
       "    </tr>\n",
       "    <tr>\n",
       "      <th>2</th>\n",
       "      <td>images/train/2.jpeg</td>\n",
       "      <td>saree</td>\n",
       "    </tr>\n",
       "    <tr>\n",
       "      <th>3</th>\n",
       "      <td>images/train/3.jpeg</td>\n",
       "      <td>saree</td>\n",
       "    </tr>\n",
       "    <tr>\n",
       "      <th>4</th>\n",
       "      <td>images/train/4.jpeg</td>\n",
       "      <td>saree</td>\n",
       "    </tr>\n",
       "  </tbody>\n",
       "</table>\n",
       "</div>"
      ],
      "text/plain": [
       "            image_path class_label\n",
       "0  images/train/0.jpeg       saree\n",
       "1  images/train/1.jpeg       saree\n",
       "2  images/train/2.jpeg       saree\n",
       "3  images/train/3.jpeg       saree\n",
       "4  images/train/4.jpeg       saree"
      ]
     },
     "execution_count": 32,
     "metadata": {},
     "output_type": "execute_result"
    }
   ],
   "source": [
    "df_train.drop(['image_url', 'brand', 'product_title', 'color'], axis=1, inplace=True)\n",
    "df_train.head()"
   ]
  },
  {
   "cell_type": "code",
   "execution_count": 33,
   "id": "2d19594a",
   "metadata": {},
   "outputs": [
    {
     "data": {
      "text/html": [
       "<div>\n",
       "<style scoped>\n",
       "    .dataframe tbody tr th:only-of-type {\n",
       "        vertical-align: middle;\n",
       "    }\n",
       "\n",
       "    .dataframe tbody tr th {\n",
       "        vertical-align: top;\n",
       "    }\n",
       "\n",
       "    .dataframe thead th {\n",
       "        text-align: right;\n",
       "    }\n",
       "</style>\n",
       "<table border=\"1\" class=\"dataframe\">\n",
       "  <thead>\n",
       "    <tr style=\"text-align: right;\">\n",
       "      <th></th>\n",
       "      <th>image_path</th>\n",
       "      <th>class_label</th>\n",
       "    </tr>\n",
       "  </thead>\n",
       "  <tbody>\n",
       "    <tr>\n",
       "      <th>0</th>\n",
       "      <td>images/test/0.jpeg</td>\n",
       "      <td>saree</td>\n",
       "    </tr>\n",
       "    <tr>\n",
       "      <th>1</th>\n",
       "      <td>images/test/1.jpeg</td>\n",
       "      <td>saree</td>\n",
       "    </tr>\n",
       "    <tr>\n",
       "      <th>2</th>\n",
       "      <td>images/test/2.jpeg</td>\n",
       "      <td>saree</td>\n",
       "    </tr>\n",
       "    <tr>\n",
       "      <th>3</th>\n",
       "      <td>images/test/3.jpeg</td>\n",
       "      <td>saree</td>\n",
       "    </tr>\n",
       "    <tr>\n",
       "      <th>4</th>\n",
       "      <td>images/test/4.jpeg</td>\n",
       "      <td>saree</td>\n",
       "    </tr>\n",
       "  </tbody>\n",
       "</table>\n",
       "</div>"
      ],
      "text/plain": [
       "           image_path class_label\n",
       "0  images/test/0.jpeg       saree\n",
       "1  images/test/1.jpeg       saree\n",
       "2  images/test/2.jpeg       saree\n",
       "3  images/test/3.jpeg       saree\n",
       "4  images/test/4.jpeg       saree"
      ]
     },
     "execution_count": 33,
     "metadata": {},
     "output_type": "execute_result"
    }
   ],
   "source": [
    "df_test = pd.read_json('/Users/butler/Documents/hp/Retrieval_of_Indian_clothing_images/data/raw/indian_clothing/test_data.json', lines=True)\n",
    "df_test.drop(['image_url', 'brand', 'product_title', 'color'], axis=1, inplace=True)\n",
    "df_test.head()"
   ]
  },
  {
   "cell_type": "code",
   "execution_count": 34,
   "id": "b11bb0cf",
   "metadata": {
    "scrolled": true
   },
   "outputs": [
    {
     "data": {
      "text/html": [
       "<div>\n",
       "<style scoped>\n",
       "    .dataframe tbody tr th:only-of-type {\n",
       "        vertical-align: middle;\n",
       "    }\n",
       "\n",
       "    .dataframe tbody tr th {\n",
       "        vertical-align: top;\n",
       "    }\n",
       "\n",
       "    .dataframe thead th {\n",
       "        text-align: right;\n",
       "    }\n",
       "</style>\n",
       "<table border=\"1\" class=\"dataframe\">\n",
       "  <thead>\n",
       "    <tr style=\"text-align: right;\">\n",
       "      <th></th>\n",
       "      <th>image_path</th>\n",
       "      <th>class_label</th>\n",
       "    </tr>\n",
       "  </thead>\n",
       "  <tbody>\n",
       "    <tr>\n",
       "      <th>0</th>\n",
       "      <td>images/val/0.jpeg</td>\n",
       "      <td>saree</td>\n",
       "    </tr>\n",
       "    <tr>\n",
       "      <th>1</th>\n",
       "      <td>images/val/1.jpeg</td>\n",
       "      <td>saree</td>\n",
       "    </tr>\n",
       "    <tr>\n",
       "      <th>2</th>\n",
       "      <td>images/val/2.jpeg</td>\n",
       "      <td>saree</td>\n",
       "    </tr>\n",
       "    <tr>\n",
       "      <th>3</th>\n",
       "      <td>images/val/3.jpeg</td>\n",
       "      <td>saree</td>\n",
       "    </tr>\n",
       "    <tr>\n",
       "      <th>4</th>\n",
       "      <td>images/val/4.jpeg</td>\n",
       "      <td>saree</td>\n",
       "    </tr>\n",
       "  </tbody>\n",
       "</table>\n",
       "</div>"
      ],
      "text/plain": [
       "          image_path class_label\n",
       "0  images/val/0.jpeg       saree\n",
       "1  images/val/1.jpeg       saree\n",
       "2  images/val/2.jpeg       saree\n",
       "3  images/val/3.jpeg       saree\n",
       "4  images/val/4.jpeg       saree"
      ]
     },
     "execution_count": 34,
     "metadata": {},
     "output_type": "execute_result"
    }
   ],
   "source": [
    "df_val = pd.read_json('/Users/butler/Documents/hp/Retrieval_of_Indian_clothing_images/data/raw/indian_clothing/val_data.json', lines=True)\n",
    "df_val.drop(['image_url', 'brand', 'product_title', 'color'], axis=1, inplace=True)\n",
    "df_val.head()"
   ]
  },
  {
   "cell_type": "code",
   "execution_count": 35,
   "id": "bfa8a35f",
   "metadata": {},
   "outputs": [],
   "source": [
    "df_train = pd.get_dummies(data=df_train, columns=['class_label'])"
   ]
  },
  {
   "cell_type": "code",
   "execution_count": 36,
   "id": "ad7ca196",
   "metadata": {},
   "outputs": [],
   "source": [
    "df_test = pd.get_dummies(data=df_test, columns=['class_label'])"
   ]
  },
  {
   "cell_type": "code",
   "execution_count": 37,
   "id": "a6eedfcf",
   "metadata": {},
   "outputs": [],
   "source": [
    "df_val = pd.get_dummies(data=df_val, columns=['class_label'])"
   ]
  },
  {
   "cell_type": "code",
   "execution_count": 38,
   "id": "a87967f5",
   "metadata": {},
   "outputs": [
    {
     "data": {
      "text/html": [
       "<div>\n",
       "<style scoped>\n",
       "    .dataframe tbody tr th:only-of-type {\n",
       "        vertical-align: middle;\n",
       "    }\n",
       "\n",
       "    .dataframe tbody tr th {\n",
       "        vertical-align: top;\n",
       "    }\n",
       "\n",
       "    .dataframe thead th {\n",
       "        text-align: right;\n",
       "    }\n",
       "</style>\n",
       "<table border=\"1\" class=\"dataframe\">\n",
       "  <thead>\n",
       "    <tr style=\"text-align: right;\">\n",
       "      <th></th>\n",
       "      <th>image_path</th>\n",
       "      <th>class_label_blouse</th>\n",
       "      <th>class_label_dhoti_pants</th>\n",
       "      <th>class_label_dupattas</th>\n",
       "      <th>class_label_gowns</th>\n",
       "      <th>class_label_kurta_men</th>\n",
       "      <th>class_label_leggings_and_salwars</th>\n",
       "      <th>class_label_lehenga</th>\n",
       "      <th>class_label_mojaris_men</th>\n",
       "      <th>class_label_mojaris_women</th>\n",
       "      <th>class_label_nehru_jackets</th>\n",
       "      <th>class_label_palazzos</th>\n",
       "      <th>class_label_petticoats</th>\n",
       "      <th>class_label_saree</th>\n",
       "      <th>class_label_sherwanis</th>\n",
       "      <th>class_label_women_kurta</th>\n",
       "    </tr>\n",
       "  </thead>\n",
       "  <tbody>\n",
       "    <tr>\n",
       "      <th>0</th>\n",
       "      <td>images/train/0.jpeg</td>\n",
       "      <td>0</td>\n",
       "      <td>0</td>\n",
       "      <td>0</td>\n",
       "      <td>0</td>\n",
       "      <td>0</td>\n",
       "      <td>0</td>\n",
       "      <td>0</td>\n",
       "      <td>0</td>\n",
       "      <td>0</td>\n",
       "      <td>0</td>\n",
       "      <td>0</td>\n",
       "      <td>0</td>\n",
       "      <td>1</td>\n",
       "      <td>0</td>\n",
       "      <td>0</td>\n",
       "    </tr>\n",
       "    <tr>\n",
       "      <th>1</th>\n",
       "      <td>images/train/1.jpeg</td>\n",
       "      <td>0</td>\n",
       "      <td>0</td>\n",
       "      <td>0</td>\n",
       "      <td>0</td>\n",
       "      <td>0</td>\n",
       "      <td>0</td>\n",
       "      <td>0</td>\n",
       "      <td>0</td>\n",
       "      <td>0</td>\n",
       "      <td>0</td>\n",
       "      <td>0</td>\n",
       "      <td>0</td>\n",
       "      <td>1</td>\n",
       "      <td>0</td>\n",
       "      <td>0</td>\n",
       "    </tr>\n",
       "    <tr>\n",
       "      <th>2</th>\n",
       "      <td>images/train/2.jpeg</td>\n",
       "      <td>0</td>\n",
       "      <td>0</td>\n",
       "      <td>0</td>\n",
       "      <td>0</td>\n",
       "      <td>0</td>\n",
       "      <td>0</td>\n",
       "      <td>0</td>\n",
       "      <td>0</td>\n",
       "      <td>0</td>\n",
       "      <td>0</td>\n",
       "      <td>0</td>\n",
       "      <td>0</td>\n",
       "      <td>1</td>\n",
       "      <td>0</td>\n",
       "      <td>0</td>\n",
       "    </tr>\n",
       "    <tr>\n",
       "      <th>3</th>\n",
       "      <td>images/train/3.jpeg</td>\n",
       "      <td>0</td>\n",
       "      <td>0</td>\n",
       "      <td>0</td>\n",
       "      <td>0</td>\n",
       "      <td>0</td>\n",
       "      <td>0</td>\n",
       "      <td>0</td>\n",
       "      <td>0</td>\n",
       "      <td>0</td>\n",
       "      <td>0</td>\n",
       "      <td>0</td>\n",
       "      <td>0</td>\n",
       "      <td>1</td>\n",
       "      <td>0</td>\n",
       "      <td>0</td>\n",
       "    </tr>\n",
       "    <tr>\n",
       "      <th>4</th>\n",
       "      <td>images/train/4.jpeg</td>\n",
       "      <td>0</td>\n",
       "      <td>0</td>\n",
       "      <td>0</td>\n",
       "      <td>0</td>\n",
       "      <td>0</td>\n",
       "      <td>0</td>\n",
       "      <td>0</td>\n",
       "      <td>0</td>\n",
       "      <td>0</td>\n",
       "      <td>0</td>\n",
       "      <td>0</td>\n",
       "      <td>0</td>\n",
       "      <td>1</td>\n",
       "      <td>0</td>\n",
       "      <td>0</td>\n",
       "    </tr>\n",
       "  </tbody>\n",
       "</table>\n",
       "</div>"
      ],
      "text/plain": [
       "            image_path  class_label_blouse  class_label_dhoti_pants  \\\n",
       "0  images/train/0.jpeg                   0                        0   \n",
       "1  images/train/1.jpeg                   0                        0   \n",
       "2  images/train/2.jpeg                   0                        0   \n",
       "3  images/train/3.jpeg                   0                        0   \n",
       "4  images/train/4.jpeg                   0                        0   \n",
       "\n",
       "   class_label_dupattas  class_label_gowns  class_label_kurta_men  \\\n",
       "0                     0                  0                      0   \n",
       "1                     0                  0                      0   \n",
       "2                     0                  0                      0   \n",
       "3                     0                  0                      0   \n",
       "4                     0                  0                      0   \n",
       "\n",
       "   class_label_leggings_and_salwars  class_label_lehenga  \\\n",
       "0                                 0                    0   \n",
       "1                                 0                    0   \n",
       "2                                 0                    0   \n",
       "3                                 0                    0   \n",
       "4                                 0                    0   \n",
       "\n",
       "   class_label_mojaris_men  class_label_mojaris_women  \\\n",
       "0                        0                          0   \n",
       "1                        0                          0   \n",
       "2                        0                          0   \n",
       "3                        0                          0   \n",
       "4                        0                          0   \n",
       "\n",
       "   class_label_nehru_jackets  class_label_palazzos  class_label_petticoats  \\\n",
       "0                          0                     0                       0   \n",
       "1                          0                     0                       0   \n",
       "2                          0                     0                       0   \n",
       "3                          0                     0                       0   \n",
       "4                          0                     0                       0   \n",
       "\n",
       "   class_label_saree  class_label_sherwanis  class_label_women_kurta  \n",
       "0                  1                      0                        0  \n",
       "1                  1                      0                        0  \n",
       "2                  1                      0                        0  \n",
       "3                  1                      0                        0  \n",
       "4                  1                      0                        0  "
      ]
     },
     "execution_count": 38,
     "metadata": {},
     "output_type": "execute_result"
    }
   ],
   "source": [
    "df_train.head()"
   ]
  },
  {
   "cell_type": "code",
   "execution_count": 39,
   "id": "112d1548",
   "metadata": {},
   "outputs": [],
   "source": [
    "df_train.drop('image_path', axis=1, inplace=True)"
   ]
  },
  {
   "cell_type": "code",
   "execution_count": 40,
   "id": "c4a0be19",
   "metadata": {
    "scrolled": false
   },
   "outputs": [
    {
     "data": {
      "text/html": [
       "<div>\n",
       "<style scoped>\n",
       "    .dataframe tbody tr th:only-of-type {\n",
       "        vertical-align: middle;\n",
       "    }\n",
       "\n",
       "    .dataframe tbody tr th {\n",
       "        vertical-align: top;\n",
       "    }\n",
       "\n",
       "    .dataframe thead th {\n",
       "        text-align: right;\n",
       "    }\n",
       "</style>\n",
       "<table border=\"1\" class=\"dataframe\">\n",
       "  <thead>\n",
       "    <tr style=\"text-align: right;\">\n",
       "      <th></th>\n",
       "      <th>class_label_blouse</th>\n",
       "      <th>class_label_dhoti_pants</th>\n",
       "      <th>class_label_dupattas</th>\n",
       "      <th>class_label_gowns</th>\n",
       "      <th>class_label_kurta_men</th>\n",
       "      <th>class_label_leggings_and_salwars</th>\n",
       "      <th>class_label_lehenga</th>\n",
       "      <th>class_label_mojaris_men</th>\n",
       "      <th>class_label_mojaris_women</th>\n",
       "      <th>class_label_nehru_jackets</th>\n",
       "      <th>class_label_palazzos</th>\n",
       "      <th>class_label_petticoats</th>\n",
       "      <th>class_label_saree</th>\n",
       "      <th>class_label_sherwanis</th>\n",
       "      <th>class_label_women_kurta</th>\n",
       "    </tr>\n",
       "  </thead>\n",
       "  <tbody>\n",
       "    <tr>\n",
       "      <th>0</th>\n",
       "      <td>0</td>\n",
       "      <td>0</td>\n",
       "      <td>0</td>\n",
       "      <td>0</td>\n",
       "      <td>0</td>\n",
       "      <td>0</td>\n",
       "      <td>0</td>\n",
       "      <td>0</td>\n",
       "      <td>0</td>\n",
       "      <td>0</td>\n",
       "      <td>0</td>\n",
       "      <td>0</td>\n",
       "      <td>1</td>\n",
       "      <td>0</td>\n",
       "      <td>0</td>\n",
       "    </tr>\n",
       "    <tr>\n",
       "      <th>1</th>\n",
       "      <td>0</td>\n",
       "      <td>0</td>\n",
       "      <td>0</td>\n",
       "      <td>0</td>\n",
       "      <td>0</td>\n",
       "      <td>0</td>\n",
       "      <td>0</td>\n",
       "      <td>0</td>\n",
       "      <td>0</td>\n",
       "      <td>0</td>\n",
       "      <td>0</td>\n",
       "      <td>0</td>\n",
       "      <td>1</td>\n",
       "      <td>0</td>\n",
       "      <td>0</td>\n",
       "    </tr>\n",
       "    <tr>\n",
       "      <th>2</th>\n",
       "      <td>0</td>\n",
       "      <td>0</td>\n",
       "      <td>0</td>\n",
       "      <td>0</td>\n",
       "      <td>0</td>\n",
       "      <td>0</td>\n",
       "      <td>0</td>\n",
       "      <td>0</td>\n",
       "      <td>0</td>\n",
       "      <td>0</td>\n",
       "      <td>0</td>\n",
       "      <td>0</td>\n",
       "      <td>1</td>\n",
       "      <td>0</td>\n",
       "      <td>0</td>\n",
       "    </tr>\n",
       "    <tr>\n",
       "      <th>3</th>\n",
       "      <td>0</td>\n",
       "      <td>0</td>\n",
       "      <td>0</td>\n",
       "      <td>0</td>\n",
       "      <td>0</td>\n",
       "      <td>0</td>\n",
       "      <td>0</td>\n",
       "      <td>0</td>\n",
       "      <td>0</td>\n",
       "      <td>0</td>\n",
       "      <td>0</td>\n",
       "      <td>0</td>\n",
       "      <td>1</td>\n",
       "      <td>0</td>\n",
       "      <td>0</td>\n",
       "    </tr>\n",
       "    <tr>\n",
       "      <th>4</th>\n",
       "      <td>0</td>\n",
       "      <td>0</td>\n",
       "      <td>0</td>\n",
       "      <td>0</td>\n",
       "      <td>0</td>\n",
       "      <td>0</td>\n",
       "      <td>0</td>\n",
       "      <td>0</td>\n",
       "      <td>0</td>\n",
       "      <td>0</td>\n",
       "      <td>0</td>\n",
       "      <td>0</td>\n",
       "      <td>1</td>\n",
       "      <td>0</td>\n",
       "      <td>0</td>\n",
       "    </tr>\n",
       "  </tbody>\n",
       "</table>\n",
       "</div>"
      ],
      "text/plain": [
       "   class_label_blouse  class_label_dhoti_pants  class_label_dupattas  \\\n",
       "0                   0                        0                     0   \n",
       "1                   0                        0                     0   \n",
       "2                   0                        0                     0   \n",
       "3                   0                        0                     0   \n",
       "4                   0                        0                     0   \n",
       "\n",
       "   class_label_gowns  class_label_kurta_men  class_label_leggings_and_salwars  \\\n",
       "0                  0                      0                                 0   \n",
       "1                  0                      0                                 0   \n",
       "2                  0                      0                                 0   \n",
       "3                  0                      0                                 0   \n",
       "4                  0                      0                                 0   \n",
       "\n",
       "   class_label_lehenga  class_label_mojaris_men  class_label_mojaris_women  \\\n",
       "0                    0                        0                          0   \n",
       "1                    0                        0                          0   \n",
       "2                    0                        0                          0   \n",
       "3                    0                        0                          0   \n",
       "4                    0                        0                          0   \n",
       "\n",
       "   class_label_nehru_jackets  class_label_palazzos  class_label_petticoats  \\\n",
       "0                          0                     0                       0   \n",
       "1                          0                     0                       0   \n",
       "2                          0                     0                       0   \n",
       "3                          0                     0                       0   \n",
       "4                          0                     0                       0   \n",
       "\n",
       "   class_label_saree  class_label_sherwanis  class_label_women_kurta  \n",
       "0                  1                      0                        0  \n",
       "1                  1                      0                        0  \n",
       "2                  1                      0                        0  \n",
       "3                  1                      0                        0  \n",
       "4                  1                      0                        0  "
      ]
     },
     "execution_count": 40,
     "metadata": {},
     "output_type": "execute_result"
    }
   ],
   "source": [
    "df_train.head()"
   ]
  },
  {
   "cell_type": "code",
   "execution_count": 41,
   "id": "15826344",
   "metadata": {},
   "outputs": [],
   "source": [
    "df_test.drop('image_path', axis=1, inplace=True)"
   ]
  },
  {
   "cell_type": "code",
   "execution_count": 42,
   "id": "11b8189f",
   "metadata": {
    "scrolled": true
   },
   "outputs": [
    {
     "data": {
      "text/html": [
       "<div>\n",
       "<style scoped>\n",
       "    .dataframe tbody tr th:only-of-type {\n",
       "        vertical-align: middle;\n",
       "    }\n",
       "\n",
       "    .dataframe tbody tr th {\n",
       "        vertical-align: top;\n",
       "    }\n",
       "\n",
       "    .dataframe thead th {\n",
       "        text-align: right;\n",
       "    }\n",
       "</style>\n",
       "<table border=\"1\" class=\"dataframe\">\n",
       "  <thead>\n",
       "    <tr style=\"text-align: right;\">\n",
       "      <th></th>\n",
       "      <th>class_label_blouse</th>\n",
       "      <th>class_label_dhoti_pants</th>\n",
       "      <th>class_label_dupattas</th>\n",
       "      <th>class_label_gowns</th>\n",
       "      <th>class_label_kurta_men</th>\n",
       "      <th>class_label_leggings_and_salwars</th>\n",
       "      <th>class_label_lehenga</th>\n",
       "      <th>class_label_mojaris_men</th>\n",
       "      <th>class_label_mojaris_women</th>\n",
       "      <th>class_label_nehru_jackets</th>\n",
       "      <th>class_label_palazzos</th>\n",
       "      <th>class_label_petticoats</th>\n",
       "      <th>class_label_saree</th>\n",
       "      <th>class_label_sherwanis</th>\n",
       "      <th>class_label_women_kurta</th>\n",
       "    </tr>\n",
       "  </thead>\n",
       "  <tbody>\n",
       "    <tr>\n",
       "      <th>0</th>\n",
       "      <td>0</td>\n",
       "      <td>0</td>\n",
       "      <td>0</td>\n",
       "      <td>0</td>\n",
       "      <td>0</td>\n",
       "      <td>0</td>\n",
       "      <td>0</td>\n",
       "      <td>0</td>\n",
       "      <td>0</td>\n",
       "      <td>0</td>\n",
       "      <td>0</td>\n",
       "      <td>0</td>\n",
       "      <td>1</td>\n",
       "      <td>0</td>\n",
       "      <td>0</td>\n",
       "    </tr>\n",
       "    <tr>\n",
       "      <th>1</th>\n",
       "      <td>0</td>\n",
       "      <td>0</td>\n",
       "      <td>0</td>\n",
       "      <td>0</td>\n",
       "      <td>0</td>\n",
       "      <td>0</td>\n",
       "      <td>0</td>\n",
       "      <td>0</td>\n",
       "      <td>0</td>\n",
       "      <td>0</td>\n",
       "      <td>0</td>\n",
       "      <td>0</td>\n",
       "      <td>1</td>\n",
       "      <td>0</td>\n",
       "      <td>0</td>\n",
       "    </tr>\n",
       "    <tr>\n",
       "      <th>2</th>\n",
       "      <td>0</td>\n",
       "      <td>0</td>\n",
       "      <td>0</td>\n",
       "      <td>0</td>\n",
       "      <td>0</td>\n",
       "      <td>0</td>\n",
       "      <td>0</td>\n",
       "      <td>0</td>\n",
       "      <td>0</td>\n",
       "      <td>0</td>\n",
       "      <td>0</td>\n",
       "      <td>0</td>\n",
       "      <td>1</td>\n",
       "      <td>0</td>\n",
       "      <td>0</td>\n",
       "    </tr>\n",
       "    <tr>\n",
       "      <th>3</th>\n",
       "      <td>0</td>\n",
       "      <td>0</td>\n",
       "      <td>0</td>\n",
       "      <td>0</td>\n",
       "      <td>0</td>\n",
       "      <td>0</td>\n",
       "      <td>0</td>\n",
       "      <td>0</td>\n",
       "      <td>0</td>\n",
       "      <td>0</td>\n",
       "      <td>0</td>\n",
       "      <td>0</td>\n",
       "      <td>1</td>\n",
       "      <td>0</td>\n",
       "      <td>0</td>\n",
       "    </tr>\n",
       "    <tr>\n",
       "      <th>4</th>\n",
       "      <td>0</td>\n",
       "      <td>0</td>\n",
       "      <td>0</td>\n",
       "      <td>0</td>\n",
       "      <td>0</td>\n",
       "      <td>0</td>\n",
       "      <td>0</td>\n",
       "      <td>0</td>\n",
       "      <td>0</td>\n",
       "      <td>0</td>\n",
       "      <td>0</td>\n",
       "      <td>0</td>\n",
       "      <td>1</td>\n",
       "      <td>0</td>\n",
       "      <td>0</td>\n",
       "    </tr>\n",
       "  </tbody>\n",
       "</table>\n",
       "</div>"
      ],
      "text/plain": [
       "   class_label_blouse  class_label_dhoti_pants  class_label_dupattas  \\\n",
       "0                   0                        0                     0   \n",
       "1                   0                        0                     0   \n",
       "2                   0                        0                     0   \n",
       "3                   0                        0                     0   \n",
       "4                   0                        0                     0   \n",
       "\n",
       "   class_label_gowns  class_label_kurta_men  class_label_leggings_and_salwars  \\\n",
       "0                  0                      0                                 0   \n",
       "1                  0                      0                                 0   \n",
       "2                  0                      0                                 0   \n",
       "3                  0                      0                                 0   \n",
       "4                  0                      0                                 0   \n",
       "\n",
       "   class_label_lehenga  class_label_mojaris_men  class_label_mojaris_women  \\\n",
       "0                    0                        0                          0   \n",
       "1                    0                        0                          0   \n",
       "2                    0                        0                          0   \n",
       "3                    0                        0                          0   \n",
       "4                    0                        0                          0   \n",
       "\n",
       "   class_label_nehru_jackets  class_label_palazzos  class_label_petticoats  \\\n",
       "0                          0                     0                       0   \n",
       "1                          0                     0                       0   \n",
       "2                          0                     0                       0   \n",
       "3                          0                     0                       0   \n",
       "4                          0                     0                       0   \n",
       "\n",
       "   class_label_saree  class_label_sherwanis  class_label_women_kurta  \n",
       "0                  1                      0                        0  \n",
       "1                  1                      0                        0  \n",
       "2                  1                      0                        0  \n",
       "3                  1                      0                        0  \n",
       "4                  1                      0                        0  "
      ]
     },
     "execution_count": 42,
     "metadata": {},
     "output_type": "execute_result"
    }
   ],
   "source": [
    "df_test.head()"
   ]
  },
  {
   "cell_type": "code",
   "execution_count": 43,
   "id": "d5370fdf",
   "metadata": {},
   "outputs": [],
   "source": [
    "df_val.drop('image_path', axis=1, inplace=True)"
   ]
  },
  {
   "cell_type": "code",
   "execution_count": 44,
   "id": "94077e11",
   "metadata": {
    "scrolled": true
   },
   "outputs": [
    {
     "data": {
      "text/html": [
       "<div>\n",
       "<style scoped>\n",
       "    .dataframe tbody tr th:only-of-type {\n",
       "        vertical-align: middle;\n",
       "    }\n",
       "\n",
       "    .dataframe tbody tr th {\n",
       "        vertical-align: top;\n",
       "    }\n",
       "\n",
       "    .dataframe thead th {\n",
       "        text-align: right;\n",
       "    }\n",
       "</style>\n",
       "<table border=\"1\" class=\"dataframe\">\n",
       "  <thead>\n",
       "    <tr style=\"text-align: right;\">\n",
       "      <th></th>\n",
       "      <th>class_label_blouse</th>\n",
       "      <th>class_label_dhoti_pants</th>\n",
       "      <th>class_label_dupattas</th>\n",
       "      <th>class_label_gowns</th>\n",
       "      <th>class_label_kurta_men</th>\n",
       "      <th>class_label_leggings_and_salwars</th>\n",
       "      <th>class_label_lehenga</th>\n",
       "      <th>class_label_mojaris_men</th>\n",
       "      <th>class_label_mojaris_women</th>\n",
       "      <th>class_label_nehru_jackets</th>\n",
       "      <th>class_label_palazzos</th>\n",
       "      <th>class_label_petticoats</th>\n",
       "      <th>class_label_saree</th>\n",
       "      <th>class_label_sherwanis</th>\n",
       "      <th>class_label_women_kurta</th>\n",
       "    </tr>\n",
       "  </thead>\n",
       "  <tbody>\n",
       "    <tr>\n",
       "      <th>0</th>\n",
       "      <td>0</td>\n",
       "      <td>0</td>\n",
       "      <td>0</td>\n",
       "      <td>0</td>\n",
       "      <td>0</td>\n",
       "      <td>0</td>\n",
       "      <td>0</td>\n",
       "      <td>0</td>\n",
       "      <td>0</td>\n",
       "      <td>0</td>\n",
       "      <td>0</td>\n",
       "      <td>0</td>\n",
       "      <td>1</td>\n",
       "      <td>0</td>\n",
       "      <td>0</td>\n",
       "    </tr>\n",
       "    <tr>\n",
       "      <th>1</th>\n",
       "      <td>0</td>\n",
       "      <td>0</td>\n",
       "      <td>0</td>\n",
       "      <td>0</td>\n",
       "      <td>0</td>\n",
       "      <td>0</td>\n",
       "      <td>0</td>\n",
       "      <td>0</td>\n",
       "      <td>0</td>\n",
       "      <td>0</td>\n",
       "      <td>0</td>\n",
       "      <td>0</td>\n",
       "      <td>1</td>\n",
       "      <td>0</td>\n",
       "      <td>0</td>\n",
       "    </tr>\n",
       "    <tr>\n",
       "      <th>2</th>\n",
       "      <td>0</td>\n",
       "      <td>0</td>\n",
       "      <td>0</td>\n",
       "      <td>0</td>\n",
       "      <td>0</td>\n",
       "      <td>0</td>\n",
       "      <td>0</td>\n",
       "      <td>0</td>\n",
       "      <td>0</td>\n",
       "      <td>0</td>\n",
       "      <td>0</td>\n",
       "      <td>0</td>\n",
       "      <td>1</td>\n",
       "      <td>0</td>\n",
       "      <td>0</td>\n",
       "    </tr>\n",
       "    <tr>\n",
       "      <th>3</th>\n",
       "      <td>0</td>\n",
       "      <td>0</td>\n",
       "      <td>0</td>\n",
       "      <td>0</td>\n",
       "      <td>0</td>\n",
       "      <td>0</td>\n",
       "      <td>0</td>\n",
       "      <td>0</td>\n",
       "      <td>0</td>\n",
       "      <td>0</td>\n",
       "      <td>0</td>\n",
       "      <td>0</td>\n",
       "      <td>1</td>\n",
       "      <td>0</td>\n",
       "      <td>0</td>\n",
       "    </tr>\n",
       "    <tr>\n",
       "      <th>4</th>\n",
       "      <td>0</td>\n",
       "      <td>0</td>\n",
       "      <td>0</td>\n",
       "      <td>0</td>\n",
       "      <td>0</td>\n",
       "      <td>0</td>\n",
       "      <td>0</td>\n",
       "      <td>0</td>\n",
       "      <td>0</td>\n",
       "      <td>0</td>\n",
       "      <td>0</td>\n",
       "      <td>0</td>\n",
       "      <td>1</td>\n",
       "      <td>0</td>\n",
       "      <td>0</td>\n",
       "    </tr>\n",
       "  </tbody>\n",
       "</table>\n",
       "</div>"
      ],
      "text/plain": [
       "   class_label_blouse  class_label_dhoti_pants  class_label_dupattas  \\\n",
       "0                   0                        0                     0   \n",
       "1                   0                        0                     0   \n",
       "2                   0                        0                     0   \n",
       "3                   0                        0                     0   \n",
       "4                   0                        0                     0   \n",
       "\n",
       "   class_label_gowns  class_label_kurta_men  class_label_leggings_and_salwars  \\\n",
       "0                  0                      0                                 0   \n",
       "1                  0                      0                                 0   \n",
       "2                  0                      0                                 0   \n",
       "3                  0                      0                                 0   \n",
       "4                  0                      0                                 0   \n",
       "\n",
       "   class_label_lehenga  class_label_mojaris_men  class_label_mojaris_women  \\\n",
       "0                    0                        0                          0   \n",
       "1                    0                        0                          0   \n",
       "2                    0                        0                          0   \n",
       "3                    0                        0                          0   \n",
       "4                    0                        0                          0   \n",
       "\n",
       "   class_label_nehru_jackets  class_label_palazzos  class_label_petticoats  \\\n",
       "0                          0                     0                       0   \n",
       "1                          0                     0                       0   \n",
       "2                          0                     0                       0   \n",
       "3                          0                     0                       0   \n",
       "4                          0                     0                       0   \n",
       "\n",
       "   class_label_saree  class_label_sherwanis  class_label_women_kurta  \n",
       "0                  1                      0                        0  \n",
       "1                  1                      0                        0  \n",
       "2                  1                      0                        0  \n",
       "3                  1                      0                        0  \n",
       "4                  1                      0                        0  "
      ]
     },
     "execution_count": 44,
     "metadata": {},
     "output_type": "execute_result"
    }
   ],
   "source": [
    "df_val.head()"
   ]
  },
  {
   "cell_type": "code",
   "execution_count": 45,
   "id": "d7bd2af4",
   "metadata": {},
   "outputs": [],
   "source": [
    "df_train.to_csv('/Users/butler/Documents/hp/Retrieval_of_Indian_clothing_images/data/raw/indian_clothing/trainy.csv')"
   ]
  },
  {
   "cell_type": "code",
   "execution_count": 46,
   "id": "e8774d68",
   "metadata": {},
   "outputs": [],
   "source": [
    "df_test.to_csv('/Users/butler/Documents/hp/Retrieval_of_Indian_clothing_images/data/raw/indian_clothing/testy.csv')"
   ]
  },
  {
   "cell_type": "code",
   "execution_count": 47,
   "id": "9ca7f832",
   "metadata": {},
   "outputs": [],
   "source": [
    "df_val.to_csv('/Users/butler/Documents/hp/Retrieval_of_Indian_clothing_images/data/raw/indian_clothing/valy.csv')"
   ]
  },
  {
   "cell_type": "code",
   "execution_count": 173,
   "id": "fe754b64",
   "metadata": {},
   "outputs": [],
   "source": [
    "#df_y.to_csv('/Users/butler/Documents/hp/Retrieval_of_Indian_clothing_images/data/processed/y_labels.csv')"
   ]
  },
  {
   "cell_type": "code",
   "execution_count": null,
   "id": "c50e029b",
   "metadata": {},
   "outputs": [],
   "source": []
  },
  {
   "cell_type": "code",
   "execution_count": 177,
   "id": "974e53d2",
   "metadata": {
    "scrolled": true
   },
   "outputs": [
    {
     "data": {
      "image/png": "[encoded data removed]",
      "text/plain": [
       "<Figure size 3000x2000 with 15 Axes>"
      ]
     },
     "metadata": {},
     "output_type": "display_data"
    }
   ],
   "source": [
    "# Show some random training and test images \n",
    "\n",
    "images_2_show = []\n",
    "titles_2_show = []\n",
    "for i in range(0, 10):\n",
    "    r = random.randint(1, 90000)\n",
    "    images_2_show.append(resized_imgs_train[r])\n",
    "    titles_2_show.append('training image [' + str(r) + '] = ' + str(df_y.iloc[r, 0]))    \n",
    "\n",
    "for i in range(0, 5):\n",
    "    r = random.randint(1, 750)\n",
    "    images_2_show.append(resized_imgs_val[r])        \n",
    "    titles_2_show.append('val image [' + str(r) + '] = ' + str(df_y.iloc[r, 2]))    \n",
    "\n",
    "plt.figure(figsize=(30,20))\n",
    " \n",
    "for x in range(len(images_2_show)):        \n",
    "        image = images_2_show[x]        \n",
    "        title_text = titles_2_show[x]\n",
    "        plt.subplot(3, 5, x+1)        \n",
    "        plt.imshow(image)\n",
    "      \n",
    "        plt.title(title_text, fontsize = 15);        \n",
    "        "
   ]
  },
  {
   "cell_type": "code",
   "execution_count": 213,
   "id": "769791f0",
   "metadata": {},
   "outputs": [],
   "source": [
    "arrs_train = np.array(arrs_train)\n",
    "arrs_val = np.array(arrs_val)"
   ]
  },
  {
   "cell_type": "code",
   "execution_count": 216,
   "id": "2d796f47",
   "metadata": {},
   "outputs": [],
   "source": [
    "input_shape = (32, 23, 3)\n",
    "arrs_train = arrs_train.reshape(arrs_train.shape[0], arrs_train.shape[1], arrs_train.shape[2], 3)\n",
    "\n",
    "arrs_val = arrs_val.reshape(arrs_val.shape[0], arrs_val.shape[1], arrs_val.shape[2], 3)\n"
   ]
  },
  {
   "cell_type": "code",
   "execution_count": 217,
   "id": "173f0191",
   "metadata": {},
   "outputs": [
    {
     "data": {
      "text/plain": [
       "pandas.core.series.Series"
      ]
     },
     "execution_count": 217,
     "metadata": {},
     "output_type": "execute_result"
    }
   ],
   "source": [
    "y_train = df_y['train']\n",
    "y_val = df_y['val']\n",
    "type(y_val)"
   ]
  },
  {
   "cell_type": "code",
   "execution_count": 218,
   "id": "06fe4c50",
   "metadata": {},
   "outputs": [],
   "source": [
    "y_train = y_train.to_numpy()\n",
    "y_val = y_val.to_numpy()"
   ]
  },
  {
   "cell_type": "code",
   "execution_count": null,
   "id": "78fd9dda",
   "metadata": {},
   "outputs": [],
   "source": []
  }
 ],
 "metadata": {
  "kernelspec": {
   "display_name": "Python 3 (ipykernel)",
   "language": "python",
   "name": "python3"
  },
  "language_info": {
   "codemirror_mode": {
    "name": "ipython",
    "version": 3
   },
   "file_extension": ".py",
   "mimetype": "text/x-python",
   "name": "python",
   "nbconvert_exporter": "python",
   "pygments_lexer": "ipython3",
   "version": "3.11.5"
  }
 },
 "nbformat": 4,
 "nbformat_minor": 5
}
