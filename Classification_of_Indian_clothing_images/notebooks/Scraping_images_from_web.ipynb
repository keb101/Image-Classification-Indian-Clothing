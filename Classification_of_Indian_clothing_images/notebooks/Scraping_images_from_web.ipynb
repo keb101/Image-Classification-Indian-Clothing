{
 "cells": [
  {
   "cell_type": "code",
   "execution_count": 1,
   "id": "5d69a779",
   "metadata": {},
   "outputs": [],
   "source": [
    "import pandas as pd\n",
    "import numpy as np\n",
    "import seaborn as sns\n",
    "import matplotlib.pyplot as plt\n",
    "import imageio.v2 as imageio\n",
    "import cv2\n",
    "import glob\n",
    "from skimage import color\n",
    "from bs4 import BeautifulSoup\n",
    "import requests"
   ]
  },
  {
   "cell_type": "code",
   "execution_count": null,
   "id": "f41f7e3b",
   "metadata": {},
   "outputs": [],
   "source": [
    "#url_mens_kurta_list = ['https://www.tjori.com/collections/men-kurta-pyjama'], 'https://suta.in/collections/kurtas-1', \\\n",
    "                        #'https://www.jaypore.com/search?q=&_category_level_2=Clothing&_category_level_3=Men&_category_level_4=Kurtas&orderBy=-searchpos', \\\n",
    "                        #'https://www.mirraw.com/men/clothing/kurtas' ]\n",
    "url_mens_kurta_list = ['https://www.utsavfashion.com/men/kurta?p=16']\n",
    "\n",
    "\n",
    "for i in range(17, 40):\n",
    "    url = f'https://www.utsavfashion.com/men/kurta?p={i}'\n",
    "    url_mens_kurta_list.append(url)"
   ]
  },
  {
   "cell_type": "code",
   "execution_count": null,
   "id": "5b895efe",
   "metadata": {},
   "outputs": [],
   "source": [
    "url_mens_kurta_list = ['https://www.mirraw.com/men/islamic-clothing/kurta-pajama']\n",
    "\n",
    "#for i in range(40, 160, 40):\n",
    "    #url = f'https://www.karmaplace.com/search?options%5Bunavailable_products%5D=hide&page={i}&q=mens%2A+kurtas%2A&type=product'\n",
    "    #url_mens_kurta_list.append(url)\n"
   ]
  },
  {
   "cell_type": "code",
   "execution_count": null,
   "id": "156fdeae",
   "metadata": {},
   "outputs": [],
   "source": [
    "url_sarees_list = ['https://suta.in/collections/saree']\n",
    "\n",
    "for i in range(2, 30):\n",
    "    url = f'https://suta.in/collections/saree?p={i}'\n",
    "    url_sarees_list.append(url)"
   ]
  },
  {
   "cell_type": "code",
   "execution_count": null,
   "id": "2d35ff8f",
   "metadata": {},
   "outputs": [],
   "source": [
    "url_sarees_list = ['https://www.mirraw.com/search?utf8=✓&q=saree']\n",
    "\n",
    "for i in range(2, 50):\n",
    "    url = f'https://www.mirraw.com/search?page={i}&q=saree&utf8=✓'\n",
    "    url_sarees_list.append(url)"
   ]
  },
  {
   "cell_type": "code",
   "execution_count": null,
   "id": "1cb54d6d",
   "metadata": {},
   "outputs": [],
   "source": [
    "url_sarees_list = ['https://www.utsavfashion.com/saree']\n",
    "\n",
    "for i in range(2, 50):\n",
    "    url = f'https://www.utsavfashion.com/saree?p={i}'\n",
    "    url_sarees_list.append(url)"
   ]
  },
  {
   "cell_type": "code",
   "execution_count": null,
   "id": "cd139f11",
   "metadata": {},
   "outputs": [],
   "source": [
    "url_sarees_list = ['https://www.flipkart.com/search?q=saree&otracker=search&otracker1=search&marketplace=FLIPKART&as-show=on&as=off']\n",
    "\n",
    "for i in range(2, 50):\n",
    "    url = f'https://www.flipkart.com/search?q=saree&otracker=search&otracker1=search&marketplace=FLIPKART&as-show=on&as=off&page={i}'\n",
    "    url_sarees_list.append(url)"
   ]
  },
  {
   "cell_type": "code",
   "execution_count": null,
   "id": "825a2a02",
   "metadata": {
    "scrolled": true
   },
   "outputs": [],
   "source": [
    "url_lehenga_list = ['https://www.flipkart.com/search?q=lehenga&otracker=search&otracker1=search&marketplace=FLIPKART&as-show=on&as=off']\n",
    "\n",
    "for i in range(2, 50):\n",
    "    url = f'https://www.flipkart.com/search?q=lehenga&otracker=search&otracker1=search&marketplace=FLIPKART&as-show=on&as=off&page={i}'\n",
    "    url_lehenga_list.append(url)"
   ]
  },
  {
   "cell_type": "code",
   "execution_count": null,
   "id": "f08993e3",
   "metadata": {},
   "outputs": [],
   "source": [
    "url_lehenga_list = ['https://www.utsavfashion.com/lehenga']\n",
    "\n",
    "for i in range(2, 50):\n",
    "    url = f'https://www.utsavfashion.com/lehenga?p={i}'\n",
    "    url_lehenga_list.append(url)"
   ]
  },
  {
   "cell_type": "code",
   "execution_count": null,
   "id": "7f4be18e",
   "metadata": {},
   "outputs": [],
   "source": [
    "https://suta.in/pages/searchtap-search?q=lehenga"
   ]
  },
  {
   "cell_type": "code",
   "execution_count": null,
   "id": "0f60a7b9",
   "metadata": {},
   "outputs": [],
   "source": [
    "https://www.flipkart.com/search?q=lehenga&otracker=search&otracker1=search&marketplace=FLIPKART&as-show=on&as=off"
   ]
  },
  {
   "cell_type": "code",
   "execution_count": null,
   "id": "6b7dcf20",
   "metadata": {},
   "outputs": [],
   "source": [
    "url_women_kurta_list = ['https://www.karmaplace.com/search?type=product&q=Womens*+kurtas*&options%5Bunavailable_products%5D=hide']\n",
    "\n",
    "for i in range(2, 50):\n",
    "    url = f'https://www.karmaplace.com/search?options%5Bunavailable_products%5D=hide&page={i}&q=Womens%2A+kurtas%2A&type=product'\n",
    "    url_women_kurta_list.append(url)\n",
    "\n",
    "\n"
   ]
  },
  {
   "cell_type": "code",
   "execution_count": null,
   "id": "74f5460e",
   "metadata": {},
   "outputs": [],
   "source": [
    "url_mojaris_women_list = ['https://www.needledust.com/collections/mojari-for-women']\n",
    "\n",
    "for i in range(2, 4):\n",
    "    url = f'https://www.needledust.com/collections/mojari-for-women?page={i}'\n",
    "    url_mojaris_women_list.append(url)"
   ]
  },
  {
   "cell_type": "code",
   "execution_count": null,
   "id": "9ac0928d",
   "metadata": {},
   "outputs": [],
   "source": [
    "url_mojaris_men_list = ['https://www.flipkart.com/search?q=mojari+for+men&sid=osp%2Ccil&as=on&as-show=on&otracker=AS_QueryStore_OrganicAutoSuggest_1_6_na_na_na&otracker1=AS_QueryStore_OrganicAutoSuggest_1_6_na_na_na&as-pos=1&as-type=RECENT&suggestionId=mojari+for+men%7CMen%27s+Footwear&requestId=9ffb5bbb-4db9-4f71-a6b5-5243c996a415&as-searchtext=mojari%20for%20men']\n",
    "for i in range(2, 4):\n",
    "    url = f'https://www.flipkart.com/search?q=mojari+for+men&sid=osp%2Ccil&as=on&as-show=on&otracker=AS_QueryStore_OrganicAutoSuggest_1_6_na_na_na&otracker1=AS_QueryStore_OrganicAutoSuggest_1_6_na_na_na&as-pos=1&as-type=RECENT&suggestionId=mojari+for+men%7CMen%27s+Footwear&requestId=9ffb5bbb-4db9-4f71-a6b5-5243c996a415&as-searchtext=mojari+for+men&page={i}'\n",
    "    url_mojaris_men_list.append(url)"
   ]
  },
  {
   "cell_type": "code",
   "execution_count": null,
   "id": "dab9e9b7",
   "metadata": {},
   "outputs": [],
   "source": [
    "url_gowns_list = ['https://www.flipkart.com/search?q=gowns&otracker=search&otracker1=search&marketplace=FLIPKART&as-show=on&as=off']\n",
    "for i in range(2, 30):\n",
    "    url = f'https://www.flipkart.com/search?q=gowns&otracker=search&otracker1=search&marketplace=FLIPKART&as-show=on&as=off&page={i}'\n",
    "    url_gowns_list.append(url)"
   ]
  },
  {
   "cell_type": "code",
   "execution_count": null,
   "id": "b669fcf6",
   "metadata": {},
   "outputs": [],
   "source": [
    "url_dupattas_list = ['https://www.utsavfashion.com/indowestern/dupattas']\n",
    "for i in range(2,21):\n",
    "    url = f'https://www.utsavfashion.com/indowestern/dupattas?p={i}'\n",
    "    url_dupattas_list.append(url)\n",
    "   "
   ]
  },
  {
   "cell_type": "code",
   "execution_count": null,
   "id": "99b2bc76",
   "metadata": {},
   "outputs": [],
   "source": [
    "url_blouses_list = ['https://www.flipkart.com/search?q=dhoti+pants+for+men&as=on&as-show=on&otracker=AS_Query_OrganicAutoSuggest_2_11_na_na_na&otracker1=AS_Query_OrganicAutoSuggest_2_11_na_na_na&as-pos=2&as-type=RECENT&suggestionId=dhoti+pants+for+men&requestId=7e47f3c0-4527-40fe-ba34-c691383957d4&as-searchtext=dhoti+pants&page=1''https://www.karmaplace.com/search?type=product&q=blouses*&options%5Bunavailable_products%5D=hide']\n",
    "for i in range(2,21):\n",
    "    url = f'https://www.flipkart.com/search?q=dhoti+pants&otracker=search&otracker1=search&marketplace=FLIPKART&as-show=on&as=off&page='\n",
    "    url_blouses_list.append(url)"
   ]
  },
  {
   "cell_type": "code",
   "execution_count": null,
   "id": "1c67ae14",
   "metadata": {},
   "outputs": [],
   "source": [
    "url_leggings_list = ['https://www.flipkart.com/search?q=leggings&otracker=search&otracker1=search&marketplace=FLIPKART&as-show=on&as=off']\n",
    "for i in range(2,21):\n",
    "    \n",
    "    url = f'https://www.flipkart.com/search?q=leggings&otracker=search&otracker1=search&marketplace=FLIPKART&as-show=on&as=off&page={i}'\n",
    "    url_leggings_list.append(url)"
   ]
  },
  {
   "cell_type": "code",
   "execution_count": null,
   "id": "f4839c9f",
   "metadata": {},
   "outputs": [],
   "source": [
    "url_dhoti_pants_list = ['https://www.utsavfashion.com/catalogsearch/result/?q=dhoti+pants']\n",
    "for i in range(2,20):\n",
    "    url = f'https://www.utsavfashion.com/catalogsearch/result/index/?p={i}&q=dhoti+pants'\n",
    "    url_dhoti_pants_list.append(url)"
   ]
  },
  {
   "cell_type": "code",
   "execution_count": 13,
   "id": "c8919b2b",
   "metadata": {},
   "outputs": [],
   "source": [
    "url_sherwanis_list = ['https://www.flipkart.com/search?q=sherwanis&otracker=search&otracker1=search&marketplace=FLIPKART&as-show=on&as=off']\n",
    "for i in range(2):\n",
    "    url = f'https://www.flipkart.com/search?q=sherwanis&otracker=search&otracker1=search&marketplace=FLIPKART&as-show=on&as=off&page={i}'\n",
    "    url_sherwanis_list.append(url)"
   ]
  },
  {
   "cell_type": "code",
   "execution_count": 18,
   "id": "653874ef",
   "metadata": {},
   "outputs": [
    {
     "name": "stdout",
     "output_type": "stream",
     "text": [
      "https://www.flipkart.com/search?q=sherwanis&otracker=search&otracker1=search&marketplace=FLIPKART&as-show=on&as=off\n",
      "https://static-assets-web.flixcart.com/fk-p-linchpin-web/fk-cp-zion/img/flipkart-plus_8d85f4.png\n",
      "https://static-assets-web.flixcart.com/fk-p-linchpin-web/fk-cp-zion/img/plus_aef861.png\n",
      "https://static-assets-web.flixcart.com/fk-p-linchpin-web/fk-cp-zion/img/fa_62673a.png\n",
      "https://rukminim2.flixcart.com/image/612/612/xif0q/sherwani/1/x/x/l-jss-7700007-chote-raja-collection-original-imag49g3j9fqfaw8-bb.jpeg\n",
      "https://static-assets-web.flixcart.com/fk-p-linchpin-web/fk-cp-zion/img/fa_62673a.png\n",
      "https://rukminim2.flixcart.com/image/612/612/xif0q/sherwani/g/s/t/l-ol-golden-148-phone-sg-rajasahab-original-imaf9jzvc2v5a6xj-bb.jpeg\n",
      "https://static-assets-web.flixcart.com/fk-p-linchpin-web/fk-cp-zion/img/fa_62673a.png\n",
      "https://rukminim2.flixcart.com/image/612/612/xif0q/sherwani/b/l/x/xl-mens-24-n-b-f-fashion-original-imag5zg9zvsymbtp-bb.jpeg\n",
      "https://static-assets-web.flixcart.com/fk-p-linchpin-web/fk-cp-zion/img/fa_62673a.png\n",
      "https://rukminim2.flixcart.com/image/612/612/l4u7vrk0/sherwani/e/z/x/m-psks-1982-psks-ethnic-wear-original-imagfnew9sbezpty.jpeg\n",
      "https://static-assets-web.flixcart.com/fk-p-linchpin-web/fk-cp-zion/img/fa_62673a.png\n",
      "https://rukminim2.flixcart.com/image/612/612/xif0q/sherwani/f/c/s/xxl-mens-daman-85-n-b-f-fashion-original-imagrm7uhuhax9zq.jpeg\n",
      "https://rukminim2.flixcart.com/image/612/612/xif0q/sherwani/s/o/z/m-cokurta2-pat-bl-avaeta-original-imag3hpvqqfzwbfd-bb.jpeg\n",
      "https://static-assets-web.flixcart.com/fk-p-linchpin-web/fk-cp-zion/img/fa_62673a.png\n",
      "https://rukminim2.flixcart.com/image/612/612/xif0q/sherwani/g/1/n/s-mens-indo-western-n-b-f-fashion-original-imagqhahh2fqwbpe.jpeg\n",
      "https://static-assets-web.flixcart.com/fk-p-linchpin-web/fk-cp-zion/img/fa_62673a.png\n",
      "https://rukminim2.flixcart.com/image/612/612/l52sivk0/sherwani/x/f/u/xl-jss-090707-chote-raja-collection-original-imagftcdt7vuskfm.jpeg\n",
      "https://static-assets-web.flixcart.com/fk-p-linchpin-web/fk-cp-zion/img/fa_62673a.png\n",
      "https://rukminim2.flixcart.com/image/612/612/xif0q/sherwani/2/c/h/s-blacksherwani-hangup-original-imaf8beysjjvhyjs-bb.jpeg\n",
      "https://static-assets-web.flixcart.com/fk-p-linchpin-web/fk-cp-zion/img/fa_62673a.png\n",
      "https://rukminim2.flixcart.com/image/612/612/xif0q/sherwani/u/v/d/s-ingolden148-cream-chdp-maroon-st-1-sg-rajasahab-original-imagh7estfpyawhj.jpeg\n",
      "https://static-assets-web.flixcart.com/fk-p-linchpin-web/fk-cp-zion/img/fa_62673a.png\n",
      "https://rukminim2.flixcart.com/image/612/612/xif0q/sherwani/y/u/h/xxl-mens-indo-western-25-n-b-f-fashion-original-imag3ma2yvrqpxdz-bb.jpeg\n",
      "https://static-assets-web.flixcart.com/fk-p-linchpin-web/fk-cp-zion/img/fa_62673a.png\n",
      "https://rukminim2.flixcart.com/image/612/612/xif0q/sherwani/y/k/x/xl-mens-daman-85-xepon-original-imagrm6tqtht5faq.jpeg\n",
      "https://rukminim2.flixcart.com/image/612/612/xif0q/sherwani/x/9/q/s-srn-sadree-original-imaghvezvnpvqzdy.jpeg\n",
      "https://static-assets-web.flixcart.com/fk-p-linchpin-web/fk-cp-zion/img/fa_62673a.png\n",
      "https://rukminim2.flixcart.com/image/612/612/xif0q/sherwani/v/o/f/l-mens-740-n-b-f-fashion-original-imagsycqrndgzng5.jpeg\n",
      "https://static-assets-web.flixcart.com/fk-p-linchpin-web/fk-cp-zion/img/fa_62673a.png\n",
      "https://rukminim2.flixcart.com/image/612/612/kpcy5jk0/sherwani/q/p/b/xl-mens-sherwani-set-n-b-f-fashion-original-imag3maeqhumcdcj.jpeg\n",
      "https://static-assets-web.flixcart.com/fk-p-linchpin-web/fk-cp-zion/img/fa_62673a.png\n",
      "https://rukminim2.flixcart.com/image/612/612/l3rmzrk0/sherwani/6/t/x/xl-mens-sk-785-brand-boy-original-imagetc78byyk2yd.jpeg\n",
      "https://static-assets-web.flixcart.com/fk-p-linchpin-web/fk-cp-zion/img/fa_62673a.png\n",
      "https://rukminim2.flixcart.com/image/612/612/xif0q/sherwani/s/9/7/l-rj-187-amzira-original-imagqscfj2bmq4v8.jpeg\n",
      "https://static-assets-web.flixcart.com/fk-p-linchpin-web/fk-cp-zion/img/fa_62673a.png\n",
      "https://rukminim2.flixcart.com/image/612/612/xif0q/sherwani/p/h/d/xxl-wf-rd10-diamond-original-imagrnscyzkhknxc.jpeg\n",
      "https://rukminim2.flixcart.com/image/612/612/xif0q/sherwani/5/i/x/l-mens-indo-western-78-brand-boy-original-imagghjnupuweyse.jpeg\n",
      "https://static-assets-web.flixcart.com/fk-p-linchpin-web/fk-cp-zion/img/fa_62673a.png\n",
      "https://rukminim2.flixcart.com/image/612/612/xif0q/sherwani/e/p/4/m-srn-sadree-original-imaghvez6hkaegfq.jpeg\n",
      "https://static-assets-web.flixcart.com/fk-p-linchpin-web/fk-cp-zion/img/fa_62673a.png\n",
      "https://rukminim2.flixcart.com/image/612/612/xif0q/sherwani/n/p/a/xl-810011-tahvo-original-imagh3fvbrhqbka5.jpeg\n",
      "https://rukminim2.flixcart.com/image/612/612/xif0q/sherwani/f/c/s/xxl-mens-daman-85-n-b-f-fashion-original-imagrm7uhuhax9zq.jpeg\n",
      "https://rukminim2.flixcart.com/image/612/612/xif0q/sherwani/g/1/n/s-mens-indo-western-n-b-f-fashion-original-imagqhahh2fqwbpe.jpeg\n",
      "https://static-assets-web.flixcart.com/fk-p-linchpin-web/fk-cp-zion/img/fa_62673a.png\n",
      "https://rukminim2.flixcart.com/image/612/612/xif0q/sherwani/t/z/j/l-top-sh-77-psks-ethnic-wear-original-imaghch5fngcbcj9.jpeg\n",
      "https://rukminim2.flixcart.com/image/612/612/xif0q/sherwani/h/m/q/free-psks-1982-psks-ethnic-wear-original-image4qstfnfgwh3-bb.jpeg\n",
      "https://rukminim2.flixcart.com/image/612/612/xif0q/sherwani/s/6/x/xxl-mens-indo-western-25-n-b-f-fashion-original-imag3ma2zknhuzzj-bb.jpeg\n",
      "https://static-assets-web.flixcart.com/fk-p-linchpin-web/fk-cp-zion/img/fa_62673a.png\n",
      "https://rukminim2.flixcart.com/image/612/612/xif0q/sherwani/8/4/7/xxl-mens-28-n-b-f-fashion-original-imagqbzzhw5m3scd.jpeg\n",
      "https://static-assets-web.flixcart.com/fk-p-linchpin-web/fk-cp-zion/img/fa_62673a.png\n",
      "https://rukminim2.flixcart.com/image/612/612/kqjtd3k0/sherwani/8/c/v/xxl-mens-indo-westerns-n-b-f-fashion-original-imag4jf4zhmhpkcf.jpeg\n",
      "https://static-assets-web.flixcart.com/fk-p-linchpin-web/fk-cp-zion/img/fa_62673a.png\n",
      "https://rukminim2.flixcart.com/image/612/612/xif0q/sherwani/m/c/a/xl-ol-golden-145-cream-sg-rajasahab-original-imagffpah7tgppds-bb.jpeg\n",
      "https://static-assets-web.flixcart.com/fk-p-linchpin-web/fk-cp-zion/img/fa_62673a.png\n",
      "https://rukminim2.flixcart.com/image/612/612/xif0q/sherwani/1/l/x/l-cokurta2-pat-nb-avaeta-original-imag3hpv2yb8rpxm-bb.jpeg\n",
      "https://static-assets-web.flixcart.com/fk-p-linchpin-web/fk-cp-zion/img/fa_62673a.png\n",
      "https://rukminim2.flixcart.com/image/612/612/xif0q/sherwani/u/4/c/xl-srw-saifoo-original-imag6tgchdahn5m3-bb.jpeg\n",
      "https://static-assets-web.flixcart.com/fk-p-linchpin-web/fk-cp-zion/img/fa_62673a.png\n",
      "https://rukminim2.flixcart.com/image/612/612/xif0q/sherwani/b/c/z/m-rd27-diamond-style-original-imagzwwnymn28akp.jpeg\n",
      "https://rukminim2.flixcart.com/image/612/612/xif0q/ethnic-set/t/0/q/s-mens-koti-kurta-83-n-b-f-fashion-original-imagsuns7z4zvk2h.jpeg\n",
      "https://rukminim2.flixcart.com/image/612/612/xif0q/sherwani/n/a/c/m-rd19-diamond-style-original-imagz9t8qfgnmmqe.jpeg\n",
      "https://rukminim2.flixcart.com/image/612/612/xif0q/sherwani/c/8/h/m-ds07-diamond-style-original-imagj7eqgggt9efj.jpeg\n",
      "https://rukminim2.flixcart.com/image/612/612/xif0q/sherwani/e/q/d/m-3pc-s44whitesilkkp-hangup-original-imagyuzyg4kz2gf3-bb.jpeg\n",
      "https://static-assets-web.flixcart.com/fk-p-linchpin-web/fk-cp-zion/img/fa_62673a.png\n",
      "https://rukminim2.flixcart.com/image/612/612/xif0q/ethnic-set/k/4/z/36-up-golden-149-cream-sg-leman-original-imafjf3yhkmwxexd-bb.jpeg\n",
      "https://static-assets-web.flixcart.com/fk-p-linchpin-web/fk-cp-zion/img/fa_62673a.png\n",
      "https://rukminim2.flixcart.com/image/612/612/xif0q/sherwani/o/f/5/xxl-1-pacakage-mens-sherwani-set-n-b-f-fashion-original-imagqbw5z2zypzgd.jpeg\n",
      "https://static-assets-web.flixcart.com/fk-p-linchpin-web/fk-cp-zion/img/fa_62673a.png\n",
      "https://rukminim2.flixcart.com/image/612/612/xif0q/sherwani/5/i/x/l-mens-indo-western-78-brand-boy-original-imagghjnupuweyse.jpeg\n",
      "https://static-assets-web.flixcart.com/fk-p-linchpin-web/fk-cp-zion/img/fa_62673a.png\n",
      "https://rukminim2.flixcart.com/image/612/612/xif0q/sherwani/k/p/w/m-ol-golden146-cream-sg-rajasahab-original-imagyueqq49uznwg-bb.jpeg\n",
      "https://static-assets-web.flixcart.com/fk-p-linchpin-web/fk-cp-zion/img/fa_62673a.png\n",
      "https://rukminim2.flixcart.com/image/300/300/kqjtd3k0/sherwani/8/c/v/xxl-mens-indo-westerns-n-b-f-fashion-original-imag4jf4zhmhpkcf.jpeg\n",
      "data:image/svg+xml;base64,PHN2ZyB4bWxucz0iaHR0cDovL3d3dy53My5vcmcvMjAwMC9zdmciIHdpZHRoPSIxMyIgaGVpZ2h0PSIxMiI+PHBhdGggZmlsbD0iI0ZGRiIgZD0iTTYuNSA5LjQzOWwtMy42NzQgMi4yMy45NC00LjI2LTMuMjEtMi44ODMgNC4yNTQtLjQwNEw2LjUuMTEybDEuNjkgNC4wMSA0LjI1NC40MDQtMy4yMSAyLjg4Mi45NCA0LjI2eiIvPjwvc3ZnPg==\n",
      "data:image/svg+xml;base64,PHN2ZyB4bWxucz0iaHR0cDovL3d3dy53My5vcmcvMjAwMC9zdmciIHdpZHRoPSIxMyIgaGVpZ2h0PSIxMiI+PHBhdGggZmlsbD0iI0ZGRiIgZD0iTTYuNSA5LjQzOWwtMy42NzQgMi4yMy45NC00LjI2LTMuMjEtMi44ODMgNC4yNTQtLjQwNEw2LjUuMTEybDEuNjkgNC4wMSA0LjI1NC40MDQtMy4yMSAyLjg4Mi45NCA0LjI2eiIvPjwvc3ZnPg==\n",
      "data:image/svg+xml;base64,PHN2ZyB4bWxucz0iaHR0cDovL3d3dy53My5vcmcvMjAwMC9zdmciIHdpZHRoPSIxMyIgaGVpZ2h0PSIxMiI+PHBhdGggZmlsbD0iI0ZGRiIgZD0iTTYuNSA5LjQzOWwtMy42NzQgMi4yMy45NC00LjI2LTMuMjEtMi44ODMgNC4yNTQtLjQwNEw2LjUuMTEybDEuNjkgNC4wMSA0LjI1NC40MDQtMy4yMSAyLjg4Mi45NCA0LjI2eiIvPjwvc3ZnPg==\n",
      "https://rukminim2.flixcart.com/image/300/300/l4u7vrk0/sherwani/e/z/x/m-psks-1982-psks-ethnic-wear-original-imagfnew9sbezpty.jpeg\n",
      "data:image/svg+xml;base64,PHN2ZyB4bWxucz0iaHR0cDovL3d3dy53My5vcmcvMjAwMC9zdmciIHdpZHRoPSIxMyIgaGVpZ2h0PSIxMiI+PHBhdGggZmlsbD0iI0ZGRiIgZD0iTTYuNSA5LjQzOWwtMy42NzQgMi4yMy45NC00LjI2LTMuMjEtMi44ODMgNC4yNTQtLjQwNEw2LjUuMTEybDEuNjkgNC4wMSA0LjI1NC40MDQtMy4yMSAyLjg4Mi45NCA0LjI2eiIvPjwvc3ZnPg==\n",
      "data:image/svg+xml;base64,PHN2ZyB4bWxucz0iaHR0cDovL3d3dy53My5vcmcvMjAwMC9zdmciIHdpZHRoPSIxMyIgaGVpZ2h0PSIxMiI+PHBhdGggZmlsbD0iI0ZGRiIgZD0iTTYuNSA5LjQzOWwtMy42NzQgMi4yMy45NC00LjI2LTMuMjEtMi44ODMgNC4yNTQtLjQwNEw2LjUuMTEybDEuNjkgNC4wMSA0LjI1NC40MDQtMy4yMSAyLjg4Mi45NCA0LjI2eiIvPjwvc3ZnPg==\n",
      "data:image/svg+xml;base64,PHN2ZyB4bWxucz0iaHR0cDovL3d3dy53My5vcmcvMjAwMC9zdmciIHdpZHRoPSIxMyIgaGVpZ2h0PSIxMiI+PHBhdGggZmlsbD0iI0ZGRiIgZD0iTTYuNSA5LjQzOWwtMy42NzQgMi4yMy45NC00LjI2LTMuMjEtMi44ODMgNC4yNTQtLjQwNEw2LjUuMTEybDEuNjkgNC4wMSA0LjI1NC40MDQtMy4yMSAyLjg4Mi45NCA0LjI2eiIvPjwvc3ZnPg==\n"
     ]
    },
    {
     "name": "stdout",
     "output_type": "stream",
     "text": [
      "https://rukminim2.flixcart.com/image/300/300/xif0q/sherwani/k/p/w/m-ol-golden146-cream-sg-rajasahab-original-imagyueqq49uznwg-bb.jpeg\n",
      "data:image/svg+xml;base64,PHN2ZyB4bWxucz0iaHR0cDovL3d3dy53My5vcmcvMjAwMC9zdmciIHdpZHRoPSIxMyIgaGVpZ2h0PSIxMiI+PHBhdGggZmlsbD0iI0ZGRiIgZD0iTTYuNSA5LjQzOWwtMy42NzQgMi4yMy45NC00LjI2LTMuMjEtMi44ODMgNC4yNTQtLjQwNEw2LjUuMTEybDEuNjkgNC4wMSA0LjI1NC40MDQtMy4yMSAyLjg4Mi45NCA0LjI2eiIvPjwvc3ZnPg==\n",
      "data:image/svg+xml;base64,PHN2ZyB4bWxucz0iaHR0cDovL3d3dy53My5vcmcvMjAwMC9zdmciIHdpZHRoPSIxMyIgaGVpZ2h0PSIxMiI+PHBhdGggZmlsbD0iI0ZGRiIgZD0iTTYuNSA5LjQzOWwtMy42NzQgMi4yMy45NC00LjI2LTMuMjEtMi44ODMgNC4yNTQtLjQwNEw2LjUuMTEybDEuNjkgNC4wMSA0LjI1NC40MDQtMy4yMSAyLjg4Mi45NCA0LjI2eiIvPjwvc3ZnPg==\n",
      "data:image/svg+xml;base64,PHN2ZyB4bWxucz0iaHR0cDovL3d3dy53My5vcmcvMjAwMC9zdmciIHdpZHRoPSIxMyIgaGVpZ2h0PSIxMiI+PHBhdGggZmlsbD0iI0ZGRiIgZD0iTTYuNSA5LjQzOWwtMy42NzQgMi4yMy45NC00LjI2LTMuMjEtMi44ODMgNC4yNTQtLjQwNEw2LjUuMTEybDEuNjkgNC4wMSA0LjI1NC40MDQtMy4yMSAyLjg4Mi45NCA0LjI2eiIvPjwvc3ZnPg==\n",
      "https://rukminim2.flixcart.com/image/300/300/xif0q/sherwani/t/z/j/l-top-sh-77-psks-ethnic-wear-original-imaghch5fngcbcj9.jpeg\n",
      "data:image/svg+xml;base64,PHN2ZyB4bWxucz0iaHR0cDovL3d3dy53My5vcmcvMjAwMC9zdmciIHdpZHRoPSIxMyIgaGVpZ2h0PSIxMiI+PHBhdGggZmlsbD0iI0ZGRiIgZD0iTTYuNSA5LjQzOWwtMy42NzQgMi4yMy45NC00LjI2LTMuMjEtMi44ODMgNC4yNTQtLjQwNEw2LjUuMTEybDEuNjkgNC4wMSA0LjI1NC40MDQtMy4yMSAyLjg4Mi45NCA0LjI2eiIvPjwvc3ZnPg==\n",
      "data:image/svg+xml;base64,PHN2ZyB4bWxucz0iaHR0cDovL3d3dy53My5vcmcvMjAwMC9zdmciIHdpZHRoPSIxMyIgaGVpZ2h0PSIxMiI+PHBhdGggZmlsbD0iI0ZGRiIgZD0iTTYuNSA5LjQzOWwtMy42NzQgMi4yMy45NC00LjI2LTMuMjEtMi44ODMgNC4yNTQtLjQwNEw2LjUuMTEybDEuNjkgNC4wMSA0LjI1NC40MDQtMy4yMSAyLjg4Mi45NCA0LjI2eiIvPjwvc3ZnPg==\n",
      "data:image/svg+xml;base64,PHN2ZyB4bWxucz0iaHR0cDovL3d3dy53My5vcmcvMjAwMC9zdmciIHdpZHRoPSIxMyIgaGVpZ2h0PSIxMiI+PHBhdGggZmlsbD0iI0ZGRiIgZD0iTTYuNSA5LjQzOWwtMy42NzQgMi4yMy45NC00LjI2LTMuMjEtMi44ODMgNC4yNTQtLjQwNEw2LjUuMTEybDEuNjkgNC4wMSA0LjI1NC40MDQtMy4yMSAyLjg4Mi45NCA0LjI2eiIvPjwvc3ZnPg==\n",
      "https://rukminim2.flixcart.com/image/300/300/xif0q/sherwani/s/6/x/xxl-mens-indo-western-25-n-b-f-fashion-original-imag3ma2zknhuzzj-bb.jpeg\n",
      "data:image/svg+xml;base64,PHN2ZyB4bWxucz0iaHR0cDovL3d3dy53My5vcmcvMjAwMC9zdmciIHdpZHRoPSIxMyIgaGVpZ2h0PSIxMiI+PHBhdGggZmlsbD0iI0ZGRiIgZD0iTTYuNSA5LjQzOWwtMy42NzQgMi4yMy45NC00LjI2LTMuMjEtMi44ODMgNC4yNTQtLjQwNEw2LjUuMTEybDEuNjkgNC4wMSA0LjI1NC40MDQtMy4yMSAyLjg4Mi45NCA0LjI2eiIvPjwvc3ZnPg==\n",
      "data:image/svg+xml;base64,PHN2ZyB4bWxucz0iaHR0cDovL3d3dy53My5vcmcvMjAwMC9zdmciIHdpZHRoPSIxMyIgaGVpZ2h0PSIxMiI+PHBhdGggZmlsbD0iI0ZGRiIgZD0iTTYuNSA5LjQzOWwtMy42NzQgMi4yMy45NC00LjI2LTMuMjEtMi44ODMgNC4yNTQtLjQwNEw2LjUuMTEybDEuNjkgNC4wMSA0LjI1NC40MDQtMy4yMSAyLjg4Mi45NCA0LjI2eiIvPjwvc3ZnPg==\n",
      "data:image/svg+xml;base64,PHN2ZyB4bWxucz0iaHR0cDovL3d3dy53My5vcmcvMjAwMC9zdmciIHdpZHRoPSIxMyIgaGVpZ2h0PSIxMiI+PHBhdGggZmlsbD0iI0ZGRiIgZD0iTTYuNSA5LjQzOWwtMy42NzQgMi4yMy45NC00LjI2LTMuMjEtMi44ODMgNC4yNTQtLjQwNEw2LjUuMTEybDEuNjkgNC4wMSA0LjI1NC40MDQtMy4yMSAyLjg4Mi45NCA0LjI2eiIvPjwvc3ZnPg==\n",
      "data:image/svg+xml;base64,PHN2ZyB4bWxucz0iaHR0cDovL3d3dy53My5vcmcvMjAwMC9zdmciIHdpZHRoPSIxNiIgaGVpZ2h0PSIxNSIgdmlld0JveD0iMCAwIDE2IDE1Ij4KICAgIDxkZWZzPgogICAgICAgIDxsaW5lYXJHcmFkaWVudCBpZD0iYSIgeDE9IjAlIiB4Mj0iODYuODc2JSIgeTE9IjAlIiB5Mj0iODAuMjAyJSI+CiAgICAgICAgICAgIDxzdG9wIG9mZnNldD0iMCUiIHN0b3AtY29sb3I9IiNGRkQ4MDAiLz4KICAgICAgICAgICAgPHN0b3Agb2Zmc2V0PSIxMDAlIiBzdG9wLWNvbG9yPSIjRkZBRjAwIi8+CiAgICAgICAgPC9saW5lYXJHcmFkaWVudD4KICAgIDwvZGVmcz4KICAgIDxnIGZpbGw9Im5vbmUiIGZpbGwtcnVsZT0iZXZlbm9kZCI+CiAgICAgICAgPHBhdGggZD0iTS0yLTJoMjB2MjBILTJ6Ii8+CiAgICAgICAgPHBhdGggZmlsbD0idXJsKCNhKSIgZmlsbC1ydWxlPSJub256ZXJvIiBkPSJNMTUuOTMgNS42MTRoLTIuOTQ4VjQuMTRjMC0uODE4LS42NTUtMS40NzMtMS40NzMtMS40NzNIOC41NmMtLjgxNyAwLTEuNDczLjY1NS0xLjQ3MyAxLjQ3M3YxLjQ3NEg0LjE0Yy0uODE4IDAtMS40NjYuNjU2LTEuNDY2IDEuNDc0bC0uMDA3IDguMTA1YzAgLjgxOC42NTUgMS40NzQgMS40NzMgMS40NzRoMTEuNzljLjgxOCAwIDEuNDc0LS42NTYgMS40NzQtMS40NzRWNy4wODhjMC0uODE4LS42NTYtMS40NzQtMS40NzQtMS40NzR6bS00LjQyMSAwSDguNTZWNC4xNGgyLjk0OHYxLjQ3NHoiIHRyYW5zZm9ybT0idHJhbnNsYXRlKC0yIC0yKSIvPgogICAgPC9nPgo8L3N2Zz4K\n",
      "data:image/svg+xml;base64,PHN2ZyB4bWxucz0iaHR0cDovL3d3dy53My5vcmcvMjAwMC9zdmciIHdpZHRoPSIxNSIgaGVpZ2h0PSIxNSIgdmlld0JveD0iMCAwIDE1IDE1Ij4KICAgIDxkZWZzPgogICAgICAgIDxsaW5lYXJHcmFkaWVudCBpZD0iYSIgeDE9IjAlIiB4Mj0iODYuODc2JSIgeTE9IjAlIiB5Mj0iODAuMjAyJSI+CiAgICAgICAgICAgIDxzdG9wIG9mZnNldD0iMCUiIHN0b3AtY29sb3I9IiNGRkQ4MDAiLz4KICAgICAgICAgICAgPHN0b3Agb2Zmc2V0PSIxMDAlIiBzdG9wLWNvbG9yPSIjRkZBRjAwIi8+CiAgICAgICAgPC9saW5lYXJHcmFkaWVudD4KICAgIDwvZGVmcz4KICAgIDxnIGZpbGw9Im5vbmUiIGZpbGwtcnVsZT0iZXZlbm9kZCI+CiAgICAgICAgPHBhdGggZD0iTS0zLTNoMjB2MjBILTN6Ii8+CiAgICAgICAgPHBhdGggZmlsbD0idXJsKCNhKSIgZmlsbC1ydWxlPSJub256ZXJvIiBkPSJNMTAuNDkyIDNDNi4zNTMgMyAzIDYuMzYgMyAxMC41YzAgNC4xNCAzLjM1MyA3LjUgNy40OTIgNy41QzE0LjY0IDE4IDE4IDE0LjY0IDE4IDEwLjUgMTggNi4zNiAxNC42NCAzIDEwLjQ5MiAzem0zLjE4IDEyTDEwLjUgMTMuMDg4IDcuMzI3IDE1bC44NC0zLjYwN0w1LjM3IDguOTdsMy42OS0uMzE1TDEwLjUgNS4yNWwxLjQ0IDMuMzk4IDMuNjkuMzE1LTIuNzk4IDIuNDIyLjg0IDMuNjE1eiIgdHJhbnNmb3JtPSJ0cmFuc2xhdGUoLTMgLTMpIi8+CiAgICA8L2c+Cjwvc3ZnPgo=\n",
      "data:image/svg+xml;base64,PHN2ZyB4bWxucz0iaHR0cDovL3d3dy53My5vcmcvMjAwMC9zdmciIHdpZHRoPSIxOCIgaGVpZ2h0PSIxNyIgdmlld0JveD0iMCAwIDE4IDE3Ij4KICAgIDxkZWZzPgogICAgICAgIDxsaW5lYXJHcmFkaWVudCBpZD0iYSIgeDE9IjAlIiB4Mj0iODYuODc2JSIgeTE9IjAlIiB5Mj0iODAuMjAyJSI+CiAgICAgICAgICAgIDxzdG9wIG9mZnNldD0iMCUiIHN0b3AtY29sb3I9IiNGRkQ4MDAiLz4KICAgICAgICAgICAgPHN0b3Agb2Zmc2V0PSIxMDAlIiBzdG9wLWNvbG9yPSIjRkZBRjAwIi8+CiAgICAgICAgPC9saW5lYXJHcmFkaWVudD4KICAgIDwvZGVmcz4KICAgIDxnIGZpbGw9Im5vbmUiIGZpbGwtcnVsZT0iZXZlbm9kZCI+CiAgICAgICAgPHBhdGggZD0iTS0xLTFoMjB2MjBILTF6Ii8+CiAgICAgICAgPHBhdGggZmlsbD0idXJsKCNhKSIgZmlsbC1ydWxlPSJub256ZXJvIiBkPSJNMTYuNjY3IDVIMTQuODVjLjA5Mi0uMjU4LjE1LS41NDIuMTUtLjgzM2EyLjQ5NyAyLjQ5NyAwIDAgMC00LjU4My0xLjM3NUwxMCAzLjM1bC0uNDE3LS41NjdBMi41MSAyLjUxIDAgMCAwIDcuNSAxLjY2N2EyLjQ5NyAyLjQ5NyAwIDAgMC0yLjUgMi41YzAgLjI5MS4wNTguNTc1LjE1LjgzM0gzLjMzM2MtLjkyNSAwLTEuNjU4Ljc0Mi0xLjY1OCAxLjY2N2wtLjAwOCA5LjE2NkExLjY2IDEuNjYgMCAwIDAgMy4zMzMgMTcuNWgxMy4zMzRhMS42NiAxLjY2IDAgMCAwIDEuNjY2LTEuNjY3VjYuNjY3QTEuNjYgMS42NiAwIDAgMCAxNi42NjcgNXptMCA2LjY2N0gzLjMzM3YtNWg0LjIzNEw1LjgzMyA5LjAyNWwxLjM1Ljk3NSAxLjk4NC0yLjdMMTAgNi4xNjdsLjgzMyAxLjEzMyAxLjk4NCAyLjcgMS4zNS0uOTc1LTEuNzM0LTIuMzU4aDQuMjM0djV6IiB0cmFuc2Zvcm09InRyYW5zbGF0ZSgtMSAtMSkiLz4KICAgIDwvZz4KPC9zdmc+Cg==\n",
      "data:image/svg+xml;base64,PHN2ZyB4bWxucz0iaHR0cDovL3d3dy53My5vcmcvMjAwMC9zdmciIHdpZHRoPSIxNSIgaGVpZ2h0PSIxNSIgdmlld0JveD0iMCAwIDE1IDE1Ij4KICAgIDxkZWZzPgogICAgICAgIDxsaW5lYXJHcmFkaWVudCBpZD0iYSIgeDE9IjAlIiB4Mj0iODYuODc2JSIgeTE9IjAlIiB5Mj0iODAuMjAyJSI+CiAgICAgICAgICAgIDxzdG9wIG9mZnNldD0iMCUiIHN0b3AtY29sb3I9IiNGRkQ4MDAiLz4KICAgICAgICAgICAgPHN0b3Agb2Zmc2V0PSIxMDAlIiBzdG9wLWNvbG9yPSIjRkZBRjAwIi8+CiAgICAgICAgPC9saW5lYXJHcmFkaWVudD4KICAgIDwvZGVmcz4KICAgIDxnIGZpbGw9Im5vbmUiIGZpbGwtcnVsZT0iZXZlbm9kZCI+CiAgICAgICAgPHBhdGggZD0iTS0yLTNoMjB2MjBILTJ6Ii8+CiAgICAgICAgPHBhdGggZmlsbD0idXJsKCNhKSIgZmlsbC1ydWxlPSJub256ZXJvIiBkPSJNOS41IDNDNS4zNiAzIDIgNi4zNiAyIDEwLjUgMiAxNC42NCA1LjM2IDE4IDkuNSAxOGM0LjE0IDAgNy41LTMuMzYgNy41LTcuNUMxNyA2LjM2IDEzLjY0IDMgOS41IDN6bS43NSAxMi43NWgtMS41di0xLjVoMS41djEuNXptMS41NTMtNS44MTNsLS42NzYuNjljLS41NC41NDgtLjg3Ny45OTgtLjg3NyAyLjEyM2gtMS41di0uMzc1YzAtLjgyNS4zMzgtMS41NzUuODc3LTIuMTIzbC45My0uOTQ1Yy4yNzgtLjI3LjQ0My0uNjQ1LjQ0My0xLjA1NyAwLS44MjUtLjY3NS0xLjUtMS41LTEuNVM4IDcuNDI1IDggOC4yNUg2LjVhMyAzIDAgMSAxIDYgMGMwIC42Ni0uMjcgMS4yNi0uNjk3IDEuNjg4eiIgdHJhbnNmb3JtPSJ0cmFuc2xhdGUoLTIgLTMpIi8+CiAgICA8L2c+Cjwvc3ZnPgo=\n",
      "https://static-assets-web.flixcart.com/fk-p-linchpin-web/fk-cp-zion/img/payment-method_69e7ec.svg\n",
      "https://www.flipkart.com/search?q=sherwanis&otracker=search&otracker1=search&marketplace=FLIPKART&as-show=on&as=off&page=0\n",
      "https://static-assets-web.flixcart.com/fk-p-linchpin-web/fk-cp-zion/img/flipkart-plus_8d85f4.png\n",
      "https://static-assets-web.flixcart.com/fk-p-linchpin-web/fk-cp-zion/img/plus_aef861.png\n",
      "https://static-assets-web.flixcart.com/fk-p-linchpin-web/fk-cp-zion/img/fa_62673a.png\n",
      "https://rukminim2.flixcart.com/image/612/612/xif0q/sherwani/8/n/p/m-jss-7700007-chote-raja-collection-original-imag49fqhzqwzfts-bb.jpeg\n",
      "https://static-assets-web.flixcart.com/fk-p-linchpin-web/fk-cp-zion/img/fa_62673a.png\n",
      "https://rukminim2.flixcart.com/image/612/612/l52sivk0/sherwani/d/8/h/m-jss-090707-chote-raja-collection-original-imagftcddba5eqfu.jpeg\n"
     ]
    },
    {
     "name": "stdout",
     "output_type": "stream",
     "text": [
      "https://static-assets-web.flixcart.com/fk-p-linchpin-web/fk-cp-zion/img/fa_62673a.png\n",
      "https://rukminim2.flixcart.com/image/612/612/xif0q/sherwani/8/n/p/m-jss-7700007-chote-raja-collection-original-imag49fqhzqwzfts-bb.jpeg\n",
      "https://static-assets-web.flixcart.com/fk-p-linchpin-web/fk-cp-zion/img/fa_62673a.png\n",
      "https://rukminim2.flixcart.com/image/612/612/xif0q/sherwani/g/s/t/l-ol-golden-148-phone-sg-rajasahab-original-imaf9jzvc2v5a6xj-bb.jpeg\n",
      "https://static-assets-web.flixcart.com/fk-p-linchpin-web/fk-cp-zion/img/fa_62673a.png\n",
      "https://rukminim2.flixcart.com/image/612/612/xif0q/sherwani/b/l/x/xl-mens-24-n-b-f-fashion-original-imag5zg9zvsymbtp-bb.jpeg\n",
      "https://static-assets-web.flixcart.com/fk-p-linchpin-web/fk-cp-zion/img/fa_62673a.png\n",
      "https://rukminim2.flixcart.com/image/612/612/l4u7vrk0/sherwani/e/z/x/m-psks-1982-psks-ethnic-wear-original-imagfnew9sbezpty.jpeg\n",
      "https://static-assets-web.flixcart.com/fk-p-linchpin-web/fk-cp-zion/img/fa_62673a.png\n",
      "https://rukminim2.flixcart.com/image/612/612/xif0q/sherwani/f/c/s/xxl-mens-daman-85-n-b-f-fashion-original-imagrm7uhuhax9zq.jpeg\n",
      "https://rukminim2.flixcart.com/image/612/612/xif0q/sherwani/z/f/6/xxl-shw148-504-pnt105-540-deyann-original-imagjvzjghxgdbwe.jpeg\n",
      "https://rukminim2.flixcart.com/image/612/612/xif0q/sherwani/s/o/z/m-cokurta2-pat-bl-avaeta-original-imag3hpvqqfzwbfd-bb.jpeg\n",
      "https://static-assets-web.flixcart.com/fk-p-linchpin-web/fk-cp-zion/img/fa_62673a.png\n",
      "https://rukminim2.flixcart.com/image/612/612/xif0q/sherwani/n/p/a/xl-810011-tahvo-original-imagh3fvbrhqbka5.jpeg\n",
      "https://rukminim2.flixcart.com/image/612/612/xif0q/sherwani/m/k/e/m-shw105-504-205-pat101-529-deyann-original-imaghxfhbjuytfaf.jpeg\n",
      "https://rukminim2.flixcart.com/image/612/612/xif0q/sherwani/o/r/p/l-shw104-527-pat101-502-deyann-original-imaghxhq7mdmfyaw.jpeg\n",
      "https://rukminim2.flixcart.com/image/612/612/l52sivk0/sherwani/x/f/u/xl-jss-090707-chote-raja-collection-original-imagftcdt7vuskfm.jpeg\n",
      "https://static-assets-web.flixcart.com/fk-p-linchpin-web/fk-cp-zion/img/fa_62673a.png\n",
      "https://rukminim2.flixcart.com/image/612/612/xif0q/sherwani/h/m/q/free-psks-1982-psks-ethnic-wear-original-image4qstfnfgwh3-bb.jpeg\n",
      "https://rukminim2.flixcart.com/image/612/612/xif0q/sherwani/g/1/n/s-mens-indo-western-n-b-f-fashion-original-imagqhahh2fqwbpe.jpeg\n",
      "https://static-assets-web.flixcart.com/fk-p-linchpin-web/fk-cp-zion/img/fa_62673a.png\n",
      "https://rukminim2.flixcart.com/image/612/612/xif0q/sherwani/n/4/y/l-instar-141-cream-ptdp-tassar-sg-leman-original-imaggf8dqbbrqjsj.jpeg\n",
      "https://static-assets-web.flixcart.com/fk-p-linchpin-web/fk-cp-zion/img/fa_62673a.png\n",
      "https://rukminim2.flixcart.com/image/612/612/xif0q/sherwani/8/7/k/m-shw105-529-201-pat101-504-deyann-original-imaghxfmwgggrjaa.jpeg\n",
      "https://rukminim2.flixcart.com/image/612/612/xif0q/sherwani/w/k/l/s-ach108-514-k95107-504-deyann-original-imag24znjg2dfzzj-bb.jpeg\n",
      "https://rukminim2.flixcart.com/image/612/612/xif0q/sherwani/f/c/s/xxl-mens-daman-85-n-b-f-fashion-original-imagrm7uhuhax9zq.jpeg\n",
      "https://rukminim2.flixcart.com/image/612/612/xif0q/sherwani/k/p/w/m-ol-golden146-cream-sg-rajasahab-original-imagyueqq49uznwg-bb.jpeg\n",
      "https://static-assets-web.flixcart.com/fk-p-linchpin-web/fk-cp-zion/img/fa_62673a.png\n",
      "https://rukminim2.flixcart.com/image/612/612/xif0q/sherwani/c/y/v/m-shw119-529-dpt-534-220-pat101-529-deyann-original-imaghyzcgujkwhvz.jpeg\n",
      "https://rukminim2.flixcart.com/image/612/612/xif0q/sherwani/v/3/1/xl-shw148-540-pnt105-526-deyann-original-imagjvzjjsn4paeu.jpeg\n",
      "https://rukminim2.flixcart.com/image/612/612/xif0q/sherwani/y/u/h/xxl-mens-indo-western-25-n-b-f-fashion-original-imag3ma2yvrqpxdz-bb.jpeg\n",
      "https://static-assets-web.flixcart.com/fk-p-linchpin-web/fk-cp-zion/img/fa_62673a.png\n",
      "https://rukminim2.flixcart.com/image/612/612/xif0q/sherwani/z/a/s/s-ds07-diamond-style-original-imagj7eqfrngxrdw.jpeg\n",
      "https://rukminim2.flixcart.com/image/612/612/kpcy5jk0/sherwani/q/p/b/xl-mens-sherwani-set-n-b-f-fashion-original-imag3maeqhumcdcj.jpeg\n",
      "https://static-assets-web.flixcart.com/fk-p-linchpin-web/fk-cp-zion/img/fa_62673a.png\n",
      "https://rukminim2.flixcart.com/image/612/612/xif0q/sherwani/v/o/f/l-mens-740-n-b-f-fashion-original-imagsycqrndgzng5.jpeg\n",
      "https://static-assets-web.flixcart.com/fk-p-linchpin-web/fk-cp-zion/img/fa_62673a.png\n",
      "https://rukminim2.flixcart.com/image/612/612/xif0q/sherwani/v/6/w/s-shw106-529-pat101-527-deyann-original-imaghxpyhhrvpbsm.jpeg\n",
      "https://rukminim2.flixcart.com/image/612/612/xif0q/sherwani/4/f/x/3xl-shw105-504-203-pat101-529-deyann-original-imaghxfhpeden9nx.jpeg\n",
      "https://rukminim2.flixcart.com/image/612/612/xif0q/sherwani/5/i/x/l-mens-indo-western-78-brand-boy-original-imagghjnupuweyse.jpeg\n",
      "https://static-assets-web.flixcart.com/fk-p-linchpin-web/fk-cp-zion/img/fa_62673a.png\n",
      "https://rukminim2.flixcart.com/image/612/612/xif0q/sherwani/m/c/a/xl-ol-golden-145-cream-sg-rajasahab-original-imagffpah7tgppds-bb.jpeg\n",
      "https://static-assets-web.flixcart.com/fk-p-linchpin-web/fk-cp-zion/img/fa_62673a.png\n",
      "https://rukminim2.flixcart.com/image/612/612/xif0q/sherwani/3/s/m/xxl-shw105-540-203-pat101-526-deyann-original-imaghxfha4ea6hr5.jpeg\n",
      "https://rukminim2.flixcart.com/image/612/612/xif0q/sherwani/9/p/g/s-shw105-526-201-pat101-511-deyann-original-imaghxfhpvyjxuu4.jpeg\n",
      "https://rukminim2.flixcart.com/image/612/612/xif0q/sherwani/s/9/7/l-rj-187-amzira-original-imagqscfj2bmq4v8.jpeg\n",
      "https://static-assets-web.flixcart.com/fk-p-linchpin-web/fk-cp-zion/img/fa_62673a.png\n",
      "https://rukminim2.flixcart.com/image/612/612/xif0q/sherwani/f/o/3/xxl-srn-sadree-original-imaghvezdsyrhgdf.jpeg\n",
      "https://static-assets-web.flixcart.com/fk-p-linchpin-web/fk-cp-zion/img/fa_62673a.png\n",
      "https://rukminim2.flixcart.com/image/612/612/xif0q/sherwani/y/k/x/xl-mens-daman-85-xepon-original-imagrm6tqtht5faq.jpeg\n",
      "https://rukminim2.flixcart.com/image/612/612/xif0q/sherwani/v/o/f/l-mens-740-n-b-f-fashion-original-imagsycqrndgzng5.jpeg\n",
      "https://static-assets-web.flixcart.com/fk-p-linchpin-web/fk-cp-zion/img/fa_62673a.png\n",
      "https://rukminim2.flixcart.com/image/612/612/xif0q/sherwani/p/h/d/xxl-wf-rd10-diamond-original-imagrnscyzkhknxc.jpeg\n",
      "https://rukminim2.flixcart.com/image/612/612/xif0q/sherwani/t/z/j/l-top-sh-77-psks-ethnic-wear-original-imaghch5fngcbcj9.jpeg\n",
      "https://rukminim2.flixcart.com/image/612/612/xif0q/sherwani/s/6/x/xxl-mens-indo-western-25-n-b-f-fashion-original-imag3ma2zknhuzzj-bb.jpeg\n",
      "https://static-assets-web.flixcart.com/fk-p-linchpin-web/fk-cp-zion/img/fa_62673a.png\n",
      "https://rukminim2.flixcart.com/image/612/612/xif0q/sherwani/2/c/h/s-blacksherwani-hangup-original-imaf8beysjjvhyjs-bb.jpeg\n",
      "https://static-assets-web.flixcart.com/fk-p-linchpin-web/fk-cp-zion/img/fa_62673a.png\n",
      "https://rukminim2.flixcart.com/image/300/300/xif0q/sherwani/s/o/z/m-cokurta2-pat-bl-avaeta-original-imag3hpvqqfzwbfd-bb.jpeg\n",
      "data:image/svg+xml;base64,PHN2ZyB4bWxucz0iaHR0cDovL3d3dy53My5vcmcvMjAwMC9zdmciIHdpZHRoPSIxMyIgaGVpZ2h0PSIxMiI+PHBhdGggZmlsbD0iI0ZGRiIgZD0iTTYuNSA5LjQzOWwtMy42NzQgMi4yMy45NC00LjI2LTMuMjEtMi44ODMgNC4yNTQtLjQwNEw2LjUuMTEybDEuNjkgNC4wMSA0LjI1NC40MDQtMy4yMSAyLjg4Mi45NCA0LjI2eiIvPjwvc3ZnPg==\n",
      "data:image/svg+xml;base64,PHN2ZyB4bWxucz0iaHR0cDovL3d3dy53My5vcmcvMjAwMC9zdmciIHdpZHRoPSIxMyIgaGVpZ2h0PSIxMiI+PHBhdGggZmlsbD0iI0ZGRiIgZD0iTTYuNSA5LjQzOWwtMy42NzQgMi4yMy45NC00LjI2LTMuMjEtMi44ODMgNC4yNTQtLjQwNEw2LjUuMTEybDEuNjkgNC4wMSA0LjI1NC40MDQtMy4yMSAyLjg4Mi45NCA0LjI2eiIvPjwvc3ZnPg==\n",
      "data:image/svg+xml;base64,PHN2ZyB4bWxucz0iaHR0cDovL3d3dy53My5vcmcvMjAwMC9zdmciIHdpZHRoPSIxMyIgaGVpZ2h0PSIxMiI+PHBhdGggZmlsbD0iI0ZGRiIgZD0iTTYuNSA5LjQzOWwtMy42NzQgMi4yMy45NC00LjI2LTMuMjEtMi44ODMgNC4yNTQtLjQwNEw2LjUuMTEybDEuNjkgNC4wMSA0LjI1NC40MDQtMy4yMSAyLjg4Mi45NCA0LjI2eiIvPjwvc3ZnPg==\n",
      "https://rukminim2.flixcart.com/image/300/300/xif0q/sherwani/b/l/x/xl-mens-24-n-b-f-fashion-original-imag5zg9zvsymbtp-bb.jpeg\n",
      "data:image/svg+xml;base64,PHN2ZyB4bWxucz0iaHR0cDovL3d3dy53My5vcmcvMjAwMC9zdmciIHdpZHRoPSIxMyIgaGVpZ2h0PSIxMiI+PHBhdGggZmlsbD0iI0ZGRiIgZD0iTTYuNSA5LjQzOWwtMy42NzQgMi4yMy45NC00LjI2LTMuMjEtMi44ODMgNC4yNTQtLjQwNEw2LjUuMTEybDEuNjkgNC4wMSA0LjI1NC40MDQtMy4yMSAyLjg4Mi45NCA0LjI2eiIvPjwvc3ZnPg==\n",
      "data:image/svg+xml;base64,PHN2ZyB4bWxucz0iaHR0cDovL3d3dy53My5vcmcvMjAwMC9zdmciIHdpZHRoPSIxMyIgaGVpZ2h0PSIxMiI+PHBhdGggZmlsbD0iI0ZGRiIgZD0iTTYuNSA5LjQzOWwtMy42NzQgMi4yMy45NC00LjI2LTMuMjEtMi44ODMgNC4yNTQtLjQwNEw2LjUuMTEybDEuNjkgNC4wMSA0LjI1NC40MDQtMy4yMSAyLjg4Mi45NCA0LjI2eiIvPjwvc3ZnPg==\n",
      "data:image/svg+xml;base64,PHN2ZyB4bWxucz0iaHR0cDovL3d3dy53My5vcmcvMjAwMC9zdmciIHdpZHRoPSIxMyIgaGVpZ2h0PSIxMiI+PHBhdGggZmlsbD0iI0ZGRiIgZD0iTTYuNSA5LjQzOWwtMy42NzQgMi4yMy45NC00LjI2LTMuMjEtMi44ODMgNC4yNTQtLjQwNEw2LjUuMTEybDEuNjkgNC4wMSA0LjI1NC40MDQtMy4yMSAyLjg4Mi45NCA0LjI2eiIvPjwvc3ZnPg==\n",
      "https://rukminim2.flixcart.com/image/300/300/l4u7vrk0/sherwani/e/z/x/m-psks-1982-psks-ethnic-wear-original-imagfnew9sbezpty.jpeg\n",
      "data:image/svg+xml;base64,PHN2ZyB4bWxucz0iaHR0cDovL3d3dy53My5vcmcvMjAwMC9zdmciIHdpZHRoPSIxMyIgaGVpZ2h0PSIxMiI+PHBhdGggZmlsbD0iI0ZGRiIgZD0iTTYuNSA5LjQzOWwtMy42NzQgMi4yMy45NC00LjI2LTMuMjEtMi44ODMgNC4yNTQtLjQwNEw2LjUuMTEybDEuNjkgNC4wMSA0LjI1NC40MDQtMy4yMSAyLjg4Mi45NCA0LjI2eiIvPjwvc3ZnPg==\n",
      "data:image/svg+xml;base64,PHN2ZyB4bWxucz0iaHR0cDovL3d3dy53My5vcmcvMjAwMC9zdmciIHdpZHRoPSIxMyIgaGVpZ2h0PSIxMiI+PHBhdGggZmlsbD0iI0ZGRiIgZD0iTTYuNSA5LjQzOWwtMy42NzQgMi4yMy45NC00LjI2LTMuMjEtMi44ODMgNC4yNTQtLjQwNEw2LjUuMTEybDEuNjkgNC4wMSA0LjI1NC40MDQtMy4yMSAyLjg4Mi45NCA0LjI2eiIvPjwvc3ZnPg==\n",
      "data:image/svg+xml;base64,PHN2ZyB4bWxucz0iaHR0cDovL3d3dy53My5vcmcvMjAwMC9zdmciIHdpZHRoPSIxMyIgaGVpZ2h0PSIxMiI+PHBhdGggZmlsbD0iI0ZGRiIgZD0iTTYuNSA5LjQzOWwtMy42NzQgMi4yMy45NC00LjI2LTMuMjEtMi44ODMgNC4yNTQtLjQwNEw2LjUuMTEybDEuNjkgNC4wMSA0LjI1NC40MDQtMy4yMSAyLjg4Mi45NCA0LjI2eiIvPjwvc3ZnPg==\n",
      "https://rukminim2.flixcart.com/image/300/300/xif0q/sherwani/t/z/j/l-top-sh-77-psks-ethnic-wear-original-imaghch5fngcbcj9.jpeg\n",
      "data:image/svg+xml;base64,PHN2ZyB4bWxucz0iaHR0cDovL3d3dy53My5vcmcvMjAwMC9zdmciIHdpZHRoPSIxMyIgaGVpZ2h0PSIxMiI+PHBhdGggZmlsbD0iI0ZGRiIgZD0iTTYuNSA5LjQzOWwtMy42NzQgMi4yMy45NC00LjI2LTMuMjEtMi44ODMgNC4yNTQtLjQwNEw2LjUuMTEybDEuNjkgNC4wMSA0LjI1NC40MDQtMy4yMSAyLjg4Mi45NCA0LjI2eiIvPjwvc3ZnPg==\n",
      "data:image/svg+xml;base64,PHN2ZyB4bWxucz0iaHR0cDovL3d3dy53My5vcmcvMjAwMC9zdmciIHdpZHRoPSIxMyIgaGVpZ2h0PSIxMiI+PHBhdGggZmlsbD0iI0ZGRiIgZD0iTTYuNSA5LjQzOWwtMy42NzQgMi4yMy45NC00LjI2LTMuMjEtMi44ODMgNC4yNTQtLjQwNEw2LjUuMTEybDEuNjkgNC4wMSA0LjI1NC40MDQtMy4yMSAyLjg4Mi45NCA0LjI2eiIvPjwvc3ZnPg==\n",
      "data:image/svg+xml;base64,PHN2ZyB4bWxucz0iaHR0cDovL3d3dy53My5vcmcvMjAwMC9zdmciIHdpZHRoPSIxMyIgaGVpZ2h0PSIxMiI+PHBhdGggZmlsbD0iI0ZGRiIgZD0iTTYuNSA5LjQzOWwtMy42NzQgMi4yMy45NC00LjI2LTMuMjEtMi44ODMgNC4yNTQtLjQwNEw2LjUuMTEybDEuNjkgNC4wMSA0LjI1NC40MDQtMy4yMSAyLjg4Mi45NCA0LjI2eiIvPjwvc3ZnPg==\n"
     ]
    },
    {
     "name": "stdout",
     "output_type": "stream",
     "text": [
      "https://rukminim2.flixcart.com/image/300/300/xif0q/sherwani/s/6/x/xxl-mens-indo-western-25-n-b-f-fashion-original-imag3ma2zknhuzzj-bb.jpeg\n",
      "data:image/svg+xml;base64,PHN2ZyB4bWxucz0iaHR0cDovL3d3dy53My5vcmcvMjAwMC9zdmciIHdpZHRoPSIxMyIgaGVpZ2h0PSIxMiI+PHBhdGggZmlsbD0iI0ZGRiIgZD0iTTYuNSA5LjQzOWwtMy42NzQgMi4yMy45NC00LjI2LTMuMjEtMi44ODMgNC4yNTQtLjQwNEw2LjUuMTEybDEuNjkgNC4wMSA0LjI1NC40MDQtMy4yMSAyLjg4Mi45NCA0LjI2eiIvPjwvc3ZnPg==\n",
      "data:image/svg+xml;base64,PHN2ZyB4bWxucz0iaHR0cDovL3d3dy53My5vcmcvMjAwMC9zdmciIHdpZHRoPSIxMyIgaGVpZ2h0PSIxMiI+PHBhdGggZmlsbD0iI0ZGRiIgZD0iTTYuNSA5LjQzOWwtMy42NzQgMi4yMy45NC00LjI2LTMuMjEtMi44ODMgNC4yNTQtLjQwNEw2LjUuMTEybDEuNjkgNC4wMSA0LjI1NC40MDQtMy4yMSAyLjg4Mi45NCA0LjI2eiIvPjwvc3ZnPg==\n",
      "data:image/svg+xml;base64,PHN2ZyB4bWxucz0iaHR0cDovL3d3dy53My5vcmcvMjAwMC9zdmciIHdpZHRoPSIxMyIgaGVpZ2h0PSIxMiI+PHBhdGggZmlsbD0iI0ZGRiIgZD0iTTYuNSA5LjQzOWwtMy42NzQgMi4yMy45NC00LjI2LTMuMjEtMi44ODMgNC4yNTQtLjQwNEw2LjUuMTEybDEuNjkgNC4wMSA0LjI1NC40MDQtMy4yMSAyLjg4Mi45NCA0LjI2eiIvPjwvc3ZnPg==\n",
      "data:image/svg+xml;base64,PHN2ZyB4bWxucz0iaHR0cDovL3d3dy53My5vcmcvMjAwMC9zdmciIHdpZHRoPSIxNiIgaGVpZ2h0PSIxNSIgdmlld0JveD0iMCAwIDE2IDE1Ij4KICAgIDxkZWZzPgogICAgICAgIDxsaW5lYXJHcmFkaWVudCBpZD0iYSIgeDE9IjAlIiB4Mj0iODYuODc2JSIgeTE9IjAlIiB5Mj0iODAuMjAyJSI+CiAgICAgICAgICAgIDxzdG9wIG9mZnNldD0iMCUiIHN0b3AtY29sb3I9IiNGRkQ4MDAiLz4KICAgICAgICAgICAgPHN0b3Agb2Zmc2V0PSIxMDAlIiBzdG9wLWNvbG9yPSIjRkZBRjAwIi8+CiAgICAgICAgPC9saW5lYXJHcmFkaWVudD4KICAgIDwvZGVmcz4KICAgIDxnIGZpbGw9Im5vbmUiIGZpbGwtcnVsZT0iZXZlbm9kZCI+CiAgICAgICAgPHBhdGggZD0iTS0yLTJoMjB2MjBILTJ6Ii8+CiAgICAgICAgPHBhdGggZmlsbD0idXJsKCNhKSIgZmlsbC1ydWxlPSJub256ZXJvIiBkPSJNMTUuOTMgNS42MTRoLTIuOTQ4VjQuMTRjMC0uODE4LS42NTUtMS40NzMtMS40NzMtMS40NzNIOC41NmMtLjgxNyAwLTEuNDczLjY1NS0xLjQ3MyAxLjQ3M3YxLjQ3NEg0LjE0Yy0uODE4IDAtMS40NjYuNjU2LTEuNDY2IDEuNDc0bC0uMDA3IDguMTA1YzAgLjgxOC42NTUgMS40NzQgMS40NzMgMS40NzRoMTEuNzljLjgxOCAwIDEuNDc0LS42NTYgMS40NzQtMS40NzRWNy4wODhjMC0uODE4LS42NTYtMS40NzQtMS40NzQtMS40NzR6bS00LjQyMSAwSDguNTZWNC4xNGgyLjk0OHYxLjQ3NHoiIHRyYW5zZm9ybT0idHJhbnNsYXRlKC0yIC0yKSIvPgogICAgPC9nPgo8L3N2Zz4K\n",
      "data:image/svg+xml;base64,PHN2ZyB4bWxucz0iaHR0cDovL3d3dy53My5vcmcvMjAwMC9zdmciIHdpZHRoPSIxNSIgaGVpZ2h0PSIxNSIgdmlld0JveD0iMCAwIDE1IDE1Ij4KICAgIDxkZWZzPgogICAgICAgIDxsaW5lYXJHcmFkaWVudCBpZD0iYSIgeDE9IjAlIiB4Mj0iODYuODc2JSIgeTE9IjAlIiB5Mj0iODAuMjAyJSI+CiAgICAgICAgICAgIDxzdG9wIG9mZnNldD0iMCUiIHN0b3AtY29sb3I9IiNGRkQ4MDAiLz4KICAgICAgICAgICAgPHN0b3Agb2Zmc2V0PSIxMDAlIiBzdG9wLWNvbG9yPSIjRkZBRjAwIi8+CiAgICAgICAgPC9saW5lYXJHcmFkaWVudD4KICAgIDwvZGVmcz4KICAgIDxnIGZpbGw9Im5vbmUiIGZpbGwtcnVsZT0iZXZlbm9kZCI+CiAgICAgICAgPHBhdGggZD0iTS0zLTNoMjB2MjBILTN6Ii8+CiAgICAgICAgPHBhdGggZmlsbD0idXJsKCNhKSIgZmlsbC1ydWxlPSJub256ZXJvIiBkPSJNMTAuNDkyIDNDNi4zNTMgMyAzIDYuMzYgMyAxMC41YzAgNC4xNCAzLjM1MyA3LjUgNy40OTIgNy41QzE0LjY0IDE4IDE4IDE0LjY0IDE4IDEwLjUgMTggNi4zNiAxNC42NCAzIDEwLjQ5MiAzem0zLjE4IDEyTDEwLjUgMTMuMDg4IDcuMzI3IDE1bC44NC0zLjYwN0w1LjM3IDguOTdsMy42OS0uMzE1TDEwLjUgNS4yNWwxLjQ0IDMuMzk4IDMuNjkuMzE1LTIuNzk4IDIuNDIyLjg0IDMuNjE1eiIgdHJhbnNmb3JtPSJ0cmFuc2xhdGUoLTMgLTMpIi8+CiAgICA8L2c+Cjwvc3ZnPgo=\n",
      "data:image/svg+xml;base64,PHN2ZyB4bWxucz0iaHR0cDovL3d3dy53My5vcmcvMjAwMC9zdmciIHdpZHRoPSIxOCIgaGVpZ2h0PSIxNyIgdmlld0JveD0iMCAwIDE4IDE3Ij4KICAgIDxkZWZzPgogICAgICAgIDxsaW5lYXJHcmFkaWVudCBpZD0iYSIgeDE9IjAlIiB4Mj0iODYuODc2JSIgeTE9IjAlIiB5Mj0iODAuMjAyJSI+CiAgICAgICAgICAgIDxzdG9wIG9mZnNldD0iMCUiIHN0b3AtY29sb3I9IiNGRkQ4MDAiLz4KICAgICAgICAgICAgPHN0b3Agb2Zmc2V0PSIxMDAlIiBzdG9wLWNvbG9yPSIjRkZBRjAwIi8+CiAgICAgICAgPC9saW5lYXJHcmFkaWVudD4KICAgIDwvZGVmcz4KICAgIDxnIGZpbGw9Im5vbmUiIGZpbGwtcnVsZT0iZXZlbm9kZCI+CiAgICAgICAgPHBhdGggZD0iTS0xLTFoMjB2MjBILTF6Ii8+CiAgICAgICAgPHBhdGggZmlsbD0idXJsKCNhKSIgZmlsbC1ydWxlPSJub256ZXJvIiBkPSJNMTYuNjY3IDVIMTQuODVjLjA5Mi0uMjU4LjE1LS41NDIuMTUtLjgzM2EyLjQ5NyAyLjQ5NyAwIDAgMC00LjU4My0xLjM3NUwxMCAzLjM1bC0uNDE3LS41NjdBMi41MSAyLjUxIDAgMCAwIDcuNSAxLjY2N2EyLjQ5NyAyLjQ5NyAwIDAgMC0yLjUgMi41YzAgLjI5MS4wNTguNTc1LjE1LjgzM0gzLjMzM2MtLjkyNSAwLTEuNjU4Ljc0Mi0xLjY1OCAxLjY2N2wtLjAwOCA5LjE2NkExLjY2IDEuNjYgMCAwIDAgMy4zMzMgMTcuNWgxMy4zMzRhMS42NiAxLjY2IDAgMCAwIDEuNjY2LTEuNjY3VjYuNjY3QTEuNjYgMS42NiAwIDAgMCAxNi42NjcgNXptMCA2LjY2N0gzLjMzM3YtNWg0LjIzNEw1LjgzMyA5LjAyNWwxLjM1Ljk3NSAxLjk4NC0yLjdMMTAgNi4xNjdsLjgzMyAxLjEzMyAxLjk4NCAyLjcgMS4zNS0uOTc1LTEuNzM0LTIuMzU4aDQuMjM0djV6IiB0cmFuc2Zvcm09InRyYW5zbGF0ZSgtMSAtMSkiLz4KICAgIDwvZz4KPC9zdmc+Cg==\n",
      "data:image/svg+xml;base64,PHN2ZyB4bWxucz0iaHR0cDovL3d3dy53My5vcmcvMjAwMC9zdmciIHdpZHRoPSIxNSIgaGVpZ2h0PSIxNSIgdmlld0JveD0iMCAwIDE1IDE1Ij4KICAgIDxkZWZzPgogICAgICAgIDxsaW5lYXJHcmFkaWVudCBpZD0iYSIgeDE9IjAlIiB4Mj0iODYuODc2JSIgeTE9IjAlIiB5Mj0iODAuMjAyJSI+CiAgICAgICAgICAgIDxzdG9wIG9mZnNldD0iMCUiIHN0b3AtY29sb3I9IiNGRkQ4MDAiLz4KICAgICAgICAgICAgPHN0b3Agb2Zmc2V0PSIxMDAlIiBzdG9wLWNvbG9yPSIjRkZBRjAwIi8+CiAgICAgICAgPC9saW5lYXJHcmFkaWVudD4KICAgIDwvZGVmcz4KICAgIDxnIGZpbGw9Im5vbmUiIGZpbGwtcnVsZT0iZXZlbm9kZCI+CiAgICAgICAgPHBhdGggZD0iTS0yLTNoMjB2MjBILTJ6Ii8+CiAgICAgICAgPHBhdGggZmlsbD0idXJsKCNhKSIgZmlsbC1ydWxlPSJub256ZXJvIiBkPSJNOS41IDNDNS4zNiAzIDIgNi4zNiAyIDEwLjUgMiAxNC42NCA1LjM2IDE4IDkuNSAxOGM0LjE0IDAgNy41LTMuMzYgNy41LTcuNUMxNyA2LjM2IDEzLjY0IDMgOS41IDN6bS43NSAxMi43NWgtMS41di0xLjVoMS41djEuNXptMS41NTMtNS44MTNsLS42NzYuNjljLS41NC41NDgtLjg3Ny45OTgtLjg3NyAyLjEyM2gtMS41di0uMzc1YzAtLjgyNS4zMzgtMS41NzUuODc3LTIuMTIzbC45My0uOTQ1Yy4yNzgtLjI3LjQ0My0uNjQ1LjQ0My0xLjA1NyAwLS44MjUtLjY3NS0xLjUtMS41LTEuNVM4IDcuNDI1IDggOC4yNUg2LjVhMyAzIDAgMSAxIDYgMGMwIC42Ni0uMjcgMS4yNi0uNjk3IDEuNjg4eiIgdHJhbnNmb3JtPSJ0cmFuc2xhdGUoLTIgLTMpIi8+CiAgICA8L2c+Cjwvc3ZnPgo=\n",
      "https://static-assets-web.flixcart.com/fk-p-linchpin-web/fk-cp-zion/img/payment-method_69e7ec.svg\n",
      "https://www.flipkart.com/search?q=sherwanis&otracker=search&otracker1=search&marketplace=FLIPKART&as-show=on&as=off&page=1\n",
      "https://static-assets-web.flixcart.com/fk-p-linchpin-web/fk-cp-zion/img/flipkart-plus_8d85f4.png\n",
      "https://static-assets-web.flixcart.com/fk-p-linchpin-web/fk-cp-zion/img/plus_aef861.png\n",
      "https://static-assets-web.flixcart.com/fk-p-linchpin-web/fk-cp-zion/img/fa_62673a.png\n",
      "https://rukminim2.flixcart.com/image/612/612/xif0q/sherwani/8/n/p/m-jss-7700007-chote-raja-collection-original-imag49fqhzqwzfts-bb.jpeg\n",
      "https://static-assets-web.flixcart.com/fk-p-linchpin-web/fk-cp-zion/img/fa_62673a.png\n",
      "https://rukminim2.flixcart.com/image/612/612/l52sivk0/sherwani/d/8/h/m-jss-090707-chote-raja-collection-original-imagftcddba5eqfu.jpeg\n",
      "https://static-assets-web.flixcart.com/fk-p-linchpin-web/fk-cp-zion/img/fa_62673a.png\n",
      "https://rukminim2.flixcart.com/image/612/612/xif0q/sherwani/1/x/x/l-jss-7700007-chote-raja-collection-original-imag49g3j9fqfaw8-bb.jpeg\n",
      "https://static-assets-web.flixcart.com/fk-p-linchpin-web/fk-cp-zion/img/fa_62673a.png\n",
      "https://rukminim2.flixcart.com/image/612/612/xif0q/sherwani/g/s/t/l-ol-golden-148-phone-sg-rajasahab-original-imaf9jzvc2v5a6xj-bb.jpeg\n",
      "https://static-assets-web.flixcart.com/fk-p-linchpin-web/fk-cp-zion/img/fa_62673a.png\n",
      "https://rukminim2.flixcart.com/image/612/612/xif0q/sherwani/b/l/x/xl-mens-24-n-b-f-fashion-original-imag5zg9zvsymbtp-bb.jpeg\n",
      "https://static-assets-web.flixcart.com/fk-p-linchpin-web/fk-cp-zion/img/fa_62673a.png\n",
      "https://rukminim2.flixcart.com/image/612/612/l4u7vrk0/sherwani/e/z/x/m-psks-1982-psks-ethnic-wear-original-imagfnew9sbezpty.jpeg\n",
      "https://static-assets-web.flixcart.com/fk-p-linchpin-web/fk-cp-zion/img/fa_62673a.png\n",
      "https://rukminim2.flixcart.com/image/612/612/xif0q/sherwani/f/c/s/xxl-mens-daman-85-n-b-f-fashion-original-imagrm7uhuhax9zq.jpeg\n",
      "https://rukminim2.flixcart.com/image/612/612/xif0q/sherwani/g/1/n/s-mens-indo-western-n-b-f-fashion-original-imagqhahh2fqwbpe.jpeg\n",
      "https://static-assets-web.flixcart.com/fk-p-linchpin-web/fk-cp-zion/img/fa_62673a.png\n",
      "https://rukminim2.flixcart.com/image/612/612/xif0q/sherwani/s/o/z/m-cokurta2-pat-bl-avaeta-original-imag3hpvqqfzwbfd-bb.jpeg\n",
      "https://static-assets-web.flixcart.com/fk-p-linchpin-web/fk-cp-zion/img/fa_62673a.png\n",
      "https://rukminim2.flixcart.com/image/612/612/xif0q/sherwani/g/1/n/s-mens-indo-western-n-b-f-fashion-original-imagqhahh2fqwbpe.jpeg\n",
      "https://static-assets-web.flixcart.com/fk-p-linchpin-web/fk-cp-zion/img/fa_62673a.png\n",
      "https://rukminim2.flixcart.com/image/612/612/xif0q/sherwani/c/y/v/m-shw119-529-dpt-534-220-pat101-529-deyann-original-imaghyzcgujkwhvz.jpeg\n",
      "https://rukminim2.flixcart.com/image/612/612/xif0q/sherwani/z/f/6/xxl-shw148-504-pnt105-540-deyann-original-imagjvzjghxgdbwe.jpeg\n",
      "https://rukminim2.flixcart.com/image/612/612/l52sivk0/sherwani/x/f/u/xl-jss-090707-chote-raja-collection-original-imagftcdt7vuskfm.jpeg\n"
     ]
    },
    {
     "name": "stdout",
     "output_type": "stream",
     "text": [
      "https://static-assets-web.flixcart.com/fk-p-linchpin-web/fk-cp-zion/img/fa_62673a.png\n",
      "https://rukminim2.flixcart.com/image/612/612/xif0q/sherwani/2/c/h/s-blacksherwani-hangup-original-imaf8beysjjvhyjs-bb.jpeg\n",
      "https://static-assets-web.flixcart.com/fk-p-linchpin-web/fk-cp-zion/img/fa_62673a.png\n",
      "https://rukminim2.flixcart.com/image/612/612/xif0q/sherwani/u/v/d/s-ingolden148-cream-chdp-maroon-st-1-sg-rajasahab-original-imagh7estfpyawhj.jpeg\n",
      "https://static-assets-web.flixcart.com/fk-p-linchpin-web/fk-cp-zion/img/fa_62673a.png\n",
      "https://rukminim2.flixcart.com/image/612/612/xif0q/sherwani/y/u/h/xxl-mens-indo-western-25-n-b-f-fashion-original-imag3ma2yvrqpxdz-bb.jpeg\n",
      "https://static-assets-web.flixcart.com/fk-p-linchpin-web/fk-cp-zion/img/fa_62673a.png\n",
      "https://rukminim2.flixcart.com/image/612/612/xif0q/sherwani/8/7/k/m-shw105-529-201-pat101-504-deyann-original-imaghxfmwgggrjaa.jpeg\n",
      "https://rukminim2.flixcart.com/image/612/612/xif0q/sherwani/o/r/p/l-shw104-527-pat101-502-deyann-original-imaghxhq7mdmfyaw.jpeg\n",
      "https://rukminim2.flixcart.com/image/612/612/xif0q/sherwani/y/k/x/xl-mens-daman-85-xepon-original-imagrm6tqtht5faq.jpeg\n",
      "https://rukminim2.flixcart.com/image/612/612/xif0q/sherwani/x/9/q/s-srn-sadree-original-imaghvezvnpvqzdy.jpeg\n",
      "https://static-assets-web.flixcart.com/fk-p-linchpin-web/fk-cp-zion/img/fa_62673a.png\n",
      "https://rukminim2.flixcart.com/image/612/612/xif0q/sherwani/m/k/e/m-shw105-504-205-pat101-529-deyann-original-imaghxfhbjuytfaf.jpeg\n",
      "https://rukminim2.flixcart.com/image/612/612/xif0q/sherwani/w/k/l/s-ach108-514-k95107-504-deyann-original-imag24znjg2dfzzj-bb.jpeg\n",
      "https://rukminim2.flixcart.com/image/612/612/xif0q/sherwani/v/o/f/l-mens-740-n-b-f-fashion-original-imagsycqrndgzng5.jpeg\n",
      "https://static-assets-web.flixcart.com/fk-p-linchpin-web/fk-cp-zion/img/fa_62673a.png\n",
      "https://rukminim2.flixcart.com/image/612/612/kpcy5jk0/sherwani/q/p/b/xl-mens-sherwani-set-n-b-f-fashion-original-imag3maeqhumcdcj.jpeg\n",
      "https://static-assets-web.flixcart.com/fk-p-linchpin-web/fk-cp-zion/img/fa_62673a.png\n",
      "https://rukminim2.flixcart.com/image/612/612/l3rmzrk0/sherwani/6/t/x/xl-mens-sk-785-brand-boy-original-imagetc78byyk2yd.jpeg\n",
      "https://static-assets-web.flixcart.com/fk-p-linchpin-web/fk-cp-zion/img/fa_62673a.png\n",
      "https://rukminim2.flixcart.com/image/612/612/xif0q/sherwani/s/9/7/l-rj-187-amzira-original-imagqscfj2bmq4v8.jpeg\n",
      "https://static-assets-web.flixcart.com/fk-p-linchpin-web/fk-cp-zion/img/fa_62673a.png\n",
      "https://rukminim2.flixcart.com/image/612/612/xif0q/sherwani/v/3/1/xl-shw148-540-pnt105-526-deyann-original-imagjvzjjsn4paeu.jpeg\n",
      "https://rukminim2.flixcart.com/image/612/612/xif0q/sherwani/v/6/w/s-shw106-529-pat101-527-deyann-original-imaghxpyhhrvpbsm.jpeg\n",
      "https://rukminim2.flixcart.com/image/612/612/xif0q/sherwani/p/h/d/xxl-wf-rd10-diamond-original-imagrnscyzkhknxc.jpeg\n",
      "https://rukminim2.flixcart.com/image/612/612/xif0q/sherwani/5/i/x/l-mens-indo-western-78-brand-boy-original-imagghjnupuweyse.jpeg\n",
      "https://static-assets-web.flixcart.com/fk-p-linchpin-web/fk-cp-zion/img/fa_62673a.png\n",
      "https://rukminim2.flixcart.com/image/612/612/xif0q/sherwani/4/f/x/3xl-shw105-504-203-pat101-529-deyann-original-imaghxfhpeden9nx.jpeg\n",
      "https://rukminim2.flixcart.com/image/612/612/xif0q/sherwani/3/s/m/xxl-shw105-540-203-pat101-526-deyann-original-imaghxfha4ea6hr5.jpeg\n",
      "https://rukminim2.flixcart.com/image/612/612/xif0q/sherwani/e/p/4/m-srn-sadree-original-imaghvez6hkaegfq.jpeg\n",
      "https://static-assets-web.flixcart.com/fk-p-linchpin-web/fk-cp-zion/img/fa_62673a.png\n",
      "https://rukminim2.flixcart.com/image/612/612/xif0q/sherwani/n/p/a/xl-810011-tahvo-original-imagh3fvbrhqbka5.jpeg\n",
      "https://rukminim2.flixcart.com/image/612/612/xif0q/sherwani/f/c/s/xxl-mens-daman-85-n-b-f-fashion-original-imagrm7uhuhax9zq.jpeg\n",
      "https://rukminim2.flixcart.com/image/612/612/xif0q/sherwani/g/1/n/s-mens-indo-western-n-b-f-fashion-original-imagqhahh2fqwbpe.jpeg\n",
      "https://static-assets-web.flixcart.com/fk-p-linchpin-web/fk-cp-zion/img/fa_62673a.png\n",
      "https://rukminim2.flixcart.com/image/612/612/xif0q/sherwani/9/p/g/s-shw105-526-201-pat101-511-deyann-original-imaghxfhpvyjxuu4.jpeg\n",
      "https://rukminim2.flixcart.com/image/612/612/xif0q/sherwani/t/z/j/l-top-sh-77-psks-ethnic-wear-original-imaghch5fngcbcj9.jpeg\n",
      "https://rukminim2.flixcart.com/image/612/612/xif0q/sherwani/h/m/q/free-psks-1982-psks-ethnic-wear-original-image4qstfnfgwh3-bb.jpeg\n",
      "https://rukminim2.flixcart.com/image/612/612/xif0q/sherwani/s/6/x/xxl-mens-indo-western-25-n-b-f-fashion-original-imag3ma2zknhuzzj-bb.jpeg\n",
      "https://static-assets-web.flixcart.com/fk-p-linchpin-web/fk-cp-zion/img/fa_62673a.png\n",
      "https://rukminim2.flixcart.com/image/300/300/l4u7vrk0/sherwani/e/z/x/m-psks-1982-psks-ethnic-wear-original-imagfnew9sbezpty.jpeg\n",
      "data:image/svg+xml;base64,PHN2ZyB4bWxucz0iaHR0cDovL3d3dy53My5vcmcvMjAwMC9zdmciIHdpZHRoPSIxMyIgaGVpZ2h0PSIxMiI+PHBhdGggZmlsbD0iI0ZGRiIgZD0iTTYuNSA5LjQzOWwtMy42NzQgMi4yMy45NC00LjI2LTMuMjEtMi44ODMgNC4yNTQtLjQwNEw2LjUuMTEybDEuNjkgNC4wMSA0LjI1NC40MDQtMy4yMSAyLjg4Mi45NCA0LjI2eiIvPjwvc3ZnPg==\n",
      "data:image/svg+xml;base64,PHN2ZyB4bWxucz0iaHR0cDovL3d3dy53My5vcmcvMjAwMC9zdmciIHdpZHRoPSIxMyIgaGVpZ2h0PSIxMiI+PHBhdGggZmlsbD0iI0ZGRiIgZD0iTTYuNSA5LjQzOWwtMy42NzQgMi4yMy45NC00LjI2LTMuMjEtMi44ODMgNC4yNTQtLjQwNEw2LjUuMTEybDEuNjkgNC4wMSA0LjI1NC40MDQtMy4yMSAyLjg4Mi45NCA0LjI2eiIvPjwvc3ZnPg==\n",
      "data:image/svg+xml;base64,PHN2ZyB4bWxucz0iaHR0cDovL3d3dy53My5vcmcvMjAwMC9zdmciIHdpZHRoPSIxMyIgaGVpZ2h0PSIxMiI+PHBhdGggZmlsbD0iI0ZGRiIgZD0iTTYuNSA5LjQzOWwtMy42NzQgMi4yMy45NC00LjI2LTMuMjEtMi44ODMgNC4yNTQtLjQwNEw2LjUuMTEybDEuNjkgNC4wMSA0LjI1NC40MDQtMy4yMSAyLjg4Mi45NCA0LjI2eiIvPjwvc3ZnPg==\n",
      "https://rukminim2.flixcart.com/image/300/300/xif0q/sherwani/t/z/j/l-top-sh-77-psks-ethnic-wear-original-imaghch5fngcbcj9.jpeg\n",
      "data:image/svg+xml;base64,PHN2ZyB4bWxucz0iaHR0cDovL3d3dy53My5vcmcvMjAwMC9zdmciIHdpZHRoPSIxMyIgaGVpZ2h0PSIxMiI+PHBhdGggZmlsbD0iI0ZGRiIgZD0iTTYuNSA5LjQzOWwtMy42NzQgMi4yMy45NC00LjI2LTMuMjEtMi44ODMgNC4yNTQtLjQwNEw2LjUuMTEybDEuNjkgNC4wMSA0LjI1NC40MDQtMy4yMSAyLjg4Mi45NCA0LjI2eiIvPjwvc3ZnPg==\n",
      "data:image/svg+xml;base64,PHN2ZyB4bWxucz0iaHR0cDovL3d3dy53My5vcmcvMjAwMC9zdmciIHdpZHRoPSIxMyIgaGVpZ2h0PSIxMiI+PHBhdGggZmlsbD0iI0ZGRiIgZD0iTTYuNSA5LjQzOWwtMy42NzQgMi4yMy45NC00LjI2LTMuMjEtMi44ODMgNC4yNTQtLjQwNEw2LjUuMTEybDEuNjkgNC4wMSA0LjI1NC40MDQtMy4yMSAyLjg4Mi45NCA0LjI2eiIvPjwvc3ZnPg==\n",
      "data:image/svg+xml;base64,PHN2ZyB4bWxucz0iaHR0cDovL3d3dy53My5vcmcvMjAwMC9zdmciIHdpZHRoPSIxMyIgaGVpZ2h0PSIxMiI+PHBhdGggZmlsbD0iI0ZGRiIgZD0iTTYuNSA5LjQzOWwtMy42NzQgMi4yMy45NC00LjI2LTMuMjEtMi44ODMgNC4yNTQtLjQwNEw2LjUuMTEybDEuNjkgNC4wMSA0LjI1NC40MDQtMy4yMSAyLjg4Mi45NCA0LjI2eiIvPjwvc3ZnPg==\n",
      "https://rukminim2.flixcart.com/image/300/300/xif0q/sherwani/s/o/z/m-cokurta2-pat-bl-avaeta-original-imag3hpvqqfzwbfd-bb.jpeg\n",
      "data:image/svg+xml;base64,PHN2ZyB4bWxucz0iaHR0cDovL3d3dy53My5vcmcvMjAwMC9zdmciIHdpZHRoPSIxMyIgaGVpZ2h0PSIxMiI+PHBhdGggZmlsbD0iI0ZGRiIgZD0iTTYuNSA5LjQzOWwtMy42NzQgMi4yMy45NC00LjI2LTMuMjEtMi44ODMgNC4yNTQtLjQwNEw2LjUuMTEybDEuNjkgNC4wMSA0LjI1NC40MDQtMy4yMSAyLjg4Mi45NCA0LjI2eiIvPjwvc3ZnPg==\n",
      "data:image/svg+xml;base64,PHN2ZyB4bWxucz0iaHR0cDovL3d3dy53My5vcmcvMjAwMC9zdmciIHdpZHRoPSIxMyIgaGVpZ2h0PSIxMiI+PHBhdGggZmlsbD0iI0ZGRiIgZD0iTTYuNSA5LjQzOWwtMy42NzQgMi4yMy45NC00LjI2LTMuMjEtMi44ODMgNC4yNTQtLjQwNEw2LjUuMTEybDEuNjkgNC4wMSA0LjI1NC40MDQtMy4yMSAyLjg4Mi45NCA0LjI2eiIvPjwvc3ZnPg==\n",
      "data:image/svg+xml;base64,PHN2ZyB4bWxucz0iaHR0cDovL3d3dy53My5vcmcvMjAwMC9zdmciIHdpZHRoPSIxMyIgaGVpZ2h0PSIxMiI+PHBhdGggZmlsbD0iI0ZGRiIgZD0iTTYuNSA5LjQzOWwtMy42NzQgMi4yMy45NC00LjI2LTMuMjEtMi44ODMgNC4yNTQtLjQwNEw2LjUuMTEybDEuNjkgNC4wMSA0LjI1NC40MDQtMy4yMSAyLjg4Mi45NCA0LjI2eiIvPjwvc3ZnPg==\n",
      "https://rukminim2.flixcart.com/image/300/300/xif0q/sherwani/s/6/x/xxl-mens-indo-western-25-n-b-f-fashion-original-imag3ma2zknhuzzj-bb.jpeg\n",
      "data:image/svg+xml;base64,PHN2ZyB4bWxucz0iaHR0cDovL3d3dy53My5vcmcvMjAwMC9zdmciIHdpZHRoPSIxMyIgaGVpZ2h0PSIxMiI+PHBhdGggZmlsbD0iI0ZGRiIgZD0iTTYuNSA5LjQzOWwtMy42NzQgMi4yMy45NC00LjI2LTMuMjEtMi44ODMgNC4yNTQtLjQwNEw2LjUuMTEybDEuNjkgNC4wMSA0LjI1NC40MDQtMy4yMSAyLjg4Mi45NCA0LjI2eiIvPjwvc3ZnPg==\n",
      "data:image/svg+xml;base64,PHN2ZyB4bWxucz0iaHR0cDovL3d3dy53My5vcmcvMjAwMC9zdmciIHdpZHRoPSIxMyIgaGVpZ2h0PSIxMiI+PHBhdGggZmlsbD0iI0ZGRiIgZD0iTTYuNSA5LjQzOWwtMy42NzQgMi4yMy45NC00LjI2LTMuMjEtMi44ODMgNC4yNTQtLjQwNEw2LjUuMTEybDEuNjkgNC4wMSA0LjI1NC40MDQtMy4yMSAyLjg4Mi45NCA0LjI2eiIvPjwvc3ZnPg==\n",
      "data:image/svg+xml;base64,PHN2ZyB4bWxucz0iaHR0cDovL3d3dy53My5vcmcvMjAwMC9zdmciIHdpZHRoPSIxMyIgaGVpZ2h0PSIxMiI+PHBhdGggZmlsbD0iI0ZGRiIgZD0iTTYuNSA5LjQzOWwtMy42NzQgMi4yMy45NC00LjI2LTMuMjEtMi44ODMgNC4yNTQtLjQwNEw2LjUuMTEybDEuNjkgNC4wMSA0LjI1NC40MDQtMy4yMSAyLjg4Mi45NCA0LjI2eiIvPjwvc3ZnPg==\n",
      "https://rukminim2.flixcart.com/image/300/300/xif0q/sherwani/e/p/4/m-srn-sadree-original-imaghvez6hkaegfq.jpeg\n",
      "data:image/svg+xml;base64,PHN2ZyB4bWxucz0iaHR0cDovL3d3dy53My5vcmcvMjAwMC9zdmciIHdpZHRoPSIxMyIgaGVpZ2h0PSIxMiI+PHBhdGggZmlsbD0iI0ZGRiIgZD0iTTYuNSA5LjQzOWwtMy42NzQgMi4yMy45NC00LjI2LTMuMjEtMi44ODMgNC4yNTQtLjQwNEw2LjUuMTEybDEuNjkgNC4wMSA0LjI1NC40MDQtMy4yMSAyLjg4Mi45NCA0LjI2eiIvPjwvc3ZnPg==\n",
      "data:image/svg+xml;base64,PHN2ZyB4bWxucz0iaHR0cDovL3d3dy53My5vcmcvMjAwMC9zdmciIHdpZHRoPSIxMyIgaGVpZ2h0PSIxMiI+PHBhdGggZmlsbD0iI0ZGRiIgZD0iTTYuNSA5LjQzOWwtMy42NzQgMi4yMy45NC00LjI2LTMuMjEtMi44ODMgNC4yNTQtLjQwNEw2LjUuMTEybDEuNjkgNC4wMSA0LjI1NC40MDQtMy4yMSAyLjg4Mi45NCA0LjI2eiIvPjwvc3ZnPg==\n",
      "data:image/svg+xml;base64,PHN2ZyB4bWxucz0iaHR0cDovL3d3dy53My5vcmcvMjAwMC9zdmciIHdpZHRoPSIxMyIgaGVpZ2h0PSIxMiI+PHBhdGggZmlsbD0iI0ZGRiIgZD0iTTYuNSA5LjQzOWwtMy42NzQgMi4yMy45NC00LjI2LTMuMjEtMi44ODMgNC4yNTQtLjQwNEw2LjUuMTEybDEuNjkgNC4wMSA0LjI1NC40MDQtMy4yMSAyLjg4Mi45NCA0LjI2eiIvPjwvc3ZnPg==\n",
      "data:image/svg+xml;base64,PHN2ZyB4bWxucz0iaHR0cDovL3d3dy53My5vcmcvMjAwMC9zdmciIHdpZHRoPSIxNiIgaGVpZ2h0PSIxNSIgdmlld0JveD0iMCAwIDE2IDE1Ij4KICAgIDxkZWZzPgogICAgICAgIDxsaW5lYXJHcmFkaWVudCBpZD0iYSIgeDE9IjAlIiB4Mj0iODYuODc2JSIgeTE9IjAlIiB5Mj0iODAuMjAyJSI+CiAgICAgICAgICAgIDxzdG9wIG9mZnNldD0iMCUiIHN0b3AtY29sb3I9IiNGRkQ4MDAiLz4KICAgICAgICAgICAgPHN0b3Agb2Zmc2V0PSIxMDAlIiBzdG9wLWNvbG9yPSIjRkZBRjAwIi8+CiAgICAgICAgPC9saW5lYXJHcmFkaWVudD4KICAgIDwvZGVmcz4KICAgIDxnIGZpbGw9Im5vbmUiIGZpbGwtcnVsZT0iZXZlbm9kZCI+CiAgICAgICAgPHBhdGggZD0iTS0yLTJoMjB2MjBILTJ6Ii8+CiAgICAgICAgPHBhdGggZmlsbD0idXJsKCNhKSIgZmlsbC1ydWxlPSJub256ZXJvIiBkPSJNMTUuOTMgNS42MTRoLTIuOTQ4VjQuMTRjMC0uODE4LS42NTUtMS40NzMtMS40NzMtMS40NzNIOC41NmMtLjgxNyAwLTEuNDczLjY1NS0xLjQ3MyAxLjQ3M3YxLjQ3NEg0LjE0Yy0uODE4IDAtMS40NjYuNjU2LTEuNDY2IDEuNDc0bC0uMDA3IDguMTA1YzAgLjgxOC42NTUgMS40NzQgMS40NzMgMS40NzRoMTEuNzljLjgxOCAwIDEuNDc0LS42NTYgMS40NzQtMS40NzRWNy4wODhjMC0uODE4LS42NTYtMS40NzQtMS40NzQtMS40NzR6bS00LjQyMSAwSDguNTZWNC4xNGgyLjk0OHYxLjQ3NHoiIHRyYW5zZm9ybT0idHJhbnNsYXRlKC0yIC0yKSIvPgogICAgPC9nPgo8L3N2Zz4K\n",
      "data:image/svg+xml;base64,PHN2ZyB4bWxucz0iaHR0cDovL3d3dy53My5vcmcvMjAwMC9zdmciIHdpZHRoPSIxNSIgaGVpZ2h0PSIxNSIgdmlld0JveD0iMCAwIDE1IDE1Ij4KICAgIDxkZWZzPgogICAgICAgIDxsaW5lYXJHcmFkaWVudCBpZD0iYSIgeDE9IjAlIiB4Mj0iODYuODc2JSIgeTE9IjAlIiB5Mj0iODAuMjAyJSI+CiAgICAgICAgICAgIDxzdG9wIG9mZnNldD0iMCUiIHN0b3AtY29sb3I9IiNGRkQ4MDAiLz4KICAgICAgICAgICAgPHN0b3Agb2Zmc2V0PSIxMDAlIiBzdG9wLWNvbG9yPSIjRkZBRjAwIi8+CiAgICAgICAgPC9saW5lYXJHcmFkaWVudD4KICAgIDwvZGVmcz4KICAgIDxnIGZpbGw9Im5vbmUiIGZpbGwtcnVsZT0iZXZlbm9kZCI+CiAgICAgICAgPHBhdGggZD0iTS0zLTNoMjB2MjBILTN6Ii8+CiAgICAgICAgPHBhdGggZmlsbD0idXJsKCNhKSIgZmlsbC1ydWxlPSJub256ZXJvIiBkPSJNMTAuNDkyIDNDNi4zNTMgMyAzIDYuMzYgMyAxMC41YzAgNC4xNCAzLjM1MyA3LjUgNy40OTIgNy41QzE0LjY0IDE4IDE4IDE0LjY0IDE4IDEwLjUgMTggNi4zNiAxNC42NCAzIDEwLjQ5MiAzem0zLjE4IDEyTDEwLjUgMTMuMDg4IDcuMzI3IDE1bC44NC0zLjYwN0w1LjM3IDguOTdsMy42OS0uMzE1TDEwLjUgNS4yNWwxLjQ0IDMuMzk4IDMuNjkuMzE1LTIuNzk4IDIuNDIyLjg0IDMuNjE1eiIgdHJhbnNmb3JtPSJ0cmFuc2xhdGUoLTMgLTMpIi8+CiAgICA8L2c+Cjwvc3ZnPgo=\n",
      "data:image/svg+xml;base64,PHN2ZyB4bWxucz0iaHR0cDovL3d3dy53My5vcmcvMjAwMC9zdmciIHdpZHRoPSIxOCIgaGVpZ2h0PSIxNyIgdmlld0JveD0iMCAwIDE4IDE3Ij4KICAgIDxkZWZzPgogICAgICAgIDxsaW5lYXJHcmFkaWVudCBpZD0iYSIgeDE9IjAlIiB4Mj0iODYuODc2JSIgeTE9IjAlIiB5Mj0iODAuMjAyJSI+CiAgICAgICAgICAgIDxzdG9wIG9mZnNldD0iMCUiIHN0b3AtY29sb3I9IiNGRkQ4MDAiLz4KICAgICAgICAgICAgPHN0b3Agb2Zmc2V0PSIxMDAlIiBzdG9wLWNvbG9yPSIjRkZBRjAwIi8+CiAgICAgICAgPC9saW5lYXJHcmFkaWVudD4KICAgIDwvZGVmcz4KICAgIDxnIGZpbGw9Im5vbmUiIGZpbGwtcnVsZT0iZXZlbm9kZCI+CiAgICAgICAgPHBhdGggZD0iTS0xLTFoMjB2MjBILTF6Ii8+CiAgICAgICAgPHBhdGggZmlsbD0idXJsKCNhKSIgZmlsbC1ydWxlPSJub256ZXJvIiBkPSJNMTYuNjY3IDVIMTQuODVjLjA5Mi0uMjU4LjE1LS41NDIuMTUtLjgzM2EyLjQ5NyAyLjQ5NyAwIDAgMC00LjU4My0xLjM3NUwxMCAzLjM1bC0uNDE3LS41NjdBMi41MSAyLjUxIDAgMCAwIDcuNSAxLjY2N2EyLjQ5NyAyLjQ5NyAwIDAgMC0yLjUgMi41YzAgLjI5MS4wNTguNTc1LjE1LjgzM0gzLjMzM2MtLjkyNSAwLTEuNjU4Ljc0Mi0xLjY1OCAxLjY2N2wtLjAwOCA5LjE2NkExLjY2IDEuNjYgMCAwIDAgMy4zMzMgMTcuNWgxMy4zMzRhMS42NiAxLjY2IDAgMCAwIDEuNjY2LTEuNjY3VjYuNjY3QTEuNjYgMS42NiAwIDAgMCAxNi42NjcgNXptMCA2LjY2N0gzLjMzM3YtNWg0LjIzNEw1LjgzMyA5LjAyNWwxLjM1Ljk3NSAxLjk4NC0yLjdMMTAgNi4xNjdsLjgzMyAxLjEzMyAxLjk4NCAyLjcgMS4zNS0uOTc1LTEuNzM0LTIuMzU4aDQuMjM0djV6IiB0cmFuc2Zvcm09InRyYW5zbGF0ZSgtMSAtMSkiLz4KICAgIDwvZz4KPC9zdmc+Cg==\n",
      "data:image/svg+xml;base64,PHN2ZyB4bWxucz0iaHR0cDovL3d3dy53My5vcmcvMjAwMC9zdmciIHdpZHRoPSIxNSIgaGVpZ2h0PSIxNSIgdmlld0JveD0iMCAwIDE1IDE1Ij4KICAgIDxkZWZzPgogICAgICAgIDxsaW5lYXJHcmFkaWVudCBpZD0iYSIgeDE9IjAlIiB4Mj0iODYuODc2JSIgeTE9IjAlIiB5Mj0iODAuMjAyJSI+CiAgICAgICAgICAgIDxzdG9wIG9mZnNldD0iMCUiIHN0b3AtY29sb3I9IiNGRkQ4MDAiLz4KICAgICAgICAgICAgPHN0b3Agb2Zmc2V0PSIxMDAlIiBzdG9wLWNvbG9yPSIjRkZBRjAwIi8+CiAgICAgICAgPC9saW5lYXJHcmFkaWVudD4KICAgIDwvZGVmcz4KICAgIDxnIGZpbGw9Im5vbmUiIGZpbGwtcnVsZT0iZXZlbm9kZCI+CiAgICAgICAgPHBhdGggZD0iTS0yLTNoMjB2MjBILTJ6Ii8+CiAgICAgICAgPHBhdGggZmlsbD0idXJsKCNhKSIgZmlsbC1ydWxlPSJub256ZXJvIiBkPSJNOS41IDNDNS4zNiAzIDIgNi4zNiAyIDEwLjUgMiAxNC42NCA1LjM2IDE4IDkuNSAxOGM0LjE0IDAgNy41LTMuMzYgNy41LTcuNUMxNyA2LjM2IDEzLjY0IDMgOS41IDN6bS43NSAxMi43NWgtMS41di0xLjVoMS41djEuNXptMS41NTMtNS44MTNsLS42NzYuNjljLS41NC41NDgtLjg3Ny45OTgtLjg3NyAyLjEyM2gtMS41di0uMzc1YzAtLjgyNS4zMzgtMS41NzUuODc3LTIuMTIzbC45My0uOTQ1Yy4yNzgtLjI3LjQ0My0uNjQ1LjQ0My0xLjA1NyAwLS44MjUtLjY3NS0xLjUtMS41LTEuNVM4IDcuNDI1IDggOC4yNUg2LjVhMyAzIDAgMSAxIDYgMGMwIC42Ni0uMjcgMS4yNi0uNjk3IDEuNjg4eiIgdHJhbnNmb3JtPSJ0cmFuc2xhdGUoLTIgLTMpIi8+CiAgICA8L2c+Cjwvc3ZnPgo=\n",
      "https://static-assets-web.flixcart.com/fk-p-linchpin-web/fk-cp-zion/img/payment-method_69e7ec.svg\n"
     ]
    },
    {
     "ename": "ValueError",
     "evalue": "Length of values (3) does not match length of index (219)",
     "output_type": "error",
     "traceback": [
      "\u001b[0;31m---------------------------------------------------------------------------\u001b[0m",
      "\u001b[0;31mValueError\u001b[0m                                Traceback (most recent call last)",
      "Cell \u001b[0;32mIn[18], line 41\u001b[0m\n\u001b[1;32m     39\u001b[0m     title\u001b[38;5;241m.\u001b[39mappend(titles)\n\u001b[1;32m     40\u001b[0m df[\u001b[38;5;124m'\u001b[39m\u001b[38;5;124murls\u001b[39m\u001b[38;5;124m'\u001b[39m] \u001b[38;5;241m=\u001b[39m urls\n\u001b[0;32m---> 41\u001b[0m df[\u001b[38;5;124m'\u001b[39m\u001b[38;5;124mtitles\u001b[39m\u001b[38;5;124m'\u001b[39m] \u001b[38;5;241m=\u001b[39m title\n\u001b[1;32m     42\u001b[0m df\u001b[38;5;241m.\u001b[39mto_csv(\u001b[38;5;124m'\u001b[39m\u001b[38;5;124m/Users/butler/Documents/hp/Classification_of_Indian_clothing_images/data/external/newly_scraped_images/test/flipkart.csv\u001b[39m\u001b[38;5;124m'\u001b[39m)\n",
      "File \u001b[0;32m~/anaconda3/envs/cnn/lib/python3.9/site-packages/pandas/core/frame.py:3950\u001b[0m, in \u001b[0;36mDataFrame.__setitem__\u001b[0;34m(self, key, value)\u001b[0m\n\u001b[1;32m   3947\u001b[0m     \u001b[38;5;28mself\u001b[39m\u001b[38;5;241m.\u001b[39m_setitem_array([key], value)\n\u001b[1;32m   3948\u001b[0m \u001b[38;5;28;01melse\u001b[39;00m:\n\u001b[1;32m   3949\u001b[0m     \u001b[38;5;66;03m# set column\u001b[39;00m\n\u001b[0;32m-> 3950\u001b[0m     \u001b[38;5;28;43mself\u001b[39;49m\u001b[38;5;241;43m.\u001b[39;49m\u001b[43m_set_item\u001b[49m\u001b[43m(\u001b[49m\u001b[43mkey\u001b[49m\u001b[43m,\u001b[49m\u001b[43m \u001b[49m\u001b[43mvalue\u001b[49m\u001b[43m)\u001b[49m\n",
      "File \u001b[0;32m~/anaconda3/envs/cnn/lib/python3.9/site-packages/pandas/core/frame.py:4143\u001b[0m, in \u001b[0;36mDataFrame._set_item\u001b[0;34m(self, key, value)\u001b[0m\n\u001b[1;32m   4133\u001b[0m \u001b[38;5;28;01mdef\u001b[39;00m \u001b[38;5;21m_set_item\u001b[39m(\u001b[38;5;28mself\u001b[39m, key, value) \u001b[38;5;241m-\u001b[39m\u001b[38;5;241m>\u001b[39m \u001b[38;5;28;01mNone\u001b[39;00m:\n\u001b[1;32m   4134\u001b[0m \u001b[38;5;250m    \u001b[39m\u001b[38;5;124;03m\"\"\"\u001b[39;00m\n\u001b[1;32m   4135\u001b[0m \u001b[38;5;124;03m    Add series to DataFrame in specified column.\u001b[39;00m\n\u001b[1;32m   4136\u001b[0m \n\u001b[0;32m   (...)\u001b[0m\n\u001b[1;32m   4141\u001b[0m \u001b[38;5;124;03m    ensure homogeneity.\u001b[39;00m\n\u001b[1;32m   4142\u001b[0m \u001b[38;5;124;03m    \"\"\"\u001b[39;00m\n\u001b[0;32m-> 4143\u001b[0m     value \u001b[38;5;241m=\u001b[39m \u001b[38;5;28;43mself\u001b[39;49m\u001b[38;5;241;43m.\u001b[39;49m\u001b[43m_sanitize_column\u001b[49m\u001b[43m(\u001b[49m\u001b[43mvalue\u001b[49m\u001b[43m)\u001b[49m\n\u001b[1;32m   4145\u001b[0m     \u001b[38;5;28;01mif\u001b[39;00m (\n\u001b[1;32m   4146\u001b[0m         key \u001b[38;5;129;01min\u001b[39;00m \u001b[38;5;28mself\u001b[39m\u001b[38;5;241m.\u001b[39mcolumns\n\u001b[1;32m   4147\u001b[0m         \u001b[38;5;129;01mand\u001b[39;00m value\u001b[38;5;241m.\u001b[39mndim \u001b[38;5;241m==\u001b[39m \u001b[38;5;241m1\u001b[39m\n\u001b[1;32m   4148\u001b[0m         \u001b[38;5;129;01mand\u001b[39;00m \u001b[38;5;129;01mnot\u001b[39;00m is_extension_array_dtype(value)\n\u001b[1;32m   4149\u001b[0m     ):\n\u001b[1;32m   4150\u001b[0m         \u001b[38;5;66;03m# broadcast across multiple columns if necessary\u001b[39;00m\n\u001b[1;32m   4151\u001b[0m         \u001b[38;5;28;01mif\u001b[39;00m \u001b[38;5;129;01mnot\u001b[39;00m \u001b[38;5;28mself\u001b[39m\u001b[38;5;241m.\u001b[39mcolumns\u001b[38;5;241m.\u001b[39mis_unique \u001b[38;5;129;01mor\u001b[39;00m \u001b[38;5;28misinstance\u001b[39m(\u001b[38;5;28mself\u001b[39m\u001b[38;5;241m.\u001b[39mcolumns, MultiIndex):\n",
      "File \u001b[0;32m~/anaconda3/envs/cnn/lib/python3.9/site-packages/pandas/core/frame.py:4870\u001b[0m, in \u001b[0;36mDataFrame._sanitize_column\u001b[0;34m(self, value)\u001b[0m\n\u001b[1;32m   4867\u001b[0m     \u001b[38;5;28;01mreturn\u001b[39;00m _reindex_for_setitem(Series(value), \u001b[38;5;28mself\u001b[39m\u001b[38;5;241m.\u001b[39mindex)\n\u001b[1;32m   4869\u001b[0m \u001b[38;5;28;01mif\u001b[39;00m is_list_like(value):\n\u001b[0;32m-> 4870\u001b[0m     \u001b[43mcom\u001b[49m\u001b[38;5;241;43m.\u001b[39;49m\u001b[43mrequire_length_match\u001b[49m\u001b[43m(\u001b[49m\u001b[43mvalue\u001b[49m\u001b[43m,\u001b[49m\u001b[43m \u001b[49m\u001b[38;5;28;43mself\u001b[39;49m\u001b[38;5;241;43m.\u001b[39;49m\u001b[43mindex\u001b[49m\u001b[43m)\u001b[49m\n\u001b[1;32m   4871\u001b[0m \u001b[38;5;28;01mreturn\u001b[39;00m sanitize_array(value, \u001b[38;5;28mself\u001b[39m\u001b[38;5;241m.\u001b[39mindex, copy\u001b[38;5;241m=\u001b[39m\u001b[38;5;28;01mTrue\u001b[39;00m, allow_2d\u001b[38;5;241m=\u001b[39m\u001b[38;5;28;01mTrue\u001b[39;00m)\n",
      "File \u001b[0;32m~/anaconda3/envs/cnn/lib/python3.9/site-packages/pandas/core/common.py:576\u001b[0m, in \u001b[0;36mrequire_length_match\u001b[0;34m(data, index)\u001b[0m\n\u001b[1;32m    572\u001b[0m \u001b[38;5;250m\u001b[39m\u001b[38;5;124;03m\"\"\"\u001b[39;00m\n\u001b[1;32m    573\u001b[0m \u001b[38;5;124;03mCheck the length of data matches the length of the index.\u001b[39;00m\n\u001b[1;32m    574\u001b[0m \u001b[38;5;124;03m\"\"\"\u001b[39;00m\n\u001b[1;32m    575\u001b[0m \u001b[38;5;28;01mif\u001b[39;00m \u001b[38;5;28mlen\u001b[39m(data) \u001b[38;5;241m!=\u001b[39m \u001b[38;5;28mlen\u001b[39m(index):\n\u001b[0;32m--> 576\u001b[0m     \u001b[38;5;28;01mraise\u001b[39;00m \u001b[38;5;167;01mValueError\u001b[39;00m(\n\u001b[1;32m    577\u001b[0m         \u001b[38;5;124m\"\u001b[39m\u001b[38;5;124mLength of values \u001b[39m\u001b[38;5;124m\"\u001b[39m\n\u001b[1;32m    578\u001b[0m         \u001b[38;5;124mf\u001b[39m\u001b[38;5;124m\"\u001b[39m\u001b[38;5;124m(\u001b[39m\u001b[38;5;132;01m{\u001b[39;00m\u001b[38;5;28mlen\u001b[39m(data)\u001b[38;5;132;01m}\u001b[39;00m\u001b[38;5;124m) \u001b[39m\u001b[38;5;124m\"\u001b[39m\n\u001b[1;32m    579\u001b[0m         \u001b[38;5;124m\"\u001b[39m\u001b[38;5;124mdoes not match length of index \u001b[39m\u001b[38;5;124m\"\u001b[39m\n\u001b[1;32m    580\u001b[0m         \u001b[38;5;124mf\u001b[39m\u001b[38;5;124m\"\u001b[39m\u001b[38;5;124m(\u001b[39m\u001b[38;5;132;01m{\u001b[39;00m\u001b[38;5;28mlen\u001b[39m(index)\u001b[38;5;132;01m}\u001b[39;00m\u001b[38;5;124m)\u001b[39m\u001b[38;5;124m\"\u001b[39m\n\u001b[1;32m    581\u001b[0m     )\n",
      "\u001b[0;31mValueError\u001b[0m: Length of values (3) does not match length of index (219)"
     ]
    }
   ],
   "source": [
    "# most of this code from https://www.makeuseof.com/python-scrape-web-images-how-to/\n",
    "\n",
    "df = pd.DataFrame()\n",
    "title = []\n",
    "urls = []\n",
    "for url in url_sherwanis_list: \n",
    "    print(url)\n",
    "    URL = url\n",
    "    getURL = requests.get(URL, headers={'User-Agent':'Safari/16.5'})\n",
    "    soup = BeautifulSoup(getURL.text, 'html.parser')\n",
    "    titles = soup.find_all('a', class_='IRpwTa')\n",
    "    images = soup.find_all('img')\n",
    "    resolvedURLs = []\n",
    "    \n",
    "    \n",
    "    for image in images:\n",
    "        src = image.get('src')\n",
    "        \n",
    "        resolvedURLs.append(requests.compat.urljoin(URL, src))\n",
    "        \n",
    "        \n",
    "    \n",
    "        \n",
    "    \n",
    "    for i in range(len(resolvedURLs)):\n",
    "        image = resolvedURLs[i].split('?', 1)[0]\n",
    "        \n",
    "        try:\n",
    "            webs = requests.get(image)\n",
    "            \n",
    "            open('/Users/butler/Documents/hp/Classification_of_Indian_clothing_images/data/external/newly_scraped_images/sherwanis/flipkart/' + image.split('/')[-1], 'wb').write(webs.content)\n",
    "            urls.append(image)\n",
    "            t = titles[i].split('title=', 1)[0]\n",
    "            title.append(t)\n",
    "            print(t,end='\\n')\n",
    "            \n",
    "        except:\n",
    "            print(image)\n",
    "    title.append(titles)\n",
    "df['urls'] = urls\n",
    "df['titles'] = title\n",
    "df.to_csv('/Users/butler/Documents/hp/Classification_of_Indian_clothing_images/data/external/newly_scraped_images/test/flipkart.csv')"
   ]
  },
  {
   "cell_type": "code",
   "execution_count": 70,
   "id": "6c1275a6",
   "metadata": {},
   "outputs": [
    {
     "name": "stdout",
     "output_type": "stream",
     "text": [
      "<a class=\"IRpwTa\" href=\"/chote-raja-collection-solid-sherwani/p/itm16aa1c11a9ab2?pid=SRWG49G3HHYNMMHX&amp;lid=LSTSRWG49G3HHYNMMHXZJYZZW&amp;marketplace=FLIPKART&amp;q=sherwanis&amp;store=clo%2Fcfv%2Fdra%2Fbrt&amp;srno=s_1_1&amp;otracker=search&amp;otracker1=search&amp;fm=organic&amp;iid=5f54def5-8ad0-42f7-a723-6538fb4b1d45.SRWG49G3HHYNMMHX.SEARCH&amp;ppt=None&amp;ppn=None&amp;ssid=3rd7aou3ts0000001695420653292&amp;qH=fa2e93e6cb73c479\" rel=\"noopener noreferrer\" target=\"_blank\" title=\"Chote Raja Collection chote raja collection Solid Sherwani Solid Sherwani\">Chote Raja Collection chote raja collection Solid Sherw...</a>\n",
      "<class 'str'>\n",
      "<a class=\"IRpwTa\" href=\"/chote-raja-collection-solid-sherwani/p/itm16aa1c11a9ab2?pid=SRWG49G3HHYNMMHX&amp;lid=LSTSRWG49G3HHYNMMHXZJYZZW&amp;marketplace=FLIPKART&amp;q=sherwanis&amp;store=clo%2Fcfv%2Fdra%2Fbrt&amp;srno=s_1_1&amp;otracker=search&amp;otracker1=search&amp;fm=organic&amp;iid=5f54def5-8ad0-42f7-a723-6538fb4b1d45.SRWG49G3HHYNMMHX.SEARCH&amp;ppt=None&amp;ppn=None&amp;ssid=3rd7aou3ts0000001695420653292&amp;qH=fa2e93e6cb73c479\" rel=\"noopener noreferrer\" target=\"_blank\" title=\"Chote Raja Collection chote raja collection Solid Sherwani Solid Sherwani\">Chote Raja Collection chote raja collection Solid Sherw...</a>\n",
      "<a class=\"IRpwTa\" href=\"/chote-raja-collection-solid-sherwani/p/itm16aa1c11a9ab2?pid=SRWG49G3HHYNMMHX&amp;lid=LSTSRWG49G3HHYNMMHXZJYZZW&amp;marketplace=FLIPKART&amp;q=sherwanis&amp;store=clo%2Fcfv%2Fdra%2Fbrt&amp;srno=s_1_1&amp;otracker=search&amp;otracker1=search&amp;fm=organic&amp;iid=5f54def5-8ad0-42f7-a723-6538fb4b1d45.SRWG49G3HHYNMMHX.SEARCH&amp;ppt=None&amp;ppn=None&amp;ssid=3rd7aou3ts0000001695420653292&amp;qH=fa2e93e6cb73c479\" rel=\"noopener noreferrer\" target=\"_blank\" title=\"Chote Raja Collection chote raja collection Solid Sherwani Solid Sherwani\">Chote Raja Collection chote raja collection Solid Sherw...</a>\n",
      "<a class=\"IRpwTa\" href=\"/chote-raja-collection-solid-sherwani/p/itm16aa1c11a9ab2?pid=SRWG49G3HHYNMMHX&amp;lid=LSTSRWG49G3HHYNMMHXZJYZZW&amp;marketplace=FLIPKART&amp;q=sherwanis&amp;store=clo%2Fcfv%2Fdra%2Fbrt&amp;srno=s_1_1&amp;otracker=search&amp;otracker1=search&amp;fm=organic&amp;iid=5f54def5-8ad0-42f7-a723-6538fb4b1d45.SRWG49G3HHYNMMHX.SEARCH&amp;ppt=None&amp;ppn=None&amp;ssid=3rd7aou3ts0000001695420653292&amp;qH=fa2e93e6cb73c479\" rel=\"noopener noreferrer\" target=\"_blank\" title=\"Chote Raja Collection chote raja collection Solid Sherwani Solid Sherwani\">Chote Raja Collection chote raja collection Solid Sherw...</a>\n",
      "e\n",
      "<a class=\"IRpwTa\" href=\"/chote-raja-collection-solid-sherwani/p/itm16aa1c11a9ab2?pid=SRWG49GFFPGWT5J4&amp;lid=LSTSRWG49GFFPGWT5J4ZB7Z1H&amp;marketplace=FLIPKART&amp;q=sherwanis&amp;store=clo%2Fcfv%2Fdra%2Fbrt&amp;otracker=search&amp;otracker1=search&amp;fm=organic&amp;iid=en_am7po5JFD6DWmhUJD2MaYP_N8x3w6UZV0eic9gaxftRDY-XZZfR70h2RdDKLCWQGRV8WiwlR8vIZueRhwwa9OQ%3D%3D&amp;ppt=None&amp;ppn=None&amp;ssid=kbq3tq9ze80000001695420655750&amp;qH=fa2e93e6cb73c479\" rel=\"noopener noreferrer\" target=\"_blank\" title=\"Chote Raja Collection chote raja collection Solid Sherwani Solid Sherwani\">Chote Raja Collection chote raja collection Solid Sherw...</a>\n",
      "<class 'str'>\n",
      "<a class=\"IRpwTa\" href=\"/chote-raja-collection-solid-sherwani/p/itm16aa1c11a9ab2?pid=SRWG49GFFPGWT5J4&amp;lid=LSTSRWG49GFFPGWT5J4ZB7Z1H&amp;marketplace=FLIPKART&amp;q=sherwanis&amp;store=clo%2Fcfv%2Fdra%2Fbrt&amp;otracker=search&amp;otracker1=search&amp;fm=organic&amp;iid=en_am7po5JFD6DWmhUJD2MaYP_N8x3w6UZV0eic9gaxftRDY-XZZfR70h2RdDKLCWQGRV8WiwlR8vIZueRhwwa9OQ%3D%3D&amp;ppt=None&amp;ppn=None&amp;ssid=kbq3tq9ze80000001695420655750&amp;qH=fa2e93e6cb73c479\" rel=\"noopener noreferrer\" target=\"_blank\" title=\"Chote Raja Collection chote raja collection Solid Sherwani Solid Sherwani\">Chote Raja Collection chote raja collection Solid Sherw...</a>\n",
      "<a class=\"IRpwTa\" href=\"/chote-raja-collection-solid-sherwani/p/itm16aa1c11a9ab2?pid=SRWG49GFFPGWT5J4&amp;lid=LSTSRWG49GFFPGWT5J4ZB7Z1H&amp;marketplace=FLIPKART&amp;q=sherwanis&amp;store=clo%2Fcfv%2Fdra%2Fbrt&amp;otracker=search&amp;otracker1=search&amp;fm=organic&amp;iid=en_am7po5JFD6DWmhUJD2MaYP_N8x3w6UZV0eic9gaxftRDY-XZZfR70h2RdDKLCWQGRV8WiwlR8vIZueRhwwa9OQ%3D%3D&amp;ppt=None&amp;ppn=None&amp;ssid=kbq3tq9ze80000001695420655750&amp;qH=fa2e93e6cb73c479\" rel=\"noopener noreferrer\" target=\"_blank\" title=\"Chote Raja Collection chote raja collection Solid Sherwani Solid Sherwani\">Chote Raja Collection chote raja collection Solid Sherw...</a>\n",
      "<a class=\"IRpwTa\" href=\"/chote-raja-collection-solid-sherwani/p/itm16aa1c11a9ab2?pid=SRWG49GFFPGWT5J4&amp;lid=LSTSRWG49GFFPGWT5J4ZB7Z1H&amp;marketplace=FLIPKART&amp;q=sherwanis&amp;store=clo%2Fcfv%2Fdra%2Fbrt&amp;otracker=search&amp;otracker1=search&amp;fm=organic&amp;iid=en_am7po5JFD6DWmhUJD2MaYP_N8x3w6UZV0eic9gaxftRDY-XZZfR70h2RdDKLCWQGRV8WiwlR8vIZueRhwwa9OQ%3D%3D&amp;ppt=None&amp;ppn=None&amp;ssid=kbq3tq9ze80000001695420655750&amp;qH=fa2e93e6cb73c479\" rel=\"noopener noreferrer\" target=\"_blank\" title=\"Chote Raja Collection chote raja collection Solid Sherwani Solid Sherwani\">Chote Raja Collection chote raja collection Solid Sherw...</a>\n",
      "e\n",
      "<a class=\"IRpwTa\" href=\"/chote-raja-collection-solid-sherwani/p/itm16aa1c11a9ab2?pid=SRWG49GFFPGWT5J4&amp;lid=LSTSRWG49GFFPGWT5J4ZB7Z1H&amp;marketplace=FLIPKART&amp;q=sherwanis&amp;store=clo%2Fcfv%2Fdra%2Fbrt&amp;srno=s_1_1&amp;otracker=search&amp;otracker1=search&amp;fm=organic&amp;iid=en_xUiAKl7rbyn_AtGE93W0lpZPKYU1aP4f6yxAygZ6Mwf3iSPcv9VV4IHeX6685_YqRV8WiwlR8vIZueRhwwa9OQ%3D%3D&amp;ppt=None&amp;ppn=None&amp;ssid=t8d5d7114w0000001695420658007&amp;qH=fa2e93e6cb73c479\" rel=\"noopener noreferrer\" target=\"_blank\" title=\"Chote Raja Collection chote raja collection Solid Sherwani Solid Sherwani\">Chote Raja Collection chote raja collection Solid Sherw...</a>\n",
      "<class 'str'>\n",
      "<a class=\"IRpwTa\" href=\"/chote-raja-collection-solid-sherwani/p/itm16aa1c11a9ab2?pid=SRWG49GFFPGWT5J4&amp;lid=LSTSRWG49GFFPGWT5J4ZB7Z1H&amp;marketplace=FLIPKART&amp;q=sherwanis&amp;store=clo%2Fcfv%2Fdra%2Fbrt&amp;srno=s_1_1&amp;otracker=search&amp;otracker1=search&amp;fm=organic&amp;iid=en_xUiAKl7rbyn_AtGE93W0lpZPKYU1aP4f6yxAygZ6Mwf3iSPcv9VV4IHeX6685_YqRV8WiwlR8vIZueRhwwa9OQ%3D%3D&amp;ppt=None&amp;ppn=None&amp;ssid=t8d5d7114w0000001695420658007&amp;qH=fa2e93e6cb73c479\" rel=\"noopener noreferrer\" target=\"_blank\" title=\"Chote Raja Collection chote raja collection Solid Sherwani Solid Sherwani\">Chote Raja Collection chote raja collection Solid Sherw...</a>\n",
      "<a class=\"IRpwTa\" href=\"/chote-raja-collection-solid-sherwani/p/itm16aa1c11a9ab2?pid=SRWG49GFFPGWT5J4&amp;lid=LSTSRWG49GFFPGWT5J4ZB7Z1H&amp;marketplace=FLIPKART&amp;q=sherwanis&amp;store=clo%2Fcfv%2Fdra%2Fbrt&amp;srno=s_1_1&amp;otracker=search&amp;otracker1=search&amp;fm=organic&amp;iid=en_xUiAKl7rbyn_AtGE93W0lpZPKYU1aP4f6yxAygZ6Mwf3iSPcv9VV4IHeX6685_YqRV8WiwlR8vIZueRhwwa9OQ%3D%3D&amp;ppt=None&amp;ppn=None&amp;ssid=t8d5d7114w0000001695420658007&amp;qH=fa2e93e6cb73c479\" rel=\"noopener noreferrer\" target=\"_blank\" title=\"Chote Raja Collection chote raja collection Solid Sherwani Solid Sherwani\">Chote Raja Collection chote raja collection Solid Sherw...</a>\n",
      "<a class=\"IRpwTa\" href=\"/chote-raja-collection-solid-sherwani/p/itm16aa1c11a9ab2?pid=SRWG49GFFPGWT5J4&amp;lid=LSTSRWG49GFFPGWT5J4ZB7Z1H&amp;marketplace=FLIPKART&amp;q=sherwanis&amp;store=clo%2Fcfv%2Fdra%2Fbrt&amp;srno=s_1_1&amp;otracker=search&amp;otracker1=search&amp;fm=organic&amp;iid=en_xUiAKl7rbyn_AtGE93W0lpZPKYU1aP4f6yxAygZ6Mwf3iSPcv9VV4IHeX6685_YqRV8WiwlR8vIZueRhwwa9OQ%3D%3D&amp;ppt=None&amp;ppn=None&amp;ssid=t8d5d7114w0000001695420658007&amp;qH=fa2e93e6cb73c479\" rel=\"noopener noreferrer\" target=\"_blank\" title=\"Chote Raja Collection chote raja collection Solid Sherwani Solid Sherwani\">Chote Raja Collection chote raja collection Solid Sherw...</a>\n",
      "e\n"
     ]
    }
   ],
   "source": [
    "url_sherwanis_list = ['https://www.flipkart.com/search?q=sherwanis&otracker=search&otracker1=search&marketplace=FLIPKART&as-show=on&as=off']\n",
    "for url in url_sherwanis_list: \n",
    "    \n",
    "    URL = url\n",
    "    getURL = requests.get(URL, headers={'User-Agent':'Safari/16.5'})\n",
    "    soup = BeautifulSoup(getURL.text, 'html.parser')\n",
    "    titles = soup.find_all('a', class_='IRpwTa')\n",
    "    \n",
    "    \n",
    "    print(titles[0])\n",
    "    title = str(titles[0])\n",
    "    print(type(title))\n",
    "    print(title)\n",
    "    title.split('>')\n",
    "    print(title)\n",
    "    title.split('=')\n",
    "    print(title)\n",
    "    print(title[-10],end='\\n')\n",
    "        \n",
    "       "
   ]
  },
  {
   "cell_type": "code",
   "execution_count": 15,
   "id": "ebd8688e",
   "metadata": {},
   "outputs": [
    {
     "data": {
      "text/html": [
       "<div>\n",
       "<style scoped>\n",
       "    .dataframe tbody tr th:only-of-type {\n",
       "        vertical-align: middle;\n",
       "    }\n",
       "\n",
       "    .dataframe tbody tr th {\n",
       "        vertical-align: top;\n",
       "    }\n",
       "\n",
       "    .dataframe thead th {\n",
       "        text-align: right;\n",
       "    }\n",
       "</style>\n",
       "<table border=\"1\" class=\"dataframe\">\n",
       "  <thead>\n",
       "    <tr style=\"text-align: right;\">\n",
       "      <th></th>\n",
       "      <th>urls</th>\n",
       "    </tr>\n",
       "  </thead>\n",
       "  <tbody>\n",
       "    <tr>\n",
       "      <th>0</th>\n",
       "      <td>https://static-assets-web.flixcart.com/fk-p-li...</td>\n",
       "    </tr>\n",
       "    <tr>\n",
       "      <th>1</th>\n",
       "      <td>https://static-assets-web.flixcart.com/fk-p-li...</td>\n",
       "    </tr>\n",
       "    <tr>\n",
       "      <th>2</th>\n",
       "      <td>https://static-assets-web.flixcart.com/fk-p-li...</td>\n",
       "    </tr>\n",
       "    <tr>\n",
       "      <th>3</th>\n",
       "      <td>https://rukminim2.flixcart.com/image/612/612/x...</td>\n",
       "    </tr>\n",
       "    <tr>\n",
       "      <th>4</th>\n",
       "      <td>https://static-assets-web.flixcart.com/fk-p-li...</td>\n",
       "    </tr>\n",
       "  </tbody>\n",
       "</table>\n",
       "</div>"
      ],
      "text/plain": [
       "                                                urls\n",
       "0  https://static-assets-web.flixcart.com/fk-p-li...\n",
       "1  https://static-assets-web.flixcart.com/fk-p-li...\n",
       "2  https://static-assets-web.flixcart.com/fk-p-li...\n",
       "3  https://rukminim2.flixcart.com/image/612/612/x...\n",
       "4  https://static-assets-web.flixcart.com/fk-p-li..."
      ]
     },
     "execution_count": 15,
     "metadata": {},
     "output_type": "execute_result"
    }
   ],
   "source": [
    "df.head()"
   ]
  },
  {
   "cell_type": "code",
   "execution_count": 12,
   "id": "a2ce38c6",
   "metadata": {},
   "outputs": [
    {
     "data": {
      "text/plain": [
       "1396"
      ]
     },
     "execution_count": 12,
     "metadata": {},
     "output_type": "execute_result"
    }
   ],
   "source": [
    "len(df)"
   ]
  },
  {
   "cell_type": "code",
   "execution_count": 9,
   "id": "3eabe995",
   "metadata": {},
   "outputs": [
    {
     "data": {
      "text/plain": [
       "1407"
      ]
     },
     "execution_count": 9,
     "metadata": {},
     "output_type": "execute_result"
    }
   ],
   "source": [
    "len(urls)"
   ]
  },
  {
   "cell_type": "code",
   "execution_count": null,
   "id": "8d5c7479",
   "metadata": {},
   "outputs": [],
   "source": [
    "df = pd.read_csv('/Users/butler/Documents/hp/Classification_of_Indian_clothing_images/data/external/newly_scraped_images/test/test.csv')"
   ]
  },
  {
   "cell_type": "code",
   "execution_count": null,
   "id": "435404d8",
   "metadata": {
    "scrolled": true
   },
   "outputs": [],
   "source": [
    "df.head()"
   ]
  },
  {
   "cell_type": "code",
   "execution_count": null,
   "id": "df16f74a",
   "metadata": {},
   "outputs": [],
   "source": [
    "for i in range(len(df)):\n",
    "    print(df.iloc[i,1])"
   ]
  },
  {
   "cell_type": "code",
   "execution_count": null,
   "id": "3608b81a",
   "metadata": {},
   "outputs": [],
   "source": []
  },
  {
   "cell_type": "code",
   "execution_count": null,
   "id": "04f71872",
   "metadata": {},
   "outputs": [],
   "source": []
  },
  {
   "cell_type": "code",
   "execution_count": null,
   "id": "8a4d63f4",
   "metadata": {},
   "outputs": [],
   "source": [
    "url_mens_kurta_list = ['https://www.jaypore.com/search?q=&_category_level_2=Clothing&_category_level_3=Men&_category_level_4=Kurtas&orderBy=-searchpos']"
   ]
  },
  {
   "cell_type": "code",
   "execution_count": null,
   "id": "38db91bb",
   "metadata": {},
   "outputs": [],
   "source": [
    "# code from https://www.makeuseof.com/python-scrape-web-images-how-to/\n",
    "data_src = []\n",
    "\n",
    "for url in url_dhoti_pants_list: \n",
    "    print(url)\n",
    "    URL = url\n",
    "    getURL = requests.get(URL, headers={'User-Agent':'Safari/16.5'})\n",
    "    soup = BeautifulSoup(getURL.text, 'html.parser')\n",
    "    \n",
    "    images = soup.find_all('img')\n",
    "    resolvedURLs = []\n",
    "    \n",
    "    for image in images:\n",
    "        \n",
    "            \n",
    "        data_src.append([image, f\"https:{image['data-src']}\"])\n",
    "        \n",
    "\n",
    "    \n",
    "        \n",
    "    \n",
    "        src = image.get('src')\n",
    "        resolvedURLs.append(requests.compat.urljoin(URL, src))\n",
    "        \n",
    "\n",
    "        \n",
    "        \n",
    "    for image in resolvedURLs:\n",
    "        image = image.split('?', 1)[0]\n",
    "        \n",
    "        try:\n",
    "            webs = requests.get(image)\n",
    "            open('/Users/butler/Documents/hp/Classification_of_Indian_clothing_images/data/external/newly_scraped_images/test/test' + image.split('/')[-1], 'wb').write(webs.content)\n",
    "        except:\n",
    "            print(image)\n",
    "       \n",
    "\n",
    "       \n",
    "            \n",
    "for image in data_src[1:]:\n",
    "        title, link = image\n",
    "        print(f\"{title}\\n{link}\\n{'-' * 80}\")\n",
    "        \n",
    "\n",
    "    \n",
    "         "
   ]
  },
  {
   "cell_type": "code",
   "execution_count": null,
   "id": "2dc6a601",
   "metadata": {
    "scrolled": true
   },
   "outputs": [],
   "source": [
    "\n",
    "    \n",
    "    URL = 'https://suta.in/collections/lehengas'\n",
    "    getURL = requests.get(URL, headers={'User-Agent':'Safari/16.5'})\n",
    "    soup = BeautifulSoup(getURL.text, 'html.parser')\n",
    "    \n",
    "    images = soup.find_all('img')\n",
    "    resolvedURLs = []\n",
    "    \n",
    "    for image in images:\n",
    "        src = image.get('src')\n",
    "        resolvedURLs.append(requests.compat.urljoin(URL, src))\n",
    "        \n",
    "\n",
    "        \n",
    "        \n",
    "    for image in resolvedURLs:\n",
    "        image = image.split('?', 1)[0]\n",
    "        \n",
    "        try:\n",
    "            webs = requests.get(image)\n",
    "            open('/Users/butler/Documents/hp/Retrieval_of_Indian_clothing/data/raw/indian_clothing/images/lehengas/' + image.split('/')[-1], 'wb').write(webs.content)\n",
    "        except:\n",
    "            print(image)"
   ]
  },
  {
   "cell_type": "code",
   "execution_count": null,
   "id": "863f30e7",
   "metadata": {},
   "outputs": [],
   "source": [
    "for img in resolvedURLs:\n",
    "        try:\n",
    "            webs = requests.get(img)\n",
    "        except:\n",
    "            print(img)\n",
    "        open('/Users/butler/Documents/hp/Retrieval_of_Indian_clothing/data/raw/indian_clothing/images/kurtas_men/' + img.split('/')[-1], 'wb').write(webs.content)\n",
    "       \n",
    "    \n",
    "    "
   ]
  },
  {
   "cell_type": "code",
   "execution_count": null,
   "id": "d1900b4e",
   "metadata": {},
   "outputs": [],
   "source": [
    "https://suta.in/collections/lehengas"
   ]
  },
  {
   "cell_type": "code",
   "execution_count": null,
   "id": "9c871603",
   "metadata": {},
   "outputs": [],
   "source": []
  }
 ],
 "metadata": {
  "kernelspec": {
   "display_name": "Python 3 (ipykernel)",
   "language": "python",
   "name": "python3"
  },
  "language_info": {
   "codemirror_mode": {
    "name": "ipython",
    "version": 3
   },
   "file_extension": ".py",
   "mimetype": "text/x-python",
   "name": "python",
   "nbconvert_exporter": "python",
   "pygments_lexer": "ipython3",
   "version": "3.9.17"
  }
 },
 "nbformat": 4,
 "nbformat_minor": 5
}
