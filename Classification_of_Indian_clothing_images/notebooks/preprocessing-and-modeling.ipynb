{
 "cells": [
  {
   "cell_type": "code",
   "execution_count": 1,
   "id": "1aa1fa27",
   "metadata": {
    "colab": {
     "base_uri": "https://localhost:8080/"
    },
    "execution": {
     "iopub.execute_input": "2023-08-21T22:45:29.567200Z",
     "iopub.status.busy": "2023-08-21T22:45:29.566820Z",
     "iopub.status.idle": "2023-08-21T22:45:42.705189Z",
     "shell.execute_reply": "2023-08-21T22:45:42.704051Z",
     "shell.execute_reply.started": "2023-08-21T22:45:29.567171Z"
    },
    "executionInfo": {
     "elapsed": 7682,
     "status": "ok",
     "timestamp": 1692630033814,
     "user": {
      "displayName": "Kelly Butler",
      "userId": "08515498257456133265"
     },
     "user_tz": 240
    },
    "id": "OQSx6DFa_6_l",
    "outputId": "805f934a-7668-46ab-be66-b662c63531b7"
   },
   "outputs": [
    {
     "name": "stdout",
     "output_type": "stream",
     "text": [
      "Collecting python-resize-image\n",
      "  Downloading python_resize_image-1.1.20-py2.py3-none-any.whl (8.4 kB)\n",
      "Requirement already satisfied: Pillow>=5.1.0 in /Users/butler/anaconda3/lib/python3.9/site-packages (from python-resize-image) (9.4.0)\n",
      "Requirement already satisfied: requests>=2.19.1 in /Users/butler/anaconda3/lib/python3.9/site-packages (from python-resize-image) (2.29.0)\n",
      "Requirement already satisfied: charset-normalizer<4,>=2 in /Users/butler/anaconda3/lib/python3.9/site-packages (from requests>=2.19.1->python-resize-image) (2.0.4)\n",
      "Requirement already satisfied: certifi>=2017.4.17 in /Users/butler/anaconda3/lib/python3.9/site-packages (from requests>=2.19.1->python-resize-image) (2023.7.22)\n",
      "Requirement already satisfied: urllib3<1.27,>=1.21.1 in /Users/butler/anaconda3/lib/python3.9/site-packages (from requests>=2.19.1->python-resize-image) (1.26.15)\n",
      "Requirement already satisfied: idna<4,>=2.5 in /Users/butler/anaconda3/lib/python3.9/site-packages (from requests>=2.19.1->python-resize-image) (3.4)\n",
      "Installing collected packages: python-resize-image\n",
      "Successfully installed python-resize-image-1.1.20\n"
     ]
    }
   ],
   "source": [
    "#!pip install python-resize-image"
   ]
  },
  {
   "cell_type": "code",
   "execution_count": null,
   "id": "961d3922",
   "metadata": {},
   "outputs": [],
   "source": []
  },
  {
   "cell_type": "code",
   "execution_count": 2,
   "id": "444ae7f0",
   "metadata": {
    "execution": {
     "iopub.execute_input": "2023-08-21T21:57:47.622595Z",
     "iopub.status.busy": "2023-08-21T21:57:47.622205Z",
     "iopub.status.idle": "2023-08-21T21:57:59.169832Z",
     "shell.execute_reply": "2023-08-21T21:57:59.168401Z",
     "shell.execute_reply.started": "2023-08-21T21:57:47.622554Z"
    }
   },
   "outputs": [],
   "source": [
    "#! pip install tensorflow"
   ]
  },
  {
   "cell_type": "code",
   "execution_count": 1,
   "id": "0cef3940",
   "metadata": {
    "execution": {
     "iopub.execute_input": "2023-08-21T22:45:42.708093Z",
     "iopub.status.busy": "2023-08-21T22:45:42.707736Z",
     "iopub.status.idle": "2023-08-21T22:45:42.728712Z",
     "shell.execute_reply": "2023-08-21T22:45:42.727808Z",
     "shell.execute_reply.started": "2023-08-21T22:45:42.708059Z"
    },
    "executionInfo": {
     "elapsed": 3,
     "status": "ok",
     "timestamp": 1692630036271,
     "user": {
      "displayName": "Kelly Butler",
      "userId": "08515498257456133265"
     },
     "user_tz": 240
    },
    "id": "d4ef7ab0"
   },
   "outputs": [],
   "source": [
    "import pandas as pd\n",
    "import numpy as np\n",
    "import seaborn as sns\n",
    "import matplotlib.pyplot as plt\n",
    "import keras\n",
    "from keras.models import Sequential, Model\n",
    "from keras.layers import Dense, Conv2D, MaxPooling2D, UpSampling2D, Activation, Flatten, Dropout\n",
    "from keras.preprocessing.image import ImageDataGenerator\n",
    "import tensorflow as tf\n",
    "import cv2\n",
    "from skimage import color\n",
    "from PIL import Image\n",
    "import imageio\n",
    "from resizeimage import resizeimage\n",
    "\n"
   ]
  },
  {
   "cell_type": "code",
   "execution_count": 3,
   "id": "caf9ba67",
   "metadata": {},
   "outputs": [],
   "source": [
    "df_train_resized = pd.read_csv('/Users/butler/Documents/hp/Retrieval_of_Indian_clothing_images/data/processed/kaggle_resized_64x64/df_resized_train.csv')"
   ]
  },
  {
   "cell_type": "code",
   "execution_count": 5,
   "id": "ca51ce12",
   "metadata": {},
   "outputs": [],
   "source": [
    "df = df_train_resized"
   ]
  },
  {
   "cell_type": "code",
   "execution_count": 6,
   "id": "7ee96629",
   "metadata": {},
   "outputs": [
    {
     "data": {
      "text/html": [
       "<div>\n",
       "<style scoped>\n",
       "    .dataframe tbody tr th:only-of-type {\n",
       "        vertical-align: middle;\n",
       "    }\n",
       "\n",
       "    .dataframe tbody tr th {\n",
       "        vertical-align: top;\n",
       "    }\n",
       "\n",
       "    .dataframe thead th {\n",
       "        text-align: right;\n",
       "    }\n",
       "</style>\n",
       "<table border=\"1\" class=\"dataframe\">\n",
       "  <thead>\n",
       "    <tr style=\"text-align: right;\">\n",
       "      <th></th>\n",
       "      <th>Unnamed: 0</th>\n",
       "      <th>train</th>\n",
       "    </tr>\n",
       "  </thead>\n",
       "  <tbody>\n",
       "    <tr>\n",
       "      <th>0</th>\n",
       "      <td>0</td>\n",
       "      <td>&lt;PIL.Image.Image image mode=RGB size=32x32 at ...</td>\n",
       "    </tr>\n",
       "    <tr>\n",
       "      <th>1</th>\n",
       "      <td>1</td>\n",
       "      <td>&lt;PIL.Image.Image image mode=RGB size=32x32 at ...</td>\n",
       "    </tr>\n",
       "    <tr>\n",
       "      <th>2</th>\n",
       "      <td>2</td>\n",
       "      <td>&lt;PIL.Image.Image image mode=RGB size=32x32 at ...</td>\n",
       "    </tr>\n",
       "    <tr>\n",
       "      <th>3</th>\n",
       "      <td>3</td>\n",
       "      <td>&lt;PIL.Image.Image image mode=RGB size=32x32 at ...</td>\n",
       "    </tr>\n",
       "    <tr>\n",
       "      <th>4</th>\n",
       "      <td>4</td>\n",
       "      <td>&lt;PIL.Image.Image image mode=RGB size=32x32 at ...</td>\n",
       "    </tr>\n",
       "  </tbody>\n",
       "</table>\n",
       "</div>"
      ],
      "text/plain": [
       "   Unnamed: 0                                              train\n",
       "0           0  <PIL.Image.Image image mode=RGB size=32x32 at ...\n",
       "1           1  <PIL.Image.Image image mode=RGB size=32x32 at ...\n",
       "2           2  <PIL.Image.Image image mode=RGB size=32x32 at ...\n",
       "3           3  <PIL.Image.Image image mode=RGB size=32x32 at ...\n",
       "4           4  <PIL.Image.Image image mode=RGB size=32x32 at ..."
      ]
     },
     "execution_count": 6,
     "metadata": {},
     "output_type": "execute_result"
    }
   ],
   "source": [
    "df.head()"
   ]
  },
  {
   "cell_type": "code",
   "execution_count": 9,
   "id": "67d62fea",
   "metadata": {},
   "outputs": [
    {
     "data": {
      "text/plain": [
       "'<PIL.Image.Image image mode=RGB size=32x32 at 0x7C1CC586E560>'"
      ]
     },
     "execution_count": 9,
     "metadata": {},
     "output_type": "execute_result"
    }
   ],
   "source": [
    "df.iloc[0,1]"
   ]
  },
  {
   "cell_type": "code",
   "execution_count": 4,
   "id": "13863343",
   "metadata": {
    "colab": {
     "base_uri": "https://localhost:8080/"
    },
    "execution": {
     "iopub.execute_input": "2023-08-21T21:01:44.602430Z",
     "iopub.status.busy": "2023-08-21T21:01:44.601363Z",
     "iopub.status.idle": "2023-08-21T21:01:44.607615Z",
     "shell.execute_reply": "2023-08-21T21:01:44.606341Z",
     "shell.execute_reply.started": "2023-08-21T21:01:44.602393Z"
    },
    "executionInfo": {
     "elapsed": 25367,
     "status": "ok",
     "timestamp": 1692630064809,
     "user": {
      "displayName": "Kelly Butler",
      "userId": "08515498257456133265"
     },
     "user_tz": 240
    },
    "id": "8XEnPS4Gj2Sg",
    "outputId": "10b2158a-b552-4fb3-c6a7-a7b8950ea00f"
   },
   "outputs": [],
   "source": [
    "#drive.mount('/content/drive')"
   ]
  },
  {
   "cell_type": "code",
   "execution_count": 5,
   "id": "c872e416",
   "metadata": {
    "colab": {
     "base_uri": "https://localhost:8080/",
     "height": 86
    },
    "execution": {
     "iopub.execute_input": "2023-08-21T21:01:44.611149Z",
     "iopub.status.busy": "2023-08-21T21:01:44.610490Z",
     "iopub.status.idle": "2023-08-21T21:01:44.626323Z",
     "shell.execute_reply": "2023-08-21T21:01:44.625319Z",
     "shell.execute_reply.started": "2023-08-21T21:01:44.611111Z"
    },
    "executionInfo": {
     "elapsed": 9800,
     "status": "ok",
     "timestamp": 1692630079695,
     "user": {
      "displayName": "Kelly Butler",
      "userId": "08515498257456133265"
     },
     "user_tz": 240
    },
    "id": "EHkhI0Dwl0kX",
    "outputId": "d91508c1-bb6a-450f-9c3c-0e646f7e4f51"
   },
   "outputs": [],
   "source": [
    "#files.upload()"
   ]
  },
  {
   "cell_type": "code",
   "execution_count": 6,
   "id": "3aa44ddb",
   "metadata": {
    "colab": {
     "base_uri": "https://localhost:8080/"
    },
    "execution": {
     "iopub.execute_input": "2023-08-21T21:01:44.628353Z",
     "iopub.status.busy": "2023-08-21T21:01:44.627916Z",
     "iopub.status.idle": "2023-08-21T21:01:44.637559Z",
     "shell.execute_reply": "2023-08-21T21:01:44.636445Z",
     "shell.execute_reply.started": "2023-08-21T21:01:44.628317Z"
    },
    "executionInfo": {
     "elapsed": 335,
     "status": "ok",
     "timestamp": 1692630112987,
     "user": {
      "displayName": "Kelly Butler",
      "userId": "08515498257456133265"
     },
     "user_tz": 240
    },
    "id": "iTrSgB658bXF",
    "outputId": "d345540d-bb31-4b3f-8a61-562cc88e1f75"
   },
   "outputs": [],
   "source": [
    "#! mkdir ~/.kaggle"
   ]
  },
  {
   "cell_type": "code",
   "execution_count": 7,
   "id": "65abca13",
   "metadata": {
    "execution": {
     "iopub.execute_input": "2023-08-21T21:01:44.639906Z",
     "iopub.status.busy": "2023-08-21T21:01:44.639425Z",
     "iopub.status.idle": "2023-08-21T21:01:44.648544Z",
     "shell.execute_reply": "2023-08-21T21:01:44.647527Z",
     "shell.execute_reply.started": "2023-08-21T21:01:44.639875Z"
    },
    "executionInfo": {
     "elapsed": 378,
     "status": "ok",
     "timestamp": 1692630114298,
     "user": {
      "displayName": "Kelly Butler",
      "userId": "08515498257456133265"
     },
     "user_tz": 240
    },
    "id": "WEsHaKDN8lHG"
   },
   "outputs": [],
   "source": [
    "#! cp kaggle.json ~/.kaggle/"
   ]
  },
  {
   "cell_type": "code",
   "execution_count": 8,
   "id": "1612b5aa",
   "metadata": {
    "execution": {
     "iopub.execute_input": "2023-08-21T21:01:44.650737Z",
     "iopub.status.busy": "2023-08-21T21:01:44.650065Z",
     "iopub.status.idle": "2023-08-21T21:01:44.658436Z",
     "shell.execute_reply": "2023-08-21T21:01:44.657515Z",
     "shell.execute_reply.started": "2023-08-21T21:01:44.650703Z"
    },
    "executionInfo": {
     "elapsed": 4,
     "status": "ok",
     "timestamp": 1692630115192,
     "user": {
      "displayName": "Kelly Butler",
      "userId": "08515498257456133265"
     },
     "user_tz": 240
    },
    "id": "zTOf_ga1l3Rx"
   },
   "outputs": [],
   "source": [
    "#! chmod 600 ~/.kaggle/kaggle.json"
   ]
  },
  {
   "cell_type": "code",
   "execution_count": 9,
   "id": "b8aae38d",
   "metadata": {
    "colab": {
     "base_uri": "https://localhost:8080/"
    },
    "execution": {
     "iopub.execute_input": "2023-08-21T21:01:44.661754Z",
     "iopub.status.busy": "2023-08-21T21:01:44.661216Z",
     "iopub.status.idle": "2023-08-21T21:01:44.668780Z",
     "shell.execute_reply": "2023-08-21T21:01:44.667795Z",
     "shell.execute_reply.started": "2023-08-21T21:01:44.661720Z"
    },
    "executionInfo": {
     "elapsed": 115875,
     "status": "ok",
     "timestamp": 1692630232583,
     "user": {
      "displayName": "Kelly Butler",
      "userId": "08515498257456133265"
     },
     "user_tz": 240
    },
    "id": "XJkEKCK1BBGD",
    "outputId": "31946dd2-a471-4a44-a967-99d7880cc6c3"
   },
   "outputs": [],
   "source": [
    "#!kaggle datasets download -d validmodel/indo-fashion-dataset"
   ]
  },
  {
   "cell_type": "code",
   "execution_count": 10,
   "id": "89b7e764",
   "metadata": {
    "execution": {
     "iopub.execute_input": "2023-08-21T21:01:44.672991Z",
     "iopub.status.busy": "2023-08-21T21:01:44.672665Z",
     "iopub.status.idle": "2023-08-21T21:01:44.679441Z",
     "shell.execute_reply": "2023-08-21T21:01:44.678492Z",
     "shell.execute_reply.started": "2023-08-21T21:01:44.672964Z"
    },
    "executionInfo": {
     "elapsed": 48953,
     "status": "ok",
     "timestamp": 1692630281528,
     "user": {
      "displayName": "Kelly Butler",
      "userId": "08515498257456133265"
     },
     "user_tz": 240
    },
    "id": "frUriQ9nByJh"
   },
   "outputs": [],
   "source": [
    "#!unzip -q indo-fashion-dataset.zip"
   ]
  },
  {
   "cell_type": "code",
   "execution_count": null,
   "id": "cf07929c",
   "metadata": {},
   "outputs": [],
   "source": []
  },
  {
   "cell_type": "code",
   "execution_count": 5,
   "id": "25e2b338",
   "metadata": {
    "execution": {
     "iopub.execute_input": "2023-08-21T22:46:17.116105Z",
     "iopub.status.busy": "2023-08-21T22:46:17.115729Z",
     "iopub.status.idle": "2023-08-21T22:46:17.797417Z",
     "shell.execute_reply": "2023-08-21T22:46:17.796447Z",
     "shell.execute_reply.started": "2023-08-21T22:46:17.116076Z"
    },
    "executionInfo": {
     "elapsed": 10,
     "status": "ok",
     "timestamp": 1692617501475,
     "user": {
      "displayName": "Kelly Butler",
      "userId": "08515498257456133265"
     },
     "user_tz": 240
    },
    "id": "JdDICPMfOV7o"
   },
   "outputs": [],
   "source": [
    "df_train = pd.read_json('/Users/butler/Documents/hp/Retrieval_of_Indian_clothing_images/data/raw/indian_clothing/train_data.json', lines=True)"
   ]
  },
  {
   "cell_type": "code",
   "execution_count": 6,
   "id": "cdcd6836",
   "metadata": {
    "execution": {
     "iopub.execute_input": "2023-08-21T22:46:17.998788Z",
     "iopub.status.busy": "2023-08-21T22:46:17.998437Z",
     "iopub.status.idle": "2023-08-21T22:46:18.018605Z",
     "shell.execute_reply": "2023-08-21T22:46:18.017676Z",
     "shell.execute_reply.started": "2023-08-21T22:46:17.998758Z"
    },
    "executionInfo": {
     "elapsed": 8,
     "status": "ok",
     "timestamp": 1692617501475,
     "user": {
      "displayName": "Kelly Butler",
      "userId": "08515498257456133265"
     },
     "user_tz": 240
    },
    "id": "d_-NgUdnPTNE"
   },
   "outputs": [
    {
     "data": {
      "text/html": [
       "<div>\n",
       "<style scoped>\n",
       "    .dataframe tbody tr th:only-of-type {\n",
       "        vertical-align: middle;\n",
       "    }\n",
       "\n",
       "    .dataframe tbody tr th {\n",
       "        vertical-align: top;\n",
       "    }\n",
       "\n",
       "    .dataframe thead th {\n",
       "        text-align: right;\n",
       "    }\n",
       "</style>\n",
       "<table border=\"1\" class=\"dataframe\">\n",
       "  <thead>\n",
       "    <tr style=\"text-align: right;\">\n",
       "      <th></th>\n",
       "      <th>image_url</th>\n",
       "      <th>image_path</th>\n",
       "      <th>brand</th>\n",
       "      <th>product_title</th>\n",
       "      <th>class_label</th>\n",
       "      <th>color</th>\n",
       "    </tr>\n",
       "  </thead>\n",
       "  <tbody>\n",
       "    <tr>\n",
       "      <th>0</th>\n",
       "      <td>https://m.media-amazon.com/images/I/81XKaSKvly...</td>\n",
       "      <td>images/train/0.jpeg</td>\n",
       "      <td>Womanista</td>\n",
       "      <td>Women's Georgette Saree with Blouse Piece (TKI...</td>\n",
       "      <td>saree</td>\n",
       "      <td>NaN</td>\n",
       "    </tr>\n",
       "    <tr>\n",
       "      <th>1</th>\n",
       "      <td>https://m.media-amazon.com/images/I/91dDMDg+QT...</td>\n",
       "      <td>images/train/1.jpeg</td>\n",
       "      <td>Yashika</td>\n",
       "      <td>Women Linen Printed Sarees Free Size (BEE)</td>\n",
       "      <td>saree</td>\n",
       "      <td>NaN</td>\n",
       "    </tr>\n",
       "    <tr>\n",
       "      <th>2</th>\n",
       "      <td>https://m.media-amazon.com/images/I/71TJ9p46PV...</td>\n",
       "      <td>images/train/2.jpeg</td>\n",
       "      <td>Womanista</td>\n",
       "      <td>Organza Floral Print Saree with Blouse Piece(W...</td>\n",
       "      <td>saree</td>\n",
       "      <td>NaN</td>\n",
       "    </tr>\n",
       "    <tr>\n",
       "      <th>3</th>\n",
       "      <td>https://m.media-amazon.com/images/I/81Y+je7CEg...</td>\n",
       "      <td>images/train/3.jpeg</td>\n",
       "      <td>PERFECTBLUE</td>\n",
       "      <td>Women's Digital Cotton Linen Blend Saree with ...</td>\n",
       "      <td>saree</td>\n",
       "      <td>NaN</td>\n",
       "    </tr>\n",
       "    <tr>\n",
       "      <th>4</th>\n",
       "      <td>https://m.media-amazon.com/images/I/61B8o9Ulqp...</td>\n",
       "      <td>images/train/4.jpeg</td>\n",
       "      <td>VAIVIDHYAM</td>\n",
       "      <td>Designer Sarees Women's Banarasi Cotton Silk S...</td>\n",
       "      <td>saree</td>\n",
       "      <td>NaN</td>\n",
       "    </tr>\n",
       "  </tbody>\n",
       "</table>\n",
       "</div>"
      ],
      "text/plain": [
       "                                           image_url           image_path  \\\n",
       "0  https://m.media-amazon.com/images/I/81XKaSKvly...  images/train/0.jpeg   \n",
       "1  https://m.media-amazon.com/images/I/91dDMDg+QT...  images/train/1.jpeg   \n",
       "2  https://m.media-amazon.com/images/I/71TJ9p46PV...  images/train/2.jpeg   \n",
       "3  https://m.media-amazon.com/images/I/81Y+je7CEg...  images/train/3.jpeg   \n",
       "4  https://m.media-amazon.com/images/I/61B8o9Ulqp...  images/train/4.jpeg   \n",
       "\n",
       "         brand                                      product_title class_label  \\\n",
       "0    Womanista  Women's Georgette Saree with Blouse Piece (TKI...       saree   \n",
       "1      Yashika         Women Linen Printed Sarees Free Size (BEE)       saree   \n",
       "2    Womanista  Organza Floral Print Saree with Blouse Piece(W...       saree   \n",
       "3  PERFECTBLUE  Women's Digital Cotton Linen Blend Saree with ...       saree   \n",
       "4   VAIVIDHYAM  Designer Sarees Women's Banarasi Cotton Silk S...       saree   \n",
       "\n",
       "  color  \n",
       "0   NaN  \n",
       "1   NaN  \n",
       "2   NaN  \n",
       "3   NaN  \n",
       "4   NaN  "
      ]
     },
     "execution_count": 6,
     "metadata": {},
     "output_type": "execute_result"
    }
   ],
   "source": [
    "df_train.head()"
   ]
  },
  {
   "cell_type": "code",
   "execution_count": 7,
   "id": "53cddf72",
   "metadata": {
    "execution": {
     "iopub.execute_input": "2023-08-21T22:46:19.660318Z",
     "iopub.status.busy": "2023-08-21T22:46:19.659312Z",
     "iopub.status.idle": "2023-08-21T22:46:19.672744Z",
     "shell.execute_reply": "2023-08-21T22:46:19.671678Z",
     "shell.execute_reply.started": "2023-08-21T22:46:19.660277Z"
    },
    "executionInfo": {
     "elapsed": 8,
     "status": "ok",
     "timestamp": 1692617501476,
     "user": {
      "displayName": "Kelly Butler",
      "userId": "08515498257456133265"
     },
     "user_tz": 240
    },
    "id": "S-Wji9lVPfa4"
   },
   "outputs": [],
   "source": [
    "df_train.drop(['image_url', 'brand', 'product_title', 'color'], axis=1, inplace=True)"
   ]
  },
  {
   "cell_type": "code",
   "execution_count": 8,
   "id": "8e1690f3",
   "metadata": {
    "execution": {
     "iopub.execute_input": "2023-08-21T22:46:21.147877Z",
     "iopub.status.busy": "2023-08-21T22:46:21.146927Z",
     "iopub.status.idle": "2023-08-21T22:46:21.159585Z",
     "shell.execute_reply": "2023-08-21T22:46:21.158329Z",
     "shell.execute_reply.started": "2023-08-21T22:46:21.147834Z"
    },
    "executionInfo": {
     "elapsed": 7,
     "status": "ok",
     "timestamp": 1692617501476,
     "user": {
      "displayName": "Kelly Butler",
      "userId": "08515498257456133265"
     },
     "user_tz": 240
    },
    "id": "fUQ8yIIDPv23"
   },
   "outputs": [
    {
     "data": {
      "text/html": [
       "<div>\n",
       "<style scoped>\n",
       "    .dataframe tbody tr th:only-of-type {\n",
       "        vertical-align: middle;\n",
       "    }\n",
       "\n",
       "    .dataframe tbody tr th {\n",
       "        vertical-align: top;\n",
       "    }\n",
       "\n",
       "    .dataframe thead th {\n",
       "        text-align: right;\n",
       "    }\n",
       "</style>\n",
       "<table border=\"1\" class=\"dataframe\">\n",
       "  <thead>\n",
       "    <tr style=\"text-align: right;\">\n",
       "      <th></th>\n",
       "      <th>image_path</th>\n",
       "      <th>class_label</th>\n",
       "    </tr>\n",
       "  </thead>\n",
       "  <tbody>\n",
       "    <tr>\n",
       "      <th>0</th>\n",
       "      <td>images/train/0.jpeg</td>\n",
       "      <td>saree</td>\n",
       "    </tr>\n",
       "    <tr>\n",
       "      <th>1</th>\n",
       "      <td>images/train/1.jpeg</td>\n",
       "      <td>saree</td>\n",
       "    </tr>\n",
       "    <tr>\n",
       "      <th>2</th>\n",
       "      <td>images/train/2.jpeg</td>\n",
       "      <td>saree</td>\n",
       "    </tr>\n",
       "    <tr>\n",
       "      <th>3</th>\n",
       "      <td>images/train/3.jpeg</td>\n",
       "      <td>saree</td>\n",
       "    </tr>\n",
       "    <tr>\n",
       "      <th>4</th>\n",
       "      <td>images/train/4.jpeg</td>\n",
       "      <td>saree</td>\n",
       "    </tr>\n",
       "  </tbody>\n",
       "</table>\n",
       "</div>"
      ],
      "text/plain": [
       "            image_path class_label\n",
       "0  images/train/0.jpeg       saree\n",
       "1  images/train/1.jpeg       saree\n",
       "2  images/train/2.jpeg       saree\n",
       "3  images/train/3.jpeg       saree\n",
       "4  images/train/4.jpeg       saree"
      ]
     },
     "execution_count": 8,
     "metadata": {},
     "output_type": "execute_result"
    }
   ],
   "source": [
    "df_train.head()"
   ]
  },
  {
   "cell_type": "code",
   "execution_count": 9,
   "id": "4d5220ee",
   "metadata": {
    "execution": {
     "iopub.execute_input": "2023-08-21T22:46:22.356789Z",
     "iopub.status.busy": "2023-08-21T22:46:22.356404Z",
     "iopub.status.idle": "2023-08-21T22:46:22.361492Z",
     "shell.execute_reply": "2023-08-21T22:46:22.360589Z",
     "shell.execute_reply.started": "2023-08-21T22:46:22.356757Z"
    },
    "executionInfo": {
     "elapsed": 153,
     "status": "ok",
     "timestamp": 1692617501623,
     "user": {
      "displayName": "Kelly Butler",
      "userId": "08515498257456133265"
     },
     "user_tz": 240
    },
    "id": "ZomLCoLwP0Bm"
   },
   "outputs": [],
   "source": [
    "df_train.to_csv('/Users/butler/Documents/hp/Retrieval_of_Indian_clothing_images/data/raw/indian_clothing/df_train.csv')"
   ]
  },
  {
   "cell_type": "code",
   "execution_count": 10,
   "id": "6c6b53be",
   "metadata": {
    "execution": {
     "iopub.execute_input": "2023-08-21T22:46:23.710290Z",
     "iopub.status.busy": "2023-08-21T22:46:23.709597Z",
     "iopub.status.idle": "2023-08-21T22:46:23.770622Z",
     "shell.execute_reply": "2023-08-21T22:46:23.769735Z",
     "shell.execute_reply.started": "2023-08-21T22:46:23.710254Z"
    },
    "executionInfo": {
     "elapsed": 7,
     "status": "ok",
     "timestamp": 1692617501623,
     "user": {
      "displayName": "Kelly Butler",
      "userId": "08515498257456133265"
     },
     "user_tz": 240
    },
    "id": "Z0jrYIQjQML2"
   },
   "outputs": [],
   "source": [
    "df_test = pd.read_json('/Users/butler/Documents/hp/Retrieval_of_Indian_clothing_images/data/raw/indian_clothing/test_data.json', lines = True)"
   ]
  },
  {
   "cell_type": "code",
   "execution_count": 11,
   "id": "6c849e3f",
   "metadata": {
    "execution": {
     "iopub.execute_input": "2023-08-21T22:46:24.824936Z",
     "iopub.status.busy": "2023-08-21T22:46:24.824350Z",
     "iopub.status.idle": "2023-08-21T22:46:24.837424Z",
     "shell.execute_reply": "2023-08-21T22:46:24.836342Z",
     "shell.execute_reply.started": "2023-08-21T22:46:24.824899Z"
    },
    "executionInfo": {
     "elapsed": 6,
     "status": "ok",
     "timestamp": 1692617501623,
     "user": {
      "displayName": "Kelly Butler",
      "userId": "08515498257456133265"
     },
     "user_tz": 240
    },
    "id": "IuR9V3RDQXF9"
   },
   "outputs": [
    {
     "data": {
      "text/html": [
       "<div>\n",
       "<style scoped>\n",
       "    .dataframe tbody tr th:only-of-type {\n",
       "        vertical-align: middle;\n",
       "    }\n",
       "\n",
       "    .dataframe tbody tr th {\n",
       "        vertical-align: top;\n",
       "    }\n",
       "\n",
       "    .dataframe thead th {\n",
       "        text-align: right;\n",
       "    }\n",
       "</style>\n",
       "<table border=\"1\" class=\"dataframe\">\n",
       "  <thead>\n",
       "    <tr style=\"text-align: right;\">\n",
       "      <th></th>\n",
       "      <th>image_url</th>\n",
       "      <th>image_path</th>\n",
       "      <th>brand</th>\n",
       "      <th>product_title</th>\n",
       "      <th>class_label</th>\n",
       "      <th>color</th>\n",
       "    </tr>\n",
       "  </thead>\n",
       "  <tbody>\n",
       "    <tr>\n",
       "      <th>0</th>\n",
       "      <td>https://m.media-amazon.com/images/I/71NZQ-aaAS...</td>\n",
       "      <td>images/test/0.jpeg</td>\n",
       "      <td>TANTUJA BENGAL HANDLOOM</td>\n",
       "      <td>(A Govt. of West Bengal Enterprises) Handloom ...</td>\n",
       "      <td>saree</td>\n",
       "      <td>NaN</td>\n",
       "    </tr>\n",
       "    <tr>\n",
       "      <th>1</th>\n",
       "      <td>https://m.media-amazon.com/images/I/81aQmbWsG7...</td>\n",
       "      <td>images/test/1.jpeg</td>\n",
       "      <td>Trilok Fab</td>\n",
       "      <td>Women's Silk Saree With Blouse Piece</td>\n",
       "      <td>saree</td>\n",
       "      <td>NaN</td>\n",
       "    </tr>\n",
       "    <tr>\n",
       "      <th>2</th>\n",
       "      <td>https://m.media-amazon.com/images/I/71YjGvzs9y...</td>\n",
       "      <td>images/test/2.jpeg</td>\n",
       "      <td>Nine Sister</td>\n",
       "      <td>Women's Georgette Net Embroidered Saree with B...</td>\n",
       "      <td>saree</td>\n",
       "      <td>NaN</td>\n",
       "    </tr>\n",
       "    <tr>\n",
       "      <th>3</th>\n",
       "      <td>https://m.media-amazon.com/images/I/81JYhYV5Xr...</td>\n",
       "      <td>images/test/3.jpeg</td>\n",
       "      <td>Gauri Laxmi Enterprise</td>\n",
       "      <td>Women's Crepe Saree with Blouse (GLE$CHICKOO C...</td>\n",
       "      <td>saree</td>\n",
       "      <td>NaN</td>\n",
       "    </tr>\n",
       "    <tr>\n",
       "      <th>4</th>\n",
       "      <td>https://m.media-amazon.com/images/I/91fXc5i5Dy...</td>\n",
       "      <td>images/test/4.jpeg</td>\n",
       "      <td>SOURBH</td>\n",
       "      <td>Women's Cotton Blend Digital Butta Printed Sar...</td>\n",
       "      <td>saree</td>\n",
       "      <td>NaN</td>\n",
       "    </tr>\n",
       "  </tbody>\n",
       "</table>\n",
       "</div>"
      ],
      "text/plain": [
       "                                           image_url          image_path  \\\n",
       "0  https://m.media-amazon.com/images/I/71NZQ-aaAS...  images/test/0.jpeg   \n",
       "1  https://m.media-amazon.com/images/I/81aQmbWsG7...  images/test/1.jpeg   \n",
       "2  https://m.media-amazon.com/images/I/71YjGvzs9y...  images/test/2.jpeg   \n",
       "3  https://m.media-amazon.com/images/I/81JYhYV5Xr...  images/test/3.jpeg   \n",
       "4  https://m.media-amazon.com/images/I/91fXc5i5Dy...  images/test/4.jpeg   \n",
       "\n",
       "                     brand                                      product_title  \\\n",
       "0  TANTUJA BENGAL HANDLOOM  (A Govt. of West Bengal Enterprises) Handloom ...   \n",
       "1               Trilok Fab               Women's Silk Saree With Blouse Piece   \n",
       "2              Nine Sister  Women's Georgette Net Embroidered Saree with B...   \n",
       "3   Gauri Laxmi Enterprise  Women's Crepe Saree with Blouse (GLE$CHICKOO C...   \n",
       "4                   SOURBH  Women's Cotton Blend Digital Butta Printed Sar...   \n",
       "\n",
       "  class_label color  \n",
       "0       saree   NaN  \n",
       "1       saree   NaN  \n",
       "2       saree   NaN  \n",
       "3       saree   NaN  \n",
       "4       saree   NaN  "
      ]
     },
     "execution_count": 11,
     "metadata": {},
     "output_type": "execute_result"
    }
   ],
   "source": [
    "df_test.head()"
   ]
  },
  {
   "cell_type": "code",
   "execution_count": 12,
   "id": "ec56fbc9",
   "metadata": {
    "execution": {
     "iopub.execute_input": "2023-08-21T22:46:25.870776Z",
     "iopub.status.busy": "2023-08-21T22:46:25.869865Z",
     "iopub.status.idle": "2023-08-21T22:46:25.877853Z",
     "shell.execute_reply": "2023-08-21T22:46:25.876844Z",
     "shell.execute_reply.started": "2023-08-21T22:46:25.870729Z"
    },
    "executionInfo": {
     "elapsed": 5,
     "status": "ok",
     "timestamp": 1692617501623,
     "user": {
      "displayName": "Kelly Butler",
      "userId": "08515498257456133265"
     },
     "user_tz": 240
    },
    "id": "qYGbb3oAQcDR"
   },
   "outputs": [],
   "source": [
    "df_test.drop(['image_url', 'brand', 'product_title', 'color'], axis=1, inplace=True)"
   ]
  },
  {
   "cell_type": "code",
   "execution_count": 13,
   "id": "da96bdd6",
   "metadata": {
    "execution": {
     "iopub.execute_input": "2023-08-21T22:46:27.470505Z",
     "iopub.status.busy": "2023-08-21T22:46:27.469523Z",
     "iopub.status.idle": "2023-08-21T22:46:27.479732Z",
     "shell.execute_reply": "2023-08-21T22:46:27.478712Z",
     "shell.execute_reply.started": "2023-08-21T22:46:27.470460Z"
    },
    "executionInfo": {
     "elapsed": 5,
     "status": "ok",
     "timestamp": 1692617501624,
     "user": {
      "displayName": "Kelly Butler",
      "userId": "08515498257456133265"
     },
     "user_tz": 240
    },
    "id": "jtJ0UMZBQgAV"
   },
   "outputs": [
    {
     "data": {
      "text/html": [
       "<div>\n",
       "<style scoped>\n",
       "    .dataframe tbody tr th:only-of-type {\n",
       "        vertical-align: middle;\n",
       "    }\n",
       "\n",
       "    .dataframe tbody tr th {\n",
       "        vertical-align: top;\n",
       "    }\n",
       "\n",
       "    .dataframe thead th {\n",
       "        text-align: right;\n",
       "    }\n",
       "</style>\n",
       "<table border=\"1\" class=\"dataframe\">\n",
       "  <thead>\n",
       "    <tr style=\"text-align: right;\">\n",
       "      <th></th>\n",
       "      <th>image_path</th>\n",
       "      <th>class_label</th>\n",
       "    </tr>\n",
       "  </thead>\n",
       "  <tbody>\n",
       "    <tr>\n",
       "      <th>0</th>\n",
       "      <td>images/test/0.jpeg</td>\n",
       "      <td>saree</td>\n",
       "    </tr>\n",
       "    <tr>\n",
       "      <th>1</th>\n",
       "      <td>images/test/1.jpeg</td>\n",
       "      <td>saree</td>\n",
       "    </tr>\n",
       "    <tr>\n",
       "      <th>2</th>\n",
       "      <td>images/test/2.jpeg</td>\n",
       "      <td>saree</td>\n",
       "    </tr>\n",
       "    <tr>\n",
       "      <th>3</th>\n",
       "      <td>images/test/3.jpeg</td>\n",
       "      <td>saree</td>\n",
       "    </tr>\n",
       "    <tr>\n",
       "      <th>4</th>\n",
       "      <td>images/test/4.jpeg</td>\n",
       "      <td>saree</td>\n",
       "    </tr>\n",
       "  </tbody>\n",
       "</table>\n",
       "</div>"
      ],
      "text/plain": [
       "           image_path class_label\n",
       "0  images/test/0.jpeg       saree\n",
       "1  images/test/1.jpeg       saree\n",
       "2  images/test/2.jpeg       saree\n",
       "3  images/test/3.jpeg       saree\n",
       "4  images/test/4.jpeg       saree"
      ]
     },
     "execution_count": 13,
     "metadata": {},
     "output_type": "execute_result"
    }
   ],
   "source": [
    "df_test.head()"
   ]
  },
  {
   "cell_type": "code",
   "execution_count": 14,
   "id": "7c6539c2",
   "metadata": {
    "execution": {
     "iopub.execute_input": "2023-08-21T22:46:28.605323Z",
     "iopub.status.busy": "2023-08-21T22:46:28.604638Z",
     "iopub.status.idle": "2023-08-21T22:46:28.610069Z",
     "shell.execute_reply": "2023-08-21T22:46:28.608920Z",
     "shell.execute_reply.started": "2023-08-21T22:46:28.605290Z"
    },
    "executionInfo": {
     "elapsed": 5,
     "status": "ok",
     "timestamp": 1692617501624,
     "user": {
      "displayName": "Kelly Butler",
      "userId": "08515498257456133265"
     },
     "user_tz": 240
    },
    "id": "MAveTGtCQjzr"
   },
   "outputs": [],
   "source": [
    "#df_test.to_csv('/Users/butler/Documents/hp/Retrieval_of_Indian_clothing_images/data/raw/indian_clothing/df_test.csv')"
   ]
  },
  {
   "cell_type": "code",
   "execution_count": 15,
   "id": "472ebdac",
   "metadata": {
    "execution": {
     "iopub.execute_input": "2023-08-21T22:46:30.023893Z",
     "iopub.status.busy": "2023-08-21T22:46:30.023515Z",
     "iopub.status.idle": "2023-08-21T22:46:30.082072Z",
     "shell.execute_reply": "2023-08-21T22:46:30.080730Z",
     "shell.execute_reply.started": "2023-08-21T22:46:30.023861Z"
    },
    "executionInfo": {
     "elapsed": 4,
     "status": "ok",
     "timestamp": 1692617501624,
     "user": {
      "displayName": "Kelly Butler",
      "userId": "08515498257456133265"
     },
     "user_tz": 240
    },
    "id": "SLqC-IosQnxV"
   },
   "outputs": [],
   "source": [
    "df_val = pd.read_json('/Users/butler/Documents/hp/Retrieval_of_Indian_clothing_images/data/raw/indian_clothing/val_data.json', lines=True)"
   ]
  },
  {
   "cell_type": "code",
   "execution_count": 16,
   "id": "aa10d046",
   "metadata": {
    "execution": {
     "iopub.execute_input": "2023-08-21T22:46:31.720299Z",
     "iopub.status.busy": "2023-08-21T22:46:31.719931Z",
     "iopub.status.idle": "2023-08-21T22:46:31.733391Z",
     "shell.execute_reply": "2023-08-21T22:46:31.732350Z",
     "shell.execute_reply.started": "2023-08-21T22:46:31.720270Z"
    },
    "executionInfo": {
     "elapsed": 4,
     "status": "ok",
     "timestamp": 1692617501624,
     "user": {
      "displayName": "Kelly Butler",
      "userId": "08515498257456133265"
     },
     "user_tz": 240
    },
    "id": "g6NfshqCQwoZ"
   },
   "outputs": [
    {
     "data": {
      "text/html": [
       "<div>\n",
       "<style scoped>\n",
       "    .dataframe tbody tr th:only-of-type {\n",
       "        vertical-align: middle;\n",
       "    }\n",
       "\n",
       "    .dataframe tbody tr th {\n",
       "        vertical-align: top;\n",
       "    }\n",
       "\n",
       "    .dataframe thead th {\n",
       "        text-align: right;\n",
       "    }\n",
       "</style>\n",
       "<table border=\"1\" class=\"dataframe\">\n",
       "  <thead>\n",
       "    <tr style=\"text-align: right;\">\n",
       "      <th></th>\n",
       "      <th>image_url</th>\n",
       "      <th>image_path</th>\n",
       "      <th>brand</th>\n",
       "      <th>product_title</th>\n",
       "      <th>class_label</th>\n",
       "      <th>color</th>\n",
       "    </tr>\n",
       "  </thead>\n",
       "  <tbody>\n",
       "    <tr>\n",
       "      <th>0</th>\n",
       "      <td>https://m.media-amazon.com/images/I/81LOPbFPiQ...</td>\n",
       "      <td>images/val/0.jpeg</td>\n",
       "      <td>Generic</td>\n",
       "      <td>Women's Khadi Cotton Saree With Blouse Piece (...</td>\n",
       "      <td>saree</td>\n",
       "      <td>NaN</td>\n",
       "    </tr>\n",
       "    <tr>\n",
       "      <th>1</th>\n",
       "      <td>https://m.media-amazon.com/images/I/81Q8Oktw4s...</td>\n",
       "      <td>images/val/1.jpeg</td>\n",
       "      <td>Yashvi Designer</td>\n",
       "      <td>Women's Net Saree With Unstitched Blouse Piece</td>\n",
       "      <td>saree</td>\n",
       "      <td>NaN</td>\n",
       "    </tr>\n",
       "    <tr>\n",
       "      <th>2</th>\n",
       "      <td>https://m.media-amazon.com/images/I/613S1YGCmo...</td>\n",
       "      <td>images/val/2.jpeg</td>\n",
       "      <td>Aarrah</td>\n",
       "      <td>Georgette Strip Print Saree[S_SHIKHA30021SR02_...</td>\n",
       "      <td>saree</td>\n",
       "      <td>NaN</td>\n",
       "    </tr>\n",
       "    <tr>\n",
       "      <th>3</th>\n",
       "      <td>https://m.media-amazon.com/images/I/819budhQl1...</td>\n",
       "      <td>images/val/3.jpeg</td>\n",
       "      <td>MIMOSA</td>\n",
       "      <td>Women's Patola Style Art Silk Saree (Green)</td>\n",
       "      <td>saree</td>\n",
       "      <td>NaN</td>\n",
       "    </tr>\n",
       "    <tr>\n",
       "      <th>4</th>\n",
       "      <td>https://m.media-amazon.com/images/I/61cAZ94ZQV...</td>\n",
       "      <td>images/val/4.jpeg</td>\n",
       "      <td>Generic</td>\n",
       "      <td>Women's Pure Hand Block Patola Printed Cotton ...</td>\n",
       "      <td>saree</td>\n",
       "      <td>NaN</td>\n",
       "    </tr>\n",
       "  </tbody>\n",
       "</table>\n",
       "</div>"
      ],
      "text/plain": [
       "                                           image_url         image_path  \\\n",
       "0  https://m.media-amazon.com/images/I/81LOPbFPiQ...  images/val/0.jpeg   \n",
       "1  https://m.media-amazon.com/images/I/81Q8Oktw4s...  images/val/1.jpeg   \n",
       "2  https://m.media-amazon.com/images/I/613S1YGCmo...  images/val/2.jpeg   \n",
       "3  https://m.media-amazon.com/images/I/819budhQl1...  images/val/3.jpeg   \n",
       "4  https://m.media-amazon.com/images/I/61cAZ94ZQV...  images/val/4.jpeg   \n",
       "\n",
       "             brand                                      product_title  \\\n",
       "0          Generic  Women's Khadi Cotton Saree With Blouse Piece (...   \n",
       "1  Yashvi Designer     Women's Net Saree With Unstitched Blouse Piece   \n",
       "2           Aarrah  Georgette Strip Print Saree[S_SHIKHA30021SR02_...   \n",
       "3           MIMOSA        Women's Patola Style Art Silk Saree (Green)   \n",
       "4          Generic  Women's Pure Hand Block Patola Printed Cotton ...   \n",
       "\n",
       "  class_label color  \n",
       "0       saree   NaN  \n",
       "1       saree   NaN  \n",
       "2       saree   NaN  \n",
       "3       saree   NaN  \n",
       "4       saree   NaN  "
      ]
     },
     "execution_count": 16,
     "metadata": {},
     "output_type": "execute_result"
    }
   ],
   "source": [
    "df_val.head()"
   ]
  },
  {
   "cell_type": "code",
   "execution_count": 17,
   "id": "b6add450",
   "metadata": {
    "execution": {
     "iopub.execute_input": "2023-08-21T22:46:33.347333Z",
     "iopub.status.busy": "2023-08-21T22:46:33.346951Z",
     "iopub.status.idle": "2023-08-21T22:46:33.353845Z",
     "shell.execute_reply": "2023-08-21T22:46:33.352535Z",
     "shell.execute_reply.started": "2023-08-21T22:46:33.347299Z"
    },
    "executionInfo": {
     "elapsed": 4,
     "status": "ok",
     "timestamp": 1692617501624,
     "user": {
      "displayName": "Kelly Butler",
      "userId": "08515498257456133265"
     },
     "user_tz": 240
    },
    "id": "4ILWhraUQ2nh"
   },
   "outputs": [],
   "source": [
    "df_val.drop(['image_url', 'brand', 'product_title', 'color'], axis=1, inplace=True)"
   ]
  },
  {
   "cell_type": "code",
   "execution_count": 18,
   "id": "9478a2d2",
   "metadata": {
    "execution": {
     "iopub.execute_input": "2023-08-21T22:46:35.313704Z",
     "iopub.status.busy": "2023-08-21T22:46:35.313294Z",
     "iopub.status.idle": "2023-08-21T22:46:35.325196Z",
     "shell.execute_reply": "2023-08-21T22:46:35.324034Z",
     "shell.execute_reply.started": "2023-08-21T22:46:35.313654Z"
    },
    "executionInfo": {
     "elapsed": 4,
     "status": "ok",
     "timestamp": 1692617501624,
     "user": {
      "displayName": "Kelly Butler",
      "userId": "08515498257456133265"
     },
     "user_tz": 240
    },
    "id": "M4_iwXYqQ5V7"
   },
   "outputs": [
    {
     "data": {
      "text/html": [
       "<div>\n",
       "<style scoped>\n",
       "    .dataframe tbody tr th:only-of-type {\n",
       "        vertical-align: middle;\n",
       "    }\n",
       "\n",
       "    .dataframe tbody tr th {\n",
       "        vertical-align: top;\n",
       "    }\n",
       "\n",
       "    .dataframe thead th {\n",
       "        text-align: right;\n",
       "    }\n",
       "</style>\n",
       "<table border=\"1\" class=\"dataframe\">\n",
       "  <thead>\n",
       "    <tr style=\"text-align: right;\">\n",
       "      <th></th>\n",
       "      <th>image_path</th>\n",
       "      <th>class_label</th>\n",
       "    </tr>\n",
       "  </thead>\n",
       "  <tbody>\n",
       "    <tr>\n",
       "      <th>0</th>\n",
       "      <td>images/val/0.jpeg</td>\n",
       "      <td>saree</td>\n",
       "    </tr>\n",
       "    <tr>\n",
       "      <th>1</th>\n",
       "      <td>images/val/1.jpeg</td>\n",
       "      <td>saree</td>\n",
       "    </tr>\n",
       "    <tr>\n",
       "      <th>2</th>\n",
       "      <td>images/val/2.jpeg</td>\n",
       "      <td>saree</td>\n",
       "    </tr>\n",
       "    <tr>\n",
       "      <th>3</th>\n",
       "      <td>images/val/3.jpeg</td>\n",
       "      <td>saree</td>\n",
       "    </tr>\n",
       "    <tr>\n",
       "      <th>4</th>\n",
       "      <td>images/val/4.jpeg</td>\n",
       "      <td>saree</td>\n",
       "    </tr>\n",
       "  </tbody>\n",
       "</table>\n",
       "</div>"
      ],
      "text/plain": [
       "          image_path class_label\n",
       "0  images/val/0.jpeg       saree\n",
       "1  images/val/1.jpeg       saree\n",
       "2  images/val/2.jpeg       saree\n",
       "3  images/val/3.jpeg       saree\n",
       "4  images/val/4.jpeg       saree"
      ]
     },
     "execution_count": 18,
     "metadata": {},
     "output_type": "execute_result"
    }
   ],
   "source": [
    "df_val.head()"
   ]
  },
  {
   "cell_type": "code",
   "execution_count": 19,
   "id": "4ff2599c",
   "metadata": {
    "execution": {
     "iopub.execute_input": "2023-08-21T22:46:36.396278Z",
     "iopub.status.busy": "2023-08-21T22:46:36.395918Z",
     "iopub.status.idle": "2023-08-21T22:46:36.400782Z",
     "shell.execute_reply": "2023-08-21T22:46:36.399606Z",
     "shell.execute_reply.started": "2023-08-21T22:46:36.396248Z"
    },
    "executionInfo": {
     "elapsed": 4,
     "status": "ok",
     "timestamp": 1692617501624,
     "user": {
      "displayName": "Kelly Butler",
      "userId": "08515498257456133265"
     },
     "user_tz": 240
    },
    "id": "VmN42k5dQ78k"
   },
   "outputs": [],
   "source": [
    "df_val.to_csv('/Users/butler/Documents/hp/Retrieval_of_Indian_clothing_images/data/raw/indian_clothing/df_val.csv')"
   ]
  },
  {
   "cell_type": "code",
   "execution_count": 20,
   "id": "83d153f0",
   "metadata": {
    "execution": {
     "iopub.execute_input": "2023-08-21T22:46:37.993143Z",
     "iopub.status.busy": "2023-08-21T22:46:37.992394Z",
     "iopub.status.idle": "2023-08-21T22:46:38.000956Z",
     "shell.execute_reply": "2023-08-21T22:46:37.999363Z",
     "shell.execute_reply.started": "2023-08-21T22:46:37.993098Z"
    },
    "executionInfo": {
     "elapsed": 939,
     "status": "ok",
     "timestamp": 1692630282455,
     "user": {
      "displayName": "Kelly Butler",
      "userId": "08515498257456133265"
     },
     "user_tz": 240
    },
    "id": "zvtKwI1LkvLW"
   },
   "outputs": [],
   "source": [
    "#df_train = pd.read_csv('/content/drive/My Drive/capstone_3/df_train.csv')"
   ]
  },
  {
   "cell_type": "code",
   "execution_count": 21,
   "id": "35e1a8cc",
   "metadata": {
    "colab": {
     "base_uri": "https://localhost:8080/",
     "height": 204
    },
    "execution": {
     "iopub.execute_input": "2023-08-21T22:46:38.302431Z",
     "iopub.status.busy": "2023-08-21T22:46:38.302082Z",
     "iopub.status.idle": "2023-08-21T22:46:38.306773Z",
     "shell.execute_reply": "2023-08-21T22:46:38.305611Z",
     "shell.execute_reply.started": "2023-08-21T22:46:38.302401Z"
    },
    "executionInfo": {
     "elapsed": 18,
     "status": "ok",
     "timestamp": 1692630282455,
     "user": {
      "displayName": "Kelly Butler",
      "userId": "08515498257456133265"
     },
     "user_tz": 240
    },
    "id": "sqdEjmLprJvW",
    "outputId": "fc7570fc-e4de-4ea3-82b8-055c6a99804f"
   },
   "outputs": [],
   "source": [
    "#df_train.head()"
   ]
  },
  {
   "cell_type": "code",
   "execution_count": 22,
   "id": "136d837b",
   "metadata": {
    "execution": {
     "iopub.execute_input": "2023-08-21T22:46:38.637917Z",
     "iopub.status.busy": "2023-08-21T22:46:38.637203Z",
     "iopub.status.idle": "2023-08-21T22:46:38.642390Z",
     "shell.execute_reply": "2023-08-21T22:46:38.641341Z",
     "shell.execute_reply.started": "2023-08-21T22:46:38.637881Z"
    },
    "executionInfo": {
     "elapsed": 10,
     "status": "ok",
     "timestamp": 1692630282456,
     "user": {
      "displayName": "Kelly Butler",
      "userId": "08515498257456133265"
     },
     "user_tz": 240
    },
    "id": "0I-gNDCVhayl"
   },
   "outputs": [],
   "source": [
    "#df_train.drop(['Unnamed: 0'], axis=1, inplace=True)"
   ]
  },
  {
   "cell_type": "code",
   "execution_count": 23,
   "id": "e665f2b0",
   "metadata": {
    "colab": {
     "base_uri": "https://localhost:8080/",
     "height": 204
    },
    "execution": {
     "iopub.execute_input": "2023-08-21T22:46:39.315997Z",
     "iopub.status.busy": "2023-08-21T22:46:39.315310Z",
     "iopub.status.idle": "2023-08-21T22:46:39.320483Z",
     "shell.execute_reply": "2023-08-21T22:46:39.319296Z",
     "shell.execute_reply.started": "2023-08-21T22:46:39.315961Z"
    },
    "executionInfo": {
     "elapsed": 9,
     "status": "ok",
     "timestamp": 1692630282456,
     "user": {
      "displayName": "Kelly Butler",
      "userId": "08515498257456133265"
     },
     "user_tz": 240
    },
    "id": "dj6-xdH9hrwa",
    "outputId": "89d8393d-eec5-4c93-d81c-aeb48598d757"
   },
   "outputs": [],
   "source": [
    "#df_train.head()"
   ]
  },
  {
   "cell_type": "code",
   "execution_count": 24,
   "id": "a62a1f40",
   "metadata": {
    "colab": {
     "base_uri": "https://localhost:8080/",
     "height": 204
    },
    "execution": {
     "iopub.execute_input": "2023-08-21T22:46:39.575148Z",
     "iopub.status.busy": "2023-08-21T22:46:39.572898Z",
     "iopub.status.idle": "2023-08-21T22:46:39.579215Z",
     "shell.execute_reply": "2023-08-21T22:46:39.577990Z",
     "shell.execute_reply.started": "2023-08-21T22:46:39.575117Z"
    },
    "executionInfo": {
     "elapsed": 8,
     "status": "ok",
     "timestamp": 1692630282456,
     "user": {
      "displayName": "Kelly Butler",
      "userId": "08515498257456133265"
     },
     "user_tz": 240
    },
    "id": "mVy0EIq3hz9H",
    "outputId": "62694d6f-5e2f-41b1-b8ab-d3fc7c6dd368"
   },
   "outputs": [],
   "source": [
    "#df_train.tail()"
   ]
  },
  {
   "cell_type": "code",
   "execution_count": 25,
   "id": "181a9fd2",
   "metadata": {
    "execution": {
     "iopub.execute_input": "2023-08-21T22:46:39.840598Z",
     "iopub.status.busy": "2023-08-21T22:46:39.840286Z",
     "iopub.status.idle": "2023-08-21T22:46:39.845183Z",
     "shell.execute_reply": "2023-08-21T22:46:39.844041Z",
     "shell.execute_reply.started": "2023-08-21T22:46:39.840570Z"
    },
    "executionInfo": {
     "elapsed": 1031,
     "status": "ok",
     "timestamp": 1692630283480,
     "user": {
      "displayName": "Kelly Butler",
      "userId": "08515498257456133265"
     },
     "user_tz": 240
    },
    "id": "R_9jNfwgLiHv"
   },
   "outputs": [],
   "source": [
    "#df_val = pd.read_csv('/content/drive/My Drive/capstone_3/df_val.csv')"
   ]
  },
  {
   "cell_type": "code",
   "execution_count": 26,
   "id": "8518b67a",
   "metadata": {
    "colab": {
     "base_uri": "https://localhost:8080/",
     "height": 204
    },
    "execution": {
     "iopub.execute_input": "2023-08-21T22:46:40.496371Z",
     "iopub.status.busy": "2023-08-21T22:46:40.495710Z",
     "iopub.status.idle": "2023-08-21T22:46:40.500818Z",
     "shell.execute_reply": "2023-08-21T22:46:40.499736Z",
     "shell.execute_reply.started": "2023-08-21T22:46:40.496337Z"
    },
    "executionInfo": {
     "elapsed": 21,
     "status": "ok",
     "timestamp": 1692630283480,
     "user": {
      "displayName": "Kelly Butler",
      "userId": "08515498257456133265"
     },
     "user_tz": 240
    },
    "id": "wYbpQynULo0G",
    "outputId": "9455e56c-09b6-4f1a-980c-d4d6ed1c77db"
   },
   "outputs": [],
   "source": [
    "#df_val.head()"
   ]
  },
  {
   "cell_type": "code",
   "execution_count": 27,
   "id": "6c85e075",
   "metadata": {
    "execution": {
     "iopub.execute_input": "2023-08-21T22:46:40.766748Z",
     "iopub.status.busy": "2023-08-21T22:46:40.766081Z",
     "iopub.status.idle": "2023-08-21T22:46:40.771782Z",
     "shell.execute_reply": "2023-08-21T22:46:40.770619Z",
     "shell.execute_reply.started": "2023-08-21T22:46:40.766709Z"
    },
    "executionInfo": {
     "elapsed": 19,
     "status": "ok",
     "timestamp": 1692630283480,
     "user": {
      "displayName": "Kelly Butler",
      "userId": "08515498257456133265"
     },
     "user_tz": 240
    },
    "id": "lr8OCEa_LrBQ"
   },
   "outputs": [],
   "source": [
    "#df_val.drop('Unnamed: 0', axis=1, inplace=True)"
   ]
  },
  {
   "cell_type": "code",
   "execution_count": 28,
   "id": "c00715f7",
   "metadata": {
    "colab": {
     "base_uri": "https://localhost:8080/",
     "height": 204
    },
    "execution": {
     "iopub.execute_input": "2023-08-21T22:46:41.081134Z",
     "iopub.status.busy": "2023-08-21T22:46:41.080840Z",
     "iopub.status.idle": "2023-08-21T22:46:41.086187Z",
     "shell.execute_reply": "2023-08-21T22:46:41.085151Z",
     "shell.execute_reply.started": "2023-08-21T22:46:41.081109Z"
    },
    "executionInfo": {
     "elapsed": 19,
     "status": "ok",
     "timestamp": 1692630283481,
     "user": {
      "displayName": "Kelly Butler",
      "userId": "08515498257456133265"
     },
     "user_tz": 240
    },
    "id": "eiMUQm8xL2Jk",
    "outputId": "bdace181-f551-4de9-b368-58f2ec101240"
   },
   "outputs": [],
   "source": [
    "#df_val.head()"
   ]
  },
  {
   "cell_type": "code",
   "execution_count": 20,
   "id": "5a952d37",
   "metadata": {
    "colab": {
     "base_uri": "https://localhost:8080/"
    },
    "execution": {
     "iopub.execute_input": "2023-08-21T19:50:21.689441Z",
     "iopub.status.busy": "2023-08-21T19:50:21.688414Z",
     "iopub.status.idle": "2023-08-21T19:50:21.719394Z",
     "shell.execute_reply": "2023-08-21T19:50:21.717333Z",
     "shell.execute_reply.started": "2023-08-21T19:50:21.689388Z"
    },
    "executionInfo": {
     "elapsed": 18,
     "status": "ok",
     "timestamp": 1692630283481,
     "user": {
      "displayName": "Kelly Butler",
      "userId": "08515498257456133265"
     },
     "user_tz": 240
    },
    "id": "0pQG1EglicOV",
    "outputId": "0fd2eaac-c2df-492b-83c0-db3a4e2849c5"
   },
   "outputs": [
    {
     "name": "stderr",
     "output_type": "stream",
     "text": [
      "/tmp/ipykernel_2474/797019605.py:1: DeprecationWarning: Starting with ImageIO v3 the behavior of this function will switch to that of iio.v3.imread. To keep the current behavior (and make this warning disappear) use `import imageio.v2 as imageio` or call `imageio.v2.imread` directly.\n",
      "  img = imageio.imread('/kaggle/input/indo-fashion-dataset/images/train/60000.jpeg')\n"
     ]
    },
    {
     "data": {
      "text/plain": [
       "(194, 320, 3)"
      ]
     },
     "execution_count": 20,
     "metadata": {},
     "output_type": "execute_result"
    }
   ],
   "source": [
    "img = imageio.imread('/kaggle/input/indo-fashion-dataset/images/train/60000.jpeg')\n",
    "img.shape"
   ]
  },
  {
   "cell_type": "code",
   "execution_count": 21,
   "id": "ac6aa968",
   "metadata": {
    "colab": {
     "base_uri": "https://localhost:8080/",
     "height": 383
    },
    "execution": {
     "iopub.execute_input": "2023-08-21T19:50:21.722508Z",
     "iopub.status.busy": "2023-08-21T19:50:21.721572Z",
     "iopub.status.idle": "2023-08-21T19:50:22.340723Z",
     "shell.execute_reply": "2023-08-21T19:50:22.338715Z",
     "shell.execute_reply.started": "2023-08-21T19:50:21.722454Z"
    },
    "executionInfo": {
     "elapsed": 1243,
     "status": "ok",
     "timestamp": 1692630284713,
     "user": {
      "displayName": "Kelly Butler",
      "userId": "08515498257456133265"
     },
     "user_tz": 240
    },
    "id": "XHxEsRK3ip4i",
    "outputId": "b64b3351-fc13-444b-d44f-b6f0afc05f27"
   },
   "outputs": [
    {
     "data": {
      "text/plain": [
       "<matplotlib.image.AxesImage at 0x7afa2a37df30>"
      ]
     },
     "execution_count": 21,
     "metadata": {},
     "output_type": "execute_result"
    },
    {
     "data": {
      "image/png": "[encoded data removed]",
      "text/plain": [
       "<Figure size 640x480 with 1 Axes>"
      ]
     },
     "metadata": {},
     "output_type": "display_data"
    }
   ],
   "source": [
    "plt.imshow(img)"
   ]
  },
  {
   "cell_type": "code",
   "execution_count": 22,
   "id": "57c4f3ea",
   "metadata": {
    "colab": {
     "base_uri": "https://localhost:8080/",
     "height": 452
    },
    "execution": {
     "iopub.execute_input": "2023-08-21T19:50:35.064764Z",
     "iopub.status.busy": "2023-08-21T19:50:35.064324Z",
     "iopub.status.idle": "2023-08-21T19:50:35.484096Z",
     "shell.execute_reply": "2023-08-21T19:50:35.482926Z",
     "shell.execute_reply.started": "2023-08-21T19:50:35.064727Z"
    },
    "executionInfo": {
     "elapsed": 57,
     "status": "ok",
     "timestamp": 1692630284714,
     "user": {
      "displayName": "Kelly Butler",
      "userId": "08515498257456133265"
     },
     "user_tz": 240
    },
    "id": "_nku4OXgiwoQ",
    "outputId": "8e83a7a5-4ed2-4adf-fa41-6deafbd0efba"
   },
   "outputs": [
    {
     "data": {
      "text/plain": [
       "<matplotlib.image.AxesImage at 0x7afa282a8fd0>"
      ]
     },
     "execution_count": 22,
     "metadata": {},
     "output_type": "execute_result"
    },
    {
     "data": {
      "image/png": "[encoded data removed]",
      "text/plain": [
       "<Figure size 640x480 with 1 Axes>"
      ]
     },
     "metadata": {},
     "output_type": "display_data"
    }
   ],
   "source": [
    "img = Image.open('/kaggle/input/indo-fashion-dataset/images/train/60000.jpeg')\n",
    "    # resize image (contain)\n",
    "img = resizeimage.resize_contain(img, [256, 256])\n",
    "    # covert to RBA incase it's RGBA\n",
    "img = img.convert(\"RGB\")\n",
    "#img.save('/content/images/train_60000_resized-image.jpg', img.format)\n",
    "plt.imshow(img)"
   ]
  },
  {
   "cell_type": "code",
   "execution_count": 23,
   "id": "5eab0002",
   "metadata": {
    "colab": {
     "base_uri": "https://localhost:8080/",
     "height": 452
    },
    "execution": {
     "iopub.execute_input": "2023-08-21T19:50:59.449101Z",
     "iopub.status.busy": "2023-08-21T19:50:59.448627Z",
     "iopub.status.idle": "2023-08-21T19:50:59.818219Z",
     "shell.execute_reply": "2023-08-21T19:50:59.815939Z",
     "shell.execute_reply.started": "2023-08-21T19:50:59.449062Z"
    },
    "executionInfo": {
     "elapsed": 57,
     "status": "ok",
     "timestamp": 1692630284714,
     "user": {
      "displayName": "Kelly Butler",
      "userId": "08515498257456133265"
     },
     "user_tz": 240
    },
    "id": "_nku4OXgiwoQ",
    "outputId": "8e83a7a5-4ed2-4adf-fa41-6deafbd0efba"
   },
   "outputs": [
    {
     "data": {
      "text/plain": [
       "<matplotlib.image.AxesImage at 0x7afa2634d1b0>"
      ]
     },
     "execution_count": 23,
     "metadata": {},
     "output_type": "execute_result"
    },
    {
     "data": {
      "image/png": "[encoded data removed]",
      "text/plain": [
       "<Figure size 640x480 with 1 Axes>"
      ]
     },
     "metadata": {},
     "output_type": "display_data"
    }
   ],
   "source": [
    "img = Image.open('/kaggle/input/indo-fashion-dataset/images/train/60000.jpeg')\n",
    "    # resize image (contain)\n",
    "img = resizeimage.resize_contain(img, [32, 32])\n",
    "    # covert to RBA incase it's RGBA\n",
    "img = img.convert(\"RGB\")\n",
    "#img.save('/content/images/train_60000_resized-image.jpg', img.format)\n",
    "plt.imshow(img)"
   ]
  },
  {
   "cell_type": "code",
   "execution_count": null,
   "id": "6495576b",
   "metadata": {
    "colab": {
     "base_uri": "https://localhost:8080/"
    },
    "executionInfo": {
     "elapsed": 49,
     "status": "ok",
     "timestamp": 1692630284714,
     "user": {
      "displayName": "Kelly Butler",
      "userId": "08515498257456133265"
     },
     "user_tz": 240
    },
    "id": "1xqma-7o1Lfs",
    "outputId": "a1f1e044-cf1e-485a-ac53-215f5cb8804a"
   },
   "outputs": [],
   "source": [
    "img = imageio.imread('/kaggle/input/indo-fashion-dataset/images/train/0.jpeg')\n",
    "img.shape"
   ]
  },
  {
   "cell_type": "code",
   "execution_count": null,
   "id": "0259764c",
   "metadata": {
    "colab": {
     "base_uri": "https://localhost:8080/",
     "height": 452
    },
    "executionInfo": {
     "elapsed": 57,
     "status": "ok",
     "timestamp": 1692630284714,
     "user": {
      "displayName": "Kelly Butler",
      "userId": "08515498257456133265"
     },
     "user_tz": 240
    },
    "id": "_nku4OXgiwoQ",
    "outputId": "8e83a7a5-4ed2-4adf-fa41-6deafbd0efba"
   },
   "outputs": [],
   "source": [
    "img = Image.open('/kaggle/input/indo-fashion-dataset/images/train/60000.jpeg')\n",
    "    # resize image (contain)\n",
    "img = resizeimage.resize_contain(img, [256, 256])\n",
    "    # covert to RBA incase it's RGBA\n",
    "img = img.convert(\"RGB\")\n",
    "#img.save('/content/images/train_60000_resized-image.jpg', img.format)\n",
    "plt.imshow(img)"
   ]
  },
  {
   "cell_type": "code",
   "execution_count": null,
   "id": "48e9d8ee",
   "metadata": {
    "colab": {
     "base_uri": "https://localhost:8080/"
    },
    "executionInfo": {
     "elapsed": 49,
     "status": "ok",
     "timestamp": 1692630284714,
     "user": {
      "displayName": "Kelly Butler",
      "userId": "08515498257456133265"
     },
     "user_tz": 240
    },
    "id": "1xqma-7o1Lfs",
    "outputId": "a1f1e044-cf1e-485a-ac53-215f5cb8804a"
   },
   "outputs": [],
   "source": [
    "img = imageio.imread('/kaggle/input/indo-fashion-dataset/images/train/0.jpeg')\n",
    "img.shape"
   ]
  },
  {
   "cell_type": "code",
   "execution_count": null,
   "id": "f62f7178",
   "metadata": {
    "colab": {
     "base_uri": "https://localhost:8080/",
     "height": 452
    },
    "executionInfo": {
     "elapsed": 1396,
     "status": "ok",
     "timestamp": 1692630286066,
     "user": {
      "displayName": "Kelly Butler",
      "userId": "08515498257456133265"
     },
     "user_tz": 240
    },
    "id": "ctmOtql6AYN2",
    "outputId": "110c75ea-9d3b-4ae7-9cf5-73e051ce3406"
   },
   "outputs": [],
   "source": [
    "plt.imshow(img)"
   ]
  },
  {
   "cell_type": "code",
   "execution_count": null,
   "id": "eff318b8",
   "metadata": {
    "executionInfo": {
     "elapsed": 32,
     "status": "ok",
     "timestamp": 1692630286067,
     "user": {
      "displayName": "Kelly Butler",
      "userId": "08515498257456133265"
     },
     "user_tz": 240
    },
    "id": "NEGPmxFQmItH"
   },
   "outputs": [],
   "source": [
    "\n",
    "img = Image.open('/kaggle/input/indo-fashion-dataset/images/train/0.jpeg')\n",
    "    # resize image (contain)\n",
    "img = resizeimage.resize_contain(img, [256, 256])\n",
    "    # covert to RBA incase it's RGBA\n",
    "img = img.convert(\"RGB\")\n",
    "#img.save('/content/images/train_0_resized-image.jpg', img.format)\n",
    "\n"
   ]
  },
  {
   "cell_type": "code",
   "execution_count": null,
   "id": "1fed5ce8",
   "metadata": {
    "colab": {
     "base_uri": "https://localhost:8080/",
     "height": 452
    },
    "executionInfo": {
     "elapsed": 32,
     "status": "ok",
     "timestamp": 1692630286067,
     "user": {
      "displayName": "Kelly Butler",
      "userId": "08515498257456133265"
     },
     "user_tz": 240
    },
    "id": "DVyZloWgocjm",
    "outputId": "b7206554-4903-4faa-892a-31c43c214eb5"
   },
   "outputs": [],
   "source": [
    "plt.imshow(img)"
   ]
  },
  {
   "cell_type": "code",
   "execution_count": null,
   "id": "156cc297",
   "metadata": {
    "colab": {
     "base_uri": "https://localhost:8080/"
    },
    "executionInfo": {
     "elapsed": 22,
     "status": "ok",
     "timestamp": 1692630286067,
     "user": {
      "displayName": "Kelly Butler",
      "userId": "08515498257456133265"
     },
     "user_tz": 240
    },
    "id": "gXr4X1sdBwcf",
    "outputId": "11e44652-16e2-465e-cea1-e657eb0aa4fc"
   },
   "outputs": [],
   "source": [
    "img = imageio.imread('/kaggle/input/indo-fashion-dataset/images/train/20000.jpeg')\n",
    "img.shape"
   ]
  },
  {
   "cell_type": "code",
   "execution_count": null,
   "id": "aad37378",
   "metadata": {
    "colab": {
     "base_uri": "https://localhost:8080/",
     "height": 452
    },
    "executionInfo": {
     "elapsed": 17,
     "status": "ok",
     "timestamp": 1692630286067,
     "user": {
      "displayName": "Kelly Butler",
      "userId": "08515498257456133265"
     },
     "user_tz": 240
    },
    "id": "VaiQLp4qB-fV",
    "outputId": "c2cab67d-3053-4d70-98fe-af0dd36582e5"
   },
   "outputs": [],
   "source": [
    "plt.imshow(img)"
   ]
  },
  {
   "cell_type": "code",
   "execution_count": null,
   "id": "80ac3abe",
   "metadata": {
    "executionInfo": {
     "elapsed": 11,
     "status": "ok",
     "timestamp": 1692630286068,
     "user": {
      "displayName": "Kelly Butler",
      "userId": "08515498257456133265"
     },
     "user_tz": 240
    },
    "id": "oTbjSlwrBmoa"
   },
   "outputs": [],
   "source": [
    "img = Image.open('/kaggle/input/indo-fashion-dataset/images/train/20000.jpeg')\n",
    "    # resize image (contain)\n",
    "img = resizeimage.resize_contain(img, [256, 256])\n",
    "    # covert to RBA incase it's RGBA\n",
    "img = img.convert(\"RGB\")\n",
    "#img.save('/content/images/train_20000_resized-image.jpg', img.format)\n"
   ]
  },
  {
   "cell_type": "code",
   "execution_count": null,
   "id": "058ef10a",
   "metadata": {
    "colab": {
     "base_uri": "https://localhost:8080/",
     "height": 452
    },
    "executionInfo": {
     "elapsed": 592,
     "status": "ok",
     "timestamp": 1692630286649,
     "user": {
      "displayName": "Kelly Butler",
      "userId": "08515498257456133265"
     },
     "user_tz": 240
    },
    "id": "vHn3lHVLBsoU",
    "outputId": "a6d2e885-9321-4d51-d93c-ba430d06d1fc"
   },
   "outputs": [],
   "source": [
    "plt.imshow(img)"
   ]
  },
  {
   "cell_type": "code",
   "execution_count": 29,
   "id": "e4ed0040",
   "metadata": {
    "execution": {
     "iopub.execute_input": "2023-08-21T22:46:54.732890Z",
     "iopub.status.busy": "2023-08-21T22:46:54.732514Z",
     "iopub.status.idle": "2023-08-21T22:46:54.775583Z",
     "shell.execute_reply": "2023-08-21T22:46:54.774550Z",
     "shell.execute_reply.started": "2023-08-21T22:46:54.732858Z"
    }
   },
   "outputs": [],
   "source": [
    "df_train = pd.get_dummies(data=df_train, columns=['class_label'])"
   ]
  },
  {
   "cell_type": "code",
   "execution_count": 30,
   "id": "44ca88b4",
   "metadata": {
    "execution": {
     "iopub.execute_input": "2023-08-21T22:46:55.652444Z",
     "iopub.status.busy": "2023-08-21T22:46:55.651751Z",
     "iopub.status.idle": "2023-08-21T22:46:55.670377Z",
     "shell.execute_reply": "2023-08-21T22:46:55.669385Z",
     "shell.execute_reply.started": "2023-08-21T22:46:55.652410Z"
    }
   },
   "outputs": [
    {
     "data": {
      "text/html": [
       "<div>\n",
       "<style scoped>\n",
       "    .dataframe tbody tr th:only-of-type {\n",
       "        vertical-align: middle;\n",
       "    }\n",
       "\n",
       "    .dataframe tbody tr th {\n",
       "        vertical-align: top;\n",
       "    }\n",
       "\n",
       "    .dataframe thead th {\n",
       "        text-align: right;\n",
       "    }\n",
       "</style>\n",
       "<table border=\"1\" class=\"dataframe\">\n",
       "  <thead>\n",
       "    <tr style=\"text-align: right;\">\n",
       "      <th></th>\n",
       "      <th>image_path</th>\n",
       "      <th>class_label_blouse</th>\n",
       "      <th>class_label_dhoti_pants</th>\n",
       "      <th>class_label_dupattas</th>\n",
       "      <th>class_label_gowns</th>\n",
       "      <th>class_label_kurta_men</th>\n",
       "      <th>class_label_leggings_and_salwars</th>\n",
       "      <th>class_label_lehenga</th>\n",
       "      <th>class_label_mojaris_men</th>\n",
       "      <th>class_label_mojaris_women</th>\n",
       "      <th>class_label_nehru_jackets</th>\n",
       "      <th>class_label_palazzos</th>\n",
       "      <th>class_label_petticoats</th>\n",
       "      <th>class_label_saree</th>\n",
       "      <th>class_label_sherwanis</th>\n",
       "      <th>class_label_women_kurta</th>\n",
       "    </tr>\n",
       "  </thead>\n",
       "  <tbody>\n",
       "    <tr>\n",
       "      <th>0</th>\n",
       "      <td>images/train/0.jpeg</td>\n",
       "      <td>0</td>\n",
       "      <td>0</td>\n",
       "      <td>0</td>\n",
       "      <td>0</td>\n",
       "      <td>0</td>\n",
       "      <td>0</td>\n",
       "      <td>0</td>\n",
       "      <td>0</td>\n",
       "      <td>0</td>\n",
       "      <td>0</td>\n",
       "      <td>0</td>\n",
       "      <td>0</td>\n",
       "      <td>1</td>\n",
       "      <td>0</td>\n",
       "      <td>0</td>\n",
       "    </tr>\n",
       "    <tr>\n",
       "      <th>1</th>\n",
       "      <td>images/train/1.jpeg</td>\n",
       "      <td>0</td>\n",
       "      <td>0</td>\n",
       "      <td>0</td>\n",
       "      <td>0</td>\n",
       "      <td>0</td>\n",
       "      <td>0</td>\n",
       "      <td>0</td>\n",
       "      <td>0</td>\n",
       "      <td>0</td>\n",
       "      <td>0</td>\n",
       "      <td>0</td>\n",
       "      <td>0</td>\n",
       "      <td>1</td>\n",
       "      <td>0</td>\n",
       "      <td>0</td>\n",
       "    </tr>\n",
       "    <tr>\n",
       "      <th>2</th>\n",
       "      <td>images/train/2.jpeg</td>\n",
       "      <td>0</td>\n",
       "      <td>0</td>\n",
       "      <td>0</td>\n",
       "      <td>0</td>\n",
       "      <td>0</td>\n",
       "      <td>0</td>\n",
       "      <td>0</td>\n",
       "      <td>0</td>\n",
       "      <td>0</td>\n",
       "      <td>0</td>\n",
       "      <td>0</td>\n",
       "      <td>0</td>\n",
       "      <td>1</td>\n",
       "      <td>0</td>\n",
       "      <td>0</td>\n",
       "    </tr>\n",
       "    <tr>\n",
       "      <th>3</th>\n",
       "      <td>images/train/3.jpeg</td>\n",
       "      <td>0</td>\n",
       "      <td>0</td>\n",
       "      <td>0</td>\n",
       "      <td>0</td>\n",
       "      <td>0</td>\n",
       "      <td>0</td>\n",
       "      <td>0</td>\n",
       "      <td>0</td>\n",
       "      <td>0</td>\n",
       "      <td>0</td>\n",
       "      <td>0</td>\n",
       "      <td>0</td>\n",
       "      <td>1</td>\n",
       "      <td>0</td>\n",
       "      <td>0</td>\n",
       "    </tr>\n",
       "    <tr>\n",
       "      <th>4</th>\n",
       "      <td>images/train/4.jpeg</td>\n",
       "      <td>0</td>\n",
       "      <td>0</td>\n",
       "      <td>0</td>\n",
       "      <td>0</td>\n",
       "      <td>0</td>\n",
       "      <td>0</td>\n",
       "      <td>0</td>\n",
       "      <td>0</td>\n",
       "      <td>0</td>\n",
       "      <td>0</td>\n",
       "      <td>0</td>\n",
       "      <td>0</td>\n",
       "      <td>1</td>\n",
       "      <td>0</td>\n",
       "      <td>0</td>\n",
       "    </tr>\n",
       "  </tbody>\n",
       "</table>\n",
       "</div>"
      ],
      "text/plain": [
       "            image_path  class_label_blouse  class_label_dhoti_pants  \\\n",
       "0  images/train/0.jpeg                   0                        0   \n",
       "1  images/train/1.jpeg                   0                        0   \n",
       "2  images/train/2.jpeg                   0                        0   \n",
       "3  images/train/3.jpeg                   0                        0   \n",
       "4  images/train/4.jpeg                   0                        0   \n",
       "\n",
       "   class_label_dupattas  class_label_gowns  class_label_kurta_men  \\\n",
       "0                     0                  0                      0   \n",
       "1                     0                  0                      0   \n",
       "2                     0                  0                      0   \n",
       "3                     0                  0                      0   \n",
       "4                     0                  0                      0   \n",
       "\n",
       "   class_label_leggings_and_salwars  class_label_lehenga  \\\n",
       "0                                 0                    0   \n",
       "1                                 0                    0   \n",
       "2                                 0                    0   \n",
       "3                                 0                    0   \n",
       "4                                 0                    0   \n",
       "\n",
       "   class_label_mojaris_men  class_label_mojaris_women  \\\n",
       "0                        0                          0   \n",
       "1                        0                          0   \n",
       "2                        0                          0   \n",
       "3                        0                          0   \n",
       "4                        0                          0   \n",
       "\n",
       "   class_label_nehru_jackets  class_label_palazzos  class_label_petticoats  \\\n",
       "0                          0                     0                       0   \n",
       "1                          0                     0                       0   \n",
       "2                          0                     0                       0   \n",
       "3                          0                     0                       0   \n",
       "4                          0                     0                       0   \n",
       "\n",
       "   class_label_saree  class_label_sherwanis  class_label_women_kurta  \n",
       "0                  1                      0                        0  \n",
       "1                  1                      0                        0  \n",
       "2                  1                      0                        0  \n",
       "3                  1                      0                        0  \n",
       "4                  1                      0                        0  "
      ]
     },
     "execution_count": 30,
     "metadata": {},
     "output_type": "execute_result"
    }
   ],
   "source": [
    "df_train.head()"
   ]
  },
  {
   "cell_type": "code",
   "execution_count": 31,
   "id": "997881f1",
   "metadata": {
    "execution": {
     "iopub.execute_input": "2023-08-21T22:46:56.894645Z",
     "iopub.status.busy": "2023-08-21T22:46:56.894285Z",
     "iopub.status.idle": "2023-08-21T22:46:56.906076Z",
     "shell.execute_reply": "2023-08-21T22:46:56.904834Z",
     "shell.execute_reply.started": "2023-08-21T22:46:56.894615Z"
    }
   },
   "outputs": [],
   "source": [
    "df_val = pd.get_dummies(data=df_val, columns=['class_label'])"
   ]
  },
  {
   "cell_type": "code",
   "execution_count": 32,
   "id": "8cc30449",
   "metadata": {
    "execution": {
     "iopub.execute_input": "2023-08-21T22:46:58.739382Z",
     "iopub.status.busy": "2023-08-21T22:46:58.739018Z",
     "iopub.status.idle": "2023-08-21T22:46:58.757081Z",
     "shell.execute_reply": "2023-08-21T22:46:58.755744Z",
     "shell.execute_reply.started": "2023-08-21T22:46:58.739354Z"
    }
   },
   "outputs": [
    {
     "data": {
      "text/html": [
       "<div>\n",
       "<style scoped>\n",
       "    .dataframe tbody tr th:only-of-type {\n",
       "        vertical-align: middle;\n",
       "    }\n",
       "\n",
       "    .dataframe tbody tr th {\n",
       "        vertical-align: top;\n",
       "    }\n",
       "\n",
       "    .dataframe thead th {\n",
       "        text-align: right;\n",
       "    }\n",
       "</style>\n",
       "<table border=\"1\" class=\"dataframe\">\n",
       "  <thead>\n",
       "    <tr style=\"text-align: right;\">\n",
       "      <th></th>\n",
       "      <th>image_path</th>\n",
       "      <th>class_label_blouse</th>\n",
       "      <th>class_label_dhoti_pants</th>\n",
       "      <th>class_label_dupattas</th>\n",
       "      <th>class_label_gowns</th>\n",
       "      <th>class_label_kurta_men</th>\n",
       "      <th>class_label_leggings_and_salwars</th>\n",
       "      <th>class_label_lehenga</th>\n",
       "      <th>class_label_mojaris_men</th>\n",
       "      <th>class_label_mojaris_women</th>\n",
       "      <th>class_label_nehru_jackets</th>\n",
       "      <th>class_label_palazzos</th>\n",
       "      <th>class_label_petticoats</th>\n",
       "      <th>class_label_saree</th>\n",
       "      <th>class_label_sherwanis</th>\n",
       "      <th>class_label_women_kurta</th>\n",
       "    </tr>\n",
       "  </thead>\n",
       "  <tbody>\n",
       "    <tr>\n",
       "      <th>0</th>\n",
       "      <td>images/val/0.jpeg</td>\n",
       "      <td>0</td>\n",
       "      <td>0</td>\n",
       "      <td>0</td>\n",
       "      <td>0</td>\n",
       "      <td>0</td>\n",
       "      <td>0</td>\n",
       "      <td>0</td>\n",
       "      <td>0</td>\n",
       "      <td>0</td>\n",
       "      <td>0</td>\n",
       "      <td>0</td>\n",
       "      <td>0</td>\n",
       "      <td>1</td>\n",
       "      <td>0</td>\n",
       "      <td>0</td>\n",
       "    </tr>\n",
       "    <tr>\n",
       "      <th>1</th>\n",
       "      <td>images/val/1.jpeg</td>\n",
       "      <td>0</td>\n",
       "      <td>0</td>\n",
       "      <td>0</td>\n",
       "      <td>0</td>\n",
       "      <td>0</td>\n",
       "      <td>0</td>\n",
       "      <td>0</td>\n",
       "      <td>0</td>\n",
       "      <td>0</td>\n",
       "      <td>0</td>\n",
       "      <td>0</td>\n",
       "      <td>0</td>\n",
       "      <td>1</td>\n",
       "      <td>0</td>\n",
       "      <td>0</td>\n",
       "    </tr>\n",
       "    <tr>\n",
       "      <th>2</th>\n",
       "      <td>images/val/2.jpeg</td>\n",
       "      <td>0</td>\n",
       "      <td>0</td>\n",
       "      <td>0</td>\n",
       "      <td>0</td>\n",
       "      <td>0</td>\n",
       "      <td>0</td>\n",
       "      <td>0</td>\n",
       "      <td>0</td>\n",
       "      <td>0</td>\n",
       "      <td>0</td>\n",
       "      <td>0</td>\n",
       "      <td>0</td>\n",
       "      <td>1</td>\n",
       "      <td>0</td>\n",
       "      <td>0</td>\n",
       "    </tr>\n",
       "    <tr>\n",
       "      <th>3</th>\n",
       "      <td>images/val/3.jpeg</td>\n",
       "      <td>0</td>\n",
       "      <td>0</td>\n",
       "      <td>0</td>\n",
       "      <td>0</td>\n",
       "      <td>0</td>\n",
       "      <td>0</td>\n",
       "      <td>0</td>\n",
       "      <td>0</td>\n",
       "      <td>0</td>\n",
       "      <td>0</td>\n",
       "      <td>0</td>\n",
       "      <td>0</td>\n",
       "      <td>1</td>\n",
       "      <td>0</td>\n",
       "      <td>0</td>\n",
       "    </tr>\n",
       "    <tr>\n",
       "      <th>4</th>\n",
       "      <td>images/val/4.jpeg</td>\n",
       "      <td>0</td>\n",
       "      <td>0</td>\n",
       "      <td>0</td>\n",
       "      <td>0</td>\n",
       "      <td>0</td>\n",
       "      <td>0</td>\n",
       "      <td>0</td>\n",
       "      <td>0</td>\n",
       "      <td>0</td>\n",
       "      <td>0</td>\n",
       "      <td>0</td>\n",
       "      <td>0</td>\n",
       "      <td>1</td>\n",
       "      <td>0</td>\n",
       "      <td>0</td>\n",
       "    </tr>\n",
       "  </tbody>\n",
       "</table>\n",
       "</div>"
      ],
      "text/plain": [
       "          image_path  class_label_blouse  class_label_dhoti_pants  \\\n",
       "0  images/val/0.jpeg                   0                        0   \n",
       "1  images/val/1.jpeg                   0                        0   \n",
       "2  images/val/2.jpeg                   0                        0   \n",
       "3  images/val/3.jpeg                   0                        0   \n",
       "4  images/val/4.jpeg                   0                        0   \n",
       "\n",
       "   class_label_dupattas  class_label_gowns  class_label_kurta_men  \\\n",
       "0                     0                  0                      0   \n",
       "1                     0                  0                      0   \n",
       "2                     0                  0                      0   \n",
       "3                     0                  0                      0   \n",
       "4                     0                  0                      0   \n",
       "\n",
       "   class_label_leggings_and_salwars  class_label_lehenga  \\\n",
       "0                                 0                    0   \n",
       "1                                 0                    0   \n",
       "2                                 0                    0   \n",
       "3                                 0                    0   \n",
       "4                                 0                    0   \n",
       "\n",
       "   class_label_mojaris_men  class_label_mojaris_women  \\\n",
       "0                        0                          0   \n",
       "1                        0                          0   \n",
       "2                        0                          0   \n",
       "3                        0                          0   \n",
       "4                        0                          0   \n",
       "\n",
       "   class_label_nehru_jackets  class_label_palazzos  class_label_petticoats  \\\n",
       "0                          0                     0                       0   \n",
       "1                          0                     0                       0   \n",
       "2                          0                     0                       0   \n",
       "3                          0                     0                       0   \n",
       "4                          0                     0                       0   \n",
       "\n",
       "   class_label_saree  class_label_sherwanis  class_label_women_kurta  \n",
       "0                  1                      0                        0  \n",
       "1                  1                      0                        0  \n",
       "2                  1                      0                        0  \n",
       "3                  1                      0                        0  \n",
       "4                  1                      0                        0  "
      ]
     },
     "execution_count": 32,
     "metadata": {},
     "output_type": "execute_result"
    }
   ],
   "source": [
    "df_val.head()"
   ]
  },
  {
   "cell_type": "code",
   "execution_count": 33,
   "id": "3a8b3d4e",
   "metadata": {
    "execution": {
     "iopub.execute_input": "2023-08-21T22:46:59.546778Z",
     "iopub.status.busy": "2023-08-21T22:46:59.546349Z",
     "iopub.status.idle": "2023-08-21T22:46:59.558593Z",
     "shell.execute_reply": "2023-08-21T22:46:59.557435Z",
     "shell.execute_reply.started": "2023-08-21T22:46:59.546741Z"
    }
   },
   "outputs": [],
   "source": [
    "df_test = pd.get_dummies(data=df_test, columns=['class_label'])"
   ]
  },
  {
   "cell_type": "code",
   "execution_count": 34,
   "id": "32f4e07f",
   "metadata": {
    "execution": {
     "iopub.execute_input": "2023-08-21T22:47:00.492891Z",
     "iopub.status.busy": "2023-08-21T22:47:00.492505Z",
     "iopub.status.idle": "2023-08-21T22:47:00.500260Z",
     "shell.execute_reply": "2023-08-21T22:47:00.499349Z",
     "shell.execute_reply.started": "2023-08-21T22:47:00.492864Z"
    }
   },
   "outputs": [
    {
     "data": {
      "text/plain": [
       "Index(['image_path', 'class_label_blouse', 'class_label_dhoti_pants',\n",
       "       'class_label_dupattas', 'class_label_gowns', 'class_label_kurta_men',\n",
       "       'class_label_leggings_and_salwars', 'class_label_lehenga',\n",
       "       'class_label_mojaris_men', 'class_label_mojaris_women',\n",
       "       'class_label_nehru_jackets', 'class_label_palazzos',\n",
       "       'class_label_petticoats', 'class_label_saree', 'class_label_sherwanis',\n",
       "       'class_label_women_kurta'],\n",
       "      dtype='object')"
      ]
     },
     "execution_count": 34,
     "metadata": {},
     "output_type": "execute_result"
    }
   ],
   "source": [
    "df_train.columns"
   ]
  },
  {
   "cell_type": "code",
   "execution_count": null,
   "id": "4d25c186",
   "metadata": {
    "colab": {
     "base_uri": "https://localhost:8080/",
     "height": 385
    },
    "executionInfo": {
     "elapsed": 119910,
     "status": "error",
     "timestamp": 1692630406556,
     "user": {
      "displayName": "Kelly Butler",
      "userId": "08515498257456133265"
     },
     "user_tz": 240
    },
    "id": "29xr_n1TD1MA",
    "outputId": "9603cd45-8ae6-43e5-e3b0-5cfd78fd7ffc"
   },
   "outputs": [],
   "source": [
    "#resized_imgs = []\n",
    "#for i in range(len(df_train)):\n",
    "  #img = Image.open(f'/content/images/train/{i}.jpeg')\n",
    "  #img = resizeimage.resize_contain(img, [256, 256])\n",
    "  #img = img.convert(\"RGB\")\n",
    "  #resized_imgs.append(img)\n",
    "# requires too much ram"
   ]
  },
  {
   "cell_type": "code",
   "execution_count": null,
   "id": "68cb59d7",
   "metadata": {
    "executionInfo": {
     "elapsed": 167,
     "status": "ok",
     "timestamp": 1692626793820,
     "user": {
      "displayName": "Kelly Butler",
      "userId": "08515498257456133265"
     },
     "user_tz": 240
    },
    "id": "G18rMR--nyPk"
   },
   "outputs": [],
   "source": [
    "#train_datagen=ImageDataGenerator(rescale=1./255)\n",
    "#train_generator=datagen.flow_from_dataframe(dataframe=df_train, directory='/content', x_col='image_path', y_col='class_label', class_mode='categorical', target_size=(32,32), batch_size=32, seed=26, save_to_dir='/content/drive/My Drive/capstone_3/preprocessed_data', )"
   ]
  },
  {
   "cell_type": "code",
   "execution_count": 35,
   "id": "8a1a09e6",
   "metadata": {
    "colab": {
     "base_uri": "https://localhost:8080/"
    },
    "execution": {
     "iopub.execute_input": "2023-08-21T22:47:06.676068Z",
     "iopub.status.busy": "2023-08-21T22:47:06.675647Z",
     "iopub.status.idle": "2023-08-21T22:47:11.684491Z",
     "shell.execute_reply": "2023-08-21T22:47:11.680928Z",
     "shell.execute_reply.started": "2023-08-21T22:47:06.676037Z"
    },
    "executionInfo": {
     "elapsed": 989,
     "status": "ok",
     "timestamp": 1692627052803,
     "user": {
      "displayName": "Kelly Butler",
      "userId": "08515498257456133265"
     },
     "user_tz": 240
    },
    "id": "FJPDKio3Xxzb",
    "outputId": "dfd49772-9604-4fd3-ce99-b57fc526aeae"
   },
   "outputs": [
    {
     "ename": "KeyboardInterrupt",
     "evalue": "",
     "output_type": "error",
     "traceback": [
      "\u001b[0;31m---------------------------------------------------------------------------\u001b[0m",
      "\u001b[0;31mKeyboardInterrupt\u001b[0m                         Traceback (most recent call last)",
      "Cell \u001b[0;32mIn[35], line 10\u001b[0m\n\u001b[1;32m      2\u001b[0m columns \u001b[38;5;241m=\u001b[39m [\u001b[38;5;124m'\u001b[39m\u001b[38;5;124mclass_label_blouse\u001b[39m\u001b[38;5;124m'\u001b[39m, \u001b[38;5;124m'\u001b[39m\u001b[38;5;124mclass_label_dhoti_pants\u001b[39m\u001b[38;5;124m'\u001b[39m,\n\u001b[1;32m      3\u001b[0m        \u001b[38;5;124m'\u001b[39m\u001b[38;5;124mclass_label_dupattas\u001b[39m\u001b[38;5;124m'\u001b[39m, \u001b[38;5;124m'\u001b[39m\u001b[38;5;124mclass_label_gowns\u001b[39m\u001b[38;5;124m'\u001b[39m, \u001b[38;5;124m'\u001b[39m\u001b[38;5;124mclass_label_kurta_men\u001b[39m\u001b[38;5;124m'\u001b[39m,\n\u001b[1;32m      4\u001b[0m        \u001b[38;5;124m'\u001b[39m\u001b[38;5;124mclass_label_leggings_and_salwars\u001b[39m\u001b[38;5;124m'\u001b[39m, \u001b[38;5;124m'\u001b[39m\u001b[38;5;124mclass_label_lehenga\u001b[39m\u001b[38;5;124m'\u001b[39m,\n\u001b[0;32m   (...)\u001b[0m\n\u001b[1;32m      7\u001b[0m        \u001b[38;5;124m'\u001b[39m\u001b[38;5;124mclass_label_petticoats\u001b[39m\u001b[38;5;124m'\u001b[39m, \u001b[38;5;124m'\u001b[39m\u001b[38;5;124mclass_label_saree\u001b[39m\u001b[38;5;124m'\u001b[39m, \u001b[38;5;124m'\u001b[39m\u001b[38;5;124mclass_label_sherwanis\u001b[39m\u001b[38;5;124m'\u001b[39m,\n\u001b[1;32m      8\u001b[0m        \u001b[38;5;124m'\u001b[39m\u001b[38;5;124mclass_label_women_kurta\u001b[39m\u001b[38;5;124m'\u001b[39m]\n\u001b[1;32m      9\u001b[0m train_datagen\u001b[38;5;241m=\u001b[39mImageDataGenerator(rescale\u001b[38;5;241m=\u001b[39m\u001b[38;5;241m1.\u001b[39m\u001b[38;5;241m/\u001b[39m\u001b[38;5;241m255\u001b[39m)\n\u001b[0;32m---> 10\u001b[0m train_generator \u001b[38;5;241m=\u001b[39m \u001b[43mtrain_datagen\u001b[49m\u001b[38;5;241;43m.\u001b[39;49m\u001b[43mflow_from_dataframe\u001b[49m\u001b[43m(\u001b[49m\u001b[43mdataframe\u001b[49m\u001b[38;5;241;43m=\u001b[39;49m\u001b[43mdf_train\u001b[49m\u001b[43m,\u001b[49m\u001b[43m \u001b[49m\u001b[43mdirectory\u001b[49m\u001b[38;5;241;43m=\u001b[39;49m\u001b[38;5;124;43m'\u001b[39;49m\u001b[38;5;124;43m/kaggle/input/indo-fashion-dataset\u001b[39;49m\u001b[38;5;124;43m'\u001b[39;49m\u001b[43m,\u001b[49m\u001b[43m \u001b[49m\u001b[43mx_col\u001b[49m\u001b[38;5;241;43m=\u001b[39;49m\u001b[38;5;124;43m'\u001b[39;49m\u001b[38;5;124;43mimage_path\u001b[39;49m\u001b[38;5;124;43m'\u001b[39;49m\u001b[43m,\u001b[49m\u001b[43m \u001b[49m\u001b[43my_col\u001b[49m\u001b[38;5;241;43m=\u001b[39;49m\u001b[43mcolumns\u001b[49m\u001b[43m,\u001b[49m\u001b[43m \u001b[49m\u001b[43mtarget_size\u001b[49m\u001b[38;5;241;43m=\u001b[39;49m\u001b[43m(\u001b[49m\u001b[38;5;241;43m256\u001b[39;49m\u001b[43m,\u001b[49m\u001b[38;5;241;43m256\u001b[39;49m\u001b[43m)\u001b[49m\u001b[43m,\u001b[49m\u001b[43m \u001b[49m\u001b[43mbatch_size\u001b[49m\u001b[38;5;241;43m=\u001b[39;49m\u001b[38;5;241;43m32\u001b[39;49m\u001b[43m,\u001b[49m\u001b[43m \u001b[49m\u001b[43mseed\u001b[49m\u001b[38;5;241;43m=\u001b[39;49m\u001b[38;5;241;43m26\u001b[39;49m\u001b[43m,\u001b[49m\u001b[43m \u001b[49m\u001b[43msave_to_dir\u001b[49m\u001b[38;5;241;43m=\u001b[39;49m\u001b[38;5;124;43m'\u001b[39;49m\u001b[38;5;124;43m/kaggle/working\u001b[39;49m\u001b[38;5;124;43m'\u001b[39;49m\u001b[43m,\u001b[49m\u001b[43m \u001b[49m\u001b[43mclass_mode\u001b[49m\u001b[38;5;241;43m=\u001b[39;49m\u001b[38;5;124;43m'\u001b[39;49m\u001b[38;5;124;43mraw\u001b[39;49m\u001b[38;5;124;43m'\u001b[39;49m\u001b[43m)\u001b[49m\n",
      "File \u001b[0;32m/opt/conda/lib/python3.10/site-packages/keras/preprocessing/image.py:1806\u001b[0m, in \u001b[0;36mImageDataGenerator.flow_from_dataframe\u001b[0;34m(self, dataframe, directory, x_col, y_col, weight_col, target_size, color_mode, classes, class_mode, batch_size, shuffle, seed, save_to_dir, save_prefix, save_format, subset, interpolation, validate_filenames, **kwargs)\u001b[0m\n\u001b[1;32m   1799\u001b[0m \u001b[38;5;28;01mif\u001b[39;00m \u001b[38;5;124m\"\u001b[39m\u001b[38;5;124mdrop_duplicates\u001b[39m\u001b[38;5;124m\"\u001b[39m \u001b[38;5;129;01min\u001b[39;00m kwargs:\n\u001b[1;32m   1800\u001b[0m     warnings\u001b[38;5;241m.\u001b[39mwarn(\n\u001b[1;32m   1801\u001b[0m         \u001b[38;5;124m\"\u001b[39m\u001b[38;5;124mdrop_duplicates is deprecated, you can drop duplicates \u001b[39m\u001b[38;5;124m\"\u001b[39m\n\u001b[1;32m   1802\u001b[0m         \u001b[38;5;124m\"\u001b[39m\u001b[38;5;124mby using the pandas.DataFrame.drop_duplicates method.\u001b[39m\u001b[38;5;124m\"\u001b[39m,\n\u001b[1;32m   1803\u001b[0m         \u001b[38;5;167;01mDeprecationWarning\u001b[39;00m,\n\u001b[1;32m   1804\u001b[0m     )\n\u001b[0;32m-> 1806\u001b[0m \u001b[38;5;28;01mreturn\u001b[39;00m \u001b[43mDataFrameIterator\u001b[49m\u001b[43m(\u001b[49m\n\u001b[1;32m   1807\u001b[0m \u001b[43m    \u001b[49m\u001b[43mdataframe\u001b[49m\u001b[43m,\u001b[49m\n\u001b[1;32m   1808\u001b[0m \u001b[43m    \u001b[49m\u001b[43mdirectory\u001b[49m\u001b[43m,\u001b[49m\n\u001b[1;32m   1809\u001b[0m \u001b[43m    \u001b[49m\u001b[38;5;28;43mself\u001b[39;49m\u001b[43m,\u001b[49m\n\u001b[1;32m   1810\u001b[0m \u001b[43m    \u001b[49m\u001b[43mx_col\u001b[49m\u001b[38;5;241;43m=\u001b[39;49m\u001b[43mx_col\u001b[49m\u001b[43m,\u001b[49m\n\u001b[1;32m   1811\u001b[0m \u001b[43m    \u001b[49m\u001b[43my_col\u001b[49m\u001b[38;5;241;43m=\u001b[39;49m\u001b[43my_col\u001b[49m\u001b[43m,\u001b[49m\n\u001b[1;32m   1812\u001b[0m \u001b[43m    \u001b[49m\u001b[43mweight_col\u001b[49m\u001b[38;5;241;43m=\u001b[39;49m\u001b[43mweight_col\u001b[49m\u001b[43m,\u001b[49m\n\u001b[1;32m   1813\u001b[0m \u001b[43m    \u001b[49m\u001b[43mtarget_size\u001b[49m\u001b[38;5;241;43m=\u001b[39;49m\u001b[43mtarget_size\u001b[49m\u001b[43m,\u001b[49m\n\u001b[1;32m   1814\u001b[0m \u001b[43m    \u001b[49m\u001b[43mcolor_mode\u001b[49m\u001b[38;5;241;43m=\u001b[39;49m\u001b[43mcolor_mode\u001b[49m\u001b[43m,\u001b[49m\n\u001b[1;32m   1815\u001b[0m \u001b[43m    \u001b[49m\u001b[43mclasses\u001b[49m\u001b[38;5;241;43m=\u001b[39;49m\u001b[43mclasses\u001b[49m\u001b[43m,\u001b[49m\n\u001b[1;32m   1816\u001b[0m \u001b[43m    \u001b[49m\u001b[43mclass_mode\u001b[49m\u001b[38;5;241;43m=\u001b[39;49m\u001b[43mclass_mode\u001b[49m\u001b[43m,\u001b[49m\n\u001b[1;32m   1817\u001b[0m \u001b[43m    \u001b[49m\u001b[43mdata_format\u001b[49m\u001b[38;5;241;43m=\u001b[39;49m\u001b[38;5;28;43mself\u001b[39;49m\u001b[38;5;241;43m.\u001b[39;49m\u001b[43mdata_format\u001b[49m\u001b[43m,\u001b[49m\n\u001b[1;32m   1818\u001b[0m \u001b[43m    \u001b[49m\u001b[43mbatch_size\u001b[49m\u001b[38;5;241;43m=\u001b[39;49m\u001b[43mbatch_size\u001b[49m\u001b[43m,\u001b[49m\n\u001b[1;32m   1819\u001b[0m \u001b[43m    \u001b[49m\u001b[43mshuffle\u001b[49m\u001b[38;5;241;43m=\u001b[39;49m\u001b[43mshuffle\u001b[49m\u001b[43m,\u001b[49m\n\u001b[1;32m   1820\u001b[0m \u001b[43m    \u001b[49m\u001b[43mseed\u001b[49m\u001b[38;5;241;43m=\u001b[39;49m\u001b[43mseed\u001b[49m\u001b[43m,\u001b[49m\n\u001b[1;32m   1821\u001b[0m \u001b[43m    \u001b[49m\u001b[43msave_to_dir\u001b[49m\u001b[38;5;241;43m=\u001b[39;49m\u001b[43msave_to_dir\u001b[49m\u001b[43m,\u001b[49m\n\u001b[1;32m   1822\u001b[0m \u001b[43m    \u001b[49m\u001b[43msave_prefix\u001b[49m\u001b[38;5;241;43m=\u001b[39;49m\u001b[43msave_prefix\u001b[49m\u001b[43m,\u001b[49m\n\u001b[1;32m   1823\u001b[0m \u001b[43m    \u001b[49m\u001b[43msave_format\u001b[49m\u001b[38;5;241;43m=\u001b[39;49m\u001b[43msave_format\u001b[49m\u001b[43m,\u001b[49m\n\u001b[1;32m   1824\u001b[0m \u001b[43m    \u001b[49m\u001b[43msubset\u001b[49m\u001b[38;5;241;43m=\u001b[39;49m\u001b[43msubset\u001b[49m\u001b[43m,\u001b[49m\n\u001b[1;32m   1825\u001b[0m \u001b[43m    \u001b[49m\u001b[43minterpolation\u001b[49m\u001b[38;5;241;43m=\u001b[39;49m\u001b[43minterpolation\u001b[49m\u001b[43m,\u001b[49m\n\u001b[1;32m   1826\u001b[0m \u001b[43m    \u001b[49m\u001b[43mvalidate_filenames\u001b[49m\u001b[38;5;241;43m=\u001b[39;49m\u001b[43mvalidate_filenames\u001b[49m\u001b[43m,\u001b[49m\n\u001b[1;32m   1827\u001b[0m \u001b[43m    \u001b[49m\u001b[43mdtype\u001b[49m\u001b[38;5;241;43m=\u001b[39;49m\u001b[38;5;28;43mself\u001b[39;49m\u001b[38;5;241;43m.\u001b[39;49m\u001b[43mdtype\u001b[49m\u001b[43m,\u001b[49m\n\u001b[1;32m   1828\u001b[0m \u001b[43m\u001b[49m\u001b[43m)\u001b[49m\n",
      "File \u001b[0;32m/opt/conda/lib/python3.10/site-packages/keras/preprocessing/image.py:972\u001b[0m, in \u001b[0;36mDataFrameIterator.__init__\u001b[0;34m(self, dataframe, directory, image_data_generator, x_col, y_col, weight_col, target_size, color_mode, classes, class_mode, batch_size, shuffle, seed, data_format, save_to_dir, save_prefix, save_format, subset, interpolation, keep_aspect_ratio, dtype, validate_filenames)\u001b[0m\n\u001b[1;32m    968\u001b[0m \u001b[38;5;28mself\u001b[39m\u001b[38;5;241m.\u001b[39m_check_params(df, x_col, y_col, weight_col, classes)\n\u001b[1;32m    969\u001b[0m \u001b[38;5;28;01mif\u001b[39;00m (\n\u001b[1;32m    970\u001b[0m     validate_filenames\n\u001b[1;32m    971\u001b[0m ):  \u001b[38;5;66;03m# check which image files are valid and keep them\u001b[39;00m\n\u001b[0;32m--> 972\u001b[0m     df \u001b[38;5;241m=\u001b[39m \u001b[38;5;28;43mself\u001b[39;49m\u001b[38;5;241;43m.\u001b[39;49m\u001b[43m_filter_valid_filepaths\u001b[49m\u001b[43m(\u001b[49m\u001b[43mdf\u001b[49m\u001b[43m,\u001b[49m\u001b[43m \u001b[49m\u001b[43mx_col\u001b[49m\u001b[43m)\u001b[49m\n\u001b[1;32m    973\u001b[0m \u001b[38;5;28;01mif\u001b[39;00m class_mode \u001b[38;5;129;01mnot\u001b[39;00m \u001b[38;5;129;01min\u001b[39;00m [\u001b[38;5;124m\"\u001b[39m\u001b[38;5;124minput\u001b[39m\u001b[38;5;124m\"\u001b[39m, \u001b[38;5;124m\"\u001b[39m\u001b[38;5;124mmulti_output\u001b[39m\u001b[38;5;124m\"\u001b[39m, \u001b[38;5;124m\"\u001b[39m\u001b[38;5;124mraw\u001b[39m\u001b[38;5;124m\"\u001b[39m, \u001b[38;5;28;01mNone\u001b[39;00m]:\n\u001b[1;32m    974\u001b[0m     df, classes \u001b[38;5;241m=\u001b[39m \u001b[38;5;28mself\u001b[39m\u001b[38;5;241m.\u001b[39m_filter_classes(df, y_col, classes)\n",
      "File \u001b[0;32m/opt/conda/lib/python3.10/site-packages/keras/preprocessing/image.py:1132\u001b[0m, in \u001b[0;36mDataFrameIterator._filter_valid_filepaths\u001b[0;34m(self, df, x_col)\u001b[0m\n\u001b[1;32m   1120\u001b[0m \u001b[38;5;250m\u001b[39m\u001b[38;5;124;03m\"\"\"Keep only dataframe rows with valid filenames.\u001b[39;00m\n\u001b[1;32m   1121\u001b[0m \n\u001b[1;32m   1122\u001b[0m \u001b[38;5;124;03mArgs:\u001b[39;00m\n\u001b[0;32m   (...)\u001b[0m\n\u001b[1;32m   1127\u001b[0m \u001b[38;5;124;03m    absolute paths to image files\u001b[39;00m\n\u001b[1;32m   1128\u001b[0m \u001b[38;5;124;03m\"\"\"\u001b[39;00m\n\u001b[1;32m   1129\u001b[0m filepaths \u001b[38;5;241m=\u001b[39m df[x_col]\u001b[38;5;241m.\u001b[39mmap(\n\u001b[1;32m   1130\u001b[0m     \u001b[38;5;28;01mlambda\u001b[39;00m fname: os\u001b[38;5;241m.\u001b[39mpath\u001b[38;5;241m.\u001b[39mjoin(\u001b[38;5;28mself\u001b[39m\u001b[38;5;241m.\u001b[39mdirectory, fname)\n\u001b[1;32m   1131\u001b[0m )\n\u001b[0;32m-> 1132\u001b[0m mask \u001b[38;5;241m=\u001b[39m \u001b[43mfilepaths\u001b[49m\u001b[38;5;241;43m.\u001b[39;49m\u001b[43mapply\u001b[49m\u001b[43m(\u001b[49m\n\u001b[1;32m   1133\u001b[0m \u001b[43m    \u001b[49m\u001b[43mvalidate_filename\u001b[49m\u001b[43m,\u001b[49m\u001b[43m \u001b[49m\u001b[43margs\u001b[49m\u001b[38;5;241;43m=\u001b[39;49m\u001b[43m(\u001b[49m\u001b[38;5;28;43mself\u001b[39;49m\u001b[38;5;241;43m.\u001b[39;49m\u001b[43mwhite_list_formats\u001b[49m\u001b[43m,\u001b[49m\u001b[43m)\u001b[49m\n\u001b[1;32m   1134\u001b[0m \u001b[43m\u001b[49m\u001b[43m)\u001b[49m\n\u001b[1;32m   1135\u001b[0m n_invalid \u001b[38;5;241m=\u001b[39m (\u001b[38;5;241m~\u001b[39mmask)\u001b[38;5;241m.\u001b[39msum()\n\u001b[1;32m   1136\u001b[0m \u001b[38;5;28;01mif\u001b[39;00m n_invalid:\n",
      "File \u001b[0;32m/opt/conda/lib/python3.10/site-packages/pandas/core/series.py:4771\u001b[0m, in \u001b[0;36mSeries.apply\u001b[0;34m(self, func, convert_dtype, args, **kwargs)\u001b[0m\n\u001b[1;32m   4661\u001b[0m \u001b[38;5;28;01mdef\u001b[39;00m \u001b[38;5;21mapply\u001b[39m(\n\u001b[1;32m   4662\u001b[0m     \u001b[38;5;28mself\u001b[39m,\n\u001b[1;32m   4663\u001b[0m     func: AggFuncType,\n\u001b[0;32m   (...)\u001b[0m\n\u001b[1;32m   4666\u001b[0m     \u001b[38;5;241m*\u001b[39m\u001b[38;5;241m*\u001b[39mkwargs,\n\u001b[1;32m   4667\u001b[0m ) \u001b[38;5;241m-\u001b[39m\u001b[38;5;241m>\u001b[39m DataFrame \u001b[38;5;241m|\u001b[39m Series:\n\u001b[1;32m   4668\u001b[0m \u001b[38;5;250m    \u001b[39m\u001b[38;5;124;03m\"\"\"\u001b[39;00m\n\u001b[1;32m   4669\u001b[0m \u001b[38;5;124;03m    Invoke function on values of Series.\u001b[39;00m\n\u001b[1;32m   4670\u001b[0m \n\u001b[0;32m   (...)\u001b[0m\n\u001b[1;32m   4769\u001b[0m \u001b[38;5;124;03m    dtype: float64\u001b[39;00m\n\u001b[1;32m   4770\u001b[0m \u001b[38;5;124;03m    \"\"\"\u001b[39;00m\n\u001b[0;32m-> 4771\u001b[0m     \u001b[38;5;28;01mreturn\u001b[39;00m \u001b[43mSeriesApply\u001b[49m\u001b[43m(\u001b[49m\u001b[38;5;28;43mself\u001b[39;49m\u001b[43m,\u001b[49m\u001b[43m \u001b[49m\u001b[43mfunc\u001b[49m\u001b[43m,\u001b[49m\u001b[43m \u001b[49m\u001b[43mconvert_dtype\u001b[49m\u001b[43m,\u001b[49m\u001b[43m \u001b[49m\u001b[43margs\u001b[49m\u001b[43m,\u001b[49m\u001b[43m \u001b[49m\u001b[43mkwargs\u001b[49m\u001b[43m)\u001b[49m\u001b[38;5;241;43m.\u001b[39;49m\u001b[43mapply\u001b[49m\u001b[43m(\u001b[49m\u001b[43m)\u001b[49m\n",
      "File \u001b[0;32m/opt/conda/lib/python3.10/site-packages/pandas/core/apply.py:1123\u001b[0m, in \u001b[0;36mSeriesApply.apply\u001b[0;34m(self)\u001b[0m\n\u001b[1;32m   1120\u001b[0m     \u001b[38;5;28;01mreturn\u001b[39;00m \u001b[38;5;28mself\u001b[39m\u001b[38;5;241m.\u001b[39mapply_str()\n\u001b[1;32m   1122\u001b[0m \u001b[38;5;66;03m# self.f is Callable\u001b[39;00m\n\u001b[0;32m-> 1123\u001b[0m \u001b[38;5;28;01mreturn\u001b[39;00m \u001b[38;5;28;43mself\u001b[39;49m\u001b[38;5;241;43m.\u001b[39;49m\u001b[43mapply_standard\u001b[49m\u001b[43m(\u001b[49m\u001b[43m)\u001b[49m\n",
      "File \u001b[0;32m/opt/conda/lib/python3.10/site-packages/pandas/core/apply.py:1174\u001b[0m, in \u001b[0;36mSeriesApply.apply_standard\u001b[0;34m(self)\u001b[0m\n\u001b[1;32m   1172\u001b[0m     \u001b[38;5;28;01melse\u001b[39;00m:\n\u001b[1;32m   1173\u001b[0m         values \u001b[38;5;241m=\u001b[39m obj\u001b[38;5;241m.\u001b[39mastype(\u001b[38;5;28mobject\u001b[39m)\u001b[38;5;241m.\u001b[39m_values\n\u001b[0;32m-> 1174\u001b[0m         mapped \u001b[38;5;241m=\u001b[39m \u001b[43mlib\u001b[49m\u001b[38;5;241;43m.\u001b[39;49m\u001b[43mmap_infer\u001b[49m\u001b[43m(\u001b[49m\n\u001b[1;32m   1175\u001b[0m \u001b[43m            \u001b[49m\u001b[43mvalues\u001b[49m\u001b[43m,\u001b[49m\n\u001b[1;32m   1176\u001b[0m \u001b[43m            \u001b[49m\u001b[43mf\u001b[49m\u001b[43m,\u001b[49m\n\u001b[1;32m   1177\u001b[0m \u001b[43m            \u001b[49m\u001b[43mconvert\u001b[49m\u001b[38;5;241;43m=\u001b[39;49m\u001b[38;5;28;43mself\u001b[39;49m\u001b[38;5;241;43m.\u001b[39;49m\u001b[43mconvert_dtype\u001b[49m\u001b[43m,\u001b[49m\n\u001b[1;32m   1178\u001b[0m \u001b[43m        \u001b[49m\u001b[43m)\u001b[49m\n\u001b[1;32m   1180\u001b[0m \u001b[38;5;28;01mif\u001b[39;00m \u001b[38;5;28mlen\u001b[39m(mapped) \u001b[38;5;129;01mand\u001b[39;00m \u001b[38;5;28misinstance\u001b[39m(mapped[\u001b[38;5;241m0\u001b[39m], ABCSeries):\n\u001b[1;32m   1181\u001b[0m     \u001b[38;5;66;03m# GH#43986 Need to do list(mapped) in order to get treated as nested\u001b[39;00m\n\u001b[1;32m   1182\u001b[0m     \u001b[38;5;66;03m#  See also GH#25959 regarding EA support\u001b[39;00m\n\u001b[1;32m   1183\u001b[0m     \u001b[38;5;28;01mreturn\u001b[39;00m obj\u001b[38;5;241m.\u001b[39m_constructor_expanddim(\u001b[38;5;28mlist\u001b[39m(mapped), index\u001b[38;5;241m=\u001b[39mobj\u001b[38;5;241m.\u001b[39mindex)\n",
      "File \u001b[0;32m/opt/conda/lib/python3.10/site-packages/pandas/_libs/lib.pyx:2924\u001b[0m, in \u001b[0;36mpandas._libs.lib.map_infer\u001b[0;34m()\u001b[0m\n",
      "File \u001b[0;32m/opt/conda/lib/python3.10/site-packages/pandas/core/apply.py:142\u001b[0m, in \u001b[0;36mApply.__init__.<locals>.f\u001b[0;34m(x)\u001b[0m\n\u001b[1;32m    141\u001b[0m \u001b[38;5;28;01mdef\u001b[39;00m \u001b[38;5;21mf\u001b[39m(x):\n\u001b[0;32m--> 142\u001b[0m     \u001b[38;5;28;01mreturn\u001b[39;00m \u001b[43mfunc\u001b[49m\u001b[43m(\u001b[49m\u001b[43mx\u001b[49m\u001b[43m,\u001b[49m\u001b[43m \u001b[49m\u001b[38;5;241;43m*\u001b[39;49m\u001b[43margs\u001b[49m\u001b[43m,\u001b[49m\u001b[43m \u001b[49m\u001b[38;5;241;43m*\u001b[39;49m\u001b[38;5;241;43m*\u001b[39;49m\u001b[43mkwargs\u001b[49m\u001b[43m)\u001b[49m\n",
      "File \u001b[0;32m/opt/conda/lib/python3.10/site-packages/keras/preprocessing/image.py:838\u001b[0m, in \u001b[0;36mvalidate_filename\u001b[0;34m(filename, white_list_formats)\u001b[0m\n\u001b[1;32m    829\u001b[0m \u001b[38;5;28;01mdef\u001b[39;00m \u001b[38;5;21mvalidate_filename\u001b[39m(filename, white_list_formats):\n\u001b[1;32m    830\u001b[0m \u001b[38;5;250m    \u001b[39m\u001b[38;5;124;03m\"\"\"Check if a filename refers to a valid file.\u001b[39;00m\n\u001b[1;32m    831\u001b[0m \n\u001b[1;32m    832\u001b[0m \u001b[38;5;124;03m    Args:\u001b[39;00m\n\u001b[0;32m   (...)\u001b[0m\n\u001b[1;32m    836\u001b[0m \u001b[38;5;124;03m        A boolean value indicating if the filename is valid or not\u001b[39;00m\n\u001b[1;32m    837\u001b[0m \u001b[38;5;124;03m    \"\"\"\u001b[39;00m\n\u001b[0;32m--> 838\u001b[0m     \u001b[38;5;28;01mreturn\u001b[39;00m filename\u001b[38;5;241m.\u001b[39mlower()\u001b[38;5;241m.\u001b[39mendswith(white_list_formats) \u001b[38;5;129;01mand\u001b[39;00m \u001b[43mos\u001b[49m\u001b[38;5;241;43m.\u001b[39;49m\u001b[43mpath\u001b[49m\u001b[38;5;241;43m.\u001b[39;49m\u001b[43misfile\u001b[49m\u001b[43m(\u001b[49m\n\u001b[1;32m    839\u001b[0m \u001b[43m        \u001b[49m\u001b[43mfilename\u001b[49m\n\u001b[1;32m    840\u001b[0m \u001b[43m    \u001b[49m\u001b[43m)\u001b[49m\n",
      "File \u001b[0;32m/opt/conda/lib/python3.10/genericpath.py:30\u001b[0m, in \u001b[0;36misfile\u001b[0;34m(path)\u001b[0m\n\u001b[1;32m     28\u001b[0m \u001b[38;5;250m\u001b[39m\u001b[38;5;124;03m\"\"\"Test whether a path is a regular file\"\"\"\u001b[39;00m\n\u001b[1;32m     29\u001b[0m \u001b[38;5;28;01mtry\u001b[39;00m:\n\u001b[0;32m---> 30\u001b[0m     st \u001b[38;5;241m=\u001b[39m \u001b[43mos\u001b[49m\u001b[38;5;241;43m.\u001b[39;49m\u001b[43mstat\u001b[49m\u001b[43m(\u001b[49m\u001b[43mpath\u001b[49m\u001b[43m)\u001b[49m\n\u001b[1;32m     31\u001b[0m \u001b[38;5;28;01mexcept\u001b[39;00m (\u001b[38;5;167;01mOSError\u001b[39;00m, \u001b[38;5;167;01mValueError\u001b[39;00m):\n\u001b[1;32m     32\u001b[0m     \u001b[38;5;28;01mreturn\u001b[39;00m \u001b[38;5;28;01mFalse\u001b[39;00m\n",
      "\u001b[0;31mKeyboardInterrupt\u001b[0m: "
     ]
    }
   ],
   "source": [
    "# Creating generator images sizes 256 x 256\n",
    "columns = ['class_label_blouse', 'class_label_dhoti_pants',\n",
    "       'class_label_dupattas', 'class_label_gowns', 'class_label_kurta_men',\n",
    "       'class_label_leggings_and_salwars', 'class_label_lehenga',\n",
    "       'class_label_mojaris_men', 'class_label_mojaris_women',\n",
    "       'class_label_nehru_jackets', 'class_label_palazzos',\n",
    "       'class_label_petticoats', 'class_label_saree', 'class_label_sherwanis',\n",
    "       'class_label_women_kurta']\n",
    "train_datagen=ImageDataGenerator(rescale=1./255)\n",
    "train_generator = train_datagen.flow_from_dataframe(dataframe=df_train, directory='/kaggle/input/indo-fashion-dataset', x_col='image_path', y_col=columns, target_size=(256,256), batch_size=32, seed=26, save_to_dir='/kaggle/working', class_mode='raw')"
   ]
  },
  {
   "cell_type": "code",
   "execution_count": null,
   "id": "0c4787c7",
   "metadata": {
    "colab": {
     "base_uri": "https://localhost:8080/"
    },
    "executionInfo": {
     "elapsed": 418,
     "status": "ok",
     "timestamp": 1692627166048,
     "user": {
      "displayName": "Kelly Butler",
      "userId": "08515498257456133265"
     },
     "user_tz": 240
    },
    "id": "iMCAsrzPb67i",
    "outputId": "863fbf8f-08c1-4360-d2cb-2fd044f1ac9f"
   },
   "outputs": [],
   "source": [
    "val_datagen=ImageDataGenerator(rescale=1./255)\n",
    "val_generator = val_datagen.flow_from_dataframe(dataframe=df_val, directory='/kaggle/input/indo-fashion-dataset', x_col='image_path', y_col=columns, target_size=(256,256), batch_size=32, seed=26, save_to_dir='/kaggle/working', class_mode='raw')"
   ]
  },
  {
   "cell_type": "code",
   "execution_count": null,
   "id": "bf2e8a66",
   "metadata": {
    "executionInfo": {
     "elapsed": 407,
     "status": "ok",
     "timestamp": 1692625052410,
     "user": {
      "displayName": "Kelly Butler",
      "userId": "08515498257456133265"
     },
     "user_tz": 240
    },
    "id": "50c079b7"
   },
   "outputs": [],
   "source": [
    "# most of code is from https://saturncloud.io/blog/how-to-handle-different-image-sizes-in-tensorflow-cnn-training/#:~:text=Solution%202%3A%20Use%20Variable%20Input,keras.\n",
    "# Thursday, July 06, 2023\n",
    "\n",
    "#def resize_image(image, size=(256, 256)):\n",
    "    #return tf.image.resize(image, size)\n",
    "\n",
    "#train_dataset = tf.data.Dataset.list_files('/content/images/train/*.jpg')\n",
    "#train_dataset = train_dataset.map(lambda x: tf.io.read_file(x))\n",
    "\n",
    "#train_dataset = train_dataset.map(lambda x: tf.image.decode_jpeg(x, channels=3))\n",
    "\n",
    "# Apply resizing to dataset\n",
    "#train_dataset = train_dataset.map(lambda x: resize_image(x, size=(256, 256)))\n",
    "\n",
    "#val_dataset = tf.data.Dataset.list_files('/content/images/val/*.jpg')\n",
    "#val_dataset = val_dataset.map(lambda x: tf.io.read_file(x))\n",
    "\n",
    "#val_dataset = val_dataset.map(lambda x: tf.image.decode_jpeg(x, channels=3))\n",
    "\n",
    "#val_dataset = val_dataset.map(lambda x: resize_image(x, size=(256, 256)))"
   ]
  },
  {
   "cell_type": "code",
   "execution_count": null,
   "id": "71b32d3f",
   "metadata": {
    "executionInfo": {
     "elapsed": 573,
     "status": "ok",
     "timestamp": 1692629951064,
     "user": {
      "displayName": "Kelly Butler",
      "userId": "08515498257456133265"
     },
     "user_tz": 240
    },
    "id": "PsGLmgnLUSNX"
   },
   "outputs": [],
   "source": [
    "# Setting up model\n",
    "img_width, img_height = 256, 256\n",
    "\n",
    "train_data = train_generator\n",
    "val_data = val_generator\n",
    "nb_train_samples = 91166\n",
    "nb_validation_samples = 7500\n",
    "epochs = 50\n",
    "batch_size = 16\n",
    "\n",
    "\n",
    "\n",
    "input_shape = (img_width, img_height, 3)\n",
    "\n",
    "\n",
    "\n",
    "model = Sequential()\n",
    "model.add(Conv2D(32, (3, 3), input_shape=input_shape))\n",
    "model.add(Activation('relu'))\n",
    "model.add(MaxPooling2D(pool_size=(2, 2)))\n",
    "\n",
    "model.add(Conv2D(32, (3, 3)))\n",
    "model.add(Activation('relu'))\n",
    "model.add(MaxPooling2D(pool_size=(2, 2)))\n",
    "\n",
    "model.add(Conv2D(64, (3, 3)))\n",
    "model.add(Activation('relu'))\n",
    "model.add(MaxPooling2D(pool_size=(2, 2)))\n",
    "\n",
    "model.add(Flatten())\n",
    "\n",
    "model.add(Dense(64))\n",
    "model.add(Activation('relu'))\n",
    "model.add(Dropout(0.3))\n",
    "model.add(Dense(15))\n",
    "model.add(Activation('sigmoid'))\n",
    "\n",
    "model.compile(loss='categorical_crossentropy', optimizer='adam', metrics=['accuracy'])\n"
   ]
  },
  {
   "cell_type": "code",
   "execution_count": null,
   "id": "5f66c415",
   "metadata": {
    "colab": {
     "base_uri": "https://localhost:8080/",
     "height": 1000
    },
    "executionInfo": {
     "elapsed": 35249,
     "status": "error",
     "timestamp": 1692629988242,
     "user": {
      "displayName": "Kelly Butler",
      "userId": "08515498257456133265"
     },
     "user_tz": 240
    },
    "id": "BaB7j4UvPlQ0",
    "outputId": "9a420f8b-0a34-4361-b44d-6df1e34fb08a"
   },
   "outputs": [],
   "source": [
    "model.fit(\n",
    "    x=train_generator,\n",
    "    y=None,\n",
    "    validation_data=val_generator,\n",
    "    epochs=5,\n",
    "    verbose=\"auto\",\n",
    "    callbacks=None,\n",
    "    validation_split=0.0,\n",
    "    shuffle=True,\n",
    "    class_weight=None,\n",
    "    sample_weight=None,\n",
    "    initial_epoch=0,\n",
    "    steps_per_epoch=None,\n",
    "    validation_steps=3,\n",
    "    validation_batch_size=batch_size,\n",
    "    validation_freq=4,\n",
    "    max_queue_size=10,\n",
    "    use_multiprocessing=True,\n",
    "    workers=6)\n",
    "\n"
   ]
  },
  {
   "cell_type": "code",
   "execution_count": null,
   "id": "0fc007cf",
   "metadata": {
    "id": "s2lJLvacPlOR"
   },
   "outputs": [],
   "source": []
  },
  {
   "cell_type": "markdown",
   "id": "6d764a89",
   "metadata": {},
   "source": [
    "Now trying smaller images"
   ]
  },
  {
   "cell_type": "code",
   "execution_count": 30,
   "id": "1ec4ec35",
   "metadata": {
    "colab": {
     "base_uri": "https://localhost:8080/"
    },
    "execution": {
     "iopub.execute_input": "2023-08-21T19:51:35.516674Z",
     "iopub.status.busy": "2023-08-21T19:51:35.515752Z",
     "iopub.status.idle": "2023-08-21T19:52:28.731161Z",
     "shell.execute_reply": "2023-08-21T19:52:28.729896Z",
     "shell.execute_reply.started": "2023-08-21T19:51:35.516632Z"
    },
    "executionInfo": {
     "elapsed": 989,
     "status": "ok",
     "timestamp": 1692627052803,
     "user": {
      "displayName": "Kelly Butler",
      "userId": "08515498257456133265"
     },
     "user_tz": 240
    },
    "id": "FJPDKio3Xxzb",
    "outputId": "dfd49772-9604-4fd3-ce99-b57fc526aeae"
   },
   "outputs": [
    {
     "name": "stdout",
     "output_type": "stream",
     "text": [
      "Found 91166 validated image filenames.\n"
     ]
    }
   ],
   "source": [
    "# Creating generator for 32 x 32 sized images\n",
    "columns = ['class_label_blouse', 'class_label_dhoti_pants',\n",
    "       'class_label_dupattas', 'class_label_gowns', 'class_label_kurta_men',\n",
    "       'class_label_leggings_and_salwars', 'class_label_lehenga',\n",
    "       'class_label_mojaris_men', 'class_label_mojaris_women',\n",
    "       'class_label_nehru_jackets', 'class_label_palazzos',\n",
    "       'class_label_petticoats', 'class_label_saree', 'class_label_sherwanis',\n",
    "       'class_label_women_kurta']\n",
    "train_datagen=ImageDataGenerator(rescale=1./255)\n",
    "train_generator = train_datagen.flow_from_dataframe(dataframe=df_train, directory='/kaggle/input/indo-fashion-dataset', x_col='image_path', y_col=columns, target_size=(32,32), batch_size=32, seed=26, save_to_dir='/kaggle/working', class_mode='raw')"
   ]
  },
  {
   "cell_type": "code",
   "execution_count": 31,
   "id": "9d505878",
   "metadata": {
    "colab": {
     "base_uri": "https://localhost:8080/"
    },
    "execution": {
     "iopub.execute_input": "2023-08-21T19:52:28.735573Z",
     "iopub.status.busy": "2023-08-21T19:52:28.735095Z",
     "iopub.status.idle": "2023-08-21T19:52:32.253663Z",
     "shell.execute_reply": "2023-08-21T19:52:32.252374Z",
     "shell.execute_reply.started": "2023-08-21T19:52:28.735524Z"
    },
    "executionInfo": {
     "elapsed": 418,
     "status": "ok",
     "timestamp": 1692627166048,
     "user": {
      "displayName": "Kelly Butler",
      "userId": "08515498257456133265"
     },
     "user_tz": 240
    },
    "id": "iMCAsrzPb67i",
    "outputId": "863fbf8f-08c1-4360-d2cb-2fd044f1ac9f"
   },
   "outputs": [
    {
     "name": "stdout",
     "output_type": "stream",
     "text": [
      "Found 7500 validated image filenames.\n"
     ]
    }
   ],
   "source": [
    "val_datagen=ImageDataGenerator(rescale=1./255)\n",
    "val_generator = val_datagen.flow_from_dataframe(dataframe=df_val, directory='/kaggle/input/indo-fashion-dataset', x_col='image_path', y_col=columns, target_size=(32,32), batch_size=32, seed=26, save_to_dir='/kaggle/working', class_mode='raw')"
   ]
  },
  {
   "cell_type": "code",
   "execution_count": 32,
   "id": "49327993",
   "metadata": {
    "execution": {
     "iopub.execute_input": "2023-08-21T19:53:24.184863Z",
     "iopub.status.busy": "2023-08-21T19:53:24.184367Z",
     "iopub.status.idle": "2023-08-21T19:53:27.640450Z",
     "shell.execute_reply": "2023-08-21T19:53:27.639230Z",
     "shell.execute_reply.started": "2023-08-21T19:53:24.184800Z"
    },
    "executionInfo": {
     "elapsed": 573,
     "status": "ok",
     "timestamp": 1692629951064,
     "user": {
      "displayName": "Kelly Butler",
      "userId": "08515498257456133265"
     },
     "user_tz": 240
    },
    "id": "PsGLmgnLUSNX"
   },
   "outputs": [],
   "source": [
    "# Setting up model\n",
    "img_width, img_height = 32, 32\n",
    "\n",
    "train_data = train_generator\n",
    "val_data = val_generator\n",
    "nb_train_samples = 91166\n",
    "nb_validation_samples = 7500\n",
    "epochs = 50\n",
    "batch_size = 16\n",
    "\n",
    "\n",
    "\n",
    "input_shape = (img_width, img_height, 3)\n",
    "\n",
    "\n",
    "\n",
    "model = Sequential()\n",
    "model.add(Conv2D(32, (3, 3), input_shape=input_shape))\n",
    "model.add(Activation('relu'))\n",
    "model.add(MaxPooling2D(pool_size=(2, 2)))\n",
    "\n",
    "model.add(Conv2D(32, (3, 3)))\n",
    "model.add(Activation('relu'))\n",
    "model.add(MaxPooling2D(pool_size=(2, 2)))\n",
    "\n",
    "model.add(Conv2D(64, (3, 3)))\n",
    "model.add(Activation('relu'))\n",
    "model.add(MaxPooling2D(pool_size=(2, 2)))\n",
    "\n",
    "model.add(Flatten())\n",
    "\n",
    "model.add(Dense(64))\n",
    "model.add(Activation('relu'))\n",
    "model.add(Dropout(0.3))\n",
    "model.add(Dense(15))\n",
    "model.add(Activation('sigmoid'))\n",
    "\n",
    "model.compile(loss='categorical_crossentropy', optimizer='adam', metrics=['accuracy'])\n"
   ]
  },
  {
   "cell_type": "code",
   "execution_count": 33,
   "id": "29d876cc",
   "metadata": {
    "colab": {
     "base_uri": "https://localhost:8080/",
     "height": 1000
    },
    "execution": {
     "iopub.execute_input": "2023-08-21T19:53:46.615508Z",
     "iopub.status.busy": "2023-08-21T19:53:46.615075Z",
     "iopub.status.idle": "2023-08-21T20:09:47.408085Z",
     "shell.execute_reply": "2023-08-21T20:09:47.405885Z",
     "shell.execute_reply.started": "2023-08-21T19:53:46.615472Z"
    },
    "executionInfo": {
     "elapsed": 35249,
     "status": "error",
     "timestamp": 1692629988242,
     "user": {
      "displayName": "Kelly Butler",
      "userId": "08515498257456133265"
     },
     "user_tz": 240
    },
    "id": "BaB7j4UvPlQ0",
    "outputId": "9a420f8b-0a34-4361-b44d-6df1e34fb08a"
   },
   "outputs": [
    {
     "name": "stdout",
     "output_type": "stream",
     "text": [
      "Epoch 1/50\n",
      "2849/2849 [==============================] - 217s 74ms/step - loss: 1.3831 - accuracy: 0.5580\n",
      "Epoch 2/50\n",
      "2849/2849 [==============================] - 198s 69ms/step - loss: 1.0064 - accuracy: 0.6766\n",
      "Epoch 3/50\n",
      "2849/2849 [==============================] - 197s 69ms/step - loss: 0.9100 - accuracy: 0.7082\n",
      "Epoch 4/50\n",
      "2849/2849 [==============================] - 197s 69ms/step - loss: 0.8566 - accuracy: 0.7253 - val_loss: 0.7467 - val_accuracy: 0.7083\n",
      "Epoch 5/50\n",
      "1783/2849 [=================>............] - ETA: 1:19 - loss: 0.8175 - accuracy: 0.7386"
     ]
    },
    {
     "ename": "UnknownError",
     "evalue": "Graph execution error:\n\n2 root error(s) found.\n  (0) UNKNOWN:  OSError: [Errno 28] No space left on device: '/kaggle/working/_30684_5908004.png'\nmultiprocessing.pool.RemoteTraceback: \n\"\"\"\nTraceback (most recent call last):\n  File \"/opt/conda/lib/python3.10/multiprocessing/pool.py\", line 125, in worker\n    result = (True, func(*args, **kwds))\n  File \"/opt/conda/lib/python3.10/site-packages/keras/utils/data_utils.py\", line 647, in get_index\n    return _SHARED_SEQUENCES[uid][i]\n  File \"/opt/conda/lib/python3.10/site-packages/keras/preprocessing/image.py\", line 116, in __getitem__\n    return self._get_batches_of_transformed_samples(index_array)\n  File \"/opt/conda/lib/python3.10/site-packages/keras/preprocessing/image.py\", line 399, in _get_batches_of_transformed_samples\n    img.save(os.path.join(self.save_to_dir, fname))\n  File \"/opt/conda/lib/python3.10/site-packages/PIL/Image.py\", line 2429, in save\n    fp = builtins.open(filename, \"w+b\")\nOSError: [Errno 28] No space left on device: '/kaggle/working/_30684_5908004.png'\n\"\"\"\n\n\nThe above exception was the direct cause of the following exception:\n\n\nTraceback (most recent call last):\n\n  File \"/opt/conda/lib/python3.10/site-packages/tensorflow/python/ops/script_ops.py\", line 267, in __call__\n    ret = func(*args)\n\n  File \"/opt/conda/lib/python3.10/site-packages/tensorflow/python/autograph/impl/api.py\", line 642, in wrapper\n    return func(*args, **kwargs)\n\n  File \"/opt/conda/lib/python3.10/site-packages/tensorflow/python/data/ops/from_generator_op.py\", line 198, in generator_py_func\n    values = next(generator_state.get_iterator(iterator_id))\n\n  File \"/opt/conda/lib/python3.10/site-packages/keras/engine/data_adapter.py\", line 902, in wrapped_generator\n    for data in generator_fn():\n\n  File \"/opt/conda/lib/python3.10/site-packages/keras/utils/data_utils.py\", line 870, in get\n    raise e\n\n  File \"/opt/conda/lib/python3.10/site-packages/keras/utils/data_utils.py\", line 861, in get\n    inputs = self.queue.get(block=True, timeout=5).get()\n\n  File \"/opt/conda/lib/python3.10/multiprocessing/pool.py\", line 774, in get\n    raise self._value\n\n  File \"/opt/conda/lib/python3.10/multiprocessing/pool.py\", line 125, in worker\n    result = (True, func(*args, **kwds))\n\n  File \"/opt/conda/lib/python3.10/site-packages/keras/utils/data_utils.py\", line 647, in get_index\n    return _SHARED_SEQUENCES[uid][i]\n\n  File \"/opt/conda/lib/python3.10/site-packages/keras/preprocessing/image.py\", line 116, in __getitem__\n    return self._get_batches_of_transformed_samples(index_array)\n\n  File \"/opt/conda/lib/python3.10/site-packages/keras/preprocessing/image.py\", line 399, in _get_batches_of_transformed_samples\n    img.save(os.path.join(self.save_to_dir, fname))\n\n  File \"/opt/conda/lib/python3.10/site-packages/PIL/Image.py\", line 2429, in save\n    fp = builtins.open(filename, \"w+b\")\n\nOSError: [Errno 28] No space left on device: '/kaggle/working/_30684_5908004.png'\n\n\n\t [[{{node PyFunc}}]]\n\t [[IteratorGetNext]]\n\t [[IteratorGetNext/_2]]\n  (1) UNKNOWN:  OSError: [Errno 28] No space left on device: '/kaggle/working/_30684_5908004.png'\nmultiprocessing.pool.RemoteTraceback: \n\"\"\"\nTraceback (most recent call last):\n  File \"/opt/conda/lib/python3.10/multiprocessing/pool.py\", line 125, in worker\n    result = (True, func(*args, **kwds))\n  File \"/opt/conda/lib/python3.10/site-packages/keras/utils/data_utils.py\", line 647, in get_index\n    return _SHARED_SEQUENCES[uid][i]\n  File \"/opt/conda/lib/python3.10/site-packages/keras/preprocessing/image.py\", line 116, in __getitem__\n    return self._get_batches_of_transformed_samples(index_array)\n  File \"/opt/conda/lib/python3.10/site-packages/keras/preprocessing/image.py\", line 399, in _get_batches_of_transformed_samples\n    img.save(os.path.join(self.save_to_dir, fname))\n  File \"/opt/conda/lib/python3.10/site-packages/PIL/Image.py\", line 2429, in save\n    fp = builtins.open(filename, \"w+b\")\nOSError: [Errno 28] No space left on device: '/kaggle/working/_30684_5908004.png'\n\"\"\"\n\n\nThe above exception was the direct cause of the following exception:\n\n\nTraceback (most recent call last):\n\n  File \"/opt/conda/lib/python3.10/site-packages/tensorflow/python/ops/script_ops.py\", line 267, in __call__\n    ret = func(*args)\n\n  File \"/opt/conda/lib/python3.10/site-packages/tensorflow/python/autograph/impl/api.py\", line 642, in wrapper\n    return func(*args, **kwargs)\n\n  File \"/opt/conda/lib/python3.10/site-packages/tensorflow/python/data/ops/from_generator_op.py\", line 198, in generator_py_func\n    values = next(generator_state.get_iterator(iterator_id))\n\n  File \"/opt/conda/lib/python3.10/site-packages/keras/engine/data_adapter.py\", line 902, in wrapped_generator\n    for data in generator_fn():\n\n  File \"/opt/conda/lib/python3.10/site-packages/keras/utils/data_utils.py\", line 870, in get\n    raise e\n\n  File \"/opt/conda/lib/python3.10/site-packages/keras/utils/data_utils.py\", line 861, in get\n    inputs = self.queue.get(block=True, timeout=5).get()\n\n  File \"/opt/conda/lib/python3.10/multiprocessing/pool.py\", line 774, in get\n    raise self._value\n\n  File \"/opt/conda/lib/python3.10/multiprocessing/pool.py\", line 125, in worker\n    result = (True, func(*args, **kwds))\n\n  File \"/opt/conda/lib/python3.10/site-packages/keras/utils/data_utils.py\", line 647, in get_index\n    return _SHARED_SEQUENCES[uid][i]\n\n  File \"/opt/conda/lib/python3.10/site-packages/keras/preprocessing/image.py\", line 116, in __getitem__\n    return self._get_batches_of_transformed_samples(index_array)\n\n  File \"/opt/conda/lib/python3.10/site-packages/keras/preprocessing/image.py\", line 399, in _get_batches_of_transformed_samples\n    img.save(os.path.join(self.save_to_dir, fname))\n\n  File \"/opt/conda/lib/python3.10/site-packages/PIL/Image.py\", line 2429, in save\n    fp = builtins.open(filename, \"w+b\")\n\nOSError: [Errno 28] No space left on device: '/kaggle/working/_30684_5908004.png'\n\n\n\t [[{{node PyFunc}}]]\n\t [[IteratorGetNext]]\n0 successful operations.\n0 derived errors ignored. [Op:__inference_train_function_1414]",
     "output_type": "error",
     "traceback": [
      "\u001b[0;31m---------------------------------------------------------------------------\u001b[0m",
      "\u001b[0;31mUnknownError\u001b[0m                              Traceback (most recent call last)",
      "Cell \u001b[0;32mIn[33], line 1\u001b[0m\n\u001b[0;32m----> 1\u001b[0m \u001b[43mmodel\u001b[49m\u001b[38;5;241;43m.\u001b[39;49m\u001b[43mfit\u001b[49m\u001b[43m(\u001b[49m\n\u001b[1;32m      2\u001b[0m \u001b[43m    \u001b[49m\u001b[43mx\u001b[49m\u001b[38;5;241;43m=\u001b[39;49m\u001b[43mtrain_generator\u001b[49m\u001b[43m,\u001b[49m\n\u001b[1;32m      3\u001b[0m \u001b[43m    \u001b[49m\u001b[43my\u001b[49m\u001b[38;5;241;43m=\u001b[39;49m\u001b[38;5;28;43;01mNone\u001b[39;49;00m\u001b[43m,\u001b[49m\n\u001b[1;32m      4\u001b[0m \u001b[43m    \u001b[49m\u001b[43mvalidation_data\u001b[49m\u001b[38;5;241;43m=\u001b[39;49m\u001b[43mval_generator\u001b[49m\u001b[43m,\u001b[49m\n\u001b[1;32m      5\u001b[0m \u001b[43m    \u001b[49m\u001b[43mepochs\u001b[49m\u001b[38;5;241;43m=\u001b[39;49m\u001b[38;5;241;43m50\u001b[39;49m\u001b[43m,\u001b[49m\n\u001b[1;32m      6\u001b[0m \u001b[43m    \u001b[49m\u001b[43mverbose\u001b[49m\u001b[38;5;241;43m=\u001b[39;49m\u001b[38;5;124;43m\"\u001b[39;49m\u001b[38;5;124;43mauto\u001b[39;49m\u001b[38;5;124;43m\"\u001b[39;49m\u001b[43m,\u001b[49m\n\u001b[1;32m      7\u001b[0m \u001b[43m    \u001b[49m\u001b[43mcallbacks\u001b[49m\u001b[38;5;241;43m=\u001b[39;49m\u001b[38;5;28;43;01mNone\u001b[39;49;00m\u001b[43m,\u001b[49m\n\u001b[1;32m      8\u001b[0m \u001b[43m    \u001b[49m\u001b[43mvalidation_split\u001b[49m\u001b[38;5;241;43m=\u001b[39;49m\u001b[38;5;241;43m0.0\u001b[39;49m\u001b[43m,\u001b[49m\n\u001b[1;32m      9\u001b[0m \u001b[43m    \u001b[49m\u001b[43mshuffle\u001b[49m\u001b[38;5;241;43m=\u001b[39;49m\u001b[38;5;28;43;01mTrue\u001b[39;49;00m\u001b[43m,\u001b[49m\n\u001b[1;32m     10\u001b[0m \u001b[43m    \u001b[49m\u001b[43mclass_weight\u001b[49m\u001b[38;5;241;43m=\u001b[39;49m\u001b[38;5;28;43;01mNone\u001b[39;49;00m\u001b[43m,\u001b[49m\n\u001b[1;32m     11\u001b[0m \u001b[43m    \u001b[49m\u001b[43msample_weight\u001b[49m\u001b[38;5;241;43m=\u001b[39;49m\u001b[38;5;28;43;01mNone\u001b[39;49;00m\u001b[43m,\u001b[49m\n\u001b[1;32m     12\u001b[0m \u001b[43m    \u001b[49m\u001b[43minitial_epoch\u001b[49m\u001b[38;5;241;43m=\u001b[39;49m\u001b[38;5;241;43m0\u001b[39;49m\u001b[43m,\u001b[49m\n\u001b[1;32m     13\u001b[0m \u001b[43m    \u001b[49m\u001b[43msteps_per_epoch\u001b[49m\u001b[38;5;241;43m=\u001b[39;49m\u001b[38;5;28;43;01mNone\u001b[39;49;00m\u001b[43m,\u001b[49m\n\u001b[1;32m     14\u001b[0m \u001b[43m    \u001b[49m\u001b[43mvalidation_steps\u001b[49m\u001b[38;5;241;43m=\u001b[39;49m\u001b[38;5;241;43m3\u001b[39;49m\u001b[43m,\u001b[49m\n\u001b[1;32m     15\u001b[0m \u001b[43m    \u001b[49m\u001b[43mvalidation_batch_size\u001b[49m\u001b[38;5;241;43m=\u001b[39;49m\u001b[43mbatch_size\u001b[49m\u001b[43m,\u001b[49m\n\u001b[1;32m     16\u001b[0m \u001b[43m    \u001b[49m\u001b[43mvalidation_freq\u001b[49m\u001b[38;5;241;43m=\u001b[39;49m\u001b[38;5;241;43m4\u001b[39;49m\u001b[43m,\u001b[49m\n\u001b[1;32m     17\u001b[0m \u001b[43m    \u001b[49m\u001b[43mmax_queue_size\u001b[49m\u001b[38;5;241;43m=\u001b[39;49m\u001b[38;5;241;43m10\u001b[39;49m\u001b[43m,\u001b[49m\n\u001b[1;32m     18\u001b[0m \u001b[43m    \u001b[49m\u001b[43muse_multiprocessing\u001b[49m\u001b[38;5;241;43m=\u001b[39;49m\u001b[38;5;28;43;01mTrue\u001b[39;49;00m\u001b[43m,\u001b[49m\n\u001b[1;32m     19\u001b[0m \u001b[43m    \u001b[49m\u001b[43mworkers\u001b[49m\u001b[38;5;241;43m=\u001b[39;49m\u001b[38;5;241;43m6\u001b[39;49m\u001b[43m)\u001b[49m\n",
      "File \u001b[0;32m/opt/conda/lib/python3.10/site-packages/keras/utils/traceback_utils.py:70\u001b[0m, in \u001b[0;36mfilter_traceback.<locals>.error_handler\u001b[0;34m(*args, **kwargs)\u001b[0m\n\u001b[1;32m     67\u001b[0m     filtered_tb \u001b[38;5;241m=\u001b[39m _process_traceback_frames(e\u001b[38;5;241m.\u001b[39m__traceback__)\n\u001b[1;32m     68\u001b[0m     \u001b[38;5;66;03m# To get the full stack trace, call:\u001b[39;00m\n\u001b[1;32m     69\u001b[0m     \u001b[38;5;66;03m# `tf.debugging.disable_traceback_filtering()`\u001b[39;00m\n\u001b[0;32m---> 70\u001b[0m     \u001b[38;5;28;01mraise\u001b[39;00m e\u001b[38;5;241m.\u001b[39mwith_traceback(filtered_tb) \u001b[38;5;28;01mfrom\u001b[39;00m \u001b[38;5;28;01mNone\u001b[39;00m\n\u001b[1;32m     71\u001b[0m \u001b[38;5;28;01mfinally\u001b[39;00m:\n\u001b[1;32m     72\u001b[0m     \u001b[38;5;28;01mdel\u001b[39;00m filtered_tb\n",
      "File \u001b[0;32m/opt/conda/lib/python3.10/site-packages/tensorflow/python/eager/execute.py:52\u001b[0m, in \u001b[0;36mquick_execute\u001b[0;34m(op_name, num_outputs, inputs, attrs, ctx, name)\u001b[0m\n\u001b[1;32m     50\u001b[0m \u001b[38;5;28;01mtry\u001b[39;00m:\n\u001b[1;32m     51\u001b[0m   ctx\u001b[38;5;241m.\u001b[39mensure_initialized()\n\u001b[0;32m---> 52\u001b[0m   tensors \u001b[38;5;241m=\u001b[39m pywrap_tfe\u001b[38;5;241m.\u001b[39mTFE_Py_Execute(ctx\u001b[38;5;241m.\u001b[39m_handle, device_name, op_name,\n\u001b[1;32m     53\u001b[0m                                       inputs, attrs, num_outputs)\n\u001b[1;32m     54\u001b[0m \u001b[38;5;28;01mexcept\u001b[39;00m core\u001b[38;5;241m.\u001b[39m_NotOkStatusException \u001b[38;5;28;01mas\u001b[39;00m e:\n\u001b[1;32m     55\u001b[0m   \u001b[38;5;28;01mif\u001b[39;00m name \u001b[38;5;129;01mis\u001b[39;00m \u001b[38;5;129;01mnot\u001b[39;00m \u001b[38;5;28;01mNone\u001b[39;00m:\n",
      "\u001b[0;31mUnknownError\u001b[0m: Graph execution error:\n\n2 root error(s) found.\n  (0) UNKNOWN:  OSError: [Errno 28] No space left on device: '/kaggle/working/_30684_5908004.png'\nmultiprocessing.pool.RemoteTraceback: \n\"\"\"\nTraceback (most recent call last):\n  File \"/opt/conda/lib/python3.10/multiprocessing/pool.py\", line 125, in worker\n    result = (True, func(*args, **kwds))\n  File \"/opt/conda/lib/python3.10/site-packages/keras/utils/data_utils.py\", line 647, in get_index\n    return _SHARED_SEQUENCES[uid][i]\n  File \"/opt/conda/lib/python3.10/site-packages/keras/preprocessing/image.py\", line 116, in __getitem__\n    return self._get_batches_of_transformed_samples(index_array)\n  File \"/opt/conda/lib/python3.10/site-packages/keras/preprocessing/image.py\", line 399, in _get_batches_of_transformed_samples\n    img.save(os.path.join(self.save_to_dir, fname))\n  File \"/opt/conda/lib/python3.10/site-packages/PIL/Image.py\", line 2429, in save\n    fp = builtins.open(filename, \"w+b\")\nOSError: [Errno 28] No space left on device: '/kaggle/working/_30684_5908004.png'\n\"\"\"\n\n\nThe above exception was the direct cause of the following exception:\n\n\nTraceback (most recent call last):\n\n  File \"/opt/conda/lib/python3.10/site-packages/tensorflow/python/ops/script_ops.py\", line 267, in __call__\n    ret = func(*args)\n\n  File \"/opt/conda/lib/python3.10/site-packages/tensorflow/python/autograph/impl/api.py\", line 642, in wrapper\n    return func(*args, **kwargs)\n\n  File \"/opt/conda/lib/python3.10/site-packages/tensorflow/python/data/ops/from_generator_op.py\", line 198, in generator_py_func\n    values = next(generator_state.get_iterator(iterator_id))\n\n  File \"/opt/conda/lib/python3.10/site-packages/keras/engine/data_adapter.py\", line 902, in wrapped_generator\n    for data in generator_fn():\n\n  File \"/opt/conda/lib/python3.10/site-packages/keras/utils/data_utils.py\", line 870, in get\n    raise e\n\n  File \"/opt/conda/lib/python3.10/site-packages/keras/utils/data_utils.py\", line 861, in get\n    inputs = self.queue.get(block=True, timeout=5).get()\n\n  File \"/opt/conda/lib/python3.10/multiprocessing/pool.py\", line 774, in get\n    raise self._value\n\n  File \"/opt/conda/lib/python3.10/multiprocessing/pool.py\", line 125, in worker\n    result = (True, func(*args, **kwds))\n\n  File \"/opt/conda/lib/python3.10/site-packages/keras/utils/data_utils.py\", line 647, in get_index\n    return _SHARED_SEQUENCES[uid][i]\n\n  File \"/opt/conda/lib/python3.10/site-packages/keras/preprocessing/image.py\", line 116, in __getitem__\n    return self._get_batches_of_transformed_samples(index_array)\n\n  File \"/opt/conda/lib/python3.10/site-packages/keras/preprocessing/image.py\", line 399, in _get_batches_of_transformed_samples\n    img.save(os.path.join(self.save_to_dir, fname))\n\n  File \"/opt/conda/lib/python3.10/site-packages/PIL/Image.py\", line 2429, in save\n    fp = builtins.open(filename, \"w+b\")\n\nOSError: [Errno 28] No space left on device: '/kaggle/working/_30684_5908004.png'\n\n\n\t [[{{node PyFunc}}]]\n\t [[IteratorGetNext]]\n\t [[IteratorGetNext/_2]]\n  (1) UNKNOWN:  OSError: [Errno 28] No space left on device: '/kaggle/working/_30684_5908004.png'\nmultiprocessing.pool.RemoteTraceback: \n\"\"\"\nTraceback (most recent call last):\n  File \"/opt/conda/lib/python3.10/multiprocessing/pool.py\", line 125, in worker\n    result = (True, func(*args, **kwds))\n  File \"/opt/conda/lib/python3.10/site-packages/keras/utils/data_utils.py\", line 647, in get_index\n    return _SHARED_SEQUENCES[uid][i]\n  File \"/opt/conda/lib/python3.10/site-packages/keras/preprocessing/image.py\", line 116, in __getitem__\n    return self._get_batches_of_transformed_samples(index_array)\n  File \"/opt/conda/lib/python3.10/site-packages/keras/preprocessing/image.py\", line 399, in _get_batches_of_transformed_samples\n    img.save(os.path.join(self.save_to_dir, fname))\n  File \"/opt/conda/lib/python3.10/site-packages/PIL/Image.py\", line 2429, in save\n    fp = builtins.open(filename, \"w+b\")\nOSError: [Errno 28] No space left on device: '/kaggle/working/_30684_5908004.png'\n\"\"\"\n\n\nThe above exception was the direct cause of the following exception:\n\n\nTraceback (most recent call last):\n\n  File \"/opt/conda/lib/python3.10/site-packages/tensorflow/python/ops/script_ops.py\", line 267, in __call__\n    ret = func(*args)\n\n  File \"/opt/conda/lib/python3.10/site-packages/tensorflow/python/autograph/impl/api.py\", line 642, in wrapper\n    return func(*args, **kwargs)\n\n  File \"/opt/conda/lib/python3.10/site-packages/tensorflow/python/data/ops/from_generator_op.py\", line 198, in generator_py_func\n    values = next(generator_state.get_iterator(iterator_id))\n\n  File \"/opt/conda/lib/python3.10/site-packages/keras/engine/data_adapter.py\", line 902, in wrapped_generator\n    for data in generator_fn():\n\n  File \"/opt/conda/lib/python3.10/site-packages/keras/utils/data_utils.py\", line 870, in get\n    raise e\n\n  File \"/opt/conda/lib/python3.10/site-packages/keras/utils/data_utils.py\", line 861, in get\n    inputs = self.queue.get(block=True, timeout=5).get()\n\n  File \"/opt/conda/lib/python3.10/multiprocessing/pool.py\", line 774, in get\n    raise self._value\n\n  File \"/opt/conda/lib/python3.10/multiprocessing/pool.py\", line 125, in worker\n    result = (True, func(*args, **kwds))\n\n  File \"/opt/conda/lib/python3.10/site-packages/keras/utils/data_utils.py\", line 647, in get_index\n    return _SHARED_SEQUENCES[uid][i]\n\n  File \"/opt/conda/lib/python3.10/site-packages/keras/preprocessing/image.py\", line 116, in __getitem__\n    return self._get_batches_of_transformed_samples(index_array)\n\n  File \"/opt/conda/lib/python3.10/site-packages/keras/preprocessing/image.py\", line 399, in _get_batches_of_transformed_samples\n    img.save(os.path.join(self.save_to_dir, fname))\n\n  File \"/opt/conda/lib/python3.10/site-packages/PIL/Image.py\", line 2429, in save\n    fp = builtins.open(filename, \"w+b\")\n\nOSError: [Errno 28] No space left on device: '/kaggle/working/_30684_5908004.png'\n\n\n\t [[{{node PyFunc}}]]\n\t [[IteratorGetNext]]\n0 successful operations.\n0 derived errors ignored. [Op:__inference_train_function_1414]"
     ]
    }
   ],
   "source": [
    "model.fit(\n",
    "    x=train_generator,\n",
    "    y=None,\n",
    "    validation_data=val_generator,\n",
    "    epochs=50,\n",
    "    verbose=\"auto\",\n",
    "    callbacks=None,\n",
    "    validation_split=0.0,\n",
    "    shuffle=True,\n",
    "    class_weight=None,\n",
    "    sample_weight=None,\n",
    "    initial_epoch=0,\n",
    "    steps_per_epoch=None,\n",
    "    validation_steps=3,\n",
    "    validation_batch_size=batch_size,\n",
    "    validation_freq=4,\n",
    "    max_queue_size=10,\n",
    "    use_multiprocessing=True,\n",
    "    workers=6)\n",
    "\n"
   ]
  },
  {
   "cell_type": "code",
   "execution_count": null,
   "id": "52fc87cc",
   "metadata": {
    "id": "U-LAv-f8PlLj"
   },
   "outputs": [],
   "source": []
  },
  {
   "cell_type": "code",
   "execution_count": null,
   "id": "8eff2885",
   "metadata": {
    "id": "lplIeWKAPlJQ"
   },
   "outputs": [],
   "source": []
  },
  {
   "cell_type": "code",
   "execution_count": 36,
   "id": "661231ee",
   "metadata": {
    "colab": {
     "base_uri": "https://localhost:8080/"
    },
    "execution": {
     "iopub.execute_input": "2023-08-21T22:47:36.580626Z",
     "iopub.status.busy": "2023-08-21T22:47:36.580253Z",
     "iopub.status.idle": "2023-08-21T22:48:47.513414Z",
     "shell.execute_reply": "2023-08-21T22:48:47.512407Z",
     "shell.execute_reply.started": "2023-08-21T22:47:36.580595Z"
    },
    "executionInfo": {
     "elapsed": 989,
     "status": "ok",
     "timestamp": 1692627052803,
     "user": {
      "displayName": "Kelly Butler",
      "userId": "08515498257456133265"
     },
     "user_tz": 240
    },
    "id": "FJPDKio3Xxzb",
    "outputId": "dfd49772-9604-4fd3-ce99-b57fc526aeae"
   },
   "outputs": [
    {
     "name": "stdout",
     "output_type": "stream",
     "text": [
      "Found 91166 validated image filenames.\n"
     ]
    }
   ],
   "source": [
    "# Creating generator for 64 x 64 sized images\n",
    "columns = ['class_label_blouse', 'class_label_dhoti_pants',\n",
    "       'class_label_dupattas', 'class_label_gowns', 'class_label_kurta_men',\n",
    "       'class_label_leggings_and_salwars', 'class_label_lehenga',\n",
    "       'class_label_mojaris_men', 'class_label_mojaris_women',\n",
    "       'class_label_nehru_jackets', 'class_label_palazzos',\n",
    "       'class_label_petticoats', 'class_label_saree', 'class_label_sherwanis',\n",
    "       'class_label_women_kurta']\n",
    "train_datagen=ImageDataGenerator(rescale=1./255)\n",
    "train_generator = train_datagen.flow_from_dataframe(dataframe=df_train, directory='/kaggle/input/indo-fashion-dataset', x_col='image_path', y_col=columns, target_size=(64,64), batch_size=32, seed=26, save_to_dir='/kaggle/working', class_mode='raw')"
   ]
  },
  {
   "cell_type": "code",
   "execution_count": 37,
   "id": "965b52cf",
   "metadata": {
    "colab": {
     "base_uri": "https://localhost:8080/"
    },
    "execution": {
     "iopub.execute_input": "2023-08-21T22:48:47.515517Z",
     "iopub.status.busy": "2023-08-21T22:48:47.515170Z",
     "iopub.status.idle": "2023-08-21T22:49:03.776791Z",
     "shell.execute_reply": "2023-08-21T22:49:03.775846Z",
     "shell.execute_reply.started": "2023-08-21T22:48:47.515484Z"
    },
    "executionInfo": {
     "elapsed": 418,
     "status": "ok",
     "timestamp": 1692627166048,
     "user": {
      "displayName": "Kelly Butler",
      "userId": "08515498257456133265"
     },
     "user_tz": 240
    },
    "id": "iMCAsrzPb67i",
    "outputId": "863fbf8f-08c1-4360-d2cb-2fd044f1ac9f"
   },
   "outputs": [
    {
     "name": "stdout",
     "output_type": "stream",
     "text": [
      "Found 7500 validated image filenames.\n"
     ]
    }
   ],
   "source": [
    "val_datagen=ImageDataGenerator(rescale=1./255)\n",
    "val_generator = val_datagen.flow_from_dataframe(dataframe=df_val, directory='/kaggle/input/indo-fashion-dataset', x_col='image_path', y_col=columns, target_size=(64,64), batch_size=32, seed=26, save_to_dir='/kaggle/working', class_mode='raw')"
   ]
  },
  {
   "cell_type": "code",
   "execution_count": null,
   "id": "0be73ba7",
   "metadata": {
    "id": "4bI6aiKIPlGR"
   },
   "outputs": [],
   "source": []
  },
  {
   "cell_type": "code",
   "execution_count": 38,
   "id": "4d338f2a",
   "metadata": {
    "execution": {
     "iopub.execute_input": "2023-08-21T22:49:08.624878Z",
     "iopub.status.busy": "2023-08-21T22:49:08.624514Z",
     "iopub.status.idle": "2023-08-21T22:49:13.223156Z",
     "shell.execute_reply": "2023-08-21T22:49:13.222094Z",
     "shell.execute_reply.started": "2023-08-21T22:49:08.624848Z"
    },
    "executionInfo": {
     "elapsed": 573,
     "status": "ok",
     "timestamp": 1692629951064,
     "user": {
      "displayName": "Kelly Butler",
      "userId": "08515498257456133265"
     },
     "user_tz": 240
    },
    "id": "PsGLmgnLUSNX"
   },
   "outputs": [],
   "source": [
    "# Setting up model\n",
    "img_width, img_height = 64, 64\n",
    "\n",
    "train_data = train_generator\n",
    "val_data = val_generator\n",
    "nb_train_samples = 91166\n",
    "nb_validation_samples = 7500\n",
    "epochs = 50\n",
    "batch_size = 16\n",
    "\n",
    "\n",
    "\n",
    "input_shape = (img_width, img_height, 3)\n",
    "\n",
    "\n",
    "\n",
    "model = Sequential()\n",
    "model.add(Conv2D(32, (3, 3), input_shape=input_shape))\n",
    "model.add(Activation('relu'))\n",
    "model.add(MaxPooling2D(pool_size=(2, 2)))\n",
    "\n",
    "model.add(Conv2D(32, (3, 3)))\n",
    "model.add(Activation('relu'))\n",
    "model.add(MaxPooling2D(pool_size=(2, 2)))\n",
    "\n",
    "model.add(Conv2D(64, (3, 3)))\n",
    "model.add(Activation('relu'))\n",
    "model.add(MaxPooling2D(pool_size=(2, 2)))\n",
    "\n",
    "model.add(Flatten())\n",
    "\n",
    "model.add(Dense(64))\n",
    "model.add(Activation('relu'))\n",
    "model.add(Dropout(0.3))\n",
    "model.add(Dense(15))\n",
    "model.add(Activation('sigmoid'))\n",
    "\n",
    "model.compile(loss='categorical_crossentropy', optimizer='adam', metrics=['accuracy'])\n"
   ]
  },
  {
   "cell_type": "code",
   "execution_count": 39,
   "id": "32127d66",
   "metadata": {
    "colab": {
     "base_uri": "https://localhost:8080/",
     "height": 1000
    },
    "execution": {
     "iopub.execute_input": "2023-08-21T22:49:23.501158Z",
     "iopub.status.busy": "2023-08-21T22:49:23.500789Z",
     "iopub.status.idle": "2023-08-21T23:23:26.841363Z",
     "shell.execute_reply": "2023-08-21T23:23:26.836630Z",
     "shell.execute_reply.started": "2023-08-21T22:49:23.501127Z"
    },
    "executionInfo": {
     "elapsed": 35249,
     "status": "error",
     "timestamp": 1692629988242,
     "user": {
      "displayName": "Kelly Butler",
      "userId": "08515498257456133265"
     },
     "user_tz": 240
    },
    "id": "BaB7j4UvPlQ0",
    "outputId": "9a420f8b-0a34-4361-b44d-6df1e34fb08a"
   },
   "outputs": [
    {
     "name": "stdout",
     "output_type": "stream",
     "text": [
      "Epoch 1/10\n",
      "2849/2849 [==============================] - 221s 73ms/step - loss: 1.2183 - accuracy: 0.6116\n",
      "Epoch 2/10\n",
      "2849/2849 [==============================] - 191s 67ms/step - loss: 0.8781 - accuracy: 0.7171\n",
      "Epoch 3/10\n",
      "2849/2849 [==============================] - 195s 68ms/step - loss: 0.7809 - accuracy: 0.7487\n",
      "Epoch 4/10\n",
      "2849/2849 [==============================] - 198s 69ms/step - loss: 0.7188 - accuracy: 0.7681 - val_loss: 0.5665 - val_accuracy: 0.8021\n",
      "Epoch 5/10\n",
      "2849/2849 [==============================] - 198s 69ms/step - loss: 0.6755 - accuracy: 0.7809\n",
      "Epoch 6/10\n",
      "2849/2849 [==============================] - 200s 70ms/step - loss: 0.6419 - accuracy: 0.7899\n",
      "Epoch 7/10\n",
      "2849/2849 [==============================] - 198s 69ms/step - loss: 0.6160 - accuracy: 0.7993\n",
      "Epoch 8/10\n",
      "2849/2849 [==============================] - 200s 70ms/step - loss: 0.5875 - accuracy: 0.8066 - val_loss: 0.5409 - val_accuracy: 0.8646\n",
      "Epoch 9/10\n",
      "2849/2849 [==============================] - 196s 69ms/step - loss: 0.5702 - accuracy: 0.8119\n",
      "Epoch 10/10\n",
      "2849/2849 [==============================] - 198s 69ms/step - loss: 0.5505 - accuracy: 0.8174\n"
     ]
    },
    {
     "data": {
      "text/plain": [
       "<keras.callbacks.History at 0x7d9ecb4ba380>"
      ]
     },
     "execution_count": 39,
     "metadata": {},
     "output_type": "execute_result"
    }
   ],
   "source": [
    "model.fit(\n",
    "    x=train_generator,\n",
    "    y=None,\n",
    "    validation_data=val_generator,\n",
    "    epochs=10,\n",
    "    verbose=\"auto\",\n",
    "    callbacks=None,\n",
    "    validation_split=0.0,\n",
    "    shuffle=True,\n",
    "    class_weight=None,\n",
    "    sample_weight=None,\n",
    "    initial_epoch=0,\n",
    "    steps_per_epoch=None,\n",
    "    validation_steps=3,\n",
    "    validation_batch_size=batch_size,\n",
    "    validation_freq=4,\n",
    "    max_queue_size=10,\n",
    "    use_multiprocessing=True,\n",
    "    workers=6)\n",
    "\n"
   ]
  },
  {
   "cell_type": "code",
   "execution_count": 44,
   "id": "80ce22dc",
   "metadata": {
    "execution": {
     "iopub.execute_input": "2023-08-21T23:40:33.348040Z",
     "iopub.status.busy": "2023-08-21T23:40:33.347504Z",
     "iopub.status.idle": "2023-08-21T23:40:33.366815Z",
     "shell.execute_reply": "2023-08-21T23:40:33.365591Z",
     "shell.execute_reply.started": "2023-08-21T23:40:33.347996Z"
    },
    "id": "L3SN0hQ-PlDf"
   },
   "outputs": [],
   "source": [
    "inputs = model.input\n",
    "outputs = [model.layers[i].output for i in range(2,len(model.layers))]\n",
    "mod = Model(inputs, outputs)"
   ]
  },
  {
   "cell_type": "code",
   "execution_count": 2,
   "id": "daceab15",
   "metadata": {
    "execution": {
     "iopub.execute_input": "2023-08-22T00:46:39.566446Z",
     "iopub.status.busy": "2023-08-22T00:46:39.566165Z",
     "iopub.status.idle": "2023-08-22T00:46:39.571507Z",
     "shell.execute_reply": "2023-08-22T00:46:39.570509Z",
     "shell.execute_reply.started": "2023-08-22T00:46:39.566422Z"
    }
   },
   "outputs": [],
   "source": [
    "#image = imageio.imread('/kaggle/input/indo-fashion-dataset/images/train/60000.jpeg')"
   ]
  },
  {
   "cell_type": "code",
   "execution_count": 3,
   "id": "12fcf8ce",
   "metadata": {
    "execution": {
     "iopub.execute_input": "2023-08-22T00:46:39.579307Z",
     "iopub.status.busy": "2023-08-22T00:46:39.579039Z",
     "iopub.status.idle": "2023-08-22T00:46:39.583731Z",
     "shell.execute_reply": "2023-08-22T00:46:39.582666Z",
     "shell.execute_reply.started": "2023-08-22T00:46:39.579283Z"
    },
    "id": "iN_Fy5aDPk7w"
   },
   "outputs": [],
   "source": [
    "#all_layers_predictions = mod.predict(image)"
   ]
  },
  {
   "cell_type": "code",
   "execution_count": null,
   "id": "a65db50d",
   "metadata": {
    "id": "_UXxsmH7PkvI"
   },
   "outputs": [],
   "source": [
    "image1_channel8_fromlayer10 = all_layers_predictions[10][1,:,:,8]"
   ]
  }
 ],
 "metadata": {
  "colab": {
   "provenance": []
  },
  "kernelspec": {
   "display_name": "Python 3 (ipykernel)",
   "language": "python",
   "name": "python3"
  },
  "language_info": {
   "codemirror_mode": {
    "name": "ipython",
    "version": 3
   },
   "file_extension": ".py",
   "mimetype": "text/x-python",
   "name": "python",
   "nbconvert_exporter": "python",
   "pygments_lexer": "ipython3",
   "version": "3.11.4"
  }
 },
 "nbformat": 4,
 "nbformat_minor": 5
}
