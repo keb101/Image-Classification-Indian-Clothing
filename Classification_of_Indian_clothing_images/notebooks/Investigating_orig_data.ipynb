{
 "cells": [
  {
   "cell_type": "code",
   "execution_count": 90,
   "id": "da898559",
   "metadata": {},
   "outputs": [],
   "source": [
    "import pandas as pd\n",
    "import numpy as np\n",
    "import seaborn as sns\n",
    "import matplotlib.pyplot as plt"
   ]
  },
  {
   "cell_type": "code",
   "execution_count": 91,
   "id": "7fb55ebb",
   "metadata": {},
   "outputs": [],
   "source": [
    "df_test = pd.read_json('/Users/butler/Documents/hp/Classification_of_Indian_clothing_images/data/raw/indian_clothing/test_data.json', lines=True)"
   ]
  },
  {
   "cell_type": "code",
   "execution_count": 92,
   "id": "e011cdb4",
   "metadata": {
    "scrolled": true
   },
   "outputs": [
    {
     "data": {
      "text/html": [
       "<div>\n",
       "<style scoped>\n",
       "    .dataframe tbody tr th:only-of-type {\n",
       "        vertical-align: middle;\n",
       "    }\n",
       "\n",
       "    .dataframe tbody tr th {\n",
       "        vertical-align: top;\n",
       "    }\n",
       "\n",
       "    .dataframe thead th {\n",
       "        text-align: right;\n",
       "    }\n",
       "</style>\n",
       "<table border=\"1\" class=\"dataframe\">\n",
       "  <thead>\n",
       "    <tr style=\"text-align: right;\">\n",
       "      <th></th>\n",
       "      <th>image_url</th>\n",
       "      <th>image_path</th>\n",
       "      <th>brand</th>\n",
       "      <th>product_title</th>\n",
       "      <th>class_label</th>\n",
       "      <th>color</th>\n",
       "    </tr>\n",
       "  </thead>\n",
       "  <tbody>\n",
       "    <tr>\n",
       "      <th>0</th>\n",
       "      <td>https://m.media-amazon.com/images/I/71NZQ-aaAS...</td>\n",
       "      <td>images/test/0.jpeg</td>\n",
       "      <td>TANTUJA BENGAL HANDLOOM</td>\n",
       "      <td>(A Govt. of West Bengal Enterprises) Handloom ...</td>\n",
       "      <td>saree</td>\n",
       "      <td>NaN</td>\n",
       "    </tr>\n",
       "    <tr>\n",
       "      <th>1</th>\n",
       "      <td>https://m.media-amazon.com/images/I/81aQmbWsG7...</td>\n",
       "      <td>images/test/1.jpeg</td>\n",
       "      <td>Trilok Fab</td>\n",
       "      <td>Women's Silk Saree With Blouse Piece</td>\n",
       "      <td>saree</td>\n",
       "      <td>NaN</td>\n",
       "    </tr>\n",
       "    <tr>\n",
       "      <th>2</th>\n",
       "      <td>https://m.media-amazon.com/images/I/71YjGvzs9y...</td>\n",
       "      <td>images/test/2.jpeg</td>\n",
       "      <td>Nine Sister</td>\n",
       "      <td>Women's Georgette Net Embroidered Saree with B...</td>\n",
       "      <td>saree</td>\n",
       "      <td>NaN</td>\n",
       "    </tr>\n",
       "    <tr>\n",
       "      <th>3</th>\n",
       "      <td>https://m.media-amazon.com/images/I/81JYhYV5Xr...</td>\n",
       "      <td>images/test/3.jpeg</td>\n",
       "      <td>Gauri Laxmi Enterprise</td>\n",
       "      <td>Women's Crepe Saree with Blouse (GLE$CHICKOO C...</td>\n",
       "      <td>saree</td>\n",
       "      <td>NaN</td>\n",
       "    </tr>\n",
       "    <tr>\n",
       "      <th>4</th>\n",
       "      <td>https://m.media-amazon.com/images/I/91fXc5i5Dy...</td>\n",
       "      <td>images/test/4.jpeg</td>\n",
       "      <td>SOURBH</td>\n",
       "      <td>Women's Cotton Blend Digital Butta Printed Sar...</td>\n",
       "      <td>saree</td>\n",
       "      <td>NaN</td>\n",
       "    </tr>\n",
       "  </tbody>\n",
       "</table>\n",
       "</div>"
      ],
      "text/plain": [
       "                                           image_url          image_path  \\\n",
       "0  https://m.media-amazon.com/images/I/71NZQ-aaAS...  images/test/0.jpeg   \n",
       "1  https://m.media-amazon.com/images/I/81aQmbWsG7...  images/test/1.jpeg   \n",
       "2  https://m.media-amazon.com/images/I/71YjGvzs9y...  images/test/2.jpeg   \n",
       "3  https://m.media-amazon.com/images/I/81JYhYV5Xr...  images/test/3.jpeg   \n",
       "4  https://m.media-amazon.com/images/I/91fXc5i5Dy...  images/test/4.jpeg   \n",
       "\n",
       "                     brand                                      product_title  \\\n",
       "0  TANTUJA BENGAL HANDLOOM  (A Govt. of West Bengal Enterprises) Handloom ...   \n",
       "1               Trilok Fab               Women's Silk Saree With Blouse Piece   \n",
       "2              Nine Sister  Women's Georgette Net Embroidered Saree with B...   \n",
       "3   Gauri Laxmi Enterprise  Women's Crepe Saree with Blouse (GLE$CHICKOO C...   \n",
       "4                   SOURBH  Women's Cotton Blend Digital Butta Printed Sar...   \n",
       "\n",
       "  class_label color  \n",
       "0       saree   NaN  \n",
       "1       saree   NaN  \n",
       "2       saree   NaN  \n",
       "3       saree   NaN  \n",
       "4       saree   NaN  "
      ]
     },
     "execution_count": 92,
     "metadata": {},
     "output_type": "execute_result"
    }
   ],
   "source": [
    "df_test.head()"
   ]
  },
  {
   "cell_type": "code",
   "execution_count": 93,
   "id": "9048769d",
   "metadata": {},
   "outputs": [
    {
     "data": {
      "text/plain": [
       "image_url        https://m.media-amazon.com/images/I/81EClLb8jn...\n",
       "image_path                                    images/test/700.jpeg\n",
       "brand                                             STUDIO Shringaar\n",
       "product_title    Pure Cotton Blue Jaipuri Block Printed Women’s...\n",
       "class_label                                                 blouse\n",
       "color                                                          NaN\n",
       "Name: 700, dtype: object"
      ]
     },
     "execution_count": 93,
     "metadata": {},
     "output_type": "execute_result"
    }
   ],
   "source": [
    "df_test.loc[700]"
   ]
  },
  {
   "cell_type": "code",
   "execution_count": 94,
   "id": "b43a8c74",
   "metadata": {},
   "outputs": [
    {
     "data": {
      "text/plain": [
       "image_url        https://m.media-amazon.com/images/I/810UZaeQyt...\n",
       "image_path                                    images/test/600.jpeg\n",
       "brand                                                        Cbros\n",
       "product_title    Chandana Brothers Kakinada Readymade Blouse wi...\n",
       "class_label                                                 blouse\n",
       "color                                                          NaN\n",
       "Name: 600, dtype: object"
      ]
     },
     "execution_count": 94,
     "metadata": {},
     "output_type": "execute_result"
    }
   ],
   "source": [
    "df_test.loc[600]"
   ]
  },
  {
   "cell_type": "code",
   "execution_count": 95,
   "id": "31f1ce82",
   "metadata": {},
   "outputs": [
    {
     "data": {
      "text/plain": [
       "image_url        https://rukminim1.flixcart.com/image/309/371/j...\n",
       "image_path                                   images/test/1000.jpeg\n",
       "brand                                                          N/A\n",
       "product_title                          ARYA Welcro Solid Men Dhoti\n",
       "class_label                                            dhoti_pants\n",
       "color                                                          N/A\n",
       "Name: 1000, dtype: object"
      ]
     },
     "execution_count": 95,
     "metadata": {},
     "output_type": "execute_result"
    }
   ],
   "source": [
    "df_test.loc[1000]"
   ]
  },
  {
   "cell_type": "code",
   "execution_count": 96,
   "id": "9c7a28b7",
   "metadata": {},
   "outputs": [
    {
     "data": {
      "text/plain": [
       "image_url        https://m.media-amazon.com/images/I/71ex9XIz4Y...\n",
       "image_path                                   images/test/2000.jpeg\n",
       "brand                                                   GOTI HOUSE\n",
       "product_title    Women's Designer Semi stitched Heavy Cording S...\n",
       "class_label                                                  gowns\n",
       "color                                                          NaN\n",
       "Name: 2000, dtype: object"
      ]
     },
     "execution_count": 96,
     "metadata": {},
     "output_type": "execute_result"
    }
   ],
   "source": [
    "df_test.loc[2000]"
   ]
  },
  {
   "cell_type": "code",
   "execution_count": 97,
   "id": "b6334d45",
   "metadata": {},
   "outputs": [
    {
     "data": {
      "text/plain": [
       "image_url        https://m.media-amazon.com/images/I/41XQnAp0Ss...\n",
       "image_path                                   images/test/3000.jpeg\n",
       "brand                                                        Devil\n",
       "product_title    Women's Lycra Fit Palazzo (BJIPBLKP, Black, Fr...\n",
       "class_label                                   leggings_and_salwars\n",
       "color                                                          NaN\n",
       "Name: 3000, dtype: object"
      ]
     },
     "execution_count": 97,
     "metadata": {},
     "output_type": "execute_result"
    }
   ],
   "source": [
    "df_test.loc[3000]"
   ]
  },
  {
   "cell_type": "code",
   "execution_count": 98,
   "id": "aa4509e2",
   "metadata": {},
   "outputs": [
    {
     "data": {
      "text/plain": [
       "image_url        https://m.media-amazon.com/images/I/51jQHoSBqU...\n",
       "image_path                                   images/test/4000.jpeg\n",
       "brand                                                         Unik\n",
       "product_title    Royal Style Leather Juttis/Mojaris for Men - B...\n",
       "class_label                                            mojaris_men\n",
       "color                                                          NaN\n",
       "Name: 4000, dtype: object"
      ]
     },
     "execution_count": 98,
     "metadata": {},
     "output_type": "execute_result"
    }
   ],
   "source": [
    "df_test.loc[4000]"
   ]
  },
  {
   "cell_type": "code",
   "execution_count": 99,
   "id": "a60be78e",
   "metadata": {},
   "outputs": [
    {
     "data": {
      "text/plain": [
       "image_url        https://m.media-amazon.com/images/I/41KryQ1Y0U...\n",
       "image_path                                   images/test/5000.jpeg\n",
       "brand                                                       hangup\n",
       "product_title    mens Nehru Jacket size 40 (Linen_Basket2_DARK_...\n",
       "class_label                                          nehru_jackets\n",
       "color                                                          NaN\n",
       "Name: 5000, dtype: object"
      ]
     },
     "execution_count": 99,
     "metadata": {},
     "output_type": "execute_result"
    }
   ],
   "source": [
    "df_test.loc[5000]"
   ]
  },
  {
   "cell_type": "code",
   "execution_count": 100,
   "id": "544d65bc",
   "metadata": {},
   "outputs": [
    {
     "data": {
      "text/plain": [
       "image_url        https://m.media-amazon.com/images/I/41q5JbIao9...\n",
       "image_path                                   images/test/6000.jpeg\n",
       "brand                                         Shree Charbuja Sales\n",
       "product_title           Women's Cotton Petticoat (Brown_Free Size)\n",
       "class_label                                             petticoats\n",
       "color                                                          NaN\n",
       "Name: 6000, dtype: object"
      ]
     },
     "execution_count": 100,
     "metadata": {},
     "output_type": "execute_result"
    }
   ],
   "source": [
    "df_test.loc[6000]"
   ]
  },
  {
   "cell_type": "code",
   "execution_count": 101,
   "id": "2bad1481",
   "metadata": {},
   "outputs": [
    {
     "data": {
      "text/plain": [
       "image_url        https://m.media-amazon.com/images/I/71cFqff2CY...\n",
       "image_path                                   images/test/7000.jpeg\n",
       "brand                                                  global desi\n",
       "product_title                           Women's Rayon a-line Kurta\n",
       "class_label                                            women_kurta\n",
       "color                                                          NaN\n",
       "Name: 7000, dtype: object"
      ]
     },
     "execution_count": 101,
     "metadata": {},
     "output_type": "execute_result"
    }
   ],
   "source": [
    "df_test.loc[7000]"
   ]
  },
  {
   "cell_type": "code",
   "execution_count": 102,
   "id": "5a1cbb33",
   "metadata": {},
   "outputs": [
    {
     "data": {
      "text/plain": [
       "image_url        https://rukminim1.flixcart.com/image/309/371/j...\n",
       "image_path                                   images/test/1100.jpeg\n",
       "brand                                                          N/A\n",
       "product_title                      Prakasam Cotton Solid Men Dhoti\n",
       "class_label                                            dhoti_pants\n",
       "color                                                          N/A\n",
       "Name: 1100, dtype: object"
      ]
     },
     "execution_count": 102,
     "metadata": {},
     "output_type": "execute_result"
    }
   ],
   "source": [
    "df_test.loc[1100]"
   ]
  },
  {
   "cell_type": "code",
   "execution_count": 103,
   "id": "c71be3fb",
   "metadata": {},
   "outputs": [
    {
     "data": {
      "text/plain": [
       "image_url        https://m.media-amazon.com/images/I/51jq6XPmES...\n",
       "image_path                                   images/test/1050.jpeg\n",
       "brand                                                    Glampunch\n",
       "product_title    Women's Exclusive Multicolor Stripes Top for W...\n",
       "class_label                                            dhoti_pants\n",
       "color                                                          NaN\n",
       "Name: 1050, dtype: object"
      ]
     },
     "execution_count": 103,
     "metadata": {},
     "output_type": "execute_result"
    }
   ],
   "source": [
    "df_test.loc[1050]"
   ]
  },
  {
   "cell_type": "code",
   "execution_count": 104,
   "id": "45be5759",
   "metadata": {},
   "outputs": [],
   "source": [
    "#val dhoti 1383 not correct"
   ]
  },
  {
   "cell_type": "code",
   "execution_count": 105,
   "id": "9c7e7efa",
   "metadata": {},
   "outputs": [],
   "source": [
    "df_val = pd.read_json('/Users/butler/Documents/hp/Classification_of_Indian_clothing_images/data/raw/indian_clothing/val_data.json', lines=True)"
   ]
  },
  {
   "cell_type": "code",
   "execution_count": 106,
   "id": "9aea6efc",
   "metadata": {},
   "outputs": [
    {
     "data": {
      "text/html": [
       "<div>\n",
       "<style scoped>\n",
       "    .dataframe tbody tr th:only-of-type {\n",
       "        vertical-align: middle;\n",
       "    }\n",
       "\n",
       "    .dataframe tbody tr th {\n",
       "        vertical-align: top;\n",
       "    }\n",
       "\n",
       "    .dataframe thead th {\n",
       "        text-align: right;\n",
       "    }\n",
       "</style>\n",
       "<table border=\"1\" class=\"dataframe\">\n",
       "  <thead>\n",
       "    <tr style=\"text-align: right;\">\n",
       "      <th></th>\n",
       "      <th>image_url</th>\n",
       "      <th>image_path</th>\n",
       "      <th>brand</th>\n",
       "      <th>product_title</th>\n",
       "      <th>class_label</th>\n",
       "      <th>color</th>\n",
       "    </tr>\n",
       "  </thead>\n",
       "  <tbody>\n",
       "    <tr>\n",
       "      <th>0</th>\n",
       "      <td>https://m.media-amazon.com/images/I/81LOPbFPiQ...</td>\n",
       "      <td>images/val/0.jpeg</td>\n",
       "      <td>Generic</td>\n",
       "      <td>Women's Khadi Cotton Saree With Blouse Piece (...</td>\n",
       "      <td>saree</td>\n",
       "      <td>NaN</td>\n",
       "    </tr>\n",
       "    <tr>\n",
       "      <th>1</th>\n",
       "      <td>https://m.media-amazon.com/images/I/81Q8Oktw4s...</td>\n",
       "      <td>images/val/1.jpeg</td>\n",
       "      <td>Yashvi Designer</td>\n",
       "      <td>Women's Net Saree With Unstitched Blouse Piece</td>\n",
       "      <td>saree</td>\n",
       "      <td>NaN</td>\n",
       "    </tr>\n",
       "    <tr>\n",
       "      <th>2</th>\n",
       "      <td>https://m.media-amazon.com/images/I/613S1YGCmo...</td>\n",
       "      <td>images/val/2.jpeg</td>\n",
       "      <td>Aarrah</td>\n",
       "      <td>Georgette Strip Print Saree[S_SHIKHA30021SR02_...</td>\n",
       "      <td>saree</td>\n",
       "      <td>NaN</td>\n",
       "    </tr>\n",
       "    <tr>\n",
       "      <th>3</th>\n",
       "      <td>https://m.media-amazon.com/images/I/819budhQl1...</td>\n",
       "      <td>images/val/3.jpeg</td>\n",
       "      <td>MIMOSA</td>\n",
       "      <td>Women's Patola Style Art Silk Saree (Green)</td>\n",
       "      <td>saree</td>\n",
       "      <td>NaN</td>\n",
       "    </tr>\n",
       "    <tr>\n",
       "      <th>4</th>\n",
       "      <td>https://m.media-amazon.com/images/I/61cAZ94ZQV...</td>\n",
       "      <td>images/val/4.jpeg</td>\n",
       "      <td>Generic</td>\n",
       "      <td>Women's Pure Hand Block Patola Printed Cotton ...</td>\n",
       "      <td>saree</td>\n",
       "      <td>NaN</td>\n",
       "    </tr>\n",
       "  </tbody>\n",
       "</table>\n",
       "</div>"
      ],
      "text/plain": [
       "                                           image_url         image_path  \\\n",
       "0  https://m.media-amazon.com/images/I/81LOPbFPiQ...  images/val/0.jpeg   \n",
       "1  https://m.media-amazon.com/images/I/81Q8Oktw4s...  images/val/1.jpeg   \n",
       "2  https://m.media-amazon.com/images/I/613S1YGCmo...  images/val/2.jpeg   \n",
       "3  https://m.media-amazon.com/images/I/819budhQl1...  images/val/3.jpeg   \n",
       "4  https://m.media-amazon.com/images/I/61cAZ94ZQV...  images/val/4.jpeg   \n",
       "\n",
       "             brand                                      product_title  \\\n",
       "0          Generic  Women's Khadi Cotton Saree With Blouse Piece (...   \n",
       "1  Yashvi Designer     Women's Net Saree With Unstitched Blouse Piece   \n",
       "2           Aarrah  Georgette Strip Print Saree[S_SHIKHA30021SR02_...   \n",
       "3           MIMOSA        Women's Patola Style Art Silk Saree (Green)   \n",
       "4          Generic  Women's Pure Hand Block Patola Printed Cotton ...   \n",
       "\n",
       "  class_label color  \n",
       "0       saree   NaN  \n",
       "1       saree   NaN  \n",
       "2       saree   NaN  \n",
       "3       saree   NaN  \n",
       "4       saree   NaN  "
      ]
     },
     "execution_count": 106,
     "metadata": {},
     "output_type": "execute_result"
    }
   ],
   "source": [
    "df_val.head()"
   ]
  },
  {
   "cell_type": "code",
   "execution_count": 107,
   "id": "5628ecf9",
   "metadata": {},
   "outputs": [],
   "source": [
    "df_val_revised = df_val.copy()"
   ]
  },
  {
   "cell_type": "code",
   "execution_count": 108,
   "id": "b168319b",
   "metadata": {},
   "outputs": [
    {
     "data": {
      "text/plain": [
       "image_url        https://m.media-amazon.com/images/I/616Z5o3thO...\n",
       "image_path                                    images/val/1383.jpeg\n",
       "brand                                                    Glampunch\n",
       "product_title    Women's Exclusive Yellow Cold Shoulder Top for...\n",
       "class_label                                            dhoti_pants\n",
       "color                                                          NaN\n",
       "Name: 1383, dtype: object"
      ]
     },
     "execution_count": 108,
     "metadata": {},
     "output_type": "execute_result"
    }
   ],
   "source": [
    "df_val_revised.loc[1383]"
   ]
  },
  {
   "cell_type": "code",
   "execution_count": 157,
   "id": "5deaeae2",
   "metadata": {},
   "outputs": [
    {
     "data": {
      "text/plain": [
       "\"Women's Exclusive Yellow Cold Shoulder Top forr Women\""
      ]
     },
     "execution_count": 157,
     "metadata": {},
     "output_type": "execute_result"
    }
   ],
   "source": [
    "df_val_revised.iloc[1383,3]"
   ]
  },
  {
   "cell_type": "code",
   "execution_count": 109,
   "id": "694d2b36",
   "metadata": {},
   "outputs": [
    {
     "data": {
      "text/html": [
       "<div>\n",
       "<style scoped>\n",
       "    .dataframe tbody tr th:only-of-type {\n",
       "        vertical-align: middle;\n",
       "    }\n",
       "\n",
       "    .dataframe tbody tr th {\n",
       "        vertical-align: top;\n",
       "    }\n",
       "\n",
       "    .dataframe thead th {\n",
       "        text-align: right;\n",
       "    }\n",
       "</style>\n",
       "<table border=\"1\" class=\"dataframe\">\n",
       "  <thead>\n",
       "    <tr style=\"text-align: right;\">\n",
       "      <th></th>\n",
       "      <th>image_url</th>\n",
       "      <th>image_path</th>\n",
       "      <th>brand</th>\n",
       "      <th>product_title</th>\n",
       "      <th>class_label</th>\n",
       "      <th>color</th>\n",
       "    </tr>\n",
       "  </thead>\n",
       "  <tbody>\n",
       "    <tr>\n",
       "      <th>1382</th>\n",
       "      <td>https://m.media-amazon.com/images/I/61o8SCDWVp...</td>\n",
       "      <td>images/val/1382.jpeg</td>\n",
       "      <td>Idalia</td>\n",
       "      <td>Women's Cotton Slub Kurta With Palazzo</td>\n",
       "      <td>dhoti_pants</td>\n",
       "      <td>NaN</td>\n",
       "    </tr>\n",
       "    <tr>\n",
       "      <th>1383</th>\n",
       "      <td>https://m.media-amazon.com/images/I/616Z5o3thO...</td>\n",
       "      <td>images/val/1383.jpeg</td>\n",
       "      <td>Glampunch</td>\n",
       "      <td>Women's Exclusive Yellow Cold Shoulder Top for...</td>\n",
       "      <td>dhoti_pants</td>\n",
       "      <td>NaN</td>\n",
       "    </tr>\n",
       "    <tr>\n",
       "      <th>1384</th>\n",
       "      <td>https://assets.myntassets.com/h_720,q_90,w_540...</td>\n",
       "      <td>images/val/1384.jpeg</td>\n",
       "      <td>DEYANN</td>\n",
       "      <td>DEVYAAN Men Brown &amp;amp; Black Printed Dhoti</td>\n",
       "      <td>dhoti_pants</td>\n",
       "      <td>NaN</td>\n",
       "    </tr>\n",
       "    <tr>\n",
       "      <th>1385</th>\n",
       "      <td>https://m.media-amazon.com/images/I/61N+mjYrXP...</td>\n",
       "      <td>images/val/1385.jpeg</td>\n",
       "      <td>Buy That Trendz</td>\n",
       "      <td>Women's Cotton Viscose Lycra Dhoti Patiyala Sa...</td>\n",
       "      <td>dhoti_pants</td>\n",
       "      <td>NaN</td>\n",
       "    </tr>\n",
       "  </tbody>\n",
       "</table>\n",
       "</div>"
      ],
      "text/plain": [
       "                                              image_url            image_path  \\\n",
       "1382  https://m.media-amazon.com/images/I/61o8SCDWVp...  images/val/1382.jpeg   \n",
       "1383  https://m.media-amazon.com/images/I/616Z5o3thO...  images/val/1383.jpeg   \n",
       "1384  https://assets.myntassets.com/h_720,q_90,w_540...  images/val/1384.jpeg   \n",
       "1385  https://m.media-amazon.com/images/I/61N+mjYrXP...  images/val/1385.jpeg   \n",
       "\n",
       "                brand                                      product_title  \\\n",
       "1382           Idalia             Women's Cotton Slub Kurta With Palazzo   \n",
       "1383        Glampunch  Women's Exclusive Yellow Cold Shoulder Top for...   \n",
       "1384           DEYANN        DEVYAAN Men Brown &amp; Black Printed Dhoti   \n",
       "1385  Buy That Trendz  Women's Cotton Viscose Lycra Dhoti Patiyala Sa...   \n",
       "\n",
       "      class_label color  \n",
       "1382  dhoti_pants   NaN  \n",
       "1383  dhoti_pants   NaN  \n",
       "1384  dhoti_pants   NaN  \n",
       "1385  dhoti_pants   NaN  "
      ]
     },
     "execution_count": 109,
     "metadata": {},
     "output_type": "execute_result"
    }
   ],
   "source": [
    "df_val_revised.loc[1382:1385]"
   ]
  },
  {
   "cell_type": "code",
   "execution_count": 110,
   "id": "76c08ccf",
   "metadata": {},
   "outputs": [],
   "source": [
    "df_kurta = df_val_revised.applymap(lambda x: 'kurta' in str(x).lower())"
   ]
  },
  {
   "cell_type": "code",
   "execution_count": 111,
   "id": "559b435d",
   "metadata": {},
   "outputs": [
    {
     "data": {
      "text/plain": [
       "7499"
      ]
     },
     "execution_count": 111,
     "metadata": {},
     "output_type": "execute_result"
    }
   ],
   "source": [
    "len(kurta)"
   ]
  },
  {
   "cell_type": "code",
   "execution_count": 112,
   "id": "dce44e4a",
   "metadata": {},
   "outputs": [],
   "source": [
    "df_kurta = df_kurta[df_kurta.product_title == True]"
   ]
  },
  {
   "cell_type": "code",
   "execution_count": 113,
   "id": "e655a01e",
   "metadata": {},
   "outputs": [
    {
     "data": {
      "text/plain": [
       "1066"
      ]
     },
     "execution_count": 113,
     "metadata": {},
     "output_type": "execute_result"
    }
   ],
   "source": [
    "len(df_kurta)"
   ]
  },
  {
   "cell_type": "code",
   "execution_count": 114,
   "id": "a1fc9c45",
   "metadata": {},
   "outputs": [
    {
     "data": {
      "text/html": [
       "<div>\n",
       "<style scoped>\n",
       "    .dataframe tbody tr th:only-of-type {\n",
       "        vertical-align: middle;\n",
       "    }\n",
       "\n",
       "    .dataframe tbody tr th {\n",
       "        vertical-align: top;\n",
       "    }\n",
       "\n",
       "    .dataframe thead th {\n",
       "        text-align: right;\n",
       "    }\n",
       "</style>\n",
       "<table border=\"1\" class=\"dataframe\">\n",
       "  <thead>\n",
       "    <tr style=\"text-align: right;\">\n",
       "      <th></th>\n",
       "      <th>image_url</th>\n",
       "      <th>image_path</th>\n",
       "      <th>brand</th>\n",
       "      <th>product_title</th>\n",
       "      <th>class_label</th>\n",
       "      <th>color</th>\n",
       "    </tr>\n",
       "  </thead>\n",
       "  <tbody>\n",
       "    <tr>\n",
       "      <th>1011</th>\n",
       "      <td>False</td>\n",
       "      <td>False</td>\n",
       "      <td>False</td>\n",
       "      <td>True</td>\n",
       "      <td>False</td>\n",
       "      <td>False</td>\n",
       "    </tr>\n",
       "    <tr>\n",
       "      <th>1013</th>\n",
       "      <td>False</td>\n",
       "      <td>False</td>\n",
       "      <td>False</td>\n",
       "      <td>True</td>\n",
       "      <td>False</td>\n",
       "      <td>False</td>\n",
       "    </tr>\n",
       "    <tr>\n",
       "      <th>1015</th>\n",
       "      <td>False</td>\n",
       "      <td>False</td>\n",
       "      <td>False</td>\n",
       "      <td>True</td>\n",
       "      <td>False</td>\n",
       "      <td>False</td>\n",
       "    </tr>\n",
       "    <tr>\n",
       "      <th>1019</th>\n",
       "      <td>False</td>\n",
       "      <td>False</td>\n",
       "      <td>False</td>\n",
       "      <td>True</td>\n",
       "      <td>False</td>\n",
       "      <td>False</td>\n",
       "    </tr>\n",
       "    <tr>\n",
       "      <th>1026</th>\n",
       "      <td>False</td>\n",
       "      <td>False</td>\n",
       "      <td>False</td>\n",
       "      <td>True</td>\n",
       "      <td>False</td>\n",
       "      <td>False</td>\n",
       "    </tr>\n",
       "  </tbody>\n",
       "</table>\n",
       "</div>"
      ],
      "text/plain": [
       "      image_url  image_path  brand  product_title  class_label  color\n",
       "1011      False       False  False           True        False  False\n",
       "1013      False       False  False           True        False  False\n",
       "1015      False       False  False           True        False  False\n",
       "1019      False       False  False           True        False  False\n",
       "1026      False       False  False           True        False  False"
      ]
     },
     "execution_count": 114,
     "metadata": {},
     "output_type": "execute_result"
    }
   ],
   "source": [
    "df_kurta.head()"
   ]
  },
  {
   "cell_type": "code",
   "execution_count": 115,
   "id": "988221fe",
   "metadata": {},
   "outputs": [],
   "source": [
    "df_kurta_title = df_kurta[df_kurta.class_label == False]"
   ]
  },
  {
   "cell_type": "code",
   "execution_count": 116,
   "id": "2f758125",
   "metadata": {},
   "outputs": [
    {
     "data": {
      "text/plain": [
       "221"
      ]
     },
     "execution_count": 116,
     "metadata": {},
     "output_type": "execute_result"
    }
   ],
   "source": [
    "len(df_kurta_title)"
   ]
  },
  {
   "cell_type": "code",
   "execution_count": 117,
   "id": "92bcc72c",
   "metadata": {},
   "outputs": [],
   "source": [
    "# Setting df_dhoti_pants to df_val_revised with boolean value if 'dhoti' in column\n",
    "df_dhoti_pants = df_val_revised.applymap(lambda x: 'dhoti' in str(x).lower())"
   ]
  },
  {
   "cell_type": "code",
   "execution_count": 135,
   "id": "6440d5c6",
   "metadata": {},
   "outputs": [],
   "source": [
    "df_dhoti_pants = df_dhoti_pants[df_dhoti_pants.product_title == True]"
   ]
  },
  {
   "cell_type": "code",
   "execution_count": 136,
   "id": "d1b22eb3",
   "metadata": {},
   "outputs": [
    {
     "data": {
      "text/html": [
       "<div>\n",
       "<style scoped>\n",
       "    .dataframe tbody tr th:only-of-type {\n",
       "        vertical-align: middle;\n",
       "    }\n",
       "\n",
       "    .dataframe tbody tr th {\n",
       "        vertical-align: top;\n",
       "    }\n",
       "\n",
       "    .dataframe thead th {\n",
       "        text-align: right;\n",
       "    }\n",
       "</style>\n",
       "<table border=\"1\" class=\"dataframe\">\n",
       "  <thead>\n",
       "    <tr style=\"text-align: right;\">\n",
       "      <th></th>\n",
       "      <th>image_url</th>\n",
       "      <th>image_path</th>\n",
       "      <th>brand</th>\n",
       "      <th>product_title</th>\n",
       "      <th>class_label</th>\n",
       "      <th>color</th>\n",
       "    </tr>\n",
       "  </thead>\n",
       "  <tbody>\n",
       "    <tr>\n",
       "      <th>1517</th>\n",
       "      <td>False</td>\n",
       "      <td>False</td>\n",
       "      <td>False</td>\n",
       "      <td>True</td>\n",
       "      <td>False</td>\n",
       "      <td>False</td>\n",
       "    </tr>\n",
       "    <tr>\n",
       "      <th>2570</th>\n",
       "      <td>False</td>\n",
       "      <td>False</td>\n",
       "      <td>False</td>\n",
       "      <td>True</td>\n",
       "      <td>False</td>\n",
       "      <td>False</td>\n",
       "    </tr>\n",
       "    <tr>\n",
       "      <th>2674</th>\n",
       "      <td>False</td>\n",
       "      <td>False</td>\n",
       "      <td>False</td>\n",
       "      <td>True</td>\n",
       "      <td>False</td>\n",
       "      <td>False</td>\n",
       "    </tr>\n",
       "    <tr>\n",
       "      <th>2789</th>\n",
       "      <td>False</td>\n",
       "      <td>False</td>\n",
       "      <td>False</td>\n",
       "      <td>True</td>\n",
       "      <td>False</td>\n",
       "      <td>False</td>\n",
       "    </tr>\n",
       "    <tr>\n",
       "      <th>2911</th>\n",
       "      <td>True</td>\n",
       "      <td>False</td>\n",
       "      <td>False</td>\n",
       "      <td>True</td>\n",
       "      <td>False</td>\n",
       "      <td>False</td>\n",
       "    </tr>\n",
       "  </tbody>\n",
       "</table>\n",
       "</div>"
      ],
      "text/plain": [
       "      image_url  image_path  brand  product_title  class_label  color\n",
       "1517      False       False  False           True        False  False\n",
       "2570      False       False  False           True        False  False\n",
       "2674      False       False  False           True        False  False\n",
       "2789      False       False  False           True        False  False\n",
       "2911       True       False  False           True        False  False"
      ]
     },
     "execution_count": 136,
     "metadata": {},
     "output_type": "execute_result"
    }
   ],
   "source": [
    "df_dhoti_pants.head()"
   ]
  },
  {
   "cell_type": "code",
   "execution_count": 137,
   "id": "81f82c59",
   "metadata": {},
   "outputs": [],
   "source": [
    "# Getting a df where 'dhoti' in a column but not in the class_label\n",
    "df_dhoti_pants = df_dhoti_pants[df_dhoti_pants.class_label == False]"
   ]
  },
  {
   "cell_type": "code",
   "execution_count": 138,
   "id": "d13fdc7d",
   "metadata": {},
   "outputs": [
    {
     "data": {
      "text/plain": [
       "36"
      ]
     },
     "execution_count": 138,
     "metadata": {},
     "output_type": "execute_result"
    }
   ],
   "source": [
    "len(df_dhoti_pants)"
   ]
  },
  {
   "cell_type": "code",
   "execution_count": 139,
   "id": "9ababd48",
   "metadata": {},
   "outputs": [],
   "source": [
    "# Setting dhoti_pants df to df_val where class_label = dhoti_pants\n",
    "dhoti_pants = df_val[df_val.class_label == 'dhoti_pants']"
   ]
  },
  {
   "cell_type": "code",
   "execution_count": 140,
   "id": "85bda72c",
   "metadata": {},
   "outputs": [],
   "source": [
    "# Getting index for when class_label = dhoti_pants\n",
    "dhoti_pants = dhoti_pants.index"
   ]
  },
  {
   "cell_type": "code",
   "execution_count": 141,
   "id": "9bf42878",
   "metadata": {},
   "outputs": [
    {
     "data": {
      "text/plain": [
       "500"
      ]
     },
     "execution_count": 141,
     "metadata": {},
     "output_type": "execute_result"
    }
   ],
   "source": [
    "len(dhoti_pants)"
   ]
  },
  {
   "cell_type": "code",
   "execution_count": 142,
   "id": "ce9fa50b",
   "metadata": {},
   "outputs": [],
   "source": [
    "# Getting indices for rows that have 'dhoti' in product_title but not 'dhoti_pants' in class_label\n",
    "dhoti = df_dhoti_pants.index"
   ]
  },
  {
   "cell_type": "code",
   "execution_count": 143,
   "id": "5d9eb61d",
   "metadata": {},
   "outputs": [
    {
     "data": {
      "text/plain": [
       "36"
      ]
     },
     "execution_count": 143,
     "metadata": {},
     "output_type": "execute_result"
    }
   ],
   "source": [
    "len(dhoti)"
   ]
  },
  {
   "cell_type": "code",
   "execution_count": 144,
   "id": "4887189f",
   "metadata": {},
   "outputs": [],
   "source": [
    "dhoti = list(dhoti)"
   ]
  },
  {
   "cell_type": "code",
   "execution_count": 145,
   "id": "eec9410b",
   "metadata": {},
   "outputs": [],
   "source": [
    "dhoti_pants = list(dhoti_pants)"
   ]
  },
  {
   "cell_type": "code",
   "execution_count": 149,
   "id": "2edf1032",
   "metadata": {},
   "outputs": [],
   "source": [
    "dhoti_diff = [x for x in dhoti if x not in dhoti_pants]"
   ]
  },
  {
   "cell_type": "code",
   "execution_count": 152,
   "id": "08a2c6fe",
   "metadata": {},
   "outputs": [
    {
     "data": {
      "text/plain": [
       "36"
      ]
     },
     "execution_count": 152,
     "metadata": {},
     "output_type": "execute_result"
    }
   ],
   "source": [
    "len(dhoti_diff)"
   ]
  },
  {
   "cell_type": "code",
   "execution_count": 154,
   "id": "cbc5c7ee",
   "metadata": {},
   "outputs": [],
   "source": [
    "diff = df_val.loc[dhoti_diff]"
   ]
  },
  {
   "cell_type": "code",
   "execution_count": 155,
   "id": "1eea9469",
   "metadata": {
    "scrolled": true
   },
   "outputs": [
    {
     "data": {
      "text/html": [
       "<div>\n",
       "<style scoped>\n",
       "    .dataframe tbody tr th:only-of-type {\n",
       "        vertical-align: middle;\n",
       "    }\n",
       "\n",
       "    .dataframe tbody tr th {\n",
       "        vertical-align: top;\n",
       "    }\n",
       "\n",
       "    .dataframe thead th {\n",
       "        text-align: right;\n",
       "    }\n",
       "</style>\n",
       "<table border=\"1\" class=\"dataframe\">\n",
       "  <thead>\n",
       "    <tr style=\"text-align: right;\">\n",
       "      <th></th>\n",
       "      <th>image_url</th>\n",
       "      <th>image_path</th>\n",
       "      <th>brand</th>\n",
       "      <th>product_title</th>\n",
       "      <th>class_label</th>\n",
       "      <th>color</th>\n",
       "    </tr>\n",
       "  </thead>\n",
       "  <tbody>\n",
       "    <tr>\n",
       "      <th>1517</th>\n",
       "      <td>https://m.media-amazon.com/images/I/71v5LqTrGW...</td>\n",
       "      <td>images/val/1517.jpeg</td>\n",
       "      <td>Janasya</td>\n",
       "      <td>Women's Pink Rayon Straight Short Kurta With D...</td>\n",
       "      <td>dupattas</td>\n",
       "      <td>NaN</td>\n",
       "    </tr>\n",
       "    <tr>\n",
       "      <th>2570</th>\n",
       "      <td>https://assets.myntassets.com/h_720,q_90,w_540...</td>\n",
       "      <td>images/val/2570.jpeg</td>\n",
       "      <td>VASTRAMAY</td>\n",
       "      <td>Men White Solid Dhoti Pant</td>\n",
       "      <td>kurta_men</td>\n",
       "      <td>NaN</td>\n",
       "    </tr>\n",
       "    <tr>\n",
       "      <th>2674</th>\n",
       "      <td>https://assets.myntassets.com/h_720,q_90,w_540...</td>\n",
       "      <td>images/val/2674.jpeg</td>\n",
       "      <td>DEYANN PLUS</td>\n",
       "      <td>Men Maroon &amp;amp; Blue Solid Kurta with Dhoti P...</td>\n",
       "      <td>kurta_men</td>\n",
       "      <td>NaN</td>\n",
       "    </tr>\n",
       "    <tr>\n",
       "      <th>2789</th>\n",
       "      <td>https://m.media-amazon.com/images/I/31ynd79j0U...</td>\n",
       "      <td>images/val/2789.jpeg</td>\n",
       "      <td>Modern Garments</td>\n",
       "      <td>Men Brown Dupioni Silk Kurta &amp; Beige Dhoti</td>\n",
       "      <td>kurta_men</td>\n",
       "      <td>NaN</td>\n",
       "    </tr>\n",
       "    <tr>\n",
       "      <th>2911</th>\n",
       "      <td>https://assets.myntassets.com/h_720,q_90,w_540...</td>\n",
       "      <td>images/val/2911.jpeg</td>\n",
       "      <td>SOJANYA</td>\n",
       "      <td>Men White Chikankari Embroidered Kurta with Dh...</td>\n",
       "      <td>kurta_men</td>\n",
       "      <td>NaN</td>\n",
       "    </tr>\n",
       "  </tbody>\n",
       "</table>\n",
       "</div>"
      ],
      "text/plain": [
       "                                              image_url            image_path  \\\n",
       "1517  https://m.media-amazon.com/images/I/71v5LqTrGW...  images/val/1517.jpeg   \n",
       "2570  https://assets.myntassets.com/h_720,q_90,w_540...  images/val/2570.jpeg   \n",
       "2674  https://assets.myntassets.com/h_720,q_90,w_540...  images/val/2674.jpeg   \n",
       "2789  https://m.media-amazon.com/images/I/31ynd79j0U...  images/val/2789.jpeg   \n",
       "2911  https://assets.myntassets.com/h_720,q_90,w_540...  images/val/2911.jpeg   \n",
       "\n",
       "                brand                                      product_title  \\\n",
       "1517          Janasya  Women's Pink Rayon Straight Short Kurta With D...   \n",
       "2570        VASTRAMAY                         Men White Solid Dhoti Pant   \n",
       "2674      DEYANN PLUS  Men Maroon &amp; Blue Solid Kurta with Dhoti P...   \n",
       "2789  Modern Garments         Men Brown Dupioni Silk Kurta & Beige Dhoti   \n",
       "2911          SOJANYA  Men White Chikankari Embroidered Kurta with Dh...   \n",
       "\n",
       "     class_label color  \n",
       "1517    dupattas   NaN  \n",
       "2570   kurta_men   NaN  \n",
       "2674   kurta_men   NaN  \n",
       "2789   kurta_men   NaN  \n",
       "2911   kurta_men   NaN  "
      ]
     },
     "execution_count": 155,
     "metadata": {},
     "output_type": "execute_result"
    }
   ],
   "source": [
    "diff.head()"
   ]
  },
  {
   "cell_type": "code",
   "execution_count": 156,
   "id": "cafe80db",
   "metadata": {},
   "outputs": [
    {
     "data": {
      "text/plain": [
       "(36, 6)"
      ]
     },
     "execution_count": 156,
     "metadata": {},
     "output_type": "execute_result"
    }
   ],
   "source": [
    "diff.shape"
   ]
  },
  {
   "cell_type": "code",
   "execution_count": 173,
   "id": "fd0d2d45",
   "metadata": {},
   "outputs": [],
   "source": [
    "df_dhoti_diff = df_val.drop(labels=dhoti_diff)"
   ]
  },
  {
   "cell_type": "code",
   "execution_count": 174,
   "id": "841e08cc",
   "metadata": {},
   "outputs": [
    {
     "data": {
      "text/plain": [
       "7464"
      ]
     },
     "execution_count": 174,
     "metadata": {},
     "output_type": "execute_result"
    }
   ],
   "source": [
    "len(df_dhoti_diff)"
   ]
  },
  {
   "cell_type": "code",
   "execution_count": 133,
   "id": "11a12fb5",
   "metadata": {},
   "outputs": [
    {
     "data": {
      "text/html": [
       "<div>\n",
       "<style scoped>\n",
       "    .dataframe tbody tr th:only-of-type {\n",
       "        vertical-align: middle;\n",
       "    }\n",
       "\n",
       "    .dataframe tbody tr th {\n",
       "        vertical-align: top;\n",
       "    }\n",
       "\n",
       "    .dataframe thead th {\n",
       "        text-align: right;\n",
       "    }\n",
       "</style>\n",
       "<table border=\"1\" class=\"dataframe\">\n",
       "  <thead>\n",
       "    <tr style=\"text-align: right;\">\n",
       "      <th></th>\n",
       "      <th>image_url</th>\n",
       "      <th>image_path</th>\n",
       "      <th>brand</th>\n",
       "      <th>product_title</th>\n",
       "      <th>class_label</th>\n",
       "      <th>color</th>\n",
       "    </tr>\n",
       "  </thead>\n",
       "  <tbody>\n",
       "    <tr>\n",
       "      <th>0</th>\n",
       "      <td>https://m.media-amazon.com/images/I/81LOPbFPiQ...</td>\n",
       "      <td>images/val/0.jpeg</td>\n",
       "      <td>Generic</td>\n",
       "      <td>Women's Khadi Cotton Saree With Blouse Piece (...</td>\n",
       "      <td>saree</td>\n",
       "      <td>NaN</td>\n",
       "    </tr>\n",
       "    <tr>\n",
       "      <th>1</th>\n",
       "      <td>https://m.media-amazon.com/images/I/81Q8Oktw4s...</td>\n",
       "      <td>images/val/1.jpeg</td>\n",
       "      <td>Yashvi Designer</td>\n",
       "      <td>Women's Net Saree With Unstitched Blouse Piece</td>\n",
       "      <td>saree</td>\n",
       "      <td>NaN</td>\n",
       "    </tr>\n",
       "    <tr>\n",
       "      <th>2</th>\n",
       "      <td>https://m.media-amazon.com/images/I/613S1YGCmo...</td>\n",
       "      <td>images/val/2.jpeg</td>\n",
       "      <td>Aarrah</td>\n",
       "      <td>Georgette Strip Print Saree[S_SHIKHA30021SR02_...</td>\n",
       "      <td>saree</td>\n",
       "      <td>NaN</td>\n",
       "    </tr>\n",
       "    <tr>\n",
       "      <th>3</th>\n",
       "      <td>https://m.media-amazon.com/images/I/819budhQl1...</td>\n",
       "      <td>images/val/3.jpeg</td>\n",
       "      <td>MIMOSA</td>\n",
       "      <td>Women's Patola Style Art Silk Saree (Green)</td>\n",
       "      <td>saree</td>\n",
       "      <td>NaN</td>\n",
       "    </tr>\n",
       "    <tr>\n",
       "      <th>4</th>\n",
       "      <td>https://m.media-amazon.com/images/I/61cAZ94ZQV...</td>\n",
       "      <td>images/val/4.jpeg</td>\n",
       "      <td>Generic</td>\n",
       "      <td>Women's Pure Hand Block Patola Printed Cotton ...</td>\n",
       "      <td>saree</td>\n",
       "      <td>NaN</td>\n",
       "    </tr>\n",
       "  </tbody>\n",
       "</table>\n",
       "</div>"
      ],
      "text/plain": [
       "                                           image_url         image_path  \\\n",
       "0  https://m.media-amazon.com/images/I/81LOPbFPiQ...  images/val/0.jpeg   \n",
       "1  https://m.media-amazon.com/images/I/81Q8Oktw4s...  images/val/1.jpeg   \n",
       "2  https://m.media-amazon.com/images/I/613S1YGCmo...  images/val/2.jpeg   \n",
       "3  https://m.media-amazon.com/images/I/819budhQl1...  images/val/3.jpeg   \n",
       "4  https://m.media-amazon.com/images/I/61cAZ94ZQV...  images/val/4.jpeg   \n",
       "\n",
       "             brand                                      product_title  \\\n",
       "0          Generic  Women's Khadi Cotton Saree With Blouse Piece (...   \n",
       "1  Yashvi Designer     Women's Net Saree With Unstitched Blouse Piece   \n",
       "2           Aarrah  Georgette Strip Print Saree[S_SHIKHA30021SR02_...   \n",
       "3           MIMOSA        Women's Patola Style Art Silk Saree (Green)   \n",
       "4          Generic  Women's Pure Hand Block Patola Printed Cotton ...   \n",
       "\n",
       "  class_label color  \n",
       "0       saree   NaN  \n",
       "1       saree   NaN  \n",
       "2       saree   NaN  \n",
       "3       saree   NaN  \n",
       "4       saree   NaN  "
      ]
     },
     "execution_count": 133,
     "metadata": {},
     "output_type": "execute_result"
    }
   ],
   "source": [
    "df_dhoti_diff.head()"
   ]
  },
  {
   "cell_type": "code",
   "execution_count": 167,
   "id": "fd0398ee",
   "metadata": {},
   "outputs": [],
   "source": [
    "# Setting df_non_dhoti to df_val_revised with boolean value if 'dhoti' is not in any column\n",
    "df_non_dhoti = df_val.applymap(lambda x: 'dhoti' not in str(x).lower())"
   ]
  },
  {
   "cell_type": "code",
   "execution_count": null,
   "id": "158d9c7c",
   "metadata": {},
   "outputs": [],
   "source": []
  },
  {
   "cell_type": "code",
   "execution_count": 171,
   "id": "2487b6c5",
   "metadata": {
    "scrolled": true
   },
   "outputs": [],
   "source": [
    "df_non_dhoti = df_non_dhoti[df_non_dhoti.class_label == 'dhoti_pants' ]"
   ]
  },
  {
   "cell_type": "code",
   "execution_count": 172,
   "id": "a2967e48",
   "metadata": {},
   "outputs": [
    {
     "data": {
      "text/plain": [
       "0"
      ]
     },
     "execution_count": 172,
     "metadata": {},
     "output_type": "execute_result"
    }
   ],
   "source": [
    "len(df_non_dhoti)"
   ]
  },
  {
   "cell_type": "code",
   "execution_count": 178,
   "id": "bd5d8c70",
   "metadata": {},
   "outputs": [],
   "source": [
    "# Setting df_kurta to df_val with boolean value if 'kurta' in column\n",
    "df_kurta = df_val.applymap(lambda x: 'kurta' in str(x).lower())"
   ]
  },
  {
   "cell_type": "code",
   "execution_count": 179,
   "id": "844e0e6e",
   "metadata": {},
   "outputs": [],
   "source": [
    "df_kurta = df_kurta[df_kurta.product_title == True]"
   ]
  },
  {
   "cell_type": "code",
   "execution_count": 180,
   "id": "c436ff11",
   "metadata": {},
   "outputs": [
    {
     "data": {
      "text/html": [
       "<div>\n",
       "<style scoped>\n",
       "    .dataframe tbody tr th:only-of-type {\n",
       "        vertical-align: middle;\n",
       "    }\n",
       "\n",
       "    .dataframe tbody tr th {\n",
       "        vertical-align: top;\n",
       "    }\n",
       "\n",
       "    .dataframe thead th {\n",
       "        text-align: right;\n",
       "    }\n",
       "</style>\n",
       "<table border=\"1\" class=\"dataframe\">\n",
       "  <thead>\n",
       "    <tr style=\"text-align: right;\">\n",
       "      <th></th>\n",
       "      <th>image_url</th>\n",
       "      <th>image_path</th>\n",
       "      <th>brand</th>\n",
       "      <th>product_title</th>\n",
       "      <th>class_label</th>\n",
       "      <th>color</th>\n",
       "    </tr>\n",
       "  </thead>\n",
       "  <tbody>\n",
       "    <tr>\n",
       "      <th>1011</th>\n",
       "      <td>False</td>\n",
       "      <td>False</td>\n",
       "      <td>False</td>\n",
       "      <td>True</td>\n",
       "      <td>False</td>\n",
       "      <td>False</td>\n",
       "    </tr>\n",
       "    <tr>\n",
       "      <th>1013</th>\n",
       "      <td>False</td>\n",
       "      <td>False</td>\n",
       "      <td>False</td>\n",
       "      <td>True</td>\n",
       "      <td>False</td>\n",
       "      <td>False</td>\n",
       "    </tr>\n",
       "    <tr>\n",
       "      <th>1015</th>\n",
       "      <td>False</td>\n",
       "      <td>False</td>\n",
       "      <td>False</td>\n",
       "      <td>True</td>\n",
       "      <td>False</td>\n",
       "      <td>False</td>\n",
       "    </tr>\n",
       "    <tr>\n",
       "      <th>1019</th>\n",
       "      <td>False</td>\n",
       "      <td>False</td>\n",
       "      <td>False</td>\n",
       "      <td>True</td>\n",
       "      <td>False</td>\n",
       "      <td>False</td>\n",
       "    </tr>\n",
       "    <tr>\n",
       "      <th>1026</th>\n",
       "      <td>False</td>\n",
       "      <td>False</td>\n",
       "      <td>False</td>\n",
       "      <td>True</td>\n",
       "      <td>False</td>\n",
       "      <td>False</td>\n",
       "    </tr>\n",
       "  </tbody>\n",
       "</table>\n",
       "</div>"
      ],
      "text/plain": [
       "      image_url  image_path  brand  product_title  class_label  color\n",
       "1011      False       False  False           True        False  False\n",
       "1013      False       False  False           True        False  False\n",
       "1015      False       False  False           True        False  False\n",
       "1019      False       False  False           True        False  False\n",
       "1026      False       False  False           True        False  False"
      ]
     },
     "execution_count": 180,
     "metadata": {},
     "output_type": "execute_result"
    }
   ],
   "source": [
    "df_kurta.head()"
   ]
  },
  {
   "cell_type": "code",
   "execution_count": 181,
   "id": "0af6edb6",
   "metadata": {},
   "outputs": [],
   "source": [
    "# Getting a df where 'dhoti' in a column but not in the class_label\n",
    "df_kurta = df_kurta[df_kurta.class_label == False]"
   ]
  },
  {
   "cell_type": "code",
   "execution_count": 182,
   "id": "af03478f",
   "metadata": {},
   "outputs": [
    {
     "data": {
      "text/plain": [
       "221"
      ]
     },
     "execution_count": 182,
     "metadata": {},
     "output_type": "execute_result"
    }
   ],
   "source": [
    "len(df_kurta)"
   ]
  },
  {
   "cell_type": "code",
   "execution_count": 183,
   "id": "143d53bc",
   "metadata": {},
   "outputs": [],
   "source": [
    "# Setting dhoti_pants df to df_val where class_label = dhoti_pants\n",
    "kurta = df_val[df_val.class_label == 'kurta']"
   ]
  },
  {
   "cell_type": "code",
   "execution_count": 185,
   "id": "d6d76df6",
   "metadata": {},
   "outputs": [],
   "source": [
    "# Getting index for when class_label = dhoti_pants\n",
    "kurta = kurta.index"
   ]
  },
  {
   "cell_type": "code",
   "execution_count": 186,
   "id": "162e1c45",
   "metadata": {},
   "outputs": [
    {
     "data": {
      "text/plain": [
       "0"
      ]
     },
     "execution_count": 186,
     "metadata": {},
     "output_type": "execute_result"
    }
   ],
   "source": [
    "len(kurta)"
   ]
  },
  {
   "cell_type": "code",
   "execution_count": 187,
   "id": "bd146054",
   "metadata": {},
   "outputs": [],
   "source": [
    "# Getting indices for rows that have 'dhoti' in product_title but not 'dhoti_pants' in class_label\n",
    "kurta_t = df_kurta.index"
   ]
  },
  {
   "cell_type": "code",
   "execution_count": 188,
   "id": "40f50845",
   "metadata": {},
   "outputs": [
    {
     "data": {
      "text/plain": [
       "221"
      ]
     },
     "execution_count": 188,
     "metadata": {},
     "output_type": "execute_result"
    }
   ],
   "source": [
    "len(kurta_t)"
   ]
  },
  {
   "cell_type": "code",
   "execution_count": 144,
   "id": "ef3b1e9d",
   "metadata": {},
   "outputs": [],
   "source": [
    "dhoti = list(dhoti)"
   ]
  },
  {
   "cell_type": "code",
   "execution_count": 145,
   "id": "ab982508",
   "metadata": {},
   "outputs": [],
   "source": [
    "dhoti_pants = list(dhoti_pants)"
   ]
  },
  {
   "cell_type": "code",
   "execution_count": 190,
   "id": "d609a263",
   "metadata": {},
   "outputs": [],
   "source": [
    "kurta_diff = [x for x in kurta_t if x not in kurta]"
   ]
  },
  {
   "cell_type": "code",
   "execution_count": 191,
   "id": "3cff8931",
   "metadata": {},
   "outputs": [
    {
     "data": {
      "text/plain": [
       "221"
      ]
     },
     "execution_count": 191,
     "metadata": {},
     "output_type": "execute_result"
    }
   ],
   "source": [
    "len(kurta_diff)"
   ]
  },
  {
   "cell_type": "code",
   "execution_count": 192,
   "id": "5e2706aa",
   "metadata": {},
   "outputs": [],
   "source": [
    "diff = df_val.loc[kurta_diff]"
   ]
  },
  {
   "cell_type": "code",
   "execution_count": 193,
   "id": "852b91e7",
   "metadata": {
    "scrolled": true
   },
   "outputs": [
    {
     "data": {
      "text/html": [
       "<div>\n",
       "<style scoped>\n",
       "    .dataframe tbody tr th:only-of-type {\n",
       "        vertical-align: middle;\n",
       "    }\n",
       "\n",
       "    .dataframe tbody tr th {\n",
       "        vertical-align: top;\n",
       "    }\n",
       "\n",
       "    .dataframe thead th {\n",
       "        text-align: right;\n",
       "    }\n",
       "</style>\n",
       "<table border=\"1\" class=\"dataframe\">\n",
       "  <thead>\n",
       "    <tr style=\"text-align: right;\">\n",
       "      <th></th>\n",
       "      <th>image_url</th>\n",
       "      <th>image_path</th>\n",
       "      <th>brand</th>\n",
       "      <th>product_title</th>\n",
       "      <th>class_label</th>\n",
       "      <th>color</th>\n",
       "    </tr>\n",
       "  </thead>\n",
       "  <tbody>\n",
       "    <tr>\n",
       "      <th>1011</th>\n",
       "      <td>https://m.media-amazon.com/images/I/81gj360K59...</td>\n",
       "      <td>images/val/1011.jpeg</td>\n",
       "      <td>TRENDS WOW</td>\n",
       "      <td>Rayon Multi Color Printed Jacket Style Kurta f...</td>\n",
       "      <td>dhoti_pants</td>\n",
       "      <td>NaN</td>\n",
       "    </tr>\n",
       "    <tr>\n",
       "      <th>1013</th>\n",
       "      <td>https://m.media-amazon.com/images/I/61GA6b9scm...</td>\n",
       "      <td>images/val/1013.jpeg</td>\n",
       "      <td>Larwa</td>\n",
       "      <td>Men's Embroidery Kurta &amp; Salwar Dhoti Set Spec...</td>\n",
       "      <td>dhoti_pants</td>\n",
       "      <td>NaN</td>\n",
       "    </tr>\n",
       "    <tr>\n",
       "      <th>1015</th>\n",
       "      <td>https://m.media-amazon.com/images/I/71GRlpcRpv...</td>\n",
       "      <td>images/val/1015.jpeg</td>\n",
       "      <td>W for Woman</td>\n",
       "      <td>Women's Regular Kurta</td>\n",
       "      <td>dhoti_pants</td>\n",
       "      <td>NaN</td>\n",
       "    </tr>\n",
       "    <tr>\n",
       "      <th>1019</th>\n",
       "      <td>https://m.media-amazon.com/images/I/71u-qfsPLE...</td>\n",
       "      <td>images/val/1019.jpeg</td>\n",
       "      <td>Idalia</td>\n",
       "      <td>Women's Rama Green And Navy Blue Cotton Kurta Set</td>\n",
       "      <td>dhoti_pants</td>\n",
       "      <td>NaN</td>\n",
       "    </tr>\n",
       "    <tr>\n",
       "      <th>1026</th>\n",
       "      <td>https://m.media-amazon.com/images/I/91zuCwMIgb...</td>\n",
       "      <td>images/val/1026.jpeg</td>\n",
       "      <td>THE VASTRA</td>\n",
       "      <td>Rayon Green Printed Hand Work Kurta Palazzo an...</td>\n",
       "      <td>dhoti_pants</td>\n",
       "      <td>NaN</td>\n",
       "    </tr>\n",
       "  </tbody>\n",
       "</table>\n",
       "</div>"
      ],
      "text/plain": [
       "                                              image_url            image_path  \\\n",
       "1011  https://m.media-amazon.com/images/I/81gj360K59...  images/val/1011.jpeg   \n",
       "1013  https://m.media-amazon.com/images/I/61GA6b9scm...  images/val/1013.jpeg   \n",
       "1015  https://m.media-amazon.com/images/I/71GRlpcRpv...  images/val/1015.jpeg   \n",
       "1019  https://m.media-amazon.com/images/I/71u-qfsPLE...  images/val/1019.jpeg   \n",
       "1026  https://m.media-amazon.com/images/I/91zuCwMIgb...  images/val/1026.jpeg   \n",
       "\n",
       "            brand                                      product_title  \\\n",
       "1011   TRENDS WOW  Rayon Multi Color Printed Jacket Style Kurta f...   \n",
       "1013        Larwa  Men's Embroidery Kurta & Salwar Dhoti Set Spec...   \n",
       "1015  W for Woman                              Women's Regular Kurta   \n",
       "1019       Idalia  Women's Rama Green And Navy Blue Cotton Kurta Set   \n",
       "1026   THE VASTRA  Rayon Green Printed Hand Work Kurta Palazzo an...   \n",
       "\n",
       "      class_label color  \n",
       "1011  dhoti_pants   NaN  \n",
       "1013  dhoti_pants   NaN  \n",
       "1015  dhoti_pants   NaN  \n",
       "1019  dhoti_pants   NaN  \n",
       "1026  dhoti_pants   NaN  "
      ]
     },
     "execution_count": 193,
     "metadata": {},
     "output_type": "execute_result"
    }
   ],
   "source": [
    "diff.head()"
   ]
  },
  {
   "cell_type": "code",
   "execution_count": 196,
   "id": "5e35ffd4",
   "metadata": {},
   "outputs": [
    {
     "data": {
      "text/plain": [
       "(221, 6)"
      ]
     },
     "execution_count": 196,
     "metadata": {},
     "output_type": "execute_result"
    }
   ],
   "source": [
    "diff.shape"
   ]
  },
  {
   "cell_type": "code",
   "execution_count": 197,
   "id": "58959937",
   "metadata": {},
   "outputs": [
    {
     "ename": "KeyError",
     "evalue": "\"['image_url', 'image_path', 'brand', 'product_title', 'class_label', 'color'] not found in axis\"",
     "output_type": "error",
     "traceback": [
      "\u001b[0;31m---------------------------------------------------------------------------\u001b[0m",
      "\u001b[0;31mKeyError\u001b[0m                                  Traceback (most recent call last)",
      "Cell \u001b[0;32mIn[197], line 1\u001b[0m\n\u001b[0;32m----> 1\u001b[0m df_diff \u001b[38;5;241m=\u001b[39m \u001b[43mdf_val\u001b[49m\u001b[38;5;241;43m.\u001b[39;49m\u001b[43mdrop\u001b[49m\u001b[43m(\u001b[49m\u001b[43mlabels\u001b[49m\u001b[38;5;241;43m=\u001b[39;49m\u001b[43mdiff\u001b[49m\u001b[43m)\u001b[49m\n",
      "File \u001b[0;32m~/anaconda3/envs/cnn/lib/python3.9/site-packages/pandas/core/frame.py:5258\u001b[0m, in \u001b[0;36mDataFrame.drop\u001b[0;34m(self, labels, axis, index, columns, level, inplace, errors)\u001b[0m\n\u001b[1;32m   5110\u001b[0m \u001b[38;5;28;01mdef\u001b[39;00m \u001b[38;5;21mdrop\u001b[39m(\n\u001b[1;32m   5111\u001b[0m     \u001b[38;5;28mself\u001b[39m,\n\u001b[1;32m   5112\u001b[0m     labels: IndexLabel \u001b[38;5;241m=\u001b[39m \u001b[38;5;28;01mNone\u001b[39;00m,\n\u001b[0;32m   (...)\u001b[0m\n\u001b[1;32m   5119\u001b[0m     errors: IgnoreRaise \u001b[38;5;241m=\u001b[39m \u001b[38;5;124m\"\u001b[39m\u001b[38;5;124mraise\u001b[39m\u001b[38;5;124m\"\u001b[39m,\n\u001b[1;32m   5120\u001b[0m ) \u001b[38;5;241m-\u001b[39m\u001b[38;5;241m>\u001b[39m DataFrame \u001b[38;5;241m|\u001b[39m \u001b[38;5;28;01mNone\u001b[39;00m:\n\u001b[1;32m   5121\u001b[0m \u001b[38;5;250m    \u001b[39m\u001b[38;5;124;03m\"\"\"\u001b[39;00m\n\u001b[1;32m   5122\u001b[0m \u001b[38;5;124;03m    Drop specified labels from rows or columns.\u001b[39;00m\n\u001b[1;32m   5123\u001b[0m \n\u001b[0;32m   (...)\u001b[0m\n\u001b[1;32m   5256\u001b[0m \u001b[38;5;124;03m            weight  1.0     0.8\u001b[39;00m\n\u001b[1;32m   5257\u001b[0m \u001b[38;5;124;03m    \"\"\"\u001b[39;00m\n\u001b[0;32m-> 5258\u001b[0m     \u001b[38;5;28;01mreturn\u001b[39;00m \u001b[38;5;28;43msuper\u001b[39;49m\u001b[43m(\u001b[49m\u001b[43m)\u001b[49m\u001b[38;5;241;43m.\u001b[39;49m\u001b[43mdrop\u001b[49m\u001b[43m(\u001b[49m\n\u001b[1;32m   5259\u001b[0m \u001b[43m        \u001b[49m\u001b[43mlabels\u001b[49m\u001b[38;5;241;43m=\u001b[39;49m\u001b[43mlabels\u001b[49m\u001b[43m,\u001b[49m\n\u001b[1;32m   5260\u001b[0m \u001b[43m        \u001b[49m\u001b[43maxis\u001b[49m\u001b[38;5;241;43m=\u001b[39;49m\u001b[43maxis\u001b[49m\u001b[43m,\u001b[49m\n\u001b[1;32m   5261\u001b[0m \u001b[43m        \u001b[49m\u001b[43mindex\u001b[49m\u001b[38;5;241;43m=\u001b[39;49m\u001b[43mindex\u001b[49m\u001b[43m,\u001b[49m\n\u001b[1;32m   5262\u001b[0m \u001b[43m        \u001b[49m\u001b[43mcolumns\u001b[49m\u001b[38;5;241;43m=\u001b[39;49m\u001b[43mcolumns\u001b[49m\u001b[43m,\u001b[49m\n\u001b[1;32m   5263\u001b[0m \u001b[43m        \u001b[49m\u001b[43mlevel\u001b[49m\u001b[38;5;241;43m=\u001b[39;49m\u001b[43mlevel\u001b[49m\u001b[43m,\u001b[49m\n\u001b[1;32m   5264\u001b[0m \u001b[43m        \u001b[49m\u001b[43minplace\u001b[49m\u001b[38;5;241;43m=\u001b[39;49m\u001b[43minplace\u001b[49m\u001b[43m,\u001b[49m\n\u001b[1;32m   5265\u001b[0m \u001b[43m        \u001b[49m\u001b[43merrors\u001b[49m\u001b[38;5;241;43m=\u001b[39;49m\u001b[43merrors\u001b[49m\u001b[43m,\u001b[49m\n\u001b[1;32m   5266\u001b[0m \u001b[43m    \u001b[49m\u001b[43m)\u001b[49m\n",
      "File \u001b[0;32m~/anaconda3/envs/cnn/lib/python3.9/site-packages/pandas/core/generic.py:4549\u001b[0m, in \u001b[0;36mNDFrame.drop\u001b[0;34m(self, labels, axis, index, columns, level, inplace, errors)\u001b[0m\n\u001b[1;32m   4547\u001b[0m \u001b[38;5;28;01mfor\u001b[39;00m axis, labels \u001b[38;5;129;01min\u001b[39;00m axes\u001b[38;5;241m.\u001b[39mitems():\n\u001b[1;32m   4548\u001b[0m     \u001b[38;5;28;01mif\u001b[39;00m labels \u001b[38;5;129;01mis\u001b[39;00m \u001b[38;5;129;01mnot\u001b[39;00m \u001b[38;5;28;01mNone\u001b[39;00m:\n\u001b[0;32m-> 4549\u001b[0m         obj \u001b[38;5;241m=\u001b[39m \u001b[43mobj\u001b[49m\u001b[38;5;241;43m.\u001b[39;49m\u001b[43m_drop_axis\u001b[49m\u001b[43m(\u001b[49m\u001b[43mlabels\u001b[49m\u001b[43m,\u001b[49m\u001b[43m \u001b[49m\u001b[43maxis\u001b[49m\u001b[43m,\u001b[49m\u001b[43m \u001b[49m\u001b[43mlevel\u001b[49m\u001b[38;5;241;43m=\u001b[39;49m\u001b[43mlevel\u001b[49m\u001b[43m,\u001b[49m\u001b[43m \u001b[49m\u001b[43merrors\u001b[49m\u001b[38;5;241;43m=\u001b[39;49m\u001b[43merrors\u001b[49m\u001b[43m)\u001b[49m\n\u001b[1;32m   4551\u001b[0m \u001b[38;5;28;01mif\u001b[39;00m inplace:\n\u001b[1;32m   4552\u001b[0m     \u001b[38;5;28mself\u001b[39m\u001b[38;5;241m.\u001b[39m_update_inplace(obj)\n",
      "File \u001b[0;32m~/anaconda3/envs/cnn/lib/python3.9/site-packages/pandas/core/generic.py:4591\u001b[0m, in \u001b[0;36mNDFrame._drop_axis\u001b[0;34m(self, labels, axis, level, errors, only_slice)\u001b[0m\n\u001b[1;32m   4589\u001b[0m         new_axis \u001b[38;5;241m=\u001b[39m axis\u001b[38;5;241m.\u001b[39mdrop(labels, level\u001b[38;5;241m=\u001b[39mlevel, errors\u001b[38;5;241m=\u001b[39merrors)\n\u001b[1;32m   4590\u001b[0m     \u001b[38;5;28;01melse\u001b[39;00m:\n\u001b[0;32m-> 4591\u001b[0m         new_axis \u001b[38;5;241m=\u001b[39m \u001b[43maxis\u001b[49m\u001b[38;5;241;43m.\u001b[39;49m\u001b[43mdrop\u001b[49m\u001b[43m(\u001b[49m\u001b[43mlabels\u001b[49m\u001b[43m,\u001b[49m\u001b[43m \u001b[49m\u001b[43merrors\u001b[49m\u001b[38;5;241;43m=\u001b[39;49m\u001b[43merrors\u001b[49m\u001b[43m)\u001b[49m\n\u001b[1;32m   4592\u001b[0m     indexer \u001b[38;5;241m=\u001b[39m axis\u001b[38;5;241m.\u001b[39mget_indexer(new_axis)\n\u001b[1;32m   4594\u001b[0m \u001b[38;5;66;03m# Case for non-unique axis\u001b[39;00m\n\u001b[1;32m   4595\u001b[0m \u001b[38;5;28;01melse\u001b[39;00m:\n",
      "File \u001b[0;32m~/anaconda3/envs/cnn/lib/python3.9/site-packages/pandas/core/indexes/base.py:6699\u001b[0m, in \u001b[0;36mIndex.drop\u001b[0;34m(self, labels, errors)\u001b[0m\n\u001b[1;32m   6697\u001b[0m \u001b[38;5;28;01mif\u001b[39;00m mask\u001b[38;5;241m.\u001b[39many():\n\u001b[1;32m   6698\u001b[0m     \u001b[38;5;28;01mif\u001b[39;00m errors \u001b[38;5;241m!=\u001b[39m \u001b[38;5;124m\"\u001b[39m\u001b[38;5;124mignore\u001b[39m\u001b[38;5;124m\"\u001b[39m:\n\u001b[0;32m-> 6699\u001b[0m         \u001b[38;5;28;01mraise\u001b[39;00m \u001b[38;5;167;01mKeyError\u001b[39;00m(\u001b[38;5;124mf\u001b[39m\u001b[38;5;124m\"\u001b[39m\u001b[38;5;132;01m{\u001b[39;00m\u001b[38;5;28mlist\u001b[39m(labels[mask])\u001b[38;5;132;01m}\u001b[39;00m\u001b[38;5;124m not found in axis\u001b[39m\u001b[38;5;124m\"\u001b[39m)\n\u001b[1;32m   6700\u001b[0m     indexer \u001b[38;5;241m=\u001b[39m indexer[\u001b[38;5;241m~\u001b[39mmask]\n\u001b[1;32m   6701\u001b[0m \u001b[38;5;28;01mreturn\u001b[39;00m \u001b[38;5;28mself\u001b[39m\u001b[38;5;241m.\u001b[39mdelete(indexer)\n",
      "\u001b[0;31mKeyError\u001b[0m: \"['image_url', 'image_path', 'brand', 'product_title', 'class_label', 'color'] not found in axis\""
     ]
    }
   ],
   "source": [
    "df_diff = df_val.drop(labels=diff)"
   ]
  },
  {
   "cell_type": "code",
   "execution_count": 174,
   "id": "a927047f",
   "metadata": {},
   "outputs": [
    {
     "data": {
      "text/plain": [
       "7464"
      ]
     },
     "execution_count": 174,
     "metadata": {},
     "output_type": "execute_result"
    }
   ],
   "source": [
    "len(df_diff)"
   ]
  },
  {
   "cell_type": "code",
   "execution_count": 133,
   "id": "a138c1e3",
   "metadata": {},
   "outputs": [
    {
     "data": {
      "text/html": [
       "<div>\n",
       "<style scoped>\n",
       "    .dataframe tbody tr th:only-of-type {\n",
       "        vertical-align: middle;\n",
       "    }\n",
       "\n",
       "    .dataframe tbody tr th {\n",
       "        vertical-align: top;\n",
       "    }\n",
       "\n",
       "    .dataframe thead th {\n",
       "        text-align: right;\n",
       "    }\n",
       "</style>\n",
       "<table border=\"1\" class=\"dataframe\">\n",
       "  <thead>\n",
       "    <tr style=\"text-align: right;\">\n",
       "      <th></th>\n",
       "      <th>image_url</th>\n",
       "      <th>image_path</th>\n",
       "      <th>brand</th>\n",
       "      <th>product_title</th>\n",
       "      <th>class_label</th>\n",
       "      <th>color</th>\n",
       "    </tr>\n",
       "  </thead>\n",
       "  <tbody>\n",
       "    <tr>\n",
       "      <th>0</th>\n",
       "      <td>https://m.media-amazon.com/images/I/81LOPbFPiQ...</td>\n",
       "      <td>images/val/0.jpeg</td>\n",
       "      <td>Generic</td>\n",
       "      <td>Women's Khadi Cotton Saree With Blouse Piece (...</td>\n",
       "      <td>saree</td>\n",
       "      <td>NaN</td>\n",
       "    </tr>\n",
       "    <tr>\n",
       "      <th>1</th>\n",
       "      <td>https://m.media-amazon.com/images/I/81Q8Oktw4s...</td>\n",
       "      <td>images/val/1.jpeg</td>\n",
       "      <td>Yashvi Designer</td>\n",
       "      <td>Women's Net Saree With Unstitched Blouse Piece</td>\n",
       "      <td>saree</td>\n",
       "      <td>NaN</td>\n",
       "    </tr>\n",
       "    <tr>\n",
       "      <th>2</th>\n",
       "      <td>https://m.media-amazon.com/images/I/613S1YGCmo...</td>\n",
       "      <td>images/val/2.jpeg</td>\n",
       "      <td>Aarrah</td>\n",
       "      <td>Georgette Strip Print Saree[S_SHIKHA30021SR02_...</td>\n",
       "      <td>saree</td>\n",
       "      <td>NaN</td>\n",
       "    </tr>\n",
       "    <tr>\n",
       "      <th>3</th>\n",
       "      <td>https://m.media-amazon.com/images/I/819budhQl1...</td>\n",
       "      <td>images/val/3.jpeg</td>\n",
       "      <td>MIMOSA</td>\n",
       "      <td>Women's Patola Style Art Silk Saree (Green)</td>\n",
       "      <td>saree</td>\n",
       "      <td>NaN</td>\n",
       "    </tr>\n",
       "    <tr>\n",
       "      <th>4</th>\n",
       "      <td>https://m.media-amazon.com/images/I/61cAZ94ZQV...</td>\n",
       "      <td>images/val/4.jpeg</td>\n",
       "      <td>Generic</td>\n",
       "      <td>Women's Pure Hand Block Patola Printed Cotton ...</td>\n",
       "      <td>saree</td>\n",
       "      <td>NaN</td>\n",
       "    </tr>\n",
       "  </tbody>\n",
       "</table>\n",
       "</div>"
      ],
      "text/plain": [
       "                                           image_url         image_path  \\\n",
       "0  https://m.media-amazon.com/images/I/81LOPbFPiQ...  images/val/0.jpeg   \n",
       "1  https://m.media-amazon.com/images/I/81Q8Oktw4s...  images/val/1.jpeg   \n",
       "2  https://m.media-amazon.com/images/I/613S1YGCmo...  images/val/2.jpeg   \n",
       "3  https://m.media-amazon.com/images/I/819budhQl1...  images/val/3.jpeg   \n",
       "4  https://m.media-amazon.com/images/I/61cAZ94ZQV...  images/val/4.jpeg   \n",
       "\n",
       "             brand                                      product_title  \\\n",
       "0          Generic  Women's Khadi Cotton Saree With Blouse Piece (...   \n",
       "1  Yashvi Designer     Women's Net Saree With Unstitched Blouse Piece   \n",
       "2           Aarrah  Georgette Strip Print Saree[S_SHIKHA30021SR02_...   \n",
       "3           MIMOSA        Women's Patola Style Art Silk Saree (Green)   \n",
       "4          Generic  Women's Pure Hand Block Patola Printed Cotton ...   \n",
       "\n",
       "  class_label color  \n",
       "0       saree   NaN  \n",
       "1       saree   NaN  \n",
       "2       saree   NaN  \n",
       "3       saree   NaN  \n",
       "4       saree   NaN  "
      ]
     },
     "execution_count": 133,
     "metadata": {},
     "output_type": "execute_result"
    }
   ],
   "source": [
    "df_dhoti_diff.head()"
   ]
  },
  {
   "cell_type": "code",
   "execution_count": 167,
   "id": "12a1c823",
   "metadata": {},
   "outputs": [],
   "source": [
    "# Setting df_non_dhoti to df_val_revised with boolean value if 'dhoti' is not in any column\n",
    "df_non_dhoti = df_val.applymap(lambda x: 'dhoti' not in str(x).lower())"
   ]
  },
  {
   "cell_type": "code",
   "execution_count": null,
   "id": "c6db6057",
   "metadata": {},
   "outputs": [],
   "source": []
  },
  {
   "cell_type": "code",
   "execution_count": 171,
   "id": "0a5c881e",
   "metadata": {
    "scrolled": true
   },
   "outputs": [],
   "source": [
    "df_non_dhoti = df_non_dhoti[df_non_dhoti.class_label == 'dhoti_pants' ]"
   ]
  },
  {
   "cell_type": "code",
   "execution_count": 172,
   "id": "a2614d9b",
   "metadata": {},
   "outputs": [
    {
     "data": {
      "text/plain": [
       "0"
      ]
     },
     "execution_count": 172,
     "metadata": {},
     "output_type": "execute_result"
    }
   ],
   "source": [
    "len(df_non_dhoti)"
   ]
  },
  {
   "cell_type": "code",
   "execution_count": null,
   "id": "86b409a7",
   "metadata": {},
   "outputs": [],
   "source": []
  },
  {
   "cell_type": "code",
   "execution_count": null,
   "id": "dd54e689",
   "metadata": {},
   "outputs": [],
   "source": []
  },
  {
   "cell_type": "code",
   "execution_count": null,
   "id": "578348af",
   "metadata": {},
   "outputs": [],
   "source": []
  },
  {
   "cell_type": "code",
   "execution_count": null,
   "id": "b166ff8f",
   "metadata": {},
   "outputs": [],
   "source": []
  },
  {
   "cell_type": "code",
   "execution_count": null,
   "id": "7718cde3",
   "metadata": {},
   "outputs": [],
   "source": []
  },
  {
   "cell_type": "code",
   "execution_count": null,
   "id": "05b3adac",
   "metadata": {},
   "outputs": [],
   "source": []
  },
  {
   "cell_type": "code",
   "execution_count": null,
   "id": "89d40dd4",
   "metadata": {},
   "outputs": [],
   "source": []
  },
  {
   "cell_type": "code",
   "execution_count": null,
   "id": "a1a7579e",
   "metadata": {},
   "outputs": [],
   "source": []
  },
  {
   "cell_type": "code",
   "execution_count": null,
   "id": "8c029f36",
   "metadata": {},
   "outputs": [],
   "source": []
  },
  {
   "cell_type": "code",
   "execution_count": 164,
   "id": "ac25d958",
   "metadata": {},
   "outputs": [],
   "source": [
    "non_dhoti = df_non_dhoti.index"
   ]
  },
  {
   "cell_type": "code",
   "execution_count": 165,
   "id": "66aa3e21",
   "metadata": {},
   "outputs": [],
   "source": [
    "non_dhoti_diff = [x for x in dhoti_pants if x not in non_dhoti]"
   ]
  },
  {
   "cell_type": "code",
   "execution_count": 166,
   "id": "f122fa78",
   "metadata": {},
   "outputs": [
    {
     "data": {
      "text/plain": [
       "0"
      ]
     },
     "execution_count": 166,
     "metadata": {},
     "output_type": "execute_result"
    }
   ],
   "source": [
    "len(non_dhoti_diff)"
   ]
  },
  {
   "cell_type": "code",
   "execution_count": null,
   "id": "d72046e3",
   "metadata": {},
   "outputs": [],
   "source": [
    "df_val_revised = df_val_revised.drop([1383])"
   ]
  }
 ],
 "metadata": {
  "kernelspec": {
   "display_name": "Python 3 (ipykernel)",
   "language": "python",
   "name": "python3"
  },
  "language_info": {
   "codemirror_mode": {
    "name": "ipython",
    "version": 3
   },
   "file_extension": ".py",
   "mimetype": "text/x-python",
   "name": "python",
   "nbconvert_exporter": "python",
   "pygments_lexer": "ipython3",
   "version": "3.9.17"
  }
 },
 "nbformat": 4,
 "nbformat_minor": 5
}
