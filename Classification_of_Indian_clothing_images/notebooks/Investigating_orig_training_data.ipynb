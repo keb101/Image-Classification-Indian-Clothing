{
 "cells": [
  {
   "cell_type": "code",
   "execution_count": 1,
   "id": "da898559",
   "metadata": {},
   "outputs": [],
   "source": [
    "import pandas as pd\n",
    "import numpy as np\n",
    "import re\n",
    "import seaborn as sns\n",
    "import matplotlib.pyplot as plt"
   ]
  },
  {
   "cell_type": "code",
   "execution_count": 2,
   "id": "7fb55ebb",
   "metadata": {
    "scrolled": true
   },
   "outputs": [],
   "source": [
    "df = pd.read_json('/Users/butler/Documents/springboard_bootcamp/Classification_of_Indian_clothing_images/data/raw/train_data.json', lines=True)"
   ]
  },
  {
   "cell_type": "code",
   "execution_count": 3,
   "id": "9aea6efc",
   "metadata": {
    "scrolled": true
   },
   "outputs": [
    {
     "data": {
      "text/html": [
       "<div>\n",
       "<style scoped>\n",
       "    .dataframe tbody tr th:only-of-type {\n",
       "        vertical-align: middle;\n",
       "    }\n",
       "\n",
       "    .dataframe tbody tr th {\n",
       "        vertical-align: top;\n",
       "    }\n",
       "\n",
       "    .dataframe thead th {\n",
       "        text-align: right;\n",
       "    }\n",
       "</style>\n",
       "<table border=\"1\" class=\"dataframe\">\n",
       "  <thead>\n",
       "    <tr style=\"text-align: right;\">\n",
       "      <th></th>\n",
       "      <th>image_url</th>\n",
       "      <th>image_path</th>\n",
       "      <th>brand</th>\n",
       "      <th>product_title</th>\n",
       "      <th>class_label</th>\n",
       "      <th>color</th>\n",
       "    </tr>\n",
       "  </thead>\n",
       "  <tbody>\n",
       "    <tr>\n",
       "      <th>0</th>\n",
       "      <td>https://m.media-amazon.com/images/I/81XKaSKvly...</td>\n",
       "      <td>images/train/0.jpeg</td>\n",
       "      <td>Womanista</td>\n",
       "      <td>Women's Georgette Saree with Blouse Piece (TKI...</td>\n",
       "      <td>saree</td>\n",
       "      <td>NaN</td>\n",
       "    </tr>\n",
       "    <tr>\n",
       "      <th>1</th>\n",
       "      <td>https://m.media-amazon.com/images/I/91dDMDg+QT...</td>\n",
       "      <td>images/train/1.jpeg</td>\n",
       "      <td>Yashika</td>\n",
       "      <td>Women Linen Printed Sarees Free Size (BEE)</td>\n",
       "      <td>saree</td>\n",
       "      <td>NaN</td>\n",
       "    </tr>\n",
       "    <tr>\n",
       "      <th>2</th>\n",
       "      <td>https://m.media-amazon.com/images/I/71TJ9p46PV...</td>\n",
       "      <td>images/train/2.jpeg</td>\n",
       "      <td>Womanista</td>\n",
       "      <td>Organza Floral Print Saree with Blouse Piece(W...</td>\n",
       "      <td>saree</td>\n",
       "      <td>NaN</td>\n",
       "    </tr>\n",
       "    <tr>\n",
       "      <th>3</th>\n",
       "      <td>https://m.media-amazon.com/images/I/81Y+je7CEg...</td>\n",
       "      <td>images/train/3.jpeg</td>\n",
       "      <td>PERFECTBLUE</td>\n",
       "      <td>Women's Digital Cotton Linen Blend Saree with ...</td>\n",
       "      <td>saree</td>\n",
       "      <td>NaN</td>\n",
       "    </tr>\n",
       "    <tr>\n",
       "      <th>4</th>\n",
       "      <td>https://m.media-amazon.com/images/I/61B8o9Ulqp...</td>\n",
       "      <td>images/train/4.jpeg</td>\n",
       "      <td>VAIVIDHYAM</td>\n",
       "      <td>Designer Sarees Women's Banarasi Cotton Silk S...</td>\n",
       "      <td>saree</td>\n",
       "      <td>NaN</td>\n",
       "    </tr>\n",
       "  </tbody>\n",
       "</table>\n",
       "</div>"
      ],
      "text/plain": [
       "                                           image_url           image_path  \\\n",
       "0  https://m.media-amazon.com/images/I/81XKaSKvly...  images/train/0.jpeg   \n",
       "1  https://m.media-amazon.com/images/I/91dDMDg+QT...  images/train/1.jpeg   \n",
       "2  https://m.media-amazon.com/images/I/71TJ9p46PV...  images/train/2.jpeg   \n",
       "3  https://m.media-amazon.com/images/I/81Y+je7CEg...  images/train/3.jpeg   \n",
       "4  https://m.media-amazon.com/images/I/61B8o9Ulqp...  images/train/4.jpeg   \n",
       "\n",
       "         brand                                      product_title class_label  \\\n",
       "0    Womanista  Women's Georgette Saree with Blouse Piece (TKI...       saree   \n",
       "1      Yashika         Women Linen Printed Sarees Free Size (BEE)       saree   \n",
       "2    Womanista  Organza Floral Print Saree with Blouse Piece(W...       saree   \n",
       "3  PERFECTBLUE  Women's Digital Cotton Linen Blend Saree with ...       saree   \n",
       "4   VAIVIDHYAM  Designer Sarees Women's Banarasi Cotton Silk S...       saree   \n",
       "\n",
       "  color  \n",
       "0   NaN  \n",
       "1   NaN  \n",
       "2   NaN  \n",
       "3   NaN  \n",
       "4   NaN  "
      ]
     },
     "execution_count": 3,
     "metadata": {},
     "output_type": "execute_result"
    }
   ],
   "source": [
    "df.head()"
   ]
  },
  {
   "cell_type": "code",
   "execution_count": 4,
   "id": "3ee0f356",
   "metadata": {
    "scrolled": true
   },
   "outputs": [
    {
     "data": {
      "text/html": [
       "<div>\n",
       "<style scoped>\n",
       "    .dataframe tbody tr th:only-of-type {\n",
       "        vertical-align: middle;\n",
       "    }\n",
       "\n",
       "    .dataframe tbody tr th {\n",
       "        vertical-align: top;\n",
       "    }\n",
       "\n",
       "    .dataframe thead th {\n",
       "        text-align: right;\n",
       "    }\n",
       "</style>\n",
       "<table border=\"1\" class=\"dataframe\">\n",
       "  <thead>\n",
       "    <tr style=\"text-align: right;\">\n",
       "      <th></th>\n",
       "      <th>image_url</th>\n",
       "      <th>image_path</th>\n",
       "      <th>brand</th>\n",
       "      <th>product_title</th>\n",
       "      <th>class_label</th>\n",
       "      <th>color</th>\n",
       "    </tr>\n",
       "  </thead>\n",
       "  <tbody>\n",
       "    <tr>\n",
       "      <th>91161</th>\n",
       "      <td>https://rukminim1.flixcart.com/image/309/371/k...</td>\n",
       "      <td>images/train/91161.jpeg</td>\n",
       "      <td>AURELIA</td>\n",
       "      <td>Women Printed Pure Cotton Straight Kurta</td>\n",
       "      <td>women_kurta</td>\n",
       "      <td>Blue</td>\n",
       "    </tr>\n",
       "    <tr>\n",
       "      <th>91162</th>\n",
       "      <td>https://rukminim1.flixcart.com/image/309/371/k...</td>\n",
       "      <td>images/train/91162.jpeg</td>\n",
       "      <td>Prime clothing</td>\n",
       "      <td>Women Checkered Cotton Blend Straight Kurta</td>\n",
       "      <td>women_kurta</td>\n",
       "      <td>White</td>\n",
       "    </tr>\n",
       "    <tr>\n",
       "      <th>91163</th>\n",
       "      <td>https://rukminim1.flixcart.com/image/309/371/k...</td>\n",
       "      <td>images/train/91163.jpeg</td>\n",
       "      <td>Vrisa</td>\n",
       "      <td>Women Embroidered Georgette Straight Kurta</td>\n",
       "      <td>women_kurta</td>\n",
       "      <td>White</td>\n",
       "    </tr>\n",
       "    <tr>\n",
       "      <th>91164</th>\n",
       "      <td>https://rukminim1.flixcart.com/image/309/371/k...</td>\n",
       "      <td>images/train/91164.jpeg</td>\n",
       "      <td>HELLEN VELLEN</td>\n",
       "      <td>Women Printed Rayon A-line Kurta</td>\n",
       "      <td>women_kurta</td>\n",
       "      <td>Dark Blue</td>\n",
       "    </tr>\n",
       "    <tr>\n",
       "      <th>91165</th>\n",
       "      <td>https://rukminim1.flixcart.com/image/309/371/k...</td>\n",
       "      <td>images/train/91165.jpeg</td>\n",
       "      <td>NEW STYLISH</td>\n",
       "      <td>Women Printed Rayon Crepe Blend Straight Kurta</td>\n",
       "      <td>women_kurta</td>\n",
       "      <td>Dark Green</td>\n",
       "    </tr>\n",
       "  </tbody>\n",
       "</table>\n",
       "</div>"
      ],
      "text/plain": [
       "                                               image_url  \\\n",
       "91161  https://rukminim1.flixcart.com/image/309/371/k...   \n",
       "91162  https://rukminim1.flixcart.com/image/309/371/k...   \n",
       "91163  https://rukminim1.flixcart.com/image/309/371/k...   \n",
       "91164  https://rukminim1.flixcart.com/image/309/371/k...   \n",
       "91165  https://rukminim1.flixcart.com/image/309/371/k...   \n",
       "\n",
       "                    image_path           brand  \\\n",
       "91161  images/train/91161.jpeg         AURELIA   \n",
       "91162  images/train/91162.jpeg  Prime clothing   \n",
       "91163  images/train/91163.jpeg           Vrisa   \n",
       "91164  images/train/91164.jpeg   HELLEN VELLEN   \n",
       "91165  images/train/91165.jpeg     NEW STYLISH   \n",
       "\n",
       "                                        product_title  class_label       color  \n",
       "91161        Women Printed Pure Cotton Straight Kurta  women_kurta        Blue  \n",
       "91162     Women Checkered Cotton Blend Straight Kurta  women_kurta       White  \n",
       "91163      Women Embroidered Georgette Straight Kurta  women_kurta       White  \n",
       "91164                Women Printed Rayon A-line Kurta  women_kurta   Dark Blue  \n",
       "91165  Women Printed Rayon Crepe Blend Straight Kurta  women_kurta  Dark Green  "
      ]
     },
     "execution_count": 4,
     "metadata": {},
     "output_type": "execute_result"
    }
   ],
   "source": [
    "df.tail()"
   ]
  },
  {
   "cell_type": "code",
   "execution_count": 5,
   "id": "f591ddc8",
   "metadata": {},
   "outputs": [
    {
     "data": {
      "text/plain": [
       "(91166, 6)"
      ]
     },
     "execution_count": 5,
     "metadata": {},
     "output_type": "execute_result"
    }
   ],
   "source": [
    "df.shape"
   ]
  },
  {
   "cell_type": "code",
   "execution_count": 6,
   "id": "0e675d31",
   "metadata": {},
   "outputs": [
    {
     "data": {
      "text/plain": [
       "array(['saree', 'blouse', 'dhoti_pants', 'dupattas', 'gowns', 'kurta_men',\n",
       "       'leggings_and_salwars', 'lehenga', 'mojaris_men', 'mojaris_women',\n",
       "       'nehru_jackets', 'palazzos', 'petticoats', 'sherwanis',\n",
       "       'women_kurta'], dtype=object)"
      ]
     },
     "execution_count": 6,
     "metadata": {},
     "output_type": "execute_result"
    }
   ],
   "source": [
    "df.class_label.unique()"
   ]
  },
  {
   "cell_type": "code",
   "execution_count": 7,
   "id": "5628ecf9",
   "metadata": {},
   "outputs": [],
   "source": [
    "df_revised = df.copy()"
   ]
  },
  {
   "cell_type": "code",
   "execution_count": 8,
   "id": "0a9bd0a4",
   "metadata": {
    "scrolled": false
   },
   "outputs": [
    {
     "name": "stdout",
     "output_type": "stream",
     "text": [
      "<class 'pandas.core.frame.DataFrame'>\n",
      "RangeIndex: 91166 entries, 0 to 91165\n",
      "Data columns (total 6 columns):\n",
      " #   Column         Non-Null Count  Dtype \n",
      "---  ------         --------------  ----- \n",
      " 0   image_url      91166 non-null  object\n",
      " 1   image_path     91166 non-null  object\n",
      " 2   brand          91166 non-null  object\n",
      " 3   product_title  91166 non-null  object\n",
      " 4   class_label    91166 non-null  object\n",
      " 5   color          10002 non-null  object\n",
      "dtypes: object(6)\n",
      "memory usage: 4.2+ MB\n"
     ]
    }
   ],
   "source": [
    "df_revised.info()"
   ]
  },
  {
   "cell_type": "code",
   "execution_count": 10,
   "id": "8486f796",
   "metadata": {},
   "outputs": [],
   "source": [
    "df_revised = df_revised.reset_index(names='number')"
   ]
  },
  {
   "cell_type": "code",
   "execution_count": 11,
   "id": "869c82ef",
   "metadata": {},
   "outputs": [
    {
     "data": {
      "text/html": [
       "<div>\n",
       "<style scoped>\n",
       "    .dataframe tbody tr th:only-of-type {\n",
       "        vertical-align: middle;\n",
       "    }\n",
       "\n",
       "    .dataframe tbody tr th {\n",
       "        vertical-align: top;\n",
       "    }\n",
       "\n",
       "    .dataframe thead th {\n",
       "        text-align: right;\n",
       "    }\n",
       "</style>\n",
       "<table border=\"1\" class=\"dataframe\">\n",
       "  <thead>\n",
       "    <tr style=\"text-align: right;\">\n",
       "      <th></th>\n",
       "      <th>number</th>\n",
       "      <th>image_url</th>\n",
       "      <th>image_path</th>\n",
       "      <th>brand</th>\n",
       "      <th>product_title</th>\n",
       "      <th>class_label</th>\n",
       "      <th>color</th>\n",
       "    </tr>\n",
       "  </thead>\n",
       "  <tbody>\n",
       "    <tr>\n",
       "      <th>91161</th>\n",
       "      <td>91161</td>\n",
       "      <td>https://rukminim1.flixcart.com/image/309/371/k...</td>\n",
       "      <td>images/train/91161.jpeg</td>\n",
       "      <td>AURELIA</td>\n",
       "      <td>Women Printed Pure Cotton Straight Kurta</td>\n",
       "      <td>women_kurta</td>\n",
       "      <td>Blue</td>\n",
       "    </tr>\n",
       "    <tr>\n",
       "      <th>91162</th>\n",
       "      <td>91162</td>\n",
       "      <td>https://rukminim1.flixcart.com/image/309/371/k...</td>\n",
       "      <td>images/train/91162.jpeg</td>\n",
       "      <td>Prime clothing</td>\n",
       "      <td>Women Checkered Cotton Blend Straight Kurta</td>\n",
       "      <td>women_kurta</td>\n",
       "      <td>White</td>\n",
       "    </tr>\n",
       "    <tr>\n",
       "      <th>91163</th>\n",
       "      <td>91163</td>\n",
       "      <td>https://rukminim1.flixcart.com/image/309/371/k...</td>\n",
       "      <td>images/train/91163.jpeg</td>\n",
       "      <td>Vrisa</td>\n",
       "      <td>Women Embroidered Georgette Straight Kurta</td>\n",
       "      <td>women_kurta</td>\n",
       "      <td>White</td>\n",
       "    </tr>\n",
       "    <tr>\n",
       "      <th>91164</th>\n",
       "      <td>91164</td>\n",
       "      <td>https://rukminim1.flixcart.com/image/309/371/k...</td>\n",
       "      <td>images/train/91164.jpeg</td>\n",
       "      <td>HELLEN VELLEN</td>\n",
       "      <td>Women Printed Rayon A-line Kurta</td>\n",
       "      <td>women_kurta</td>\n",
       "      <td>Dark Blue</td>\n",
       "    </tr>\n",
       "    <tr>\n",
       "      <th>91165</th>\n",
       "      <td>91165</td>\n",
       "      <td>https://rukminim1.flixcart.com/image/309/371/k...</td>\n",
       "      <td>images/train/91165.jpeg</td>\n",
       "      <td>NEW STYLISH</td>\n",
       "      <td>Women Printed Rayon Crepe Blend Straight Kurta</td>\n",
       "      <td>women_kurta</td>\n",
       "      <td>Dark Green</td>\n",
       "    </tr>\n",
       "  </tbody>\n",
       "</table>\n",
       "</div>"
      ],
      "text/plain": [
       "       number                                          image_url  \\\n",
       "91161   91161  https://rukminim1.flixcart.com/image/309/371/k...   \n",
       "91162   91162  https://rukminim1.flixcart.com/image/309/371/k...   \n",
       "91163   91163  https://rukminim1.flixcart.com/image/309/371/k...   \n",
       "91164   91164  https://rukminim1.flixcart.com/image/309/371/k...   \n",
       "91165   91165  https://rukminim1.flixcart.com/image/309/371/k...   \n",
       "\n",
       "                    image_path           brand  \\\n",
       "91161  images/train/91161.jpeg         AURELIA   \n",
       "91162  images/train/91162.jpeg  Prime clothing   \n",
       "91163  images/train/91163.jpeg           Vrisa   \n",
       "91164  images/train/91164.jpeg   HELLEN VELLEN   \n",
       "91165  images/train/91165.jpeg     NEW STYLISH   \n",
       "\n",
       "                                        product_title  class_label       color  \n",
       "91161        Women Printed Pure Cotton Straight Kurta  women_kurta        Blue  \n",
       "91162     Women Checkered Cotton Blend Straight Kurta  women_kurta       White  \n",
       "91163      Women Embroidered Georgette Straight Kurta  women_kurta       White  \n",
       "91164                Women Printed Rayon A-line Kurta  women_kurta   Dark Blue  \n",
       "91165  Women Printed Rayon Crepe Blend Straight Kurta  women_kurta  Dark Green  "
      ]
     },
     "execution_count": 11,
     "metadata": {},
     "output_type": "execute_result"
    }
   ],
   "source": [
    "df_revised.tail()"
   ]
  },
  {
   "cell_type": "code",
   "execution_count": 12,
   "id": "e8d9b487",
   "metadata": {},
   "outputs": [
    {
     "data": {
      "text/html": [
       "<div>\n",
       "<style scoped>\n",
       "    .dataframe tbody tr th:only-of-type {\n",
       "        vertical-align: middle;\n",
       "    }\n",
       "\n",
       "    .dataframe tbody tr th {\n",
       "        vertical-align: top;\n",
       "    }\n",
       "\n",
       "    .dataframe thead th {\n",
       "        text-align: right;\n",
       "    }\n",
       "</style>\n",
       "<table border=\"1\" class=\"dataframe\">\n",
       "  <thead>\n",
       "    <tr style=\"text-align: right;\">\n",
       "      <th></th>\n",
       "      <th>number</th>\n",
       "      <th>image_url</th>\n",
       "      <th>image_path</th>\n",
       "      <th>brand</th>\n",
       "      <th>product_title</th>\n",
       "      <th>class_label</th>\n",
       "      <th>color</th>\n",
       "    </tr>\n",
       "  </thead>\n",
       "  <tbody>\n",
       "    <tr>\n",
       "      <th>91161</th>\n",
       "      <td>91161</td>\n",
       "      <td>https://rukminim1.flixcart.com/image/309/371/k...</td>\n",
       "      <td>images/train/91161.jpeg</td>\n",
       "      <td>AURELIA</td>\n",
       "      <td>Women Printed Pure Cotton Straight Kurta</td>\n",
       "      <td>women_kurta</td>\n",
       "      <td>Blue</td>\n",
       "    </tr>\n",
       "    <tr>\n",
       "      <th>91162</th>\n",
       "      <td>91162</td>\n",
       "      <td>https://rukminim1.flixcart.com/image/309/371/k...</td>\n",
       "      <td>images/train/91162.jpeg</td>\n",
       "      <td>Prime clothing</td>\n",
       "      <td>Women Checkered Cotton Blend Straight Kurta</td>\n",
       "      <td>women_kurta</td>\n",
       "      <td>White</td>\n",
       "    </tr>\n",
       "    <tr>\n",
       "      <th>91163</th>\n",
       "      <td>91163</td>\n",
       "      <td>https://rukminim1.flixcart.com/image/309/371/k...</td>\n",
       "      <td>images/train/91163.jpeg</td>\n",
       "      <td>Vrisa</td>\n",
       "      <td>Women Embroidered Georgette Straight Kurta</td>\n",
       "      <td>women_kurta</td>\n",
       "      <td>White</td>\n",
       "    </tr>\n",
       "    <tr>\n",
       "      <th>91164</th>\n",
       "      <td>91164</td>\n",
       "      <td>https://rukminim1.flixcart.com/image/309/371/k...</td>\n",
       "      <td>images/train/91164.jpeg</td>\n",
       "      <td>HELLEN VELLEN</td>\n",
       "      <td>Women Printed Rayon A-line Kurta</td>\n",
       "      <td>women_kurta</td>\n",
       "      <td>Dark Blue</td>\n",
       "    </tr>\n",
       "    <tr>\n",
       "      <th>91165</th>\n",
       "      <td>91165</td>\n",
       "      <td>https://rukminim1.flixcart.com/image/309/371/k...</td>\n",
       "      <td>images/train/91165.jpeg</td>\n",
       "      <td>NEW STYLISH</td>\n",
       "      <td>Women Printed Rayon Crepe Blend Straight Kurta</td>\n",
       "      <td>women_kurta</td>\n",
       "      <td>Dark Green</td>\n",
       "    </tr>\n",
       "  </tbody>\n",
       "</table>\n",
       "</div>"
      ],
      "text/plain": [
       "       number                                          image_url  \\\n",
       "91161   91161  https://rukminim1.flixcart.com/image/309/371/k...   \n",
       "91162   91162  https://rukminim1.flixcart.com/image/309/371/k...   \n",
       "91163   91163  https://rukminim1.flixcart.com/image/309/371/k...   \n",
       "91164   91164  https://rukminim1.flixcart.com/image/309/371/k...   \n",
       "91165   91165  https://rukminim1.flixcart.com/image/309/371/k...   \n",
       "\n",
       "                    image_path           brand  \\\n",
       "91161  images/train/91161.jpeg         AURELIA   \n",
       "91162  images/train/91162.jpeg  Prime clothing   \n",
       "91163  images/train/91163.jpeg           Vrisa   \n",
       "91164  images/train/91164.jpeg   HELLEN VELLEN   \n",
       "91165  images/train/91165.jpeg     NEW STYLISH   \n",
       "\n",
       "                                        product_title  class_label       color  \n",
       "91161        Women Printed Pure Cotton Straight Kurta  women_kurta        Blue  \n",
       "91162     Women Checkered Cotton Blend Straight Kurta  women_kurta       White  \n",
       "91163      Women Embroidered Georgette Straight Kurta  women_kurta       White  \n",
       "91164                Women Printed Rayon A-line Kurta  women_kurta   Dark Blue  \n",
       "91165  Women Printed Rayon Crepe Blend Straight Kurta  women_kurta  Dark Green  "
      ]
     },
     "execution_count": 12,
     "metadata": {},
     "output_type": "execute_result"
    }
   ],
   "source": [
    "df_revised.tail()"
   ]
  },
  {
   "cell_type": "code",
   "execution_count": 13,
   "id": "c0d0b765",
   "metadata": {},
   "outputs": [],
   "source": [
    "columns = ['kurta', 'women', 'men', 'dhoti', 'saree', 'sherwani', 'palazzo', \n",
    "           'mojari', 'nehru', 'legging', 'salwar', 'petticoat', 'blouse', \n",
    "           'dupatta', 'gown','lehenga']\n"
   ]
  },
  {
   "cell_type": "code",
   "execution_count": 14,
   "id": "c5712d3a",
   "metadata": {},
   "outputs": [],
   "source": [
    "for column in columns:\n",
    "    df_revised[str(column)] = df_revised.product_title.str.contains(str(column), flags=re.IGNORECASE)"
   ]
  },
  {
   "cell_type": "code",
   "execution_count": 15,
   "id": "6aaf6ef8",
   "metadata": {
    "scrolled": false
   },
   "outputs": [
    {
     "data": {
      "text/html": [
       "<div>\n",
       "<style scoped>\n",
       "    .dataframe tbody tr th:only-of-type {\n",
       "        vertical-align: middle;\n",
       "    }\n",
       "\n",
       "    .dataframe tbody tr th {\n",
       "        vertical-align: top;\n",
       "    }\n",
       "\n",
       "    .dataframe thead th {\n",
       "        text-align: right;\n",
       "    }\n",
       "</style>\n",
       "<table border=\"1\" class=\"dataframe\">\n",
       "  <thead>\n",
       "    <tr style=\"text-align: right;\">\n",
       "      <th></th>\n",
       "      <th>number</th>\n",
       "      <th>image_url</th>\n",
       "      <th>image_path</th>\n",
       "      <th>brand</th>\n",
       "      <th>product_title</th>\n",
       "      <th>class_label</th>\n",
       "      <th>color</th>\n",
       "      <th>kurta</th>\n",
       "      <th>women</th>\n",
       "      <th>men</th>\n",
       "      <th>...</th>\n",
       "      <th>palazzo</th>\n",
       "      <th>mojari</th>\n",
       "      <th>nehru</th>\n",
       "      <th>legging</th>\n",
       "      <th>salwar</th>\n",
       "      <th>petticoat</th>\n",
       "      <th>blouse</th>\n",
       "      <th>dupatta</th>\n",
       "      <th>gown</th>\n",
       "      <th>lehenga</th>\n",
       "    </tr>\n",
       "  </thead>\n",
       "  <tbody>\n",
       "    <tr>\n",
       "      <th>0</th>\n",
       "      <td>0</td>\n",
       "      <td>https://m.media-amazon.com/images/I/81XKaSKvly...</td>\n",
       "      <td>images/train/0.jpeg</td>\n",
       "      <td>Womanista</td>\n",
       "      <td>Women's Georgette Saree with Blouse Piece (TKI...</td>\n",
       "      <td>saree</td>\n",
       "      <td>NaN</td>\n",
       "      <td>False</td>\n",
       "      <td>True</td>\n",
       "      <td>True</td>\n",
       "      <td>...</td>\n",
       "      <td>False</td>\n",
       "      <td>False</td>\n",
       "      <td>False</td>\n",
       "      <td>False</td>\n",
       "      <td>False</td>\n",
       "      <td>False</td>\n",
       "      <td>True</td>\n",
       "      <td>False</td>\n",
       "      <td>False</td>\n",
       "      <td>False</td>\n",
       "    </tr>\n",
       "    <tr>\n",
       "      <th>1</th>\n",
       "      <td>1</td>\n",
       "      <td>https://m.media-amazon.com/images/I/91dDMDg+QT...</td>\n",
       "      <td>images/train/1.jpeg</td>\n",
       "      <td>Yashika</td>\n",
       "      <td>Women Linen Printed Sarees Free Size (BEE)</td>\n",
       "      <td>saree</td>\n",
       "      <td>NaN</td>\n",
       "      <td>False</td>\n",
       "      <td>True</td>\n",
       "      <td>True</td>\n",
       "      <td>...</td>\n",
       "      <td>False</td>\n",
       "      <td>False</td>\n",
       "      <td>False</td>\n",
       "      <td>False</td>\n",
       "      <td>False</td>\n",
       "      <td>False</td>\n",
       "      <td>False</td>\n",
       "      <td>False</td>\n",
       "      <td>False</td>\n",
       "      <td>False</td>\n",
       "    </tr>\n",
       "    <tr>\n",
       "      <th>2</th>\n",
       "      <td>2</td>\n",
       "      <td>https://m.media-amazon.com/images/I/71TJ9p46PV...</td>\n",
       "      <td>images/train/2.jpeg</td>\n",
       "      <td>Womanista</td>\n",
       "      <td>Organza Floral Print Saree with Blouse Piece(W...</td>\n",
       "      <td>saree</td>\n",
       "      <td>NaN</td>\n",
       "      <td>False</td>\n",
       "      <td>False</td>\n",
       "      <td>False</td>\n",
       "      <td>...</td>\n",
       "      <td>False</td>\n",
       "      <td>False</td>\n",
       "      <td>False</td>\n",
       "      <td>False</td>\n",
       "      <td>False</td>\n",
       "      <td>False</td>\n",
       "      <td>True</td>\n",
       "      <td>False</td>\n",
       "      <td>False</td>\n",
       "      <td>False</td>\n",
       "    </tr>\n",
       "    <tr>\n",
       "      <th>3</th>\n",
       "      <td>3</td>\n",
       "      <td>https://m.media-amazon.com/images/I/81Y+je7CEg...</td>\n",
       "      <td>images/train/3.jpeg</td>\n",
       "      <td>PERFECTBLUE</td>\n",
       "      <td>Women's Digital Cotton Linen Blend Saree with ...</td>\n",
       "      <td>saree</td>\n",
       "      <td>NaN</td>\n",
       "      <td>False</td>\n",
       "      <td>True</td>\n",
       "      <td>True</td>\n",
       "      <td>...</td>\n",
       "      <td>False</td>\n",
       "      <td>False</td>\n",
       "      <td>False</td>\n",
       "      <td>False</td>\n",
       "      <td>False</td>\n",
       "      <td>False</td>\n",
       "      <td>True</td>\n",
       "      <td>False</td>\n",
       "      <td>False</td>\n",
       "      <td>False</td>\n",
       "    </tr>\n",
       "    <tr>\n",
       "      <th>4</th>\n",
       "      <td>4</td>\n",
       "      <td>https://m.media-amazon.com/images/I/61B8o9Ulqp...</td>\n",
       "      <td>images/train/4.jpeg</td>\n",
       "      <td>VAIVIDHYAM</td>\n",
       "      <td>Designer Sarees Women's Banarasi Cotton Silk S...</td>\n",
       "      <td>saree</td>\n",
       "      <td>NaN</td>\n",
       "      <td>False</td>\n",
       "      <td>True</td>\n",
       "      <td>True</td>\n",
       "      <td>...</td>\n",
       "      <td>False</td>\n",
       "      <td>False</td>\n",
       "      <td>False</td>\n",
       "      <td>False</td>\n",
       "      <td>False</td>\n",
       "      <td>False</td>\n",
       "      <td>True</td>\n",
       "      <td>False</td>\n",
       "      <td>False</td>\n",
       "      <td>False</td>\n",
       "    </tr>\n",
       "  </tbody>\n",
       "</table>\n",
       "<p>5 rows × 23 columns</p>\n",
       "</div>"
      ],
      "text/plain": [
       "   number                                          image_url  \\\n",
       "0       0  https://m.media-amazon.com/images/I/81XKaSKvly...   \n",
       "1       1  https://m.media-amazon.com/images/I/91dDMDg+QT...   \n",
       "2       2  https://m.media-amazon.com/images/I/71TJ9p46PV...   \n",
       "3       3  https://m.media-amazon.com/images/I/81Y+je7CEg...   \n",
       "4       4  https://m.media-amazon.com/images/I/61B8o9Ulqp...   \n",
       "\n",
       "            image_path        brand  \\\n",
       "0  images/train/0.jpeg    Womanista   \n",
       "1  images/train/1.jpeg      Yashika   \n",
       "2  images/train/2.jpeg    Womanista   \n",
       "3  images/train/3.jpeg  PERFECTBLUE   \n",
       "4  images/train/4.jpeg   VAIVIDHYAM   \n",
       "\n",
       "                                       product_title class_label color  kurta  \\\n",
       "0  Women's Georgette Saree with Blouse Piece (TKI...       saree   NaN  False   \n",
       "1         Women Linen Printed Sarees Free Size (BEE)       saree   NaN  False   \n",
       "2  Organza Floral Print Saree with Blouse Piece(W...       saree   NaN  False   \n",
       "3  Women's Digital Cotton Linen Blend Saree with ...       saree   NaN  False   \n",
       "4  Designer Sarees Women's Banarasi Cotton Silk S...       saree   NaN  False   \n",
       "\n",
       "   women    men  ...  palazzo  mojari  nehru  legging  salwar  petticoat  \\\n",
       "0   True   True  ...    False   False  False    False   False      False   \n",
       "1   True   True  ...    False   False  False    False   False      False   \n",
       "2  False  False  ...    False   False  False    False   False      False   \n",
       "3   True   True  ...    False   False  False    False   False      False   \n",
       "4   True   True  ...    False   False  False    False   False      False   \n",
       "\n",
       "   blouse  dupatta   gown  lehenga  \n",
       "0    True    False  False    False  \n",
       "1   False    False  False    False  \n",
       "2    True    False  False    False  \n",
       "3    True    False  False    False  \n",
       "4    True    False  False    False  \n",
       "\n",
       "[5 rows x 23 columns]"
      ]
     },
     "execution_count": 15,
     "metadata": {},
     "output_type": "execute_result"
    }
   ],
   "source": [
    "df_revised.head()"
   ]
  },
  {
   "cell_type": "code",
   "execution_count": 16,
   "id": "09a7a8c1",
   "metadata": {},
   "outputs": [
    {
     "data": {
      "text/plain": [
       "(68812, 23)"
      ]
     },
     "execution_count": 16,
     "metadata": {},
     "output_type": "execute_result"
    }
   ],
   "source": [
    "df_revised_men = df_revised[df_revised.men == True]\n",
    "df_revised_men.shape"
   ]
  },
  {
   "cell_type": "code",
   "execution_count": 17,
   "id": "69f99f11",
   "metadata": {
    "scrolled": true
   },
   "outputs": [
    {
     "data": {
      "text/plain": [
       "number                                                           0\n",
       "image_url        https://m.media-amazon.com/images/I/81XKaSKvly...\n",
       "image_path                                     images/train/0.jpeg\n",
       "brand                                                    Womanista\n",
       "product_title    Women's Georgette Saree with Blouse Piece (TKI...\n",
       "class_label                                                  saree\n",
       "color                                                          NaN\n",
       "kurta                                                        False\n",
       "women                                                         True\n",
       "men                                                           True\n",
       "dhoti                                                        False\n",
       "saree                                                         True\n",
       "sherwani                                                     False\n",
       "palazzo                                                      False\n",
       "mojari                                                       False\n",
       "nehru                                                        False\n",
       "legging                                                      False\n",
       "salwar                                                       False\n",
       "petticoat                                                    False\n",
       "blouse                                                        True\n",
       "dupatta                                                      False\n",
       "gown                                                         False\n",
       "lehenga                                                      False\n",
       "Name: 0, dtype: object"
      ]
     },
     "execution_count": 17,
     "metadata": {},
     "output_type": "execute_result"
    }
   ],
   "source": [
    "df_revised_men.loc[0]"
   ]
  },
  {
   "cell_type": "code",
   "execution_count": 18,
   "id": "3b51751c",
   "metadata": {},
   "outputs": [
    {
     "data": {
      "text/plain": [
       "Index(['number', 'image_url', 'image_path', 'brand', 'product_title',\n",
       "       'class_label', 'color', 'kurta', 'women', 'men', 'dhoti', 'saree',\n",
       "       'sherwani', 'palazzo', 'mojari', 'nehru', 'legging', 'salwar',\n",
       "       'petticoat', 'blouse', 'dupatta', 'gown', 'lehenga'],\n",
       "      dtype='object')"
      ]
     },
     "execution_count": 18,
     "metadata": {},
     "output_type": "execute_result"
    }
   ],
   "source": [
    "df_revised_men.columns"
   ]
  },
  {
   "cell_type": "code",
   "execution_count": 20,
   "id": "75b86d9d",
   "metadata": {},
   "outputs": [],
   "source": [
    "c1 = (df_revised['men'] == True) \n",
    "c2 = (df_revised['women'] == True)\n",
    "\n",
    "df_revised_men.loc[c1 & c2, 'men'] = False"
   ]
  },
  {
   "cell_type": "code",
   "execution_count": 21,
   "id": "d564f39d",
   "metadata": {},
   "outputs": [],
   "source": [
    "df_revised_men = df_revised[df_revised.men == True]"
   ]
  },
  {
   "cell_type": "code",
   "execution_count": 22,
   "id": "7e0ed715",
   "metadata": {
    "scrolled": true
   },
   "outputs": [
    {
     "data": {
      "text/plain": [
       "(68812, 23)"
      ]
     },
     "execution_count": 22,
     "metadata": {},
     "output_type": "execute_result"
    }
   ],
   "source": [
    "df_revised_men.shape"
   ]
  },
  {
   "cell_type": "code",
   "execution_count": 23,
   "id": "c51b4c01",
   "metadata": {
    "scrolled": true
   },
   "outputs": [
    {
     "data": {
      "text/html": [
       "<div>\n",
       "<style scoped>\n",
       "    .dataframe tbody tr th:only-of-type {\n",
       "        vertical-align: middle;\n",
       "    }\n",
       "\n",
       "    .dataframe tbody tr th {\n",
       "        vertical-align: top;\n",
       "    }\n",
       "\n",
       "    .dataframe thead th {\n",
       "        text-align: right;\n",
       "    }\n",
       "</style>\n",
       "<table border=\"1\" class=\"dataframe\">\n",
       "  <thead>\n",
       "    <tr style=\"text-align: right;\">\n",
       "      <th></th>\n",
       "      <th>number</th>\n",
       "      <th>image_url</th>\n",
       "      <th>image_path</th>\n",
       "      <th>brand</th>\n",
       "      <th>product_title</th>\n",
       "      <th>class_label</th>\n",
       "      <th>color</th>\n",
       "      <th>kurta</th>\n",
       "      <th>women</th>\n",
       "      <th>men</th>\n",
       "      <th>...</th>\n",
       "      <th>palazzo</th>\n",
       "      <th>mojari</th>\n",
       "      <th>nehru</th>\n",
       "      <th>legging</th>\n",
       "      <th>salwar</th>\n",
       "      <th>petticoat</th>\n",
       "      <th>blouse</th>\n",
       "      <th>dupatta</th>\n",
       "      <th>gown</th>\n",
       "      <th>lehenga</th>\n",
       "    </tr>\n",
       "  </thead>\n",
       "  <tbody>\n",
       "    <tr>\n",
       "      <th>0</th>\n",
       "      <td>0</td>\n",
       "      <td>https://m.media-amazon.com/images/I/81XKaSKvly...</td>\n",
       "      <td>images/train/0.jpeg</td>\n",
       "      <td>Womanista</td>\n",
       "      <td>Women's Georgette Saree with Blouse Piece (TKI...</td>\n",
       "      <td>saree</td>\n",
       "      <td>NaN</td>\n",
       "      <td>False</td>\n",
       "      <td>True</td>\n",
       "      <td>True</td>\n",
       "      <td>...</td>\n",
       "      <td>False</td>\n",
       "      <td>False</td>\n",
       "      <td>False</td>\n",
       "      <td>False</td>\n",
       "      <td>False</td>\n",
       "      <td>False</td>\n",
       "      <td>True</td>\n",
       "      <td>False</td>\n",
       "      <td>False</td>\n",
       "      <td>False</td>\n",
       "    </tr>\n",
       "    <tr>\n",
       "      <th>1</th>\n",
       "      <td>1</td>\n",
       "      <td>https://m.media-amazon.com/images/I/91dDMDg+QT...</td>\n",
       "      <td>images/train/1.jpeg</td>\n",
       "      <td>Yashika</td>\n",
       "      <td>Women Linen Printed Sarees Free Size (BEE)</td>\n",
       "      <td>saree</td>\n",
       "      <td>NaN</td>\n",
       "      <td>False</td>\n",
       "      <td>True</td>\n",
       "      <td>True</td>\n",
       "      <td>...</td>\n",
       "      <td>False</td>\n",
       "      <td>False</td>\n",
       "      <td>False</td>\n",
       "      <td>False</td>\n",
       "      <td>False</td>\n",
       "      <td>False</td>\n",
       "      <td>False</td>\n",
       "      <td>False</td>\n",
       "      <td>False</td>\n",
       "      <td>False</td>\n",
       "    </tr>\n",
       "    <tr>\n",
       "      <th>3</th>\n",
       "      <td>3</td>\n",
       "      <td>https://m.media-amazon.com/images/I/81Y+je7CEg...</td>\n",
       "      <td>images/train/3.jpeg</td>\n",
       "      <td>PERFECTBLUE</td>\n",
       "      <td>Women's Digital Cotton Linen Blend Saree with ...</td>\n",
       "      <td>saree</td>\n",
       "      <td>NaN</td>\n",
       "      <td>False</td>\n",
       "      <td>True</td>\n",
       "      <td>True</td>\n",
       "      <td>...</td>\n",
       "      <td>False</td>\n",
       "      <td>False</td>\n",
       "      <td>False</td>\n",
       "      <td>False</td>\n",
       "      <td>False</td>\n",
       "      <td>False</td>\n",
       "      <td>True</td>\n",
       "      <td>False</td>\n",
       "      <td>False</td>\n",
       "      <td>False</td>\n",
       "    </tr>\n",
       "    <tr>\n",
       "      <th>4</th>\n",
       "      <td>4</td>\n",
       "      <td>https://m.media-amazon.com/images/I/61B8o9Ulqp...</td>\n",
       "      <td>images/train/4.jpeg</td>\n",
       "      <td>VAIVIDHYAM</td>\n",
       "      <td>Designer Sarees Women's Banarasi Cotton Silk S...</td>\n",
       "      <td>saree</td>\n",
       "      <td>NaN</td>\n",
       "      <td>False</td>\n",
       "      <td>True</td>\n",
       "      <td>True</td>\n",
       "      <td>...</td>\n",
       "      <td>False</td>\n",
       "      <td>False</td>\n",
       "      <td>False</td>\n",
       "      <td>False</td>\n",
       "      <td>False</td>\n",
       "      <td>False</td>\n",
       "      <td>True</td>\n",
       "      <td>False</td>\n",
       "      <td>False</td>\n",
       "      <td>False</td>\n",
       "    </tr>\n",
       "    <tr>\n",
       "      <th>5</th>\n",
       "      <td>5</td>\n",
       "      <td>https://m.media-amazon.com/images/I/91C7ifVdSC...</td>\n",
       "      <td>images/train/5.jpeg</td>\n",
       "      <td>COTTON SHOPY</td>\n",
       "      <td>Women's Chiffon Poly Silk Tant Solid Fashion S...</td>\n",
       "      <td>saree</td>\n",
       "      <td>NaN</td>\n",
       "      <td>False</td>\n",
       "      <td>True</td>\n",
       "      <td>True</td>\n",
       "      <td>...</td>\n",
       "      <td>False</td>\n",
       "      <td>False</td>\n",
       "      <td>False</td>\n",
       "      <td>False</td>\n",
       "      <td>False</td>\n",
       "      <td>False</td>\n",
       "      <td>True</td>\n",
       "      <td>False</td>\n",
       "      <td>False</td>\n",
       "      <td>False</td>\n",
       "    </tr>\n",
       "  </tbody>\n",
       "</table>\n",
       "<p>5 rows × 23 columns</p>\n",
       "</div>"
      ],
      "text/plain": [
       "   number                                          image_url  \\\n",
       "0       0  https://m.media-amazon.com/images/I/81XKaSKvly...   \n",
       "1       1  https://m.media-amazon.com/images/I/91dDMDg+QT...   \n",
       "3       3  https://m.media-amazon.com/images/I/81Y+je7CEg...   \n",
       "4       4  https://m.media-amazon.com/images/I/61B8o9Ulqp...   \n",
       "5       5  https://m.media-amazon.com/images/I/91C7ifVdSC...   \n",
       "\n",
       "            image_path         brand  \\\n",
       "0  images/train/0.jpeg     Womanista   \n",
       "1  images/train/1.jpeg       Yashika   \n",
       "3  images/train/3.jpeg   PERFECTBLUE   \n",
       "4  images/train/4.jpeg    VAIVIDHYAM   \n",
       "5  images/train/5.jpeg  COTTON SHOPY   \n",
       "\n",
       "                                       product_title class_label color  kurta  \\\n",
       "0  Women's Georgette Saree with Blouse Piece (TKI...       saree   NaN  False   \n",
       "1         Women Linen Printed Sarees Free Size (BEE)       saree   NaN  False   \n",
       "3  Women's Digital Cotton Linen Blend Saree with ...       saree   NaN  False   \n",
       "4  Designer Sarees Women's Banarasi Cotton Silk S...       saree   NaN  False   \n",
       "5  Women's Chiffon Poly Silk Tant Solid Fashion S...       saree   NaN  False   \n",
       "\n",
       "   women   men  ...  palazzo  mojari  nehru  legging  salwar  petticoat  \\\n",
       "0   True  True  ...    False   False  False    False   False      False   \n",
       "1   True  True  ...    False   False  False    False   False      False   \n",
       "3   True  True  ...    False   False  False    False   False      False   \n",
       "4   True  True  ...    False   False  False    False   False      False   \n",
       "5   True  True  ...    False   False  False    False   False      False   \n",
       "\n",
       "   blouse  dupatta   gown  lehenga  \n",
       "0    True    False  False    False  \n",
       "1   False    False  False    False  \n",
       "3    True    False  False    False  \n",
       "4    True    False  False    False  \n",
       "5    True    False  False    False  \n",
       "\n",
       "[5 rows x 23 columns]"
      ]
     },
     "execution_count": 23,
     "metadata": {},
     "output_type": "execute_result"
    }
   ],
   "source": [
    "df_revised_men.head()"
   ]
  },
  {
   "cell_type": "code",
   "execution_count": 24,
   "id": "c993e279",
   "metadata": {},
   "outputs": [
    {
     "data": {
      "text/plain": [
       "'Organza Floral Print Saree with Blouse Piece(WM1312_ Off White & Pink_ Onesize)'"
      ]
     },
     "execution_count": 24,
     "metadata": {},
     "output_type": "execute_result"
    }
   ],
   "source": [
    "df_revised.iloc[2,4]"
   ]
  },
  {
   "cell_type": "code",
   "execution_count": 25,
   "id": "d47c4d2d",
   "metadata": {
    "scrolled": true
   },
   "outputs": [
    {
     "data": {
      "text/plain": [
       "'Women Linen Printed Sarees Free Size (BEE)'"
      ]
     },
     "execution_count": 25,
     "metadata": {},
     "output_type": "execute_result"
    }
   ],
   "source": [
    "df_revised.iloc[1,4]"
   ]
  },
  {
   "cell_type": "code",
   "execution_count": 26,
   "id": "1235c47a",
   "metadata": {
    "scrolled": true
   },
   "outputs": [
    {
     "data": {
      "text/plain": [
       "number                                                        1000\n",
       "image_url        https://m.media-amazon.com/images/I/81XspEuWhz...\n",
       "image_path                                  images/train/1000.jpeg\n",
       "brand                                                        KLARA\n",
       "product_title    Women's & Girl's Paithani Satin Saree With Blo...\n",
       "class_label                                                  saree\n",
       "color                                                          NaN\n",
       "kurta                                                        False\n",
       "women                                                         True\n",
       "men                                                           True\n",
       "dhoti                                                        False\n",
       "saree                                                         True\n",
       "sherwani                                                     False\n",
       "palazzo                                                      False\n",
       "mojari                                                       False\n",
       "nehru                                                        False\n",
       "legging                                                      False\n",
       "salwar                                                       False\n",
       "petticoat                                                    False\n",
       "blouse                                                        True\n",
       "dupatta                                                      False\n",
       "gown                                                         False\n",
       "lehenga                                                      False\n",
       "Name: 1000, dtype: object"
      ]
     },
     "execution_count": 26,
     "metadata": {},
     "output_type": "execute_result"
    }
   ],
   "source": [
    "df_revised.loc[1000]"
   ]
  },
  {
   "cell_type": "code",
   "execution_count": 28,
   "id": "7a4bbc98",
   "metadata": {
    "scrolled": true
   },
   "outputs": [
    {
     "data": {
      "text/plain": [
       "\"Women's & Girl's Paithani Satin Saree With Blouse Piece\""
      ]
     },
     "execution_count": 28,
     "metadata": {},
     "output_type": "execute_result"
    }
   ],
   "source": [
    "df_revised.iloc[1000,4]"
   ]
  },
  {
   "cell_type": "code",
   "execution_count": 29,
   "id": "46692f4f",
   "metadata": {},
   "outputs": [
    {
     "name": "stderr",
     "output_type": "stream",
     "text": [
      "/var/folders/nv/lggm200n09vgfy5n8_6lcz6c0000gn/T/ipykernel_34641/4044162676.py:1: SettingWithCopyWarning: \n",
      "A value is trying to be set on a copy of a slice from a DataFrame\n",
      "\n",
      "See the caveats in the documentation: https://pandas.pydata.org/pandas-docs/stable/user_guide/indexing.html#returning-a-view-versus-a-copy\n",
      "  df_revised.loc[1000]['women_kurta'] = [False]* 91166\n",
      "/var/folders/nv/lggm200n09vgfy5n8_6lcz6c0000gn/T/ipykernel_34641/4044162676.py:1: SettingWithCopyWarning: \n",
      "A value is trying to be set on a copy of a slice from a DataFrame\n",
      "\n",
      "See the caveats in the documentation: https://pandas.pydata.org/pandas-docs/stable/user_guide/indexing.html#returning-a-view-versus-a-copy\n",
      "  df_revised.loc[1000]['women_kurta'] = [False]* 91166\n"
     ]
    }
   ],
   "source": [
    "df_revised.loc[1000]['women_kurta'] = [False]* 91166"
   ]
  },
  {
   "cell_type": "code",
   "execution_count": 30,
   "id": "0d4dbb65",
   "metadata": {},
   "outputs": [
    {
     "name": "stderr",
     "output_type": "stream",
     "text": [
      "/var/folders/nv/lggm200n09vgfy5n8_6lcz6c0000gn/T/ipykernel_34641/3034344403.py:1: SettingWithCopyWarning: \n",
      "A value is trying to be set on a copy of a slice from a DataFrame\n",
      "\n",
      "See the caveats in the documentation: https://pandas.pydata.org/pandas-docs/stable/user_guide/indexing.html#returning-a-view-versus-a-copy\n",
      "  df_revised.loc[1000]['kurta_men'] = [False]* 91166\n",
      "/var/folders/nv/lggm200n09vgfy5n8_6lcz6c0000gn/T/ipykernel_34641/3034344403.py:1: SettingWithCopyWarning: \n",
      "A value is trying to be set on a copy of a slice from a DataFrame\n",
      "\n",
      "See the caveats in the documentation: https://pandas.pydata.org/pandas-docs/stable/user_guide/indexing.html#returning-a-view-versus-a-copy\n",
      "  df_revised.loc[1000]['kurta_men'] = [False]* 91166\n"
     ]
    }
   ],
   "source": [
    "df_revised.loc[1000]['kurta_men'] = [False]* 91166"
   ]
  },
  {
   "cell_type": "code",
   "execution_count": 31,
   "id": "98e24cce",
   "metadata": {},
   "outputs": [
    {
     "data": {
      "text/plain": [
       "number                                                        1000\n",
       "image_url        https://m.media-amazon.com/images/I/81XspEuWhz...\n",
       "image_path                                  images/train/1000.jpeg\n",
       "brand                                                        KLARA\n",
       "product_title    Women's & Girl's Paithani Satin Saree With Blo...\n",
       "Name: 1000, dtype: object"
      ]
     },
     "execution_count": 31,
     "metadata": {},
     "output_type": "execute_result"
    }
   ],
   "source": [
    "df_revised.loc[1000].head()"
   ]
  },
  {
   "cell_type": "code",
   "execution_count": null,
   "id": "5db1109d",
   "metadata": {},
   "outputs": [],
   "source": []
  },
  {
   "cell_type": "code",
   "execution_count": 32,
   "id": "98416d42",
   "metadata": {},
   "outputs": [],
   "source": [
    "c1 = (df_revised['kurta'] == True) \n",
    "c2 = (df_revised['women'] == True)\n",
    "\n",
    "\n",
    "df_revised.loc[c1 & c2, 'women_kurta'] = True"
   ]
  },
  {
   "cell_type": "code",
   "execution_count": 33,
   "id": "edf585ce",
   "metadata": {},
   "outputs": [],
   "source": [
    "df = df_revised[df_revised.women_kurta == True]"
   ]
  },
  {
   "cell_type": "code",
   "execution_count": 34,
   "id": "c05a0276",
   "metadata": {},
   "outputs": [
    {
     "data": {
      "text/plain": [
       "(9595, 24)"
      ]
     },
     "execution_count": 34,
     "metadata": {},
     "output_type": "execute_result"
    }
   ],
   "source": [
    "df.shape"
   ]
  },
  {
   "cell_type": "code",
   "execution_count": 35,
   "id": "8952e193",
   "metadata": {},
   "outputs": [],
   "source": [
    "c1 = (df_revised['kurta'] == True) \n",
    "c2 = (df_revised['men'] == True)\n",
    "\n",
    "\n",
    "df_revised.loc[c1 & c2, 'kurta_men'] = True"
   ]
  },
  {
   "cell_type": "code",
   "execution_count": 36,
   "id": "39ba9db0",
   "metadata": {},
   "outputs": [],
   "source": [
    "df_revised['mojaris_men'] = [False]*91166\n",
    "df_revised['mojaris_women'] = [False]*91166\n",
    "df_revised['leggings_and_salwars'] = [False]*91166"
   ]
  },
  {
   "cell_type": "code",
   "execution_count": 37,
   "id": "842aea22",
   "metadata": {},
   "outputs": [],
   "source": [
    "cn1 = (df_revised['mojari'] == True) \n",
    "c2 = (df_revised['women'] == True)\n",
    "\n",
    "\n",
    "df_revised.loc[c1 & c2, 'mojaris_women'] = True"
   ]
  },
  {
   "cell_type": "code",
   "execution_count": 38,
   "id": "1e23d1e2",
   "metadata": {},
   "outputs": [],
   "source": [
    "c1 = (df_revised['mojari'] == True) \n",
    "c2 = (df_revised['men'] == True)\n",
    "\n",
    "\n",
    "df_revised.loc[c1 & c2, 'mojaris_men'] = True"
   ]
  },
  {
   "cell_type": "code",
   "execution_count": 39,
   "id": "b18b251b",
   "metadata": {},
   "outputs": [],
   "source": [
    "c1 = (df_revised['legging'] == True) \n",
    "c2 = (df_revised['salwar'] == True)\n",
    "\n",
    "\n",
    "df_revised.loc[c1 | c2, 'leggings_and_salwars'] = True"
   ]
  },
  {
   "cell_type": "code",
   "execution_count": 40,
   "id": "df816450",
   "metadata": {},
   "outputs": [
    {
     "data": {
      "text/plain": [
       "2"
      ]
     },
     "execution_count": 40,
     "metadata": {},
     "output_type": "execute_result"
    }
   ],
   "source": [
    "df_revised.leggings_and_salwars.nunique()"
   ]
  },
  {
   "cell_type": "code",
   "execution_count": 41,
   "id": "8edb2ee5",
   "metadata": {},
   "outputs": [],
   "source": [
    "df_revised.drop(['men', 'women', 'legging','salwar','mojari'], axis=1, inplace=True)"
   ]
  },
  {
   "cell_type": "code",
   "execution_count": 42,
   "id": "d6f77395",
   "metadata": {
    "scrolled": true
   },
   "outputs": [
    {
     "data": {
      "text/html": [
       "<div>\n",
       "<style scoped>\n",
       "    .dataframe tbody tr th:only-of-type {\n",
       "        vertical-align: middle;\n",
       "    }\n",
       "\n",
       "    .dataframe tbody tr th {\n",
       "        vertical-align: top;\n",
       "    }\n",
       "\n",
       "    .dataframe thead th {\n",
       "        text-align: right;\n",
       "    }\n",
       "</style>\n",
       "<table border=\"1\" class=\"dataframe\">\n",
       "  <thead>\n",
       "    <tr style=\"text-align: right;\">\n",
       "      <th></th>\n",
       "      <th>number</th>\n",
       "      <th>image_url</th>\n",
       "      <th>image_path</th>\n",
       "      <th>brand</th>\n",
       "      <th>product_title</th>\n",
       "      <th>class_label</th>\n",
       "      <th>color</th>\n",
       "      <th>kurta</th>\n",
       "      <th>dhoti</th>\n",
       "      <th>saree</th>\n",
       "      <th>...</th>\n",
       "      <th>petticoat</th>\n",
       "      <th>blouse</th>\n",
       "      <th>dupatta</th>\n",
       "      <th>gown</th>\n",
       "      <th>lehenga</th>\n",
       "      <th>women_kurta</th>\n",
       "      <th>kurta_men</th>\n",
       "      <th>mojaris_men</th>\n",
       "      <th>mojaris_women</th>\n",
       "      <th>leggings_and_salwars</th>\n",
       "    </tr>\n",
       "  </thead>\n",
       "  <tbody>\n",
       "    <tr>\n",
       "      <th>0</th>\n",
       "      <td>0</td>\n",
       "      <td>https://m.media-amazon.com/images/I/81XKaSKvly...</td>\n",
       "      <td>images/train/0.jpeg</td>\n",
       "      <td>Womanista</td>\n",
       "      <td>Women's Georgette Saree with Blouse Piece (TKI...</td>\n",
       "      <td>saree</td>\n",
       "      <td>NaN</td>\n",
       "      <td>False</td>\n",
       "      <td>False</td>\n",
       "      <td>True</td>\n",
       "      <td>...</td>\n",
       "      <td>False</td>\n",
       "      <td>True</td>\n",
       "      <td>False</td>\n",
       "      <td>False</td>\n",
       "      <td>False</td>\n",
       "      <td>NaN</td>\n",
       "      <td>NaN</td>\n",
       "      <td>False</td>\n",
       "      <td>False</td>\n",
       "      <td>False</td>\n",
       "    </tr>\n",
       "    <tr>\n",
       "      <th>1</th>\n",
       "      <td>1</td>\n",
       "      <td>https://m.media-amazon.com/images/I/91dDMDg+QT...</td>\n",
       "      <td>images/train/1.jpeg</td>\n",
       "      <td>Yashika</td>\n",
       "      <td>Women Linen Printed Sarees Free Size (BEE)</td>\n",
       "      <td>saree</td>\n",
       "      <td>NaN</td>\n",
       "      <td>False</td>\n",
       "      <td>False</td>\n",
       "      <td>True</td>\n",
       "      <td>...</td>\n",
       "      <td>False</td>\n",
       "      <td>False</td>\n",
       "      <td>False</td>\n",
       "      <td>False</td>\n",
       "      <td>False</td>\n",
       "      <td>NaN</td>\n",
       "      <td>NaN</td>\n",
       "      <td>False</td>\n",
       "      <td>False</td>\n",
       "      <td>False</td>\n",
       "    </tr>\n",
       "    <tr>\n",
       "      <th>2</th>\n",
       "      <td>2</td>\n",
       "      <td>https://m.media-amazon.com/images/I/71TJ9p46PV...</td>\n",
       "      <td>images/train/2.jpeg</td>\n",
       "      <td>Womanista</td>\n",
       "      <td>Organza Floral Print Saree with Blouse Piece(W...</td>\n",
       "      <td>saree</td>\n",
       "      <td>NaN</td>\n",
       "      <td>False</td>\n",
       "      <td>False</td>\n",
       "      <td>True</td>\n",
       "      <td>...</td>\n",
       "      <td>False</td>\n",
       "      <td>True</td>\n",
       "      <td>False</td>\n",
       "      <td>False</td>\n",
       "      <td>False</td>\n",
       "      <td>NaN</td>\n",
       "      <td>NaN</td>\n",
       "      <td>False</td>\n",
       "      <td>False</td>\n",
       "      <td>False</td>\n",
       "    </tr>\n",
       "    <tr>\n",
       "      <th>3</th>\n",
       "      <td>3</td>\n",
       "      <td>https://m.media-amazon.com/images/I/81Y+je7CEg...</td>\n",
       "      <td>images/train/3.jpeg</td>\n",
       "      <td>PERFECTBLUE</td>\n",
       "      <td>Women's Digital Cotton Linen Blend Saree with ...</td>\n",
       "      <td>saree</td>\n",
       "      <td>NaN</td>\n",
       "      <td>False</td>\n",
       "      <td>False</td>\n",
       "      <td>True</td>\n",
       "      <td>...</td>\n",
       "      <td>False</td>\n",
       "      <td>True</td>\n",
       "      <td>False</td>\n",
       "      <td>False</td>\n",
       "      <td>False</td>\n",
       "      <td>NaN</td>\n",
       "      <td>NaN</td>\n",
       "      <td>False</td>\n",
       "      <td>False</td>\n",
       "      <td>False</td>\n",
       "    </tr>\n",
       "    <tr>\n",
       "      <th>4</th>\n",
       "      <td>4</td>\n",
       "      <td>https://m.media-amazon.com/images/I/61B8o9Ulqp...</td>\n",
       "      <td>images/train/4.jpeg</td>\n",
       "      <td>VAIVIDHYAM</td>\n",
       "      <td>Designer Sarees Women's Banarasi Cotton Silk S...</td>\n",
       "      <td>saree</td>\n",
       "      <td>NaN</td>\n",
       "      <td>False</td>\n",
       "      <td>False</td>\n",
       "      <td>True</td>\n",
       "      <td>...</td>\n",
       "      <td>False</td>\n",
       "      <td>True</td>\n",
       "      <td>False</td>\n",
       "      <td>False</td>\n",
       "      <td>False</td>\n",
       "      <td>NaN</td>\n",
       "      <td>NaN</td>\n",
       "      <td>False</td>\n",
       "      <td>False</td>\n",
       "      <td>False</td>\n",
       "    </tr>\n",
       "  </tbody>\n",
       "</table>\n",
       "<p>5 rows × 23 columns</p>\n",
       "</div>"
      ],
      "text/plain": [
       "   number                                          image_url  \\\n",
       "0       0  https://m.media-amazon.com/images/I/81XKaSKvly...   \n",
       "1       1  https://m.media-amazon.com/images/I/91dDMDg+QT...   \n",
       "2       2  https://m.media-amazon.com/images/I/71TJ9p46PV...   \n",
       "3       3  https://m.media-amazon.com/images/I/81Y+je7CEg...   \n",
       "4       4  https://m.media-amazon.com/images/I/61B8o9Ulqp...   \n",
       "\n",
       "            image_path        brand  \\\n",
       "0  images/train/0.jpeg    Womanista   \n",
       "1  images/train/1.jpeg      Yashika   \n",
       "2  images/train/2.jpeg    Womanista   \n",
       "3  images/train/3.jpeg  PERFECTBLUE   \n",
       "4  images/train/4.jpeg   VAIVIDHYAM   \n",
       "\n",
       "                                       product_title class_label color  kurta  \\\n",
       "0  Women's Georgette Saree with Blouse Piece (TKI...       saree   NaN  False   \n",
       "1         Women Linen Printed Sarees Free Size (BEE)       saree   NaN  False   \n",
       "2  Organza Floral Print Saree with Blouse Piece(W...       saree   NaN  False   \n",
       "3  Women's Digital Cotton Linen Blend Saree with ...       saree   NaN  False   \n",
       "4  Designer Sarees Women's Banarasi Cotton Silk S...       saree   NaN  False   \n",
       "\n",
       "   dhoti  saree  ...  petticoat  blouse  dupatta   gown  lehenga  women_kurta  \\\n",
       "0  False   True  ...      False    True    False  False    False          NaN   \n",
       "1  False   True  ...      False   False    False  False    False          NaN   \n",
       "2  False   True  ...      False    True    False  False    False          NaN   \n",
       "3  False   True  ...      False    True    False  False    False          NaN   \n",
       "4  False   True  ...      False    True    False  False    False          NaN   \n",
       "\n",
       "   kurta_men  mojaris_men mojaris_women leggings_and_salwars  \n",
       "0        NaN        False         False                False  \n",
       "1        NaN        False         False                False  \n",
       "2        NaN        False         False                False  \n",
       "3        NaN        False         False                False  \n",
       "4        NaN        False         False                False  \n",
       "\n",
       "[5 rows x 23 columns]"
      ]
     },
     "execution_count": 42,
     "metadata": {},
     "output_type": "execute_result"
    }
   ],
   "source": [
    "df_revised.head()"
   ]
  },
  {
   "cell_type": "code",
   "execution_count": 43,
   "id": "5c5fcf46",
   "metadata": {},
   "outputs": [],
   "source": [
    "c1 = (df_revised['class_label'] == 'saree') \n",
    "c2 = (df_revised['blouse'] == True)\n",
    "\n",
    "\n",
    "df_revised.loc[c1 & c2, 'blouse'] = False"
   ]
  },
  {
   "cell_type": "code",
   "execution_count": 44,
   "id": "eb5d6643",
   "metadata": {
    "scrolled": true
   },
   "outputs": [
    {
     "data": {
      "text/html": [
       "<div>\n",
       "<style scoped>\n",
       "    .dataframe tbody tr th:only-of-type {\n",
       "        vertical-align: middle;\n",
       "    }\n",
       "\n",
       "    .dataframe tbody tr th {\n",
       "        vertical-align: top;\n",
       "    }\n",
       "\n",
       "    .dataframe thead th {\n",
       "        text-align: right;\n",
       "    }\n",
       "</style>\n",
       "<table border=\"1\" class=\"dataframe\">\n",
       "  <thead>\n",
       "    <tr style=\"text-align: right;\">\n",
       "      <th></th>\n",
       "      <th>number</th>\n",
       "      <th>image_url</th>\n",
       "      <th>image_path</th>\n",
       "      <th>brand</th>\n",
       "      <th>product_title</th>\n",
       "      <th>class_label</th>\n",
       "      <th>color</th>\n",
       "      <th>kurta</th>\n",
       "      <th>dhoti</th>\n",
       "      <th>saree</th>\n",
       "      <th>...</th>\n",
       "      <th>petticoat</th>\n",
       "      <th>blouse</th>\n",
       "      <th>dupatta</th>\n",
       "      <th>gown</th>\n",
       "      <th>lehenga</th>\n",
       "      <th>women_kurta</th>\n",
       "      <th>kurta_men</th>\n",
       "      <th>mojaris_men</th>\n",
       "      <th>mojaris_women</th>\n",
       "      <th>leggings_and_salwars</th>\n",
       "    </tr>\n",
       "  </thead>\n",
       "  <tbody>\n",
       "    <tr>\n",
       "      <th>0</th>\n",
       "      <td>0</td>\n",
       "      <td>https://m.media-amazon.com/images/I/81XKaSKvly...</td>\n",
       "      <td>images/train/0.jpeg</td>\n",
       "      <td>Womanista</td>\n",
       "      <td>Women's Georgette Saree with Blouse Piece (TKI...</td>\n",
       "      <td>saree</td>\n",
       "      <td>NaN</td>\n",
       "      <td>False</td>\n",
       "      <td>False</td>\n",
       "      <td>True</td>\n",
       "      <td>...</td>\n",
       "      <td>False</td>\n",
       "      <td>False</td>\n",
       "      <td>False</td>\n",
       "      <td>False</td>\n",
       "      <td>False</td>\n",
       "      <td>NaN</td>\n",
       "      <td>NaN</td>\n",
       "      <td>False</td>\n",
       "      <td>False</td>\n",
       "      <td>False</td>\n",
       "    </tr>\n",
       "    <tr>\n",
       "      <th>1</th>\n",
       "      <td>1</td>\n",
       "      <td>https://m.media-amazon.com/images/I/91dDMDg+QT...</td>\n",
       "      <td>images/train/1.jpeg</td>\n",
       "      <td>Yashika</td>\n",
       "      <td>Women Linen Printed Sarees Free Size (BEE)</td>\n",
       "      <td>saree</td>\n",
       "      <td>NaN</td>\n",
       "      <td>False</td>\n",
       "      <td>False</td>\n",
       "      <td>True</td>\n",
       "      <td>...</td>\n",
       "      <td>False</td>\n",
       "      <td>False</td>\n",
       "      <td>False</td>\n",
       "      <td>False</td>\n",
       "      <td>False</td>\n",
       "      <td>NaN</td>\n",
       "      <td>NaN</td>\n",
       "      <td>False</td>\n",
       "      <td>False</td>\n",
       "      <td>False</td>\n",
       "    </tr>\n",
       "    <tr>\n",
       "      <th>2</th>\n",
       "      <td>2</td>\n",
       "      <td>https://m.media-amazon.com/images/I/71TJ9p46PV...</td>\n",
       "      <td>images/train/2.jpeg</td>\n",
       "      <td>Womanista</td>\n",
       "      <td>Organza Floral Print Saree with Blouse Piece(W...</td>\n",
       "      <td>saree</td>\n",
       "      <td>NaN</td>\n",
       "      <td>False</td>\n",
       "      <td>False</td>\n",
       "      <td>True</td>\n",
       "      <td>...</td>\n",
       "      <td>False</td>\n",
       "      <td>False</td>\n",
       "      <td>False</td>\n",
       "      <td>False</td>\n",
       "      <td>False</td>\n",
       "      <td>NaN</td>\n",
       "      <td>NaN</td>\n",
       "      <td>False</td>\n",
       "      <td>False</td>\n",
       "      <td>False</td>\n",
       "    </tr>\n",
       "    <tr>\n",
       "      <th>3</th>\n",
       "      <td>3</td>\n",
       "      <td>https://m.media-amazon.com/images/I/81Y+je7CEg...</td>\n",
       "      <td>images/train/3.jpeg</td>\n",
       "      <td>PERFECTBLUE</td>\n",
       "      <td>Women's Digital Cotton Linen Blend Saree with ...</td>\n",
       "      <td>saree</td>\n",
       "      <td>NaN</td>\n",
       "      <td>False</td>\n",
       "      <td>False</td>\n",
       "      <td>True</td>\n",
       "      <td>...</td>\n",
       "      <td>False</td>\n",
       "      <td>False</td>\n",
       "      <td>False</td>\n",
       "      <td>False</td>\n",
       "      <td>False</td>\n",
       "      <td>NaN</td>\n",
       "      <td>NaN</td>\n",
       "      <td>False</td>\n",
       "      <td>False</td>\n",
       "      <td>False</td>\n",
       "    </tr>\n",
       "    <tr>\n",
       "      <th>4</th>\n",
       "      <td>4</td>\n",
       "      <td>https://m.media-amazon.com/images/I/61B8o9Ulqp...</td>\n",
       "      <td>images/train/4.jpeg</td>\n",
       "      <td>VAIVIDHYAM</td>\n",
       "      <td>Designer Sarees Women's Banarasi Cotton Silk S...</td>\n",
       "      <td>saree</td>\n",
       "      <td>NaN</td>\n",
       "      <td>False</td>\n",
       "      <td>False</td>\n",
       "      <td>True</td>\n",
       "      <td>...</td>\n",
       "      <td>False</td>\n",
       "      <td>False</td>\n",
       "      <td>False</td>\n",
       "      <td>False</td>\n",
       "      <td>False</td>\n",
       "      <td>NaN</td>\n",
       "      <td>NaN</td>\n",
       "      <td>False</td>\n",
       "      <td>False</td>\n",
       "      <td>False</td>\n",
       "    </tr>\n",
       "  </tbody>\n",
       "</table>\n",
       "<p>5 rows × 23 columns</p>\n",
       "</div>"
      ],
      "text/plain": [
       "   number                                          image_url  \\\n",
       "0       0  https://m.media-amazon.com/images/I/81XKaSKvly...   \n",
       "1       1  https://m.media-amazon.com/images/I/91dDMDg+QT...   \n",
       "2       2  https://m.media-amazon.com/images/I/71TJ9p46PV...   \n",
       "3       3  https://m.media-amazon.com/images/I/81Y+je7CEg...   \n",
       "4       4  https://m.media-amazon.com/images/I/61B8o9Ulqp...   \n",
       "\n",
       "            image_path        brand  \\\n",
       "0  images/train/0.jpeg    Womanista   \n",
       "1  images/train/1.jpeg      Yashika   \n",
       "2  images/train/2.jpeg    Womanista   \n",
       "3  images/train/3.jpeg  PERFECTBLUE   \n",
       "4  images/train/4.jpeg   VAIVIDHYAM   \n",
       "\n",
       "                                       product_title class_label color  kurta  \\\n",
       "0  Women's Georgette Saree with Blouse Piece (TKI...       saree   NaN  False   \n",
       "1         Women Linen Printed Sarees Free Size (BEE)       saree   NaN  False   \n",
       "2  Organza Floral Print Saree with Blouse Piece(W...       saree   NaN  False   \n",
       "3  Women's Digital Cotton Linen Blend Saree with ...       saree   NaN  False   \n",
       "4  Designer Sarees Women's Banarasi Cotton Silk S...       saree   NaN  False   \n",
       "\n",
       "   dhoti  saree  ...  petticoat  blouse  dupatta   gown  lehenga  women_kurta  \\\n",
       "0  False   True  ...      False   False    False  False    False          NaN   \n",
       "1  False   True  ...      False   False    False  False    False          NaN   \n",
       "2  False   True  ...      False   False    False  False    False          NaN   \n",
       "3  False   True  ...      False   False    False  False    False          NaN   \n",
       "4  False   True  ...      False   False    False  False    False          NaN   \n",
       "\n",
       "   kurta_men  mojaris_men mojaris_women leggings_and_salwars  \n",
       "0        NaN        False         False                False  \n",
       "1        NaN        False         False                False  \n",
       "2        NaN        False         False                False  \n",
       "3        NaN        False         False                False  \n",
       "4        NaN        False         False                False  \n",
       "\n",
       "[5 rows x 23 columns]"
      ]
     },
     "execution_count": 44,
     "metadata": {},
     "output_type": "execute_result"
    }
   ],
   "source": [
    "df_revised.head()"
   ]
  },
  {
   "cell_type": "code",
   "execution_count": 45,
   "id": "6724c466",
   "metadata": {
    "scrolled": false
   },
   "outputs": [
    {
     "data": {
      "text/plain": [
       "number                                                                  1\n",
       "image_url               https://m.media-amazon.com/images/I/91dDMDg+QT...\n",
       "image_path                                            images/train/1.jpeg\n",
       "brand                                                             Yashika\n",
       "product_title                  Women Linen Printed Sarees Free Size (BEE)\n",
       "class_label                                                         saree\n",
       "color                                                                 NaN\n",
       "kurta                                                               False\n",
       "dhoti                                                               False\n",
       "saree                                                                True\n",
       "sherwani                                                            False\n",
       "palazzo                                                             False\n",
       "nehru                                                               False\n",
       "petticoat                                                           False\n",
       "blouse                                                              False\n",
       "dupatta                                                             False\n",
       "gown                                                                False\n",
       "lehenga                                                             False\n",
       "women_kurta                                                           NaN\n",
       "kurta_men                                                             NaN\n",
       "mojaris_men                                                         False\n",
       "mojaris_women                                                       False\n",
       "leggings_and_salwars                                                False\n",
       "Name: 1, dtype: object"
      ]
     },
     "execution_count": 45,
     "metadata": {},
     "output_type": "execute_result"
    }
   ],
   "source": [
    "df_revised.loc[1]"
   ]
  },
  {
   "cell_type": "code",
   "execution_count": 46,
   "id": "279fe7dc",
   "metadata": {},
   "outputs": [],
   "source": [
    "df_kurta = df_revised[df_revised.kurta == True]"
   ]
  },
  {
   "cell_type": "code",
   "execution_count": 47,
   "id": "08303fef",
   "metadata": {},
   "outputs": [],
   "source": [
    "df_kurta_men = df_kurta[df_kurta.kurta_men == False]"
   ]
  },
  {
   "cell_type": "code",
   "execution_count": 48,
   "id": "0233b70e",
   "metadata": {},
   "outputs": [],
   "source": [
    "df_kurta_2 = df_kurta[df_kurta.women_kurta == False]"
   ]
  },
  {
   "cell_type": "code",
   "execution_count": 50,
   "id": "d120bdea",
   "metadata": {},
   "outputs": [
    {
     "data": {
      "text/plain": [
       "(0, 23)"
      ]
     },
     "execution_count": 50,
     "metadata": {},
     "output_type": "execute_result"
    }
   ],
   "source": [
    "df_kurta_men.shape"
   ]
  },
  {
   "cell_type": "code",
   "execution_count": 51,
   "id": "6c149d80",
   "metadata": {},
   "outputs": [],
   "source": [
    "df_kurta_men2 = df_kurta_2[df_kurta_2.class_label == 'kurta_men']"
   ]
  },
  {
   "cell_type": "code",
   "execution_count": 52,
   "id": "47d1e1ff",
   "metadata": {},
   "outputs": [],
   "source": [
    "df_kurta_women2 = df_kurta_2[df_kurta_2.class_label == 'women_kurta']"
   ]
  },
  {
   "cell_type": "code",
   "execution_count": 53,
   "id": "34fe1866",
   "metadata": {},
   "outputs": [
    {
     "data": {
      "text/plain": [
       "\"Women's Beautiful Hand Block Pan Shaped Printed Cotton Mulmul Saree with Blouse (chhipaif071)\""
      ]
     },
     "execution_count": 53,
     "metadata": {},
     "output_type": "execute_result"
    }
   ],
   "source": [
    "df_revised.iloc[6948, 4]"
   ]
  },
  {
   "cell_type": "code",
   "execution_count": 54,
   "id": "e9adc24d",
   "metadata": {},
   "outputs": [
    {
     "data": {
      "text/plain": [
       "Index(['number', 'image_url', 'image_path', 'brand', 'product_title',\n",
       "       'class_label', 'color', 'kurta', 'dhoti', 'saree', 'sherwani',\n",
       "       'palazzo', 'nehru', 'petticoat', 'blouse', 'dupatta', 'gown', 'lehenga',\n",
       "       'women_kurta', 'kurta_men', 'mojaris_men', 'mojaris_women',\n",
       "       'leggings_and_salwars'],\n",
       "      dtype='object')"
      ]
     },
     "execution_count": 54,
     "metadata": {},
     "output_type": "execute_result"
    }
   ],
   "source": [
    "df_revised.columns"
   ]
  },
  {
   "cell_type": "code",
   "execution_count": 55,
   "id": "59d26f69",
   "metadata": {},
   "outputs": [
    {
     "data": {
      "text/html": [
       "<div>\n",
       "<style scoped>\n",
       "    .dataframe tbody tr th:only-of-type {\n",
       "        vertical-align: middle;\n",
       "    }\n",
       "\n",
       "    .dataframe tbody tr th {\n",
       "        vertical-align: top;\n",
       "    }\n",
       "\n",
       "    .dataframe thead th {\n",
       "        text-align: right;\n",
       "    }\n",
       "</style>\n",
       "<table border=\"1\" class=\"dataframe\">\n",
       "  <thead>\n",
       "    <tr style=\"text-align: right;\">\n",
       "      <th></th>\n",
       "      <th>number</th>\n",
       "      <th>image_url</th>\n",
       "      <th>image_path</th>\n",
       "      <th>brand</th>\n",
       "      <th>product_title</th>\n",
       "      <th>class_label</th>\n",
       "      <th>color</th>\n",
       "      <th>kurta</th>\n",
       "      <th>dhoti</th>\n",
       "      <th>saree</th>\n",
       "      <th>...</th>\n",
       "      <th>petticoat</th>\n",
       "      <th>blouse</th>\n",
       "      <th>dupatta</th>\n",
       "      <th>gown</th>\n",
       "      <th>lehenga</th>\n",
       "      <th>women_kurta</th>\n",
       "      <th>kurta_men</th>\n",
       "      <th>mojaris_men</th>\n",
       "      <th>mojaris_women</th>\n",
       "      <th>leggings_and_salwars</th>\n",
       "    </tr>\n",
       "  </thead>\n",
       "  <tbody>\n",
       "    <tr>\n",
       "      <th>0</th>\n",
       "      <td>0</td>\n",
       "      <td>https://m.media-amazon.com/images/I/81XKaSKvly...</td>\n",
       "      <td>images/train/0.jpeg</td>\n",
       "      <td>Womanista</td>\n",
       "      <td>Women's Georgette Saree with Blouse Piece (TKI...</td>\n",
       "      <td>saree</td>\n",
       "      <td>NaN</td>\n",
       "      <td>False</td>\n",
       "      <td>False</td>\n",
       "      <td>True</td>\n",
       "      <td>...</td>\n",
       "      <td>False</td>\n",
       "      <td>False</td>\n",
       "      <td>False</td>\n",
       "      <td>False</td>\n",
       "      <td>False</td>\n",
       "      <td>NaN</td>\n",
       "      <td>NaN</td>\n",
       "      <td>False</td>\n",
       "      <td>False</td>\n",
       "      <td>False</td>\n",
       "    </tr>\n",
       "    <tr>\n",
       "      <th>1</th>\n",
       "      <td>1</td>\n",
       "      <td>https://m.media-amazon.com/images/I/91dDMDg+QT...</td>\n",
       "      <td>images/train/1.jpeg</td>\n",
       "      <td>Yashika</td>\n",
       "      <td>Women Linen Printed Sarees Free Size (BEE)</td>\n",
       "      <td>saree</td>\n",
       "      <td>NaN</td>\n",
       "      <td>False</td>\n",
       "      <td>False</td>\n",
       "      <td>True</td>\n",
       "      <td>...</td>\n",
       "      <td>False</td>\n",
       "      <td>False</td>\n",
       "      <td>False</td>\n",
       "      <td>False</td>\n",
       "      <td>False</td>\n",
       "      <td>NaN</td>\n",
       "      <td>NaN</td>\n",
       "      <td>False</td>\n",
       "      <td>False</td>\n",
       "      <td>False</td>\n",
       "    </tr>\n",
       "    <tr>\n",
       "      <th>2</th>\n",
       "      <td>2</td>\n",
       "      <td>https://m.media-amazon.com/images/I/71TJ9p46PV...</td>\n",
       "      <td>images/train/2.jpeg</td>\n",
       "      <td>Womanista</td>\n",
       "      <td>Organza Floral Print Saree with Blouse Piece(W...</td>\n",
       "      <td>saree</td>\n",
       "      <td>NaN</td>\n",
       "      <td>False</td>\n",
       "      <td>False</td>\n",
       "      <td>True</td>\n",
       "      <td>...</td>\n",
       "      <td>False</td>\n",
       "      <td>False</td>\n",
       "      <td>False</td>\n",
       "      <td>False</td>\n",
       "      <td>False</td>\n",
       "      <td>NaN</td>\n",
       "      <td>NaN</td>\n",
       "      <td>False</td>\n",
       "      <td>False</td>\n",
       "      <td>False</td>\n",
       "    </tr>\n",
       "    <tr>\n",
       "      <th>3</th>\n",
       "      <td>3</td>\n",
       "      <td>https://m.media-amazon.com/images/I/81Y+je7CEg...</td>\n",
       "      <td>images/train/3.jpeg</td>\n",
       "      <td>PERFECTBLUE</td>\n",
       "      <td>Women's Digital Cotton Linen Blend Saree with ...</td>\n",
       "      <td>saree</td>\n",
       "      <td>NaN</td>\n",
       "      <td>False</td>\n",
       "      <td>False</td>\n",
       "      <td>True</td>\n",
       "      <td>...</td>\n",
       "      <td>False</td>\n",
       "      <td>False</td>\n",
       "      <td>False</td>\n",
       "      <td>False</td>\n",
       "      <td>False</td>\n",
       "      <td>NaN</td>\n",
       "      <td>NaN</td>\n",
       "      <td>False</td>\n",
       "      <td>False</td>\n",
       "      <td>False</td>\n",
       "    </tr>\n",
       "    <tr>\n",
       "      <th>4</th>\n",
       "      <td>4</td>\n",
       "      <td>https://m.media-amazon.com/images/I/61B8o9Ulqp...</td>\n",
       "      <td>images/train/4.jpeg</td>\n",
       "      <td>VAIVIDHYAM</td>\n",
       "      <td>Designer Sarees Women's Banarasi Cotton Silk S...</td>\n",
       "      <td>saree</td>\n",
       "      <td>NaN</td>\n",
       "      <td>False</td>\n",
       "      <td>False</td>\n",
       "      <td>True</td>\n",
       "      <td>...</td>\n",
       "      <td>False</td>\n",
       "      <td>False</td>\n",
       "      <td>False</td>\n",
       "      <td>False</td>\n",
       "      <td>False</td>\n",
       "      <td>NaN</td>\n",
       "      <td>NaN</td>\n",
       "      <td>False</td>\n",
       "      <td>False</td>\n",
       "      <td>False</td>\n",
       "    </tr>\n",
       "  </tbody>\n",
       "</table>\n",
       "<p>5 rows × 23 columns</p>\n",
       "</div>"
      ],
      "text/plain": [
       "   number                                          image_url  \\\n",
       "0       0  https://m.media-amazon.com/images/I/81XKaSKvly...   \n",
       "1       1  https://m.media-amazon.com/images/I/91dDMDg+QT...   \n",
       "2       2  https://m.media-amazon.com/images/I/71TJ9p46PV...   \n",
       "3       3  https://m.media-amazon.com/images/I/81Y+je7CEg...   \n",
       "4       4  https://m.media-amazon.com/images/I/61B8o9Ulqp...   \n",
       "\n",
       "            image_path        brand  \\\n",
       "0  images/train/0.jpeg    Womanista   \n",
       "1  images/train/1.jpeg      Yashika   \n",
       "2  images/train/2.jpeg    Womanista   \n",
       "3  images/train/3.jpeg  PERFECTBLUE   \n",
       "4  images/train/4.jpeg   VAIVIDHYAM   \n",
       "\n",
       "                                       product_title class_label color  kurta  \\\n",
       "0  Women's Georgette Saree with Blouse Piece (TKI...       saree   NaN  False   \n",
       "1         Women Linen Printed Sarees Free Size (BEE)       saree   NaN  False   \n",
       "2  Organza Floral Print Saree with Blouse Piece(W...       saree   NaN  False   \n",
       "3  Women's Digital Cotton Linen Blend Saree with ...       saree   NaN  False   \n",
       "4  Designer Sarees Women's Banarasi Cotton Silk S...       saree   NaN  False   \n",
       "\n",
       "   dhoti  saree  ...  petticoat  blouse  dupatta   gown  lehenga  women_kurta  \\\n",
       "0  False   True  ...      False   False    False  False    False          NaN   \n",
       "1  False   True  ...      False   False    False  False    False          NaN   \n",
       "2  False   True  ...      False   False    False  False    False          NaN   \n",
       "3  False   True  ...      False   False    False  False    False          NaN   \n",
       "4  False   True  ...      False   False    False  False    False          NaN   \n",
       "\n",
       "   kurta_men  mojaris_men mojaris_women leggings_and_salwars  \n",
       "0        NaN        False         False                False  \n",
       "1        NaN        False         False                False  \n",
       "2        NaN        False         False                False  \n",
       "3        NaN        False         False                False  \n",
       "4        NaN        False         False                False  \n",
       "\n",
       "[5 rows x 23 columns]"
      ]
     },
     "execution_count": 55,
     "metadata": {},
     "output_type": "execute_result"
    }
   ],
   "source": [
    "df_revised.head()"
   ]
  },
  {
   "cell_type": "code",
   "execution_count": null,
   "id": "d2b5ec91",
   "metadata": {
    "scrolled": true
   },
   "outputs": [],
   "source": []
  },
  {
   "cell_type": "code",
   "execution_count": 56,
   "id": "2a366f7a",
   "metadata": {
    "scrolled": true
   },
   "outputs": [
    {
     "data": {
      "text/html": [
       "<div>\n",
       "<style scoped>\n",
       "    .dataframe tbody tr th:only-of-type {\n",
       "        vertical-align: middle;\n",
       "    }\n",
       "\n",
       "    .dataframe tbody tr th {\n",
       "        vertical-align: top;\n",
       "    }\n",
       "\n",
       "    .dataframe thead th {\n",
       "        text-align: right;\n",
       "    }\n",
       "</style>\n",
       "<table border=\"1\" class=\"dataframe\">\n",
       "  <thead>\n",
       "    <tr style=\"text-align: right;\">\n",
       "      <th></th>\n",
       "      <th>number</th>\n",
       "      <th>image_url</th>\n",
       "      <th>image_path</th>\n",
       "      <th>brand</th>\n",
       "      <th>product_title</th>\n",
       "      <th>class_label</th>\n",
       "      <th>color</th>\n",
       "      <th>kurta</th>\n",
       "      <th>dhoti_pants</th>\n",
       "      <th>saree</th>\n",
       "      <th>...</th>\n",
       "      <th>petticoats</th>\n",
       "      <th>blouse</th>\n",
       "      <th>dupattas</th>\n",
       "      <th>gowns</th>\n",
       "      <th>lehenga</th>\n",
       "      <th>women_kurta</th>\n",
       "      <th>kurta_men</th>\n",
       "      <th>mojaris_men</th>\n",
       "      <th>mojaris_women</th>\n",
       "      <th>leggings_and_salwars</th>\n",
       "    </tr>\n",
       "  </thead>\n",
       "  <tbody>\n",
       "    <tr>\n",
       "      <th>0</th>\n",
       "      <td>0</td>\n",
       "      <td>https://m.media-amazon.com/images/I/81XKaSKvly...</td>\n",
       "      <td>images/train/0.jpeg</td>\n",
       "      <td>Womanista</td>\n",
       "      <td>Women's Georgette Saree with Blouse Piece (TKI...</td>\n",
       "      <td>saree</td>\n",
       "      <td>NaN</td>\n",
       "      <td>False</td>\n",
       "      <td>False</td>\n",
       "      <td>True</td>\n",
       "      <td>...</td>\n",
       "      <td>False</td>\n",
       "      <td>False</td>\n",
       "      <td>False</td>\n",
       "      <td>False</td>\n",
       "      <td>False</td>\n",
       "      <td>NaN</td>\n",
       "      <td>NaN</td>\n",
       "      <td>False</td>\n",
       "      <td>False</td>\n",
       "      <td>False</td>\n",
       "    </tr>\n",
       "    <tr>\n",
       "      <th>1</th>\n",
       "      <td>1</td>\n",
       "      <td>https://m.media-amazon.com/images/I/91dDMDg+QT...</td>\n",
       "      <td>images/train/1.jpeg</td>\n",
       "      <td>Yashika</td>\n",
       "      <td>Women Linen Printed Sarees Free Size (BEE)</td>\n",
       "      <td>saree</td>\n",
       "      <td>NaN</td>\n",
       "      <td>False</td>\n",
       "      <td>False</td>\n",
       "      <td>True</td>\n",
       "      <td>...</td>\n",
       "      <td>False</td>\n",
       "      <td>False</td>\n",
       "      <td>False</td>\n",
       "      <td>False</td>\n",
       "      <td>False</td>\n",
       "      <td>NaN</td>\n",
       "      <td>NaN</td>\n",
       "      <td>False</td>\n",
       "      <td>False</td>\n",
       "      <td>False</td>\n",
       "    </tr>\n",
       "    <tr>\n",
       "      <th>2</th>\n",
       "      <td>2</td>\n",
       "      <td>https://m.media-amazon.com/images/I/71TJ9p46PV...</td>\n",
       "      <td>images/train/2.jpeg</td>\n",
       "      <td>Womanista</td>\n",
       "      <td>Organza Floral Print Saree with Blouse Piece(W...</td>\n",
       "      <td>saree</td>\n",
       "      <td>NaN</td>\n",
       "      <td>False</td>\n",
       "      <td>False</td>\n",
       "      <td>True</td>\n",
       "      <td>...</td>\n",
       "      <td>False</td>\n",
       "      <td>False</td>\n",
       "      <td>False</td>\n",
       "      <td>False</td>\n",
       "      <td>False</td>\n",
       "      <td>NaN</td>\n",
       "      <td>NaN</td>\n",
       "      <td>False</td>\n",
       "      <td>False</td>\n",
       "      <td>False</td>\n",
       "    </tr>\n",
       "    <tr>\n",
       "      <th>3</th>\n",
       "      <td>3</td>\n",
       "      <td>https://m.media-amazon.com/images/I/81Y+je7CEg...</td>\n",
       "      <td>images/train/3.jpeg</td>\n",
       "      <td>PERFECTBLUE</td>\n",
       "      <td>Women's Digital Cotton Linen Blend Saree with ...</td>\n",
       "      <td>saree</td>\n",
       "      <td>NaN</td>\n",
       "      <td>False</td>\n",
       "      <td>False</td>\n",
       "      <td>True</td>\n",
       "      <td>...</td>\n",
       "      <td>False</td>\n",
       "      <td>False</td>\n",
       "      <td>False</td>\n",
       "      <td>False</td>\n",
       "      <td>False</td>\n",
       "      <td>NaN</td>\n",
       "      <td>NaN</td>\n",
       "      <td>False</td>\n",
       "      <td>False</td>\n",
       "      <td>False</td>\n",
       "    </tr>\n",
       "    <tr>\n",
       "      <th>4</th>\n",
       "      <td>4</td>\n",
       "      <td>https://m.media-amazon.com/images/I/61B8o9Ulqp...</td>\n",
       "      <td>images/train/4.jpeg</td>\n",
       "      <td>VAIVIDHYAM</td>\n",
       "      <td>Designer Sarees Women's Banarasi Cotton Silk S...</td>\n",
       "      <td>saree</td>\n",
       "      <td>NaN</td>\n",
       "      <td>False</td>\n",
       "      <td>False</td>\n",
       "      <td>True</td>\n",
       "      <td>...</td>\n",
       "      <td>False</td>\n",
       "      <td>False</td>\n",
       "      <td>False</td>\n",
       "      <td>False</td>\n",
       "      <td>False</td>\n",
       "      <td>NaN</td>\n",
       "      <td>NaN</td>\n",
       "      <td>False</td>\n",
       "      <td>False</td>\n",
       "      <td>False</td>\n",
       "    </tr>\n",
       "  </tbody>\n",
       "</table>\n",
       "<p>5 rows × 23 columns</p>\n",
       "</div>"
      ],
      "text/plain": [
       "   number                                          image_url  \\\n",
       "0       0  https://m.media-amazon.com/images/I/81XKaSKvly...   \n",
       "1       1  https://m.media-amazon.com/images/I/91dDMDg+QT...   \n",
       "2       2  https://m.media-amazon.com/images/I/71TJ9p46PV...   \n",
       "3       3  https://m.media-amazon.com/images/I/81Y+je7CEg...   \n",
       "4       4  https://m.media-amazon.com/images/I/61B8o9Ulqp...   \n",
       "\n",
       "            image_path        brand  \\\n",
       "0  images/train/0.jpeg    Womanista   \n",
       "1  images/train/1.jpeg      Yashika   \n",
       "2  images/train/2.jpeg    Womanista   \n",
       "3  images/train/3.jpeg  PERFECTBLUE   \n",
       "4  images/train/4.jpeg   VAIVIDHYAM   \n",
       "\n",
       "                                       product_title class_label color  kurta  \\\n",
       "0  Women's Georgette Saree with Blouse Piece (TKI...       saree   NaN  False   \n",
       "1         Women Linen Printed Sarees Free Size (BEE)       saree   NaN  False   \n",
       "2  Organza Floral Print Saree with Blouse Piece(W...       saree   NaN  False   \n",
       "3  Women's Digital Cotton Linen Blend Saree with ...       saree   NaN  False   \n",
       "4  Designer Sarees Women's Banarasi Cotton Silk S...       saree   NaN  False   \n",
       "\n",
       "   dhoti_pants  saree  ...  petticoats  blouse  dupattas  gowns  lehenga  \\\n",
       "0        False   True  ...       False   False     False  False    False   \n",
       "1        False   True  ...       False   False     False  False    False   \n",
       "2        False   True  ...       False   False     False  False    False   \n",
       "3        False   True  ...       False   False     False  False    False   \n",
       "4        False   True  ...       False   False     False  False    False   \n",
       "\n",
       "   women_kurta  kurta_men  mojaris_men mojaris_women leggings_and_salwars  \n",
       "0          NaN        NaN        False         False                False  \n",
       "1          NaN        NaN        False         False                False  \n",
       "2          NaN        NaN        False         False                False  \n",
       "3          NaN        NaN        False         False                False  \n",
       "4          NaN        NaN        False         False                False  \n",
       "\n",
       "[5 rows x 23 columns]"
      ]
     },
     "execution_count": 56,
     "metadata": {},
     "output_type": "execute_result"
    }
   ],
   "source": [
    "df_revised = df_revised.rename({'dhoti':'dhoti_pants', 'sherwani':'sherwanis', 'palazzo':'palazzos', \n",
    "             'nehru':'nehru_jackets', 'petticoat':'petticoats', 'dupatta':'dupattas', \n",
    "             'gown':'gowns'},axis=1)\n",
    "df_revised.head()"
   ]
  },
  {
   "cell_type": "code",
   "execution_count": 57,
   "id": "53e67f23",
   "metadata": {},
   "outputs": [],
   "source": [
    "columns = ['dhoti_pants', 'saree', 'sherwanis', 'palazzos', 'nehru_jackets', 'petticoats',\n",
    "           'blouse','dupattas', 'gowns', 'lehenga', 'women_kurta', 'kurta_men', \n",
    "           'mojaris_men', 'mojaris_women', 'leggings_and_salwars']\n",
    "\n",
    "def func(x):\n",
    "    if x == True:\n",
    "        return str(column)\n",
    "    else:\n",
    "        return 0\n",
    "for column in columns:    \n",
    "    df_revised[str(column)] = df_revised[str(column)].apply(lambda x: func(x))"
   ]
  },
  {
   "cell_type": "code",
   "execution_count": 58,
   "id": "38b2f2d3",
   "metadata": {},
   "outputs": [],
   "source": [
    "c1 = (df_revised.class_label == 'women_kurta')\n",
    "c2 = (df_revised.class_label == 'kurta_men')\n",
    "c3 = (df_revised.kurta == True)\n",
    "\n",
    "df_revised.loc[c3 & (c1 | c2), 'kurta'] = 0"
   ]
  },
  {
   "cell_type": "code",
   "execution_count": 59,
   "id": "73f49a88",
   "metadata": {},
   "outputs": [],
   "source": [
    "c1 = (df_revised.class_label != 'women_kurta')\n",
    "c2 = (df_revised.class_label != 'kurta_men')\n",
    "c3 = (df_revised.kurta == True)\n",
    "df_revised.loc[c3 & c1 & c2, 'kurta'] = 'kurta'"
   ]
  },
  {
   "cell_type": "code",
   "execution_count": 60,
   "id": "fa57dbad",
   "metadata": {
    "scrolled": true
   },
   "outputs": [
    {
     "data": {
      "text/html": [
       "<div>\n",
       "<style scoped>\n",
       "    .dataframe tbody tr th:only-of-type {\n",
       "        vertical-align: middle;\n",
       "    }\n",
       "\n",
       "    .dataframe tbody tr th {\n",
       "        vertical-align: top;\n",
       "    }\n",
       "\n",
       "    .dataframe thead th {\n",
       "        text-align: right;\n",
       "    }\n",
       "</style>\n",
       "<table border=\"1\" class=\"dataframe\">\n",
       "  <thead>\n",
       "    <tr style=\"text-align: right;\">\n",
       "      <th></th>\n",
       "      <th>number</th>\n",
       "      <th>image_url</th>\n",
       "      <th>image_path</th>\n",
       "      <th>brand</th>\n",
       "      <th>product_title</th>\n",
       "      <th>class_label</th>\n",
       "      <th>color</th>\n",
       "      <th>kurta</th>\n",
       "      <th>dhoti_pants</th>\n",
       "      <th>saree</th>\n",
       "      <th>...</th>\n",
       "      <th>petticoats</th>\n",
       "      <th>blouse</th>\n",
       "      <th>dupattas</th>\n",
       "      <th>gowns</th>\n",
       "      <th>lehenga</th>\n",
       "      <th>women_kurta</th>\n",
       "      <th>kurta_men</th>\n",
       "      <th>mojaris_men</th>\n",
       "      <th>mojaris_women</th>\n",
       "      <th>leggings_and_salwars</th>\n",
       "    </tr>\n",
       "  </thead>\n",
       "  <tbody>\n",
       "    <tr>\n",
       "      <th>0</th>\n",
       "      <td>0</td>\n",
       "      <td>https://m.media-amazon.com/images/I/81XKaSKvly...</td>\n",
       "      <td>images/train/0.jpeg</td>\n",
       "      <td>Womanista</td>\n",
       "      <td>Women's Georgette Saree with Blouse Piece (TKI...</td>\n",
       "      <td>saree</td>\n",
       "      <td>NaN</td>\n",
       "      <td>False</td>\n",
       "      <td>0</td>\n",
       "      <td>saree</td>\n",
       "      <td>...</td>\n",
       "      <td>0</td>\n",
       "      <td>0</td>\n",
       "      <td>0</td>\n",
       "      <td>0</td>\n",
       "      <td>0</td>\n",
       "      <td>0</td>\n",
       "      <td>0</td>\n",
       "      <td>0</td>\n",
       "      <td>0</td>\n",
       "      <td>0</td>\n",
       "    </tr>\n",
       "    <tr>\n",
       "      <th>1</th>\n",
       "      <td>1</td>\n",
       "      <td>https://m.media-amazon.com/images/I/91dDMDg+QT...</td>\n",
       "      <td>images/train/1.jpeg</td>\n",
       "      <td>Yashika</td>\n",
       "      <td>Women Linen Printed Sarees Free Size (BEE)</td>\n",
       "      <td>saree</td>\n",
       "      <td>NaN</td>\n",
       "      <td>False</td>\n",
       "      <td>0</td>\n",
       "      <td>saree</td>\n",
       "      <td>...</td>\n",
       "      <td>0</td>\n",
       "      <td>0</td>\n",
       "      <td>0</td>\n",
       "      <td>0</td>\n",
       "      <td>0</td>\n",
       "      <td>0</td>\n",
       "      <td>0</td>\n",
       "      <td>0</td>\n",
       "      <td>0</td>\n",
       "      <td>0</td>\n",
       "    </tr>\n",
       "    <tr>\n",
       "      <th>2</th>\n",
       "      <td>2</td>\n",
       "      <td>https://m.media-amazon.com/images/I/71TJ9p46PV...</td>\n",
       "      <td>images/train/2.jpeg</td>\n",
       "      <td>Womanista</td>\n",
       "      <td>Organza Floral Print Saree with Blouse Piece(W...</td>\n",
       "      <td>saree</td>\n",
       "      <td>NaN</td>\n",
       "      <td>False</td>\n",
       "      <td>0</td>\n",
       "      <td>saree</td>\n",
       "      <td>...</td>\n",
       "      <td>0</td>\n",
       "      <td>0</td>\n",
       "      <td>0</td>\n",
       "      <td>0</td>\n",
       "      <td>0</td>\n",
       "      <td>0</td>\n",
       "      <td>0</td>\n",
       "      <td>0</td>\n",
       "      <td>0</td>\n",
       "      <td>0</td>\n",
       "    </tr>\n",
       "    <tr>\n",
       "      <th>3</th>\n",
       "      <td>3</td>\n",
       "      <td>https://m.media-amazon.com/images/I/81Y+je7CEg...</td>\n",
       "      <td>images/train/3.jpeg</td>\n",
       "      <td>PERFECTBLUE</td>\n",
       "      <td>Women's Digital Cotton Linen Blend Saree with ...</td>\n",
       "      <td>saree</td>\n",
       "      <td>NaN</td>\n",
       "      <td>False</td>\n",
       "      <td>0</td>\n",
       "      <td>saree</td>\n",
       "      <td>...</td>\n",
       "      <td>0</td>\n",
       "      <td>0</td>\n",
       "      <td>0</td>\n",
       "      <td>0</td>\n",
       "      <td>0</td>\n",
       "      <td>0</td>\n",
       "      <td>0</td>\n",
       "      <td>0</td>\n",
       "      <td>0</td>\n",
       "      <td>0</td>\n",
       "    </tr>\n",
       "    <tr>\n",
       "      <th>4</th>\n",
       "      <td>4</td>\n",
       "      <td>https://m.media-amazon.com/images/I/61B8o9Ulqp...</td>\n",
       "      <td>images/train/4.jpeg</td>\n",
       "      <td>VAIVIDHYAM</td>\n",
       "      <td>Designer Sarees Women's Banarasi Cotton Silk S...</td>\n",
       "      <td>saree</td>\n",
       "      <td>NaN</td>\n",
       "      <td>False</td>\n",
       "      <td>0</td>\n",
       "      <td>saree</td>\n",
       "      <td>...</td>\n",
       "      <td>0</td>\n",
       "      <td>0</td>\n",
       "      <td>0</td>\n",
       "      <td>0</td>\n",
       "      <td>0</td>\n",
       "      <td>0</td>\n",
       "      <td>0</td>\n",
       "      <td>0</td>\n",
       "      <td>0</td>\n",
       "      <td>0</td>\n",
       "    </tr>\n",
       "  </tbody>\n",
       "</table>\n",
       "<p>5 rows × 23 columns</p>\n",
       "</div>"
      ],
      "text/plain": [
       "   number                                          image_url  \\\n",
       "0       0  https://m.media-amazon.com/images/I/81XKaSKvly...   \n",
       "1       1  https://m.media-amazon.com/images/I/91dDMDg+QT...   \n",
       "2       2  https://m.media-amazon.com/images/I/71TJ9p46PV...   \n",
       "3       3  https://m.media-amazon.com/images/I/81Y+je7CEg...   \n",
       "4       4  https://m.media-amazon.com/images/I/61B8o9Ulqp...   \n",
       "\n",
       "            image_path        brand  \\\n",
       "0  images/train/0.jpeg    Womanista   \n",
       "1  images/train/1.jpeg      Yashika   \n",
       "2  images/train/2.jpeg    Womanista   \n",
       "3  images/train/3.jpeg  PERFECTBLUE   \n",
       "4  images/train/4.jpeg   VAIVIDHYAM   \n",
       "\n",
       "                                       product_title class_label color  kurta  \\\n",
       "0  Women's Georgette Saree with Blouse Piece (TKI...       saree   NaN  False   \n",
       "1         Women Linen Printed Sarees Free Size (BEE)       saree   NaN  False   \n",
       "2  Organza Floral Print Saree with Blouse Piece(W...       saree   NaN  False   \n",
       "3  Women's Digital Cotton Linen Blend Saree with ...       saree   NaN  False   \n",
       "4  Designer Sarees Women's Banarasi Cotton Silk S...       saree   NaN  False   \n",
       "\n",
       "  dhoti_pants  saree  ... petticoats blouse dupattas gowns lehenga  \\\n",
       "0           0  saree  ...          0      0        0     0       0   \n",
       "1           0  saree  ...          0      0        0     0       0   \n",
       "2           0  saree  ...          0      0        0     0       0   \n",
       "3           0  saree  ...          0      0        0     0       0   \n",
       "4           0  saree  ...          0      0        0     0       0   \n",
       "\n",
       "  women_kurta kurta_men mojaris_men mojaris_women leggings_and_salwars  \n",
       "0           0         0           0             0                    0  \n",
       "1           0         0           0             0                    0  \n",
       "2           0         0           0             0                    0  \n",
       "3           0         0           0             0                    0  \n",
       "4           0         0           0             0                    0  \n",
       "\n",
       "[5 rows x 23 columns]"
      ]
     },
     "execution_count": 60,
     "metadata": {},
     "output_type": "execute_result"
    }
   ],
   "source": [
    "df_revised.head()"
   ]
  },
  {
   "cell_type": "code",
   "execution_count": 61,
   "id": "a8e4a3a0",
   "metadata": {
    "scrolled": true
   },
   "outputs": [
    {
     "data": {
      "text/html": [
       "<div>\n",
       "<style scoped>\n",
       "    .dataframe tbody tr th:only-of-type {\n",
       "        vertical-align: middle;\n",
       "    }\n",
       "\n",
       "    .dataframe tbody tr th {\n",
       "        vertical-align: top;\n",
       "    }\n",
       "\n",
       "    .dataframe thead th {\n",
       "        text-align: right;\n",
       "    }\n",
       "</style>\n",
       "<table border=\"1\" class=\"dataframe\">\n",
       "  <thead>\n",
       "    <tr style=\"text-align: right;\">\n",
       "      <th></th>\n",
       "      <th>number</th>\n",
       "      <th>image_url</th>\n",
       "      <th>image_path</th>\n",
       "      <th>brand</th>\n",
       "      <th>product_title</th>\n",
       "      <th>class_label</th>\n",
       "      <th>color</th>\n",
       "      <th>kurta</th>\n",
       "      <th>dhoti_pants</th>\n",
       "      <th>saree</th>\n",
       "      <th>...</th>\n",
       "      <th>petticoats</th>\n",
       "      <th>blouse</th>\n",
       "      <th>dupattas</th>\n",
       "      <th>gowns</th>\n",
       "      <th>lehenga</th>\n",
       "      <th>women_kurta</th>\n",
       "      <th>kurta_men</th>\n",
       "      <th>mojaris_men</th>\n",
       "      <th>mojaris_women</th>\n",
       "      <th>leggings_and_salwars</th>\n",
       "    </tr>\n",
       "  </thead>\n",
       "  <tbody>\n",
       "    <tr>\n",
       "      <th>91161</th>\n",
       "      <td>91161</td>\n",
       "      <td>https://rukminim1.flixcart.com/image/309/371/k...</td>\n",
       "      <td>images/train/91161.jpeg</td>\n",
       "      <td>AURELIA</td>\n",
       "      <td>Women Printed Pure Cotton Straight Kurta</td>\n",
       "      <td>women_kurta</td>\n",
       "      <td>Blue</td>\n",
       "      <td>0</td>\n",
       "      <td>0</td>\n",
       "      <td>0</td>\n",
       "      <td>...</td>\n",
       "      <td>0</td>\n",
       "      <td>0</td>\n",
       "      <td>0</td>\n",
       "      <td>0</td>\n",
       "      <td>0</td>\n",
       "      <td>women_kurta</td>\n",
       "      <td>kurta_men</td>\n",
       "      <td>0</td>\n",
       "      <td>mojaris_women</td>\n",
       "      <td>0</td>\n",
       "    </tr>\n",
       "    <tr>\n",
       "      <th>91162</th>\n",
       "      <td>91162</td>\n",
       "      <td>https://rukminim1.flixcart.com/image/309/371/k...</td>\n",
       "      <td>images/train/91162.jpeg</td>\n",
       "      <td>Prime clothing</td>\n",
       "      <td>Women Checkered Cotton Blend Straight Kurta</td>\n",
       "      <td>women_kurta</td>\n",
       "      <td>White</td>\n",
       "      <td>0</td>\n",
       "      <td>0</td>\n",
       "      <td>0</td>\n",
       "      <td>...</td>\n",
       "      <td>0</td>\n",
       "      <td>0</td>\n",
       "      <td>0</td>\n",
       "      <td>0</td>\n",
       "      <td>0</td>\n",
       "      <td>women_kurta</td>\n",
       "      <td>kurta_men</td>\n",
       "      <td>0</td>\n",
       "      <td>mojaris_women</td>\n",
       "      <td>0</td>\n",
       "    </tr>\n",
       "    <tr>\n",
       "      <th>91163</th>\n",
       "      <td>91163</td>\n",
       "      <td>https://rukminim1.flixcart.com/image/309/371/k...</td>\n",
       "      <td>images/train/91163.jpeg</td>\n",
       "      <td>Vrisa</td>\n",
       "      <td>Women Embroidered Georgette Straight Kurta</td>\n",
       "      <td>women_kurta</td>\n",
       "      <td>White</td>\n",
       "      <td>0</td>\n",
       "      <td>0</td>\n",
       "      <td>0</td>\n",
       "      <td>...</td>\n",
       "      <td>0</td>\n",
       "      <td>0</td>\n",
       "      <td>0</td>\n",
       "      <td>0</td>\n",
       "      <td>0</td>\n",
       "      <td>women_kurta</td>\n",
       "      <td>kurta_men</td>\n",
       "      <td>0</td>\n",
       "      <td>mojaris_women</td>\n",
       "      <td>0</td>\n",
       "    </tr>\n",
       "    <tr>\n",
       "      <th>91164</th>\n",
       "      <td>91164</td>\n",
       "      <td>https://rukminim1.flixcart.com/image/309/371/k...</td>\n",
       "      <td>images/train/91164.jpeg</td>\n",
       "      <td>HELLEN VELLEN</td>\n",
       "      <td>Women Printed Rayon A-line Kurta</td>\n",
       "      <td>women_kurta</td>\n",
       "      <td>Dark Blue</td>\n",
       "      <td>0</td>\n",
       "      <td>0</td>\n",
       "      <td>0</td>\n",
       "      <td>...</td>\n",
       "      <td>0</td>\n",
       "      <td>0</td>\n",
       "      <td>0</td>\n",
       "      <td>0</td>\n",
       "      <td>0</td>\n",
       "      <td>women_kurta</td>\n",
       "      <td>kurta_men</td>\n",
       "      <td>0</td>\n",
       "      <td>mojaris_women</td>\n",
       "      <td>0</td>\n",
       "    </tr>\n",
       "    <tr>\n",
       "      <th>91165</th>\n",
       "      <td>91165</td>\n",
       "      <td>https://rukminim1.flixcart.com/image/309/371/k...</td>\n",
       "      <td>images/train/91165.jpeg</td>\n",
       "      <td>NEW STYLISH</td>\n",
       "      <td>Women Printed Rayon Crepe Blend Straight Kurta</td>\n",
       "      <td>women_kurta</td>\n",
       "      <td>Dark Green</td>\n",
       "      <td>0</td>\n",
       "      <td>0</td>\n",
       "      <td>0</td>\n",
       "      <td>...</td>\n",
       "      <td>0</td>\n",
       "      <td>0</td>\n",
       "      <td>0</td>\n",
       "      <td>0</td>\n",
       "      <td>0</td>\n",
       "      <td>women_kurta</td>\n",
       "      <td>kurta_men</td>\n",
       "      <td>0</td>\n",
       "      <td>mojaris_women</td>\n",
       "      <td>0</td>\n",
       "    </tr>\n",
       "  </tbody>\n",
       "</table>\n",
       "<p>5 rows × 23 columns</p>\n",
       "</div>"
      ],
      "text/plain": [
       "       number                                          image_url  \\\n",
       "91161   91161  https://rukminim1.flixcart.com/image/309/371/k...   \n",
       "91162   91162  https://rukminim1.flixcart.com/image/309/371/k...   \n",
       "91163   91163  https://rukminim1.flixcart.com/image/309/371/k...   \n",
       "91164   91164  https://rukminim1.flixcart.com/image/309/371/k...   \n",
       "91165   91165  https://rukminim1.flixcart.com/image/309/371/k...   \n",
       "\n",
       "                    image_path           brand  \\\n",
       "91161  images/train/91161.jpeg         AURELIA   \n",
       "91162  images/train/91162.jpeg  Prime clothing   \n",
       "91163  images/train/91163.jpeg           Vrisa   \n",
       "91164  images/train/91164.jpeg   HELLEN VELLEN   \n",
       "91165  images/train/91165.jpeg     NEW STYLISH   \n",
       "\n",
       "                                        product_title  class_label  \\\n",
       "91161        Women Printed Pure Cotton Straight Kurta  women_kurta   \n",
       "91162     Women Checkered Cotton Blend Straight Kurta  women_kurta   \n",
       "91163      Women Embroidered Georgette Straight Kurta  women_kurta   \n",
       "91164                Women Printed Rayon A-line Kurta  women_kurta   \n",
       "91165  Women Printed Rayon Crepe Blend Straight Kurta  women_kurta   \n",
       "\n",
       "            color kurta dhoti_pants saree  ... petticoats blouse dupattas  \\\n",
       "91161        Blue     0           0     0  ...          0      0        0   \n",
       "91162       White     0           0     0  ...          0      0        0   \n",
       "91163       White     0           0     0  ...          0      0        0   \n",
       "91164   Dark Blue     0           0     0  ...          0      0        0   \n",
       "91165  Dark Green     0           0     0  ...          0      0        0   \n",
       "\n",
       "      gowns lehenga  women_kurta  kurta_men mojaris_men  mojaris_women  \\\n",
       "91161     0       0  women_kurta  kurta_men           0  mojaris_women   \n",
       "91162     0       0  women_kurta  kurta_men           0  mojaris_women   \n",
       "91163     0       0  women_kurta  kurta_men           0  mojaris_women   \n",
       "91164     0       0  women_kurta  kurta_men           0  mojaris_women   \n",
       "91165     0       0  women_kurta  kurta_men           0  mojaris_women   \n",
       "\n",
       "      leggings_and_salwars  \n",
       "91161                    0  \n",
       "91162                    0  \n",
       "91163                    0  \n",
       "91164                    0  \n",
       "91165                    0  \n",
       "\n",
       "[5 rows x 23 columns]"
      ]
     },
     "execution_count": 61,
     "metadata": {},
     "output_type": "execute_result"
    }
   ],
   "source": [
    "df_revised.tail()"
   ]
  },
  {
   "cell_type": "code",
   "execution_count": 62,
   "id": "f98e094f",
   "metadata": {},
   "outputs": [
    {
     "data": {
      "text/plain": [
       "\"Poly Silk Beige Printed Women's Saree With Tassels\""
      ]
     },
     "execution_count": 62,
     "metadata": {},
     "output_type": "execute_result"
    }
   ],
   "source": [
    "df_revised.iloc[7498,4]"
   ]
  },
  {
   "cell_type": "code",
   "execution_count": 63,
   "id": "892bdfad",
   "metadata": {},
   "outputs": [
    {
     "data": {
      "text/plain": [
       "'Silk Saree with Blouse Piece'"
      ]
     },
     "execution_count": 63,
     "metadata": {},
     "output_type": "execute_result"
    }
   ],
   "source": [
    "df_revised.iloc[1001,4]"
   ]
  },
  {
   "cell_type": "code",
   "execution_count": 64,
   "id": "f6b960a2",
   "metadata": {
    "scrolled": false
   },
   "outputs": [
    {
     "data": {
      "text/plain": [
       "number                                                               1001\n",
       "image_url               https://m.media-amazon.com/images/I/61-oHTqxp9...\n",
       "image_path                                         images/train/1001.jpeg\n",
       "brand                                                       ANNI DESIGNER\n",
       "product_title                                Silk Saree with Blouse Piece\n",
       "class_label                                                         saree\n",
       "color                                                                 NaN\n",
       "kurta                                                               False\n",
       "dhoti_pants                                                             0\n",
       "saree                                                               saree\n",
       "sherwanis                                                               0\n",
       "palazzos                                                                0\n",
       "nehru_jackets                                                           0\n",
       "petticoats                                                              0\n",
       "blouse                                                                  0\n",
       "dupattas                                                                0\n",
       "gowns                                                                   0\n",
       "lehenga                                                                 0\n",
       "women_kurta                                                             0\n",
       "kurta_men                                                               0\n",
       "mojaris_men                                                             0\n",
       "mojaris_women                                                           0\n",
       "leggings_and_salwars                                                    0\n",
       "Name: 1001, dtype: object"
      ]
     },
     "execution_count": 64,
     "metadata": {},
     "output_type": "execute_result"
    }
   ],
   "source": [
    "df_revised.iloc[1001]"
   ]
  },
  {
   "cell_type": "code",
   "execution_count": 65,
   "id": "efcc7167",
   "metadata": {
    "scrolled": false
   },
   "outputs": [
    {
     "data": {
      "text/plain": [
       "Index(['number', 'image_url', 'image_path', 'brand', 'product_title',\n",
       "       'class_label', 'color', 'kurta', 'dhoti_pants', 'saree', 'sherwanis',\n",
       "       'palazzos', 'nehru_jackets', 'petticoats', 'blouse', 'dupattas',\n",
       "       'gowns', 'lehenga', 'women_kurta', 'kurta_men', 'mojaris_men',\n",
       "       'mojaris_women', 'leggings_and_salwars'],\n",
       "      dtype='object')"
      ]
     },
     "execution_count": 65,
     "metadata": {},
     "output_type": "execute_result"
    }
   ],
   "source": [
    "df_revised.columns"
   ]
  },
  {
   "cell_type": "code",
   "execution_count": 67,
   "id": "fc53fd90",
   "metadata": {},
   "outputs": [],
   "source": [
    "df_gowns = df_revised[df_revised.gowns == 'gowns']"
   ]
  },
  {
   "cell_type": "code",
   "execution_count": 68,
   "id": "5fbe728d",
   "metadata": {},
   "outputs": [
    {
     "data": {
      "text/plain": [
       "'Women Regular Color Rayon Gown'"
      ]
     },
     "execution_count": 68,
     "metadata": {},
     "output_type": "execute_result"
    }
   ],
   "source": [
    "df_gowns.iloc[0,4]"
   ]
  },
  {
   "cell_type": "code",
   "execution_count": 69,
   "id": "f9ccc9a9",
   "metadata": {},
   "outputs": [
    {
     "data": {
      "text/plain": [
       "'HUNNY- BUNCH Premium Soft Uppada Silk Fabric Used for Making Saree, Palazzo, Gown, Tops & Tanks Garment, Crafting and Under Designer Dresses (Width - 42 Inch : Color - White) 5 Meters'"
      ]
     },
     "execution_count": 69,
     "metadata": {},
     "output_type": "execute_result"
    }
   ],
   "source": [
    "df_gowns.iloc[1,4]"
   ]
  },
  {
   "cell_type": "code",
   "execution_count": 70,
   "id": "48371843",
   "metadata": {},
   "outputs": [
    {
     "data": {
      "text/plain": [
       "'Raw Silk Saree (Gowns_Maroon_Free Size)'"
      ]
     },
     "execution_count": 70,
     "metadata": {},
     "output_type": "execute_result"
    }
   ],
   "source": [
    "df_gowns.iloc[2,4]"
   ]
  },
  {
   "cell_type": "code",
   "execution_count": 71,
   "id": "9b3098d4",
   "metadata": {},
   "outputs": [
    {
     "data": {
      "text/plain": [
       "'Rayon Multi Color Gold Printed Ankle Length Gown for Women'"
      ]
     },
     "execution_count": 71,
     "metadata": {},
     "output_type": "execute_result"
    }
   ],
   "source": [
    "df_gowns.iloc[3,4]"
   ]
  },
  {
   "cell_type": "code",
   "execution_count": null,
   "id": "8def9656",
   "metadata": {},
   "outputs": [],
   "source": []
  },
  {
   "cell_type": "code",
   "execution_count": 72,
   "id": "c3e31f6a",
   "metadata": {},
   "outputs": [
    {
     "name": "stderr",
     "output_type": "stream",
     "text": [
      "/var/folders/nv/lggm200n09vgfy5n8_6lcz6c0000gn/T/ipykernel_34641/705713698.py:1: UserWarning: Pandas doesn't allow columns to be created via a new attribute name - see https://pandas.pydata.org/pandas-docs/stable/indexing.html#attribute-access\n",
      "  df.gowns = df_revised.product_title.str.contains('dress', flags=re.IGNORECASE)\n"
     ]
    }
   ],
   "source": [
    "df.gowns = df_revised.product_title.str.contains('dress', flags=re.IGNORECASE)"
   ]
  },
  {
   "cell_type": "code",
   "execution_count": 75,
   "id": "a6a44a1a",
   "metadata": {},
   "outputs": [],
   "source": [
    "df_gowns_dress = df.gowns[df.gowns == True]"
   ]
  },
  {
   "cell_type": "code",
   "execution_count": 76,
   "id": "37e7e20b",
   "metadata": {},
   "outputs": [
    {
     "data": {
      "text/plain": [
       "(1814,)"
      ]
     },
     "execution_count": 76,
     "metadata": {},
     "output_type": "execute_result"
    }
   ],
   "source": [
    "df_gowns_dress.shape"
   ]
  },
  {
   "cell_type": "code",
   "execution_count": 77,
   "id": "30820b12",
   "metadata": {},
   "outputs": [
    {
     "data": {
      "text/plain": [
       "(91166, 23)"
      ]
     },
     "execution_count": 77,
     "metadata": {},
     "output_type": "execute_result"
    }
   ],
   "source": [
    "df_revised.shape"
   ]
  },
  {
   "cell_type": "code",
   "execution_count": null,
   "id": "be1c79a6",
   "metadata": {},
   "outputs": [],
   "source": []
  }
 ],
 "metadata": {
  "kernelspec": {
   "display_name": "Python 3 (ipykernel)",
   "language": "python",
   "name": "python3"
  },
  "language_info": {
   "codemirror_mode": {
    "name": "ipython",
    "version": 3
   },
   "file_extension": ".py",
   "mimetype": "text/x-python",
   "name": "python",
   "nbconvert_exporter": "python",
   "pygments_lexer": "ipython3",
   "version": "3.9.17"
  }
 },
 "nbformat": 4,
 "nbformat_minor": 5
}
