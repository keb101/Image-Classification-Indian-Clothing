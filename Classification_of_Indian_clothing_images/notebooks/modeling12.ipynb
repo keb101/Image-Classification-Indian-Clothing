{
 "cells": [
  {
   "cell_type": "code",
   "execution_count": 1,
   "metadata": {
    "id": "OQSx6DFa_6_l"
   },
   "outputs": [],
   "source": [
    "#! pip install python-resize-image"
   ]
  },
  {
   "cell_type": "code",
   "execution_count": 2,
   "metadata": {
    "id": "MVeg-DZ2M2Yv"
   },
   "outputs": [],
   "source": [
    "#! pip install tensorflow"
   ]
  },
  {
   "cell_type": "code",
   "execution_count": null,
   "metadata": {
    "id": "WTJZx6WNM2Yw"
   },
   "outputs": [],
   "source": []
  },
  {
   "cell_type": "code",
   "execution_count": 3,
   "metadata": {
    "id": "d4ef7ab0"
   },
   "outputs": [],
   "source": [
    "import pandas as pd\n",
    "import numpy as np\n",
    "\n",
    "import keras\n",
    "from keras.models import Sequential\n",
    "from keras.layers import Dense, Conv2D, MaxPooling2D, UpSampling2D, Activation, Flatten, Dropout\n",
    "from keras.preprocessing.image import ImageDataGenerator\n",
    "from tensorflow.keras.utils import image_dataset_from_directory\n",
    "\n",
    "import tensorflow as tf\n",
    "from tensorflow.keras.models import model_from_json\n",
    "import cv2\n",
    "#from skimage import color\n",
    "from PIL import Image\n",
    "#import imageio\n",
    "#from resizeimage import resizeimage\n",
    "import os\n",
    "\n",
    "import pickle\n",
    "\n",
    "from sklearn.metrics import confusion_matrix"
   ]
  },
  {
   "cell_type": "code",
   "execution_count": 4,
   "metadata": {
    "colab": {
     "base_uri": "https://localhost:8080/"
    },
    "id": "8XEnPS4Gj2Sg",
    "outputId": "d827f583-12fb-47cd-a6c7-d491cf395ea7"
   },
   "outputs": [],
   "source": [
    "#drive.mount('/content/drive')"
   ]
  },
  {
   "cell_type": "code",
   "execution_count": 5,
   "metadata": {
    "colab": {
     "base_uri": "https://localhost:8080/",
     "height": 86
    },
    "id": "97eH6PSQRL00",
    "outputId": "fab325b9-b8a0-47e0-e5c5-d8208f4f7280"
   },
   "outputs": [],
   "source": [
    "#files.upload()"
   ]
  },
  {
   "cell_type": "code",
   "execution_count": 6,
   "metadata": {
    "id": "vNSDQvjWys5Y"
   },
   "outputs": [],
   "source": [
    "#! mkdir ~/.kaggle\n",
    "#! cp kaggle.json ~/.kaggle/\n",
    "#! chmod 600 ~/.kaggle/kaggle.json"
   ]
  },
  {
   "cell_type": "code",
   "execution_count": 7,
   "metadata": {
    "colab": {
     "base_uri": "https://localhost:8080/"
    },
    "id": "frUriQ9nByJh",
    "outputId": "f6ccab8d-1261-4681-e52f-b7b89388da3d"
   },
   "outputs": [],
   "source": [
    "#!kaggle datasets download -d validmodel/indo-fashion-dataset"
   ]
  },
  {
   "cell_type": "code",
   "execution_count": 8,
   "metadata": {
    "id": "9ajCuIwEM2Yy"
   },
   "outputs": [],
   "source": [
    "#!unzip -q /content/indo-fashion-dataset.zip\n"
   ]
  },
  {
   "cell_type": "code",
   "execution_count": 9,
   "metadata": {
    "id": "JdDICPMfOV7o"
   },
   "outputs": [],
   "source": [
    "df_train = pd.read_json('/Users/butler/Documents/hp/Retrieval_of_Indian_clothing_images/data/raw/indian_clothing/train_data.json', lines=True)"
   ]
  },
  {
   "cell_type": "code",
   "execution_count": 10,
   "metadata": {
    "colab": {
     "base_uri": "https://localhost:8080/",
     "height": 289
    },
    "id": "d_-NgUdnPTNE",
    "outputId": "26abf6c0-3ea1-4497-c933-610303e17167"
   },
   "outputs": [
    {
     "data": {
      "text/html": [
       "<div>\n",
       "<style scoped>\n",
       "    .dataframe tbody tr th:only-of-type {\n",
       "        vertical-align: middle;\n",
       "    }\n",
       "\n",
       "    .dataframe tbody tr th {\n",
       "        vertical-align: top;\n",
       "    }\n",
       "\n",
       "    .dataframe thead th {\n",
       "        text-align: right;\n",
       "    }\n",
       "</style>\n",
       "<table border=\"1\" class=\"dataframe\">\n",
       "  <thead>\n",
       "    <tr style=\"text-align: right;\">\n",
       "      <th></th>\n",
       "      <th>image_url</th>\n",
       "      <th>image_path</th>\n",
       "      <th>brand</th>\n",
       "      <th>product_title</th>\n",
       "      <th>class_label</th>\n",
       "      <th>color</th>\n",
       "    </tr>\n",
       "  </thead>\n",
       "  <tbody>\n",
       "    <tr>\n",
       "      <th>0</th>\n",
       "      <td>https://m.media-amazon.com/images/I/81XKaSKvly...</td>\n",
       "      <td>images/train/0.jpeg</td>\n",
       "      <td>Womanista</td>\n",
       "      <td>Women's Georgette Saree with Blouse Piece (TKI...</td>\n",
       "      <td>saree</td>\n",
       "      <td>NaN</td>\n",
       "    </tr>\n",
       "    <tr>\n",
       "      <th>1</th>\n",
       "      <td>https://m.media-amazon.com/images/I/91dDMDg+QT...</td>\n",
       "      <td>images/train/1.jpeg</td>\n",
       "      <td>Yashika</td>\n",
       "      <td>Women Linen Printed Sarees Free Size (BEE)</td>\n",
       "      <td>saree</td>\n",
       "      <td>NaN</td>\n",
       "    </tr>\n",
       "    <tr>\n",
       "      <th>2</th>\n",
       "      <td>https://m.media-amazon.com/images/I/71TJ9p46PV...</td>\n",
       "      <td>images/train/2.jpeg</td>\n",
       "      <td>Womanista</td>\n",
       "      <td>Organza Floral Print Saree with Blouse Piece(W...</td>\n",
       "      <td>saree</td>\n",
       "      <td>NaN</td>\n",
       "    </tr>\n",
       "    <tr>\n",
       "      <th>3</th>\n",
       "      <td>https://m.media-amazon.com/images/I/81Y+je7CEg...</td>\n",
       "      <td>images/train/3.jpeg</td>\n",
       "      <td>PERFECTBLUE</td>\n",
       "      <td>Women's Digital Cotton Linen Blend Saree with ...</td>\n",
       "      <td>saree</td>\n",
       "      <td>NaN</td>\n",
       "    </tr>\n",
       "    <tr>\n",
       "      <th>4</th>\n",
       "      <td>https://m.media-amazon.com/images/I/61B8o9Ulqp...</td>\n",
       "      <td>images/train/4.jpeg</td>\n",
       "      <td>VAIVIDHYAM</td>\n",
       "      <td>Designer Sarees Women's Banarasi Cotton Silk S...</td>\n",
       "      <td>saree</td>\n",
       "      <td>NaN</td>\n",
       "    </tr>\n",
       "  </tbody>\n",
       "</table>\n",
       "</div>"
      ],
      "text/plain": [
       "                                           image_url           image_path  \\\n",
       "0  https://m.media-amazon.com/images/I/81XKaSKvly...  images/train/0.jpeg   \n",
       "1  https://m.media-amazon.com/images/I/91dDMDg+QT...  images/train/1.jpeg   \n",
       "2  https://m.media-amazon.com/images/I/71TJ9p46PV...  images/train/2.jpeg   \n",
       "3  https://m.media-amazon.com/images/I/81Y+je7CEg...  images/train/3.jpeg   \n",
       "4  https://m.media-amazon.com/images/I/61B8o9Ulqp...  images/train/4.jpeg   \n",
       "\n",
       "         brand                                      product_title class_label  \\\n",
       "0    Womanista  Women's Georgette Saree with Blouse Piece (TKI...       saree   \n",
       "1      Yashika         Women Linen Printed Sarees Free Size (BEE)       saree   \n",
       "2    Womanista  Organza Floral Print Saree with Blouse Piece(W...       saree   \n",
       "3  PERFECTBLUE  Women's Digital Cotton Linen Blend Saree with ...       saree   \n",
       "4   VAIVIDHYAM  Designer Sarees Women's Banarasi Cotton Silk S...       saree   \n",
       "\n",
       "  color  \n",
       "0   NaN  \n",
       "1   NaN  \n",
       "2   NaN  \n",
       "3   NaN  \n",
       "4   NaN  "
      ]
     },
     "execution_count": 10,
     "metadata": {},
     "output_type": "execute_result"
    }
   ],
   "source": [
    "df_train.head()"
   ]
  },
  {
   "cell_type": "code",
   "execution_count": 11,
   "metadata": {
    "id": "S-Wji9lVPfa4"
   },
   "outputs": [],
   "source": [
    "df_train.drop(['image_url', 'brand', 'product_title', 'color'], axis=1, inplace=True)"
   ]
  },
  {
   "cell_type": "code",
   "execution_count": 12,
   "metadata": {
    "colab": {
     "base_uri": "https://localhost:8080/",
     "height": 204
    },
    "id": "fUQ8yIIDPv23",
    "outputId": "07c8b058-4cef-41ae-ab94-94c4a9fb5c13"
   },
   "outputs": [
    {
     "data": {
      "text/html": [
       "<div>\n",
       "<style scoped>\n",
       "    .dataframe tbody tr th:only-of-type {\n",
       "        vertical-align: middle;\n",
       "    }\n",
       "\n",
       "    .dataframe tbody tr th {\n",
       "        vertical-align: top;\n",
       "    }\n",
       "\n",
       "    .dataframe thead th {\n",
       "        text-align: right;\n",
       "    }\n",
       "</style>\n",
       "<table border=\"1\" class=\"dataframe\">\n",
       "  <thead>\n",
       "    <tr style=\"text-align: right;\">\n",
       "      <th></th>\n",
       "      <th>image_path</th>\n",
       "      <th>class_label</th>\n",
       "    </tr>\n",
       "  </thead>\n",
       "  <tbody>\n",
       "    <tr>\n",
       "      <th>0</th>\n",
       "      <td>images/train/0.jpeg</td>\n",
       "      <td>saree</td>\n",
       "    </tr>\n",
       "    <tr>\n",
       "      <th>1</th>\n",
       "      <td>images/train/1.jpeg</td>\n",
       "      <td>saree</td>\n",
       "    </tr>\n",
       "    <tr>\n",
       "      <th>2</th>\n",
       "      <td>images/train/2.jpeg</td>\n",
       "      <td>saree</td>\n",
       "    </tr>\n",
       "    <tr>\n",
       "      <th>3</th>\n",
       "      <td>images/train/3.jpeg</td>\n",
       "      <td>saree</td>\n",
       "    </tr>\n",
       "    <tr>\n",
       "      <th>4</th>\n",
       "      <td>images/train/4.jpeg</td>\n",
       "      <td>saree</td>\n",
       "    </tr>\n",
       "  </tbody>\n",
       "</table>\n",
       "</div>"
      ],
      "text/plain": [
       "            image_path class_label\n",
       "0  images/train/0.jpeg       saree\n",
       "1  images/train/1.jpeg       saree\n",
       "2  images/train/2.jpeg       saree\n",
       "3  images/train/3.jpeg       saree\n",
       "4  images/train/4.jpeg       saree"
      ]
     },
     "execution_count": 12,
     "metadata": {},
     "output_type": "execute_result"
    }
   ],
   "source": [
    "df_train.head()"
   ]
  },
  {
   "cell_type": "code",
   "execution_count": 13,
   "metadata": {
    "id": "Z0jrYIQjQML2"
   },
   "outputs": [],
   "source": [
    "df_test = pd.read_json('/Users/butler/Documents/hp/Retrieval_of_Indian_clothing_images/data/raw/indian_clothing/test_data.json', lines = True)"
   ]
  },
  {
   "cell_type": "markdown",
   "metadata": {
    "id": "MA7VfCojhaeV"
   },
   "source": []
  },
  {
   "cell_type": "code",
   "execution_count": 14,
   "metadata": {
    "colab": {
     "base_uri": "https://localhost:8080/",
     "height": 289
    },
    "id": "IuR9V3RDQXF9",
    "outputId": "ca6333b3-bbab-4d58-94e1-c6c65622bb2f"
   },
   "outputs": [
    {
     "data": {
      "text/html": [
       "<div>\n",
       "<style scoped>\n",
       "    .dataframe tbody tr th:only-of-type {\n",
       "        vertical-align: middle;\n",
       "    }\n",
       "\n",
       "    .dataframe tbody tr th {\n",
       "        vertical-align: top;\n",
       "    }\n",
       "\n",
       "    .dataframe thead th {\n",
       "        text-align: right;\n",
       "    }\n",
       "</style>\n",
       "<table border=\"1\" class=\"dataframe\">\n",
       "  <thead>\n",
       "    <tr style=\"text-align: right;\">\n",
       "      <th></th>\n",
       "      <th>image_url</th>\n",
       "      <th>image_path</th>\n",
       "      <th>brand</th>\n",
       "      <th>product_title</th>\n",
       "      <th>class_label</th>\n",
       "      <th>color</th>\n",
       "    </tr>\n",
       "  </thead>\n",
       "  <tbody>\n",
       "    <tr>\n",
       "      <th>0</th>\n",
       "      <td>https://m.media-amazon.com/images/I/71NZQ-aaAS...</td>\n",
       "      <td>images/test/0.jpeg</td>\n",
       "      <td>TANTUJA BENGAL HANDLOOM</td>\n",
       "      <td>(A Govt. of West Bengal Enterprises) Handloom ...</td>\n",
       "      <td>saree</td>\n",
       "      <td>NaN</td>\n",
       "    </tr>\n",
       "    <tr>\n",
       "      <th>1</th>\n",
       "      <td>https://m.media-amazon.com/images/I/81aQmbWsG7...</td>\n",
       "      <td>images/test/1.jpeg</td>\n",
       "      <td>Trilok Fab</td>\n",
       "      <td>Women's Silk Saree With Blouse Piece</td>\n",
       "      <td>saree</td>\n",
       "      <td>NaN</td>\n",
       "    </tr>\n",
       "    <tr>\n",
       "      <th>2</th>\n",
       "      <td>https://m.media-amazon.com/images/I/71YjGvzs9y...</td>\n",
       "      <td>images/test/2.jpeg</td>\n",
       "      <td>Nine Sister</td>\n",
       "      <td>Women's Georgette Net Embroidered Saree with B...</td>\n",
       "      <td>saree</td>\n",
       "      <td>NaN</td>\n",
       "    </tr>\n",
       "    <tr>\n",
       "      <th>3</th>\n",
       "      <td>https://m.media-amazon.com/images/I/81JYhYV5Xr...</td>\n",
       "      <td>images/test/3.jpeg</td>\n",
       "      <td>Gauri Laxmi Enterprise</td>\n",
       "      <td>Women's Crepe Saree with Blouse (GLE$CHICKOO C...</td>\n",
       "      <td>saree</td>\n",
       "      <td>NaN</td>\n",
       "    </tr>\n",
       "    <tr>\n",
       "      <th>4</th>\n",
       "      <td>https://m.media-amazon.com/images/I/91fXc5i5Dy...</td>\n",
       "      <td>images/test/4.jpeg</td>\n",
       "      <td>SOURBH</td>\n",
       "      <td>Women's Cotton Blend Digital Butta Printed Sar...</td>\n",
       "      <td>saree</td>\n",
       "      <td>NaN</td>\n",
       "    </tr>\n",
       "  </tbody>\n",
       "</table>\n",
       "</div>"
      ],
      "text/plain": [
       "                                           image_url          image_path  \\\n",
       "0  https://m.media-amazon.com/images/I/71NZQ-aaAS...  images/test/0.jpeg   \n",
       "1  https://m.media-amazon.com/images/I/81aQmbWsG7...  images/test/1.jpeg   \n",
       "2  https://m.media-amazon.com/images/I/71YjGvzs9y...  images/test/2.jpeg   \n",
       "3  https://m.media-amazon.com/images/I/81JYhYV5Xr...  images/test/3.jpeg   \n",
       "4  https://m.media-amazon.com/images/I/91fXc5i5Dy...  images/test/4.jpeg   \n",
       "\n",
       "                     brand                                      product_title  \\\n",
       "0  TANTUJA BENGAL HANDLOOM  (A Govt. of West Bengal Enterprises) Handloom ...   \n",
       "1               Trilok Fab               Women's Silk Saree With Blouse Piece   \n",
       "2              Nine Sister  Women's Georgette Net Embroidered Saree with B...   \n",
       "3   Gauri Laxmi Enterprise  Women's Crepe Saree with Blouse (GLE$CHICKOO C...   \n",
       "4                   SOURBH  Women's Cotton Blend Digital Butta Printed Sar...   \n",
       "\n",
       "  class_label color  \n",
       "0       saree   NaN  \n",
       "1       saree   NaN  \n",
       "2       saree   NaN  \n",
       "3       saree   NaN  \n",
       "4       saree   NaN  "
      ]
     },
     "execution_count": 14,
     "metadata": {},
     "output_type": "execute_result"
    }
   ],
   "source": [
    "df_test.head()"
   ]
  },
  {
   "cell_type": "code",
   "execution_count": 15,
   "metadata": {
    "id": "qYGbb3oAQcDR"
   },
   "outputs": [],
   "source": [
    "df_test.drop(['image_url', 'brand', 'product_title', 'color'], axis=1, inplace=True)"
   ]
  },
  {
   "cell_type": "code",
   "execution_count": 16,
   "metadata": {
    "colab": {
     "base_uri": "https://localhost:8080/",
     "height": 204
    },
    "id": "VEkr5NZucd2R",
    "outputId": "055720dc-2a80-42e6-e386-46e3cb112f58"
   },
   "outputs": [
    {
     "data": {
      "text/html": [
       "<div>\n",
       "<style scoped>\n",
       "    .dataframe tbody tr th:only-of-type {\n",
       "        vertical-align: middle;\n",
       "    }\n",
       "\n",
       "    .dataframe tbody tr th {\n",
       "        vertical-align: top;\n",
       "    }\n",
       "\n",
       "    .dataframe thead th {\n",
       "        text-align: right;\n",
       "    }\n",
       "</style>\n",
       "<table border=\"1\" class=\"dataframe\">\n",
       "  <thead>\n",
       "    <tr style=\"text-align: right;\">\n",
       "      <th></th>\n",
       "      <th>image_path</th>\n",
       "      <th>class_label</th>\n",
       "    </tr>\n",
       "  </thead>\n",
       "  <tbody>\n",
       "    <tr>\n",
       "      <th>7495</th>\n",
       "      <td>images/test/7495.jpeg</td>\n",
       "      <td>women_kurta</td>\n",
       "    </tr>\n",
       "    <tr>\n",
       "      <th>7496</th>\n",
       "      <td>images/test/7496.jpeg</td>\n",
       "      <td>women_kurta</td>\n",
       "    </tr>\n",
       "    <tr>\n",
       "      <th>7497</th>\n",
       "      <td>images/test/7497.jpeg</td>\n",
       "      <td>women_kurta</td>\n",
       "    </tr>\n",
       "    <tr>\n",
       "      <th>7498</th>\n",
       "      <td>images/test/7498.jpeg</td>\n",
       "      <td>women_kurta</td>\n",
       "    </tr>\n",
       "    <tr>\n",
       "      <th>7499</th>\n",
       "      <td>images/test/7499.jpeg</td>\n",
       "      <td>women_kurta</td>\n",
       "    </tr>\n",
       "  </tbody>\n",
       "</table>\n",
       "</div>"
      ],
      "text/plain": [
       "                 image_path  class_label\n",
       "7495  images/test/7495.jpeg  women_kurta\n",
       "7496  images/test/7496.jpeg  women_kurta\n",
       "7497  images/test/7497.jpeg  women_kurta\n",
       "7498  images/test/7498.jpeg  women_kurta\n",
       "7499  images/test/7499.jpeg  women_kurta"
      ]
     },
     "execution_count": 16,
     "metadata": {},
     "output_type": "execute_result"
    }
   ],
   "source": [
    "df_test.tail()"
   ]
  },
  {
   "cell_type": "code",
   "execution_count": 17,
   "metadata": {
    "id": "MAveTGtCQjzr"
   },
   "outputs": [],
   "source": [
    "#df_test.to_csv('/content/drive/My Drive/capstone_3/df_test.csv')"
   ]
  },
  {
   "cell_type": "code",
   "execution_count": 18,
   "metadata": {
    "id": "SLqC-IosQnxV"
   },
   "outputs": [],
   "source": [
    "\n",
    "df_val = pd.read_json('/Users/butler/Documents/hp/Retrieval_of_Indian_clothing_images/data/raw/indian_clothing/val_data.json', lines=True)"
   ]
  },
  {
   "cell_type": "code",
   "execution_count": null,
   "metadata": {
    "id": "G1Eege45M2Yz"
   },
   "outputs": [],
   "source": []
  },
  {
   "cell_type": "code",
   "execution_count": 19,
   "metadata": {
    "colab": {
     "base_uri": "https://localhost:8080/",
     "height": 289
    },
    "id": "g6NfshqCQwoZ",
    "outputId": "b91dd243-3b32-4b99-a859-76f93e6c955d"
   },
   "outputs": [
    {
     "data": {
      "text/html": [
       "<div>\n",
       "<style scoped>\n",
       "    .dataframe tbody tr th:only-of-type {\n",
       "        vertical-align: middle;\n",
       "    }\n",
       "\n",
       "    .dataframe tbody tr th {\n",
       "        vertical-align: top;\n",
       "    }\n",
       "\n",
       "    .dataframe thead th {\n",
       "        text-align: right;\n",
       "    }\n",
       "</style>\n",
       "<table border=\"1\" class=\"dataframe\">\n",
       "  <thead>\n",
       "    <tr style=\"text-align: right;\">\n",
       "      <th></th>\n",
       "      <th>image_url</th>\n",
       "      <th>image_path</th>\n",
       "      <th>brand</th>\n",
       "      <th>product_title</th>\n",
       "      <th>class_label</th>\n",
       "      <th>color</th>\n",
       "    </tr>\n",
       "  </thead>\n",
       "  <tbody>\n",
       "    <tr>\n",
       "      <th>0</th>\n",
       "      <td>https://m.media-amazon.com/images/I/81LOPbFPiQ...</td>\n",
       "      <td>images/val/0.jpeg</td>\n",
       "      <td>Generic</td>\n",
       "      <td>Women's Khadi Cotton Saree With Blouse Piece (...</td>\n",
       "      <td>saree</td>\n",
       "      <td>NaN</td>\n",
       "    </tr>\n",
       "    <tr>\n",
       "      <th>1</th>\n",
       "      <td>https://m.media-amazon.com/images/I/81Q8Oktw4s...</td>\n",
       "      <td>images/val/1.jpeg</td>\n",
       "      <td>Yashvi Designer</td>\n",
       "      <td>Women's Net Saree With Unstitched Blouse Piece</td>\n",
       "      <td>saree</td>\n",
       "      <td>NaN</td>\n",
       "    </tr>\n",
       "    <tr>\n",
       "      <th>2</th>\n",
       "      <td>https://m.media-amazon.com/images/I/613S1YGCmo...</td>\n",
       "      <td>images/val/2.jpeg</td>\n",
       "      <td>Aarrah</td>\n",
       "      <td>Georgette Strip Print Saree[S_SHIKHA30021SR02_...</td>\n",
       "      <td>saree</td>\n",
       "      <td>NaN</td>\n",
       "    </tr>\n",
       "    <tr>\n",
       "      <th>3</th>\n",
       "      <td>https://m.media-amazon.com/images/I/819budhQl1...</td>\n",
       "      <td>images/val/3.jpeg</td>\n",
       "      <td>MIMOSA</td>\n",
       "      <td>Women's Patola Style Art Silk Saree (Green)</td>\n",
       "      <td>saree</td>\n",
       "      <td>NaN</td>\n",
       "    </tr>\n",
       "    <tr>\n",
       "      <th>4</th>\n",
       "      <td>https://m.media-amazon.com/images/I/61cAZ94ZQV...</td>\n",
       "      <td>images/val/4.jpeg</td>\n",
       "      <td>Generic</td>\n",
       "      <td>Women's Pure Hand Block Patola Printed Cotton ...</td>\n",
       "      <td>saree</td>\n",
       "      <td>NaN</td>\n",
       "    </tr>\n",
       "  </tbody>\n",
       "</table>\n",
       "</div>"
      ],
      "text/plain": [
       "                                           image_url         image_path  \\\n",
       "0  https://m.media-amazon.com/images/I/81LOPbFPiQ...  images/val/0.jpeg   \n",
       "1  https://m.media-amazon.com/images/I/81Q8Oktw4s...  images/val/1.jpeg   \n",
       "2  https://m.media-amazon.com/images/I/613S1YGCmo...  images/val/2.jpeg   \n",
       "3  https://m.media-amazon.com/images/I/819budhQl1...  images/val/3.jpeg   \n",
       "4  https://m.media-amazon.com/images/I/61cAZ94ZQV...  images/val/4.jpeg   \n",
       "\n",
       "             brand                                      product_title  \\\n",
       "0          Generic  Women's Khadi Cotton Saree With Blouse Piece (...   \n",
       "1  Yashvi Designer     Women's Net Saree With Unstitched Blouse Piece   \n",
       "2           Aarrah  Georgette Strip Print Saree[S_SHIKHA30021SR02_...   \n",
       "3           MIMOSA        Women's Patola Style Art Silk Saree (Green)   \n",
       "4          Generic  Women's Pure Hand Block Patola Printed Cotton ...   \n",
       "\n",
       "  class_label color  \n",
       "0       saree   NaN  \n",
       "1       saree   NaN  \n",
       "2       saree   NaN  \n",
       "3       saree   NaN  \n",
       "4       saree   NaN  "
      ]
     },
     "execution_count": 19,
     "metadata": {},
     "output_type": "execute_result"
    }
   ],
   "source": [
    "df_val.head()"
   ]
  },
  {
   "cell_type": "code",
   "execution_count": 20,
   "metadata": {
    "id": "4ILWhraUQ2nh"
   },
   "outputs": [],
   "source": [
    "\n",
    "df_val.drop(['image_url', 'brand', 'product_title', 'color'], axis=1, inplace=True)"
   ]
  },
  {
   "cell_type": "code",
   "execution_count": 21,
   "metadata": {
    "colab": {
     "base_uri": "https://localhost:8080/",
     "height": 204
    },
    "id": "M4_iwXYqQ5V7",
    "outputId": "7abc5f7b-2400-4b60-843a-202cc76b9d09"
   },
   "outputs": [
    {
     "data": {
      "text/html": [
       "<div>\n",
       "<style scoped>\n",
       "    .dataframe tbody tr th:only-of-type {\n",
       "        vertical-align: middle;\n",
       "    }\n",
       "\n",
       "    .dataframe tbody tr th {\n",
       "        vertical-align: top;\n",
       "    }\n",
       "\n",
       "    .dataframe thead th {\n",
       "        text-align: right;\n",
       "    }\n",
       "</style>\n",
       "<table border=\"1\" class=\"dataframe\">\n",
       "  <thead>\n",
       "    <tr style=\"text-align: right;\">\n",
       "      <th></th>\n",
       "      <th>image_path</th>\n",
       "      <th>class_label</th>\n",
       "    </tr>\n",
       "  </thead>\n",
       "  <tbody>\n",
       "    <tr>\n",
       "      <th>0</th>\n",
       "      <td>images/val/0.jpeg</td>\n",
       "      <td>saree</td>\n",
       "    </tr>\n",
       "    <tr>\n",
       "      <th>1</th>\n",
       "      <td>images/val/1.jpeg</td>\n",
       "      <td>saree</td>\n",
       "    </tr>\n",
       "    <tr>\n",
       "      <th>2</th>\n",
       "      <td>images/val/2.jpeg</td>\n",
       "      <td>saree</td>\n",
       "    </tr>\n",
       "    <tr>\n",
       "      <th>3</th>\n",
       "      <td>images/val/3.jpeg</td>\n",
       "      <td>saree</td>\n",
       "    </tr>\n",
       "    <tr>\n",
       "      <th>4</th>\n",
       "      <td>images/val/4.jpeg</td>\n",
       "      <td>saree</td>\n",
       "    </tr>\n",
       "  </tbody>\n",
       "</table>\n",
       "</div>"
      ],
      "text/plain": [
       "          image_path class_label\n",
       "0  images/val/0.jpeg       saree\n",
       "1  images/val/1.jpeg       saree\n",
       "2  images/val/2.jpeg       saree\n",
       "3  images/val/3.jpeg       saree\n",
       "4  images/val/4.jpeg       saree"
      ]
     },
     "execution_count": 21,
     "metadata": {},
     "output_type": "execute_result"
    }
   ],
   "source": [
    "df_val.head()"
   ]
  },
  {
   "cell_type": "code",
   "execution_count": 22,
   "metadata": {
    "id": "9hinbKHcM2Y2"
   },
   "outputs": [],
   "source": [
    "df_train = pd.get_dummies(data=df_train, columns=['class_label'])"
   ]
  },
  {
   "cell_type": "code",
   "execution_count": 23,
   "metadata": {
    "colab": {
     "base_uri": "https://localhost:8080/",
     "height": 224
    },
    "id": "KfIFJqZqM2Y3",
    "outputId": "b3f9a3e5-beef-4bed-db18-17f1a5911114"
   },
   "outputs": [
    {
     "data": {
      "text/html": [
       "<div>\n",
       "<style scoped>\n",
       "    .dataframe tbody tr th:only-of-type {\n",
       "        vertical-align: middle;\n",
       "    }\n",
       "\n",
       "    .dataframe tbody tr th {\n",
       "        vertical-align: top;\n",
       "    }\n",
       "\n",
       "    .dataframe thead th {\n",
       "        text-align: right;\n",
       "    }\n",
       "</style>\n",
       "<table border=\"1\" class=\"dataframe\">\n",
       "  <thead>\n",
       "    <tr style=\"text-align: right;\">\n",
       "      <th></th>\n",
       "      <th>image_path</th>\n",
       "      <th>class_label_blouse</th>\n",
       "      <th>class_label_dhoti_pants</th>\n",
       "      <th>class_label_dupattas</th>\n",
       "      <th>class_label_gowns</th>\n",
       "      <th>class_label_kurta_men</th>\n",
       "      <th>class_label_leggings_and_salwars</th>\n",
       "      <th>class_label_lehenga</th>\n",
       "      <th>class_label_mojaris_men</th>\n",
       "      <th>class_label_mojaris_women</th>\n",
       "      <th>class_label_nehru_jackets</th>\n",
       "      <th>class_label_palazzos</th>\n",
       "      <th>class_label_petticoats</th>\n",
       "      <th>class_label_saree</th>\n",
       "      <th>class_label_sherwanis</th>\n",
       "      <th>class_label_women_kurta</th>\n",
       "    </tr>\n",
       "  </thead>\n",
       "  <tbody>\n",
       "    <tr>\n",
       "      <th>0</th>\n",
       "      <td>images/train/0.jpeg</td>\n",
       "      <td>0</td>\n",
       "      <td>0</td>\n",
       "      <td>0</td>\n",
       "      <td>0</td>\n",
       "      <td>0</td>\n",
       "      <td>0</td>\n",
       "      <td>0</td>\n",
       "      <td>0</td>\n",
       "      <td>0</td>\n",
       "      <td>0</td>\n",
       "      <td>0</td>\n",
       "      <td>0</td>\n",
       "      <td>1</td>\n",
       "      <td>0</td>\n",
       "      <td>0</td>\n",
       "    </tr>\n",
       "    <tr>\n",
       "      <th>1</th>\n",
       "      <td>images/train/1.jpeg</td>\n",
       "      <td>0</td>\n",
       "      <td>0</td>\n",
       "      <td>0</td>\n",
       "      <td>0</td>\n",
       "      <td>0</td>\n",
       "      <td>0</td>\n",
       "      <td>0</td>\n",
       "      <td>0</td>\n",
       "      <td>0</td>\n",
       "      <td>0</td>\n",
       "      <td>0</td>\n",
       "      <td>0</td>\n",
       "      <td>1</td>\n",
       "      <td>0</td>\n",
       "      <td>0</td>\n",
       "    </tr>\n",
       "    <tr>\n",
       "      <th>2</th>\n",
       "      <td>images/train/2.jpeg</td>\n",
       "      <td>0</td>\n",
       "      <td>0</td>\n",
       "      <td>0</td>\n",
       "      <td>0</td>\n",
       "      <td>0</td>\n",
       "      <td>0</td>\n",
       "      <td>0</td>\n",
       "      <td>0</td>\n",
       "      <td>0</td>\n",
       "      <td>0</td>\n",
       "      <td>0</td>\n",
       "      <td>0</td>\n",
       "      <td>1</td>\n",
       "      <td>0</td>\n",
       "      <td>0</td>\n",
       "    </tr>\n",
       "    <tr>\n",
       "      <th>3</th>\n",
       "      <td>images/train/3.jpeg</td>\n",
       "      <td>0</td>\n",
       "      <td>0</td>\n",
       "      <td>0</td>\n",
       "      <td>0</td>\n",
       "      <td>0</td>\n",
       "      <td>0</td>\n",
       "      <td>0</td>\n",
       "      <td>0</td>\n",
       "      <td>0</td>\n",
       "      <td>0</td>\n",
       "      <td>0</td>\n",
       "      <td>0</td>\n",
       "      <td>1</td>\n",
       "      <td>0</td>\n",
       "      <td>0</td>\n",
       "    </tr>\n",
       "    <tr>\n",
       "      <th>4</th>\n",
       "      <td>images/train/4.jpeg</td>\n",
       "      <td>0</td>\n",
       "      <td>0</td>\n",
       "      <td>0</td>\n",
       "      <td>0</td>\n",
       "      <td>0</td>\n",
       "      <td>0</td>\n",
       "      <td>0</td>\n",
       "      <td>0</td>\n",
       "      <td>0</td>\n",
       "      <td>0</td>\n",
       "      <td>0</td>\n",
       "      <td>0</td>\n",
       "      <td>1</td>\n",
       "      <td>0</td>\n",
       "      <td>0</td>\n",
       "    </tr>\n",
       "  </tbody>\n",
       "</table>\n",
       "</div>"
      ],
      "text/plain": [
       "            image_path  class_label_blouse  class_label_dhoti_pants  \\\n",
       "0  images/train/0.jpeg                   0                        0   \n",
       "1  images/train/1.jpeg                   0                        0   \n",
       "2  images/train/2.jpeg                   0                        0   \n",
       "3  images/train/3.jpeg                   0                        0   \n",
       "4  images/train/4.jpeg                   0                        0   \n",
       "\n",
       "   class_label_dupattas  class_label_gowns  class_label_kurta_men  \\\n",
       "0                     0                  0                      0   \n",
       "1                     0                  0                      0   \n",
       "2                     0                  0                      0   \n",
       "3                     0                  0                      0   \n",
       "4                     0                  0                      0   \n",
       "\n",
       "   class_label_leggings_and_salwars  class_label_lehenga  \\\n",
       "0                                 0                    0   \n",
       "1                                 0                    0   \n",
       "2                                 0                    0   \n",
       "3                                 0                    0   \n",
       "4                                 0                    0   \n",
       "\n",
       "   class_label_mojaris_men  class_label_mojaris_women  \\\n",
       "0                        0                          0   \n",
       "1                        0                          0   \n",
       "2                        0                          0   \n",
       "3                        0                          0   \n",
       "4                        0                          0   \n",
       "\n",
       "   class_label_nehru_jackets  class_label_palazzos  class_label_petticoats  \\\n",
       "0                          0                     0                       0   \n",
       "1                          0                     0                       0   \n",
       "2                          0                     0                       0   \n",
       "3                          0                     0                       0   \n",
       "4                          0                     0                       0   \n",
       "\n",
       "   class_label_saree  class_label_sherwanis  class_label_women_kurta  \n",
       "0                  1                      0                        0  \n",
       "1                  1                      0                        0  \n",
       "2                  1                      0                        0  \n",
       "3                  1                      0                        0  \n",
       "4                  1                      0                        0  "
      ]
     },
     "execution_count": 23,
     "metadata": {},
     "output_type": "execute_result"
    }
   ],
   "source": [
    "df_train.head()"
   ]
  },
  {
   "cell_type": "code",
   "execution_count": 24,
   "metadata": {
    "id": "EoyvMHUsM2Y4"
   },
   "outputs": [],
   "source": [
    "df_val = pd.get_dummies(data=df_val, columns=['class_label'])"
   ]
  },
  {
   "cell_type": "code",
   "execution_count": 25,
   "metadata": {
    "colab": {
     "base_uri": "https://localhost:8080/",
     "height": 224
    },
    "id": "NmQiZI18M2Y4",
    "outputId": "9dcb9bdf-1cd5-46d5-a7ba-56068033913a"
   },
   "outputs": [
    {
     "data": {
      "text/html": [
       "<div>\n",
       "<style scoped>\n",
       "    .dataframe tbody tr th:only-of-type {\n",
       "        vertical-align: middle;\n",
       "    }\n",
       "\n",
       "    .dataframe tbody tr th {\n",
       "        vertical-align: top;\n",
       "    }\n",
       "\n",
       "    .dataframe thead th {\n",
       "        text-align: right;\n",
       "    }\n",
       "</style>\n",
       "<table border=\"1\" class=\"dataframe\">\n",
       "  <thead>\n",
       "    <tr style=\"text-align: right;\">\n",
       "      <th></th>\n",
       "      <th>image_path</th>\n",
       "      <th>class_label_blouse</th>\n",
       "      <th>class_label_dhoti_pants</th>\n",
       "      <th>class_label_dupattas</th>\n",
       "      <th>class_label_gowns</th>\n",
       "      <th>class_label_kurta_men</th>\n",
       "      <th>class_label_leggings_and_salwars</th>\n",
       "      <th>class_label_lehenga</th>\n",
       "      <th>class_label_mojaris_men</th>\n",
       "      <th>class_label_mojaris_women</th>\n",
       "      <th>class_label_nehru_jackets</th>\n",
       "      <th>class_label_palazzos</th>\n",
       "      <th>class_label_petticoats</th>\n",
       "      <th>class_label_saree</th>\n",
       "      <th>class_label_sherwanis</th>\n",
       "      <th>class_label_women_kurta</th>\n",
       "    </tr>\n",
       "  </thead>\n",
       "  <tbody>\n",
       "    <tr>\n",
       "      <th>0</th>\n",
       "      <td>images/val/0.jpeg</td>\n",
       "      <td>0</td>\n",
       "      <td>0</td>\n",
       "      <td>0</td>\n",
       "      <td>0</td>\n",
       "      <td>0</td>\n",
       "      <td>0</td>\n",
       "      <td>0</td>\n",
       "      <td>0</td>\n",
       "      <td>0</td>\n",
       "      <td>0</td>\n",
       "      <td>0</td>\n",
       "      <td>0</td>\n",
       "      <td>1</td>\n",
       "      <td>0</td>\n",
       "      <td>0</td>\n",
       "    </tr>\n",
       "    <tr>\n",
       "      <th>1</th>\n",
       "      <td>images/val/1.jpeg</td>\n",
       "      <td>0</td>\n",
       "      <td>0</td>\n",
       "      <td>0</td>\n",
       "      <td>0</td>\n",
       "      <td>0</td>\n",
       "      <td>0</td>\n",
       "      <td>0</td>\n",
       "      <td>0</td>\n",
       "      <td>0</td>\n",
       "      <td>0</td>\n",
       "      <td>0</td>\n",
       "      <td>0</td>\n",
       "      <td>1</td>\n",
       "      <td>0</td>\n",
       "      <td>0</td>\n",
       "    </tr>\n",
       "    <tr>\n",
       "      <th>2</th>\n",
       "      <td>images/val/2.jpeg</td>\n",
       "      <td>0</td>\n",
       "      <td>0</td>\n",
       "      <td>0</td>\n",
       "      <td>0</td>\n",
       "      <td>0</td>\n",
       "      <td>0</td>\n",
       "      <td>0</td>\n",
       "      <td>0</td>\n",
       "      <td>0</td>\n",
       "      <td>0</td>\n",
       "      <td>0</td>\n",
       "      <td>0</td>\n",
       "      <td>1</td>\n",
       "      <td>0</td>\n",
       "      <td>0</td>\n",
       "    </tr>\n",
       "    <tr>\n",
       "      <th>3</th>\n",
       "      <td>images/val/3.jpeg</td>\n",
       "      <td>0</td>\n",
       "      <td>0</td>\n",
       "      <td>0</td>\n",
       "      <td>0</td>\n",
       "      <td>0</td>\n",
       "      <td>0</td>\n",
       "      <td>0</td>\n",
       "      <td>0</td>\n",
       "      <td>0</td>\n",
       "      <td>0</td>\n",
       "      <td>0</td>\n",
       "      <td>0</td>\n",
       "      <td>1</td>\n",
       "      <td>0</td>\n",
       "      <td>0</td>\n",
       "    </tr>\n",
       "    <tr>\n",
       "      <th>4</th>\n",
       "      <td>images/val/4.jpeg</td>\n",
       "      <td>0</td>\n",
       "      <td>0</td>\n",
       "      <td>0</td>\n",
       "      <td>0</td>\n",
       "      <td>0</td>\n",
       "      <td>0</td>\n",
       "      <td>0</td>\n",
       "      <td>0</td>\n",
       "      <td>0</td>\n",
       "      <td>0</td>\n",
       "      <td>0</td>\n",
       "      <td>0</td>\n",
       "      <td>1</td>\n",
       "      <td>0</td>\n",
       "      <td>0</td>\n",
       "    </tr>\n",
       "  </tbody>\n",
       "</table>\n",
       "</div>"
      ],
      "text/plain": [
       "          image_path  class_label_blouse  class_label_dhoti_pants  \\\n",
       "0  images/val/0.jpeg                   0                        0   \n",
       "1  images/val/1.jpeg                   0                        0   \n",
       "2  images/val/2.jpeg                   0                        0   \n",
       "3  images/val/3.jpeg                   0                        0   \n",
       "4  images/val/4.jpeg                   0                        0   \n",
       "\n",
       "   class_label_dupattas  class_label_gowns  class_label_kurta_men  \\\n",
       "0                     0                  0                      0   \n",
       "1                     0                  0                      0   \n",
       "2                     0                  0                      0   \n",
       "3                     0                  0                      0   \n",
       "4                     0                  0                      0   \n",
       "\n",
       "   class_label_leggings_and_salwars  class_label_lehenga  \\\n",
       "0                                 0                    0   \n",
       "1                                 0                    0   \n",
       "2                                 0                    0   \n",
       "3                                 0                    0   \n",
       "4                                 0                    0   \n",
       "\n",
       "   class_label_mojaris_men  class_label_mojaris_women  \\\n",
       "0                        0                          0   \n",
       "1                        0                          0   \n",
       "2                        0                          0   \n",
       "3                        0                          0   \n",
       "4                        0                          0   \n",
       "\n",
       "   class_label_nehru_jackets  class_label_palazzos  class_label_petticoats  \\\n",
       "0                          0                     0                       0   \n",
       "1                          0                     0                       0   \n",
       "2                          0                     0                       0   \n",
       "3                          0                     0                       0   \n",
       "4                          0                     0                       0   \n",
       "\n",
       "   class_label_saree  class_label_sherwanis  class_label_women_kurta  \n",
       "0                  1                      0                        0  \n",
       "1                  1                      0                        0  \n",
       "2                  1                      0                        0  \n",
       "3                  1                      0                        0  \n",
       "4                  1                      0                        0  "
      ]
     },
     "execution_count": 25,
     "metadata": {},
     "output_type": "execute_result"
    }
   ],
   "source": [
    "df_val.head()"
   ]
  },
  {
   "cell_type": "code",
   "execution_count": 26,
   "metadata": {
    "id": "Y-H8eEEMM2Y4"
   },
   "outputs": [],
   "source": [
    "df_test = pd.get_dummies(data=df_test, columns=['class_label'])"
   ]
  },
  {
   "cell_type": "code",
   "execution_count": 27,
   "metadata": {
    "colab": {
     "base_uri": "https://localhost:8080/"
    },
    "id": "Ftnb-p_BM2Y4",
    "outputId": "23af559e-4e9e-47e7-997f-7cd517023c3b"
   },
   "outputs": [
    {
     "data": {
      "text/plain": [
       "Index(['image_path', 'class_label_blouse', 'class_label_dhoti_pants',\n",
       "       'class_label_dupattas', 'class_label_gowns', 'class_label_kurta_men',\n",
       "       'class_label_leggings_and_salwars', 'class_label_lehenga',\n",
       "       'class_label_mojaris_men', 'class_label_mojaris_women',\n",
       "       'class_label_nehru_jackets', 'class_label_palazzos',\n",
       "       'class_label_petticoats', 'class_label_saree', 'class_label_sherwanis',\n",
       "       'class_label_women_kurta'],\n",
       "      dtype='object')"
      ]
     },
     "execution_count": 27,
     "metadata": {},
     "output_type": "execute_result"
    }
   ],
   "source": [
    "df_train.columns"
   ]
  },
  {
   "cell_type": "code",
   "execution_count": 40,
   "metadata": {
    "colab": {
     "base_uri": "https://localhost:8080/"
    },
    "id": "FJPDKio3Xxzb",
    "outputId": "4b4a9022-53f3-43d2-c93a-ce087cd10194"
   },
   "outputs": [
    {
     "name": "stdout",
     "output_type": "stream",
     "text": [
      "Found 91166 validated image filenames.\n"
     ]
    }
   ],
   "source": [
    "# Creating generator images sizes 64 x 64\n",
    "columns = ['class_label_blouse', 'class_label_dhoti_pants',\n",
    "       'class_label_dupattas', 'class_label_gowns', 'class_label_kurta_men',\n",
    "       'class_label_leggings_and_salwars', 'class_label_lehenga',\n",
    "       'class_label_mojaris_men', 'class_label_mojaris_women',\n",
    "       'class_label_nehru_jackets', 'class_label_palazzos',\n",
    "       'class_label_petticoats', 'class_label_saree', 'class_label_sherwanis',\n",
    "       'class_label_women_kurta']\n",
    "train_datagen=ImageDataGenerator(rescale=1./255)\n",
    "train_generator = train_datagen.flow_from_dataframe(dataframe=df_train, directory='/Users/butler/Documents/hp/Retrieval_of_Indian_clothing_images/data/raw/indian_clothing/', x_col='image_path', y_col=columns, target_size=(64,64), batch_size=128, seed=26, save_to_dir='/Users/butler/Documents/untitled/', class_mode='raw')"
   ]
  },
  {
   "cell_type": "code",
   "execution_count": 41,
   "metadata": {
    "colab": {
     "base_uri": "https://localhost:8080/"
    },
    "id": "S3bbvLzzM2Y_",
    "outputId": "244e72e6-ad1d-4214-d4f4-0b78733c9a8c"
   },
   "outputs": [
    {
     "name": "stdout",
     "output_type": "stream",
     "text": [
      "Found 7500 validated image filenames.\n"
     ]
    }
   ],
   "source": [
    "columns = ['class_label_blouse', 'class_label_dhoti_pants',\n",
    "       'class_label_dupattas', 'class_label_gowns', 'class_label_kurta_men',\n",
    "       'class_label_leggings_and_salwars', 'class_label_lehenga',\n",
    "       'class_label_mojaris_men', 'class_label_mojaris_women',\n",
    "       'class_label_nehru_jackets', 'class_label_palazzos',\n",
    "       'class_label_petticoats', 'class_label_saree', 'class_label_sherwanis',\n",
    "       'class_label_women_kurta']\n",
    "val_datagen=ImageDataGenerator(rescale=1./255)\n",
    "val_generator = val_datagen.flow_from_dataframe(dataframe=df_val, directory='/Users/butler/Documents/hp/Retrieval_of_Indian_clothing_images/data/raw/indian_clothing/', x_col='image_path', y_col=columns, target_size=(64,64), batch_size=128, seed=26, save_to_dir='/Users/butler/Documents/untitled/', class_mode='raw')"
   ]
  },
  {
   "cell_type": "code",
   "execution_count": 28,
   "metadata": {
    "colab": {
     "base_uri": "https://localhost:8080/"
    },
    "id": "PfNLi5u6_JQl",
    "outputId": "706a8a8d-34ab-4b1d-e789-c20b4eb94fff"
   },
   "outputs": [
    {
     "name": "stdout",
     "output_type": "stream",
     "text": [
      "Found 0 validated image filenames.\n"
     ]
    },
    {
     "name": "stderr",
     "output_type": "stream",
     "text": [
      "/Users/butler/anaconda3/envs/CNN/lib/python3.9/site-packages/keras/preprocessing/image.py:1137: UserWarning: Found 7500 invalid image filename(s) in x_col=\"image_path\". These filename(s) will be ignored.\n",
      "  warnings.warn(\n"
     ]
    }
   ],
   "source": [
    "columns = ['class_label_blouse', 'class_label_dhoti_pants',\n",
    "       'class_label_dupattas', 'class_label_gowns', 'class_label_kurta_men',\n",
    "       'class_label_leggings_and_salwars', 'class_label_lehenga',\n",
    "       'class_label_mojaris_men', 'class_label_mojaris_women',\n",
    "       'class_label_nehru_jackets', 'class_label_palazzos',\n",
    "       'class_label_petticoats', 'class_label_saree', 'class_label_sherwanis',\n",
    "       'class_label_women_kurta']\n",
    "test_datagen=ImageDataGenerator(rescale=1./255)\n",
    "test_generator = test_datagen.flow_from_dataframe(dataframe=df_test, directory='/content/', x_col='image_path', y_col=columns, target_size=(64,64), batch_size=128, seed=26, save_to_dir='/Users/butler/Documents/untitled2/', class_mode='raw')"
   ]
  },
  {
   "cell_type": "code",
   "execution_count": 42,
   "metadata": {
    "id": "RihJCuyqv42c"
   },
   "outputs": [],
   "source": [
    "# Setting up model\n",
    "img_width, img_height = 64, 64\n",
    "\n",
    "train_data = train_generator\n",
    "val_data = val_generator\n",
    "nb_train_samples = 91166\n",
    "nb_validation_samples = 7500\n",
    "epochs = 500\n",
    "batch_size = 64\n",
    "n_classes = 15\n",
    "\n",
    "input_shape = (img_width, img_height, 3)"
   ]
  },
  {
   "cell_type": "code",
   "execution_count": 43,
   "metadata": {
    "id": "9ozjPIuVjNTe"
   },
   "outputs": [],
   "source": [
    "\n",
    "model = Sequential()\n",
    "\n",
    "model.add(Conv2D(32, (3,3), activation='relu', input_shape=input_shape))\n",
    "model.add(Conv2D(32, (3,3), activation='relu'))\n",
    "\n",
    "model.add(MaxPooling2D(pool_size=(2, 2)))\n",
    "\n",
    "model.add(Conv2D(64, (3,3), activation='relu'))\n",
    "model.add(Conv2D(64, (3,3), activation='relu'))\n",
    "model.add(Conv2D(64, (3,3), activation='relu'))\n",
    "\n",
    "model.add(MaxPooling2D(pool_size=(2, 2)))\n",
    "\n",
    "model.add(Flatten())\n",
    "\n",
    "model.add(Dense(32, activation='relu'))\n",
    "model.add(Dropout(0.35))\n",
    "model.add(Dense(n_classes, activation='softmax'))\n",
    "\n",
    "model.compile(loss='categorical_crossentropy', optimizer='adam', metrics=['accuracy'])"
   ]
  },
  {
   "cell_type": "code",
   "execution_count": 44,
   "metadata": {
    "id": "s1mpS9zSvvfS"
   },
   "outputs": [],
   "source": [
    "callbacks = [\n",
    "    keras.callbacks.ModelCheckpoint(\n",
    "        filepath='/Users/butler/Documents/hp/Retrieval_of_Indian_clothing_images/models',\n",
    "        save_best_only=True,\n",
    "        monitor='val_accuracy'\n",
    "    )\n",
    "]"
   ]
  },
  {
   "cell_type": "code",
   "execution_count": 45,
   "metadata": {
    "colab": {
     "base_uri": "https://localhost:8080/",
     "height": 694
    },
    "id": "geG5JuZaAf8w",
    "outputId": "c2479676-c492-436a-cba3-0579426ae591"
   },
   "outputs": [
    {
     "name": "stdout",
     "output_type": "stream",
     "text": [
      "Epoch 1/500\n",
      "163/713 [=====>........................] - ETA: 2:23:31 - loss: 2.0737 - accuracy: 0.3408"
     ]
    },
    {
     "name": "stderr",
     "output_type": "stream",
     "text": [
      "2023-09-01 18:25:28.560121: W tensorflow/core/framework/op_kernel.cc:1816] UNKNOWN: OSError: [Errno 28] No space left on device\n",
      "Traceback (most recent call last):\n",
      "\n",
      "  File \"/Users/butler/anaconda3/envs/CNN/lib/python3.9/site-packages/PIL/ImageFile.py\", line 518, in _save\n",
      "    fh = fp.fileno()\n",
      "\n",
      "AttributeError: '_idat' object has no attribute 'fileno'\n",
      "\n",
      "\n",
      "During handling of the above exception, another exception occurred:\n",
      "\n",
      "\n",
      "Traceback (most recent call last):\n",
      "\n",
      "  File \"/Users/butler/anaconda3/envs/CNN/lib/python3.9/site-packages/PIL/Image.py\", line 2431, in save\n",
      "    save_handler(self, fp, filename)\n",
      "\n",
      "  File \"/Users/butler/anaconda3/envs/CNN/lib/python3.9/site-packages/PIL/PngImagePlugin.py\", line 1420, in _save\n",
      "    ImageFile._save(im, _idat(fp, chunk), [(\"zip\", (0, 0) + im.size, 0, rawmode)])\n",
      "\n",
      "  File \"/Users/butler/anaconda3/envs/CNN/lib/python3.9/site-packages/PIL/ImageFile.py\", line 522, in _save\n",
      "    _encode_tile(im, fp, tile, bufsize, None, exc)\n",
      "\n",
      "  File \"/Users/butler/anaconda3/envs/CNN/lib/python3.9/site-packages/PIL/ImageFile.py\", line 542, in _encode_tile\n",
      "    fp.write(d)\n",
      "\n",
      "  File \"/Users/butler/anaconda3/envs/CNN/lib/python3.9/site-packages/PIL/PngImagePlugin.py\", line 1097, in write\n",
      "    self.chunk(self.fp, b\"IDAT\", data)\n",
      "\n",
      "  File \"/Users/butler/anaconda3/envs/CNN/lib/python3.9/site-packages/PIL/PngImagePlugin.py\", line 1084, in putchunk\n",
      "    fp.write(data)\n",
      "\n",
      "OSError: [Errno 28] No space left on device\n",
      "\n",
      "\n",
      "During handling of the above exception, another exception occurred:\n",
      "\n",
      "\n",
      "Traceback (most recent call last):\n",
      "\n",
      "  File \"/Users/butler/anaconda3/envs/CNN/lib/python3.9/site-packages/tensorflow/python/ops/script_ops.py\", line 268, in __call__\n",
      "    ret = func(*args)\n",
      "\n",
      "  File \"/Users/butler/anaconda3/envs/CNN/lib/python3.9/site-packages/tensorflow/python/autograph/impl/api.py\", line 643, in wrapper\n",
      "    return func(*args, **kwargs)\n",
      "\n",
      "  File \"/Users/butler/anaconda3/envs/CNN/lib/python3.9/site-packages/tensorflow/python/data/ops/from_generator_op.py\", line 198, in generator_py_func\n",
      "    values = next(generator_state.get_iterator(iterator_id))\n",
      "\n",
      "  File \"/Users/butler/anaconda3/envs/CNN/lib/python3.9/site-packages/keras/src/engine/data_adapter.py\", line 917, in wrapped_generator\n",
      "    for data in generator_fn():\n",
      "\n",
      "  File \"/Users/butler/anaconda3/envs/CNN/lib/python3.9/site-packages/keras/src/engine/data_adapter.py\", line 1064, in generator_fn\n",
      "    yield x[i]\n",
      "\n",
      "  File \"/Users/butler/anaconda3/envs/CNN/lib/python3.9/site-packages/keras/src/preprocessing/image.py\", line 116, in __getitem__\n",
      "    return self._get_batches_of_transformed_samples(index_array)\n",
      "\n",
      "  File \"/Users/butler/anaconda3/envs/CNN/lib/python3.9/site-packages/keras/src/preprocessing/image.py\", line 399, in _get_batches_of_transformed_samples\n",
      "    img.save(os.path.join(self.save_to_dir, fname))\n",
      "\n",
      "  File \"/Users/butler/anaconda3/envs/CNN/lib/python3.9/site-packages/PIL/Image.py\", line 2434, in save\n",
      "    fp.close()\n",
      "\n",
      "OSError: [Errno 28] No space left on device\n",
      "\n",
      "\n"
     ]
    },
    {
     "ename": "UnknownError",
     "evalue": "Graph execution error:\n\nOSError: [Errno 28] No space left on device\nTraceback (most recent call last):\n\n  File \"/Users/butler/anaconda3/envs/CNN/lib/python3.9/site-packages/PIL/ImageFile.py\", line 518, in _save\n    fh = fp.fileno()\n\nAttributeError: '_idat' object has no attribute 'fileno'\n\n\nDuring handling of the above exception, another exception occurred:\n\n\nTraceback (most recent call last):\n\n  File \"/Users/butler/anaconda3/envs/CNN/lib/python3.9/site-packages/PIL/Image.py\", line 2431, in save\n    save_handler(self, fp, filename)\n\n  File \"/Users/butler/anaconda3/envs/CNN/lib/python3.9/site-packages/PIL/PngImagePlugin.py\", line 1420, in _save\n    ImageFile._save(im, _idat(fp, chunk), [(\"zip\", (0, 0) + im.size, 0, rawmode)])\n\n  File \"/Users/butler/anaconda3/envs/CNN/lib/python3.9/site-packages/PIL/ImageFile.py\", line 522, in _save\n    _encode_tile(im, fp, tile, bufsize, None, exc)\n\n  File \"/Users/butler/anaconda3/envs/CNN/lib/python3.9/site-packages/PIL/ImageFile.py\", line 542, in _encode_tile\n    fp.write(d)\n\n  File \"/Users/butler/anaconda3/envs/CNN/lib/python3.9/site-packages/PIL/PngImagePlugin.py\", line 1097, in write\n    self.chunk(self.fp, b\"IDAT\", data)\n\n  File \"/Users/butler/anaconda3/envs/CNN/lib/python3.9/site-packages/PIL/PngImagePlugin.py\", line 1084, in putchunk\n    fp.write(data)\n\nOSError: [Errno 28] No space left on device\n\n\nDuring handling of the above exception, another exception occurred:\n\n\nTraceback (most recent call last):\n\n  File \"/Users/butler/anaconda3/envs/CNN/lib/python3.9/site-packages/tensorflow/python/ops/script_ops.py\", line 268, in __call__\n    ret = func(*args)\n\n  File \"/Users/butler/anaconda3/envs/CNN/lib/python3.9/site-packages/tensorflow/python/autograph/impl/api.py\", line 643, in wrapper\n    return func(*args, **kwargs)\n\n  File \"/Users/butler/anaconda3/envs/CNN/lib/python3.9/site-packages/tensorflow/python/data/ops/from_generator_op.py\", line 198, in generator_py_func\n    values = next(generator_state.get_iterator(iterator_id))\n\n  File \"/Users/butler/anaconda3/envs/CNN/lib/python3.9/site-packages/keras/src/engine/data_adapter.py\", line 917, in wrapped_generator\n    for data in generator_fn():\n\n  File \"/Users/butler/anaconda3/envs/CNN/lib/python3.9/site-packages/keras/src/engine/data_adapter.py\", line 1064, in generator_fn\n    yield x[i]\n\n  File \"/Users/butler/anaconda3/envs/CNN/lib/python3.9/site-packages/keras/src/preprocessing/image.py\", line 116, in __getitem__\n    return self._get_batches_of_transformed_samples(index_array)\n\n  File \"/Users/butler/anaconda3/envs/CNN/lib/python3.9/site-packages/keras/src/preprocessing/image.py\", line 399, in _get_batches_of_transformed_samples\n    img.save(os.path.join(self.save_to_dir, fname))\n\n  File \"/Users/butler/anaconda3/envs/CNN/lib/python3.9/site-packages/PIL/Image.py\", line 2434, in save\n    fp.close()\n\nOSError: [Errno 28] No space left on device\n\n\n\t [[{{node PyFunc}}]]\n\t [[IteratorGetNext]] [Op:__inference_train_function_3588]",
     "output_type": "error",
     "traceback": [
      "\u001b[0;31m---------------------------------------------------------------------------\u001b[0m",
      "\u001b[0;31mUnknownError\u001b[0m                              Traceback (most recent call last)",
      "Cell \u001b[0;32mIn[45], line 1\u001b[0m\n\u001b[0;32m----> 1\u001b[0m history \u001b[38;5;241m=\u001b[39m \u001b[43mmodel\u001b[49m\u001b[38;5;241;43m.\u001b[39;49m\u001b[43mfit\u001b[49m\u001b[43m(\u001b[49m\n\u001b[1;32m      2\u001b[0m \u001b[43m    \u001b[49m\u001b[43mx\u001b[49m\u001b[38;5;241;43m=\u001b[39;49m\u001b[43mtrain_data\u001b[49m\u001b[43m,\u001b[49m\n\u001b[1;32m      3\u001b[0m \u001b[43m    \u001b[49m\u001b[43my\u001b[49m\u001b[38;5;241;43m=\u001b[39;49m\u001b[38;5;28;43;01mNone\u001b[39;49;00m\u001b[43m,\u001b[49m\n\u001b[1;32m      4\u001b[0m \u001b[43m    \u001b[49m\u001b[43mvalidation_data\u001b[49m\u001b[38;5;241;43m=\u001b[39;49m\u001b[43m \u001b[49m\u001b[43mval_data\u001b[49m\u001b[43m,\u001b[49m\n\u001b[1;32m      5\u001b[0m \u001b[43m    \u001b[49m\u001b[43mepochs\u001b[49m\u001b[38;5;241;43m=\u001b[39;49m\u001b[43mepochs\u001b[49m\u001b[43m,\u001b[49m\n\u001b[1;32m      6\u001b[0m \u001b[43m    \u001b[49m\u001b[43mverbose\u001b[49m\u001b[38;5;241;43m=\u001b[39;49m\u001b[38;5;124;43m\"\u001b[39;49m\u001b[38;5;124;43mauto\u001b[39;49m\u001b[38;5;124;43m\"\u001b[39;49m\u001b[43m,\u001b[49m\n\u001b[1;32m      7\u001b[0m \u001b[43m    \u001b[49m\u001b[43mcallbacks\u001b[49m\u001b[38;5;241;43m=\u001b[39;49m\u001b[43mcallbacks\u001b[49m\u001b[43m,\u001b[49m\n\u001b[1;32m      8\u001b[0m \u001b[43m    \u001b[49m\u001b[43mvalidation_split\u001b[49m\u001b[38;5;241;43m=\u001b[39;49m\u001b[38;5;241;43m0.0\u001b[39;49m\u001b[43m,\u001b[49m\n\u001b[1;32m      9\u001b[0m \u001b[43m    \u001b[49m\u001b[43mshuffle\u001b[49m\u001b[38;5;241;43m=\u001b[39;49m\u001b[38;5;28;43;01mTrue\u001b[39;49;00m\u001b[43m,\u001b[49m\n\u001b[1;32m     10\u001b[0m \u001b[43m    \u001b[49m\u001b[43mvalidation_freq\u001b[49m\u001b[38;5;241;43m=\u001b[39;49m\u001b[38;5;241;43m10\u001b[39;49m\u001b[43m,\u001b[49m\n\u001b[1;32m     11\u001b[0m \u001b[43m    \u001b[49m\u001b[43m)\u001b[49m\n",
      "File \u001b[0;32m~/anaconda3/envs/CNN/lib/python3.9/site-packages/keras/src/utils/traceback_utils.py:70\u001b[0m, in \u001b[0;36mfilter_traceback.<locals>.error_handler\u001b[0;34m(*args, **kwargs)\u001b[0m\n\u001b[1;32m     67\u001b[0m     filtered_tb \u001b[38;5;241m=\u001b[39m _process_traceback_frames(e\u001b[38;5;241m.\u001b[39m__traceback__)\n\u001b[1;32m     68\u001b[0m     \u001b[38;5;66;03m# To get the full stack trace, call:\u001b[39;00m\n\u001b[1;32m     69\u001b[0m     \u001b[38;5;66;03m# `tf.debugging.disable_traceback_filtering()`\u001b[39;00m\n\u001b[0;32m---> 70\u001b[0m     \u001b[38;5;28;01mraise\u001b[39;00m e\u001b[38;5;241m.\u001b[39mwith_traceback(filtered_tb) \u001b[38;5;28;01mfrom\u001b[39;00m \u001b[38;5;28;01mNone\u001b[39;00m\n\u001b[1;32m     71\u001b[0m \u001b[38;5;28;01mfinally\u001b[39;00m:\n\u001b[1;32m     72\u001b[0m     \u001b[38;5;28;01mdel\u001b[39;00m filtered_tb\n",
      "File \u001b[0;32m~/anaconda3/envs/CNN/lib/python3.9/site-packages/tensorflow/python/eager/execute.py:53\u001b[0m, in \u001b[0;36mquick_execute\u001b[0;34m(op_name, num_outputs, inputs, attrs, ctx, name)\u001b[0m\n\u001b[1;32m     51\u001b[0m \u001b[38;5;28;01mtry\u001b[39;00m:\n\u001b[1;32m     52\u001b[0m   ctx\u001b[38;5;241m.\u001b[39mensure_initialized()\n\u001b[0;32m---> 53\u001b[0m   tensors \u001b[38;5;241m=\u001b[39m pywrap_tfe\u001b[38;5;241m.\u001b[39mTFE_Py_Execute(ctx\u001b[38;5;241m.\u001b[39m_handle, device_name, op_name,\n\u001b[1;32m     54\u001b[0m                                       inputs, attrs, num_outputs)\n\u001b[1;32m     55\u001b[0m \u001b[38;5;28;01mexcept\u001b[39;00m core\u001b[38;5;241m.\u001b[39m_NotOkStatusException \u001b[38;5;28;01mas\u001b[39;00m e:\n\u001b[1;32m     56\u001b[0m   \u001b[38;5;28;01mif\u001b[39;00m name \u001b[38;5;129;01mis\u001b[39;00m \u001b[38;5;129;01mnot\u001b[39;00m \u001b[38;5;28;01mNone\u001b[39;00m:\n",
      "\u001b[0;31mUnknownError\u001b[0m: Graph execution error:\n\nOSError: [Errno 28] No space left on device\nTraceback (most recent call last):\n\n  File \"/Users/butler/anaconda3/envs/CNN/lib/python3.9/site-packages/PIL/ImageFile.py\", line 518, in _save\n    fh = fp.fileno()\n\nAttributeError: '_idat' object has no attribute 'fileno'\n\n\nDuring handling of the above exception, another exception occurred:\n\n\nTraceback (most recent call last):\n\n  File \"/Users/butler/anaconda3/envs/CNN/lib/python3.9/site-packages/PIL/Image.py\", line 2431, in save\n    save_handler(self, fp, filename)\n\n  File \"/Users/butler/anaconda3/envs/CNN/lib/python3.9/site-packages/PIL/PngImagePlugin.py\", line 1420, in _save\n    ImageFile._save(im, _idat(fp, chunk), [(\"zip\", (0, 0) + im.size, 0, rawmode)])\n\n  File \"/Users/butler/anaconda3/envs/CNN/lib/python3.9/site-packages/PIL/ImageFile.py\", line 522, in _save\n    _encode_tile(im, fp, tile, bufsize, None, exc)\n\n  File \"/Users/butler/anaconda3/envs/CNN/lib/python3.9/site-packages/PIL/ImageFile.py\", line 542, in _encode_tile\n    fp.write(d)\n\n  File \"/Users/butler/anaconda3/envs/CNN/lib/python3.9/site-packages/PIL/PngImagePlugin.py\", line 1097, in write\n    self.chunk(self.fp, b\"IDAT\", data)\n\n  File \"/Users/butler/anaconda3/envs/CNN/lib/python3.9/site-packages/PIL/PngImagePlugin.py\", line 1084, in putchunk\n    fp.write(data)\n\nOSError: [Errno 28] No space left on device\n\n\nDuring handling of the above exception, another exception occurred:\n\n\nTraceback (most recent call last):\n\n  File \"/Users/butler/anaconda3/envs/CNN/lib/python3.9/site-packages/tensorflow/python/ops/script_ops.py\", line 268, in __call__\n    ret = func(*args)\n\n  File \"/Users/butler/anaconda3/envs/CNN/lib/python3.9/site-packages/tensorflow/python/autograph/impl/api.py\", line 643, in wrapper\n    return func(*args, **kwargs)\n\n  File \"/Users/butler/anaconda3/envs/CNN/lib/python3.9/site-packages/tensorflow/python/data/ops/from_generator_op.py\", line 198, in generator_py_func\n    values = next(generator_state.get_iterator(iterator_id))\n\n  File \"/Users/butler/anaconda3/envs/CNN/lib/python3.9/site-packages/keras/src/engine/data_adapter.py\", line 917, in wrapped_generator\n    for data in generator_fn():\n\n  File \"/Users/butler/anaconda3/envs/CNN/lib/python3.9/site-packages/keras/src/engine/data_adapter.py\", line 1064, in generator_fn\n    yield x[i]\n\n  File \"/Users/butler/anaconda3/envs/CNN/lib/python3.9/site-packages/keras/src/preprocessing/image.py\", line 116, in __getitem__\n    return self._get_batches_of_transformed_samples(index_array)\n\n  File \"/Users/butler/anaconda3/envs/CNN/lib/python3.9/site-packages/keras/src/preprocessing/image.py\", line 399, in _get_batches_of_transformed_samples\n    img.save(os.path.join(self.save_to_dir, fname))\n\n  File \"/Users/butler/anaconda3/envs/CNN/lib/python3.9/site-packages/PIL/Image.py\", line 2434, in save\n    fp.close()\n\nOSError: [Errno 28] No space left on device\n\n\n\t [[{{node PyFunc}}]]\n\t [[IteratorGetNext]] [Op:__inference_train_function_3588]"
     ]
    }
   ],
   "source": [
    "history = model.fit(\n",
    "    x=train_data,\n",
    "    y=None,\n",
    "    validation_data= val_data,\n",
    "    epochs=epochs,\n",
    "    verbose=\"auto\",\n",
    "    callbacks=callbacks,\n",
    "    validation_split=0.0,\n",
    "    shuffle=True,\n",
    "    validation_freq=10,\n",
    "    )"
   ]
  },
  {
   "cell_type": "code",
   "execution_count": 46,
   "metadata": {
    "id": "C-NnKToZAf0M"
   },
   "outputs": [
    {
     "name": "stderr",
     "output_type": "stream",
     "text": [
      "2023-08-31 18:31:25.501599: I tensorflow/core/common_runtime/executor.cc:1197] [/device:CPU:0] (DEBUG INFO) Executor start aborting (this does not indicate an error and you can ignore this message): INVALID_ARGUMENT: You must feed a value for placeholder tensor 'Placeholder/_0' with dtype int32\n",
      "\t [[{{node Placeholder/_0}}]]\n"
     ]
    },
    {
     "ename": "KeyboardInterrupt",
     "evalue": "",
     "output_type": "error",
     "traceback": [
      "\u001b[0;31m---------------------------------------------------------------------------\u001b[0m",
      "\u001b[0;31mKeyboardInterrupt\u001b[0m                         Traceback (most recent call last)",
      "Cell \u001b[0;32mIn[46], line 1\u001b[0m\n\u001b[0;32m----> 1\u001b[0m scores \u001b[38;5;241m=\u001b[39m \u001b[43mmodel\u001b[49m\u001b[38;5;241;43m.\u001b[39;49m\u001b[43mevaluate\u001b[49m\u001b[43m(\u001b[49m\u001b[43mx\u001b[49m\u001b[38;5;241;43m=\u001b[39;49m\u001b[43mval_generator\u001b[49m\u001b[43m,\u001b[49m\u001b[43m \u001b[49m\u001b[43my\u001b[49m\u001b[38;5;241;43m=\u001b[39;49m\u001b[38;5;28;43;01mNone\u001b[39;49;00m\u001b[43m,\u001b[49m\u001b[43m \u001b[49m\u001b[43mverbose\u001b[49m\u001b[38;5;241;43m=\u001b[39;49m\u001b[38;5;241;43m0\u001b[39;49m\u001b[43m)\u001b[49m\n\u001b[1;32m      2\u001b[0m \u001b[38;5;28mprint\u001b[39m(\u001b[38;5;124m\"\u001b[39m\u001b[38;5;132;01m%s\u001b[39;00m\u001b[38;5;124m: \u001b[39m\u001b[38;5;132;01m%.2f\u001b[39;00m\u001b[38;5;132;01m%%\u001b[39;00m\u001b[38;5;124m\"\u001b[39m \u001b[38;5;241m%\u001b[39m (model\u001b[38;5;241m.\u001b[39mmetrics_names[\u001b[38;5;241m1\u001b[39m], scores[\u001b[38;5;241m1\u001b[39m]\u001b[38;5;241m*\u001b[39m\u001b[38;5;241m100\u001b[39m))\n",
      "File \u001b[0;32m~/anaconda3/envs/CNN/lib/python3.9/site-packages/keras/utils/traceback_utils.py:65\u001b[0m, in \u001b[0;36mfilter_traceback.<locals>.error_handler\u001b[0;34m(*args, **kwargs)\u001b[0m\n\u001b[1;32m     63\u001b[0m filtered_tb \u001b[38;5;241m=\u001b[39m \u001b[38;5;28;01mNone\u001b[39;00m\n\u001b[1;32m     64\u001b[0m \u001b[38;5;28;01mtry\u001b[39;00m:\n\u001b[0;32m---> 65\u001b[0m     \u001b[38;5;28;01mreturn\u001b[39;00m \u001b[43mfn\u001b[49m\u001b[43m(\u001b[49m\u001b[38;5;241;43m*\u001b[39;49m\u001b[43margs\u001b[49m\u001b[43m,\u001b[49m\u001b[43m \u001b[49m\u001b[38;5;241;43m*\u001b[39;49m\u001b[38;5;241;43m*\u001b[39;49m\u001b[43mkwargs\u001b[49m\u001b[43m)\u001b[49m\n\u001b[1;32m     66\u001b[0m \u001b[38;5;28;01mexcept\u001b[39;00m \u001b[38;5;167;01mException\u001b[39;00m \u001b[38;5;28;01mas\u001b[39;00m e:\n\u001b[1;32m     67\u001b[0m     filtered_tb \u001b[38;5;241m=\u001b[39m _process_traceback_frames(e\u001b[38;5;241m.\u001b[39m__traceback__)\n",
      "File \u001b[0;32m~/anaconda3/envs/CNN/lib/python3.9/site-packages/keras/engine/training.py:2072\u001b[0m, in \u001b[0;36mModel.evaluate\u001b[0;34m(self, x, y, batch_size, verbose, sample_weight, steps, callbacks, max_queue_size, workers, use_multiprocessing, return_dict, **kwargs)\u001b[0m\n\u001b[1;32m   2068\u001b[0m \u001b[38;5;28;01mwith\u001b[39;00m tf\u001b[38;5;241m.\u001b[39mprofiler\u001b[38;5;241m.\u001b[39mexperimental\u001b[38;5;241m.\u001b[39mTrace(\n\u001b[1;32m   2069\u001b[0m     \u001b[38;5;124m\"\u001b[39m\u001b[38;5;124mtest\u001b[39m\u001b[38;5;124m\"\u001b[39m, step_num\u001b[38;5;241m=\u001b[39mstep, _r\u001b[38;5;241m=\u001b[39m\u001b[38;5;241m1\u001b[39m\n\u001b[1;32m   2070\u001b[0m ):\n\u001b[1;32m   2071\u001b[0m     callbacks\u001b[38;5;241m.\u001b[39mon_test_batch_begin(step)\n\u001b[0;32m-> 2072\u001b[0m     tmp_logs \u001b[38;5;241m=\u001b[39m \u001b[38;5;28;43mself\u001b[39;49m\u001b[38;5;241;43m.\u001b[39;49m\u001b[43mtest_function\u001b[49m\u001b[43m(\u001b[49m\u001b[43miterator\u001b[49m\u001b[43m)\u001b[49m\n\u001b[1;32m   2073\u001b[0m     \u001b[38;5;28;01mif\u001b[39;00m data_handler\u001b[38;5;241m.\u001b[39mshould_sync:\n\u001b[1;32m   2074\u001b[0m         context\u001b[38;5;241m.\u001b[39masync_wait()\n",
      "File \u001b[0;32m~/anaconda3/envs/CNN/lib/python3.9/site-packages/tensorflow/python/util/traceback_utils.py:150\u001b[0m, in \u001b[0;36mfilter_traceback.<locals>.error_handler\u001b[0;34m(*args, **kwargs)\u001b[0m\n\u001b[1;32m    148\u001b[0m filtered_tb \u001b[38;5;241m=\u001b[39m \u001b[38;5;28;01mNone\u001b[39;00m\n\u001b[1;32m    149\u001b[0m \u001b[38;5;28;01mtry\u001b[39;00m:\n\u001b[0;32m--> 150\u001b[0m   \u001b[38;5;28;01mreturn\u001b[39;00m \u001b[43mfn\u001b[49m\u001b[43m(\u001b[49m\u001b[38;5;241;43m*\u001b[39;49m\u001b[43margs\u001b[49m\u001b[43m,\u001b[49m\u001b[43m \u001b[49m\u001b[38;5;241;43m*\u001b[39;49m\u001b[38;5;241;43m*\u001b[39;49m\u001b[43mkwargs\u001b[49m\u001b[43m)\u001b[49m\n\u001b[1;32m    151\u001b[0m \u001b[38;5;28;01mexcept\u001b[39;00m \u001b[38;5;167;01mException\u001b[39;00m \u001b[38;5;28;01mas\u001b[39;00m e:\n\u001b[1;32m    152\u001b[0m   filtered_tb \u001b[38;5;241m=\u001b[39m _process_traceback_frames(e\u001b[38;5;241m.\u001b[39m__traceback__)\n",
      "File \u001b[0;32m~/anaconda3/envs/CNN/lib/python3.9/site-packages/tensorflow/python/eager/polymorphic_function/polymorphic_function.py:894\u001b[0m, in \u001b[0;36mFunction.__call__\u001b[0;34m(self, *args, **kwds)\u001b[0m\n\u001b[1;32m    891\u001b[0m compiler \u001b[38;5;241m=\u001b[39m \u001b[38;5;124m\"\u001b[39m\u001b[38;5;124mxla\u001b[39m\u001b[38;5;124m\"\u001b[39m \u001b[38;5;28;01mif\u001b[39;00m \u001b[38;5;28mself\u001b[39m\u001b[38;5;241m.\u001b[39m_jit_compile \u001b[38;5;28;01melse\u001b[39;00m \u001b[38;5;124m\"\u001b[39m\u001b[38;5;124mnonXla\u001b[39m\u001b[38;5;124m\"\u001b[39m\n\u001b[1;32m    893\u001b[0m \u001b[38;5;28;01mwith\u001b[39;00m OptionalXlaContext(\u001b[38;5;28mself\u001b[39m\u001b[38;5;241m.\u001b[39m_jit_compile):\n\u001b[0;32m--> 894\u001b[0m   result \u001b[38;5;241m=\u001b[39m \u001b[38;5;28;43mself\u001b[39;49m\u001b[38;5;241;43m.\u001b[39;49m\u001b[43m_call\u001b[49m\u001b[43m(\u001b[49m\u001b[38;5;241;43m*\u001b[39;49m\u001b[43margs\u001b[49m\u001b[43m,\u001b[49m\u001b[43m \u001b[49m\u001b[38;5;241;43m*\u001b[39;49m\u001b[38;5;241;43m*\u001b[39;49m\u001b[43mkwds\u001b[49m\u001b[43m)\u001b[49m\n\u001b[1;32m    896\u001b[0m new_tracing_count \u001b[38;5;241m=\u001b[39m \u001b[38;5;28mself\u001b[39m\u001b[38;5;241m.\u001b[39mexperimental_get_tracing_count()\n\u001b[1;32m    897\u001b[0m without_tracing \u001b[38;5;241m=\u001b[39m (tracing_count \u001b[38;5;241m==\u001b[39m new_tracing_count)\n",
      "File \u001b[0;32m~/anaconda3/envs/CNN/lib/python3.9/site-packages/tensorflow/python/eager/polymorphic_function/polymorphic_function.py:933\u001b[0m, in \u001b[0;36mFunction._call\u001b[0;34m(self, *args, **kwds)\u001b[0m\n\u001b[1;32m    930\u001b[0m \u001b[38;5;28mself\u001b[39m\u001b[38;5;241m.\u001b[39m_lock\u001b[38;5;241m.\u001b[39mrelease()\n\u001b[1;32m    931\u001b[0m \u001b[38;5;66;03m# In this case we have not created variables on the first call. So we can\u001b[39;00m\n\u001b[1;32m    932\u001b[0m \u001b[38;5;66;03m# run the first trace but we should fail if variables are created.\u001b[39;00m\n\u001b[0;32m--> 933\u001b[0m results \u001b[38;5;241m=\u001b[39m \u001b[38;5;28;43mself\u001b[39;49m\u001b[38;5;241;43m.\u001b[39;49m\u001b[43m_variable_creation_fn\u001b[49m\u001b[43m(\u001b[49m\u001b[38;5;241;43m*\u001b[39;49m\u001b[43margs\u001b[49m\u001b[43m,\u001b[49m\u001b[43m \u001b[49m\u001b[38;5;241;43m*\u001b[39;49m\u001b[38;5;241;43m*\u001b[39;49m\u001b[43mkwds\u001b[49m\u001b[43m)\u001b[49m\n\u001b[1;32m    934\u001b[0m \u001b[38;5;28;01mif\u001b[39;00m \u001b[38;5;28mself\u001b[39m\u001b[38;5;241m.\u001b[39m_created_variables \u001b[38;5;129;01mand\u001b[39;00m \u001b[38;5;129;01mnot\u001b[39;00m ALLOW_DYNAMIC_VARIABLE_CREATION:\n\u001b[1;32m    935\u001b[0m   \u001b[38;5;28;01mraise\u001b[39;00m \u001b[38;5;167;01mValueError\u001b[39;00m(\u001b[38;5;124m\"\u001b[39m\u001b[38;5;124mCreating variables on a non-first call to a function\u001b[39m\u001b[38;5;124m\"\u001b[39m\n\u001b[1;32m    936\u001b[0m                    \u001b[38;5;124m\"\u001b[39m\u001b[38;5;124m decorated with tf.function.\u001b[39m\u001b[38;5;124m\"\u001b[39m)\n",
      "File \u001b[0;32m~/anaconda3/envs/CNN/lib/python3.9/site-packages/tensorflow/python/eager/polymorphic_function/tracing_compiler.py:143\u001b[0m, in \u001b[0;36mTracingCompiler.__call__\u001b[0;34m(self, *args, **kwargs)\u001b[0m\n\u001b[1;32m    140\u001b[0m \u001b[38;5;28;01mwith\u001b[39;00m \u001b[38;5;28mself\u001b[39m\u001b[38;5;241m.\u001b[39m_lock:\n\u001b[1;32m    141\u001b[0m   (concrete_function,\n\u001b[1;32m    142\u001b[0m    filtered_flat_args) \u001b[38;5;241m=\u001b[39m \u001b[38;5;28mself\u001b[39m\u001b[38;5;241m.\u001b[39m_maybe_define_function(args, kwargs)\n\u001b[0;32m--> 143\u001b[0m \u001b[38;5;28;01mreturn\u001b[39;00m \u001b[43mconcrete_function\u001b[49m\u001b[38;5;241;43m.\u001b[39;49m\u001b[43m_call_flat\u001b[49m\u001b[43m(\u001b[49m\n\u001b[1;32m    144\u001b[0m \u001b[43m    \u001b[49m\u001b[43mfiltered_flat_args\u001b[49m\u001b[43m,\u001b[49m\u001b[43m \u001b[49m\u001b[43mcaptured_inputs\u001b[49m\u001b[38;5;241;43m=\u001b[39;49m\u001b[43mconcrete_function\u001b[49m\u001b[38;5;241;43m.\u001b[39;49m\u001b[43mcaptured_inputs\u001b[49m\u001b[43m)\u001b[49m\n",
      "File \u001b[0;32m~/anaconda3/envs/CNN/lib/python3.9/site-packages/tensorflow/python/eager/polymorphic_function/monomorphic_function.py:1757\u001b[0m, in \u001b[0;36mConcreteFunction._call_flat\u001b[0;34m(self, args, captured_inputs, cancellation_manager)\u001b[0m\n\u001b[1;32m   1753\u001b[0m possible_gradient_type \u001b[38;5;241m=\u001b[39m gradients_util\u001b[38;5;241m.\u001b[39mPossibleTapeGradientTypes(args)\n\u001b[1;32m   1754\u001b[0m \u001b[38;5;28;01mif\u001b[39;00m (possible_gradient_type \u001b[38;5;241m==\u001b[39m gradients_util\u001b[38;5;241m.\u001b[39mPOSSIBLE_GRADIENT_TYPES_NONE\n\u001b[1;32m   1755\u001b[0m     \u001b[38;5;129;01mand\u001b[39;00m executing_eagerly):\n\u001b[1;32m   1756\u001b[0m   \u001b[38;5;66;03m# No tape is watching; skip to running the function.\u001b[39;00m\n\u001b[0;32m-> 1757\u001b[0m   \u001b[38;5;28;01mreturn\u001b[39;00m \u001b[38;5;28mself\u001b[39m\u001b[38;5;241m.\u001b[39m_build_call_outputs(\u001b[38;5;28;43mself\u001b[39;49m\u001b[38;5;241;43m.\u001b[39;49m\u001b[43m_inference_function\u001b[49m\u001b[38;5;241;43m.\u001b[39;49m\u001b[43mcall\u001b[49m\u001b[43m(\u001b[49m\n\u001b[1;32m   1758\u001b[0m \u001b[43m      \u001b[49m\u001b[43mctx\u001b[49m\u001b[43m,\u001b[49m\u001b[43m \u001b[49m\u001b[43margs\u001b[49m\u001b[43m,\u001b[49m\u001b[43m \u001b[49m\u001b[43mcancellation_manager\u001b[49m\u001b[38;5;241;43m=\u001b[39;49m\u001b[43mcancellation_manager\u001b[49m\u001b[43m)\u001b[49m)\n\u001b[1;32m   1759\u001b[0m forward_backward \u001b[38;5;241m=\u001b[39m \u001b[38;5;28mself\u001b[39m\u001b[38;5;241m.\u001b[39m_select_forward_and_backward_functions(\n\u001b[1;32m   1760\u001b[0m     args,\n\u001b[1;32m   1761\u001b[0m     possible_gradient_type,\n\u001b[1;32m   1762\u001b[0m     executing_eagerly)\n\u001b[1;32m   1763\u001b[0m forward_function, args_with_tangents \u001b[38;5;241m=\u001b[39m forward_backward\u001b[38;5;241m.\u001b[39mforward()\n",
      "File \u001b[0;32m~/anaconda3/envs/CNN/lib/python3.9/site-packages/tensorflow/python/eager/polymorphic_function/monomorphic_function.py:381\u001b[0m, in \u001b[0;36m_EagerDefinedFunction.call\u001b[0;34m(self, ctx, args, cancellation_manager)\u001b[0m\n\u001b[1;32m    379\u001b[0m \u001b[38;5;28;01mwith\u001b[39;00m _InterpolateFunctionError(\u001b[38;5;28mself\u001b[39m):\n\u001b[1;32m    380\u001b[0m   \u001b[38;5;28;01mif\u001b[39;00m cancellation_manager \u001b[38;5;129;01mis\u001b[39;00m \u001b[38;5;28;01mNone\u001b[39;00m:\n\u001b[0;32m--> 381\u001b[0m     outputs \u001b[38;5;241m=\u001b[39m \u001b[43mexecute\u001b[49m\u001b[38;5;241;43m.\u001b[39;49m\u001b[43mexecute\u001b[49m\u001b[43m(\u001b[49m\n\u001b[1;32m    382\u001b[0m \u001b[43m        \u001b[49m\u001b[38;5;28;43mstr\u001b[39;49m\u001b[43m(\u001b[49m\u001b[38;5;28;43mself\u001b[39;49m\u001b[38;5;241;43m.\u001b[39;49m\u001b[43msignature\u001b[49m\u001b[38;5;241;43m.\u001b[39;49m\u001b[43mname\u001b[49m\u001b[43m)\u001b[49m\u001b[43m,\u001b[49m\n\u001b[1;32m    383\u001b[0m \u001b[43m        \u001b[49m\u001b[43mnum_outputs\u001b[49m\u001b[38;5;241;43m=\u001b[39;49m\u001b[38;5;28;43mself\u001b[39;49m\u001b[38;5;241;43m.\u001b[39;49m\u001b[43m_num_outputs\u001b[49m\u001b[43m,\u001b[49m\n\u001b[1;32m    384\u001b[0m \u001b[43m        \u001b[49m\u001b[43minputs\u001b[49m\u001b[38;5;241;43m=\u001b[39;49m\u001b[43margs\u001b[49m\u001b[43m,\u001b[49m\n\u001b[1;32m    385\u001b[0m \u001b[43m        \u001b[49m\u001b[43mattrs\u001b[49m\u001b[38;5;241;43m=\u001b[39;49m\u001b[43mattrs\u001b[49m\u001b[43m,\u001b[49m\n\u001b[1;32m    386\u001b[0m \u001b[43m        \u001b[49m\u001b[43mctx\u001b[49m\u001b[38;5;241;43m=\u001b[39;49m\u001b[43mctx\u001b[49m\u001b[43m)\u001b[49m\n\u001b[1;32m    387\u001b[0m   \u001b[38;5;28;01melse\u001b[39;00m:\n\u001b[1;32m    388\u001b[0m     outputs \u001b[38;5;241m=\u001b[39m execute\u001b[38;5;241m.\u001b[39mexecute_with_cancellation(\n\u001b[1;32m    389\u001b[0m         \u001b[38;5;28mstr\u001b[39m(\u001b[38;5;28mself\u001b[39m\u001b[38;5;241m.\u001b[39msignature\u001b[38;5;241m.\u001b[39mname),\n\u001b[1;32m    390\u001b[0m         num_outputs\u001b[38;5;241m=\u001b[39m\u001b[38;5;28mself\u001b[39m\u001b[38;5;241m.\u001b[39m_num_outputs,\n\u001b[0;32m   (...)\u001b[0m\n\u001b[1;32m    393\u001b[0m         ctx\u001b[38;5;241m=\u001b[39mctx,\n\u001b[1;32m    394\u001b[0m         cancellation_manager\u001b[38;5;241m=\u001b[39mcancellation_manager)\n",
      "File \u001b[0;32m~/anaconda3/envs/CNN/lib/python3.9/site-packages/tensorflow/python/eager/execute.py:52\u001b[0m, in \u001b[0;36mquick_execute\u001b[0;34m(op_name, num_outputs, inputs, attrs, ctx, name)\u001b[0m\n\u001b[1;32m     50\u001b[0m \u001b[38;5;28;01mtry\u001b[39;00m:\n\u001b[1;32m     51\u001b[0m   ctx\u001b[38;5;241m.\u001b[39mensure_initialized()\n\u001b[0;32m---> 52\u001b[0m   tensors \u001b[38;5;241m=\u001b[39m \u001b[43mpywrap_tfe\u001b[49m\u001b[38;5;241;43m.\u001b[39;49m\u001b[43mTFE_Py_Execute\u001b[49m\u001b[43m(\u001b[49m\u001b[43mctx\u001b[49m\u001b[38;5;241;43m.\u001b[39;49m\u001b[43m_handle\u001b[49m\u001b[43m,\u001b[49m\u001b[43m \u001b[49m\u001b[43mdevice_name\u001b[49m\u001b[43m,\u001b[49m\u001b[43m \u001b[49m\u001b[43mop_name\u001b[49m\u001b[43m,\u001b[49m\n\u001b[1;32m     53\u001b[0m \u001b[43m                                      \u001b[49m\u001b[43minputs\u001b[49m\u001b[43m,\u001b[49m\u001b[43m \u001b[49m\u001b[43mattrs\u001b[49m\u001b[43m,\u001b[49m\u001b[43m \u001b[49m\u001b[43mnum_outputs\u001b[49m\u001b[43m)\u001b[49m\n\u001b[1;32m     54\u001b[0m \u001b[38;5;28;01mexcept\u001b[39;00m core\u001b[38;5;241m.\u001b[39m_NotOkStatusException \u001b[38;5;28;01mas\u001b[39;00m e:\n\u001b[1;32m     55\u001b[0m   \u001b[38;5;28;01mif\u001b[39;00m name \u001b[38;5;129;01mis\u001b[39;00m \u001b[38;5;129;01mnot\u001b[39;00m \u001b[38;5;28;01mNone\u001b[39;00m:\n",
      "\u001b[0;31mKeyboardInterrupt\u001b[0m: "
     ]
    }
   ],
   "source": [
    "scores = model.evaluate(x=val_generator, y=None, verbose=0)\n",
    "print(\"%s: %.2f%%\" % (model.metrics_names[1], scores[1]*100))"
   ]
  },
  {
   "cell_type": "code",
   "execution_count": 47,
   "metadata": {
    "id": "O-vbY8oiWn_J"
   },
   "outputs": [],
   "source": [
    "model.save('/Users/butler/Documents/hp/Retrieval_of_Indian_clothing_images/models/model_12.keras')"
   ]
  },
  {
   "cell_type": "code",
   "execution_count": 45,
   "metadata": {
    "id": "g_wAbXvhXA3W"
   },
   "outputs": [
    {
     "name": "stderr",
     "output_type": "stream",
     "text": [
      "2023-08-31 18:31:00.579246: I tensorflow/core/common_runtime/executor.cc:1197] [/device:CPU:0] (DEBUG INFO) Executor start aborting (this does not indicate an error and you can ignore this message): INVALID_ARGUMENT: You must feed a value for placeholder tensor 'inputs' with dtype float and shape [?,32]\n",
      "\t [[{{node inputs}}]]\n",
      "2023-08-31 18:31:00.675646: I tensorflow/core/common_runtime/executor.cc:1197] [/device:CPU:0] (DEBUG INFO) Executor start aborting (this does not indicate an error and you can ignore this message): INVALID_ARGUMENT: You must feed a value for placeholder tensor 'inputs' with dtype float and shape [?,32]\n",
      "\t [[{{node inputs}}]]\n",
      "WARNING:absl:Found untraced functions such as _jit_compiled_convolution_op, _jit_compiled_convolution_op, _jit_compiled_convolution_op, _jit_compiled_convolution_op, _jit_compiled_convolution_op while saving (showing 5 of 5). These functions will not be directly callable after loading.\n"
     ]
    },
    {
     "name": "stdout",
     "output_type": "stream",
     "text": [
      "INFO:tensorflow:Assets written to: /Users/butler/Documents/hp/Retrieval_of_Indian_clothing_images/models/model_11a/assets\n"
     ]
    },
    {
     "name": "stderr",
     "output_type": "stream",
     "text": [
      "INFO:tensorflow:Assets written to: /Users/butler/Documents/hp/Retrieval_of_Indian_clothing_images/models/model_11a/assets\n"
     ]
    }
   ],
   "source": [
    "tf.keras.saving.save_model(\n",
    "    model, '/Users/butler/Documents/hp/Retrieval_of_Indian_clothing_images/models/model_12a', overwrite=True, save_format=None)"
   ]
  },
  {
   "cell_type": "code",
   "execution_count": 41,
   "metadata": {
    "id": "NCkyoUFdoNJq"
   },
   "outputs": [],
   "source": [
    "#!pip install h5py\n",
    "# serialize model to JSON\n",
    "loaded_model_json = loaded_model.to_json()\n",
    "with open('/Users/butler/Documents/hp/Retrieval_of_Indian_clothing_images/models/model20230831.json', 'w') as json_file:\n",
    "    json_file.write(loaded_model_json)\n",
    "# serialize weights to HDF5\n",
    "loaded_model.save_weights('/Users/butler/Documents/hp/Retrieval_of_Indian_clothing_images/models/model20230831.h5')"
   ]
  },
  {
   "cell_type": "code",
   "execution_count": 4,
   "metadata": {
    "id": "yu9DTUtFhpbh"
   },
   "outputs": [],
   "source": []
  },
  {
   "cell_type": "code",
   "execution_count": 30,
   "metadata": {},
   "outputs": [],
   "source": [
    "json_file = open('/Users/butler/Documents/hp/Retrieval_of_Indian_clothing_images/models/model20230831.json', 'r')\n",
    "loaded_model2_json = json_file.read()\n",
    "json_file.close()\n",
    "loaded_model2 = model_from_json(loaded_model2_json)"
   ]
  },
  {
   "cell_type": "code",
   "execution_count": 31,
   "metadata": {},
   "outputs": [
    {
     "name": "stdout",
     "output_type": "stream",
     "text": [
      "Loaded model from disk\n"
     ]
    }
   ],
   "source": [
    "loaded_model2.load_weights('/Users/butler/Documents/hp/Retrieval_of_Indian_clothing_images/models/model20230831.h5')\n",
    "print(\"Loaded model from disk\")"
   ]
  }
 ],
 "metadata": {
  "accelerator": "GPU",
  "colab": {
   "gpuType": "T4",
   "machine_shape": "hm",
   "provenance": []
  },
  "kernelspec": {
   "display_name": "Python 3 (ipykernel)",
   "language": "python",
   "name": "python3"
  },
  "language_info": {
   "codemirror_mode": {
    "name": "ipython",
    "version": 3
   },
   "file_extension": ".py",
   "mimetype": "text/x-python",
   "name": "python",
   "nbconvert_exporter": "python",
   "pygments_lexer": "ipython3",
   "version": "3.9.17"
  }
 },
 "nbformat": 4,
 "nbformat_minor": 1
}
